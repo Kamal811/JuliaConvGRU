{
 "cells": [
  {
   "cell_type": "code",
   "execution_count": 1,
   "metadata": {},
   "outputs": [
    {
     "name": "stderr",
     "output_type": "stream",
     "text": [
      "\u001b[32m\u001b[1m   Updating\u001b[22m\u001b[39m registry at `~/.julia/registries/General`\n",
      "######################################################################### 100.0%\n",
      "\u001b[32m\u001b[1m  Installed\u001b[22m\u001b[39m FastGaussQuadrature ─ v0.4.6\n",
      "\u001b[32m\u001b[1mNo Changes\u001b[22m\u001b[39m to `~/.julia/environments/v1.5/Project.toml`\n",
      "\u001b[32m\u001b[1mUpdating\u001b[22m\u001b[39m `~/.julia/environments/v1.5/Manifest.toml`\n",
      " \u001b[90m [442a2c76] \u001b[39m\u001b[93m↑ FastGaussQuadrature v0.4.5 ⇒ v0.4.6\u001b[39m\n"
     ]
    }
   ],
   "source": [
    "using Pkg\n",
    "Pkg.update()"
   ]
  },
  {
   "cell_type": "code",
   "execution_count": 2,
   "metadata": {},
   "outputs": [
    {
     "name": "stderr",
     "output_type": "stream",
     "text": [
      "\u001b[32m\u001b[1m  Resolving\u001b[22m\u001b[39m package versions...\n",
      "\u001b[32m\u001b[1mNo Changes\u001b[22m\u001b[39m to `~/.julia/environments/v1.5/Project.toml`\n",
      "\u001b[32m\u001b[1mNo Changes\u001b[22m\u001b[39m to `~/.julia/environments/v1.5/Manifest.toml`\n",
      "\u001b[32m\u001b[1m  Resolving\u001b[22m\u001b[39m package versions...\n",
      "\u001b[32m\u001b[1mNo Changes\u001b[22m\u001b[39m to `~/.julia/environments/v1.5/Project.toml`\n",
      "\u001b[32m\u001b[1mNo Changes\u001b[22m\u001b[39m to `~/.julia/environments/v1.5/Manifest.toml`\n",
      "\u001b[32m\u001b[1m  Resolving\u001b[22m\u001b[39m package versions...\n",
      "\u001b[32m\u001b[1mNo Changes\u001b[22m\u001b[39m to `~/.julia/environments/v1.5/Project.toml`\n",
      "\u001b[32m\u001b[1mNo Changes\u001b[22m\u001b[39m to `~/.julia/environments/v1.5/Manifest.toml`\n",
      "\u001b[32m\u001b[1m  Resolving\u001b[22m\u001b[39m package versions...\n",
      "\u001b[32m\u001b[1mNo Changes\u001b[22m\u001b[39m to `~/.julia/environments/v1.5/Project.toml`\n",
      "\u001b[32m\u001b[1mNo Changes\u001b[22m\u001b[39m to `~/.julia/environments/v1.5/Manifest.toml`\n",
      "\u001b[32m\u001b[1m  Resolving\u001b[22m\u001b[39m package versions...\n",
      "\u001b[32m\u001b[1mNo Changes\u001b[22m\u001b[39m to `~/.julia/environments/v1.5/Project.toml`\n",
      "\u001b[32m\u001b[1mNo Changes\u001b[22m\u001b[39m to `~/.julia/environments/v1.5/Manifest.toml`\n",
      "\u001b[32m\u001b[1m  Resolving\u001b[22m\u001b[39m package versions...\n",
      "\u001b[32m\u001b[1mNo Changes\u001b[22m\u001b[39m to `~/.julia/environments/v1.5/Project.toml`\n",
      "\u001b[32m\u001b[1mNo Changes\u001b[22m\u001b[39m to `~/.julia/environments/v1.5/Manifest.toml`\n",
      "\u001b[32m\u001b[1m  Resolving\u001b[22m\u001b[39m package versions...\n",
      "\u001b[32m\u001b[1mNo Changes\u001b[22m\u001b[39m to `~/.julia/environments/v1.5/Project.toml`\n",
      "\u001b[32m\u001b[1mNo Changes\u001b[22m\u001b[39m to `~/.julia/environments/v1.5/Manifest.toml`\n",
      "\u001b[32m\u001b[1m  Resolving\u001b[22m\u001b[39m package versions...\n",
      "\u001b[32m\u001b[1mNo Changes\u001b[22m\u001b[39m to `~/.julia/environments/v1.5/Project.toml`\n",
      "\u001b[32m\u001b[1mNo Changes\u001b[22m\u001b[39m to `~/.julia/environments/v1.5/Manifest.toml`\n",
      "\u001b[32m\u001b[1m  Resolving\u001b[22m\u001b[39m package versions...\n",
      "\u001b[32m\u001b[1mNo Changes\u001b[22m\u001b[39m to `~/.julia/environments/v1.5/Project.toml`\n",
      "\u001b[32m\u001b[1mNo Changes\u001b[22m\u001b[39m to `~/.julia/environments/v1.5/Manifest.toml`\n",
      "\u001b[32m\u001b[1m  Resolving\u001b[22m\u001b[39m package versions...\n",
      "\u001b[32m\u001b[1mNo Changes\u001b[22m\u001b[39m to `~/.julia/environments/v1.5/Project.toml`\n",
      "\u001b[32m\u001b[1mNo Changes\u001b[22m\u001b[39m to `~/.julia/environments/v1.5/Manifest.toml`\n"
     ]
    }
   ],
   "source": [
    "pkgList = [\"DataFramesMeta\",\"PackageCompiler\",\"CSV\",\"Flux\",\"HTTP\",\"JSON\",\"DataFrames\",\"Plots\",\"TimeSeries\",\"MultivariateStats\"]\n",
    "for pkg in pkgList\n",
    "    Pkg.add(pkg)\n",
    "    \n",
    "end"
   ]
  },
  {
   "cell_type": "code",
   "execution_count": 3,
   "metadata": {},
   "outputs": [],
   "source": [
    "push!(LOAD_PATH, \"ConvGRU/\");"
   ]
  },
  {
   "cell_type": "code",
   "execution_count": 4,
   "metadata": {},
   "outputs": [
    {
     "name": "stderr",
     "output_type": "stream",
     "text": [
      "┌ Info: Precompiling ConvGRU [3e016418-90e7-4549-84f8-38c1e42f2207]\n",
      "└ @ Base loading.jl:1278\n",
      "┌ Warning: Package ConvGRU does not have Pkg in its dependencies:\n",
      "│ - If you have ConvGRU checked out for development and have\n",
      "│   added Pkg as a dependency but haven't updated your primary\n",
      "│   environment's manifest file, try `Pkg.resolve()`.\n",
      "│ - Otherwise you may need to report an issue with ConvGRU\n",
      "└ Loading Pkg into ConvGRU from project dependency, future warnings for ConvGRU are suppressed.\n",
      "   Building Conda ─→ `~/.julia/packages/Conda/x5ml4/deps/build.log`\n",
      "   Building PyCall → `~/.julia/packages/PyCall/tqyST/deps/build.log`\n"
     ]
    }
   ],
   "source": [
    "using ConvGRU"
   ]
  },
  {
   "cell_type": "code",
   "execution_count": 5,
   "metadata": {},
   "outputs": [
    {
     "name": "stderr",
     "output_type": "stream",
     "text": [
      "┌ Info: Precompiling ConvGRU [3e016418-90e7-4549-84f8-38c1e42f2207]\n",
      "└ @ Base loading.jl:1278\n",
      "┌ Warning: Package ConvGRU does not have Pkg in its dependencies:\n",
      "│ - If you have ConvGRU checked out for development and have\n",
      "│   added Pkg as a dependency but haven't updated your primary\n",
      "│   environment's manifest file, try `Pkg.resolve()`.\n",
      "│ - Otherwise you may need to report an issue with ConvGRU\n",
      "└ Loading Pkg into ConvGRU from project dependency, future warnings for ConvGRU are suppressed.\n",
      "   Building Conda ─→ `~/.julia/packages/Conda/x5ml4/deps/build.log`\n",
      "   Building PyCall → `~/.julia/packages/PyCall/tqyST/deps/build.log`\n"
     ]
    },
    {
     "data": {
      "text/plain": [
       "\"/Users/kahingleung/.julia/compiled/v1.5/ConvGRU/CRL3A_uQl1p.ji\""
      ]
     },
     "execution_count": 5,
     "metadata": {},
     "output_type": "execute_result"
    }
   ],
   "source": [
    "Base.compilecache(Base.PkgId(ConvGRU))"
   ]
  },
  {
   "cell_type": "code",
   "execution_count": null,
   "metadata": {},
   "outputs": [
    {
     "name": "stdout",
     "output_type": "stream",
     "text": [
      "[\"open\", \"close\", \"high\", \"low\", \"volume\", \"ondate\", \"CZK\", \"PLN\", \"MXN\", \"TRY\", \"ISK\", \"USD\", \"RUB\", \"EUR\", \"GBP\", \"JPY\", \"THB\", \"CNY\", \"KRW\", \"SEK\", \"BRL\", \"BGN\", \"HUF\", \"NZD\", \"CHF\", \"IDR\", \"SGD\", \"MYR\", \"ZAR\", \"CAD\", \"PHP\", \"HKD\", \"HRK\", \"INR\", \"AUD\", \"NOK\", \"DKK\", \"RON\", \"ILS\", \"Close\"]\n",
      "11020.01\n",
      "mse_loss(xtest, ytest) = 1.9730529f0\n"
     ]
    },
    {
     "name": "stderr",
     "output_type": "stream",
     "text": [
      "┌ Info: Epoch 1\n",
      "└ @ ConvGRU /Users/kahingleung/.julia/packages/Flux/sY3yx/src/optimise/train.jl:136\n"
     ]
    },
    {
     "name": "stdout",
     "output_type": "stream",
     "text": [
      "mse_loss(xtest, ytest) = 1.9483083f0\n"
     ]
    },
    {
     "name": "stderr",
     "output_type": "stream",
     "text": [
      "┌ Info: Epoch 2\n",
      "└ @ ConvGRU /Users/kahingleung/.julia/packages/Flux/sY3yx/src/optimise/train.jl:136\n"
     ]
    },
    {
     "name": "stdout",
     "output_type": "stream",
     "text": [
      "mse_loss(xtest, ytest) = 1.984434f0\n"
     ]
    },
    {
     "name": "stderr",
     "output_type": "stream",
     "text": [
      "┌ Info: Epoch 3\n",
      "└ @ ConvGRU /Users/kahingleung/.julia/packages/Flux/sY3yx/src/optimise/train.jl:136\n"
     ]
    },
    {
     "name": "stdout",
     "output_type": "stream",
     "text": [
      "mse_loss(xtest, ytest) = 1.9539497f0\n"
     ]
    },
    {
     "name": "stderr",
     "output_type": "stream",
     "text": [
      "┌ Info: Epoch 4\n",
      "└ @ ConvGRU /Users/kahingleung/.julia/packages/Flux/sY3yx/src/optimise/train.jl:136\n"
     ]
    },
    {
     "name": "stdout",
     "output_type": "stream",
     "text": [
      "mse_loss(xtest, ytest) = 1.8735353f0\n",
      "mse_loss(xtest, ytest) = 1.840264f0\n"
     ]
    },
    {
     "name": "stderr",
     "output_type": "stream",
     "text": [
      "┌ Info: Epoch 5\n",
      "└ @ ConvGRU /Users/kahingleung/.julia/packages/Flux/sY3yx/src/optimise/train.jl:136\n"
     ]
    },
    {
     "name": "stdout",
     "output_type": "stream",
     "text": [
      "mse_loss(xtest, ytest) = 1.7522235f0\n"
     ]
    },
    {
     "name": "stderr",
     "output_type": "stream",
     "text": [
      "┌ Info: Epoch 6\n",
      "└ @ ConvGRU /Users/kahingleung/.julia/packages/Flux/sY3yx/src/optimise/train.jl:136\n"
     ]
    },
    {
     "name": "stdout",
     "output_type": "stream",
     "text": [
      "mse_loss(xtest, ytest) = 1.7398254f0\n"
     ]
    },
    {
     "name": "stderr",
     "output_type": "stream",
     "text": [
      "┌ Info: Epoch 7\n",
      "└ @ ConvGRU /Users/kahingleung/.julia/packages/Flux/sY3yx/src/optimise/train.jl:136\n"
     ]
    },
    {
     "name": "stdout",
     "output_type": "stream",
     "text": [
      "mse_loss(xtest, ytest) = 1.7003846f0\n"
     ]
    },
    {
     "name": "stderr",
     "output_type": "stream",
     "text": [
      "┌ Info: Epoch 8\n",
      "└ @ ConvGRU /Users/kahingleung/.julia/packages/Flux/sY3yx/src/optimise/train.jl:136\n"
     ]
    },
    {
     "name": "stdout",
     "output_type": "stream",
     "text": [
      "mse_loss(xtest, ytest) = 1.6864115f0\n"
     ]
    },
    {
     "name": "stderr",
     "output_type": "stream",
     "text": [
      "┌ Info: Epoch 9\n",
      "└ @ ConvGRU /Users/kahingleung/.julia/packages/Flux/sY3yx/src/optimise/train.jl:136\n"
     ]
    },
    {
     "name": "stdout",
     "output_type": "stream",
     "text": [
      "mse_loss(xtest, ytest) = 1.701207f0\n"
     ]
    },
    {
     "name": "stderr",
     "output_type": "stream",
     "text": [
      "┌ Info: Epoch 10\n",
      "└ @ ConvGRU /Users/kahingleung/.julia/packages/Flux/sY3yx/src/optimise/train.jl:136\n"
     ]
    },
    {
     "name": "stdout",
     "output_type": "stream",
     "text": [
      "mse_loss(xtest, ytest) = 1.6773206f0\n"
     ]
    },
    {
     "name": "stderr",
     "output_type": "stream",
     "text": [
      "┌ Info: Epoch 11\n",
      "└ @ ConvGRU /Users/kahingleung/.julia/packages/Flux/sY3yx/src/optimise/train.jl:136\n",
      "┌ Info: Epoch 12\n",
      "└ @ ConvGRU /Users/kahingleung/.julia/packages/Flux/sY3yx/src/optimise/train.jl:136\n"
     ]
    },
    {
     "name": "stdout",
     "output_type": "stream",
     "text": [
      "mse_loss(xtest, ytest) = 1.6700987f0\n",
      "mse_loss(xtest, ytest) = 1.6820883f0\n"
     ]
    },
    {
     "name": "stderr",
     "output_type": "stream",
     "text": [
      "┌ Info: Epoch 13\n",
      "└ @ ConvGRU /Users/kahingleung/.julia/packages/Flux/sY3yx/src/optimise/train.jl:136\n"
     ]
    },
    {
     "name": "stdout",
     "output_type": "stream",
     "text": [
      "mse_loss(xtest, ytest) = 1.7162204f0\n"
     ]
    },
    {
     "name": "stderr",
     "output_type": "stream",
     "text": [
      "┌ Info: Epoch 14\n",
      "└ @ ConvGRU /Users/kahingleung/.julia/packages/Flux/sY3yx/src/optimise/train.jl:136\n"
     ]
    },
    {
     "name": "stdout",
     "output_type": "stream",
     "text": [
      "mse_loss(xtest, ytest) = 1.6514292f0\n"
     ]
    },
    {
     "name": "stderr",
     "output_type": "stream",
     "text": [
      "┌ Info: Epoch 15\n",
      "└ @ ConvGRU /Users/kahingleung/.julia/packages/Flux/sY3yx/src/optimise/train.jl:136\n"
     ]
    },
    {
     "name": "stdout",
     "output_type": "stream",
     "text": [
      "mse_loss(xtest, ytest) = 1.6464424f0\n"
     ]
    },
    {
     "name": "stderr",
     "output_type": "stream",
     "text": [
      "┌ Info: Epoch 16\n",
      "└ @ ConvGRU /Users/kahingleung/.julia/packages/Flux/sY3yx/src/optimise/train.jl:136\n"
     ]
    },
    {
     "name": "stdout",
     "output_type": "stream",
     "text": [
      "mse_loss(xtest, ytest) = 1.6443537f0\n"
     ]
    },
    {
     "name": "stderr",
     "output_type": "stream",
     "text": [
      "┌ Info: Epoch 17\n",
      "└ @ ConvGRU /Users/kahingleung/.julia/packages/Flux/sY3yx/src/optimise/train.jl:136\n"
     ]
    },
    {
     "name": "stdout",
     "output_type": "stream",
     "text": [
      "mse_loss(xtest, ytest) = 1.6439326f0\n"
     ]
    },
    {
     "name": "stderr",
     "output_type": "stream",
     "text": [
      "┌ Info: Epoch 18\n",
      "└ @ ConvGRU /Users/kahingleung/.julia/packages/Flux/sY3yx/src/optimise/train.jl:136\n"
     ]
    },
    {
     "name": "stdout",
     "output_type": "stream",
     "text": [
      "mse_loss(xtest, ytest) = 1.63868f0\n"
     ]
    },
    {
     "name": "stderr",
     "output_type": "stream",
     "text": [
      "┌ Info: Epoch 19\n",
      "└ @ ConvGRU /Users/kahingleung/.julia/packages/Flux/sY3yx/src/optimise/train.jl:136\n"
     ]
    },
    {
     "name": "stdout",
     "output_type": "stream",
     "text": [
      "mse_loss(xtest, ytest) = 1.6431377f0\n"
     ]
    },
    {
     "name": "stderr",
     "output_type": "stream",
     "text": [
      "┌ Info: Epoch 20\n",
      "└ @ ConvGRU /Users/kahingleung/.julia/packages/Flux/sY3yx/src/optimise/train.jl:136\n"
     ]
    },
    {
     "name": "stdout",
     "output_type": "stream",
     "text": [
      "mse_loss(xtest, ytest) = 1.6251451f0\n"
     ]
    },
    {
     "name": "stderr",
     "output_type": "stream",
     "text": [
      "┌ Info: Epoch 21\n",
      "└ @ ConvGRU /Users/kahingleung/.julia/packages/Flux/sY3yx/src/optimise/train.jl:136\n"
     ]
    },
    {
     "name": "stdout",
     "output_type": "stream",
     "text": [
      "mse_loss(xtest, ytest) = 1.6381632f0\n"
     ]
    },
    {
     "name": "stderr",
     "output_type": "stream",
     "text": [
      "┌ Info: Epoch 22\n",
      "└ @ ConvGRU /Users/kahingleung/.julia/packages/Flux/sY3yx/src/optimise/train.jl:136\n"
     ]
    },
    {
     "name": "stdout",
     "output_type": "stream",
     "text": [
      "mse_loss(xtest, ytest) = 1.6585971f0\n"
     ]
    },
    {
     "name": "stderr",
     "output_type": "stream",
     "text": [
      "┌ Info: Epoch 23\n",
      "└ @ ConvGRU /Users/kahingleung/.julia/packages/Flux/sY3yx/src/optimise/train.jl:136\n",
      "┌ Info: Epoch 24\n",
      "└ @ ConvGRU /Users/kahingleung/.julia/packages/Flux/sY3yx/src/optimise/train.jl:136\n"
     ]
    },
    {
     "name": "stdout",
     "output_type": "stream",
     "text": [
      "mse_loss(xtest, ytest) = 1.640374f0\n",
      "mse_loss(xtest, ytest) = 1.6569752f0\n"
     ]
    },
    {
     "name": "stderr",
     "output_type": "stream",
     "text": [
      "┌ Info: Epoch 25\n",
      "└ @ ConvGRU /Users/kahingleung/.julia/packages/Flux/sY3yx/src/optimise/train.jl:136\n"
     ]
    },
    {
     "name": "stdout",
     "output_type": "stream",
     "text": [
      "mse_loss(xtest, ytest) = 1.7579304f0\n"
     ]
    },
    {
     "name": "stderr",
     "output_type": "stream",
     "text": [
      "┌ Info: Epoch 26\n",
      "└ @ ConvGRU /Users/kahingleung/.julia/packages/Flux/sY3yx/src/optimise/train.jl:136\n"
     ]
    },
    {
     "name": "stdout",
     "output_type": "stream",
     "text": [
      "mse_loss(xtest, ytest) = 1.6711802f0\n"
     ]
    },
    {
     "name": "stderr",
     "output_type": "stream",
     "text": [
      "┌ Info: Epoch 27\n",
      "└ @ ConvGRU /Users/kahingleung/.julia/packages/Flux/sY3yx/src/optimise/train.jl:136\n"
     ]
    },
    {
     "name": "stdout",
     "output_type": "stream",
     "text": [
      "mse_loss(xtest, ytest) = 1.6681845f0\n"
     ]
    },
    {
     "name": "stderr",
     "output_type": "stream",
     "text": [
      "┌ Info: Epoch 28\n",
      "└ @ ConvGRU /Users/kahingleung/.julia/packages/Flux/sY3yx/src/optimise/train.jl:136\n",
      "┌ Info: Epoch 29\n",
      "└ @ ConvGRU /Users/kahingleung/.julia/packages/Flux/sY3yx/src/optimise/train.jl:136\n"
     ]
    },
    {
     "name": "stdout",
     "output_type": "stream",
     "text": [
      "mse_loss(xtest, ytest) = 1.633162f0\n",
      "mse_loss(xtest, ytest) = 1.6102331f0\n"
     ]
    },
    {
     "name": "stderr",
     "output_type": "stream",
     "text": [
      "┌ Info: Epoch 30\n",
      "└ @ ConvGRU /Users/kahingleung/.julia/packages/Flux/sY3yx/src/optimise/train.jl:136\n"
     ]
    },
    {
     "name": "stdout",
     "output_type": "stream",
     "text": [
      "(250,)\n",
      "myObjective(df, seqlen, Nh, lr, sym * \"-\" * string(i)) = 1.6595222f0\n",
      "21560.01\n",
      "mse_loss(xtest, ytest) = 2.457159f0\n"
     ]
    },
    {
     "name": "stderr",
     "output_type": "stream",
     "text": [
      "┌ Info: Epoch 1\n",
      "└ @ ConvGRU /Users/kahingleung/.julia/packages/Flux/sY3yx/src/optimise/train.jl:136\n"
     ]
    },
    {
     "name": "stdout",
     "output_type": "stream",
     "text": [
      "mse_loss(xtest, ytest) = 2.2022822f0\n",
      "mse_loss(xtest, ytest) = 1.8393904f0\n"
     ]
    },
    {
     "name": "stderr",
     "output_type": "stream",
     "text": [
      "┌ Info: Epoch 2\n",
      "└ @ ConvGRU /Users/kahingleung/.julia/packages/Flux/sY3yx/src/optimise/train.jl:136\n"
     ]
    },
    {
     "name": "stdout",
     "output_type": "stream",
     "text": [
      "mse_loss(xtest, ytest) = 1.7725431f0\n"
     ]
    },
    {
     "name": "stderr",
     "output_type": "stream",
     "text": [
      "┌ Info: Epoch 3\n",
      "└ @ ConvGRU /Users/kahingleung/.julia/packages/Flux/sY3yx/src/optimise/train.jl:136\n"
     ]
    },
    {
     "name": "stdout",
     "output_type": "stream",
     "text": [
      "mse_loss(xtest, ytest) = 1.9475054f0\n"
     ]
    },
    {
     "name": "stderr",
     "output_type": "stream",
     "text": [
      "┌ Info: Epoch 4\n",
      "└ @ ConvGRU /Users/kahingleung/.julia/packages/Flux/sY3yx/src/optimise/train.jl:136\n",
      "┌ Info: Epoch 5\n",
      "└ @ ConvGRU /Users/kahingleung/.julia/packages/Flux/sY3yx/src/optimise/train.jl:136\n"
     ]
    },
    {
     "name": "stdout",
     "output_type": "stream",
     "text": [
      "mse_loss(xtest, ytest) = 1.8448076f0\n"
     ]
    },
    {
     "name": "stderr",
     "output_type": "stream",
     "text": [
      "┌ Info: Epoch 6\n",
      "└ @ ConvGRU /Users/kahingleung/.julia/packages/Flux/sY3yx/src/optimise/train.jl:136\n"
     ]
    },
    {
     "name": "stdout",
     "output_type": "stream",
     "text": [
      "mse_loss(xtest, ytest) = 1.7471334f0\n",
      "mse_loss(xtest, ytest) = 1.6757295f0\n"
     ]
    },
    {
     "name": "stderr",
     "output_type": "stream",
     "text": [
      "┌ Info: Epoch 7\n",
      "└ @ ConvGRU /Users/kahingleung/.julia/packages/Flux/sY3yx/src/optimise/train.jl:136\n"
     ]
    },
    {
     "name": "stdout",
     "output_type": "stream",
     "text": [
      "mse_loss(xtest, ytest) = 1.8256083f0\n"
     ]
    },
    {
     "name": "stderr",
     "output_type": "stream",
     "text": [
      "┌ Info: Epoch 8\n",
      "└ @ ConvGRU /Users/kahingleung/.julia/packages/Flux/sY3yx/src/optimise/train.jl:136\n"
     ]
    },
    {
     "name": "stdout",
     "output_type": "stream",
     "text": [
      "mse_loss(xtest, ytest) = 1.7175173f0\n"
     ]
    },
    {
     "name": "stderr",
     "output_type": "stream",
     "text": [
      "┌ Info: Epoch 9\n",
      "└ @ ConvGRU /Users/kahingleung/.julia/packages/Flux/sY3yx/src/optimise/train.jl:136\n"
     ]
    },
    {
     "name": "stdout",
     "output_type": "stream",
     "text": [
      "mse_loss(xtest, ytest) = 1.7516112f0\n"
     ]
    },
    {
     "name": "stderr",
     "output_type": "stream",
     "text": [
      "┌ Info: Epoch 10\n",
      "└ @ ConvGRU /Users/kahingleung/.julia/packages/Flux/sY3yx/src/optimise/train.jl:136\n"
     ]
    },
    {
     "name": "stdout",
     "output_type": "stream",
     "text": [
      "mse_loss(xtest, ytest) = 1.6475158f0\n"
     ]
    },
    {
     "name": "stderr",
     "output_type": "stream",
     "text": [
      "┌ Info: Epoch 11\n",
      "└ @ ConvGRU /Users/kahingleung/.julia/packages/Flux/sY3yx/src/optimise/train.jl:136\n"
     ]
    },
    {
     "name": "stdout",
     "output_type": "stream",
     "text": [
      "mse_loss(xtest, ytest) = 1.6636292f0\n"
     ]
    },
    {
     "name": "stderr",
     "output_type": "stream",
     "text": [
      "┌ Info: Epoch 12\n",
      "└ @ ConvGRU /Users/kahingleung/.julia/packages/Flux/sY3yx/src/optimise/train.jl:136\n"
     ]
    },
    {
     "name": "stdout",
     "output_type": "stream",
     "text": [
      "mse_loss(xtest, ytest) = 1.7429868f0\n"
     ]
    },
    {
     "name": "stderr",
     "output_type": "stream",
     "text": [
      "┌ Info: Epoch 13\n",
      "└ @ ConvGRU /Users/kahingleung/.julia/packages/Flux/sY3yx/src/optimise/train.jl:136\n"
     ]
    },
    {
     "name": "stdout",
     "output_type": "stream",
     "text": [
      "mse_loss(xtest, ytest) = 1.6547514f0\n"
     ]
    },
    {
     "name": "stderr",
     "output_type": "stream",
     "text": [
      "┌ Info: Epoch 14\n",
      "└ @ ConvGRU /Users/kahingleung/.julia/packages/Flux/sY3yx/src/optimise/train.jl:136\n"
     ]
    },
    {
     "name": "stdout",
     "output_type": "stream",
     "text": [
      "mse_loss(xtest, ytest) = 1.6817503f0\n"
     ]
    },
    {
     "name": "stderr",
     "output_type": "stream",
     "text": [
      "┌ Info: Epoch 15\n",
      "└ @ ConvGRU /Users/kahingleung/.julia/packages/Flux/sY3yx/src/optimise/train.jl:136\n",
      "┌ Info: Epoch 16\n",
      "└ @ ConvGRU /Users/kahingleung/.julia/packages/Flux/sY3yx/src/optimise/train.jl:136\n"
     ]
    },
    {
     "name": "stdout",
     "output_type": "stream",
     "text": [
      "mse_loss(xtest, ytest) = 1.7292328f0\n"
     ]
    },
    {
     "name": "stderr",
     "output_type": "stream",
     "text": [
      "┌ Info: Epoch 17\n",
      "└ @ ConvGRU /Users/kahingleung/.julia/packages/Flux/sY3yx/src/optimise/train.jl:136\n"
     ]
    },
    {
     "name": "stdout",
     "output_type": "stream",
     "text": [
      "mse_loss(xtest, ytest) = 1.6512464f0\n",
      "mse_loss(xtest, ytest) = 1.7460258f0\n"
     ]
    },
    {
     "name": "stderr",
     "output_type": "stream",
     "text": [
      "┌ Info: Epoch 18\n",
      "└ @ ConvGRU /Users/kahingleung/.julia/packages/Flux/sY3yx/src/optimise/train.jl:136\n"
     ]
    },
    {
     "name": "stdout",
     "output_type": "stream",
     "text": [
      "mse_loss(xtest, ytest) = 1.887688f0\n"
     ]
    },
    {
     "name": "stderr",
     "output_type": "stream",
     "text": [
      "┌ Info: Epoch 19\n",
      "└ @ ConvGRU /Users/kahingleung/.julia/packages/Flux/sY3yx/src/optimise/train.jl:136\n"
     ]
    },
    {
     "name": "stdout",
     "output_type": "stream",
     "text": [
      "mse_loss(xtest, ytest) = 1.7158439f0\n"
     ]
    },
    {
     "name": "stderr",
     "output_type": "stream",
     "text": [
      "┌ Info: Epoch 20\n",
      "└ @ ConvGRU /Users/kahingleung/.julia/packages/Flux/sY3yx/src/optimise/train.jl:136\n"
     ]
    },
    {
     "name": "stdout",
     "output_type": "stream",
     "text": [
      "mse_loss(xtest, ytest) = 1.7770904f0\n"
     ]
    },
    {
     "name": "stderr",
     "output_type": "stream",
     "text": [
      "┌ Info: Epoch 21\n",
      "└ @ ConvGRU /Users/kahingleung/.julia/packages/Flux/sY3yx/src/optimise/train.jl:136\n"
     ]
    },
    {
     "name": "stdout",
     "output_type": "stream",
     "text": [
      "mse_loss(xtest, ytest) = 1.793824f0\n"
     ]
    },
    {
     "name": "stderr",
     "output_type": "stream",
     "text": [
      "┌ Info: Epoch 22\n",
      "└ @ ConvGRU /Users/kahingleung/.julia/packages/Flux/sY3yx/src/optimise/train.jl:136\n"
     ]
    },
    {
     "name": "stdout",
     "output_type": "stream",
     "text": [
      "mse_loss(xtest, ytest) = 1.6496129f0\n"
     ]
    },
    {
     "name": "stderr",
     "output_type": "stream",
     "text": [
      "┌ Info: Epoch 23\n",
      "└ @ ConvGRU /Users/kahingleung/.julia/packages/Flux/sY3yx/src/optimise/train.jl:136\n",
      "┌ Info: Epoch 24\n",
      "└ @ ConvGRU /Users/kahingleung/.julia/packages/Flux/sY3yx/src/optimise/train.jl:136\n"
     ]
    },
    {
     "name": "stdout",
     "output_type": "stream",
     "text": [
      "mse_loss(xtest, ytest) = 1.6799929f0\n"
     ]
    },
    {
     "name": "stderr",
     "output_type": "stream",
     "text": [
      "┌ Info: Epoch 25\n",
      "└ @ ConvGRU /Users/kahingleung/.julia/packages/Flux/sY3yx/src/optimise/train.jl:136\n"
     ]
    },
    {
     "name": "stdout",
     "output_type": "stream",
     "text": [
      "mse_loss(xtest, ytest) = 1.6379906f0\n",
      "mse_loss(xtest, ytest) = 1.6677346f0\n"
     ]
    },
    {
     "name": "stderr",
     "output_type": "stream",
     "text": [
      "┌ Info: Epoch 26\n",
      "└ @ ConvGRU /Users/kahingleung/.julia/packages/Flux/sY3yx/src/optimise/train.jl:136\n"
     ]
    },
    {
     "name": "stdout",
     "output_type": "stream",
     "text": [
      "mse_loss(xtest, ytest) = 1.6225733f0\n"
     ]
    },
    {
     "name": "stderr",
     "output_type": "stream",
     "text": [
      "┌ Info: Epoch 27\n",
      "└ @ ConvGRU /Users/kahingleung/.julia/packages/Flux/sY3yx/src/optimise/train.jl:136\n"
     ]
    },
    {
     "name": "stdout",
     "output_type": "stream",
     "text": [
      "mse_loss(xtest, ytest) = 1.620329f0\n"
     ]
    },
    {
     "name": "stderr",
     "output_type": "stream",
     "text": [
      "┌ Info: Epoch 28\n",
      "└ @ ConvGRU /Users/kahingleung/.julia/packages/Flux/sY3yx/src/optimise/train.jl:136\n",
      "┌ Info: Epoch 29\n",
      "└ @ ConvGRU /Users/kahingleung/.julia/packages/Flux/sY3yx/src/optimise/train.jl:136\n"
     ]
    },
    {
     "name": "stdout",
     "output_type": "stream",
     "text": [
      "mse_loss(xtest, ytest) = 1.7593615f0\n"
     ]
    },
    {
     "name": "stderr",
     "output_type": "stream",
     "text": [
      "┌ Info: Epoch 30\n",
      "└ @ ConvGRU /Users/kahingleung/.julia/packages/Flux/sY3yx/src/optimise/train.jl:136\n"
     ]
    },
    {
     "name": "stdout",
     "output_type": "stream",
     "text": [
      "mse_loss(xtest, ytest) = 1.6585054f0\n",
      "(250,)\n",
      "myObjective(df, seqlen, Nh, lr, sym * \"-\" * string(i)) = 1.6558958f0\n",
      "33080.005994842503189409\n",
      "mse_loss(xtest, ytest) = 2.01815f0\n"
     ]
    },
    {
     "name": "stderr",
     "output_type": "stream",
     "text": [
      "┌ Info: Epoch 1\n",
      "└ @ ConvGRU /Users/kahingleung/.julia/packages/Flux/sY3yx/src/optimise/train.jl:136\n"
     ]
    },
    {
     "name": "stdout",
     "output_type": "stream",
     "text": [
      "mse_loss(xtest, ytest) = 2.0845842f0\n"
     ]
    },
    {
     "name": "stderr",
     "output_type": "stream",
     "text": [
      "┌ Info: Epoch 2\n",
      "└ @ ConvGRU /Users/kahingleung/.julia/packages/Flux/sY3yx/src/optimise/train.jl:136\n"
     ]
    },
    {
     "name": "stdout",
     "output_type": "stream",
     "text": [
      "mse_loss(xtest, ytest) = 2.1190786f0\n"
     ]
    },
    {
     "name": "stderr",
     "output_type": "stream",
     "text": [
      "┌ Info: Epoch 3\n",
      "└ @ ConvGRU /Users/kahingleung/.julia/packages/Flux/sY3yx/src/optimise/train.jl:136\n"
     ]
    },
    {
     "name": "stdout",
     "output_type": "stream",
     "text": [
      "mse_loss(xtest, ytest) = 1.9331852f0\n"
     ]
    },
    {
     "name": "stderr",
     "output_type": "stream",
     "text": [
      "┌ Info: Epoch 4\n",
      "└ @ ConvGRU /Users/kahingleung/.julia/packages/Flux/sY3yx/src/optimise/train.jl:136\n"
     ]
    },
    {
     "name": "stdout",
     "output_type": "stream",
     "text": [
      "mse_loss(xtest, ytest) = 1.8819023f0\n",
      "mse_loss(xtest, ytest) = 1.8278301f0\n"
     ]
    },
    {
     "name": "stderr",
     "output_type": "stream",
     "text": [
      "┌ Info: Epoch 5\n",
      "└ @ ConvGRU /Users/kahingleung/.julia/packages/Flux/sY3yx/src/optimise/train.jl:136\n"
     ]
    },
    {
     "name": "stdout",
     "output_type": "stream",
     "text": [
      "mse_loss(xtest, ytest) = 1.7709183f0\n"
     ]
    },
    {
     "name": "stderr",
     "output_type": "stream",
     "text": [
      "┌ Info: Epoch 6\n",
      "└ @ ConvGRU /Users/kahingleung/.julia/packages/Flux/sY3yx/src/optimise/train.jl:136\n",
      "┌ Info: Epoch 7\n",
      "└ @ ConvGRU /Users/kahingleung/.julia/packages/Flux/sY3yx/src/optimise/train.jl:136\n"
     ]
    },
    {
     "name": "stdout",
     "output_type": "stream",
     "text": [
      "mse_loss(xtest, ytest) = 1.7605625f0\n",
      "mse_loss(xtest, ytest) = 1.6962729f0\n"
     ]
    },
    {
     "name": "stderr",
     "output_type": "stream",
     "text": [
      "┌ Info: Epoch 8\n",
      "└ @ ConvGRU /Users/kahingleung/.julia/packages/Flux/sY3yx/src/optimise/train.jl:136\n",
      "┌ Info: Epoch 9\n",
      "└ @ ConvGRU /Users/kahingleung/.julia/packages/Flux/sY3yx/src/optimise/train.jl:136\n"
     ]
    },
    {
     "name": "stdout",
     "output_type": "stream",
     "text": [
      "mse_loss(xtest, ytest) = 1.750214f0\n",
      "mse_loss(xtest, ytest) = 1.7170501f0\n"
     ]
    },
    {
     "name": "stderr",
     "output_type": "stream",
     "text": [
      "┌ Info: Epoch 10\n",
      "└ @ ConvGRU /Users/kahingleung/.julia/packages/Flux/sY3yx/src/optimise/train.jl:136\n"
     ]
    },
    {
     "name": "stdout",
     "output_type": "stream",
     "text": [
      "mse_loss(xtest, ytest) = 1.6354915f0\n"
     ]
    },
    {
     "name": "stderr",
     "output_type": "stream",
     "text": [
      "┌ Info: Epoch 11\n",
      "└ @ ConvGRU /Users/kahingleung/.julia/packages/Flux/sY3yx/src/optimise/train.jl:136\n"
     ]
    },
    {
     "name": "stdout",
     "output_type": "stream",
     "text": [
      "mse_loss(xtest, ytest) = 1.6695521f0\n"
     ]
    },
    {
     "name": "stderr",
     "output_type": "stream",
     "text": [
      "┌ Info: Epoch 12\n",
      "└ @ ConvGRU /Users/kahingleung/.julia/packages/Flux/sY3yx/src/optimise/train.jl:136\n"
     ]
    },
    {
     "name": "stdout",
     "output_type": "stream",
     "text": [
      "mse_loss(xtest, ytest) = 1.6751091f0\n"
     ]
    },
    {
     "name": "stderr",
     "output_type": "stream",
     "text": [
      "┌ Info: Epoch 13\n",
      "└ @ ConvGRU /Users/kahingleung/.julia/packages/Flux/sY3yx/src/optimise/train.jl:136\n"
     ]
    },
    {
     "name": "stdout",
     "output_type": "stream",
     "text": [
      "mse_loss(xtest, ytest) = 1.6747139f0\n"
     ]
    },
    {
     "name": "stderr",
     "output_type": "stream",
     "text": [
      "┌ Info: Epoch 14\n",
      "└ @ ConvGRU /Users/kahingleung/.julia/packages/Flux/sY3yx/src/optimise/train.jl:136\n",
      "┌ Info: Epoch 15\n",
      "└ @ ConvGRU /Users/kahingleung/.julia/packages/Flux/sY3yx/src/optimise/train.jl:136\n"
     ]
    },
    {
     "name": "stdout",
     "output_type": "stream",
     "text": [
      "mse_loss(xtest, ytest) = 1.67574f0\n"
     ]
    },
    {
     "name": "stderr",
     "output_type": "stream",
     "text": [
      "┌ Info: Epoch 16\n",
      "└ @ ConvGRU /Users/kahingleung/.julia/packages/Flux/sY3yx/src/optimise/train.jl:136\n"
     ]
    },
    {
     "name": "stdout",
     "output_type": "stream",
     "text": [
      "mse_loss(xtest, ytest) = 1.5807754f0\n"
     ]
    },
    {
     "name": "stderr",
     "output_type": "stream",
     "text": [
      "┌ Info: Epoch 17\n",
      "└ @ ConvGRU /Users/kahingleung/.julia/packages/Flux/sY3yx/src/optimise/train.jl:136\n"
     ]
    },
    {
     "name": "stdout",
     "output_type": "stream",
     "text": [
      "mse_loss(xtest, ytest) = 1.6513555f0\n"
     ]
    },
    {
     "name": "stderr",
     "output_type": "stream",
     "text": [
      "┌ Info: Epoch 18\n",
      "└ @ ConvGRU /Users/kahingleung/.julia/packages/Flux/sY3yx/src/optimise/train.jl:136\n"
     ]
    },
    {
     "name": "stdout",
     "output_type": "stream",
     "text": [
      "mse_loss(xtest, ytest) = 1.648314f0\n"
     ]
    },
    {
     "name": "stderr",
     "output_type": "stream",
     "text": [
      "┌ Info: Epoch 19\n",
      "└ @ ConvGRU /Users/kahingleung/.julia/packages/Flux/sY3yx/src/optimise/train.jl:136\n"
     ]
    },
    {
     "name": "stdout",
     "output_type": "stream",
     "text": [
      "mse_loss(xtest, ytest) = 1.551006f0\n"
     ]
    },
    {
     "name": "stderr",
     "output_type": "stream",
     "text": [
      "┌ Info: Epoch 20\n",
      "└ @ ConvGRU /Users/kahingleung/.julia/packages/Flux/sY3yx/src/optimise/train.jl:136\n"
     ]
    },
    {
     "name": "stdout",
     "output_type": "stream",
     "text": [
      "mse_loss(xtest, ytest) = 1.6737834f0\n",
      "mse_loss(xtest, ytest) = 1.6525128f0\n"
     ]
    },
    {
     "name": "stderr",
     "output_type": "stream",
     "text": [
      "┌ Info: Epoch 21\n",
      "└ @ ConvGRU /Users/kahingleung/.julia/packages/Flux/sY3yx/src/optimise/train.jl:136\n"
     ]
    },
    {
     "name": "stdout",
     "output_type": "stream",
     "text": [
      "mse_loss(xtest, ytest) = 1.6461036f0\n"
     ]
    },
    {
     "name": "stderr",
     "output_type": "stream",
     "text": [
      "┌ Info: Epoch 22\n",
      "└ @ ConvGRU /Users/kahingleung/.julia/packages/Flux/sY3yx/src/optimise/train.jl:136\n",
      "┌ Info: Epoch 23\n",
      "└ @ ConvGRU /Users/kahingleung/.julia/packages/Flux/sY3yx/src/optimise/train.jl:136\n"
     ]
    },
    {
     "name": "stdout",
     "output_type": "stream",
     "text": [
      "mse_loss(xtest, ytest) = 1.5902177f0\n"
     ]
    },
    {
     "name": "stderr",
     "output_type": "stream",
     "text": [
      "┌ Info: Epoch 24\n",
      "└ @ ConvGRU /Users/kahingleung/.julia/packages/Flux/sY3yx/src/optimise/train.jl:136\n"
     ]
    },
    {
     "name": "stdout",
     "output_type": "stream",
     "text": [
      "mse_loss(xtest, ytest) = 1.6359626f0\n",
      "mse_loss(xtest, ytest) = 1.6082143f0\n"
     ]
    },
    {
     "name": "stderr",
     "output_type": "stream",
     "text": [
      "┌ Info: Epoch 25\n",
      "└ @ ConvGRU /Users/kahingleung/.julia/packages/Flux/sY3yx/src/optimise/train.jl:136\n"
     ]
    },
    {
     "name": "stdout",
     "output_type": "stream",
     "text": [
      "mse_loss(xtest, ytest) = 1.6131037f0\n"
     ]
    },
    {
     "name": "stderr",
     "output_type": "stream",
     "text": [
      "┌ Info: Epoch 26\n",
      "└ @ ConvGRU /Users/kahingleung/.julia/packages/Flux/sY3yx/src/optimise/train.jl:136\n"
     ]
    },
    {
     "name": "stdout",
     "output_type": "stream",
     "text": [
      "mse_loss(xtest, ytest) = 1.6461186f0\n"
     ]
    },
    {
     "name": "stderr",
     "output_type": "stream",
     "text": [
      "┌ Info: Epoch 27\n",
      "└ @ ConvGRU /Users/kahingleung/.julia/packages/Flux/sY3yx/src/optimise/train.jl:136\n",
      "┌ Info: Epoch 28\n",
      "└ @ ConvGRU /Users/kahingleung/.julia/packages/Flux/sY3yx/src/optimise/train.jl:136\n"
     ]
    },
    {
     "name": "stdout",
     "output_type": "stream",
     "text": [
      "mse_loss(xtest, ytest) = 1.6339116f0\n"
     ]
    },
    {
     "name": "stderr",
     "output_type": "stream",
     "text": [
      "┌ Info: Epoch 29\n",
      "└ @ ConvGRU /Users/kahingleung/.julia/packages/Flux/sY3yx/src/optimise/train.jl:136\n"
     ]
    },
    {
     "name": "stdout",
     "output_type": "stream",
     "text": [
      "mse_loss(xtest, ytest) = 1.5652703f0\n"
     ]
    },
    {
     "name": "stderr",
     "output_type": "stream",
     "text": [
      "┌ Info: Epoch 30\n",
      "└ @ ConvGRU /Users/kahingleung/.julia/packages/Flux/sY3yx/src/optimise/train.jl:136\n"
     ]
    },
    {
     "name": "stdout",
     "output_type": "stream",
     "text": [
      "mse_loss(xtest, ytest) = 1.58546f0\n",
      "(250,)\n",
      "myObjective(df, seqlen, Nh, lr, sym * \"-\" * string(i)) = 1.489922f0\n",
      "41580.0021544346900318843\n",
      "mse_loss(xtest, ytest) = 1.949024f0\n",
      "mse_loss(xtest, ytest) = 1.9264985f0\n"
     ]
    },
    {
     "name": "stderr",
     "output_type": "stream",
     "text": [
      "┌ Info: Epoch 1\n",
      "└ @ ConvGRU /Users/kahingleung/.julia/packages/Flux/sY3yx/src/optimise/train.jl:136\n",
      "┌ Info: Epoch 2\n",
      "└ @ ConvGRU /Users/kahingleung/.julia/packages/Flux/sY3yx/src/optimise/train.jl:136\n"
     ]
    },
    {
     "name": "stdout",
     "output_type": "stream",
     "text": [
      "mse_loss(xtest, ytest) = 1.9165441f0\n",
      "mse_loss(xtest, ytest) = 1.8354231f0\n"
     ]
    },
    {
     "name": "stderr",
     "output_type": "stream",
     "text": [
      "┌ Info: Epoch 3\n",
      "└ @ ConvGRU /Users/kahingleung/.julia/packages/Flux/sY3yx/src/optimise/train.jl:136\n"
     ]
    },
    {
     "name": "stdout",
     "output_type": "stream",
     "text": [
      "mse_loss(xtest, ytest) = 1.7636346f0\n"
     ]
    },
    {
     "name": "stderr",
     "output_type": "stream",
     "text": [
      "┌ Info: Epoch 4\n",
      "└ @ ConvGRU /Users/kahingleung/.julia/packages/Flux/sY3yx/src/optimise/train.jl:136\n"
     ]
    },
    {
     "name": "stdout",
     "output_type": "stream",
     "text": [
      "mse_loss(xtest, ytest) = 1.7065139f0\n"
     ]
    },
    {
     "name": "stderr",
     "output_type": "stream",
     "text": [
      "┌ Info: Epoch 5\n",
      "└ @ ConvGRU /Users/kahingleung/.julia/packages/Flux/sY3yx/src/optimise/train.jl:136\n",
      "┌ Info: Epoch 6\n",
      "└ @ ConvGRU /Users/kahingleung/.julia/packages/Flux/sY3yx/src/optimise/train.jl:136\n"
     ]
    },
    {
     "name": "stdout",
     "output_type": "stream",
     "text": [
      "mse_loss(xtest, ytest) = 1.6836318f0\n",
      "mse_loss(xtest, ytest) = 1.6552849f0\n"
     ]
    },
    {
     "name": "stderr",
     "output_type": "stream",
     "text": [
      "┌ Info: Epoch 7\n",
      "└ @ ConvGRU /Users/kahingleung/.julia/packages/Flux/sY3yx/src/optimise/train.jl:136\n"
     ]
    },
    {
     "name": "stdout",
     "output_type": "stream",
     "text": [
      "mse_loss(xtest, ytest) = 1.629257f0\n"
     ]
    },
    {
     "name": "stderr",
     "output_type": "stream",
     "text": [
      "┌ Info: Epoch 8\n",
      "└ @ ConvGRU /Users/kahingleung/.julia/packages/Flux/sY3yx/src/optimise/train.jl:136\n"
     ]
    },
    {
     "name": "stdout",
     "output_type": "stream",
     "text": [
      "mse_loss(xtest, ytest) = 1.6326798f0\n"
     ]
    },
    {
     "name": "stderr",
     "output_type": "stream",
     "text": [
      "┌ Info: Epoch 9\n",
      "└ @ ConvGRU /Users/kahingleung/.julia/packages/Flux/sY3yx/src/optimise/train.jl:136\n"
     ]
    },
    {
     "name": "stdout",
     "output_type": "stream",
     "text": [
      "mse_loss(xtest, ytest) = 1.597322f0\n"
     ]
    },
    {
     "name": "stderr",
     "output_type": "stream",
     "text": [
      "┌ Info: Epoch 10\n",
      "└ @ ConvGRU /Users/kahingleung/.julia/packages/Flux/sY3yx/src/optimise/train.jl:136\n",
      "┌ Info: Epoch 11\n",
      "└ @ ConvGRU /Users/kahingleung/.julia/packages/Flux/sY3yx/src/optimise/train.jl:136\n"
     ]
    },
    {
     "name": "stdout",
     "output_type": "stream",
     "text": [
      "mse_loss(xtest, ytest) = 1.5963871f0\n",
      "mse_loss(xtest, ytest) = 1.5932912f0\n"
     ]
    },
    {
     "name": "stderr",
     "output_type": "stream",
     "text": [
      "┌ Info: Epoch 12\n",
      "└ @ ConvGRU /Users/kahingleung/.julia/packages/Flux/sY3yx/src/optimise/train.jl:136\n"
     ]
    },
    {
     "name": "stdout",
     "output_type": "stream",
     "text": [
      "mse_loss(xtest, ytest) = 1.6026876f0\n"
     ]
    },
    {
     "name": "stderr",
     "output_type": "stream",
     "text": [
      "┌ Info: Epoch 13\n",
      "└ @ ConvGRU /Users/kahingleung/.julia/packages/Flux/sY3yx/src/optimise/train.jl:136\n",
      "┌ Info: Epoch 14\n",
      "└ @ ConvGRU /Users/kahingleung/.julia/packages/Flux/sY3yx/src/optimise/train.jl:136\n"
     ]
    },
    {
     "name": "stdout",
     "output_type": "stream",
     "text": [
      "mse_loss(xtest, ytest) = 1.593764f0\n",
      "mse_loss(xtest, ytest) = 1.6071489f0\n"
     ]
    },
    {
     "name": "stderr",
     "output_type": "stream",
     "text": [
      "┌ Info: Epoch 15\n",
      "└ @ ConvGRU /Users/kahingleung/.julia/packages/Flux/sY3yx/src/optimise/train.jl:136\n"
     ]
    },
    {
     "name": "stdout",
     "output_type": "stream",
     "text": [
      "mse_loss(xtest, ytest) = 1.6098241f0\n"
     ]
    },
    {
     "name": "stderr",
     "output_type": "stream",
     "text": [
      "┌ Info: Epoch 16\n",
      "└ @ ConvGRU /Users/kahingleung/.julia/packages/Flux/sY3yx/src/optimise/train.jl:136\n"
     ]
    },
    {
     "name": "stdout",
     "output_type": "stream",
     "text": [
      "mse_loss(xtest, ytest) = 1.6033986f0\n"
     ]
    },
    {
     "name": "stderr",
     "output_type": "stream",
     "text": [
      "┌ Info: Epoch 17\n",
      "└ @ ConvGRU /Users/kahingleung/.julia/packages/Flux/sY3yx/src/optimise/train.jl:136\n"
     ]
    },
    {
     "name": "stdout",
     "output_type": "stream",
     "text": [
      "mse_loss(xtest, ytest) = 1.6000328f0\n"
     ]
    },
    {
     "name": "stderr",
     "output_type": "stream",
     "text": [
      "┌ Info: Epoch 18\n",
      "└ @ ConvGRU /Users/kahingleung/.julia/packages/Flux/sY3yx/src/optimise/train.jl:136\n"
     ]
    },
    {
     "name": "stdout",
     "output_type": "stream",
     "text": [
      "mse_loss(xtest, ytest) = 1.6085824f0\n"
     ]
    },
    {
     "name": "stderr",
     "output_type": "stream",
     "text": [
      "┌ Info: Epoch 19\n",
      "└ @ ConvGRU /Users/kahingleung/.julia/packages/Flux/sY3yx/src/optimise/train.jl:136\n"
     ]
    },
    {
     "name": "stdout",
     "output_type": "stream",
     "text": [
      "mse_loss(xtest, ytest) = 1.61673f0\n"
     ]
    },
    {
     "name": "stderr",
     "output_type": "stream",
     "text": [
      "┌ Info: Epoch 20\n",
      "└ @ ConvGRU /Users/kahingleung/.julia/packages/Flux/sY3yx/src/optimise/train.jl:136\n"
     ]
    },
    {
     "name": "stdout",
     "output_type": "stream",
     "text": [
      "mse_loss(xtest, ytest) = 1.6206404f0\n"
     ]
    },
    {
     "name": "stderr",
     "output_type": "stream",
     "text": [
      "┌ Info: Epoch 21\n",
      "└ @ ConvGRU /Users/kahingleung/.julia/packages/Flux/sY3yx/src/optimise/train.jl:136\n",
      "┌ Info: Epoch 22\n",
      "└ @ ConvGRU /Users/kahingleung/.julia/packages/Flux/sY3yx/src/optimise/train.jl:136\n"
     ]
    },
    {
     "name": "stdout",
     "output_type": "stream",
     "text": [
      "mse_loss(xtest, ytest) = 1.6248981f0\n",
      "mse_loss(xtest, ytest) = 1.6349998f0\n"
     ]
    },
    {
     "name": "stderr",
     "output_type": "stream",
     "text": [
      "┌ Info: Epoch 23\n",
      "└ @ ConvGRU /Users/kahingleung/.julia/packages/Flux/sY3yx/src/optimise/train.jl:136\n"
     ]
    },
    {
     "name": "stdout",
     "output_type": "stream",
     "text": [
      "mse_loss(xtest, ytest) = 1.6089123f0\n"
     ]
    },
    {
     "name": "stderr",
     "output_type": "stream",
     "text": [
      "┌ Info: Epoch 24\n",
      "└ @ ConvGRU /Users/kahingleung/.julia/packages/Flux/sY3yx/src/optimise/train.jl:136\n",
      "┌ Info: Epoch 25\n",
      "└ @ ConvGRU /Users/kahingleung/.julia/packages/Flux/sY3yx/src/optimise/train.jl:136\n"
     ]
    },
    {
     "name": "stdout",
     "output_type": "stream",
     "text": [
      "mse_loss(xtest, ytest) = 1.6153951f0\n",
      "mse_loss(xtest, ytest) = 1.6110933f0\n"
     ]
    },
    {
     "name": "stderr",
     "output_type": "stream",
     "text": [
      "┌ Info: Epoch 26\n",
      "└ @ ConvGRU /Users/kahingleung/.julia/packages/Flux/sY3yx/src/optimise/train.jl:136\n",
      "┌ Info: Epoch 27\n",
      "└ @ ConvGRU /Users/kahingleung/.julia/packages/Flux/sY3yx/src/optimise/train.jl:136\n"
     ]
    },
    {
     "name": "stdout",
     "output_type": "stream",
     "text": [
      "mse_loss(xtest, ytest) = 1.6295409f0\n",
      "mse_loss(xtest, ytest) = 1.640635f0\n"
     ]
    },
    {
     "name": "stderr",
     "output_type": "stream",
     "text": [
      "┌ Info: Epoch 28\n",
      "└ @ ConvGRU /Users/kahingleung/.julia/packages/Flux/sY3yx/src/optimise/train.jl:136\n"
     ]
    },
    {
     "name": "stdout",
     "output_type": "stream",
     "text": [
      "mse_loss(xtest, ytest) = 1.6280245f0\n"
     ]
    },
    {
     "name": "stderr",
     "output_type": "stream",
     "text": [
      "┌ Info: Epoch 29\n",
      "└ @ ConvGRU /Users/kahingleung/.julia/packages/Flux/sY3yx/src/optimise/train.jl:136\n"
     ]
    },
    {
     "name": "stdout",
     "output_type": "stream",
     "text": [
      "mse_loss(xtest, ytest) = 1.6305839f0\n"
     ]
    },
    {
     "name": "stderr",
     "output_type": "stream",
     "text": [
      "┌ Info: Epoch 30\n",
      "└ @ ConvGRU /Users/kahingleung/.julia/packages/Flux/sY3yx/src/optimise/train.jl:136\n"
     ]
    },
    {
     "name": "stdout",
     "output_type": "stream",
     "text": [
      "(250,)\n",
      "myObjective(df, seqlen, Nh, lr, sym * \"-\" * string(i)) = 1.6510146f0\n",
      "53020.003593813663804626\n",
      "mse_loss(xtest, ytest) = 1.9312936f0\n",
      "mse_loss(xtest, ytest) = 1.9241391f0\n"
     ]
    },
    {
     "name": "stderr",
     "output_type": "stream",
     "text": [
      "┌ Info: Epoch 1\n",
      "└ @ ConvGRU /Users/kahingleung/.julia/packages/Flux/sY3yx/src/optimise/train.jl:136\n",
      "┌ Info: Epoch 2\n",
      "└ @ ConvGRU /Users/kahingleung/.julia/packages/Flux/sY3yx/src/optimise/train.jl:136\n"
     ]
    },
    {
     "name": "stdout",
     "output_type": "stream",
     "text": [
      "mse_loss(xtest, ytest) = 1.9050468f0\n"
     ]
    },
    {
     "name": "stderr",
     "output_type": "stream",
     "text": [
      "┌ Info: Epoch 3\n",
      "└ @ ConvGRU /Users/kahingleung/.julia/packages/Flux/sY3yx/src/optimise/train.jl:136\n"
     ]
    },
    {
     "name": "stdout",
     "output_type": "stream",
     "text": [
      "mse_loss(xtest, ytest) = 1.909091f0\n",
      "mse_loss(xtest, ytest) = 1.919576f0\n"
     ]
    },
    {
     "name": "stderr",
     "output_type": "stream",
     "text": [
      "┌ Info: Epoch 4\n",
      "└ @ ConvGRU /Users/kahingleung/.julia/packages/Flux/sY3yx/src/optimise/train.jl:136\n"
     ]
    },
    {
     "name": "stdout",
     "output_type": "stream",
     "text": [
      "mse_loss(xtest, ytest) = 1.9146683f0\n"
     ]
    },
    {
     "name": "stderr",
     "output_type": "stream",
     "text": [
      "┌ Info: Epoch 5\n",
      "└ @ ConvGRU /Users/kahingleung/.julia/packages/Flux/sY3yx/src/optimise/train.jl:136\n"
     ]
    },
    {
     "name": "stdout",
     "output_type": "stream",
     "text": [
      "mse_loss(xtest, ytest) = 1.8990091f0\n"
     ]
    },
    {
     "name": "stderr",
     "output_type": "stream",
     "text": [
      "┌ Info: Epoch 6\n",
      "└ @ ConvGRU /Users/kahingleung/.julia/packages/Flux/sY3yx/src/optimise/train.jl:136\n"
     ]
    },
    {
     "name": "stdout",
     "output_type": "stream",
     "text": [
      "mse_loss(xtest, ytest) = 1.8924763f0\n"
     ]
    },
    {
     "name": "stderr",
     "output_type": "stream",
     "text": [
      "┌ Info: Epoch 7\n",
      "└ @ ConvGRU /Users/kahingleung/.julia/packages/Flux/sY3yx/src/optimise/train.jl:136\n"
     ]
    },
    {
     "name": "stdout",
     "output_type": "stream",
     "text": [
      "mse_loss(xtest, ytest) = 1.8755298f0\n"
     ]
    },
    {
     "name": "stderr",
     "output_type": "stream",
     "text": [
      "┌ Info: Epoch 8\n",
      "└ @ ConvGRU /Users/kahingleung/.julia/packages/Flux/sY3yx/src/optimise/train.jl:136\n",
      "┌ Info: Epoch 9\n",
      "└ @ ConvGRU /Users/kahingleung/.julia/packages/Flux/sY3yx/src/optimise/train.jl:136\n"
     ]
    },
    {
     "name": "stdout",
     "output_type": "stream",
     "text": [
      "mse_loss(xtest, ytest) = 1.8585113f0\n",
      "mse_loss(xtest, ytest) = 1.848518f0\n"
     ]
    },
    {
     "name": "stderr",
     "output_type": "stream",
     "text": [
      "┌ Info: Epoch 10\n",
      "└ @ ConvGRU /Users/kahingleung/.julia/packages/Flux/sY3yx/src/optimise/train.jl:136\n"
     ]
    },
    {
     "name": "stdout",
     "output_type": "stream",
     "text": [
      "mse_loss(xtest, ytest) = 1.8430837f0\n"
     ]
    },
    {
     "name": "stderr",
     "output_type": "stream",
     "text": [
      "┌ Info: Epoch 11\n",
      "└ @ ConvGRU /Users/kahingleung/.julia/packages/Flux/sY3yx/src/optimise/train.jl:136\n"
     ]
    },
    {
     "name": "stdout",
     "output_type": "stream",
     "text": [
      "mse_loss(xtest, ytest) = 1.8180741f0\n"
     ]
    },
    {
     "name": "stderr",
     "output_type": "stream",
     "text": [
      "┌ Info: Epoch 12\n",
      "└ @ ConvGRU /Users/kahingleung/.julia/packages/Flux/sY3yx/src/optimise/train.jl:136\n"
     ]
    },
    {
     "name": "stdout",
     "output_type": "stream",
     "text": [
      "mse_loss(xtest, ytest) = 1.8112714f0\n"
     ]
    },
    {
     "name": "stderr",
     "output_type": "stream",
     "text": [
      "┌ Info: Epoch 13\n",
      "└ @ ConvGRU /Users/kahingleung/.julia/packages/Flux/sY3yx/src/optimise/train.jl:136\n"
     ]
    },
    {
     "name": "stdout",
     "output_type": "stream",
     "text": [
      "mse_loss(xtest, ytest) = 1.7930771f0\n"
     ]
    },
    {
     "name": "stderr",
     "output_type": "stream",
     "text": [
      "┌ Info: Epoch 14\n",
      "└ @ ConvGRU /Users/kahingleung/.julia/packages/Flux/sY3yx/src/optimise/train.jl:136\n"
     ]
    },
    {
     "name": "stdout",
     "output_type": "stream",
     "text": [
      "mse_loss(xtest, ytest) = 1.7796571f0\n"
     ]
    },
    {
     "name": "stderr",
     "output_type": "stream",
     "text": [
      "┌ Info: Epoch 15\n",
      "└ @ ConvGRU /Users/kahingleung/.julia/packages/Flux/sY3yx/src/optimise/train.jl:136\n"
     ]
    },
    {
     "name": "stdout",
     "output_type": "stream",
     "text": [
      "mse_loss(xtest, ytest) = 1.7799646f0\n"
     ]
    },
    {
     "name": "stderr",
     "output_type": "stream",
     "text": [
      "┌ Info: Epoch 16\n",
      "└ @ ConvGRU /Users/kahingleung/.julia/packages/Flux/sY3yx/src/optimise/train.jl:136\n",
      "┌ Info: Epoch 17\n",
      "└ @ ConvGRU /Users/kahingleung/.julia/packages/Flux/sY3yx/src/optimise/train.jl:136\n"
     ]
    },
    {
     "name": "stdout",
     "output_type": "stream",
     "text": [
      "mse_loss(xtest, ytest) = 1.7811743f0\n",
      "mse_loss(xtest, ytest) = 1.7832851f0\n"
     ]
    },
    {
     "name": "stderr",
     "output_type": "stream",
     "text": [
      "┌ Info: Epoch 18\n",
      "└ @ ConvGRU /Users/kahingleung/.julia/packages/Flux/sY3yx/src/optimise/train.jl:136\n",
      "┌ Info: Epoch 19\n",
      "└ @ ConvGRU /Users/kahingleung/.julia/packages/Flux/sY3yx/src/optimise/train.jl:136\n"
     ]
    },
    {
     "name": "stdout",
     "output_type": "stream",
     "text": [
      "mse_loss(xtest, ytest) = 1.7846698f0\n",
      "mse_loss(xtest, ytest) = 1.79519f0\n"
     ]
    },
    {
     "name": "stderr",
     "output_type": "stream",
     "text": [
      "┌ Info: Epoch 20\n",
      "└ @ ConvGRU /Users/kahingleung/.julia/packages/Flux/sY3yx/src/optimise/train.jl:136\n"
     ]
    },
    {
     "name": "stdout",
     "output_type": "stream",
     "text": [
      "mse_loss(xtest, ytest) = 1.7944605f0\n"
     ]
    },
    {
     "name": "stderr",
     "output_type": "stream",
     "text": [
      "┌ Info: Epoch 21\n",
      "└ @ ConvGRU /Users/kahingleung/.julia/packages/Flux/sY3yx/src/optimise/train.jl:136\n"
     ]
    },
    {
     "name": "stdout",
     "output_type": "stream",
     "text": [
      "mse_loss(xtest, ytest) = 1.7889984f0\n"
     ]
    },
    {
     "name": "stderr",
     "output_type": "stream",
     "text": [
      "┌ Info: Epoch 22\n",
      "└ @ ConvGRU /Users/kahingleung/.julia/packages/Flux/sY3yx/src/optimise/train.jl:136\n"
     ]
    },
    {
     "name": "stdout",
     "output_type": "stream",
     "text": [
      "mse_loss(xtest, ytest) = 1.7928529f0\n"
     ]
    },
    {
     "name": "stderr",
     "output_type": "stream",
     "text": [
      "┌ Info: Epoch 23\n",
      "└ @ ConvGRU /Users/kahingleung/.julia/packages/Flux/sY3yx/src/optimise/train.jl:136\n"
     ]
    },
    {
     "name": "stdout",
     "output_type": "stream",
     "text": [
      "mse_loss(xtest, ytest) = 1.7971464f0\n"
     ]
    },
    {
     "name": "stderr",
     "output_type": "stream",
     "text": [
      "┌ Info: Epoch 24\n",
      "└ @ ConvGRU /Users/kahingleung/.julia/packages/Flux/sY3yx/src/optimise/train.jl:136\n",
      "┌ Info: Epoch 25\n",
      "└ @ ConvGRU /Users/kahingleung/.julia/packages/Flux/sY3yx/src/optimise/train.jl:136\n"
     ]
    },
    {
     "name": "stdout",
     "output_type": "stream",
     "text": [
      "mse_loss(xtest, ytest) = 1.7888956f0\n",
      "mse_loss(xtest, ytest) = 1.796008f0\n"
     ]
    },
    {
     "name": "stderr",
     "output_type": "stream",
     "text": [
      "┌ Info: Epoch 26\n",
      "└ @ ConvGRU /Users/kahingleung/.julia/packages/Flux/sY3yx/src/optimise/train.jl:136\n"
     ]
    },
    {
     "name": "stdout",
     "output_type": "stream",
     "text": [
      "mse_loss(xtest, ytest) = 1.8047786f0\n"
     ]
    },
    {
     "name": "stderr",
     "output_type": "stream",
     "text": [
      "┌ Info: Epoch 27\n",
      "└ @ ConvGRU /Users/kahingleung/.julia/packages/Flux/sY3yx/src/optimise/train.jl:136\n"
     ]
    },
    {
     "name": "stdout",
     "output_type": "stream",
     "text": [
      "mse_loss(xtest, ytest) = 1.7916621f0\n"
     ]
    },
    {
     "name": "stderr",
     "output_type": "stream",
     "text": [
      "┌ Info: Epoch 28\n",
      "└ @ ConvGRU /Users/kahingleung/.julia/packages/Flux/sY3yx/src/optimise/train.jl:136\n"
     ]
    },
    {
     "name": "stdout",
     "output_type": "stream",
     "text": [
      "mse_loss(xtest, ytest) = 1.8066707f0\n"
     ]
    },
    {
     "name": "stderr",
     "output_type": "stream",
     "text": [
      "┌ Info: Epoch 29\n",
      "└ @ ConvGRU /Users/kahingleung/.julia/packages/Flux/sY3yx/src/optimise/train.jl:136\n",
      "┌ Info: Epoch 30\n",
      "└ @ ConvGRU /Users/kahingleung/.julia/packages/Flux/sY3yx/src/optimise/train.jl:136\n"
     ]
    },
    {
     "name": "stdout",
     "output_type": "stream",
     "text": [
      "mse_loss(xtest, ytest) = 1.7997506f0\n",
      "(250,)\n",
      "myObjective(df, seqlen, Nh, lr, sym * \"-\" * string(i)) = 1.7766051f0\n",
      "63020.003593813663804626\n",
      "mse_loss(xtest, ytest) = 2.1012146f0\n",
      "mse_loss(xtest, ytest) = 2.1156313f0\n"
     ]
    },
    {
     "name": "stderr",
     "output_type": "stream",
     "text": [
      "┌ Info: Epoch 1\n",
      "└ @ ConvGRU /Users/kahingleung/.julia/packages/Flux/sY3yx/src/optimise/train.jl:136\n"
     ]
    },
    {
     "name": "stdout",
     "output_type": "stream",
     "text": [
      "mse_loss(xtest, ytest) = 2.0426388f0\n"
     ]
    },
    {
     "name": "stderr",
     "output_type": "stream",
     "text": [
      "┌ Info: Epoch 2\n",
      "└ @ ConvGRU /Users/kahingleung/.julia/packages/Flux/sY3yx/src/optimise/train.jl:136\n"
     ]
    },
    {
     "name": "stdout",
     "output_type": "stream",
     "text": [
      "mse_loss(xtest, ytest) = 1.9903741f0\n"
     ]
    },
    {
     "name": "stderr",
     "output_type": "stream",
     "text": [
      "┌ Info: Epoch 3\n",
      "└ @ ConvGRU /Users/kahingleung/.julia/packages/Flux/sY3yx/src/optimise/train.jl:136\n"
     ]
    },
    {
     "name": "stdout",
     "output_type": "stream",
     "text": [
      "mse_loss(xtest, ytest) = 1.9424095f0\n"
     ]
    },
    {
     "name": "stderr",
     "output_type": "stream",
     "text": [
      "┌ Info: Epoch 4\n",
      "└ @ ConvGRU /Users/kahingleung/.julia/packages/Flux/sY3yx/src/optimise/train.jl:136\n"
     ]
    },
    {
     "name": "stdout",
     "output_type": "stream",
     "text": [
      "mse_loss(xtest, ytest) = 1.9143106f0\n"
     ]
    },
    {
     "name": "stderr",
     "output_type": "stream",
     "text": [
      "┌ Info: Epoch 5\n",
      "└ @ ConvGRU /Users/kahingleung/.julia/packages/Flux/sY3yx/src/optimise/train.jl:136\n"
     ]
    },
    {
     "name": "stdout",
     "output_type": "stream",
     "text": [
      "mse_loss(xtest, ytest) = 1.8769283f0\n"
     ]
    },
    {
     "name": "stderr",
     "output_type": "stream",
     "text": [
      "┌ Info: Epoch 6\n",
      "└ @ ConvGRU /Users/kahingleung/.julia/packages/Flux/sY3yx/src/optimise/train.jl:136\n"
     ]
    },
    {
     "name": "stdout",
     "output_type": "stream",
     "text": [
      "mse_loss(xtest, ytest) = 1.8351434f0\n"
     ]
    },
    {
     "name": "stderr",
     "output_type": "stream",
     "text": [
      "┌ Info: Epoch 7\n",
      "└ @ ConvGRU /Users/kahingleung/.julia/packages/Flux/sY3yx/src/optimise/train.jl:136\n"
     ]
    },
    {
     "name": "stdout",
     "output_type": "stream",
     "text": [
      "mse_loss(xtest, ytest) = 1.8131758f0\n"
     ]
    },
    {
     "name": "stderr",
     "output_type": "stream",
     "text": [
      "┌ Info: Epoch 8\n",
      "└ @ ConvGRU /Users/kahingleung/.julia/packages/Flux/sY3yx/src/optimise/train.jl:136\n"
     ]
    },
    {
     "name": "stdout",
     "output_type": "stream",
     "text": [
      "mse_loss(xtest, ytest) = 1.7926782f0\n"
     ]
    },
    {
     "name": "stderr",
     "output_type": "stream",
     "text": [
      "┌ Info: Epoch 9\n",
      "└ @ ConvGRU /Users/kahingleung/.julia/packages/Flux/sY3yx/src/optimise/train.jl:136\n"
     ]
    },
    {
     "name": "stdout",
     "output_type": "stream",
     "text": [
      "mse_loss(xtest, ytest) = 1.7678245f0\n"
     ]
    },
    {
     "name": "stderr",
     "output_type": "stream",
     "text": [
      "┌ Info: Epoch 10\n",
      "└ @ ConvGRU /Users/kahingleung/.julia/packages/Flux/sY3yx/src/optimise/train.jl:136\n"
     ]
    },
    {
     "name": "stdout",
     "output_type": "stream",
     "text": [
      "mse_loss(xtest, ytest) = 1.7577075f0\n"
     ]
    },
    {
     "name": "stderr",
     "output_type": "stream",
     "text": [
      "┌ Info: Epoch 11\n",
      "└ @ ConvGRU /Users/kahingleung/.julia/packages/Flux/sY3yx/src/optimise/train.jl:136\n",
      "┌ Info: Epoch 12\n",
      "└ @ ConvGRU /Users/kahingleung/.julia/packages/Flux/sY3yx/src/optimise/train.jl:136\n"
     ]
    },
    {
     "name": "stdout",
     "output_type": "stream",
     "text": [
      "mse_loss(xtest, ytest) = 1.7741745f0\n",
      "mse_loss(xtest, ytest) = 1.7458538f0\n"
     ]
    },
    {
     "name": "stderr",
     "output_type": "stream",
     "text": [
      "┌ Info: Epoch 13\n",
      "└ @ ConvGRU /Users/kahingleung/.julia/packages/Flux/sY3yx/src/optimise/train.jl:136\n"
     ]
    },
    {
     "name": "stdout",
     "output_type": "stream",
     "text": [
      "mse_loss(xtest, ytest) = 1.7617496f0\n"
     ]
    },
    {
     "name": "stderr",
     "output_type": "stream",
     "text": [
      "┌ Info: Epoch 14\n",
      "└ @ ConvGRU /Users/kahingleung/.julia/packages/Flux/sY3yx/src/optimise/train.jl:136\n"
     ]
    },
    {
     "name": "stdout",
     "output_type": "stream",
     "text": [
      "mse_loss(xtest, ytest) = 1.7837782f0\n"
     ]
    },
    {
     "name": "stderr",
     "output_type": "stream",
     "text": [
      "┌ Info: Epoch 15\n",
      "└ @ ConvGRU /Users/kahingleung/.julia/packages/Flux/sY3yx/src/optimise/train.jl:136\n"
     ]
    },
    {
     "name": "stdout",
     "output_type": "stream",
     "text": [
      "mse_loss(xtest, ytest) = 1.773077f0\n"
     ]
    },
    {
     "name": "stderr",
     "output_type": "stream",
     "text": [
      "┌ Info: Epoch 16\n",
      "└ @ ConvGRU /Users/kahingleung/.julia/packages/Flux/sY3yx/src/optimise/train.jl:136\n"
     ]
    },
    {
     "name": "stdout",
     "output_type": "stream",
     "text": [
      "mse_loss(xtest, ytest) = 1.7907068f0\n"
     ]
    },
    {
     "name": "stderr",
     "output_type": "stream",
     "text": [
      "┌ Info: Epoch 17\n",
      "└ @ ConvGRU /Users/kahingleung/.julia/packages/Flux/sY3yx/src/optimise/train.jl:136\n"
     ]
    },
    {
     "name": "stdout",
     "output_type": "stream",
     "text": [
      "mse_loss(xtest, ytest) = 1.7354792f0\n"
     ]
    },
    {
     "name": "stderr",
     "output_type": "stream",
     "text": [
      "┌ Info: Epoch 18\n",
      "└ @ ConvGRU /Users/kahingleung/.julia/packages/Flux/sY3yx/src/optimise/train.jl:136\n",
      "┌ Info: Epoch 19\n",
      "└ @ ConvGRU /Users/kahingleung/.julia/packages/Flux/sY3yx/src/optimise/train.jl:136\n"
     ]
    },
    {
     "name": "stdout",
     "output_type": "stream",
     "text": [
      "mse_loss(xtest, ytest) = 1.7488321f0\n",
      "mse_loss(xtest, ytest) = 1.7246631f0\n"
     ]
    },
    {
     "name": "stderr",
     "output_type": "stream",
     "text": [
      "┌ Info: Epoch 20\n",
      "└ @ ConvGRU /Users/kahingleung/.julia/packages/Flux/sY3yx/src/optimise/train.jl:136\n",
      "┌ Info: Epoch 21\n",
      "└ @ ConvGRU /Users/kahingleung/.julia/packages/Flux/sY3yx/src/optimise/train.jl:136\n"
     ]
    },
    {
     "name": "stdout",
     "output_type": "stream",
     "text": [
      "mse_loss(xtest, ytest) = 1.7257646f0\n",
      "mse_loss(xtest, ytest) = 1.7304887f0\n"
     ]
    },
    {
     "name": "stderr",
     "output_type": "stream",
     "text": [
      "┌ Info: Epoch 22\n",
      "└ @ ConvGRU /Users/kahingleung/.julia/packages/Flux/sY3yx/src/optimise/train.jl:136\n"
     ]
    },
    {
     "name": "stdout",
     "output_type": "stream",
     "text": [
      "mse_loss(xtest, ytest) = 1.7419343f0\n"
     ]
    },
    {
     "name": "stderr",
     "output_type": "stream",
     "text": [
      "┌ Info: Epoch 23\n",
      "└ @ ConvGRU /Users/kahingleung/.julia/packages/Flux/sY3yx/src/optimise/train.jl:136\n"
     ]
    },
    {
     "name": "stdout",
     "output_type": "stream",
     "text": [
      "mse_loss(xtest, ytest) = 1.7410669f0\n"
     ]
    },
    {
     "name": "stderr",
     "output_type": "stream",
     "text": [
      "┌ Info: Epoch 24\n",
      "└ @ ConvGRU /Users/kahingleung/.julia/packages/Flux/sY3yx/src/optimise/train.jl:136\n"
     ]
    },
    {
     "name": "stdout",
     "output_type": "stream",
     "text": [
      "mse_loss(xtest, ytest) = 1.7764487f0\n"
     ]
    },
    {
     "name": "stderr",
     "output_type": "stream",
     "text": [
      "┌ Info: Epoch 25\n",
      "└ @ ConvGRU /Users/kahingleung/.julia/packages/Flux/sY3yx/src/optimise/train.jl:136\n"
     ]
    },
    {
     "name": "stdout",
     "output_type": "stream",
     "text": [
      "mse_loss(xtest, ytest) = 1.7593908f0\n"
     ]
    },
    {
     "name": "stderr",
     "output_type": "stream",
     "text": [
      "┌ Info: Epoch 26\n",
      "└ @ ConvGRU /Users/kahingleung/.julia/packages/Flux/sY3yx/src/optimise/train.jl:136\n",
      "┌ Info: Epoch 27\n",
      "└ @ ConvGRU /Users/kahingleung/.julia/packages/Flux/sY3yx/src/optimise/train.jl:136\n"
     ]
    },
    {
     "name": "stdout",
     "output_type": "stream",
     "text": [
      "mse_loss(xtest, ytest) = 1.7013423f0\n",
      "mse_loss(xtest, ytest) = 1.7397935f0\n"
     ]
    },
    {
     "name": "stderr",
     "output_type": "stream",
     "text": [
      "┌ Info: Epoch 28\n",
      "└ @ ConvGRU /Users/kahingleung/.julia/packages/Flux/sY3yx/src/optimise/train.jl:136\n"
     ]
    },
    {
     "name": "stdout",
     "output_type": "stream",
     "text": [
      "mse_loss(xtest, ytest) = 1.72328f0\n"
     ]
    },
    {
     "name": "stderr",
     "output_type": "stream",
     "text": [
      "┌ Info: Epoch 29\n",
      "└ @ ConvGRU /Users/kahingleung/.julia/packages/Flux/sY3yx/src/optimise/train.jl:136\n"
     ]
    },
    {
     "name": "stdout",
     "output_type": "stream",
     "text": [
      "mse_loss(xtest, ytest) = 1.7375131f0\n"
     ]
    },
    {
     "name": "stderr",
     "output_type": "stream",
     "text": [
      "┌ Info: Epoch 30\n",
      "└ @ ConvGRU /Users/kahingleung/.julia/packages/Flux/sY3yx/src/optimise/train.jl:136\n"
     ]
    },
    {
     "name": "stdout",
     "output_type": "stream",
     "text": [
      "(250,)\n",
      "myObjective(df, seqlen, Nh, lr, sym * \"-\" * string(i)) = 1.6990554f0\n",
      "73020.003593813663804626\n",
      "mse_loss(xtest, ytest) = 2.0475838f0\n",
      "mse_loss(xtest, ytest) = 2.0559397f0\n"
     ]
    },
    {
     "name": "stderr",
     "output_type": "stream",
     "text": [
      "┌ Info: Epoch 1\n",
      "└ @ ConvGRU /Users/kahingleung/.julia/packages/Flux/sY3yx/src/optimise/train.jl:136\n"
     ]
    },
    {
     "name": "stdout",
     "output_type": "stream",
     "text": [
      "mse_loss(xtest, ytest) = 2.0651648f0\n"
     ]
    },
    {
     "name": "stderr",
     "output_type": "stream",
     "text": [
      "┌ Info: Epoch 2\n",
      "└ @ ConvGRU /Users/kahingleung/.julia/packages/Flux/sY3yx/src/optimise/train.jl:136\n",
      "┌ Info: Epoch 3\n",
      "└ @ ConvGRU /Users/kahingleung/.julia/packages/Flux/sY3yx/src/optimise/train.jl:136\n"
     ]
    },
    {
     "name": "stdout",
     "output_type": "stream",
     "text": [
      "mse_loss(xtest, ytest) = 2.0743039f0\n",
      "mse_loss(xtest, ytest) = 2.0805717f0\n"
     ]
    },
    {
     "name": "stderr",
     "output_type": "stream",
     "text": [
      "┌ Info: Epoch 4\n",
      "└ @ ConvGRU /Users/kahingleung/.julia/packages/Flux/sY3yx/src/optimise/train.jl:136\n"
     ]
    },
    {
     "name": "stdout",
     "output_type": "stream",
     "text": [
      "mse_loss(xtest, ytest) = 2.083151f0\n"
     ]
    },
    {
     "name": "stderr",
     "output_type": "stream",
     "text": [
      "┌ Info: Epoch 5\n",
      "└ @ ConvGRU /Users/kahingleung/.julia/packages/Flux/sY3yx/src/optimise/train.jl:136\n"
     ]
    },
    {
     "name": "stdout",
     "output_type": "stream",
     "text": [
      "mse_loss(xtest, ytest) = 2.0819314f0\n"
     ]
    },
    {
     "name": "stderr",
     "output_type": "stream",
     "text": [
      "┌ Info: Epoch 6\n",
      "└ @ ConvGRU /Users/kahingleung/.julia/packages/Flux/sY3yx/src/optimise/train.jl:136\n"
     ]
    },
    {
     "name": "stdout",
     "output_type": "stream",
     "text": [
      "mse_loss(xtest, ytest) = 2.069612f0\n"
     ]
    },
    {
     "name": "stderr",
     "output_type": "stream",
     "text": [
      "┌ Info: Epoch 7\n",
      "└ @ ConvGRU /Users/kahingleung/.julia/packages/Flux/sY3yx/src/optimise/train.jl:136\n"
     ]
    },
    {
     "name": "stdout",
     "output_type": "stream",
     "text": [
      "mse_loss(xtest, ytest) = 2.0521555f0\n"
     ]
    },
    {
     "name": "stderr",
     "output_type": "stream",
     "text": [
      "┌ Info: Epoch 8\n",
      "└ @ ConvGRU /Users/kahingleung/.julia/packages/Flux/sY3yx/src/optimise/train.jl:136\n"
     ]
    },
    {
     "name": "stdout",
     "output_type": "stream",
     "text": [
      "mse_loss(xtest, ytest) = 2.0303767f0\n"
     ]
    },
    {
     "name": "stderr",
     "output_type": "stream",
     "text": [
      "┌ Info: Epoch 9\n",
      "└ @ ConvGRU /Users/kahingleung/.julia/packages/Flux/sY3yx/src/optimise/train.jl:136\n"
     ]
    },
    {
     "name": "stdout",
     "output_type": "stream",
     "text": [
      "mse_loss(xtest, ytest) = 1.9998312f0\n"
     ]
    },
    {
     "name": "stderr",
     "output_type": "stream",
     "text": [
      "┌ Info: Epoch 10\n",
      "└ @ ConvGRU /Users/kahingleung/.julia/packages/Flux/sY3yx/src/optimise/train.jl:136\n",
      "┌ Info: Epoch 11\n",
      "└ @ ConvGRU /Users/kahingleung/.julia/packages/Flux/sY3yx/src/optimise/train.jl:136\n"
     ]
    },
    {
     "name": "stdout",
     "output_type": "stream",
     "text": [
      "mse_loss(xtest, ytest) = 1.9726273f0\n",
      "mse_loss(xtest, ytest) = 1.9337038f0\n"
     ]
    },
    {
     "name": "stderr",
     "output_type": "stream",
     "text": [
      "┌ Info: Epoch 12\n",
      "└ @ ConvGRU /Users/kahingleung/.julia/packages/Flux/sY3yx/src/optimise/train.jl:136\n"
     ]
    },
    {
     "name": "stdout",
     "output_type": "stream",
     "text": [
      "mse_loss(xtest, ytest) = 1.9042838f0\n"
     ]
    },
    {
     "name": "stderr",
     "output_type": "stream",
     "text": [
      "┌ Info: Epoch 13\n",
      "└ @ ConvGRU /Users/kahingleung/.julia/packages/Flux/sY3yx/src/optimise/train.jl:136\n"
     ]
    },
    {
     "name": "stdout",
     "output_type": "stream",
     "text": [
      "mse_loss(xtest, ytest) = 1.87149f0\n"
     ]
    },
    {
     "name": "stderr",
     "output_type": "stream",
     "text": [
      "┌ Info: Epoch 14\n",
      "└ @ ConvGRU /Users/kahingleung/.julia/packages/Flux/sY3yx/src/optimise/train.jl:136\n"
     ]
    },
    {
     "name": "stdout",
     "output_type": "stream",
     "text": [
      "mse_loss(xtest, ytest) = 1.8463295f0\n"
     ]
    },
    {
     "name": "stderr",
     "output_type": "stream",
     "text": [
      "┌ Info: Epoch 15\n",
      "└ @ ConvGRU /Users/kahingleung/.julia/packages/Flux/sY3yx/src/optimise/train.jl:136\n"
     ]
    },
    {
     "name": "stdout",
     "output_type": "stream",
     "text": [
      "mse_loss(xtest, ytest) = 1.8270904f0\n"
     ]
    },
    {
     "name": "stderr",
     "output_type": "stream",
     "text": [
      "┌ Info: Epoch 16\n",
      "└ @ ConvGRU /Users/kahingleung/.julia/packages/Flux/sY3yx/src/optimise/train.jl:136\n"
     ]
    },
    {
     "name": "stdout",
     "output_type": "stream",
     "text": [
      "mse_loss(xtest, ytest) = 1.8021307f0\n"
     ]
    },
    {
     "name": "stderr",
     "output_type": "stream",
     "text": [
      "┌ Info: Epoch 17\n",
      "└ @ ConvGRU /Users/kahingleung/.julia/packages/Flux/sY3yx/src/optimise/train.jl:136\n"
     ]
    },
    {
     "name": "stdout",
     "output_type": "stream",
     "text": [
      "mse_loss(xtest, ytest) = 1.7902077f0\n"
     ]
    },
    {
     "name": "stderr",
     "output_type": "stream",
     "text": [
      "┌ Info: Epoch 18\n",
      "└ @ ConvGRU /Users/kahingleung/.julia/packages/Flux/sY3yx/src/optimise/train.jl:136\n"
     ]
    },
    {
     "name": "stdout",
     "output_type": "stream",
     "text": [
      "mse_loss(xtest, ytest) = 1.773267f0\n"
     ]
    },
    {
     "name": "stderr",
     "output_type": "stream",
     "text": [
      "┌ Info: Epoch 19\n",
      "└ @ ConvGRU /Users/kahingleung/.julia/packages/Flux/sY3yx/src/optimise/train.jl:136\n"
     ]
    },
    {
     "name": "stdout",
     "output_type": "stream",
     "text": [
      "mse_loss(xtest, ytest) = 1.7731202f0\n"
     ]
    },
    {
     "name": "stderr",
     "output_type": "stream",
     "text": [
      "┌ Info: Epoch 20\n",
      "└ @ ConvGRU /Users/kahingleung/.julia/packages/Flux/sY3yx/src/optimise/train.jl:136\n"
     ]
    },
    {
     "name": "stdout",
     "output_type": "stream",
     "text": [
      "mse_loss(xtest, ytest) = 1.757043f0\n"
     ]
    },
    {
     "name": "stderr",
     "output_type": "stream",
     "text": [
      "┌ Info: Epoch 21\n",
      "└ @ ConvGRU /Users/kahingleung/.julia/packages/Flux/sY3yx/src/optimise/train.jl:136\n"
     ]
    },
    {
     "name": "stdout",
     "output_type": "stream",
     "text": [
      "mse_loss(xtest, ytest) = 1.7506343f0\n"
     ]
    },
    {
     "name": "stderr",
     "output_type": "stream",
     "text": [
      "┌ Info: Epoch 22\n",
      "└ @ ConvGRU /Users/kahingleung/.julia/packages/Flux/sY3yx/src/optimise/train.jl:136\n"
     ]
    },
    {
     "name": "stdout",
     "output_type": "stream",
     "text": [
      "mse_loss(xtest, ytest) = 1.7574698f0\n"
     ]
    },
    {
     "name": "stderr",
     "output_type": "stream",
     "text": [
      "┌ Info: Epoch 23\n",
      "└ @ ConvGRU /Users/kahingleung/.julia/packages/Flux/sY3yx/src/optimise/train.jl:136\n"
     ]
    },
    {
     "name": "stdout",
     "output_type": "stream",
     "text": [
      "mse_loss(xtest, ytest) = 1.756211f0\n"
     ]
    },
    {
     "name": "stderr",
     "output_type": "stream",
     "text": [
      "┌ Info: Epoch 24\n",
      "└ @ ConvGRU /Users/kahingleung/.julia/packages/Flux/sY3yx/src/optimise/train.jl:136\n",
      "┌ Info: Epoch 25\n",
      "└ @ ConvGRU /Users/kahingleung/.julia/packages/Flux/sY3yx/src/optimise/train.jl:136\n"
     ]
    },
    {
     "name": "stdout",
     "output_type": "stream",
     "text": [
      "mse_loss(xtest, ytest) = 1.7550327f0\n",
      "mse_loss(xtest, ytest) = 1.7597127f0\n"
     ]
    },
    {
     "name": "stderr",
     "output_type": "stream",
     "text": [
      "┌ Info: Epoch 26\n",
      "└ @ ConvGRU /Users/kahingleung/.julia/packages/Flux/sY3yx/src/optimise/train.jl:136\n",
      "┌ Info: Epoch 27\n",
      "└ @ ConvGRU /Users/kahingleung/.julia/packages/Flux/sY3yx/src/optimise/train.jl:136\n"
     ]
    },
    {
     "name": "stdout",
     "output_type": "stream",
     "text": [
      "mse_loss(xtest, ytest) = 1.7537761f0\n",
      "mse_loss(xtest, ytest) = 1.7572362f0\n"
     ]
    },
    {
     "name": "stderr",
     "output_type": "stream",
     "text": [
      "┌ Info: Epoch 28\n",
      "└ @ ConvGRU /Users/kahingleung/.julia/packages/Flux/sY3yx/src/optimise/train.jl:136\n"
     ]
    },
    {
     "name": "stdout",
     "output_type": "stream",
     "text": [
      "mse_loss(xtest, ytest) = 1.774933f0\n"
     ]
    },
    {
     "name": "stderr",
     "output_type": "stream",
     "text": [
      "┌ Info: Epoch 29\n",
      "└ @ ConvGRU /Users/kahingleung/.julia/packages/Flux/sY3yx/src/optimise/train.jl:136\n"
     ]
    },
    {
     "name": "stdout",
     "output_type": "stream",
     "text": [
      "mse_loss(xtest, ytest) = 1.7667329f0\n"
     ]
    },
    {
     "name": "stderr",
     "output_type": "stream",
     "text": [
      "┌ Info: Epoch 30\n",
      "└ @ ConvGRU /Users/kahingleung/.julia/packages/Flux/sY3yx/src/optimise/train.jl:136\n"
     ]
    },
    {
     "name": "stdout",
     "output_type": "stream",
     "text": [
      "(250,)\n",
      "myObjective(df, seqlen, Nh, lr, sym * \"-\" * string(i)) = 1.7532582f0\n",
      "81520.007742636826811269\n",
      "mse_loss(xtest, ytest) = 2.50525f0\n",
      "mse_loss(xtest, ytest) = 2.4126947f0\n"
     ]
    },
    {
     "name": "stderr",
     "output_type": "stream",
     "text": [
      "┌ Info: Epoch 1\n",
      "└ @ ConvGRU /Users/kahingleung/.julia/packages/Flux/sY3yx/src/optimise/train.jl:136\n"
     ]
    },
    {
     "name": "stdout",
     "output_type": "stream",
     "text": [
      "mse_loss(xtest, ytest) = 2.125619f0\n"
     ]
    },
    {
     "name": "stderr",
     "output_type": "stream",
     "text": [
      "┌ Info: Epoch 2\n",
      "└ @ ConvGRU /Users/kahingleung/.julia/packages/Flux/sY3yx/src/optimise/train.jl:136\n"
     ]
    },
    {
     "name": "stdout",
     "output_type": "stream",
     "text": [
      "mse_loss(xtest, ytest) = 2.0822558f0\n"
     ]
    },
    {
     "name": "stderr",
     "output_type": "stream",
     "text": [
      "┌ Info: Epoch 3\n",
      "└ @ ConvGRU /Users/kahingleung/.julia/packages/Flux/sY3yx/src/optimise/train.jl:136\n"
     ]
    },
    {
     "name": "stdout",
     "output_type": "stream",
     "text": [
      "mse_loss(xtest, ytest) = 2.0623186f0\n"
     ]
    },
    {
     "name": "stderr",
     "output_type": "stream",
     "text": [
      "┌ Info: Epoch 4\n",
      "└ @ ConvGRU /Users/kahingleung/.julia/packages/Flux/sY3yx/src/optimise/train.jl:136\n"
     ]
    },
    {
     "name": "stdout",
     "output_type": "stream",
     "text": [
      "mse_loss(xtest, ytest) = 2.0481005f0\n"
     ]
    },
    {
     "name": "stderr",
     "output_type": "stream",
     "text": [
      "┌ Info: Epoch 5\n",
      "└ @ ConvGRU /Users/kahingleung/.julia/packages/Flux/sY3yx/src/optimise/train.jl:136\n"
     ]
    },
    {
     "name": "stdout",
     "output_type": "stream",
     "text": [
      "mse_loss(xtest, ytest) = 2.033131f0\n"
     ]
    },
    {
     "name": "stderr",
     "output_type": "stream",
     "text": [
      "┌ Info: Epoch 6\n",
      "└ @ ConvGRU /Users/kahingleung/.julia/packages/Flux/sY3yx/src/optimise/train.jl:136\n"
     ]
    },
    {
     "name": "stdout",
     "output_type": "stream",
     "text": [
      "mse_loss(xtest, ytest) = 2.030957f0\n"
     ]
    },
    {
     "name": "stderr",
     "output_type": "stream",
     "text": [
      "┌ Info: Epoch 7\n",
      "└ @ ConvGRU /Users/kahingleung/.julia/packages/Flux/sY3yx/src/optimise/train.jl:136\n"
     ]
    },
    {
     "name": "stdout",
     "output_type": "stream",
     "text": [
      "mse_loss(xtest, ytest) = 2.019296f0\n"
     ]
    },
    {
     "name": "stderr",
     "output_type": "stream",
     "text": [
      "┌ Info: Epoch 8\n",
      "└ @ ConvGRU /Users/kahingleung/.julia/packages/Flux/sY3yx/src/optimise/train.jl:136\n"
     ]
    },
    {
     "name": "stdout",
     "output_type": "stream",
     "text": [
      "mse_loss(xtest, ytest) = 1.9827963f0\n"
     ]
    },
    {
     "name": "stderr",
     "output_type": "stream",
     "text": [
      "┌ Info: Epoch 9\n",
      "└ @ ConvGRU /Users/kahingleung/.julia/packages/Flux/sY3yx/src/optimise/train.jl:136\n"
     ]
    },
    {
     "name": "stdout",
     "output_type": "stream",
     "text": [
      "mse_loss(xtest, ytest) = 1.9842479f0\n"
     ]
    },
    {
     "name": "stderr",
     "output_type": "stream",
     "text": [
      "┌ Info: Epoch 10\n",
      "└ @ ConvGRU /Users/kahingleung/.julia/packages/Flux/sY3yx/src/optimise/train.jl:136\n"
     ]
    },
    {
     "name": "stdout",
     "output_type": "stream",
     "text": [
      "mse_loss(xtest, ytest) = 1.9209118f0\n"
     ]
    },
    {
     "name": "stderr",
     "output_type": "stream",
     "text": [
      "┌ Info: Epoch 11\n",
      "└ @ ConvGRU /Users/kahingleung/.julia/packages/Flux/sY3yx/src/optimise/train.jl:136\n"
     ]
    },
    {
     "name": "stdout",
     "output_type": "stream",
     "text": [
      "mse_loss(xtest, ytest) = 1.8888279f0\n"
     ]
    },
    {
     "name": "stderr",
     "output_type": "stream",
     "text": [
      "┌ Info: Epoch 12\n",
      "└ @ ConvGRU /Users/kahingleung/.julia/packages/Flux/sY3yx/src/optimise/train.jl:136\n"
     ]
    },
    {
     "name": "stdout",
     "output_type": "stream",
     "text": [
      "mse_loss(xtest, ytest) = 1.8519208f0\n"
     ]
    },
    {
     "name": "stderr",
     "output_type": "stream",
     "text": [
      "┌ Info: Epoch 13\n",
      "└ @ ConvGRU /Users/kahingleung/.julia/packages/Flux/sY3yx/src/optimise/train.jl:136\n",
      "┌ Info: Epoch 14\n",
      "└ @ ConvGRU /Users/kahingleung/.julia/packages/Flux/sY3yx/src/optimise/train.jl:136\n"
     ]
    },
    {
     "name": "stdout",
     "output_type": "stream",
     "text": [
      "mse_loss(xtest, ytest) = 1.8428622f0\n",
      "mse_loss(xtest, ytest) = 1.8173039f0\n"
     ]
    },
    {
     "name": "stderr",
     "output_type": "stream",
     "text": [
      "┌ Info: Epoch 15\n",
      "└ @ ConvGRU /Users/kahingleung/.julia/packages/Flux/sY3yx/src/optimise/train.jl:136\n"
     ]
    },
    {
     "name": "stdout",
     "output_type": "stream",
     "text": [
      "mse_loss(xtest, ytest) = 1.8035178f0\n"
     ]
    },
    {
     "name": "stderr",
     "output_type": "stream",
     "text": [
      "┌ Info: Epoch 16\n",
      "└ @ ConvGRU /Users/kahingleung/.julia/packages/Flux/sY3yx/src/optimise/train.jl:136\n"
     ]
    },
    {
     "name": "stdout",
     "output_type": "stream",
     "text": [
      "mse_loss(xtest, ytest) = 1.8033786f0\n"
     ]
    },
    {
     "name": "stderr",
     "output_type": "stream",
     "text": [
      "┌ Info: Epoch 17\n",
      "└ @ ConvGRU /Users/kahingleung/.julia/packages/Flux/sY3yx/src/optimise/train.jl:136\n"
     ]
    },
    {
     "name": "stdout",
     "output_type": "stream",
     "text": [
      "mse_loss(xtest, ytest) = 1.7618734f0\n"
     ]
    },
    {
     "name": "stderr",
     "output_type": "stream",
     "text": [
      "┌ Info: Epoch 18\n",
      "└ @ ConvGRU /Users/kahingleung/.julia/packages/Flux/sY3yx/src/optimise/train.jl:136\n"
     ]
    },
    {
     "name": "stdout",
     "output_type": "stream",
     "text": [
      "mse_loss(xtest, ytest) = 1.8829191f0\n"
     ]
    },
    {
     "name": "stderr",
     "output_type": "stream",
     "text": [
      "┌ Info: Epoch 19\n",
      "└ @ ConvGRU /Users/kahingleung/.julia/packages/Flux/sY3yx/src/optimise/train.jl:136\n"
     ]
    },
    {
     "name": "stdout",
     "output_type": "stream",
     "text": [
      "mse_loss(xtest, ytest) = 1.7549298f0\n"
     ]
    },
    {
     "name": "stderr",
     "output_type": "stream",
     "text": [
      "┌ Info: Epoch 20\n",
      "└ @ ConvGRU /Users/kahingleung/.julia/packages/Flux/sY3yx/src/optimise/train.jl:136\n"
     ]
    },
    {
     "name": "stdout",
     "output_type": "stream",
     "text": [
      "mse_loss(xtest, ytest) = 1.7333429f0\n"
     ]
    },
    {
     "name": "stderr",
     "output_type": "stream",
     "text": [
      "┌ Info: Epoch 21\n",
      "└ @ ConvGRU /Users/kahingleung/.julia/packages/Flux/sY3yx/src/optimise/train.jl:136\n"
     ]
    },
    {
     "name": "stdout",
     "output_type": "stream",
     "text": [
      "mse_loss(xtest, ytest) = 1.7528048f0\n"
     ]
    },
    {
     "name": "stderr",
     "output_type": "stream",
     "text": [
      "┌ Info: Epoch 22\n",
      "└ @ ConvGRU /Users/kahingleung/.julia/packages/Flux/sY3yx/src/optimise/train.jl:136\n"
     ]
    },
    {
     "name": "stdout",
     "output_type": "stream",
     "text": [
      "mse_loss(xtest, ytest) = 1.7190242f0\n"
     ]
    },
    {
     "name": "stderr",
     "output_type": "stream",
     "text": [
      "┌ Info: Epoch 23\n",
      "└ @ ConvGRU /Users/kahingleung/.julia/packages/Flux/sY3yx/src/optimise/train.jl:136\n"
     ]
    },
    {
     "name": "stdout",
     "output_type": "stream",
     "text": [
      "mse_loss(xtest, ytest) = 1.713099f0\n"
     ]
    },
    {
     "name": "stderr",
     "output_type": "stream",
     "text": [
      "┌ Info: Epoch 24\n",
      "└ @ ConvGRU /Users/kahingleung/.julia/packages/Flux/sY3yx/src/optimise/train.jl:136\n"
     ]
    },
    {
     "name": "stdout",
     "output_type": "stream",
     "text": [
      "mse_loss(xtest, ytest) = 1.723871f0\n"
     ]
    },
    {
     "name": "stderr",
     "output_type": "stream",
     "text": [
      "┌ Info: Epoch 25\n",
      "└ @ ConvGRU /Users/kahingleung/.julia/packages/Flux/sY3yx/src/optimise/train.jl:136\n",
      "┌ Info: Epoch 26\n",
      "└ @ ConvGRU /Users/kahingleung/.julia/packages/Flux/sY3yx/src/optimise/train.jl:136\n"
     ]
    },
    {
     "name": "stdout",
     "output_type": "stream",
     "text": [
      "mse_loss(xtest, ytest) = 1.7463399f0\n",
      "mse_loss(xtest, ytest) = 1.6989839f0\n"
     ]
    },
    {
     "name": "stderr",
     "output_type": "stream",
     "text": [
      "┌ Info: Epoch 27\n",
      "└ @ ConvGRU /Users/kahingleung/.julia/packages/Flux/sY3yx/src/optimise/train.jl:136\n"
     ]
    },
    {
     "name": "stdout",
     "output_type": "stream",
     "text": [
      "mse_loss(xtest, ytest) = 1.7002181f0\n"
     ]
    },
    {
     "name": "stderr",
     "output_type": "stream",
     "text": [
      "┌ Info: Epoch 28\n",
      "└ @ ConvGRU /Users/kahingleung/.julia/packages/Flux/sY3yx/src/optimise/train.jl:136\n"
     ]
    },
    {
     "name": "stdout",
     "output_type": "stream",
     "text": [
      "mse_loss(xtest, ytest) = 1.739016f0\n"
     ]
    },
    {
     "name": "stderr",
     "output_type": "stream",
     "text": [
      "┌ Info: Epoch 29\n",
      "└ @ ConvGRU /Users/kahingleung/.julia/packages/Flux/sY3yx/src/optimise/train.jl:136\n"
     ]
    },
    {
     "name": "stdout",
     "output_type": "stream",
     "text": [
      "mse_loss(xtest, ytest) = 1.7586565f0\n"
     ]
    },
    {
     "name": "stderr",
     "output_type": "stream",
     "text": [
      "┌ Info: Epoch 30\n",
      "└ @ ConvGRU /Users/kahingleung/.julia/packages/Flux/sY3yx/src/optimise/train.jl:136\n"
     ]
    },
    {
     "name": "stdout",
     "output_type": "stream",
     "text": [
      "(250,)\n",
      "myObjective(df, seqlen, Nh, lr, sym * \"-\" * string(i)) = 1.7098087f0\n",
      "91080.007742636826811269\n",
      "mse_loss(xtest, ytest) = 2.167113f0\n",
      "mse_loss(xtest, ytest) = 2.0373085f0\n"
     ]
    },
    {
     "name": "stderr",
     "output_type": "stream",
     "text": [
      "┌ Info: Epoch 1\n",
      "└ @ ConvGRU /Users/kahingleung/.julia/packages/Flux/sY3yx/src/optimise/train.jl:136\n"
     ]
    },
    {
     "name": "stdout",
     "output_type": "stream",
     "text": [
      "mse_loss(xtest, ytest) = 1.8635601f0\n"
     ]
    },
    {
     "name": "stderr",
     "output_type": "stream",
     "text": [
      "┌ Info: Epoch 2\n",
      "└ @ ConvGRU /Users/kahingleung/.julia/packages/Flux/sY3yx/src/optimise/train.jl:136\n"
     ]
    },
    {
     "name": "stdout",
     "output_type": "stream",
     "text": [
      "mse_loss(xtest, ytest) = 1.7368863f0\n"
     ]
    },
    {
     "name": "stderr",
     "output_type": "stream",
     "text": [
      "┌ Info: Epoch 3\n",
      "└ @ ConvGRU /Users/kahingleung/.julia/packages/Flux/sY3yx/src/optimise/train.jl:136\n"
     ]
    },
    {
     "name": "stdout",
     "output_type": "stream",
     "text": [
      "mse_loss(xtest, ytest) = 1.7387382f0\n"
     ]
    },
    {
     "name": "stderr",
     "output_type": "stream",
     "text": [
      "┌ Info: Epoch 4\n",
      "└ @ ConvGRU /Users/kahingleung/.julia/packages/Flux/sY3yx/src/optimise/train.jl:136\n"
     ]
    },
    {
     "name": "stdout",
     "output_type": "stream",
     "text": [
      "mse_loss(xtest, ytest) = 1.7584637f0\n"
     ]
    },
    {
     "name": "stderr",
     "output_type": "stream",
     "text": [
      "┌ Info: Epoch 5\n",
      "└ @ ConvGRU /Users/kahingleung/.julia/packages/Flux/sY3yx/src/optimise/train.jl:136\n"
     ]
    },
    {
     "name": "stdout",
     "output_type": "stream",
     "text": [
      "mse_loss(xtest, ytest) = 1.7741716f0\n"
     ]
    },
    {
     "name": "stderr",
     "output_type": "stream",
     "text": [
      "┌ Info: Epoch 6\n",
      "└ @ ConvGRU /Users/kahingleung/.julia/packages/Flux/sY3yx/src/optimise/train.jl:136\n"
     ]
    },
    {
     "name": "stdout",
     "output_type": "stream",
     "text": [
      "mse_loss(xtest, ytest) = 1.753364f0\n"
     ]
    },
    {
     "name": "stderr",
     "output_type": "stream",
     "text": [
      "┌ Info: Epoch 7\n",
      "└ @ ConvGRU /Users/kahingleung/.julia/packages/Flux/sY3yx/src/optimise/train.jl:136\n"
     ]
    },
    {
     "name": "stdout",
     "output_type": "stream",
     "text": [
      "mse_loss(xtest, ytest) = 1.6186689f0\n"
     ]
    },
    {
     "name": "stderr",
     "output_type": "stream",
     "text": [
      "┌ Info: Epoch 8\n",
      "└ @ ConvGRU /Users/kahingleung/.julia/packages/Flux/sY3yx/src/optimise/train.jl:136\n"
     ]
    },
    {
     "name": "stdout",
     "output_type": "stream",
     "text": [
      "mse_loss(xtest, ytest) = 1.6347728f0\n"
     ]
    },
    {
     "name": "stderr",
     "output_type": "stream",
     "text": [
      "┌ Info: Epoch 9\n",
      "└ @ ConvGRU /Users/kahingleung/.julia/packages/Flux/sY3yx/src/optimise/train.jl:136\n"
     ]
    },
    {
     "name": "stdout",
     "output_type": "stream",
     "text": [
      "mse_loss(xtest, ytest) = 1.646501f0\n"
     ]
    },
    {
     "name": "stderr",
     "output_type": "stream",
     "text": [
      "┌ Info: Epoch 10\n",
      "└ @ ConvGRU /Users/kahingleung/.julia/packages/Flux/sY3yx/src/optimise/train.jl:136\n",
      "┌ Info: Epoch 11\n",
      "└ @ ConvGRU /Users/kahingleung/.julia/packages/Flux/sY3yx/src/optimise/train.jl:136\n"
     ]
    },
    {
     "name": "stdout",
     "output_type": "stream",
     "text": [
      "mse_loss(xtest, ytest) = 1.6691809f0\n",
      "mse_loss(xtest, ytest) = 1.671667f0\n"
     ]
    },
    {
     "name": "stderr",
     "output_type": "stream",
     "text": [
      "┌ Info: Epoch 12\n",
      "└ @ ConvGRU /Users/kahingleung/.julia/packages/Flux/sY3yx/src/optimise/train.jl:136\n"
     ]
    },
    {
     "name": "stdout",
     "output_type": "stream",
     "text": [
      "mse_loss(xtest, ytest) = 1.7562543f0\n"
     ]
    },
    {
     "name": "stderr",
     "output_type": "stream",
     "text": [
      "┌ Info: Epoch 13\n",
      "└ @ ConvGRU /Users/kahingleung/.julia/packages/Flux/sY3yx/src/optimise/train.jl:136\n",
      "┌ Info: Epoch 14\n",
      "└ @ ConvGRU /Users/kahingleung/.julia/packages/Flux/sY3yx/src/optimise/train.jl:136\n"
     ]
    },
    {
     "name": "stdout",
     "output_type": "stream",
     "text": [
      "mse_loss(xtest, ytest) = 1.7130686f0\n"
     ]
    },
    {
     "name": "stderr",
     "output_type": "stream",
     "text": [
      "┌ Info: Epoch 15\n",
      "└ @ ConvGRU /Users/kahingleung/.julia/packages/Flux/sY3yx/src/optimise/train.jl:136\n"
     ]
    },
    {
     "name": "stdout",
     "output_type": "stream",
     "text": [
      "mse_loss(xtest, ytest) = 1.6410954f0\n",
      "mse_loss(xtest, ytest) = 1.6451266f0\n"
     ]
    },
    {
     "name": "stderr",
     "output_type": "stream",
     "text": [
      "┌ Info: Epoch 16\n",
      "└ @ ConvGRU /Users/kahingleung/.julia/packages/Flux/sY3yx/src/optimise/train.jl:136\n"
     ]
    },
    {
     "name": "stdout",
     "output_type": "stream",
     "text": [
      "mse_loss(xtest, ytest) = 1.803853f0\n"
     ]
    },
    {
     "name": "stderr",
     "output_type": "stream",
     "text": [
      "┌ Info: Epoch 17\n",
      "└ @ ConvGRU /Users/kahingleung/.julia/packages/Flux/sY3yx/src/optimise/train.jl:136\n",
      "┌ Info: Epoch 18\n",
      "└ @ ConvGRU /Users/kahingleung/.julia/packages/Flux/sY3yx/src/optimise/train.jl:136\n"
     ]
    },
    {
     "name": "stdout",
     "output_type": "stream",
     "text": [
      "mse_loss(xtest, ytest) = 1.6847736f0\n",
      "mse_loss(xtest, ytest) = 1.638373f0\n"
     ]
    },
    {
     "name": "stderr",
     "output_type": "stream",
     "text": [
      "┌ Info: Epoch 19\n",
      "└ @ ConvGRU /Users/kahingleung/.julia/packages/Flux/sY3yx/src/optimise/train.jl:136\n"
     ]
    },
    {
     "name": "stdout",
     "output_type": "stream",
     "text": [
      "mse_loss(xtest, ytest) = 1.6651716f0\n"
     ]
    },
    {
     "name": "stderr",
     "output_type": "stream",
     "text": [
      "┌ Info: Epoch 20\n",
      "└ @ ConvGRU /Users/kahingleung/.julia/packages/Flux/sY3yx/src/optimise/train.jl:136\n"
     ]
    },
    {
     "name": "stdout",
     "output_type": "stream",
     "text": [
      "mse_loss(xtest, ytest) = 1.6555016f0\n"
     ]
    },
    {
     "name": "stderr",
     "output_type": "stream",
     "text": [
      "┌ Info: Epoch 21\n",
      "└ @ ConvGRU /Users/kahingleung/.julia/packages/Flux/sY3yx/src/optimise/train.jl:136\n"
     ]
    },
    {
     "name": "stdout",
     "output_type": "stream",
     "text": [
      "mse_loss(xtest, ytest) = 1.7254056f0\n"
     ]
    },
    {
     "name": "stderr",
     "output_type": "stream",
     "text": [
      "┌ Info: Epoch 22\n",
      "└ @ ConvGRU /Users/kahingleung/.julia/packages/Flux/sY3yx/src/optimise/train.jl:136\n"
     ]
    },
    {
     "name": "stdout",
     "output_type": "stream",
     "text": [
      "mse_loss(xtest, ytest) = 1.6878325f0\n"
     ]
    },
    {
     "name": "stderr",
     "output_type": "stream",
     "text": [
      "┌ Info: Epoch 23\n",
      "└ @ ConvGRU /Users/kahingleung/.julia/packages/Flux/sY3yx/src/optimise/train.jl:136\n"
     ]
    },
    {
     "name": "stdout",
     "output_type": "stream",
     "text": [
      "mse_loss(xtest, ytest) = 1.6297492f0\n"
     ]
    },
    {
     "name": "stderr",
     "output_type": "stream",
     "text": [
      "┌ Info: Epoch 24\n",
      "└ @ ConvGRU /Users/kahingleung/.julia/packages/Flux/sY3yx/src/optimise/train.jl:136\n"
     ]
    },
    {
     "name": "stdout",
     "output_type": "stream",
     "text": [
      "mse_loss(xtest, ytest) = 1.7089376f0\n"
     ]
    },
    {
     "name": "stderr",
     "output_type": "stream",
     "text": [
      "┌ Info: Epoch 25\n",
      "└ @ ConvGRU /Users/kahingleung/.julia/packages/Flux/sY3yx/src/optimise/train.jl:136\n",
      "┌ Info: Epoch 26\n",
      "└ @ ConvGRU /Users/kahingleung/.julia/packages/Flux/sY3yx/src/optimise/train.jl:136\n"
     ]
    },
    {
     "name": "stdout",
     "output_type": "stream",
     "text": [
      "mse_loss(xtest, ytest) = 1.7413846f0\n",
      "mse_loss(xtest, ytest) = 1.6509657f0\n"
     ]
    },
    {
     "name": "stderr",
     "output_type": "stream",
     "text": [
      "┌ Info: Epoch 27\n",
      "└ @ ConvGRU /Users/kahingleung/.julia/packages/Flux/sY3yx/src/optimise/train.jl:136\n"
     ]
    },
    {
     "name": "stdout",
     "output_type": "stream",
     "text": [
      "mse_loss(xtest, ytest) = 1.6433535f0\n"
     ]
    },
    {
     "name": "stderr",
     "output_type": "stream",
     "text": [
      "┌ Info: Epoch 28\n",
      "└ @ ConvGRU /Users/kahingleung/.julia/packages/Flux/sY3yx/src/optimise/train.jl:136\n",
      "┌ Info: Epoch 29\n",
      "└ @ ConvGRU /Users/kahingleung/.julia/packages/Flux/sY3yx/src/optimise/train.jl:136\n"
     ]
    },
    {
     "name": "stdout",
     "output_type": "stream",
     "text": [
      "mse_loss(xtest, ytest) = 1.6334759f0\n"
     ]
    },
    {
     "name": "stderr",
     "output_type": "stream",
     "text": [
      "┌ Info: Epoch 30\n",
      "└ @ ConvGRU /Users/kahingleung/.julia/packages/Flux/sY3yx/src/optimise/train.jl:136\n"
     ]
    },
    {
     "name": "stdout",
     "output_type": "stream",
     "text": [
      "mse_loss(xtest, ytest) = 1.6841027f0\n",
      "(250,)\n",
      "myObjective(df, seqlen, Nh, lr, sym * \"-\" * string(i)) = 1.6492916f0\n",
      "102080.0046415888336127815\n",
      "mse_loss(xtest, ytest) = 2.1194015f0\n",
      "mse_loss(xtest, ytest) = 2.0710433f0\n"
     ]
    },
    {
     "name": "stderr",
     "output_type": "stream",
     "text": [
      "┌ Info: Epoch 1\n",
      "└ @ ConvGRU /Users/kahingleung/.julia/packages/Flux/sY3yx/src/optimise/train.jl:136\n"
     ]
    },
    {
     "name": "stdout",
     "output_type": "stream",
     "text": [
      "mse_loss(xtest, ytest) = 1.9905423f0\n"
     ]
    },
    {
     "name": "stderr",
     "output_type": "stream",
     "text": [
      "┌ Info: Epoch 2\n",
      "└ @ ConvGRU /Users/kahingleung/.julia/packages/Flux/sY3yx/src/optimise/train.jl:136\n"
     ]
    },
    {
     "name": "stdout",
     "output_type": "stream",
     "text": [
      "mse_loss(xtest, ytest) = 1.9000955f0\n"
     ]
    },
    {
     "name": "stderr",
     "output_type": "stream",
     "text": [
      "┌ Info: Epoch 3\n",
      "└ @ ConvGRU /Users/kahingleung/.julia/packages/Flux/sY3yx/src/optimise/train.jl:136\n",
      "┌ Info: Epoch 4\n",
      "└ @ ConvGRU /Users/kahingleung/.julia/packages/Flux/sY3yx/src/optimise/train.jl:136\n"
     ]
    },
    {
     "name": "stdout",
     "output_type": "stream",
     "text": [
      "mse_loss(xtest, ytest) = 1.9893817f0\n",
      "mse_loss(xtest, ytest) = 1.9133971f0\n"
     ]
    },
    {
     "name": "stderr",
     "output_type": "stream",
     "text": [
      "┌ Info: Epoch 5\n",
      "└ @ ConvGRU /Users/kahingleung/.julia/packages/Flux/sY3yx/src/optimise/train.jl:136\n",
      "┌ Info: Epoch 6\n",
      "└ @ ConvGRU /Users/kahingleung/.julia/packages/Flux/sY3yx/src/optimise/train.jl:136\n"
     ]
    },
    {
     "name": "stdout",
     "output_type": "stream",
     "text": [
      "mse_loss(xtest, ytest) = 1.7040793f0\n",
      "mse_loss(xtest, ytest) = 1.6625704f0\n"
     ]
    },
    {
     "name": "stderr",
     "output_type": "stream",
     "text": [
      "┌ Info: Epoch 7\n",
      "└ @ ConvGRU /Users/kahingleung/.julia/packages/Flux/sY3yx/src/optimise/train.jl:136\n",
      "┌ Info: Epoch 8\n",
      "└ @ ConvGRU /Users/kahingleung/.julia/packages/Flux/sY3yx/src/optimise/train.jl:136\n"
     ]
    },
    {
     "name": "stdout",
     "output_type": "stream",
     "text": [
      "mse_loss(xtest, ytest) = 1.7947268f0\n",
      "mse_loss(xtest, ytest) = 1.7076694f0\n"
     ]
    },
    {
     "name": "stderr",
     "output_type": "stream",
     "text": [
      "┌ Info: Epoch 9\n",
      "└ @ ConvGRU /Users/kahingleung/.julia/packages/Flux/sY3yx/src/optimise/train.jl:136\n",
      "┌ Info: Epoch 10\n",
      "└ @ ConvGRU /Users/kahingleung/.julia/packages/Flux/sY3yx/src/optimise/train.jl:136\n"
     ]
    },
    {
     "name": "stdout",
     "output_type": "stream",
     "text": [
      "mse_loss(xtest, ytest) = 1.711377f0\n",
      "mse_loss(xtest, ytest) = 1.6201367f0\n"
     ]
    },
    {
     "name": "stderr",
     "output_type": "stream",
     "text": [
      "┌ Info: Epoch 11\n",
      "└ @ ConvGRU /Users/kahingleung/.julia/packages/Flux/sY3yx/src/optimise/train.jl:136\n"
     ]
    },
    {
     "name": "stdout",
     "output_type": "stream",
     "text": [
      "mse_loss(xtest, ytest) = 1.6727653f0\n"
     ]
    },
    {
     "name": "stderr",
     "output_type": "stream",
     "text": [
      "┌ Info: Epoch 12\n",
      "└ @ ConvGRU /Users/kahingleung/.julia/packages/Flux/sY3yx/src/optimise/train.jl:136\n",
      "┌ Info: Epoch 13\n",
      "└ @ ConvGRU /Users/kahingleung/.julia/packages/Flux/sY3yx/src/optimise/train.jl:136\n"
     ]
    },
    {
     "name": "stdout",
     "output_type": "stream",
     "text": [
      "mse_loss(xtest, ytest) = 1.70913f0\n",
      "mse_loss(xtest, ytest) = 1.7085955f0\n"
     ]
    },
    {
     "name": "stderr",
     "output_type": "stream",
     "text": [
      "┌ Info: Epoch 14\n",
      "└ @ ConvGRU /Users/kahingleung/.julia/packages/Flux/sY3yx/src/optimise/train.jl:136\n"
     ]
    },
    {
     "name": "stdout",
     "output_type": "stream",
     "text": [
      "mse_loss(xtest, ytest) = 1.7757279f0\n"
     ]
    },
    {
     "name": "stderr",
     "output_type": "stream",
     "text": [
      "┌ Info: Epoch 15\n",
      "└ @ ConvGRU /Users/kahingleung/.julia/packages/Flux/sY3yx/src/optimise/train.jl:136\n"
     ]
    },
    {
     "name": "stdout",
     "output_type": "stream",
     "text": [
      "mse_loss(xtest, ytest) = 1.8100344f0\n"
     ]
    },
    {
     "name": "stderr",
     "output_type": "stream",
     "text": [
      "┌ Info: Epoch 16\n",
      "└ @ ConvGRU /Users/kahingleung/.julia/packages/Flux/sY3yx/src/optimise/train.jl:136\n",
      "┌ Info: Epoch 17\n",
      "└ @ ConvGRU /Users/kahingleung/.julia/packages/Flux/sY3yx/src/optimise/train.jl:136\n"
     ]
    },
    {
     "name": "stdout",
     "output_type": "stream",
     "text": [
      "mse_loss(xtest, ytest) = 1.8329731f0\n",
      "mse_loss(xtest, ytest) = 2.1179798f0\n"
     ]
    },
    {
     "name": "stderr",
     "output_type": "stream",
     "text": [
      "┌ Info: Epoch 18\n",
      "└ @ ConvGRU /Users/kahingleung/.julia/packages/Flux/sY3yx/src/optimise/train.jl:136\n"
     ]
    },
    {
     "name": "stdout",
     "output_type": "stream",
     "text": [
      "mse_loss(xtest, ytest) = 1.8719336f0\n"
     ]
    },
    {
     "name": "stderr",
     "output_type": "stream",
     "text": [
      "┌ Info: Epoch 19\n",
      "└ @ ConvGRU /Users/kahingleung/.julia/packages/Flux/sY3yx/src/optimise/train.jl:136\n"
     ]
    },
    {
     "name": "stdout",
     "output_type": "stream",
     "text": [
      "mse_loss(xtest, ytest) = 1.6441063f0\n"
     ]
    },
    {
     "name": "stderr",
     "output_type": "stream",
     "text": [
      "┌ Info: Epoch 20\n",
      "└ @ ConvGRU /Users/kahingleung/.julia/packages/Flux/sY3yx/src/optimise/train.jl:136\n",
      "┌ Info: Epoch 21\n",
      "└ @ ConvGRU /Users/kahingleung/.julia/packages/Flux/sY3yx/src/optimise/train.jl:136\n"
     ]
    },
    {
     "name": "stdout",
     "output_type": "stream",
     "text": [
      "mse_loss(xtest, ytest) = 1.805615f0\n",
      "mse_loss(xtest, ytest) = 1.7211056f0\n"
     ]
    },
    {
     "name": "stderr",
     "output_type": "stream",
     "text": [
      "┌ Info: Epoch 22\n",
      "└ @ ConvGRU /Users/kahingleung/.julia/packages/Flux/sY3yx/src/optimise/train.jl:136\n"
     ]
    },
    {
     "name": "stdout",
     "output_type": "stream",
     "text": [
      "mse_loss(xtest, ytest) = 1.748028f0\n"
     ]
    },
    {
     "name": "stderr",
     "output_type": "stream",
     "text": [
      "┌ Info: Epoch 23\n",
      "└ @ ConvGRU /Users/kahingleung/.julia/packages/Flux/sY3yx/src/optimise/train.jl:136\n"
     ]
    },
    {
     "name": "stdout",
     "output_type": "stream",
     "text": [
      "mse_loss(xtest, ytest) = 2.0072808f0\n"
     ]
    },
    {
     "name": "stderr",
     "output_type": "stream",
     "text": [
      "┌ Info: Epoch 24\n",
      "└ @ ConvGRU /Users/kahingleung/.julia/packages/Flux/sY3yx/src/optimise/train.jl:136\n"
     ]
    },
    {
     "name": "stdout",
     "output_type": "stream",
     "text": [
      "mse_loss(xtest, ytest) = 1.7713795f0\n"
     ]
    },
    {
     "name": "stderr",
     "output_type": "stream",
     "text": [
      "┌ Info: Epoch 25\n",
      "└ @ ConvGRU /Users/kahingleung/.julia/packages/Flux/sY3yx/src/optimise/train.jl:136\n",
      "┌ Info: Epoch 26\n",
      "└ @ ConvGRU /Users/kahingleung/.julia/packages/Flux/sY3yx/src/optimise/train.jl:136\n"
     ]
    },
    {
     "name": "stdout",
     "output_type": "stream",
     "text": [
      "mse_loss(xtest, ytest) = 1.6696815f0\n",
      "mse_loss(xtest, ytest) = 1.7124052f0\n"
     ]
    },
    {
     "name": "stderr",
     "output_type": "stream",
     "text": [
      "┌ Info: Epoch 27\n",
      "└ @ ConvGRU /Users/kahingleung/.julia/packages/Flux/sY3yx/src/optimise/train.jl:136\n"
     ]
    },
    {
     "name": "stdout",
     "output_type": "stream",
     "text": [
      "mse_loss(xtest, ytest) = 1.8331095f0\n"
     ]
    },
    {
     "name": "stderr",
     "output_type": "stream",
     "text": [
      "┌ Info: Epoch 28\n",
      "└ @ ConvGRU /Users/kahingleung/.julia/packages/Flux/sY3yx/src/optimise/train.jl:136\n"
     ]
    },
    {
     "name": "stdout",
     "output_type": "stream",
     "text": [
      "mse_loss(xtest, ytest) = 1.6353465f0\n"
     ]
    },
    {
     "name": "stderr",
     "output_type": "stream",
     "text": [
      "┌ Info: Epoch 29\n",
      "└ @ ConvGRU /Users/kahingleung/.julia/packages/Flux/sY3yx/src/optimise/train.jl:136\n",
      "┌ Info: Epoch 30\n",
      "└ @ ConvGRU /Users/kahingleung/.julia/packages/Flux/sY3yx/src/optimise/train.jl:136\n"
     ]
    },
    {
     "name": "stdout",
     "output_type": "stream",
     "text": [
      "mse_loss(xtest, ytest) = 1.8341612f0\n",
      "(250,)\n",
      "myObjective(df, seqlen, Nh, lr, sym * \"-\" * string(i)) = 1.726389f0\n",
      "112020.0027825594022071257\n",
      "mse_loss(xtest, ytest) = 2.2417328f0\n",
      "mse_loss(xtest, ytest) = 2.2212794f0\n"
     ]
    },
    {
     "name": "stderr",
     "output_type": "stream",
     "text": [
      "┌ Info: Epoch 1\n",
      "└ @ ConvGRU /Users/kahingleung/.julia/packages/Flux/sY3yx/src/optimise/train.jl:136\n",
      "┌ Info: Epoch 2\n",
      "└ @ ConvGRU /Users/kahingleung/.julia/packages/Flux/sY3yx/src/optimise/train.jl:136\n"
     ]
    },
    {
     "name": "stdout",
     "output_type": "stream",
     "text": [
      "mse_loss(xtest, ytest) = 2.1674407f0\n",
      "mse_loss(xtest, ytest) = 2.133476f0\n"
     ]
    },
    {
     "name": "stderr",
     "output_type": "stream",
     "text": [
      "┌ Info: Epoch 3\n",
      "└ @ ConvGRU /Users/kahingleung/.julia/packages/Flux/sY3yx/src/optimise/train.jl:136\n"
     ]
    },
    {
     "name": "stdout",
     "output_type": "stream",
     "text": [
      "mse_loss(xtest, ytest) = 2.1114602f0\n"
     ]
    },
    {
     "name": "stderr",
     "output_type": "stream",
     "text": [
      "┌ Info: Epoch 4\n",
      "└ @ ConvGRU /Users/kahingleung/.julia/packages/Flux/sY3yx/src/optimise/train.jl:136\n"
     ]
    },
    {
     "name": "stdout",
     "output_type": "stream",
     "text": [
      "mse_loss(xtest, ytest) = 2.0965683f0\n"
     ]
    },
    {
     "name": "stderr",
     "output_type": "stream",
     "text": [
      "┌ Info: Epoch 5\n",
      "└ @ ConvGRU /Users/kahingleung/.julia/packages/Flux/sY3yx/src/optimise/train.jl:136\n"
     ]
    },
    {
     "name": "stdout",
     "output_type": "stream",
     "text": [
      "mse_loss(xtest, ytest) = 2.077413f0\n"
     ]
    },
    {
     "name": "stderr",
     "output_type": "stream",
     "text": [
      "┌ Info: Epoch 6\n",
      "└ @ ConvGRU /Users/kahingleung/.julia/packages/Flux/sY3yx/src/optimise/train.jl:136\n"
     ]
    },
    {
     "name": "stdout",
     "output_type": "stream",
     "text": [
      "mse_loss(xtest, ytest) = 2.0597293f0\n"
     ]
    },
    {
     "name": "stderr",
     "output_type": "stream",
     "text": [
      "┌ Info: Epoch 7\n",
      "└ @ ConvGRU /Users/kahingleung/.julia/packages/Flux/sY3yx/src/optimise/train.jl:136\n",
      "┌ Info: Epoch 8\n",
      "└ @ ConvGRU /Users/kahingleung/.julia/packages/Flux/sY3yx/src/optimise/train.jl:136\n"
     ]
    },
    {
     "name": "stdout",
     "output_type": "stream",
     "text": [
      "mse_loss(xtest, ytest) = 2.0514722f0\n",
      "mse_loss(xtest, ytest) = 2.04475f0\n"
     ]
    },
    {
     "name": "stderr",
     "output_type": "stream",
     "text": [
      "┌ Info: Epoch 9\n",
      "└ @ ConvGRU /Users/kahingleung/.julia/packages/Flux/sY3yx/src/optimise/train.jl:136\n"
     ]
    },
    {
     "name": "stdout",
     "output_type": "stream",
     "text": [
      "mse_loss(xtest, ytest) = 2.0236242f0\n"
     ]
    },
    {
     "name": "stderr",
     "output_type": "stream",
     "text": [
      "┌ Info: Epoch 10\n",
      "└ @ ConvGRU /Users/kahingleung/.julia/packages/Flux/sY3yx/src/optimise/train.jl:136\n"
     ]
    },
    {
     "name": "stdout",
     "output_type": "stream",
     "text": [
      "mse_loss(xtest, ytest) = 1.9873526f0\n"
     ]
    },
    {
     "name": "stderr",
     "output_type": "stream",
     "text": [
      "┌ Info: Epoch 11\n",
      "└ @ ConvGRU /Users/kahingleung/.julia/packages/Flux/sY3yx/src/optimise/train.jl:136\n"
     ]
    },
    {
     "name": "stdout",
     "output_type": "stream",
     "text": [
      "mse_loss(xtest, ytest) = 1.9586743f0\n"
     ]
    },
    {
     "name": "stderr",
     "output_type": "stream",
     "text": [
      "┌ Info: Epoch 12\n",
      "└ @ ConvGRU /Users/kahingleung/.julia/packages/Flux/sY3yx/src/optimise/train.jl:136\n"
     ]
    },
    {
     "name": "stdout",
     "output_type": "stream",
     "text": [
      "mse_loss(xtest, ytest) = 1.908557f0\n"
     ]
    },
    {
     "name": "stderr",
     "output_type": "stream",
     "text": [
      "┌ Info: Epoch 13\n",
      "└ @ ConvGRU /Users/kahingleung/.julia/packages/Flux/sY3yx/src/optimise/train.jl:136\n"
     ]
    },
    {
     "name": "stdout",
     "output_type": "stream",
     "text": [
      "mse_loss(xtest, ytest) = 1.8630637f0\n"
     ]
    },
    {
     "name": "stderr",
     "output_type": "stream",
     "text": [
      "┌ Info: Epoch 14\n",
      "└ @ ConvGRU /Users/kahingleung/.julia/packages/Flux/sY3yx/src/optimise/train.jl:136\n"
     ]
    },
    {
     "name": "stdout",
     "output_type": "stream",
     "text": [
      "mse_loss(xtest, ytest) = 1.8189096f0\n"
     ]
    },
    {
     "name": "stderr",
     "output_type": "stream",
     "text": [
      "┌ Info: Epoch 15\n",
      "└ @ ConvGRU /Users/kahingleung/.julia/packages/Flux/sY3yx/src/optimise/train.jl:136\n"
     ]
    },
    {
     "name": "stdout",
     "output_type": "stream",
     "text": [
      "mse_loss(xtest, ytest) = 1.8097973f0\n"
     ]
    },
    {
     "name": "stderr",
     "output_type": "stream",
     "text": [
      "┌ Info: Epoch 16\n",
      "└ @ ConvGRU /Users/kahingleung/.julia/packages/Flux/sY3yx/src/optimise/train.jl:136\n"
     ]
    },
    {
     "name": "stdout",
     "output_type": "stream",
     "text": [
      "mse_loss(xtest, ytest) = 1.7784619f0\n"
     ]
    },
    {
     "name": "stderr",
     "output_type": "stream",
     "text": [
      "┌ Info: Epoch 17\n",
      "└ @ ConvGRU /Users/kahingleung/.julia/packages/Flux/sY3yx/src/optimise/train.jl:136\n"
     ]
    },
    {
     "name": "stdout",
     "output_type": "stream",
     "text": [
      "mse_loss(xtest, ytest) = 1.7702045f0\n"
     ]
    },
    {
     "name": "stderr",
     "output_type": "stream",
     "text": [
      "┌ Info: Epoch 18\n",
      "└ @ ConvGRU /Users/kahingleung/.julia/packages/Flux/sY3yx/src/optimise/train.jl:136\n"
     ]
    },
    {
     "name": "stdout",
     "output_type": "stream",
     "text": [
      "mse_loss(xtest, ytest) = 1.7545947f0\n"
     ]
    },
    {
     "name": "stderr",
     "output_type": "stream",
     "text": [
      "┌ Info: Epoch 19\n",
      "└ @ ConvGRU /Users/kahingleung/.julia/packages/Flux/sY3yx/src/optimise/train.jl:136\n"
     ]
    },
    {
     "name": "stdout",
     "output_type": "stream",
     "text": [
      "mse_loss(xtest, ytest) = 1.7397137f0\n"
     ]
    },
    {
     "name": "stderr",
     "output_type": "stream",
     "text": [
      "┌ Info: Epoch 20\n",
      "└ @ ConvGRU /Users/kahingleung/.julia/packages/Flux/sY3yx/src/optimise/train.jl:136\n",
      "┌ Info: Epoch 21\n",
      "└ @ ConvGRU /Users/kahingleung/.julia/packages/Flux/sY3yx/src/optimise/train.jl:136\n"
     ]
    },
    {
     "name": "stdout",
     "output_type": "stream",
     "text": [
      "mse_loss(xtest, ytest) = 1.7456013f0\n",
      "mse_loss(xtest, ytest) = 1.7240022f0\n"
     ]
    },
    {
     "name": "stderr",
     "output_type": "stream",
     "text": [
      "┌ Info: Epoch 22\n",
      "└ @ ConvGRU /Users/kahingleung/.julia/packages/Flux/sY3yx/src/optimise/train.jl:136\n"
     ]
    },
    {
     "name": "stdout",
     "output_type": "stream",
     "text": [
      "mse_loss(xtest, ytest) = 1.7289584f0\n"
     ]
    },
    {
     "name": "stderr",
     "output_type": "stream",
     "text": [
      "┌ Info: Epoch 23\n",
      "└ @ ConvGRU /Users/kahingleung/.julia/packages/Flux/sY3yx/src/optimise/train.jl:136\n"
     ]
    },
    {
     "name": "stdout",
     "output_type": "stream",
     "text": [
      "mse_loss(xtest, ytest) = 1.7114938f0\n"
     ]
    },
    {
     "name": "stderr",
     "output_type": "stream",
     "text": [
      "┌ Info: Epoch 24\n",
      "└ @ ConvGRU /Users/kahingleung/.julia/packages/Flux/sY3yx/src/optimise/train.jl:136\n"
     ]
    },
    {
     "name": "stdout",
     "output_type": "stream",
     "text": [
      "mse_loss(xtest, ytest) = 1.7004466f0\n"
     ]
    },
    {
     "name": "stderr",
     "output_type": "stream",
     "text": [
      "┌ Info: Epoch 25\n",
      "└ @ ConvGRU /Users/kahingleung/.julia/packages/Flux/sY3yx/src/optimise/train.jl:136\n",
      "┌ Info: Epoch 26\n",
      "└ @ ConvGRU /Users/kahingleung/.julia/packages/Flux/sY3yx/src/optimise/train.jl:136\n"
     ]
    },
    {
     "name": "stdout",
     "output_type": "stream",
     "text": [
      "mse_loss(xtest, ytest) = 1.7063395f0\n",
      "mse_loss(xtest, ytest) = 1.6894695f0\n"
     ]
    },
    {
     "name": "stderr",
     "output_type": "stream",
     "text": [
      "┌ Info: Epoch 27\n",
      "└ @ ConvGRU /Users/kahingleung/.julia/packages/Flux/sY3yx/src/optimise/train.jl:136\n"
     ]
    },
    {
     "name": "stdout",
     "output_type": "stream",
     "text": [
      "mse_loss(xtest, ytest) = 1.6975476f0\n"
     ]
    },
    {
     "name": "stderr",
     "output_type": "stream",
     "text": [
      "┌ Info: Epoch 28\n",
      "└ @ ConvGRU /Users/kahingleung/.julia/packages/Flux/sY3yx/src/optimise/train.jl:136\n"
     ]
    },
    {
     "name": "stdout",
     "output_type": "stream",
     "text": [
      "mse_loss(xtest, ytest) = 1.6839424f0\n"
     ]
    },
    {
     "name": "stderr",
     "output_type": "stream",
     "text": [
      "┌ Info: Epoch 29\n",
      "└ @ ConvGRU /Users/kahingleung/.julia/packages/Flux/sY3yx/src/optimise/train.jl:136\n"
     ]
    },
    {
     "name": "stdout",
     "output_type": "stream",
     "text": [
      "mse_loss(xtest, ytest) = 1.6782551f0\n"
     ]
    },
    {
     "name": "stderr",
     "output_type": "stream",
     "text": [
      "┌ Info: Epoch 30\n",
      "└ @ ConvGRU /Users/kahingleung/.julia/packages/Flux/sY3yx/src/optimise/train.jl:136\n"
     ]
    },
    {
     "name": "stdout",
     "output_type": "stream",
     "text": [
      "(250,)\n",
      "myObjective(df, seqlen, Nh, lr, sym * \"-\" * string(i)) = 1.6949124f0\n",
      "122060.007742636826811269\n",
      "mse_loss(xtest, ytest) = 1.9921701f0\n",
      "mse_loss(xtest, ytest) = 1.9528639f0\n"
     ]
    },
    {
     "name": "stderr",
     "output_type": "stream",
     "text": [
      "┌ Info: Epoch 1\n",
      "└ @ ConvGRU /Users/kahingleung/.julia/packages/Flux/sY3yx/src/optimise/train.jl:136\n"
     ]
    },
    {
     "name": "stdout",
     "output_type": "stream",
     "text": [
      "mse_loss(xtest, ytest) = 1.9302132f0\n"
     ]
    },
    {
     "name": "stderr",
     "output_type": "stream",
     "text": [
      "┌ Info: Epoch 2\n",
      "└ @ ConvGRU /Users/kahingleung/.julia/packages/Flux/sY3yx/src/optimise/train.jl:136\n"
     ]
    },
    {
     "name": "stdout",
     "output_type": "stream",
     "text": [
      "mse_loss(xtest, ytest) = 1.8112872f0\n"
     ]
    },
    {
     "name": "stderr",
     "output_type": "stream",
     "text": [
      "┌ Info: Epoch 3\n",
      "└ @ ConvGRU /Users/kahingleung/.julia/packages/Flux/sY3yx/src/optimise/train.jl:136\n",
      "┌ Info: Epoch 4\n",
      "└ @ ConvGRU /Users/kahingleung/.julia/packages/Flux/sY3yx/src/optimise/train.jl:136\n"
     ]
    },
    {
     "name": "stdout",
     "output_type": "stream",
     "text": [
      "mse_loss(xtest, ytest) = 1.7692115f0\n",
      "mse_loss(xtest, ytest) = 1.8185021f0\n"
     ]
    },
    {
     "name": "stderr",
     "output_type": "stream",
     "text": [
      "┌ Info: Epoch 5\n",
      "└ @ ConvGRU /Users/kahingleung/.julia/packages/Flux/sY3yx/src/optimise/train.jl:136\n"
     ]
    },
    {
     "name": "stdout",
     "output_type": "stream",
     "text": [
      "mse_loss(xtest, ytest) = 1.8235236f0\n"
     ]
    },
    {
     "name": "stderr",
     "output_type": "stream",
     "text": [
      "┌ Info: Epoch 6\n",
      "└ @ ConvGRU /Users/kahingleung/.julia/packages/Flux/sY3yx/src/optimise/train.jl:136\n",
      "┌ Info: Epoch 7\n",
      "└ @ ConvGRU /Users/kahingleung/.julia/packages/Flux/sY3yx/src/optimise/train.jl:136\n"
     ]
    },
    {
     "name": "stdout",
     "output_type": "stream",
     "text": [
      "mse_loss(xtest, ytest) = 1.6786116f0\n"
     ]
    },
    {
     "name": "stderr",
     "output_type": "stream",
     "text": [
      "┌ Info: Epoch 8\n",
      "└ @ ConvGRU /Users/kahingleung/.julia/packages/Flux/sY3yx/src/optimise/train.jl:136\n"
     ]
    },
    {
     "name": "stdout",
     "output_type": "stream",
     "text": [
      "mse_loss(xtest, ytest) = 1.8225644f0\n",
      "mse_loss(xtest, ytest) = 1.7495406f0\n"
     ]
    },
    {
     "name": "stderr",
     "output_type": "stream",
     "text": [
      "┌ Info: Epoch 9\n",
      "└ @ ConvGRU /Users/kahingleung/.julia/packages/Flux/sY3yx/src/optimise/train.jl:136\n"
     ]
    },
    {
     "name": "stdout",
     "output_type": "stream",
     "text": [
      "mse_loss(xtest, ytest) = 1.6963562f0\n"
     ]
    },
    {
     "name": "stderr",
     "output_type": "stream",
     "text": [
      "┌ Info: Epoch 10\n",
      "└ @ ConvGRU /Users/kahingleung/.julia/packages/Flux/sY3yx/src/optimise/train.jl:136\n",
      "┌ Info: Epoch 11\n",
      "└ @ ConvGRU /Users/kahingleung/.julia/packages/Flux/sY3yx/src/optimise/train.jl:136\n"
     ]
    },
    {
     "name": "stdout",
     "output_type": "stream",
     "text": [
      "mse_loss(xtest, ytest) = 1.6983149f0\n",
      "mse_loss(xtest, ytest) = 1.6894039f0\n"
     ]
    },
    {
     "name": "stderr",
     "output_type": "stream",
     "text": [
      "┌ Info: Epoch 12\n",
      "└ @ ConvGRU /Users/kahingleung/.julia/packages/Flux/sY3yx/src/optimise/train.jl:136\n"
     ]
    },
    {
     "name": "stdout",
     "output_type": "stream",
     "text": [
      "mse_loss(xtest, ytest) = 1.668241f0\n"
     ]
    },
    {
     "name": "stderr",
     "output_type": "stream",
     "text": [
      "┌ Info: Epoch 13\n",
      "└ @ ConvGRU /Users/kahingleung/.julia/packages/Flux/sY3yx/src/optimise/train.jl:136\n"
     ]
    },
    {
     "name": "stdout",
     "output_type": "stream",
     "text": [
      "mse_loss(xtest, ytest) = 1.6913873f0\n"
     ]
    },
    {
     "name": "stderr",
     "output_type": "stream",
     "text": [
      "┌ Info: Epoch 14\n",
      "└ @ ConvGRU /Users/kahingleung/.julia/packages/Flux/sY3yx/src/optimise/train.jl:136\n",
      "┌ Info: Epoch 15\n",
      "└ @ ConvGRU /Users/kahingleung/.julia/packages/Flux/sY3yx/src/optimise/train.jl:136\n"
     ]
    },
    {
     "name": "stdout",
     "output_type": "stream",
     "text": [
      "mse_loss(xtest, ytest) = 1.7367771f0\n",
      "mse_loss(xtest, ytest) = 1.6201177f0\n"
     ]
    },
    {
     "name": "stderr",
     "output_type": "stream",
     "text": [
      "┌ Info: Epoch 16\n",
      "└ @ ConvGRU /Users/kahingleung/.julia/packages/Flux/sY3yx/src/optimise/train.jl:136\n"
     ]
    },
    {
     "name": "stdout",
     "output_type": "stream",
     "text": [
      "mse_loss(xtest, ytest) = 1.5846591f0\n"
     ]
    },
    {
     "name": "stderr",
     "output_type": "stream",
     "text": [
      "┌ Info: Epoch 17\n",
      "└ @ ConvGRU /Users/kahingleung/.julia/packages/Flux/sY3yx/src/optimise/train.jl:136\n"
     ]
    },
    {
     "name": "stdout",
     "output_type": "stream",
     "text": [
      "mse_loss(xtest, ytest) = 1.5758849f0\n"
     ]
    },
    {
     "name": "stderr",
     "output_type": "stream",
     "text": [
      "┌ Info: Epoch 18\n",
      "└ @ ConvGRU /Users/kahingleung/.julia/packages/Flux/sY3yx/src/optimise/train.jl:136\n"
     ]
    },
    {
     "name": "stdout",
     "output_type": "stream",
     "text": [
      "mse_loss(xtest, ytest) = 1.5855045f0\n"
     ]
    },
    {
     "name": "stderr",
     "output_type": "stream",
     "text": [
      "┌ Info: Epoch 19\n",
      "└ @ ConvGRU /Users/kahingleung/.julia/packages/Flux/sY3yx/src/optimise/train.jl:136\n"
     ]
    },
    {
     "name": "stdout",
     "output_type": "stream",
     "text": [
      "mse_loss(xtest, ytest) = 1.6571671f0\n"
     ]
    },
    {
     "name": "stderr",
     "output_type": "stream",
     "text": [
      "┌ Info: Epoch 20\n",
      "└ @ ConvGRU /Users/kahingleung/.julia/packages/Flux/sY3yx/src/optimise/train.jl:136\n"
     ]
    },
    {
     "name": "stdout",
     "output_type": "stream",
     "text": [
      "mse_loss(xtest, ytest) = 1.6280162f0\n"
     ]
    },
    {
     "name": "stderr",
     "output_type": "stream",
     "text": [
      "┌ Info: Epoch 21\n",
      "└ @ ConvGRU /Users/kahingleung/.julia/packages/Flux/sY3yx/src/optimise/train.jl:136\n",
      "┌ Info: Epoch 22\n",
      "└ @ ConvGRU /Users/kahingleung/.julia/packages/Flux/sY3yx/src/optimise/train.jl:136\n"
     ]
    },
    {
     "name": "stdout",
     "output_type": "stream",
     "text": [
      "mse_loss(xtest, ytest) = 1.6228645f0\n",
      "mse_loss(xtest, ytest) = 1.6235636f0\n"
     ]
    },
    {
     "name": "stderr",
     "output_type": "stream",
     "text": [
      "┌ Info: Epoch 23\n",
      "└ @ ConvGRU /Users/kahingleung/.julia/packages/Flux/sY3yx/src/optimise/train.jl:136\n"
     ]
    },
    {
     "name": "stdout",
     "output_type": "stream",
     "text": [
      "mse_loss(xtest, ytest) = 1.6524199f0\n"
     ]
    },
    {
     "name": "stderr",
     "output_type": "stream",
     "text": [
      "┌ Info: Epoch 24\n",
      "└ @ ConvGRU /Users/kahingleung/.julia/packages/Flux/sY3yx/src/optimise/train.jl:136\n"
     ]
    },
    {
     "name": "stdout",
     "output_type": "stream",
     "text": [
      "mse_loss(xtest, ytest) = 1.6415886f0\n"
     ]
    },
    {
     "name": "stderr",
     "output_type": "stream",
     "text": [
      "┌ Info: Epoch 25\n",
      "└ @ ConvGRU /Users/kahingleung/.julia/packages/Flux/sY3yx/src/optimise/train.jl:136\n"
     ]
    },
    {
     "name": "stdout",
     "output_type": "stream",
     "text": [
      "mse_loss(xtest, ytest) = 1.7078074f0\n"
     ]
    },
    {
     "name": "stderr",
     "output_type": "stream",
     "text": [
      "┌ Info: Epoch 26\n",
      "└ @ ConvGRU /Users/kahingleung/.julia/packages/Flux/sY3yx/src/optimise/train.jl:136\n"
     ]
    },
    {
     "name": "stdout",
     "output_type": "stream",
     "text": [
      "mse_loss(xtest, ytest) = 1.6432786f0\n"
     ]
    },
    {
     "name": "stderr",
     "output_type": "stream",
     "text": [
      "┌ Info: Epoch 27\n",
      "└ @ ConvGRU /Users/kahingleung/.julia/packages/Flux/sY3yx/src/optimise/train.jl:136\n"
     ]
    },
    {
     "name": "stdout",
     "output_type": "stream",
     "text": [
      "mse_loss(xtest, ytest) = 1.7264991f0\n"
     ]
    },
    {
     "name": "stderr",
     "output_type": "stream",
     "text": [
      "┌ Info: Epoch 28\n",
      "└ @ ConvGRU /Users/kahingleung/.julia/packages/Flux/sY3yx/src/optimise/train.jl:136\n"
     ]
    },
    {
     "name": "stdout",
     "output_type": "stream",
     "text": [
      "mse_loss(xtest, ytest) = 1.6697805f0\n"
     ]
    },
    {
     "name": "stderr",
     "output_type": "stream",
     "text": [
      "┌ Info: Epoch 29\n",
      "└ @ ConvGRU /Users/kahingleung/.julia/packages/Flux/sY3yx/src/optimise/train.jl:136\n",
      "┌ Info: Epoch 30\n",
      "└ @ ConvGRU /Users/kahingleung/.julia/packages/Flux/sY3yx/src/optimise/train.jl:136\n"
     ]
    },
    {
     "name": "stdout",
     "output_type": "stream",
     "text": [
      "mse_loss(xtest, ytest) = 1.6804756f0\n",
      "(250,)\n",
      "myObjective(df, seqlen, Nh, lr, sym * \"-\" * string(i)) = 1.9234763f0\n",
      "131580.001\n",
      "mse_loss(xtest, ytest) = 2.0187194f0\n",
      "mse_loss(xtest, ytest) = 2.0099962f0\n"
     ]
    },
    {
     "name": "stderr",
     "output_type": "stream",
     "text": [
      "┌ Info: Epoch 1\n",
      "└ @ ConvGRU /Users/kahingleung/.julia/packages/Flux/sY3yx/src/optimise/train.jl:136\n"
     ]
    },
    {
     "name": "stdout",
     "output_type": "stream",
     "text": [
      "mse_loss(xtest, ytest) = 2.022386f0\n"
     ]
    },
    {
     "name": "stderr",
     "output_type": "stream",
     "text": [
      "┌ Info: Epoch 2\n",
      "└ @ ConvGRU /Users/kahingleung/.julia/packages/Flux/sY3yx/src/optimise/train.jl:136\n"
     ]
    },
    {
     "name": "stdout",
     "output_type": "stream",
     "text": [
      "mse_loss(xtest, ytest) = 2.02002f0\n"
     ]
    },
    {
     "name": "stderr",
     "output_type": "stream",
     "text": [
      "┌ Info: Epoch 3\n",
      "└ @ ConvGRU /Users/kahingleung/.julia/packages/Flux/sY3yx/src/optimise/train.jl:136\n"
     ]
    },
    {
     "name": "stdout",
     "output_type": "stream",
     "text": [
      "mse_loss(xtest, ytest) = 2.0034766f0\n"
     ]
    },
    {
     "name": "stderr",
     "output_type": "stream",
     "text": [
      "┌ Info: Epoch 4\n",
      "└ @ ConvGRU /Users/kahingleung/.julia/packages/Flux/sY3yx/src/optimise/train.jl:136\n",
      "┌ Info: Epoch 5\n",
      "└ @ ConvGRU /Users/kahingleung/.julia/packages/Flux/sY3yx/src/optimise/train.jl:136\n"
     ]
    },
    {
     "name": "stdout",
     "output_type": "stream",
     "text": [
      "mse_loss(xtest, ytest) = 1.9734f0\n",
      "mse_loss(xtest, ytest) = 1.9355601f0\n"
     ]
    },
    {
     "name": "stderr",
     "output_type": "stream",
     "text": [
      "┌ Info: Epoch 6\n",
      "└ @ ConvGRU /Users/kahingleung/.julia/packages/Flux/sY3yx/src/optimise/train.jl:136\n"
     ]
    },
    {
     "name": "stdout",
     "output_type": "stream",
     "text": [
      "mse_loss(xtest, ytest) = 1.8957262f0\n"
     ]
    },
    {
     "name": "stderr",
     "output_type": "stream",
     "text": [
      "┌ Info: Epoch 7\n",
      "└ @ ConvGRU /Users/kahingleung/.julia/packages/Flux/sY3yx/src/optimise/train.jl:136\n",
      "┌ Info: Epoch 8\n",
      "└ @ ConvGRU /Users/kahingleung/.julia/packages/Flux/sY3yx/src/optimise/train.jl:136\n"
     ]
    },
    {
     "name": "stdout",
     "output_type": "stream",
     "text": [
      "mse_loss(xtest, ytest) = 1.8539094f0\n",
      "mse_loss(xtest, ytest) = 1.8203101f0\n"
     ]
    },
    {
     "name": "stderr",
     "output_type": "stream",
     "text": [
      "┌ Info: Epoch 9\n",
      "└ @ ConvGRU /Users/kahingleung/.julia/packages/Flux/sY3yx/src/optimise/train.jl:136\n"
     ]
    },
    {
     "name": "stdout",
     "output_type": "stream",
     "text": [
      "mse_loss(xtest, ytest) = 1.8022133f0\n"
     ]
    },
    {
     "name": "stderr",
     "output_type": "stream",
     "text": [
      "┌ Info: Epoch 10\n",
      "└ @ ConvGRU /Users/kahingleung/.julia/packages/Flux/sY3yx/src/optimise/train.jl:136\n",
      "┌ Info: Epoch 11\n",
      "└ @ ConvGRU /Users/kahingleung/.julia/packages/Flux/sY3yx/src/optimise/train.jl:136\n"
     ]
    },
    {
     "name": "stdout",
     "output_type": "stream",
     "text": [
      "mse_loss(xtest, ytest) = 1.7884238f0\n",
      "mse_loss(xtest, ytest) = 1.7783637f0\n"
     ]
    },
    {
     "name": "stderr",
     "output_type": "stream",
     "text": [
      "┌ Info: Epoch 12\n",
      "└ @ ConvGRU /Users/kahingleung/.julia/packages/Flux/sY3yx/src/optimise/train.jl:136\n"
     ]
    },
    {
     "name": "stdout",
     "output_type": "stream",
     "text": [
      "mse_loss(xtest, ytest) = 1.7679602f0\n"
     ]
    },
    {
     "name": "stderr",
     "output_type": "stream",
     "text": [
      "┌ Info: Epoch 13\n",
      "└ @ ConvGRU /Users/kahingleung/.julia/packages/Flux/sY3yx/src/optimise/train.jl:136\n"
     ]
    },
    {
     "name": "stdout",
     "output_type": "stream",
     "text": [
      "mse_loss(xtest, ytest) = 1.7436768f0\n"
     ]
    },
    {
     "name": "stderr",
     "output_type": "stream",
     "text": [
      "┌ Info: Epoch 14\n",
      "└ @ ConvGRU /Users/kahingleung/.julia/packages/Flux/sY3yx/src/optimise/train.jl:136\n"
     ]
    },
    {
     "name": "stdout",
     "output_type": "stream",
     "text": [
      "mse_loss(xtest, ytest) = 1.7195431f0\n"
     ]
    },
    {
     "name": "stderr",
     "output_type": "stream",
     "text": [
      "┌ Info: Epoch 15\n",
      "└ @ ConvGRU /Users/kahingleung/.julia/packages/Flux/sY3yx/src/optimise/train.jl:136\n",
      "┌ Info: Epoch 16\n",
      "└ @ ConvGRU /Users/kahingleung/.julia/packages/Flux/sY3yx/src/optimise/train.jl:136\n"
     ]
    },
    {
     "name": "stdout",
     "output_type": "stream",
     "text": [
      "mse_loss(xtest, ytest) = 1.7033081f0\n",
      "mse_loss(xtest, ytest) = 1.6835372f0\n"
     ]
    },
    {
     "name": "stderr",
     "output_type": "stream",
     "text": [
      "┌ Info: Epoch 17\n",
      "└ @ ConvGRU /Users/kahingleung/.julia/packages/Flux/sY3yx/src/optimise/train.jl:136\n"
     ]
    },
    {
     "name": "stdout",
     "output_type": "stream",
     "text": [
      "mse_loss(xtest, ytest) = 1.6741222f0\n"
     ]
    },
    {
     "name": "stderr",
     "output_type": "stream",
     "text": [
      "┌ Info: Epoch 18\n",
      "└ @ ConvGRU /Users/kahingleung/.julia/packages/Flux/sY3yx/src/optimise/train.jl:136\n"
     ]
    },
    {
     "name": "stdout",
     "output_type": "stream",
     "text": [
      "mse_loss(xtest, ytest) = 1.6642541f0\n"
     ]
    },
    {
     "name": "stderr",
     "output_type": "stream",
     "text": [
      "┌ Info: Epoch 19\n",
      "└ @ ConvGRU /Users/kahingleung/.julia/packages/Flux/sY3yx/src/optimise/train.jl:136\n",
      "┌ Info: Epoch 20\n",
      "└ @ ConvGRU /Users/kahingleung/.julia/packages/Flux/sY3yx/src/optimise/train.jl:136\n"
     ]
    },
    {
     "name": "stdout",
     "output_type": "stream",
     "text": [
      "mse_loss(xtest, ytest) = 1.6528252f0\n",
      "mse_loss(xtest, ytest) = 1.6458663f0\n"
     ]
    },
    {
     "name": "stderr",
     "output_type": "stream",
     "text": [
      "┌ Info: Epoch 21\n",
      "└ @ ConvGRU /Users/kahingleung/.julia/packages/Flux/sY3yx/src/optimise/train.jl:136\n"
     ]
    },
    {
     "name": "stdout",
     "output_type": "stream",
     "text": [
      "mse_loss(xtest, ytest) = 1.6304004f0\n"
     ]
    },
    {
     "name": "stderr",
     "output_type": "stream",
     "text": [
      "┌ Info: Epoch 22\n",
      "└ @ ConvGRU /Users/kahingleung/.julia/packages/Flux/sY3yx/src/optimise/train.jl:136\n"
     ]
    },
    {
     "name": "stdout",
     "output_type": "stream",
     "text": [
      "mse_loss(xtest, ytest) = 1.6336002f0\n"
     ]
    },
    {
     "name": "stderr",
     "output_type": "stream",
     "text": [
      "┌ Info: Epoch 23\n",
      "└ @ ConvGRU /Users/kahingleung/.julia/packages/Flux/sY3yx/src/optimise/train.jl:136\n",
      "┌ Info: Epoch 24\n",
      "└ @ ConvGRU /Users/kahingleung/.julia/packages/Flux/sY3yx/src/optimise/train.jl:136\n"
     ]
    },
    {
     "name": "stdout",
     "output_type": "stream",
     "text": [
      "mse_loss(xtest, ytest) = 1.6147052f0\n",
      "mse_loss(xtest, ytest) = 1.6129197f0\n"
     ]
    },
    {
     "name": "stderr",
     "output_type": "stream",
     "text": [
      "┌ Info: Epoch 25\n",
      "└ @ ConvGRU /Users/kahingleung/.julia/packages/Flux/sY3yx/src/optimise/train.jl:136\n"
     ]
    },
    {
     "name": "stdout",
     "output_type": "stream",
     "text": [
      "mse_loss(xtest, ytest) = 1.6060494f0\n"
     ]
    },
    {
     "name": "stderr",
     "output_type": "stream",
     "text": [
      "┌ Info: Epoch 26\n",
      "└ @ ConvGRU /Users/kahingleung/.julia/packages/Flux/sY3yx/src/optimise/train.jl:136\n",
      "┌ Info: Epoch 27\n",
      "└ @ ConvGRU /Users/kahingleung/.julia/packages/Flux/sY3yx/src/optimise/train.jl:136\n"
     ]
    },
    {
     "name": "stdout",
     "output_type": "stream",
     "text": [
      "mse_loss(xtest, ytest) = 1.6046832f0\n",
      "mse_loss(xtest, ytest) = 1.6034721f0\n"
     ]
    },
    {
     "name": "stderr",
     "output_type": "stream",
     "text": [
      "┌ Info: Epoch 28\n",
      "└ @ ConvGRU /Users/kahingleung/.julia/packages/Flux/sY3yx/src/optimise/train.jl:136\n"
     ]
    },
    {
     "name": "stdout",
     "output_type": "stream",
     "text": [
      "mse_loss(xtest, ytest) = 1.5954745f0\n"
     ]
    },
    {
     "name": "stderr",
     "output_type": "stream",
     "text": [
      "┌ Info: Epoch 29\n",
      "└ @ ConvGRU /Users/kahingleung/.julia/packages/Flux/sY3yx/src/optimise/train.jl:136\n"
     ]
    },
    {
     "name": "stdout",
     "output_type": "stream",
     "text": [
      "mse_loss(xtest, ytest) = 1.595335f0\n"
     ]
    },
    {
     "name": "stderr",
     "output_type": "stream",
     "text": [
      "┌ Info: Epoch 30\n",
      "└ @ ConvGRU /Users/kahingleung/.julia/packages/Flux/sY3yx/src/optimise/train.jl:136\n"
     ]
    },
    {
     "name": "stdout",
     "output_type": "stream",
     "text": [
      "(250,)\n",
      "myObjective(df, seqlen, Nh, lr, sym * \"-\" * string(i)) = 1.6092544f0\n",
      "142580.001291549665014884\n",
      "mse_loss(xtest, ytest) = 2.0279222f0\n",
      "mse_loss(xtest, ytest) = 2.0532703f0\n"
     ]
    },
    {
     "name": "stderr",
     "output_type": "stream",
     "text": [
      "┌ Info: Epoch 1\n",
      "└ @ ConvGRU /Users/kahingleung/.julia/packages/Flux/sY3yx/src/optimise/train.jl:136\n"
     ]
    },
    {
     "name": "stdout",
     "output_type": "stream",
     "text": [
      "mse_loss(xtest, ytest) = 2.1114626f0\n"
     ]
    },
    {
     "name": "stderr",
     "output_type": "stream",
     "text": [
      "┌ Info: Epoch 2\n",
      "└ @ ConvGRU /Users/kahingleung/.julia/packages/Flux/sY3yx/src/optimise/train.jl:136\n"
     ]
    },
    {
     "name": "stdout",
     "output_type": "stream",
     "text": [
      "mse_loss(xtest, ytest) = 2.1102378f0\n"
     ]
    },
    {
     "name": "stderr",
     "output_type": "stream",
     "text": [
      "┌ Info: Epoch 3\n",
      "└ @ ConvGRU /Users/kahingleung/.julia/packages/Flux/sY3yx/src/optimise/train.jl:136\n"
     ]
    },
    {
     "name": "stdout",
     "output_type": "stream",
     "text": [
      "mse_loss(xtest, ytest) = 2.0897684f0\n"
     ]
    },
    {
     "name": "stderr",
     "output_type": "stream",
     "text": [
      "┌ Info: Epoch 4\n",
      "└ @ ConvGRU /Users/kahingleung/.julia/packages/Flux/sY3yx/src/optimise/train.jl:136\n"
     ]
    },
    {
     "name": "stdout",
     "output_type": "stream",
     "text": [
      "mse_loss(xtest, ytest) = 2.0628462f0\n"
     ]
    },
    {
     "name": "stderr",
     "output_type": "stream",
     "text": [
      "┌ Info: Epoch 5\n",
      "└ @ ConvGRU /Users/kahingleung/.julia/packages/Flux/sY3yx/src/optimise/train.jl:136\n",
      "┌ Info: Epoch 6\n",
      "└ @ ConvGRU /Users/kahingleung/.julia/packages/Flux/sY3yx/src/optimise/train.jl:136\n"
     ]
    },
    {
     "name": "stdout",
     "output_type": "stream",
     "text": [
      "mse_loss(xtest, ytest) = 2.013908f0\n"
     ]
    },
    {
     "name": "stderr",
     "output_type": "stream",
     "text": [
      "┌ Info: Epoch 7\n",
      "└ @ ConvGRU /Users/kahingleung/.julia/packages/Flux/sY3yx/src/optimise/train.jl:136\n"
     ]
    },
    {
     "name": "stdout",
     "output_type": "stream",
     "text": [
      "mse_loss(xtest, ytest) = 1.9627666f0\n",
      "mse_loss(xtest, ytest) = 1.9083846f0\n"
     ]
    },
    {
     "name": "stderr",
     "output_type": "stream",
     "text": [
      "┌ Info: Epoch 8\n",
      "└ @ ConvGRU /Users/kahingleung/.julia/packages/Flux/sY3yx/src/optimise/train.jl:136\n"
     ]
    },
    {
     "name": "stdout",
     "output_type": "stream",
     "text": [
      "mse_loss(xtest, ytest) = 1.8610581f0\n"
     ]
    },
    {
     "name": "stderr",
     "output_type": "stream",
     "text": [
      "┌ Info: Epoch 9\n",
      "└ @ ConvGRU /Users/kahingleung/.julia/packages/Flux/sY3yx/src/optimise/train.jl:136\n",
      "┌ Info: Epoch 10\n",
      "└ @ ConvGRU /Users/kahingleung/.julia/packages/Flux/sY3yx/src/optimise/train.jl:136\n"
     ]
    },
    {
     "name": "stdout",
     "output_type": "stream",
     "text": [
      "mse_loss(xtest, ytest) = 1.834341f0\n",
      "mse_loss(xtest, ytest) = 1.8000708f0\n"
     ]
    },
    {
     "name": "stderr",
     "output_type": "stream",
     "text": [
      "┌ Info: Epoch 11\n",
      "└ @ ConvGRU /Users/kahingleung/.julia/packages/Flux/sY3yx/src/optimise/train.jl:136\n"
     ]
    },
    {
     "name": "stdout",
     "output_type": "stream",
     "text": [
      "mse_loss(xtest, ytest) = 1.7740164f0\n"
     ]
    },
    {
     "name": "stderr",
     "output_type": "stream",
     "text": [
      "┌ Info: Epoch 12\n",
      "└ @ ConvGRU /Users/kahingleung/.julia/packages/Flux/sY3yx/src/optimise/train.jl:136\n",
      "┌ Info: Epoch 13\n",
      "└ @ ConvGRU /Users/kahingleung/.julia/packages/Flux/sY3yx/src/optimise/train.jl:136\n"
     ]
    },
    {
     "name": "stdout",
     "output_type": "stream",
     "text": [
      "mse_loss(xtest, ytest) = 1.7367827f0\n"
     ]
    },
    {
     "name": "stderr",
     "output_type": "stream",
     "text": [
      "┌ Info: Epoch 14\n",
      "└ @ ConvGRU /Users/kahingleung/.julia/packages/Flux/sY3yx/src/optimise/train.jl:136\n"
     ]
    },
    {
     "name": "stdout",
     "output_type": "stream",
     "text": [
      "mse_loss(xtest, ytest) = 1.724918f0\n"
     ]
    },
    {
     "name": "stderr",
     "output_type": "stream",
     "text": [
      "┌ Info: Epoch 15\n",
      "└ @ ConvGRU /Users/kahingleung/.julia/packages/Flux/sY3yx/src/optimise/train.jl:136\n"
     ]
    },
    {
     "name": "stdout",
     "output_type": "stream",
     "text": [
      "mse_loss(xtest, ytest) = 1.6950202f0\n",
      "mse_loss(xtest, ytest) = 1.6880832f0\n"
     ]
    },
    {
     "name": "stderr",
     "output_type": "stream",
     "text": [
      "┌ Info: Epoch 16\n",
      "└ @ ConvGRU /Users/kahingleung/.julia/packages/Flux/sY3yx/src/optimise/train.jl:136\n"
     ]
    },
    {
     "name": "stdout",
     "output_type": "stream",
     "text": [
      "mse_loss(xtest, ytest) = 1.6806095f0\n"
     ]
    },
    {
     "name": "stderr",
     "output_type": "stream",
     "text": [
      "┌ Info: Epoch 17\n",
      "└ @ ConvGRU /Users/kahingleung/.julia/packages/Flux/sY3yx/src/optimise/train.jl:136\n",
      "┌ Info: Epoch 18\n",
      "└ @ ConvGRU /Users/kahingleung/.julia/packages/Flux/sY3yx/src/optimise/train.jl:136\n"
     ]
    },
    {
     "name": "stdout",
     "output_type": "stream",
     "text": [
      "mse_loss(xtest, ytest) = 1.6807736f0\n",
      "mse_loss(xtest, ytest) = 1.6652042f0\n"
     ]
    },
    {
     "name": "stderr",
     "output_type": "stream",
     "text": [
      "┌ Info: Epoch 19\n",
      "└ @ ConvGRU /Users/kahingleung/.julia/packages/Flux/sY3yx/src/optimise/train.jl:136\n"
     ]
    },
    {
     "name": "stdout",
     "output_type": "stream",
     "text": [
      "mse_loss(xtest, ytest) = 1.6650553f0\n"
     ]
    },
    {
     "name": "stderr",
     "output_type": "stream",
     "text": [
      "┌ Info: Epoch 20\n",
      "└ @ ConvGRU /Users/kahingleung/.julia/packages/Flux/sY3yx/src/optimise/train.jl:136\n",
      "┌ Info: Epoch 21\n",
      "└ @ ConvGRU /Users/kahingleung/.julia/packages/Flux/sY3yx/src/optimise/train.jl:136\n"
     ]
    },
    {
     "name": "stdout",
     "output_type": "stream",
     "text": [
      "mse_loss(xtest, ytest) = 1.6817782f0\n"
     ]
    },
    {
     "name": "stderr",
     "output_type": "stream",
     "text": [
      "┌ Info: Epoch 22\n",
      "└ @ ConvGRU /Users/kahingleung/.julia/packages/Flux/sY3yx/src/optimise/train.jl:136\n"
     ]
    },
    {
     "name": "stdout",
     "output_type": "stream",
     "text": [
      "mse_loss(xtest, ytest) = 1.6859972f0\n",
      "mse_loss(xtest, ytest) = 1.6774013f0\n"
     ]
    },
    {
     "name": "stderr",
     "output_type": "stream",
     "text": [
      "┌ Info: Epoch 23\n",
      "└ @ ConvGRU /Users/kahingleung/.julia/packages/Flux/sY3yx/src/optimise/train.jl:136\n"
     ]
    },
    {
     "name": "stdout",
     "output_type": "stream",
     "text": [
      "mse_loss(xtest, ytest) = 1.6548195f0\n"
     ]
    },
    {
     "name": "stderr",
     "output_type": "stream",
     "text": [
      "┌ Info: Epoch 24\n",
      "└ @ ConvGRU /Users/kahingleung/.julia/packages/Flux/sY3yx/src/optimise/train.jl:136\n",
      "┌ Info: Epoch 25\n",
      "└ @ ConvGRU /Users/kahingleung/.julia/packages/Flux/sY3yx/src/optimise/train.jl:136\n"
     ]
    },
    {
     "name": "stdout",
     "output_type": "stream",
     "text": [
      "mse_loss(xtest, ytest) = 1.6531248f0\n"
     ]
    },
    {
     "name": "stderr",
     "output_type": "stream",
     "text": [
      "┌ Info: Epoch 26\n",
      "└ @ ConvGRU /Users/kahingleung/.julia/packages/Flux/sY3yx/src/optimise/train.jl:136\n"
     ]
    },
    {
     "name": "stdout",
     "output_type": "stream",
     "text": [
      "mse_loss(xtest, ytest) = 1.6791997f0\n",
      "mse_loss(xtest, ytest) = 1.6776319f0\n"
     ]
    },
    {
     "name": "stderr",
     "output_type": "stream",
     "text": [
      "┌ Info: Epoch 27\n",
      "└ @ ConvGRU /Users/kahingleung/.julia/packages/Flux/sY3yx/src/optimise/train.jl:136\n"
     ]
    },
    {
     "name": "stdout",
     "output_type": "stream",
     "text": [
      "mse_loss(xtest, ytest) = 1.6821982f0\n"
     ]
    },
    {
     "name": "stderr",
     "output_type": "stream",
     "text": [
      "┌ Info: Epoch 28\n",
      "└ @ ConvGRU /Users/kahingleung/.julia/packages/Flux/sY3yx/src/optimise/train.jl:136\n",
      "┌ Info: Epoch 29\n",
      "└ @ ConvGRU /Users/kahingleung/.julia/packages/Flux/sY3yx/src/optimise/train.jl:136\n"
     ]
    },
    {
     "name": "stdout",
     "output_type": "stream",
     "text": [
      "mse_loss(xtest, ytest) = 1.6662436f0\n",
      "mse_loss(xtest, ytest) = 1.6578579f0\n"
     ]
    },
    {
     "name": "stderr",
     "output_type": "stream",
     "text": [
      "┌ Info: Epoch 30\n",
      "└ @ ConvGRU /Users/kahingleung/.julia/packages/Flux/sY3yx/src/optimise/train.jl:136\n"
     ]
    },
    {
     "name": "stdout",
     "output_type": "stream",
     "text": [
      "(250,)\n",
      "myObjective(df, seqlen, Nh, lr, sym * \"-\" * string(i)) = 1.5934205f0\n",
      "152560.005994842503189409\n",
      "mse_loss(xtest, ytest) = 1.9913011f0\n",
      "mse_loss(xtest, ytest) = 2.0459616f0\n"
     ]
    },
    {
     "name": "stderr",
     "output_type": "stream",
     "text": [
      "┌ Info: Epoch 1\n",
      "└ @ ConvGRU /Users/kahingleung/.julia/packages/Flux/sY3yx/src/optimise/train.jl:136\n"
     ]
    },
    {
     "name": "stdout",
     "output_type": "stream",
     "text": [
      "mse_loss(xtest, ytest) = 2.123065f0\n"
     ]
    },
    {
     "name": "stderr",
     "output_type": "stream",
     "text": [
      "┌ Info: Epoch 2\n",
      "└ @ ConvGRU /Users/kahingleung/.julia/packages/Flux/sY3yx/src/optimise/train.jl:136\n"
     ]
    },
    {
     "name": "stdout",
     "output_type": "stream",
     "text": [
      "mse_loss(xtest, ytest) = 1.9768733f0\n"
     ]
    },
    {
     "name": "stderr",
     "output_type": "stream",
     "text": [
      "┌ Info: Epoch 3\n",
      "└ @ ConvGRU /Users/kahingleung/.julia/packages/Flux/sY3yx/src/optimise/train.jl:136\n"
     ]
    },
    {
     "name": "stdout",
     "output_type": "stream",
     "text": [
      "mse_loss(xtest, ytest) = 1.8827802f0\n"
     ]
    },
    {
     "name": "stderr",
     "output_type": "stream",
     "text": [
      "┌ Info: Epoch 4\n",
      "└ @ ConvGRU /Users/kahingleung/.julia/packages/Flux/sY3yx/src/optimise/train.jl:136\n",
      "┌ Info: Epoch 5\n",
      "└ @ ConvGRU /Users/kahingleung/.julia/packages/Flux/sY3yx/src/optimise/train.jl:136\n"
     ]
    },
    {
     "name": "stdout",
     "output_type": "stream",
     "text": [
      "mse_loss(xtest, ytest) = 1.7643065f0\n",
      "mse_loss(xtest, ytest) = 1.7467088f0\n"
     ]
    },
    {
     "name": "stderr",
     "output_type": "stream",
     "text": [
      "┌ Info: Epoch 6\n",
      "└ @ ConvGRU /Users/kahingleung/.julia/packages/Flux/sY3yx/src/optimise/train.jl:136\n",
      "┌ Info: Epoch 7\n",
      "└ @ ConvGRU /Users/kahingleung/.julia/packages/Flux/sY3yx/src/optimise/train.jl:136\n"
     ]
    },
    {
     "name": "stdout",
     "output_type": "stream",
     "text": [
      "mse_loss(xtest, ytest) = 1.7485951f0\n"
     ]
    },
    {
     "name": "stderr",
     "output_type": "stream",
     "text": [
      "┌ Info: Epoch 8\n",
      "└ @ ConvGRU /Users/kahingleung/.julia/packages/Flux/sY3yx/src/optimise/train.jl:136\n"
     ]
    },
    {
     "name": "stdout",
     "output_type": "stream",
     "text": [
      "mse_loss(xtest, ytest) = 1.784933f0\n",
      "mse_loss(xtest, ytest) = 1.7232072f0\n"
     ]
    },
    {
     "name": "stderr",
     "output_type": "stream",
     "text": [
      "┌ Info: Epoch 9\n",
      "└ @ ConvGRU /Users/kahingleung/.julia/packages/Flux/sY3yx/src/optimise/train.jl:136\n",
      "┌ Info: Epoch 10\n",
      "└ @ ConvGRU /Users/kahingleung/.julia/packages/Flux/sY3yx/src/optimise/train.jl:136\n"
     ]
    },
    {
     "name": "stdout",
     "output_type": "stream",
     "text": [
      "mse_loss(xtest, ytest) = 1.7359825f0\n",
      "mse_loss(xtest, ytest) = 1.7040663f0\n"
     ]
    },
    {
     "name": "stderr",
     "output_type": "stream",
     "text": [
      "┌ Info: Epoch 11\n",
      "└ @ ConvGRU /Users/kahingleung/.julia/packages/Flux/sY3yx/src/optimise/train.jl:136\n"
     ]
    },
    {
     "name": "stdout",
     "output_type": "stream",
     "text": [
      "mse_loss(xtest, ytest) = 1.7445061f0\n"
     ]
    },
    {
     "name": "stderr",
     "output_type": "stream",
     "text": [
      "┌ Info: Epoch 12\n",
      "└ @ ConvGRU /Users/kahingleung/.julia/packages/Flux/sY3yx/src/optimise/train.jl:136\n"
     ]
    },
    {
     "name": "stdout",
     "output_type": "stream",
     "text": [
      "mse_loss(xtest, ytest) = 1.6970809f0\n"
     ]
    },
    {
     "name": "stderr",
     "output_type": "stream",
     "text": [
      "┌ Info: Epoch 13\n",
      "└ @ ConvGRU /Users/kahingleung/.julia/packages/Flux/sY3yx/src/optimise/train.jl:136\n"
     ]
    },
    {
     "name": "stdout",
     "output_type": "stream",
     "text": [
      "mse_loss(xtest, ytest) = 1.6705378f0\n"
     ]
    },
    {
     "name": "stderr",
     "output_type": "stream",
     "text": [
      "┌ Info: Epoch 14\n",
      "└ @ ConvGRU /Users/kahingleung/.julia/packages/Flux/sY3yx/src/optimise/train.jl:136\n",
      "┌ Info: Epoch 15\n",
      "└ @ ConvGRU /Users/kahingleung/.julia/packages/Flux/sY3yx/src/optimise/train.jl:136\n"
     ]
    },
    {
     "name": "stdout",
     "output_type": "stream",
     "text": [
      "mse_loss(xtest, ytest) = 1.7258487f0\n",
      "mse_loss(xtest, ytest) = 1.7049427f0\n"
     ]
    },
    {
     "name": "stderr",
     "output_type": "stream",
     "text": [
      "┌ Info: Epoch 16\n",
      "└ @ ConvGRU /Users/kahingleung/.julia/packages/Flux/sY3yx/src/optimise/train.jl:136\n"
     ]
    },
    {
     "name": "stdout",
     "output_type": "stream",
     "text": [
      "mse_loss(xtest, ytest) = 1.7448605f0\n"
     ]
    },
    {
     "name": "stderr",
     "output_type": "stream",
     "text": [
      "┌ Info: Epoch 17\n",
      "└ @ ConvGRU /Users/kahingleung/.julia/packages/Flux/sY3yx/src/optimise/train.jl:136\n"
     ]
    },
    {
     "name": "stdout",
     "output_type": "stream",
     "text": [
      "mse_loss(xtest, ytest) = 1.7322277f0\n"
     ]
    },
    {
     "name": "stderr",
     "output_type": "stream",
     "text": [
      "┌ Info: Epoch 18\n",
      "└ @ ConvGRU /Users/kahingleung/.julia/packages/Flux/sY3yx/src/optimise/train.jl:136\n"
     ]
    },
    {
     "name": "stdout",
     "output_type": "stream",
     "text": [
      "mse_loss(xtest, ytest) = 1.6887063f0\n"
     ]
    },
    {
     "name": "stderr",
     "output_type": "stream",
     "text": [
      "┌ Info: Epoch 19\n",
      "└ @ ConvGRU /Users/kahingleung/.julia/packages/Flux/sY3yx/src/optimise/train.jl:136\n"
     ]
    },
    {
     "name": "stdout",
     "output_type": "stream",
     "text": [
      "mse_loss(xtest, ytest) = 1.6865958f0\n"
     ]
    },
    {
     "name": "stderr",
     "output_type": "stream",
     "text": [
      "┌ Info: Epoch 20\n",
      "└ @ ConvGRU /Users/kahingleung/.julia/packages/Flux/sY3yx/src/optimise/train.jl:136\n"
     ]
    },
    {
     "name": "stdout",
     "output_type": "stream",
     "text": [
      "mse_loss(xtest, ytest) = 1.721711f0\n"
     ]
    },
    {
     "name": "stderr",
     "output_type": "stream",
     "text": [
      "┌ Info: Epoch 21\n",
      "└ @ ConvGRU /Users/kahingleung/.julia/packages/Flux/sY3yx/src/optimise/train.jl:136\n",
      "┌ Info: Epoch 22\n",
      "└ @ ConvGRU /Users/kahingleung/.julia/packages/Flux/sY3yx/src/optimise/train.jl:136\n"
     ]
    },
    {
     "name": "stdout",
     "output_type": "stream",
     "text": [
      "mse_loss(xtest, ytest) = 1.7312167f0\n"
     ]
    },
    {
     "name": "stderr",
     "output_type": "stream",
     "text": [
      "┌ Info: Epoch 23\n",
      "└ @ ConvGRU /Users/kahingleung/.julia/packages/Flux/sY3yx/src/optimise/train.jl:136\n"
     ]
    },
    {
     "name": "stdout",
     "output_type": "stream",
     "text": [
      "mse_loss(xtest, ytest) = 1.7080061f0\n",
      "mse_loss(xtest, ytest) = 1.6660157f0\n"
     ]
    },
    {
     "name": "stderr",
     "output_type": "stream",
     "text": [
      "┌ Info: Epoch 24\n",
      "└ @ ConvGRU /Users/kahingleung/.julia/packages/Flux/sY3yx/src/optimise/train.jl:136\n",
      "┌ Info: Epoch 25\n",
      "└ @ ConvGRU /Users/kahingleung/.julia/packages/Flux/sY3yx/src/optimise/train.jl:136\n"
     ]
    },
    {
     "name": "stdout",
     "output_type": "stream",
     "text": [
      "mse_loss(xtest, ytest) = 1.6886094f0\n",
      "mse_loss(xtest, ytest) = 1.6657147f0\n"
     ]
    },
    {
     "name": "stderr",
     "output_type": "stream",
     "text": [
      "┌ Info: Epoch 26\n",
      "└ @ ConvGRU /Users/kahingleung/.julia/packages/Flux/sY3yx/src/optimise/train.jl:136\n"
     ]
    },
    {
     "name": "stdout",
     "output_type": "stream",
     "text": [
      "mse_loss(xtest, ytest) = 1.6919376f0\n"
     ]
    },
    {
     "name": "stderr",
     "output_type": "stream",
     "text": [
      "┌ Info: Epoch 27\n",
      "└ @ ConvGRU /Users/kahingleung/.julia/packages/Flux/sY3yx/src/optimise/train.jl:136\n"
     ]
    },
    {
     "name": "stdout",
     "output_type": "stream",
     "text": [
      "mse_loss(xtest, ytest) = 1.6089244f0\n"
     ]
    },
    {
     "name": "stderr",
     "output_type": "stream",
     "text": [
      "┌ Info: Epoch 28\n",
      "└ @ ConvGRU /Users/kahingleung/.julia/packages/Flux/sY3yx/src/optimise/train.jl:136\n"
     ]
    },
    {
     "name": "stdout",
     "output_type": "stream",
     "text": [
      "mse_loss(xtest, ytest) = 1.6404879f0\n"
     ]
    },
    {
     "name": "stderr",
     "output_type": "stream",
     "text": [
      "┌ Info: Epoch 29\n",
      "└ @ ConvGRU /Users/kahingleung/.julia/packages/Flux/sY3yx/src/optimise/train.jl:136\n",
      "┌ Info: Epoch 30\n",
      "└ @ ConvGRU /Users/kahingleung/.julia/packages/Flux/sY3yx/src/optimise/train.jl:136\n"
     ]
    },
    {
     "name": "stdout",
     "output_type": "stream",
     "text": [
      "mse_loss(xtest, ytest) = 1.6629716f0\n",
      "(250,)\n",
      "myObjective(df, seqlen, Nh, lr, sym * \"-\" * string(i)) = 1.5705076f0\n",
      "161080.001\n",
      "mse_loss(xtest, ytest) = 1.9566143f0\n",
      "mse_loss(xtest, ytest) = 1.9474297f0\n"
     ]
    },
    {
     "name": "stderr",
     "output_type": "stream",
     "text": [
      "┌ Info: Epoch 1\n",
      "└ @ ConvGRU /Users/kahingleung/.julia/packages/Flux/sY3yx/src/optimise/train.jl:136\n"
     ]
    },
    {
     "name": "stdout",
     "output_type": "stream",
     "text": [
      "mse_loss(xtest, ytest) = 1.9686378f0\n"
     ]
    },
    {
     "name": "stderr",
     "output_type": "stream",
     "text": [
      "┌ Info: Epoch 2\n",
      "└ @ ConvGRU /Users/kahingleung/.julia/packages/Flux/sY3yx/src/optimise/train.jl:136\n"
     ]
    },
    {
     "name": "stdout",
     "output_type": "stream",
     "text": [
      "mse_loss(xtest, ytest) = 1.9905536f0\n"
     ]
    },
    {
     "name": "stderr",
     "output_type": "stream",
     "text": [
      "┌ Info: Epoch 3\n",
      "└ @ ConvGRU /Users/kahingleung/.julia/packages/Flux/sY3yx/src/optimise/train.jl:136\n"
     ]
    },
    {
     "name": "stdout",
     "output_type": "stream",
     "text": [
      "mse_loss(xtest, ytest) = 2.0054588f0\n"
     ]
    },
    {
     "name": "stderr",
     "output_type": "stream",
     "text": [
      "┌ Info: Epoch 4\n",
      "└ @ ConvGRU /Users/kahingleung/.julia/packages/Flux/sY3yx/src/optimise/train.jl:136\n"
     ]
    },
    {
     "name": "stdout",
     "output_type": "stream",
     "text": [
      "mse_loss(xtest, ytest) = 2.0106537f0\n"
     ]
    },
    {
     "name": "stderr",
     "output_type": "stream",
     "text": [
      "┌ Info: Epoch 5\n",
      "└ @ ConvGRU /Users/kahingleung/.julia/packages/Flux/sY3yx/src/optimise/train.jl:136\n"
     ]
    },
    {
     "name": "stdout",
     "output_type": "stream",
     "text": [
      "mse_loss(xtest, ytest) = 1.9991655f0\n"
     ]
    },
    {
     "name": "stderr",
     "output_type": "stream",
     "text": [
      "┌ Info: Epoch 6\n",
      "└ @ ConvGRU /Users/kahingleung/.julia/packages/Flux/sY3yx/src/optimise/train.jl:136\n",
      "┌ Info: Epoch 7\n",
      "└ @ ConvGRU /Users/kahingleung/.julia/packages/Flux/sY3yx/src/optimise/train.jl:136\n"
     ]
    },
    {
     "name": "stdout",
     "output_type": "stream",
     "text": [
      "mse_loss(xtest, ytest) = 1.9737953f0\n",
      "mse_loss(xtest, ytest) = 1.9320115f0\n"
     ]
    },
    {
     "name": "stderr",
     "output_type": "stream",
     "text": [
      "┌ Info: Epoch 8\n",
      "└ @ ConvGRU /Users/kahingleung/.julia/packages/Flux/sY3yx/src/optimise/train.jl:136\n"
     ]
    },
    {
     "name": "stdout",
     "output_type": "stream",
     "text": [
      "mse_loss(xtest, ytest) = 1.8871794f0\n"
     ]
    },
    {
     "name": "stderr",
     "output_type": "stream",
     "text": [
      "┌ Info: Epoch 9\n",
      "└ @ ConvGRU /Users/kahingleung/.julia/packages/Flux/sY3yx/src/optimise/train.jl:136\n"
     ]
    },
    {
     "name": "stdout",
     "output_type": "stream",
     "text": [
      "mse_loss(xtest, ytest) = 1.8371673f0\n"
     ]
    },
    {
     "name": "stderr",
     "output_type": "stream",
     "text": [
      "┌ Info: Epoch 10\n",
      "└ @ ConvGRU /Users/kahingleung/.julia/packages/Flux/sY3yx/src/optimise/train.jl:136\n",
      "┌ Info: Epoch 11\n",
      "└ @ ConvGRU /Users/kahingleung/.julia/packages/Flux/sY3yx/src/optimise/train.jl:136\n"
     ]
    },
    {
     "name": "stdout",
     "output_type": "stream",
     "text": [
      "mse_loss(xtest, ytest) = 1.8021476f0\n",
      "mse_loss(xtest, ytest) = 1.7717458f0\n"
     ]
    },
    {
     "name": "stderr",
     "output_type": "stream",
     "text": [
      "┌ Info: Epoch 12\n",
      "└ @ ConvGRU /Users/kahingleung/.julia/packages/Flux/sY3yx/src/optimise/train.jl:136\n"
     ]
    },
    {
     "name": "stdout",
     "output_type": "stream",
     "text": [
      "mse_loss(xtest, ytest) = 1.751104f0\n"
     ]
    },
    {
     "name": "stderr",
     "output_type": "stream",
     "text": [
      "┌ Info: Epoch 13\n",
      "└ @ ConvGRU /Users/kahingleung/.julia/packages/Flux/sY3yx/src/optimise/train.jl:136\n"
     ]
    },
    {
     "name": "stdout",
     "output_type": "stream",
     "text": [
      "mse_loss(xtest, ytest) = 1.7372925f0\n"
     ]
    },
    {
     "name": "stderr",
     "output_type": "stream",
     "text": [
      "┌ Info: Epoch 14\n",
      "└ @ ConvGRU /Users/kahingleung/.julia/packages/Flux/sY3yx/src/optimise/train.jl:136\n"
     ]
    },
    {
     "name": "stdout",
     "output_type": "stream",
     "text": [
      "mse_loss(xtest, ytest) = 1.719199f0\n"
     ]
    },
    {
     "name": "stderr",
     "output_type": "stream",
     "text": [
      "┌ Info: Epoch 15\n",
      "└ @ ConvGRU /Users/kahingleung/.julia/packages/Flux/sY3yx/src/optimise/train.jl:136\n"
     ]
    },
    {
     "name": "stdout",
     "output_type": "stream",
     "text": [
      "mse_loss(xtest, ytest) = 1.7042723f0\n"
     ]
    },
    {
     "name": "stderr",
     "output_type": "stream",
     "text": [
      "┌ Info: Epoch 16\n",
      "└ @ ConvGRU /Users/kahingleung/.julia/packages/Flux/sY3yx/src/optimise/train.jl:136\n"
     ]
    },
    {
     "name": "stdout",
     "output_type": "stream",
     "text": [
      "mse_loss(xtest, ytest) = 1.6907581f0\n"
     ]
    },
    {
     "name": "stderr",
     "output_type": "stream",
     "text": [
      "┌ Info: Epoch 17\n",
      "└ @ ConvGRU /Users/kahingleung/.julia/packages/Flux/sY3yx/src/optimise/train.jl:136\n"
     ]
    },
    {
     "name": "stdout",
     "output_type": "stream",
     "text": [
      "mse_loss(xtest, ytest) = 1.6806533f0\n"
     ]
    },
    {
     "name": "stderr",
     "output_type": "stream",
     "text": [
      "┌ Info: Epoch 18\n",
      "└ @ ConvGRU /Users/kahingleung/.julia/packages/Flux/sY3yx/src/optimise/train.jl:136\n",
      "┌ Info: Epoch 19\n",
      "└ @ ConvGRU /Users/kahingleung/.julia/packages/Flux/sY3yx/src/optimise/train.jl:136\n"
     ]
    },
    {
     "name": "stdout",
     "output_type": "stream",
     "text": [
      "mse_loss(xtest, ytest) = 1.6739167f0\n"
     ]
    },
    {
     "name": "stderr",
     "output_type": "stream",
     "text": [
      "┌ Info: Epoch 20\n",
      "└ @ ConvGRU /Users/kahingleung/.julia/packages/Flux/sY3yx/src/optimise/train.jl:136\n"
     ]
    },
    {
     "name": "stdout",
     "output_type": "stream",
     "text": [
      "mse_loss(xtest, ytest) = 1.6702766f0\n",
      "mse_loss(xtest, ytest) = 1.6659578f0\n"
     ]
    },
    {
     "name": "stderr",
     "output_type": "stream",
     "text": [
      "┌ Info: Epoch 21\n",
      "└ @ ConvGRU /Users/kahingleung/.julia/packages/Flux/sY3yx/src/optimise/train.jl:136\n"
     ]
    },
    {
     "name": "stdout",
     "output_type": "stream",
     "text": [
      "mse_loss(xtest, ytest) = 1.6580508f0\n"
     ]
    },
    {
     "name": "stderr",
     "output_type": "stream",
     "text": [
      "┌ Info: Epoch 22\n",
      "└ @ ConvGRU /Users/kahingleung/.julia/packages/Flux/sY3yx/src/optimise/train.jl:136\n",
      "┌ Info: Epoch 23\n",
      "└ @ ConvGRU /Users/kahingleung/.julia/packages/Flux/sY3yx/src/optimise/train.jl:136\n"
     ]
    },
    {
     "name": "stdout",
     "output_type": "stream",
     "text": [
      "mse_loss(xtest, ytest) = 1.658054f0\n",
      "mse_loss(xtest, ytest) = 1.6558019f0\n"
     ]
    },
    {
     "name": "stderr",
     "output_type": "stream",
     "text": [
      "┌ Info: Epoch 24\n",
      "└ @ ConvGRU /Users/kahingleung/.julia/packages/Flux/sY3yx/src/optimise/train.jl:136\n"
     ]
    },
    {
     "name": "stdout",
     "output_type": "stream",
     "text": [
      "mse_loss(xtest, ytest) = 1.6506147f0\n"
     ]
    },
    {
     "name": "stderr",
     "output_type": "stream",
     "text": [
      "┌ Info: Epoch 25\n",
      "└ @ ConvGRU /Users/kahingleung/.julia/packages/Flux/sY3yx/src/optimise/train.jl:136\n"
     ]
    },
    {
     "name": "stdout",
     "output_type": "stream",
     "text": [
      "mse_loss(xtest, ytest) = 1.6466528f0\n"
     ]
    },
    {
     "name": "stderr",
     "output_type": "stream",
     "text": [
      "┌ Info: Epoch 26\n",
      "└ @ ConvGRU /Users/kahingleung/.julia/packages/Flux/sY3yx/src/optimise/train.jl:136\n"
     ]
    },
    {
     "name": "stdout",
     "output_type": "stream",
     "text": [
      "mse_loss(xtest, ytest) = 1.6423339f0\n"
     ]
    },
    {
     "name": "stderr",
     "output_type": "stream",
     "text": [
      "┌ Info: Epoch 27\n",
      "└ @ ConvGRU /Users/kahingleung/.julia/packages/Flux/sY3yx/src/optimise/train.jl:136\n"
     ]
    },
    {
     "name": "stdout",
     "output_type": "stream",
     "text": [
      "mse_loss(xtest, ytest) = 1.6342196f0\n"
     ]
    },
    {
     "name": "stderr",
     "output_type": "stream",
     "text": [
      "┌ Info: Epoch 28\n",
      "└ @ ConvGRU /Users/kahingleung/.julia/packages/Flux/sY3yx/src/optimise/train.jl:136\n"
     ]
    },
    {
     "name": "stdout",
     "output_type": "stream",
     "text": [
      "mse_loss(xtest, ytest) = 1.6308502f0\n"
     ]
    },
    {
     "name": "stderr",
     "output_type": "stream",
     "text": [
      "┌ Info: Epoch 29\n",
      "└ @ ConvGRU /Users/kahingleung/.julia/packages/Flux/sY3yx/src/optimise/train.jl:136\n"
     ]
    },
    {
     "name": "stdout",
     "output_type": "stream",
     "text": [
      "mse_loss(xtest, ytest) = 1.6319346f0\n"
     ]
    },
    {
     "name": "stderr",
     "output_type": "stream",
     "text": [
      "┌ Info: Epoch 30\n",
      "└ @ ConvGRU /Users/kahingleung/.julia/packages/Flux/sY3yx/src/optimise/train.jl:136\n"
     ]
    },
    {
     "name": "stdout",
     "output_type": "stream",
     "text": [
      "(250,)\n",
      "myObjective(df, seqlen, Nh, lr, sym * \"-\" * string(i)) = 1.6475048f0\n",
      "172060.005994842503189409\n",
      "mse_loss(xtest, ytest) = 1.9713027f0\n",
      "mse_loss(xtest, ytest) = 1.943017f0\n"
     ]
    },
    {
     "name": "stderr",
     "output_type": "stream",
     "text": [
      "┌ Info: Epoch 1\n",
      "└ @ ConvGRU /Users/kahingleung/.julia/packages/Flux/sY3yx/src/optimise/train.jl:136\n"
     ]
    },
    {
     "name": "stdout",
     "output_type": "stream",
     "text": [
      "mse_loss(xtest, ytest) = 1.9197823f0\n"
     ]
    },
    {
     "name": "stderr",
     "output_type": "stream",
     "text": [
      "┌ Info: Epoch 2\n",
      "└ @ ConvGRU /Users/kahingleung/.julia/packages/Flux/sY3yx/src/optimise/train.jl:136\n"
     ]
    },
    {
     "name": "stdout",
     "output_type": "stream",
     "text": [
      "mse_loss(xtest, ytest) = 1.8705876f0\n"
     ]
    },
    {
     "name": "stderr",
     "output_type": "stream",
     "text": [
      "┌ Info: Epoch 3\n",
      "└ @ ConvGRU /Users/kahingleung/.julia/packages/Flux/sY3yx/src/optimise/train.jl:136\n"
     ]
    },
    {
     "name": "stdout",
     "output_type": "stream",
     "text": [
      "mse_loss(xtest, ytest) = 1.8246785f0\n"
     ]
    },
    {
     "name": "stderr",
     "output_type": "stream",
     "text": [
      "┌ Info: Epoch 4\n",
      "└ @ ConvGRU /Users/kahingleung/.julia/packages/Flux/sY3yx/src/optimise/train.jl:136\n"
     ]
    },
    {
     "name": "stdout",
     "output_type": "stream",
     "text": [
      "mse_loss(xtest, ytest) = 1.8093138f0\n"
     ]
    },
    {
     "name": "stderr",
     "output_type": "stream",
     "text": [
      "┌ Info: Epoch 5\n",
      "└ @ ConvGRU /Users/kahingleung/.julia/packages/Flux/sY3yx/src/optimise/train.jl:136\n"
     ]
    },
    {
     "name": "stdout",
     "output_type": "stream",
     "text": [
      "mse_loss(xtest, ytest) = 1.6965381f0\n"
     ]
    },
    {
     "name": "stderr",
     "output_type": "stream",
     "text": [
      "┌ Info: Epoch 6\n",
      "└ @ ConvGRU /Users/kahingleung/.julia/packages/Flux/sY3yx/src/optimise/train.jl:136\n"
     ]
    },
    {
     "name": "stdout",
     "output_type": "stream",
     "text": [
      "mse_loss(xtest, ytest) = 1.7195807f0\n"
     ]
    },
    {
     "name": "stderr",
     "output_type": "stream",
     "text": [
      "┌ Info: Epoch 7\n",
      "└ @ ConvGRU /Users/kahingleung/.julia/packages/Flux/sY3yx/src/optimise/train.jl:136\n"
     ]
    },
    {
     "name": "stdout",
     "output_type": "stream",
     "text": [
      "mse_loss(xtest, ytest) = 1.70118f0\n"
     ]
    },
    {
     "name": "stderr",
     "output_type": "stream",
     "text": [
      "┌ Info: Epoch 8\n",
      "└ @ ConvGRU /Users/kahingleung/.julia/packages/Flux/sY3yx/src/optimise/train.jl:136\n"
     ]
    },
    {
     "name": "stdout",
     "output_type": "stream",
     "text": [
      "mse_loss(xtest, ytest) = 1.6971914f0\n"
     ]
    },
    {
     "name": "stderr",
     "output_type": "stream",
     "text": [
      "┌ Info: Epoch 9\n",
      "└ @ ConvGRU /Users/kahingleung/.julia/packages/Flux/sY3yx/src/optimise/train.jl:136\n",
      "┌ Info: Epoch 10\n",
      "└ @ ConvGRU /Users/kahingleung/.julia/packages/Flux/sY3yx/src/optimise/train.jl:136\n"
     ]
    },
    {
     "name": "stdout",
     "output_type": "stream",
     "text": [
      "mse_loss(xtest, ytest) = 1.6924622f0\n"
     ]
    },
    {
     "name": "stderr",
     "output_type": "stream",
     "text": [
      "┌ Info: Epoch 11\n",
      "└ @ ConvGRU /Users/kahingleung/.julia/packages/Flux/sY3yx/src/optimise/train.jl:136\n"
     ]
    },
    {
     "name": "stdout",
     "output_type": "stream",
     "text": [
      "mse_loss(xtest, ytest) = 1.6696154f0\n",
      "mse_loss(xtest, ytest) = 1.669965f0\n"
     ]
    },
    {
     "name": "stderr",
     "output_type": "stream",
     "text": [
      "┌ Info: Epoch 12\n",
      "└ @ ConvGRU /Users/kahingleung/.julia/packages/Flux/sY3yx/src/optimise/train.jl:136\n"
     ]
    },
    {
     "name": "stdout",
     "output_type": "stream",
     "text": [
      "mse_loss(xtest, ytest) = 1.6690658f0\n"
     ]
    },
    {
     "name": "stderr",
     "output_type": "stream",
     "text": [
      "┌ Info: Epoch 13\n",
      "└ @ ConvGRU /Users/kahingleung/.julia/packages/Flux/sY3yx/src/optimise/train.jl:136\n",
      "┌ Info: Epoch 14\n",
      "└ @ ConvGRU /Users/kahingleung/.julia/packages/Flux/sY3yx/src/optimise/train.jl:136\n"
     ]
    },
    {
     "name": "stdout",
     "output_type": "stream",
     "text": [
      "mse_loss(xtest, ytest) = 1.7648435f0\n"
     ]
    },
    {
     "name": "stderr",
     "output_type": "stream",
     "text": [
      "┌ Info: Epoch 15\n",
      "└ @ ConvGRU /Users/kahingleung/.julia/packages/Flux/sY3yx/src/optimise/train.jl:136\n"
     ]
    },
    {
     "name": "stdout",
     "output_type": "stream",
     "text": [
      "mse_loss(xtest, ytest) = 1.6572295f0\n",
      "mse_loss(xtest, ytest) = 1.6626103f0\n"
     ]
    },
    {
     "name": "stderr",
     "output_type": "stream",
     "text": [
      "┌ Info: Epoch 16\n",
      "└ @ ConvGRU /Users/kahingleung/.julia/packages/Flux/sY3yx/src/optimise/train.jl:136\n"
     ]
    },
    {
     "name": "stdout",
     "output_type": "stream",
     "text": [
      "mse_loss(xtest, ytest) = 1.6534963f0\n"
     ]
    },
    {
     "name": "stderr",
     "output_type": "stream",
     "text": [
      "┌ Info: Epoch 17\n",
      "└ @ ConvGRU /Users/kahingleung/.julia/packages/Flux/sY3yx/src/optimise/train.jl:136\n"
     ]
    },
    {
     "name": "stdout",
     "output_type": "stream",
     "text": [
      "mse_loss(xtest, ytest) = 1.8431122f0\n"
     ]
    },
    {
     "name": "stderr",
     "output_type": "stream",
     "text": [
      "┌ Info: Epoch 18\n",
      "└ @ ConvGRU /Users/kahingleung/.julia/packages/Flux/sY3yx/src/optimise/train.jl:136\n"
     ]
    },
    {
     "name": "stdout",
     "output_type": "stream",
     "text": [
      "mse_loss(xtest, ytest) = 1.6384217f0\n"
     ]
    },
    {
     "name": "stderr",
     "output_type": "stream",
     "text": [
      "┌ Info: Epoch 19\n",
      "└ @ ConvGRU /Users/kahingleung/.julia/packages/Flux/sY3yx/src/optimise/train.jl:136\n"
     ]
    },
    {
     "name": "stdout",
     "output_type": "stream",
     "text": [
      "mse_loss(xtest, ytest) = 1.6188759f0\n"
     ]
    },
    {
     "name": "stderr",
     "output_type": "stream",
     "text": [
      "┌ Info: Epoch 20\n",
      "└ @ ConvGRU /Users/kahingleung/.julia/packages/Flux/sY3yx/src/optimise/train.jl:136\n"
     ]
    },
    {
     "name": "stdout",
     "output_type": "stream",
     "text": [
      "mse_loss(xtest, ytest) = 1.6118872f0\n"
     ]
    },
    {
     "name": "stderr",
     "output_type": "stream",
     "text": [
      "┌ Info: Epoch 21\n",
      "└ @ ConvGRU /Users/kahingleung/.julia/packages/Flux/sY3yx/src/optimise/train.jl:136\n"
     ]
    },
    {
     "name": "stdout",
     "output_type": "stream",
     "text": [
      "mse_loss(xtest, ytest) = 1.5991164f0\n"
     ]
    },
    {
     "name": "stderr",
     "output_type": "stream",
     "text": [
      "┌ Info: Epoch 22\n",
      "└ @ ConvGRU /Users/kahingleung/.julia/packages/Flux/sY3yx/src/optimise/train.jl:136\n",
      "┌ Info: Epoch 23\n",
      "└ @ ConvGRU /Users/kahingleung/.julia/packages/Flux/sY3yx/src/optimise/train.jl:136\n"
     ]
    },
    {
     "name": "stdout",
     "output_type": "stream",
     "text": [
      "mse_loss(xtest, ytest) = 1.6345714f0\n",
      "mse_loss(xtest, ytest) = 1.6238512f0\n"
     ]
    },
    {
     "name": "stderr",
     "output_type": "stream",
     "text": [
      "┌ Info: Epoch 24\n",
      "└ @ ConvGRU /Users/kahingleung/.julia/packages/Flux/sY3yx/src/optimise/train.jl:136\n"
     ]
    },
    {
     "name": "stdout",
     "output_type": "stream",
     "text": [
      "mse_loss(xtest, ytest) = 1.6347905f0\n"
     ]
    },
    {
     "name": "stderr",
     "output_type": "stream",
     "text": [
      "┌ Info: Epoch 25\n",
      "└ @ ConvGRU /Users/kahingleung/.julia/packages/Flux/sY3yx/src/optimise/train.jl:136\n"
     ]
    },
    {
     "name": "stdout",
     "output_type": "stream",
     "text": [
      "mse_loss(xtest, ytest) = 1.6798499f0"
     ]
    },
    {
     "name": "stderr",
     "output_type": "stream",
     "text": [
      "┌ Info: Epoch 26\n",
      "└ @ ConvGRU /Users/kahingleung/.julia/packages/Flux/sY3yx/src/optimise/train.jl:136\n"
     ]
    },
    {
     "name": "stdout",
     "output_type": "stream",
     "text": [
      "\n",
      "mse_loss(xtest, ytest) = 1.6129831f0\n"
     ]
    },
    {
     "name": "stderr",
     "output_type": "stream",
     "text": [
      "┌ Info: Epoch 27\n",
      "└ @ ConvGRU /Users/kahingleung/.julia/packages/Flux/sY3yx/src/optimise/train.jl:136\n"
     ]
    },
    {
     "name": "stdout",
     "output_type": "stream",
     "text": [
      "mse_loss(xtest, ytest) = 1.6233137f0\n"
     ]
    },
    {
     "name": "stderr",
     "output_type": "stream",
     "text": [
      "┌ Info: Epoch 28\n",
      "└ @ ConvGRU /Users/kahingleung/.julia/packages/Flux/sY3yx/src/optimise/train.jl:136\n"
     ]
    },
    {
     "name": "stdout",
     "output_type": "stream",
     "text": [
      "mse_loss(xtest, ytest) = 1.7169772f0\n"
     ]
    },
    {
     "name": "stderr",
     "output_type": "stream",
     "text": [
      "┌ Info: Epoch 29\n",
      "└ @ ConvGRU /Users/kahingleung/.julia/packages/Flux/sY3yx/src/optimise/train.jl:136\n"
     ]
    },
    {
     "name": "stdout",
     "output_type": "stream",
     "text": [
      "mse_loss(xtest, ytest) = 1.6789973f0\n"
     ]
    },
    {
     "name": "stderr",
     "output_type": "stream",
     "text": [
      "┌ Info: Epoch 30\n",
      "└ @ ConvGRU /Users/kahingleung/.julia/packages/Flux/sY3yx/src/optimise/train.jl:136\n"
     ]
    },
    {
     "name": "stdout",
     "output_type": "stream",
     "text": [
      "(250,)\n",
      "myObjective(df, seqlen, Nh, lr, sym * \"-\" * string(i)) = 1.7837727f0\n",
      "181060.003593813663804626\n",
      "mse_loss(xtest, ytest) = 2.020834f0\n",
      "mse_loss(xtest, ytest) = 1.9937665f0\n"
     ]
    },
    {
     "name": "stderr",
     "output_type": "stream",
     "text": [
      "┌ Info: Epoch 1\n",
      "└ @ ConvGRU /Users/kahingleung/.julia/packages/Flux/sY3yx/src/optimise/train.jl:136\n"
     ]
    },
    {
     "name": "stdout",
     "output_type": "stream",
     "text": [
      "mse_loss(xtest, ytest) = 2.0147233f0\n"
     ]
    },
    {
     "name": "stderr",
     "output_type": "stream",
     "text": [
      "┌ Info: Epoch 2\n",
      "└ @ ConvGRU /Users/kahingleung/.julia/packages/Flux/sY3yx/src/optimise/train.jl:136\n"
     ]
    },
    {
     "name": "stdout",
     "output_type": "stream",
     "text": [
      "mse_loss(xtest, ytest) = 2.0135722f0\n"
     ]
    },
    {
     "name": "stderr",
     "output_type": "stream",
     "text": [
      "┌ Info: Epoch 3\n",
      "└ @ ConvGRU /Users/kahingleung/.julia/packages/Flux/sY3yx/src/optimise/train.jl:136\n"
     ]
    },
    {
     "name": "stdout",
     "output_type": "stream",
     "text": [
      "mse_loss(xtest, ytest) = 1.996296f0\n"
     ]
    },
    {
     "name": "stderr",
     "output_type": "stream",
     "text": [
      "┌ Info: Epoch 4\n",
      "└ @ ConvGRU /Users/kahingleung/.julia/packages/Flux/sY3yx/src/optimise/train.jl:136\n"
     ]
    },
    {
     "name": "stdout",
     "output_type": "stream",
     "text": [
      "mse_loss(xtest, ytest) = 1.9385433f0\n"
     ]
    },
    {
     "name": "stderr",
     "output_type": "stream",
     "text": [
      "┌ Info: Epoch 5\n",
      "└ @ ConvGRU /Users/kahingleung/.julia/packages/Flux/sY3yx/src/optimise/train.jl:136\n"
     ]
    },
    {
     "name": "stdout",
     "output_type": "stream",
     "text": [
      "mse_loss(xtest, ytest) = 1.864172f0\n"
     ]
    },
    {
     "name": "stderr",
     "output_type": "stream",
     "text": [
      "┌ Info: Epoch 6\n",
      "└ @ ConvGRU /Users/kahingleung/.julia/packages/Flux/sY3yx/src/optimise/train.jl:136\n"
     ]
    },
    {
     "name": "stdout",
     "output_type": "stream",
     "text": [
      "mse_loss(xtest, ytest) = 1.7932742f0\n"
     ]
    },
    {
     "name": "stderr",
     "output_type": "stream",
     "text": [
      "┌ Info: Epoch 7\n",
      "└ @ ConvGRU /Users/kahingleung/.julia/packages/Flux/sY3yx/src/optimise/train.jl:136\n",
      "┌ Info: Epoch 8\n",
      "└ @ ConvGRU /Users/kahingleung/.julia/packages/Flux/sY3yx/src/optimise/train.jl:136\n"
     ]
    },
    {
     "name": "stdout",
     "output_type": "stream",
     "text": [
      "mse_loss(xtest, ytest) = 1.7313694f0\n"
     ]
    },
    {
     "name": "stderr",
     "output_type": "stream",
     "text": [
      "┌ Info: Epoch 9\n",
      "└ @ ConvGRU /Users/kahingleung/.julia/packages/Flux/sY3yx/src/optimise/train.jl:136\n"
     ]
    },
    {
     "name": "stdout",
     "output_type": "stream",
     "text": [
      "mse_loss(xtest, ytest) = 1.7034733f0\n",
      "mse_loss(xtest, ytest) = 1.6858352f0\n"
     ]
    },
    {
     "name": "stderr",
     "output_type": "stream",
     "text": [
      "┌ Info: Epoch 10\n",
      "└ @ ConvGRU /Users/kahingleung/.julia/packages/Flux/sY3yx/src/optimise/train.jl:136\n"
     ]
    },
    {
     "name": "stdout",
     "output_type": "stream",
     "text": [
      "mse_loss(xtest, ytest) = 1.6812254f0\n"
     ]
    },
    {
     "name": "stderr",
     "output_type": "stream",
     "text": [
      "┌ Info: Epoch 11\n",
      "└ @ ConvGRU /Users/kahingleung/.julia/packages/Flux/sY3yx/src/optimise/train.jl:136\n",
      "┌ Info: Epoch 12\n",
      "└ @ ConvGRU /Users/kahingleung/.julia/packages/Flux/sY3yx/src/optimise/train.jl:136\n"
     ]
    },
    {
     "name": "stdout",
     "output_type": "stream",
     "text": [
      "mse_loss(xtest, ytest) = 1.6623936f0\n",
      "mse_loss(xtest, ytest) = 1.6543784f0\n"
     ]
    },
    {
     "name": "stderr",
     "output_type": "stream",
     "text": [
      "┌ Info: Epoch 13\n",
      "└ @ ConvGRU /Users/kahingleung/.julia/packages/Flux/sY3yx/src/optimise/train.jl:136\n"
     ]
    },
    {
     "name": "stdout",
     "output_type": "stream",
     "text": [
      "mse_loss(xtest, ytest) = 1.6399541f0\n"
     ]
    },
    {
     "name": "stderr",
     "output_type": "stream",
     "text": [
      "┌ Info: Epoch 14\n",
      "└ @ ConvGRU /Users/kahingleung/.julia/packages/Flux/sY3yx/src/optimise/train.jl:136\n"
     ]
    },
    {
     "name": "stdout",
     "output_type": "stream",
     "text": [
      "mse_loss(xtest, ytest) = 1.6235719f0\n"
     ]
    },
    {
     "name": "stderr",
     "output_type": "stream",
     "text": [
      "┌ Info: Epoch 15\n",
      "└ @ ConvGRU /Users/kahingleung/.julia/packages/Flux/sY3yx/src/optimise/train.jl:136\n"
     ]
    },
    {
     "name": "stdout",
     "output_type": "stream",
     "text": [
      "mse_loss(xtest, ytest) = 1.6118128f0\n"
     ]
    },
    {
     "name": "stderr",
     "output_type": "stream",
     "text": [
      "┌ Info: Epoch 16\n",
      "└ @ ConvGRU /Users/kahingleung/.julia/packages/Flux/sY3yx/src/optimise/train.jl:136\n"
     ]
    },
    {
     "name": "stdout",
     "output_type": "stream",
     "text": [
      "mse_loss(xtest, ytest) = 1.608431f0\n"
     ]
    },
    {
     "name": "stderr",
     "output_type": "stream",
     "text": [
      "┌ Info: Epoch 17\n",
      "└ @ ConvGRU /Users/kahingleung/.julia/packages/Flux/sY3yx/src/optimise/train.jl:136\n"
     ]
    },
    {
     "name": "stdout",
     "output_type": "stream",
     "text": [
      "mse_loss(xtest, ytest) = 1.5981692f0\n"
     ]
    },
    {
     "name": "stderr",
     "output_type": "stream",
     "text": [
      "┌ Info: Epoch 18\n",
      "└ @ ConvGRU /Users/kahingleung/.julia/packages/Flux/sY3yx/src/optimise/train.jl:136\n"
     ]
    },
    {
     "name": "stdout",
     "output_type": "stream",
     "text": [
      "mse_loss(xtest, ytest) = 1.5955149f0\n"
     ]
    },
    {
     "name": "stderr",
     "output_type": "stream",
     "text": [
      "┌ Info: Epoch 19\n",
      "└ @ ConvGRU /Users/kahingleung/.julia/packages/Flux/sY3yx/src/optimise/train.jl:136\n"
     ]
    },
    {
     "name": "stdout",
     "output_type": "stream",
     "text": [
      "mse_loss(xtest, ytest) = 1.5857102f0\n"
     ]
    },
    {
     "name": "stderr",
     "output_type": "stream",
     "text": [
      "┌ Info: Epoch 20\n",
      "└ @ ConvGRU /Users/kahingleung/.julia/packages/Flux/sY3yx/src/optimise/train.jl:136\n"
     ]
    },
    {
     "name": "stdout",
     "output_type": "stream",
     "text": [
      "mse_loss(xtest, ytest) = 1.5863823f0\n"
     ]
    },
    {
     "name": "stderr",
     "output_type": "stream",
     "text": [
      "┌ Info: Epoch 21\n",
      "└ @ ConvGRU /Users/kahingleung/.julia/packages/Flux/sY3yx/src/optimise/train.jl:136\n",
      "┌ Info: Epoch 22\n",
      "└ @ ConvGRU /Users/kahingleung/.julia/packages/Flux/sY3yx/src/optimise/train.jl:136\n"
     ]
    },
    {
     "name": "stdout",
     "output_type": "stream",
     "text": [
      "mse_loss(xtest, ytest) = 1.5975868f0\n",
      "mse_loss(xtest, ytest) = 1.6123319f0\n"
     ]
    },
    {
     "name": "stderr",
     "output_type": "stream",
     "text": [
      "┌ Info: Epoch 23\n",
      "└ @ ConvGRU /Users/kahingleung/.julia/packages/Flux/sY3yx/src/optimise/train.jl:136\n"
     ]
    },
    {
     "name": "stdout",
     "output_type": "stream",
     "text": [
      "mse_loss(xtest, ytest) = 1.6092181f0\n"
     ]
    },
    {
     "name": "stderr",
     "output_type": "stream",
     "text": [
      "┌ Info: Epoch 24\n",
      "└ @ ConvGRU /Users/kahingleung/.julia/packages/Flux/sY3yx/src/optimise/train.jl:136\n"
     ]
    },
    {
     "name": "stdout",
     "output_type": "stream",
     "text": [
      "mse_loss(xtest, ytest) = 1.620426f0\n"
     ]
    },
    {
     "name": "stderr",
     "output_type": "stream",
     "text": [
      "┌ Info: Epoch 25\n",
      "└ @ ConvGRU /Users/kahingleung/.julia/packages/Flux/sY3yx/src/optimise/train.jl:136\n"
     ]
    },
    {
     "name": "stdout",
     "output_type": "stream",
     "text": [
      "mse_loss(xtest, ytest) = 1.619605f0\n"
     ]
    },
    {
     "name": "stderr",
     "output_type": "stream",
     "text": [
      "┌ Info: Epoch 26\n",
      "└ @ ConvGRU /Users/kahingleung/.julia/packages/Flux/sY3yx/src/optimise/train.jl:136\n"
     ]
    },
    {
     "name": "stdout",
     "output_type": "stream",
     "text": [
      "mse_loss(xtest, ytest) = 1.6153516f0\n"
     ]
    },
    {
     "name": "stderr",
     "output_type": "stream",
     "text": [
      "┌ Info: Epoch 27\n",
      "└ @ ConvGRU /Users/kahingleung/.julia/packages/Flux/sY3yx/src/optimise/train.jl:136\n"
     ]
    },
    {
     "name": "stdout",
     "output_type": "stream",
     "text": [
      "mse_loss(xtest, ytest) = 1.6149207f0\n"
     ]
    },
    {
     "name": "stderr",
     "output_type": "stream",
     "text": [
      "┌ Info: Epoch 28\n",
      "└ @ ConvGRU /Users/kahingleung/.julia/packages/Flux/sY3yx/src/optimise/train.jl:136\n"
     ]
    },
    {
     "name": "stdout",
     "output_type": "stream",
     "text": [
      "mse_loss(xtest, ytest) = 1.614465f0\n"
     ]
    },
    {
     "name": "stderr",
     "output_type": "stream",
     "text": [
      "┌ Info: Epoch 29\n",
      "└ @ ConvGRU /Users/kahingleung/.julia/packages/Flux/sY3yx/src/optimise/train.jl:136\n",
      "┌ Info: Epoch 30\n",
      "└ @ ConvGRU /Users/kahingleung/.julia/packages/Flux/sY3yx/src/optimise/train.jl:136\n"
     ]
    },
    {
     "name": "stdout",
     "output_type": "stream",
     "text": [
      "mse_loss(xtest, ytest) = 1.6154232f0\n",
      "(250,)\n",
      "myObjective(df, seqlen, Nh, lr, sym * \"-\" * string(i)) = 1.6359184f0\n",
      "191080.005994842503189409\n",
      "mse_loss(xtest, ytest) = 2.205612f0\n",
      "mse_loss(xtest, ytest) = 2.0479524f0\n"
     ]
    },
    {
     "name": "stderr",
     "output_type": "stream",
     "text": [
      "┌ Info: Epoch 1\n",
      "└ @ ConvGRU /Users/kahingleung/.julia/packages/Flux/sY3yx/src/optimise/train.jl:136\n"
     ]
    },
    {
     "name": "stdout",
     "output_type": "stream",
     "text": [
      "mse_loss(xtest, ytest) = 1.8715522f0\n"
     ]
    },
    {
     "name": "stderr",
     "output_type": "stream",
     "text": [
      "┌ Info: Epoch 2\n",
      "└ @ ConvGRU /Users/kahingleung/.julia/packages/Flux/sY3yx/src/optimise/train.jl:136\n"
     ]
    },
    {
     "name": "stdout",
     "output_type": "stream",
     "text": [
      "mse_loss(xtest, ytest) = 1.7529801f0\n"
     ]
    },
    {
     "name": "stderr",
     "output_type": "stream",
     "text": [
      "┌ Info: Epoch 3\n",
      "└ @ ConvGRU /Users/kahingleung/.julia/packages/Flux/sY3yx/src/optimise/train.jl:136\n"
     ]
    },
    {
     "name": "stdout",
     "output_type": "stream",
     "text": [
      "mse_loss(xtest, ytest) = 1.7115161f0\n"
     ]
    },
    {
     "name": "stderr",
     "output_type": "stream",
     "text": [
      "┌ Info: Epoch 4\n",
      "└ @ ConvGRU /Users/kahingleung/.julia/packages/Flux/sY3yx/src/optimise/train.jl:136\n"
     ]
    },
    {
     "name": "stdout",
     "output_type": "stream",
     "text": [
      "mse_loss(xtest, ytest) = 1.7031568f0\n"
     ]
    },
    {
     "name": "stderr",
     "output_type": "stream",
     "text": [
      "┌ Info: Epoch 5\n",
      "└ @ ConvGRU /Users/kahingleung/.julia/packages/Flux/sY3yx/src/optimise/train.jl:136\n",
      "┌ Info: Epoch 6\n",
      "└ @ ConvGRU /Users/kahingleung/.julia/packages/Flux/sY3yx/src/optimise/train.jl:136\n"
     ]
    },
    {
     "name": "stdout",
     "output_type": "stream",
     "text": [
      "mse_loss(xtest, ytest) = 1.6904513f0\n",
      "mse_loss(xtest, ytest) = 1.7416886f0\n"
     ]
    },
    {
     "name": "stderr",
     "output_type": "stream",
     "text": [
      "┌ Info: Epoch 7\n",
      "└ @ ConvGRU /Users/kahingleung/.julia/packages/Flux/sY3yx/src/optimise/train.jl:136\n"
     ]
    },
    {
     "name": "stdout",
     "output_type": "stream",
     "text": [
      "mse_loss(xtest, ytest) = 1.6498479f0\n"
     ]
    },
    {
     "name": "stderr",
     "output_type": "stream",
     "text": [
      "┌ Info: Epoch 8\n",
      "└ @ ConvGRU /Users/kahingleung/.julia/packages/Flux/sY3yx/src/optimise/train.jl:136\n"
     ]
    },
    {
     "name": "stdout",
     "output_type": "stream",
     "text": [
      "mse_loss(xtest, ytest) = 1.755716f0\n"
     ]
    },
    {
     "name": "stderr",
     "output_type": "stream",
     "text": [
      "┌ Info: Epoch 9\n",
      "└ @ ConvGRU /Users/kahingleung/.julia/packages/Flux/sY3yx/src/optimise/train.jl:136\n"
     ]
    },
    {
     "name": "stdout",
     "output_type": "stream",
     "text": [
      "mse_loss(xtest, ytest) = 1.6550587f0\n"
     ]
    },
    {
     "name": "stderr",
     "output_type": "stream",
     "text": [
      "┌ Info: Epoch 10\n",
      "└ @ ConvGRU /Users/kahingleung/.julia/packages/Flux/sY3yx/src/optimise/train.jl:136\n"
     ]
    },
    {
     "name": "stdout",
     "output_type": "stream",
     "text": [
      "mse_loss(xtest, ytest) = 1.5936377f0\n"
     ]
    },
    {
     "name": "stderr",
     "output_type": "stream",
     "text": [
      "┌ Info: Epoch 11\n",
      "└ @ ConvGRU /Users/kahingleung/.julia/packages/Flux/sY3yx/src/optimise/train.jl:136\n"
     ]
    },
    {
     "name": "stdout",
     "output_type": "stream",
     "text": [
      "mse_loss(xtest, ytest) = 1.6093704f0\n"
     ]
    },
    {
     "name": "stderr",
     "output_type": "stream",
     "text": [
      "┌ Info: Epoch 12\n",
      "└ @ ConvGRU /Users/kahingleung/.julia/packages/Flux/sY3yx/src/optimise/train.jl:136\n"
     ]
    },
    {
     "name": "stdout",
     "output_type": "stream",
     "text": [
      "mse_loss(xtest, ytest) = 1.6581239f0\n"
     ]
    },
    {
     "name": "stderr",
     "output_type": "stream",
     "text": [
      "┌ Info: Epoch 13\n",
      "└ @ ConvGRU /Users/kahingleung/.julia/packages/Flux/sY3yx/src/optimise/train.jl:136\n",
      "┌ Info: Epoch 14\n",
      "└ @ ConvGRU /Users/kahingleung/.julia/packages/Flux/sY3yx/src/optimise/train.jl:136\n"
     ]
    },
    {
     "name": "stdout",
     "output_type": "stream",
     "text": [
      "mse_loss(xtest, ytest) = 1.6964455f0\n"
     ]
    },
    {
     "name": "stderr",
     "output_type": "stream",
     "text": [
      "┌ Info: Epoch 15\n",
      "└ @ ConvGRU /Users/kahingleung/.julia/packages/Flux/sY3yx/src/optimise/train.jl:136\n"
     ]
    },
    {
     "name": "stdout",
     "output_type": "stream",
     "text": [
      "mse_loss(xtest, ytest) = 1.6480051f0\n",
      "mse_loss(xtest, ytest) = 1.6143192f0\n"
     ]
    },
    {
     "name": "stderr",
     "output_type": "stream",
     "text": [
      "┌ Info: Epoch 16\n",
      "└ @ ConvGRU /Users/kahingleung/.julia/packages/Flux/sY3yx/src/optimise/train.jl:136\n"
     ]
    },
    {
     "name": "stdout",
     "output_type": "stream",
     "text": [
      "mse_loss(xtest, ytest) = 1.6280911f0\n"
     ]
    },
    {
     "name": "stderr",
     "output_type": "stream",
     "text": [
      "┌ Info: Epoch 17\n",
      "└ @ ConvGRU /Users/kahingleung/.julia/packages/Flux/sY3yx/src/optimise/train.jl:136\n",
      "┌ Info: Epoch 18\n",
      "└ @ ConvGRU /Users/kahingleung/.julia/packages/Flux/sY3yx/src/optimise/train.jl:136\n"
     ]
    },
    {
     "name": "stdout",
     "output_type": "stream",
     "text": [
      "mse_loss(xtest, ytest) = 1.6082108f0\n",
      "mse_loss(xtest, ytest) = 1.5841194f0\n"
     ]
    },
    {
     "name": "stderr",
     "output_type": "stream",
     "text": [
      "┌ Info: Epoch 19\n",
      "└ @ ConvGRU /Users/kahingleung/.julia/packages/Flux/sY3yx/src/optimise/train.jl:136\n"
     ]
    },
    {
     "name": "stdout",
     "output_type": "stream",
     "text": [
      "mse_loss(xtest, ytest) = 1.6037958f0\n"
     ]
    },
    {
     "name": "stderr",
     "output_type": "stream",
     "text": [
      "┌ Info: Epoch 20\n",
      "└ @ ConvGRU /Users/kahingleung/.julia/packages/Flux/sY3yx/src/optimise/train.jl:136\n"
     ]
    },
    {
     "name": "stdout",
     "output_type": "stream",
     "text": [
      "mse_loss(xtest, ytest) = 1.5802075f0\n"
     ]
    },
    {
     "name": "stderr",
     "output_type": "stream",
     "text": [
      "┌ Info: Epoch 21\n",
      "└ @ ConvGRU /Users/kahingleung/.julia/packages/Flux/sY3yx/src/optimise/train.jl:136\n",
      "┌ Info: Epoch 22\n",
      "└ @ ConvGRU /Users/kahingleung/.julia/packages/Flux/sY3yx/src/optimise/train.jl:136\n"
     ]
    },
    {
     "name": "stdout",
     "output_type": "stream",
     "text": [
      "mse_loss(xtest, ytest) = 1.569607f0\n",
      "mse_loss(xtest, ytest) = 1.6095364f0\n"
     ]
    },
    {
     "name": "stderr",
     "output_type": "stream",
     "text": [
      "┌ Info: Epoch 23\n",
      "└ @ ConvGRU /Users/kahingleung/.julia/packages/Flux/sY3yx/src/optimise/train.jl:136\n"
     ]
    },
    {
     "name": "stdout",
     "output_type": "stream",
     "text": [
      "mse_loss(xtest, ytest) = 1.541087f0\n"
     ]
    },
    {
     "name": "stderr",
     "output_type": "stream",
     "text": [
      "┌ Info: Epoch 24\n",
      "└ @ ConvGRU /Users/kahingleung/.julia/packages/Flux/sY3yx/src/optimise/train.jl:136\n"
     ]
    },
    {
     "name": "stdout",
     "output_type": "stream",
     "text": [
      "mse_loss(xtest, ytest) = 1.5663437f0\n"
     ]
    },
    {
     "name": "stderr",
     "output_type": "stream",
     "text": [
      "┌ Info: Epoch 25\n",
      "└ @ ConvGRU /Users/kahingleung/.julia/packages/Flux/sY3yx/src/optimise/train.jl:136\n",
      "┌ Info: Epoch 26\n",
      "└ @ ConvGRU /Users/kahingleung/.julia/packages/Flux/sY3yx/src/optimise/train.jl:136\n"
     ]
    },
    {
     "name": "stdout",
     "output_type": "stream",
     "text": [
      "mse_loss(xtest, ytest) = 1.5794902f0\n",
      "mse_loss(xtest, ytest) = 1.5496727f0\n"
     ]
    },
    {
     "name": "stderr",
     "output_type": "stream",
     "text": [
      "┌ Info: Epoch 27\n",
      "└ @ ConvGRU /Users/kahingleung/.julia/packages/Flux/sY3yx/src/optimise/train.jl:136\n"
     ]
    },
    {
     "name": "stdout",
     "output_type": "stream",
     "text": [
      "mse_loss(xtest, ytest) = 1.5507631f0\n"
     ]
    },
    {
     "name": "stderr",
     "output_type": "stream",
     "text": [
      "┌ Info: Epoch 28\n",
      "└ @ ConvGRU /Users/kahingleung/.julia/packages/Flux/sY3yx/src/optimise/train.jl:136\n"
     ]
    },
    {
     "name": "stdout",
     "output_type": "stream",
     "text": [
      "mse_loss(xtest, ytest) = 1.5605884f0\n"
     ]
    },
    {
     "name": "stderr",
     "output_type": "stream",
     "text": [
      "┌ Info: Epoch 29\n",
      "└ @ ConvGRU /Users/kahingleung/.julia/packages/Flux/sY3yx/src/optimise/train.jl:136\n",
      "┌ Info: Epoch 30\n",
      "└ @ ConvGRU /Users/kahingleung/.julia/packages/Flux/sY3yx/src/optimise/train.jl:136\n"
     ]
    },
    {
     "name": "stdout",
     "output_type": "stream",
     "text": [
      "mse_loss(xtest, ytest) = 1.5423434f0\n",
      "(250,)\n",
      "myObjective(df, seqlen, Nh, lr, sym * \"-\" * string(i)) = 1.5483305f0\n",
      "201080.01\n",
      "mse_loss(xtest, ytest) = 2.0023289f0\n",
      "mse_loss(xtest, ytest) = 1.9270087f0\n"
     ]
    },
    {
     "name": "stderr",
     "output_type": "stream",
     "text": [
      "┌ Info: Epoch 1\n",
      "└ @ ConvGRU /Users/kahingleung/.julia/packages/Flux/sY3yx/src/optimise/train.jl:136\n"
     ]
    },
    {
     "name": "stdout",
     "output_type": "stream",
     "text": [
      "mse_loss(xtest, ytest) = 1.9294192f0\n"
     ]
    },
    {
     "name": "stderr",
     "output_type": "stream",
     "text": [
      "┌ Info: Epoch 2\n",
      "└ @ ConvGRU /Users/kahingleung/.julia/packages/Flux/sY3yx/src/optimise/train.jl:136\n"
     ]
    },
    {
     "name": "stdout",
     "output_type": "stream",
     "text": [
      "mse_loss(xtest, ytest) = 1.7290272f0\n"
     ]
    },
    {
     "name": "stderr",
     "output_type": "stream",
     "text": [
      "┌ Info: Epoch 3\n",
      "└ @ ConvGRU /Users/kahingleung/.julia/packages/Flux/sY3yx/src/optimise/train.jl:136\n"
     ]
    },
    {
     "name": "stdout",
     "output_type": "stream",
     "text": [
      "mse_loss(xtest, ytest) = 1.6608782f0\n"
     ]
    },
    {
     "name": "stderr",
     "output_type": "stream",
     "text": [
      "┌ Info: Epoch 4\n",
      "└ @ ConvGRU /Users/kahingleung/.julia/packages/Flux/sY3yx/src/optimise/train.jl:136\n"
     ]
    },
    {
     "name": "stdout",
     "output_type": "stream",
     "text": [
      "mse_loss(xtest, ytest) = 1.6393129f0\n"
     ]
    },
    {
     "name": "stderr",
     "output_type": "stream",
     "text": [
      "┌ Info: Epoch 5\n",
      "└ @ ConvGRU /Users/kahingleung/.julia/packages/Flux/sY3yx/src/optimise/train.jl:136\n"
     ]
    },
    {
     "name": "stdout",
     "output_type": "stream",
     "text": [
      "mse_loss(xtest, ytest) = 1.680243f0\n"
     ]
    },
    {
     "name": "stderr",
     "output_type": "stream",
     "text": [
      "┌ Info: Epoch 6\n",
      "└ @ ConvGRU /Users/kahingleung/.julia/packages/Flux/sY3yx/src/optimise/train.jl:136\n"
     ]
    },
    {
     "name": "stdout",
     "output_type": "stream",
     "text": [
      "mse_loss(xtest, ytest) = 1.7247096f0\n"
     ]
    },
    {
     "name": "stderr",
     "output_type": "stream",
     "text": [
      "┌ Info: Epoch 7\n",
      "└ @ ConvGRU /Users/kahingleung/.julia/packages/Flux/sY3yx/src/optimise/train.jl:136\n"
     ]
    },
    {
     "name": "stdout",
     "output_type": "stream",
     "text": [
      "mse_loss(xtest, ytest) = 1.6472249f0\n"
     ]
    },
    {
     "name": "stderr",
     "output_type": "stream",
     "text": [
      "┌ Info: Epoch 8\n",
      "└ @ ConvGRU /Users/kahingleung/.julia/packages/Flux/sY3yx/src/optimise/train.jl:136\n"
     ]
    },
    {
     "name": "stdout",
     "output_type": "stream",
     "text": [
      "mse_loss(xtest, ytest) = 1.6688743f0\n"
     ]
    },
    {
     "name": "stderr",
     "output_type": "stream",
     "text": [
      "┌ Info: Epoch 9\n",
      "└ @ ConvGRU /Users/kahingleung/.julia/packages/Flux/sY3yx/src/optimise/train.jl:136\n"
     ]
    },
    {
     "name": "stdout",
     "output_type": "stream",
     "text": [
      "mse_loss(xtest, ytest) = 1.6060809f0\n"
     ]
    },
    {
     "name": "stderr",
     "output_type": "stream",
     "text": [
      "┌ Info: Epoch 10\n",
      "└ @ ConvGRU /Users/kahingleung/.julia/packages/Flux/sY3yx/src/optimise/train.jl:136\n"
     ]
    },
    {
     "name": "stdout",
     "output_type": "stream",
     "text": [
      "mse_loss(xtest, ytest) = 1.7490432f0\n"
     ]
    },
    {
     "name": "stderr",
     "output_type": "stream",
     "text": [
      "┌ Info: Epoch 11\n",
      "└ @ ConvGRU /Users/kahingleung/.julia/packages/Flux/sY3yx/src/optimise/train.jl:136\n"
     ]
    },
    {
     "name": "stdout",
     "output_type": "stream",
     "text": [
      "mse_loss(xtest, ytest) = 1.5814056f0\n"
     ]
    },
    {
     "name": "stderr",
     "output_type": "stream",
     "text": [
      "┌ Info: Epoch 12\n",
      "└ @ ConvGRU /Users/kahingleung/.julia/packages/Flux/sY3yx/src/optimise/train.jl:136\n"
     ]
    },
    {
     "name": "stdout",
     "output_type": "stream",
     "text": [
      "mse_loss(xtest, ytest) = 1.5921141f0\n"
     ]
    },
    {
     "name": "stderr",
     "output_type": "stream",
     "text": [
      "┌ Info: Epoch 13\n",
      "└ @ ConvGRU /Users/kahingleung/.julia/packages/Flux/sY3yx/src/optimise/train.jl:136\n"
     ]
    },
    {
     "name": "stdout",
     "output_type": "stream",
     "text": [
      "mse_loss(xtest, ytest) = 1.6436012f0\n"
     ]
    },
    {
     "name": "stderr",
     "output_type": "stream",
     "text": [
      "┌ Info: Epoch 14\n",
      "└ @ ConvGRU /Users/kahingleung/.julia/packages/Flux/sY3yx/src/optimise/train.jl:136\n"
     ]
    },
    {
     "name": "stdout",
     "output_type": "stream",
     "text": [
      "mse_loss(xtest, ytest) = 1.6550593f0\n"
     ]
    },
    {
     "name": "stderr",
     "output_type": "stream",
     "text": [
      "┌ Info: Epoch 15\n",
      "└ @ ConvGRU /Users/kahingleung/.julia/packages/Flux/sY3yx/src/optimise/train.jl:136\n"
     ]
    },
    {
     "name": "stdout",
     "output_type": "stream",
     "text": [
      "mse_loss(xtest, ytest) = 1.619152f0\n"
     ]
    },
    {
     "name": "stderr",
     "output_type": "stream",
     "text": [
      "┌ Info: Epoch 16\n",
      "└ @ ConvGRU /Users/kahingleung/.julia/packages/Flux/sY3yx/src/optimise/train.jl:136\n",
      "┌ Info: Epoch 17\n",
      "└ @ ConvGRU /Users/kahingleung/.julia/packages/Flux/sY3yx/src/optimise/train.jl:136\n"
     ]
    },
    {
     "name": "stdout",
     "output_type": "stream",
     "text": [
      "mse_loss(xtest, ytest) = 1.6368552f0\n",
      "mse_loss(xtest, ytest) = 1.5493716f0\n"
     ]
    },
    {
     "name": "stderr",
     "output_type": "stream",
     "text": [
      "┌ Info: Epoch 18\n",
      "└ @ ConvGRU /Users/kahingleung/.julia/packages/Flux/sY3yx/src/optimise/train.jl:136\n"
     ]
    },
    {
     "name": "stdout",
     "output_type": "stream",
     "text": [
      "mse_loss(xtest, ytest) = 1.6147625f0\n"
     ]
    },
    {
     "name": "stderr",
     "output_type": "stream",
     "text": [
      "┌ Info: Epoch 19\n",
      "└ @ ConvGRU /Users/kahingleung/.julia/packages/Flux/sY3yx/src/optimise/train.jl:136\n",
      "┌ Info: Epoch 20\n",
      "└ @ ConvGRU /Users/kahingleung/.julia/packages/Flux/sY3yx/src/optimise/train.jl:136\n"
     ]
    },
    {
     "name": "stdout",
     "output_type": "stream",
     "text": [
      "mse_loss(xtest, ytest) = 1.5475366f0\n"
     ]
    },
    {
     "name": "stderr",
     "output_type": "stream",
     "text": [
      "┌ Info: Epoch 21\n",
      "└ @ ConvGRU /Users/kahingleung/.julia/packages/Flux/sY3yx/src/optimise/train.jl:136\n"
     ]
    },
    {
     "name": "stdout",
     "output_type": "stream",
     "text": [
      "mse_loss(xtest, ytest) = 1.5920446f0\n",
      "mse_loss(xtest, ytest) = 1.5544851f0\n"
     ]
    },
    {
     "name": "stderr",
     "output_type": "stream",
     "text": [
      "┌ Info: Epoch 22\n",
      "└ @ ConvGRU /Users/kahingleung/.julia/packages/Flux/sY3yx/src/optimise/train.jl:136\n"
     ]
    },
    {
     "name": "stdout",
     "output_type": "stream",
     "text": [
      "mse_loss(xtest, ytest) = 1.6259508f0\n"
     ]
    },
    {
     "name": "stderr",
     "output_type": "stream",
     "text": [
      "┌ Info: Epoch 23\n",
      "└ @ ConvGRU /Users/kahingleung/.julia/packages/Flux/sY3yx/src/optimise/train.jl:136\n",
      "┌ Info: Epoch 24\n",
      "└ @ ConvGRU /Users/kahingleung/.julia/packages/Flux/sY3yx/src/optimise/train.jl:136\n"
     ]
    },
    {
     "name": "stdout",
     "output_type": "stream",
     "text": [
      "mse_loss(xtest, ytest) = 1.5259745f0\n",
      "mse_loss(xtest, ytest) = 1.5511445f0\n"
     ]
    },
    {
     "name": "stderr",
     "output_type": "stream",
     "text": [
      "┌ Info: Epoch 25\n",
      "└ @ ConvGRU /Users/kahingleung/.julia/packages/Flux/sY3yx/src/optimise/train.jl:136\n"
     ]
    },
    {
     "name": "stdout",
     "output_type": "stream",
     "text": [
      "mse_loss(xtest, ytest) = 1.5951993f0\n"
     ]
    },
    {
     "name": "stderr",
     "output_type": "stream",
     "text": [
      "┌ Info: Epoch 26\n",
      "└ @ ConvGRU /Users/kahingleung/.julia/packages/Flux/sY3yx/src/optimise/train.jl:136\n"
     ]
    },
    {
     "name": "stdout",
     "output_type": "stream",
     "text": [
      "mse_loss(xtest, ytest) = 1.6652246f0\n"
     ]
    },
    {
     "name": "stderr",
     "output_type": "stream",
     "text": [
      "┌ Info: Epoch 27\n",
      "└ @ ConvGRU /Users/kahingleung/.julia/packages/Flux/sY3yx/src/optimise/train.jl:136\n"
     ]
    },
    {
     "name": "stdout",
     "output_type": "stream",
     "text": [
      "mse_loss(xtest, ytest) = 1.6265093f0\n"
     ]
    },
    {
     "name": "stderr",
     "output_type": "stream",
     "text": [
      "┌ Info: Epoch 28\n",
      "└ @ ConvGRU /Users/kahingleung/.julia/packages/Flux/sY3yx/src/optimise/train.jl:136\n"
     ]
    },
    {
     "name": "stdout",
     "output_type": "stream",
     "text": [
      "mse_loss(xtest, ytest) = 1.665415f0\n"
     ]
    },
    {
     "name": "stderr",
     "output_type": "stream",
     "text": [
      "┌ Info: Epoch 29\n",
      "└ @ ConvGRU /Users/kahingleung/.julia/packages/Flux/sY3yx/src/optimise/train.jl:136\n"
     ]
    },
    {
     "name": "stdout",
     "output_type": "stream",
     "text": [
      "mse_loss(xtest, ytest) = 1.5428067f0\n"
     ]
    },
    {
     "name": "stderr",
     "output_type": "stream",
     "text": [
      "┌ Info: Epoch 30\n",
      "└ @ ConvGRU /Users/kahingleung/.julia/packages/Flux/sY3yx/src/optimise/train.jl:136\n"
     ]
    },
    {
     "name": "stdout",
     "output_type": "stream",
     "text": [
      "(250,)\n",
      "myObjective(df, seqlen, Nh, lr, sym * \"-\" * string(i)) = 1.4633683f0\n",
      "mse_loss(xtest, ytest) = 1.9706041f0\n",
      "mse_loss(xtest, ytest) = 1.9530873f0\n"
     ]
    },
    {
     "name": "stderr",
     "output_type": "stream",
     "text": [
      "┌ Info: Epoch 1\n",
      "└ @ ConvGRU /Users/kahingleung/.julia/packages/Flux/sY3yx/src/optimise/train.jl:136\n",
      "┌ Info: Epoch 2\n",
      "└ @ ConvGRU /Users/kahingleung/.julia/packages/Flux/sY3yx/src/optimise/train.jl:136\n"
     ]
    },
    {
     "name": "stdout",
     "output_type": "stream",
     "text": [
      "mse_loss(xtest, ytest) = 1.901854f0\n"
     ]
    },
    {
     "name": "stderr",
     "output_type": "stream",
     "text": [
      "┌ Info: Epoch 3\n",
      "└ @ ConvGRU /Users/kahingleung/.julia/packages/Flux/sY3yx/src/optimise/train.jl:136\n"
     ]
    },
    {
     "name": "stdout",
     "output_type": "stream",
     "text": [
      "mse_loss(xtest, ytest) = 1.7654542f0\n",
      "mse_loss(xtest, ytest) = 1.8790656f0\n"
     ]
    },
    {
     "name": "stderr",
     "output_type": "stream",
     "text": [
      "┌ Info: Epoch 4\n",
      "└ @ ConvGRU /Users/kahingleung/.julia/packages/Flux/sY3yx/src/optimise/train.jl:136\n"
     ]
    },
    {
     "name": "stdout",
     "output_type": "stream",
     "text": [
      "mse_loss(xtest, ytest) = 1.9691266f0\n"
     ]
    },
    {
     "name": "stderr",
     "output_type": "stream",
     "text": [
      "┌ Info: Epoch 5\n",
      "└ @ ConvGRU /Users/kahingleung/.julia/packages/Flux/sY3yx/src/optimise/train.jl:136\n"
     ]
    },
    {
     "name": "stdout",
     "output_type": "stream",
     "text": [
      "mse_loss(xtest, ytest) = 1.6992481f0\n"
     ]
    },
    {
     "name": "stderr",
     "output_type": "stream",
     "text": [
      "┌ Info: Epoch 6\n",
      "└ @ ConvGRU /Users/kahingleung/.julia/packages/Flux/sY3yx/src/optimise/train.jl:136\n"
     ]
    },
    {
     "name": "stdout",
     "output_type": "stream",
     "text": [
      "mse_loss(xtest, ytest) = 1.7940897f0\n"
     ]
    },
    {
     "name": "stderr",
     "output_type": "stream",
     "text": [
      "┌ Info: Epoch 7\n",
      "└ @ ConvGRU /Users/kahingleung/.julia/packages/Flux/sY3yx/src/optimise/train.jl:136\n"
     ]
    },
    {
     "name": "stdout",
     "output_type": "stream",
     "text": [
      "mse_loss(xtest, ytest) = 1.7533637f0\n"
     ]
    },
    {
     "name": "stderr",
     "output_type": "stream",
     "text": [
      "┌ Info: Epoch 8\n",
      "└ @ ConvGRU /Users/kahingleung/.julia/packages/Flux/sY3yx/src/optimise/train.jl:136\n",
      "┌ Info: Epoch 9\n",
      "└ @ ConvGRU /Users/kahingleung/.julia/packages/Flux/sY3yx/src/optimise/train.jl:136\n"
     ]
    },
    {
     "name": "stdout",
     "output_type": "stream",
     "text": [
      "mse_loss(xtest, ytest) = 1.6778218f0\n",
      "mse_loss(xtest, ytest) = 1.6332862f0\n"
     ]
    },
    {
     "name": "stderr",
     "output_type": "stream",
     "text": [
      "┌ Info: Epoch 10\n",
      "└ @ ConvGRU /Users/kahingleung/.julia/packages/Flux/sY3yx/src/optimise/train.jl:136\n"
     ]
    },
    {
     "name": "stdout",
     "output_type": "stream",
     "text": [
      "mse_loss(xtest, ytest) = 1.6788417f0\n"
     ]
    },
    {
     "name": "stderr",
     "output_type": "stream",
     "text": [
      "┌ Info: Epoch 11\n",
      "└ @ ConvGRU /Users/kahingleung/.julia/packages/Flux/sY3yx/src/optimise/train.jl:136\n"
     ]
    },
    {
     "name": "stdout",
     "output_type": "stream",
     "text": [
      "mse_loss(xtest, ytest) = 1.5812125f0\n"
     ]
    },
    {
     "name": "stderr",
     "output_type": "stream",
     "text": [
      "┌ Info: Epoch 12\n",
      "└ @ ConvGRU /Users/kahingleung/.julia/packages/Flux/sY3yx/src/optimise/train.jl:136\n"
     ]
    },
    {
     "name": "stdout",
     "output_type": "stream",
     "text": [
      "mse_loss(xtest, ytest) = 1.6053736f0\n"
     ]
    },
    {
     "name": "stderr",
     "output_type": "stream",
     "text": [
      "┌ Info: Epoch 13\n",
      "└ @ ConvGRU /Users/kahingleung/.julia/packages/Flux/sY3yx/src/optimise/train.jl:136\n"
     ]
    },
    {
     "name": "stdout",
     "output_type": "stream",
     "text": [
      "mse_loss(xtest, ytest) = 1.5520295f0\n"
     ]
    },
    {
     "name": "stderr",
     "output_type": "stream",
     "text": [
      "┌ Info: Epoch 14\n",
      "└ @ ConvGRU /Users/kahingleung/.julia/packages/Flux/sY3yx/src/optimise/train.jl:136\n"
     ]
    },
    {
     "name": "stdout",
     "output_type": "stream",
     "text": [
      "mse_loss(xtest, ytest) = 1.6297026f0\n"
     ]
    },
    {
     "name": "stderr",
     "output_type": "stream",
     "text": [
      "┌ Info: Epoch 15\n",
      "└ @ ConvGRU /Users/kahingleung/.julia/packages/Flux/sY3yx/src/optimise/train.jl:136\n"
     ]
    },
    {
     "name": "stdout",
     "output_type": "stream",
     "text": [
      "mse_loss(xtest, ytest) = 1.5755477f0\n"
     ]
    },
    {
     "name": "stderr",
     "output_type": "stream",
     "text": [
      "┌ Info: Epoch 16\n",
      "└ @ ConvGRU /Users/kahingleung/.julia/packages/Flux/sY3yx/src/optimise/train.jl:136\n",
      "┌ Info: Epoch 17\n",
      "└ @ ConvGRU /Users/kahingleung/.julia/packages/Flux/sY3yx/src/optimise/train.jl:136\n"
     ]
    },
    {
     "name": "stdout",
     "output_type": "stream",
     "text": [
      "mse_loss(xtest, ytest) = 1.6001861f0\n"
     ]
    },
    {
     "name": "stderr",
     "output_type": "stream",
     "text": [
      "┌ Info: Epoch 18\n",
      "└ @ ConvGRU /Users/kahingleung/.julia/packages/Flux/sY3yx/src/optimise/train.jl:136\n"
     ]
    },
    {
     "name": "stdout",
     "output_type": "stream",
     "text": [
      "mse_loss(xtest, ytest) = 1.5482379f0\n",
      "mse_loss(xtest, ytest) = 1.5743855f0\n"
     ]
    },
    {
     "name": "stderr",
     "output_type": "stream",
     "text": [
      "┌ Info: Epoch 19\n",
      "└ @ ConvGRU /Users/kahingleung/.julia/packages/Flux/sY3yx/src/optimise/train.jl:136\n",
      "┌ Info: Epoch 20\n",
      "└ @ ConvGRU /Users/kahingleung/.julia/packages/Flux/sY3yx/src/optimise/train.jl:136\n"
     ]
    },
    {
     "name": "stdout",
     "output_type": "stream",
     "text": [
      "mse_loss(xtest, ytest) = 1.6223918f0\n",
      "mse_loss(xtest, ytest) = 1.579897f0\n"
     ]
    },
    {
     "name": "stderr",
     "output_type": "stream",
     "text": [
      "┌ Info: Epoch 21\n",
      "└ @ ConvGRU /Users/kahingleung/.julia/packages/Flux/sY3yx/src/optimise/train.jl:136\n"
     ]
    },
    {
     "name": "stdout",
     "output_type": "stream",
     "text": [
      "mse_loss(xtest, ytest) = 1.6201681f0\n"
     ]
    },
    {
     "name": "stderr",
     "output_type": "stream",
     "text": [
      "┌ Info: Epoch 22\n",
      "└ @ ConvGRU /Users/kahingleung/.julia/packages/Flux/sY3yx/src/optimise/train.jl:136\n"
     ]
    },
    {
     "name": "stdout",
     "output_type": "stream",
     "text": [
      "mse_loss(xtest, ytest) = 1.5561099f0\n"
     ]
    },
    {
     "name": "stderr",
     "output_type": "stream",
     "text": [
      "┌ Info: Epoch 23\n",
      "└ @ ConvGRU /Users/kahingleung/.julia/packages/Flux/sY3yx/src/optimise/train.jl:136\n"
     ]
    },
    {
     "name": "stdout",
     "output_type": "stream",
     "text": [
      "mse_loss(xtest, ytest) = 1.5988331f0\n"
     ]
    },
    {
     "name": "stderr",
     "output_type": "stream",
     "text": [
      "┌ Info: Epoch 24\n",
      "└ @ ConvGRU /Users/kahingleung/.julia/packages/Flux/sY3yx/src/optimise/train.jl:136\n"
     ]
    },
    {
     "name": "stdout",
     "output_type": "stream",
     "text": [
      "mse_loss(xtest, ytest) = 1.7082396f0\n"
     ]
    },
    {
     "name": "stderr",
     "output_type": "stream",
     "text": [
      "┌ Info: Epoch 25\n",
      "└ @ ConvGRU /Users/kahingleung/.julia/packages/Flux/sY3yx/src/optimise/train.jl:136\n"
     ]
    },
    {
     "name": "stdout",
     "output_type": "stream",
     "text": [
      "mse_loss(xtest, ytest) = 1.5241584f0\n"
     ]
    },
    {
     "name": "stderr",
     "output_type": "stream",
     "text": [
      "┌ Info: Epoch 26\n",
      "└ @ ConvGRU /Users/kahingleung/.julia/packages/Flux/sY3yx/src/optimise/train.jl:136\n"
     ]
    },
    {
     "name": "stdout",
     "output_type": "stream",
     "text": [
      "mse_loss(xtest, ytest) = 1.5479423f0\n"
     ]
    },
    {
     "name": "stderr",
     "output_type": "stream",
     "text": [
      "┌ Info: Epoch 27\n",
      "└ @ ConvGRU /Users/kahingleung/.julia/packages/Flux/sY3yx/src/optimise/train.jl:136\n",
      "┌ Info: Epoch 28\n",
      "└ @ ConvGRU /Users/kahingleung/.julia/packages/Flux/sY3yx/src/optimise/train.jl:136\n"
     ]
    },
    {
     "name": "stdout",
     "output_type": "stream",
     "text": [
      "mse_loss(xtest, ytest) = 1.572665f0\n",
      "mse_loss(xtest, ytest) = 1.560897f0\n"
     ]
    },
    {
     "name": "stderr",
     "output_type": "stream",
     "text": [
      "┌ Info: Epoch 29\n",
      "└ @ ConvGRU /Users/kahingleung/.julia/packages/Flux/sY3yx/src/optimise/train.jl:136\n"
     ]
    },
    {
     "name": "stdout",
     "output_type": "stream",
     "text": [
      "mse_loss(xtest, ytest) = 1.7074962f0\n"
     ]
    },
    {
     "name": "stderr",
     "output_type": "stream",
     "text": [
      "┌ Info: Epoch 30\n",
      "└ @ ConvGRU /Users/kahingleung/.julia/packages/Flux/sY3yx/src/optimise/train.jl:136\n"
     ]
    },
    {
     "name": "stdout",
     "output_type": "stream",
     "text": [
      "mse_loss(xtest, ytest) = 1.6636723f0\n"
     ]
    },
    {
     "name": "stderr",
     "output_type": "stream",
     "text": [
      "┌ Info: Epoch 31\n",
      "└ @ ConvGRU /Users/kahingleung/.julia/packages/Flux/sY3yx/src/optimise/train.jl:136\n"
     ]
    },
    {
     "name": "stdout",
     "output_type": "stream",
     "text": [
      "mse_loss(xtest, ytest) = 1.6736816f0\n"
     ]
    },
    {
     "name": "stderr",
     "output_type": "stream",
     "text": [
      "┌ Info: Epoch 32\n",
      "└ @ ConvGRU /Users/kahingleung/.julia/packages/Flux/sY3yx/src/optimise/train.jl:136\n"
     ]
    },
    {
     "name": "stdout",
     "output_type": "stream",
     "text": [
      "mse_loss(xtest, ytest) = 1.6125673f0\n"
     ]
    },
    {
     "name": "stderr",
     "output_type": "stream",
     "text": [
      "┌ Info: Epoch 33\n",
      "└ @ ConvGRU /Users/kahingleung/.julia/packages/Flux/sY3yx/src/optimise/train.jl:136\n"
     ]
    },
    {
     "name": "stdout",
     "output_type": "stream",
     "text": [
      "mse_loss(xtest, ytest) = 1.6833324f0\n"
     ]
    },
    {
     "name": "stderr",
     "output_type": "stream",
     "text": [
      "┌ Info: Epoch 34\n",
      "└ @ ConvGRU /Users/kahingleung/.julia/packages/Flux/sY3yx/src/optimise/train.jl:136\n"
     ]
    },
    {
     "name": "stdout",
     "output_type": "stream",
     "text": [
      "mse_loss(xtest, ytest) = 1.4742494f0\n"
     ]
    },
    {
     "name": "stderr",
     "output_type": "stream",
     "text": [
      "┌ Info: Epoch 35\n",
      "└ @ ConvGRU /Users/kahingleung/.julia/packages/Flux/sY3yx/src/optimise/train.jl:136\n",
      "┌ Info: Epoch 36\n",
      "└ @ ConvGRU /Users/kahingleung/.julia/packages/Flux/sY3yx/src/optimise/train.jl:136\n"
     ]
    },
    {
     "name": "stdout",
     "output_type": "stream",
     "text": [
      "mse_loss(xtest, ytest) = 1.6526532f0\n"
     ]
    },
    {
     "name": "stderr",
     "output_type": "stream",
     "text": [
      "┌ Info: Epoch 37\n",
      "└ @ ConvGRU /Users/kahingleung/.julia/packages/Flux/sY3yx/src/optimise/train.jl:136\n"
     ]
    },
    {
     "name": "stdout",
     "output_type": "stream",
     "text": [
      "mse_loss(xtest, ytest) = 1.7139958f0\n",
      "mse_loss(xtest, ytest) = 1.5233538f0\n"
     ]
    },
    {
     "name": "stderr",
     "output_type": "stream",
     "text": [
      "┌ Info: Epoch 38\n",
      "└ @ ConvGRU /Users/kahingleung/.julia/packages/Flux/sY3yx/src/optimise/train.jl:136\n"
     ]
    },
    {
     "name": "stdout",
     "output_type": "stream",
     "text": [
      "mse_loss(xtest, ytest) = 1.6794741f0\n"
     ]
    },
    {
     "name": "stderr",
     "output_type": "stream",
     "text": [
      "┌ Info: Epoch 39\n",
      "└ @ ConvGRU /Users/kahingleung/.julia/packages/Flux/sY3yx/src/optimise/train.jl:136\n",
      "┌ Info: Epoch 40\n",
      "└ @ ConvGRU /Users/kahingleung/.julia/packages/Flux/sY3yx/src/optimise/train.jl:136\n"
     ]
    },
    {
     "name": "stdout",
     "output_type": "stream",
     "text": [
      "mse_loss(xtest, ytest) = 1.7492205f0\n",
      "mse_loss(xtest, ytest) = 1.6161481f0\n"
     ]
    },
    {
     "name": "stderr",
     "output_type": "stream",
     "text": [
      "┌ Info: Epoch 41\n",
      "└ @ ConvGRU /Users/kahingleung/.julia/packages/Flux/sY3yx/src/optimise/train.jl:136\n"
     ]
    },
    {
     "name": "stdout",
     "output_type": "stream",
     "text": [
      "mse_loss(xtest, ytest) = 1.6634288f0\n"
     ]
    },
    {
     "name": "stderr",
     "output_type": "stream",
     "text": [
      "┌ Info: Epoch 42\n",
      "└ @ ConvGRU /Users/kahingleung/.julia/packages/Flux/sY3yx/src/optimise/train.jl:136\n"
     ]
    },
    {
     "name": "stdout",
     "output_type": "stream",
     "text": [
      "mse_loss(xtest, ytest) = 1.6564282f0\n"
     ]
    },
    {
     "name": "stderr",
     "output_type": "stream",
     "text": [
      "┌ Info: Epoch 43\n",
      "└ @ ConvGRU /Users/kahingleung/.julia/packages/Flux/sY3yx/src/optimise/train.jl:136\n"
     ]
    },
    {
     "name": "stdout",
     "output_type": "stream",
     "text": [
      "mse_loss(xtest, ytest) = 1.7976615f0\n"
     ]
    },
    {
     "name": "stderr",
     "output_type": "stream",
     "text": [
      "┌ Info: Epoch 44\n",
      "└ @ ConvGRU /Users/kahingleung/.julia/packages/Flux/sY3yx/src/optimise/train.jl:136\n"
     ]
    },
    {
     "name": "stdout",
     "output_type": "stream",
     "text": [
      "mse_loss(xtest, ytest) = 1.7194128f0\n"
     ]
    },
    {
     "name": "stderr",
     "output_type": "stream",
     "text": [
      "┌ Info: Epoch 45\n",
      "└ @ ConvGRU /Users/kahingleung/.julia/packages/Flux/sY3yx/src/optimise/train.jl:136\n"
     ]
    },
    {
     "name": "stdout",
     "output_type": "stream",
     "text": [
      "mse_loss(xtest, ytest) = 1.536714f0\n"
     ]
    },
    {
     "name": "stderr",
     "output_type": "stream",
     "text": [
      "┌ Info: Epoch 46\n",
      "└ @ ConvGRU /Users/kahingleung/.julia/packages/Flux/sY3yx/src/optimise/train.jl:136\n"
     ]
    },
    {
     "name": "stdout",
     "output_type": "stream",
     "text": [
      "mse_loss(xtest, ytest) = 1.5591828f0\n"
     ]
    },
    {
     "name": "stderr",
     "output_type": "stream",
     "text": [
      "┌ Info: Epoch 47\n",
      "└ @ ConvGRU /Users/kahingleung/.julia/packages/Flux/sY3yx/src/optimise/train.jl:136\n",
      "┌ Info: Epoch 48\n",
      "└ @ ConvGRU /Users/kahingleung/.julia/packages/Flux/sY3yx/src/optimise/train.jl:136\n"
     ]
    },
    {
     "name": "stdout",
     "output_type": "stream",
     "text": [
      "mse_loss(xtest, ytest) = 1.5869131f0\n"
     ]
    },
    {
     "name": "stderr",
     "output_type": "stream",
     "text": [
      "┌ Info: Epoch 49\n",
      "└ @ ConvGRU /Users/kahingleung/.julia/packages/Flux/sY3yx/src/optimise/train.jl:136\n"
     ]
    },
    {
     "name": "stdout",
     "output_type": "stream",
     "text": [
      "mse_loss(xtest, ytest) = 1.5975047f0\n",
      "mse_loss(xtest, ytest) = 1.583612f0\n"
     ]
    },
    {
     "name": "stderr",
     "output_type": "stream",
     "text": [
      "┌ Info: Epoch 50\n",
      "└ @ ConvGRU /Users/kahingleung/.julia/packages/Flux/sY3yx/src/optimise/train.jl:136\n"
     ]
    },
    {
     "name": "stdout",
     "output_type": "stream",
     "text": [
      "mse_loss(xtest, ytest) = 1.5699862f0\n"
     ]
    },
    {
     "name": "stderr",
     "output_type": "stream",
     "text": [
      "┌ Info: Epoch 51\n",
      "└ @ ConvGRU /Users/kahingleung/.julia/packages/Flux/sY3yx/src/optimise/train.jl:136\n"
     ]
    },
    {
     "name": "stdout",
     "output_type": "stream",
     "text": [
      "mse_loss(xtest, ytest) = 1.5291533f0\n"
     ]
    },
    {
     "name": "stderr",
     "output_type": "stream",
     "text": [
      "┌ Info: Epoch 52\n",
      "└ @ ConvGRU /Users/kahingleung/.julia/packages/Flux/sY3yx/src/optimise/train.jl:136\n"
     ]
    },
    {
     "name": "stdout",
     "output_type": "stream",
     "text": [
      "mse_loss(xtest, ytest) = 1.559846f0\n"
     ]
    },
    {
     "name": "stderr",
     "output_type": "stream",
     "text": [
      "┌ Info: Epoch 53\n",
      "└ @ ConvGRU /Users/kahingleung/.julia/packages/Flux/sY3yx/src/optimise/train.jl:136\n"
     ]
    },
    {
     "name": "stdout",
     "output_type": "stream",
     "text": [
      "mse_loss(xtest, ytest) = 1.6397789f0\n"
     ]
    },
    {
     "name": "stderr",
     "output_type": "stream",
     "text": [
      "┌ Info: Epoch 54\n",
      "└ @ ConvGRU /Users/kahingleung/.julia/packages/Flux/sY3yx/src/optimise/train.jl:136\n"
     ]
    },
    {
     "name": "stdout",
     "output_type": "stream",
     "text": [
      "mse_loss(xtest, ytest) = 1.5279756f0\n"
     ]
    },
    {
     "name": "stderr",
     "output_type": "stream",
     "text": [
      "┌ Info: Epoch 55\n",
      "└ @ ConvGRU /Users/kahingleung/.julia/packages/Flux/sY3yx/src/optimise/train.jl:136\n",
      "┌ Info: Epoch 56\n",
      "└ @ ConvGRU /Users/kahingleung/.julia/packages/Flux/sY3yx/src/optimise/train.jl:136\n"
     ]
    },
    {
     "name": "stdout",
     "output_type": "stream",
     "text": [
      "mse_loss(xtest, ytest) = 1.6061393f0\n"
     ]
    },
    {
     "name": "stderr",
     "output_type": "stream",
     "text": [
      "┌ Info: Epoch 57\n",
      "└ @ ConvGRU /Users/kahingleung/.julia/packages/Flux/sY3yx/src/optimise/train.jl:136\n"
     ]
    },
    {
     "name": "stdout",
     "output_type": "stream",
     "text": [
      "mse_loss(xtest, ytest) = 1.5467235f0\n",
      "mse_loss(xtest, ytest) = 1.5844253f0\n"
     ]
    },
    {
     "name": "stderr",
     "output_type": "stream",
     "text": [
      "┌ Info: Epoch 58\n",
      "└ @ ConvGRU /Users/kahingleung/.julia/packages/Flux/sY3yx/src/optimise/train.jl:136\n"
     ]
    },
    {
     "name": "stdout",
     "output_type": "stream",
     "text": [
      "mse_loss(xtest, ytest) = 1.5486377f0\n"
     ]
    },
    {
     "name": "stderr",
     "output_type": "stream",
     "text": [
      "┌ Info: Epoch 59\n",
      "└ @ ConvGRU /Users/kahingleung/.julia/packages/Flux/sY3yx/src/optimise/train.jl:136\n",
      "┌ Info: Epoch 60\n",
      "└ @ ConvGRU /Users/kahingleung/.julia/packages/Flux/sY3yx/src/optimise/train.jl:136\n"
     ]
    },
    {
     "name": "stdout",
     "output_type": "stream",
     "text": [
      "mse_loss(xtest, ytest) = 1.5497569f0\n",
      "mse_loss(xtest, ytest) = 1.566622f0\n"
     ]
    },
    {
     "name": "stderr",
     "output_type": "stream",
     "text": [
      "┌ Info: Epoch 61\n",
      "└ @ ConvGRU /Users/kahingleung/.julia/packages/Flux/sY3yx/src/optimise/train.jl:136\n"
     ]
    },
    {
     "name": "stdout",
     "output_type": "stream",
     "text": [
      "mse_loss(xtest, ytest) = 1.5412756f0\n"
     ]
    },
    {
     "name": "stderr",
     "output_type": "stream",
     "text": [
      "┌ Info: Epoch 62\n",
      "└ @ ConvGRU /Users/kahingleung/.julia/packages/Flux/sY3yx/src/optimise/train.jl:136\n"
     ]
    },
    {
     "name": "stdout",
     "output_type": "stream",
     "text": [
      "mse_loss(xtest, ytest) = 1.5403382f0\n"
     ]
    },
    {
     "name": "stderr",
     "output_type": "stream",
     "text": [
      "┌ Info: Epoch 63\n",
      "└ @ ConvGRU /Users/kahingleung/.julia/packages/Flux/sY3yx/src/optimise/train.jl:136\n"
     ]
    },
    {
     "name": "stdout",
     "output_type": "stream",
     "text": [
      "mse_loss(xtest, ytest) = 1.5316093f0\n"
     ]
    },
    {
     "name": "stderr",
     "output_type": "stream",
     "text": [
      "┌ Info: Epoch 64\n",
      "└ @ ConvGRU /Users/kahingleung/.julia/packages/Flux/sY3yx/src/optimise/train.jl:136\n"
     ]
    },
    {
     "name": "stdout",
     "output_type": "stream",
     "text": [
      "mse_loss(xtest, ytest) = 1.565463f0\n"
     ]
    },
    {
     "name": "stderr",
     "output_type": "stream",
     "text": [
      "┌ Info: Epoch 65\n",
      "└ @ ConvGRU /Users/kahingleung/.julia/packages/Flux/sY3yx/src/optimise/train.jl:136\n"
     ]
    },
    {
     "name": "stdout",
     "output_type": "stream",
     "text": [
      "mse_loss(xtest, ytest) = 1.5420412f0\n"
     ]
    },
    {
     "name": "stderr",
     "output_type": "stream",
     "text": [
      "┌ Info: Epoch 66\n",
      "└ @ ConvGRU /Users/kahingleung/.julia/packages/Flux/sY3yx/src/optimise/train.jl:136\n"
     ]
    },
    {
     "name": "stdout",
     "output_type": "stream",
     "text": [
      "mse_loss(xtest, ytest) = 1.5731248f0\n"
     ]
    },
    {
     "name": "stderr",
     "output_type": "stream",
     "text": [
      "┌ Info: Epoch 67\n",
      "└ @ ConvGRU /Users/kahingleung/.julia/packages/Flux/sY3yx/src/optimise/train.jl:136\n"
     ]
    },
    {
     "name": "stdout",
     "output_type": "stream",
     "text": [
      "mse_loss(xtest, ytest) = 1.606198f0\n"
     ]
    },
    {
     "name": "stderr",
     "output_type": "stream",
     "text": [
      "┌ Info: Epoch 68\n",
      "└ @ ConvGRU /Users/kahingleung/.julia/packages/Flux/sY3yx/src/optimise/train.jl:136\n"
     ]
    },
    {
     "name": "stdout",
     "output_type": "stream",
     "text": [
      "mse_loss(xtest, ytest) = 1.5610772f0\n"
     ]
    },
    {
     "name": "stderr",
     "output_type": "stream",
     "text": [
      "┌ Info: Epoch 69\n",
      "└ @ ConvGRU /Users/kahingleung/.julia/packages/Flux/sY3yx/src/optimise/train.jl:136\n"
     ]
    },
    {
     "name": "stdout",
     "output_type": "stream",
     "text": [
      "mse_loss(xtest, ytest) = 1.5971383f0\n"
     ]
    },
    {
     "name": "stderr",
     "output_type": "stream",
     "text": [
      "┌ Info: Epoch 70\n",
      "└ @ ConvGRU /Users/kahingleung/.julia/packages/Flux/sY3yx/src/optimise/train.jl:136\n"
     ]
    },
    {
     "name": "stdout",
     "output_type": "stream",
     "text": [
      "mse_loss(xtest, ytest) = 1.6125132f0\n"
     ]
    },
    {
     "name": "stderr",
     "output_type": "stream",
     "text": [
      "┌ Info: Epoch 71\n",
      "└ @ ConvGRU /Users/kahingleung/.julia/packages/Flux/sY3yx/src/optimise/train.jl:136\n"
     ]
    },
    {
     "name": "stdout",
     "output_type": "stream",
     "text": [
      "mse_loss(xtest, ytest) = 1.5676991f0\n"
     ]
    },
    {
     "name": "stderr",
     "output_type": "stream",
     "text": [
      "┌ Info: Epoch 72\n",
      "└ @ ConvGRU /Users/kahingleung/.julia/packages/Flux/sY3yx/src/optimise/train.jl:136\n"
     ]
    },
    {
     "name": "stdout",
     "output_type": "stream",
     "text": [
      "mse_loss(xtest, ytest) = 1.5137472f0\n"
     ]
    },
    {
     "name": "stderr",
     "output_type": "stream",
     "text": [
      "┌ Info: Epoch 73\n",
      "└ @ ConvGRU /Users/kahingleung/.julia/packages/Flux/sY3yx/src/optimise/train.jl:136\n"
     ]
    },
    {
     "name": "stdout",
     "output_type": "stream",
     "text": [
      "mse_loss(xtest, ytest) = 1.5097177f0\n"
     ]
    },
    {
     "name": "stderr",
     "output_type": "stream",
     "text": [
      "┌ Info: Epoch 74\n",
      "└ @ ConvGRU /Users/kahingleung/.julia/packages/Flux/sY3yx/src/optimise/train.jl:136\n",
      "┌ Info: Epoch 75\n",
      "└ @ ConvGRU /Users/kahingleung/.julia/packages/Flux/sY3yx/src/optimise/train.jl:136\n"
     ]
    },
    {
     "name": "stdout",
     "output_type": "stream",
     "text": [
      "mse_loss(xtest, ytest) = 1.5395834f0\n"
     ]
    },
    {
     "name": "stderr",
     "output_type": "stream",
     "text": [
      "┌ Info: Epoch 76\n",
      "└ @ ConvGRU /Users/kahingleung/.julia/packages/Flux/sY3yx/src/optimise/train.jl:136\n"
     ]
    },
    {
     "name": "stdout",
     "output_type": "stream",
     "text": [
      "mse_loss(xtest, ytest) = 1.585992f0\n",
      "mse_loss(xtest, ytest) = 1.6425515f0\n"
     ]
    },
    {
     "name": "stderr",
     "output_type": "stream",
     "text": [
      "┌ Info: Epoch 77\n",
      "└ @ ConvGRU /Users/kahingleung/.julia/packages/Flux/sY3yx/src/optimise/train.jl:136\n"
     ]
    },
    {
     "name": "stdout",
     "output_type": "stream",
     "text": [
      "mse_loss(xtest, ytest) = 1.5550256f0\n"
     ]
    },
    {
     "name": "stderr",
     "output_type": "stream",
     "text": [
      "┌ Info: Epoch 78\n",
      "└ @ ConvGRU /Users/kahingleung/.julia/packages/Flux/sY3yx/src/optimise/train.jl:136\n",
      "┌ Info: Epoch 79\n",
      "└ @ ConvGRU /Users/kahingleung/.julia/packages/Flux/sY3yx/src/optimise/train.jl:136\n"
     ]
    },
    {
     "name": "stdout",
     "output_type": "stream",
     "text": [
      "mse_loss(xtest, ytest) = 1.5980206f0\n",
      "mse_loss(xtest, ytest) = 1.5587256f0\n"
     ]
    },
    {
     "name": "stderr",
     "output_type": "stream",
     "text": [
      "┌ Info: Epoch 80\n",
      "└ @ ConvGRU /Users/kahingleung/.julia/packages/Flux/sY3yx/src/optimise/train.jl:136\n"
     ]
    },
    {
     "name": "stdout",
     "output_type": "stream",
     "text": [
      "mse_loss(xtest, ytest) = 1.5995728f0\n"
     ]
    },
    {
     "name": "stderr",
     "output_type": "stream",
     "text": [
      "┌ Info: Epoch 81\n",
      "└ @ ConvGRU /Users/kahingleung/.julia/packages/Flux/sY3yx/src/optimise/train.jl:136\n"
     ]
    },
    {
     "name": "stdout",
     "output_type": "stream",
     "text": [
      "mse_loss(xtest, ytest) = 1.5791976f0\n"
     ]
    },
    {
     "name": "stderr",
     "output_type": "stream",
     "text": [
      "┌ Info: Epoch 82\n",
      "└ @ ConvGRU /Users/kahingleung/.julia/packages/Flux/sY3yx/src/optimise/train.jl:136\n"
     ]
    },
    {
     "name": "stdout",
     "output_type": "stream",
     "text": [
      "mse_loss(xtest, ytest) = 1.5872018f0\n"
     ]
    },
    {
     "name": "stderr",
     "output_type": "stream",
     "text": [
      "┌ Info: Epoch 83\n",
      "└ @ ConvGRU /Users/kahingleung/.julia/packages/Flux/sY3yx/src/optimise/train.jl:136\n"
     ]
    },
    {
     "name": "stdout",
     "output_type": "stream",
     "text": [
      "mse_loss(xtest, ytest) = 1.5418894f0\n"
     ]
    },
    {
     "name": "stderr",
     "output_type": "stream",
     "text": [
      "┌ Info: Epoch 84\n",
      "└ @ ConvGRU /Users/kahingleung/.julia/packages/Flux/sY3yx/src/optimise/train.jl:136\n"
     ]
    },
    {
     "name": "stdout",
     "output_type": "stream",
     "text": [
      "mse_loss(xtest, ytest) = 1.5198714f0\n"
     ]
    },
    {
     "name": "stderr",
     "output_type": "stream",
     "text": [
      "┌ Info: Epoch 85\n",
      "└ @ ConvGRU /Users/kahingleung/.julia/packages/Flux/sY3yx/src/optimise/train.jl:136\n"
     ]
    },
    {
     "name": "stdout",
     "output_type": "stream",
     "text": [
      "mse_loss(xtest, ytest) = 1.5004377f0\n"
     ]
    },
    {
     "name": "stderr",
     "output_type": "stream",
     "text": [
      "┌ Info: Epoch 86\n",
      "└ @ ConvGRU /Users/kahingleung/.julia/packages/Flux/sY3yx/src/optimise/train.jl:136\n",
      "┌ Info: Epoch 87\n",
      "└ @ ConvGRU /Users/kahingleung/.julia/packages/Flux/sY3yx/src/optimise/train.jl:136\n"
     ]
    },
    {
     "name": "stdout",
     "output_type": "stream",
     "text": [
      "mse_loss(xtest, ytest) = 1.6418062f0\n",
      "mse_loss(xtest, ytest) = 1.5966338f0\n"
     ]
    },
    {
     "name": "stderr",
     "output_type": "stream",
     "text": [
      "┌ Info: Epoch 88\n",
      "└ @ ConvGRU /Users/kahingleung/.julia/packages/Flux/sY3yx/src/optimise/train.jl:136\n"
     ]
    },
    {
     "name": "stdout",
     "output_type": "stream",
     "text": [
      "mse_loss(xtest, ytest) = 1.6031395f0\n"
     ]
    },
    {
     "name": "stderr",
     "output_type": "stream",
     "text": [
      "┌ Info: Epoch 89\n",
      "└ @ ConvGRU /Users/kahingleung/.julia/packages/Flux/sY3yx/src/optimise/train.jl:136\n"
     ]
    },
    {
     "name": "stdout",
     "output_type": "stream",
     "text": [
      "mse_loss(xtest, ytest) = 1.6315746f0\n"
     ]
    },
    {
     "name": "stderr",
     "output_type": "stream",
     "text": [
      "┌ Info: Epoch 90\n",
      "└ @ ConvGRU /Users/kahingleung/.julia/packages/Flux/sY3yx/src/optimise/train.jl:136\n"
     ]
    },
    {
     "name": "stdout",
     "output_type": "stream",
     "text": [
      "mse_loss(xtest, ytest) = 1.5501521f0\n"
     ]
    },
    {
     "name": "stderr",
     "output_type": "stream",
     "text": [
      "┌ Info: Epoch 91\n",
      "└ @ ConvGRU /Users/kahingleung/.julia/packages/Flux/sY3yx/src/optimise/train.jl:136\n"
     ]
    },
    {
     "name": "stdout",
     "output_type": "stream",
     "text": [
      "mse_loss(xtest, ytest) = 1.4993178f0\n"
     ]
    },
    {
     "name": "stderr",
     "output_type": "stream",
     "text": [
      "┌ Info: Epoch 92\n",
      "└ @ ConvGRU /Users/kahingleung/.julia/packages/Flux/sY3yx/src/optimise/train.jl:136\n"
     ]
    },
    {
     "name": "stdout",
     "output_type": "stream",
     "text": [
      "mse_loss(xtest, ytest) = 1.5725051f0\n"
     ]
    },
    {
     "name": "stderr",
     "output_type": "stream",
     "text": [
      "┌ Info: Epoch 93\n",
      "└ @ ConvGRU /Users/kahingleung/.julia/packages/Flux/sY3yx/src/optimise/train.jl:136\n"
     ]
    },
    {
     "name": "stdout",
     "output_type": "stream",
     "text": [
      "mse_loss(xtest, ytest) = 1.5927144f0\n"
     ]
    },
    {
     "name": "stderr",
     "output_type": "stream",
     "text": [
      "┌ Info: Epoch 94\n",
      "└ @ ConvGRU /Users/kahingleung/.julia/packages/Flux/sY3yx/src/optimise/train.jl:136\n",
      "┌ Info: Epoch 95\n",
      "└ @ ConvGRU /Users/kahingleung/.julia/packages/Flux/sY3yx/src/optimise/train.jl:136\n"
     ]
    },
    {
     "name": "stdout",
     "output_type": "stream",
     "text": [
      "mse_loss(xtest, ytest) = 1.5913537f0\n"
     ]
    },
    {
     "name": "stderr",
     "output_type": "stream",
     "text": [
      "┌ Info: Epoch 96\n",
      "└ @ ConvGRU /Users/kahingleung/.julia/packages/Flux/sY3yx/src/optimise/train.jl:136\n"
     ]
    },
    {
     "name": "stdout",
     "output_type": "stream",
     "text": [
      "mse_loss(xtest, ytest) = 1.5411896f0\n",
      "mse_loss(xtest, ytest) = 1.5329438f0\n"
     ]
    },
    {
     "name": "stderr",
     "output_type": "stream",
     "text": [
      "┌ Info: Epoch 97\n",
      "└ @ ConvGRU /Users/kahingleung/.julia/packages/Flux/sY3yx/src/optimise/train.jl:136\n",
      "┌ Info: Epoch 98\n",
      "└ @ ConvGRU /Users/kahingleung/.julia/packages/Flux/sY3yx/src/optimise/train.jl:136\n"
     ]
    },
    {
     "name": "stdout",
     "output_type": "stream",
     "text": [
      "mse_loss(xtest, ytest) = 1.5838556f0\n"
     ]
    },
    {
     "name": "stderr",
     "output_type": "stream",
     "text": [
      "┌ Info: Epoch 99\n",
      "└ @ ConvGRU /Users/kahingleung/.julia/packages/Flux/sY3yx/src/optimise/train.jl:136\n"
     ]
    },
    {
     "name": "stdout",
     "output_type": "stream",
     "text": [
      "mse_loss(xtest, ytest) = 1.6677018f0\n",
      "mse_loss(xtest, ytest) = 1.5467937f0\n"
     ]
    },
    {
     "name": "stderr",
     "output_type": "stream",
     "text": [
      "┌ Info: Epoch 100\n",
      "└ @ ConvGRU /Users/kahingleung/.julia/packages/Flux/sY3yx/src/optimise/train.jl:136\n"
     ]
    },
    {
     "name": "stdout",
     "output_type": "stream",
     "text": [
      "(250,)\n",
      "1.5737658\n",
      "0.724\n",
      "[\"open\", \"close\", \"high\", \"low\", \"volume\", \"ondate\", \"CZK\", \"PLN\", \"MXN\", \"TRY\", \"ISK\", \"USD\", \"RUB\", \"EUR\", \"GBP\", \"JPY\", \"THB\", \"CNY\", \"KRW\", \"SEK\", \"BRL\", \"BGN\", \"HUF\", \"NZD\", \"CHF\", \"IDR\", \"SGD\", \"MYR\", \"ZAR\", \"CAD\", \"PHP\", \"HKD\", \"HRK\", \"INR\", \"AUD\", \"NOK\", \"DKK\", \"RON\", \"ILS\", \"Close\"]\n",
      "12040.0016681005372000592\n",
      "mse_loss(xtest, ytest) = 0.43145627f0\n"
     ]
    },
    {
     "name": "stderr",
     "output_type": "stream",
     "text": [
      "┌ Info: Epoch 1\n",
      "└ @ ConvGRU /Users/kahingleung/.julia/packages/Flux/sY3yx/src/optimise/train.jl:136\n"
     ]
    },
    {
     "name": "stdout",
     "output_type": "stream",
     "text": [
      "mse_loss(xtest, ytest) = 0.41965067f0\n"
     ]
    },
    {
     "name": "stderr",
     "output_type": "stream",
     "text": [
      "┌ Info: Epoch 2\n",
      "└ @ ConvGRU /Users/kahingleung/.julia/packages/Flux/sY3yx/src/optimise/train.jl:136\n"
     ]
    },
    {
     "name": "stdout",
     "output_type": "stream",
     "text": [
      "mse_loss(xtest, ytest) = 0.40545136f0\n",
      "mse_loss(xtest, ytest) = 0.40689528f0\n"
     ]
    },
    {
     "name": "stderr",
     "output_type": "stream",
     "text": [
      "┌ Info: Epoch 3\n",
      "└ @ ConvGRU /Users/kahingleung/.julia/packages/Flux/sY3yx/src/optimise/train.jl:136\n",
      "┌ Info: Epoch 4\n",
      "└ @ ConvGRU /Users/kahingleung/.julia/packages/Flux/sY3yx/src/optimise/train.jl:136\n"
     ]
    },
    {
     "name": "stdout",
     "output_type": "stream",
     "text": [
      "mse_loss(xtest, ytest) = 0.40648407f0\n",
      "mse_loss(xtest, ytest) = 0.40681255f0\n"
     ]
    },
    {
     "name": "stderr",
     "output_type": "stream",
     "text": [
      "┌ Info: Epoch 5\n",
      "└ @ ConvGRU /Users/kahingleung/.julia/packages/Flux/sY3yx/src/optimise/train.jl:136\n"
     ]
    },
    {
     "name": "stdout",
     "output_type": "stream",
     "text": [
      "mse_loss(xtest, ytest) = 0.40519485f0\n"
     ]
    },
    {
     "name": "stderr",
     "output_type": "stream",
     "text": [
      "┌ Info: Epoch 6\n",
      "└ @ ConvGRU /Users/kahingleung/.julia/packages/Flux/sY3yx/src/optimise/train.jl:136\n",
      "┌ Info: Epoch 7\n",
      "└ @ ConvGRU /Users/kahingleung/.julia/packages/Flux/sY3yx/src/optimise/train.jl:136\n"
     ]
    },
    {
     "name": "stdout",
     "output_type": "stream",
     "text": [
      "mse_loss(xtest, ytest) = 0.4054918f0\n",
      "mse_loss(xtest, ytest) = 0.4048177f0\n"
     ]
    },
    {
     "name": "stderr",
     "output_type": "stream",
     "text": [
      "┌ Info: Epoch 8\n",
      "└ @ ConvGRU /Users/kahingleung/.julia/packages/Flux/sY3yx/src/optimise/train.jl:136\n",
      "┌ Info: Epoch 9\n",
      "└ @ ConvGRU /Users/kahingleung/.julia/packages/Flux/sY3yx/src/optimise/train.jl:136\n"
     ]
    },
    {
     "name": "stdout",
     "output_type": "stream",
     "text": [
      "mse_loss(xtest, ytest) = 0.40416983f0\n",
      "mse_loss(xtest, ytest) = 0.40585163f0\n"
     ]
    },
    {
     "name": "stderr",
     "output_type": "stream",
     "text": [
      "┌ Info: Epoch 10\n",
      "└ @ ConvGRU /Users/kahingleung/.julia/packages/Flux/sY3yx/src/optimise/train.jl:136\n"
     ]
    },
    {
     "name": "stdout",
     "output_type": "stream",
     "text": [
      "mse_loss(xtest, ytest) = 0.4035271f0\n"
     ]
    },
    {
     "name": "stderr",
     "output_type": "stream",
     "text": [
      "┌ Info: Epoch 11\n",
      "└ @ ConvGRU /Users/kahingleung/.julia/packages/Flux/sY3yx/src/optimise/train.jl:136\n",
      "┌ Info: Epoch 12\n",
      "└ @ ConvGRU /Users/kahingleung/.julia/packages/Flux/sY3yx/src/optimise/train.jl:136\n"
     ]
    },
    {
     "name": "stdout",
     "output_type": "stream",
     "text": [
      "mse_loss(xtest, ytest) = 0.40384838f0\n",
      "mse_loss(xtest, ytest) = 0.40465075f0\n"
     ]
    },
    {
     "name": "stderr",
     "output_type": "stream",
     "text": [
      "┌ Info: Epoch 13\n",
      "└ @ ConvGRU /Users/kahingleung/.julia/packages/Flux/sY3yx/src/optimise/train.jl:136\n",
      "┌ Info: Epoch 14\n",
      "└ @ ConvGRU /Users/kahingleung/.julia/packages/Flux/sY3yx/src/optimise/train.jl:136\n"
     ]
    },
    {
     "name": "stdout",
     "output_type": "stream",
     "text": [
      "mse_loss(xtest, ytest) = 0.4043269f0\n",
      "mse_loss(xtest, ytest) = 0.40602008f0\n"
     ]
    },
    {
     "name": "stderr",
     "output_type": "stream",
     "text": [
      "┌ Info: Epoch 15\n",
      "└ @ ConvGRU /Users/kahingleung/.julia/packages/Flux/sY3yx/src/optimise/train.jl:136\n"
     ]
    },
    {
     "name": "stdout",
     "output_type": "stream",
     "text": [
      "mse_loss(xtest, ytest) = 0.40591145f0\n"
     ]
    },
    {
     "name": "stderr",
     "output_type": "stream",
     "text": [
      "┌ Info: Epoch 16\n",
      "└ @ ConvGRU /Users/kahingleung/.julia/packages/Flux/sY3yx/src/optimise/train.jl:136\n",
      "┌ Info: Epoch 17\n",
      "└ @ ConvGRU /Users/kahingleung/.julia/packages/Flux/sY3yx/src/optimise/train.jl:136\n"
     ]
    },
    {
     "name": "stdout",
     "output_type": "stream",
     "text": [
      "mse_loss(xtest, ytest) = 0.40534952f0\n",
      "mse_loss(xtest, ytest) = 0.40644568f0\n"
     ]
    },
    {
     "name": "stderr",
     "output_type": "stream",
     "text": [
      "┌ Info: Epoch 18\n",
      "└ @ ConvGRU /Users/kahingleung/.julia/packages/Flux/sY3yx/src/optimise/train.jl:136\n",
      "┌ Info: Epoch 19\n",
      "└ @ ConvGRU /Users/kahingleung/.julia/packages/Flux/sY3yx/src/optimise/train.jl:136\n"
     ]
    },
    {
     "name": "stdout",
     "output_type": "stream",
     "text": [
      "mse_loss(xtest, ytest) = 0.40632635f0\n",
      "mse_loss(xtest, ytest) = 0.40590888f0\n"
     ]
    },
    {
     "name": "stderr",
     "output_type": "stream",
     "text": [
      "┌ Info: Epoch 20\n",
      "└ @ ConvGRU /Users/kahingleung/.julia/packages/Flux/sY3yx/src/optimise/train.jl:136\n"
     ]
    },
    {
     "name": "stdout",
     "output_type": "stream",
     "text": [
      "mse_loss(xtest, ytest) = 0.40584618f0\n"
     ]
    },
    {
     "name": "stderr",
     "output_type": "stream",
     "text": [
      "┌ Info: Epoch 21\n",
      "└ @ ConvGRU /Users/kahingleung/.julia/packages/Flux/sY3yx/src/optimise/train.jl:136\n",
      "┌ Info: Epoch 22\n",
      "└ @ ConvGRU /Users/kahingleung/.julia/packages/Flux/sY3yx/src/optimise/train.jl:136\n"
     ]
    },
    {
     "name": "stdout",
     "output_type": "stream",
     "text": [
      "mse_loss(xtest, ytest) = 0.40536147f0\n",
      "mse_loss(xtest, ytest) = 0.40597734f0\n"
     ]
    },
    {
     "name": "stderr",
     "output_type": "stream",
     "text": [
      "┌ Info: Epoch 23\n",
      "└ @ ConvGRU /Users/kahingleung/.julia/packages/Flux/sY3yx/src/optimise/train.jl:136\n",
      "┌ Info: Epoch 24\n",
      "└ @ ConvGRU /Users/kahingleung/.julia/packages/Flux/sY3yx/src/optimise/train.jl:136\n"
     ]
    },
    {
     "name": "stdout",
     "output_type": "stream",
     "text": [
      "mse_loss(xtest, ytest) = 0.40644503f0\n",
      "mse_loss(xtest, ytest) = 0.40704572f0\n"
     ]
    },
    {
     "name": "stderr",
     "output_type": "stream",
     "text": [
      "┌ Info: Epoch 25\n",
      "└ @ ConvGRU /Users/kahingleung/.julia/packages/Flux/sY3yx/src/optimise/train.jl:136\n"
     ]
    },
    {
     "name": "stdout",
     "output_type": "stream",
     "text": [
      "mse_loss(xtest, ytest) = 0.4061778f0\n"
     ]
    },
    {
     "name": "stderr",
     "output_type": "stream",
     "text": [
      "┌ Info: Epoch 26\n",
      "└ @ ConvGRU /Users/kahingleung/.julia/packages/Flux/sY3yx/src/optimise/train.jl:136\n",
      "┌ Info: Epoch 27\n",
      "└ @ ConvGRU /Users/kahingleung/.julia/packages/Flux/sY3yx/src/optimise/train.jl:136\n"
     ]
    },
    {
     "name": "stdout",
     "output_type": "stream",
     "text": [
      "mse_loss(xtest, ytest) = 0.40625182f0\n",
      "mse_loss(xtest, ytest) = 0.40653437f0\n"
     ]
    },
    {
     "name": "stderr",
     "output_type": "stream",
     "text": [
      "┌ Info: Epoch 28\n",
      "└ @ ConvGRU /Users/kahingleung/.julia/packages/Flux/sY3yx/src/optimise/train.jl:136\n",
      "┌ Info: Epoch 29\n",
      "└ @ ConvGRU /Users/kahingleung/.julia/packages/Flux/sY3yx/src/optimise/train.jl:136\n"
     ]
    },
    {
     "name": "stdout",
     "output_type": "stream",
     "text": [
      "mse_loss(xtest, ytest) = 0.4069845f0\n",
      "mse_loss(xtest, ytest) = 0.4051187f0\n"
     ]
    },
    {
     "name": "stderr",
     "output_type": "stream",
     "text": [
      "┌ Info: Epoch 30\n",
      "└ @ ConvGRU /Users/kahingleung/.julia/packages/Flux/sY3yx/src/optimise/train.jl:136\n"
     ]
    },
    {
     "name": "stdout",
     "output_type": "stream",
     "text": [
      "(250,)\n",
      "myObjective(df, seqlen, Nh, lr, sym * \"-\" * string(i)) = 0.40350437f0\n",
      "21060.0027825594022071257\n",
      "mse_loss(xtest, ytest) = 0.72453135f0\n",
      "mse_loss(xtest, ytest) = 0.6275061f0\n"
     ]
    },
    {
     "name": "stderr",
     "output_type": "stream",
     "text": [
      "┌ Info: Epoch 1\n",
      "└ @ ConvGRU /Users/kahingleung/.julia/packages/Flux/sY3yx/src/optimise/train.jl:136\n"
     ]
    },
    {
     "name": "stdout",
     "output_type": "stream",
     "text": [
      "mse_loss(xtest, ytest) = 0.4116246f0\n"
     ]
    },
    {
     "name": "stderr",
     "output_type": "stream",
     "text": [
      "┌ Info: Epoch 2\n",
      "└ @ ConvGRU /Users/kahingleung/.julia/packages/Flux/sY3yx/src/optimise/train.jl:136\n"
     ]
    },
    {
     "name": "stdout",
     "output_type": "stream",
     "text": [
      "mse_loss(xtest, ytest) = 0.40936032f0\n"
     ]
    },
    {
     "name": "stderr",
     "output_type": "stream",
     "text": [
      "┌ Info: Epoch 3\n",
      "└ @ ConvGRU /Users/kahingleung/.julia/packages/Flux/sY3yx/src/optimise/train.jl:136\n",
      "┌ Info: Epoch 4\n",
      "└ @ ConvGRU /Users/kahingleung/.julia/packages/Flux/sY3yx/src/optimise/train.jl:136\n"
     ]
    },
    {
     "name": "stdout",
     "output_type": "stream",
     "text": [
      "mse_loss(xtest, ytest) = 0.41017538f0\n",
      "mse_loss(xtest, ytest) = 0.4110138f0\n"
     ]
    },
    {
     "name": "stderr",
     "output_type": "stream",
     "text": [
      "┌ Info: Epoch 5\n",
      "└ @ ConvGRU /Users/kahingleung/.julia/packages/Flux/sY3yx/src/optimise/train.jl:136\n"
     ]
    },
    {
     "name": "stdout",
     "output_type": "stream",
     "text": [
      "mse_loss(xtest, ytest) = 0.41013536f0\n"
     ]
    },
    {
     "name": "stderr",
     "output_type": "stream",
     "text": [
      "┌ Info: Epoch 6\n",
      "└ @ ConvGRU /Users/kahingleung/.julia/packages/Flux/sY3yx/src/optimise/train.jl:136\n"
     ]
    },
    {
     "name": "stdout",
     "output_type": "stream",
     "text": [
      "mse_loss(xtest, ytest) = 0.41034904f0\n"
     ]
    },
    {
     "name": "stderr",
     "output_type": "stream",
     "text": [
      "┌ Info: Epoch 7\n",
      "└ @ ConvGRU /Users/kahingleung/.julia/packages/Flux/sY3yx/src/optimise/train.jl:136\n",
      "┌ Info: Epoch 8\n",
      "└ @ ConvGRU /Users/kahingleung/.julia/packages/Flux/sY3yx/src/optimise/train.jl:136\n"
     ]
    },
    {
     "name": "stdout",
     "output_type": "stream",
     "text": [
      "mse_loss(xtest, ytest) = 0.4114353f0\n"
     ]
    },
    {
     "name": "stderr",
     "output_type": "stream",
     "text": [
      "┌ Info: Epoch 9\n",
      "└ @ ConvGRU /Users/kahingleung/.julia/packages/Flux/sY3yx/src/optimise/train.jl:136\n"
     ]
    },
    {
     "name": "stdout",
     "output_type": "stream",
     "text": [
      "mse_loss(xtest, ytest) = 0.41002196f0\n"
     ]
    },
    {
     "name": "stderr",
     "output_type": "stream",
     "text": [
      "┌ Info: Epoch 10\n",
      "└ @ ConvGRU /Users/kahingleung/.julia/packages/Flux/sY3yx/src/optimise/train.jl:136\n"
     ]
    },
    {
     "name": "stdout",
     "output_type": "stream",
     "text": [
      "mse_loss(xtest, ytest) = 0.40778083f0\n"
     ]
    },
    {
     "name": "stderr",
     "output_type": "stream",
     "text": [
      "┌ Info: Epoch 11\n",
      "└ @ ConvGRU /Users/kahingleung/.julia/packages/Flux/sY3yx/src/optimise/train.jl:136\n"
     ]
    },
    {
     "name": "stdout",
     "output_type": "stream",
     "text": [
      "mse_loss(xtest, ytest) = 0.40722752f0\n"
     ]
    },
    {
     "name": "stderr",
     "output_type": "stream",
     "text": [
      "┌ Info: Epoch 12\n",
      "└ @ ConvGRU /Users/kahingleung/.julia/packages/Flux/sY3yx/src/optimise/train.jl:136\n"
     ]
    },
    {
     "name": "stdout",
     "output_type": "stream",
     "text": [
      "mse_loss(xtest, ytest) = 0.40642706f0\n",
      "mse_loss(xtest, ytest) = 0.40563256f0\n"
     ]
    },
    {
     "name": "stderr",
     "output_type": "stream",
     "text": [
      "┌ Info: Epoch 13\n",
      "└ @ ConvGRU /Users/kahingleung/.julia/packages/Flux/sY3yx/src/optimise/train.jl:136\n"
     ]
    },
    {
     "name": "stdout",
     "output_type": "stream",
     "text": [
      "mse_loss(xtest, ytest) = 0.40482208f0\n"
     ]
    },
    {
     "name": "stderr",
     "output_type": "stream",
     "text": [
      "┌ Info: Epoch 14\n",
      "└ @ ConvGRU /Users/kahingleung/.julia/packages/Flux/sY3yx/src/optimise/train.jl:136\n"
     ]
    },
    {
     "name": "stdout",
     "output_type": "stream",
     "text": [
      "mse_loss(xtest, ytest) = 0.4054814f0\n"
     ]
    },
    {
     "name": "stderr",
     "output_type": "stream",
     "text": [
      "┌ Info: Epoch 15\n",
      "└ @ ConvGRU /Users/kahingleung/.julia/packages/Flux/sY3yx/src/optimise/train.jl:136\n"
     ]
    },
    {
     "name": "stdout",
     "output_type": "stream",
     "text": [
      "mse_loss(xtest, ytest) = 0.40414992f0\n"
     ]
    },
    {
     "name": "stderr",
     "output_type": "stream",
     "text": [
      "┌ Info: Epoch 16\n",
      "└ @ ConvGRU /Users/kahingleung/.julia/packages/Flux/sY3yx/src/optimise/train.jl:136\n"
     ]
    },
    {
     "name": "stdout",
     "output_type": "stream",
     "text": [
      "mse_loss(xtest, ytest) = 0.40418264f0\n"
     ]
    },
    {
     "name": "stderr",
     "output_type": "stream",
     "text": [
      "┌ Info: Epoch 17\n",
      "└ @ ConvGRU /Users/kahingleung/.julia/packages/Flux/sY3yx/src/optimise/train.jl:136\n"
     ]
    },
    {
     "name": "stdout",
     "output_type": "stream",
     "text": [
      "mse_loss(xtest, ytest) = 0.40469357f0\n"
     ]
    },
    {
     "name": "stderr",
     "output_type": "stream",
     "text": [
      "┌ Info: Epoch 18\n",
      "└ @ ConvGRU /Users/kahingleung/.julia/packages/Flux/sY3yx/src/optimise/train.jl:136\n"
     ]
    },
    {
     "name": "stdout",
     "output_type": "stream",
     "text": [
      "mse_loss(xtest, ytest) = 0.4056289f0\n"
     ]
    },
    {
     "name": "stderr",
     "output_type": "stream",
     "text": [
      "┌ Info: Epoch 19\n",
      "└ @ ConvGRU /Users/kahingleung/.julia/packages/Flux/sY3yx/src/optimise/train.jl:136\n"
     ]
    },
    {
     "name": "stdout",
     "output_type": "stream",
     "text": [
      "mse_loss(xtest, ytest) = 0.4028793f0\n"
     ]
    },
    {
     "name": "stderr",
     "output_type": "stream",
     "text": [
      "┌ Info: Epoch 20\n",
      "└ @ ConvGRU /Users/kahingleung/.julia/packages/Flux/sY3yx/src/optimise/train.jl:136\n"
     ]
    },
    {
     "name": "stdout",
     "output_type": "stream",
     "text": [
      "mse_loss(xtest, ytest) = 0.40616456f0\n"
     ]
    },
    {
     "name": "stderr",
     "output_type": "stream",
     "text": [
      "┌ Info: Epoch 21\n",
      "└ @ ConvGRU /Users/kahingleung/.julia/packages/Flux/sY3yx/src/optimise/train.jl:136\n"
     ]
    },
    {
     "name": "stdout",
     "output_type": "stream",
     "text": [
      "mse_loss(xtest, ytest) = 0.40404242f0\n"
     ]
    },
    {
     "name": "stderr",
     "output_type": "stream",
     "text": [
      "┌ Info: Epoch 22\n",
      "└ @ ConvGRU /Users/kahingleung/.julia/packages/Flux/sY3yx/src/optimise/train.jl:136\n"
     ]
    },
    {
     "name": "stdout",
     "output_type": "stream",
     "text": [
      "mse_loss(xtest, ytest) = 0.4035301f0\n"
     ]
    },
    {
     "name": "stderr",
     "output_type": "stream",
     "text": [
      "┌ Info: Epoch 23\n",
      "└ @ ConvGRU /Users/kahingleung/.julia/packages/Flux/sY3yx/src/optimise/train.jl:136\n"
     ]
    },
    {
     "name": "stdout",
     "output_type": "stream",
     "text": [
      "mse_loss(xtest, ytest) = 0.40195844f0\n"
     ]
    },
    {
     "name": "stderr",
     "output_type": "stream",
     "text": [
      "┌ Info: Epoch 24\n",
      "└ @ ConvGRU /Users/kahingleung/.julia/packages/Flux/sY3yx/src/optimise/train.jl:136\n"
     ]
    },
    {
     "name": "stdout",
     "output_type": "stream",
     "text": [
      "mse_loss(xtest, ytest) = 0.40138456f0\n"
     ]
    },
    {
     "name": "stderr",
     "output_type": "stream",
     "text": [
      "┌ Info: Epoch 25\n",
      "└ @ ConvGRU /Users/kahingleung/.julia/packages/Flux/sY3yx/src/optimise/train.jl:136\n"
     ]
    },
    {
     "name": "stdout",
     "output_type": "stream",
     "text": [
      "mse_loss(xtest, ytest) = 0.4010946f0\n"
     ]
    },
    {
     "name": "stderr",
     "output_type": "stream",
     "text": [
      "┌ Info: Epoch 26\n",
      "└ @ ConvGRU /Users/kahingleung/.julia/packages/Flux/sY3yx/src/optimise/train.jl:136\n"
     ]
    },
    {
     "name": "stdout",
     "output_type": "stream",
     "text": [
      "mse_loss(xtest, ytest) = 0.40215987f0\n"
     ]
    },
    {
     "name": "stderr",
     "output_type": "stream",
     "text": [
      "┌ Info: Epoch 27\n",
      "└ @ ConvGRU /Users/kahingleung/.julia/packages/Flux/sY3yx/src/optimise/train.jl:136\n"
     ]
    },
    {
     "name": "stdout",
     "output_type": "stream",
     "text": [
      "mse_loss(xtest, ytest) = 0.4034059f0\n"
     ]
    },
    {
     "name": "stderr",
     "output_type": "stream",
     "text": [
      "┌ Info: Epoch 28\n",
      "└ @ ConvGRU /Users/kahingleung/.julia/packages/Flux/sY3yx/src/optimise/train.jl:136\n"
     ]
    },
    {
     "name": "stdout",
     "output_type": "stream",
     "text": [
      "mse_loss(xtest, ytest) = 0.40166712f0\n"
     ]
    },
    {
     "name": "stderr",
     "output_type": "stream",
     "text": [
      "┌ Info: Epoch 29\n",
      "└ @ ConvGRU /Users/kahingleung/.julia/packages/Flux/sY3yx/src/optimise/train.jl:136\n"
     ]
    },
    {
     "name": "stdout",
     "output_type": "stream",
     "text": [
      "mse_loss(xtest, ytest) = 0.4020269f0\n"
     ]
    },
    {
     "name": "stderr",
     "output_type": "stream",
     "text": [
      "┌ Info: Epoch 30\n",
      "└ @ ConvGRU /Users/kahingleung/.julia/packages/Flux/sY3yx/src/optimise/train.jl:136\n"
     ]
    },
    {
     "name": "stdout",
     "output_type": "stream",
     "text": [
      "(250,)\n",
      "myObjective(df, seqlen, Nh, lr, sym * \"-\" * string(i)) = 0.39839628f0\n",
      "31020.007742636826811269\n",
      "mse_loss(xtest, ytest) = 1.3276747f0\n",
      "mse_loss(xtest, ytest) = 1.19597f0\n"
     ]
    },
    {
     "name": "stderr",
     "output_type": "stream",
     "text": [
      "┌ Info: Epoch 1\n",
      "└ @ ConvGRU /Users/kahingleung/.julia/packages/Flux/sY3yx/src/optimise/train.jl:136\n",
      "┌ Info: Epoch 2\n",
      "└ @ ConvGRU /Users/kahingleung/.julia/packages/Flux/sY3yx/src/optimise/train.jl:136\n"
     ]
    },
    {
     "name": "stdout",
     "output_type": "stream",
     "text": [
      "mse_loss(xtest, ytest) = 0.41964594f0\n",
      "mse_loss(xtest, ytest) = 0.40972906f0\n"
     ]
    },
    {
     "name": "stderr",
     "output_type": "stream",
     "text": [
      "┌ Info: Epoch 3\n",
      "└ @ ConvGRU /Users/kahingleung/.julia/packages/Flux/sY3yx/src/optimise/train.jl:136\n"
     ]
    },
    {
     "name": "stdout",
     "output_type": "stream",
     "text": [
      "mse_loss(xtest, ytest) = 0.40680465f0\n"
     ]
    },
    {
     "name": "stderr",
     "output_type": "stream",
     "text": [
      "┌ Info: Epoch 4\n",
      "└ @ ConvGRU /Users/kahingleung/.julia/packages/Flux/sY3yx/src/optimise/train.jl:136\n"
     ]
    },
    {
     "name": "stdout",
     "output_type": "stream",
     "text": [
      "mse_loss(xtest, ytest) = 0.40807176f0\n"
     ]
    },
    {
     "name": "stderr",
     "output_type": "stream",
     "text": [
      "┌ Info: Epoch 5\n",
      "└ @ ConvGRU /Users/kahingleung/.julia/packages/Flux/sY3yx/src/optimise/train.jl:136\n"
     ]
    },
    {
     "name": "stdout",
     "output_type": "stream",
     "text": [
      "mse_loss(xtest, ytest) = 0.40749326f0\n"
     ]
    },
    {
     "name": "stderr",
     "output_type": "stream",
     "text": [
      "┌ Info: Epoch 6\n",
      "└ @ ConvGRU /Users/kahingleung/.julia/packages/Flux/sY3yx/src/optimise/train.jl:136\n",
      "┌ Info: Epoch 7\n",
      "└ @ ConvGRU /Users/kahingleung/.julia/packages/Flux/sY3yx/src/optimise/train.jl:136\n"
     ]
    },
    {
     "name": "stdout",
     "output_type": "stream",
     "text": [
      "mse_loss(xtest, ytest) = 0.4083068f0\n",
      "mse_loss(xtest, ytest) = 0.40762928f0\n"
     ]
    },
    {
     "name": "stderr",
     "output_type": "stream",
     "text": [
      "┌ Info: Epoch 8\n",
      "└ @ ConvGRU /Users/kahingleung/.julia/packages/Flux/sY3yx/src/optimise/train.jl:136\n"
     ]
    },
    {
     "name": "stdout",
     "output_type": "stream",
     "text": [
      "mse_loss(xtest, ytest) = 0.40729156f0\n"
     ]
    },
    {
     "name": "stderr",
     "output_type": "stream",
     "text": [
      "┌ Info: Epoch 9\n",
      "└ @ ConvGRU /Users/kahingleung/.julia/packages/Flux/sY3yx/src/optimise/train.jl:136\n"
     ]
    },
    {
     "name": "stdout",
     "output_type": "stream",
     "text": [
      "mse_loss(xtest, ytest) = 0.40686965f0\n"
     ]
    },
    {
     "name": "stderr",
     "output_type": "stream",
     "text": [
      "┌ Info: Epoch 10\n",
      "└ @ ConvGRU /Users/kahingleung/.julia/packages/Flux/sY3yx/src/optimise/train.jl:136\n",
      "┌ Info: Epoch 11\n",
      "└ @ ConvGRU /Users/kahingleung/.julia/packages/Flux/sY3yx/src/optimise/train.jl:136\n"
     ]
    },
    {
     "name": "stdout",
     "output_type": "stream",
     "text": [
      "mse_loss(xtest, ytest) = 0.40709198f0\n",
      "mse_loss(xtest, ytest) = 0.40679413f0\n"
     ]
    },
    {
     "name": "stderr",
     "output_type": "stream",
     "text": [
      "┌ Info: Epoch 12\n",
      "└ @ ConvGRU /Users/kahingleung/.julia/packages/Flux/sY3yx/src/optimise/train.jl:136\n"
     ]
    },
    {
     "name": "stdout",
     "output_type": "stream",
     "text": [
      "mse_loss(xtest, ytest) = 0.40645126f0\n"
     ]
    },
    {
     "name": "stderr",
     "output_type": "stream",
     "text": [
      "┌ Info: Epoch 13\n",
      "└ @ ConvGRU /Users/kahingleung/.julia/packages/Flux/sY3yx/src/optimise/train.jl:136\n"
     ]
    },
    {
     "name": "stdout",
     "output_type": "stream",
     "text": [
      "mse_loss(xtest, ytest) = 0.4081342f0\n"
     ]
    },
    {
     "name": "stderr",
     "output_type": "stream",
     "text": [
      "┌ Info: Epoch 14\n",
      "└ @ ConvGRU /Users/kahingleung/.julia/packages/Flux/sY3yx/src/optimise/train.jl:136\n",
      "┌ Info: Epoch 15\n",
      "└ @ ConvGRU /Users/kahingleung/.julia/packages/Flux/sY3yx/src/optimise/train.jl:136\n"
     ]
    },
    {
     "name": "stdout",
     "output_type": "stream",
     "text": [
      "mse_loss(xtest, ytest) = 0.40685603f0\n",
      "mse_loss(xtest, ytest) = 0.40506986f0\n"
     ]
    },
    {
     "name": "stderr",
     "output_type": "stream",
     "text": [
      "┌ Info: Epoch 16\n",
      "└ @ ConvGRU /Users/kahingleung/.julia/packages/Flux/sY3yx/src/optimise/train.jl:136\n"
     ]
    },
    {
     "name": "stdout",
     "output_type": "stream",
     "text": [
      "mse_loss(xtest, ytest) = 0.40617037f0\n"
     ]
    },
    {
     "name": "stderr",
     "output_type": "stream",
     "text": [
      "┌ Info: Epoch 17\n",
      "└ @ ConvGRU /Users/kahingleung/.julia/packages/Flux/sY3yx/src/optimise/train.jl:136\n"
     ]
    },
    {
     "name": "stdout",
     "output_type": "stream",
     "text": [
      "mse_loss(xtest, ytest) = 0.40527388f0\n"
     ]
    },
    {
     "name": "stderr",
     "output_type": "stream",
     "text": [
      "┌ Info: Epoch 18\n",
      "└ @ ConvGRU /Users/kahingleung/.julia/packages/Flux/sY3yx/src/optimise/train.jl:136\n"
     ]
    },
    {
     "name": "stdout",
     "output_type": "stream",
     "text": [
      "mse_loss(xtest, ytest) = 0.40605778f0\n"
     ]
    },
    {
     "name": "stderr",
     "output_type": "stream",
     "text": [
      "┌ Info: Epoch 19\n",
      "└ @ ConvGRU /Users/kahingleung/.julia/packages/Flux/sY3yx/src/optimise/train.jl:136\n"
     ]
    },
    {
     "name": "stdout",
     "output_type": "stream",
     "text": [
      "mse_loss(xtest, ytest) = 0.4069967f0\n"
     ]
    },
    {
     "name": "stderr",
     "output_type": "stream",
     "text": [
      "┌ Info: Epoch 20\n",
      "└ @ ConvGRU /Users/kahingleung/.julia/packages/Flux/sY3yx/src/optimise/train.jl:136\n"
     ]
    },
    {
     "name": "stdout",
     "output_type": "stream",
     "text": [
      "mse_loss(xtest, ytest) = 0.407716f0\n"
     ]
    },
    {
     "name": "stderr",
     "output_type": "stream",
     "text": [
      "┌ Info: Epoch 21\n",
      "└ @ ConvGRU /Users/kahingleung/.julia/packages/Flux/sY3yx/src/optimise/train.jl:136\n"
     ]
    },
    {
     "name": "stdout",
     "output_type": "stream",
     "text": [
      "mse_loss(xtest, ytest) = 0.40749854f0\n"
     ]
    },
    {
     "name": "stderr",
     "output_type": "stream",
     "text": [
      "┌ Info: Epoch 22\n",
      "└ @ ConvGRU /Users/kahingleung/.julia/packages/Flux/sY3yx/src/optimise/train.jl:136\n"
     ]
    },
    {
     "name": "stdout",
     "output_type": "stream",
     "text": [
      "mse_loss(xtest, ytest) = 0.40777767f0\n"
     ]
    },
    {
     "name": "stderr",
     "output_type": "stream",
     "text": [
      "┌ Info: Epoch 23\n",
      "└ @ ConvGRU /Users/kahingleung/.julia/packages/Flux/sY3yx/src/optimise/train.jl:136\n"
     ]
    },
    {
     "name": "stdout",
     "output_type": "stream",
     "text": [
      "mse_loss(xtest, ytest) = 0.40680593f0\n"
     ]
    },
    {
     "name": "stderr",
     "output_type": "stream",
     "text": [
      "┌ Info: Epoch 24\n",
      "└ @ ConvGRU /Users/kahingleung/.julia/packages/Flux/sY3yx/src/optimise/train.jl:136\n"
     ]
    },
    {
     "name": "stdout",
     "output_type": "stream",
     "text": [
      "mse_loss(xtest, ytest) = 0.40685838f0\n"
     ]
    },
    {
     "name": "stderr",
     "output_type": "stream",
     "text": [
      "┌ Info: Epoch 25\n",
      "└ @ ConvGRU /Users/kahingleung/.julia/packages/Flux/sY3yx/src/optimise/train.jl:136\n"
     ]
    },
    {
     "name": "stdout",
     "output_type": "stream",
     "text": [
      "mse_loss(xtest, ytest) = 0.40656883f0\n"
     ]
    },
    {
     "name": "stderr",
     "output_type": "stream",
     "text": [
      "┌ Info: Epoch 26\n",
      "└ @ ConvGRU /Users/kahingleung/.julia/packages/Flux/sY3yx/src/optimise/train.jl:136\n"
     ]
    },
    {
     "name": "stdout",
     "output_type": "stream",
     "text": [
      "mse_loss(xtest, ytest) = 0.40738186f0\n"
     ]
    },
    {
     "name": "stderr",
     "output_type": "stream",
     "text": [
      "┌ Info: Epoch 27\n",
      "└ @ ConvGRU /Users/kahingleung/.julia/packages/Flux/sY3yx/src/optimise/train.jl:136\n",
      "┌ Info: Epoch 28\n",
      "└ @ ConvGRU /Users/kahingleung/.julia/packages/Flux/sY3yx/src/optimise/train.jl:136\n"
     ]
    },
    {
     "name": "stdout",
     "output_type": "stream",
     "text": [
      "mse_loss(xtest, ytest) = 0.4077262f0\n",
      "mse_loss(xtest, ytest) = 0.40425825f0\n"
     ]
    },
    {
     "name": "stderr",
     "output_type": "stream",
     "text": [
      "┌ Info: Epoch 29\n",
      "└ @ ConvGRU /Users/kahingleung/.julia/packages/Flux/sY3yx/src/optimise/train.jl:136\n"
     ]
    },
    {
     "name": "stdout",
     "output_type": "stream",
     "text": [
      "mse_loss(xtest, ytest) = 0.40543818f0\n"
     ]
    },
    {
     "name": "stderr",
     "output_type": "stream",
     "text": [
      "┌ Info: Epoch 30\n",
      "└ @ ConvGRU /Users/kahingleung/.julia/packages/Flux/sY3yx/src/optimise/train.jl:136\n"
     ]
    },
    {
     "name": "stdout",
     "output_type": "stream",
     "text": [
      "(250,)\n",
      "myObjective(df, seqlen, Nh, lr, sym * \"-\" * string(i)) = 0.4043994f0\n",
      "42020.007742636826811269\n",
      "mse_loss(xtest, ytest) = 0.410737f0\n"
     ]
    },
    {
     "name": "stderr",
     "output_type": "stream",
     "text": [
      "┌ Info: Epoch 1\n",
      "└ @ ConvGRU /Users/kahingleung/.julia/packages/Flux/sY3yx/src/optimise/train.jl:136\n"
     ]
    },
    {
     "name": "stdout",
     "output_type": "stream",
     "text": [
      "mse_loss(xtest, ytest) = 0.39184567f0\n",
      "mse_loss(xtest, ytest) = 0.41075864f0\n"
     ]
    },
    {
     "name": "stderr",
     "output_type": "stream",
     "text": [
      "┌ Info: Epoch 2\n",
      "└ @ ConvGRU /Users/kahingleung/.julia/packages/Flux/sY3yx/src/optimise/train.jl:136\n"
     ]
    },
    {
     "name": "stdout",
     "output_type": "stream",
     "text": [
      "mse_loss(xtest, ytest) = 0.41103077f0\n"
     ]
    },
    {
     "name": "stderr",
     "output_type": "stream",
     "text": [
      "┌ Info: Epoch 3\n",
      "└ @ ConvGRU /Users/kahingleung/.julia/packages/Flux/sY3yx/src/optimise/train.jl:136\n"
     ]
    },
    {
     "name": "stdout",
     "output_type": "stream",
     "text": [
      "mse_loss(xtest, ytest) = 0.41151792f0\n"
     ]
    },
    {
     "name": "stderr",
     "output_type": "stream",
     "text": [
      "┌ Info: Epoch 4\n",
      "└ @ ConvGRU /Users/kahingleung/.julia/packages/Flux/sY3yx/src/optimise/train.jl:136\n"
     ]
    },
    {
     "name": "stdout",
     "output_type": "stream",
     "text": [
      "mse_loss(xtest, ytest) = 0.41045862f0\n"
     ]
    },
    {
     "name": "stderr",
     "output_type": "stream",
     "text": [
      "┌ Info: Epoch 5\n",
      "└ @ ConvGRU /Users/kahingleung/.julia/packages/Flux/sY3yx/src/optimise/train.jl:136\n"
     ]
    },
    {
     "name": "stdout",
     "output_type": "stream",
     "text": [
      "mse_loss(xtest, ytest) = 0.40862107f0\n"
     ]
    },
    {
     "name": "stderr",
     "output_type": "stream",
     "text": [
      "┌ Info: Epoch 6\n",
      "└ @ ConvGRU /Users/kahingleung/.julia/packages/Flux/sY3yx/src/optimise/train.jl:136\n"
     ]
    },
    {
     "name": "stdout",
     "output_type": "stream",
     "text": [
      "mse_loss(xtest, ytest) = 0.40501246f0\n"
     ]
    },
    {
     "name": "stderr",
     "output_type": "stream",
     "text": [
      "┌ Info: Epoch 7\n",
      "└ @ ConvGRU /Users/kahingleung/.julia/packages/Flux/sY3yx/src/optimise/train.jl:136\n"
     ]
    },
    {
     "name": "stdout",
     "output_type": "stream",
     "text": [
      "mse_loss(xtest, ytest) = 0.4036545f0\n"
     ]
    },
    {
     "name": "stderr",
     "output_type": "stream",
     "text": [
      "┌ Info: Epoch 8\n",
      "└ @ ConvGRU /Users/kahingleung/.julia/packages/Flux/sY3yx/src/optimise/train.jl:136\n"
     ]
    },
    {
     "name": "stdout",
     "output_type": "stream",
     "text": [
      "mse_loss(xtest, ytest) = 0.40491936f0\n"
     ]
    },
    {
     "name": "stderr",
     "output_type": "stream",
     "text": [
      "┌ Info: Epoch 9\n",
      "└ @ ConvGRU /Users/kahingleung/.julia/packages/Flux/sY3yx/src/optimise/train.jl:136\n"
     ]
    },
    {
     "name": "stdout",
     "output_type": "stream",
     "text": [
      "mse_loss(xtest, ytest) = 0.40430966f0\n"
     ]
    },
    {
     "name": "stderr",
     "output_type": "stream",
     "text": [
      "┌ Info: Epoch 10\n",
      "└ @ ConvGRU /Users/kahingleung/.julia/packages/Flux/sY3yx/src/optimise/train.jl:136\n"
     ]
    },
    {
     "name": "stdout",
     "output_type": "stream",
     "text": [
      "mse_loss(xtest, ytest) = 0.40131488f0\n"
     ]
    },
    {
     "name": "stderr",
     "output_type": "stream",
     "text": [
      "┌ Info: Epoch 11\n",
      "└ @ ConvGRU /Users/kahingleung/.julia/packages/Flux/sY3yx/src/optimise/train.jl:136\n"
     ]
    },
    {
     "name": "stdout",
     "output_type": "stream",
     "text": [
      "mse_loss(xtest, ytest) = 0.40765414f0\n"
     ]
    },
    {
     "name": "stderr",
     "output_type": "stream",
     "text": [
      "┌ Info: Epoch 12\n",
      "└ @ ConvGRU /Users/kahingleung/.julia/packages/Flux/sY3yx/src/optimise/train.jl:136\n"
     ]
    },
    {
     "name": "stdout",
     "output_type": "stream",
     "text": [
      "mse_loss(xtest, ytest) = 0.40486756f0\n"
     ]
    },
    {
     "name": "stderr",
     "output_type": "stream",
     "text": [
      "┌ Info: Epoch 13\n",
      "└ @ ConvGRU /Users/kahingleung/.julia/packages/Flux/sY3yx/src/optimise/train.jl:136\n"
     ]
    },
    {
     "name": "stdout",
     "output_type": "stream",
     "text": [
      "mse_loss(xtest, ytest) = 0.404651f0\n"
     ]
    },
    {
     "name": "stderr",
     "output_type": "stream",
     "text": [
      "┌ Info: Epoch 14\n",
      "└ @ ConvGRU /Users/kahingleung/.julia/packages/Flux/sY3yx/src/optimise/train.jl:136\n"
     ]
    },
    {
     "name": "stdout",
     "output_type": "stream",
     "text": [
      "mse_loss(xtest, ytest) = 0.40359285f0\n"
     ]
    },
    {
     "name": "stderr",
     "output_type": "stream",
     "text": [
      "┌ Info: Epoch 15\n",
      "└ @ ConvGRU /Users/kahingleung/.julia/packages/Flux/sY3yx/src/optimise/train.jl:136\n"
     ]
    },
    {
     "name": "stdout",
     "output_type": "stream",
     "text": [
      "mse_loss(xtest, ytest) = 0.40683603f0\n"
     ]
    },
    {
     "name": "stderr",
     "output_type": "stream",
     "text": [
      "┌ Info: Epoch 16\n",
      "└ @ ConvGRU /Users/kahingleung/.julia/packages/Flux/sY3yx/src/optimise/train.jl:136\n",
      "┌ Info: Epoch 17\n",
      "└ @ ConvGRU /Users/kahingleung/.julia/packages/Flux/sY3yx/src/optimise/train.jl:136\n"
     ]
    },
    {
     "name": "stdout",
     "output_type": "stream",
     "text": [
      "mse_loss(xtest, ytest) = 0.40746078f0\n"
     ]
    },
    {
     "name": "stderr",
     "output_type": "stream",
     "text": [
      "┌ Info: Epoch 18\n",
      "└ @ ConvGRU /Users/kahingleung/.julia/packages/Flux/sY3yx/src/optimise/train.jl:136\n"
     ]
    },
    {
     "name": "stdout",
     "output_type": "stream",
     "text": [
      "mse_loss(xtest, ytest) = 0.40635878f0\n",
      "mse_loss(xtest, ytest) = 0.41028154f0\n"
     ]
    },
    {
     "name": "stderr",
     "output_type": "stream",
     "text": [
      "┌ Info: Epoch 19\n",
      "└ @ ConvGRU /Users/kahingleung/.julia/packages/Flux/sY3yx/src/optimise/train.jl:136\n"
     ]
    },
    {
     "name": "stdout",
     "output_type": "stream",
     "text": [
      "mse_loss(xtest, ytest) = 0.41135582f0\n"
     ]
    },
    {
     "name": "stderr",
     "output_type": "stream",
     "text": [
      "┌ Info: Epoch 20\n",
      "└ @ ConvGRU /Users/kahingleung/.julia/packages/Flux/sY3yx/src/optimise/train.jl:136\n"
     ]
    },
    {
     "name": "stdout",
     "output_type": "stream",
     "text": [
      "mse_loss(xtest, ytest) = 0.41248187f0\n"
     ]
    },
    {
     "name": "stderr",
     "output_type": "stream",
     "text": [
      "┌ Info: Epoch 21\n",
      "└ @ ConvGRU /Users/kahingleung/.julia/packages/Flux/sY3yx/src/optimise/train.jl:136\n"
     ]
    },
    {
     "name": "stdout",
     "output_type": "stream",
     "text": [
      "mse_loss(xtest, ytest) = 0.41307727f0\n"
     ]
    },
    {
     "name": "stderr",
     "output_type": "stream",
     "text": [
      "┌ Info: Epoch 22\n",
      "└ @ ConvGRU /Users/kahingleung/.julia/packages/Flux/sY3yx/src/optimise/train.jl:136\n",
      "┌ Info: Epoch 23\n",
      "└ @ ConvGRU /Users/kahingleung/.julia/packages/Flux/sY3yx/src/optimise/train.jl:136\n"
     ]
    },
    {
     "name": "stdout",
     "output_type": "stream",
     "text": [
      "mse_loss(xtest, ytest) = 0.40963432f0\n",
      "mse_loss(xtest, ytest) = 0.41321868f0\n"
     ]
    },
    {
     "name": "stderr",
     "output_type": "stream",
     "text": [
      "┌ Info: Epoch 24\n",
      "└ @ ConvGRU /Users/kahingleung/.julia/packages/Flux/sY3yx/src/optimise/train.jl:136\n"
     ]
    },
    {
     "name": "stdout",
     "output_type": "stream",
     "text": [
      "mse_loss(xtest, ytest) = 0.4123941f0\n"
     ]
    },
    {
     "name": "stderr",
     "output_type": "stream",
     "text": [
      "┌ Info: Epoch 25\n",
      "└ @ ConvGRU /Users/kahingleung/.julia/packages/Flux/sY3yx/src/optimise/train.jl:136\n"
     ]
    },
    {
     "name": "stdout",
     "output_type": "stream",
     "text": [
      "mse_loss(xtest, ytest) = 0.4145938f0\n"
     ]
    },
    {
     "name": "stderr",
     "output_type": "stream",
     "text": [
      "┌ Info: Epoch 26\n",
      "└ @ ConvGRU /Users/kahingleung/.julia/packages/Flux/sY3yx/src/optimise/train.jl:136\n"
     ]
    },
    {
     "name": "stdout",
     "output_type": "stream",
     "text": [
      "mse_loss(xtest, ytest) = 0.40946066f0\n"
     ]
    },
    {
     "name": "stderr",
     "output_type": "stream",
     "text": [
      "┌ Info: Epoch 27\n",
      "└ @ ConvGRU /Users/kahingleung/.julia/packages/Flux/sY3yx/src/optimise/train.jl:136\n"
     ]
    },
    {
     "name": "stdout",
     "output_type": "stream",
     "text": [
      "mse_loss(xtest, ytest) = 0.41416886f0\n"
     ]
    },
    {
     "name": "stderr",
     "output_type": "stream",
     "text": [
      "┌ Info: Epoch 28\n",
      "└ @ ConvGRU /Users/kahingleung/.julia/packages/Flux/sY3yx/src/optimise/train.jl:136\n",
      "┌ Info: Epoch 29\n",
      "└ @ ConvGRU /Users/kahingleung/.julia/packages/Flux/sY3yx/src/optimise/train.jl:136\n"
     ]
    },
    {
     "name": "stdout",
     "output_type": "stream",
     "text": [
      "mse_loss(xtest, ytest) = 0.41575983f0\n",
      "mse_loss(xtest, ytest) = 0.41514254f0\n"
     ]
    },
    {
     "name": "stderr",
     "output_type": "stream",
     "text": [
      "┌ Info: Epoch 30\n",
      "└ @ ConvGRU /Users/kahingleung/.julia/packages/Flux/sY3yx/src/optimise/train.jl:136\n"
     ]
    },
    {
     "name": "stdout",
     "output_type": "stream",
     "text": [
      "(250,)\n",
      "myObjective(df, seqlen, Nh, lr, sym * \"-\" * string(i)) = 0.4097361f0\n",
      "52520.007742636826811269\n",
      "mse_loss(xtest, ytest) = 0.52056617f0\n",
      "mse_loss(xtest, ytest) = 0.43941382f0\n"
     ]
    },
    {
     "name": "stderr",
     "output_type": "stream",
     "text": [
      "┌ Info: Epoch 1\n",
      "└ @ ConvGRU /Users/kahingleung/.julia/packages/Flux/sY3yx/src/optimise/train.jl:136\n"
     ]
    },
    {
     "name": "stdout",
     "output_type": "stream",
     "text": [
      "mse_loss(xtest, ytest) = 0.46094945f0\n"
     ]
    },
    {
     "name": "stderr",
     "output_type": "stream",
     "text": [
      "┌ Info: Epoch 2\n",
      "└ @ ConvGRU /Users/kahingleung/.julia/packages/Flux/sY3yx/src/optimise/train.jl:136\n",
      "┌ Info: Epoch 3\n",
      "└ @ ConvGRU /Users/kahingleung/.julia/packages/Flux/sY3yx/src/optimise/train.jl:136\n"
     ]
    },
    {
     "name": "stdout",
     "output_type": "stream",
     "text": [
      "mse_loss(xtest, ytest) = 0.4643772f0\n",
      "mse_loss(xtest, ytest) = 0.45470864f0\n"
     ]
    },
    {
     "name": "stderr",
     "output_type": "stream",
     "text": [
      "┌ Info: Epoch 4\n",
      "└ @ ConvGRU /Users/kahingleung/.julia/packages/Flux/sY3yx/src/optimise/train.jl:136\n"
     ]
    },
    {
     "name": "stdout",
     "output_type": "stream",
     "text": [
      "mse_loss(xtest, ytest) = 0.45589563f0\n"
     ]
    },
    {
     "name": "stderr",
     "output_type": "stream",
     "text": [
      "┌ Info: Epoch 5\n",
      "└ @ ConvGRU /Users/kahingleung/.julia/packages/Flux/sY3yx/src/optimise/train.jl:136\n"
     ]
    },
    {
     "name": "stdout",
     "output_type": "stream",
     "text": [
      "mse_loss(xtest, ytest) = 0.44726035f0\n"
     ]
    },
    {
     "name": "stderr",
     "output_type": "stream",
     "text": [
      "┌ Info: Epoch 6\n",
      "└ @ ConvGRU /Users/kahingleung/.julia/packages/Flux/sY3yx/src/optimise/train.jl:136\n",
      "┌ Info: Epoch 7\n",
      "└ @ ConvGRU /Users/kahingleung/.julia/packages/Flux/sY3yx/src/optimise/train.jl:136\n"
     ]
    },
    {
     "name": "stdout",
     "output_type": "stream",
     "text": [
      "mse_loss(xtest, ytest) = 0.44395947f0\n",
      "mse_loss(xtest, ytest) = 0.45382398f0\n"
     ]
    },
    {
     "name": "stderr",
     "output_type": "stream",
     "text": [
      "┌ Info: Epoch 8\n",
      "└ @ ConvGRU /Users/kahingleung/.julia/packages/Flux/sY3yx/src/optimise/train.jl:136\n"
     ]
    },
    {
     "name": "stdout",
     "output_type": "stream",
     "text": [
      "mse_loss(xtest, ytest) = 0.44992244f0\n"
     ]
    },
    {
     "name": "stderr",
     "output_type": "stream",
     "text": [
      "┌ Info: Epoch 9\n",
      "└ @ ConvGRU /Users/kahingleung/.julia/packages/Flux/sY3yx/src/optimise/train.jl:136\n"
     ]
    },
    {
     "name": "stdout",
     "output_type": "stream",
     "text": [
      "mse_loss(xtest, ytest) = 0.4419916f0\n"
     ]
    },
    {
     "name": "stderr",
     "output_type": "stream",
     "text": [
      "┌ Info: Epoch 10\n",
      "└ @ ConvGRU /Users/kahingleung/.julia/packages/Flux/sY3yx/src/optimise/train.jl:136\n"
     ]
    },
    {
     "name": "stdout",
     "output_type": "stream",
     "text": [
      "mse_loss(xtest, ytest) = 0.44221714f0\n"
     ]
    },
    {
     "name": "stderr",
     "output_type": "stream",
     "text": [
      "┌ Info: Epoch 11\n",
      "└ @ ConvGRU /Users/kahingleung/.julia/packages/Flux/sY3yx/src/optimise/train.jl:136\n",
      "┌ Info: Epoch 12\n",
      "└ @ ConvGRU /Users/kahingleung/.julia/packages/Flux/sY3yx/src/optimise/train.jl:136\n"
     ]
    },
    {
     "name": "stdout",
     "output_type": "stream",
     "text": [
      "mse_loss(xtest, ytest) = 0.44479463f0\n",
      "mse_loss(xtest, ytest) = 0.43249384f0\n"
     ]
    },
    {
     "name": "stderr",
     "output_type": "stream",
     "text": [
      "┌ Info: Epoch 13\n",
      "└ @ ConvGRU /Users/kahingleung/.julia/packages/Flux/sY3yx/src/optimise/train.jl:136\n"
     ]
    },
    {
     "name": "stdout",
     "output_type": "stream",
     "text": [
      "mse_loss(xtest, ytest) = 0.4311327f0\n"
     ]
    },
    {
     "name": "stderr",
     "output_type": "stream",
     "text": [
      "┌ Info: Epoch 14\n",
      "└ @ ConvGRU /Users/kahingleung/.julia/packages/Flux/sY3yx/src/optimise/train.jl:136\n"
     ]
    },
    {
     "name": "stdout",
     "output_type": "stream",
     "text": [
      "mse_loss(xtest, ytest) = 0.42527536f0\n"
     ]
    },
    {
     "name": "stderr",
     "output_type": "stream",
     "text": [
      "┌ Info: Epoch 15\n",
      "└ @ ConvGRU /Users/kahingleung/.julia/packages/Flux/sY3yx/src/optimise/train.jl:136\n"
     ]
    },
    {
     "name": "stdout",
     "output_type": "stream",
     "text": [
      "mse_loss(xtest, ytest) = 0.42290485f0\n"
     ]
    },
    {
     "name": "stderr",
     "output_type": "stream",
     "text": [
      "┌ Info: Epoch 16\n",
      "└ @ ConvGRU /Users/kahingleung/.julia/packages/Flux/sY3yx/src/optimise/train.jl:136\n"
     ]
    },
    {
     "name": "stdout",
     "output_type": "stream",
     "text": [
      "mse_loss(xtest, ytest) = 0.4147822f0\n"
     ]
    },
    {
     "name": "stderr",
     "output_type": "stream",
     "text": [
      "┌ Info: Epoch 17\n",
      "└ @ ConvGRU /Users/kahingleung/.julia/packages/Flux/sY3yx/src/optimise/train.jl:136\n"
     ]
    },
    {
     "name": "stdout",
     "output_type": "stream",
     "text": [
      "mse_loss(xtest, ytest) = 0.41491073f0\n"
     ]
    },
    {
     "name": "stderr",
     "output_type": "stream",
     "text": [
      "┌ Info: Epoch 18\n",
      "└ @ ConvGRU /Users/kahingleung/.julia/packages/Flux/sY3yx/src/optimise/train.jl:136\n"
     ]
    },
    {
     "name": "stdout",
     "output_type": "stream",
     "text": [
      "mse_loss(xtest, ytest) = 0.41166145f0\n"
     ]
    },
    {
     "name": "stderr",
     "output_type": "stream",
     "text": [
      "┌ Info: Epoch 19\n",
      "└ @ ConvGRU /Users/kahingleung/.julia/packages/Flux/sY3yx/src/optimise/train.jl:136\n"
     ]
    },
    {
     "name": "stdout",
     "output_type": "stream",
     "text": [
      "mse_loss(xtest, ytest) = 0.4124088f0\n"
     ]
    },
    {
     "name": "stderr",
     "output_type": "stream",
     "text": [
      "┌ Info: Epoch 20\n",
      "└ @ ConvGRU /Users/kahingleung/.julia/packages/Flux/sY3yx/src/optimise/train.jl:136\n",
      "┌ Info: Epoch 21\n",
      "└ @ ConvGRU /Users/kahingleung/.julia/packages/Flux/sY3yx/src/optimise/train.jl:136\n"
     ]
    },
    {
     "name": "stdout",
     "output_type": "stream",
     "text": [
      "mse_loss(xtest, ytest) = 0.41288814f0\n"
     ]
    },
    {
     "name": "stderr",
     "output_type": "stream",
     "text": [
      "┌ Info: Epoch 22\n",
      "└ @ ConvGRU /Users/kahingleung/.julia/packages/Flux/sY3yx/src/optimise/train.jl:136\n"
     ]
    },
    {
     "name": "stdout",
     "output_type": "stream",
     "text": [
      "mse_loss(xtest, ytest) = 0.41688263f0\n",
      "mse_loss(xtest, ytest) = 0.41889057f0\n"
     ]
    },
    {
     "name": "stderr",
     "output_type": "stream",
     "text": [
      "┌ Info: Epoch 23\n",
      "└ @ ConvGRU /Users/kahingleung/.julia/packages/Flux/sY3yx/src/optimise/train.jl:136\n"
     ]
    },
    {
     "name": "stdout",
     "output_type": "stream",
     "text": [
      "mse_loss(xtest, ytest) = 0.41437814f0\n"
     ]
    },
    {
     "name": "stderr",
     "output_type": "stream",
     "text": [
      "┌ Info: Epoch 24\n",
      "└ @ ConvGRU /Users/kahingleung/.julia/packages/Flux/sY3yx/src/optimise/train.jl:136\n"
     ]
    },
    {
     "name": "stdout",
     "output_type": "stream",
     "text": [
      "mse_loss(xtest, ytest) = 0.41773608f0\n"
     ]
    },
    {
     "name": "stderr",
     "output_type": "stream",
     "text": [
      "┌ Info: Epoch 25\n",
      "└ @ ConvGRU /Users/kahingleung/.julia/packages/Flux/sY3yx/src/optimise/train.jl:136\n",
      "┌ Info: Epoch 26\n",
      "└ @ ConvGRU /Users/kahingleung/.julia/packages/Flux/sY3yx/src/optimise/train.jl:136\n"
     ]
    },
    {
     "name": "stdout",
     "output_type": "stream",
     "text": [
      "mse_loss(xtest, ytest) = 0.41906855f0\n",
      "mse_loss(xtest, ytest) = 0.4139425f0\n"
     ]
    },
    {
     "name": "stderr",
     "output_type": "stream",
     "text": [
      "┌ Info: Epoch 27\n",
      "└ @ ConvGRU /Users/kahingleung/.julia/packages/Flux/sY3yx/src/optimise/train.jl:136\n"
     ]
    },
    {
     "name": "stdout",
     "output_type": "stream",
     "text": [
      "mse_loss(xtest, ytest) = 0.4160613f0\n"
     ]
    },
    {
     "name": "stderr",
     "output_type": "stream",
     "text": [
      "┌ Info: Epoch 28\n",
      "└ @ ConvGRU /Users/kahingleung/.julia/packages/Flux/sY3yx/src/optimise/train.jl:136\n"
     ]
    },
    {
     "name": "stdout",
     "output_type": "stream",
     "text": [
      "mse_loss(xtest, ytest) = 0.41966674f0\n"
     ]
    },
    {
     "name": "stderr",
     "output_type": "stream",
     "text": [
      "┌ Info: Epoch 29\n",
      "└ @ ConvGRU /Users/kahingleung/.julia/packages/Flux/sY3yx/src/optimise/train.jl:136\n"
     ]
    },
    {
     "name": "stdout",
     "output_type": "stream",
     "text": [
      "mse_loss(xtest, ytest) = 0.42392695f0\n"
     ]
    },
    {
     "name": "stderr",
     "output_type": "stream",
     "text": [
      "┌ Info: Epoch 30\n",
      "└ @ ConvGRU /Users/kahingleung/.julia/packages/Flux/sY3yx/src/optimise/train.jl:136\n"
     ]
    },
    {
     "name": "stdout",
     "output_type": "stream",
     "text": [
      "(250,)\n",
      "myObjective(df, seqlen, Nh, lr, sym * \"-\" * string(i)) = 0.41023278f0\n",
      "63060.001\n",
      "mse_loss(xtest, ytest) = 0.49945003f0\n",
      "mse_loss(xtest, ytest) = 0.47670898f0\n"
     ]
    },
    {
     "name": "stderr",
     "output_type": "stream",
     "text": [
      "┌ Info: Epoch 1\n",
      "└ @ ConvGRU /Users/kahingleung/.julia/packages/Flux/sY3yx/src/optimise/train.jl:136\n"
     ]
    },
    {
     "name": "stdout",
     "output_type": "stream",
     "text": [
      "mse_loss(xtest, ytest) = 0.41228858f0\n"
     ]
    },
    {
     "name": "stderr",
     "output_type": "stream",
     "text": [
      "┌ Info: Epoch 2\n",
      "└ @ ConvGRU /Users/kahingleung/.julia/packages/Flux/sY3yx/src/optimise/train.jl:136\n"
     ]
    },
    {
     "name": "stdout",
     "output_type": "stream",
     "text": [
      "mse_loss(xtest, ytest) = 0.4091134f0\n"
     ]
    },
    {
     "name": "stderr",
     "output_type": "stream",
     "text": [
      "┌ Info: Epoch 3\n",
      "└ @ ConvGRU /Users/kahingleung/.julia/packages/Flux/sY3yx/src/optimise/train.jl:136\n"
     ]
    },
    {
     "name": "stdout",
     "output_type": "stream",
     "text": [
      "mse_loss(xtest, ytest) = 0.40802726f0\n"
     ]
    },
    {
     "name": "stderr",
     "output_type": "stream",
     "text": [
      "┌ Info: Epoch 4\n",
      "└ @ ConvGRU /Users/kahingleung/.julia/packages/Flux/sY3yx/src/optimise/train.jl:136\n",
      "┌ Info: Epoch 5\n",
      "└ @ ConvGRU /Users/kahingleung/.julia/packages/Flux/sY3yx/src/optimise/train.jl:136\n"
     ]
    },
    {
     "name": "stdout",
     "output_type": "stream",
     "text": [
      "mse_loss(xtest, ytest) = 0.4079071f0\n"
     ]
    },
    {
     "name": "stderr",
     "output_type": "stream",
     "text": [
      "┌ Info: Epoch 6\n",
      "└ @ ConvGRU /Users/kahingleung/.julia/packages/Flux/sY3yx/src/optimise/train.jl:136\n"
     ]
    },
    {
     "name": "stdout",
     "output_type": "stream",
     "text": [
      "mse_loss(xtest, ytest) = 0.40804875f0\n",
      "mse_loss(xtest, ytest) = 0.4094115f0\n"
     ]
    },
    {
     "name": "stderr",
     "output_type": "stream",
     "text": [
      "┌ Info: Epoch 7\n",
      "└ @ ConvGRU /Users/kahingleung/.julia/packages/Flux/sY3yx/src/optimise/train.jl:136\n"
     ]
    },
    {
     "name": "stdout",
     "output_type": "stream",
     "text": [
      "mse_loss(xtest, ytest) = 0.40842614f0\n"
     ]
    },
    {
     "name": "stderr",
     "output_type": "stream",
     "text": [
      "┌ Info: Epoch 8\n",
      "└ @ ConvGRU /Users/kahingleung/.julia/packages/Flux/sY3yx/src/optimise/train.jl:136\n",
      "┌ Info: Epoch 9\n",
      "└ @ ConvGRU /Users/kahingleung/.julia/packages/Flux/sY3yx/src/optimise/train.jl:136\n"
     ]
    },
    {
     "name": "stdout",
     "output_type": "stream",
     "text": [
      "mse_loss(xtest, ytest) = 0.40820637f0\n",
      "mse_loss(xtest, ytest) = 0.40778208f0\n"
     ]
    },
    {
     "name": "stderr",
     "output_type": "stream",
     "text": [
      "┌ Info: Epoch 10\n",
      "└ @ ConvGRU /Users/kahingleung/.julia/packages/Flux/sY3yx/src/optimise/train.jl:136\n"
     ]
    },
    {
     "name": "stdout",
     "output_type": "stream",
     "text": [
      "mse_loss(xtest, ytest) = 0.40816927f0\n"
     ]
    },
    {
     "name": "stderr",
     "output_type": "stream",
     "text": [
      "┌ Info: Epoch 11\n",
      "└ @ ConvGRU /Users/kahingleung/.julia/packages/Flux/sY3yx/src/optimise/train.jl:136\n"
     ]
    },
    {
     "name": "stdout",
     "output_type": "stream",
     "text": [
      "mse_loss(xtest, ytest) = 0.40745586f0\n"
     ]
    },
    {
     "name": "stderr",
     "output_type": "stream",
     "text": [
      "┌ Info: Epoch 12\n",
      "└ @ ConvGRU /Users/kahingleung/.julia/packages/Flux/sY3yx/src/optimise/train.jl:136\n",
      "┌ Info: Epoch 13\n",
      "└ @ ConvGRU /Users/kahingleung/.julia/packages/Flux/sY3yx/src/optimise/train.jl:136\n"
     ]
    },
    {
     "name": "stdout",
     "output_type": "stream",
     "text": [
      "mse_loss(xtest, ytest) = 0.40740716f0\n",
      "mse_loss(xtest, ytest) = 0.40835506f0\n"
     ]
    },
    {
     "name": "stderr",
     "output_type": "stream",
     "text": [
      "┌ Info: Epoch 14\n",
      "└ @ ConvGRU /Users/kahingleung/.julia/packages/Flux/sY3yx/src/optimise/train.jl:136\n"
     ]
    },
    {
     "name": "stdout",
     "output_type": "stream",
     "text": [
      "mse_loss(xtest, ytest) = 0.40854427f0\n"
     ]
    },
    {
     "name": "stderr",
     "output_type": "stream",
     "text": [
      "┌ Info: Epoch 15\n",
      "└ @ ConvGRU /Users/kahingleung/.julia/packages/Flux/sY3yx/src/optimise/train.jl:136\n",
      "┌ Info: Epoch 16\n",
      "└ @ ConvGRU /Users/kahingleung/.julia/packages/Flux/sY3yx/src/optimise/train.jl:136\n"
     ]
    },
    {
     "name": "stdout",
     "output_type": "stream",
     "text": [
      "mse_loss(xtest, ytest) = 0.408266f0\n",
      "mse_loss(xtest, ytest) = 0.4082974f0\n"
     ]
    },
    {
     "name": "stderr",
     "output_type": "stream",
     "text": [
      "┌ Info: Epoch 17\n",
      "└ @ ConvGRU /Users/kahingleung/.julia/packages/Flux/sY3yx/src/optimise/train.jl:136\n"
     ]
    },
    {
     "name": "stdout",
     "output_type": "stream",
     "text": [
      "mse_loss(xtest, ytest) = 0.40795013f0\n"
     ]
    },
    {
     "name": "stderr",
     "output_type": "stream",
     "text": [
      "┌ Info: Epoch 18\n",
      "└ @ ConvGRU /Users/kahingleung/.julia/packages/Flux/sY3yx/src/optimise/train.jl:136\n",
      "┌ Info: Epoch 19\n",
      "└ @ ConvGRU /Users/kahingleung/.julia/packages/Flux/sY3yx/src/optimise/train.jl:136\n"
     ]
    },
    {
     "name": "stdout",
     "output_type": "stream",
     "text": [
      "mse_loss(xtest, ytest) = 0.40795833f0\n",
      "mse_loss(xtest, ytest) = 0.40765733f0\n"
     ]
    },
    {
     "name": "stderr",
     "output_type": "stream",
     "text": [
      "┌ Info: Epoch 20\n",
      "└ @ ConvGRU /Users/kahingleung/.julia/packages/Flux/sY3yx/src/optimise/train.jl:136\n"
     ]
    },
    {
     "name": "stdout",
     "output_type": "stream",
     "text": [
      "mse_loss(xtest, ytest) = 0.40762275f0\n"
     ]
    },
    {
     "name": "stderr",
     "output_type": "stream",
     "text": [
      "┌ Info: Epoch 21\n",
      "└ @ ConvGRU /Users/kahingleung/.julia/packages/Flux/sY3yx/src/optimise/train.jl:136\n",
      "┌ Info: Epoch 22\n",
      "└ @ ConvGRU /Users/kahingleung/.julia/packages/Flux/sY3yx/src/optimise/train.jl:136\n"
     ]
    },
    {
     "name": "stdout",
     "output_type": "stream",
     "text": [
      "mse_loss(xtest, ytest) = 0.40765244f0\n"
     ]
    },
    {
     "name": "stderr",
     "output_type": "stream",
     "text": [
      "┌ Info: Epoch 23\n",
      "└ @ ConvGRU /Users/kahingleung/.julia/packages/Flux/sY3yx/src/optimise/train.jl:136\n"
     ]
    },
    {
     "name": "stdout",
     "output_type": "stream",
     "text": [
      "mse_loss(xtest, ytest) = 0.40788767f0\n",
      "mse_loss(xtest, ytest) = 0.4076972f0\n"
     ]
    },
    {
     "name": "stderr",
     "output_type": "stream",
     "text": [
      "┌ Info: Epoch 24\n",
      "└ @ ConvGRU /Users/kahingleung/.julia/packages/Flux/sY3yx/src/optimise/train.jl:136\n"
     ]
    },
    {
     "name": "stdout",
     "output_type": "stream",
     "text": [
      "mse_loss(xtest, ytest) = 0.40829942f0\n"
     ]
    },
    {
     "name": "stderr",
     "output_type": "stream",
     "text": [
      "┌ Info: Epoch 25\n",
      "└ @ ConvGRU /Users/kahingleung/.julia/packages/Flux/sY3yx/src/optimise/train.jl:136\n",
      "┌ Info: Epoch 26\n",
      "└ @ ConvGRU /Users/kahingleung/.julia/packages/Flux/sY3yx/src/optimise/train.jl:136\n"
     ]
    },
    {
     "name": "stdout",
     "output_type": "stream",
     "text": [
      "mse_loss(xtest, ytest) = 0.4067863f0\n",
      "mse_loss(xtest, ytest) = 0.40723652f0\n"
     ]
    },
    {
     "name": "stderr",
     "output_type": "stream",
     "text": [
      "┌ Info: Epoch 27\n",
      "└ @ ConvGRU /Users/kahingleung/.julia/packages/Flux/sY3yx/src/optimise/train.jl:136\n"
     ]
    },
    {
     "name": "stdout",
     "output_type": "stream",
     "text": [
      "mse_loss(xtest, ytest) = 0.40749875f0\n"
     ]
    },
    {
     "name": "stderr",
     "output_type": "stream",
     "text": [
      "┌ Info: Epoch 28\n",
      "└ @ ConvGRU /Users/kahingleung/.julia/packages/Flux/sY3yx/src/optimise/train.jl:136\n",
      "┌ Info: Epoch 29\n",
      "└ @ ConvGRU /Users/kahingleung/.julia/packages/Flux/sY3yx/src/optimise/train.jl:136\n"
     ]
    },
    {
     "name": "stdout",
     "output_type": "stream",
     "text": [
      "mse_loss(xtest, ytest) = 0.40770274f0\n",
      "mse_loss(xtest, ytest) = 0.40773463f0\n"
     ]
    },
    {
     "name": "stderr",
     "output_type": "stream",
     "text": [
      "┌ Info: Epoch 30\n",
      "└ @ ConvGRU /Users/kahingleung/.julia/packages/Flux/sY3yx/src/optimise/train.jl:136\n"
     ]
    },
    {
     "name": "stdout",
     "output_type": "stream",
     "text": [
      "(250,)\n",
      "myObjective(df, seqlen, Nh, lr, sym * \"-\" * string(i)) = 0.40435416f0\n",
      "71060.007742636826811269\n",
      "mse_loss(xtest, ytest) = 0.6142212f0\n",
      "mse_loss(xtest, ytest) = 0.4165539f0\n"
     ]
    },
    {
     "name": "stderr",
     "output_type": "stream",
     "text": [
      "┌ Info: Epoch 1\n",
      "└ @ ConvGRU /Users/kahingleung/.julia/packages/Flux/sY3yx/src/optimise/train.jl:136\n"
     ]
    },
    {
     "name": "stdout",
     "output_type": "stream",
     "text": [
      "mse_loss(xtest, ytest) = 0.45123756f0\n"
     ]
    },
    {
     "name": "stderr",
     "output_type": "stream",
     "text": [
      "┌ Info: Epoch 2\n",
      "└ @ ConvGRU /Users/kahingleung/.julia/packages/Flux/sY3yx/src/optimise/train.jl:136\n",
      "┌ Info: Epoch 3\n",
      "└ @ ConvGRU /Users/kahingleung/.julia/packages/Flux/sY3yx/src/optimise/train.jl:136\n"
     ]
    },
    {
     "name": "stdout",
     "output_type": "stream",
     "text": [
      "mse_loss(xtest, ytest) = 0.4131448f0\n"
     ]
    },
    {
     "name": "stderr",
     "output_type": "stream",
     "text": [
      "┌ Info: Epoch 4\n",
      "└ @ ConvGRU /Users/kahingleung/.julia/packages/Flux/sY3yx/src/optimise/train.jl:136\n"
     ]
    },
    {
     "name": "stdout",
     "output_type": "stream",
     "text": [
      "mse_loss(xtest, ytest) = 0.41650596f0\n"
     ]
    },
    {
     "name": "stderr",
     "output_type": "stream",
     "text": [
      "┌ Info: Epoch 5\n",
      "└ @ ConvGRU /Users/kahingleung/.julia/packages/Flux/sY3yx/src/optimise/train.jl:136\n"
     ]
    },
    {
     "name": "stdout",
     "output_type": "stream",
     "text": [
      "mse_loss(xtest, ytest) = 0.40967596f0\n",
      "mse_loss(xtest, ytest) = 0.41125244f0\n"
     ]
    },
    {
     "name": "stderr",
     "output_type": "stream",
     "text": [
      "┌ Info: Epoch 6\n",
      "└ @ ConvGRU /Users/kahingleung/.julia/packages/Flux/sY3yx/src/optimise/train.jl:136\n"
     ]
    },
    {
     "name": "stdout",
     "output_type": "stream",
     "text": [
      "mse_loss(xtest, ytest) = 0.4094787f0\n"
     ]
    },
    {
     "name": "stderr",
     "output_type": "stream",
     "text": [
      "┌ Info: Epoch 7\n",
      "└ @ ConvGRU /Users/kahingleung/.julia/packages/Flux/sY3yx/src/optimise/train.jl:136\n"
     ]
    },
    {
     "name": "stdout",
     "output_type": "stream",
     "text": [
      "mse_loss(xtest, ytest) = 0.40891775f0\n"
     ]
    },
    {
     "name": "stderr",
     "output_type": "stream",
     "text": [
      "┌ Info: Epoch 8\n",
      "└ @ ConvGRU /Users/kahingleung/.julia/packages/Flux/sY3yx/src/optimise/train.jl:136\n"
     ]
    },
    {
     "name": "stdout",
     "output_type": "stream",
     "text": [
      "mse_loss(xtest, ytest) = 0.40618682f0\n"
     ]
    },
    {
     "name": "stderr",
     "output_type": "stream",
     "text": [
      "┌ Info: Epoch 9\n",
      "└ @ ConvGRU /Users/kahingleung/.julia/packages/Flux/sY3yx/src/optimise/train.jl:136\n"
     ]
    },
    {
     "name": "stdout",
     "output_type": "stream",
     "text": [
      "mse_loss(xtest, ytest) = 0.40634748f0\n"
     ]
    },
    {
     "name": "stderr",
     "output_type": "stream",
     "text": [
      "┌ Info: Epoch 10\n",
      "└ @ ConvGRU /Users/kahingleung/.julia/packages/Flux/sY3yx/src/optimise/train.jl:136\n"
     ]
    },
    {
     "name": "stdout",
     "output_type": "stream",
     "text": [
      "mse_loss(xtest, ytest) = 0.41394624f0\n"
     ]
    },
    {
     "name": "stderr",
     "output_type": "stream",
     "text": [
      "┌ Info: Epoch 11\n",
      "└ @ ConvGRU /Users/kahingleung/.julia/packages/Flux/sY3yx/src/optimise/train.jl:136\n"
     ]
    },
    {
     "name": "stdout",
     "output_type": "stream",
     "text": [
      "mse_loss(xtest, ytest) = 0.41344294f0\n"
     ]
    },
    {
     "name": "stderr",
     "output_type": "stream",
     "text": [
      "┌ Info: Epoch 12\n",
      "└ @ ConvGRU /Users/kahingleung/.julia/packages/Flux/sY3yx/src/optimise/train.jl:136\n"
     ]
    },
    {
     "name": "stdout",
     "output_type": "stream",
     "text": [
      "mse_loss(xtest, ytest) = 0.41031265f0\n"
     ]
    },
    {
     "name": "stderr",
     "output_type": "stream",
     "text": [
      "┌ Info: Epoch 13\n",
      "└ @ ConvGRU /Users/kahingleung/.julia/packages/Flux/sY3yx/src/optimise/train.jl:136\n"
     ]
    },
    {
     "name": "stdout",
     "output_type": "stream",
     "text": [
      "mse_loss(xtest, ytest) = 0.41064152f0\n"
     ]
    },
    {
     "name": "stderr",
     "output_type": "stream",
     "text": [
      "┌ Info: Epoch 14\n",
      "└ @ ConvGRU /Users/kahingleung/.julia/packages/Flux/sY3yx/src/optimise/train.jl:136\n"
     ]
    },
    {
     "name": "stdout",
     "output_type": "stream",
     "text": [
      "mse_loss(xtest, ytest) = 0.40277427f0\n"
     ]
    },
    {
     "name": "stderr",
     "output_type": "stream",
     "text": [
      "┌ Info: Epoch 15\n",
      "└ @ ConvGRU /Users/kahingleung/.julia/packages/Flux/sY3yx/src/optimise/train.jl:136\n"
     ]
    },
    {
     "name": "stdout",
     "output_type": "stream",
     "text": [
      "mse_loss(xtest, ytest) = 0.40877813f0\n"
     ]
    },
    {
     "name": "stderr",
     "output_type": "stream",
     "text": [
      "┌ Info: Epoch 16\n",
      "└ @ ConvGRU /Users/kahingleung/.julia/packages/Flux/sY3yx/src/optimise/train.jl:136\n",
      "┌ Info: Epoch 17\n",
      "└ @ ConvGRU /Users/kahingleung/.julia/packages/Flux/sY3yx/src/optimise/train.jl:136\n"
     ]
    },
    {
     "name": "stdout",
     "output_type": "stream",
     "text": [
      "mse_loss(xtest, ytest) = 0.41181475f0\n"
     ]
    },
    {
     "name": "stderr",
     "output_type": "stream",
     "text": [
      "┌ Info: Epoch 18\n",
      "└ @ ConvGRU /Users/kahingleung/.julia/packages/Flux/sY3yx/src/optimise/train.jl:136\n"
     ]
    },
    {
     "name": "stdout",
     "output_type": "stream",
     "text": [
      "mse_loss(xtest, ytest) = 0.40843788f0\n",
      "mse_loss(xtest, ytest) = 0.40924266f0\n"
     ]
    },
    {
     "name": "stderr",
     "output_type": "stream",
     "text": [
      "┌ Info: Epoch 19\n",
      "└ @ ConvGRU /Users/kahingleung/.julia/packages/Flux/sY3yx/src/optimise/train.jl:136\n"
     ]
    },
    {
     "name": "stdout",
     "output_type": "stream",
     "text": [
      "mse_loss(xtest, ytest) = 0.41324562f0\n"
     ]
    },
    {
     "name": "stderr",
     "output_type": "stream",
     "text": [
      "┌ Info: Epoch 20\n",
      "└ @ ConvGRU /Users/kahingleung/.julia/packages/Flux/sY3yx/src/optimise/train.jl:136\n"
     ]
    },
    {
     "name": "stdout",
     "output_type": "stream",
     "text": [
      "mse_loss(xtest, ytest) = 0.41226107f0\n"
     ]
    },
    {
     "name": "stderr",
     "output_type": "stream",
     "text": [
      "┌ Info: Epoch 21\n",
      "└ @ ConvGRU /Users/kahingleung/.julia/packages/Flux/sY3yx/src/optimise/train.jl:136\n"
     ]
    },
    {
     "name": "stdout",
     "output_type": "stream",
     "text": [
      "mse_loss(xtest, ytest) = 0.40499637f0\n"
     ]
    },
    {
     "name": "stderr",
     "output_type": "stream",
     "text": [
      "┌ Info: Epoch 22\n",
      "└ @ ConvGRU /Users/kahingleung/.julia/packages/Flux/sY3yx/src/optimise/train.jl:136\n"
     ]
    },
    {
     "name": "stdout",
     "output_type": "stream",
     "text": [
      "mse_loss(xtest, ytest) = 0.40998238f0\n"
     ]
    },
    {
     "name": "stderr",
     "output_type": "stream",
     "text": [
      "┌ Info: Epoch 23\n",
      "└ @ ConvGRU /Users/kahingleung/.julia/packages/Flux/sY3yx/src/optimise/train.jl:136\n"
     ]
    },
    {
     "name": "stdout",
     "output_type": "stream",
     "text": [
      "mse_loss(xtest, ytest) = 0.40865633f0\n"
     ]
    },
    {
     "name": "stderr",
     "output_type": "stream",
     "text": [
      "┌ Info: Epoch 24\n",
      "└ @ ConvGRU /Users/kahingleung/.julia/packages/Flux/sY3yx/src/optimise/train.jl:136\n"
     ]
    },
    {
     "name": "stdout",
     "output_type": "stream",
     "text": [
      "mse_loss(xtest, ytest) = 0.41053408f0\n"
     ]
    },
    {
     "name": "stderr",
     "output_type": "stream",
     "text": [
      "┌ Info: Epoch 25\n",
      "└ @ ConvGRU /Users/kahingleung/.julia/packages/Flux/sY3yx/src/optimise/train.jl:136\n"
     ]
    },
    {
     "name": "stdout",
     "output_type": "stream",
     "text": [
      "mse_loss(xtest, ytest) = 0.407649f0\n"
     ]
    },
    {
     "name": "stderr",
     "output_type": "stream",
     "text": [
      "┌ Info: Epoch 26\n",
      "└ @ ConvGRU /Users/kahingleung/.julia/packages/Flux/sY3yx/src/optimise/train.jl:136\n"
     ]
    },
    {
     "name": "stdout",
     "output_type": "stream",
     "text": [
      "mse_loss(xtest, ytest) = 0.40619636f0\n"
     ]
    },
    {
     "name": "stderr",
     "output_type": "stream",
     "text": [
      "┌ Info: Epoch 27\n",
      "└ @ ConvGRU /Users/kahingleung/.julia/packages/Flux/sY3yx/src/optimise/train.jl:136\n"
     ]
    },
    {
     "name": "stdout",
     "output_type": "stream",
     "text": [
      "mse_loss(xtest, ytest) = 0.40971035f0\n"
     ]
    },
    {
     "name": "stderr",
     "output_type": "stream",
     "text": [
      "┌ Info: Epoch 28\n",
      "└ @ ConvGRU /Users/kahingleung/.julia/packages/Flux/sY3yx/src/optimise/train.jl:136\n"
     ]
    },
    {
     "name": "stdout",
     "output_type": "stream",
     "text": [
      "mse_loss(xtest, ytest) = 0.4087239f0\n"
     ]
    },
    {
     "name": "stderr",
     "output_type": "stream",
     "text": [
      "┌ Info: Epoch 29\n",
      "└ @ ConvGRU /Users/kahingleung/.julia/packages/Flux/sY3yx/src/optimise/train.jl:136\n"
     ]
    },
    {
     "name": "stdout",
     "output_type": "stream",
     "text": [
      "mse_loss(xtest, ytest) = 0.41282836f0\n"
     ]
    },
    {
     "name": "stderr",
     "output_type": "stream",
     "text": [
      "┌ Info: Epoch 30\n",
      "└ @ ConvGRU /Users/kahingleung/.julia/packages/Flux/sY3yx/src/optimise/train.jl:136\n"
     ]
    },
    {
     "name": "stdout",
     "output_type": "stream",
     "text": [
      "(250,)\n",
      "myObjective(df, seqlen, Nh, lr, sym * \"-\" * string(i)) = 0.40371332f0\n",
      "82080.003593813663804626\n",
      "mse_loss(xtest, ytest) = 0.5312256f0\n",
      "mse_loss(xtest, ytest) = 0.41440505f0\n"
     ]
    },
    {
     "name": "stderr",
     "output_type": "stream",
     "text": [
      "┌ Info: Epoch 1\n",
      "└ @ ConvGRU /Users/kahingleung/.julia/packages/Flux/sY3yx/src/optimise/train.jl:136\n",
      "┌ Info: Epoch 2\n",
      "└ @ ConvGRU /Users/kahingleung/.julia/packages/Flux/sY3yx/src/optimise/train.jl:136\n"
     ]
    },
    {
     "name": "stdout",
     "output_type": "stream",
     "text": [
      "mse_loss(xtest, ytest) = 0.45220506f0\n",
      "mse_loss(xtest, ytest) = 0.45457897f0\n"
     ]
    },
    {
     "name": "stderr",
     "output_type": "stream",
     "text": [
      "┌ Info: Epoch 3\n",
      "└ @ ConvGRU /Users/kahingleung/.julia/packages/Flux/sY3yx/src/optimise/train.jl:136\n"
     ]
    },
    {
     "name": "stdout",
     "output_type": "stream",
     "text": [
      "mse_loss(xtest, ytest) = 0.44005105f0\n"
     ]
    },
    {
     "name": "stderr",
     "output_type": "stream",
     "text": [
      "┌ Info: Epoch 4\n",
      "└ @ ConvGRU /Users/kahingleung/.julia/packages/Flux/sY3yx/src/optimise/train.jl:136\n"
     ]
    },
    {
     "name": "stdout",
     "output_type": "stream",
     "text": [
      "mse_loss(xtest, ytest) = 0.43170503f0\n"
     ]
    },
    {
     "name": "stderr",
     "output_type": "stream",
     "text": [
      "┌ Info: Epoch 5\n",
      "└ @ ConvGRU /Users/kahingleung/.julia/packages/Flux/sY3yx/src/optimise/train.jl:136\n"
     ]
    },
    {
     "name": "stdout",
     "output_type": "stream",
     "text": [
      "mse_loss(xtest, ytest) = 0.43477494f0\n"
     ]
    },
    {
     "name": "stderr",
     "output_type": "stream",
     "text": [
      "┌ Info: Epoch 6\n",
      "└ @ ConvGRU /Users/kahingleung/.julia/packages/Flux/sY3yx/src/optimise/train.jl:136\n",
      "┌ Info: Epoch 7\n",
      "└ @ ConvGRU /Users/kahingleung/.julia/packages/Flux/sY3yx/src/optimise/train.jl:136\n"
     ]
    },
    {
     "name": "stdout",
     "output_type": "stream",
     "text": [
      "mse_loss(xtest, ytest) = 0.42606488f0\n",
      "mse_loss(xtest, ytest) = 0.42579484f0\n"
     ]
    },
    {
     "name": "stderr",
     "output_type": "stream",
     "text": [
      "┌ Info: Epoch 8\n",
      "└ @ ConvGRU /Users/kahingleung/.julia/packages/Flux/sY3yx/src/optimise/train.jl:136\n",
      "┌ Info: Epoch 9\n",
      "└ @ ConvGRU /Users/kahingleung/.julia/packages/Flux/sY3yx/src/optimise/train.jl:136\n"
     ]
    },
    {
     "name": "stdout",
     "output_type": "stream",
     "text": [
      "mse_loss(xtest, ytest) = 0.42310727f0\n",
      "mse_loss(xtest, ytest) = 0.42131272f0\n"
     ]
    },
    {
     "name": "stderr",
     "output_type": "stream",
     "text": [
      "┌ Info: Epoch 10\n",
      "└ @ ConvGRU /Users/kahingleung/.julia/packages/Flux/sY3yx/src/optimise/train.jl:136\n",
      "┌ Info: Epoch 11\n",
      "└ @ ConvGRU /Users/kahingleung/.julia/packages/Flux/sY3yx/src/optimise/train.jl:136\n"
     ]
    },
    {
     "name": "stdout",
     "output_type": "stream",
     "text": [
      "mse_loss(xtest, ytest) = 0.41661853f0\n",
      "mse_loss(xtest, ytest) = 0.41753438f0\n"
     ]
    },
    {
     "name": "stderr",
     "output_type": "stream",
     "text": [
      "┌ Info: Epoch 12\n",
      "└ @ ConvGRU /Users/kahingleung/.julia/packages/Flux/sY3yx/src/optimise/train.jl:136\n"
     ]
    },
    {
     "name": "stdout",
     "output_type": "stream",
     "text": [
      "mse_loss(xtest, ytest) = 0.42249104f0\n"
     ]
    },
    {
     "name": "stderr",
     "output_type": "stream",
     "text": [
      "┌ Info: Epoch 13\n",
      "└ @ ConvGRU /Users/kahingleung/.julia/packages/Flux/sY3yx/src/optimise/train.jl:136\n"
     ]
    },
    {
     "name": "stdout",
     "output_type": "stream",
     "text": [
      "mse_loss(xtest, ytest) = 0.42300108f0\n"
     ]
    },
    {
     "name": "stderr",
     "output_type": "stream",
     "text": [
      "┌ Info: Epoch 14\n",
      "└ @ ConvGRU /Users/kahingleung/.julia/packages/Flux/sY3yx/src/optimise/train.jl:136\n"
     ]
    },
    {
     "name": "stdout",
     "output_type": "stream",
     "text": [
      "mse_loss(xtest, ytest) = 0.42068696f0\n"
     ]
    },
    {
     "name": "stderr",
     "output_type": "stream",
     "text": [
      "┌ Info: Epoch 15\n",
      "└ @ ConvGRU /Users/kahingleung/.julia/packages/Flux/sY3yx/src/optimise/train.jl:136\n"
     ]
    },
    {
     "name": "stdout",
     "output_type": "stream",
     "text": [
      "mse_loss(xtest, ytest) = 0.41491628f0\n"
     ]
    },
    {
     "name": "stderr",
     "output_type": "stream",
     "text": [
      "┌ Info: Epoch 16\n",
      "└ @ ConvGRU /Users/kahingleung/.julia/packages/Flux/sY3yx/src/optimise/train.jl:136\n"
     ]
    },
    {
     "name": "stdout",
     "output_type": "stream",
     "text": [
      "mse_loss(xtest, ytest) = 0.41729534f0\n"
     ]
    },
    {
     "name": "stderr",
     "output_type": "stream",
     "text": [
      "┌ Info: Epoch 17\n",
      "└ @ ConvGRU /Users/kahingleung/.julia/packages/Flux/sY3yx/src/optimise/train.jl:136\n",
      "┌ Info: Epoch 18\n",
      "└ @ ConvGRU /Users/kahingleung/.julia/packages/Flux/sY3yx/src/optimise/train.jl:136\n"
     ]
    },
    {
     "name": "stdout",
     "output_type": "stream",
     "text": [
      "mse_loss(xtest, ytest) = 0.4152009f0\n",
      "mse_loss(xtest, ytest) = 0.41310596f0\n"
     ]
    },
    {
     "name": "stderr",
     "output_type": "stream",
     "text": [
      "┌ Info: Epoch 19\n",
      "└ @ ConvGRU /Users/kahingleung/.julia/packages/Flux/sY3yx/src/optimise/train.jl:136\n",
      "┌ Info: Epoch 20\n",
      "└ @ ConvGRU /Users/kahingleung/.julia/packages/Flux/sY3yx/src/optimise/train.jl:136\n"
     ]
    },
    {
     "name": "stdout",
     "output_type": "stream",
     "text": [
      "mse_loss(xtest, ytest) = 0.41173962f0\n",
      "mse_loss(xtest, ytest) = 0.41359496f0\n"
     ]
    },
    {
     "name": "stderr",
     "output_type": "stream",
     "text": [
      "┌ Info: Epoch 21\n",
      "└ @ ConvGRU /Users/kahingleung/.julia/packages/Flux/sY3yx/src/optimise/train.jl:136\n",
      "┌ Info: Epoch 22\n",
      "└ @ ConvGRU /Users/kahingleung/.julia/packages/Flux/sY3yx/src/optimise/train.jl:136\n"
     ]
    },
    {
     "name": "stdout",
     "output_type": "stream",
     "text": [
      "mse_loss(xtest, ytest) = 0.40660357f0\n",
      "mse_loss(xtest, ytest) = 0.40318686f0\n"
     ]
    },
    {
     "name": "stderr",
     "output_type": "stream",
     "text": [
      "┌ Info: Epoch 23\n",
      "└ @ ConvGRU /Users/kahingleung/.julia/packages/Flux/sY3yx/src/optimise/train.jl:136\n",
      "┌ Info: Epoch 24\n",
      "└ @ ConvGRU /Users/kahingleung/.julia/packages/Flux/sY3yx/src/optimise/train.jl:136\n"
     ]
    },
    {
     "name": "stdout",
     "output_type": "stream",
     "text": [
      "mse_loss(xtest, ytest) = 0.40909597f0\n",
      "mse_loss(xtest, ytest) = 0.4069521f0\n"
     ]
    },
    {
     "name": "stderr",
     "output_type": "stream",
     "text": [
      "┌ Info: Epoch 25\n",
      "└ @ ConvGRU /Users/kahingleung/.julia/packages/Flux/sY3yx/src/optimise/train.jl:136\n",
      "┌ Info: Epoch 26\n",
      "└ @ ConvGRU /Users/kahingleung/.julia/packages/Flux/sY3yx/src/optimise/train.jl:136\n"
     ]
    },
    {
     "name": "stdout",
     "output_type": "stream",
     "text": [
      "mse_loss(xtest, ytest) = 0.40922144f0\n",
      "mse_loss(xtest, ytest) = 0.4123666f0\n"
     ]
    },
    {
     "name": "stderr",
     "output_type": "stream",
     "text": [
      "┌ Info: Epoch 27\n",
      "└ @ ConvGRU /Users/kahingleung/.julia/packages/Flux/sY3yx/src/optimise/train.jl:136\n",
      "┌ Info: Epoch 28\n",
      "└ @ ConvGRU /Users/kahingleung/.julia/packages/Flux/sY3yx/src/optimise/train.jl:136\n"
     ]
    },
    {
     "name": "stdout",
     "output_type": "stream",
     "text": [
      "mse_loss(xtest, ytest) = 0.40776896f0\n",
      "mse_loss(xtest, ytest) = 0.4169749f0\n"
     ]
    },
    {
     "name": "stderr",
     "output_type": "stream",
     "text": [
      "┌ Info: Epoch 29\n",
      "└ @ ConvGRU /Users/kahingleung/.julia/packages/Flux/sY3yx/src/optimise/train.jl:136\n"
     ]
    },
    {
     "name": "stdout",
     "output_type": "stream",
     "text": [
      "mse_loss(xtest, ytest) = 0.42501876f0\n"
     ]
    },
    {
     "name": "stderr",
     "output_type": "stream",
     "text": [
      "┌ Info: Epoch 30\n",
      "└ @ ConvGRU /Users/kahingleung/.julia/packages/Flux/sY3yx/src/optimise/train.jl:136\n"
     ]
    },
    {
     "name": "stdout",
     "output_type": "stream",
     "text": [
      "(250,)\n",
      "myObjective(df, seqlen, Nh, lr, sym * \"-\" * string(i)) = 0.396629f0\n",
      "91060.0027825594022071257\n",
      "mse_loss(xtest, ytest) = 0.77146727f0\n"
     ]
    },
    {
     "name": "stderr",
     "output_type": "stream",
     "text": [
      "┌ Info: Epoch 1\n",
      "└ @ ConvGRU /Users/kahingleung/.julia/packages/Flux/sY3yx/src/optimise/train.jl:136\n"
     ]
    },
    {
     "name": "stdout",
     "output_type": "stream",
     "text": [
      "mse_loss(xtest, ytest) = 0.656894f0\n",
      "mse_loss(xtest, ytest) = 0.4157732f0\n"
     ]
    },
    {
     "name": "stderr",
     "output_type": "stream",
     "text": [
      "┌ Info: Epoch 2\n",
      "└ @ ConvGRU /Users/kahingleung/.julia/packages/Flux/sY3yx/src/optimise/train.jl:136\n"
     ]
    },
    {
     "name": "stdout",
     "output_type": "stream",
     "text": [
      "mse_loss(xtest, ytest) = 0.41679272f0\n"
     ]
    },
    {
     "name": "stderr",
     "output_type": "stream",
     "text": [
      "┌ Info: Epoch 3\n",
      "└ @ ConvGRU /Users/kahingleung/.julia/packages/Flux/sY3yx/src/optimise/train.jl:136\n"
     ]
    },
    {
     "name": "stdout",
     "output_type": "stream",
     "text": [
      "mse_loss(xtest, ytest) = 0.4163037f0\n"
     ]
    },
    {
     "name": "stderr",
     "output_type": "stream",
     "text": [
      "┌ Info: Epoch 4\n",
      "└ @ ConvGRU /Users/kahingleung/.julia/packages/Flux/sY3yx/src/optimise/train.jl:136\n"
     ]
    },
    {
     "name": "stdout",
     "output_type": "stream",
     "text": [
      "mse_loss(xtest, ytest) = 0.41687137f0\n"
     ]
    },
    {
     "name": "stderr",
     "output_type": "stream",
     "text": [
      "┌ Info: Epoch 5\n",
      "└ @ ConvGRU /Users/kahingleung/.julia/packages/Flux/sY3yx/src/optimise/train.jl:136\n"
     ]
    },
    {
     "name": "stdout",
     "output_type": "stream",
     "text": [
      "mse_loss(xtest, ytest) = 0.41765422f0\n"
     ]
    },
    {
     "name": "stderr",
     "output_type": "stream",
     "text": [
      "┌ Info: Epoch 6\n",
      "└ @ ConvGRU /Users/kahingleung/.julia/packages/Flux/sY3yx/src/optimise/train.jl:136\n"
     ]
    },
    {
     "name": "stdout",
     "output_type": "stream",
     "text": [
      "mse_loss(xtest, ytest) = 0.41597268f0\n"
     ]
    },
    {
     "name": "stderr",
     "output_type": "stream",
     "text": [
      "┌ Info: Epoch 7\n",
      "└ @ ConvGRU /Users/kahingleung/.julia/packages/Flux/sY3yx/src/optimise/train.jl:136\n"
     ]
    },
    {
     "name": "stdout",
     "output_type": "stream",
     "text": [
      "mse_loss(xtest, ytest) = 0.41900373f0\n"
     ]
    },
    {
     "name": "stderr",
     "output_type": "stream",
     "text": [
      "┌ Info: Epoch 8\n",
      "└ @ ConvGRU /Users/kahingleung/.julia/packages/Flux/sY3yx/src/optimise/train.jl:136\n"
     ]
    },
    {
     "name": "stdout",
     "output_type": "stream",
     "text": [
      "mse_loss(xtest, ytest) = 0.41593352f0\n"
     ]
    },
    {
     "name": "stderr",
     "output_type": "stream",
     "text": [
      "┌ Info: Epoch 9\n",
      "└ @ ConvGRU /Users/kahingleung/.julia/packages/Flux/sY3yx/src/optimise/train.jl:136\n"
     ]
    },
    {
     "name": "stdout",
     "output_type": "stream",
     "text": [
      "mse_loss(xtest, ytest) = 0.41642585f0\n"
     ]
    },
    {
     "name": "stderr",
     "output_type": "stream",
     "text": [
      "┌ Info: Epoch 10\n",
      "└ @ ConvGRU /Users/kahingleung/.julia/packages/Flux/sY3yx/src/optimise/train.jl:136\n"
     ]
    },
    {
     "name": "stdout",
     "output_type": "stream",
     "text": [
      "mse_loss(xtest, ytest) = 0.41802537f0\n"
     ]
    },
    {
     "name": "stderr",
     "output_type": "stream",
     "text": [
      "┌ Info: Epoch 11\n",
      "└ @ ConvGRU /Users/kahingleung/.julia/packages/Flux/sY3yx/src/optimise/train.jl:136\n"
     ]
    },
    {
     "name": "stdout",
     "output_type": "stream",
     "text": [
      "mse_loss(xtest, ytest) = 0.41649088f0\n"
     ]
    },
    {
     "name": "stderr",
     "output_type": "stream",
     "text": [
      "┌ Info: Epoch 12\n",
      "└ @ ConvGRU /Users/kahingleung/.julia/packages/Flux/sY3yx/src/optimise/train.jl:136\n"
     ]
    },
    {
     "name": "stdout",
     "output_type": "stream",
     "text": [
      "mse_loss(xtest, ytest) = 0.41699848f0\n"
     ]
    },
    {
     "name": "stderr",
     "output_type": "stream",
     "text": [
      "┌ Info: Epoch 13\n",
      "└ @ ConvGRU /Users/kahingleung/.julia/packages/Flux/sY3yx/src/optimise/train.jl:136\n"
     ]
    },
    {
     "name": "stdout",
     "output_type": "stream",
     "text": [
      "mse_loss(xtest, ytest) = 0.41590914f0\n"
     ]
    },
    {
     "name": "stderr",
     "output_type": "stream",
     "text": [
      "┌ Info: Epoch 14\n",
      "└ @ ConvGRU /Users/kahingleung/.julia/packages/Flux/sY3yx/src/optimise/train.jl:136\n"
     ]
    },
    {
     "name": "stdout",
     "output_type": "stream",
     "text": [
      "mse_loss(xtest, ytest) = 0.41355428f0\n"
     ]
    },
    {
     "name": "stderr",
     "output_type": "stream",
     "text": [
      "┌ Info: Epoch 15\n",
      "└ @ ConvGRU /Users/kahingleung/.julia/packages/Flux/sY3yx/src/optimise/train.jl:136\n"
     ]
    },
    {
     "name": "stdout",
     "output_type": "stream",
     "text": [
      "mse_loss(xtest, ytest) = 0.41432214f0\n"
     ]
    },
    {
     "name": "stderr",
     "output_type": "stream",
     "text": [
      "┌ Info: Epoch 16\n",
      "└ @ ConvGRU /Users/kahingleung/.julia/packages/Flux/sY3yx/src/optimise/train.jl:136\n"
     ]
    },
    {
     "name": "stdout",
     "output_type": "stream",
     "text": [
      "mse_loss(xtest, ytest) = 0.41220117f0\n"
     ]
    },
    {
     "name": "stderr",
     "output_type": "stream",
     "text": [
      "┌ Info: Epoch 17\n",
      "└ @ ConvGRU /Users/kahingleung/.julia/packages/Flux/sY3yx/src/optimise/train.jl:136\n",
      "┌ Info: Epoch 18\n",
      "└ @ ConvGRU /Users/kahingleung/.julia/packages/Flux/sY3yx/src/optimise/train.jl:136\n"
     ]
    },
    {
     "name": "stdout",
     "output_type": "stream",
     "text": [
      "mse_loss(xtest, ytest) = 0.4127438f0\n",
      "mse_loss(xtest, ytest) = 0.41329756f0\n"
     ]
    },
    {
     "name": "stderr",
     "output_type": "stream",
     "text": [
      "┌ Info: Epoch 19\n",
      "└ @ ConvGRU /Users/kahingleung/.julia/packages/Flux/sY3yx/src/optimise/train.jl:136\n"
     ]
    },
    {
     "name": "stdout",
     "output_type": "stream",
     "text": [
      "mse_loss(xtest, ytest) = 0.41200283f0\n"
     ]
    },
    {
     "name": "stderr",
     "output_type": "stream",
     "text": [
      "┌ Info: Epoch 20\n",
      "└ @ ConvGRU /Users/kahingleung/.julia/packages/Flux/sY3yx/src/optimise/train.jl:136\n"
     ]
    },
    {
     "name": "stdout",
     "output_type": "stream",
     "text": [
      "mse_loss(xtest, ytest) = 0.41155994f0\n"
     ]
    },
    {
     "name": "stderr",
     "output_type": "stream",
     "text": [
      "┌ Info: Epoch 21\n",
      "└ @ ConvGRU /Users/kahingleung/.julia/packages/Flux/sY3yx/src/optimise/train.jl:136\n",
      "┌ Info: Epoch 22\n",
      "└ @ ConvGRU /Users/kahingleung/.julia/packages/Flux/sY3yx/src/optimise/train.jl:136\n"
     ]
    },
    {
     "name": "stdout",
     "output_type": "stream",
     "text": [
      "mse_loss(xtest, ytest) = 0.4123137f0\n"
     ]
    },
    {
     "name": "stderr",
     "output_type": "stream",
     "text": [
      "┌ Info: Epoch 23\n",
      "└ @ ConvGRU /Users/kahingleung/.julia/packages/Flux/sY3yx/src/optimise/train.jl:136\n"
     ]
    },
    {
     "name": "stdout",
     "output_type": "stream",
     "text": [
      "mse_loss(xtest, ytest) = 0.41150865f0\n"
     ]
    },
    {
     "name": "stderr",
     "output_type": "stream",
     "text": [
      "┌ Info: Epoch 24\n",
      "└ @ ConvGRU /Users/kahingleung/.julia/packages/Flux/sY3yx/src/optimise/train.jl:136\n"
     ]
    },
    {
     "name": "stdout",
     "output_type": "stream",
     "text": [
      "mse_loss(xtest, ytest) = 0.41169092f0\n",
      "mse_loss(xtest, ytest) = 0.4104317f0\n"
     ]
    },
    {
     "name": "stderr",
     "output_type": "stream",
     "text": [
      "┌ Info: Epoch 25\n",
      "└ @ ConvGRU /Users/kahingleung/.julia/packages/Flux/sY3yx/src/optimise/train.jl:136\n"
     ]
    },
    {
     "name": "stdout",
     "output_type": "stream",
     "text": [
      "mse_loss(xtest, ytest) = 0.4124851f0\n"
     ]
    },
    {
     "name": "stderr",
     "output_type": "stream",
     "text": [
      "┌ Info: Epoch 26\n",
      "└ @ ConvGRU /Users/kahingleung/.julia/packages/Flux/sY3yx/src/optimise/train.jl:136\n",
      "┌ Info: Epoch 27\n",
      "└ @ ConvGRU /Users/kahingleung/.julia/packages/Flux/sY3yx/src/optimise/train.jl:136\n"
     ]
    },
    {
     "name": "stdout",
     "output_type": "stream",
     "text": [
      "mse_loss(xtest, ytest) = 0.41028845f0\n"
     ]
    },
    {
     "name": "stderr",
     "output_type": "stream",
     "text": [
      "┌ Info: Epoch 28\n",
      "└ @ ConvGRU /Users/kahingleung/.julia/packages/Flux/sY3yx/src/optimise/train.jl:136\n"
     ]
    },
    {
     "name": "stdout",
     "output_type": "stream",
     "text": [
      "mse_loss(xtest, ytest) = 0.40902752f0\n"
     ]
    },
    {
     "name": "stderr",
     "output_type": "stream",
     "text": [
      "┌ Info: Epoch 29\n",
      "└ @ ConvGRU /Users/kahingleung/.julia/packages/Flux/sY3yx/src/optimise/train.jl:136\n"
     ]
    },
    {
     "name": "stdout",
     "output_type": "stream",
     "text": [
      "mse_loss(xtest, ytest) = 0.4078661f0\n"
     ]
    },
    {
     "name": "stderr",
     "output_type": "stream",
     "text": [
      "┌ Info: Epoch 30\n",
      "└ @ ConvGRU /Users/kahingleung/.julia/packages/Flux/sY3yx/src/optimise/train.jl:136\n"
     ]
    },
    {
     "name": "stdout",
     "output_type": "stream",
     "text": [
      "mse_loss(xtest, ytest) = 0.40840042f0\n",
      "(250,)\n",
      "myObjective(df, seqlen, Nh, lr, sym * \"-\" * string(i)) = 0.40797597f0\n",
      "101520.001291549665014884\n",
      "mse_loss(xtest, ytest) = 1.0075864f0\n"
     ]
    },
    {
     "name": "stderr",
     "output_type": "stream",
     "text": [
      "┌ Info: Epoch 1\n",
      "└ @ ConvGRU /Users/kahingleung/.julia/packages/Flux/sY3yx/src/optimise/train.jl:136\n"
     ]
    },
    {
     "name": "stdout",
     "output_type": "stream",
     "text": [
      "mse_loss(xtest, ytest) = 0.9906008f0\n",
      "mse_loss(xtest, ytest) = 0.74545306f0\n"
     ]
    },
    {
     "name": "stderr",
     "output_type": "stream",
     "text": [
      "┌ Info: Epoch 2\n",
      "└ @ ConvGRU /Users/kahingleung/.julia/packages/Flux/sY3yx/src/optimise/train.jl:136\n"
     ]
    },
    {
     "name": "stdout",
     "output_type": "stream",
     "text": [
      "mse_loss(xtest, ytest) = 0.5522318f0\n"
     ]
    },
    {
     "name": "stderr",
     "output_type": "stream",
     "text": [
      "┌ Info: Epoch 3\n",
      "└ @ ConvGRU /Users/kahingleung/.julia/packages/Flux/sY3yx/src/optimise/train.jl:136\n"
     ]
    },
    {
     "name": "stdout",
     "output_type": "stream",
     "text": [
      "mse_loss(xtest, ytest) = 0.43616956f0\n"
     ]
    },
    {
     "name": "stderr",
     "output_type": "stream",
     "text": [
      "┌ Info: Epoch 4\n",
      "└ @ ConvGRU /Users/kahingleung/.julia/packages/Flux/sY3yx/src/optimise/train.jl:136\n"
     ]
    },
    {
     "name": "stdout",
     "output_type": "stream",
     "text": [
      "mse_loss(xtest, ytest) = 0.4124514f0\n"
     ]
    },
    {
     "name": "stderr",
     "output_type": "stream",
     "text": [
      "┌ Info: Epoch 5\n",
      "└ @ ConvGRU /Users/kahingleung/.julia/packages/Flux/sY3yx/src/optimise/train.jl:136\n",
      "┌ Info: Epoch 6\n",
      "└ @ ConvGRU /Users/kahingleung/.julia/packages/Flux/sY3yx/src/optimise/train.jl:136\n"
     ]
    },
    {
     "name": "stdout",
     "output_type": "stream",
     "text": [
      "mse_loss(xtest, ytest) = 0.40903232f0\n",
      "mse_loss(xtest, ytest) = 0.40791538f0\n"
     ]
    },
    {
     "name": "stderr",
     "output_type": "stream",
     "text": [
      "┌ Info: Epoch 7\n",
      "└ @ ConvGRU /Users/kahingleung/.julia/packages/Flux/sY3yx/src/optimise/train.jl:136\n"
     ]
    },
    {
     "name": "stdout",
     "output_type": "stream",
     "text": [
      "mse_loss(xtest, ytest) = 0.40765032f0\n"
     ]
    },
    {
     "name": "stderr",
     "output_type": "stream",
     "text": [
      "┌ Info: Epoch 8\n",
      "└ @ ConvGRU /Users/kahingleung/.julia/packages/Flux/sY3yx/src/optimise/train.jl:136\n"
     ]
    },
    {
     "name": "stdout",
     "output_type": "stream",
     "text": [
      "mse_loss(xtest, ytest) = 0.40833357f0\n"
     ]
    },
    {
     "name": "stderr",
     "output_type": "stream",
     "text": [
      "┌ Info: Epoch 9\n",
      "└ @ ConvGRU /Users/kahingleung/.julia/packages/Flux/sY3yx/src/optimise/train.jl:136\n"
     ]
    },
    {
     "name": "stdout",
     "output_type": "stream",
     "text": [
      "mse_loss(xtest, ytest) = 0.40766504f0\n"
     ]
    },
    {
     "name": "stderr",
     "output_type": "stream",
     "text": [
      "┌ Info: Epoch 10\n",
      "└ @ ConvGRU /Users/kahingleung/.julia/packages/Flux/sY3yx/src/optimise/train.jl:136\n"
     ]
    },
    {
     "name": "stdout",
     "output_type": "stream",
     "text": [
      "mse_loss(xtest, ytest) = 0.40728417f0\n"
     ]
    },
    {
     "name": "stderr",
     "output_type": "stream",
     "text": [
      "┌ Info: Epoch 11\n",
      "└ @ ConvGRU /Users/kahingleung/.julia/packages/Flux/sY3yx/src/optimise/train.jl:136\n"
     ]
    },
    {
     "name": "stdout",
     "output_type": "stream",
     "text": [
      "mse_loss(xtest, ytest) = 0.40749773f0\n"
     ]
    },
    {
     "name": "stderr",
     "output_type": "stream",
     "text": [
      "┌ Info: Epoch 12\n",
      "└ @ ConvGRU /Users/kahingleung/.julia/packages/Flux/sY3yx/src/optimise/train.jl:136\n",
      "┌ Info: Epoch 13\n",
      "└ @ ConvGRU /Users/kahingleung/.julia/packages/Flux/sY3yx/src/optimise/train.jl:136\n"
     ]
    },
    {
     "name": "stdout",
     "output_type": "stream",
     "text": [
      "mse_loss(xtest, ytest) = 0.40707585f0\n",
      "mse_loss(xtest, ytest) = 0.4078711f0\n"
     ]
    },
    {
     "name": "stderr",
     "output_type": "stream",
     "text": [
      "┌ Info: Epoch 14\n",
      "└ @ ConvGRU /Users/kahingleung/.julia/packages/Flux/sY3yx/src/optimise/train.jl:136\n"
     ]
    },
    {
     "name": "stdout",
     "output_type": "stream",
     "text": [
      "mse_loss(xtest, ytest) = 0.40755358f0\n"
     ]
    },
    {
     "name": "stderr",
     "output_type": "stream",
     "text": [
      "┌ Info: Epoch 15\n",
      "└ @ ConvGRU /Users/kahingleung/.julia/packages/Flux/sY3yx/src/optimise/train.jl:136\n"
     ]
    },
    {
     "name": "stdout",
     "output_type": "stream",
     "text": [
      "mse_loss(xtest, ytest) = 0.40739653f0\n"
     ]
    },
    {
     "name": "stderr",
     "output_type": "stream",
     "text": [
      "┌ Info: Epoch 16\n",
      "└ @ ConvGRU /Users/kahingleung/.julia/packages/Flux/sY3yx/src/optimise/train.jl:136\n"
     ]
    },
    {
     "name": "stdout",
     "output_type": "stream",
     "text": [
      "mse_loss(xtest, ytest) = 0.40739328f0\n"
     ]
    },
    {
     "name": "stderr",
     "output_type": "stream",
     "text": [
      "┌ Info: Epoch 17\n",
      "└ @ ConvGRU /Users/kahingleung/.julia/packages/Flux/sY3yx/src/optimise/train.jl:136\n"
     ]
    },
    {
     "name": "stdout",
     "output_type": "stream",
     "text": [
      "mse_loss(xtest, ytest) = 0.4072621f0\n"
     ]
    },
    {
     "name": "stderr",
     "output_type": "stream",
     "text": [
      "┌ Info: Epoch 18\n",
      "└ @ ConvGRU /Users/kahingleung/.julia/packages/Flux/sY3yx/src/optimise/train.jl:136\n"
     ]
    },
    {
     "name": "stdout",
     "output_type": "stream",
     "text": [
      "mse_loss(xtest, ytest) = 0.40842345f0\n"
     ]
    },
    {
     "name": "stderr",
     "output_type": "stream",
     "text": [
      "┌ Info: Epoch 19\n",
      "└ @ ConvGRU /Users/kahingleung/.julia/packages/Flux/sY3yx/src/optimise/train.jl:136\n"
     ]
    },
    {
     "name": "stdout",
     "output_type": "stream",
     "text": [
      "mse_loss(xtest, ytest) = 0.4074424f0\n"
     ]
    },
    {
     "name": "stderr",
     "output_type": "stream",
     "text": [
      "┌ Info: Epoch 20\n",
      "└ @ ConvGRU /Users/kahingleung/.julia/packages/Flux/sY3yx/src/optimise/train.jl:136\n"
     ]
    },
    {
     "name": "stdout",
     "output_type": "stream",
     "text": [
      "mse_loss(xtest, ytest) = 0.40774128f0\n"
     ]
    },
    {
     "name": "stderr",
     "output_type": "stream",
     "text": [
      "┌ Info: Epoch 21\n",
      "└ @ ConvGRU /Users/kahingleung/.julia/packages/Flux/sY3yx/src/optimise/train.jl:136\n"
     ]
    },
    {
     "name": "stdout",
     "output_type": "stream",
     "text": [
      "mse_loss(xtest, ytest) = 0.40787297f0\n"
     ]
    },
    {
     "name": "stderr",
     "output_type": "stream",
     "text": [
      "┌ Info: Epoch 22\n",
      "└ @ ConvGRU /Users/kahingleung/.julia/packages/Flux/sY3yx/src/optimise/train.jl:136\n"
     ]
    },
    {
     "name": "stdout",
     "output_type": "stream",
     "text": [
      "mse_loss(xtest, ytest) = 0.40865713f0\n"
     ]
    },
    {
     "name": "stderr",
     "output_type": "stream",
     "text": [
      "┌ Info: Epoch 23\n",
      "└ @ ConvGRU /Users/kahingleung/.julia/packages/Flux/sY3yx/src/optimise/train.jl:136\n"
     ]
    },
    {
     "name": "stdout",
     "output_type": "stream",
     "text": [
      "mse_loss(xtest, ytest) = 0.40924972f0\n"
     ]
    },
    {
     "name": "stderr",
     "output_type": "stream",
     "text": [
      "┌ Info: Epoch 24\n",
      "└ @ ConvGRU /Users/kahingleung/.julia/packages/Flux/sY3yx/src/optimise/train.jl:136\n",
      "┌ Info: Epoch 25\n",
      "└ @ ConvGRU /Users/kahingleung/.julia/packages/Flux/sY3yx/src/optimise/train.jl:136\n"
     ]
    },
    {
     "name": "stdout",
     "output_type": "stream",
     "text": [
      "mse_loss(xtest, ytest) = 0.40893978f0\n",
      "mse_loss(xtest, ytest) = 0.41057825f0\n"
     ]
    },
    {
     "name": "stderr",
     "output_type": "stream",
     "text": [
      "┌ Info: Epoch 26\n",
      "└ @ ConvGRU /Users/kahingleung/.julia/packages/Flux/sY3yx/src/optimise/train.jl:136\n"
     ]
    },
    {
     "name": "stdout",
     "output_type": "stream",
     "text": [
      "mse_loss(xtest, ytest) = 0.40925235f0\n"
     ]
    },
    {
     "name": "stderr",
     "output_type": "stream",
     "text": [
      "┌ Info: Epoch 27\n",
      "└ @ ConvGRU /Users/kahingleung/.julia/packages/Flux/sY3yx/src/optimise/train.jl:136\n"
     ]
    },
    {
     "name": "stdout",
     "output_type": "stream",
     "text": [
      "mse_loss(xtest, ytest) = 0.4097099f0\n"
     ]
    },
    {
     "name": "stderr",
     "output_type": "stream",
     "text": [
      "┌ Info: Epoch 28\n",
      "└ @ ConvGRU /Users/kahingleung/.julia/packages/Flux/sY3yx/src/optimise/train.jl:136\n"
     ]
    },
    {
     "name": "stdout",
     "output_type": "stream",
     "text": [
      "mse_loss(xtest, ytest) = 0.40970886f0\n"
     ]
    },
    {
     "name": "stderr",
     "output_type": "stream",
     "text": [
      "┌ Info: Epoch 29\n",
      "└ @ ConvGRU /Users/kahingleung/.julia/packages/Flux/sY3yx/src/optimise/train.jl:136\n"
     ]
    },
    {
     "name": "stdout",
     "output_type": "stream",
     "text": [
      "mse_loss(xtest, ytest) = 0.410215f0\n"
     ]
    },
    {
     "name": "stderr",
     "output_type": "stream",
     "text": [
      "┌ Info: Epoch 30\n",
      "└ @ ConvGRU /Users/kahingleung/.julia/packages/Flux/sY3yx/src/optimise/train.jl:136\n"
     ]
    },
    {
     "name": "stdout",
     "output_type": "stream",
     "text": [
      "(250,)\n",
      "myObjective(df, seqlen, Nh, lr, sym * \"-\" * string(i)) = 0.4062295f0\n",
      "113020.0021544346900318843\n",
      "mse_loss(xtest, ytest) = 0.93601424f0\n"
     ]
    },
    {
     "name": "stderr",
     "output_type": "stream",
     "text": [
      "┌ Info: Epoch 1\n",
      "└ @ ConvGRU /Users/kahingleung/.julia/packages/Flux/sY3yx/src/optimise/train.jl:136\n"
     ]
    },
    {
     "name": "stdout",
     "output_type": "stream",
     "text": [
      "mse_loss(xtest, ytest) = 0.91427773f0\n",
      "mse_loss(xtest, ytest) = 0.5803293f0\n"
     ]
    },
    {
     "name": "stderr",
     "output_type": "stream",
     "text": [
      "┌ Info: Epoch 2\n",
      "└ @ ConvGRU /Users/kahingleung/.julia/packages/Flux/sY3yx/src/optimise/train.jl:136\n"
     ]
    },
    {
     "name": "stdout",
     "output_type": "stream",
     "text": [
      "mse_loss(xtest, ytest) = 0.42547524f0\n"
     ]
    },
    {
     "name": "stderr",
     "output_type": "stream",
     "text": [
      "┌ Info: Epoch 3\n",
      "└ @ ConvGRU /Users/kahingleung/.julia/packages/Flux/sY3yx/src/optimise/train.jl:136\n"
     ]
    },
    {
     "name": "stdout",
     "output_type": "stream",
     "text": [
      "mse_loss(xtest, ytest) = 0.41303557f0\n"
     ]
    },
    {
     "name": "stderr",
     "output_type": "stream",
     "text": [
      "┌ Info: Epoch 4\n",
      "└ @ ConvGRU /Users/kahingleung/.julia/packages/Flux/sY3yx/src/optimise/train.jl:136\n"
     ]
    },
    {
     "name": "stdout",
     "output_type": "stream",
     "text": [
      "mse_loss(xtest, ytest) = 0.4126529f0\n"
     ]
    },
    {
     "name": "stderr",
     "output_type": "stream",
     "text": [
      "┌ Info: Epoch 5\n",
      "└ @ ConvGRU /Users/kahingleung/.julia/packages/Flux/sY3yx/src/optimise/train.jl:136\n"
     ]
    },
    {
     "name": "stdout",
     "output_type": "stream",
     "text": [
      "mse_loss(xtest, ytest) = 0.41362652f0\n"
     ]
    },
    {
     "name": "stderr",
     "output_type": "stream",
     "text": [
      "┌ Info: Epoch 6\n",
      "└ @ ConvGRU /Users/kahingleung/.julia/packages/Flux/sY3yx/src/optimise/train.jl:136\n"
     ]
    },
    {
     "name": "stdout",
     "output_type": "stream",
     "text": [
      "mse_loss(xtest, ytest) = 0.41178176f0\n"
     ]
    },
    {
     "name": "stderr",
     "output_type": "stream",
     "text": [
      "┌ Info: Epoch 7\n",
      "└ @ ConvGRU /Users/kahingleung/.julia/packages/Flux/sY3yx/src/optimise/train.jl:136\n"
     ]
    },
    {
     "name": "stdout",
     "output_type": "stream",
     "text": [
      "mse_loss(xtest, ytest) = 0.41291553f0\n"
     ]
    },
    {
     "name": "stderr",
     "output_type": "stream",
     "text": [
      "┌ Info: Epoch 8\n",
      "└ @ ConvGRU /Users/kahingleung/.julia/packages/Flux/sY3yx/src/optimise/train.jl:136\n"
     ]
    },
    {
     "name": "stdout",
     "output_type": "stream",
     "text": [
      "mse_loss(xtest, ytest) = 0.4118556f0\n"
     ]
    },
    {
     "name": "stderr",
     "output_type": "stream",
     "text": [
      "┌ Info: Epoch 9\n",
      "└ @ ConvGRU /Users/kahingleung/.julia/packages/Flux/sY3yx/src/optimise/train.jl:136\n"
     ]
    },
    {
     "name": "stdout",
     "output_type": "stream",
     "text": [
      "mse_loss(xtest, ytest) = 0.4114269f0\n"
     ]
    },
    {
     "name": "stderr",
     "output_type": "stream",
     "text": [
      "┌ Info: Epoch 10\n",
      "└ @ ConvGRU /Users/kahingleung/.julia/packages/Flux/sY3yx/src/optimise/train.jl:136\n",
      "┌ Info: Epoch 11\n",
      "└ @ ConvGRU /Users/kahingleung/.julia/packages/Flux/sY3yx/src/optimise/train.jl:136\n"
     ]
    },
    {
     "name": "stdout",
     "output_type": "stream",
     "text": [
      "mse_loss(xtest, ytest) = 0.41350138f0\n",
      "mse_loss(xtest, ytest) = 0.41229352f0\n"
     ]
    },
    {
     "name": "stderr",
     "output_type": "stream",
     "text": [
      "┌ Info: Epoch 12\n",
      "└ @ ConvGRU /Users/kahingleung/.julia/packages/Flux/sY3yx/src/optimise/train.jl:136\n"
     ]
    },
    {
     "name": "stdout",
     "output_type": "stream",
     "text": [
      "mse_loss(xtest, ytest) = 0.4113599f0\n"
     ]
    },
    {
     "name": "stderr",
     "output_type": "stream",
     "text": [
      "┌ Info: Epoch 13\n",
      "└ @ ConvGRU /Users/kahingleung/.julia/packages/Flux/sY3yx/src/optimise/train.jl:136\n"
     ]
    },
    {
     "name": "stdout",
     "output_type": "stream",
     "text": [
      "mse_loss(xtest, ytest) = 0.4112482f0\n"
     ]
    },
    {
     "name": "stderr",
     "output_type": "stream",
     "text": [
      "┌ Info: Epoch 14\n",
      "└ @ ConvGRU /Users/kahingleung/.julia/packages/Flux/sY3yx/src/optimise/train.jl:136\n"
     ]
    },
    {
     "name": "stdout",
     "output_type": "stream",
     "text": [
      "mse_loss(xtest, ytest) = 0.4119044f0\n"
     ]
    },
    {
     "name": "stderr",
     "output_type": "stream",
     "text": [
      "┌ Info: Epoch 15\n",
      "└ @ ConvGRU /Users/kahingleung/.julia/packages/Flux/sY3yx/src/optimise/train.jl:136\n"
     ]
    },
    {
     "name": "stdout",
     "output_type": "stream",
     "text": [
      "mse_loss(xtest, ytest) = 0.41141963f0\n"
     ]
    },
    {
     "name": "stderr",
     "output_type": "stream",
     "text": [
      "┌ Info: Epoch 16\n",
      "└ @ ConvGRU /Users/kahingleung/.julia/packages/Flux/sY3yx/src/optimise/train.jl:136\n",
      "┌ Info: Epoch 17\n",
      "└ @ ConvGRU /Users/kahingleung/.julia/packages/Flux/sY3yx/src/optimise/train.jl:136\n"
     ]
    },
    {
     "name": "stdout",
     "output_type": "stream",
     "text": [
      "mse_loss(xtest, ytest) = 0.41068238f0\n",
      "mse_loss(xtest, ytest) = 0.4117363f0\n"
     ]
    },
    {
     "name": "stderr",
     "output_type": "stream",
     "text": [
      "┌ Info: Epoch 18\n",
      "└ @ ConvGRU /Users/kahingleung/.julia/packages/Flux/sY3yx/src/optimise/train.jl:136\n"
     ]
    },
    {
     "name": "stdout",
     "output_type": "stream",
     "text": [
      "mse_loss(xtest, ytest) = 0.41167584f0\n"
     ]
    },
    {
     "name": "stderr",
     "output_type": "stream",
     "text": [
      "┌ Info: Epoch 19\n",
      "└ @ ConvGRU /Users/kahingleung/.julia/packages/Flux/sY3yx/src/optimise/train.jl:136\n"
     ]
    },
    {
     "name": "stdout",
     "output_type": "stream",
     "text": [
      "mse_loss(xtest, ytest) = 0.41184914f0\n"
     ]
    },
    {
     "name": "stderr",
     "output_type": "stream",
     "text": [
      "┌ Info: Epoch 20\n",
      "└ @ ConvGRU /Users/kahingleung/.julia/packages/Flux/sY3yx/src/optimise/train.jl:136\n"
     ]
    },
    {
     "name": "stdout",
     "output_type": "stream",
     "text": [
      "mse_loss(xtest, ytest) = 0.41129905f0\n"
     ]
    },
    {
     "name": "stderr",
     "output_type": "stream",
     "text": [
      "┌ Info: Epoch 21\n",
      "└ @ ConvGRU /Users/kahingleung/.julia/packages/Flux/sY3yx/src/optimise/train.jl:136\n",
      "┌ Info: Epoch 22\n",
      "└ @ ConvGRU /Users/kahingleung/.julia/packages/Flux/sY3yx/src/optimise/train.jl:136\n"
     ]
    },
    {
     "name": "stdout",
     "output_type": "stream",
     "text": [
      "mse_loss(xtest, ytest) = 0.41160446f0\n"
     ]
    },
    {
     "name": "stderr",
     "output_type": "stream",
     "text": [
      "┌ Info: Epoch 23\n",
      "└ @ ConvGRU /Users/kahingleung/.julia/packages/Flux/sY3yx/src/optimise/train.jl:136\n"
     ]
    },
    {
     "name": "stdout",
     "output_type": "stream",
     "text": [
      "mse_loss(xtest, ytest) = 0.4105998f0\n",
      "mse_loss(xtest, ytest) = 0.41059908f0\n"
     ]
    },
    {
     "name": "stderr",
     "output_type": "stream",
     "text": [
      "┌ Info: Epoch 24\n",
      "└ @ ConvGRU /Users/kahingleung/.julia/packages/Flux/sY3yx/src/optimise/train.jl:136\n"
     ]
    },
    {
     "name": "stdout",
     "output_type": "stream",
     "text": [
      "mse_loss(xtest, ytest) = 0.4097674f0\n"
     ]
    },
    {
     "name": "stderr",
     "output_type": "stream",
     "text": [
      "┌ Info: Epoch 25\n",
      "└ @ ConvGRU /Users/kahingleung/.julia/packages/Flux/sY3yx/src/optimise/train.jl:136\n"
     ]
    },
    {
     "name": "stdout",
     "output_type": "stream",
     "text": [
      "mse_loss(xtest, ytest) = 0.41060203f0\n"
     ]
    },
    {
     "name": "stderr",
     "output_type": "stream",
     "text": [
      "┌ Info: Epoch 26\n",
      "└ @ ConvGRU /Users/kahingleung/.julia/packages/Flux/sY3yx/src/optimise/train.jl:136\n"
     ]
    },
    {
     "name": "stdout",
     "output_type": "stream",
     "text": [
      "mse_loss(xtest, ytest) = 0.4110639f0\n"
     ]
    },
    {
     "name": "stderr",
     "output_type": "stream",
     "text": [
      "┌ Info: Epoch 27\n",
      "└ @ ConvGRU /Users/kahingleung/.julia/packages/Flux/sY3yx/src/optimise/train.jl:136\n"
     ]
    },
    {
     "name": "stdout",
     "output_type": "stream",
     "text": [
      "mse_loss(xtest, ytest) = 0.41098416f0\n"
     ]
    },
    {
     "name": "stderr",
     "output_type": "stream",
     "text": [
      "┌ Info: Epoch 28\n",
      "└ @ ConvGRU /Users/kahingleung/.julia/packages/Flux/sY3yx/src/optimise/train.jl:136\n"
     ]
    },
    {
     "name": "stdout",
     "output_type": "stream",
     "text": [
      "mse_loss(xtest, ytest) = 0.41189593f0\n"
     ]
    },
    {
     "name": "stderr",
     "output_type": "stream",
     "text": [
      "┌ Info: Epoch 29\n",
      "└ @ ConvGRU /Users/kahingleung/.julia/packages/Flux/sY3yx/src/optimise/train.jl:136\n"
     ]
    },
    {
     "name": "stdout",
     "output_type": "stream",
     "text": [
      "mse_loss(xtest, ytest) = 0.4114358f0\n"
     ]
    },
    {
     "name": "stderr",
     "output_type": "stream",
     "text": [
      "┌ Info: Epoch 30\n",
      "└ @ ConvGRU /Users/kahingleung/.julia/packages/Flux/sY3yx/src/optimise/train.jl:136\n"
     ]
    },
    {
     "name": "stdout",
     "output_type": "stream",
     "text": [
      "(250,)\n",
      "myObjective(df, seqlen, Nh, lr, sym * \"-\" * string(i)) = 0.41044143f0\n",
      "121080.0016681005372000592\n",
      "mse_loss(xtest, ytest) = 0.4245319f0\n",
      "mse_loss(xtest, ytest) = 0.40747428f0\n"
     ]
    },
    {
     "name": "stderr",
     "output_type": "stream",
     "text": [
      "┌ Info: Epoch 1\n",
      "└ @ ConvGRU /Users/kahingleung/.julia/packages/Flux/sY3yx/src/optimise/train.jl:136\n"
     ]
    },
    {
     "name": "stdout",
     "output_type": "stream",
     "text": [
      "mse_loss(xtest, ytest) = 0.4084258f0\n"
     ]
    },
    {
     "name": "stderr",
     "output_type": "stream",
     "text": [
      "┌ Info: Epoch 2\n",
      "└ @ ConvGRU /Users/kahingleung/.julia/packages/Flux/sY3yx/src/optimise/train.jl:136\n"
     ]
    },
    {
     "name": "stdout",
     "output_type": "stream",
     "text": [
      "mse_loss(xtest, ytest) = 0.40746075f0\n"
     ]
    },
    {
     "name": "stderr",
     "output_type": "stream",
     "text": [
      "┌ Info: Epoch 3\n",
      "└ @ ConvGRU /Users/kahingleung/.julia/packages/Flux/sY3yx/src/optimise/train.jl:136\n"
     ]
    },
    {
     "name": "stdout",
     "output_type": "stream",
     "text": [
      "mse_loss(xtest, ytest) = 0.40689477f0\n"
     ]
    },
    {
     "name": "stderr",
     "output_type": "stream",
     "text": [
      "┌ Info: Epoch 4\n",
      "└ @ ConvGRU /Users/kahingleung/.julia/packages/Flux/sY3yx/src/optimise/train.jl:136\n"
     ]
    },
    {
     "name": "stdout",
     "output_type": "stream",
     "text": [
      "mse_loss(xtest, ytest) = 0.40531358f0\n"
     ]
    },
    {
     "name": "stderr",
     "output_type": "stream",
     "text": [
      "┌ Info: Epoch 5\n",
      "└ @ ConvGRU /Users/kahingleung/.julia/packages/Flux/sY3yx/src/optimise/train.jl:136\n"
     ]
    },
    {
     "name": "stdout",
     "output_type": "stream",
     "text": [
      "mse_loss(xtest, ytest) = 0.40611935f0\n"
     ]
    },
    {
     "name": "stderr",
     "output_type": "stream",
     "text": [
      "┌ Info: Epoch 6\n",
      "└ @ ConvGRU /Users/kahingleung/.julia/packages/Flux/sY3yx/src/optimise/train.jl:136\n"
     ]
    },
    {
     "name": "stdout",
     "output_type": "stream",
     "text": [
      "mse_loss(xtest, ytest) = 0.40518868f0\n"
     ]
    },
    {
     "name": "stderr",
     "output_type": "stream",
     "text": [
      "┌ Info: Epoch 7\n",
      "└ @ ConvGRU /Users/kahingleung/.julia/packages/Flux/sY3yx/src/optimise/train.jl:136\n"
     ]
    },
    {
     "name": "stdout",
     "output_type": "stream",
     "text": [
      "mse_loss(xtest, ytest) = 0.40524143f0\n"
     ]
    },
    {
     "name": "stderr",
     "output_type": "stream",
     "text": [
      "┌ Info: Epoch 8\n",
      "└ @ ConvGRU /Users/kahingleung/.julia/packages/Flux/sY3yx/src/optimise/train.jl:136\n",
      "┌ Info: Epoch 9\n",
      "└ @ ConvGRU /Users/kahingleung/.julia/packages/Flux/sY3yx/src/optimise/train.jl:136\n"
     ]
    },
    {
     "name": "stdout",
     "output_type": "stream",
     "text": [
      "mse_loss(xtest, ytest) = 0.40572137f0\n",
      "mse_loss(xtest, ytest) = 0.4042186f0\n"
     ]
    },
    {
     "name": "stderr",
     "output_type": "stream",
     "text": [
      "┌ Info: Epoch 10\n",
      "└ @ ConvGRU /Users/kahingleung/.julia/packages/Flux/sY3yx/src/optimise/train.jl:136\n"
     ]
    },
    {
     "name": "stdout",
     "output_type": "stream",
     "text": [
      "mse_loss(xtest, ytest) = 0.40553033f0\n"
     ]
    },
    {
     "name": "stderr",
     "output_type": "stream",
     "text": [
      "┌ Info: Epoch 11\n",
      "└ @ ConvGRU /Users/kahingleung/.julia/packages/Flux/sY3yx/src/optimise/train.jl:136\n",
      "┌ Info: Epoch 12\n",
      "└ @ ConvGRU /Users/kahingleung/.julia/packages/Flux/sY3yx/src/optimise/train.jl:136\n"
     ]
    },
    {
     "name": "stdout",
     "output_type": "stream",
     "text": [
      "mse_loss(xtest, ytest) = 0.40556026f0\n",
      "mse_loss(xtest, ytest) = 0.40604758f0\n"
     ]
    },
    {
     "name": "stderr",
     "output_type": "stream",
     "text": [
      "┌ Info: Epoch 13\n",
      "└ @ ConvGRU /Users/kahingleung/.julia/packages/Flux/sY3yx/src/optimise/train.jl:136\n"
     ]
    },
    {
     "name": "stdout",
     "output_type": "stream",
     "text": [
      "mse_loss(xtest, ytest) = 0.40545467f0\n"
     ]
    },
    {
     "name": "stderr",
     "output_type": "stream",
     "text": [
      "┌ Info: Epoch 14\n",
      "└ @ ConvGRU /Users/kahingleung/.julia/packages/Flux/sY3yx/src/optimise/train.jl:136\n",
      "┌ Info: Epoch 15\n",
      "└ @ ConvGRU /Users/kahingleung/.julia/packages/Flux/sY3yx/src/optimise/train.jl:136\n"
     ]
    },
    {
     "name": "stdout",
     "output_type": "stream",
     "text": [
      "mse_loss(xtest, ytest) = 0.40584037f0\n"
     ]
    },
    {
     "name": "stderr",
     "output_type": "stream",
     "text": [
      "┌ Info: Epoch 16\n",
      "└ @ ConvGRU /Users/kahingleung/.julia/packages/Flux/sY3yx/src/optimise/train.jl:136\n"
     ]
    },
    {
     "name": "stdout",
     "output_type": "stream",
     "text": [
      "mse_loss(xtest, ytest) = 0.4061303f0\n",
      "mse_loss(xtest, ytest) = 0.40524936f0\n"
     ]
    },
    {
     "name": "stderr",
     "output_type": "stream",
     "text": [
      "┌ Info: Epoch 17\n",
      "└ @ ConvGRU /Users/kahingleung/.julia/packages/Flux/sY3yx/src/optimise/train.jl:136\n"
     ]
    },
    {
     "name": "stdout",
     "output_type": "stream",
     "text": [
      "mse_loss(xtest, ytest) = 0.40506288f0\n"
     ]
    },
    {
     "name": "stderr",
     "output_type": "stream",
     "text": [
      "┌ Info: Epoch 18\n",
      "└ @ ConvGRU /Users/kahingleung/.julia/packages/Flux/sY3yx/src/optimise/train.jl:136\n"
     ]
    },
    {
     "name": "stdout",
     "output_type": "stream",
     "text": [
      "mse_loss(xtest, ytest) = 0.40615135f0\n"
     ]
    },
    {
     "name": "stderr",
     "output_type": "stream",
     "text": [
      "┌ Info: Epoch 19\n",
      "└ @ ConvGRU /Users/kahingleung/.julia/packages/Flux/sY3yx/src/optimise/train.jl:136\n"
     ]
    },
    {
     "name": "stdout",
     "output_type": "stream",
     "text": [
      "mse_loss(xtest, ytest) = 0.40683687f0\n"
     ]
    },
    {
     "name": "stderr",
     "output_type": "stream",
     "text": [
      "┌ Info: Epoch 20\n",
      "└ @ ConvGRU /Users/kahingleung/.julia/packages/Flux/sY3yx/src/optimise/train.jl:136\n",
      "┌ Info: Epoch 21\n",
      "└ @ ConvGRU /Users/kahingleung/.julia/packages/Flux/sY3yx/src/optimise/train.jl:136\n"
     ]
    },
    {
     "name": "stdout",
     "output_type": "stream",
     "text": [
      "mse_loss(xtest, ytest) = 0.40665376f0\n",
      "mse_loss(xtest, ytest) = 0.40668708f0\n"
     ]
    },
    {
     "name": "stderr",
     "output_type": "stream",
     "text": [
      "┌ Info: Epoch 22\n",
      "└ @ ConvGRU /Users/kahingleung/.julia/packages/Flux/sY3yx/src/optimise/train.jl:136\n"
     ]
    },
    {
     "name": "stdout",
     "output_type": "stream",
     "text": [
      "mse_loss(xtest, ytest) = 0.4089105f0\n"
     ]
    },
    {
     "name": "stderr",
     "output_type": "stream",
     "text": [
      "┌ Info: Epoch 23\n",
      "└ @ ConvGRU /Users/kahingleung/.julia/packages/Flux/sY3yx/src/optimise/train.jl:136\n"
     ]
    },
    {
     "name": "stdout",
     "output_type": "stream",
     "text": [
      "mse_loss(xtest, ytest) = 0.4064604f0\n"
     ]
    },
    {
     "name": "stderr",
     "output_type": "stream",
     "text": [
      "┌ Info: Epoch 24\n",
      "└ @ ConvGRU /Users/kahingleung/.julia/packages/Flux/sY3yx/src/optimise/train.jl:136\n"
     ]
    },
    {
     "name": "stdout",
     "output_type": "stream",
     "text": [
      "mse_loss(xtest, ytest) = 0.40811908f0\n"
     ]
    },
    {
     "name": "stderr",
     "output_type": "stream",
     "text": [
      "┌ Info: Epoch 25\n",
      "└ @ ConvGRU /Users/kahingleung/.julia/packages/Flux/sY3yx/src/optimise/train.jl:136\n"
     ]
    },
    {
     "name": "stdout",
     "output_type": "stream",
     "text": [
      "mse_loss(xtest, ytest) = 0.40737203f0\n"
     ]
    },
    {
     "name": "stderr",
     "output_type": "stream",
     "text": [
      "┌ Info: Epoch 26\n",
      "└ @ ConvGRU /Users/kahingleung/.julia/packages/Flux/sY3yx/src/optimise/train.jl:136\n"
     ]
    },
    {
     "name": "stdout",
     "output_type": "stream",
     "text": [
      "mse_loss(xtest, ytest) = 0.40862268f0\n"
     ]
    },
    {
     "name": "stderr",
     "output_type": "stream",
     "text": [
      "┌ Info: Epoch 27\n",
      "└ @ ConvGRU /Users/kahingleung/.julia/packages/Flux/sY3yx/src/optimise/train.jl:136\n"
     ]
    },
    {
     "name": "stdout",
     "output_type": "stream",
     "text": [
      "mse_loss(xtest, ytest) = 0.40957916f0\n"
     ]
    },
    {
     "name": "stderr",
     "output_type": "stream",
     "text": [
      "┌ Info: Epoch 28\n",
      "└ @ ConvGRU /Users/kahingleung/.julia/packages/Flux/sY3yx/src/optimise/train.jl:136\n"
     ]
    },
    {
     "name": "stdout",
     "output_type": "stream",
     "text": [
      "mse_loss(xtest, ytest) = 0.40926382f0\n"
     ]
    },
    {
     "name": "stderr",
     "output_type": "stream",
     "text": [
      "┌ Info: Epoch 29\n",
      "└ @ ConvGRU /Users/kahingleung/.julia/packages/Flux/sY3yx/src/optimise/train.jl:136\n"
     ]
    },
    {
     "name": "stdout",
     "output_type": "stream",
     "text": [
      "mse_loss(xtest, ytest) = 0.4074646f0\n"
     ]
    },
    {
     "name": "stderr",
     "output_type": "stream",
     "text": [
      "┌ Info: Epoch 30\n",
      "└ @ ConvGRU /Users/kahingleung/.julia/packages/Flux/sY3yx/src/optimise/train.jl:136\n"
     ]
    },
    {
     "name": "stdout",
     "output_type": "stream",
     "text": [
      "(250,)\n",
      "myObjective(df, seqlen, Nh, lr, sym * \"-\" * string(i)) = 0.4061322f0\n",
      "131080.0046415888336127815\n",
      "mse_loss(xtest, ytest) = 0.5802482f0\n"
     ]
    },
    {
     "name": "stderr",
     "output_type": "stream",
     "text": [
      "┌ Info: Epoch 1\n",
      "└ @ ConvGRU /Users/kahingleung/.julia/packages/Flux/sY3yx/src/optimise/train.jl:136\n"
     ]
    },
    {
     "name": "stdout",
     "output_type": "stream",
     "text": [
      "mse_loss(xtest, ytest) = 0.40623683f0\n",
      "mse_loss(xtest, ytest) = 0.44866145f0\n"
     ]
    },
    {
     "name": "stderr",
     "output_type": "stream",
     "text": [
      "┌ Info: Epoch 2\n",
      "└ @ ConvGRU /Users/kahingleung/.julia/packages/Flux/sY3yx/src/optimise/train.jl:136\n"
     ]
    },
    {
     "name": "stdout",
     "output_type": "stream",
     "text": [
      "mse_loss(xtest, ytest) = 0.44145066f0\n"
     ]
    },
    {
     "name": "stderr",
     "output_type": "stream",
     "text": [
      "┌ Info: Epoch 3\n",
      "└ @ ConvGRU /Users/kahingleung/.julia/packages/Flux/sY3yx/src/optimise/train.jl:136\n"
     ]
    },
    {
     "name": "stdout",
     "output_type": "stream",
     "text": [
      "mse_loss(xtest, ytest) = 0.43283957f0\n"
     ]
    },
    {
     "name": "stderr",
     "output_type": "stream",
     "text": [
      "┌ Info: Epoch 4\n",
      "└ @ ConvGRU /Users/kahingleung/.julia/packages/Flux/sY3yx/src/optimise/train.jl:136\n"
     ]
    },
    {
     "name": "stdout",
     "output_type": "stream",
     "text": [
      "mse_loss(xtest, ytest) = 0.4333993f0\n"
     ]
    },
    {
     "name": "stderr",
     "output_type": "stream",
     "text": [
      "┌ Info: Epoch 5\n",
      "└ @ ConvGRU /Users/kahingleung/.julia/packages/Flux/sY3yx/src/optimise/train.jl:136\n"
     ]
    },
    {
     "name": "stdout",
     "output_type": "stream",
     "text": [
      "mse_loss(xtest, ytest) = 0.42611775f0\n"
     ]
    },
    {
     "name": "stderr",
     "output_type": "stream",
     "text": [
      "┌ Info: Epoch 6\n",
      "└ @ ConvGRU /Users/kahingleung/.julia/packages/Flux/sY3yx/src/optimise/train.jl:136\n"
     ]
    },
    {
     "name": "stdout",
     "output_type": "stream",
     "text": [
      "mse_loss(xtest, ytest) = 0.4126328f0\n"
     ]
    },
    {
     "name": "stderr",
     "output_type": "stream",
     "text": [
      "┌ Info: Epoch 7\n",
      "└ @ ConvGRU /Users/kahingleung/.julia/packages/Flux/sY3yx/src/optimise/train.jl:136\n"
     ]
    },
    {
     "name": "stdout",
     "output_type": "stream",
     "text": [
      "mse_loss(xtest, ytest) = 0.4066259f0\n"
     ]
    },
    {
     "name": "stderr",
     "output_type": "stream",
     "text": [
      "┌ Info: Epoch 8\n",
      "└ @ ConvGRU /Users/kahingleung/.julia/packages/Flux/sY3yx/src/optimise/train.jl:136\n",
      "┌ Info: Epoch 9\n",
      "└ @ ConvGRU /Users/kahingleung/.julia/packages/Flux/sY3yx/src/optimise/train.jl:136\n"
     ]
    },
    {
     "name": "stdout",
     "output_type": "stream",
     "text": [
      "mse_loss(xtest, ytest) = 0.4101127f0\n",
      "mse_loss(xtest, ytest) = 0.4121021f0\n"
     ]
    },
    {
     "name": "stderr",
     "output_type": "stream",
     "text": [
      "┌ Info: Epoch 10\n",
      "└ @ ConvGRU /Users/kahingleung/.julia/packages/Flux/sY3yx/src/optimise/train.jl:136\n"
     ]
    },
    {
     "name": "stdout",
     "output_type": "stream",
     "text": [
      "mse_loss(xtest, ytest) = 0.40395668f0\n"
     ]
    },
    {
     "name": "stderr",
     "output_type": "stream",
     "text": [
      "┌ Info: Epoch 11\n",
      "└ @ ConvGRU /Users/kahingleung/.julia/packages/Flux/sY3yx/src/optimise/train.jl:136\n"
     ]
    },
    {
     "name": "stdout",
     "output_type": "stream",
     "text": [
      "mse_loss(xtest, ytest) = 0.40438202f0\n"
     ]
    },
    {
     "name": "stderr",
     "output_type": "stream",
     "text": [
      "┌ Info: Epoch 12\n",
      "└ @ ConvGRU /Users/kahingleung/.julia/packages/Flux/sY3yx/src/optimise/train.jl:136\n"
     ]
    },
    {
     "name": "stdout",
     "output_type": "stream",
     "text": [
      "mse_loss(xtest, ytest) = 0.41149238f0\n"
     ]
    },
    {
     "name": "stderr",
     "output_type": "stream",
     "text": [
      "┌ Info: Epoch 13\n",
      "└ @ ConvGRU /Users/kahingleung/.julia/packages/Flux/sY3yx/src/optimise/train.jl:136\n"
     ]
    },
    {
     "name": "stdout",
     "output_type": "stream",
     "text": [
      "mse_loss(xtest, ytest) = 0.40424123f0\n"
     ]
    },
    {
     "name": "stderr",
     "output_type": "stream",
     "text": [
      "┌ Info: Epoch 14\n",
      "└ @ ConvGRU /Users/kahingleung/.julia/packages/Flux/sY3yx/src/optimise/train.jl:136\n"
     ]
    },
    {
     "name": "stdout",
     "output_type": "stream",
     "text": [
      "mse_loss(xtest, ytest) = 0.40094206f0\n"
     ]
    },
    {
     "name": "stderr",
     "output_type": "stream",
     "text": [
      "┌ Info: Epoch 15\n",
      "└ @ ConvGRU /Users/kahingleung/.julia/packages/Flux/sY3yx/src/optimise/train.jl:136\n"
     ]
    },
    {
     "name": "stdout",
     "output_type": "stream",
     "text": [
      "mse_loss(xtest, ytest) = 0.40005478f0\n"
     ]
    },
    {
     "name": "stderr",
     "output_type": "stream",
     "text": [
      "┌ Info: Epoch 16\n",
      "└ @ ConvGRU /Users/kahingleung/.julia/packages/Flux/sY3yx/src/optimise/train.jl:136\n"
     ]
    },
    {
     "name": "stdout",
     "output_type": "stream",
     "text": [
      "mse_loss(xtest, ytest) = 0.4046128f0\n"
     ]
    },
    {
     "name": "stderr",
     "output_type": "stream",
     "text": [
      "┌ Info: Epoch 17\n",
      "└ @ ConvGRU /Users/kahingleung/.julia/packages/Flux/sY3yx/src/optimise/train.jl:136\n",
      "┌ Info: Epoch 18\n",
      "└ @ ConvGRU /Users/kahingleung/.julia/packages/Flux/sY3yx/src/optimise/train.jl:136\n"
     ]
    },
    {
     "name": "stdout",
     "output_type": "stream",
     "text": [
      "mse_loss(xtest, ytest) = 0.40297154f0\n",
      "mse_loss(xtest, ytest) = 0.4040884f0\n"
     ]
    },
    {
     "name": "stderr",
     "output_type": "stream",
     "text": [
      "┌ Info: Epoch 19\n",
      "└ @ ConvGRU /Users/kahingleung/.julia/packages/Flux/sY3yx/src/optimise/train.jl:136\n"
     ]
    },
    {
     "name": "stdout",
     "output_type": "stream",
     "text": [
      "mse_loss(xtest, ytest) = 0.4024348f0\n"
     ]
    },
    {
     "name": "stderr",
     "output_type": "stream",
     "text": [
      "┌ Info: Epoch 20\n",
      "└ @ ConvGRU /Users/kahingleung/.julia/packages/Flux/sY3yx/src/optimise/train.jl:136\n"
     ]
    },
    {
     "name": "stdout",
     "output_type": "stream",
     "text": [
      "mse_loss(xtest, ytest) = 0.4112063f0\n"
     ]
    },
    {
     "name": "stderr",
     "output_type": "stream",
     "text": [
      "┌ Info: Epoch 21\n",
      "└ @ ConvGRU /Users/kahingleung/.julia/packages/Flux/sY3yx/src/optimise/train.jl:136\n",
      "┌ Info: Epoch 22\n",
      "└ @ ConvGRU /Users/kahingleung/.julia/packages/Flux/sY3yx/src/optimise/train.jl:136\n"
     ]
    },
    {
     "name": "stdout",
     "output_type": "stream",
     "text": [
      "mse_loss(xtest, ytest) = 0.40321156f0\n",
      "mse_loss(xtest, ytest) = 0.4088256f0\n"
     ]
    },
    {
     "name": "stderr",
     "output_type": "stream",
     "text": [
      "┌ Info: Epoch 23\n",
      "└ @ ConvGRU /Users/kahingleung/.julia/packages/Flux/sY3yx/src/optimise/train.jl:136\n"
     ]
    },
    {
     "name": "stdout",
     "output_type": "stream",
     "text": [
      "mse_loss(xtest, ytest) = 0.40927947f0\n"
     ]
    },
    {
     "name": "stderr",
     "output_type": "stream",
     "text": [
      "┌ Info: Epoch 24\n",
      "└ @ ConvGRU /Users/kahingleung/.julia/packages/Flux/sY3yx/src/optimise/train.jl:136\n"
     ]
    },
    {
     "name": "stdout",
     "output_type": "stream",
     "text": [
      "mse_loss(xtest, ytest) = 0.40657565f0\n"
     ]
    },
    {
     "name": "stderr",
     "output_type": "stream",
     "text": [
      "┌ Info: Epoch 25\n",
      "└ @ ConvGRU /Users/kahingleung/.julia/packages/Flux/sY3yx/src/optimise/train.jl:136\n",
      "┌ Info: Epoch 26\n",
      "└ @ ConvGRU /Users/kahingleung/.julia/packages/Flux/sY3yx/src/optimise/train.jl:136\n"
     ]
    },
    {
     "name": "stdout",
     "output_type": "stream",
     "text": [
      "mse_loss(xtest, ytest) = 0.40509388f0\n",
      "mse_loss(xtest, ytest) = 0.4107473f0\n"
     ]
    },
    {
     "name": "stderr",
     "output_type": "stream",
     "text": [
      "┌ Info: Epoch 27\n",
      "└ @ ConvGRU /Users/kahingleung/.julia/packages/Flux/sY3yx/src/optimise/train.jl:136\n"
     ]
    },
    {
     "name": "stdout",
     "output_type": "stream",
     "text": [
      "mse_loss(xtest, ytest) = 0.40639153f0\n"
     ]
    },
    {
     "name": "stderr",
     "output_type": "stream",
     "text": [
      "┌ Info: Epoch 28\n",
      "└ @ ConvGRU /Users/kahingleung/.julia/packages/Flux/sY3yx/src/optimise/train.jl:136\n"
     ]
    },
    {
     "name": "stdout",
     "output_type": "stream",
     "text": [
      "mse_loss(xtest, ytest) = 0.4059223f0\n"
     ]
    },
    {
     "name": "stderr",
     "output_type": "stream",
     "text": [
      "┌ Info: Epoch 29\n",
      "└ @ ConvGRU /Users/kahingleung/.julia/packages/Flux/sY3yx/src/optimise/train.jl:136\n",
      "┌ Info: Epoch 30\n",
      "└ @ ConvGRU /Users/kahingleung/.julia/packages/Flux/sY3yx/src/optimise/train.jl:136\n"
     ]
    },
    {
     "name": "stdout",
     "output_type": "stream",
     "text": [
      "mse_loss(xtest, ytest) = 0.41175842f0\n",
      "(250,)\n",
      "myObjective(df, seqlen, Nh, lr, sym * \"-\" * string(i)) = 0.41125068f0\n",
      "142560.0016681005372000592\n",
      "mse_loss(xtest, ytest) = 0.4471037f0\n"
     ]
    },
    {
     "name": "stderr",
     "output_type": "stream",
     "text": [
      "┌ Info: Epoch 1\n",
      "└ @ ConvGRU /Users/kahingleung/.julia/packages/Flux/sY3yx/src/optimise/train.jl:136\n"
     ]
    },
    {
     "name": "stdout",
     "output_type": "stream",
     "text": [
      "mse_loss(xtest, ytest) = 0.42375955f0\n",
      "mse_loss(xtest, ytest) = 0.41772196f0\n"
     ]
    },
    {
     "name": "stderr",
     "output_type": "stream",
     "text": [
      "┌ Info: Epoch 2\n",
      "└ @ ConvGRU /Users/kahingleung/.julia/packages/Flux/sY3yx/src/optimise/train.jl:136\n"
     ]
    },
    {
     "name": "stdout",
     "output_type": "stream",
     "text": [
      "mse_loss(xtest, ytest) = 0.41724497f0\n"
     ]
    },
    {
     "name": "stderr",
     "output_type": "stream",
     "text": [
      "┌ Info: Epoch 3\n",
      "└ @ ConvGRU /Users/kahingleung/.julia/packages/Flux/sY3yx/src/optimise/train.jl:136\n"
     ]
    },
    {
     "name": "stdout",
     "output_type": "stream",
     "text": [
      "mse_loss(xtest, ytest) = 0.41133386f0\n"
     ]
    },
    {
     "name": "stderr",
     "output_type": "stream",
     "text": [
      "┌ Info: Epoch 4\n",
      "└ @ ConvGRU /Users/kahingleung/.julia/packages/Flux/sY3yx/src/optimise/train.jl:136\n"
     ]
    },
    {
     "name": "stdout",
     "output_type": "stream",
     "text": [
      "mse_loss(xtest, ytest) = 0.41577995f0\n"
     ]
    },
    {
     "name": "stderr",
     "output_type": "stream",
     "text": [
      "┌ Info: Epoch 5\n",
      "└ @ ConvGRU /Users/kahingleung/.julia/packages/Flux/sY3yx/src/optimise/train.jl:136\n",
      "┌ Info: Epoch 6\n",
      "└ @ ConvGRU /Users/kahingleung/.julia/packages/Flux/sY3yx/src/optimise/train.jl:136\n"
     ]
    },
    {
     "name": "stdout",
     "output_type": "stream",
     "text": [
      "mse_loss(xtest, ytest) = 0.41262037f0\n"
     ]
    },
    {
     "name": "stderr",
     "output_type": "stream",
     "text": [
      "┌ Info: Epoch 7\n",
      "└ @ ConvGRU /Users/kahingleung/.julia/packages/Flux/sY3yx/src/optimise/train.jl:136\n"
     ]
    },
    {
     "name": "stdout",
     "output_type": "stream",
     "text": [
      "mse_loss(xtest, ytest) = 0.4132344f0\n",
      "mse_loss(xtest, ytest) = 0.4123589f0\n"
     ]
    },
    {
     "name": "stderr",
     "output_type": "stream",
     "text": [
      "┌ Info: Epoch 8\n",
      "└ @ ConvGRU /Users/kahingleung/.julia/packages/Flux/sY3yx/src/optimise/train.jl:136\n",
      "┌ Info: Epoch 9\n",
      "└ @ ConvGRU /Users/kahingleung/.julia/packages/Flux/sY3yx/src/optimise/train.jl:136\n"
     ]
    },
    {
     "name": "stdout",
     "output_type": "stream",
     "text": [
      "mse_loss(xtest, ytest) = 0.41189945f0\n",
      "mse_loss(xtest, ytest) = 0.41322005f0\n"
     ]
    },
    {
     "name": "stderr",
     "output_type": "stream",
     "text": [
      "┌ Info: Epoch 10\n",
      "└ @ ConvGRU /Users/kahingleung/.julia/packages/Flux/sY3yx/src/optimise/train.jl:136\n"
     ]
    },
    {
     "name": "stdout",
     "output_type": "stream",
     "text": [
      "mse_loss(xtest, ytest) = 0.4135705f0\n"
     ]
    },
    {
     "name": "stderr",
     "output_type": "stream",
     "text": [
      "┌ Info: Epoch 11\n",
      "└ @ ConvGRU /Users/kahingleung/.julia/packages/Flux/sY3yx/src/optimise/train.jl:136\n"
     ]
    },
    {
     "name": "stdout",
     "output_type": "stream",
     "text": [
      "mse_loss(xtest, ytest) = 0.41258413f0\n"
     ]
    },
    {
     "name": "stderr",
     "output_type": "stream",
     "text": [
      "┌ Info: Epoch 12\n",
      "└ @ ConvGRU /Users/kahingleung/.julia/packages/Flux/sY3yx/src/optimise/train.jl:136\n",
      "┌ Info: Epoch 13\n",
      "└ @ ConvGRU /Users/kahingleung/.julia/packages/Flux/sY3yx/src/optimise/train.jl:136\n"
     ]
    },
    {
     "name": "stdout",
     "output_type": "stream",
     "text": [
      "mse_loss(xtest, ytest) = 0.41062698f0\n",
      "mse_loss(xtest, ytest) = 0.4097628f0\n"
     ]
    },
    {
     "name": "stderr",
     "output_type": "stream",
     "text": [
      "┌ Info: Epoch 14\n",
      "└ @ ConvGRU /Users/kahingleung/.julia/packages/Flux/sY3yx/src/optimise/train.jl:136\n"
     ]
    },
    {
     "name": "stdout",
     "output_type": "stream",
     "text": [
      "mse_loss(xtest, ytest) = 0.40938058f0\n"
     ]
    },
    {
     "name": "stderr",
     "output_type": "stream",
     "text": [
      "┌ Info: Epoch 15\n",
      "└ @ ConvGRU /Users/kahingleung/.julia/packages/Flux/sY3yx/src/optimise/train.jl:136\n",
      "┌ Info: Epoch 16\n",
      "└ @ ConvGRU /Users/kahingleung/.julia/packages/Flux/sY3yx/src/optimise/train.jl:136\n"
     ]
    },
    {
     "name": "stdout",
     "output_type": "stream",
     "text": [
      "mse_loss(xtest, ytest) = 0.4083054f0\n"
     ]
    },
    {
     "name": "stderr",
     "output_type": "stream",
     "text": [
      "┌ Info: Epoch 17\n",
      "└ @ ConvGRU /Users/kahingleung/.julia/packages/Flux/sY3yx/src/optimise/train.jl:136\n"
     ]
    },
    {
     "name": "stdout",
     "output_type": "stream",
     "text": [
      "mse_loss(xtest, ytest) = 0.40955406f0\n",
      "mse_loss(xtest, ytest) = 0.4078684f0\n"
     ]
    },
    {
     "name": "stderr",
     "output_type": "stream",
     "text": [
      "┌ Info: Epoch 18\n",
      "└ @ ConvGRU /Users/kahingleung/.julia/packages/Flux/sY3yx/src/optimise/train.jl:136\n",
      "┌ Info: Epoch 19\n",
      "└ @ ConvGRU /Users/kahingleung/.julia/packages/Flux/sY3yx/src/optimise/train.jl:136\n"
     ]
    },
    {
     "name": "stdout",
     "output_type": "stream",
     "text": [
      "mse_loss(xtest, ytest) = 0.40829256f0\n",
      "mse_loss(xtest, ytest) = 0.40858695f0\n"
     ]
    },
    {
     "name": "stderr",
     "output_type": "stream",
     "text": [
      "┌ Info: Epoch 20\n",
      "└ @ ConvGRU /Users/kahingleung/.julia/packages/Flux/sY3yx/src/optimise/train.jl:136\n"
     ]
    },
    {
     "name": "stdout",
     "output_type": "stream",
     "text": [
      "mse_loss(xtest, ytest) = 0.4077768f0\n"
     ]
    },
    {
     "name": "stderr",
     "output_type": "stream",
     "text": [
      "┌ Info: Epoch 21\n",
      "└ @ ConvGRU /Users/kahingleung/.julia/packages/Flux/sY3yx/src/optimise/train.jl:136\n"
     ]
    },
    {
     "name": "stdout",
     "output_type": "stream",
     "text": [
      "mse_loss(xtest, ytest) = 0.4071053f0\n"
     ]
    },
    {
     "name": "stderr",
     "output_type": "stream",
     "text": [
      "┌ Info: Epoch 22\n",
      "└ @ ConvGRU /Users/kahingleung/.julia/packages/Flux/sY3yx/src/optimise/train.jl:136\n",
      "┌ Info: Epoch 23\n",
      "└ @ ConvGRU /Users/kahingleung/.julia/packages/Flux/sY3yx/src/optimise/train.jl:136\n"
     ]
    },
    {
     "name": "stdout",
     "output_type": "stream",
     "text": [
      "mse_loss(xtest, ytest) = 0.40824676f0\n",
      "mse_loss(xtest, ytest) = 0.4072942f0\n"
     ]
    },
    {
     "name": "stderr",
     "output_type": "stream",
     "text": [
      "┌ Info: Epoch 24\n",
      "└ @ ConvGRU /Users/kahingleung/.julia/packages/Flux/sY3yx/src/optimise/train.jl:136\n"
     ]
    },
    {
     "name": "stdout",
     "output_type": "stream",
     "text": [
      "mse_loss(xtest, ytest) = 0.40670738f0\n"
     ]
    },
    {
     "name": "stderr",
     "output_type": "stream",
     "text": [
      "┌ Info: Epoch 25\n",
      "└ @ ConvGRU /Users/kahingleung/.julia/packages/Flux/sY3yx/src/optimise/train.jl:136\n",
      "┌ Info: Epoch 26\n",
      "└ @ ConvGRU /Users/kahingleung/.julia/packages/Flux/sY3yx/src/optimise/train.jl:136\n"
     ]
    },
    {
     "name": "stdout",
     "output_type": "stream",
     "text": [
      "mse_loss(xtest, ytest) = 0.407796f0\n"
     ]
    },
    {
     "name": "stderr",
     "output_type": "stream",
     "text": [
      "┌ Info: Epoch 27\n",
      "└ @ ConvGRU /Users/kahingleung/.julia/packages/Flux/sY3yx/src/optimise/train.jl:136\n"
     ]
    },
    {
     "name": "stdout",
     "output_type": "stream",
     "text": [
      "mse_loss(xtest, ytest) = 0.40681607f0\n",
      "mse_loss(xtest, ytest) = 0.40571898f0\n"
     ]
    },
    {
     "name": "stderr",
     "output_type": "stream",
     "text": [
      "┌ Info: Epoch 28\n",
      "└ @ ConvGRU /Users/kahingleung/.julia/packages/Flux/sY3yx/src/optimise/train.jl:136\n",
      "┌ Info: Epoch 29\n",
      "└ @ ConvGRU /Users/kahingleung/.julia/packages/Flux/sY3yx/src/optimise/train.jl:136\n"
     ]
    },
    {
     "name": "stdout",
     "output_type": "stream",
     "text": [
      "mse_loss(xtest, ytest) = 0.4089657f0\n",
      "mse_loss(xtest, ytest) = 0.40747303f0\n"
     ]
    },
    {
     "name": "stderr",
     "output_type": "stream",
     "text": [
      "┌ Info: Epoch 30\n",
      "└ @ ConvGRU /Users/kahingleung/.julia/packages/Flux/sY3yx/src/optimise/train.jl:136\n"
     ]
    }
   ],
   "source": [
    "list=[\"gbtc\",\"2840.HK\",\"GLD\",\"SQ\"]\n",
    "using DataFrames\n",
    "result = DataFrame(symbol=String[],loss=Float32[],time=Float64[])\n",
    "\n",
    "for sym in list\n",
    "    tstart = time()\n",
    "    loss = ConvGRU.mainTest(sym)\n",
    "    tend=time()\n",
    "    et=tend-tstart\n",
    "    push!(result,(sym,loss,et))\n",
    "end"
   ]
  },
  {
   "cell_type": "code",
   "execution_count": null,
   "metadata": {},
   "outputs": [],
   "source": [
    "result"
   ]
  }
 ],
 "metadata": {
  "kernelspec": {
   "display_name": "Julia 1.5.3",
   "language": "julia",
   "name": "julia-1.5"
  },
  "language_info": {
   "file_extension": ".jl",
   "mimetype": "application/julia",
   "name": "julia",
   "version": "1.5.3"
  }
 },
 "nbformat": 4,
 "nbformat_minor": 4
}

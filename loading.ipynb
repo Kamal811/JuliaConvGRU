{
 "cells": [
  {
   "cell_type": "code",
   "execution_count": 1,
   "metadata": {},
   "outputs": [],
   "source": [
    "using Pkg\n",
    "Pkg.update()"
   ]
  },
  {
   "cell_type": "code",
   "execution_count": null,
   "metadata": {},
   "outputs": [],
   "source": [
    "pkgList = [\"DataFramesMeta\",\"PackageCompiler\",\"CSV\",\"Flux\",\"HTTP\",\"JSON\",\"DataFrames\",\"Plots\",\"TimeSeries\",\"MultivariateStats\"]\n",
    "for pkg in pkgList\n",
    "    Pkg.add(pkg)\n",
    "    \n",
    "end"
   ]
  },
  {
   "cell_type": "code",
   "execution_count": null,
   "metadata": {},
   "outputs": [],
   "source": [
    "push!(LOAD_PATH, \"ConvGRU/\");"
   ]
  },
  {
   "cell_type": "code",
   "execution_count": null,
   "metadata": {},
   "outputs": [],
   "source": [
    "using ConvGRU"
   ]
  },
  {
   "cell_type": "code",
   "execution_count": 2,
   "metadata": {},
   "outputs": [
    {
     "ename": "LoadError",
     "evalue": "UndefVarError: ConvGRU not defined",
     "output_type": "error",
     "traceback": [
      "UndefVarError: ConvGRU not defined",
      "",
      "Stacktrace:",
      " [1] top-level scope at In[2]:2",
      " [2] include_string(::Function, ::Module, ::String, ::String) at ./loading.jl:1091"
     ]
    }
   ],
   "source": [
    "Base.compilecache(Base.PkgId(ConvGRU))"
   ]
  },
  {
   "cell_type": "code",
   "execution_count": null,
   "metadata": {},
   "outputs": [],
   "source": [
    "list=[\"gbtc\",\"2840.HK\",\"GLD\",\"SQ\"]\n",
    "using DataFrames\n",
    "result = DataFrame(symbol=String[],loss=Float32[],time=Float64[])\n",
    "\n",
    "for sym in list\n",
    "    tstart = time()\n",
    "    loss = ConvGRU.mainTest(sym)\n",
    "    tend=time()\n",
    "    et=tend-tstart\n",
    "    push!(result,(sym,loss,et))\n",
    "end"
   ]
  },
  {
   "cell_type": "code",
   "execution_count": null,
   "metadata": {},
   "outputs": [],
   "source": [
    "result"
   ]
  }
 ],
 "metadata": {
  "kernelspec": {
   "display_name": "Julia 1.5.3",
   "language": "julia",
   "name": "julia-1.5"
  },
  "language_info": {
   "file_extension": ".jl",
   "mimetype": "application/julia",
   "name": "julia",
   "version": "1.5.3"
  }
 },
 "nbformat": 4,
 "nbformat_minor": 4
}

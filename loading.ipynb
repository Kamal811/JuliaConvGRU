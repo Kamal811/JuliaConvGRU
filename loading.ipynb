{
 "cells": [
  {
   "cell_type": "code",
   "execution_count": 1,
   "metadata": {},
   "outputs": [
    {
     "name": "stderr",
     "output_type": "stream",
     "text": [
      "\u001b[32m\u001b[1m   Updating\u001b[22m\u001b[39m registry at `~/.julia/registries/General`\n",
      "######################################################################### 100.0%\n",
      "\u001b[32m\u001b[1m  Installed\u001b[22m\u001b[39m FastGaussQuadrature ─ v0.4.6\n",
      "\u001b[32m\u001b[1mNo Changes\u001b[22m\u001b[39m to `~/.julia/environments/v1.5/Project.toml`\n",
      "\u001b[32m\u001b[1mUpdating\u001b[22m\u001b[39m `~/.julia/environments/v1.5/Manifest.toml`\n",
      " \u001b[90m [442a2c76] \u001b[39m\u001b[93m↑ FastGaussQuadrature v0.4.5 ⇒ v0.4.6\u001b[39m\n"
     ]
    }
   ],
   "source": [
    "using Pkg\n",
    "Pkg.update()"
   ]
  },
  {
   "cell_type": "code",
   "execution_count": 2,
   "metadata": {},
   "outputs": [
    {
     "name": "stderr",
     "output_type": "stream",
     "text": [
      "\u001b[32m\u001b[1m  Resolving\u001b[22m\u001b[39m package versions...\n",
      "\u001b[32m\u001b[1mNo Changes\u001b[22m\u001b[39m to `~/.julia/environments/v1.5/Project.toml`\n",
      "\u001b[32m\u001b[1mNo Changes\u001b[22m\u001b[39m to `~/.julia/environments/v1.5/Manifest.toml`\n",
      "\u001b[32m\u001b[1m  Resolving\u001b[22m\u001b[39m package versions...\n",
      "\u001b[32m\u001b[1mNo Changes\u001b[22m\u001b[39m to `~/.julia/environments/v1.5/Project.toml`\n",
      "\u001b[32m\u001b[1mNo Changes\u001b[22m\u001b[39m to `~/.julia/environments/v1.5/Manifest.toml`\n",
      "\u001b[32m\u001b[1m  Resolving\u001b[22m\u001b[39m package versions...\n",
      "\u001b[32m\u001b[1mNo Changes\u001b[22m\u001b[39m to `~/.julia/environments/v1.5/Project.toml`\n",
      "\u001b[32m\u001b[1mNo Changes\u001b[22m\u001b[39m to `~/.julia/environments/v1.5/Manifest.toml`\n",
      "\u001b[32m\u001b[1m  Resolving\u001b[22m\u001b[39m package versions...\n",
      "\u001b[32m\u001b[1mNo Changes\u001b[22m\u001b[39m to `~/.julia/environments/v1.5/Project.toml`\n",
      "\u001b[32m\u001b[1mNo Changes\u001b[22m\u001b[39m to `~/.julia/environments/v1.5/Manifest.toml`\n",
      "\u001b[32m\u001b[1m  Resolving\u001b[22m\u001b[39m package versions...\n",
      "\u001b[32m\u001b[1mNo Changes\u001b[22m\u001b[39m to `~/.julia/environments/v1.5/Project.toml`\n",
      "\u001b[32m\u001b[1mNo Changes\u001b[22m\u001b[39m to `~/.julia/environments/v1.5/Manifest.toml`\n",
      "\u001b[32m\u001b[1m  Resolving\u001b[22m\u001b[39m package versions...\n",
      "\u001b[32m\u001b[1mNo Changes\u001b[22m\u001b[39m to `~/.julia/environments/v1.5/Project.toml`\n",
      "\u001b[32m\u001b[1mNo Changes\u001b[22m\u001b[39m to `~/.julia/environments/v1.5/Manifest.toml`\n",
      "\u001b[32m\u001b[1m  Resolving\u001b[22m\u001b[39m package versions...\n",
      "\u001b[32m\u001b[1mNo Changes\u001b[22m\u001b[39m to `~/.julia/environments/v1.5/Project.toml`\n",
      "\u001b[32m\u001b[1mNo Changes\u001b[22m\u001b[39m to `~/.julia/environments/v1.5/Manifest.toml`\n",
      "\u001b[32m\u001b[1m  Resolving\u001b[22m\u001b[39m package versions...\n",
      "\u001b[32m\u001b[1mNo Changes\u001b[22m\u001b[39m to `~/.julia/environments/v1.5/Project.toml`\n",
      "\u001b[32m\u001b[1mNo Changes\u001b[22m\u001b[39m to `~/.julia/environments/v1.5/Manifest.toml`\n",
      "\u001b[32m\u001b[1m  Resolving\u001b[22m\u001b[39m package versions...\n",
      "\u001b[32m\u001b[1mNo Changes\u001b[22m\u001b[39m to `~/.julia/environments/v1.5/Project.toml`\n",
      "\u001b[32m\u001b[1mNo Changes\u001b[22m\u001b[39m to `~/.julia/environments/v1.5/Manifest.toml`\n",
      "\u001b[32m\u001b[1m  Resolving\u001b[22m\u001b[39m package versions...\n",
      "\u001b[32m\u001b[1mNo Changes\u001b[22m\u001b[39m to `~/.julia/environments/v1.5/Project.toml`\n",
      "\u001b[32m\u001b[1mNo Changes\u001b[22m\u001b[39m to `~/.julia/environments/v1.5/Manifest.toml`\n"
     ]
    }
   ],
   "source": [
    "pkgList = [\"DataFramesMeta\",\"PackageCompiler\",\"CSV\",\"Flux\",\"HTTP\",\"JSON\",\"DataFrames\",\"Plots\",\"TimeSeries\",\"MultivariateStats\"]\n",
    "for pkg in pkgList\n",
    "    Pkg.add(pkg)\n",
    "    \n",
    "end"
   ]
  },
  {
   "cell_type": "code",
   "execution_count": 3,
   "metadata": {},
   "outputs": [],
   "source": [
    "push!(LOAD_PATH, \"ConvGRU/\");"
   ]
  },
  {
   "cell_type": "code",
   "execution_count": 4,
   "metadata": {},
   "outputs": [
    {
     "name": "stderr",
     "output_type": "stream",
     "text": [
      "┌ Info: Precompiling ConvGRU [3e016418-90e7-4549-84f8-38c1e42f2207]\n",
      "└ @ Base loading.jl:1278\n",
      "┌ Warning: Package ConvGRU does not have Pkg in its dependencies:\n",
      "│ - If you have ConvGRU checked out for development and have\n",
      "│   added Pkg as a dependency but haven't updated your primary\n",
      "│   environment's manifest file, try `Pkg.resolve()`.\n",
      "│ - Otherwise you may need to report an issue with ConvGRU\n",
      "└ Loading Pkg into ConvGRU from project dependency, future warnings for ConvGRU are suppressed.\n",
      "   Building Conda ─→ `~/.julia/packages/Conda/x5ml4/deps/build.log`\n",
      "   Building PyCall → `~/.julia/packages/PyCall/tqyST/deps/build.log`\n"
     ]
    }
   ],
   "source": [
    "using ConvGRU"
   ]
  },
  {
   "cell_type": "code",
   "execution_count": 5,
   "metadata": {},
   "outputs": [
    {
     "name": "stderr",
     "output_type": "stream",
     "text": [
      "┌ Info: Precompiling ConvGRU [3e016418-90e7-4549-84f8-38c1e42f2207]\n",
      "└ @ Base loading.jl:1278\n",
      "┌ Warning: Package ConvGRU does not have Pkg in its dependencies:\n",
      "│ - If you have ConvGRU checked out for development and have\n",
      "│   added Pkg as a dependency but haven't updated your primary\n",
      "│   environment's manifest file, try `Pkg.resolve()`.\n",
      "│ - Otherwise you may need to report an issue with ConvGRU\n",
      "└ Loading Pkg into ConvGRU from project dependency, future warnings for ConvGRU are suppressed.\n",
      "   Building Conda ─→ `~/.julia/packages/Conda/x5ml4/deps/build.log`\n",
      "   Building PyCall → `~/.julia/packages/PyCall/tqyST/deps/build.log`\n"
     ]
    },
    {
     "data": {
      "text/plain": [
       "\"/Users/kahingleung/.julia/compiled/v1.5/ConvGRU/CRL3A_uQl1p.ji\""
      ]
     },
     "execution_count": 5,
     "metadata": {},
     "output_type": "execute_result"
    }
   ],
   "source": [
    "Base.compilecache(Base.PkgId(ConvGRU))"
   ]
  },
  {
   "cell_type": "code",
   "execution_count": 6,
   "metadata": {},
   "outputs": [
    {
     "name": "stdout",
     "output_type": "stream",
     "text": [
      "[\"open\", \"close\", \"high\", \"low\", \"volume\", \"ondate\", \"CZK\", \"PLN\", \"MXN\", \"TRY\", \"ISK\", \"USD\", \"RUB\", \"EUR\", \"GBP\", \"JPY\", \"THB\", \"CNY\", \"KRW\", \"SEK\", \"BRL\", \"BGN\", \"HUF\", \"NZD\", \"CHF\", \"IDR\", \"SGD\", \"MYR\", \"ZAR\", \"CAD\", \"PHP\", \"HKD\", \"HRK\", \"INR\", \"AUD\", \"NOK\", \"DKK\", \"RON\", \"ILS\", \"Close\"]\n",
      "11020.01\n",
      "mse_loss(xtest, ytest) = 1.9730529f0\n"
     ]
    },
    {
     "name": "stderr",
     "output_type": "stream",
     "text": [
      "┌ Info: Epoch 1\n",
      "└ @ ConvGRU /Users/kahingleung/.julia/packages/Flux/sY3yx/src/optimise/train.jl:136\n"
     ]
    },
    {
     "name": "stdout",
     "output_type": "stream",
     "text": [
      "mse_loss(xtest, ytest) = 1.9483083f0\n"
     ]
    },
    {
     "name": "stderr",
     "output_type": "stream",
     "text": [
      "┌ Info: Epoch 2\n",
      "└ @ ConvGRU /Users/kahingleung/.julia/packages/Flux/sY3yx/src/optimise/train.jl:136\n"
     ]
    },
    {
     "name": "stdout",
     "output_type": "stream",
     "text": [
      "mse_loss(xtest, ytest) = 1.984434f0\n"
     ]
    },
    {
     "name": "stderr",
     "output_type": "stream",
     "text": [
      "┌ Info: Epoch 3\n",
      "└ @ ConvGRU /Users/kahingleung/.julia/packages/Flux/sY3yx/src/optimise/train.jl:136\n"
     ]
    },
    {
     "name": "stdout",
     "output_type": "stream",
     "text": [
      "mse_loss(xtest, ytest) = 1.9539497f0\n"
     ]
    },
    {
     "name": "stderr",
     "output_type": "stream",
     "text": [
      "┌ Info: Epoch 4\n",
      "└ @ ConvGRU /Users/kahingleung/.julia/packages/Flux/sY3yx/src/optimise/train.jl:136\n"
     ]
    },
    {
     "name": "stdout",
     "output_type": "stream",
     "text": [
      "mse_loss(xtest, ytest) = 1.8735353f0\n",
      "mse_loss(xtest, ytest) = 1.840264f0\n"
     ]
    },
    {
     "name": "stderr",
     "output_type": "stream",
     "text": [
      "┌ Info: Epoch 5\n",
      "└ @ ConvGRU /Users/kahingleung/.julia/packages/Flux/sY3yx/src/optimise/train.jl:136\n"
     ]
    },
    {
     "name": "stdout",
     "output_type": "stream",
     "text": [
      "mse_loss(xtest, ytest) = 1.7522235f0\n"
     ]
    },
    {
     "name": "stderr",
     "output_type": "stream",
     "text": [
      "┌ Info: Epoch 6\n",
      "└ @ ConvGRU /Users/kahingleung/.julia/packages/Flux/sY3yx/src/optimise/train.jl:136\n"
     ]
    },
    {
     "name": "stdout",
     "output_type": "stream",
     "text": [
      "mse_loss(xtest, ytest) = 1.7398254f0\n"
     ]
    },
    {
     "name": "stderr",
     "output_type": "stream",
     "text": [
      "┌ Info: Epoch 7\n",
      "└ @ ConvGRU /Users/kahingleung/.julia/packages/Flux/sY3yx/src/optimise/train.jl:136\n"
     ]
    },
    {
     "name": "stdout",
     "output_type": "stream",
     "text": [
      "mse_loss(xtest, ytest) = 1.7003846f0\n"
     ]
    },
    {
     "name": "stderr",
     "output_type": "stream",
     "text": [
      "┌ Info: Epoch 8\n",
      "└ @ ConvGRU /Users/kahingleung/.julia/packages/Flux/sY3yx/src/optimise/train.jl:136\n"
     ]
    },
    {
     "name": "stdout",
     "output_type": "stream",
     "text": [
      "mse_loss(xtest, ytest) = 1.6864115f0\n"
     ]
    },
    {
     "name": "stderr",
     "output_type": "stream",
     "text": [
      "┌ Info: Epoch 9\n",
      "└ @ ConvGRU /Users/kahingleung/.julia/packages/Flux/sY3yx/src/optimise/train.jl:136\n"
     ]
    },
    {
     "name": "stdout",
     "output_type": "stream",
     "text": [
      "mse_loss(xtest, ytest) = 1.701207f0\n"
     ]
    },
    {
     "name": "stderr",
     "output_type": "stream",
     "text": [
      "┌ Info: Epoch 10\n",
      "└ @ ConvGRU /Users/kahingleung/.julia/packages/Flux/sY3yx/src/optimise/train.jl:136\n"
     ]
    },
    {
     "name": "stdout",
     "output_type": "stream",
     "text": [
      "mse_loss(xtest, ytest) = 1.6773206f0\n"
     ]
    },
    {
     "name": "stderr",
     "output_type": "stream",
     "text": [
      "┌ Info: Epoch 11\n",
      "└ @ ConvGRU /Users/kahingleung/.julia/packages/Flux/sY3yx/src/optimise/train.jl:136\n",
      "┌ Info: Epoch 12\n",
      "└ @ ConvGRU /Users/kahingleung/.julia/packages/Flux/sY3yx/src/optimise/train.jl:136\n"
     ]
    },
    {
     "name": "stdout",
     "output_type": "stream",
     "text": [
      "mse_loss(xtest, ytest) = 1.6700987f0\n",
      "mse_loss(xtest, ytest) = 1.6820883f0\n"
     ]
    },
    {
     "name": "stderr",
     "output_type": "stream",
     "text": [
      "┌ Info: Epoch 13\n",
      "└ @ ConvGRU /Users/kahingleung/.julia/packages/Flux/sY3yx/src/optimise/train.jl:136\n"
     ]
    },
    {
     "name": "stdout",
     "output_type": "stream",
     "text": [
      "mse_loss(xtest, ytest) = 1.7162204f0\n"
     ]
    },
    {
     "name": "stderr",
     "output_type": "stream",
     "text": [
      "┌ Info: Epoch 14\n",
      "└ @ ConvGRU /Users/kahingleung/.julia/packages/Flux/sY3yx/src/optimise/train.jl:136\n"
     ]
    },
    {
     "name": "stdout",
     "output_type": "stream",
     "text": [
      "mse_loss(xtest, ytest) = 1.6514292f0\n"
     ]
    },
    {
     "name": "stderr",
     "output_type": "stream",
     "text": [
      "┌ Info: Epoch 15\n",
      "└ @ ConvGRU /Users/kahingleung/.julia/packages/Flux/sY3yx/src/optimise/train.jl:136\n"
     ]
    },
    {
     "name": "stdout",
     "output_type": "stream",
     "text": [
      "mse_loss(xtest, ytest) = 1.6464424f0\n"
     ]
    },
    {
     "name": "stderr",
     "output_type": "stream",
     "text": [
      "┌ Info: Epoch 16\n",
      "└ @ ConvGRU /Users/kahingleung/.julia/packages/Flux/sY3yx/src/optimise/train.jl:136\n"
     ]
    },
    {
     "name": "stdout",
     "output_type": "stream",
     "text": [
      "mse_loss(xtest, ytest) = 1.6443537f0\n"
     ]
    },
    {
     "name": "stderr",
     "output_type": "stream",
     "text": [
      "┌ Info: Epoch 17\n",
      "└ @ ConvGRU /Users/kahingleung/.julia/packages/Flux/sY3yx/src/optimise/train.jl:136\n"
     ]
    },
    {
     "name": "stdout",
     "output_type": "stream",
     "text": [
      "mse_loss(xtest, ytest) = 1.6439326f0\n"
     ]
    },
    {
     "name": "stderr",
     "output_type": "stream",
     "text": [
      "┌ Info: Epoch 18\n",
      "└ @ ConvGRU /Users/kahingleung/.julia/packages/Flux/sY3yx/src/optimise/train.jl:136\n"
     ]
    },
    {
     "name": "stdout",
     "output_type": "stream",
     "text": [
      "mse_loss(xtest, ytest) = 1.63868f0\n"
     ]
    },
    {
     "name": "stderr",
     "output_type": "stream",
     "text": [
      "┌ Info: Epoch 19\n",
      "└ @ ConvGRU /Users/kahingleung/.julia/packages/Flux/sY3yx/src/optimise/train.jl:136\n"
     ]
    },
    {
     "name": "stdout",
     "output_type": "stream",
     "text": [
      "mse_loss(xtest, ytest) = 1.6431377f0\n"
     ]
    },
    {
     "name": "stderr",
     "output_type": "stream",
     "text": [
      "┌ Info: Epoch 20\n",
      "└ @ ConvGRU /Users/kahingleung/.julia/packages/Flux/sY3yx/src/optimise/train.jl:136\n"
     ]
    },
    {
     "name": "stdout",
     "output_type": "stream",
     "text": [
      "mse_loss(xtest, ytest) = 1.6251451f0\n"
     ]
    },
    {
     "name": "stderr",
     "output_type": "stream",
     "text": [
      "┌ Info: Epoch 21\n",
      "└ @ ConvGRU /Users/kahingleung/.julia/packages/Flux/sY3yx/src/optimise/train.jl:136\n"
     ]
    },
    {
     "name": "stdout",
     "output_type": "stream",
     "text": [
      "mse_loss(xtest, ytest) = 1.6381632f0\n"
     ]
    },
    {
     "name": "stderr",
     "output_type": "stream",
     "text": [
      "┌ Info: Epoch 22\n",
      "└ @ ConvGRU /Users/kahingleung/.julia/packages/Flux/sY3yx/src/optimise/train.jl:136\n"
     ]
    },
    {
     "name": "stdout",
     "output_type": "stream",
     "text": [
      "mse_loss(xtest, ytest) = 1.6585971f0\n"
     ]
    },
    {
     "name": "stderr",
     "output_type": "stream",
     "text": [
      "┌ Info: Epoch 23\n",
      "└ @ ConvGRU /Users/kahingleung/.julia/packages/Flux/sY3yx/src/optimise/train.jl:136\n",
      "┌ Info: Epoch 24\n",
      "└ @ ConvGRU /Users/kahingleung/.julia/packages/Flux/sY3yx/src/optimise/train.jl:136\n"
     ]
    },
    {
     "name": "stdout",
     "output_type": "stream",
     "text": [
      "mse_loss(xtest, ytest) = 1.640374f0\n",
      "mse_loss(xtest, ytest) = 1.6569752f0\n"
     ]
    },
    {
     "name": "stderr",
     "output_type": "stream",
     "text": [
      "┌ Info: Epoch 25\n",
      "└ @ ConvGRU /Users/kahingleung/.julia/packages/Flux/sY3yx/src/optimise/train.jl:136\n"
     ]
    },
    {
     "name": "stdout",
     "output_type": "stream",
     "text": [
      "mse_loss(xtest, ytest) = 1.7579304f0\n"
     ]
    },
    {
     "name": "stderr",
     "output_type": "stream",
     "text": [
      "┌ Info: Epoch 26\n",
      "└ @ ConvGRU /Users/kahingleung/.julia/packages/Flux/sY3yx/src/optimise/train.jl:136\n"
     ]
    },
    {
     "name": "stdout",
     "output_type": "stream",
     "text": [
      "mse_loss(xtest, ytest) = 1.6711802f0\n"
     ]
    },
    {
     "name": "stderr",
     "output_type": "stream",
     "text": [
      "┌ Info: Epoch 27\n",
      "└ @ ConvGRU /Users/kahingleung/.julia/packages/Flux/sY3yx/src/optimise/train.jl:136\n"
     ]
    },
    {
     "name": "stdout",
     "output_type": "stream",
     "text": [
      "mse_loss(xtest, ytest) = 1.6681845f0\n"
     ]
    },
    {
     "name": "stderr",
     "output_type": "stream",
     "text": [
      "┌ Info: Epoch 28\n",
      "└ @ ConvGRU /Users/kahingleung/.julia/packages/Flux/sY3yx/src/optimise/train.jl:136\n",
      "┌ Info: Epoch 29\n",
      "└ @ ConvGRU /Users/kahingleung/.julia/packages/Flux/sY3yx/src/optimise/train.jl:136\n"
     ]
    },
    {
     "name": "stdout",
     "output_type": "stream",
     "text": [
      "mse_loss(xtest, ytest) = 1.633162f0\n",
      "mse_loss(xtest, ytest) = 1.6102331f0\n"
     ]
    },
    {
     "name": "stderr",
     "output_type": "stream",
     "text": [
      "┌ Info: Epoch 30\n",
      "└ @ ConvGRU /Users/kahingleung/.julia/packages/Flux/sY3yx/src/optimise/train.jl:136\n"
     ]
    },
    {
     "name": "stdout",
     "output_type": "stream",
     "text": [
      "(250,)\n",
      "myObjective(df, seqlen, Nh, lr, sym * \"-\" * string(i)) = 1.6595222f0\n",
      "21560.01\n",
      "mse_loss(xtest, ytest) = 2.457159f0\n"
     ]
    },
    {
     "name": "stderr",
     "output_type": "stream",
     "text": [
      "┌ Info: Epoch 1\n",
      "└ @ ConvGRU /Users/kahingleung/.julia/packages/Flux/sY3yx/src/optimise/train.jl:136\n"
     ]
    },
    {
     "name": "stdout",
     "output_type": "stream",
     "text": [
      "mse_loss(xtest, ytest) = 2.2022822f0\n",
      "mse_loss(xtest, ytest) = 1.8393904f0\n"
     ]
    },
    {
     "name": "stderr",
     "output_type": "stream",
     "text": [
      "┌ Info: Epoch 2\n",
      "└ @ ConvGRU /Users/kahingleung/.julia/packages/Flux/sY3yx/src/optimise/train.jl:136\n"
     ]
    },
    {
     "name": "stdout",
     "output_type": "stream",
     "text": [
      "mse_loss(xtest, ytest) = 1.7725431f0\n"
     ]
    },
    {
     "name": "stderr",
     "output_type": "stream",
     "text": [
      "┌ Info: Epoch 3\n",
      "└ @ ConvGRU /Users/kahingleung/.julia/packages/Flux/sY3yx/src/optimise/train.jl:136\n"
     ]
    },
    {
     "name": "stdout",
     "output_type": "stream",
     "text": [
      "mse_loss(xtest, ytest) = 1.9475054f0\n"
     ]
    },
    {
     "name": "stderr",
     "output_type": "stream",
     "text": [
      "┌ Info: Epoch 4\n",
      "└ @ ConvGRU /Users/kahingleung/.julia/packages/Flux/sY3yx/src/optimise/train.jl:136\n",
      "┌ Info: Epoch 5\n",
      "└ @ ConvGRU /Users/kahingleung/.julia/packages/Flux/sY3yx/src/optimise/train.jl:136\n"
     ]
    },
    {
     "name": "stdout",
     "output_type": "stream",
     "text": [
      "mse_loss(xtest, ytest) = 1.8448076f0\n"
     ]
    },
    {
     "name": "stderr",
     "output_type": "stream",
     "text": [
      "┌ Info: Epoch 6\n",
      "└ @ ConvGRU /Users/kahingleung/.julia/packages/Flux/sY3yx/src/optimise/train.jl:136\n"
     ]
    },
    {
     "name": "stdout",
     "output_type": "stream",
     "text": [
      "mse_loss(xtest, ytest) = 1.7471334f0\n",
      "mse_loss(xtest, ytest) = 1.6757295f0\n"
     ]
    },
    {
     "name": "stderr",
     "output_type": "stream",
     "text": [
      "┌ Info: Epoch 7\n",
      "└ @ ConvGRU /Users/kahingleung/.julia/packages/Flux/sY3yx/src/optimise/train.jl:136\n"
     ]
    },
    {
     "name": "stdout",
     "output_type": "stream",
     "text": [
      "mse_loss(xtest, ytest) = 1.8256083f0\n"
     ]
    },
    {
     "name": "stderr",
     "output_type": "stream",
     "text": [
      "┌ Info: Epoch 8\n",
      "└ @ ConvGRU /Users/kahingleung/.julia/packages/Flux/sY3yx/src/optimise/train.jl:136\n"
     ]
    },
    {
     "name": "stdout",
     "output_type": "stream",
     "text": [
      "mse_loss(xtest, ytest) = 1.7175173f0\n"
     ]
    },
    {
     "name": "stderr",
     "output_type": "stream",
     "text": [
      "┌ Info: Epoch 9\n",
      "└ @ ConvGRU /Users/kahingleung/.julia/packages/Flux/sY3yx/src/optimise/train.jl:136\n"
     ]
    },
    {
     "name": "stdout",
     "output_type": "stream",
     "text": [
      "mse_loss(xtest, ytest) = 1.7516112f0\n"
     ]
    },
    {
     "name": "stderr",
     "output_type": "stream",
     "text": [
      "┌ Info: Epoch 10\n",
      "└ @ ConvGRU /Users/kahingleung/.julia/packages/Flux/sY3yx/src/optimise/train.jl:136\n"
     ]
    },
    {
     "name": "stdout",
     "output_type": "stream",
     "text": [
      "mse_loss(xtest, ytest) = 1.6475158f0\n"
     ]
    },
    {
     "name": "stderr",
     "output_type": "stream",
     "text": [
      "┌ Info: Epoch 11\n",
      "└ @ ConvGRU /Users/kahingleung/.julia/packages/Flux/sY3yx/src/optimise/train.jl:136\n"
     ]
    },
    {
     "name": "stdout",
     "output_type": "stream",
     "text": [
      "mse_loss(xtest, ytest) = 1.6636292f0\n"
     ]
    },
    {
     "name": "stderr",
     "output_type": "stream",
     "text": [
      "┌ Info: Epoch 12\n",
      "└ @ ConvGRU /Users/kahingleung/.julia/packages/Flux/sY3yx/src/optimise/train.jl:136\n"
     ]
    },
    {
     "name": "stdout",
     "output_type": "stream",
     "text": [
      "mse_loss(xtest, ytest) = 1.7429868f0\n"
     ]
    },
    {
     "name": "stderr",
     "output_type": "stream",
     "text": [
      "┌ Info: Epoch 13\n",
      "└ @ ConvGRU /Users/kahingleung/.julia/packages/Flux/sY3yx/src/optimise/train.jl:136\n"
     ]
    },
    {
     "name": "stdout",
     "output_type": "stream",
     "text": [
      "mse_loss(xtest, ytest) = 1.6547514f0\n"
     ]
    },
    {
     "name": "stderr",
     "output_type": "stream",
     "text": [
      "┌ Info: Epoch 14\n",
      "└ @ ConvGRU /Users/kahingleung/.julia/packages/Flux/sY3yx/src/optimise/train.jl:136\n"
     ]
    },
    {
     "name": "stdout",
     "output_type": "stream",
     "text": [
      "mse_loss(xtest, ytest) = 1.6817503f0\n"
     ]
    },
    {
     "name": "stderr",
     "output_type": "stream",
     "text": [
      "┌ Info: Epoch 15\n",
      "└ @ ConvGRU /Users/kahingleung/.julia/packages/Flux/sY3yx/src/optimise/train.jl:136\n",
      "┌ Info: Epoch 16\n",
      "└ @ ConvGRU /Users/kahingleung/.julia/packages/Flux/sY3yx/src/optimise/train.jl:136\n"
     ]
    },
    {
     "name": "stdout",
     "output_type": "stream",
     "text": [
      "mse_loss(xtest, ytest) = 1.7292328f0\n"
     ]
    },
    {
     "name": "stderr",
     "output_type": "stream",
     "text": [
      "┌ Info: Epoch 17\n",
      "└ @ ConvGRU /Users/kahingleung/.julia/packages/Flux/sY3yx/src/optimise/train.jl:136\n"
     ]
    },
    {
     "name": "stdout",
     "output_type": "stream",
     "text": [
      "mse_loss(xtest, ytest) = 1.6512464f0\n",
      "mse_loss(xtest, ytest) = 1.7460258f0\n"
     ]
    },
    {
     "name": "stderr",
     "output_type": "stream",
     "text": [
      "┌ Info: Epoch 18\n",
      "└ @ ConvGRU /Users/kahingleung/.julia/packages/Flux/sY3yx/src/optimise/train.jl:136\n"
     ]
    },
    {
     "name": "stdout",
     "output_type": "stream",
     "text": [
      "mse_loss(xtest, ytest) = 1.887688f0\n"
     ]
    },
    {
     "name": "stderr",
     "output_type": "stream",
     "text": [
      "┌ Info: Epoch 19\n",
      "└ @ ConvGRU /Users/kahingleung/.julia/packages/Flux/sY3yx/src/optimise/train.jl:136\n"
     ]
    },
    {
     "name": "stdout",
     "output_type": "stream",
     "text": [
      "mse_loss(xtest, ytest) = 1.7158439f0\n"
     ]
    },
    {
     "name": "stderr",
     "output_type": "stream",
     "text": [
      "┌ Info: Epoch 20\n",
      "└ @ ConvGRU /Users/kahingleung/.julia/packages/Flux/sY3yx/src/optimise/train.jl:136\n"
     ]
    },
    {
     "name": "stdout",
     "output_type": "stream",
     "text": [
      "mse_loss(xtest, ytest) = 1.7770904f0\n"
     ]
    },
    {
     "name": "stderr",
     "output_type": "stream",
     "text": [
      "┌ Info: Epoch 21\n",
      "└ @ ConvGRU /Users/kahingleung/.julia/packages/Flux/sY3yx/src/optimise/train.jl:136\n"
     ]
    },
    {
     "name": "stdout",
     "output_type": "stream",
     "text": [
      "mse_loss(xtest, ytest) = 1.793824f0\n"
     ]
    },
    {
     "name": "stderr",
     "output_type": "stream",
     "text": [
      "┌ Info: Epoch 22\n",
      "└ @ ConvGRU /Users/kahingleung/.julia/packages/Flux/sY3yx/src/optimise/train.jl:136\n"
     ]
    },
    {
     "name": "stdout",
     "output_type": "stream",
     "text": [
      "mse_loss(xtest, ytest) = 1.6496129f0\n"
     ]
    },
    {
     "name": "stderr",
     "output_type": "stream",
     "text": [
      "┌ Info: Epoch 23\n",
      "└ @ ConvGRU /Users/kahingleung/.julia/packages/Flux/sY3yx/src/optimise/train.jl:136\n",
      "┌ Info: Epoch 24\n",
      "└ @ ConvGRU /Users/kahingleung/.julia/packages/Flux/sY3yx/src/optimise/train.jl:136\n"
     ]
    },
    {
     "name": "stdout",
     "output_type": "stream",
     "text": [
      "mse_loss(xtest, ytest) = 1.6799929f0\n"
     ]
    },
    {
     "name": "stderr",
     "output_type": "stream",
     "text": [
      "┌ Info: Epoch 25\n",
      "└ @ ConvGRU /Users/kahingleung/.julia/packages/Flux/sY3yx/src/optimise/train.jl:136\n"
     ]
    },
    {
     "name": "stdout",
     "output_type": "stream",
     "text": [
      "mse_loss(xtest, ytest) = 1.6379906f0\n",
      "mse_loss(xtest, ytest) = 1.6677346f0\n"
     ]
    },
    {
     "name": "stderr",
     "output_type": "stream",
     "text": [
      "┌ Info: Epoch 26\n",
      "└ @ ConvGRU /Users/kahingleung/.julia/packages/Flux/sY3yx/src/optimise/train.jl:136\n"
     ]
    },
    {
     "name": "stdout",
     "output_type": "stream",
     "text": [
      "mse_loss(xtest, ytest) = 1.6225733f0\n"
     ]
    },
    {
     "name": "stderr",
     "output_type": "stream",
     "text": [
      "┌ Info: Epoch 27\n",
      "└ @ ConvGRU /Users/kahingleung/.julia/packages/Flux/sY3yx/src/optimise/train.jl:136\n"
     ]
    },
    {
     "name": "stdout",
     "output_type": "stream",
     "text": [
      "mse_loss(xtest, ytest) = 1.620329f0\n"
     ]
    },
    {
     "name": "stderr",
     "output_type": "stream",
     "text": [
      "┌ Info: Epoch 28\n",
      "└ @ ConvGRU /Users/kahingleung/.julia/packages/Flux/sY3yx/src/optimise/train.jl:136\n",
      "┌ Info: Epoch 29\n",
      "└ @ ConvGRU /Users/kahingleung/.julia/packages/Flux/sY3yx/src/optimise/train.jl:136\n"
     ]
    },
    {
     "name": "stdout",
     "output_type": "stream",
     "text": [
      "mse_loss(xtest, ytest) = 1.7593615f0\n"
     ]
    },
    {
     "name": "stderr",
     "output_type": "stream",
     "text": [
      "┌ Info: Epoch 30\n",
      "└ @ ConvGRU /Users/kahingleung/.julia/packages/Flux/sY3yx/src/optimise/train.jl:136\n"
     ]
    },
    {
     "name": "stdout",
     "output_type": "stream",
     "text": [
      "mse_loss(xtest, ytest) = 1.6585054f0\n",
      "(250,)\n",
      "myObjective(df, seqlen, Nh, lr, sym * \"-\" * string(i)) = 1.6558958f0\n",
      "33080.005994842503189409\n",
      "mse_loss(xtest, ytest) = 2.01815f0\n"
     ]
    },
    {
     "name": "stderr",
     "output_type": "stream",
     "text": [
      "┌ Info: Epoch 1\n",
      "└ @ ConvGRU /Users/kahingleung/.julia/packages/Flux/sY3yx/src/optimise/train.jl:136\n"
     ]
    },
    {
     "name": "stdout",
     "output_type": "stream",
     "text": [
      "mse_loss(xtest, ytest) = 2.0845842f0\n"
     ]
    },
    {
     "name": "stderr",
     "output_type": "stream",
     "text": [
      "┌ Info: Epoch 2\n",
      "└ @ ConvGRU /Users/kahingleung/.julia/packages/Flux/sY3yx/src/optimise/train.jl:136\n"
     ]
    },
    {
     "name": "stdout",
     "output_type": "stream",
     "text": [
      "mse_loss(xtest, ytest) = 2.1190786f0\n"
     ]
    },
    {
     "name": "stderr",
     "output_type": "stream",
     "text": [
      "┌ Info: Epoch 3\n",
      "└ @ ConvGRU /Users/kahingleung/.julia/packages/Flux/sY3yx/src/optimise/train.jl:136\n"
     ]
    },
    {
     "name": "stdout",
     "output_type": "stream",
     "text": [
      "mse_loss(xtest, ytest) = 1.9331852f0\n"
     ]
    },
    {
     "name": "stderr",
     "output_type": "stream",
     "text": [
      "┌ Info: Epoch 4\n",
      "└ @ ConvGRU /Users/kahingleung/.julia/packages/Flux/sY3yx/src/optimise/train.jl:136\n"
     ]
    },
    {
     "name": "stdout",
     "output_type": "stream",
     "text": [
      "mse_loss(xtest, ytest) = 1.8819023f0\n",
      "mse_loss(xtest, ytest) = 1.8278301f0\n"
     ]
    },
    {
     "name": "stderr",
     "output_type": "stream",
     "text": [
      "┌ Info: Epoch 5\n",
      "└ @ ConvGRU /Users/kahingleung/.julia/packages/Flux/sY3yx/src/optimise/train.jl:136\n"
     ]
    },
    {
     "name": "stdout",
     "output_type": "stream",
     "text": [
      "mse_loss(xtest, ytest) = 1.7709183f0\n"
     ]
    },
    {
     "name": "stderr",
     "output_type": "stream",
     "text": [
      "┌ Info: Epoch 6\n",
      "└ @ ConvGRU /Users/kahingleung/.julia/packages/Flux/sY3yx/src/optimise/train.jl:136\n",
      "┌ Info: Epoch 7\n",
      "└ @ ConvGRU /Users/kahingleung/.julia/packages/Flux/sY3yx/src/optimise/train.jl:136\n"
     ]
    },
    {
     "name": "stdout",
     "output_type": "stream",
     "text": [
      "mse_loss(xtest, ytest) = 1.7605625f0\n",
      "mse_loss(xtest, ytest) = 1.6962729f0\n"
     ]
    },
    {
     "name": "stderr",
     "output_type": "stream",
     "text": [
      "┌ Info: Epoch 8\n",
      "└ @ ConvGRU /Users/kahingleung/.julia/packages/Flux/sY3yx/src/optimise/train.jl:136\n",
      "┌ Info: Epoch 9\n",
      "└ @ ConvGRU /Users/kahingleung/.julia/packages/Flux/sY3yx/src/optimise/train.jl:136\n"
     ]
    },
    {
     "name": "stdout",
     "output_type": "stream",
     "text": [
      "mse_loss(xtest, ytest) = 1.750214f0\n",
      "mse_loss(xtest, ytest) = 1.7170501f0\n"
     ]
    },
    {
     "name": "stderr",
     "output_type": "stream",
     "text": [
      "┌ Info: Epoch 10\n",
      "└ @ ConvGRU /Users/kahingleung/.julia/packages/Flux/sY3yx/src/optimise/train.jl:136\n"
     ]
    },
    {
     "name": "stdout",
     "output_type": "stream",
     "text": [
      "mse_loss(xtest, ytest) = 1.6354915f0\n"
     ]
    },
    {
     "name": "stderr",
     "output_type": "stream",
     "text": [
      "┌ Info: Epoch 11\n",
      "└ @ ConvGRU /Users/kahingleung/.julia/packages/Flux/sY3yx/src/optimise/train.jl:136\n"
     ]
    },
    {
     "name": "stdout",
     "output_type": "stream",
     "text": [
      "mse_loss(xtest, ytest) = 1.6695521f0\n"
     ]
    },
    {
     "name": "stderr",
     "output_type": "stream",
     "text": [
      "┌ Info: Epoch 12\n",
      "└ @ ConvGRU /Users/kahingleung/.julia/packages/Flux/sY3yx/src/optimise/train.jl:136\n"
     ]
    },
    {
     "name": "stdout",
     "output_type": "stream",
     "text": [
      "mse_loss(xtest, ytest) = 1.6751091f0\n"
     ]
    },
    {
     "name": "stderr",
     "output_type": "stream",
     "text": [
      "┌ Info: Epoch 13\n",
      "└ @ ConvGRU /Users/kahingleung/.julia/packages/Flux/sY3yx/src/optimise/train.jl:136\n"
     ]
    },
    {
     "name": "stdout",
     "output_type": "stream",
     "text": [
      "mse_loss(xtest, ytest) = 1.6747139f0\n"
     ]
    },
    {
     "name": "stderr",
     "output_type": "stream",
     "text": [
      "┌ Info: Epoch 14\n",
      "└ @ ConvGRU /Users/kahingleung/.julia/packages/Flux/sY3yx/src/optimise/train.jl:136\n",
      "┌ Info: Epoch 15\n",
      "└ @ ConvGRU /Users/kahingleung/.julia/packages/Flux/sY3yx/src/optimise/train.jl:136\n"
     ]
    },
    {
     "name": "stdout",
     "output_type": "stream",
     "text": [
      "mse_loss(xtest, ytest) = 1.67574f0\n"
     ]
    },
    {
     "name": "stderr",
     "output_type": "stream",
     "text": [
      "┌ Info: Epoch 16\n",
      "└ @ ConvGRU /Users/kahingleung/.julia/packages/Flux/sY3yx/src/optimise/train.jl:136\n"
     ]
    },
    {
     "name": "stdout",
     "output_type": "stream",
     "text": [
      "mse_loss(xtest, ytest) = 1.5807754f0\n"
     ]
    },
    {
     "name": "stderr",
     "output_type": "stream",
     "text": [
      "┌ Info: Epoch 17\n",
      "└ @ ConvGRU /Users/kahingleung/.julia/packages/Flux/sY3yx/src/optimise/train.jl:136\n"
     ]
    },
    {
     "name": "stdout",
     "output_type": "stream",
     "text": [
      "mse_loss(xtest, ytest) = 1.6513555f0\n"
     ]
    },
    {
     "name": "stderr",
     "output_type": "stream",
     "text": [
      "┌ Info: Epoch 18\n",
      "└ @ ConvGRU /Users/kahingleung/.julia/packages/Flux/sY3yx/src/optimise/train.jl:136\n"
     ]
    },
    {
     "name": "stdout",
     "output_type": "stream",
     "text": [
      "mse_loss(xtest, ytest) = 1.648314f0\n"
     ]
    },
    {
     "name": "stderr",
     "output_type": "stream",
     "text": [
      "┌ Info: Epoch 19\n",
      "└ @ ConvGRU /Users/kahingleung/.julia/packages/Flux/sY3yx/src/optimise/train.jl:136\n"
     ]
    },
    {
     "name": "stdout",
     "output_type": "stream",
     "text": [
      "mse_loss(xtest, ytest) = 1.551006f0\n"
     ]
    },
    {
     "name": "stderr",
     "output_type": "stream",
     "text": [
      "┌ Info: Epoch 20\n",
      "└ @ ConvGRU /Users/kahingleung/.julia/packages/Flux/sY3yx/src/optimise/train.jl:136\n"
     ]
    },
    {
     "name": "stdout",
     "output_type": "stream",
     "text": [
      "mse_loss(xtest, ytest) = 1.6737834f0\n",
      "mse_loss(xtest, ytest) = 1.6525128f0\n"
     ]
    },
    {
     "name": "stderr",
     "output_type": "stream",
     "text": [
      "┌ Info: Epoch 21\n",
      "└ @ ConvGRU /Users/kahingleung/.julia/packages/Flux/sY3yx/src/optimise/train.jl:136\n"
     ]
    },
    {
     "name": "stdout",
     "output_type": "stream",
     "text": [
      "mse_loss(xtest, ytest) = 1.6461036f0\n"
     ]
    },
    {
     "name": "stderr",
     "output_type": "stream",
     "text": [
      "┌ Info: Epoch 22\n",
      "└ @ ConvGRU /Users/kahingleung/.julia/packages/Flux/sY3yx/src/optimise/train.jl:136\n",
      "┌ Info: Epoch 23\n",
      "└ @ ConvGRU /Users/kahingleung/.julia/packages/Flux/sY3yx/src/optimise/train.jl:136\n"
     ]
    },
    {
     "name": "stdout",
     "output_type": "stream",
     "text": [
      "mse_loss(xtest, ytest) = 1.5902177f0\n"
     ]
    },
    {
     "name": "stderr",
     "output_type": "stream",
     "text": [
      "┌ Info: Epoch 24\n",
      "└ @ ConvGRU /Users/kahingleung/.julia/packages/Flux/sY3yx/src/optimise/train.jl:136\n"
     ]
    },
    {
     "name": "stdout",
     "output_type": "stream",
     "text": [
      "mse_loss(xtest, ytest) = 1.6359626f0\n",
      "mse_loss(xtest, ytest) = 1.6082143f0\n"
     ]
    },
    {
     "name": "stderr",
     "output_type": "stream",
     "text": [
      "┌ Info: Epoch 25\n",
      "└ @ ConvGRU /Users/kahingleung/.julia/packages/Flux/sY3yx/src/optimise/train.jl:136\n"
     ]
    },
    {
     "name": "stdout",
     "output_type": "stream",
     "text": [
      "mse_loss(xtest, ytest) = 1.6131037f0\n"
     ]
    },
    {
     "name": "stderr",
     "output_type": "stream",
     "text": [
      "┌ Info: Epoch 26\n",
      "└ @ ConvGRU /Users/kahingleung/.julia/packages/Flux/sY3yx/src/optimise/train.jl:136\n"
     ]
    },
    {
     "name": "stdout",
     "output_type": "stream",
     "text": [
      "mse_loss(xtest, ytest) = 1.6461186f0\n"
     ]
    },
    {
     "name": "stderr",
     "output_type": "stream",
     "text": [
      "┌ Info: Epoch 27\n",
      "└ @ ConvGRU /Users/kahingleung/.julia/packages/Flux/sY3yx/src/optimise/train.jl:136\n",
      "┌ Info: Epoch 28\n",
      "└ @ ConvGRU /Users/kahingleung/.julia/packages/Flux/sY3yx/src/optimise/train.jl:136\n"
     ]
    },
    {
     "name": "stdout",
     "output_type": "stream",
     "text": [
      "mse_loss(xtest, ytest) = 1.6339116f0\n"
     ]
    },
    {
     "name": "stderr",
     "output_type": "stream",
     "text": [
      "┌ Info: Epoch 29\n",
      "└ @ ConvGRU /Users/kahingleung/.julia/packages/Flux/sY3yx/src/optimise/train.jl:136\n"
     ]
    },
    {
     "name": "stdout",
     "output_type": "stream",
     "text": [
      "mse_loss(xtest, ytest) = 1.5652703f0\n"
     ]
    },
    {
     "name": "stderr",
     "output_type": "stream",
     "text": [
      "┌ Info: Epoch 30\n",
      "└ @ ConvGRU /Users/kahingleung/.julia/packages/Flux/sY3yx/src/optimise/train.jl:136\n"
     ]
    },
    {
     "name": "stdout",
     "output_type": "stream",
     "text": [
      "mse_loss(xtest, ytest) = 1.58546f0\n",
      "(250,)\n",
      "myObjective(df, seqlen, Nh, lr, sym * \"-\" * string(i)) = 1.489922f0\n",
      "41580.0021544346900318843\n",
      "mse_loss(xtest, ytest) = 1.949024f0\n",
      "mse_loss(xtest, ytest) = 1.9264985f0\n"
     ]
    },
    {
     "name": "stderr",
     "output_type": "stream",
     "text": [
      "┌ Info: Epoch 1\n",
      "└ @ ConvGRU /Users/kahingleung/.julia/packages/Flux/sY3yx/src/optimise/train.jl:136\n",
      "┌ Info: Epoch 2\n",
      "└ @ ConvGRU /Users/kahingleung/.julia/packages/Flux/sY3yx/src/optimise/train.jl:136\n"
     ]
    },
    {
     "name": "stdout",
     "output_type": "stream",
     "text": [
      "mse_loss(xtest, ytest) = 1.9165441f0\n",
      "mse_loss(xtest, ytest) = 1.8354231f0\n"
     ]
    },
    {
     "name": "stderr",
     "output_type": "stream",
     "text": [
      "┌ Info: Epoch 3\n",
      "└ @ ConvGRU /Users/kahingleung/.julia/packages/Flux/sY3yx/src/optimise/train.jl:136\n"
     ]
    },
    {
     "name": "stdout",
     "output_type": "stream",
     "text": [
      "mse_loss(xtest, ytest) = 1.7636346f0\n"
     ]
    },
    {
     "name": "stderr",
     "output_type": "stream",
     "text": [
      "┌ Info: Epoch 4\n",
      "└ @ ConvGRU /Users/kahingleung/.julia/packages/Flux/sY3yx/src/optimise/train.jl:136\n"
     ]
    },
    {
     "name": "stdout",
     "output_type": "stream",
     "text": [
      "mse_loss(xtest, ytest) = 1.7065139f0\n"
     ]
    },
    {
     "name": "stderr",
     "output_type": "stream",
     "text": [
      "┌ Info: Epoch 5\n",
      "└ @ ConvGRU /Users/kahingleung/.julia/packages/Flux/sY3yx/src/optimise/train.jl:136\n",
      "┌ Info: Epoch 6\n",
      "└ @ ConvGRU /Users/kahingleung/.julia/packages/Flux/sY3yx/src/optimise/train.jl:136\n"
     ]
    },
    {
     "name": "stdout",
     "output_type": "stream",
     "text": [
      "mse_loss(xtest, ytest) = 1.6836318f0\n",
      "mse_loss(xtest, ytest) = 1.6552849f0\n"
     ]
    },
    {
     "name": "stderr",
     "output_type": "stream",
     "text": [
      "┌ Info: Epoch 7\n",
      "└ @ ConvGRU /Users/kahingleung/.julia/packages/Flux/sY3yx/src/optimise/train.jl:136\n"
     ]
    },
    {
     "name": "stdout",
     "output_type": "stream",
     "text": [
      "mse_loss(xtest, ytest) = 1.629257f0\n"
     ]
    },
    {
     "name": "stderr",
     "output_type": "stream",
     "text": [
      "┌ Info: Epoch 8\n",
      "└ @ ConvGRU /Users/kahingleung/.julia/packages/Flux/sY3yx/src/optimise/train.jl:136\n"
     ]
    },
    {
     "name": "stdout",
     "output_type": "stream",
     "text": [
      "mse_loss(xtest, ytest) = 1.6326798f0\n"
     ]
    },
    {
     "name": "stderr",
     "output_type": "stream",
     "text": [
      "┌ Info: Epoch 9\n",
      "└ @ ConvGRU /Users/kahingleung/.julia/packages/Flux/sY3yx/src/optimise/train.jl:136\n"
     ]
    },
    {
     "name": "stdout",
     "output_type": "stream",
     "text": [
      "mse_loss(xtest, ytest) = 1.597322f0\n"
     ]
    },
    {
     "name": "stderr",
     "output_type": "stream",
     "text": [
      "┌ Info: Epoch 10\n",
      "└ @ ConvGRU /Users/kahingleung/.julia/packages/Flux/sY3yx/src/optimise/train.jl:136\n",
      "┌ Info: Epoch 11\n",
      "└ @ ConvGRU /Users/kahingleung/.julia/packages/Flux/sY3yx/src/optimise/train.jl:136\n"
     ]
    },
    {
     "name": "stdout",
     "output_type": "stream",
     "text": [
      "mse_loss(xtest, ytest) = 1.5963871f0\n",
      "mse_loss(xtest, ytest) = 1.5932912f0\n"
     ]
    },
    {
     "name": "stderr",
     "output_type": "stream",
     "text": [
      "┌ Info: Epoch 12\n",
      "└ @ ConvGRU /Users/kahingleung/.julia/packages/Flux/sY3yx/src/optimise/train.jl:136\n"
     ]
    },
    {
     "name": "stdout",
     "output_type": "stream",
     "text": [
      "mse_loss(xtest, ytest) = 1.6026876f0\n"
     ]
    },
    {
     "name": "stderr",
     "output_type": "stream",
     "text": [
      "┌ Info: Epoch 13\n",
      "└ @ ConvGRU /Users/kahingleung/.julia/packages/Flux/sY3yx/src/optimise/train.jl:136\n",
      "┌ Info: Epoch 14\n",
      "└ @ ConvGRU /Users/kahingleung/.julia/packages/Flux/sY3yx/src/optimise/train.jl:136\n"
     ]
    },
    {
     "name": "stdout",
     "output_type": "stream",
     "text": [
      "mse_loss(xtest, ytest) = 1.593764f0\n",
      "mse_loss(xtest, ytest) = 1.6071489f0\n"
     ]
    },
    {
     "name": "stderr",
     "output_type": "stream",
     "text": [
      "┌ Info: Epoch 15\n",
      "└ @ ConvGRU /Users/kahingleung/.julia/packages/Flux/sY3yx/src/optimise/train.jl:136\n"
     ]
    },
    {
     "name": "stdout",
     "output_type": "stream",
     "text": [
      "mse_loss(xtest, ytest) = 1.6098241f0\n"
     ]
    },
    {
     "name": "stderr",
     "output_type": "stream",
     "text": [
      "┌ Info: Epoch 16\n",
      "└ @ ConvGRU /Users/kahingleung/.julia/packages/Flux/sY3yx/src/optimise/train.jl:136\n"
     ]
    },
    {
     "name": "stdout",
     "output_type": "stream",
     "text": [
      "mse_loss(xtest, ytest) = 1.6033986f0\n"
     ]
    },
    {
     "name": "stderr",
     "output_type": "stream",
     "text": [
      "┌ Info: Epoch 17\n",
      "└ @ ConvGRU /Users/kahingleung/.julia/packages/Flux/sY3yx/src/optimise/train.jl:136\n"
     ]
    },
    {
     "name": "stdout",
     "output_type": "stream",
     "text": [
      "mse_loss(xtest, ytest) = 1.6000328f0\n"
     ]
    },
    {
     "name": "stderr",
     "output_type": "stream",
     "text": [
      "┌ Info: Epoch 18\n",
      "└ @ ConvGRU /Users/kahingleung/.julia/packages/Flux/sY3yx/src/optimise/train.jl:136\n"
     ]
    },
    {
     "name": "stdout",
     "output_type": "stream",
     "text": [
      "mse_loss(xtest, ytest) = 1.6085824f0\n"
     ]
    },
    {
     "name": "stderr",
     "output_type": "stream",
     "text": [
      "┌ Info: Epoch 19\n",
      "└ @ ConvGRU /Users/kahingleung/.julia/packages/Flux/sY3yx/src/optimise/train.jl:136\n"
     ]
    },
    {
     "name": "stdout",
     "output_type": "stream",
     "text": [
      "mse_loss(xtest, ytest) = 1.61673f0\n"
     ]
    },
    {
     "name": "stderr",
     "output_type": "stream",
     "text": [
      "┌ Info: Epoch 20\n",
      "└ @ ConvGRU /Users/kahingleung/.julia/packages/Flux/sY3yx/src/optimise/train.jl:136\n"
     ]
    },
    {
     "name": "stdout",
     "output_type": "stream",
     "text": [
      "mse_loss(xtest, ytest) = 1.6206404f0\n"
     ]
    },
    {
     "name": "stderr",
     "output_type": "stream",
     "text": [
      "┌ Info: Epoch 21\n",
      "└ @ ConvGRU /Users/kahingleung/.julia/packages/Flux/sY3yx/src/optimise/train.jl:136\n",
      "┌ Info: Epoch 22\n",
      "└ @ ConvGRU /Users/kahingleung/.julia/packages/Flux/sY3yx/src/optimise/train.jl:136\n"
     ]
    },
    {
     "name": "stdout",
     "output_type": "stream",
     "text": [
      "mse_loss(xtest, ytest) = 1.6248981f0\n",
      "mse_loss(xtest, ytest) = 1.6349998f0\n"
     ]
    },
    {
     "name": "stderr",
     "output_type": "stream",
     "text": [
      "┌ Info: Epoch 23\n",
      "└ @ ConvGRU /Users/kahingleung/.julia/packages/Flux/sY3yx/src/optimise/train.jl:136\n"
     ]
    },
    {
     "name": "stdout",
     "output_type": "stream",
     "text": [
      "mse_loss(xtest, ytest) = 1.6089123f0\n"
     ]
    },
    {
     "name": "stderr",
     "output_type": "stream",
     "text": [
      "┌ Info: Epoch 24\n",
      "└ @ ConvGRU /Users/kahingleung/.julia/packages/Flux/sY3yx/src/optimise/train.jl:136\n",
      "┌ Info: Epoch 25\n",
      "└ @ ConvGRU /Users/kahingleung/.julia/packages/Flux/sY3yx/src/optimise/train.jl:136\n"
     ]
    },
    {
     "name": "stdout",
     "output_type": "stream",
     "text": [
      "mse_loss(xtest, ytest) = 1.6153951f0\n",
      "mse_loss(xtest, ytest) = 1.6110933f0\n"
     ]
    },
    {
     "name": "stderr",
     "output_type": "stream",
     "text": [
      "┌ Info: Epoch 26\n",
      "└ @ ConvGRU /Users/kahingleung/.julia/packages/Flux/sY3yx/src/optimise/train.jl:136\n",
      "┌ Info: Epoch 27\n",
      "└ @ ConvGRU /Users/kahingleung/.julia/packages/Flux/sY3yx/src/optimise/train.jl:136\n"
     ]
    },
    {
     "name": "stdout",
     "output_type": "stream",
     "text": [
      "mse_loss(xtest, ytest) = 1.6295409f0\n",
      "mse_loss(xtest, ytest) = 1.640635f0\n"
     ]
    },
    {
     "name": "stderr",
     "output_type": "stream",
     "text": [
      "┌ Info: Epoch 28\n",
      "└ @ ConvGRU /Users/kahingleung/.julia/packages/Flux/sY3yx/src/optimise/train.jl:136\n"
     ]
    },
    {
     "name": "stdout",
     "output_type": "stream",
     "text": [
      "mse_loss(xtest, ytest) = 1.6280245f0\n"
     ]
    },
    {
     "name": "stderr",
     "output_type": "stream",
     "text": [
      "┌ Info: Epoch 29\n",
      "└ @ ConvGRU /Users/kahingleung/.julia/packages/Flux/sY3yx/src/optimise/train.jl:136\n"
     ]
    },
    {
     "name": "stdout",
     "output_type": "stream",
     "text": [
      "mse_loss(xtest, ytest) = 1.6305839f0\n"
     ]
    },
    {
     "name": "stderr",
     "output_type": "stream",
     "text": [
      "┌ Info: Epoch 30\n",
      "└ @ ConvGRU /Users/kahingleung/.julia/packages/Flux/sY3yx/src/optimise/train.jl:136\n"
     ]
    },
    {
     "name": "stdout",
     "output_type": "stream",
     "text": [
      "(250,)\n",
      "myObjective(df, seqlen, Nh, lr, sym * \"-\" * string(i)) = 1.6510146f0\n",
      "53020.003593813663804626\n",
      "mse_loss(xtest, ytest) = 1.9312936f0\n",
      "mse_loss(xtest, ytest) = 1.9241391f0\n"
     ]
    },
    {
     "name": "stderr",
     "output_type": "stream",
     "text": [
      "┌ Info: Epoch 1\n",
      "└ @ ConvGRU /Users/kahingleung/.julia/packages/Flux/sY3yx/src/optimise/train.jl:136\n",
      "┌ Info: Epoch 2\n",
      "└ @ ConvGRU /Users/kahingleung/.julia/packages/Flux/sY3yx/src/optimise/train.jl:136\n"
     ]
    },
    {
     "name": "stdout",
     "output_type": "stream",
     "text": [
      "mse_loss(xtest, ytest) = 1.9050468f0\n"
     ]
    },
    {
     "name": "stderr",
     "output_type": "stream",
     "text": [
      "┌ Info: Epoch 3\n",
      "└ @ ConvGRU /Users/kahingleung/.julia/packages/Flux/sY3yx/src/optimise/train.jl:136\n"
     ]
    },
    {
     "name": "stdout",
     "output_type": "stream",
     "text": [
      "mse_loss(xtest, ytest) = 1.909091f0\n",
      "mse_loss(xtest, ytest) = 1.919576f0\n"
     ]
    },
    {
     "name": "stderr",
     "output_type": "stream",
     "text": [
      "┌ Info: Epoch 4\n",
      "└ @ ConvGRU /Users/kahingleung/.julia/packages/Flux/sY3yx/src/optimise/train.jl:136\n"
     ]
    },
    {
     "name": "stdout",
     "output_type": "stream",
     "text": [
      "mse_loss(xtest, ytest) = 1.9146683f0\n"
     ]
    },
    {
     "name": "stderr",
     "output_type": "stream",
     "text": [
      "┌ Info: Epoch 5\n",
      "└ @ ConvGRU /Users/kahingleung/.julia/packages/Flux/sY3yx/src/optimise/train.jl:136\n"
     ]
    },
    {
     "name": "stdout",
     "output_type": "stream",
     "text": [
      "mse_loss(xtest, ytest) = 1.8990091f0\n"
     ]
    },
    {
     "name": "stderr",
     "output_type": "stream",
     "text": [
      "┌ Info: Epoch 6\n",
      "└ @ ConvGRU /Users/kahingleung/.julia/packages/Flux/sY3yx/src/optimise/train.jl:136\n"
     ]
    },
    {
     "name": "stdout",
     "output_type": "stream",
     "text": [
      "mse_loss(xtest, ytest) = 1.8924763f0\n"
     ]
    },
    {
     "name": "stderr",
     "output_type": "stream",
     "text": [
      "┌ Info: Epoch 7\n",
      "└ @ ConvGRU /Users/kahingleung/.julia/packages/Flux/sY3yx/src/optimise/train.jl:136\n"
     ]
    },
    {
     "name": "stdout",
     "output_type": "stream",
     "text": [
      "mse_loss(xtest, ytest) = 1.8755298f0\n"
     ]
    },
    {
     "name": "stderr",
     "output_type": "stream",
     "text": [
      "┌ Info: Epoch 8\n",
      "└ @ ConvGRU /Users/kahingleung/.julia/packages/Flux/sY3yx/src/optimise/train.jl:136\n",
      "┌ Info: Epoch 9\n",
      "└ @ ConvGRU /Users/kahingleung/.julia/packages/Flux/sY3yx/src/optimise/train.jl:136\n"
     ]
    },
    {
     "name": "stdout",
     "output_type": "stream",
     "text": [
      "mse_loss(xtest, ytest) = 1.8585113f0\n",
      "mse_loss(xtest, ytest) = 1.848518f0\n"
     ]
    },
    {
     "name": "stderr",
     "output_type": "stream",
     "text": [
      "┌ Info: Epoch 10\n",
      "└ @ ConvGRU /Users/kahingleung/.julia/packages/Flux/sY3yx/src/optimise/train.jl:136\n"
     ]
    },
    {
     "name": "stdout",
     "output_type": "stream",
     "text": [
      "mse_loss(xtest, ytest) = 1.8430837f0\n"
     ]
    },
    {
     "name": "stderr",
     "output_type": "stream",
     "text": [
      "┌ Info: Epoch 11\n",
      "└ @ ConvGRU /Users/kahingleung/.julia/packages/Flux/sY3yx/src/optimise/train.jl:136\n"
     ]
    },
    {
     "name": "stdout",
     "output_type": "stream",
     "text": [
      "mse_loss(xtest, ytest) = 1.8180741f0\n"
     ]
    },
    {
     "name": "stderr",
     "output_type": "stream",
     "text": [
      "┌ Info: Epoch 12\n",
      "└ @ ConvGRU /Users/kahingleung/.julia/packages/Flux/sY3yx/src/optimise/train.jl:136\n"
     ]
    },
    {
     "name": "stdout",
     "output_type": "stream",
     "text": [
      "mse_loss(xtest, ytest) = 1.8112714f0\n"
     ]
    },
    {
     "name": "stderr",
     "output_type": "stream",
     "text": [
      "┌ Info: Epoch 13\n",
      "└ @ ConvGRU /Users/kahingleung/.julia/packages/Flux/sY3yx/src/optimise/train.jl:136\n"
     ]
    },
    {
     "name": "stdout",
     "output_type": "stream",
     "text": [
      "mse_loss(xtest, ytest) = 1.7930771f0\n"
     ]
    },
    {
     "name": "stderr",
     "output_type": "stream",
     "text": [
      "┌ Info: Epoch 14\n",
      "└ @ ConvGRU /Users/kahingleung/.julia/packages/Flux/sY3yx/src/optimise/train.jl:136\n"
     ]
    },
    {
     "name": "stdout",
     "output_type": "stream",
     "text": [
      "mse_loss(xtest, ytest) = 1.7796571f0\n"
     ]
    },
    {
     "name": "stderr",
     "output_type": "stream",
     "text": [
      "┌ Info: Epoch 15\n",
      "└ @ ConvGRU /Users/kahingleung/.julia/packages/Flux/sY3yx/src/optimise/train.jl:136\n"
     ]
    },
    {
     "name": "stdout",
     "output_type": "stream",
     "text": [
      "mse_loss(xtest, ytest) = 1.7799646f0\n"
     ]
    },
    {
     "name": "stderr",
     "output_type": "stream",
     "text": [
      "┌ Info: Epoch 16\n",
      "└ @ ConvGRU /Users/kahingleung/.julia/packages/Flux/sY3yx/src/optimise/train.jl:136\n",
      "┌ Info: Epoch 17\n",
      "└ @ ConvGRU /Users/kahingleung/.julia/packages/Flux/sY3yx/src/optimise/train.jl:136\n"
     ]
    },
    {
     "name": "stdout",
     "output_type": "stream",
     "text": [
      "mse_loss(xtest, ytest) = 1.7811743f0\n",
      "mse_loss(xtest, ytest) = 1.7832851f0\n"
     ]
    },
    {
     "name": "stderr",
     "output_type": "stream",
     "text": [
      "┌ Info: Epoch 18\n",
      "└ @ ConvGRU /Users/kahingleung/.julia/packages/Flux/sY3yx/src/optimise/train.jl:136\n",
      "┌ Info: Epoch 19\n",
      "└ @ ConvGRU /Users/kahingleung/.julia/packages/Flux/sY3yx/src/optimise/train.jl:136\n"
     ]
    },
    {
     "name": "stdout",
     "output_type": "stream",
     "text": [
      "mse_loss(xtest, ytest) = 1.7846698f0\n",
      "mse_loss(xtest, ytest) = 1.79519f0\n"
     ]
    },
    {
     "name": "stderr",
     "output_type": "stream",
     "text": [
      "┌ Info: Epoch 20\n",
      "└ @ ConvGRU /Users/kahingleung/.julia/packages/Flux/sY3yx/src/optimise/train.jl:136\n"
     ]
    },
    {
     "name": "stdout",
     "output_type": "stream",
     "text": [
      "mse_loss(xtest, ytest) = 1.7944605f0\n"
     ]
    },
    {
     "name": "stderr",
     "output_type": "stream",
     "text": [
      "┌ Info: Epoch 21\n",
      "└ @ ConvGRU /Users/kahingleung/.julia/packages/Flux/sY3yx/src/optimise/train.jl:136\n"
     ]
    },
    {
     "name": "stdout",
     "output_type": "stream",
     "text": [
      "mse_loss(xtest, ytest) = 1.7889984f0\n"
     ]
    },
    {
     "name": "stderr",
     "output_type": "stream",
     "text": [
      "┌ Info: Epoch 22\n",
      "└ @ ConvGRU /Users/kahingleung/.julia/packages/Flux/sY3yx/src/optimise/train.jl:136\n"
     ]
    },
    {
     "name": "stdout",
     "output_type": "stream",
     "text": [
      "mse_loss(xtest, ytest) = 1.7928529f0\n"
     ]
    },
    {
     "name": "stderr",
     "output_type": "stream",
     "text": [
      "┌ Info: Epoch 23\n",
      "└ @ ConvGRU /Users/kahingleung/.julia/packages/Flux/sY3yx/src/optimise/train.jl:136\n"
     ]
    },
    {
     "name": "stdout",
     "output_type": "stream",
     "text": [
      "mse_loss(xtest, ytest) = 1.7971464f0\n"
     ]
    },
    {
     "name": "stderr",
     "output_type": "stream",
     "text": [
      "┌ Info: Epoch 24\n",
      "└ @ ConvGRU /Users/kahingleung/.julia/packages/Flux/sY3yx/src/optimise/train.jl:136\n",
      "┌ Info: Epoch 25\n",
      "└ @ ConvGRU /Users/kahingleung/.julia/packages/Flux/sY3yx/src/optimise/train.jl:136\n"
     ]
    },
    {
     "name": "stdout",
     "output_type": "stream",
     "text": [
      "mse_loss(xtest, ytest) = 1.7888956f0\n",
      "mse_loss(xtest, ytest) = 1.796008f0\n"
     ]
    },
    {
     "name": "stderr",
     "output_type": "stream",
     "text": [
      "┌ Info: Epoch 26\n",
      "└ @ ConvGRU /Users/kahingleung/.julia/packages/Flux/sY3yx/src/optimise/train.jl:136\n"
     ]
    },
    {
     "name": "stdout",
     "output_type": "stream",
     "text": [
      "mse_loss(xtest, ytest) = 1.8047786f0\n"
     ]
    },
    {
     "name": "stderr",
     "output_type": "stream",
     "text": [
      "┌ Info: Epoch 27\n",
      "└ @ ConvGRU /Users/kahingleung/.julia/packages/Flux/sY3yx/src/optimise/train.jl:136\n"
     ]
    },
    {
     "name": "stdout",
     "output_type": "stream",
     "text": [
      "mse_loss(xtest, ytest) = 1.7916621f0\n"
     ]
    },
    {
     "name": "stderr",
     "output_type": "stream",
     "text": [
      "┌ Info: Epoch 28\n",
      "└ @ ConvGRU /Users/kahingleung/.julia/packages/Flux/sY3yx/src/optimise/train.jl:136\n"
     ]
    },
    {
     "name": "stdout",
     "output_type": "stream",
     "text": [
      "mse_loss(xtest, ytest) = 1.8066707f0\n"
     ]
    },
    {
     "name": "stderr",
     "output_type": "stream",
     "text": [
      "┌ Info: Epoch 29\n",
      "└ @ ConvGRU /Users/kahingleung/.julia/packages/Flux/sY3yx/src/optimise/train.jl:136\n",
      "┌ Info: Epoch 30\n",
      "└ @ ConvGRU /Users/kahingleung/.julia/packages/Flux/sY3yx/src/optimise/train.jl:136\n"
     ]
    },
    {
     "name": "stdout",
     "output_type": "stream",
     "text": [
      "mse_loss(xtest, ytest) = 1.7997506f0\n",
      "(250,)\n",
      "myObjective(df, seqlen, Nh, lr, sym * \"-\" * string(i)) = 1.7766051f0\n",
      "63020.003593813663804626\n",
      "mse_loss(xtest, ytest) = 2.1012146f0\n",
      "mse_loss(xtest, ytest) = 2.1156313f0\n"
     ]
    },
    {
     "name": "stderr",
     "output_type": "stream",
     "text": [
      "┌ Info: Epoch 1\n",
      "└ @ ConvGRU /Users/kahingleung/.julia/packages/Flux/sY3yx/src/optimise/train.jl:136\n"
     ]
    },
    {
     "name": "stdout",
     "output_type": "stream",
     "text": [
      "mse_loss(xtest, ytest) = 2.0426388f0\n"
     ]
    },
    {
     "name": "stderr",
     "output_type": "stream",
     "text": [
      "┌ Info: Epoch 2\n",
      "└ @ ConvGRU /Users/kahingleung/.julia/packages/Flux/sY3yx/src/optimise/train.jl:136\n"
     ]
    },
    {
     "name": "stdout",
     "output_type": "stream",
     "text": [
      "mse_loss(xtest, ytest) = 1.9903741f0\n"
     ]
    },
    {
     "name": "stderr",
     "output_type": "stream",
     "text": [
      "┌ Info: Epoch 3\n",
      "└ @ ConvGRU /Users/kahingleung/.julia/packages/Flux/sY3yx/src/optimise/train.jl:136\n"
     ]
    },
    {
     "name": "stdout",
     "output_type": "stream",
     "text": [
      "mse_loss(xtest, ytest) = 1.9424095f0\n"
     ]
    },
    {
     "name": "stderr",
     "output_type": "stream",
     "text": [
      "┌ Info: Epoch 4\n",
      "└ @ ConvGRU /Users/kahingleung/.julia/packages/Flux/sY3yx/src/optimise/train.jl:136\n"
     ]
    },
    {
     "name": "stdout",
     "output_type": "stream",
     "text": [
      "mse_loss(xtest, ytest) = 1.9143106f0\n"
     ]
    },
    {
     "name": "stderr",
     "output_type": "stream",
     "text": [
      "┌ Info: Epoch 5\n",
      "└ @ ConvGRU /Users/kahingleung/.julia/packages/Flux/sY3yx/src/optimise/train.jl:136\n"
     ]
    },
    {
     "name": "stdout",
     "output_type": "stream",
     "text": [
      "mse_loss(xtest, ytest) = 1.8769283f0\n"
     ]
    },
    {
     "name": "stderr",
     "output_type": "stream",
     "text": [
      "┌ Info: Epoch 6\n",
      "└ @ ConvGRU /Users/kahingleung/.julia/packages/Flux/sY3yx/src/optimise/train.jl:136\n"
     ]
    },
    {
     "name": "stdout",
     "output_type": "stream",
     "text": [
      "mse_loss(xtest, ytest) = 1.8351434f0\n"
     ]
    },
    {
     "name": "stderr",
     "output_type": "stream",
     "text": [
      "┌ Info: Epoch 7\n",
      "└ @ ConvGRU /Users/kahingleung/.julia/packages/Flux/sY3yx/src/optimise/train.jl:136\n"
     ]
    },
    {
     "name": "stdout",
     "output_type": "stream",
     "text": [
      "mse_loss(xtest, ytest) = 1.8131758f0\n"
     ]
    },
    {
     "name": "stderr",
     "output_type": "stream",
     "text": [
      "┌ Info: Epoch 8\n",
      "└ @ ConvGRU /Users/kahingleung/.julia/packages/Flux/sY3yx/src/optimise/train.jl:136\n"
     ]
    },
    {
     "name": "stdout",
     "output_type": "stream",
     "text": [
      "mse_loss(xtest, ytest) = 1.7926782f0\n"
     ]
    },
    {
     "name": "stderr",
     "output_type": "stream",
     "text": [
      "┌ Info: Epoch 9\n",
      "└ @ ConvGRU /Users/kahingleung/.julia/packages/Flux/sY3yx/src/optimise/train.jl:136\n"
     ]
    },
    {
     "name": "stdout",
     "output_type": "stream",
     "text": [
      "mse_loss(xtest, ytest) = 1.7678245f0\n"
     ]
    },
    {
     "name": "stderr",
     "output_type": "stream",
     "text": [
      "┌ Info: Epoch 10\n",
      "└ @ ConvGRU /Users/kahingleung/.julia/packages/Flux/sY3yx/src/optimise/train.jl:136\n"
     ]
    },
    {
     "name": "stdout",
     "output_type": "stream",
     "text": [
      "mse_loss(xtest, ytest) = 1.7577075f0\n"
     ]
    },
    {
     "name": "stderr",
     "output_type": "stream",
     "text": [
      "┌ Info: Epoch 11\n",
      "└ @ ConvGRU /Users/kahingleung/.julia/packages/Flux/sY3yx/src/optimise/train.jl:136\n",
      "┌ Info: Epoch 12\n",
      "└ @ ConvGRU /Users/kahingleung/.julia/packages/Flux/sY3yx/src/optimise/train.jl:136\n"
     ]
    },
    {
     "name": "stdout",
     "output_type": "stream",
     "text": [
      "mse_loss(xtest, ytest) = 1.7741745f0\n",
      "mse_loss(xtest, ytest) = 1.7458538f0\n"
     ]
    },
    {
     "name": "stderr",
     "output_type": "stream",
     "text": [
      "┌ Info: Epoch 13\n",
      "└ @ ConvGRU /Users/kahingleung/.julia/packages/Flux/sY3yx/src/optimise/train.jl:136\n"
     ]
    },
    {
     "name": "stdout",
     "output_type": "stream",
     "text": [
      "mse_loss(xtest, ytest) = 1.7617496f0\n"
     ]
    },
    {
     "name": "stderr",
     "output_type": "stream",
     "text": [
      "┌ Info: Epoch 14\n",
      "└ @ ConvGRU /Users/kahingleung/.julia/packages/Flux/sY3yx/src/optimise/train.jl:136\n"
     ]
    },
    {
     "name": "stdout",
     "output_type": "stream",
     "text": [
      "mse_loss(xtest, ytest) = 1.7837782f0\n"
     ]
    },
    {
     "name": "stderr",
     "output_type": "stream",
     "text": [
      "┌ Info: Epoch 15\n",
      "└ @ ConvGRU /Users/kahingleung/.julia/packages/Flux/sY3yx/src/optimise/train.jl:136\n"
     ]
    },
    {
     "name": "stdout",
     "output_type": "stream",
     "text": [
      "mse_loss(xtest, ytest) = 1.773077f0\n"
     ]
    },
    {
     "name": "stderr",
     "output_type": "stream",
     "text": [
      "┌ Info: Epoch 16\n",
      "└ @ ConvGRU /Users/kahingleung/.julia/packages/Flux/sY3yx/src/optimise/train.jl:136\n"
     ]
    },
    {
     "name": "stdout",
     "output_type": "stream",
     "text": [
      "mse_loss(xtest, ytest) = 1.7907068f0\n"
     ]
    },
    {
     "name": "stderr",
     "output_type": "stream",
     "text": [
      "┌ Info: Epoch 17\n",
      "└ @ ConvGRU /Users/kahingleung/.julia/packages/Flux/sY3yx/src/optimise/train.jl:136\n"
     ]
    },
    {
     "name": "stdout",
     "output_type": "stream",
     "text": [
      "mse_loss(xtest, ytest) = 1.7354792f0\n"
     ]
    },
    {
     "name": "stderr",
     "output_type": "stream",
     "text": [
      "┌ Info: Epoch 18\n",
      "└ @ ConvGRU /Users/kahingleung/.julia/packages/Flux/sY3yx/src/optimise/train.jl:136\n",
      "┌ Info: Epoch 19\n",
      "└ @ ConvGRU /Users/kahingleung/.julia/packages/Flux/sY3yx/src/optimise/train.jl:136\n"
     ]
    },
    {
     "name": "stdout",
     "output_type": "stream",
     "text": [
      "mse_loss(xtest, ytest) = 1.7488321f0\n",
      "mse_loss(xtest, ytest) = 1.7246631f0\n"
     ]
    },
    {
     "name": "stderr",
     "output_type": "stream",
     "text": [
      "┌ Info: Epoch 20\n",
      "└ @ ConvGRU /Users/kahingleung/.julia/packages/Flux/sY3yx/src/optimise/train.jl:136\n",
      "┌ Info: Epoch 21\n",
      "└ @ ConvGRU /Users/kahingleung/.julia/packages/Flux/sY3yx/src/optimise/train.jl:136\n"
     ]
    },
    {
     "name": "stdout",
     "output_type": "stream",
     "text": [
      "mse_loss(xtest, ytest) = 1.7257646f0\n",
      "mse_loss(xtest, ytest) = 1.7304887f0\n"
     ]
    },
    {
     "name": "stderr",
     "output_type": "stream",
     "text": [
      "┌ Info: Epoch 22\n",
      "└ @ ConvGRU /Users/kahingleung/.julia/packages/Flux/sY3yx/src/optimise/train.jl:136\n"
     ]
    },
    {
     "name": "stdout",
     "output_type": "stream",
     "text": [
      "mse_loss(xtest, ytest) = 1.7419343f0\n"
     ]
    },
    {
     "name": "stderr",
     "output_type": "stream",
     "text": [
      "┌ Info: Epoch 23\n",
      "└ @ ConvGRU /Users/kahingleung/.julia/packages/Flux/sY3yx/src/optimise/train.jl:136\n"
     ]
    },
    {
     "name": "stdout",
     "output_type": "stream",
     "text": [
      "mse_loss(xtest, ytest) = 1.7410669f0\n"
     ]
    },
    {
     "name": "stderr",
     "output_type": "stream",
     "text": [
      "┌ Info: Epoch 24\n",
      "└ @ ConvGRU /Users/kahingleung/.julia/packages/Flux/sY3yx/src/optimise/train.jl:136\n"
     ]
    },
    {
     "name": "stdout",
     "output_type": "stream",
     "text": [
      "mse_loss(xtest, ytest) = 1.7764487f0\n"
     ]
    },
    {
     "name": "stderr",
     "output_type": "stream",
     "text": [
      "┌ Info: Epoch 25\n",
      "└ @ ConvGRU /Users/kahingleung/.julia/packages/Flux/sY3yx/src/optimise/train.jl:136\n"
     ]
    },
    {
     "name": "stdout",
     "output_type": "stream",
     "text": [
      "mse_loss(xtest, ytest) = 1.7593908f0\n"
     ]
    },
    {
     "name": "stderr",
     "output_type": "stream",
     "text": [
      "┌ Info: Epoch 26\n",
      "└ @ ConvGRU /Users/kahingleung/.julia/packages/Flux/sY3yx/src/optimise/train.jl:136\n",
      "┌ Info: Epoch 27\n",
      "└ @ ConvGRU /Users/kahingleung/.julia/packages/Flux/sY3yx/src/optimise/train.jl:136\n"
     ]
    },
    {
     "name": "stdout",
     "output_type": "stream",
     "text": [
      "mse_loss(xtest, ytest) = 1.7013423f0\n",
      "mse_loss(xtest, ytest) = 1.7397935f0\n"
     ]
    },
    {
     "name": "stderr",
     "output_type": "stream",
     "text": [
      "┌ Info: Epoch 28\n",
      "└ @ ConvGRU /Users/kahingleung/.julia/packages/Flux/sY3yx/src/optimise/train.jl:136\n"
     ]
    },
    {
     "name": "stdout",
     "output_type": "stream",
     "text": [
      "mse_loss(xtest, ytest) = 1.72328f0\n"
     ]
    },
    {
     "name": "stderr",
     "output_type": "stream",
     "text": [
      "┌ Info: Epoch 29\n",
      "└ @ ConvGRU /Users/kahingleung/.julia/packages/Flux/sY3yx/src/optimise/train.jl:136\n"
     ]
    },
    {
     "name": "stdout",
     "output_type": "stream",
     "text": [
      "mse_loss(xtest, ytest) = 1.7375131f0\n"
     ]
    },
    {
     "name": "stderr",
     "output_type": "stream",
     "text": [
      "┌ Info: Epoch 30\n",
      "└ @ ConvGRU /Users/kahingleung/.julia/packages/Flux/sY3yx/src/optimise/train.jl:136\n"
     ]
    },
    {
     "name": "stdout",
     "output_type": "stream",
     "text": [
      "(250,)\n",
      "myObjective(df, seqlen, Nh, lr, sym * \"-\" * string(i)) = 1.6990554f0\n",
      "73020.003593813663804626\n",
      "mse_loss(xtest, ytest) = 2.0475838f0\n",
      "mse_loss(xtest, ytest) = 2.0559397f0\n"
     ]
    },
    {
     "name": "stderr",
     "output_type": "stream",
     "text": [
      "┌ Info: Epoch 1\n",
      "└ @ ConvGRU /Users/kahingleung/.julia/packages/Flux/sY3yx/src/optimise/train.jl:136\n"
     ]
    },
    {
     "name": "stdout",
     "output_type": "stream",
     "text": [
      "mse_loss(xtest, ytest) = 2.0651648f0\n"
     ]
    },
    {
     "name": "stderr",
     "output_type": "stream",
     "text": [
      "┌ Info: Epoch 2\n",
      "└ @ ConvGRU /Users/kahingleung/.julia/packages/Flux/sY3yx/src/optimise/train.jl:136\n",
      "┌ Info: Epoch 3\n",
      "└ @ ConvGRU /Users/kahingleung/.julia/packages/Flux/sY3yx/src/optimise/train.jl:136\n"
     ]
    },
    {
     "name": "stdout",
     "output_type": "stream",
     "text": [
      "mse_loss(xtest, ytest) = 2.0743039f0\n",
      "mse_loss(xtest, ytest) = 2.0805717f0\n"
     ]
    },
    {
     "name": "stderr",
     "output_type": "stream",
     "text": [
      "┌ Info: Epoch 4\n",
      "└ @ ConvGRU /Users/kahingleung/.julia/packages/Flux/sY3yx/src/optimise/train.jl:136\n"
     ]
    },
    {
     "name": "stdout",
     "output_type": "stream",
     "text": [
      "mse_loss(xtest, ytest) = 2.083151f0\n"
     ]
    },
    {
     "name": "stderr",
     "output_type": "stream",
     "text": [
      "┌ Info: Epoch 5\n",
      "└ @ ConvGRU /Users/kahingleung/.julia/packages/Flux/sY3yx/src/optimise/train.jl:136\n"
     ]
    },
    {
     "name": "stdout",
     "output_type": "stream",
     "text": [
      "mse_loss(xtest, ytest) = 2.0819314f0\n"
     ]
    },
    {
     "name": "stderr",
     "output_type": "stream",
     "text": [
      "┌ Info: Epoch 6\n",
      "└ @ ConvGRU /Users/kahingleung/.julia/packages/Flux/sY3yx/src/optimise/train.jl:136\n"
     ]
    },
    {
     "name": "stdout",
     "output_type": "stream",
     "text": [
      "mse_loss(xtest, ytest) = 2.069612f0\n"
     ]
    },
    {
     "name": "stderr",
     "output_type": "stream",
     "text": [
      "┌ Info: Epoch 7\n",
      "└ @ ConvGRU /Users/kahingleung/.julia/packages/Flux/sY3yx/src/optimise/train.jl:136\n"
     ]
    },
    {
     "name": "stdout",
     "output_type": "stream",
     "text": [
      "mse_loss(xtest, ytest) = 2.0521555f0\n"
     ]
    },
    {
     "name": "stderr",
     "output_type": "stream",
     "text": [
      "┌ Info: Epoch 8\n",
      "└ @ ConvGRU /Users/kahingleung/.julia/packages/Flux/sY3yx/src/optimise/train.jl:136\n"
     ]
    },
    {
     "name": "stdout",
     "output_type": "stream",
     "text": [
      "mse_loss(xtest, ytest) = 2.0303767f0\n"
     ]
    },
    {
     "name": "stderr",
     "output_type": "stream",
     "text": [
      "┌ Info: Epoch 9\n",
      "└ @ ConvGRU /Users/kahingleung/.julia/packages/Flux/sY3yx/src/optimise/train.jl:136\n"
     ]
    },
    {
     "name": "stdout",
     "output_type": "stream",
     "text": [
      "mse_loss(xtest, ytest) = 1.9998312f0\n"
     ]
    },
    {
     "name": "stderr",
     "output_type": "stream",
     "text": [
      "┌ Info: Epoch 10\n",
      "└ @ ConvGRU /Users/kahingleung/.julia/packages/Flux/sY3yx/src/optimise/train.jl:136\n",
      "┌ Info: Epoch 11\n",
      "└ @ ConvGRU /Users/kahingleung/.julia/packages/Flux/sY3yx/src/optimise/train.jl:136\n"
     ]
    },
    {
     "name": "stdout",
     "output_type": "stream",
     "text": [
      "mse_loss(xtest, ytest) = 1.9726273f0\n",
      "mse_loss(xtest, ytest) = 1.9337038f0\n"
     ]
    },
    {
     "name": "stderr",
     "output_type": "stream",
     "text": [
      "┌ Info: Epoch 12\n",
      "└ @ ConvGRU /Users/kahingleung/.julia/packages/Flux/sY3yx/src/optimise/train.jl:136\n"
     ]
    },
    {
     "name": "stdout",
     "output_type": "stream",
     "text": [
      "mse_loss(xtest, ytest) = 1.9042838f0\n"
     ]
    },
    {
     "name": "stderr",
     "output_type": "stream",
     "text": [
      "┌ Info: Epoch 13\n",
      "└ @ ConvGRU /Users/kahingleung/.julia/packages/Flux/sY3yx/src/optimise/train.jl:136\n"
     ]
    },
    {
     "name": "stdout",
     "output_type": "stream",
     "text": [
      "mse_loss(xtest, ytest) = 1.87149f0\n"
     ]
    },
    {
     "name": "stderr",
     "output_type": "stream",
     "text": [
      "┌ Info: Epoch 14\n",
      "└ @ ConvGRU /Users/kahingleung/.julia/packages/Flux/sY3yx/src/optimise/train.jl:136\n"
     ]
    },
    {
     "name": "stdout",
     "output_type": "stream",
     "text": [
      "mse_loss(xtest, ytest) = 1.8463295f0\n"
     ]
    },
    {
     "name": "stderr",
     "output_type": "stream",
     "text": [
      "┌ Info: Epoch 15\n",
      "└ @ ConvGRU /Users/kahingleung/.julia/packages/Flux/sY3yx/src/optimise/train.jl:136\n"
     ]
    },
    {
     "name": "stdout",
     "output_type": "stream",
     "text": [
      "mse_loss(xtest, ytest) = 1.8270904f0\n"
     ]
    },
    {
     "name": "stderr",
     "output_type": "stream",
     "text": [
      "┌ Info: Epoch 16\n",
      "└ @ ConvGRU /Users/kahingleung/.julia/packages/Flux/sY3yx/src/optimise/train.jl:136\n"
     ]
    },
    {
     "name": "stdout",
     "output_type": "stream",
     "text": [
      "mse_loss(xtest, ytest) = 1.8021307f0\n"
     ]
    },
    {
     "name": "stderr",
     "output_type": "stream",
     "text": [
      "┌ Info: Epoch 17\n",
      "└ @ ConvGRU /Users/kahingleung/.julia/packages/Flux/sY3yx/src/optimise/train.jl:136\n"
     ]
    },
    {
     "name": "stdout",
     "output_type": "stream",
     "text": [
      "mse_loss(xtest, ytest) = 1.7902077f0\n"
     ]
    },
    {
     "name": "stderr",
     "output_type": "stream",
     "text": [
      "┌ Info: Epoch 18\n",
      "└ @ ConvGRU /Users/kahingleung/.julia/packages/Flux/sY3yx/src/optimise/train.jl:136\n"
     ]
    },
    {
     "name": "stdout",
     "output_type": "stream",
     "text": [
      "mse_loss(xtest, ytest) = 1.773267f0\n"
     ]
    },
    {
     "name": "stderr",
     "output_type": "stream",
     "text": [
      "┌ Info: Epoch 19\n",
      "└ @ ConvGRU /Users/kahingleung/.julia/packages/Flux/sY3yx/src/optimise/train.jl:136\n"
     ]
    },
    {
     "name": "stdout",
     "output_type": "stream",
     "text": [
      "mse_loss(xtest, ytest) = 1.7731202f0\n"
     ]
    },
    {
     "name": "stderr",
     "output_type": "stream",
     "text": [
      "┌ Info: Epoch 20\n",
      "└ @ ConvGRU /Users/kahingleung/.julia/packages/Flux/sY3yx/src/optimise/train.jl:136\n"
     ]
    },
    {
     "name": "stdout",
     "output_type": "stream",
     "text": [
      "mse_loss(xtest, ytest) = 1.757043f0\n"
     ]
    },
    {
     "name": "stderr",
     "output_type": "stream",
     "text": [
      "┌ Info: Epoch 21\n",
      "└ @ ConvGRU /Users/kahingleung/.julia/packages/Flux/sY3yx/src/optimise/train.jl:136\n"
     ]
    },
    {
     "name": "stdout",
     "output_type": "stream",
     "text": [
      "mse_loss(xtest, ytest) = 1.7506343f0\n"
     ]
    },
    {
     "name": "stderr",
     "output_type": "stream",
     "text": [
      "┌ Info: Epoch 22\n",
      "└ @ ConvGRU /Users/kahingleung/.julia/packages/Flux/sY3yx/src/optimise/train.jl:136\n"
     ]
    },
    {
     "name": "stdout",
     "output_type": "stream",
     "text": [
      "mse_loss(xtest, ytest) = 1.7574698f0\n"
     ]
    },
    {
     "name": "stderr",
     "output_type": "stream",
     "text": [
      "┌ Info: Epoch 23\n",
      "└ @ ConvGRU /Users/kahingleung/.julia/packages/Flux/sY3yx/src/optimise/train.jl:136\n"
     ]
    },
    {
     "name": "stdout",
     "output_type": "stream",
     "text": [
      "mse_loss(xtest, ytest) = 1.756211f0\n"
     ]
    },
    {
     "name": "stderr",
     "output_type": "stream",
     "text": [
      "┌ Info: Epoch 24\n",
      "└ @ ConvGRU /Users/kahingleung/.julia/packages/Flux/sY3yx/src/optimise/train.jl:136\n",
      "┌ Info: Epoch 25\n",
      "└ @ ConvGRU /Users/kahingleung/.julia/packages/Flux/sY3yx/src/optimise/train.jl:136\n"
     ]
    },
    {
     "name": "stdout",
     "output_type": "stream",
     "text": [
      "mse_loss(xtest, ytest) = 1.7550327f0\n",
      "mse_loss(xtest, ytest) = 1.7597127f0\n"
     ]
    },
    {
     "name": "stderr",
     "output_type": "stream",
     "text": [
      "┌ Info: Epoch 26\n",
      "└ @ ConvGRU /Users/kahingleung/.julia/packages/Flux/sY3yx/src/optimise/train.jl:136\n",
      "┌ Info: Epoch 27\n",
      "└ @ ConvGRU /Users/kahingleung/.julia/packages/Flux/sY3yx/src/optimise/train.jl:136\n"
     ]
    },
    {
     "name": "stdout",
     "output_type": "stream",
     "text": [
      "mse_loss(xtest, ytest) = 1.7537761f0\n",
      "mse_loss(xtest, ytest) = 1.7572362f0\n"
     ]
    },
    {
     "name": "stderr",
     "output_type": "stream",
     "text": [
      "┌ Info: Epoch 28\n",
      "└ @ ConvGRU /Users/kahingleung/.julia/packages/Flux/sY3yx/src/optimise/train.jl:136\n"
     ]
    },
    {
     "name": "stdout",
     "output_type": "stream",
     "text": [
      "mse_loss(xtest, ytest) = 1.774933f0\n"
     ]
    },
    {
     "name": "stderr",
     "output_type": "stream",
     "text": [
      "┌ Info: Epoch 29\n",
      "└ @ ConvGRU /Users/kahingleung/.julia/packages/Flux/sY3yx/src/optimise/train.jl:136\n"
     ]
    },
    {
     "name": "stdout",
     "output_type": "stream",
     "text": [
      "mse_loss(xtest, ytest) = 1.7667329f0\n"
     ]
    },
    {
     "name": "stderr",
     "output_type": "stream",
     "text": [
      "┌ Info: Epoch 30\n",
      "└ @ ConvGRU /Users/kahingleung/.julia/packages/Flux/sY3yx/src/optimise/train.jl:136\n"
     ]
    },
    {
     "name": "stdout",
     "output_type": "stream",
     "text": [
      "(250,)\n",
      "myObjective(df, seqlen, Nh, lr, sym * \"-\" * string(i)) = 1.7532582f0\n",
      "81520.007742636826811269\n",
      "mse_loss(xtest, ytest) = 2.50525f0\n",
      "mse_loss(xtest, ytest) = 2.4126947f0\n"
     ]
    },
    {
     "name": "stderr",
     "output_type": "stream",
     "text": [
      "┌ Info: Epoch 1\n",
      "└ @ ConvGRU /Users/kahingleung/.julia/packages/Flux/sY3yx/src/optimise/train.jl:136\n"
     ]
    },
    {
     "name": "stdout",
     "output_type": "stream",
     "text": [
      "mse_loss(xtest, ytest) = 2.125619f0\n"
     ]
    },
    {
     "name": "stderr",
     "output_type": "stream",
     "text": [
      "┌ Info: Epoch 2\n",
      "└ @ ConvGRU /Users/kahingleung/.julia/packages/Flux/sY3yx/src/optimise/train.jl:136\n"
     ]
    },
    {
     "name": "stdout",
     "output_type": "stream",
     "text": [
      "mse_loss(xtest, ytest) = 2.0822558f0\n"
     ]
    },
    {
     "name": "stderr",
     "output_type": "stream",
     "text": [
      "┌ Info: Epoch 3\n",
      "└ @ ConvGRU /Users/kahingleung/.julia/packages/Flux/sY3yx/src/optimise/train.jl:136\n"
     ]
    },
    {
     "name": "stdout",
     "output_type": "stream",
     "text": [
      "mse_loss(xtest, ytest) = 2.0623186f0\n"
     ]
    },
    {
     "name": "stderr",
     "output_type": "stream",
     "text": [
      "┌ Info: Epoch 4\n",
      "└ @ ConvGRU /Users/kahingleung/.julia/packages/Flux/sY3yx/src/optimise/train.jl:136\n"
     ]
    },
    {
     "name": "stdout",
     "output_type": "stream",
     "text": [
      "mse_loss(xtest, ytest) = 2.0481005f0\n"
     ]
    },
    {
     "name": "stderr",
     "output_type": "stream",
     "text": [
      "┌ Info: Epoch 5\n",
      "└ @ ConvGRU /Users/kahingleung/.julia/packages/Flux/sY3yx/src/optimise/train.jl:136\n"
     ]
    },
    {
     "name": "stdout",
     "output_type": "stream",
     "text": [
      "mse_loss(xtest, ytest) = 2.033131f0\n"
     ]
    },
    {
     "name": "stderr",
     "output_type": "stream",
     "text": [
      "┌ Info: Epoch 6\n",
      "└ @ ConvGRU /Users/kahingleung/.julia/packages/Flux/sY3yx/src/optimise/train.jl:136\n"
     ]
    },
    {
     "name": "stdout",
     "output_type": "stream",
     "text": [
      "mse_loss(xtest, ytest) = 2.030957f0\n"
     ]
    },
    {
     "name": "stderr",
     "output_type": "stream",
     "text": [
      "┌ Info: Epoch 7\n",
      "└ @ ConvGRU /Users/kahingleung/.julia/packages/Flux/sY3yx/src/optimise/train.jl:136\n"
     ]
    },
    {
     "name": "stdout",
     "output_type": "stream",
     "text": [
      "mse_loss(xtest, ytest) = 2.019296f0\n"
     ]
    },
    {
     "name": "stderr",
     "output_type": "stream",
     "text": [
      "┌ Info: Epoch 8\n",
      "└ @ ConvGRU /Users/kahingleung/.julia/packages/Flux/sY3yx/src/optimise/train.jl:136\n"
     ]
    },
    {
     "name": "stdout",
     "output_type": "stream",
     "text": [
      "mse_loss(xtest, ytest) = 1.9827963f0\n"
     ]
    },
    {
     "name": "stderr",
     "output_type": "stream",
     "text": [
      "┌ Info: Epoch 9\n",
      "└ @ ConvGRU /Users/kahingleung/.julia/packages/Flux/sY3yx/src/optimise/train.jl:136\n"
     ]
    },
    {
     "name": "stdout",
     "output_type": "stream",
     "text": [
      "mse_loss(xtest, ytest) = 1.9842479f0\n"
     ]
    },
    {
     "name": "stderr",
     "output_type": "stream",
     "text": [
      "┌ Info: Epoch 10\n",
      "└ @ ConvGRU /Users/kahingleung/.julia/packages/Flux/sY3yx/src/optimise/train.jl:136\n"
     ]
    },
    {
     "name": "stdout",
     "output_type": "stream",
     "text": [
      "mse_loss(xtest, ytest) = 1.9209118f0\n"
     ]
    },
    {
     "name": "stderr",
     "output_type": "stream",
     "text": [
      "┌ Info: Epoch 11\n",
      "└ @ ConvGRU /Users/kahingleung/.julia/packages/Flux/sY3yx/src/optimise/train.jl:136\n"
     ]
    },
    {
     "name": "stdout",
     "output_type": "stream",
     "text": [
      "mse_loss(xtest, ytest) = 1.8888279f0\n"
     ]
    },
    {
     "name": "stderr",
     "output_type": "stream",
     "text": [
      "┌ Info: Epoch 12\n",
      "└ @ ConvGRU /Users/kahingleung/.julia/packages/Flux/sY3yx/src/optimise/train.jl:136\n"
     ]
    },
    {
     "name": "stdout",
     "output_type": "stream",
     "text": [
      "mse_loss(xtest, ytest) = 1.8519208f0\n"
     ]
    },
    {
     "name": "stderr",
     "output_type": "stream",
     "text": [
      "┌ Info: Epoch 13\n",
      "└ @ ConvGRU /Users/kahingleung/.julia/packages/Flux/sY3yx/src/optimise/train.jl:136\n",
      "┌ Info: Epoch 14\n",
      "└ @ ConvGRU /Users/kahingleung/.julia/packages/Flux/sY3yx/src/optimise/train.jl:136\n"
     ]
    },
    {
     "name": "stdout",
     "output_type": "stream",
     "text": [
      "mse_loss(xtest, ytest) = 1.8428622f0\n",
      "mse_loss(xtest, ytest) = 1.8173039f0\n"
     ]
    },
    {
     "name": "stderr",
     "output_type": "stream",
     "text": [
      "┌ Info: Epoch 15\n",
      "└ @ ConvGRU /Users/kahingleung/.julia/packages/Flux/sY3yx/src/optimise/train.jl:136\n"
     ]
    },
    {
     "name": "stdout",
     "output_type": "stream",
     "text": [
      "mse_loss(xtest, ytest) = 1.8035178f0\n"
     ]
    },
    {
     "name": "stderr",
     "output_type": "stream",
     "text": [
      "┌ Info: Epoch 16\n",
      "└ @ ConvGRU /Users/kahingleung/.julia/packages/Flux/sY3yx/src/optimise/train.jl:136\n"
     ]
    },
    {
     "name": "stdout",
     "output_type": "stream",
     "text": [
      "mse_loss(xtest, ytest) = 1.8033786f0\n"
     ]
    },
    {
     "name": "stderr",
     "output_type": "stream",
     "text": [
      "┌ Info: Epoch 17\n",
      "└ @ ConvGRU /Users/kahingleung/.julia/packages/Flux/sY3yx/src/optimise/train.jl:136\n"
     ]
    },
    {
     "name": "stdout",
     "output_type": "stream",
     "text": [
      "mse_loss(xtest, ytest) = 1.7618734f0\n"
     ]
    },
    {
     "name": "stderr",
     "output_type": "stream",
     "text": [
      "┌ Info: Epoch 18\n",
      "└ @ ConvGRU /Users/kahingleung/.julia/packages/Flux/sY3yx/src/optimise/train.jl:136\n"
     ]
    },
    {
     "name": "stdout",
     "output_type": "stream",
     "text": [
      "mse_loss(xtest, ytest) = 1.8829191f0\n"
     ]
    },
    {
     "name": "stderr",
     "output_type": "stream",
     "text": [
      "┌ Info: Epoch 19\n",
      "└ @ ConvGRU /Users/kahingleung/.julia/packages/Flux/sY3yx/src/optimise/train.jl:136\n"
     ]
    },
    {
     "name": "stdout",
     "output_type": "stream",
     "text": [
      "mse_loss(xtest, ytest) = 1.7549298f0\n"
     ]
    },
    {
     "name": "stderr",
     "output_type": "stream",
     "text": [
      "┌ Info: Epoch 20\n",
      "└ @ ConvGRU /Users/kahingleung/.julia/packages/Flux/sY3yx/src/optimise/train.jl:136\n"
     ]
    },
    {
     "name": "stdout",
     "output_type": "stream",
     "text": [
      "mse_loss(xtest, ytest) = 1.7333429f0\n"
     ]
    },
    {
     "name": "stderr",
     "output_type": "stream",
     "text": [
      "┌ Info: Epoch 21\n",
      "└ @ ConvGRU /Users/kahingleung/.julia/packages/Flux/sY3yx/src/optimise/train.jl:136\n"
     ]
    },
    {
     "name": "stdout",
     "output_type": "stream",
     "text": [
      "mse_loss(xtest, ytest) = 1.7528048f0\n"
     ]
    },
    {
     "name": "stderr",
     "output_type": "stream",
     "text": [
      "┌ Info: Epoch 22\n",
      "└ @ ConvGRU /Users/kahingleung/.julia/packages/Flux/sY3yx/src/optimise/train.jl:136\n"
     ]
    },
    {
     "name": "stdout",
     "output_type": "stream",
     "text": [
      "mse_loss(xtest, ytest) = 1.7190242f0\n"
     ]
    },
    {
     "name": "stderr",
     "output_type": "stream",
     "text": [
      "┌ Info: Epoch 23\n",
      "└ @ ConvGRU /Users/kahingleung/.julia/packages/Flux/sY3yx/src/optimise/train.jl:136\n"
     ]
    },
    {
     "name": "stdout",
     "output_type": "stream",
     "text": [
      "mse_loss(xtest, ytest) = 1.713099f0\n"
     ]
    },
    {
     "name": "stderr",
     "output_type": "stream",
     "text": [
      "┌ Info: Epoch 24\n",
      "└ @ ConvGRU /Users/kahingleung/.julia/packages/Flux/sY3yx/src/optimise/train.jl:136\n"
     ]
    },
    {
     "name": "stdout",
     "output_type": "stream",
     "text": [
      "mse_loss(xtest, ytest) = 1.723871f0\n"
     ]
    },
    {
     "name": "stderr",
     "output_type": "stream",
     "text": [
      "┌ Info: Epoch 25\n",
      "└ @ ConvGRU /Users/kahingleung/.julia/packages/Flux/sY3yx/src/optimise/train.jl:136\n",
      "┌ Info: Epoch 26\n",
      "└ @ ConvGRU /Users/kahingleung/.julia/packages/Flux/sY3yx/src/optimise/train.jl:136\n"
     ]
    },
    {
     "name": "stdout",
     "output_type": "stream",
     "text": [
      "mse_loss(xtest, ytest) = 1.7463399f0\n",
      "mse_loss(xtest, ytest) = 1.6989839f0\n"
     ]
    },
    {
     "name": "stderr",
     "output_type": "stream",
     "text": [
      "┌ Info: Epoch 27\n",
      "└ @ ConvGRU /Users/kahingleung/.julia/packages/Flux/sY3yx/src/optimise/train.jl:136\n"
     ]
    },
    {
     "name": "stdout",
     "output_type": "stream",
     "text": [
      "mse_loss(xtest, ytest) = 1.7002181f0\n"
     ]
    },
    {
     "name": "stderr",
     "output_type": "stream",
     "text": [
      "┌ Info: Epoch 28\n",
      "└ @ ConvGRU /Users/kahingleung/.julia/packages/Flux/sY3yx/src/optimise/train.jl:136\n"
     ]
    },
    {
     "name": "stdout",
     "output_type": "stream",
     "text": [
      "mse_loss(xtest, ytest) = 1.739016f0\n"
     ]
    },
    {
     "name": "stderr",
     "output_type": "stream",
     "text": [
      "┌ Info: Epoch 29\n",
      "└ @ ConvGRU /Users/kahingleung/.julia/packages/Flux/sY3yx/src/optimise/train.jl:136\n"
     ]
    },
    {
     "name": "stdout",
     "output_type": "stream",
     "text": [
      "mse_loss(xtest, ytest) = 1.7586565f0\n"
     ]
    },
    {
     "name": "stderr",
     "output_type": "stream",
     "text": [
      "┌ Info: Epoch 30\n",
      "└ @ ConvGRU /Users/kahingleung/.julia/packages/Flux/sY3yx/src/optimise/train.jl:136\n"
     ]
    },
    {
     "name": "stdout",
     "output_type": "stream",
     "text": [
      "(250,)\n",
      "myObjective(df, seqlen, Nh, lr, sym * \"-\" * string(i)) = 1.7098087f0\n",
      "91080.007742636826811269\n",
      "mse_loss(xtest, ytest) = 2.167113f0\n",
      "mse_loss(xtest, ytest) = 2.0373085f0\n"
     ]
    },
    {
     "name": "stderr",
     "output_type": "stream",
     "text": [
      "┌ Info: Epoch 1\n",
      "└ @ ConvGRU /Users/kahingleung/.julia/packages/Flux/sY3yx/src/optimise/train.jl:136\n"
     ]
    },
    {
     "name": "stdout",
     "output_type": "stream",
     "text": [
      "mse_loss(xtest, ytest) = 1.8635601f0\n"
     ]
    },
    {
     "name": "stderr",
     "output_type": "stream",
     "text": [
      "┌ Info: Epoch 2\n",
      "└ @ ConvGRU /Users/kahingleung/.julia/packages/Flux/sY3yx/src/optimise/train.jl:136\n"
     ]
    },
    {
     "name": "stdout",
     "output_type": "stream",
     "text": [
      "mse_loss(xtest, ytest) = 1.7368863f0\n"
     ]
    },
    {
     "name": "stderr",
     "output_type": "stream",
     "text": [
      "┌ Info: Epoch 3\n",
      "└ @ ConvGRU /Users/kahingleung/.julia/packages/Flux/sY3yx/src/optimise/train.jl:136\n"
     ]
    },
    {
     "name": "stdout",
     "output_type": "stream",
     "text": [
      "mse_loss(xtest, ytest) = 1.7387382f0\n"
     ]
    },
    {
     "name": "stderr",
     "output_type": "stream",
     "text": [
      "┌ Info: Epoch 4\n",
      "└ @ ConvGRU /Users/kahingleung/.julia/packages/Flux/sY3yx/src/optimise/train.jl:136\n"
     ]
    },
    {
     "name": "stdout",
     "output_type": "stream",
     "text": [
      "mse_loss(xtest, ytest) = 1.7584637f0\n"
     ]
    },
    {
     "name": "stderr",
     "output_type": "stream",
     "text": [
      "┌ Info: Epoch 5\n",
      "└ @ ConvGRU /Users/kahingleung/.julia/packages/Flux/sY3yx/src/optimise/train.jl:136\n"
     ]
    },
    {
     "name": "stdout",
     "output_type": "stream",
     "text": [
      "mse_loss(xtest, ytest) = 1.7741716f0\n"
     ]
    },
    {
     "name": "stderr",
     "output_type": "stream",
     "text": [
      "┌ Info: Epoch 6\n",
      "└ @ ConvGRU /Users/kahingleung/.julia/packages/Flux/sY3yx/src/optimise/train.jl:136\n"
     ]
    },
    {
     "name": "stdout",
     "output_type": "stream",
     "text": [
      "mse_loss(xtest, ytest) = 1.753364f0\n"
     ]
    },
    {
     "name": "stderr",
     "output_type": "stream",
     "text": [
      "┌ Info: Epoch 7\n",
      "└ @ ConvGRU /Users/kahingleung/.julia/packages/Flux/sY3yx/src/optimise/train.jl:136\n"
     ]
    },
    {
     "name": "stdout",
     "output_type": "stream",
     "text": [
      "mse_loss(xtest, ytest) = 1.6186689f0\n"
     ]
    },
    {
     "name": "stderr",
     "output_type": "stream",
     "text": [
      "┌ Info: Epoch 8\n",
      "└ @ ConvGRU /Users/kahingleung/.julia/packages/Flux/sY3yx/src/optimise/train.jl:136\n"
     ]
    },
    {
     "name": "stdout",
     "output_type": "stream",
     "text": [
      "mse_loss(xtest, ytest) = 1.6347728f0\n"
     ]
    },
    {
     "name": "stderr",
     "output_type": "stream",
     "text": [
      "┌ Info: Epoch 9\n",
      "└ @ ConvGRU /Users/kahingleung/.julia/packages/Flux/sY3yx/src/optimise/train.jl:136\n"
     ]
    },
    {
     "name": "stdout",
     "output_type": "stream",
     "text": [
      "mse_loss(xtest, ytest) = 1.646501f0\n"
     ]
    },
    {
     "name": "stderr",
     "output_type": "stream",
     "text": [
      "┌ Info: Epoch 10\n",
      "└ @ ConvGRU /Users/kahingleung/.julia/packages/Flux/sY3yx/src/optimise/train.jl:136\n",
      "┌ Info: Epoch 11\n",
      "└ @ ConvGRU /Users/kahingleung/.julia/packages/Flux/sY3yx/src/optimise/train.jl:136\n"
     ]
    },
    {
     "name": "stdout",
     "output_type": "stream",
     "text": [
      "mse_loss(xtest, ytest) = 1.6691809f0\n",
      "mse_loss(xtest, ytest) = 1.671667f0\n"
     ]
    },
    {
     "name": "stderr",
     "output_type": "stream",
     "text": [
      "┌ Info: Epoch 12\n",
      "└ @ ConvGRU /Users/kahingleung/.julia/packages/Flux/sY3yx/src/optimise/train.jl:136\n"
     ]
    },
    {
     "name": "stdout",
     "output_type": "stream",
     "text": [
      "mse_loss(xtest, ytest) = 1.7562543f0\n"
     ]
    },
    {
     "name": "stderr",
     "output_type": "stream",
     "text": [
      "┌ Info: Epoch 13\n",
      "└ @ ConvGRU /Users/kahingleung/.julia/packages/Flux/sY3yx/src/optimise/train.jl:136\n",
      "┌ Info: Epoch 14\n",
      "└ @ ConvGRU /Users/kahingleung/.julia/packages/Flux/sY3yx/src/optimise/train.jl:136\n"
     ]
    },
    {
     "name": "stdout",
     "output_type": "stream",
     "text": [
      "mse_loss(xtest, ytest) = 1.7130686f0\n"
     ]
    },
    {
     "name": "stderr",
     "output_type": "stream",
     "text": [
      "┌ Info: Epoch 15\n",
      "└ @ ConvGRU /Users/kahingleung/.julia/packages/Flux/sY3yx/src/optimise/train.jl:136\n"
     ]
    },
    {
     "name": "stdout",
     "output_type": "stream",
     "text": [
      "mse_loss(xtest, ytest) = 1.6410954f0\n",
      "mse_loss(xtest, ytest) = 1.6451266f0\n"
     ]
    },
    {
     "name": "stderr",
     "output_type": "stream",
     "text": [
      "┌ Info: Epoch 16\n",
      "└ @ ConvGRU /Users/kahingleung/.julia/packages/Flux/sY3yx/src/optimise/train.jl:136\n"
     ]
    },
    {
     "name": "stdout",
     "output_type": "stream",
     "text": [
      "mse_loss(xtest, ytest) = 1.803853f0\n"
     ]
    },
    {
     "name": "stderr",
     "output_type": "stream",
     "text": [
      "┌ Info: Epoch 17\n",
      "└ @ ConvGRU /Users/kahingleung/.julia/packages/Flux/sY3yx/src/optimise/train.jl:136\n",
      "┌ Info: Epoch 18\n",
      "└ @ ConvGRU /Users/kahingleung/.julia/packages/Flux/sY3yx/src/optimise/train.jl:136\n"
     ]
    },
    {
     "name": "stdout",
     "output_type": "stream",
     "text": [
      "mse_loss(xtest, ytest) = 1.6847736f0\n",
      "mse_loss(xtest, ytest) = 1.638373f0\n"
     ]
    },
    {
     "name": "stderr",
     "output_type": "stream",
     "text": [
      "┌ Info: Epoch 19\n",
      "└ @ ConvGRU /Users/kahingleung/.julia/packages/Flux/sY3yx/src/optimise/train.jl:136\n"
     ]
    },
    {
     "name": "stdout",
     "output_type": "stream",
     "text": [
      "mse_loss(xtest, ytest) = 1.6651716f0\n"
     ]
    },
    {
     "name": "stderr",
     "output_type": "stream",
     "text": [
      "┌ Info: Epoch 20\n",
      "└ @ ConvGRU /Users/kahingleung/.julia/packages/Flux/sY3yx/src/optimise/train.jl:136\n"
     ]
    },
    {
     "name": "stdout",
     "output_type": "stream",
     "text": [
      "mse_loss(xtest, ytest) = 1.6555016f0\n"
     ]
    },
    {
     "name": "stderr",
     "output_type": "stream",
     "text": [
      "┌ Info: Epoch 21\n",
      "└ @ ConvGRU /Users/kahingleung/.julia/packages/Flux/sY3yx/src/optimise/train.jl:136\n"
     ]
    },
    {
     "name": "stdout",
     "output_type": "stream",
     "text": [
      "mse_loss(xtest, ytest) = 1.7254056f0\n"
     ]
    },
    {
     "name": "stderr",
     "output_type": "stream",
     "text": [
      "┌ Info: Epoch 22\n",
      "└ @ ConvGRU /Users/kahingleung/.julia/packages/Flux/sY3yx/src/optimise/train.jl:136\n"
     ]
    },
    {
     "name": "stdout",
     "output_type": "stream",
     "text": [
      "mse_loss(xtest, ytest) = 1.6878325f0\n"
     ]
    },
    {
     "name": "stderr",
     "output_type": "stream",
     "text": [
      "┌ Info: Epoch 23\n",
      "└ @ ConvGRU /Users/kahingleung/.julia/packages/Flux/sY3yx/src/optimise/train.jl:136\n"
     ]
    },
    {
     "name": "stdout",
     "output_type": "stream",
     "text": [
      "mse_loss(xtest, ytest) = 1.6297492f0\n"
     ]
    },
    {
     "name": "stderr",
     "output_type": "stream",
     "text": [
      "┌ Info: Epoch 24\n",
      "└ @ ConvGRU /Users/kahingleung/.julia/packages/Flux/sY3yx/src/optimise/train.jl:136\n"
     ]
    },
    {
     "name": "stdout",
     "output_type": "stream",
     "text": [
      "mse_loss(xtest, ytest) = 1.7089376f0\n"
     ]
    },
    {
     "name": "stderr",
     "output_type": "stream",
     "text": [
      "┌ Info: Epoch 25\n",
      "└ @ ConvGRU /Users/kahingleung/.julia/packages/Flux/sY3yx/src/optimise/train.jl:136\n",
      "┌ Info: Epoch 26\n",
      "└ @ ConvGRU /Users/kahingleung/.julia/packages/Flux/sY3yx/src/optimise/train.jl:136\n"
     ]
    },
    {
     "name": "stdout",
     "output_type": "stream",
     "text": [
      "mse_loss(xtest, ytest) = 1.7413846f0\n",
      "mse_loss(xtest, ytest) = 1.6509657f0\n"
     ]
    },
    {
     "name": "stderr",
     "output_type": "stream",
     "text": [
      "┌ Info: Epoch 27\n",
      "└ @ ConvGRU /Users/kahingleung/.julia/packages/Flux/sY3yx/src/optimise/train.jl:136\n"
     ]
    },
    {
     "name": "stdout",
     "output_type": "stream",
     "text": [
      "mse_loss(xtest, ytest) = 1.6433535f0\n"
     ]
    },
    {
     "name": "stderr",
     "output_type": "stream",
     "text": [
      "┌ Info: Epoch 28\n",
      "└ @ ConvGRU /Users/kahingleung/.julia/packages/Flux/sY3yx/src/optimise/train.jl:136\n",
      "┌ Info: Epoch 29\n",
      "└ @ ConvGRU /Users/kahingleung/.julia/packages/Flux/sY3yx/src/optimise/train.jl:136\n"
     ]
    },
    {
     "name": "stdout",
     "output_type": "stream",
     "text": [
      "mse_loss(xtest, ytest) = 1.6334759f0\n"
     ]
    },
    {
     "name": "stderr",
     "output_type": "stream",
     "text": [
      "┌ Info: Epoch 30\n",
      "└ @ ConvGRU /Users/kahingleung/.julia/packages/Flux/sY3yx/src/optimise/train.jl:136\n"
     ]
    },
    {
     "name": "stdout",
     "output_type": "stream",
     "text": [
      "mse_loss(xtest, ytest) = 1.6841027f0\n",
      "(250,)\n",
      "myObjective(df, seqlen, Nh, lr, sym * \"-\" * string(i)) = 1.6492916f0\n",
      "102080.0046415888336127815\n",
      "mse_loss(xtest, ytest) = 2.1194015f0\n",
      "mse_loss(xtest, ytest) = 2.0710433f0\n"
     ]
    },
    {
     "name": "stderr",
     "output_type": "stream",
     "text": [
      "┌ Info: Epoch 1\n",
      "└ @ ConvGRU /Users/kahingleung/.julia/packages/Flux/sY3yx/src/optimise/train.jl:136\n"
     ]
    },
    {
     "name": "stdout",
     "output_type": "stream",
     "text": [
      "mse_loss(xtest, ytest) = 1.9905423f0\n"
     ]
    },
    {
     "name": "stderr",
     "output_type": "stream",
     "text": [
      "┌ Info: Epoch 2\n",
      "└ @ ConvGRU /Users/kahingleung/.julia/packages/Flux/sY3yx/src/optimise/train.jl:136\n"
     ]
    },
    {
     "name": "stdout",
     "output_type": "stream",
     "text": [
      "mse_loss(xtest, ytest) = 1.9000955f0\n"
     ]
    },
    {
     "name": "stderr",
     "output_type": "stream",
     "text": [
      "┌ Info: Epoch 3\n",
      "└ @ ConvGRU /Users/kahingleung/.julia/packages/Flux/sY3yx/src/optimise/train.jl:136\n",
      "┌ Info: Epoch 4\n",
      "└ @ ConvGRU /Users/kahingleung/.julia/packages/Flux/sY3yx/src/optimise/train.jl:136\n"
     ]
    },
    {
     "name": "stdout",
     "output_type": "stream",
     "text": [
      "mse_loss(xtest, ytest) = 1.9893817f0\n",
      "mse_loss(xtest, ytest) = 1.9133971f0\n"
     ]
    },
    {
     "name": "stderr",
     "output_type": "stream",
     "text": [
      "┌ Info: Epoch 5\n",
      "└ @ ConvGRU /Users/kahingleung/.julia/packages/Flux/sY3yx/src/optimise/train.jl:136\n",
      "┌ Info: Epoch 6\n",
      "└ @ ConvGRU /Users/kahingleung/.julia/packages/Flux/sY3yx/src/optimise/train.jl:136\n"
     ]
    },
    {
     "name": "stdout",
     "output_type": "stream",
     "text": [
      "mse_loss(xtest, ytest) = 1.7040793f0\n",
      "mse_loss(xtest, ytest) = 1.6625704f0\n"
     ]
    },
    {
     "name": "stderr",
     "output_type": "stream",
     "text": [
      "┌ Info: Epoch 7\n",
      "└ @ ConvGRU /Users/kahingleung/.julia/packages/Flux/sY3yx/src/optimise/train.jl:136\n",
      "┌ Info: Epoch 8\n",
      "└ @ ConvGRU /Users/kahingleung/.julia/packages/Flux/sY3yx/src/optimise/train.jl:136\n"
     ]
    },
    {
     "name": "stdout",
     "output_type": "stream",
     "text": [
      "mse_loss(xtest, ytest) = 1.7947268f0\n",
      "mse_loss(xtest, ytest) = 1.7076694f0\n"
     ]
    },
    {
     "name": "stderr",
     "output_type": "stream",
     "text": [
      "┌ Info: Epoch 9\n",
      "└ @ ConvGRU /Users/kahingleung/.julia/packages/Flux/sY3yx/src/optimise/train.jl:136\n",
      "┌ Info: Epoch 10\n",
      "└ @ ConvGRU /Users/kahingleung/.julia/packages/Flux/sY3yx/src/optimise/train.jl:136\n"
     ]
    },
    {
     "name": "stdout",
     "output_type": "stream",
     "text": [
      "mse_loss(xtest, ytest) = 1.711377f0\n",
      "mse_loss(xtest, ytest) = 1.6201367f0\n"
     ]
    },
    {
     "name": "stderr",
     "output_type": "stream",
     "text": [
      "┌ Info: Epoch 11\n",
      "└ @ ConvGRU /Users/kahingleung/.julia/packages/Flux/sY3yx/src/optimise/train.jl:136\n"
     ]
    },
    {
     "name": "stdout",
     "output_type": "stream",
     "text": [
      "mse_loss(xtest, ytest) = 1.6727653f0\n"
     ]
    },
    {
     "name": "stderr",
     "output_type": "stream",
     "text": [
      "┌ Info: Epoch 12\n",
      "└ @ ConvGRU /Users/kahingleung/.julia/packages/Flux/sY3yx/src/optimise/train.jl:136\n",
      "┌ Info: Epoch 13\n",
      "└ @ ConvGRU /Users/kahingleung/.julia/packages/Flux/sY3yx/src/optimise/train.jl:136\n"
     ]
    },
    {
     "name": "stdout",
     "output_type": "stream",
     "text": [
      "mse_loss(xtest, ytest) = 1.70913f0\n",
      "mse_loss(xtest, ytest) = 1.7085955f0\n"
     ]
    },
    {
     "name": "stderr",
     "output_type": "stream",
     "text": [
      "┌ Info: Epoch 14\n",
      "└ @ ConvGRU /Users/kahingleung/.julia/packages/Flux/sY3yx/src/optimise/train.jl:136\n"
     ]
    },
    {
     "name": "stdout",
     "output_type": "stream",
     "text": [
      "mse_loss(xtest, ytest) = 1.7757279f0\n"
     ]
    },
    {
     "name": "stderr",
     "output_type": "stream",
     "text": [
      "┌ Info: Epoch 15\n",
      "└ @ ConvGRU /Users/kahingleung/.julia/packages/Flux/sY3yx/src/optimise/train.jl:136\n"
     ]
    },
    {
     "name": "stdout",
     "output_type": "stream",
     "text": [
      "mse_loss(xtest, ytest) = 1.8100344f0\n"
     ]
    },
    {
     "name": "stderr",
     "output_type": "stream",
     "text": [
      "┌ Info: Epoch 16\n",
      "└ @ ConvGRU /Users/kahingleung/.julia/packages/Flux/sY3yx/src/optimise/train.jl:136\n",
      "┌ Info: Epoch 17\n",
      "└ @ ConvGRU /Users/kahingleung/.julia/packages/Flux/sY3yx/src/optimise/train.jl:136\n"
     ]
    },
    {
     "name": "stdout",
     "output_type": "stream",
     "text": [
      "mse_loss(xtest, ytest) = 1.8329731f0\n",
      "mse_loss(xtest, ytest) = 2.1179798f0\n"
     ]
    },
    {
     "name": "stderr",
     "output_type": "stream",
     "text": [
      "┌ Info: Epoch 18\n",
      "└ @ ConvGRU /Users/kahingleung/.julia/packages/Flux/sY3yx/src/optimise/train.jl:136\n"
     ]
    },
    {
     "name": "stdout",
     "output_type": "stream",
     "text": [
      "mse_loss(xtest, ytest) = 1.8719336f0\n"
     ]
    },
    {
     "name": "stderr",
     "output_type": "stream",
     "text": [
      "┌ Info: Epoch 19\n",
      "└ @ ConvGRU /Users/kahingleung/.julia/packages/Flux/sY3yx/src/optimise/train.jl:136\n"
     ]
    },
    {
     "name": "stdout",
     "output_type": "stream",
     "text": [
      "mse_loss(xtest, ytest) = 1.6441063f0\n"
     ]
    },
    {
     "name": "stderr",
     "output_type": "stream",
     "text": [
      "┌ Info: Epoch 20\n",
      "└ @ ConvGRU /Users/kahingleung/.julia/packages/Flux/sY3yx/src/optimise/train.jl:136\n",
      "┌ Info: Epoch 21\n",
      "└ @ ConvGRU /Users/kahingleung/.julia/packages/Flux/sY3yx/src/optimise/train.jl:136\n"
     ]
    },
    {
     "name": "stdout",
     "output_type": "stream",
     "text": [
      "mse_loss(xtest, ytest) = 1.805615f0\n",
      "mse_loss(xtest, ytest) = 1.7211056f0\n"
     ]
    },
    {
     "name": "stderr",
     "output_type": "stream",
     "text": [
      "┌ Info: Epoch 22\n",
      "└ @ ConvGRU /Users/kahingleung/.julia/packages/Flux/sY3yx/src/optimise/train.jl:136\n"
     ]
    },
    {
     "name": "stdout",
     "output_type": "stream",
     "text": [
      "mse_loss(xtest, ytest) = 1.748028f0\n"
     ]
    },
    {
     "name": "stderr",
     "output_type": "stream",
     "text": [
      "┌ Info: Epoch 23\n",
      "└ @ ConvGRU /Users/kahingleung/.julia/packages/Flux/sY3yx/src/optimise/train.jl:136\n"
     ]
    },
    {
     "name": "stdout",
     "output_type": "stream",
     "text": [
      "mse_loss(xtest, ytest) = 2.0072808f0\n"
     ]
    },
    {
     "name": "stderr",
     "output_type": "stream",
     "text": [
      "┌ Info: Epoch 24\n",
      "└ @ ConvGRU /Users/kahingleung/.julia/packages/Flux/sY3yx/src/optimise/train.jl:136\n"
     ]
    },
    {
     "name": "stdout",
     "output_type": "stream",
     "text": [
      "mse_loss(xtest, ytest) = 1.7713795f0\n"
     ]
    },
    {
     "name": "stderr",
     "output_type": "stream",
     "text": [
      "┌ Info: Epoch 25\n",
      "└ @ ConvGRU /Users/kahingleung/.julia/packages/Flux/sY3yx/src/optimise/train.jl:136\n",
      "┌ Info: Epoch 26\n",
      "└ @ ConvGRU /Users/kahingleung/.julia/packages/Flux/sY3yx/src/optimise/train.jl:136\n"
     ]
    },
    {
     "name": "stdout",
     "output_type": "stream",
     "text": [
      "mse_loss(xtest, ytest) = 1.6696815f0\n",
      "mse_loss(xtest, ytest) = 1.7124052f0\n"
     ]
    },
    {
     "name": "stderr",
     "output_type": "stream",
     "text": [
      "┌ Info: Epoch 27\n",
      "└ @ ConvGRU /Users/kahingleung/.julia/packages/Flux/sY3yx/src/optimise/train.jl:136\n"
     ]
    },
    {
     "name": "stdout",
     "output_type": "stream",
     "text": [
      "mse_loss(xtest, ytest) = 1.8331095f0\n"
     ]
    },
    {
     "name": "stderr",
     "output_type": "stream",
     "text": [
      "┌ Info: Epoch 28\n",
      "└ @ ConvGRU /Users/kahingleung/.julia/packages/Flux/sY3yx/src/optimise/train.jl:136\n"
     ]
    },
    {
     "name": "stdout",
     "output_type": "stream",
     "text": [
      "mse_loss(xtest, ytest) = 1.6353465f0\n"
     ]
    },
    {
     "name": "stderr",
     "output_type": "stream",
     "text": [
      "┌ Info: Epoch 29\n",
      "└ @ ConvGRU /Users/kahingleung/.julia/packages/Flux/sY3yx/src/optimise/train.jl:136\n",
      "┌ Info: Epoch 30\n",
      "└ @ ConvGRU /Users/kahingleung/.julia/packages/Flux/sY3yx/src/optimise/train.jl:136\n"
     ]
    },
    {
     "name": "stdout",
     "output_type": "stream",
     "text": [
      "mse_loss(xtest, ytest) = 1.8341612f0\n",
      "(250,)\n",
      "myObjective(df, seqlen, Nh, lr, sym * \"-\" * string(i)) = 1.726389f0\n",
      "112020.0027825594022071257\n",
      "mse_loss(xtest, ytest) = 2.2417328f0\n",
      "mse_loss(xtest, ytest) = 2.2212794f0\n"
     ]
    },
    {
     "name": "stderr",
     "output_type": "stream",
     "text": [
      "┌ Info: Epoch 1\n",
      "└ @ ConvGRU /Users/kahingleung/.julia/packages/Flux/sY3yx/src/optimise/train.jl:136\n",
      "┌ Info: Epoch 2\n",
      "└ @ ConvGRU /Users/kahingleung/.julia/packages/Flux/sY3yx/src/optimise/train.jl:136\n"
     ]
    },
    {
     "name": "stdout",
     "output_type": "stream",
     "text": [
      "mse_loss(xtest, ytest) = 2.1674407f0\n",
      "mse_loss(xtest, ytest) = 2.133476f0\n"
     ]
    },
    {
     "name": "stderr",
     "output_type": "stream",
     "text": [
      "┌ Info: Epoch 3\n",
      "└ @ ConvGRU /Users/kahingleung/.julia/packages/Flux/sY3yx/src/optimise/train.jl:136\n"
     ]
    },
    {
     "name": "stdout",
     "output_type": "stream",
     "text": [
      "mse_loss(xtest, ytest) = 2.1114602f0\n"
     ]
    },
    {
     "name": "stderr",
     "output_type": "stream",
     "text": [
      "┌ Info: Epoch 4\n",
      "└ @ ConvGRU /Users/kahingleung/.julia/packages/Flux/sY3yx/src/optimise/train.jl:136\n"
     ]
    },
    {
     "name": "stdout",
     "output_type": "stream",
     "text": [
      "mse_loss(xtest, ytest) = 2.0965683f0\n"
     ]
    },
    {
     "name": "stderr",
     "output_type": "stream",
     "text": [
      "┌ Info: Epoch 5\n",
      "└ @ ConvGRU /Users/kahingleung/.julia/packages/Flux/sY3yx/src/optimise/train.jl:136\n"
     ]
    },
    {
     "name": "stdout",
     "output_type": "stream",
     "text": [
      "mse_loss(xtest, ytest) = 2.077413f0\n"
     ]
    },
    {
     "name": "stderr",
     "output_type": "stream",
     "text": [
      "┌ Info: Epoch 6\n",
      "└ @ ConvGRU /Users/kahingleung/.julia/packages/Flux/sY3yx/src/optimise/train.jl:136\n"
     ]
    },
    {
     "name": "stdout",
     "output_type": "stream",
     "text": [
      "mse_loss(xtest, ytest) = 2.0597293f0\n"
     ]
    },
    {
     "name": "stderr",
     "output_type": "stream",
     "text": [
      "┌ Info: Epoch 7\n",
      "└ @ ConvGRU /Users/kahingleung/.julia/packages/Flux/sY3yx/src/optimise/train.jl:136\n",
      "┌ Info: Epoch 8\n",
      "└ @ ConvGRU /Users/kahingleung/.julia/packages/Flux/sY3yx/src/optimise/train.jl:136\n"
     ]
    },
    {
     "name": "stdout",
     "output_type": "stream",
     "text": [
      "mse_loss(xtest, ytest) = 2.0514722f0\n",
      "mse_loss(xtest, ytest) = 2.04475f0\n"
     ]
    },
    {
     "name": "stderr",
     "output_type": "stream",
     "text": [
      "┌ Info: Epoch 9\n",
      "└ @ ConvGRU /Users/kahingleung/.julia/packages/Flux/sY3yx/src/optimise/train.jl:136\n"
     ]
    },
    {
     "name": "stdout",
     "output_type": "stream",
     "text": [
      "mse_loss(xtest, ytest) = 2.0236242f0\n"
     ]
    },
    {
     "name": "stderr",
     "output_type": "stream",
     "text": [
      "┌ Info: Epoch 10\n",
      "└ @ ConvGRU /Users/kahingleung/.julia/packages/Flux/sY3yx/src/optimise/train.jl:136\n"
     ]
    },
    {
     "name": "stdout",
     "output_type": "stream",
     "text": [
      "mse_loss(xtest, ytest) = 1.9873526f0\n"
     ]
    },
    {
     "name": "stderr",
     "output_type": "stream",
     "text": [
      "┌ Info: Epoch 11\n",
      "└ @ ConvGRU /Users/kahingleung/.julia/packages/Flux/sY3yx/src/optimise/train.jl:136\n"
     ]
    },
    {
     "name": "stdout",
     "output_type": "stream",
     "text": [
      "mse_loss(xtest, ytest) = 1.9586743f0\n"
     ]
    },
    {
     "name": "stderr",
     "output_type": "stream",
     "text": [
      "┌ Info: Epoch 12\n",
      "└ @ ConvGRU /Users/kahingleung/.julia/packages/Flux/sY3yx/src/optimise/train.jl:136\n"
     ]
    },
    {
     "name": "stdout",
     "output_type": "stream",
     "text": [
      "mse_loss(xtest, ytest) = 1.908557f0\n"
     ]
    },
    {
     "name": "stderr",
     "output_type": "stream",
     "text": [
      "┌ Info: Epoch 13\n",
      "└ @ ConvGRU /Users/kahingleung/.julia/packages/Flux/sY3yx/src/optimise/train.jl:136\n"
     ]
    },
    {
     "name": "stdout",
     "output_type": "stream",
     "text": [
      "mse_loss(xtest, ytest) = 1.8630637f0\n"
     ]
    },
    {
     "name": "stderr",
     "output_type": "stream",
     "text": [
      "┌ Info: Epoch 14\n",
      "└ @ ConvGRU /Users/kahingleung/.julia/packages/Flux/sY3yx/src/optimise/train.jl:136\n"
     ]
    },
    {
     "name": "stdout",
     "output_type": "stream",
     "text": [
      "mse_loss(xtest, ytest) = 1.8189096f0\n"
     ]
    },
    {
     "name": "stderr",
     "output_type": "stream",
     "text": [
      "┌ Info: Epoch 15\n",
      "└ @ ConvGRU /Users/kahingleung/.julia/packages/Flux/sY3yx/src/optimise/train.jl:136\n"
     ]
    },
    {
     "name": "stdout",
     "output_type": "stream",
     "text": [
      "mse_loss(xtest, ytest) = 1.8097973f0\n"
     ]
    },
    {
     "name": "stderr",
     "output_type": "stream",
     "text": [
      "┌ Info: Epoch 16\n",
      "└ @ ConvGRU /Users/kahingleung/.julia/packages/Flux/sY3yx/src/optimise/train.jl:136\n"
     ]
    },
    {
     "name": "stdout",
     "output_type": "stream",
     "text": [
      "mse_loss(xtest, ytest) = 1.7784619f0\n"
     ]
    },
    {
     "name": "stderr",
     "output_type": "stream",
     "text": [
      "┌ Info: Epoch 17\n",
      "└ @ ConvGRU /Users/kahingleung/.julia/packages/Flux/sY3yx/src/optimise/train.jl:136\n"
     ]
    },
    {
     "name": "stdout",
     "output_type": "stream",
     "text": [
      "mse_loss(xtest, ytest) = 1.7702045f0\n"
     ]
    },
    {
     "name": "stderr",
     "output_type": "stream",
     "text": [
      "┌ Info: Epoch 18\n",
      "└ @ ConvGRU /Users/kahingleung/.julia/packages/Flux/sY3yx/src/optimise/train.jl:136\n"
     ]
    },
    {
     "name": "stdout",
     "output_type": "stream",
     "text": [
      "mse_loss(xtest, ytest) = 1.7545947f0\n"
     ]
    },
    {
     "name": "stderr",
     "output_type": "stream",
     "text": [
      "┌ Info: Epoch 19\n",
      "└ @ ConvGRU /Users/kahingleung/.julia/packages/Flux/sY3yx/src/optimise/train.jl:136\n"
     ]
    },
    {
     "name": "stdout",
     "output_type": "stream",
     "text": [
      "mse_loss(xtest, ytest) = 1.7397137f0\n"
     ]
    },
    {
     "name": "stderr",
     "output_type": "stream",
     "text": [
      "┌ Info: Epoch 20\n",
      "└ @ ConvGRU /Users/kahingleung/.julia/packages/Flux/sY3yx/src/optimise/train.jl:136\n",
      "┌ Info: Epoch 21\n",
      "└ @ ConvGRU /Users/kahingleung/.julia/packages/Flux/sY3yx/src/optimise/train.jl:136\n"
     ]
    },
    {
     "name": "stdout",
     "output_type": "stream",
     "text": [
      "mse_loss(xtest, ytest) = 1.7456013f0\n",
      "mse_loss(xtest, ytest) = 1.7240022f0\n"
     ]
    },
    {
     "name": "stderr",
     "output_type": "stream",
     "text": [
      "┌ Info: Epoch 22\n",
      "└ @ ConvGRU /Users/kahingleung/.julia/packages/Flux/sY3yx/src/optimise/train.jl:136\n"
     ]
    },
    {
     "name": "stdout",
     "output_type": "stream",
     "text": [
      "mse_loss(xtest, ytest) = 1.7289584f0\n"
     ]
    },
    {
     "name": "stderr",
     "output_type": "stream",
     "text": [
      "┌ Info: Epoch 23\n",
      "└ @ ConvGRU /Users/kahingleung/.julia/packages/Flux/sY3yx/src/optimise/train.jl:136\n"
     ]
    },
    {
     "name": "stdout",
     "output_type": "stream",
     "text": [
      "mse_loss(xtest, ytest) = 1.7114938f0\n"
     ]
    },
    {
     "name": "stderr",
     "output_type": "stream",
     "text": [
      "┌ Info: Epoch 24\n",
      "└ @ ConvGRU /Users/kahingleung/.julia/packages/Flux/sY3yx/src/optimise/train.jl:136\n"
     ]
    },
    {
     "name": "stdout",
     "output_type": "stream",
     "text": [
      "mse_loss(xtest, ytest) = 1.7004466f0\n"
     ]
    },
    {
     "name": "stderr",
     "output_type": "stream",
     "text": [
      "┌ Info: Epoch 25\n",
      "└ @ ConvGRU /Users/kahingleung/.julia/packages/Flux/sY3yx/src/optimise/train.jl:136\n",
      "┌ Info: Epoch 26\n",
      "└ @ ConvGRU /Users/kahingleung/.julia/packages/Flux/sY3yx/src/optimise/train.jl:136\n"
     ]
    },
    {
     "name": "stdout",
     "output_type": "stream",
     "text": [
      "mse_loss(xtest, ytest) = 1.7063395f0\n",
      "mse_loss(xtest, ytest) = 1.6894695f0\n"
     ]
    },
    {
     "name": "stderr",
     "output_type": "stream",
     "text": [
      "┌ Info: Epoch 27\n",
      "└ @ ConvGRU /Users/kahingleung/.julia/packages/Flux/sY3yx/src/optimise/train.jl:136\n"
     ]
    },
    {
     "name": "stdout",
     "output_type": "stream",
     "text": [
      "mse_loss(xtest, ytest) = 1.6975476f0\n"
     ]
    },
    {
     "name": "stderr",
     "output_type": "stream",
     "text": [
      "┌ Info: Epoch 28\n",
      "└ @ ConvGRU /Users/kahingleung/.julia/packages/Flux/sY3yx/src/optimise/train.jl:136\n"
     ]
    },
    {
     "name": "stdout",
     "output_type": "stream",
     "text": [
      "mse_loss(xtest, ytest) = 1.6839424f0\n"
     ]
    },
    {
     "name": "stderr",
     "output_type": "stream",
     "text": [
      "┌ Info: Epoch 29\n",
      "└ @ ConvGRU /Users/kahingleung/.julia/packages/Flux/sY3yx/src/optimise/train.jl:136\n"
     ]
    },
    {
     "name": "stdout",
     "output_type": "stream",
     "text": [
      "mse_loss(xtest, ytest) = 1.6782551f0\n"
     ]
    },
    {
     "name": "stderr",
     "output_type": "stream",
     "text": [
      "┌ Info: Epoch 30\n",
      "└ @ ConvGRU /Users/kahingleung/.julia/packages/Flux/sY3yx/src/optimise/train.jl:136\n"
     ]
    },
    {
     "name": "stdout",
     "output_type": "stream",
     "text": [
      "(250,)\n",
      "myObjective(df, seqlen, Nh, lr, sym * \"-\" * string(i)) = 1.6949124f0\n",
      "122060.007742636826811269\n",
      "mse_loss(xtest, ytest) = 1.9921701f0\n",
      "mse_loss(xtest, ytest) = 1.9528639f0\n"
     ]
    },
    {
     "name": "stderr",
     "output_type": "stream",
     "text": [
      "┌ Info: Epoch 1\n",
      "└ @ ConvGRU /Users/kahingleung/.julia/packages/Flux/sY3yx/src/optimise/train.jl:136\n"
     ]
    },
    {
     "name": "stdout",
     "output_type": "stream",
     "text": [
      "mse_loss(xtest, ytest) = 1.9302132f0\n"
     ]
    },
    {
     "name": "stderr",
     "output_type": "stream",
     "text": [
      "┌ Info: Epoch 2\n",
      "└ @ ConvGRU /Users/kahingleung/.julia/packages/Flux/sY3yx/src/optimise/train.jl:136\n"
     ]
    },
    {
     "name": "stdout",
     "output_type": "stream",
     "text": [
      "mse_loss(xtest, ytest) = 1.8112872f0\n"
     ]
    },
    {
     "name": "stderr",
     "output_type": "stream",
     "text": [
      "┌ Info: Epoch 3\n",
      "└ @ ConvGRU /Users/kahingleung/.julia/packages/Flux/sY3yx/src/optimise/train.jl:136\n",
      "┌ Info: Epoch 4\n",
      "└ @ ConvGRU /Users/kahingleung/.julia/packages/Flux/sY3yx/src/optimise/train.jl:136\n"
     ]
    },
    {
     "name": "stdout",
     "output_type": "stream",
     "text": [
      "mse_loss(xtest, ytest) = 1.7692115f0\n",
      "mse_loss(xtest, ytest) = 1.8185021f0\n"
     ]
    },
    {
     "name": "stderr",
     "output_type": "stream",
     "text": [
      "┌ Info: Epoch 5\n",
      "└ @ ConvGRU /Users/kahingleung/.julia/packages/Flux/sY3yx/src/optimise/train.jl:136\n"
     ]
    },
    {
     "name": "stdout",
     "output_type": "stream",
     "text": [
      "mse_loss(xtest, ytest) = 1.8235236f0\n"
     ]
    },
    {
     "name": "stderr",
     "output_type": "stream",
     "text": [
      "┌ Info: Epoch 6\n",
      "└ @ ConvGRU /Users/kahingleung/.julia/packages/Flux/sY3yx/src/optimise/train.jl:136\n",
      "┌ Info: Epoch 7\n",
      "└ @ ConvGRU /Users/kahingleung/.julia/packages/Flux/sY3yx/src/optimise/train.jl:136\n"
     ]
    },
    {
     "name": "stdout",
     "output_type": "stream",
     "text": [
      "mse_loss(xtest, ytest) = 1.6786116f0\n"
     ]
    },
    {
     "name": "stderr",
     "output_type": "stream",
     "text": [
      "┌ Info: Epoch 8\n",
      "└ @ ConvGRU /Users/kahingleung/.julia/packages/Flux/sY3yx/src/optimise/train.jl:136\n"
     ]
    },
    {
     "name": "stdout",
     "output_type": "stream",
     "text": [
      "mse_loss(xtest, ytest) = 1.8225644f0\n",
      "mse_loss(xtest, ytest) = 1.7495406f0\n"
     ]
    },
    {
     "name": "stderr",
     "output_type": "stream",
     "text": [
      "┌ Info: Epoch 9\n",
      "└ @ ConvGRU /Users/kahingleung/.julia/packages/Flux/sY3yx/src/optimise/train.jl:136\n"
     ]
    },
    {
     "name": "stdout",
     "output_type": "stream",
     "text": [
      "mse_loss(xtest, ytest) = 1.6963562f0\n"
     ]
    },
    {
     "name": "stderr",
     "output_type": "stream",
     "text": [
      "┌ Info: Epoch 10\n",
      "└ @ ConvGRU /Users/kahingleung/.julia/packages/Flux/sY3yx/src/optimise/train.jl:136\n",
      "┌ Info: Epoch 11\n",
      "└ @ ConvGRU /Users/kahingleung/.julia/packages/Flux/sY3yx/src/optimise/train.jl:136\n"
     ]
    },
    {
     "name": "stdout",
     "output_type": "stream",
     "text": [
      "mse_loss(xtest, ytest) = 1.6983149f0\n",
      "mse_loss(xtest, ytest) = 1.6894039f0\n"
     ]
    },
    {
     "name": "stderr",
     "output_type": "stream",
     "text": [
      "┌ Info: Epoch 12\n",
      "└ @ ConvGRU /Users/kahingleung/.julia/packages/Flux/sY3yx/src/optimise/train.jl:136\n"
     ]
    },
    {
     "name": "stdout",
     "output_type": "stream",
     "text": [
      "mse_loss(xtest, ytest) = 1.668241f0\n"
     ]
    },
    {
     "name": "stderr",
     "output_type": "stream",
     "text": [
      "┌ Info: Epoch 13\n",
      "└ @ ConvGRU /Users/kahingleung/.julia/packages/Flux/sY3yx/src/optimise/train.jl:136\n"
     ]
    },
    {
     "name": "stdout",
     "output_type": "stream",
     "text": [
      "mse_loss(xtest, ytest) = 1.6913873f0\n"
     ]
    },
    {
     "name": "stderr",
     "output_type": "stream",
     "text": [
      "┌ Info: Epoch 14\n",
      "└ @ ConvGRU /Users/kahingleung/.julia/packages/Flux/sY3yx/src/optimise/train.jl:136\n",
      "┌ Info: Epoch 15\n",
      "└ @ ConvGRU /Users/kahingleung/.julia/packages/Flux/sY3yx/src/optimise/train.jl:136\n"
     ]
    },
    {
     "name": "stdout",
     "output_type": "stream",
     "text": [
      "mse_loss(xtest, ytest) = 1.7367771f0\n",
      "mse_loss(xtest, ytest) = 1.6201177f0\n"
     ]
    },
    {
     "name": "stderr",
     "output_type": "stream",
     "text": [
      "┌ Info: Epoch 16\n",
      "└ @ ConvGRU /Users/kahingleung/.julia/packages/Flux/sY3yx/src/optimise/train.jl:136\n"
     ]
    },
    {
     "name": "stdout",
     "output_type": "stream",
     "text": [
      "mse_loss(xtest, ytest) = 1.5846591f0\n"
     ]
    },
    {
     "name": "stderr",
     "output_type": "stream",
     "text": [
      "┌ Info: Epoch 17\n",
      "└ @ ConvGRU /Users/kahingleung/.julia/packages/Flux/sY3yx/src/optimise/train.jl:136\n"
     ]
    },
    {
     "name": "stdout",
     "output_type": "stream",
     "text": [
      "mse_loss(xtest, ytest) = 1.5758849f0\n"
     ]
    },
    {
     "name": "stderr",
     "output_type": "stream",
     "text": [
      "┌ Info: Epoch 18\n",
      "└ @ ConvGRU /Users/kahingleung/.julia/packages/Flux/sY3yx/src/optimise/train.jl:136\n"
     ]
    },
    {
     "name": "stdout",
     "output_type": "stream",
     "text": [
      "mse_loss(xtest, ytest) = 1.5855045f0\n"
     ]
    },
    {
     "name": "stderr",
     "output_type": "stream",
     "text": [
      "┌ Info: Epoch 19\n",
      "└ @ ConvGRU /Users/kahingleung/.julia/packages/Flux/sY3yx/src/optimise/train.jl:136\n"
     ]
    },
    {
     "name": "stdout",
     "output_type": "stream",
     "text": [
      "mse_loss(xtest, ytest) = 1.6571671f0\n"
     ]
    },
    {
     "name": "stderr",
     "output_type": "stream",
     "text": [
      "┌ Info: Epoch 20\n",
      "└ @ ConvGRU /Users/kahingleung/.julia/packages/Flux/sY3yx/src/optimise/train.jl:136\n"
     ]
    },
    {
     "name": "stdout",
     "output_type": "stream",
     "text": [
      "mse_loss(xtest, ytest) = 1.6280162f0\n"
     ]
    },
    {
     "name": "stderr",
     "output_type": "stream",
     "text": [
      "┌ Info: Epoch 21\n",
      "└ @ ConvGRU /Users/kahingleung/.julia/packages/Flux/sY3yx/src/optimise/train.jl:136\n",
      "┌ Info: Epoch 22\n",
      "└ @ ConvGRU /Users/kahingleung/.julia/packages/Flux/sY3yx/src/optimise/train.jl:136\n"
     ]
    },
    {
     "name": "stdout",
     "output_type": "stream",
     "text": [
      "mse_loss(xtest, ytest) = 1.6228645f0\n",
      "mse_loss(xtest, ytest) = 1.6235636f0\n"
     ]
    },
    {
     "name": "stderr",
     "output_type": "stream",
     "text": [
      "┌ Info: Epoch 23\n",
      "└ @ ConvGRU /Users/kahingleung/.julia/packages/Flux/sY3yx/src/optimise/train.jl:136\n"
     ]
    },
    {
     "name": "stdout",
     "output_type": "stream",
     "text": [
      "mse_loss(xtest, ytest) = 1.6524199f0\n"
     ]
    },
    {
     "name": "stderr",
     "output_type": "stream",
     "text": [
      "┌ Info: Epoch 24\n",
      "└ @ ConvGRU /Users/kahingleung/.julia/packages/Flux/sY3yx/src/optimise/train.jl:136\n"
     ]
    },
    {
     "name": "stdout",
     "output_type": "stream",
     "text": [
      "mse_loss(xtest, ytest) = 1.6415886f0\n"
     ]
    },
    {
     "name": "stderr",
     "output_type": "stream",
     "text": [
      "┌ Info: Epoch 25\n",
      "└ @ ConvGRU /Users/kahingleung/.julia/packages/Flux/sY3yx/src/optimise/train.jl:136\n"
     ]
    },
    {
     "name": "stdout",
     "output_type": "stream",
     "text": [
      "mse_loss(xtest, ytest) = 1.7078074f0\n"
     ]
    },
    {
     "name": "stderr",
     "output_type": "stream",
     "text": [
      "┌ Info: Epoch 26\n",
      "└ @ ConvGRU /Users/kahingleung/.julia/packages/Flux/sY3yx/src/optimise/train.jl:136\n"
     ]
    },
    {
     "name": "stdout",
     "output_type": "stream",
     "text": [
      "mse_loss(xtest, ytest) = 1.6432786f0\n"
     ]
    },
    {
     "name": "stderr",
     "output_type": "stream",
     "text": [
      "┌ Info: Epoch 27\n",
      "└ @ ConvGRU /Users/kahingleung/.julia/packages/Flux/sY3yx/src/optimise/train.jl:136\n"
     ]
    },
    {
     "name": "stdout",
     "output_type": "stream",
     "text": [
      "mse_loss(xtest, ytest) = 1.7264991f0\n"
     ]
    },
    {
     "name": "stderr",
     "output_type": "stream",
     "text": [
      "┌ Info: Epoch 28\n",
      "└ @ ConvGRU /Users/kahingleung/.julia/packages/Flux/sY3yx/src/optimise/train.jl:136\n"
     ]
    },
    {
     "name": "stdout",
     "output_type": "stream",
     "text": [
      "mse_loss(xtest, ytest) = 1.6697805f0\n"
     ]
    },
    {
     "name": "stderr",
     "output_type": "stream",
     "text": [
      "┌ Info: Epoch 29\n",
      "└ @ ConvGRU /Users/kahingleung/.julia/packages/Flux/sY3yx/src/optimise/train.jl:136\n",
      "┌ Info: Epoch 30\n",
      "└ @ ConvGRU /Users/kahingleung/.julia/packages/Flux/sY3yx/src/optimise/train.jl:136\n"
     ]
    },
    {
     "name": "stdout",
     "output_type": "stream",
     "text": [
      "mse_loss(xtest, ytest) = 1.6804756f0\n",
      "(250,)\n",
      "myObjective(df, seqlen, Nh, lr, sym * \"-\" * string(i)) = 1.9234763f0\n",
      "131580.001\n",
      "mse_loss(xtest, ytest) = 2.0187194f0\n",
      "mse_loss(xtest, ytest) = 2.0099962f0\n"
     ]
    },
    {
     "name": "stderr",
     "output_type": "stream",
     "text": [
      "┌ Info: Epoch 1\n",
      "└ @ ConvGRU /Users/kahingleung/.julia/packages/Flux/sY3yx/src/optimise/train.jl:136\n"
     ]
    },
    {
     "name": "stdout",
     "output_type": "stream",
     "text": [
      "mse_loss(xtest, ytest) = 2.022386f0\n"
     ]
    },
    {
     "name": "stderr",
     "output_type": "stream",
     "text": [
      "┌ Info: Epoch 2\n",
      "└ @ ConvGRU /Users/kahingleung/.julia/packages/Flux/sY3yx/src/optimise/train.jl:136\n"
     ]
    },
    {
     "name": "stdout",
     "output_type": "stream",
     "text": [
      "mse_loss(xtest, ytest) = 2.02002f0\n"
     ]
    },
    {
     "name": "stderr",
     "output_type": "stream",
     "text": [
      "┌ Info: Epoch 3\n",
      "└ @ ConvGRU /Users/kahingleung/.julia/packages/Flux/sY3yx/src/optimise/train.jl:136\n"
     ]
    },
    {
     "name": "stdout",
     "output_type": "stream",
     "text": [
      "mse_loss(xtest, ytest) = 2.0034766f0\n"
     ]
    },
    {
     "name": "stderr",
     "output_type": "stream",
     "text": [
      "┌ Info: Epoch 4\n",
      "└ @ ConvGRU /Users/kahingleung/.julia/packages/Flux/sY3yx/src/optimise/train.jl:136\n",
      "┌ Info: Epoch 5\n",
      "└ @ ConvGRU /Users/kahingleung/.julia/packages/Flux/sY3yx/src/optimise/train.jl:136\n"
     ]
    },
    {
     "name": "stdout",
     "output_type": "stream",
     "text": [
      "mse_loss(xtest, ytest) = 1.9734f0\n",
      "mse_loss(xtest, ytest) = 1.9355601f0\n"
     ]
    },
    {
     "name": "stderr",
     "output_type": "stream",
     "text": [
      "┌ Info: Epoch 6\n",
      "└ @ ConvGRU /Users/kahingleung/.julia/packages/Flux/sY3yx/src/optimise/train.jl:136\n"
     ]
    },
    {
     "name": "stdout",
     "output_type": "stream",
     "text": [
      "mse_loss(xtest, ytest) = 1.8957262f0\n"
     ]
    },
    {
     "name": "stderr",
     "output_type": "stream",
     "text": [
      "┌ Info: Epoch 7\n",
      "└ @ ConvGRU /Users/kahingleung/.julia/packages/Flux/sY3yx/src/optimise/train.jl:136\n",
      "┌ Info: Epoch 8\n",
      "└ @ ConvGRU /Users/kahingleung/.julia/packages/Flux/sY3yx/src/optimise/train.jl:136\n"
     ]
    },
    {
     "name": "stdout",
     "output_type": "stream",
     "text": [
      "mse_loss(xtest, ytest) = 1.8539094f0\n",
      "mse_loss(xtest, ytest) = 1.8203101f0\n"
     ]
    },
    {
     "name": "stderr",
     "output_type": "stream",
     "text": [
      "┌ Info: Epoch 9\n",
      "└ @ ConvGRU /Users/kahingleung/.julia/packages/Flux/sY3yx/src/optimise/train.jl:136\n"
     ]
    },
    {
     "name": "stdout",
     "output_type": "stream",
     "text": [
      "mse_loss(xtest, ytest) = 1.8022133f0\n"
     ]
    },
    {
     "name": "stderr",
     "output_type": "stream",
     "text": [
      "┌ Info: Epoch 10\n",
      "└ @ ConvGRU /Users/kahingleung/.julia/packages/Flux/sY3yx/src/optimise/train.jl:136\n",
      "┌ Info: Epoch 11\n",
      "└ @ ConvGRU /Users/kahingleung/.julia/packages/Flux/sY3yx/src/optimise/train.jl:136\n"
     ]
    },
    {
     "name": "stdout",
     "output_type": "stream",
     "text": [
      "mse_loss(xtest, ytest) = 1.7884238f0\n",
      "mse_loss(xtest, ytest) = 1.7783637f0\n"
     ]
    },
    {
     "name": "stderr",
     "output_type": "stream",
     "text": [
      "┌ Info: Epoch 12\n",
      "└ @ ConvGRU /Users/kahingleung/.julia/packages/Flux/sY3yx/src/optimise/train.jl:136\n"
     ]
    },
    {
     "name": "stdout",
     "output_type": "stream",
     "text": [
      "mse_loss(xtest, ytest) = 1.7679602f0\n"
     ]
    },
    {
     "name": "stderr",
     "output_type": "stream",
     "text": [
      "┌ Info: Epoch 13\n",
      "└ @ ConvGRU /Users/kahingleung/.julia/packages/Flux/sY3yx/src/optimise/train.jl:136\n"
     ]
    },
    {
     "name": "stdout",
     "output_type": "stream",
     "text": [
      "mse_loss(xtest, ytest) = 1.7436768f0\n"
     ]
    },
    {
     "name": "stderr",
     "output_type": "stream",
     "text": [
      "┌ Info: Epoch 14\n",
      "└ @ ConvGRU /Users/kahingleung/.julia/packages/Flux/sY3yx/src/optimise/train.jl:136\n"
     ]
    },
    {
     "name": "stdout",
     "output_type": "stream",
     "text": [
      "mse_loss(xtest, ytest) = 1.7195431f0\n"
     ]
    },
    {
     "name": "stderr",
     "output_type": "stream",
     "text": [
      "┌ Info: Epoch 15\n",
      "└ @ ConvGRU /Users/kahingleung/.julia/packages/Flux/sY3yx/src/optimise/train.jl:136\n",
      "┌ Info: Epoch 16\n",
      "└ @ ConvGRU /Users/kahingleung/.julia/packages/Flux/sY3yx/src/optimise/train.jl:136\n"
     ]
    },
    {
     "name": "stdout",
     "output_type": "stream",
     "text": [
      "mse_loss(xtest, ytest) = 1.7033081f0\n",
      "mse_loss(xtest, ytest) = 1.6835372f0\n"
     ]
    },
    {
     "name": "stderr",
     "output_type": "stream",
     "text": [
      "┌ Info: Epoch 17\n",
      "└ @ ConvGRU /Users/kahingleung/.julia/packages/Flux/sY3yx/src/optimise/train.jl:136\n"
     ]
    },
    {
     "name": "stdout",
     "output_type": "stream",
     "text": [
      "mse_loss(xtest, ytest) = 1.6741222f0\n"
     ]
    },
    {
     "name": "stderr",
     "output_type": "stream",
     "text": [
      "┌ Info: Epoch 18\n",
      "└ @ ConvGRU /Users/kahingleung/.julia/packages/Flux/sY3yx/src/optimise/train.jl:136\n"
     ]
    },
    {
     "name": "stdout",
     "output_type": "stream",
     "text": [
      "mse_loss(xtest, ytest) = 1.6642541f0\n"
     ]
    },
    {
     "name": "stderr",
     "output_type": "stream",
     "text": [
      "┌ Info: Epoch 19\n",
      "└ @ ConvGRU /Users/kahingleung/.julia/packages/Flux/sY3yx/src/optimise/train.jl:136\n",
      "┌ Info: Epoch 20\n",
      "└ @ ConvGRU /Users/kahingleung/.julia/packages/Flux/sY3yx/src/optimise/train.jl:136\n"
     ]
    },
    {
     "name": "stdout",
     "output_type": "stream",
     "text": [
      "mse_loss(xtest, ytest) = 1.6528252f0\n",
      "mse_loss(xtest, ytest) = 1.6458663f0\n"
     ]
    },
    {
     "name": "stderr",
     "output_type": "stream",
     "text": [
      "┌ Info: Epoch 21\n",
      "└ @ ConvGRU /Users/kahingleung/.julia/packages/Flux/sY3yx/src/optimise/train.jl:136\n"
     ]
    },
    {
     "name": "stdout",
     "output_type": "stream",
     "text": [
      "mse_loss(xtest, ytest) = 1.6304004f0\n"
     ]
    },
    {
     "name": "stderr",
     "output_type": "stream",
     "text": [
      "┌ Info: Epoch 22\n",
      "└ @ ConvGRU /Users/kahingleung/.julia/packages/Flux/sY3yx/src/optimise/train.jl:136\n"
     ]
    },
    {
     "name": "stdout",
     "output_type": "stream",
     "text": [
      "mse_loss(xtest, ytest) = 1.6336002f0\n"
     ]
    },
    {
     "name": "stderr",
     "output_type": "stream",
     "text": [
      "┌ Info: Epoch 23\n",
      "└ @ ConvGRU /Users/kahingleung/.julia/packages/Flux/sY3yx/src/optimise/train.jl:136\n",
      "┌ Info: Epoch 24\n",
      "└ @ ConvGRU /Users/kahingleung/.julia/packages/Flux/sY3yx/src/optimise/train.jl:136\n"
     ]
    },
    {
     "name": "stdout",
     "output_type": "stream",
     "text": [
      "mse_loss(xtest, ytest) = 1.6147052f0\n",
      "mse_loss(xtest, ytest) = 1.6129197f0\n"
     ]
    },
    {
     "name": "stderr",
     "output_type": "stream",
     "text": [
      "┌ Info: Epoch 25\n",
      "└ @ ConvGRU /Users/kahingleung/.julia/packages/Flux/sY3yx/src/optimise/train.jl:136\n"
     ]
    },
    {
     "name": "stdout",
     "output_type": "stream",
     "text": [
      "mse_loss(xtest, ytest) = 1.6060494f0\n"
     ]
    },
    {
     "name": "stderr",
     "output_type": "stream",
     "text": [
      "┌ Info: Epoch 26\n",
      "└ @ ConvGRU /Users/kahingleung/.julia/packages/Flux/sY3yx/src/optimise/train.jl:136\n",
      "┌ Info: Epoch 27\n",
      "└ @ ConvGRU /Users/kahingleung/.julia/packages/Flux/sY3yx/src/optimise/train.jl:136\n"
     ]
    },
    {
     "name": "stdout",
     "output_type": "stream",
     "text": [
      "mse_loss(xtest, ytest) = 1.6046832f0\n",
      "mse_loss(xtest, ytest) = 1.6034721f0\n"
     ]
    },
    {
     "name": "stderr",
     "output_type": "stream",
     "text": [
      "┌ Info: Epoch 28\n",
      "└ @ ConvGRU /Users/kahingleung/.julia/packages/Flux/sY3yx/src/optimise/train.jl:136\n"
     ]
    },
    {
     "name": "stdout",
     "output_type": "stream",
     "text": [
      "mse_loss(xtest, ytest) = 1.5954745f0\n"
     ]
    },
    {
     "name": "stderr",
     "output_type": "stream",
     "text": [
      "┌ Info: Epoch 29\n",
      "└ @ ConvGRU /Users/kahingleung/.julia/packages/Flux/sY3yx/src/optimise/train.jl:136\n"
     ]
    },
    {
     "name": "stdout",
     "output_type": "stream",
     "text": [
      "mse_loss(xtest, ytest) = 1.595335f0\n"
     ]
    },
    {
     "name": "stderr",
     "output_type": "stream",
     "text": [
      "┌ Info: Epoch 30\n",
      "└ @ ConvGRU /Users/kahingleung/.julia/packages/Flux/sY3yx/src/optimise/train.jl:136\n"
     ]
    },
    {
     "name": "stdout",
     "output_type": "stream",
     "text": [
      "(250,)\n",
      "myObjective(df, seqlen, Nh, lr, sym * \"-\" * string(i)) = 1.6092544f0\n",
      "142580.001291549665014884\n",
      "mse_loss(xtest, ytest) = 2.0279222f0\n",
      "mse_loss(xtest, ytest) = 2.0532703f0\n"
     ]
    },
    {
     "name": "stderr",
     "output_type": "stream",
     "text": [
      "┌ Info: Epoch 1\n",
      "└ @ ConvGRU /Users/kahingleung/.julia/packages/Flux/sY3yx/src/optimise/train.jl:136\n"
     ]
    },
    {
     "name": "stdout",
     "output_type": "stream",
     "text": [
      "mse_loss(xtest, ytest) = 2.1114626f0\n"
     ]
    },
    {
     "name": "stderr",
     "output_type": "stream",
     "text": [
      "┌ Info: Epoch 2\n",
      "└ @ ConvGRU /Users/kahingleung/.julia/packages/Flux/sY3yx/src/optimise/train.jl:136\n"
     ]
    },
    {
     "name": "stdout",
     "output_type": "stream",
     "text": [
      "mse_loss(xtest, ytest) = 2.1102378f0\n"
     ]
    },
    {
     "name": "stderr",
     "output_type": "stream",
     "text": [
      "┌ Info: Epoch 3\n",
      "└ @ ConvGRU /Users/kahingleung/.julia/packages/Flux/sY3yx/src/optimise/train.jl:136\n"
     ]
    },
    {
     "name": "stdout",
     "output_type": "stream",
     "text": [
      "mse_loss(xtest, ytest) = 2.0897684f0\n"
     ]
    },
    {
     "name": "stderr",
     "output_type": "stream",
     "text": [
      "┌ Info: Epoch 4\n",
      "└ @ ConvGRU /Users/kahingleung/.julia/packages/Flux/sY3yx/src/optimise/train.jl:136\n"
     ]
    },
    {
     "name": "stdout",
     "output_type": "stream",
     "text": [
      "mse_loss(xtest, ytest) = 2.0628462f0\n"
     ]
    },
    {
     "name": "stderr",
     "output_type": "stream",
     "text": [
      "┌ Info: Epoch 5\n",
      "└ @ ConvGRU /Users/kahingleung/.julia/packages/Flux/sY3yx/src/optimise/train.jl:136\n",
      "┌ Info: Epoch 6\n",
      "└ @ ConvGRU /Users/kahingleung/.julia/packages/Flux/sY3yx/src/optimise/train.jl:136\n"
     ]
    },
    {
     "name": "stdout",
     "output_type": "stream",
     "text": [
      "mse_loss(xtest, ytest) = 2.013908f0\n"
     ]
    },
    {
     "name": "stderr",
     "output_type": "stream",
     "text": [
      "┌ Info: Epoch 7\n",
      "└ @ ConvGRU /Users/kahingleung/.julia/packages/Flux/sY3yx/src/optimise/train.jl:136\n"
     ]
    },
    {
     "name": "stdout",
     "output_type": "stream",
     "text": [
      "mse_loss(xtest, ytest) = 1.9627666f0\n",
      "mse_loss(xtest, ytest) = 1.9083846f0\n"
     ]
    },
    {
     "name": "stderr",
     "output_type": "stream",
     "text": [
      "┌ Info: Epoch 8\n",
      "└ @ ConvGRU /Users/kahingleung/.julia/packages/Flux/sY3yx/src/optimise/train.jl:136\n"
     ]
    },
    {
     "name": "stdout",
     "output_type": "stream",
     "text": [
      "mse_loss(xtest, ytest) = 1.8610581f0\n"
     ]
    },
    {
     "name": "stderr",
     "output_type": "stream",
     "text": [
      "┌ Info: Epoch 9\n",
      "└ @ ConvGRU /Users/kahingleung/.julia/packages/Flux/sY3yx/src/optimise/train.jl:136\n",
      "┌ Info: Epoch 10\n",
      "└ @ ConvGRU /Users/kahingleung/.julia/packages/Flux/sY3yx/src/optimise/train.jl:136\n"
     ]
    },
    {
     "name": "stdout",
     "output_type": "stream",
     "text": [
      "mse_loss(xtest, ytest) = 1.834341f0\n",
      "mse_loss(xtest, ytest) = 1.8000708f0\n"
     ]
    },
    {
     "name": "stderr",
     "output_type": "stream",
     "text": [
      "┌ Info: Epoch 11\n",
      "└ @ ConvGRU /Users/kahingleung/.julia/packages/Flux/sY3yx/src/optimise/train.jl:136\n"
     ]
    },
    {
     "name": "stdout",
     "output_type": "stream",
     "text": [
      "mse_loss(xtest, ytest) = 1.7740164f0\n"
     ]
    },
    {
     "name": "stderr",
     "output_type": "stream",
     "text": [
      "┌ Info: Epoch 12\n",
      "└ @ ConvGRU /Users/kahingleung/.julia/packages/Flux/sY3yx/src/optimise/train.jl:136\n",
      "┌ Info: Epoch 13\n",
      "└ @ ConvGRU /Users/kahingleung/.julia/packages/Flux/sY3yx/src/optimise/train.jl:136\n"
     ]
    },
    {
     "name": "stdout",
     "output_type": "stream",
     "text": [
      "mse_loss(xtest, ytest) = 1.7367827f0\n"
     ]
    },
    {
     "name": "stderr",
     "output_type": "stream",
     "text": [
      "┌ Info: Epoch 14\n",
      "└ @ ConvGRU /Users/kahingleung/.julia/packages/Flux/sY3yx/src/optimise/train.jl:136\n"
     ]
    },
    {
     "name": "stdout",
     "output_type": "stream",
     "text": [
      "mse_loss(xtest, ytest) = 1.724918f0\n"
     ]
    },
    {
     "name": "stderr",
     "output_type": "stream",
     "text": [
      "┌ Info: Epoch 15\n",
      "└ @ ConvGRU /Users/kahingleung/.julia/packages/Flux/sY3yx/src/optimise/train.jl:136\n"
     ]
    },
    {
     "name": "stdout",
     "output_type": "stream",
     "text": [
      "mse_loss(xtest, ytest) = 1.6950202f0\n",
      "mse_loss(xtest, ytest) = 1.6880832f0\n"
     ]
    },
    {
     "name": "stderr",
     "output_type": "stream",
     "text": [
      "┌ Info: Epoch 16\n",
      "└ @ ConvGRU /Users/kahingleung/.julia/packages/Flux/sY3yx/src/optimise/train.jl:136\n"
     ]
    },
    {
     "name": "stdout",
     "output_type": "stream",
     "text": [
      "mse_loss(xtest, ytest) = 1.6806095f0\n"
     ]
    },
    {
     "name": "stderr",
     "output_type": "stream",
     "text": [
      "┌ Info: Epoch 17\n",
      "└ @ ConvGRU /Users/kahingleung/.julia/packages/Flux/sY3yx/src/optimise/train.jl:136\n",
      "┌ Info: Epoch 18\n",
      "└ @ ConvGRU /Users/kahingleung/.julia/packages/Flux/sY3yx/src/optimise/train.jl:136\n"
     ]
    },
    {
     "name": "stdout",
     "output_type": "stream",
     "text": [
      "mse_loss(xtest, ytest) = 1.6807736f0\n",
      "mse_loss(xtest, ytest) = 1.6652042f0\n"
     ]
    },
    {
     "name": "stderr",
     "output_type": "stream",
     "text": [
      "┌ Info: Epoch 19\n",
      "└ @ ConvGRU /Users/kahingleung/.julia/packages/Flux/sY3yx/src/optimise/train.jl:136\n"
     ]
    },
    {
     "name": "stdout",
     "output_type": "stream",
     "text": [
      "mse_loss(xtest, ytest) = 1.6650553f0\n"
     ]
    },
    {
     "name": "stderr",
     "output_type": "stream",
     "text": [
      "┌ Info: Epoch 20\n",
      "└ @ ConvGRU /Users/kahingleung/.julia/packages/Flux/sY3yx/src/optimise/train.jl:136\n",
      "┌ Info: Epoch 21\n",
      "└ @ ConvGRU /Users/kahingleung/.julia/packages/Flux/sY3yx/src/optimise/train.jl:136\n"
     ]
    },
    {
     "name": "stdout",
     "output_type": "stream",
     "text": [
      "mse_loss(xtest, ytest) = 1.6817782f0\n"
     ]
    },
    {
     "name": "stderr",
     "output_type": "stream",
     "text": [
      "┌ Info: Epoch 22\n",
      "└ @ ConvGRU /Users/kahingleung/.julia/packages/Flux/sY3yx/src/optimise/train.jl:136\n"
     ]
    },
    {
     "name": "stdout",
     "output_type": "stream",
     "text": [
      "mse_loss(xtest, ytest) = 1.6859972f0\n",
      "mse_loss(xtest, ytest) = 1.6774013f0\n"
     ]
    },
    {
     "name": "stderr",
     "output_type": "stream",
     "text": [
      "┌ Info: Epoch 23\n",
      "└ @ ConvGRU /Users/kahingleung/.julia/packages/Flux/sY3yx/src/optimise/train.jl:136\n"
     ]
    },
    {
     "name": "stdout",
     "output_type": "stream",
     "text": [
      "mse_loss(xtest, ytest) = 1.6548195f0\n"
     ]
    },
    {
     "name": "stderr",
     "output_type": "stream",
     "text": [
      "┌ Info: Epoch 24\n",
      "└ @ ConvGRU /Users/kahingleung/.julia/packages/Flux/sY3yx/src/optimise/train.jl:136\n",
      "┌ Info: Epoch 25\n",
      "└ @ ConvGRU /Users/kahingleung/.julia/packages/Flux/sY3yx/src/optimise/train.jl:136\n"
     ]
    },
    {
     "name": "stdout",
     "output_type": "stream",
     "text": [
      "mse_loss(xtest, ytest) = 1.6531248f0\n"
     ]
    },
    {
     "name": "stderr",
     "output_type": "stream",
     "text": [
      "┌ Info: Epoch 26\n",
      "└ @ ConvGRU /Users/kahingleung/.julia/packages/Flux/sY3yx/src/optimise/train.jl:136\n"
     ]
    },
    {
     "name": "stdout",
     "output_type": "stream",
     "text": [
      "mse_loss(xtest, ytest) = 1.6791997f0\n",
      "mse_loss(xtest, ytest) = 1.6776319f0\n"
     ]
    },
    {
     "name": "stderr",
     "output_type": "stream",
     "text": [
      "┌ Info: Epoch 27\n",
      "└ @ ConvGRU /Users/kahingleung/.julia/packages/Flux/sY3yx/src/optimise/train.jl:136\n"
     ]
    },
    {
     "name": "stdout",
     "output_type": "stream",
     "text": [
      "mse_loss(xtest, ytest) = 1.6821982f0\n"
     ]
    },
    {
     "name": "stderr",
     "output_type": "stream",
     "text": [
      "┌ Info: Epoch 28\n",
      "└ @ ConvGRU /Users/kahingleung/.julia/packages/Flux/sY3yx/src/optimise/train.jl:136\n",
      "┌ Info: Epoch 29\n",
      "└ @ ConvGRU /Users/kahingleung/.julia/packages/Flux/sY3yx/src/optimise/train.jl:136\n"
     ]
    },
    {
     "name": "stdout",
     "output_type": "stream",
     "text": [
      "mse_loss(xtest, ytest) = 1.6662436f0\n",
      "mse_loss(xtest, ytest) = 1.6578579f0\n"
     ]
    },
    {
     "name": "stderr",
     "output_type": "stream",
     "text": [
      "┌ Info: Epoch 30\n",
      "└ @ ConvGRU /Users/kahingleung/.julia/packages/Flux/sY3yx/src/optimise/train.jl:136\n"
     ]
    },
    {
     "name": "stdout",
     "output_type": "stream",
     "text": [
      "(250,)\n",
      "myObjective(df, seqlen, Nh, lr, sym * \"-\" * string(i)) = 1.5934205f0\n",
      "152560.005994842503189409\n",
      "mse_loss(xtest, ytest) = 1.9913011f0\n",
      "mse_loss(xtest, ytest) = 2.0459616f0\n"
     ]
    },
    {
     "name": "stderr",
     "output_type": "stream",
     "text": [
      "┌ Info: Epoch 1\n",
      "└ @ ConvGRU /Users/kahingleung/.julia/packages/Flux/sY3yx/src/optimise/train.jl:136\n"
     ]
    },
    {
     "name": "stdout",
     "output_type": "stream",
     "text": [
      "mse_loss(xtest, ytest) = 2.123065f0\n"
     ]
    },
    {
     "name": "stderr",
     "output_type": "stream",
     "text": [
      "┌ Info: Epoch 2\n",
      "└ @ ConvGRU /Users/kahingleung/.julia/packages/Flux/sY3yx/src/optimise/train.jl:136\n"
     ]
    },
    {
     "name": "stdout",
     "output_type": "stream",
     "text": [
      "mse_loss(xtest, ytest) = 1.9768733f0\n"
     ]
    },
    {
     "name": "stderr",
     "output_type": "stream",
     "text": [
      "┌ Info: Epoch 3\n",
      "└ @ ConvGRU /Users/kahingleung/.julia/packages/Flux/sY3yx/src/optimise/train.jl:136\n"
     ]
    },
    {
     "name": "stdout",
     "output_type": "stream",
     "text": [
      "mse_loss(xtest, ytest) = 1.8827802f0\n"
     ]
    },
    {
     "name": "stderr",
     "output_type": "stream",
     "text": [
      "┌ Info: Epoch 4\n",
      "└ @ ConvGRU /Users/kahingleung/.julia/packages/Flux/sY3yx/src/optimise/train.jl:136\n",
      "┌ Info: Epoch 5\n",
      "└ @ ConvGRU /Users/kahingleung/.julia/packages/Flux/sY3yx/src/optimise/train.jl:136\n"
     ]
    },
    {
     "name": "stdout",
     "output_type": "stream",
     "text": [
      "mse_loss(xtest, ytest) = 1.7643065f0\n",
      "mse_loss(xtest, ytest) = 1.7467088f0\n"
     ]
    },
    {
     "name": "stderr",
     "output_type": "stream",
     "text": [
      "┌ Info: Epoch 6\n",
      "└ @ ConvGRU /Users/kahingleung/.julia/packages/Flux/sY3yx/src/optimise/train.jl:136\n",
      "┌ Info: Epoch 7\n",
      "└ @ ConvGRU /Users/kahingleung/.julia/packages/Flux/sY3yx/src/optimise/train.jl:136\n"
     ]
    },
    {
     "name": "stdout",
     "output_type": "stream",
     "text": [
      "mse_loss(xtest, ytest) = 1.7485951f0\n"
     ]
    },
    {
     "name": "stderr",
     "output_type": "stream",
     "text": [
      "┌ Info: Epoch 8\n",
      "└ @ ConvGRU /Users/kahingleung/.julia/packages/Flux/sY3yx/src/optimise/train.jl:136\n"
     ]
    },
    {
     "name": "stdout",
     "output_type": "stream",
     "text": [
      "mse_loss(xtest, ytest) = 1.784933f0\n",
      "mse_loss(xtest, ytest) = 1.7232072f0\n"
     ]
    },
    {
     "name": "stderr",
     "output_type": "stream",
     "text": [
      "┌ Info: Epoch 9\n",
      "└ @ ConvGRU /Users/kahingleung/.julia/packages/Flux/sY3yx/src/optimise/train.jl:136\n",
      "┌ Info: Epoch 10\n",
      "└ @ ConvGRU /Users/kahingleung/.julia/packages/Flux/sY3yx/src/optimise/train.jl:136\n"
     ]
    },
    {
     "name": "stdout",
     "output_type": "stream",
     "text": [
      "mse_loss(xtest, ytest) = 1.7359825f0\n",
      "mse_loss(xtest, ytest) = 1.7040663f0\n"
     ]
    },
    {
     "name": "stderr",
     "output_type": "stream",
     "text": [
      "┌ Info: Epoch 11\n",
      "└ @ ConvGRU /Users/kahingleung/.julia/packages/Flux/sY3yx/src/optimise/train.jl:136\n"
     ]
    },
    {
     "name": "stdout",
     "output_type": "stream",
     "text": [
      "mse_loss(xtest, ytest) = 1.7445061f0\n"
     ]
    },
    {
     "name": "stderr",
     "output_type": "stream",
     "text": [
      "┌ Info: Epoch 12\n",
      "└ @ ConvGRU /Users/kahingleung/.julia/packages/Flux/sY3yx/src/optimise/train.jl:136\n"
     ]
    },
    {
     "name": "stdout",
     "output_type": "stream",
     "text": [
      "mse_loss(xtest, ytest) = 1.6970809f0\n"
     ]
    },
    {
     "name": "stderr",
     "output_type": "stream",
     "text": [
      "┌ Info: Epoch 13\n",
      "└ @ ConvGRU /Users/kahingleung/.julia/packages/Flux/sY3yx/src/optimise/train.jl:136\n"
     ]
    },
    {
     "name": "stdout",
     "output_type": "stream",
     "text": [
      "mse_loss(xtest, ytest) = 1.6705378f0\n"
     ]
    },
    {
     "name": "stderr",
     "output_type": "stream",
     "text": [
      "┌ Info: Epoch 14\n",
      "└ @ ConvGRU /Users/kahingleung/.julia/packages/Flux/sY3yx/src/optimise/train.jl:136\n",
      "┌ Info: Epoch 15\n",
      "└ @ ConvGRU /Users/kahingleung/.julia/packages/Flux/sY3yx/src/optimise/train.jl:136\n"
     ]
    },
    {
     "name": "stdout",
     "output_type": "stream",
     "text": [
      "mse_loss(xtest, ytest) = 1.7258487f0\n",
      "mse_loss(xtest, ytest) = 1.7049427f0\n"
     ]
    },
    {
     "name": "stderr",
     "output_type": "stream",
     "text": [
      "┌ Info: Epoch 16\n",
      "└ @ ConvGRU /Users/kahingleung/.julia/packages/Flux/sY3yx/src/optimise/train.jl:136\n"
     ]
    },
    {
     "name": "stdout",
     "output_type": "stream",
     "text": [
      "mse_loss(xtest, ytest) = 1.7448605f0\n"
     ]
    },
    {
     "name": "stderr",
     "output_type": "stream",
     "text": [
      "┌ Info: Epoch 17\n",
      "└ @ ConvGRU /Users/kahingleung/.julia/packages/Flux/sY3yx/src/optimise/train.jl:136\n"
     ]
    },
    {
     "name": "stdout",
     "output_type": "stream",
     "text": [
      "mse_loss(xtest, ytest) = 1.7322277f0\n"
     ]
    },
    {
     "name": "stderr",
     "output_type": "stream",
     "text": [
      "┌ Info: Epoch 18\n",
      "└ @ ConvGRU /Users/kahingleung/.julia/packages/Flux/sY3yx/src/optimise/train.jl:136\n"
     ]
    },
    {
     "name": "stdout",
     "output_type": "stream",
     "text": [
      "mse_loss(xtest, ytest) = 1.6887063f0\n"
     ]
    },
    {
     "name": "stderr",
     "output_type": "stream",
     "text": [
      "┌ Info: Epoch 19\n",
      "└ @ ConvGRU /Users/kahingleung/.julia/packages/Flux/sY3yx/src/optimise/train.jl:136\n"
     ]
    },
    {
     "name": "stdout",
     "output_type": "stream",
     "text": [
      "mse_loss(xtest, ytest) = 1.6865958f0\n"
     ]
    },
    {
     "name": "stderr",
     "output_type": "stream",
     "text": [
      "┌ Info: Epoch 20\n",
      "└ @ ConvGRU /Users/kahingleung/.julia/packages/Flux/sY3yx/src/optimise/train.jl:136\n"
     ]
    },
    {
     "name": "stdout",
     "output_type": "stream",
     "text": [
      "mse_loss(xtest, ytest) = 1.721711f0\n"
     ]
    },
    {
     "name": "stderr",
     "output_type": "stream",
     "text": [
      "┌ Info: Epoch 21\n",
      "└ @ ConvGRU /Users/kahingleung/.julia/packages/Flux/sY3yx/src/optimise/train.jl:136\n",
      "┌ Info: Epoch 22\n",
      "└ @ ConvGRU /Users/kahingleung/.julia/packages/Flux/sY3yx/src/optimise/train.jl:136\n"
     ]
    },
    {
     "name": "stdout",
     "output_type": "stream",
     "text": [
      "mse_loss(xtest, ytest) = 1.7312167f0\n"
     ]
    },
    {
     "name": "stderr",
     "output_type": "stream",
     "text": [
      "┌ Info: Epoch 23\n",
      "└ @ ConvGRU /Users/kahingleung/.julia/packages/Flux/sY3yx/src/optimise/train.jl:136\n"
     ]
    },
    {
     "name": "stdout",
     "output_type": "stream",
     "text": [
      "mse_loss(xtest, ytest) = 1.7080061f0\n",
      "mse_loss(xtest, ytest) = 1.6660157f0\n"
     ]
    },
    {
     "name": "stderr",
     "output_type": "stream",
     "text": [
      "┌ Info: Epoch 24\n",
      "└ @ ConvGRU /Users/kahingleung/.julia/packages/Flux/sY3yx/src/optimise/train.jl:136\n",
      "┌ Info: Epoch 25\n",
      "└ @ ConvGRU /Users/kahingleung/.julia/packages/Flux/sY3yx/src/optimise/train.jl:136\n"
     ]
    },
    {
     "name": "stdout",
     "output_type": "stream",
     "text": [
      "mse_loss(xtest, ytest) = 1.6886094f0\n",
      "mse_loss(xtest, ytest) = 1.6657147f0\n"
     ]
    },
    {
     "name": "stderr",
     "output_type": "stream",
     "text": [
      "┌ Info: Epoch 26\n",
      "└ @ ConvGRU /Users/kahingleung/.julia/packages/Flux/sY3yx/src/optimise/train.jl:136\n"
     ]
    },
    {
     "name": "stdout",
     "output_type": "stream",
     "text": [
      "mse_loss(xtest, ytest) = 1.6919376f0\n"
     ]
    },
    {
     "name": "stderr",
     "output_type": "stream",
     "text": [
      "┌ Info: Epoch 27\n",
      "└ @ ConvGRU /Users/kahingleung/.julia/packages/Flux/sY3yx/src/optimise/train.jl:136\n"
     ]
    },
    {
     "name": "stdout",
     "output_type": "stream",
     "text": [
      "mse_loss(xtest, ytest) = 1.6089244f0\n"
     ]
    },
    {
     "name": "stderr",
     "output_type": "stream",
     "text": [
      "┌ Info: Epoch 28\n",
      "└ @ ConvGRU /Users/kahingleung/.julia/packages/Flux/sY3yx/src/optimise/train.jl:136\n"
     ]
    },
    {
     "name": "stdout",
     "output_type": "stream",
     "text": [
      "mse_loss(xtest, ytest) = 1.6404879f0\n"
     ]
    },
    {
     "name": "stderr",
     "output_type": "stream",
     "text": [
      "┌ Info: Epoch 29\n",
      "└ @ ConvGRU /Users/kahingleung/.julia/packages/Flux/sY3yx/src/optimise/train.jl:136\n",
      "┌ Info: Epoch 30\n",
      "└ @ ConvGRU /Users/kahingleung/.julia/packages/Flux/sY3yx/src/optimise/train.jl:136\n"
     ]
    },
    {
     "name": "stdout",
     "output_type": "stream",
     "text": [
      "mse_loss(xtest, ytest) = 1.6629716f0\n",
      "(250,)\n",
      "myObjective(df, seqlen, Nh, lr, sym * \"-\" * string(i)) = 1.5705076f0\n",
      "161080.001\n",
      "mse_loss(xtest, ytest) = 1.9566143f0\n",
      "mse_loss(xtest, ytest) = 1.9474297f0\n"
     ]
    },
    {
     "name": "stderr",
     "output_type": "stream",
     "text": [
      "┌ Info: Epoch 1\n",
      "└ @ ConvGRU /Users/kahingleung/.julia/packages/Flux/sY3yx/src/optimise/train.jl:136\n"
     ]
    },
    {
     "name": "stdout",
     "output_type": "stream",
     "text": [
      "mse_loss(xtest, ytest) = 1.9686378f0\n"
     ]
    },
    {
     "name": "stderr",
     "output_type": "stream",
     "text": [
      "┌ Info: Epoch 2\n",
      "└ @ ConvGRU /Users/kahingleung/.julia/packages/Flux/sY3yx/src/optimise/train.jl:136\n"
     ]
    },
    {
     "name": "stdout",
     "output_type": "stream",
     "text": [
      "mse_loss(xtest, ytest) = 1.9905536f0\n"
     ]
    },
    {
     "name": "stderr",
     "output_type": "stream",
     "text": [
      "┌ Info: Epoch 3\n",
      "└ @ ConvGRU /Users/kahingleung/.julia/packages/Flux/sY3yx/src/optimise/train.jl:136\n"
     ]
    },
    {
     "name": "stdout",
     "output_type": "stream",
     "text": [
      "mse_loss(xtest, ytest) = 2.0054588f0\n"
     ]
    },
    {
     "name": "stderr",
     "output_type": "stream",
     "text": [
      "┌ Info: Epoch 4\n",
      "└ @ ConvGRU /Users/kahingleung/.julia/packages/Flux/sY3yx/src/optimise/train.jl:136\n"
     ]
    },
    {
     "name": "stdout",
     "output_type": "stream",
     "text": [
      "mse_loss(xtest, ytest) = 2.0106537f0\n"
     ]
    },
    {
     "name": "stderr",
     "output_type": "stream",
     "text": [
      "┌ Info: Epoch 5\n",
      "└ @ ConvGRU /Users/kahingleung/.julia/packages/Flux/sY3yx/src/optimise/train.jl:136\n"
     ]
    },
    {
     "name": "stdout",
     "output_type": "stream",
     "text": [
      "mse_loss(xtest, ytest) = 1.9991655f0\n"
     ]
    },
    {
     "name": "stderr",
     "output_type": "stream",
     "text": [
      "┌ Info: Epoch 6\n",
      "└ @ ConvGRU /Users/kahingleung/.julia/packages/Flux/sY3yx/src/optimise/train.jl:136\n",
      "┌ Info: Epoch 7\n",
      "└ @ ConvGRU /Users/kahingleung/.julia/packages/Flux/sY3yx/src/optimise/train.jl:136\n"
     ]
    },
    {
     "name": "stdout",
     "output_type": "stream",
     "text": [
      "mse_loss(xtest, ytest) = 1.9737953f0\n",
      "mse_loss(xtest, ytest) = 1.9320115f0\n"
     ]
    },
    {
     "name": "stderr",
     "output_type": "stream",
     "text": [
      "┌ Info: Epoch 8\n",
      "└ @ ConvGRU /Users/kahingleung/.julia/packages/Flux/sY3yx/src/optimise/train.jl:136\n"
     ]
    },
    {
     "name": "stdout",
     "output_type": "stream",
     "text": [
      "mse_loss(xtest, ytest) = 1.8871794f0\n"
     ]
    },
    {
     "name": "stderr",
     "output_type": "stream",
     "text": [
      "┌ Info: Epoch 9\n",
      "└ @ ConvGRU /Users/kahingleung/.julia/packages/Flux/sY3yx/src/optimise/train.jl:136\n"
     ]
    },
    {
     "name": "stdout",
     "output_type": "stream",
     "text": [
      "mse_loss(xtest, ytest) = 1.8371673f0\n"
     ]
    },
    {
     "name": "stderr",
     "output_type": "stream",
     "text": [
      "┌ Info: Epoch 10\n",
      "└ @ ConvGRU /Users/kahingleung/.julia/packages/Flux/sY3yx/src/optimise/train.jl:136\n",
      "┌ Info: Epoch 11\n",
      "└ @ ConvGRU /Users/kahingleung/.julia/packages/Flux/sY3yx/src/optimise/train.jl:136\n"
     ]
    },
    {
     "name": "stdout",
     "output_type": "stream",
     "text": [
      "mse_loss(xtest, ytest) = 1.8021476f0\n",
      "mse_loss(xtest, ytest) = 1.7717458f0\n"
     ]
    },
    {
     "name": "stderr",
     "output_type": "stream",
     "text": [
      "┌ Info: Epoch 12\n",
      "└ @ ConvGRU /Users/kahingleung/.julia/packages/Flux/sY3yx/src/optimise/train.jl:136\n"
     ]
    },
    {
     "name": "stdout",
     "output_type": "stream",
     "text": [
      "mse_loss(xtest, ytest) = 1.751104f0\n"
     ]
    },
    {
     "name": "stderr",
     "output_type": "stream",
     "text": [
      "┌ Info: Epoch 13\n",
      "└ @ ConvGRU /Users/kahingleung/.julia/packages/Flux/sY3yx/src/optimise/train.jl:136\n"
     ]
    },
    {
     "name": "stdout",
     "output_type": "stream",
     "text": [
      "mse_loss(xtest, ytest) = 1.7372925f0\n"
     ]
    },
    {
     "name": "stderr",
     "output_type": "stream",
     "text": [
      "┌ Info: Epoch 14\n",
      "└ @ ConvGRU /Users/kahingleung/.julia/packages/Flux/sY3yx/src/optimise/train.jl:136\n"
     ]
    },
    {
     "name": "stdout",
     "output_type": "stream",
     "text": [
      "mse_loss(xtest, ytest) = 1.719199f0\n"
     ]
    },
    {
     "name": "stderr",
     "output_type": "stream",
     "text": [
      "┌ Info: Epoch 15\n",
      "└ @ ConvGRU /Users/kahingleung/.julia/packages/Flux/sY3yx/src/optimise/train.jl:136\n"
     ]
    },
    {
     "name": "stdout",
     "output_type": "stream",
     "text": [
      "mse_loss(xtest, ytest) = 1.7042723f0\n"
     ]
    },
    {
     "name": "stderr",
     "output_type": "stream",
     "text": [
      "┌ Info: Epoch 16\n",
      "└ @ ConvGRU /Users/kahingleung/.julia/packages/Flux/sY3yx/src/optimise/train.jl:136\n"
     ]
    },
    {
     "name": "stdout",
     "output_type": "stream",
     "text": [
      "mse_loss(xtest, ytest) = 1.6907581f0\n"
     ]
    },
    {
     "name": "stderr",
     "output_type": "stream",
     "text": [
      "┌ Info: Epoch 17\n",
      "└ @ ConvGRU /Users/kahingleung/.julia/packages/Flux/sY3yx/src/optimise/train.jl:136\n"
     ]
    },
    {
     "name": "stdout",
     "output_type": "stream",
     "text": [
      "mse_loss(xtest, ytest) = 1.6806533f0\n"
     ]
    },
    {
     "name": "stderr",
     "output_type": "stream",
     "text": [
      "┌ Info: Epoch 18\n",
      "└ @ ConvGRU /Users/kahingleung/.julia/packages/Flux/sY3yx/src/optimise/train.jl:136\n",
      "┌ Info: Epoch 19\n",
      "└ @ ConvGRU /Users/kahingleung/.julia/packages/Flux/sY3yx/src/optimise/train.jl:136\n"
     ]
    },
    {
     "name": "stdout",
     "output_type": "stream",
     "text": [
      "mse_loss(xtest, ytest) = 1.6739167f0\n"
     ]
    },
    {
     "name": "stderr",
     "output_type": "stream",
     "text": [
      "┌ Info: Epoch 20\n",
      "└ @ ConvGRU /Users/kahingleung/.julia/packages/Flux/sY3yx/src/optimise/train.jl:136\n"
     ]
    },
    {
     "name": "stdout",
     "output_type": "stream",
     "text": [
      "mse_loss(xtest, ytest) = 1.6702766f0\n",
      "mse_loss(xtest, ytest) = 1.6659578f0\n"
     ]
    },
    {
     "name": "stderr",
     "output_type": "stream",
     "text": [
      "┌ Info: Epoch 21\n",
      "└ @ ConvGRU /Users/kahingleung/.julia/packages/Flux/sY3yx/src/optimise/train.jl:136\n"
     ]
    },
    {
     "name": "stdout",
     "output_type": "stream",
     "text": [
      "mse_loss(xtest, ytest) = 1.6580508f0\n"
     ]
    },
    {
     "name": "stderr",
     "output_type": "stream",
     "text": [
      "┌ Info: Epoch 22\n",
      "└ @ ConvGRU /Users/kahingleung/.julia/packages/Flux/sY3yx/src/optimise/train.jl:136\n",
      "┌ Info: Epoch 23\n",
      "└ @ ConvGRU /Users/kahingleung/.julia/packages/Flux/sY3yx/src/optimise/train.jl:136\n"
     ]
    },
    {
     "name": "stdout",
     "output_type": "stream",
     "text": [
      "mse_loss(xtest, ytest) = 1.658054f0\n",
      "mse_loss(xtest, ytest) = 1.6558019f0\n"
     ]
    },
    {
     "name": "stderr",
     "output_type": "stream",
     "text": [
      "┌ Info: Epoch 24\n",
      "└ @ ConvGRU /Users/kahingleung/.julia/packages/Flux/sY3yx/src/optimise/train.jl:136\n"
     ]
    },
    {
     "name": "stdout",
     "output_type": "stream",
     "text": [
      "mse_loss(xtest, ytest) = 1.6506147f0\n"
     ]
    },
    {
     "name": "stderr",
     "output_type": "stream",
     "text": [
      "┌ Info: Epoch 25\n",
      "└ @ ConvGRU /Users/kahingleung/.julia/packages/Flux/sY3yx/src/optimise/train.jl:136\n"
     ]
    },
    {
     "name": "stdout",
     "output_type": "stream",
     "text": [
      "mse_loss(xtest, ytest) = 1.6466528f0\n"
     ]
    },
    {
     "name": "stderr",
     "output_type": "stream",
     "text": [
      "┌ Info: Epoch 26\n",
      "└ @ ConvGRU /Users/kahingleung/.julia/packages/Flux/sY3yx/src/optimise/train.jl:136\n"
     ]
    },
    {
     "name": "stdout",
     "output_type": "stream",
     "text": [
      "mse_loss(xtest, ytest) = 1.6423339f0\n"
     ]
    },
    {
     "name": "stderr",
     "output_type": "stream",
     "text": [
      "┌ Info: Epoch 27\n",
      "└ @ ConvGRU /Users/kahingleung/.julia/packages/Flux/sY3yx/src/optimise/train.jl:136\n"
     ]
    },
    {
     "name": "stdout",
     "output_type": "stream",
     "text": [
      "mse_loss(xtest, ytest) = 1.6342196f0\n"
     ]
    },
    {
     "name": "stderr",
     "output_type": "stream",
     "text": [
      "┌ Info: Epoch 28\n",
      "└ @ ConvGRU /Users/kahingleung/.julia/packages/Flux/sY3yx/src/optimise/train.jl:136\n"
     ]
    },
    {
     "name": "stdout",
     "output_type": "stream",
     "text": [
      "mse_loss(xtest, ytest) = 1.6308502f0\n"
     ]
    },
    {
     "name": "stderr",
     "output_type": "stream",
     "text": [
      "┌ Info: Epoch 29\n",
      "└ @ ConvGRU /Users/kahingleung/.julia/packages/Flux/sY3yx/src/optimise/train.jl:136\n"
     ]
    },
    {
     "name": "stdout",
     "output_type": "stream",
     "text": [
      "mse_loss(xtest, ytest) = 1.6319346f0\n"
     ]
    },
    {
     "name": "stderr",
     "output_type": "stream",
     "text": [
      "┌ Info: Epoch 30\n",
      "└ @ ConvGRU /Users/kahingleung/.julia/packages/Flux/sY3yx/src/optimise/train.jl:136\n"
     ]
    },
    {
     "name": "stdout",
     "output_type": "stream",
     "text": [
      "(250,)\n",
      "myObjective(df, seqlen, Nh, lr, sym * \"-\" * string(i)) = 1.6475048f0\n",
      "172060.005994842503189409\n",
      "mse_loss(xtest, ytest) = 1.9713027f0\n",
      "mse_loss(xtest, ytest) = 1.943017f0\n"
     ]
    },
    {
     "name": "stderr",
     "output_type": "stream",
     "text": [
      "┌ Info: Epoch 1\n",
      "└ @ ConvGRU /Users/kahingleung/.julia/packages/Flux/sY3yx/src/optimise/train.jl:136\n"
     ]
    },
    {
     "name": "stdout",
     "output_type": "stream",
     "text": [
      "mse_loss(xtest, ytest) = 1.9197823f0\n"
     ]
    },
    {
     "name": "stderr",
     "output_type": "stream",
     "text": [
      "┌ Info: Epoch 2\n",
      "└ @ ConvGRU /Users/kahingleung/.julia/packages/Flux/sY3yx/src/optimise/train.jl:136\n"
     ]
    },
    {
     "name": "stdout",
     "output_type": "stream",
     "text": [
      "mse_loss(xtest, ytest) = 1.8705876f0\n"
     ]
    },
    {
     "name": "stderr",
     "output_type": "stream",
     "text": [
      "┌ Info: Epoch 3\n",
      "└ @ ConvGRU /Users/kahingleung/.julia/packages/Flux/sY3yx/src/optimise/train.jl:136\n"
     ]
    },
    {
     "name": "stdout",
     "output_type": "stream",
     "text": [
      "mse_loss(xtest, ytest) = 1.8246785f0\n"
     ]
    },
    {
     "name": "stderr",
     "output_type": "stream",
     "text": [
      "┌ Info: Epoch 4\n",
      "└ @ ConvGRU /Users/kahingleung/.julia/packages/Flux/sY3yx/src/optimise/train.jl:136\n"
     ]
    },
    {
     "name": "stdout",
     "output_type": "stream",
     "text": [
      "mse_loss(xtest, ytest) = 1.8093138f0\n"
     ]
    },
    {
     "name": "stderr",
     "output_type": "stream",
     "text": [
      "┌ Info: Epoch 5\n",
      "└ @ ConvGRU /Users/kahingleung/.julia/packages/Flux/sY3yx/src/optimise/train.jl:136\n"
     ]
    },
    {
     "name": "stdout",
     "output_type": "stream",
     "text": [
      "mse_loss(xtest, ytest) = 1.6965381f0\n"
     ]
    },
    {
     "name": "stderr",
     "output_type": "stream",
     "text": [
      "┌ Info: Epoch 6\n",
      "└ @ ConvGRU /Users/kahingleung/.julia/packages/Flux/sY3yx/src/optimise/train.jl:136\n"
     ]
    },
    {
     "name": "stdout",
     "output_type": "stream",
     "text": [
      "mse_loss(xtest, ytest) = 1.7195807f0\n"
     ]
    },
    {
     "name": "stderr",
     "output_type": "stream",
     "text": [
      "┌ Info: Epoch 7\n",
      "└ @ ConvGRU /Users/kahingleung/.julia/packages/Flux/sY3yx/src/optimise/train.jl:136\n"
     ]
    },
    {
     "name": "stdout",
     "output_type": "stream",
     "text": [
      "mse_loss(xtest, ytest) = 1.70118f0\n"
     ]
    },
    {
     "name": "stderr",
     "output_type": "stream",
     "text": [
      "┌ Info: Epoch 8\n",
      "└ @ ConvGRU /Users/kahingleung/.julia/packages/Flux/sY3yx/src/optimise/train.jl:136\n"
     ]
    },
    {
     "name": "stdout",
     "output_type": "stream",
     "text": [
      "mse_loss(xtest, ytest) = 1.6971914f0\n"
     ]
    },
    {
     "name": "stderr",
     "output_type": "stream",
     "text": [
      "┌ Info: Epoch 9\n",
      "└ @ ConvGRU /Users/kahingleung/.julia/packages/Flux/sY3yx/src/optimise/train.jl:136\n",
      "┌ Info: Epoch 10\n",
      "└ @ ConvGRU /Users/kahingleung/.julia/packages/Flux/sY3yx/src/optimise/train.jl:136\n"
     ]
    },
    {
     "name": "stdout",
     "output_type": "stream",
     "text": [
      "mse_loss(xtest, ytest) = 1.6924622f0\n"
     ]
    },
    {
     "name": "stderr",
     "output_type": "stream",
     "text": [
      "┌ Info: Epoch 11\n",
      "└ @ ConvGRU /Users/kahingleung/.julia/packages/Flux/sY3yx/src/optimise/train.jl:136\n"
     ]
    },
    {
     "name": "stdout",
     "output_type": "stream",
     "text": [
      "mse_loss(xtest, ytest) = 1.6696154f0\n",
      "mse_loss(xtest, ytest) = 1.669965f0\n"
     ]
    },
    {
     "name": "stderr",
     "output_type": "stream",
     "text": [
      "┌ Info: Epoch 12\n",
      "└ @ ConvGRU /Users/kahingleung/.julia/packages/Flux/sY3yx/src/optimise/train.jl:136\n"
     ]
    },
    {
     "name": "stdout",
     "output_type": "stream",
     "text": [
      "mse_loss(xtest, ytest) = 1.6690658f0\n"
     ]
    },
    {
     "name": "stderr",
     "output_type": "stream",
     "text": [
      "┌ Info: Epoch 13\n",
      "└ @ ConvGRU /Users/kahingleung/.julia/packages/Flux/sY3yx/src/optimise/train.jl:136\n",
      "┌ Info: Epoch 14\n",
      "└ @ ConvGRU /Users/kahingleung/.julia/packages/Flux/sY3yx/src/optimise/train.jl:136\n"
     ]
    },
    {
     "name": "stdout",
     "output_type": "stream",
     "text": [
      "mse_loss(xtest, ytest) = 1.7648435f0\n"
     ]
    },
    {
     "name": "stderr",
     "output_type": "stream",
     "text": [
      "┌ Info: Epoch 15\n",
      "└ @ ConvGRU /Users/kahingleung/.julia/packages/Flux/sY3yx/src/optimise/train.jl:136\n"
     ]
    },
    {
     "name": "stdout",
     "output_type": "stream",
     "text": [
      "mse_loss(xtest, ytest) = 1.6572295f0\n",
      "mse_loss(xtest, ytest) = 1.6626103f0\n"
     ]
    },
    {
     "name": "stderr",
     "output_type": "stream",
     "text": [
      "┌ Info: Epoch 16\n",
      "└ @ ConvGRU /Users/kahingleung/.julia/packages/Flux/sY3yx/src/optimise/train.jl:136\n"
     ]
    },
    {
     "name": "stdout",
     "output_type": "stream",
     "text": [
      "mse_loss(xtest, ytest) = 1.6534963f0\n"
     ]
    },
    {
     "name": "stderr",
     "output_type": "stream",
     "text": [
      "┌ Info: Epoch 17\n",
      "└ @ ConvGRU /Users/kahingleung/.julia/packages/Flux/sY3yx/src/optimise/train.jl:136\n"
     ]
    },
    {
     "name": "stdout",
     "output_type": "stream",
     "text": [
      "mse_loss(xtest, ytest) = 1.8431122f0\n"
     ]
    },
    {
     "name": "stderr",
     "output_type": "stream",
     "text": [
      "┌ Info: Epoch 18\n",
      "└ @ ConvGRU /Users/kahingleung/.julia/packages/Flux/sY3yx/src/optimise/train.jl:136\n"
     ]
    },
    {
     "name": "stdout",
     "output_type": "stream",
     "text": [
      "mse_loss(xtest, ytest) = 1.6384217f0\n"
     ]
    },
    {
     "name": "stderr",
     "output_type": "stream",
     "text": [
      "┌ Info: Epoch 19\n",
      "└ @ ConvGRU /Users/kahingleung/.julia/packages/Flux/sY3yx/src/optimise/train.jl:136\n"
     ]
    },
    {
     "name": "stdout",
     "output_type": "stream",
     "text": [
      "mse_loss(xtest, ytest) = 1.6188759f0\n"
     ]
    },
    {
     "name": "stderr",
     "output_type": "stream",
     "text": [
      "┌ Info: Epoch 20\n",
      "└ @ ConvGRU /Users/kahingleung/.julia/packages/Flux/sY3yx/src/optimise/train.jl:136\n"
     ]
    },
    {
     "name": "stdout",
     "output_type": "stream",
     "text": [
      "mse_loss(xtest, ytest) = 1.6118872f0\n"
     ]
    },
    {
     "name": "stderr",
     "output_type": "stream",
     "text": [
      "┌ Info: Epoch 21\n",
      "└ @ ConvGRU /Users/kahingleung/.julia/packages/Flux/sY3yx/src/optimise/train.jl:136\n"
     ]
    },
    {
     "name": "stdout",
     "output_type": "stream",
     "text": [
      "mse_loss(xtest, ytest) = 1.5991164f0\n"
     ]
    },
    {
     "name": "stderr",
     "output_type": "stream",
     "text": [
      "┌ Info: Epoch 22\n",
      "└ @ ConvGRU /Users/kahingleung/.julia/packages/Flux/sY3yx/src/optimise/train.jl:136\n",
      "┌ Info: Epoch 23\n",
      "└ @ ConvGRU /Users/kahingleung/.julia/packages/Flux/sY3yx/src/optimise/train.jl:136\n"
     ]
    },
    {
     "name": "stdout",
     "output_type": "stream",
     "text": [
      "mse_loss(xtest, ytest) = 1.6345714f0\n",
      "mse_loss(xtest, ytest) = 1.6238512f0\n"
     ]
    },
    {
     "name": "stderr",
     "output_type": "stream",
     "text": [
      "┌ Info: Epoch 24\n",
      "└ @ ConvGRU /Users/kahingleung/.julia/packages/Flux/sY3yx/src/optimise/train.jl:136\n"
     ]
    },
    {
     "name": "stdout",
     "output_type": "stream",
     "text": [
      "mse_loss(xtest, ytest) = 1.6347905f0\n"
     ]
    },
    {
     "name": "stderr",
     "output_type": "stream",
     "text": [
      "┌ Info: Epoch 25\n",
      "└ @ ConvGRU /Users/kahingleung/.julia/packages/Flux/sY3yx/src/optimise/train.jl:136\n"
     ]
    },
    {
     "name": "stdout",
     "output_type": "stream",
     "text": [
      "mse_loss(xtest, ytest) = 1.6798499f0"
     ]
    },
    {
     "name": "stderr",
     "output_type": "stream",
     "text": [
      "┌ Info: Epoch 26\n",
      "└ @ ConvGRU /Users/kahingleung/.julia/packages/Flux/sY3yx/src/optimise/train.jl:136\n"
     ]
    },
    {
     "name": "stdout",
     "output_type": "stream",
     "text": [
      "\n",
      "mse_loss(xtest, ytest) = 1.6129831f0\n"
     ]
    },
    {
     "name": "stderr",
     "output_type": "stream",
     "text": [
      "┌ Info: Epoch 27\n",
      "└ @ ConvGRU /Users/kahingleung/.julia/packages/Flux/sY3yx/src/optimise/train.jl:136\n"
     ]
    },
    {
     "name": "stdout",
     "output_type": "stream",
     "text": [
      "mse_loss(xtest, ytest) = 1.6233137f0\n"
     ]
    },
    {
     "name": "stderr",
     "output_type": "stream",
     "text": [
      "┌ Info: Epoch 28\n",
      "└ @ ConvGRU /Users/kahingleung/.julia/packages/Flux/sY3yx/src/optimise/train.jl:136\n"
     ]
    },
    {
     "name": "stdout",
     "output_type": "stream",
     "text": [
      "mse_loss(xtest, ytest) = 1.7169772f0\n"
     ]
    },
    {
     "name": "stderr",
     "output_type": "stream",
     "text": [
      "┌ Info: Epoch 29\n",
      "└ @ ConvGRU /Users/kahingleung/.julia/packages/Flux/sY3yx/src/optimise/train.jl:136\n"
     ]
    },
    {
     "name": "stdout",
     "output_type": "stream",
     "text": [
      "mse_loss(xtest, ytest) = 1.6789973f0\n"
     ]
    },
    {
     "name": "stderr",
     "output_type": "stream",
     "text": [
      "┌ Info: Epoch 30\n",
      "└ @ ConvGRU /Users/kahingleung/.julia/packages/Flux/sY3yx/src/optimise/train.jl:136\n"
     ]
    },
    {
     "name": "stdout",
     "output_type": "stream",
     "text": [
      "(250,)\n",
      "myObjective(df, seqlen, Nh, lr, sym * \"-\" * string(i)) = 1.7837727f0\n",
      "181060.003593813663804626\n",
      "mse_loss(xtest, ytest) = 2.020834f0\n",
      "mse_loss(xtest, ytest) = 1.9937665f0\n"
     ]
    },
    {
     "name": "stderr",
     "output_type": "stream",
     "text": [
      "┌ Info: Epoch 1\n",
      "└ @ ConvGRU /Users/kahingleung/.julia/packages/Flux/sY3yx/src/optimise/train.jl:136\n"
     ]
    },
    {
     "name": "stdout",
     "output_type": "stream",
     "text": [
      "mse_loss(xtest, ytest) = 2.0147233f0\n"
     ]
    },
    {
     "name": "stderr",
     "output_type": "stream",
     "text": [
      "┌ Info: Epoch 2\n",
      "└ @ ConvGRU /Users/kahingleung/.julia/packages/Flux/sY3yx/src/optimise/train.jl:136\n"
     ]
    },
    {
     "name": "stdout",
     "output_type": "stream",
     "text": [
      "mse_loss(xtest, ytest) = 2.0135722f0\n"
     ]
    },
    {
     "name": "stderr",
     "output_type": "stream",
     "text": [
      "┌ Info: Epoch 3\n",
      "└ @ ConvGRU /Users/kahingleung/.julia/packages/Flux/sY3yx/src/optimise/train.jl:136\n"
     ]
    },
    {
     "name": "stdout",
     "output_type": "stream",
     "text": [
      "mse_loss(xtest, ytest) = 1.996296f0\n"
     ]
    },
    {
     "name": "stderr",
     "output_type": "stream",
     "text": [
      "┌ Info: Epoch 4\n",
      "└ @ ConvGRU /Users/kahingleung/.julia/packages/Flux/sY3yx/src/optimise/train.jl:136\n"
     ]
    },
    {
     "name": "stdout",
     "output_type": "stream",
     "text": [
      "mse_loss(xtest, ytest) = 1.9385433f0\n"
     ]
    },
    {
     "name": "stderr",
     "output_type": "stream",
     "text": [
      "┌ Info: Epoch 5\n",
      "└ @ ConvGRU /Users/kahingleung/.julia/packages/Flux/sY3yx/src/optimise/train.jl:136\n"
     ]
    },
    {
     "name": "stdout",
     "output_type": "stream",
     "text": [
      "mse_loss(xtest, ytest) = 1.864172f0\n"
     ]
    },
    {
     "name": "stderr",
     "output_type": "stream",
     "text": [
      "┌ Info: Epoch 6\n",
      "└ @ ConvGRU /Users/kahingleung/.julia/packages/Flux/sY3yx/src/optimise/train.jl:136\n"
     ]
    },
    {
     "name": "stdout",
     "output_type": "stream",
     "text": [
      "mse_loss(xtest, ytest) = 1.7932742f0\n"
     ]
    },
    {
     "name": "stderr",
     "output_type": "stream",
     "text": [
      "┌ Info: Epoch 7\n",
      "└ @ ConvGRU /Users/kahingleung/.julia/packages/Flux/sY3yx/src/optimise/train.jl:136\n",
      "┌ Info: Epoch 8\n",
      "└ @ ConvGRU /Users/kahingleung/.julia/packages/Flux/sY3yx/src/optimise/train.jl:136\n"
     ]
    },
    {
     "name": "stdout",
     "output_type": "stream",
     "text": [
      "mse_loss(xtest, ytest) = 1.7313694f0\n"
     ]
    },
    {
     "name": "stderr",
     "output_type": "stream",
     "text": [
      "┌ Info: Epoch 9\n",
      "└ @ ConvGRU /Users/kahingleung/.julia/packages/Flux/sY3yx/src/optimise/train.jl:136\n"
     ]
    },
    {
     "name": "stdout",
     "output_type": "stream",
     "text": [
      "mse_loss(xtest, ytest) = 1.7034733f0\n",
      "mse_loss(xtest, ytest) = 1.6858352f0\n"
     ]
    },
    {
     "name": "stderr",
     "output_type": "stream",
     "text": [
      "┌ Info: Epoch 10\n",
      "└ @ ConvGRU /Users/kahingleung/.julia/packages/Flux/sY3yx/src/optimise/train.jl:136\n"
     ]
    },
    {
     "name": "stdout",
     "output_type": "stream",
     "text": [
      "mse_loss(xtest, ytest) = 1.6812254f0\n"
     ]
    },
    {
     "name": "stderr",
     "output_type": "stream",
     "text": [
      "┌ Info: Epoch 11\n",
      "└ @ ConvGRU /Users/kahingleung/.julia/packages/Flux/sY3yx/src/optimise/train.jl:136\n",
      "┌ Info: Epoch 12\n",
      "└ @ ConvGRU /Users/kahingleung/.julia/packages/Flux/sY3yx/src/optimise/train.jl:136\n"
     ]
    },
    {
     "name": "stdout",
     "output_type": "stream",
     "text": [
      "mse_loss(xtest, ytest) = 1.6623936f0\n",
      "mse_loss(xtest, ytest) = 1.6543784f0\n"
     ]
    },
    {
     "name": "stderr",
     "output_type": "stream",
     "text": [
      "┌ Info: Epoch 13\n",
      "└ @ ConvGRU /Users/kahingleung/.julia/packages/Flux/sY3yx/src/optimise/train.jl:136\n"
     ]
    },
    {
     "name": "stdout",
     "output_type": "stream",
     "text": [
      "mse_loss(xtest, ytest) = 1.6399541f0\n"
     ]
    },
    {
     "name": "stderr",
     "output_type": "stream",
     "text": [
      "┌ Info: Epoch 14\n",
      "└ @ ConvGRU /Users/kahingleung/.julia/packages/Flux/sY3yx/src/optimise/train.jl:136\n"
     ]
    },
    {
     "name": "stdout",
     "output_type": "stream",
     "text": [
      "mse_loss(xtest, ytest) = 1.6235719f0\n"
     ]
    },
    {
     "name": "stderr",
     "output_type": "stream",
     "text": [
      "┌ Info: Epoch 15\n",
      "└ @ ConvGRU /Users/kahingleung/.julia/packages/Flux/sY3yx/src/optimise/train.jl:136\n"
     ]
    },
    {
     "name": "stdout",
     "output_type": "stream",
     "text": [
      "mse_loss(xtest, ytest) = 1.6118128f0\n"
     ]
    },
    {
     "name": "stderr",
     "output_type": "stream",
     "text": [
      "┌ Info: Epoch 16\n",
      "└ @ ConvGRU /Users/kahingleung/.julia/packages/Flux/sY3yx/src/optimise/train.jl:136\n"
     ]
    },
    {
     "name": "stdout",
     "output_type": "stream",
     "text": [
      "mse_loss(xtest, ytest) = 1.608431f0\n"
     ]
    },
    {
     "name": "stderr",
     "output_type": "stream",
     "text": [
      "┌ Info: Epoch 17\n",
      "└ @ ConvGRU /Users/kahingleung/.julia/packages/Flux/sY3yx/src/optimise/train.jl:136\n"
     ]
    },
    {
     "name": "stdout",
     "output_type": "stream",
     "text": [
      "mse_loss(xtest, ytest) = 1.5981692f0\n"
     ]
    },
    {
     "name": "stderr",
     "output_type": "stream",
     "text": [
      "┌ Info: Epoch 18\n",
      "└ @ ConvGRU /Users/kahingleung/.julia/packages/Flux/sY3yx/src/optimise/train.jl:136\n"
     ]
    },
    {
     "name": "stdout",
     "output_type": "stream",
     "text": [
      "mse_loss(xtest, ytest) = 1.5955149f0\n"
     ]
    },
    {
     "name": "stderr",
     "output_type": "stream",
     "text": [
      "┌ Info: Epoch 19\n",
      "└ @ ConvGRU /Users/kahingleung/.julia/packages/Flux/sY3yx/src/optimise/train.jl:136\n"
     ]
    },
    {
     "name": "stdout",
     "output_type": "stream",
     "text": [
      "mse_loss(xtest, ytest) = 1.5857102f0\n"
     ]
    },
    {
     "name": "stderr",
     "output_type": "stream",
     "text": [
      "┌ Info: Epoch 20\n",
      "└ @ ConvGRU /Users/kahingleung/.julia/packages/Flux/sY3yx/src/optimise/train.jl:136\n"
     ]
    },
    {
     "name": "stdout",
     "output_type": "stream",
     "text": [
      "mse_loss(xtest, ytest) = 1.5863823f0\n"
     ]
    },
    {
     "name": "stderr",
     "output_type": "stream",
     "text": [
      "┌ Info: Epoch 21\n",
      "└ @ ConvGRU /Users/kahingleung/.julia/packages/Flux/sY3yx/src/optimise/train.jl:136\n",
      "┌ Info: Epoch 22\n",
      "└ @ ConvGRU /Users/kahingleung/.julia/packages/Flux/sY3yx/src/optimise/train.jl:136\n"
     ]
    },
    {
     "name": "stdout",
     "output_type": "stream",
     "text": [
      "mse_loss(xtest, ytest) = 1.5975868f0\n",
      "mse_loss(xtest, ytest) = 1.6123319f0\n"
     ]
    },
    {
     "name": "stderr",
     "output_type": "stream",
     "text": [
      "┌ Info: Epoch 23\n",
      "└ @ ConvGRU /Users/kahingleung/.julia/packages/Flux/sY3yx/src/optimise/train.jl:136\n"
     ]
    },
    {
     "name": "stdout",
     "output_type": "stream",
     "text": [
      "mse_loss(xtest, ytest) = 1.6092181f0\n"
     ]
    },
    {
     "name": "stderr",
     "output_type": "stream",
     "text": [
      "┌ Info: Epoch 24\n",
      "└ @ ConvGRU /Users/kahingleung/.julia/packages/Flux/sY3yx/src/optimise/train.jl:136\n"
     ]
    },
    {
     "name": "stdout",
     "output_type": "stream",
     "text": [
      "mse_loss(xtest, ytest) = 1.620426f0\n"
     ]
    },
    {
     "name": "stderr",
     "output_type": "stream",
     "text": [
      "┌ Info: Epoch 25\n",
      "└ @ ConvGRU /Users/kahingleung/.julia/packages/Flux/sY3yx/src/optimise/train.jl:136\n"
     ]
    },
    {
     "name": "stdout",
     "output_type": "stream",
     "text": [
      "mse_loss(xtest, ytest) = 1.619605f0\n"
     ]
    },
    {
     "name": "stderr",
     "output_type": "stream",
     "text": [
      "┌ Info: Epoch 26\n",
      "└ @ ConvGRU /Users/kahingleung/.julia/packages/Flux/sY3yx/src/optimise/train.jl:136\n"
     ]
    },
    {
     "name": "stdout",
     "output_type": "stream",
     "text": [
      "mse_loss(xtest, ytest) = 1.6153516f0\n"
     ]
    },
    {
     "name": "stderr",
     "output_type": "stream",
     "text": [
      "┌ Info: Epoch 27\n",
      "└ @ ConvGRU /Users/kahingleung/.julia/packages/Flux/sY3yx/src/optimise/train.jl:136\n"
     ]
    },
    {
     "name": "stdout",
     "output_type": "stream",
     "text": [
      "mse_loss(xtest, ytest) = 1.6149207f0\n"
     ]
    },
    {
     "name": "stderr",
     "output_type": "stream",
     "text": [
      "┌ Info: Epoch 28\n",
      "└ @ ConvGRU /Users/kahingleung/.julia/packages/Flux/sY3yx/src/optimise/train.jl:136\n"
     ]
    },
    {
     "name": "stdout",
     "output_type": "stream",
     "text": [
      "mse_loss(xtest, ytest) = 1.614465f0\n"
     ]
    },
    {
     "name": "stderr",
     "output_type": "stream",
     "text": [
      "┌ Info: Epoch 29\n",
      "└ @ ConvGRU /Users/kahingleung/.julia/packages/Flux/sY3yx/src/optimise/train.jl:136\n",
      "┌ Info: Epoch 30\n",
      "└ @ ConvGRU /Users/kahingleung/.julia/packages/Flux/sY3yx/src/optimise/train.jl:136\n"
     ]
    },
    {
     "name": "stdout",
     "output_type": "stream",
     "text": [
      "mse_loss(xtest, ytest) = 1.6154232f0\n",
      "(250,)\n",
      "myObjective(df, seqlen, Nh, lr, sym * \"-\" * string(i)) = 1.6359184f0\n",
      "191080.005994842503189409\n",
      "mse_loss(xtest, ytest) = 2.205612f0\n",
      "mse_loss(xtest, ytest) = 2.0479524f0\n"
     ]
    },
    {
     "name": "stderr",
     "output_type": "stream",
     "text": [
      "┌ Info: Epoch 1\n",
      "└ @ ConvGRU /Users/kahingleung/.julia/packages/Flux/sY3yx/src/optimise/train.jl:136\n"
     ]
    },
    {
     "name": "stdout",
     "output_type": "stream",
     "text": [
      "mse_loss(xtest, ytest) = 1.8715522f0\n"
     ]
    },
    {
     "name": "stderr",
     "output_type": "stream",
     "text": [
      "┌ Info: Epoch 2\n",
      "└ @ ConvGRU /Users/kahingleung/.julia/packages/Flux/sY3yx/src/optimise/train.jl:136\n"
     ]
    },
    {
     "name": "stdout",
     "output_type": "stream",
     "text": [
      "mse_loss(xtest, ytest) = 1.7529801f0\n"
     ]
    },
    {
     "name": "stderr",
     "output_type": "stream",
     "text": [
      "┌ Info: Epoch 3\n",
      "└ @ ConvGRU /Users/kahingleung/.julia/packages/Flux/sY3yx/src/optimise/train.jl:136\n"
     ]
    },
    {
     "name": "stdout",
     "output_type": "stream",
     "text": [
      "mse_loss(xtest, ytest) = 1.7115161f0\n"
     ]
    },
    {
     "name": "stderr",
     "output_type": "stream",
     "text": [
      "┌ Info: Epoch 4\n",
      "└ @ ConvGRU /Users/kahingleung/.julia/packages/Flux/sY3yx/src/optimise/train.jl:136\n"
     ]
    },
    {
     "name": "stdout",
     "output_type": "stream",
     "text": [
      "mse_loss(xtest, ytest) = 1.7031568f0\n"
     ]
    },
    {
     "name": "stderr",
     "output_type": "stream",
     "text": [
      "┌ Info: Epoch 5\n",
      "└ @ ConvGRU /Users/kahingleung/.julia/packages/Flux/sY3yx/src/optimise/train.jl:136\n",
      "┌ Info: Epoch 6\n",
      "└ @ ConvGRU /Users/kahingleung/.julia/packages/Flux/sY3yx/src/optimise/train.jl:136\n"
     ]
    },
    {
     "name": "stdout",
     "output_type": "stream",
     "text": [
      "mse_loss(xtest, ytest) = 1.6904513f0\n",
      "mse_loss(xtest, ytest) = 1.7416886f0\n"
     ]
    },
    {
     "name": "stderr",
     "output_type": "stream",
     "text": [
      "┌ Info: Epoch 7\n",
      "└ @ ConvGRU /Users/kahingleung/.julia/packages/Flux/sY3yx/src/optimise/train.jl:136\n"
     ]
    },
    {
     "name": "stdout",
     "output_type": "stream",
     "text": [
      "mse_loss(xtest, ytest) = 1.6498479f0\n"
     ]
    },
    {
     "name": "stderr",
     "output_type": "stream",
     "text": [
      "┌ Info: Epoch 8\n",
      "└ @ ConvGRU /Users/kahingleung/.julia/packages/Flux/sY3yx/src/optimise/train.jl:136\n"
     ]
    },
    {
     "name": "stdout",
     "output_type": "stream",
     "text": [
      "mse_loss(xtest, ytest) = 1.755716f0\n"
     ]
    },
    {
     "name": "stderr",
     "output_type": "stream",
     "text": [
      "┌ Info: Epoch 9\n",
      "└ @ ConvGRU /Users/kahingleung/.julia/packages/Flux/sY3yx/src/optimise/train.jl:136\n"
     ]
    },
    {
     "name": "stdout",
     "output_type": "stream",
     "text": [
      "mse_loss(xtest, ytest) = 1.6550587f0\n"
     ]
    },
    {
     "name": "stderr",
     "output_type": "stream",
     "text": [
      "┌ Info: Epoch 10\n",
      "└ @ ConvGRU /Users/kahingleung/.julia/packages/Flux/sY3yx/src/optimise/train.jl:136\n"
     ]
    },
    {
     "name": "stdout",
     "output_type": "stream",
     "text": [
      "mse_loss(xtest, ytest) = 1.5936377f0\n"
     ]
    },
    {
     "name": "stderr",
     "output_type": "stream",
     "text": [
      "┌ Info: Epoch 11\n",
      "└ @ ConvGRU /Users/kahingleung/.julia/packages/Flux/sY3yx/src/optimise/train.jl:136\n"
     ]
    },
    {
     "name": "stdout",
     "output_type": "stream",
     "text": [
      "mse_loss(xtest, ytest) = 1.6093704f0\n"
     ]
    },
    {
     "name": "stderr",
     "output_type": "stream",
     "text": [
      "┌ Info: Epoch 12\n",
      "└ @ ConvGRU /Users/kahingleung/.julia/packages/Flux/sY3yx/src/optimise/train.jl:136\n"
     ]
    },
    {
     "name": "stdout",
     "output_type": "stream",
     "text": [
      "mse_loss(xtest, ytest) = 1.6581239f0\n"
     ]
    },
    {
     "name": "stderr",
     "output_type": "stream",
     "text": [
      "┌ Info: Epoch 13\n",
      "└ @ ConvGRU /Users/kahingleung/.julia/packages/Flux/sY3yx/src/optimise/train.jl:136\n",
      "┌ Info: Epoch 14\n",
      "└ @ ConvGRU /Users/kahingleung/.julia/packages/Flux/sY3yx/src/optimise/train.jl:136\n"
     ]
    },
    {
     "name": "stdout",
     "output_type": "stream",
     "text": [
      "mse_loss(xtest, ytest) = 1.6964455f0\n"
     ]
    },
    {
     "name": "stderr",
     "output_type": "stream",
     "text": [
      "┌ Info: Epoch 15\n",
      "└ @ ConvGRU /Users/kahingleung/.julia/packages/Flux/sY3yx/src/optimise/train.jl:136\n"
     ]
    },
    {
     "name": "stdout",
     "output_type": "stream",
     "text": [
      "mse_loss(xtest, ytest) = 1.6480051f0\n",
      "mse_loss(xtest, ytest) = 1.6143192f0\n"
     ]
    },
    {
     "name": "stderr",
     "output_type": "stream",
     "text": [
      "┌ Info: Epoch 16\n",
      "└ @ ConvGRU /Users/kahingleung/.julia/packages/Flux/sY3yx/src/optimise/train.jl:136\n"
     ]
    },
    {
     "name": "stdout",
     "output_type": "stream",
     "text": [
      "mse_loss(xtest, ytest) = 1.6280911f0\n"
     ]
    },
    {
     "name": "stderr",
     "output_type": "stream",
     "text": [
      "┌ Info: Epoch 17\n",
      "└ @ ConvGRU /Users/kahingleung/.julia/packages/Flux/sY3yx/src/optimise/train.jl:136\n",
      "┌ Info: Epoch 18\n",
      "└ @ ConvGRU /Users/kahingleung/.julia/packages/Flux/sY3yx/src/optimise/train.jl:136\n"
     ]
    },
    {
     "name": "stdout",
     "output_type": "stream",
     "text": [
      "mse_loss(xtest, ytest) = 1.6082108f0\n",
      "mse_loss(xtest, ytest) = 1.5841194f0\n"
     ]
    },
    {
     "name": "stderr",
     "output_type": "stream",
     "text": [
      "┌ Info: Epoch 19\n",
      "└ @ ConvGRU /Users/kahingleung/.julia/packages/Flux/sY3yx/src/optimise/train.jl:136\n"
     ]
    },
    {
     "name": "stdout",
     "output_type": "stream",
     "text": [
      "mse_loss(xtest, ytest) = 1.6037958f0\n"
     ]
    },
    {
     "name": "stderr",
     "output_type": "stream",
     "text": [
      "┌ Info: Epoch 20\n",
      "└ @ ConvGRU /Users/kahingleung/.julia/packages/Flux/sY3yx/src/optimise/train.jl:136\n"
     ]
    },
    {
     "name": "stdout",
     "output_type": "stream",
     "text": [
      "mse_loss(xtest, ytest) = 1.5802075f0\n"
     ]
    },
    {
     "name": "stderr",
     "output_type": "stream",
     "text": [
      "┌ Info: Epoch 21\n",
      "└ @ ConvGRU /Users/kahingleung/.julia/packages/Flux/sY3yx/src/optimise/train.jl:136\n",
      "┌ Info: Epoch 22\n",
      "└ @ ConvGRU /Users/kahingleung/.julia/packages/Flux/sY3yx/src/optimise/train.jl:136\n"
     ]
    },
    {
     "name": "stdout",
     "output_type": "stream",
     "text": [
      "mse_loss(xtest, ytest) = 1.569607f0\n",
      "mse_loss(xtest, ytest) = 1.6095364f0\n"
     ]
    },
    {
     "name": "stderr",
     "output_type": "stream",
     "text": [
      "┌ Info: Epoch 23\n",
      "└ @ ConvGRU /Users/kahingleung/.julia/packages/Flux/sY3yx/src/optimise/train.jl:136\n"
     ]
    },
    {
     "name": "stdout",
     "output_type": "stream",
     "text": [
      "mse_loss(xtest, ytest) = 1.541087f0\n"
     ]
    },
    {
     "name": "stderr",
     "output_type": "stream",
     "text": [
      "┌ Info: Epoch 24\n",
      "└ @ ConvGRU /Users/kahingleung/.julia/packages/Flux/sY3yx/src/optimise/train.jl:136\n"
     ]
    },
    {
     "name": "stdout",
     "output_type": "stream",
     "text": [
      "mse_loss(xtest, ytest) = 1.5663437f0\n"
     ]
    },
    {
     "name": "stderr",
     "output_type": "stream",
     "text": [
      "┌ Info: Epoch 25\n",
      "└ @ ConvGRU /Users/kahingleung/.julia/packages/Flux/sY3yx/src/optimise/train.jl:136\n",
      "┌ Info: Epoch 26\n",
      "└ @ ConvGRU /Users/kahingleung/.julia/packages/Flux/sY3yx/src/optimise/train.jl:136\n"
     ]
    },
    {
     "name": "stdout",
     "output_type": "stream",
     "text": [
      "mse_loss(xtest, ytest) = 1.5794902f0\n",
      "mse_loss(xtest, ytest) = 1.5496727f0\n"
     ]
    },
    {
     "name": "stderr",
     "output_type": "stream",
     "text": [
      "┌ Info: Epoch 27\n",
      "└ @ ConvGRU /Users/kahingleung/.julia/packages/Flux/sY3yx/src/optimise/train.jl:136\n"
     ]
    },
    {
     "name": "stdout",
     "output_type": "stream",
     "text": [
      "mse_loss(xtest, ytest) = 1.5507631f0\n"
     ]
    },
    {
     "name": "stderr",
     "output_type": "stream",
     "text": [
      "┌ Info: Epoch 28\n",
      "└ @ ConvGRU /Users/kahingleung/.julia/packages/Flux/sY3yx/src/optimise/train.jl:136\n"
     ]
    },
    {
     "name": "stdout",
     "output_type": "stream",
     "text": [
      "mse_loss(xtest, ytest) = 1.5605884f0\n"
     ]
    },
    {
     "name": "stderr",
     "output_type": "stream",
     "text": [
      "┌ Info: Epoch 29\n",
      "└ @ ConvGRU /Users/kahingleung/.julia/packages/Flux/sY3yx/src/optimise/train.jl:136\n",
      "┌ Info: Epoch 30\n",
      "└ @ ConvGRU /Users/kahingleung/.julia/packages/Flux/sY3yx/src/optimise/train.jl:136\n"
     ]
    },
    {
     "name": "stdout",
     "output_type": "stream",
     "text": [
      "mse_loss(xtest, ytest) = 1.5423434f0\n",
      "(250,)\n",
      "myObjective(df, seqlen, Nh, lr, sym * \"-\" * string(i)) = 1.5483305f0\n",
      "201080.01\n",
      "mse_loss(xtest, ytest) = 2.0023289f0\n",
      "mse_loss(xtest, ytest) = 1.9270087f0\n"
     ]
    },
    {
     "name": "stderr",
     "output_type": "stream",
     "text": [
      "┌ Info: Epoch 1\n",
      "└ @ ConvGRU /Users/kahingleung/.julia/packages/Flux/sY3yx/src/optimise/train.jl:136\n"
     ]
    },
    {
     "name": "stdout",
     "output_type": "stream",
     "text": [
      "mse_loss(xtest, ytest) = 1.9294192f0\n"
     ]
    },
    {
     "name": "stderr",
     "output_type": "stream",
     "text": [
      "┌ Info: Epoch 2\n",
      "└ @ ConvGRU /Users/kahingleung/.julia/packages/Flux/sY3yx/src/optimise/train.jl:136\n"
     ]
    },
    {
     "name": "stdout",
     "output_type": "stream",
     "text": [
      "mse_loss(xtest, ytest) = 1.7290272f0\n"
     ]
    },
    {
     "name": "stderr",
     "output_type": "stream",
     "text": [
      "┌ Info: Epoch 3\n",
      "└ @ ConvGRU /Users/kahingleung/.julia/packages/Flux/sY3yx/src/optimise/train.jl:136\n"
     ]
    },
    {
     "name": "stdout",
     "output_type": "stream",
     "text": [
      "mse_loss(xtest, ytest) = 1.6608782f0\n"
     ]
    },
    {
     "name": "stderr",
     "output_type": "stream",
     "text": [
      "┌ Info: Epoch 4\n",
      "└ @ ConvGRU /Users/kahingleung/.julia/packages/Flux/sY3yx/src/optimise/train.jl:136\n"
     ]
    },
    {
     "name": "stdout",
     "output_type": "stream",
     "text": [
      "mse_loss(xtest, ytest) = 1.6393129f0\n"
     ]
    },
    {
     "name": "stderr",
     "output_type": "stream",
     "text": [
      "┌ Info: Epoch 5\n",
      "└ @ ConvGRU /Users/kahingleung/.julia/packages/Flux/sY3yx/src/optimise/train.jl:136\n"
     ]
    },
    {
     "name": "stdout",
     "output_type": "stream",
     "text": [
      "mse_loss(xtest, ytest) = 1.680243f0\n"
     ]
    },
    {
     "name": "stderr",
     "output_type": "stream",
     "text": [
      "┌ Info: Epoch 6\n",
      "└ @ ConvGRU /Users/kahingleung/.julia/packages/Flux/sY3yx/src/optimise/train.jl:136\n"
     ]
    },
    {
     "name": "stdout",
     "output_type": "stream",
     "text": [
      "mse_loss(xtest, ytest) = 1.7247096f0\n"
     ]
    },
    {
     "name": "stderr",
     "output_type": "stream",
     "text": [
      "┌ Info: Epoch 7\n",
      "└ @ ConvGRU /Users/kahingleung/.julia/packages/Flux/sY3yx/src/optimise/train.jl:136\n"
     ]
    },
    {
     "name": "stdout",
     "output_type": "stream",
     "text": [
      "mse_loss(xtest, ytest) = 1.6472249f0\n"
     ]
    },
    {
     "name": "stderr",
     "output_type": "stream",
     "text": [
      "┌ Info: Epoch 8\n",
      "└ @ ConvGRU /Users/kahingleung/.julia/packages/Flux/sY3yx/src/optimise/train.jl:136\n"
     ]
    },
    {
     "name": "stdout",
     "output_type": "stream",
     "text": [
      "mse_loss(xtest, ytest) = 1.6688743f0\n"
     ]
    },
    {
     "name": "stderr",
     "output_type": "stream",
     "text": [
      "┌ Info: Epoch 9\n",
      "└ @ ConvGRU /Users/kahingleung/.julia/packages/Flux/sY3yx/src/optimise/train.jl:136\n"
     ]
    },
    {
     "name": "stdout",
     "output_type": "stream",
     "text": [
      "mse_loss(xtest, ytest) = 1.6060809f0\n"
     ]
    },
    {
     "name": "stderr",
     "output_type": "stream",
     "text": [
      "┌ Info: Epoch 10\n",
      "└ @ ConvGRU /Users/kahingleung/.julia/packages/Flux/sY3yx/src/optimise/train.jl:136\n"
     ]
    },
    {
     "name": "stdout",
     "output_type": "stream",
     "text": [
      "mse_loss(xtest, ytest) = 1.7490432f0\n"
     ]
    },
    {
     "name": "stderr",
     "output_type": "stream",
     "text": [
      "┌ Info: Epoch 11\n",
      "└ @ ConvGRU /Users/kahingleung/.julia/packages/Flux/sY3yx/src/optimise/train.jl:136\n"
     ]
    },
    {
     "name": "stdout",
     "output_type": "stream",
     "text": [
      "mse_loss(xtest, ytest) = 1.5814056f0\n"
     ]
    },
    {
     "name": "stderr",
     "output_type": "stream",
     "text": [
      "┌ Info: Epoch 12\n",
      "└ @ ConvGRU /Users/kahingleung/.julia/packages/Flux/sY3yx/src/optimise/train.jl:136\n"
     ]
    },
    {
     "name": "stdout",
     "output_type": "stream",
     "text": [
      "mse_loss(xtest, ytest) = 1.5921141f0\n"
     ]
    },
    {
     "name": "stderr",
     "output_type": "stream",
     "text": [
      "┌ Info: Epoch 13\n",
      "└ @ ConvGRU /Users/kahingleung/.julia/packages/Flux/sY3yx/src/optimise/train.jl:136\n"
     ]
    },
    {
     "name": "stdout",
     "output_type": "stream",
     "text": [
      "mse_loss(xtest, ytest) = 1.6436012f0\n"
     ]
    },
    {
     "name": "stderr",
     "output_type": "stream",
     "text": [
      "┌ Info: Epoch 14\n",
      "└ @ ConvGRU /Users/kahingleung/.julia/packages/Flux/sY3yx/src/optimise/train.jl:136\n"
     ]
    },
    {
     "name": "stdout",
     "output_type": "stream",
     "text": [
      "mse_loss(xtest, ytest) = 1.6550593f0\n"
     ]
    },
    {
     "name": "stderr",
     "output_type": "stream",
     "text": [
      "┌ Info: Epoch 15\n",
      "└ @ ConvGRU /Users/kahingleung/.julia/packages/Flux/sY3yx/src/optimise/train.jl:136\n"
     ]
    },
    {
     "name": "stdout",
     "output_type": "stream",
     "text": [
      "mse_loss(xtest, ytest) = 1.619152f0\n"
     ]
    },
    {
     "name": "stderr",
     "output_type": "stream",
     "text": [
      "┌ Info: Epoch 16\n",
      "└ @ ConvGRU /Users/kahingleung/.julia/packages/Flux/sY3yx/src/optimise/train.jl:136\n",
      "┌ Info: Epoch 17\n",
      "└ @ ConvGRU /Users/kahingleung/.julia/packages/Flux/sY3yx/src/optimise/train.jl:136\n"
     ]
    },
    {
     "name": "stdout",
     "output_type": "stream",
     "text": [
      "mse_loss(xtest, ytest) = 1.6368552f0\n",
      "mse_loss(xtest, ytest) = 1.5493716f0\n"
     ]
    },
    {
     "name": "stderr",
     "output_type": "stream",
     "text": [
      "┌ Info: Epoch 18\n",
      "└ @ ConvGRU /Users/kahingleung/.julia/packages/Flux/sY3yx/src/optimise/train.jl:136\n"
     ]
    },
    {
     "name": "stdout",
     "output_type": "stream",
     "text": [
      "mse_loss(xtest, ytest) = 1.6147625f0\n"
     ]
    },
    {
     "name": "stderr",
     "output_type": "stream",
     "text": [
      "┌ Info: Epoch 19\n",
      "└ @ ConvGRU /Users/kahingleung/.julia/packages/Flux/sY3yx/src/optimise/train.jl:136\n",
      "┌ Info: Epoch 20\n",
      "└ @ ConvGRU /Users/kahingleung/.julia/packages/Flux/sY3yx/src/optimise/train.jl:136\n"
     ]
    },
    {
     "name": "stdout",
     "output_type": "stream",
     "text": [
      "mse_loss(xtest, ytest) = 1.5475366f0\n"
     ]
    },
    {
     "name": "stderr",
     "output_type": "stream",
     "text": [
      "┌ Info: Epoch 21\n",
      "└ @ ConvGRU /Users/kahingleung/.julia/packages/Flux/sY3yx/src/optimise/train.jl:136\n"
     ]
    },
    {
     "name": "stdout",
     "output_type": "stream",
     "text": [
      "mse_loss(xtest, ytest) = 1.5920446f0\n",
      "mse_loss(xtest, ytest) = 1.5544851f0\n"
     ]
    },
    {
     "name": "stderr",
     "output_type": "stream",
     "text": [
      "┌ Info: Epoch 22\n",
      "└ @ ConvGRU /Users/kahingleung/.julia/packages/Flux/sY3yx/src/optimise/train.jl:136\n"
     ]
    },
    {
     "name": "stdout",
     "output_type": "stream",
     "text": [
      "mse_loss(xtest, ytest) = 1.6259508f0\n"
     ]
    },
    {
     "name": "stderr",
     "output_type": "stream",
     "text": [
      "┌ Info: Epoch 23\n",
      "└ @ ConvGRU /Users/kahingleung/.julia/packages/Flux/sY3yx/src/optimise/train.jl:136\n",
      "┌ Info: Epoch 24\n",
      "└ @ ConvGRU /Users/kahingleung/.julia/packages/Flux/sY3yx/src/optimise/train.jl:136\n"
     ]
    },
    {
     "name": "stdout",
     "output_type": "stream",
     "text": [
      "mse_loss(xtest, ytest) = 1.5259745f0\n",
      "mse_loss(xtest, ytest) = 1.5511445f0\n"
     ]
    },
    {
     "name": "stderr",
     "output_type": "stream",
     "text": [
      "┌ Info: Epoch 25\n",
      "└ @ ConvGRU /Users/kahingleung/.julia/packages/Flux/sY3yx/src/optimise/train.jl:136\n"
     ]
    },
    {
     "name": "stdout",
     "output_type": "stream",
     "text": [
      "mse_loss(xtest, ytest) = 1.5951993f0\n"
     ]
    },
    {
     "name": "stderr",
     "output_type": "stream",
     "text": [
      "┌ Info: Epoch 26\n",
      "└ @ ConvGRU /Users/kahingleung/.julia/packages/Flux/sY3yx/src/optimise/train.jl:136\n"
     ]
    },
    {
     "name": "stdout",
     "output_type": "stream",
     "text": [
      "mse_loss(xtest, ytest) = 1.6652246f0\n"
     ]
    },
    {
     "name": "stderr",
     "output_type": "stream",
     "text": [
      "┌ Info: Epoch 27\n",
      "└ @ ConvGRU /Users/kahingleung/.julia/packages/Flux/sY3yx/src/optimise/train.jl:136\n"
     ]
    },
    {
     "name": "stdout",
     "output_type": "stream",
     "text": [
      "mse_loss(xtest, ytest) = 1.6265093f0\n"
     ]
    },
    {
     "name": "stderr",
     "output_type": "stream",
     "text": [
      "┌ Info: Epoch 28\n",
      "└ @ ConvGRU /Users/kahingleung/.julia/packages/Flux/sY3yx/src/optimise/train.jl:136\n"
     ]
    },
    {
     "name": "stdout",
     "output_type": "stream",
     "text": [
      "mse_loss(xtest, ytest) = 1.665415f0\n"
     ]
    },
    {
     "name": "stderr",
     "output_type": "stream",
     "text": [
      "┌ Info: Epoch 29\n",
      "└ @ ConvGRU /Users/kahingleung/.julia/packages/Flux/sY3yx/src/optimise/train.jl:136\n"
     ]
    },
    {
     "name": "stdout",
     "output_type": "stream",
     "text": [
      "mse_loss(xtest, ytest) = 1.5428067f0\n"
     ]
    },
    {
     "name": "stderr",
     "output_type": "stream",
     "text": [
      "┌ Info: Epoch 30\n",
      "└ @ ConvGRU /Users/kahingleung/.julia/packages/Flux/sY3yx/src/optimise/train.jl:136\n"
     ]
    },
    {
     "name": "stdout",
     "output_type": "stream",
     "text": [
      "(250,)\n",
      "myObjective(df, seqlen, Nh, lr, sym * \"-\" * string(i)) = 1.4633683f0\n",
      "mse_loss(xtest, ytest) = 1.9706041f0\n",
      "mse_loss(xtest, ytest) = 1.9530873f0\n"
     ]
    },
    {
     "name": "stderr",
     "output_type": "stream",
     "text": [
      "┌ Info: Epoch 1\n",
      "└ @ ConvGRU /Users/kahingleung/.julia/packages/Flux/sY3yx/src/optimise/train.jl:136\n",
      "┌ Info: Epoch 2\n",
      "└ @ ConvGRU /Users/kahingleung/.julia/packages/Flux/sY3yx/src/optimise/train.jl:136\n"
     ]
    },
    {
     "name": "stdout",
     "output_type": "stream",
     "text": [
      "mse_loss(xtest, ytest) = 1.901854f0\n"
     ]
    },
    {
     "name": "stderr",
     "output_type": "stream",
     "text": [
      "┌ Info: Epoch 3\n",
      "└ @ ConvGRU /Users/kahingleung/.julia/packages/Flux/sY3yx/src/optimise/train.jl:136\n"
     ]
    },
    {
     "name": "stdout",
     "output_type": "stream",
     "text": [
      "mse_loss(xtest, ytest) = 1.7654542f0\n",
      "mse_loss(xtest, ytest) = 1.8790656f0\n"
     ]
    },
    {
     "name": "stderr",
     "output_type": "stream",
     "text": [
      "┌ Info: Epoch 4\n",
      "└ @ ConvGRU /Users/kahingleung/.julia/packages/Flux/sY3yx/src/optimise/train.jl:136\n"
     ]
    },
    {
     "name": "stdout",
     "output_type": "stream",
     "text": [
      "mse_loss(xtest, ytest) = 1.9691266f0\n"
     ]
    },
    {
     "name": "stderr",
     "output_type": "stream",
     "text": [
      "┌ Info: Epoch 5\n",
      "└ @ ConvGRU /Users/kahingleung/.julia/packages/Flux/sY3yx/src/optimise/train.jl:136\n"
     ]
    },
    {
     "name": "stdout",
     "output_type": "stream",
     "text": [
      "mse_loss(xtest, ytest) = 1.6992481f0\n"
     ]
    },
    {
     "name": "stderr",
     "output_type": "stream",
     "text": [
      "┌ Info: Epoch 6\n",
      "└ @ ConvGRU /Users/kahingleung/.julia/packages/Flux/sY3yx/src/optimise/train.jl:136\n"
     ]
    },
    {
     "name": "stdout",
     "output_type": "stream",
     "text": [
      "mse_loss(xtest, ytest) = 1.7940897f0\n"
     ]
    },
    {
     "name": "stderr",
     "output_type": "stream",
     "text": [
      "┌ Info: Epoch 7\n",
      "└ @ ConvGRU /Users/kahingleung/.julia/packages/Flux/sY3yx/src/optimise/train.jl:136\n"
     ]
    },
    {
     "name": "stdout",
     "output_type": "stream",
     "text": [
      "mse_loss(xtest, ytest) = 1.7533637f0\n"
     ]
    },
    {
     "name": "stderr",
     "output_type": "stream",
     "text": [
      "┌ Info: Epoch 8\n",
      "└ @ ConvGRU /Users/kahingleung/.julia/packages/Flux/sY3yx/src/optimise/train.jl:136\n",
      "┌ Info: Epoch 9\n",
      "└ @ ConvGRU /Users/kahingleung/.julia/packages/Flux/sY3yx/src/optimise/train.jl:136\n"
     ]
    },
    {
     "name": "stdout",
     "output_type": "stream",
     "text": [
      "mse_loss(xtest, ytest) = 1.6778218f0\n",
      "mse_loss(xtest, ytest) = 1.6332862f0\n"
     ]
    },
    {
     "name": "stderr",
     "output_type": "stream",
     "text": [
      "┌ Info: Epoch 10\n",
      "└ @ ConvGRU /Users/kahingleung/.julia/packages/Flux/sY3yx/src/optimise/train.jl:136\n"
     ]
    },
    {
     "name": "stdout",
     "output_type": "stream",
     "text": [
      "mse_loss(xtest, ytest) = 1.6788417f0\n"
     ]
    },
    {
     "name": "stderr",
     "output_type": "stream",
     "text": [
      "┌ Info: Epoch 11\n",
      "└ @ ConvGRU /Users/kahingleung/.julia/packages/Flux/sY3yx/src/optimise/train.jl:136\n"
     ]
    },
    {
     "name": "stdout",
     "output_type": "stream",
     "text": [
      "mse_loss(xtest, ytest) = 1.5812125f0\n"
     ]
    },
    {
     "name": "stderr",
     "output_type": "stream",
     "text": [
      "┌ Info: Epoch 12\n",
      "└ @ ConvGRU /Users/kahingleung/.julia/packages/Flux/sY3yx/src/optimise/train.jl:136\n"
     ]
    },
    {
     "name": "stdout",
     "output_type": "stream",
     "text": [
      "mse_loss(xtest, ytest) = 1.6053736f0\n"
     ]
    },
    {
     "name": "stderr",
     "output_type": "stream",
     "text": [
      "┌ Info: Epoch 13\n",
      "└ @ ConvGRU /Users/kahingleung/.julia/packages/Flux/sY3yx/src/optimise/train.jl:136\n"
     ]
    },
    {
     "name": "stdout",
     "output_type": "stream",
     "text": [
      "mse_loss(xtest, ytest) = 1.5520295f0\n"
     ]
    },
    {
     "name": "stderr",
     "output_type": "stream",
     "text": [
      "┌ Info: Epoch 14\n",
      "└ @ ConvGRU /Users/kahingleung/.julia/packages/Flux/sY3yx/src/optimise/train.jl:136\n"
     ]
    },
    {
     "name": "stdout",
     "output_type": "stream",
     "text": [
      "mse_loss(xtest, ytest) = 1.6297026f0\n"
     ]
    },
    {
     "name": "stderr",
     "output_type": "stream",
     "text": [
      "┌ Info: Epoch 15\n",
      "└ @ ConvGRU /Users/kahingleung/.julia/packages/Flux/sY3yx/src/optimise/train.jl:136\n"
     ]
    },
    {
     "name": "stdout",
     "output_type": "stream",
     "text": [
      "mse_loss(xtest, ytest) = 1.5755477f0\n"
     ]
    },
    {
     "name": "stderr",
     "output_type": "stream",
     "text": [
      "┌ Info: Epoch 16\n",
      "└ @ ConvGRU /Users/kahingleung/.julia/packages/Flux/sY3yx/src/optimise/train.jl:136\n",
      "┌ Info: Epoch 17\n",
      "└ @ ConvGRU /Users/kahingleung/.julia/packages/Flux/sY3yx/src/optimise/train.jl:136\n"
     ]
    },
    {
     "name": "stdout",
     "output_type": "stream",
     "text": [
      "mse_loss(xtest, ytest) = 1.6001861f0\n"
     ]
    },
    {
     "name": "stderr",
     "output_type": "stream",
     "text": [
      "┌ Info: Epoch 18\n",
      "└ @ ConvGRU /Users/kahingleung/.julia/packages/Flux/sY3yx/src/optimise/train.jl:136\n"
     ]
    },
    {
     "name": "stdout",
     "output_type": "stream",
     "text": [
      "mse_loss(xtest, ytest) = 1.5482379f0\n",
      "mse_loss(xtest, ytest) = 1.5743855f0\n"
     ]
    },
    {
     "name": "stderr",
     "output_type": "stream",
     "text": [
      "┌ Info: Epoch 19\n",
      "└ @ ConvGRU /Users/kahingleung/.julia/packages/Flux/sY3yx/src/optimise/train.jl:136\n",
      "┌ Info: Epoch 20\n",
      "└ @ ConvGRU /Users/kahingleung/.julia/packages/Flux/sY3yx/src/optimise/train.jl:136\n"
     ]
    },
    {
     "name": "stdout",
     "output_type": "stream",
     "text": [
      "mse_loss(xtest, ytest) = 1.6223918f0\n",
      "mse_loss(xtest, ytest) = 1.579897f0\n"
     ]
    },
    {
     "name": "stderr",
     "output_type": "stream",
     "text": [
      "┌ Info: Epoch 21\n",
      "└ @ ConvGRU /Users/kahingleung/.julia/packages/Flux/sY3yx/src/optimise/train.jl:136\n"
     ]
    },
    {
     "name": "stdout",
     "output_type": "stream",
     "text": [
      "mse_loss(xtest, ytest) = 1.6201681f0\n"
     ]
    },
    {
     "name": "stderr",
     "output_type": "stream",
     "text": [
      "┌ Info: Epoch 22\n",
      "└ @ ConvGRU /Users/kahingleung/.julia/packages/Flux/sY3yx/src/optimise/train.jl:136\n"
     ]
    },
    {
     "name": "stdout",
     "output_type": "stream",
     "text": [
      "mse_loss(xtest, ytest) = 1.5561099f0\n"
     ]
    },
    {
     "name": "stderr",
     "output_type": "stream",
     "text": [
      "┌ Info: Epoch 23\n",
      "└ @ ConvGRU /Users/kahingleung/.julia/packages/Flux/sY3yx/src/optimise/train.jl:136\n"
     ]
    },
    {
     "name": "stdout",
     "output_type": "stream",
     "text": [
      "mse_loss(xtest, ytest) = 1.5988331f0\n"
     ]
    },
    {
     "name": "stderr",
     "output_type": "stream",
     "text": [
      "┌ Info: Epoch 24\n",
      "└ @ ConvGRU /Users/kahingleung/.julia/packages/Flux/sY3yx/src/optimise/train.jl:136\n"
     ]
    },
    {
     "name": "stdout",
     "output_type": "stream",
     "text": [
      "mse_loss(xtest, ytest) = 1.7082396f0\n"
     ]
    },
    {
     "name": "stderr",
     "output_type": "stream",
     "text": [
      "┌ Info: Epoch 25\n",
      "└ @ ConvGRU /Users/kahingleung/.julia/packages/Flux/sY3yx/src/optimise/train.jl:136\n"
     ]
    },
    {
     "name": "stdout",
     "output_type": "stream",
     "text": [
      "mse_loss(xtest, ytest) = 1.5241584f0\n"
     ]
    },
    {
     "name": "stderr",
     "output_type": "stream",
     "text": [
      "┌ Info: Epoch 26\n",
      "└ @ ConvGRU /Users/kahingleung/.julia/packages/Flux/sY3yx/src/optimise/train.jl:136\n"
     ]
    },
    {
     "name": "stdout",
     "output_type": "stream",
     "text": [
      "mse_loss(xtest, ytest) = 1.5479423f0\n"
     ]
    },
    {
     "name": "stderr",
     "output_type": "stream",
     "text": [
      "┌ Info: Epoch 27\n",
      "└ @ ConvGRU /Users/kahingleung/.julia/packages/Flux/sY3yx/src/optimise/train.jl:136\n",
      "┌ Info: Epoch 28\n",
      "└ @ ConvGRU /Users/kahingleung/.julia/packages/Flux/sY3yx/src/optimise/train.jl:136\n"
     ]
    },
    {
     "name": "stdout",
     "output_type": "stream",
     "text": [
      "mse_loss(xtest, ytest) = 1.572665f0\n",
      "mse_loss(xtest, ytest) = 1.560897f0\n"
     ]
    },
    {
     "name": "stderr",
     "output_type": "stream",
     "text": [
      "┌ Info: Epoch 29\n",
      "└ @ ConvGRU /Users/kahingleung/.julia/packages/Flux/sY3yx/src/optimise/train.jl:136\n"
     ]
    },
    {
     "name": "stdout",
     "output_type": "stream",
     "text": [
      "mse_loss(xtest, ytest) = 1.7074962f0\n"
     ]
    },
    {
     "name": "stderr",
     "output_type": "stream",
     "text": [
      "┌ Info: Epoch 30\n",
      "└ @ ConvGRU /Users/kahingleung/.julia/packages/Flux/sY3yx/src/optimise/train.jl:136\n"
     ]
    },
    {
     "name": "stdout",
     "output_type": "stream",
     "text": [
      "mse_loss(xtest, ytest) = 1.6636723f0\n"
     ]
    },
    {
     "name": "stderr",
     "output_type": "stream",
     "text": [
      "┌ Info: Epoch 31\n",
      "└ @ ConvGRU /Users/kahingleung/.julia/packages/Flux/sY3yx/src/optimise/train.jl:136\n"
     ]
    },
    {
     "name": "stdout",
     "output_type": "stream",
     "text": [
      "mse_loss(xtest, ytest) = 1.6736816f0\n"
     ]
    },
    {
     "name": "stderr",
     "output_type": "stream",
     "text": [
      "┌ Info: Epoch 32\n",
      "└ @ ConvGRU /Users/kahingleung/.julia/packages/Flux/sY3yx/src/optimise/train.jl:136\n"
     ]
    },
    {
     "name": "stdout",
     "output_type": "stream",
     "text": [
      "mse_loss(xtest, ytest) = 1.6125673f0\n"
     ]
    },
    {
     "name": "stderr",
     "output_type": "stream",
     "text": [
      "┌ Info: Epoch 33\n",
      "└ @ ConvGRU /Users/kahingleung/.julia/packages/Flux/sY3yx/src/optimise/train.jl:136\n"
     ]
    },
    {
     "name": "stdout",
     "output_type": "stream",
     "text": [
      "mse_loss(xtest, ytest) = 1.6833324f0\n"
     ]
    },
    {
     "name": "stderr",
     "output_type": "stream",
     "text": [
      "┌ Info: Epoch 34\n",
      "└ @ ConvGRU /Users/kahingleung/.julia/packages/Flux/sY3yx/src/optimise/train.jl:136\n"
     ]
    },
    {
     "name": "stdout",
     "output_type": "stream",
     "text": [
      "mse_loss(xtest, ytest) = 1.4742494f0\n"
     ]
    },
    {
     "name": "stderr",
     "output_type": "stream",
     "text": [
      "┌ Info: Epoch 35\n",
      "└ @ ConvGRU /Users/kahingleung/.julia/packages/Flux/sY3yx/src/optimise/train.jl:136\n",
      "┌ Info: Epoch 36\n",
      "└ @ ConvGRU /Users/kahingleung/.julia/packages/Flux/sY3yx/src/optimise/train.jl:136\n"
     ]
    },
    {
     "name": "stdout",
     "output_type": "stream",
     "text": [
      "mse_loss(xtest, ytest) = 1.6526532f0\n"
     ]
    },
    {
     "name": "stderr",
     "output_type": "stream",
     "text": [
      "┌ Info: Epoch 37\n",
      "└ @ ConvGRU /Users/kahingleung/.julia/packages/Flux/sY3yx/src/optimise/train.jl:136\n"
     ]
    },
    {
     "name": "stdout",
     "output_type": "stream",
     "text": [
      "mse_loss(xtest, ytest) = 1.7139958f0\n",
      "mse_loss(xtest, ytest) = 1.5233538f0\n"
     ]
    },
    {
     "name": "stderr",
     "output_type": "stream",
     "text": [
      "┌ Info: Epoch 38\n",
      "└ @ ConvGRU /Users/kahingleung/.julia/packages/Flux/sY3yx/src/optimise/train.jl:136\n"
     ]
    },
    {
     "name": "stdout",
     "output_type": "stream",
     "text": [
      "mse_loss(xtest, ytest) = 1.6794741f0\n"
     ]
    },
    {
     "name": "stderr",
     "output_type": "stream",
     "text": [
      "┌ Info: Epoch 39\n",
      "└ @ ConvGRU /Users/kahingleung/.julia/packages/Flux/sY3yx/src/optimise/train.jl:136\n",
      "┌ Info: Epoch 40\n",
      "└ @ ConvGRU /Users/kahingleung/.julia/packages/Flux/sY3yx/src/optimise/train.jl:136\n"
     ]
    },
    {
     "name": "stdout",
     "output_type": "stream",
     "text": [
      "mse_loss(xtest, ytest) = 1.7492205f0\n",
      "mse_loss(xtest, ytest) = 1.6161481f0\n"
     ]
    },
    {
     "name": "stderr",
     "output_type": "stream",
     "text": [
      "┌ Info: Epoch 41\n",
      "└ @ ConvGRU /Users/kahingleung/.julia/packages/Flux/sY3yx/src/optimise/train.jl:136\n"
     ]
    },
    {
     "name": "stdout",
     "output_type": "stream",
     "text": [
      "mse_loss(xtest, ytest) = 1.6634288f0\n"
     ]
    },
    {
     "name": "stderr",
     "output_type": "stream",
     "text": [
      "┌ Info: Epoch 42\n",
      "└ @ ConvGRU /Users/kahingleung/.julia/packages/Flux/sY3yx/src/optimise/train.jl:136\n"
     ]
    },
    {
     "name": "stdout",
     "output_type": "stream",
     "text": [
      "mse_loss(xtest, ytest) = 1.6564282f0\n"
     ]
    },
    {
     "name": "stderr",
     "output_type": "stream",
     "text": [
      "┌ Info: Epoch 43\n",
      "└ @ ConvGRU /Users/kahingleung/.julia/packages/Flux/sY3yx/src/optimise/train.jl:136\n"
     ]
    },
    {
     "name": "stdout",
     "output_type": "stream",
     "text": [
      "mse_loss(xtest, ytest) = 1.7976615f0\n"
     ]
    },
    {
     "name": "stderr",
     "output_type": "stream",
     "text": [
      "┌ Info: Epoch 44\n",
      "└ @ ConvGRU /Users/kahingleung/.julia/packages/Flux/sY3yx/src/optimise/train.jl:136\n"
     ]
    },
    {
     "name": "stdout",
     "output_type": "stream",
     "text": [
      "mse_loss(xtest, ytest) = 1.7194128f0\n"
     ]
    },
    {
     "name": "stderr",
     "output_type": "stream",
     "text": [
      "┌ Info: Epoch 45\n",
      "└ @ ConvGRU /Users/kahingleung/.julia/packages/Flux/sY3yx/src/optimise/train.jl:136\n"
     ]
    },
    {
     "name": "stdout",
     "output_type": "stream",
     "text": [
      "mse_loss(xtest, ytest) = 1.536714f0\n"
     ]
    },
    {
     "name": "stderr",
     "output_type": "stream",
     "text": [
      "┌ Info: Epoch 46\n",
      "└ @ ConvGRU /Users/kahingleung/.julia/packages/Flux/sY3yx/src/optimise/train.jl:136\n"
     ]
    },
    {
     "name": "stdout",
     "output_type": "stream",
     "text": [
      "mse_loss(xtest, ytest) = 1.5591828f0\n"
     ]
    },
    {
     "name": "stderr",
     "output_type": "stream",
     "text": [
      "┌ Info: Epoch 47\n",
      "└ @ ConvGRU /Users/kahingleung/.julia/packages/Flux/sY3yx/src/optimise/train.jl:136\n",
      "┌ Info: Epoch 48\n",
      "└ @ ConvGRU /Users/kahingleung/.julia/packages/Flux/sY3yx/src/optimise/train.jl:136\n"
     ]
    },
    {
     "name": "stdout",
     "output_type": "stream",
     "text": [
      "mse_loss(xtest, ytest) = 1.5869131f0\n"
     ]
    },
    {
     "name": "stderr",
     "output_type": "stream",
     "text": [
      "┌ Info: Epoch 49\n",
      "└ @ ConvGRU /Users/kahingleung/.julia/packages/Flux/sY3yx/src/optimise/train.jl:136\n"
     ]
    },
    {
     "name": "stdout",
     "output_type": "stream",
     "text": [
      "mse_loss(xtest, ytest) = 1.5975047f0\n",
      "mse_loss(xtest, ytest) = 1.583612f0\n"
     ]
    },
    {
     "name": "stderr",
     "output_type": "stream",
     "text": [
      "┌ Info: Epoch 50\n",
      "└ @ ConvGRU /Users/kahingleung/.julia/packages/Flux/sY3yx/src/optimise/train.jl:136\n"
     ]
    },
    {
     "name": "stdout",
     "output_type": "stream",
     "text": [
      "mse_loss(xtest, ytest) = 1.5699862f0\n"
     ]
    },
    {
     "name": "stderr",
     "output_type": "stream",
     "text": [
      "┌ Info: Epoch 51\n",
      "└ @ ConvGRU /Users/kahingleung/.julia/packages/Flux/sY3yx/src/optimise/train.jl:136\n"
     ]
    },
    {
     "name": "stdout",
     "output_type": "stream",
     "text": [
      "mse_loss(xtest, ytest) = 1.5291533f0\n"
     ]
    },
    {
     "name": "stderr",
     "output_type": "stream",
     "text": [
      "┌ Info: Epoch 52\n",
      "└ @ ConvGRU /Users/kahingleung/.julia/packages/Flux/sY3yx/src/optimise/train.jl:136\n"
     ]
    },
    {
     "name": "stdout",
     "output_type": "stream",
     "text": [
      "mse_loss(xtest, ytest) = 1.559846f0\n"
     ]
    },
    {
     "name": "stderr",
     "output_type": "stream",
     "text": [
      "┌ Info: Epoch 53\n",
      "└ @ ConvGRU /Users/kahingleung/.julia/packages/Flux/sY3yx/src/optimise/train.jl:136\n"
     ]
    },
    {
     "name": "stdout",
     "output_type": "stream",
     "text": [
      "mse_loss(xtest, ytest) = 1.6397789f0\n"
     ]
    },
    {
     "name": "stderr",
     "output_type": "stream",
     "text": [
      "┌ Info: Epoch 54\n",
      "└ @ ConvGRU /Users/kahingleung/.julia/packages/Flux/sY3yx/src/optimise/train.jl:136\n"
     ]
    },
    {
     "name": "stdout",
     "output_type": "stream",
     "text": [
      "mse_loss(xtest, ytest) = 1.5279756f0\n"
     ]
    },
    {
     "name": "stderr",
     "output_type": "stream",
     "text": [
      "┌ Info: Epoch 55\n",
      "└ @ ConvGRU /Users/kahingleung/.julia/packages/Flux/sY3yx/src/optimise/train.jl:136\n",
      "┌ Info: Epoch 56\n",
      "└ @ ConvGRU /Users/kahingleung/.julia/packages/Flux/sY3yx/src/optimise/train.jl:136\n"
     ]
    },
    {
     "name": "stdout",
     "output_type": "stream",
     "text": [
      "mse_loss(xtest, ytest) = 1.6061393f0\n"
     ]
    },
    {
     "name": "stderr",
     "output_type": "stream",
     "text": [
      "┌ Info: Epoch 57\n",
      "└ @ ConvGRU /Users/kahingleung/.julia/packages/Flux/sY3yx/src/optimise/train.jl:136\n"
     ]
    },
    {
     "name": "stdout",
     "output_type": "stream",
     "text": [
      "mse_loss(xtest, ytest) = 1.5467235f0\n",
      "mse_loss(xtest, ytest) = 1.5844253f0\n"
     ]
    },
    {
     "name": "stderr",
     "output_type": "stream",
     "text": [
      "┌ Info: Epoch 58\n",
      "└ @ ConvGRU /Users/kahingleung/.julia/packages/Flux/sY3yx/src/optimise/train.jl:136\n"
     ]
    },
    {
     "name": "stdout",
     "output_type": "stream",
     "text": [
      "mse_loss(xtest, ytest) = 1.5486377f0\n"
     ]
    },
    {
     "name": "stderr",
     "output_type": "stream",
     "text": [
      "┌ Info: Epoch 59\n",
      "└ @ ConvGRU /Users/kahingleung/.julia/packages/Flux/sY3yx/src/optimise/train.jl:136\n",
      "┌ Info: Epoch 60\n",
      "└ @ ConvGRU /Users/kahingleung/.julia/packages/Flux/sY3yx/src/optimise/train.jl:136\n"
     ]
    },
    {
     "name": "stdout",
     "output_type": "stream",
     "text": [
      "mse_loss(xtest, ytest) = 1.5497569f0\n",
      "mse_loss(xtest, ytest) = 1.566622f0\n"
     ]
    },
    {
     "name": "stderr",
     "output_type": "stream",
     "text": [
      "┌ Info: Epoch 61\n",
      "└ @ ConvGRU /Users/kahingleung/.julia/packages/Flux/sY3yx/src/optimise/train.jl:136\n"
     ]
    },
    {
     "name": "stdout",
     "output_type": "stream",
     "text": [
      "mse_loss(xtest, ytest) = 1.5412756f0\n"
     ]
    },
    {
     "name": "stderr",
     "output_type": "stream",
     "text": [
      "┌ Info: Epoch 62\n",
      "└ @ ConvGRU /Users/kahingleung/.julia/packages/Flux/sY3yx/src/optimise/train.jl:136\n"
     ]
    },
    {
     "name": "stdout",
     "output_type": "stream",
     "text": [
      "mse_loss(xtest, ytest) = 1.5403382f0\n"
     ]
    },
    {
     "name": "stderr",
     "output_type": "stream",
     "text": [
      "┌ Info: Epoch 63\n",
      "└ @ ConvGRU /Users/kahingleung/.julia/packages/Flux/sY3yx/src/optimise/train.jl:136\n"
     ]
    },
    {
     "name": "stdout",
     "output_type": "stream",
     "text": [
      "mse_loss(xtest, ytest) = 1.5316093f0\n"
     ]
    },
    {
     "name": "stderr",
     "output_type": "stream",
     "text": [
      "┌ Info: Epoch 64\n",
      "└ @ ConvGRU /Users/kahingleung/.julia/packages/Flux/sY3yx/src/optimise/train.jl:136\n"
     ]
    },
    {
     "name": "stdout",
     "output_type": "stream",
     "text": [
      "mse_loss(xtest, ytest) = 1.565463f0\n"
     ]
    },
    {
     "name": "stderr",
     "output_type": "stream",
     "text": [
      "┌ Info: Epoch 65\n",
      "└ @ ConvGRU /Users/kahingleung/.julia/packages/Flux/sY3yx/src/optimise/train.jl:136\n"
     ]
    },
    {
     "name": "stdout",
     "output_type": "stream",
     "text": [
      "mse_loss(xtest, ytest) = 1.5420412f0\n"
     ]
    },
    {
     "name": "stderr",
     "output_type": "stream",
     "text": [
      "┌ Info: Epoch 66\n",
      "└ @ ConvGRU /Users/kahingleung/.julia/packages/Flux/sY3yx/src/optimise/train.jl:136\n"
     ]
    },
    {
     "name": "stdout",
     "output_type": "stream",
     "text": [
      "mse_loss(xtest, ytest) = 1.5731248f0\n"
     ]
    },
    {
     "name": "stderr",
     "output_type": "stream",
     "text": [
      "┌ Info: Epoch 67\n",
      "└ @ ConvGRU /Users/kahingleung/.julia/packages/Flux/sY3yx/src/optimise/train.jl:136\n"
     ]
    },
    {
     "name": "stdout",
     "output_type": "stream",
     "text": [
      "mse_loss(xtest, ytest) = 1.606198f0\n"
     ]
    },
    {
     "name": "stderr",
     "output_type": "stream",
     "text": [
      "┌ Info: Epoch 68\n",
      "└ @ ConvGRU /Users/kahingleung/.julia/packages/Flux/sY3yx/src/optimise/train.jl:136\n"
     ]
    },
    {
     "name": "stdout",
     "output_type": "stream",
     "text": [
      "mse_loss(xtest, ytest) = 1.5610772f0\n"
     ]
    },
    {
     "name": "stderr",
     "output_type": "stream",
     "text": [
      "┌ Info: Epoch 69\n",
      "└ @ ConvGRU /Users/kahingleung/.julia/packages/Flux/sY3yx/src/optimise/train.jl:136\n"
     ]
    },
    {
     "name": "stdout",
     "output_type": "stream",
     "text": [
      "mse_loss(xtest, ytest) = 1.5971383f0\n"
     ]
    },
    {
     "name": "stderr",
     "output_type": "stream",
     "text": [
      "┌ Info: Epoch 70\n",
      "└ @ ConvGRU /Users/kahingleung/.julia/packages/Flux/sY3yx/src/optimise/train.jl:136\n"
     ]
    },
    {
     "name": "stdout",
     "output_type": "stream",
     "text": [
      "mse_loss(xtest, ytest) = 1.6125132f0\n"
     ]
    },
    {
     "name": "stderr",
     "output_type": "stream",
     "text": [
      "┌ Info: Epoch 71\n",
      "└ @ ConvGRU /Users/kahingleung/.julia/packages/Flux/sY3yx/src/optimise/train.jl:136\n"
     ]
    },
    {
     "name": "stdout",
     "output_type": "stream",
     "text": [
      "mse_loss(xtest, ytest) = 1.5676991f0\n"
     ]
    },
    {
     "name": "stderr",
     "output_type": "stream",
     "text": [
      "┌ Info: Epoch 72\n",
      "└ @ ConvGRU /Users/kahingleung/.julia/packages/Flux/sY3yx/src/optimise/train.jl:136\n"
     ]
    },
    {
     "name": "stdout",
     "output_type": "stream",
     "text": [
      "mse_loss(xtest, ytest) = 1.5137472f0\n"
     ]
    },
    {
     "name": "stderr",
     "output_type": "stream",
     "text": [
      "┌ Info: Epoch 73\n",
      "└ @ ConvGRU /Users/kahingleung/.julia/packages/Flux/sY3yx/src/optimise/train.jl:136\n"
     ]
    },
    {
     "name": "stdout",
     "output_type": "stream",
     "text": [
      "mse_loss(xtest, ytest) = 1.5097177f0\n"
     ]
    },
    {
     "name": "stderr",
     "output_type": "stream",
     "text": [
      "┌ Info: Epoch 74\n",
      "└ @ ConvGRU /Users/kahingleung/.julia/packages/Flux/sY3yx/src/optimise/train.jl:136\n",
      "┌ Info: Epoch 75\n",
      "└ @ ConvGRU /Users/kahingleung/.julia/packages/Flux/sY3yx/src/optimise/train.jl:136\n"
     ]
    },
    {
     "name": "stdout",
     "output_type": "stream",
     "text": [
      "mse_loss(xtest, ytest) = 1.5395834f0\n"
     ]
    },
    {
     "name": "stderr",
     "output_type": "stream",
     "text": [
      "┌ Info: Epoch 76\n",
      "└ @ ConvGRU /Users/kahingleung/.julia/packages/Flux/sY3yx/src/optimise/train.jl:136\n"
     ]
    },
    {
     "name": "stdout",
     "output_type": "stream",
     "text": [
      "mse_loss(xtest, ytest) = 1.585992f0\n",
      "mse_loss(xtest, ytest) = 1.6425515f0\n"
     ]
    },
    {
     "name": "stderr",
     "output_type": "stream",
     "text": [
      "┌ Info: Epoch 77\n",
      "└ @ ConvGRU /Users/kahingleung/.julia/packages/Flux/sY3yx/src/optimise/train.jl:136\n"
     ]
    },
    {
     "name": "stdout",
     "output_type": "stream",
     "text": [
      "mse_loss(xtest, ytest) = 1.5550256f0\n"
     ]
    },
    {
     "name": "stderr",
     "output_type": "stream",
     "text": [
      "┌ Info: Epoch 78\n",
      "└ @ ConvGRU /Users/kahingleung/.julia/packages/Flux/sY3yx/src/optimise/train.jl:136\n",
      "┌ Info: Epoch 79\n",
      "└ @ ConvGRU /Users/kahingleung/.julia/packages/Flux/sY3yx/src/optimise/train.jl:136\n"
     ]
    },
    {
     "name": "stdout",
     "output_type": "stream",
     "text": [
      "mse_loss(xtest, ytest) = 1.5980206f0\n",
      "mse_loss(xtest, ytest) = 1.5587256f0\n"
     ]
    },
    {
     "name": "stderr",
     "output_type": "stream",
     "text": [
      "┌ Info: Epoch 80\n",
      "└ @ ConvGRU /Users/kahingleung/.julia/packages/Flux/sY3yx/src/optimise/train.jl:136\n"
     ]
    },
    {
     "name": "stdout",
     "output_type": "stream",
     "text": [
      "mse_loss(xtest, ytest) = 1.5995728f0\n"
     ]
    },
    {
     "name": "stderr",
     "output_type": "stream",
     "text": [
      "┌ Info: Epoch 81\n",
      "└ @ ConvGRU /Users/kahingleung/.julia/packages/Flux/sY3yx/src/optimise/train.jl:136\n"
     ]
    },
    {
     "name": "stdout",
     "output_type": "stream",
     "text": [
      "mse_loss(xtest, ytest) = 1.5791976f0\n"
     ]
    },
    {
     "name": "stderr",
     "output_type": "stream",
     "text": [
      "┌ Info: Epoch 82\n",
      "└ @ ConvGRU /Users/kahingleung/.julia/packages/Flux/sY3yx/src/optimise/train.jl:136\n"
     ]
    },
    {
     "name": "stdout",
     "output_type": "stream",
     "text": [
      "mse_loss(xtest, ytest) = 1.5872018f0\n"
     ]
    },
    {
     "name": "stderr",
     "output_type": "stream",
     "text": [
      "┌ Info: Epoch 83\n",
      "└ @ ConvGRU /Users/kahingleung/.julia/packages/Flux/sY3yx/src/optimise/train.jl:136\n"
     ]
    },
    {
     "name": "stdout",
     "output_type": "stream",
     "text": [
      "mse_loss(xtest, ytest) = 1.5418894f0\n"
     ]
    },
    {
     "name": "stderr",
     "output_type": "stream",
     "text": [
      "┌ Info: Epoch 84\n",
      "└ @ ConvGRU /Users/kahingleung/.julia/packages/Flux/sY3yx/src/optimise/train.jl:136\n"
     ]
    },
    {
     "name": "stdout",
     "output_type": "stream",
     "text": [
      "mse_loss(xtest, ytest) = 1.5198714f0\n"
     ]
    },
    {
     "name": "stderr",
     "output_type": "stream",
     "text": [
      "┌ Info: Epoch 85\n",
      "└ @ ConvGRU /Users/kahingleung/.julia/packages/Flux/sY3yx/src/optimise/train.jl:136\n"
     ]
    },
    {
     "name": "stdout",
     "output_type": "stream",
     "text": [
      "mse_loss(xtest, ytest) = 1.5004377f0\n"
     ]
    },
    {
     "name": "stderr",
     "output_type": "stream",
     "text": [
      "┌ Info: Epoch 86\n",
      "└ @ ConvGRU /Users/kahingleung/.julia/packages/Flux/sY3yx/src/optimise/train.jl:136\n",
      "┌ Info: Epoch 87\n",
      "└ @ ConvGRU /Users/kahingleung/.julia/packages/Flux/sY3yx/src/optimise/train.jl:136\n"
     ]
    },
    {
     "name": "stdout",
     "output_type": "stream",
     "text": [
      "mse_loss(xtest, ytest) = 1.6418062f0\n",
      "mse_loss(xtest, ytest) = 1.5966338f0\n"
     ]
    },
    {
     "name": "stderr",
     "output_type": "stream",
     "text": [
      "┌ Info: Epoch 88\n",
      "└ @ ConvGRU /Users/kahingleung/.julia/packages/Flux/sY3yx/src/optimise/train.jl:136\n"
     ]
    },
    {
     "name": "stdout",
     "output_type": "stream",
     "text": [
      "mse_loss(xtest, ytest) = 1.6031395f0\n"
     ]
    },
    {
     "name": "stderr",
     "output_type": "stream",
     "text": [
      "┌ Info: Epoch 89\n",
      "└ @ ConvGRU /Users/kahingleung/.julia/packages/Flux/sY3yx/src/optimise/train.jl:136\n"
     ]
    },
    {
     "name": "stdout",
     "output_type": "stream",
     "text": [
      "mse_loss(xtest, ytest) = 1.6315746f0\n"
     ]
    },
    {
     "name": "stderr",
     "output_type": "stream",
     "text": [
      "┌ Info: Epoch 90\n",
      "└ @ ConvGRU /Users/kahingleung/.julia/packages/Flux/sY3yx/src/optimise/train.jl:136\n"
     ]
    },
    {
     "name": "stdout",
     "output_type": "stream",
     "text": [
      "mse_loss(xtest, ytest) = 1.5501521f0\n"
     ]
    },
    {
     "name": "stderr",
     "output_type": "stream",
     "text": [
      "┌ Info: Epoch 91\n",
      "└ @ ConvGRU /Users/kahingleung/.julia/packages/Flux/sY3yx/src/optimise/train.jl:136\n"
     ]
    },
    {
     "name": "stdout",
     "output_type": "stream",
     "text": [
      "mse_loss(xtest, ytest) = 1.4993178f0\n"
     ]
    },
    {
     "name": "stderr",
     "output_type": "stream",
     "text": [
      "┌ Info: Epoch 92\n",
      "└ @ ConvGRU /Users/kahingleung/.julia/packages/Flux/sY3yx/src/optimise/train.jl:136\n"
     ]
    },
    {
     "name": "stdout",
     "output_type": "stream",
     "text": [
      "mse_loss(xtest, ytest) = 1.5725051f0\n"
     ]
    },
    {
     "name": "stderr",
     "output_type": "stream",
     "text": [
      "┌ Info: Epoch 93\n",
      "└ @ ConvGRU /Users/kahingleung/.julia/packages/Flux/sY3yx/src/optimise/train.jl:136\n"
     ]
    },
    {
     "name": "stdout",
     "output_type": "stream",
     "text": [
      "mse_loss(xtest, ytest) = 1.5927144f0\n"
     ]
    },
    {
     "name": "stderr",
     "output_type": "stream",
     "text": [
      "┌ Info: Epoch 94\n",
      "└ @ ConvGRU /Users/kahingleung/.julia/packages/Flux/sY3yx/src/optimise/train.jl:136\n",
      "┌ Info: Epoch 95\n",
      "└ @ ConvGRU /Users/kahingleung/.julia/packages/Flux/sY3yx/src/optimise/train.jl:136\n"
     ]
    },
    {
     "name": "stdout",
     "output_type": "stream",
     "text": [
      "mse_loss(xtest, ytest) = 1.5913537f0\n"
     ]
    },
    {
     "name": "stderr",
     "output_type": "stream",
     "text": [
      "┌ Info: Epoch 96\n",
      "└ @ ConvGRU /Users/kahingleung/.julia/packages/Flux/sY3yx/src/optimise/train.jl:136\n"
     ]
    },
    {
     "name": "stdout",
     "output_type": "stream",
     "text": [
      "mse_loss(xtest, ytest) = 1.5411896f0\n",
      "mse_loss(xtest, ytest) = 1.5329438f0\n"
     ]
    },
    {
     "name": "stderr",
     "output_type": "stream",
     "text": [
      "┌ Info: Epoch 97\n",
      "└ @ ConvGRU /Users/kahingleung/.julia/packages/Flux/sY3yx/src/optimise/train.jl:136\n",
      "┌ Info: Epoch 98\n",
      "└ @ ConvGRU /Users/kahingleung/.julia/packages/Flux/sY3yx/src/optimise/train.jl:136\n"
     ]
    },
    {
     "name": "stdout",
     "output_type": "stream",
     "text": [
      "mse_loss(xtest, ytest) = 1.5838556f0\n"
     ]
    },
    {
     "name": "stderr",
     "output_type": "stream",
     "text": [
      "┌ Info: Epoch 99\n",
      "└ @ ConvGRU /Users/kahingleung/.julia/packages/Flux/sY3yx/src/optimise/train.jl:136\n"
     ]
    },
    {
     "name": "stdout",
     "output_type": "stream",
     "text": [
      "mse_loss(xtest, ytest) = 1.6677018f0\n",
      "mse_loss(xtest, ytest) = 1.5467937f0\n"
     ]
    },
    {
     "name": "stderr",
     "output_type": "stream",
     "text": [
      "┌ Info: Epoch 100\n",
      "└ @ ConvGRU /Users/kahingleung/.julia/packages/Flux/sY3yx/src/optimise/train.jl:136\n"
     ]
    },
    {
     "name": "stdout",
     "output_type": "stream",
     "text": [
      "(250,)\n",
      "1.5737658\n",
      "0.724\n",
      "[\"open\", \"close\", \"high\", \"low\", \"volume\", \"ondate\", \"CZK\", \"PLN\", \"MXN\", \"TRY\", \"ISK\", \"USD\", \"RUB\", \"EUR\", \"GBP\", \"JPY\", \"THB\", \"CNY\", \"KRW\", \"SEK\", \"BRL\", \"BGN\", \"HUF\", \"NZD\", \"CHF\", \"IDR\", \"SGD\", \"MYR\", \"ZAR\", \"CAD\", \"PHP\", \"HKD\", \"HRK\", \"INR\", \"AUD\", \"NOK\", \"DKK\", \"RON\", \"ILS\", \"Close\"]\n",
      "12040.0016681005372000592\n",
      "mse_loss(xtest, ytest) = 0.43145627f0\n"
     ]
    },
    {
     "name": "stderr",
     "output_type": "stream",
     "text": [
      "┌ Info: Epoch 1\n",
      "└ @ ConvGRU /Users/kahingleung/.julia/packages/Flux/sY3yx/src/optimise/train.jl:136\n"
     ]
    },
    {
     "name": "stdout",
     "output_type": "stream",
     "text": [
      "mse_loss(xtest, ytest) = 0.41965067f0\n"
     ]
    },
    {
     "name": "stderr",
     "output_type": "stream",
     "text": [
      "┌ Info: Epoch 2\n",
      "└ @ ConvGRU /Users/kahingleung/.julia/packages/Flux/sY3yx/src/optimise/train.jl:136\n"
     ]
    },
    {
     "name": "stdout",
     "output_type": "stream",
     "text": [
      "mse_loss(xtest, ytest) = 0.40545136f0\n",
      "mse_loss(xtest, ytest) = 0.40689528f0\n"
     ]
    },
    {
     "name": "stderr",
     "output_type": "stream",
     "text": [
      "┌ Info: Epoch 3\n",
      "└ @ ConvGRU /Users/kahingleung/.julia/packages/Flux/sY3yx/src/optimise/train.jl:136\n",
      "┌ Info: Epoch 4\n",
      "└ @ ConvGRU /Users/kahingleung/.julia/packages/Flux/sY3yx/src/optimise/train.jl:136\n"
     ]
    },
    {
     "name": "stdout",
     "output_type": "stream",
     "text": [
      "mse_loss(xtest, ytest) = 0.40648407f0\n",
      "mse_loss(xtest, ytest) = 0.40681255f0\n"
     ]
    },
    {
     "name": "stderr",
     "output_type": "stream",
     "text": [
      "┌ Info: Epoch 5\n",
      "└ @ ConvGRU /Users/kahingleung/.julia/packages/Flux/sY3yx/src/optimise/train.jl:136\n"
     ]
    },
    {
     "name": "stdout",
     "output_type": "stream",
     "text": [
      "mse_loss(xtest, ytest) = 0.40519485f0\n"
     ]
    },
    {
     "name": "stderr",
     "output_type": "stream",
     "text": [
      "┌ Info: Epoch 6\n",
      "└ @ ConvGRU /Users/kahingleung/.julia/packages/Flux/sY3yx/src/optimise/train.jl:136\n",
      "┌ Info: Epoch 7\n",
      "└ @ ConvGRU /Users/kahingleung/.julia/packages/Flux/sY3yx/src/optimise/train.jl:136\n"
     ]
    },
    {
     "name": "stdout",
     "output_type": "stream",
     "text": [
      "mse_loss(xtest, ytest) = 0.4054918f0\n",
      "mse_loss(xtest, ytest) = 0.4048177f0\n"
     ]
    },
    {
     "name": "stderr",
     "output_type": "stream",
     "text": [
      "┌ Info: Epoch 8\n",
      "└ @ ConvGRU /Users/kahingleung/.julia/packages/Flux/sY3yx/src/optimise/train.jl:136\n",
      "┌ Info: Epoch 9\n",
      "└ @ ConvGRU /Users/kahingleung/.julia/packages/Flux/sY3yx/src/optimise/train.jl:136\n"
     ]
    },
    {
     "name": "stdout",
     "output_type": "stream",
     "text": [
      "mse_loss(xtest, ytest) = 0.40416983f0\n",
      "mse_loss(xtest, ytest) = 0.40585163f0\n"
     ]
    },
    {
     "name": "stderr",
     "output_type": "stream",
     "text": [
      "┌ Info: Epoch 10\n",
      "└ @ ConvGRU /Users/kahingleung/.julia/packages/Flux/sY3yx/src/optimise/train.jl:136\n"
     ]
    },
    {
     "name": "stdout",
     "output_type": "stream",
     "text": [
      "mse_loss(xtest, ytest) = 0.4035271f0\n"
     ]
    },
    {
     "name": "stderr",
     "output_type": "stream",
     "text": [
      "┌ Info: Epoch 11\n",
      "└ @ ConvGRU /Users/kahingleung/.julia/packages/Flux/sY3yx/src/optimise/train.jl:136\n",
      "┌ Info: Epoch 12\n",
      "└ @ ConvGRU /Users/kahingleung/.julia/packages/Flux/sY3yx/src/optimise/train.jl:136\n"
     ]
    },
    {
     "name": "stdout",
     "output_type": "stream",
     "text": [
      "mse_loss(xtest, ytest) = 0.40384838f0\n",
      "mse_loss(xtest, ytest) = 0.40465075f0\n"
     ]
    },
    {
     "name": "stderr",
     "output_type": "stream",
     "text": [
      "┌ Info: Epoch 13\n",
      "└ @ ConvGRU /Users/kahingleung/.julia/packages/Flux/sY3yx/src/optimise/train.jl:136\n",
      "┌ Info: Epoch 14\n",
      "└ @ ConvGRU /Users/kahingleung/.julia/packages/Flux/sY3yx/src/optimise/train.jl:136\n"
     ]
    },
    {
     "name": "stdout",
     "output_type": "stream",
     "text": [
      "mse_loss(xtest, ytest) = 0.4043269f0\n",
      "mse_loss(xtest, ytest) = 0.40602008f0\n"
     ]
    },
    {
     "name": "stderr",
     "output_type": "stream",
     "text": [
      "┌ Info: Epoch 15\n",
      "└ @ ConvGRU /Users/kahingleung/.julia/packages/Flux/sY3yx/src/optimise/train.jl:136\n"
     ]
    },
    {
     "name": "stdout",
     "output_type": "stream",
     "text": [
      "mse_loss(xtest, ytest) = 0.40591145f0\n"
     ]
    },
    {
     "name": "stderr",
     "output_type": "stream",
     "text": [
      "┌ Info: Epoch 16\n",
      "└ @ ConvGRU /Users/kahingleung/.julia/packages/Flux/sY3yx/src/optimise/train.jl:136\n",
      "┌ Info: Epoch 17\n",
      "└ @ ConvGRU /Users/kahingleung/.julia/packages/Flux/sY3yx/src/optimise/train.jl:136\n"
     ]
    },
    {
     "name": "stdout",
     "output_type": "stream",
     "text": [
      "mse_loss(xtest, ytest) = 0.40534952f0\n",
      "mse_loss(xtest, ytest) = 0.40644568f0\n"
     ]
    },
    {
     "name": "stderr",
     "output_type": "stream",
     "text": [
      "┌ Info: Epoch 18\n",
      "└ @ ConvGRU /Users/kahingleung/.julia/packages/Flux/sY3yx/src/optimise/train.jl:136\n",
      "┌ Info: Epoch 19\n",
      "└ @ ConvGRU /Users/kahingleung/.julia/packages/Flux/sY3yx/src/optimise/train.jl:136\n"
     ]
    },
    {
     "name": "stdout",
     "output_type": "stream",
     "text": [
      "mse_loss(xtest, ytest) = 0.40632635f0\n",
      "mse_loss(xtest, ytest) = 0.40590888f0\n"
     ]
    },
    {
     "name": "stderr",
     "output_type": "stream",
     "text": [
      "┌ Info: Epoch 20\n",
      "└ @ ConvGRU /Users/kahingleung/.julia/packages/Flux/sY3yx/src/optimise/train.jl:136\n"
     ]
    },
    {
     "name": "stdout",
     "output_type": "stream",
     "text": [
      "mse_loss(xtest, ytest) = 0.40584618f0\n"
     ]
    },
    {
     "name": "stderr",
     "output_type": "stream",
     "text": [
      "┌ Info: Epoch 21\n",
      "└ @ ConvGRU /Users/kahingleung/.julia/packages/Flux/sY3yx/src/optimise/train.jl:136\n",
      "┌ Info: Epoch 22\n",
      "└ @ ConvGRU /Users/kahingleung/.julia/packages/Flux/sY3yx/src/optimise/train.jl:136\n"
     ]
    },
    {
     "name": "stdout",
     "output_type": "stream",
     "text": [
      "mse_loss(xtest, ytest) = 0.40536147f0\n",
      "mse_loss(xtest, ytest) = 0.40597734f0\n"
     ]
    },
    {
     "name": "stderr",
     "output_type": "stream",
     "text": [
      "┌ Info: Epoch 23\n",
      "└ @ ConvGRU /Users/kahingleung/.julia/packages/Flux/sY3yx/src/optimise/train.jl:136\n",
      "┌ Info: Epoch 24\n",
      "└ @ ConvGRU /Users/kahingleung/.julia/packages/Flux/sY3yx/src/optimise/train.jl:136\n"
     ]
    },
    {
     "name": "stdout",
     "output_type": "stream",
     "text": [
      "mse_loss(xtest, ytest) = 0.40644503f0\n",
      "mse_loss(xtest, ytest) = 0.40704572f0\n"
     ]
    },
    {
     "name": "stderr",
     "output_type": "stream",
     "text": [
      "┌ Info: Epoch 25\n",
      "└ @ ConvGRU /Users/kahingleung/.julia/packages/Flux/sY3yx/src/optimise/train.jl:136\n"
     ]
    },
    {
     "name": "stdout",
     "output_type": "stream",
     "text": [
      "mse_loss(xtest, ytest) = 0.4061778f0\n"
     ]
    },
    {
     "name": "stderr",
     "output_type": "stream",
     "text": [
      "┌ Info: Epoch 26\n",
      "└ @ ConvGRU /Users/kahingleung/.julia/packages/Flux/sY3yx/src/optimise/train.jl:136\n",
      "┌ Info: Epoch 27\n",
      "└ @ ConvGRU /Users/kahingleung/.julia/packages/Flux/sY3yx/src/optimise/train.jl:136\n"
     ]
    },
    {
     "name": "stdout",
     "output_type": "stream",
     "text": [
      "mse_loss(xtest, ytest) = 0.40625182f0\n",
      "mse_loss(xtest, ytest) = 0.40653437f0\n"
     ]
    },
    {
     "name": "stderr",
     "output_type": "stream",
     "text": [
      "┌ Info: Epoch 28\n",
      "└ @ ConvGRU /Users/kahingleung/.julia/packages/Flux/sY3yx/src/optimise/train.jl:136\n",
      "┌ Info: Epoch 29\n",
      "└ @ ConvGRU /Users/kahingleung/.julia/packages/Flux/sY3yx/src/optimise/train.jl:136\n"
     ]
    },
    {
     "name": "stdout",
     "output_type": "stream",
     "text": [
      "mse_loss(xtest, ytest) = 0.4069845f0\n",
      "mse_loss(xtest, ytest) = 0.4051187f0\n"
     ]
    },
    {
     "name": "stderr",
     "output_type": "stream",
     "text": [
      "┌ Info: Epoch 30\n",
      "└ @ ConvGRU /Users/kahingleung/.julia/packages/Flux/sY3yx/src/optimise/train.jl:136\n"
     ]
    },
    {
     "name": "stdout",
     "output_type": "stream",
     "text": [
      "(250,)\n",
      "myObjective(df, seqlen, Nh, lr, sym * \"-\" * string(i)) = 0.40350437f0\n",
      "21060.0027825594022071257\n",
      "mse_loss(xtest, ytest) = 0.72453135f0\n",
      "mse_loss(xtest, ytest) = 0.6275061f0\n"
     ]
    },
    {
     "name": "stderr",
     "output_type": "stream",
     "text": [
      "┌ Info: Epoch 1\n",
      "└ @ ConvGRU /Users/kahingleung/.julia/packages/Flux/sY3yx/src/optimise/train.jl:136\n"
     ]
    },
    {
     "name": "stdout",
     "output_type": "stream",
     "text": [
      "mse_loss(xtest, ytest) = 0.4116246f0\n"
     ]
    },
    {
     "name": "stderr",
     "output_type": "stream",
     "text": [
      "┌ Info: Epoch 2\n",
      "└ @ ConvGRU /Users/kahingleung/.julia/packages/Flux/sY3yx/src/optimise/train.jl:136\n"
     ]
    },
    {
     "name": "stdout",
     "output_type": "stream",
     "text": [
      "mse_loss(xtest, ytest) = 0.40936032f0\n"
     ]
    },
    {
     "name": "stderr",
     "output_type": "stream",
     "text": [
      "┌ Info: Epoch 3\n",
      "└ @ ConvGRU /Users/kahingleung/.julia/packages/Flux/sY3yx/src/optimise/train.jl:136\n",
      "┌ Info: Epoch 4\n",
      "└ @ ConvGRU /Users/kahingleung/.julia/packages/Flux/sY3yx/src/optimise/train.jl:136\n"
     ]
    },
    {
     "name": "stdout",
     "output_type": "stream",
     "text": [
      "mse_loss(xtest, ytest) = 0.41017538f0\n",
      "mse_loss(xtest, ytest) = 0.4110138f0\n"
     ]
    },
    {
     "name": "stderr",
     "output_type": "stream",
     "text": [
      "┌ Info: Epoch 5\n",
      "└ @ ConvGRU /Users/kahingleung/.julia/packages/Flux/sY3yx/src/optimise/train.jl:136\n"
     ]
    },
    {
     "name": "stdout",
     "output_type": "stream",
     "text": [
      "mse_loss(xtest, ytest) = 0.41013536f0\n"
     ]
    },
    {
     "name": "stderr",
     "output_type": "stream",
     "text": [
      "┌ Info: Epoch 6\n",
      "└ @ ConvGRU /Users/kahingleung/.julia/packages/Flux/sY3yx/src/optimise/train.jl:136\n"
     ]
    },
    {
     "name": "stdout",
     "output_type": "stream",
     "text": [
      "mse_loss(xtest, ytest) = 0.41034904f0\n"
     ]
    },
    {
     "name": "stderr",
     "output_type": "stream",
     "text": [
      "┌ Info: Epoch 7\n",
      "└ @ ConvGRU /Users/kahingleung/.julia/packages/Flux/sY3yx/src/optimise/train.jl:136\n",
      "┌ Info: Epoch 8\n",
      "└ @ ConvGRU /Users/kahingleung/.julia/packages/Flux/sY3yx/src/optimise/train.jl:136\n"
     ]
    },
    {
     "name": "stdout",
     "output_type": "stream",
     "text": [
      "mse_loss(xtest, ytest) = 0.4114353f0\n"
     ]
    },
    {
     "name": "stderr",
     "output_type": "stream",
     "text": [
      "┌ Info: Epoch 9\n",
      "└ @ ConvGRU /Users/kahingleung/.julia/packages/Flux/sY3yx/src/optimise/train.jl:136\n"
     ]
    },
    {
     "name": "stdout",
     "output_type": "stream",
     "text": [
      "mse_loss(xtest, ytest) = 0.41002196f0\n"
     ]
    },
    {
     "name": "stderr",
     "output_type": "stream",
     "text": [
      "┌ Info: Epoch 10\n",
      "└ @ ConvGRU /Users/kahingleung/.julia/packages/Flux/sY3yx/src/optimise/train.jl:136\n"
     ]
    },
    {
     "name": "stdout",
     "output_type": "stream",
     "text": [
      "mse_loss(xtest, ytest) = 0.40778083f0\n"
     ]
    },
    {
     "name": "stderr",
     "output_type": "stream",
     "text": [
      "┌ Info: Epoch 11\n",
      "└ @ ConvGRU /Users/kahingleung/.julia/packages/Flux/sY3yx/src/optimise/train.jl:136\n"
     ]
    },
    {
     "name": "stdout",
     "output_type": "stream",
     "text": [
      "mse_loss(xtest, ytest) = 0.40722752f0\n"
     ]
    },
    {
     "name": "stderr",
     "output_type": "stream",
     "text": [
      "┌ Info: Epoch 12\n",
      "└ @ ConvGRU /Users/kahingleung/.julia/packages/Flux/sY3yx/src/optimise/train.jl:136\n"
     ]
    },
    {
     "name": "stdout",
     "output_type": "stream",
     "text": [
      "mse_loss(xtest, ytest) = 0.40642706f0\n",
      "mse_loss(xtest, ytest) = 0.40563256f0\n"
     ]
    },
    {
     "name": "stderr",
     "output_type": "stream",
     "text": [
      "┌ Info: Epoch 13\n",
      "└ @ ConvGRU /Users/kahingleung/.julia/packages/Flux/sY3yx/src/optimise/train.jl:136\n"
     ]
    },
    {
     "name": "stdout",
     "output_type": "stream",
     "text": [
      "mse_loss(xtest, ytest) = 0.40482208f0\n"
     ]
    },
    {
     "name": "stderr",
     "output_type": "stream",
     "text": [
      "┌ Info: Epoch 14\n",
      "└ @ ConvGRU /Users/kahingleung/.julia/packages/Flux/sY3yx/src/optimise/train.jl:136\n"
     ]
    },
    {
     "name": "stdout",
     "output_type": "stream",
     "text": [
      "mse_loss(xtest, ytest) = 0.4054814f0\n"
     ]
    },
    {
     "name": "stderr",
     "output_type": "stream",
     "text": [
      "┌ Info: Epoch 15\n",
      "└ @ ConvGRU /Users/kahingleung/.julia/packages/Flux/sY3yx/src/optimise/train.jl:136\n"
     ]
    },
    {
     "name": "stdout",
     "output_type": "stream",
     "text": [
      "mse_loss(xtest, ytest) = 0.40414992f0\n"
     ]
    },
    {
     "name": "stderr",
     "output_type": "stream",
     "text": [
      "┌ Info: Epoch 16\n",
      "└ @ ConvGRU /Users/kahingleung/.julia/packages/Flux/sY3yx/src/optimise/train.jl:136\n"
     ]
    },
    {
     "name": "stdout",
     "output_type": "stream",
     "text": [
      "mse_loss(xtest, ytest) = 0.40418264f0\n"
     ]
    },
    {
     "name": "stderr",
     "output_type": "stream",
     "text": [
      "┌ Info: Epoch 17\n",
      "└ @ ConvGRU /Users/kahingleung/.julia/packages/Flux/sY3yx/src/optimise/train.jl:136\n"
     ]
    },
    {
     "name": "stdout",
     "output_type": "stream",
     "text": [
      "mse_loss(xtest, ytest) = 0.40469357f0\n"
     ]
    },
    {
     "name": "stderr",
     "output_type": "stream",
     "text": [
      "┌ Info: Epoch 18\n",
      "└ @ ConvGRU /Users/kahingleung/.julia/packages/Flux/sY3yx/src/optimise/train.jl:136\n"
     ]
    },
    {
     "name": "stdout",
     "output_type": "stream",
     "text": [
      "mse_loss(xtest, ytest) = 0.4056289f0\n"
     ]
    },
    {
     "name": "stderr",
     "output_type": "stream",
     "text": [
      "┌ Info: Epoch 19\n",
      "└ @ ConvGRU /Users/kahingleung/.julia/packages/Flux/sY3yx/src/optimise/train.jl:136\n"
     ]
    },
    {
     "name": "stdout",
     "output_type": "stream",
     "text": [
      "mse_loss(xtest, ytest) = 0.4028793f0\n"
     ]
    },
    {
     "name": "stderr",
     "output_type": "stream",
     "text": [
      "┌ Info: Epoch 20\n",
      "└ @ ConvGRU /Users/kahingleung/.julia/packages/Flux/sY3yx/src/optimise/train.jl:136\n"
     ]
    },
    {
     "name": "stdout",
     "output_type": "stream",
     "text": [
      "mse_loss(xtest, ytest) = 0.40616456f0\n"
     ]
    },
    {
     "name": "stderr",
     "output_type": "stream",
     "text": [
      "┌ Info: Epoch 21\n",
      "└ @ ConvGRU /Users/kahingleung/.julia/packages/Flux/sY3yx/src/optimise/train.jl:136\n"
     ]
    },
    {
     "name": "stdout",
     "output_type": "stream",
     "text": [
      "mse_loss(xtest, ytest) = 0.40404242f0\n"
     ]
    },
    {
     "name": "stderr",
     "output_type": "stream",
     "text": [
      "┌ Info: Epoch 22\n",
      "└ @ ConvGRU /Users/kahingleung/.julia/packages/Flux/sY3yx/src/optimise/train.jl:136\n"
     ]
    },
    {
     "name": "stdout",
     "output_type": "stream",
     "text": [
      "mse_loss(xtest, ytest) = 0.4035301f0\n"
     ]
    },
    {
     "name": "stderr",
     "output_type": "stream",
     "text": [
      "┌ Info: Epoch 23\n",
      "└ @ ConvGRU /Users/kahingleung/.julia/packages/Flux/sY3yx/src/optimise/train.jl:136\n"
     ]
    },
    {
     "name": "stdout",
     "output_type": "stream",
     "text": [
      "mse_loss(xtest, ytest) = 0.40195844f0\n"
     ]
    },
    {
     "name": "stderr",
     "output_type": "stream",
     "text": [
      "┌ Info: Epoch 24\n",
      "└ @ ConvGRU /Users/kahingleung/.julia/packages/Flux/sY3yx/src/optimise/train.jl:136\n"
     ]
    },
    {
     "name": "stdout",
     "output_type": "stream",
     "text": [
      "mse_loss(xtest, ytest) = 0.40138456f0\n"
     ]
    },
    {
     "name": "stderr",
     "output_type": "stream",
     "text": [
      "┌ Info: Epoch 25\n",
      "└ @ ConvGRU /Users/kahingleung/.julia/packages/Flux/sY3yx/src/optimise/train.jl:136\n"
     ]
    },
    {
     "name": "stdout",
     "output_type": "stream",
     "text": [
      "mse_loss(xtest, ytest) = 0.4010946f0\n"
     ]
    },
    {
     "name": "stderr",
     "output_type": "stream",
     "text": [
      "┌ Info: Epoch 26\n",
      "└ @ ConvGRU /Users/kahingleung/.julia/packages/Flux/sY3yx/src/optimise/train.jl:136\n"
     ]
    },
    {
     "name": "stdout",
     "output_type": "stream",
     "text": [
      "mse_loss(xtest, ytest) = 0.40215987f0\n"
     ]
    },
    {
     "name": "stderr",
     "output_type": "stream",
     "text": [
      "┌ Info: Epoch 27\n",
      "└ @ ConvGRU /Users/kahingleung/.julia/packages/Flux/sY3yx/src/optimise/train.jl:136\n"
     ]
    },
    {
     "name": "stdout",
     "output_type": "stream",
     "text": [
      "mse_loss(xtest, ytest) = 0.4034059f0\n"
     ]
    },
    {
     "name": "stderr",
     "output_type": "stream",
     "text": [
      "┌ Info: Epoch 28\n",
      "└ @ ConvGRU /Users/kahingleung/.julia/packages/Flux/sY3yx/src/optimise/train.jl:136\n"
     ]
    },
    {
     "name": "stdout",
     "output_type": "stream",
     "text": [
      "mse_loss(xtest, ytest) = 0.40166712f0\n"
     ]
    },
    {
     "name": "stderr",
     "output_type": "stream",
     "text": [
      "┌ Info: Epoch 29\n",
      "└ @ ConvGRU /Users/kahingleung/.julia/packages/Flux/sY3yx/src/optimise/train.jl:136\n"
     ]
    },
    {
     "name": "stdout",
     "output_type": "stream",
     "text": [
      "mse_loss(xtest, ytest) = 0.4020269f0\n"
     ]
    },
    {
     "name": "stderr",
     "output_type": "stream",
     "text": [
      "┌ Info: Epoch 30\n",
      "└ @ ConvGRU /Users/kahingleung/.julia/packages/Flux/sY3yx/src/optimise/train.jl:136\n"
     ]
    },
    {
     "name": "stdout",
     "output_type": "stream",
     "text": [
      "(250,)\n",
      "myObjective(df, seqlen, Nh, lr, sym * \"-\" * string(i)) = 0.39839628f0\n",
      "31020.007742636826811269\n",
      "mse_loss(xtest, ytest) = 1.3276747f0\n",
      "mse_loss(xtest, ytest) = 1.19597f0\n"
     ]
    },
    {
     "name": "stderr",
     "output_type": "stream",
     "text": [
      "┌ Info: Epoch 1\n",
      "└ @ ConvGRU /Users/kahingleung/.julia/packages/Flux/sY3yx/src/optimise/train.jl:136\n",
      "┌ Info: Epoch 2\n",
      "└ @ ConvGRU /Users/kahingleung/.julia/packages/Flux/sY3yx/src/optimise/train.jl:136\n"
     ]
    },
    {
     "name": "stdout",
     "output_type": "stream",
     "text": [
      "mse_loss(xtest, ytest) = 0.41964594f0\n",
      "mse_loss(xtest, ytest) = 0.40972906f0\n"
     ]
    },
    {
     "name": "stderr",
     "output_type": "stream",
     "text": [
      "┌ Info: Epoch 3\n",
      "└ @ ConvGRU /Users/kahingleung/.julia/packages/Flux/sY3yx/src/optimise/train.jl:136\n"
     ]
    },
    {
     "name": "stdout",
     "output_type": "stream",
     "text": [
      "mse_loss(xtest, ytest) = 0.40680465f0\n"
     ]
    },
    {
     "name": "stderr",
     "output_type": "stream",
     "text": [
      "┌ Info: Epoch 4\n",
      "└ @ ConvGRU /Users/kahingleung/.julia/packages/Flux/sY3yx/src/optimise/train.jl:136\n"
     ]
    },
    {
     "name": "stdout",
     "output_type": "stream",
     "text": [
      "mse_loss(xtest, ytest) = 0.40807176f0\n"
     ]
    },
    {
     "name": "stderr",
     "output_type": "stream",
     "text": [
      "┌ Info: Epoch 5\n",
      "└ @ ConvGRU /Users/kahingleung/.julia/packages/Flux/sY3yx/src/optimise/train.jl:136\n"
     ]
    },
    {
     "name": "stdout",
     "output_type": "stream",
     "text": [
      "mse_loss(xtest, ytest) = 0.40749326f0\n"
     ]
    },
    {
     "name": "stderr",
     "output_type": "stream",
     "text": [
      "┌ Info: Epoch 6\n",
      "└ @ ConvGRU /Users/kahingleung/.julia/packages/Flux/sY3yx/src/optimise/train.jl:136\n",
      "┌ Info: Epoch 7\n",
      "└ @ ConvGRU /Users/kahingleung/.julia/packages/Flux/sY3yx/src/optimise/train.jl:136\n"
     ]
    },
    {
     "name": "stdout",
     "output_type": "stream",
     "text": [
      "mse_loss(xtest, ytest) = 0.4083068f0\n",
      "mse_loss(xtest, ytest) = 0.40762928f0\n"
     ]
    },
    {
     "name": "stderr",
     "output_type": "stream",
     "text": [
      "┌ Info: Epoch 8\n",
      "└ @ ConvGRU /Users/kahingleung/.julia/packages/Flux/sY3yx/src/optimise/train.jl:136\n"
     ]
    },
    {
     "name": "stdout",
     "output_type": "stream",
     "text": [
      "mse_loss(xtest, ytest) = 0.40729156f0\n"
     ]
    },
    {
     "name": "stderr",
     "output_type": "stream",
     "text": [
      "┌ Info: Epoch 9\n",
      "└ @ ConvGRU /Users/kahingleung/.julia/packages/Flux/sY3yx/src/optimise/train.jl:136\n"
     ]
    },
    {
     "name": "stdout",
     "output_type": "stream",
     "text": [
      "mse_loss(xtest, ytest) = 0.40686965f0\n"
     ]
    },
    {
     "name": "stderr",
     "output_type": "stream",
     "text": [
      "┌ Info: Epoch 10\n",
      "└ @ ConvGRU /Users/kahingleung/.julia/packages/Flux/sY3yx/src/optimise/train.jl:136\n",
      "┌ Info: Epoch 11\n",
      "└ @ ConvGRU /Users/kahingleung/.julia/packages/Flux/sY3yx/src/optimise/train.jl:136\n"
     ]
    },
    {
     "name": "stdout",
     "output_type": "stream",
     "text": [
      "mse_loss(xtest, ytest) = 0.40709198f0\n",
      "mse_loss(xtest, ytest) = 0.40679413f0\n"
     ]
    },
    {
     "name": "stderr",
     "output_type": "stream",
     "text": [
      "┌ Info: Epoch 12\n",
      "└ @ ConvGRU /Users/kahingleung/.julia/packages/Flux/sY3yx/src/optimise/train.jl:136\n"
     ]
    },
    {
     "name": "stdout",
     "output_type": "stream",
     "text": [
      "mse_loss(xtest, ytest) = 0.40645126f0\n"
     ]
    },
    {
     "name": "stderr",
     "output_type": "stream",
     "text": [
      "┌ Info: Epoch 13\n",
      "└ @ ConvGRU /Users/kahingleung/.julia/packages/Flux/sY3yx/src/optimise/train.jl:136\n"
     ]
    },
    {
     "name": "stdout",
     "output_type": "stream",
     "text": [
      "mse_loss(xtest, ytest) = 0.4081342f0\n"
     ]
    },
    {
     "name": "stderr",
     "output_type": "stream",
     "text": [
      "┌ Info: Epoch 14\n",
      "└ @ ConvGRU /Users/kahingleung/.julia/packages/Flux/sY3yx/src/optimise/train.jl:136\n",
      "┌ Info: Epoch 15\n",
      "└ @ ConvGRU /Users/kahingleung/.julia/packages/Flux/sY3yx/src/optimise/train.jl:136\n"
     ]
    },
    {
     "name": "stdout",
     "output_type": "stream",
     "text": [
      "mse_loss(xtest, ytest) = 0.40685603f0\n",
      "mse_loss(xtest, ytest) = 0.40506986f0\n"
     ]
    },
    {
     "name": "stderr",
     "output_type": "stream",
     "text": [
      "┌ Info: Epoch 16\n",
      "└ @ ConvGRU /Users/kahingleung/.julia/packages/Flux/sY3yx/src/optimise/train.jl:136\n"
     ]
    },
    {
     "name": "stdout",
     "output_type": "stream",
     "text": [
      "mse_loss(xtest, ytest) = 0.40617037f0\n"
     ]
    },
    {
     "name": "stderr",
     "output_type": "stream",
     "text": [
      "┌ Info: Epoch 17\n",
      "└ @ ConvGRU /Users/kahingleung/.julia/packages/Flux/sY3yx/src/optimise/train.jl:136\n"
     ]
    },
    {
     "name": "stdout",
     "output_type": "stream",
     "text": [
      "mse_loss(xtest, ytest) = 0.40527388f0\n"
     ]
    },
    {
     "name": "stderr",
     "output_type": "stream",
     "text": [
      "┌ Info: Epoch 18\n",
      "└ @ ConvGRU /Users/kahingleung/.julia/packages/Flux/sY3yx/src/optimise/train.jl:136\n"
     ]
    },
    {
     "name": "stdout",
     "output_type": "stream",
     "text": [
      "mse_loss(xtest, ytest) = 0.40605778f0\n"
     ]
    },
    {
     "name": "stderr",
     "output_type": "stream",
     "text": [
      "┌ Info: Epoch 19\n",
      "└ @ ConvGRU /Users/kahingleung/.julia/packages/Flux/sY3yx/src/optimise/train.jl:136\n"
     ]
    },
    {
     "name": "stdout",
     "output_type": "stream",
     "text": [
      "mse_loss(xtest, ytest) = 0.4069967f0\n"
     ]
    },
    {
     "name": "stderr",
     "output_type": "stream",
     "text": [
      "┌ Info: Epoch 20\n",
      "└ @ ConvGRU /Users/kahingleung/.julia/packages/Flux/sY3yx/src/optimise/train.jl:136\n"
     ]
    },
    {
     "name": "stdout",
     "output_type": "stream",
     "text": [
      "mse_loss(xtest, ytest) = 0.407716f0\n"
     ]
    },
    {
     "name": "stderr",
     "output_type": "stream",
     "text": [
      "┌ Info: Epoch 21\n",
      "└ @ ConvGRU /Users/kahingleung/.julia/packages/Flux/sY3yx/src/optimise/train.jl:136\n"
     ]
    },
    {
     "name": "stdout",
     "output_type": "stream",
     "text": [
      "mse_loss(xtest, ytest) = 0.40749854f0\n"
     ]
    },
    {
     "name": "stderr",
     "output_type": "stream",
     "text": [
      "┌ Info: Epoch 22\n",
      "└ @ ConvGRU /Users/kahingleung/.julia/packages/Flux/sY3yx/src/optimise/train.jl:136\n"
     ]
    },
    {
     "name": "stdout",
     "output_type": "stream",
     "text": [
      "mse_loss(xtest, ytest) = 0.40777767f0\n"
     ]
    },
    {
     "name": "stderr",
     "output_type": "stream",
     "text": [
      "┌ Info: Epoch 23\n",
      "└ @ ConvGRU /Users/kahingleung/.julia/packages/Flux/sY3yx/src/optimise/train.jl:136\n"
     ]
    },
    {
     "name": "stdout",
     "output_type": "stream",
     "text": [
      "mse_loss(xtest, ytest) = 0.40680593f0\n"
     ]
    },
    {
     "name": "stderr",
     "output_type": "stream",
     "text": [
      "┌ Info: Epoch 24\n",
      "└ @ ConvGRU /Users/kahingleung/.julia/packages/Flux/sY3yx/src/optimise/train.jl:136\n"
     ]
    },
    {
     "name": "stdout",
     "output_type": "stream",
     "text": [
      "mse_loss(xtest, ytest) = 0.40685838f0\n"
     ]
    },
    {
     "name": "stderr",
     "output_type": "stream",
     "text": [
      "┌ Info: Epoch 25\n",
      "└ @ ConvGRU /Users/kahingleung/.julia/packages/Flux/sY3yx/src/optimise/train.jl:136\n"
     ]
    },
    {
     "name": "stdout",
     "output_type": "stream",
     "text": [
      "mse_loss(xtest, ytest) = 0.40656883f0\n"
     ]
    },
    {
     "name": "stderr",
     "output_type": "stream",
     "text": [
      "┌ Info: Epoch 26\n",
      "└ @ ConvGRU /Users/kahingleung/.julia/packages/Flux/sY3yx/src/optimise/train.jl:136\n"
     ]
    },
    {
     "name": "stdout",
     "output_type": "stream",
     "text": [
      "mse_loss(xtest, ytest) = 0.40738186f0\n"
     ]
    },
    {
     "name": "stderr",
     "output_type": "stream",
     "text": [
      "┌ Info: Epoch 27\n",
      "└ @ ConvGRU /Users/kahingleung/.julia/packages/Flux/sY3yx/src/optimise/train.jl:136\n",
      "┌ Info: Epoch 28\n",
      "└ @ ConvGRU /Users/kahingleung/.julia/packages/Flux/sY3yx/src/optimise/train.jl:136\n"
     ]
    },
    {
     "name": "stdout",
     "output_type": "stream",
     "text": [
      "mse_loss(xtest, ytest) = 0.4077262f0\n",
      "mse_loss(xtest, ytest) = 0.40425825f0\n"
     ]
    },
    {
     "name": "stderr",
     "output_type": "stream",
     "text": [
      "┌ Info: Epoch 29\n",
      "└ @ ConvGRU /Users/kahingleung/.julia/packages/Flux/sY3yx/src/optimise/train.jl:136\n"
     ]
    },
    {
     "name": "stdout",
     "output_type": "stream",
     "text": [
      "mse_loss(xtest, ytest) = 0.40543818f0\n"
     ]
    },
    {
     "name": "stderr",
     "output_type": "stream",
     "text": [
      "┌ Info: Epoch 30\n",
      "└ @ ConvGRU /Users/kahingleung/.julia/packages/Flux/sY3yx/src/optimise/train.jl:136\n"
     ]
    },
    {
     "name": "stdout",
     "output_type": "stream",
     "text": [
      "(250,)\n",
      "myObjective(df, seqlen, Nh, lr, sym * \"-\" * string(i)) = 0.4043994f0\n",
      "42020.007742636826811269\n",
      "mse_loss(xtest, ytest) = 0.410737f0\n"
     ]
    },
    {
     "name": "stderr",
     "output_type": "stream",
     "text": [
      "┌ Info: Epoch 1\n",
      "└ @ ConvGRU /Users/kahingleung/.julia/packages/Flux/sY3yx/src/optimise/train.jl:136\n"
     ]
    },
    {
     "name": "stdout",
     "output_type": "stream",
     "text": [
      "mse_loss(xtest, ytest) = 0.39184567f0\n",
      "mse_loss(xtest, ytest) = 0.41075864f0\n"
     ]
    },
    {
     "name": "stderr",
     "output_type": "stream",
     "text": [
      "┌ Info: Epoch 2\n",
      "└ @ ConvGRU /Users/kahingleung/.julia/packages/Flux/sY3yx/src/optimise/train.jl:136\n"
     ]
    },
    {
     "name": "stdout",
     "output_type": "stream",
     "text": [
      "mse_loss(xtest, ytest) = 0.41103077f0\n"
     ]
    },
    {
     "name": "stderr",
     "output_type": "stream",
     "text": [
      "┌ Info: Epoch 3\n",
      "└ @ ConvGRU /Users/kahingleung/.julia/packages/Flux/sY3yx/src/optimise/train.jl:136\n"
     ]
    },
    {
     "name": "stdout",
     "output_type": "stream",
     "text": [
      "mse_loss(xtest, ytest) = 0.41151792f0\n"
     ]
    },
    {
     "name": "stderr",
     "output_type": "stream",
     "text": [
      "┌ Info: Epoch 4\n",
      "└ @ ConvGRU /Users/kahingleung/.julia/packages/Flux/sY3yx/src/optimise/train.jl:136\n"
     ]
    },
    {
     "name": "stdout",
     "output_type": "stream",
     "text": [
      "mse_loss(xtest, ytest) = 0.41045862f0\n"
     ]
    },
    {
     "name": "stderr",
     "output_type": "stream",
     "text": [
      "┌ Info: Epoch 5\n",
      "└ @ ConvGRU /Users/kahingleung/.julia/packages/Flux/sY3yx/src/optimise/train.jl:136\n"
     ]
    },
    {
     "name": "stdout",
     "output_type": "stream",
     "text": [
      "mse_loss(xtest, ytest) = 0.40862107f0\n"
     ]
    },
    {
     "name": "stderr",
     "output_type": "stream",
     "text": [
      "┌ Info: Epoch 6\n",
      "└ @ ConvGRU /Users/kahingleung/.julia/packages/Flux/sY3yx/src/optimise/train.jl:136\n"
     ]
    },
    {
     "name": "stdout",
     "output_type": "stream",
     "text": [
      "mse_loss(xtest, ytest) = 0.40501246f0\n"
     ]
    },
    {
     "name": "stderr",
     "output_type": "stream",
     "text": [
      "┌ Info: Epoch 7\n",
      "└ @ ConvGRU /Users/kahingleung/.julia/packages/Flux/sY3yx/src/optimise/train.jl:136\n"
     ]
    },
    {
     "name": "stdout",
     "output_type": "stream",
     "text": [
      "mse_loss(xtest, ytest) = 0.4036545f0\n"
     ]
    },
    {
     "name": "stderr",
     "output_type": "stream",
     "text": [
      "┌ Info: Epoch 8\n",
      "└ @ ConvGRU /Users/kahingleung/.julia/packages/Flux/sY3yx/src/optimise/train.jl:136\n"
     ]
    },
    {
     "name": "stdout",
     "output_type": "stream",
     "text": [
      "mse_loss(xtest, ytest) = 0.40491936f0\n"
     ]
    },
    {
     "name": "stderr",
     "output_type": "stream",
     "text": [
      "┌ Info: Epoch 9\n",
      "└ @ ConvGRU /Users/kahingleung/.julia/packages/Flux/sY3yx/src/optimise/train.jl:136\n"
     ]
    },
    {
     "name": "stdout",
     "output_type": "stream",
     "text": [
      "mse_loss(xtest, ytest) = 0.40430966f0\n"
     ]
    },
    {
     "name": "stderr",
     "output_type": "stream",
     "text": [
      "┌ Info: Epoch 10\n",
      "└ @ ConvGRU /Users/kahingleung/.julia/packages/Flux/sY3yx/src/optimise/train.jl:136\n"
     ]
    },
    {
     "name": "stdout",
     "output_type": "stream",
     "text": [
      "mse_loss(xtest, ytest) = 0.40131488f0\n"
     ]
    },
    {
     "name": "stderr",
     "output_type": "stream",
     "text": [
      "┌ Info: Epoch 11\n",
      "└ @ ConvGRU /Users/kahingleung/.julia/packages/Flux/sY3yx/src/optimise/train.jl:136\n"
     ]
    },
    {
     "name": "stdout",
     "output_type": "stream",
     "text": [
      "mse_loss(xtest, ytest) = 0.40765414f0\n"
     ]
    },
    {
     "name": "stderr",
     "output_type": "stream",
     "text": [
      "┌ Info: Epoch 12\n",
      "└ @ ConvGRU /Users/kahingleung/.julia/packages/Flux/sY3yx/src/optimise/train.jl:136\n"
     ]
    },
    {
     "name": "stdout",
     "output_type": "stream",
     "text": [
      "mse_loss(xtest, ytest) = 0.40486756f0\n"
     ]
    },
    {
     "name": "stderr",
     "output_type": "stream",
     "text": [
      "┌ Info: Epoch 13\n",
      "└ @ ConvGRU /Users/kahingleung/.julia/packages/Flux/sY3yx/src/optimise/train.jl:136\n"
     ]
    },
    {
     "name": "stdout",
     "output_type": "stream",
     "text": [
      "mse_loss(xtest, ytest) = 0.404651f0\n"
     ]
    },
    {
     "name": "stderr",
     "output_type": "stream",
     "text": [
      "┌ Info: Epoch 14\n",
      "└ @ ConvGRU /Users/kahingleung/.julia/packages/Flux/sY3yx/src/optimise/train.jl:136\n"
     ]
    },
    {
     "name": "stdout",
     "output_type": "stream",
     "text": [
      "mse_loss(xtest, ytest) = 0.40359285f0\n"
     ]
    },
    {
     "name": "stderr",
     "output_type": "stream",
     "text": [
      "┌ Info: Epoch 15\n",
      "└ @ ConvGRU /Users/kahingleung/.julia/packages/Flux/sY3yx/src/optimise/train.jl:136\n"
     ]
    },
    {
     "name": "stdout",
     "output_type": "stream",
     "text": [
      "mse_loss(xtest, ytest) = 0.40683603f0\n"
     ]
    },
    {
     "name": "stderr",
     "output_type": "stream",
     "text": [
      "┌ Info: Epoch 16\n",
      "└ @ ConvGRU /Users/kahingleung/.julia/packages/Flux/sY3yx/src/optimise/train.jl:136\n",
      "┌ Info: Epoch 17\n",
      "└ @ ConvGRU /Users/kahingleung/.julia/packages/Flux/sY3yx/src/optimise/train.jl:136\n"
     ]
    },
    {
     "name": "stdout",
     "output_type": "stream",
     "text": [
      "mse_loss(xtest, ytest) = 0.40746078f0\n"
     ]
    },
    {
     "name": "stderr",
     "output_type": "stream",
     "text": [
      "┌ Info: Epoch 18\n",
      "└ @ ConvGRU /Users/kahingleung/.julia/packages/Flux/sY3yx/src/optimise/train.jl:136\n"
     ]
    },
    {
     "name": "stdout",
     "output_type": "stream",
     "text": [
      "mse_loss(xtest, ytest) = 0.40635878f0\n",
      "mse_loss(xtest, ytest) = 0.41028154f0\n"
     ]
    },
    {
     "name": "stderr",
     "output_type": "stream",
     "text": [
      "┌ Info: Epoch 19\n",
      "└ @ ConvGRU /Users/kahingleung/.julia/packages/Flux/sY3yx/src/optimise/train.jl:136\n"
     ]
    },
    {
     "name": "stdout",
     "output_type": "stream",
     "text": [
      "mse_loss(xtest, ytest) = 0.41135582f0\n"
     ]
    },
    {
     "name": "stderr",
     "output_type": "stream",
     "text": [
      "┌ Info: Epoch 20\n",
      "└ @ ConvGRU /Users/kahingleung/.julia/packages/Flux/sY3yx/src/optimise/train.jl:136\n"
     ]
    },
    {
     "name": "stdout",
     "output_type": "stream",
     "text": [
      "mse_loss(xtest, ytest) = 0.41248187f0\n"
     ]
    },
    {
     "name": "stderr",
     "output_type": "stream",
     "text": [
      "┌ Info: Epoch 21\n",
      "└ @ ConvGRU /Users/kahingleung/.julia/packages/Flux/sY3yx/src/optimise/train.jl:136\n"
     ]
    },
    {
     "name": "stdout",
     "output_type": "stream",
     "text": [
      "mse_loss(xtest, ytest) = 0.41307727f0\n"
     ]
    },
    {
     "name": "stderr",
     "output_type": "stream",
     "text": [
      "┌ Info: Epoch 22\n",
      "└ @ ConvGRU /Users/kahingleung/.julia/packages/Flux/sY3yx/src/optimise/train.jl:136\n",
      "┌ Info: Epoch 23\n",
      "└ @ ConvGRU /Users/kahingleung/.julia/packages/Flux/sY3yx/src/optimise/train.jl:136\n"
     ]
    },
    {
     "name": "stdout",
     "output_type": "stream",
     "text": [
      "mse_loss(xtest, ytest) = 0.40963432f0\n",
      "mse_loss(xtest, ytest) = 0.41321868f0\n"
     ]
    },
    {
     "name": "stderr",
     "output_type": "stream",
     "text": [
      "┌ Info: Epoch 24\n",
      "└ @ ConvGRU /Users/kahingleung/.julia/packages/Flux/sY3yx/src/optimise/train.jl:136\n"
     ]
    },
    {
     "name": "stdout",
     "output_type": "stream",
     "text": [
      "mse_loss(xtest, ytest) = 0.4123941f0\n"
     ]
    },
    {
     "name": "stderr",
     "output_type": "stream",
     "text": [
      "┌ Info: Epoch 25\n",
      "└ @ ConvGRU /Users/kahingleung/.julia/packages/Flux/sY3yx/src/optimise/train.jl:136\n"
     ]
    },
    {
     "name": "stdout",
     "output_type": "stream",
     "text": [
      "mse_loss(xtest, ytest) = 0.4145938f0\n"
     ]
    },
    {
     "name": "stderr",
     "output_type": "stream",
     "text": [
      "┌ Info: Epoch 26\n",
      "└ @ ConvGRU /Users/kahingleung/.julia/packages/Flux/sY3yx/src/optimise/train.jl:136\n"
     ]
    },
    {
     "name": "stdout",
     "output_type": "stream",
     "text": [
      "mse_loss(xtest, ytest) = 0.40946066f0\n"
     ]
    },
    {
     "name": "stderr",
     "output_type": "stream",
     "text": [
      "┌ Info: Epoch 27\n",
      "└ @ ConvGRU /Users/kahingleung/.julia/packages/Flux/sY3yx/src/optimise/train.jl:136\n"
     ]
    },
    {
     "name": "stdout",
     "output_type": "stream",
     "text": [
      "mse_loss(xtest, ytest) = 0.41416886f0\n"
     ]
    },
    {
     "name": "stderr",
     "output_type": "stream",
     "text": [
      "┌ Info: Epoch 28\n",
      "└ @ ConvGRU /Users/kahingleung/.julia/packages/Flux/sY3yx/src/optimise/train.jl:136\n",
      "┌ Info: Epoch 29\n",
      "└ @ ConvGRU /Users/kahingleung/.julia/packages/Flux/sY3yx/src/optimise/train.jl:136\n"
     ]
    },
    {
     "name": "stdout",
     "output_type": "stream",
     "text": [
      "mse_loss(xtest, ytest) = 0.41575983f0\n",
      "mse_loss(xtest, ytest) = 0.41514254f0\n"
     ]
    },
    {
     "name": "stderr",
     "output_type": "stream",
     "text": [
      "┌ Info: Epoch 30\n",
      "└ @ ConvGRU /Users/kahingleung/.julia/packages/Flux/sY3yx/src/optimise/train.jl:136\n"
     ]
    },
    {
     "name": "stdout",
     "output_type": "stream",
     "text": [
      "(250,)\n",
      "myObjective(df, seqlen, Nh, lr, sym * \"-\" * string(i)) = 0.4097361f0\n",
      "52520.007742636826811269\n",
      "mse_loss(xtest, ytest) = 0.52056617f0\n",
      "mse_loss(xtest, ytest) = 0.43941382f0\n"
     ]
    },
    {
     "name": "stderr",
     "output_type": "stream",
     "text": [
      "┌ Info: Epoch 1\n",
      "└ @ ConvGRU /Users/kahingleung/.julia/packages/Flux/sY3yx/src/optimise/train.jl:136\n"
     ]
    },
    {
     "name": "stdout",
     "output_type": "stream",
     "text": [
      "mse_loss(xtest, ytest) = 0.46094945f0\n"
     ]
    },
    {
     "name": "stderr",
     "output_type": "stream",
     "text": [
      "┌ Info: Epoch 2\n",
      "└ @ ConvGRU /Users/kahingleung/.julia/packages/Flux/sY3yx/src/optimise/train.jl:136\n",
      "┌ Info: Epoch 3\n",
      "└ @ ConvGRU /Users/kahingleung/.julia/packages/Flux/sY3yx/src/optimise/train.jl:136\n"
     ]
    },
    {
     "name": "stdout",
     "output_type": "stream",
     "text": [
      "mse_loss(xtest, ytest) = 0.4643772f0\n",
      "mse_loss(xtest, ytest) = 0.45470864f0\n"
     ]
    },
    {
     "name": "stderr",
     "output_type": "stream",
     "text": [
      "┌ Info: Epoch 4\n",
      "└ @ ConvGRU /Users/kahingleung/.julia/packages/Flux/sY3yx/src/optimise/train.jl:136\n"
     ]
    },
    {
     "name": "stdout",
     "output_type": "stream",
     "text": [
      "mse_loss(xtest, ytest) = 0.45589563f0\n"
     ]
    },
    {
     "name": "stderr",
     "output_type": "stream",
     "text": [
      "┌ Info: Epoch 5\n",
      "└ @ ConvGRU /Users/kahingleung/.julia/packages/Flux/sY3yx/src/optimise/train.jl:136\n"
     ]
    },
    {
     "name": "stdout",
     "output_type": "stream",
     "text": [
      "mse_loss(xtest, ytest) = 0.44726035f0\n"
     ]
    },
    {
     "name": "stderr",
     "output_type": "stream",
     "text": [
      "┌ Info: Epoch 6\n",
      "└ @ ConvGRU /Users/kahingleung/.julia/packages/Flux/sY3yx/src/optimise/train.jl:136\n",
      "┌ Info: Epoch 7\n",
      "└ @ ConvGRU /Users/kahingleung/.julia/packages/Flux/sY3yx/src/optimise/train.jl:136\n"
     ]
    },
    {
     "name": "stdout",
     "output_type": "stream",
     "text": [
      "mse_loss(xtest, ytest) = 0.44395947f0\n",
      "mse_loss(xtest, ytest) = 0.45382398f0\n"
     ]
    },
    {
     "name": "stderr",
     "output_type": "stream",
     "text": [
      "┌ Info: Epoch 8\n",
      "└ @ ConvGRU /Users/kahingleung/.julia/packages/Flux/sY3yx/src/optimise/train.jl:136\n"
     ]
    },
    {
     "name": "stdout",
     "output_type": "stream",
     "text": [
      "mse_loss(xtest, ytest) = 0.44992244f0\n"
     ]
    },
    {
     "name": "stderr",
     "output_type": "stream",
     "text": [
      "┌ Info: Epoch 9\n",
      "└ @ ConvGRU /Users/kahingleung/.julia/packages/Flux/sY3yx/src/optimise/train.jl:136\n"
     ]
    },
    {
     "name": "stdout",
     "output_type": "stream",
     "text": [
      "mse_loss(xtest, ytest) = 0.4419916f0\n"
     ]
    },
    {
     "name": "stderr",
     "output_type": "stream",
     "text": [
      "┌ Info: Epoch 10\n",
      "└ @ ConvGRU /Users/kahingleung/.julia/packages/Flux/sY3yx/src/optimise/train.jl:136\n"
     ]
    },
    {
     "name": "stdout",
     "output_type": "stream",
     "text": [
      "mse_loss(xtest, ytest) = 0.44221714f0\n"
     ]
    },
    {
     "name": "stderr",
     "output_type": "stream",
     "text": [
      "┌ Info: Epoch 11\n",
      "└ @ ConvGRU /Users/kahingleung/.julia/packages/Flux/sY3yx/src/optimise/train.jl:136\n",
      "┌ Info: Epoch 12\n",
      "└ @ ConvGRU /Users/kahingleung/.julia/packages/Flux/sY3yx/src/optimise/train.jl:136\n"
     ]
    },
    {
     "name": "stdout",
     "output_type": "stream",
     "text": [
      "mse_loss(xtest, ytest) = 0.44479463f0\n",
      "mse_loss(xtest, ytest) = 0.43249384f0\n"
     ]
    },
    {
     "name": "stderr",
     "output_type": "stream",
     "text": [
      "┌ Info: Epoch 13\n",
      "└ @ ConvGRU /Users/kahingleung/.julia/packages/Flux/sY3yx/src/optimise/train.jl:136\n"
     ]
    },
    {
     "name": "stdout",
     "output_type": "stream",
     "text": [
      "mse_loss(xtest, ytest) = 0.4311327f0\n"
     ]
    },
    {
     "name": "stderr",
     "output_type": "stream",
     "text": [
      "┌ Info: Epoch 14\n",
      "└ @ ConvGRU /Users/kahingleung/.julia/packages/Flux/sY3yx/src/optimise/train.jl:136\n"
     ]
    },
    {
     "name": "stdout",
     "output_type": "stream",
     "text": [
      "mse_loss(xtest, ytest) = 0.42527536f0\n"
     ]
    },
    {
     "name": "stderr",
     "output_type": "stream",
     "text": [
      "┌ Info: Epoch 15\n",
      "└ @ ConvGRU /Users/kahingleung/.julia/packages/Flux/sY3yx/src/optimise/train.jl:136\n"
     ]
    },
    {
     "name": "stdout",
     "output_type": "stream",
     "text": [
      "mse_loss(xtest, ytest) = 0.42290485f0\n"
     ]
    },
    {
     "name": "stderr",
     "output_type": "stream",
     "text": [
      "┌ Info: Epoch 16\n",
      "└ @ ConvGRU /Users/kahingleung/.julia/packages/Flux/sY3yx/src/optimise/train.jl:136\n"
     ]
    },
    {
     "name": "stdout",
     "output_type": "stream",
     "text": [
      "mse_loss(xtest, ytest) = 0.4147822f0\n"
     ]
    },
    {
     "name": "stderr",
     "output_type": "stream",
     "text": [
      "┌ Info: Epoch 17\n",
      "└ @ ConvGRU /Users/kahingleung/.julia/packages/Flux/sY3yx/src/optimise/train.jl:136\n"
     ]
    },
    {
     "name": "stdout",
     "output_type": "stream",
     "text": [
      "mse_loss(xtest, ytest) = 0.41491073f0\n"
     ]
    },
    {
     "name": "stderr",
     "output_type": "stream",
     "text": [
      "┌ Info: Epoch 18\n",
      "└ @ ConvGRU /Users/kahingleung/.julia/packages/Flux/sY3yx/src/optimise/train.jl:136\n"
     ]
    },
    {
     "name": "stdout",
     "output_type": "stream",
     "text": [
      "mse_loss(xtest, ytest) = 0.41166145f0\n"
     ]
    },
    {
     "name": "stderr",
     "output_type": "stream",
     "text": [
      "┌ Info: Epoch 19\n",
      "└ @ ConvGRU /Users/kahingleung/.julia/packages/Flux/sY3yx/src/optimise/train.jl:136\n"
     ]
    },
    {
     "name": "stdout",
     "output_type": "stream",
     "text": [
      "mse_loss(xtest, ytest) = 0.4124088f0\n"
     ]
    },
    {
     "name": "stderr",
     "output_type": "stream",
     "text": [
      "┌ Info: Epoch 20\n",
      "└ @ ConvGRU /Users/kahingleung/.julia/packages/Flux/sY3yx/src/optimise/train.jl:136\n",
      "┌ Info: Epoch 21\n",
      "└ @ ConvGRU /Users/kahingleung/.julia/packages/Flux/sY3yx/src/optimise/train.jl:136\n"
     ]
    },
    {
     "name": "stdout",
     "output_type": "stream",
     "text": [
      "mse_loss(xtest, ytest) = 0.41288814f0\n"
     ]
    },
    {
     "name": "stderr",
     "output_type": "stream",
     "text": [
      "┌ Info: Epoch 22\n",
      "└ @ ConvGRU /Users/kahingleung/.julia/packages/Flux/sY3yx/src/optimise/train.jl:136\n"
     ]
    },
    {
     "name": "stdout",
     "output_type": "stream",
     "text": [
      "mse_loss(xtest, ytest) = 0.41688263f0\n",
      "mse_loss(xtest, ytest) = 0.41889057f0\n"
     ]
    },
    {
     "name": "stderr",
     "output_type": "stream",
     "text": [
      "┌ Info: Epoch 23\n",
      "└ @ ConvGRU /Users/kahingleung/.julia/packages/Flux/sY3yx/src/optimise/train.jl:136\n"
     ]
    },
    {
     "name": "stdout",
     "output_type": "stream",
     "text": [
      "mse_loss(xtest, ytest) = 0.41437814f0\n"
     ]
    },
    {
     "name": "stderr",
     "output_type": "stream",
     "text": [
      "┌ Info: Epoch 24\n",
      "└ @ ConvGRU /Users/kahingleung/.julia/packages/Flux/sY3yx/src/optimise/train.jl:136\n"
     ]
    },
    {
     "name": "stdout",
     "output_type": "stream",
     "text": [
      "mse_loss(xtest, ytest) = 0.41773608f0\n"
     ]
    },
    {
     "name": "stderr",
     "output_type": "stream",
     "text": [
      "┌ Info: Epoch 25\n",
      "└ @ ConvGRU /Users/kahingleung/.julia/packages/Flux/sY3yx/src/optimise/train.jl:136\n",
      "┌ Info: Epoch 26\n",
      "└ @ ConvGRU /Users/kahingleung/.julia/packages/Flux/sY3yx/src/optimise/train.jl:136\n"
     ]
    },
    {
     "name": "stdout",
     "output_type": "stream",
     "text": [
      "mse_loss(xtest, ytest) = 0.41906855f0\n",
      "mse_loss(xtest, ytest) = 0.4139425f0\n"
     ]
    },
    {
     "name": "stderr",
     "output_type": "stream",
     "text": [
      "┌ Info: Epoch 27\n",
      "└ @ ConvGRU /Users/kahingleung/.julia/packages/Flux/sY3yx/src/optimise/train.jl:136\n"
     ]
    },
    {
     "name": "stdout",
     "output_type": "stream",
     "text": [
      "mse_loss(xtest, ytest) = 0.4160613f0\n"
     ]
    },
    {
     "name": "stderr",
     "output_type": "stream",
     "text": [
      "┌ Info: Epoch 28\n",
      "└ @ ConvGRU /Users/kahingleung/.julia/packages/Flux/sY3yx/src/optimise/train.jl:136\n"
     ]
    },
    {
     "name": "stdout",
     "output_type": "stream",
     "text": [
      "mse_loss(xtest, ytest) = 0.41966674f0\n"
     ]
    },
    {
     "name": "stderr",
     "output_type": "stream",
     "text": [
      "┌ Info: Epoch 29\n",
      "└ @ ConvGRU /Users/kahingleung/.julia/packages/Flux/sY3yx/src/optimise/train.jl:136\n"
     ]
    },
    {
     "name": "stdout",
     "output_type": "stream",
     "text": [
      "mse_loss(xtest, ytest) = 0.42392695f0\n"
     ]
    },
    {
     "name": "stderr",
     "output_type": "stream",
     "text": [
      "┌ Info: Epoch 30\n",
      "└ @ ConvGRU /Users/kahingleung/.julia/packages/Flux/sY3yx/src/optimise/train.jl:136\n"
     ]
    },
    {
     "name": "stdout",
     "output_type": "stream",
     "text": [
      "(250,)\n",
      "myObjective(df, seqlen, Nh, lr, sym * \"-\" * string(i)) = 0.41023278f0\n",
      "63060.001\n",
      "mse_loss(xtest, ytest) = 0.49945003f0\n",
      "mse_loss(xtest, ytest) = 0.47670898f0\n"
     ]
    },
    {
     "name": "stderr",
     "output_type": "stream",
     "text": [
      "┌ Info: Epoch 1\n",
      "└ @ ConvGRU /Users/kahingleung/.julia/packages/Flux/sY3yx/src/optimise/train.jl:136\n"
     ]
    },
    {
     "name": "stdout",
     "output_type": "stream",
     "text": [
      "mse_loss(xtest, ytest) = 0.41228858f0\n"
     ]
    },
    {
     "name": "stderr",
     "output_type": "stream",
     "text": [
      "┌ Info: Epoch 2\n",
      "└ @ ConvGRU /Users/kahingleung/.julia/packages/Flux/sY3yx/src/optimise/train.jl:136\n"
     ]
    },
    {
     "name": "stdout",
     "output_type": "stream",
     "text": [
      "mse_loss(xtest, ytest) = 0.4091134f0\n"
     ]
    },
    {
     "name": "stderr",
     "output_type": "stream",
     "text": [
      "┌ Info: Epoch 3\n",
      "└ @ ConvGRU /Users/kahingleung/.julia/packages/Flux/sY3yx/src/optimise/train.jl:136\n"
     ]
    },
    {
     "name": "stdout",
     "output_type": "stream",
     "text": [
      "mse_loss(xtest, ytest) = 0.40802726f0\n"
     ]
    },
    {
     "name": "stderr",
     "output_type": "stream",
     "text": [
      "┌ Info: Epoch 4\n",
      "└ @ ConvGRU /Users/kahingleung/.julia/packages/Flux/sY3yx/src/optimise/train.jl:136\n",
      "┌ Info: Epoch 5\n",
      "└ @ ConvGRU /Users/kahingleung/.julia/packages/Flux/sY3yx/src/optimise/train.jl:136\n"
     ]
    },
    {
     "name": "stdout",
     "output_type": "stream",
     "text": [
      "mse_loss(xtest, ytest) = 0.4079071f0\n"
     ]
    },
    {
     "name": "stderr",
     "output_type": "stream",
     "text": [
      "┌ Info: Epoch 6\n",
      "└ @ ConvGRU /Users/kahingleung/.julia/packages/Flux/sY3yx/src/optimise/train.jl:136\n"
     ]
    },
    {
     "name": "stdout",
     "output_type": "stream",
     "text": [
      "mse_loss(xtest, ytest) = 0.40804875f0\n",
      "mse_loss(xtest, ytest) = 0.4094115f0\n"
     ]
    },
    {
     "name": "stderr",
     "output_type": "stream",
     "text": [
      "┌ Info: Epoch 7\n",
      "└ @ ConvGRU /Users/kahingleung/.julia/packages/Flux/sY3yx/src/optimise/train.jl:136\n"
     ]
    },
    {
     "name": "stdout",
     "output_type": "stream",
     "text": [
      "mse_loss(xtest, ytest) = 0.40842614f0\n"
     ]
    },
    {
     "name": "stderr",
     "output_type": "stream",
     "text": [
      "┌ Info: Epoch 8\n",
      "└ @ ConvGRU /Users/kahingleung/.julia/packages/Flux/sY3yx/src/optimise/train.jl:136\n",
      "┌ Info: Epoch 9\n",
      "└ @ ConvGRU /Users/kahingleung/.julia/packages/Flux/sY3yx/src/optimise/train.jl:136\n"
     ]
    },
    {
     "name": "stdout",
     "output_type": "stream",
     "text": [
      "mse_loss(xtest, ytest) = 0.40820637f0\n",
      "mse_loss(xtest, ytest) = 0.40778208f0\n"
     ]
    },
    {
     "name": "stderr",
     "output_type": "stream",
     "text": [
      "┌ Info: Epoch 10\n",
      "└ @ ConvGRU /Users/kahingleung/.julia/packages/Flux/sY3yx/src/optimise/train.jl:136\n"
     ]
    },
    {
     "name": "stdout",
     "output_type": "stream",
     "text": [
      "mse_loss(xtest, ytest) = 0.40816927f0\n"
     ]
    },
    {
     "name": "stderr",
     "output_type": "stream",
     "text": [
      "┌ Info: Epoch 11\n",
      "└ @ ConvGRU /Users/kahingleung/.julia/packages/Flux/sY3yx/src/optimise/train.jl:136\n"
     ]
    },
    {
     "name": "stdout",
     "output_type": "stream",
     "text": [
      "mse_loss(xtest, ytest) = 0.40745586f0\n"
     ]
    },
    {
     "name": "stderr",
     "output_type": "stream",
     "text": [
      "┌ Info: Epoch 12\n",
      "└ @ ConvGRU /Users/kahingleung/.julia/packages/Flux/sY3yx/src/optimise/train.jl:136\n",
      "┌ Info: Epoch 13\n",
      "└ @ ConvGRU /Users/kahingleung/.julia/packages/Flux/sY3yx/src/optimise/train.jl:136\n"
     ]
    },
    {
     "name": "stdout",
     "output_type": "stream",
     "text": [
      "mse_loss(xtest, ytest) = 0.40740716f0\n",
      "mse_loss(xtest, ytest) = 0.40835506f0\n"
     ]
    },
    {
     "name": "stderr",
     "output_type": "stream",
     "text": [
      "┌ Info: Epoch 14\n",
      "└ @ ConvGRU /Users/kahingleung/.julia/packages/Flux/sY3yx/src/optimise/train.jl:136\n"
     ]
    },
    {
     "name": "stdout",
     "output_type": "stream",
     "text": [
      "mse_loss(xtest, ytest) = 0.40854427f0\n"
     ]
    },
    {
     "name": "stderr",
     "output_type": "stream",
     "text": [
      "┌ Info: Epoch 15\n",
      "└ @ ConvGRU /Users/kahingleung/.julia/packages/Flux/sY3yx/src/optimise/train.jl:136\n",
      "┌ Info: Epoch 16\n",
      "└ @ ConvGRU /Users/kahingleung/.julia/packages/Flux/sY3yx/src/optimise/train.jl:136\n"
     ]
    },
    {
     "name": "stdout",
     "output_type": "stream",
     "text": [
      "mse_loss(xtest, ytest) = 0.408266f0\n",
      "mse_loss(xtest, ytest) = 0.4082974f0\n"
     ]
    },
    {
     "name": "stderr",
     "output_type": "stream",
     "text": [
      "┌ Info: Epoch 17\n",
      "└ @ ConvGRU /Users/kahingleung/.julia/packages/Flux/sY3yx/src/optimise/train.jl:136\n"
     ]
    },
    {
     "name": "stdout",
     "output_type": "stream",
     "text": [
      "mse_loss(xtest, ytest) = 0.40795013f0\n"
     ]
    },
    {
     "name": "stderr",
     "output_type": "stream",
     "text": [
      "┌ Info: Epoch 18\n",
      "└ @ ConvGRU /Users/kahingleung/.julia/packages/Flux/sY3yx/src/optimise/train.jl:136\n",
      "┌ Info: Epoch 19\n",
      "└ @ ConvGRU /Users/kahingleung/.julia/packages/Flux/sY3yx/src/optimise/train.jl:136\n"
     ]
    },
    {
     "name": "stdout",
     "output_type": "stream",
     "text": [
      "mse_loss(xtest, ytest) = 0.40795833f0\n",
      "mse_loss(xtest, ytest) = 0.40765733f0\n"
     ]
    },
    {
     "name": "stderr",
     "output_type": "stream",
     "text": [
      "┌ Info: Epoch 20\n",
      "└ @ ConvGRU /Users/kahingleung/.julia/packages/Flux/sY3yx/src/optimise/train.jl:136\n"
     ]
    },
    {
     "name": "stdout",
     "output_type": "stream",
     "text": [
      "mse_loss(xtest, ytest) = 0.40762275f0\n"
     ]
    },
    {
     "name": "stderr",
     "output_type": "stream",
     "text": [
      "┌ Info: Epoch 21\n",
      "└ @ ConvGRU /Users/kahingleung/.julia/packages/Flux/sY3yx/src/optimise/train.jl:136\n",
      "┌ Info: Epoch 22\n",
      "└ @ ConvGRU /Users/kahingleung/.julia/packages/Flux/sY3yx/src/optimise/train.jl:136\n"
     ]
    },
    {
     "name": "stdout",
     "output_type": "stream",
     "text": [
      "mse_loss(xtest, ytest) = 0.40765244f0\n"
     ]
    },
    {
     "name": "stderr",
     "output_type": "stream",
     "text": [
      "┌ Info: Epoch 23\n",
      "└ @ ConvGRU /Users/kahingleung/.julia/packages/Flux/sY3yx/src/optimise/train.jl:136\n"
     ]
    },
    {
     "name": "stdout",
     "output_type": "stream",
     "text": [
      "mse_loss(xtest, ytest) = 0.40788767f0\n",
      "mse_loss(xtest, ytest) = 0.4076972f0\n"
     ]
    },
    {
     "name": "stderr",
     "output_type": "stream",
     "text": [
      "┌ Info: Epoch 24\n",
      "└ @ ConvGRU /Users/kahingleung/.julia/packages/Flux/sY3yx/src/optimise/train.jl:136\n"
     ]
    },
    {
     "name": "stdout",
     "output_type": "stream",
     "text": [
      "mse_loss(xtest, ytest) = 0.40829942f0\n"
     ]
    },
    {
     "name": "stderr",
     "output_type": "stream",
     "text": [
      "┌ Info: Epoch 25\n",
      "└ @ ConvGRU /Users/kahingleung/.julia/packages/Flux/sY3yx/src/optimise/train.jl:136\n",
      "┌ Info: Epoch 26\n",
      "└ @ ConvGRU /Users/kahingleung/.julia/packages/Flux/sY3yx/src/optimise/train.jl:136\n"
     ]
    },
    {
     "name": "stdout",
     "output_type": "stream",
     "text": [
      "mse_loss(xtest, ytest) = 0.4067863f0\n",
      "mse_loss(xtest, ytest) = 0.40723652f0\n"
     ]
    },
    {
     "name": "stderr",
     "output_type": "stream",
     "text": [
      "┌ Info: Epoch 27\n",
      "└ @ ConvGRU /Users/kahingleung/.julia/packages/Flux/sY3yx/src/optimise/train.jl:136\n"
     ]
    },
    {
     "name": "stdout",
     "output_type": "stream",
     "text": [
      "mse_loss(xtest, ytest) = 0.40749875f0\n"
     ]
    },
    {
     "name": "stderr",
     "output_type": "stream",
     "text": [
      "┌ Info: Epoch 28\n",
      "└ @ ConvGRU /Users/kahingleung/.julia/packages/Flux/sY3yx/src/optimise/train.jl:136\n",
      "┌ Info: Epoch 29\n",
      "└ @ ConvGRU /Users/kahingleung/.julia/packages/Flux/sY3yx/src/optimise/train.jl:136\n"
     ]
    },
    {
     "name": "stdout",
     "output_type": "stream",
     "text": [
      "mse_loss(xtest, ytest) = 0.40770274f0\n",
      "mse_loss(xtest, ytest) = 0.40773463f0\n"
     ]
    },
    {
     "name": "stderr",
     "output_type": "stream",
     "text": [
      "┌ Info: Epoch 30\n",
      "└ @ ConvGRU /Users/kahingleung/.julia/packages/Flux/sY3yx/src/optimise/train.jl:136\n"
     ]
    },
    {
     "name": "stdout",
     "output_type": "stream",
     "text": [
      "(250,)\n",
      "myObjective(df, seqlen, Nh, lr, sym * \"-\" * string(i)) = 0.40435416f0\n",
      "71060.007742636826811269\n",
      "mse_loss(xtest, ytest) = 0.6142212f0\n",
      "mse_loss(xtest, ytest) = 0.4165539f0\n"
     ]
    },
    {
     "name": "stderr",
     "output_type": "stream",
     "text": [
      "┌ Info: Epoch 1\n",
      "└ @ ConvGRU /Users/kahingleung/.julia/packages/Flux/sY3yx/src/optimise/train.jl:136\n"
     ]
    },
    {
     "name": "stdout",
     "output_type": "stream",
     "text": [
      "mse_loss(xtest, ytest) = 0.45123756f0\n"
     ]
    },
    {
     "name": "stderr",
     "output_type": "stream",
     "text": [
      "┌ Info: Epoch 2\n",
      "└ @ ConvGRU /Users/kahingleung/.julia/packages/Flux/sY3yx/src/optimise/train.jl:136\n",
      "┌ Info: Epoch 3\n",
      "└ @ ConvGRU /Users/kahingleung/.julia/packages/Flux/sY3yx/src/optimise/train.jl:136\n"
     ]
    },
    {
     "name": "stdout",
     "output_type": "stream",
     "text": [
      "mse_loss(xtest, ytest) = 0.4131448f0\n"
     ]
    },
    {
     "name": "stderr",
     "output_type": "stream",
     "text": [
      "┌ Info: Epoch 4\n",
      "└ @ ConvGRU /Users/kahingleung/.julia/packages/Flux/sY3yx/src/optimise/train.jl:136\n"
     ]
    },
    {
     "name": "stdout",
     "output_type": "stream",
     "text": [
      "mse_loss(xtest, ytest) = 0.41650596f0\n"
     ]
    },
    {
     "name": "stderr",
     "output_type": "stream",
     "text": [
      "┌ Info: Epoch 5\n",
      "└ @ ConvGRU /Users/kahingleung/.julia/packages/Flux/sY3yx/src/optimise/train.jl:136\n"
     ]
    },
    {
     "name": "stdout",
     "output_type": "stream",
     "text": [
      "mse_loss(xtest, ytest) = 0.40967596f0\n",
      "mse_loss(xtest, ytest) = 0.41125244f0\n"
     ]
    },
    {
     "name": "stderr",
     "output_type": "stream",
     "text": [
      "┌ Info: Epoch 6\n",
      "└ @ ConvGRU /Users/kahingleung/.julia/packages/Flux/sY3yx/src/optimise/train.jl:136\n"
     ]
    },
    {
     "name": "stdout",
     "output_type": "stream",
     "text": [
      "mse_loss(xtest, ytest) = 0.4094787f0\n"
     ]
    },
    {
     "name": "stderr",
     "output_type": "stream",
     "text": [
      "┌ Info: Epoch 7\n",
      "└ @ ConvGRU /Users/kahingleung/.julia/packages/Flux/sY3yx/src/optimise/train.jl:136\n"
     ]
    },
    {
     "name": "stdout",
     "output_type": "stream",
     "text": [
      "mse_loss(xtest, ytest) = 0.40891775f0\n"
     ]
    },
    {
     "name": "stderr",
     "output_type": "stream",
     "text": [
      "┌ Info: Epoch 8\n",
      "└ @ ConvGRU /Users/kahingleung/.julia/packages/Flux/sY3yx/src/optimise/train.jl:136\n"
     ]
    },
    {
     "name": "stdout",
     "output_type": "stream",
     "text": [
      "mse_loss(xtest, ytest) = 0.40618682f0\n"
     ]
    },
    {
     "name": "stderr",
     "output_type": "stream",
     "text": [
      "┌ Info: Epoch 9\n",
      "└ @ ConvGRU /Users/kahingleung/.julia/packages/Flux/sY3yx/src/optimise/train.jl:136\n"
     ]
    },
    {
     "name": "stdout",
     "output_type": "stream",
     "text": [
      "mse_loss(xtest, ytest) = 0.40634748f0\n"
     ]
    },
    {
     "name": "stderr",
     "output_type": "stream",
     "text": [
      "┌ Info: Epoch 10\n",
      "└ @ ConvGRU /Users/kahingleung/.julia/packages/Flux/sY3yx/src/optimise/train.jl:136\n"
     ]
    },
    {
     "name": "stdout",
     "output_type": "stream",
     "text": [
      "mse_loss(xtest, ytest) = 0.41394624f0\n"
     ]
    },
    {
     "name": "stderr",
     "output_type": "stream",
     "text": [
      "┌ Info: Epoch 11\n",
      "└ @ ConvGRU /Users/kahingleung/.julia/packages/Flux/sY3yx/src/optimise/train.jl:136\n"
     ]
    },
    {
     "name": "stdout",
     "output_type": "stream",
     "text": [
      "mse_loss(xtest, ytest) = 0.41344294f0\n"
     ]
    },
    {
     "name": "stderr",
     "output_type": "stream",
     "text": [
      "┌ Info: Epoch 12\n",
      "└ @ ConvGRU /Users/kahingleung/.julia/packages/Flux/sY3yx/src/optimise/train.jl:136\n"
     ]
    },
    {
     "name": "stdout",
     "output_type": "stream",
     "text": [
      "mse_loss(xtest, ytest) = 0.41031265f0\n"
     ]
    },
    {
     "name": "stderr",
     "output_type": "stream",
     "text": [
      "┌ Info: Epoch 13\n",
      "└ @ ConvGRU /Users/kahingleung/.julia/packages/Flux/sY3yx/src/optimise/train.jl:136\n"
     ]
    },
    {
     "name": "stdout",
     "output_type": "stream",
     "text": [
      "mse_loss(xtest, ytest) = 0.41064152f0\n"
     ]
    },
    {
     "name": "stderr",
     "output_type": "stream",
     "text": [
      "┌ Info: Epoch 14\n",
      "└ @ ConvGRU /Users/kahingleung/.julia/packages/Flux/sY3yx/src/optimise/train.jl:136\n"
     ]
    },
    {
     "name": "stdout",
     "output_type": "stream",
     "text": [
      "mse_loss(xtest, ytest) = 0.40277427f0\n"
     ]
    },
    {
     "name": "stderr",
     "output_type": "stream",
     "text": [
      "┌ Info: Epoch 15\n",
      "└ @ ConvGRU /Users/kahingleung/.julia/packages/Flux/sY3yx/src/optimise/train.jl:136\n"
     ]
    },
    {
     "name": "stdout",
     "output_type": "stream",
     "text": [
      "mse_loss(xtest, ytest) = 0.40877813f0\n"
     ]
    },
    {
     "name": "stderr",
     "output_type": "stream",
     "text": [
      "┌ Info: Epoch 16\n",
      "└ @ ConvGRU /Users/kahingleung/.julia/packages/Flux/sY3yx/src/optimise/train.jl:136\n",
      "┌ Info: Epoch 17\n",
      "└ @ ConvGRU /Users/kahingleung/.julia/packages/Flux/sY3yx/src/optimise/train.jl:136\n"
     ]
    },
    {
     "name": "stdout",
     "output_type": "stream",
     "text": [
      "mse_loss(xtest, ytest) = 0.41181475f0\n"
     ]
    },
    {
     "name": "stderr",
     "output_type": "stream",
     "text": [
      "┌ Info: Epoch 18\n",
      "└ @ ConvGRU /Users/kahingleung/.julia/packages/Flux/sY3yx/src/optimise/train.jl:136\n"
     ]
    },
    {
     "name": "stdout",
     "output_type": "stream",
     "text": [
      "mse_loss(xtest, ytest) = 0.40843788f0\n",
      "mse_loss(xtest, ytest) = 0.40924266f0\n"
     ]
    },
    {
     "name": "stderr",
     "output_type": "stream",
     "text": [
      "┌ Info: Epoch 19\n",
      "└ @ ConvGRU /Users/kahingleung/.julia/packages/Flux/sY3yx/src/optimise/train.jl:136\n"
     ]
    },
    {
     "name": "stdout",
     "output_type": "stream",
     "text": [
      "mse_loss(xtest, ytest) = 0.41324562f0\n"
     ]
    },
    {
     "name": "stderr",
     "output_type": "stream",
     "text": [
      "┌ Info: Epoch 20\n",
      "└ @ ConvGRU /Users/kahingleung/.julia/packages/Flux/sY3yx/src/optimise/train.jl:136\n"
     ]
    },
    {
     "name": "stdout",
     "output_type": "stream",
     "text": [
      "mse_loss(xtest, ytest) = 0.41226107f0\n"
     ]
    },
    {
     "name": "stderr",
     "output_type": "stream",
     "text": [
      "┌ Info: Epoch 21\n",
      "└ @ ConvGRU /Users/kahingleung/.julia/packages/Flux/sY3yx/src/optimise/train.jl:136\n"
     ]
    },
    {
     "name": "stdout",
     "output_type": "stream",
     "text": [
      "mse_loss(xtest, ytest) = 0.40499637f0\n"
     ]
    },
    {
     "name": "stderr",
     "output_type": "stream",
     "text": [
      "┌ Info: Epoch 22\n",
      "└ @ ConvGRU /Users/kahingleung/.julia/packages/Flux/sY3yx/src/optimise/train.jl:136\n"
     ]
    },
    {
     "name": "stdout",
     "output_type": "stream",
     "text": [
      "mse_loss(xtest, ytest) = 0.40998238f0\n"
     ]
    },
    {
     "name": "stderr",
     "output_type": "stream",
     "text": [
      "┌ Info: Epoch 23\n",
      "└ @ ConvGRU /Users/kahingleung/.julia/packages/Flux/sY3yx/src/optimise/train.jl:136\n"
     ]
    },
    {
     "name": "stdout",
     "output_type": "stream",
     "text": [
      "mse_loss(xtest, ytest) = 0.40865633f0\n"
     ]
    },
    {
     "name": "stderr",
     "output_type": "stream",
     "text": [
      "┌ Info: Epoch 24\n",
      "└ @ ConvGRU /Users/kahingleung/.julia/packages/Flux/sY3yx/src/optimise/train.jl:136\n"
     ]
    },
    {
     "name": "stdout",
     "output_type": "stream",
     "text": [
      "mse_loss(xtest, ytest) = 0.41053408f0\n"
     ]
    },
    {
     "name": "stderr",
     "output_type": "stream",
     "text": [
      "┌ Info: Epoch 25\n",
      "└ @ ConvGRU /Users/kahingleung/.julia/packages/Flux/sY3yx/src/optimise/train.jl:136\n"
     ]
    },
    {
     "name": "stdout",
     "output_type": "stream",
     "text": [
      "mse_loss(xtest, ytest) = 0.407649f0\n"
     ]
    },
    {
     "name": "stderr",
     "output_type": "stream",
     "text": [
      "┌ Info: Epoch 26\n",
      "└ @ ConvGRU /Users/kahingleung/.julia/packages/Flux/sY3yx/src/optimise/train.jl:136\n"
     ]
    },
    {
     "name": "stdout",
     "output_type": "stream",
     "text": [
      "mse_loss(xtest, ytest) = 0.40619636f0\n"
     ]
    },
    {
     "name": "stderr",
     "output_type": "stream",
     "text": [
      "┌ Info: Epoch 27\n",
      "└ @ ConvGRU /Users/kahingleung/.julia/packages/Flux/sY3yx/src/optimise/train.jl:136\n"
     ]
    },
    {
     "name": "stdout",
     "output_type": "stream",
     "text": [
      "mse_loss(xtest, ytest) = 0.40971035f0\n"
     ]
    },
    {
     "name": "stderr",
     "output_type": "stream",
     "text": [
      "┌ Info: Epoch 28\n",
      "└ @ ConvGRU /Users/kahingleung/.julia/packages/Flux/sY3yx/src/optimise/train.jl:136\n"
     ]
    },
    {
     "name": "stdout",
     "output_type": "stream",
     "text": [
      "mse_loss(xtest, ytest) = 0.4087239f0\n"
     ]
    },
    {
     "name": "stderr",
     "output_type": "stream",
     "text": [
      "┌ Info: Epoch 29\n",
      "└ @ ConvGRU /Users/kahingleung/.julia/packages/Flux/sY3yx/src/optimise/train.jl:136\n"
     ]
    },
    {
     "name": "stdout",
     "output_type": "stream",
     "text": [
      "mse_loss(xtest, ytest) = 0.41282836f0\n"
     ]
    },
    {
     "name": "stderr",
     "output_type": "stream",
     "text": [
      "┌ Info: Epoch 30\n",
      "└ @ ConvGRU /Users/kahingleung/.julia/packages/Flux/sY3yx/src/optimise/train.jl:136\n"
     ]
    },
    {
     "name": "stdout",
     "output_type": "stream",
     "text": [
      "(250,)\n",
      "myObjective(df, seqlen, Nh, lr, sym * \"-\" * string(i)) = 0.40371332f0\n",
      "82080.003593813663804626\n",
      "mse_loss(xtest, ytest) = 0.5312256f0\n",
      "mse_loss(xtest, ytest) = 0.41440505f0\n"
     ]
    },
    {
     "name": "stderr",
     "output_type": "stream",
     "text": [
      "┌ Info: Epoch 1\n",
      "└ @ ConvGRU /Users/kahingleung/.julia/packages/Flux/sY3yx/src/optimise/train.jl:136\n",
      "┌ Info: Epoch 2\n",
      "└ @ ConvGRU /Users/kahingleung/.julia/packages/Flux/sY3yx/src/optimise/train.jl:136\n"
     ]
    },
    {
     "name": "stdout",
     "output_type": "stream",
     "text": [
      "mse_loss(xtest, ytest) = 0.45220506f0\n",
      "mse_loss(xtest, ytest) = 0.45457897f0\n"
     ]
    },
    {
     "name": "stderr",
     "output_type": "stream",
     "text": [
      "┌ Info: Epoch 3\n",
      "└ @ ConvGRU /Users/kahingleung/.julia/packages/Flux/sY3yx/src/optimise/train.jl:136\n"
     ]
    },
    {
     "name": "stdout",
     "output_type": "stream",
     "text": [
      "mse_loss(xtest, ytest) = 0.44005105f0\n"
     ]
    },
    {
     "name": "stderr",
     "output_type": "stream",
     "text": [
      "┌ Info: Epoch 4\n",
      "└ @ ConvGRU /Users/kahingleung/.julia/packages/Flux/sY3yx/src/optimise/train.jl:136\n"
     ]
    },
    {
     "name": "stdout",
     "output_type": "stream",
     "text": [
      "mse_loss(xtest, ytest) = 0.43170503f0\n"
     ]
    },
    {
     "name": "stderr",
     "output_type": "stream",
     "text": [
      "┌ Info: Epoch 5\n",
      "└ @ ConvGRU /Users/kahingleung/.julia/packages/Flux/sY3yx/src/optimise/train.jl:136\n"
     ]
    },
    {
     "name": "stdout",
     "output_type": "stream",
     "text": [
      "mse_loss(xtest, ytest) = 0.43477494f0\n"
     ]
    },
    {
     "name": "stderr",
     "output_type": "stream",
     "text": [
      "┌ Info: Epoch 6\n",
      "└ @ ConvGRU /Users/kahingleung/.julia/packages/Flux/sY3yx/src/optimise/train.jl:136\n",
      "┌ Info: Epoch 7\n",
      "└ @ ConvGRU /Users/kahingleung/.julia/packages/Flux/sY3yx/src/optimise/train.jl:136\n"
     ]
    },
    {
     "name": "stdout",
     "output_type": "stream",
     "text": [
      "mse_loss(xtest, ytest) = 0.42606488f0\n",
      "mse_loss(xtest, ytest) = 0.42579484f0\n"
     ]
    },
    {
     "name": "stderr",
     "output_type": "stream",
     "text": [
      "┌ Info: Epoch 8\n",
      "└ @ ConvGRU /Users/kahingleung/.julia/packages/Flux/sY3yx/src/optimise/train.jl:136\n",
      "┌ Info: Epoch 9\n",
      "└ @ ConvGRU /Users/kahingleung/.julia/packages/Flux/sY3yx/src/optimise/train.jl:136\n"
     ]
    },
    {
     "name": "stdout",
     "output_type": "stream",
     "text": [
      "mse_loss(xtest, ytest) = 0.42310727f0\n",
      "mse_loss(xtest, ytest) = 0.42131272f0\n"
     ]
    },
    {
     "name": "stderr",
     "output_type": "stream",
     "text": [
      "┌ Info: Epoch 10\n",
      "└ @ ConvGRU /Users/kahingleung/.julia/packages/Flux/sY3yx/src/optimise/train.jl:136\n",
      "┌ Info: Epoch 11\n",
      "└ @ ConvGRU /Users/kahingleung/.julia/packages/Flux/sY3yx/src/optimise/train.jl:136\n"
     ]
    },
    {
     "name": "stdout",
     "output_type": "stream",
     "text": [
      "mse_loss(xtest, ytest) = 0.41661853f0\n",
      "mse_loss(xtest, ytest) = 0.41753438f0\n"
     ]
    },
    {
     "name": "stderr",
     "output_type": "stream",
     "text": [
      "┌ Info: Epoch 12\n",
      "└ @ ConvGRU /Users/kahingleung/.julia/packages/Flux/sY3yx/src/optimise/train.jl:136\n"
     ]
    },
    {
     "name": "stdout",
     "output_type": "stream",
     "text": [
      "mse_loss(xtest, ytest) = 0.42249104f0\n"
     ]
    },
    {
     "name": "stderr",
     "output_type": "stream",
     "text": [
      "┌ Info: Epoch 13\n",
      "└ @ ConvGRU /Users/kahingleung/.julia/packages/Flux/sY3yx/src/optimise/train.jl:136\n"
     ]
    },
    {
     "name": "stdout",
     "output_type": "stream",
     "text": [
      "mse_loss(xtest, ytest) = 0.42300108f0\n"
     ]
    },
    {
     "name": "stderr",
     "output_type": "stream",
     "text": [
      "┌ Info: Epoch 14\n",
      "└ @ ConvGRU /Users/kahingleung/.julia/packages/Flux/sY3yx/src/optimise/train.jl:136\n"
     ]
    },
    {
     "name": "stdout",
     "output_type": "stream",
     "text": [
      "mse_loss(xtest, ytest) = 0.42068696f0\n"
     ]
    },
    {
     "name": "stderr",
     "output_type": "stream",
     "text": [
      "┌ Info: Epoch 15\n",
      "└ @ ConvGRU /Users/kahingleung/.julia/packages/Flux/sY3yx/src/optimise/train.jl:136\n"
     ]
    },
    {
     "name": "stdout",
     "output_type": "stream",
     "text": [
      "mse_loss(xtest, ytest) = 0.41491628f0\n"
     ]
    },
    {
     "name": "stderr",
     "output_type": "stream",
     "text": [
      "┌ Info: Epoch 16\n",
      "└ @ ConvGRU /Users/kahingleung/.julia/packages/Flux/sY3yx/src/optimise/train.jl:136\n"
     ]
    },
    {
     "name": "stdout",
     "output_type": "stream",
     "text": [
      "mse_loss(xtest, ytest) = 0.41729534f0\n"
     ]
    },
    {
     "name": "stderr",
     "output_type": "stream",
     "text": [
      "┌ Info: Epoch 17\n",
      "└ @ ConvGRU /Users/kahingleung/.julia/packages/Flux/sY3yx/src/optimise/train.jl:136\n",
      "┌ Info: Epoch 18\n",
      "└ @ ConvGRU /Users/kahingleung/.julia/packages/Flux/sY3yx/src/optimise/train.jl:136\n"
     ]
    },
    {
     "name": "stdout",
     "output_type": "stream",
     "text": [
      "mse_loss(xtest, ytest) = 0.4152009f0\n",
      "mse_loss(xtest, ytest) = 0.41310596f0\n"
     ]
    },
    {
     "name": "stderr",
     "output_type": "stream",
     "text": [
      "┌ Info: Epoch 19\n",
      "└ @ ConvGRU /Users/kahingleung/.julia/packages/Flux/sY3yx/src/optimise/train.jl:136\n",
      "┌ Info: Epoch 20\n",
      "└ @ ConvGRU /Users/kahingleung/.julia/packages/Flux/sY3yx/src/optimise/train.jl:136\n"
     ]
    },
    {
     "name": "stdout",
     "output_type": "stream",
     "text": [
      "mse_loss(xtest, ytest) = 0.41173962f0\n",
      "mse_loss(xtest, ytest) = 0.41359496f0\n"
     ]
    },
    {
     "name": "stderr",
     "output_type": "stream",
     "text": [
      "┌ Info: Epoch 21\n",
      "└ @ ConvGRU /Users/kahingleung/.julia/packages/Flux/sY3yx/src/optimise/train.jl:136\n",
      "┌ Info: Epoch 22\n",
      "└ @ ConvGRU /Users/kahingleung/.julia/packages/Flux/sY3yx/src/optimise/train.jl:136\n"
     ]
    },
    {
     "name": "stdout",
     "output_type": "stream",
     "text": [
      "mse_loss(xtest, ytest) = 0.40660357f0\n",
      "mse_loss(xtest, ytest) = 0.40318686f0\n"
     ]
    },
    {
     "name": "stderr",
     "output_type": "stream",
     "text": [
      "┌ Info: Epoch 23\n",
      "└ @ ConvGRU /Users/kahingleung/.julia/packages/Flux/sY3yx/src/optimise/train.jl:136\n",
      "┌ Info: Epoch 24\n",
      "└ @ ConvGRU /Users/kahingleung/.julia/packages/Flux/sY3yx/src/optimise/train.jl:136\n"
     ]
    },
    {
     "name": "stdout",
     "output_type": "stream",
     "text": [
      "mse_loss(xtest, ytest) = 0.40909597f0\n",
      "mse_loss(xtest, ytest) = 0.4069521f0\n"
     ]
    },
    {
     "name": "stderr",
     "output_type": "stream",
     "text": [
      "┌ Info: Epoch 25\n",
      "└ @ ConvGRU /Users/kahingleung/.julia/packages/Flux/sY3yx/src/optimise/train.jl:136\n",
      "┌ Info: Epoch 26\n",
      "└ @ ConvGRU /Users/kahingleung/.julia/packages/Flux/sY3yx/src/optimise/train.jl:136\n"
     ]
    },
    {
     "name": "stdout",
     "output_type": "stream",
     "text": [
      "mse_loss(xtest, ytest) = 0.40922144f0\n",
      "mse_loss(xtest, ytest) = 0.4123666f0\n"
     ]
    },
    {
     "name": "stderr",
     "output_type": "stream",
     "text": [
      "┌ Info: Epoch 27\n",
      "└ @ ConvGRU /Users/kahingleung/.julia/packages/Flux/sY3yx/src/optimise/train.jl:136\n",
      "┌ Info: Epoch 28\n",
      "└ @ ConvGRU /Users/kahingleung/.julia/packages/Flux/sY3yx/src/optimise/train.jl:136\n"
     ]
    },
    {
     "name": "stdout",
     "output_type": "stream",
     "text": [
      "mse_loss(xtest, ytest) = 0.40776896f0\n",
      "mse_loss(xtest, ytest) = 0.4169749f0\n"
     ]
    },
    {
     "name": "stderr",
     "output_type": "stream",
     "text": [
      "┌ Info: Epoch 29\n",
      "└ @ ConvGRU /Users/kahingleung/.julia/packages/Flux/sY3yx/src/optimise/train.jl:136\n"
     ]
    },
    {
     "name": "stdout",
     "output_type": "stream",
     "text": [
      "mse_loss(xtest, ytest) = 0.42501876f0\n"
     ]
    },
    {
     "name": "stderr",
     "output_type": "stream",
     "text": [
      "┌ Info: Epoch 30\n",
      "└ @ ConvGRU /Users/kahingleung/.julia/packages/Flux/sY3yx/src/optimise/train.jl:136\n"
     ]
    },
    {
     "name": "stdout",
     "output_type": "stream",
     "text": [
      "(250,)\n",
      "myObjective(df, seqlen, Nh, lr, sym * \"-\" * string(i)) = 0.396629f0\n",
      "91060.0027825594022071257\n",
      "mse_loss(xtest, ytest) = 0.77146727f0\n"
     ]
    },
    {
     "name": "stderr",
     "output_type": "stream",
     "text": [
      "┌ Info: Epoch 1\n",
      "└ @ ConvGRU /Users/kahingleung/.julia/packages/Flux/sY3yx/src/optimise/train.jl:136\n"
     ]
    },
    {
     "name": "stdout",
     "output_type": "stream",
     "text": [
      "mse_loss(xtest, ytest) = 0.656894f0\n",
      "mse_loss(xtest, ytest) = 0.4157732f0\n"
     ]
    },
    {
     "name": "stderr",
     "output_type": "stream",
     "text": [
      "┌ Info: Epoch 2\n",
      "└ @ ConvGRU /Users/kahingleung/.julia/packages/Flux/sY3yx/src/optimise/train.jl:136\n"
     ]
    },
    {
     "name": "stdout",
     "output_type": "stream",
     "text": [
      "mse_loss(xtest, ytest) = 0.41679272f0\n"
     ]
    },
    {
     "name": "stderr",
     "output_type": "stream",
     "text": [
      "┌ Info: Epoch 3\n",
      "└ @ ConvGRU /Users/kahingleung/.julia/packages/Flux/sY3yx/src/optimise/train.jl:136\n"
     ]
    },
    {
     "name": "stdout",
     "output_type": "stream",
     "text": [
      "mse_loss(xtest, ytest) = 0.4163037f0\n"
     ]
    },
    {
     "name": "stderr",
     "output_type": "stream",
     "text": [
      "┌ Info: Epoch 4\n",
      "└ @ ConvGRU /Users/kahingleung/.julia/packages/Flux/sY3yx/src/optimise/train.jl:136\n"
     ]
    },
    {
     "name": "stdout",
     "output_type": "stream",
     "text": [
      "mse_loss(xtest, ytest) = 0.41687137f0\n"
     ]
    },
    {
     "name": "stderr",
     "output_type": "stream",
     "text": [
      "┌ Info: Epoch 5\n",
      "└ @ ConvGRU /Users/kahingleung/.julia/packages/Flux/sY3yx/src/optimise/train.jl:136\n"
     ]
    },
    {
     "name": "stdout",
     "output_type": "stream",
     "text": [
      "mse_loss(xtest, ytest) = 0.41765422f0\n"
     ]
    },
    {
     "name": "stderr",
     "output_type": "stream",
     "text": [
      "┌ Info: Epoch 6\n",
      "└ @ ConvGRU /Users/kahingleung/.julia/packages/Flux/sY3yx/src/optimise/train.jl:136\n"
     ]
    },
    {
     "name": "stdout",
     "output_type": "stream",
     "text": [
      "mse_loss(xtest, ytest) = 0.41597268f0\n"
     ]
    },
    {
     "name": "stderr",
     "output_type": "stream",
     "text": [
      "┌ Info: Epoch 7\n",
      "└ @ ConvGRU /Users/kahingleung/.julia/packages/Flux/sY3yx/src/optimise/train.jl:136\n"
     ]
    },
    {
     "name": "stdout",
     "output_type": "stream",
     "text": [
      "mse_loss(xtest, ytest) = 0.41900373f0\n"
     ]
    },
    {
     "name": "stderr",
     "output_type": "stream",
     "text": [
      "┌ Info: Epoch 8\n",
      "└ @ ConvGRU /Users/kahingleung/.julia/packages/Flux/sY3yx/src/optimise/train.jl:136\n"
     ]
    },
    {
     "name": "stdout",
     "output_type": "stream",
     "text": [
      "mse_loss(xtest, ytest) = 0.41593352f0\n"
     ]
    },
    {
     "name": "stderr",
     "output_type": "stream",
     "text": [
      "┌ Info: Epoch 9\n",
      "└ @ ConvGRU /Users/kahingleung/.julia/packages/Flux/sY3yx/src/optimise/train.jl:136\n"
     ]
    },
    {
     "name": "stdout",
     "output_type": "stream",
     "text": [
      "mse_loss(xtest, ytest) = 0.41642585f0\n"
     ]
    },
    {
     "name": "stderr",
     "output_type": "stream",
     "text": [
      "┌ Info: Epoch 10\n",
      "└ @ ConvGRU /Users/kahingleung/.julia/packages/Flux/sY3yx/src/optimise/train.jl:136\n"
     ]
    },
    {
     "name": "stdout",
     "output_type": "stream",
     "text": [
      "mse_loss(xtest, ytest) = 0.41802537f0\n"
     ]
    },
    {
     "name": "stderr",
     "output_type": "stream",
     "text": [
      "┌ Info: Epoch 11\n",
      "└ @ ConvGRU /Users/kahingleung/.julia/packages/Flux/sY3yx/src/optimise/train.jl:136\n"
     ]
    },
    {
     "name": "stdout",
     "output_type": "stream",
     "text": [
      "mse_loss(xtest, ytest) = 0.41649088f0\n"
     ]
    },
    {
     "name": "stderr",
     "output_type": "stream",
     "text": [
      "┌ Info: Epoch 12\n",
      "└ @ ConvGRU /Users/kahingleung/.julia/packages/Flux/sY3yx/src/optimise/train.jl:136\n"
     ]
    },
    {
     "name": "stdout",
     "output_type": "stream",
     "text": [
      "mse_loss(xtest, ytest) = 0.41699848f0\n"
     ]
    },
    {
     "name": "stderr",
     "output_type": "stream",
     "text": [
      "┌ Info: Epoch 13\n",
      "└ @ ConvGRU /Users/kahingleung/.julia/packages/Flux/sY3yx/src/optimise/train.jl:136\n"
     ]
    },
    {
     "name": "stdout",
     "output_type": "stream",
     "text": [
      "mse_loss(xtest, ytest) = 0.41590914f0\n"
     ]
    },
    {
     "name": "stderr",
     "output_type": "stream",
     "text": [
      "┌ Info: Epoch 14\n",
      "└ @ ConvGRU /Users/kahingleung/.julia/packages/Flux/sY3yx/src/optimise/train.jl:136\n"
     ]
    },
    {
     "name": "stdout",
     "output_type": "stream",
     "text": [
      "mse_loss(xtest, ytest) = 0.41355428f0\n"
     ]
    },
    {
     "name": "stderr",
     "output_type": "stream",
     "text": [
      "┌ Info: Epoch 15\n",
      "└ @ ConvGRU /Users/kahingleung/.julia/packages/Flux/sY3yx/src/optimise/train.jl:136\n"
     ]
    },
    {
     "name": "stdout",
     "output_type": "stream",
     "text": [
      "mse_loss(xtest, ytest) = 0.41432214f0\n"
     ]
    },
    {
     "name": "stderr",
     "output_type": "stream",
     "text": [
      "┌ Info: Epoch 16\n",
      "└ @ ConvGRU /Users/kahingleung/.julia/packages/Flux/sY3yx/src/optimise/train.jl:136\n"
     ]
    },
    {
     "name": "stdout",
     "output_type": "stream",
     "text": [
      "mse_loss(xtest, ytest) = 0.41220117f0\n"
     ]
    },
    {
     "name": "stderr",
     "output_type": "stream",
     "text": [
      "┌ Info: Epoch 17\n",
      "└ @ ConvGRU /Users/kahingleung/.julia/packages/Flux/sY3yx/src/optimise/train.jl:136\n",
      "┌ Info: Epoch 18\n",
      "└ @ ConvGRU /Users/kahingleung/.julia/packages/Flux/sY3yx/src/optimise/train.jl:136\n"
     ]
    },
    {
     "name": "stdout",
     "output_type": "stream",
     "text": [
      "mse_loss(xtest, ytest) = 0.4127438f0\n",
      "mse_loss(xtest, ytest) = 0.41329756f0\n"
     ]
    },
    {
     "name": "stderr",
     "output_type": "stream",
     "text": [
      "┌ Info: Epoch 19\n",
      "└ @ ConvGRU /Users/kahingleung/.julia/packages/Flux/sY3yx/src/optimise/train.jl:136\n"
     ]
    },
    {
     "name": "stdout",
     "output_type": "stream",
     "text": [
      "mse_loss(xtest, ytest) = 0.41200283f0\n"
     ]
    },
    {
     "name": "stderr",
     "output_type": "stream",
     "text": [
      "┌ Info: Epoch 20\n",
      "└ @ ConvGRU /Users/kahingleung/.julia/packages/Flux/sY3yx/src/optimise/train.jl:136\n"
     ]
    },
    {
     "name": "stdout",
     "output_type": "stream",
     "text": [
      "mse_loss(xtest, ytest) = 0.41155994f0\n"
     ]
    },
    {
     "name": "stderr",
     "output_type": "stream",
     "text": [
      "┌ Info: Epoch 21\n",
      "└ @ ConvGRU /Users/kahingleung/.julia/packages/Flux/sY3yx/src/optimise/train.jl:136\n",
      "┌ Info: Epoch 22\n",
      "└ @ ConvGRU /Users/kahingleung/.julia/packages/Flux/sY3yx/src/optimise/train.jl:136\n"
     ]
    },
    {
     "name": "stdout",
     "output_type": "stream",
     "text": [
      "mse_loss(xtest, ytest) = 0.4123137f0\n"
     ]
    },
    {
     "name": "stderr",
     "output_type": "stream",
     "text": [
      "┌ Info: Epoch 23\n",
      "└ @ ConvGRU /Users/kahingleung/.julia/packages/Flux/sY3yx/src/optimise/train.jl:136\n"
     ]
    },
    {
     "name": "stdout",
     "output_type": "stream",
     "text": [
      "mse_loss(xtest, ytest) = 0.41150865f0\n"
     ]
    },
    {
     "name": "stderr",
     "output_type": "stream",
     "text": [
      "┌ Info: Epoch 24\n",
      "└ @ ConvGRU /Users/kahingleung/.julia/packages/Flux/sY3yx/src/optimise/train.jl:136\n"
     ]
    },
    {
     "name": "stdout",
     "output_type": "stream",
     "text": [
      "mse_loss(xtest, ytest) = 0.41169092f0\n",
      "mse_loss(xtest, ytest) = 0.4104317f0\n"
     ]
    },
    {
     "name": "stderr",
     "output_type": "stream",
     "text": [
      "┌ Info: Epoch 25\n",
      "└ @ ConvGRU /Users/kahingleung/.julia/packages/Flux/sY3yx/src/optimise/train.jl:136\n"
     ]
    },
    {
     "name": "stdout",
     "output_type": "stream",
     "text": [
      "mse_loss(xtest, ytest) = 0.4124851f0\n"
     ]
    },
    {
     "name": "stderr",
     "output_type": "stream",
     "text": [
      "┌ Info: Epoch 26\n",
      "└ @ ConvGRU /Users/kahingleung/.julia/packages/Flux/sY3yx/src/optimise/train.jl:136\n",
      "┌ Info: Epoch 27\n",
      "└ @ ConvGRU /Users/kahingleung/.julia/packages/Flux/sY3yx/src/optimise/train.jl:136\n"
     ]
    },
    {
     "name": "stdout",
     "output_type": "stream",
     "text": [
      "mse_loss(xtest, ytest) = 0.41028845f0\n"
     ]
    },
    {
     "name": "stderr",
     "output_type": "stream",
     "text": [
      "┌ Info: Epoch 28\n",
      "└ @ ConvGRU /Users/kahingleung/.julia/packages/Flux/sY3yx/src/optimise/train.jl:136\n"
     ]
    },
    {
     "name": "stdout",
     "output_type": "stream",
     "text": [
      "mse_loss(xtest, ytest) = 0.40902752f0\n"
     ]
    },
    {
     "name": "stderr",
     "output_type": "stream",
     "text": [
      "┌ Info: Epoch 29\n",
      "└ @ ConvGRU /Users/kahingleung/.julia/packages/Flux/sY3yx/src/optimise/train.jl:136\n"
     ]
    },
    {
     "name": "stdout",
     "output_type": "stream",
     "text": [
      "mse_loss(xtest, ytest) = 0.4078661f0\n"
     ]
    },
    {
     "name": "stderr",
     "output_type": "stream",
     "text": [
      "┌ Info: Epoch 30\n",
      "└ @ ConvGRU /Users/kahingleung/.julia/packages/Flux/sY3yx/src/optimise/train.jl:136\n"
     ]
    },
    {
     "name": "stdout",
     "output_type": "stream",
     "text": [
      "mse_loss(xtest, ytest) = 0.40840042f0\n",
      "(250,)\n",
      "myObjective(df, seqlen, Nh, lr, sym * \"-\" * string(i)) = 0.40797597f0\n",
      "101520.001291549665014884\n",
      "mse_loss(xtest, ytest) = 1.0075864f0\n"
     ]
    },
    {
     "name": "stderr",
     "output_type": "stream",
     "text": [
      "┌ Info: Epoch 1\n",
      "└ @ ConvGRU /Users/kahingleung/.julia/packages/Flux/sY3yx/src/optimise/train.jl:136\n"
     ]
    },
    {
     "name": "stdout",
     "output_type": "stream",
     "text": [
      "mse_loss(xtest, ytest) = 0.9906008f0\n",
      "mse_loss(xtest, ytest) = 0.74545306f0\n"
     ]
    },
    {
     "name": "stderr",
     "output_type": "stream",
     "text": [
      "┌ Info: Epoch 2\n",
      "└ @ ConvGRU /Users/kahingleung/.julia/packages/Flux/sY3yx/src/optimise/train.jl:136\n"
     ]
    },
    {
     "name": "stdout",
     "output_type": "stream",
     "text": [
      "mse_loss(xtest, ytest) = 0.5522318f0\n"
     ]
    },
    {
     "name": "stderr",
     "output_type": "stream",
     "text": [
      "┌ Info: Epoch 3\n",
      "└ @ ConvGRU /Users/kahingleung/.julia/packages/Flux/sY3yx/src/optimise/train.jl:136\n"
     ]
    },
    {
     "name": "stdout",
     "output_type": "stream",
     "text": [
      "mse_loss(xtest, ytest) = 0.43616956f0\n"
     ]
    },
    {
     "name": "stderr",
     "output_type": "stream",
     "text": [
      "┌ Info: Epoch 4\n",
      "└ @ ConvGRU /Users/kahingleung/.julia/packages/Flux/sY3yx/src/optimise/train.jl:136\n"
     ]
    },
    {
     "name": "stdout",
     "output_type": "stream",
     "text": [
      "mse_loss(xtest, ytest) = 0.4124514f0\n"
     ]
    },
    {
     "name": "stderr",
     "output_type": "stream",
     "text": [
      "┌ Info: Epoch 5\n",
      "└ @ ConvGRU /Users/kahingleung/.julia/packages/Flux/sY3yx/src/optimise/train.jl:136\n",
      "┌ Info: Epoch 6\n",
      "└ @ ConvGRU /Users/kahingleung/.julia/packages/Flux/sY3yx/src/optimise/train.jl:136\n"
     ]
    },
    {
     "name": "stdout",
     "output_type": "stream",
     "text": [
      "mse_loss(xtest, ytest) = 0.40903232f0\n",
      "mse_loss(xtest, ytest) = 0.40791538f0\n"
     ]
    },
    {
     "name": "stderr",
     "output_type": "stream",
     "text": [
      "┌ Info: Epoch 7\n",
      "└ @ ConvGRU /Users/kahingleung/.julia/packages/Flux/sY3yx/src/optimise/train.jl:136\n"
     ]
    },
    {
     "name": "stdout",
     "output_type": "stream",
     "text": [
      "mse_loss(xtest, ytest) = 0.40765032f0\n"
     ]
    },
    {
     "name": "stderr",
     "output_type": "stream",
     "text": [
      "┌ Info: Epoch 8\n",
      "└ @ ConvGRU /Users/kahingleung/.julia/packages/Flux/sY3yx/src/optimise/train.jl:136\n"
     ]
    },
    {
     "name": "stdout",
     "output_type": "stream",
     "text": [
      "mse_loss(xtest, ytest) = 0.40833357f0\n"
     ]
    },
    {
     "name": "stderr",
     "output_type": "stream",
     "text": [
      "┌ Info: Epoch 9\n",
      "└ @ ConvGRU /Users/kahingleung/.julia/packages/Flux/sY3yx/src/optimise/train.jl:136\n"
     ]
    },
    {
     "name": "stdout",
     "output_type": "stream",
     "text": [
      "mse_loss(xtest, ytest) = 0.40766504f0\n"
     ]
    },
    {
     "name": "stderr",
     "output_type": "stream",
     "text": [
      "┌ Info: Epoch 10\n",
      "└ @ ConvGRU /Users/kahingleung/.julia/packages/Flux/sY3yx/src/optimise/train.jl:136\n"
     ]
    },
    {
     "name": "stdout",
     "output_type": "stream",
     "text": [
      "mse_loss(xtest, ytest) = 0.40728417f0\n"
     ]
    },
    {
     "name": "stderr",
     "output_type": "stream",
     "text": [
      "┌ Info: Epoch 11\n",
      "└ @ ConvGRU /Users/kahingleung/.julia/packages/Flux/sY3yx/src/optimise/train.jl:136\n"
     ]
    },
    {
     "name": "stdout",
     "output_type": "stream",
     "text": [
      "mse_loss(xtest, ytest) = 0.40749773f0\n"
     ]
    },
    {
     "name": "stderr",
     "output_type": "stream",
     "text": [
      "┌ Info: Epoch 12\n",
      "└ @ ConvGRU /Users/kahingleung/.julia/packages/Flux/sY3yx/src/optimise/train.jl:136\n",
      "┌ Info: Epoch 13\n",
      "└ @ ConvGRU /Users/kahingleung/.julia/packages/Flux/sY3yx/src/optimise/train.jl:136\n"
     ]
    },
    {
     "name": "stdout",
     "output_type": "stream",
     "text": [
      "mse_loss(xtest, ytest) = 0.40707585f0\n",
      "mse_loss(xtest, ytest) = 0.4078711f0\n"
     ]
    },
    {
     "name": "stderr",
     "output_type": "stream",
     "text": [
      "┌ Info: Epoch 14\n",
      "└ @ ConvGRU /Users/kahingleung/.julia/packages/Flux/sY3yx/src/optimise/train.jl:136\n"
     ]
    },
    {
     "name": "stdout",
     "output_type": "stream",
     "text": [
      "mse_loss(xtest, ytest) = 0.40755358f0\n"
     ]
    },
    {
     "name": "stderr",
     "output_type": "stream",
     "text": [
      "┌ Info: Epoch 15\n",
      "└ @ ConvGRU /Users/kahingleung/.julia/packages/Flux/sY3yx/src/optimise/train.jl:136\n"
     ]
    },
    {
     "name": "stdout",
     "output_type": "stream",
     "text": [
      "mse_loss(xtest, ytest) = 0.40739653f0\n"
     ]
    },
    {
     "name": "stderr",
     "output_type": "stream",
     "text": [
      "┌ Info: Epoch 16\n",
      "└ @ ConvGRU /Users/kahingleung/.julia/packages/Flux/sY3yx/src/optimise/train.jl:136\n"
     ]
    },
    {
     "name": "stdout",
     "output_type": "stream",
     "text": [
      "mse_loss(xtest, ytest) = 0.40739328f0\n"
     ]
    },
    {
     "name": "stderr",
     "output_type": "stream",
     "text": [
      "┌ Info: Epoch 17\n",
      "└ @ ConvGRU /Users/kahingleung/.julia/packages/Flux/sY3yx/src/optimise/train.jl:136\n"
     ]
    },
    {
     "name": "stdout",
     "output_type": "stream",
     "text": [
      "mse_loss(xtest, ytest) = 0.4072621f0\n"
     ]
    },
    {
     "name": "stderr",
     "output_type": "stream",
     "text": [
      "┌ Info: Epoch 18\n",
      "└ @ ConvGRU /Users/kahingleung/.julia/packages/Flux/sY3yx/src/optimise/train.jl:136\n"
     ]
    },
    {
     "name": "stdout",
     "output_type": "stream",
     "text": [
      "mse_loss(xtest, ytest) = 0.40842345f0\n"
     ]
    },
    {
     "name": "stderr",
     "output_type": "stream",
     "text": [
      "┌ Info: Epoch 19\n",
      "└ @ ConvGRU /Users/kahingleung/.julia/packages/Flux/sY3yx/src/optimise/train.jl:136\n"
     ]
    },
    {
     "name": "stdout",
     "output_type": "stream",
     "text": [
      "mse_loss(xtest, ytest) = 0.4074424f0\n"
     ]
    },
    {
     "name": "stderr",
     "output_type": "stream",
     "text": [
      "┌ Info: Epoch 20\n",
      "└ @ ConvGRU /Users/kahingleung/.julia/packages/Flux/sY3yx/src/optimise/train.jl:136\n"
     ]
    },
    {
     "name": "stdout",
     "output_type": "stream",
     "text": [
      "mse_loss(xtest, ytest) = 0.40774128f0\n"
     ]
    },
    {
     "name": "stderr",
     "output_type": "stream",
     "text": [
      "┌ Info: Epoch 21\n",
      "└ @ ConvGRU /Users/kahingleung/.julia/packages/Flux/sY3yx/src/optimise/train.jl:136\n"
     ]
    },
    {
     "name": "stdout",
     "output_type": "stream",
     "text": [
      "mse_loss(xtest, ytest) = 0.40787297f0\n"
     ]
    },
    {
     "name": "stderr",
     "output_type": "stream",
     "text": [
      "┌ Info: Epoch 22\n",
      "└ @ ConvGRU /Users/kahingleung/.julia/packages/Flux/sY3yx/src/optimise/train.jl:136\n"
     ]
    },
    {
     "name": "stdout",
     "output_type": "stream",
     "text": [
      "mse_loss(xtest, ytest) = 0.40865713f0\n"
     ]
    },
    {
     "name": "stderr",
     "output_type": "stream",
     "text": [
      "┌ Info: Epoch 23\n",
      "└ @ ConvGRU /Users/kahingleung/.julia/packages/Flux/sY3yx/src/optimise/train.jl:136\n"
     ]
    },
    {
     "name": "stdout",
     "output_type": "stream",
     "text": [
      "mse_loss(xtest, ytest) = 0.40924972f0\n"
     ]
    },
    {
     "name": "stderr",
     "output_type": "stream",
     "text": [
      "┌ Info: Epoch 24\n",
      "└ @ ConvGRU /Users/kahingleung/.julia/packages/Flux/sY3yx/src/optimise/train.jl:136\n",
      "┌ Info: Epoch 25\n",
      "└ @ ConvGRU /Users/kahingleung/.julia/packages/Flux/sY3yx/src/optimise/train.jl:136\n"
     ]
    },
    {
     "name": "stdout",
     "output_type": "stream",
     "text": [
      "mse_loss(xtest, ytest) = 0.40893978f0\n",
      "mse_loss(xtest, ytest) = 0.41057825f0\n"
     ]
    },
    {
     "name": "stderr",
     "output_type": "stream",
     "text": [
      "┌ Info: Epoch 26\n",
      "└ @ ConvGRU /Users/kahingleung/.julia/packages/Flux/sY3yx/src/optimise/train.jl:136\n"
     ]
    },
    {
     "name": "stdout",
     "output_type": "stream",
     "text": [
      "mse_loss(xtest, ytest) = 0.40925235f0\n"
     ]
    },
    {
     "name": "stderr",
     "output_type": "stream",
     "text": [
      "┌ Info: Epoch 27\n",
      "└ @ ConvGRU /Users/kahingleung/.julia/packages/Flux/sY3yx/src/optimise/train.jl:136\n"
     ]
    },
    {
     "name": "stdout",
     "output_type": "stream",
     "text": [
      "mse_loss(xtest, ytest) = 0.4097099f0\n"
     ]
    },
    {
     "name": "stderr",
     "output_type": "stream",
     "text": [
      "┌ Info: Epoch 28\n",
      "└ @ ConvGRU /Users/kahingleung/.julia/packages/Flux/sY3yx/src/optimise/train.jl:136\n"
     ]
    },
    {
     "name": "stdout",
     "output_type": "stream",
     "text": [
      "mse_loss(xtest, ytest) = 0.40970886f0\n"
     ]
    },
    {
     "name": "stderr",
     "output_type": "stream",
     "text": [
      "┌ Info: Epoch 29\n",
      "└ @ ConvGRU /Users/kahingleung/.julia/packages/Flux/sY3yx/src/optimise/train.jl:136\n"
     ]
    },
    {
     "name": "stdout",
     "output_type": "stream",
     "text": [
      "mse_loss(xtest, ytest) = 0.410215f0\n"
     ]
    },
    {
     "name": "stderr",
     "output_type": "stream",
     "text": [
      "┌ Info: Epoch 30\n",
      "└ @ ConvGRU /Users/kahingleung/.julia/packages/Flux/sY3yx/src/optimise/train.jl:136\n"
     ]
    },
    {
     "name": "stdout",
     "output_type": "stream",
     "text": [
      "(250,)\n",
      "myObjective(df, seqlen, Nh, lr, sym * \"-\" * string(i)) = 0.4062295f0\n",
      "113020.0021544346900318843\n",
      "mse_loss(xtest, ytest) = 0.93601424f0\n"
     ]
    },
    {
     "name": "stderr",
     "output_type": "stream",
     "text": [
      "┌ Info: Epoch 1\n",
      "└ @ ConvGRU /Users/kahingleung/.julia/packages/Flux/sY3yx/src/optimise/train.jl:136\n"
     ]
    },
    {
     "name": "stdout",
     "output_type": "stream",
     "text": [
      "mse_loss(xtest, ytest) = 0.91427773f0\n",
      "mse_loss(xtest, ytest) = 0.5803293f0\n"
     ]
    },
    {
     "name": "stderr",
     "output_type": "stream",
     "text": [
      "┌ Info: Epoch 2\n",
      "└ @ ConvGRU /Users/kahingleung/.julia/packages/Flux/sY3yx/src/optimise/train.jl:136\n"
     ]
    },
    {
     "name": "stdout",
     "output_type": "stream",
     "text": [
      "mse_loss(xtest, ytest) = 0.42547524f0\n"
     ]
    },
    {
     "name": "stderr",
     "output_type": "stream",
     "text": [
      "┌ Info: Epoch 3\n",
      "└ @ ConvGRU /Users/kahingleung/.julia/packages/Flux/sY3yx/src/optimise/train.jl:136\n"
     ]
    },
    {
     "name": "stdout",
     "output_type": "stream",
     "text": [
      "mse_loss(xtest, ytest) = 0.41303557f0\n"
     ]
    },
    {
     "name": "stderr",
     "output_type": "stream",
     "text": [
      "┌ Info: Epoch 4\n",
      "└ @ ConvGRU /Users/kahingleung/.julia/packages/Flux/sY3yx/src/optimise/train.jl:136\n"
     ]
    },
    {
     "name": "stdout",
     "output_type": "stream",
     "text": [
      "mse_loss(xtest, ytest) = 0.4126529f0\n"
     ]
    },
    {
     "name": "stderr",
     "output_type": "stream",
     "text": [
      "┌ Info: Epoch 5\n",
      "└ @ ConvGRU /Users/kahingleung/.julia/packages/Flux/sY3yx/src/optimise/train.jl:136\n"
     ]
    },
    {
     "name": "stdout",
     "output_type": "stream",
     "text": [
      "mse_loss(xtest, ytest) = 0.41362652f0\n"
     ]
    },
    {
     "name": "stderr",
     "output_type": "stream",
     "text": [
      "┌ Info: Epoch 6\n",
      "└ @ ConvGRU /Users/kahingleung/.julia/packages/Flux/sY3yx/src/optimise/train.jl:136\n"
     ]
    },
    {
     "name": "stdout",
     "output_type": "stream",
     "text": [
      "mse_loss(xtest, ytest) = 0.41178176f0\n"
     ]
    },
    {
     "name": "stderr",
     "output_type": "stream",
     "text": [
      "┌ Info: Epoch 7\n",
      "└ @ ConvGRU /Users/kahingleung/.julia/packages/Flux/sY3yx/src/optimise/train.jl:136\n"
     ]
    },
    {
     "name": "stdout",
     "output_type": "stream",
     "text": [
      "mse_loss(xtest, ytest) = 0.41291553f0\n"
     ]
    },
    {
     "name": "stderr",
     "output_type": "stream",
     "text": [
      "┌ Info: Epoch 8\n",
      "└ @ ConvGRU /Users/kahingleung/.julia/packages/Flux/sY3yx/src/optimise/train.jl:136\n"
     ]
    },
    {
     "name": "stdout",
     "output_type": "stream",
     "text": [
      "mse_loss(xtest, ytest) = 0.4118556f0\n"
     ]
    },
    {
     "name": "stderr",
     "output_type": "stream",
     "text": [
      "┌ Info: Epoch 9\n",
      "└ @ ConvGRU /Users/kahingleung/.julia/packages/Flux/sY3yx/src/optimise/train.jl:136\n"
     ]
    },
    {
     "name": "stdout",
     "output_type": "stream",
     "text": [
      "mse_loss(xtest, ytest) = 0.4114269f0\n"
     ]
    },
    {
     "name": "stderr",
     "output_type": "stream",
     "text": [
      "┌ Info: Epoch 10\n",
      "└ @ ConvGRU /Users/kahingleung/.julia/packages/Flux/sY3yx/src/optimise/train.jl:136\n",
      "┌ Info: Epoch 11\n",
      "└ @ ConvGRU /Users/kahingleung/.julia/packages/Flux/sY3yx/src/optimise/train.jl:136\n"
     ]
    },
    {
     "name": "stdout",
     "output_type": "stream",
     "text": [
      "mse_loss(xtest, ytest) = 0.41350138f0\n",
      "mse_loss(xtest, ytest) = 0.41229352f0\n"
     ]
    },
    {
     "name": "stderr",
     "output_type": "stream",
     "text": [
      "┌ Info: Epoch 12\n",
      "└ @ ConvGRU /Users/kahingleung/.julia/packages/Flux/sY3yx/src/optimise/train.jl:136\n"
     ]
    },
    {
     "name": "stdout",
     "output_type": "stream",
     "text": [
      "mse_loss(xtest, ytest) = 0.4113599f0\n"
     ]
    },
    {
     "name": "stderr",
     "output_type": "stream",
     "text": [
      "┌ Info: Epoch 13\n",
      "└ @ ConvGRU /Users/kahingleung/.julia/packages/Flux/sY3yx/src/optimise/train.jl:136\n"
     ]
    },
    {
     "name": "stdout",
     "output_type": "stream",
     "text": [
      "mse_loss(xtest, ytest) = 0.4112482f0\n"
     ]
    },
    {
     "name": "stderr",
     "output_type": "stream",
     "text": [
      "┌ Info: Epoch 14\n",
      "└ @ ConvGRU /Users/kahingleung/.julia/packages/Flux/sY3yx/src/optimise/train.jl:136\n"
     ]
    },
    {
     "name": "stdout",
     "output_type": "stream",
     "text": [
      "mse_loss(xtest, ytest) = 0.4119044f0\n"
     ]
    },
    {
     "name": "stderr",
     "output_type": "stream",
     "text": [
      "┌ Info: Epoch 15\n",
      "└ @ ConvGRU /Users/kahingleung/.julia/packages/Flux/sY3yx/src/optimise/train.jl:136\n"
     ]
    },
    {
     "name": "stdout",
     "output_type": "stream",
     "text": [
      "mse_loss(xtest, ytest) = 0.41141963f0\n"
     ]
    },
    {
     "name": "stderr",
     "output_type": "stream",
     "text": [
      "┌ Info: Epoch 16\n",
      "└ @ ConvGRU /Users/kahingleung/.julia/packages/Flux/sY3yx/src/optimise/train.jl:136\n",
      "┌ Info: Epoch 17\n",
      "└ @ ConvGRU /Users/kahingleung/.julia/packages/Flux/sY3yx/src/optimise/train.jl:136\n"
     ]
    },
    {
     "name": "stdout",
     "output_type": "stream",
     "text": [
      "mse_loss(xtest, ytest) = 0.41068238f0\n",
      "mse_loss(xtest, ytest) = 0.4117363f0\n"
     ]
    },
    {
     "name": "stderr",
     "output_type": "stream",
     "text": [
      "┌ Info: Epoch 18\n",
      "└ @ ConvGRU /Users/kahingleung/.julia/packages/Flux/sY3yx/src/optimise/train.jl:136\n"
     ]
    },
    {
     "name": "stdout",
     "output_type": "stream",
     "text": [
      "mse_loss(xtest, ytest) = 0.41167584f0\n"
     ]
    },
    {
     "name": "stderr",
     "output_type": "stream",
     "text": [
      "┌ Info: Epoch 19\n",
      "└ @ ConvGRU /Users/kahingleung/.julia/packages/Flux/sY3yx/src/optimise/train.jl:136\n"
     ]
    },
    {
     "name": "stdout",
     "output_type": "stream",
     "text": [
      "mse_loss(xtest, ytest) = 0.41184914f0\n"
     ]
    },
    {
     "name": "stderr",
     "output_type": "stream",
     "text": [
      "┌ Info: Epoch 20\n",
      "└ @ ConvGRU /Users/kahingleung/.julia/packages/Flux/sY3yx/src/optimise/train.jl:136\n"
     ]
    },
    {
     "name": "stdout",
     "output_type": "stream",
     "text": [
      "mse_loss(xtest, ytest) = 0.41129905f0\n"
     ]
    },
    {
     "name": "stderr",
     "output_type": "stream",
     "text": [
      "┌ Info: Epoch 21\n",
      "└ @ ConvGRU /Users/kahingleung/.julia/packages/Flux/sY3yx/src/optimise/train.jl:136\n",
      "┌ Info: Epoch 22\n",
      "└ @ ConvGRU /Users/kahingleung/.julia/packages/Flux/sY3yx/src/optimise/train.jl:136\n"
     ]
    },
    {
     "name": "stdout",
     "output_type": "stream",
     "text": [
      "mse_loss(xtest, ytest) = 0.41160446f0\n"
     ]
    },
    {
     "name": "stderr",
     "output_type": "stream",
     "text": [
      "┌ Info: Epoch 23\n",
      "└ @ ConvGRU /Users/kahingleung/.julia/packages/Flux/sY3yx/src/optimise/train.jl:136\n"
     ]
    },
    {
     "name": "stdout",
     "output_type": "stream",
     "text": [
      "mse_loss(xtest, ytest) = 0.4105998f0\n",
      "mse_loss(xtest, ytest) = 0.41059908f0\n"
     ]
    },
    {
     "name": "stderr",
     "output_type": "stream",
     "text": [
      "┌ Info: Epoch 24\n",
      "└ @ ConvGRU /Users/kahingleung/.julia/packages/Flux/sY3yx/src/optimise/train.jl:136\n"
     ]
    },
    {
     "name": "stdout",
     "output_type": "stream",
     "text": [
      "mse_loss(xtest, ytest) = 0.4097674f0\n"
     ]
    },
    {
     "name": "stderr",
     "output_type": "stream",
     "text": [
      "┌ Info: Epoch 25\n",
      "└ @ ConvGRU /Users/kahingleung/.julia/packages/Flux/sY3yx/src/optimise/train.jl:136\n"
     ]
    },
    {
     "name": "stdout",
     "output_type": "stream",
     "text": [
      "mse_loss(xtest, ytest) = 0.41060203f0\n"
     ]
    },
    {
     "name": "stderr",
     "output_type": "stream",
     "text": [
      "┌ Info: Epoch 26\n",
      "└ @ ConvGRU /Users/kahingleung/.julia/packages/Flux/sY3yx/src/optimise/train.jl:136\n"
     ]
    },
    {
     "name": "stdout",
     "output_type": "stream",
     "text": [
      "mse_loss(xtest, ytest) = 0.4110639f0\n"
     ]
    },
    {
     "name": "stderr",
     "output_type": "stream",
     "text": [
      "┌ Info: Epoch 27\n",
      "└ @ ConvGRU /Users/kahingleung/.julia/packages/Flux/sY3yx/src/optimise/train.jl:136\n"
     ]
    },
    {
     "name": "stdout",
     "output_type": "stream",
     "text": [
      "mse_loss(xtest, ytest) = 0.41098416f0\n"
     ]
    },
    {
     "name": "stderr",
     "output_type": "stream",
     "text": [
      "┌ Info: Epoch 28\n",
      "└ @ ConvGRU /Users/kahingleung/.julia/packages/Flux/sY3yx/src/optimise/train.jl:136\n"
     ]
    },
    {
     "name": "stdout",
     "output_type": "stream",
     "text": [
      "mse_loss(xtest, ytest) = 0.41189593f0\n"
     ]
    },
    {
     "name": "stderr",
     "output_type": "stream",
     "text": [
      "┌ Info: Epoch 29\n",
      "└ @ ConvGRU /Users/kahingleung/.julia/packages/Flux/sY3yx/src/optimise/train.jl:136\n"
     ]
    },
    {
     "name": "stdout",
     "output_type": "stream",
     "text": [
      "mse_loss(xtest, ytest) = 0.4114358f0\n"
     ]
    },
    {
     "name": "stderr",
     "output_type": "stream",
     "text": [
      "┌ Info: Epoch 30\n",
      "└ @ ConvGRU /Users/kahingleung/.julia/packages/Flux/sY3yx/src/optimise/train.jl:136\n"
     ]
    },
    {
     "name": "stdout",
     "output_type": "stream",
     "text": [
      "(250,)\n",
      "myObjective(df, seqlen, Nh, lr, sym * \"-\" * string(i)) = 0.41044143f0\n",
      "121080.0016681005372000592\n",
      "mse_loss(xtest, ytest) = 0.4245319f0\n",
      "mse_loss(xtest, ytest) = 0.40747428f0\n"
     ]
    },
    {
     "name": "stderr",
     "output_type": "stream",
     "text": [
      "┌ Info: Epoch 1\n",
      "└ @ ConvGRU /Users/kahingleung/.julia/packages/Flux/sY3yx/src/optimise/train.jl:136\n"
     ]
    },
    {
     "name": "stdout",
     "output_type": "stream",
     "text": [
      "mse_loss(xtest, ytest) = 0.4084258f0\n"
     ]
    },
    {
     "name": "stderr",
     "output_type": "stream",
     "text": [
      "┌ Info: Epoch 2\n",
      "└ @ ConvGRU /Users/kahingleung/.julia/packages/Flux/sY3yx/src/optimise/train.jl:136\n"
     ]
    },
    {
     "name": "stdout",
     "output_type": "stream",
     "text": [
      "mse_loss(xtest, ytest) = 0.40746075f0\n"
     ]
    },
    {
     "name": "stderr",
     "output_type": "stream",
     "text": [
      "┌ Info: Epoch 3\n",
      "└ @ ConvGRU /Users/kahingleung/.julia/packages/Flux/sY3yx/src/optimise/train.jl:136\n"
     ]
    },
    {
     "name": "stdout",
     "output_type": "stream",
     "text": [
      "mse_loss(xtest, ytest) = 0.40689477f0\n"
     ]
    },
    {
     "name": "stderr",
     "output_type": "stream",
     "text": [
      "┌ Info: Epoch 4\n",
      "└ @ ConvGRU /Users/kahingleung/.julia/packages/Flux/sY3yx/src/optimise/train.jl:136\n"
     ]
    },
    {
     "name": "stdout",
     "output_type": "stream",
     "text": [
      "mse_loss(xtest, ytest) = 0.40531358f0\n"
     ]
    },
    {
     "name": "stderr",
     "output_type": "stream",
     "text": [
      "┌ Info: Epoch 5\n",
      "└ @ ConvGRU /Users/kahingleung/.julia/packages/Flux/sY3yx/src/optimise/train.jl:136\n"
     ]
    },
    {
     "name": "stdout",
     "output_type": "stream",
     "text": [
      "mse_loss(xtest, ytest) = 0.40611935f0\n"
     ]
    },
    {
     "name": "stderr",
     "output_type": "stream",
     "text": [
      "┌ Info: Epoch 6\n",
      "└ @ ConvGRU /Users/kahingleung/.julia/packages/Flux/sY3yx/src/optimise/train.jl:136\n"
     ]
    },
    {
     "name": "stdout",
     "output_type": "stream",
     "text": [
      "mse_loss(xtest, ytest) = 0.40518868f0\n"
     ]
    },
    {
     "name": "stderr",
     "output_type": "stream",
     "text": [
      "┌ Info: Epoch 7\n",
      "└ @ ConvGRU /Users/kahingleung/.julia/packages/Flux/sY3yx/src/optimise/train.jl:136\n"
     ]
    },
    {
     "name": "stdout",
     "output_type": "stream",
     "text": [
      "mse_loss(xtest, ytest) = 0.40524143f0\n"
     ]
    },
    {
     "name": "stderr",
     "output_type": "stream",
     "text": [
      "┌ Info: Epoch 8\n",
      "└ @ ConvGRU /Users/kahingleung/.julia/packages/Flux/sY3yx/src/optimise/train.jl:136\n",
      "┌ Info: Epoch 9\n",
      "└ @ ConvGRU /Users/kahingleung/.julia/packages/Flux/sY3yx/src/optimise/train.jl:136\n"
     ]
    },
    {
     "name": "stdout",
     "output_type": "stream",
     "text": [
      "mse_loss(xtest, ytest) = 0.40572137f0\n",
      "mse_loss(xtest, ytest) = 0.4042186f0\n"
     ]
    },
    {
     "name": "stderr",
     "output_type": "stream",
     "text": [
      "┌ Info: Epoch 10\n",
      "└ @ ConvGRU /Users/kahingleung/.julia/packages/Flux/sY3yx/src/optimise/train.jl:136\n"
     ]
    },
    {
     "name": "stdout",
     "output_type": "stream",
     "text": [
      "mse_loss(xtest, ytest) = 0.40553033f0\n"
     ]
    },
    {
     "name": "stderr",
     "output_type": "stream",
     "text": [
      "┌ Info: Epoch 11\n",
      "└ @ ConvGRU /Users/kahingleung/.julia/packages/Flux/sY3yx/src/optimise/train.jl:136\n",
      "┌ Info: Epoch 12\n",
      "└ @ ConvGRU /Users/kahingleung/.julia/packages/Flux/sY3yx/src/optimise/train.jl:136\n"
     ]
    },
    {
     "name": "stdout",
     "output_type": "stream",
     "text": [
      "mse_loss(xtest, ytest) = 0.40556026f0\n",
      "mse_loss(xtest, ytest) = 0.40604758f0\n"
     ]
    },
    {
     "name": "stderr",
     "output_type": "stream",
     "text": [
      "┌ Info: Epoch 13\n",
      "└ @ ConvGRU /Users/kahingleung/.julia/packages/Flux/sY3yx/src/optimise/train.jl:136\n"
     ]
    },
    {
     "name": "stdout",
     "output_type": "stream",
     "text": [
      "mse_loss(xtest, ytest) = 0.40545467f0\n"
     ]
    },
    {
     "name": "stderr",
     "output_type": "stream",
     "text": [
      "┌ Info: Epoch 14\n",
      "└ @ ConvGRU /Users/kahingleung/.julia/packages/Flux/sY3yx/src/optimise/train.jl:136\n",
      "┌ Info: Epoch 15\n",
      "└ @ ConvGRU /Users/kahingleung/.julia/packages/Flux/sY3yx/src/optimise/train.jl:136\n"
     ]
    },
    {
     "name": "stdout",
     "output_type": "stream",
     "text": [
      "mse_loss(xtest, ytest) = 0.40584037f0\n"
     ]
    },
    {
     "name": "stderr",
     "output_type": "stream",
     "text": [
      "┌ Info: Epoch 16\n",
      "└ @ ConvGRU /Users/kahingleung/.julia/packages/Flux/sY3yx/src/optimise/train.jl:136\n"
     ]
    },
    {
     "name": "stdout",
     "output_type": "stream",
     "text": [
      "mse_loss(xtest, ytest) = 0.4061303f0\n",
      "mse_loss(xtest, ytest) = 0.40524936f0\n"
     ]
    },
    {
     "name": "stderr",
     "output_type": "stream",
     "text": [
      "┌ Info: Epoch 17\n",
      "└ @ ConvGRU /Users/kahingleung/.julia/packages/Flux/sY3yx/src/optimise/train.jl:136\n"
     ]
    },
    {
     "name": "stdout",
     "output_type": "stream",
     "text": [
      "mse_loss(xtest, ytest) = 0.40506288f0\n"
     ]
    },
    {
     "name": "stderr",
     "output_type": "stream",
     "text": [
      "┌ Info: Epoch 18\n",
      "└ @ ConvGRU /Users/kahingleung/.julia/packages/Flux/sY3yx/src/optimise/train.jl:136\n"
     ]
    },
    {
     "name": "stdout",
     "output_type": "stream",
     "text": [
      "mse_loss(xtest, ytest) = 0.40615135f0\n"
     ]
    },
    {
     "name": "stderr",
     "output_type": "stream",
     "text": [
      "┌ Info: Epoch 19\n",
      "└ @ ConvGRU /Users/kahingleung/.julia/packages/Flux/sY3yx/src/optimise/train.jl:136\n"
     ]
    },
    {
     "name": "stdout",
     "output_type": "stream",
     "text": [
      "mse_loss(xtest, ytest) = 0.40683687f0\n"
     ]
    },
    {
     "name": "stderr",
     "output_type": "stream",
     "text": [
      "┌ Info: Epoch 20\n",
      "└ @ ConvGRU /Users/kahingleung/.julia/packages/Flux/sY3yx/src/optimise/train.jl:136\n",
      "┌ Info: Epoch 21\n",
      "└ @ ConvGRU /Users/kahingleung/.julia/packages/Flux/sY3yx/src/optimise/train.jl:136\n"
     ]
    },
    {
     "name": "stdout",
     "output_type": "stream",
     "text": [
      "mse_loss(xtest, ytest) = 0.40665376f0\n",
      "mse_loss(xtest, ytest) = 0.40668708f0\n"
     ]
    },
    {
     "name": "stderr",
     "output_type": "stream",
     "text": [
      "┌ Info: Epoch 22\n",
      "└ @ ConvGRU /Users/kahingleung/.julia/packages/Flux/sY3yx/src/optimise/train.jl:136\n"
     ]
    },
    {
     "name": "stdout",
     "output_type": "stream",
     "text": [
      "mse_loss(xtest, ytest) = 0.4089105f0\n"
     ]
    },
    {
     "name": "stderr",
     "output_type": "stream",
     "text": [
      "┌ Info: Epoch 23\n",
      "└ @ ConvGRU /Users/kahingleung/.julia/packages/Flux/sY3yx/src/optimise/train.jl:136\n"
     ]
    },
    {
     "name": "stdout",
     "output_type": "stream",
     "text": [
      "mse_loss(xtest, ytest) = 0.4064604f0\n"
     ]
    },
    {
     "name": "stderr",
     "output_type": "stream",
     "text": [
      "┌ Info: Epoch 24\n",
      "└ @ ConvGRU /Users/kahingleung/.julia/packages/Flux/sY3yx/src/optimise/train.jl:136\n"
     ]
    },
    {
     "name": "stdout",
     "output_type": "stream",
     "text": [
      "mse_loss(xtest, ytest) = 0.40811908f0\n"
     ]
    },
    {
     "name": "stderr",
     "output_type": "stream",
     "text": [
      "┌ Info: Epoch 25\n",
      "└ @ ConvGRU /Users/kahingleung/.julia/packages/Flux/sY3yx/src/optimise/train.jl:136\n"
     ]
    },
    {
     "name": "stdout",
     "output_type": "stream",
     "text": [
      "mse_loss(xtest, ytest) = 0.40737203f0\n"
     ]
    },
    {
     "name": "stderr",
     "output_type": "stream",
     "text": [
      "┌ Info: Epoch 26\n",
      "└ @ ConvGRU /Users/kahingleung/.julia/packages/Flux/sY3yx/src/optimise/train.jl:136\n"
     ]
    },
    {
     "name": "stdout",
     "output_type": "stream",
     "text": [
      "mse_loss(xtest, ytest) = 0.40862268f0\n"
     ]
    },
    {
     "name": "stderr",
     "output_type": "stream",
     "text": [
      "┌ Info: Epoch 27\n",
      "└ @ ConvGRU /Users/kahingleung/.julia/packages/Flux/sY3yx/src/optimise/train.jl:136\n"
     ]
    },
    {
     "name": "stdout",
     "output_type": "stream",
     "text": [
      "mse_loss(xtest, ytest) = 0.40957916f0\n"
     ]
    },
    {
     "name": "stderr",
     "output_type": "stream",
     "text": [
      "┌ Info: Epoch 28\n",
      "└ @ ConvGRU /Users/kahingleung/.julia/packages/Flux/sY3yx/src/optimise/train.jl:136\n"
     ]
    },
    {
     "name": "stdout",
     "output_type": "stream",
     "text": [
      "mse_loss(xtest, ytest) = 0.40926382f0\n"
     ]
    },
    {
     "name": "stderr",
     "output_type": "stream",
     "text": [
      "┌ Info: Epoch 29\n",
      "└ @ ConvGRU /Users/kahingleung/.julia/packages/Flux/sY3yx/src/optimise/train.jl:136\n"
     ]
    },
    {
     "name": "stdout",
     "output_type": "stream",
     "text": [
      "mse_loss(xtest, ytest) = 0.4074646f0\n"
     ]
    },
    {
     "name": "stderr",
     "output_type": "stream",
     "text": [
      "┌ Info: Epoch 30\n",
      "└ @ ConvGRU /Users/kahingleung/.julia/packages/Flux/sY3yx/src/optimise/train.jl:136\n"
     ]
    },
    {
     "name": "stdout",
     "output_type": "stream",
     "text": [
      "(250,)\n",
      "myObjective(df, seqlen, Nh, lr, sym * \"-\" * string(i)) = 0.4061322f0\n",
      "131080.0046415888336127815\n",
      "mse_loss(xtest, ytest) = 0.5802482f0\n"
     ]
    },
    {
     "name": "stderr",
     "output_type": "stream",
     "text": [
      "┌ Info: Epoch 1\n",
      "└ @ ConvGRU /Users/kahingleung/.julia/packages/Flux/sY3yx/src/optimise/train.jl:136\n"
     ]
    },
    {
     "name": "stdout",
     "output_type": "stream",
     "text": [
      "mse_loss(xtest, ytest) = 0.40623683f0\n",
      "mse_loss(xtest, ytest) = 0.44866145f0\n"
     ]
    },
    {
     "name": "stderr",
     "output_type": "stream",
     "text": [
      "┌ Info: Epoch 2\n",
      "└ @ ConvGRU /Users/kahingleung/.julia/packages/Flux/sY3yx/src/optimise/train.jl:136\n"
     ]
    },
    {
     "name": "stdout",
     "output_type": "stream",
     "text": [
      "mse_loss(xtest, ytest) = 0.44145066f0\n"
     ]
    },
    {
     "name": "stderr",
     "output_type": "stream",
     "text": [
      "┌ Info: Epoch 3\n",
      "└ @ ConvGRU /Users/kahingleung/.julia/packages/Flux/sY3yx/src/optimise/train.jl:136\n"
     ]
    },
    {
     "name": "stdout",
     "output_type": "stream",
     "text": [
      "mse_loss(xtest, ytest) = 0.43283957f0\n"
     ]
    },
    {
     "name": "stderr",
     "output_type": "stream",
     "text": [
      "┌ Info: Epoch 4\n",
      "└ @ ConvGRU /Users/kahingleung/.julia/packages/Flux/sY3yx/src/optimise/train.jl:136\n"
     ]
    },
    {
     "name": "stdout",
     "output_type": "stream",
     "text": [
      "mse_loss(xtest, ytest) = 0.4333993f0\n"
     ]
    },
    {
     "name": "stderr",
     "output_type": "stream",
     "text": [
      "┌ Info: Epoch 5\n",
      "└ @ ConvGRU /Users/kahingleung/.julia/packages/Flux/sY3yx/src/optimise/train.jl:136\n"
     ]
    },
    {
     "name": "stdout",
     "output_type": "stream",
     "text": [
      "mse_loss(xtest, ytest) = 0.42611775f0\n"
     ]
    },
    {
     "name": "stderr",
     "output_type": "stream",
     "text": [
      "┌ Info: Epoch 6\n",
      "└ @ ConvGRU /Users/kahingleung/.julia/packages/Flux/sY3yx/src/optimise/train.jl:136\n"
     ]
    },
    {
     "name": "stdout",
     "output_type": "stream",
     "text": [
      "mse_loss(xtest, ytest) = 0.4126328f0\n"
     ]
    },
    {
     "name": "stderr",
     "output_type": "stream",
     "text": [
      "┌ Info: Epoch 7\n",
      "└ @ ConvGRU /Users/kahingleung/.julia/packages/Flux/sY3yx/src/optimise/train.jl:136\n"
     ]
    },
    {
     "name": "stdout",
     "output_type": "stream",
     "text": [
      "mse_loss(xtest, ytest) = 0.4066259f0\n"
     ]
    },
    {
     "name": "stderr",
     "output_type": "stream",
     "text": [
      "┌ Info: Epoch 8\n",
      "└ @ ConvGRU /Users/kahingleung/.julia/packages/Flux/sY3yx/src/optimise/train.jl:136\n",
      "┌ Info: Epoch 9\n",
      "└ @ ConvGRU /Users/kahingleung/.julia/packages/Flux/sY3yx/src/optimise/train.jl:136\n"
     ]
    },
    {
     "name": "stdout",
     "output_type": "stream",
     "text": [
      "mse_loss(xtest, ytest) = 0.4101127f0\n",
      "mse_loss(xtest, ytest) = 0.4121021f0\n"
     ]
    },
    {
     "name": "stderr",
     "output_type": "stream",
     "text": [
      "┌ Info: Epoch 10\n",
      "└ @ ConvGRU /Users/kahingleung/.julia/packages/Flux/sY3yx/src/optimise/train.jl:136\n"
     ]
    },
    {
     "name": "stdout",
     "output_type": "stream",
     "text": [
      "mse_loss(xtest, ytest) = 0.40395668f0\n"
     ]
    },
    {
     "name": "stderr",
     "output_type": "stream",
     "text": [
      "┌ Info: Epoch 11\n",
      "└ @ ConvGRU /Users/kahingleung/.julia/packages/Flux/sY3yx/src/optimise/train.jl:136\n"
     ]
    },
    {
     "name": "stdout",
     "output_type": "stream",
     "text": [
      "mse_loss(xtest, ytest) = 0.40438202f0\n"
     ]
    },
    {
     "name": "stderr",
     "output_type": "stream",
     "text": [
      "┌ Info: Epoch 12\n",
      "└ @ ConvGRU /Users/kahingleung/.julia/packages/Flux/sY3yx/src/optimise/train.jl:136\n"
     ]
    },
    {
     "name": "stdout",
     "output_type": "stream",
     "text": [
      "mse_loss(xtest, ytest) = 0.41149238f0\n"
     ]
    },
    {
     "name": "stderr",
     "output_type": "stream",
     "text": [
      "┌ Info: Epoch 13\n",
      "└ @ ConvGRU /Users/kahingleung/.julia/packages/Flux/sY3yx/src/optimise/train.jl:136\n"
     ]
    },
    {
     "name": "stdout",
     "output_type": "stream",
     "text": [
      "mse_loss(xtest, ytest) = 0.40424123f0\n"
     ]
    },
    {
     "name": "stderr",
     "output_type": "stream",
     "text": [
      "┌ Info: Epoch 14\n",
      "└ @ ConvGRU /Users/kahingleung/.julia/packages/Flux/sY3yx/src/optimise/train.jl:136\n"
     ]
    },
    {
     "name": "stdout",
     "output_type": "stream",
     "text": [
      "mse_loss(xtest, ytest) = 0.40094206f0\n"
     ]
    },
    {
     "name": "stderr",
     "output_type": "stream",
     "text": [
      "┌ Info: Epoch 15\n",
      "└ @ ConvGRU /Users/kahingleung/.julia/packages/Flux/sY3yx/src/optimise/train.jl:136\n"
     ]
    },
    {
     "name": "stdout",
     "output_type": "stream",
     "text": [
      "mse_loss(xtest, ytest) = 0.40005478f0\n"
     ]
    },
    {
     "name": "stderr",
     "output_type": "stream",
     "text": [
      "┌ Info: Epoch 16\n",
      "└ @ ConvGRU /Users/kahingleung/.julia/packages/Flux/sY3yx/src/optimise/train.jl:136\n"
     ]
    },
    {
     "name": "stdout",
     "output_type": "stream",
     "text": [
      "mse_loss(xtest, ytest) = 0.4046128f0\n"
     ]
    },
    {
     "name": "stderr",
     "output_type": "stream",
     "text": [
      "┌ Info: Epoch 17\n",
      "└ @ ConvGRU /Users/kahingleung/.julia/packages/Flux/sY3yx/src/optimise/train.jl:136\n",
      "┌ Info: Epoch 18\n",
      "└ @ ConvGRU /Users/kahingleung/.julia/packages/Flux/sY3yx/src/optimise/train.jl:136\n"
     ]
    },
    {
     "name": "stdout",
     "output_type": "stream",
     "text": [
      "mse_loss(xtest, ytest) = 0.40297154f0\n",
      "mse_loss(xtest, ytest) = 0.4040884f0\n"
     ]
    },
    {
     "name": "stderr",
     "output_type": "stream",
     "text": [
      "┌ Info: Epoch 19\n",
      "└ @ ConvGRU /Users/kahingleung/.julia/packages/Flux/sY3yx/src/optimise/train.jl:136\n"
     ]
    },
    {
     "name": "stdout",
     "output_type": "stream",
     "text": [
      "mse_loss(xtest, ytest) = 0.4024348f0\n"
     ]
    },
    {
     "name": "stderr",
     "output_type": "stream",
     "text": [
      "┌ Info: Epoch 20\n",
      "└ @ ConvGRU /Users/kahingleung/.julia/packages/Flux/sY3yx/src/optimise/train.jl:136\n"
     ]
    },
    {
     "name": "stdout",
     "output_type": "stream",
     "text": [
      "mse_loss(xtest, ytest) = 0.4112063f0\n"
     ]
    },
    {
     "name": "stderr",
     "output_type": "stream",
     "text": [
      "┌ Info: Epoch 21\n",
      "└ @ ConvGRU /Users/kahingleung/.julia/packages/Flux/sY3yx/src/optimise/train.jl:136\n",
      "┌ Info: Epoch 22\n",
      "└ @ ConvGRU /Users/kahingleung/.julia/packages/Flux/sY3yx/src/optimise/train.jl:136\n"
     ]
    },
    {
     "name": "stdout",
     "output_type": "stream",
     "text": [
      "mse_loss(xtest, ytest) = 0.40321156f0\n",
      "mse_loss(xtest, ytest) = 0.4088256f0\n"
     ]
    },
    {
     "name": "stderr",
     "output_type": "stream",
     "text": [
      "┌ Info: Epoch 23\n",
      "└ @ ConvGRU /Users/kahingleung/.julia/packages/Flux/sY3yx/src/optimise/train.jl:136\n"
     ]
    },
    {
     "name": "stdout",
     "output_type": "stream",
     "text": [
      "mse_loss(xtest, ytest) = 0.40927947f0\n"
     ]
    },
    {
     "name": "stderr",
     "output_type": "stream",
     "text": [
      "┌ Info: Epoch 24\n",
      "└ @ ConvGRU /Users/kahingleung/.julia/packages/Flux/sY3yx/src/optimise/train.jl:136\n"
     ]
    },
    {
     "name": "stdout",
     "output_type": "stream",
     "text": [
      "mse_loss(xtest, ytest) = 0.40657565f0\n"
     ]
    },
    {
     "name": "stderr",
     "output_type": "stream",
     "text": [
      "┌ Info: Epoch 25\n",
      "└ @ ConvGRU /Users/kahingleung/.julia/packages/Flux/sY3yx/src/optimise/train.jl:136\n",
      "┌ Info: Epoch 26\n",
      "└ @ ConvGRU /Users/kahingleung/.julia/packages/Flux/sY3yx/src/optimise/train.jl:136\n"
     ]
    },
    {
     "name": "stdout",
     "output_type": "stream",
     "text": [
      "mse_loss(xtest, ytest) = 0.40509388f0\n",
      "mse_loss(xtest, ytest) = 0.4107473f0\n"
     ]
    },
    {
     "name": "stderr",
     "output_type": "stream",
     "text": [
      "┌ Info: Epoch 27\n",
      "└ @ ConvGRU /Users/kahingleung/.julia/packages/Flux/sY3yx/src/optimise/train.jl:136\n"
     ]
    },
    {
     "name": "stdout",
     "output_type": "stream",
     "text": [
      "mse_loss(xtest, ytest) = 0.40639153f0\n"
     ]
    },
    {
     "name": "stderr",
     "output_type": "stream",
     "text": [
      "┌ Info: Epoch 28\n",
      "└ @ ConvGRU /Users/kahingleung/.julia/packages/Flux/sY3yx/src/optimise/train.jl:136\n"
     ]
    },
    {
     "name": "stdout",
     "output_type": "stream",
     "text": [
      "mse_loss(xtest, ytest) = 0.4059223f0\n"
     ]
    },
    {
     "name": "stderr",
     "output_type": "stream",
     "text": [
      "┌ Info: Epoch 29\n",
      "└ @ ConvGRU /Users/kahingleung/.julia/packages/Flux/sY3yx/src/optimise/train.jl:136\n",
      "┌ Info: Epoch 30\n",
      "└ @ ConvGRU /Users/kahingleung/.julia/packages/Flux/sY3yx/src/optimise/train.jl:136\n"
     ]
    },
    {
     "name": "stdout",
     "output_type": "stream",
     "text": [
      "mse_loss(xtest, ytest) = 0.41175842f0\n",
      "(250,)\n",
      "myObjective(df, seqlen, Nh, lr, sym * \"-\" * string(i)) = 0.41125068f0\n",
      "142560.0016681005372000592\n",
      "mse_loss(xtest, ytest) = 0.4471037f0\n"
     ]
    },
    {
     "name": "stderr",
     "output_type": "stream",
     "text": [
      "┌ Info: Epoch 1\n",
      "└ @ ConvGRU /Users/kahingleung/.julia/packages/Flux/sY3yx/src/optimise/train.jl:136\n"
     ]
    },
    {
     "name": "stdout",
     "output_type": "stream",
     "text": [
      "mse_loss(xtest, ytest) = 0.42375955f0\n",
      "mse_loss(xtest, ytest) = 0.41772196f0\n"
     ]
    },
    {
     "name": "stderr",
     "output_type": "stream",
     "text": [
      "┌ Info: Epoch 2\n",
      "└ @ ConvGRU /Users/kahingleung/.julia/packages/Flux/sY3yx/src/optimise/train.jl:136\n"
     ]
    },
    {
     "name": "stdout",
     "output_type": "stream",
     "text": [
      "mse_loss(xtest, ytest) = 0.41724497f0\n"
     ]
    },
    {
     "name": "stderr",
     "output_type": "stream",
     "text": [
      "┌ Info: Epoch 3\n",
      "└ @ ConvGRU /Users/kahingleung/.julia/packages/Flux/sY3yx/src/optimise/train.jl:136\n"
     ]
    },
    {
     "name": "stdout",
     "output_type": "stream",
     "text": [
      "mse_loss(xtest, ytest) = 0.41133386f0\n"
     ]
    },
    {
     "name": "stderr",
     "output_type": "stream",
     "text": [
      "┌ Info: Epoch 4\n",
      "└ @ ConvGRU /Users/kahingleung/.julia/packages/Flux/sY3yx/src/optimise/train.jl:136\n"
     ]
    },
    {
     "name": "stdout",
     "output_type": "stream",
     "text": [
      "mse_loss(xtest, ytest) = 0.41577995f0\n"
     ]
    },
    {
     "name": "stderr",
     "output_type": "stream",
     "text": [
      "┌ Info: Epoch 5\n",
      "└ @ ConvGRU /Users/kahingleung/.julia/packages/Flux/sY3yx/src/optimise/train.jl:136\n",
      "┌ Info: Epoch 6\n",
      "└ @ ConvGRU /Users/kahingleung/.julia/packages/Flux/sY3yx/src/optimise/train.jl:136\n"
     ]
    },
    {
     "name": "stdout",
     "output_type": "stream",
     "text": [
      "mse_loss(xtest, ytest) = 0.41262037f0\n"
     ]
    },
    {
     "name": "stderr",
     "output_type": "stream",
     "text": [
      "┌ Info: Epoch 7\n",
      "└ @ ConvGRU /Users/kahingleung/.julia/packages/Flux/sY3yx/src/optimise/train.jl:136\n"
     ]
    },
    {
     "name": "stdout",
     "output_type": "stream",
     "text": [
      "mse_loss(xtest, ytest) = 0.4132344f0\n",
      "mse_loss(xtest, ytest) = 0.4123589f0\n"
     ]
    },
    {
     "name": "stderr",
     "output_type": "stream",
     "text": [
      "┌ Info: Epoch 8\n",
      "└ @ ConvGRU /Users/kahingleung/.julia/packages/Flux/sY3yx/src/optimise/train.jl:136\n",
      "┌ Info: Epoch 9\n",
      "└ @ ConvGRU /Users/kahingleung/.julia/packages/Flux/sY3yx/src/optimise/train.jl:136\n"
     ]
    },
    {
     "name": "stdout",
     "output_type": "stream",
     "text": [
      "mse_loss(xtest, ytest) = 0.41189945f0\n",
      "mse_loss(xtest, ytest) = 0.41322005f0\n"
     ]
    },
    {
     "name": "stderr",
     "output_type": "stream",
     "text": [
      "┌ Info: Epoch 10\n",
      "└ @ ConvGRU /Users/kahingleung/.julia/packages/Flux/sY3yx/src/optimise/train.jl:136\n"
     ]
    },
    {
     "name": "stdout",
     "output_type": "stream",
     "text": [
      "mse_loss(xtest, ytest) = 0.4135705f0\n"
     ]
    },
    {
     "name": "stderr",
     "output_type": "stream",
     "text": [
      "┌ Info: Epoch 11\n",
      "└ @ ConvGRU /Users/kahingleung/.julia/packages/Flux/sY3yx/src/optimise/train.jl:136\n"
     ]
    },
    {
     "name": "stdout",
     "output_type": "stream",
     "text": [
      "mse_loss(xtest, ytest) = 0.41258413f0\n"
     ]
    },
    {
     "name": "stderr",
     "output_type": "stream",
     "text": [
      "┌ Info: Epoch 12\n",
      "└ @ ConvGRU /Users/kahingleung/.julia/packages/Flux/sY3yx/src/optimise/train.jl:136\n",
      "┌ Info: Epoch 13\n",
      "└ @ ConvGRU /Users/kahingleung/.julia/packages/Flux/sY3yx/src/optimise/train.jl:136\n"
     ]
    },
    {
     "name": "stdout",
     "output_type": "stream",
     "text": [
      "mse_loss(xtest, ytest) = 0.41062698f0\n",
      "mse_loss(xtest, ytest) = 0.4097628f0\n"
     ]
    },
    {
     "name": "stderr",
     "output_type": "stream",
     "text": [
      "┌ Info: Epoch 14\n",
      "└ @ ConvGRU /Users/kahingleung/.julia/packages/Flux/sY3yx/src/optimise/train.jl:136\n"
     ]
    },
    {
     "name": "stdout",
     "output_type": "stream",
     "text": [
      "mse_loss(xtest, ytest) = 0.40938058f0\n"
     ]
    },
    {
     "name": "stderr",
     "output_type": "stream",
     "text": [
      "┌ Info: Epoch 15\n",
      "└ @ ConvGRU /Users/kahingleung/.julia/packages/Flux/sY3yx/src/optimise/train.jl:136\n",
      "┌ Info: Epoch 16\n",
      "└ @ ConvGRU /Users/kahingleung/.julia/packages/Flux/sY3yx/src/optimise/train.jl:136\n"
     ]
    },
    {
     "name": "stdout",
     "output_type": "stream",
     "text": [
      "mse_loss(xtest, ytest) = 0.4083054f0\n"
     ]
    },
    {
     "name": "stderr",
     "output_type": "stream",
     "text": [
      "┌ Info: Epoch 17\n",
      "└ @ ConvGRU /Users/kahingleung/.julia/packages/Flux/sY3yx/src/optimise/train.jl:136\n"
     ]
    },
    {
     "name": "stdout",
     "output_type": "stream",
     "text": [
      "mse_loss(xtest, ytest) = 0.40955406f0\n",
      "mse_loss(xtest, ytest) = 0.4078684f0\n"
     ]
    },
    {
     "name": "stderr",
     "output_type": "stream",
     "text": [
      "┌ Info: Epoch 18\n",
      "└ @ ConvGRU /Users/kahingleung/.julia/packages/Flux/sY3yx/src/optimise/train.jl:136\n",
      "┌ Info: Epoch 19\n",
      "└ @ ConvGRU /Users/kahingleung/.julia/packages/Flux/sY3yx/src/optimise/train.jl:136\n"
     ]
    },
    {
     "name": "stdout",
     "output_type": "stream",
     "text": [
      "mse_loss(xtest, ytest) = 0.40829256f0\n",
      "mse_loss(xtest, ytest) = 0.40858695f0\n"
     ]
    },
    {
     "name": "stderr",
     "output_type": "stream",
     "text": [
      "┌ Info: Epoch 20\n",
      "└ @ ConvGRU /Users/kahingleung/.julia/packages/Flux/sY3yx/src/optimise/train.jl:136\n"
     ]
    },
    {
     "name": "stdout",
     "output_type": "stream",
     "text": [
      "mse_loss(xtest, ytest) = 0.4077768f0\n"
     ]
    },
    {
     "name": "stderr",
     "output_type": "stream",
     "text": [
      "┌ Info: Epoch 21\n",
      "└ @ ConvGRU /Users/kahingleung/.julia/packages/Flux/sY3yx/src/optimise/train.jl:136\n"
     ]
    },
    {
     "name": "stdout",
     "output_type": "stream",
     "text": [
      "mse_loss(xtest, ytest) = 0.4071053f0\n"
     ]
    },
    {
     "name": "stderr",
     "output_type": "stream",
     "text": [
      "┌ Info: Epoch 22\n",
      "└ @ ConvGRU /Users/kahingleung/.julia/packages/Flux/sY3yx/src/optimise/train.jl:136\n",
      "┌ Info: Epoch 23\n",
      "└ @ ConvGRU /Users/kahingleung/.julia/packages/Flux/sY3yx/src/optimise/train.jl:136\n"
     ]
    },
    {
     "name": "stdout",
     "output_type": "stream",
     "text": [
      "mse_loss(xtest, ytest) = 0.40824676f0\n",
      "mse_loss(xtest, ytest) = 0.4072942f0\n"
     ]
    },
    {
     "name": "stderr",
     "output_type": "stream",
     "text": [
      "┌ Info: Epoch 24\n",
      "└ @ ConvGRU /Users/kahingleung/.julia/packages/Flux/sY3yx/src/optimise/train.jl:136\n"
     ]
    },
    {
     "name": "stdout",
     "output_type": "stream",
     "text": [
      "mse_loss(xtest, ytest) = 0.40670738f0\n"
     ]
    },
    {
     "name": "stderr",
     "output_type": "stream",
     "text": [
      "┌ Info: Epoch 25\n",
      "└ @ ConvGRU /Users/kahingleung/.julia/packages/Flux/sY3yx/src/optimise/train.jl:136\n",
      "┌ Info: Epoch 26\n",
      "└ @ ConvGRU /Users/kahingleung/.julia/packages/Flux/sY3yx/src/optimise/train.jl:136\n"
     ]
    },
    {
     "name": "stdout",
     "output_type": "stream",
     "text": [
      "mse_loss(xtest, ytest) = 0.407796f0\n"
     ]
    },
    {
     "name": "stderr",
     "output_type": "stream",
     "text": [
      "┌ Info: Epoch 27\n",
      "└ @ ConvGRU /Users/kahingleung/.julia/packages/Flux/sY3yx/src/optimise/train.jl:136\n"
     ]
    },
    {
     "name": "stdout",
     "output_type": "stream",
     "text": [
      "mse_loss(xtest, ytest) = 0.40681607f0\n",
      "mse_loss(xtest, ytest) = 0.40571898f0\n"
     ]
    },
    {
     "name": "stderr",
     "output_type": "stream",
     "text": [
      "┌ Info: Epoch 28\n",
      "└ @ ConvGRU /Users/kahingleung/.julia/packages/Flux/sY3yx/src/optimise/train.jl:136\n",
      "┌ Info: Epoch 29\n",
      "└ @ ConvGRU /Users/kahingleung/.julia/packages/Flux/sY3yx/src/optimise/train.jl:136\n"
     ]
    },
    {
     "name": "stdout",
     "output_type": "stream",
     "text": [
      "mse_loss(xtest, ytest) = 0.4089657f0\n",
      "mse_loss(xtest, ytest) = 0.40747303f0\n"
     ]
    },
    {
     "name": "stderr",
     "output_type": "stream",
     "text": [
      "┌ Info: Epoch 30\n",
      "└ @ ConvGRU /Users/kahingleung/.julia/packages/Flux/sY3yx/src/optimise/train.jl:136\n"
     ]
    },
    {
     "name": "stdout",
     "output_type": "stream",
     "text": [
      "(250,)\n",
      "myObjective(df, seqlen, Nh, lr, sym * \"-\" * string(i)) = 0.40181056f0\n",
      "151020.0016681005372000592\n",
      "mse_loss(xtest, ytest) = 0.40745103f0\n",
      "mse_loss(xtest, ytest) = 0.40638256f0\n"
     ]
    },
    {
     "name": "stderr",
     "output_type": "stream",
     "text": [
      "┌ Info: Epoch 1\n",
      "└ @ ConvGRU /Users/kahingleung/.julia/packages/Flux/sY3yx/src/optimise/train.jl:136\n"
     ]
    },
    {
     "name": "stdout",
     "output_type": "stream",
     "text": [
      "mse_loss(xtest, ytest) = 0.4074588f0\n"
     ]
    },
    {
     "name": "stderr",
     "output_type": "stream",
     "text": [
      "┌ Info: Epoch 2\n",
      "└ @ ConvGRU /Users/kahingleung/.julia/packages/Flux/sY3yx/src/optimise/train.jl:136\n"
     ]
    },
    {
     "name": "stdout",
     "output_type": "stream",
     "text": [
      "mse_loss(xtest, ytest) = 0.40898657f0\n"
     ]
    },
    {
     "name": "stderr",
     "output_type": "stream",
     "text": [
      "┌ Info: Epoch 3\n",
      "└ @ ConvGRU /Users/kahingleung/.julia/packages/Flux/sY3yx/src/optimise/train.jl:136\n",
      "┌ Info: Epoch 4\n",
      "└ @ ConvGRU /Users/kahingleung/.julia/packages/Flux/sY3yx/src/optimise/train.jl:136\n"
     ]
    },
    {
     "name": "stdout",
     "output_type": "stream",
     "text": [
      "mse_loss(xtest, ytest) = 0.40999883f0\n",
      "mse_loss(xtest, ytest) = 0.41080332f0\n"
     ]
    },
    {
     "name": "stderr",
     "output_type": "stream",
     "text": [
      "┌ Info: Epoch 5\n",
      "└ @ ConvGRU /Users/kahingleung/.julia/packages/Flux/sY3yx/src/optimise/train.jl:136\n",
      "┌ Info: Epoch 6\n",
      "└ @ ConvGRU /Users/kahingleung/.julia/packages/Flux/sY3yx/src/optimise/train.jl:136\n"
     ]
    },
    {
     "name": "stdout",
     "output_type": "stream",
     "text": [
      "mse_loss(xtest, ytest) = 0.41116664f0\n",
      "mse_loss(xtest, ytest) = 0.4117299f0\n"
     ]
    },
    {
     "name": "stderr",
     "output_type": "stream",
     "text": [
      "┌ Info: Epoch 7\n",
      "└ @ ConvGRU /Users/kahingleung/.julia/packages/Flux/sY3yx/src/optimise/train.jl:136\n"
     ]
    },
    {
     "name": "stdout",
     "output_type": "stream",
     "text": [
      "mse_loss(xtest, ytest) = 0.41128212f0\n"
     ]
    },
    {
     "name": "stderr",
     "output_type": "stream",
     "text": [
      "┌ Info: Epoch 8\n",
      "└ @ ConvGRU /Users/kahingleung/.julia/packages/Flux/sY3yx/src/optimise/train.jl:136\n"
     ]
    },
    {
     "name": "stdout",
     "output_type": "stream",
     "text": [
      "mse_loss(xtest, ytest) = 0.41169623f0\n"
     ]
    },
    {
     "name": "stderr",
     "output_type": "stream",
     "text": [
      "┌ Info: Epoch 9\n",
      "└ @ ConvGRU /Users/kahingleung/.julia/packages/Flux/sY3yx/src/optimise/train.jl:136\n"
     ]
    },
    {
     "name": "stdout",
     "output_type": "stream",
     "text": [
      "mse_loss(xtest, ytest) = 0.41156733f0\n"
     ]
    },
    {
     "name": "stderr",
     "output_type": "stream",
     "text": [
      "┌ Info: Epoch 10\n",
      "└ @ ConvGRU /Users/kahingleung/.julia/packages/Flux/sY3yx/src/optimise/train.jl:136\n",
      "┌ Info: Epoch 11\n",
      "└ @ ConvGRU /Users/kahingleung/.julia/packages/Flux/sY3yx/src/optimise/train.jl:136\n"
     ]
    },
    {
     "name": "stdout",
     "output_type": "stream",
     "text": [
      "mse_loss(xtest, ytest) = 0.41146135f0\n",
      "mse_loss(xtest, ytest) = 0.41152808f0\n"
     ]
    },
    {
     "name": "stderr",
     "output_type": "stream",
     "text": [
      "┌ Info: Epoch 12\n",
      "└ @ ConvGRU /Users/kahingleung/.julia/packages/Flux/sY3yx/src/optimise/train.jl:136\n"
     ]
    },
    {
     "name": "stdout",
     "output_type": "stream",
     "text": [
      "mse_loss(xtest, ytest) = 0.41206205f0\n"
     ]
    },
    {
     "name": "stderr",
     "output_type": "stream",
     "text": [
      "┌ Info: Epoch 13\n",
      "└ @ ConvGRU /Users/kahingleung/.julia/packages/Flux/sY3yx/src/optimise/train.jl:136\n"
     ]
    },
    {
     "name": "stdout",
     "output_type": "stream",
     "text": [
      "mse_loss(xtest, ytest) = 0.4118985f0\n"
     ]
    },
    {
     "name": "stderr",
     "output_type": "stream",
     "text": [
      "┌ Info: Epoch 14\n",
      "└ @ ConvGRU /Users/kahingleung/.julia/packages/Flux/sY3yx/src/optimise/train.jl:136\n"
     ]
    },
    {
     "name": "stdout",
     "output_type": "stream",
     "text": [
      "mse_loss(xtest, ytest) = 0.41179886f0\n"
     ]
    },
    {
     "name": "stderr",
     "output_type": "stream",
     "text": [
      "┌ Info: Epoch 15\n",
      "└ @ ConvGRU /Users/kahingleung/.julia/packages/Flux/sY3yx/src/optimise/train.jl:136\n"
     ]
    },
    {
     "name": "stdout",
     "output_type": "stream",
     "text": [
      "mse_loss(xtest, ytest) = 0.41228914f0\n"
     ]
    },
    {
     "name": "stderr",
     "output_type": "stream",
     "text": [
      "┌ Info: Epoch 16\n",
      "└ @ ConvGRU /Users/kahingleung/.julia/packages/Flux/sY3yx/src/optimise/train.jl:136\n"
     ]
    },
    {
     "name": "stdout",
     "output_type": "stream",
     "text": [
      "mse_loss(xtest, ytest) = 0.41190472f0\n"
     ]
    },
    {
     "name": "stderr",
     "output_type": "stream",
     "text": [
      "┌ Info: Epoch 17\n",
      "└ @ ConvGRU /Users/kahingleung/.julia/packages/Flux/sY3yx/src/optimise/train.jl:136\n",
      "┌ Info: Epoch 18\n",
      "└ @ ConvGRU /Users/kahingleung/.julia/packages/Flux/sY3yx/src/optimise/train.jl:136\n"
     ]
    },
    {
     "name": "stdout",
     "output_type": "stream",
     "text": [
      "mse_loss(xtest, ytest) = 0.41121784f0\n",
      "mse_loss(xtest, ytest) = 0.41124654f0\n"
     ]
    },
    {
     "name": "stderr",
     "output_type": "stream",
     "text": [
      "┌ Info: Epoch 19\n",
      "└ @ ConvGRU /Users/kahingleung/.julia/packages/Flux/sY3yx/src/optimise/train.jl:136\n"
     ]
    },
    {
     "name": "stdout",
     "output_type": "stream",
     "text": [
      "mse_loss(xtest, ytest) = 0.41140997f0\n"
     ]
    },
    {
     "name": "stderr",
     "output_type": "stream",
     "text": [
      "┌ Info: Epoch 20\n",
      "└ @ ConvGRU /Users/kahingleung/.julia/packages/Flux/sY3yx/src/optimise/train.jl:136\n"
     ]
    },
    {
     "name": "stdout",
     "output_type": "stream",
     "text": [
      "mse_loss(xtest, ytest) = 0.41127175f0\n"
     ]
    },
    {
     "name": "stderr",
     "output_type": "stream",
     "text": [
      "┌ Info: Epoch 21\n",
      "└ @ ConvGRU /Users/kahingleung/.julia/packages/Flux/sY3yx/src/optimise/train.jl:136\n"
     ]
    },
    {
     "name": "stdout",
     "output_type": "stream",
     "text": [
      "mse_loss(xtest, ytest) = 0.41079557f0\n"
     ]
    },
    {
     "name": "stderr",
     "output_type": "stream",
     "text": [
      "┌ Info: Epoch 22\n",
      "└ @ ConvGRU /Users/kahingleung/.julia/packages/Flux/sY3yx/src/optimise/train.jl:136\n"
     ]
    },
    {
     "name": "stdout",
     "output_type": "stream",
     "text": [
      "mse_loss(xtest, ytest) = 0.41061518f0\n"
     ]
    },
    {
     "name": "stderr",
     "output_type": "stream",
     "text": [
      "┌ Info: Epoch 23\n",
      "└ @ ConvGRU /Users/kahingleung/.julia/packages/Flux/sY3yx/src/optimise/train.jl:136\n",
      "┌ Info: Epoch 24\n",
      "└ @ ConvGRU /Users/kahingleung/.julia/packages/Flux/sY3yx/src/optimise/train.jl:136\n"
     ]
    },
    {
     "name": "stdout",
     "output_type": "stream",
     "text": [
      "mse_loss(xtest, ytest) = 0.41075954f0\n",
      "mse_loss(xtest, ytest) = 0.41064012f0\n"
     ]
    },
    {
     "name": "stderr",
     "output_type": "stream",
     "text": [
      "┌ Info: Epoch 25\n",
      "└ @ ConvGRU /Users/kahingleung/.julia/packages/Flux/sY3yx/src/optimise/train.jl:136\n",
      "┌ Info: Epoch 26\n",
      "└ @ ConvGRU /Users/kahingleung/.julia/packages/Flux/sY3yx/src/optimise/train.jl:136\n"
     ]
    },
    {
     "name": "stdout",
     "output_type": "stream",
     "text": [
      "mse_loss(xtest, ytest) = 0.41029724f0\n",
      "mse_loss(xtest, ytest) = 0.41026476f0\n"
     ]
    },
    {
     "name": "stderr",
     "output_type": "stream",
     "text": [
      "┌ Info: Epoch 27\n",
      "└ @ ConvGRU /Users/kahingleung/.julia/packages/Flux/sY3yx/src/optimise/train.jl:136\n"
     ]
    },
    {
     "name": "stdout",
     "output_type": "stream",
     "text": [
      "mse_loss(xtest, ytest) = 0.41025722f0\n"
     ]
    },
    {
     "name": "stderr",
     "output_type": "stream",
     "text": [
      "┌ Info: Epoch 28\n",
      "└ @ ConvGRU /Users/kahingleung/.julia/packages/Flux/sY3yx/src/optimise/train.jl:136\n"
     ]
    },
    {
     "name": "stdout",
     "output_type": "stream",
     "text": [
      "mse_loss(xtest, ytest) = 0.4100006f0\n"
     ]
    },
    {
     "name": "stderr",
     "output_type": "stream",
     "text": [
      "┌ Info: Epoch 29\n",
      "└ @ ConvGRU /Users/kahingleung/.julia/packages/Flux/sY3yx/src/optimise/train.jl:136\n"
     ]
    },
    {
     "name": "stdout",
     "output_type": "stream",
     "text": [
      "mse_loss(xtest, ytest) = 0.4098355f0\n"
     ]
    },
    {
     "name": "stderr",
     "output_type": "stream",
     "text": [
      "┌ Info: Epoch 30\n",
      "└ @ ConvGRU /Users/kahingleung/.julia/packages/Flux/sY3yx/src/optimise/train.jl:136\n"
     ]
    },
    {
     "name": "stdout",
     "output_type": "stream",
     "text": [
      "(250,)\n",
      "myObjective(df, seqlen, Nh, lr, sym * \"-\" * string(i)) = 0.40763268f0\n",
      "162040.007742636826811269\n",
      "mse_loss(xtest, ytest) = 0.4275354f0\n"
     ]
    },
    {
     "name": "stderr",
     "output_type": "stream",
     "text": [
      "┌ Info: Epoch 1\n",
      "└ @ ConvGRU /Users/kahingleung/.julia/packages/Flux/sY3yx/src/optimise/train.jl:136\n"
     ]
    },
    {
     "name": "stdout",
     "output_type": "stream",
     "text": [
      "mse_loss(xtest, ytest) = 0.4645083f0\n"
     ]
    },
    {
     "name": "stderr",
     "output_type": "stream",
     "text": [
      "┌ Info: Epoch 2\n",
      "└ @ ConvGRU /Users/kahingleung/.julia/packages/Flux/sY3yx/src/optimise/train.jl:136\n"
     ]
    },
    {
     "name": "stdout",
     "output_type": "stream",
     "text": [
      "mse_loss(xtest, ytest) = 0.42508015f0\n",
      "mse_loss(xtest, ytest) = 0.42798612f0\n"
     ]
    },
    {
     "name": "stderr",
     "output_type": "stream",
     "text": [
      "┌ Info: Epoch 3\n",
      "└ @ ConvGRU /Users/kahingleung/.julia/packages/Flux/sY3yx/src/optimise/train.jl:136\n"
     ]
    },
    {
     "name": "stdout",
     "output_type": "stream",
     "text": [
      "mse_loss(xtest, ytest) = 0.4246585f0\n"
     ]
    },
    {
     "name": "stderr",
     "output_type": "stream",
     "text": [
      "┌ Info: Epoch 4\n",
      "└ @ ConvGRU /Users/kahingleung/.julia/packages/Flux/sY3yx/src/optimise/train.jl:136\n"
     ]
    },
    {
     "name": "stdout",
     "output_type": "stream",
     "text": [
      "mse_loss(xtest, ytest) = 0.41720682f0\n"
     ]
    },
    {
     "name": "stderr",
     "output_type": "stream",
     "text": [
      "┌ Info: Epoch 5\n",
      "└ @ ConvGRU /Users/kahingleung/.julia/packages/Flux/sY3yx/src/optimise/train.jl:136\n"
     ]
    },
    {
     "name": "stdout",
     "output_type": "stream",
     "text": [
      "mse_loss(xtest, ytest) = 0.41828698f0\n"
     ]
    },
    {
     "name": "stderr",
     "output_type": "stream",
     "text": [
      "┌ Info: Epoch 6\n",
      "└ @ ConvGRU /Users/kahingleung/.julia/packages/Flux/sY3yx/src/optimise/train.jl:136\n"
     ]
    },
    {
     "name": "stdout",
     "output_type": "stream",
     "text": [
      "mse_loss(xtest, ytest) = 0.41744456f0\n"
     ]
    },
    {
     "name": "stderr",
     "output_type": "stream",
     "text": [
      "┌ Info: Epoch 7\n",
      "└ @ ConvGRU /Users/kahingleung/.julia/packages/Flux/sY3yx/src/optimise/train.jl:136\n"
     ]
    },
    {
     "name": "stdout",
     "output_type": "stream",
     "text": [
      "mse_loss(xtest, ytest) = 0.41802958f0\n"
     ]
    },
    {
     "name": "stderr",
     "output_type": "stream",
     "text": [
      "┌ Info: Epoch 8\n",
      "└ @ ConvGRU /Users/kahingleung/.julia/packages/Flux/sY3yx/src/optimise/train.jl:136\n"
     ]
    },
    {
     "name": "stdout",
     "output_type": "stream",
     "text": [
      "mse_loss(xtest, ytest) = 0.41206917f0\n"
     ]
    },
    {
     "name": "stderr",
     "output_type": "stream",
     "text": [
      "┌ Info: Epoch 9\n",
      "└ @ ConvGRU /Users/kahingleung/.julia/packages/Flux/sY3yx/src/optimise/train.jl:136\n"
     ]
    },
    {
     "name": "stdout",
     "output_type": "stream",
     "text": [
      "mse_loss(xtest, ytest) = 0.41517162f0\n"
     ]
    },
    {
     "name": "stderr",
     "output_type": "stream",
     "text": [
      "┌ Info: Epoch 10\n",
      "└ @ ConvGRU /Users/kahingleung/.julia/packages/Flux/sY3yx/src/optimise/train.jl:136\n"
     ]
    },
    {
     "name": "stdout",
     "output_type": "stream",
     "text": [
      "mse_loss(xtest, ytest) = 0.4106964f0\n"
     ]
    },
    {
     "name": "stderr",
     "output_type": "stream",
     "text": [
      "┌ Info: Epoch 11\n",
      "└ @ ConvGRU /Users/kahingleung/.julia/packages/Flux/sY3yx/src/optimise/train.jl:136\n"
     ]
    },
    {
     "name": "stdout",
     "output_type": "stream",
     "text": [
      "mse_loss(xtest, ytest) = 0.41475654f0\n"
     ]
    },
    {
     "name": "stderr",
     "output_type": "stream",
     "text": [
      "┌ Info: Epoch 12\n",
      "└ @ ConvGRU /Users/kahingleung/.julia/packages/Flux/sY3yx/src/optimise/train.jl:136\n"
     ]
    },
    {
     "name": "stdout",
     "output_type": "stream",
     "text": [
      "mse_loss(xtest, ytest) = 0.4154683f0\n"
     ]
    },
    {
     "name": "stderr",
     "output_type": "stream",
     "text": [
      "┌ Info: Epoch 13\n",
      "└ @ ConvGRU /Users/kahingleung/.julia/packages/Flux/sY3yx/src/optimise/train.jl:136\n"
     ]
    },
    {
     "name": "stdout",
     "output_type": "stream",
     "text": [
      "mse_loss(xtest, ytest) = 0.41558287f0\n"
     ]
    },
    {
     "name": "stderr",
     "output_type": "stream",
     "text": [
      "┌ Info: Epoch 14\n",
      "└ @ ConvGRU /Users/kahingleung/.julia/packages/Flux/sY3yx/src/optimise/train.jl:136\n"
     ]
    },
    {
     "name": "stdout",
     "output_type": "stream",
     "text": [
      "mse_loss(xtest, ytest) = 0.41359305f0\n"
     ]
    },
    {
     "name": "stderr",
     "output_type": "stream",
     "text": [
      "┌ Info: Epoch 15\n",
      "└ @ ConvGRU /Users/kahingleung/.julia/packages/Flux/sY3yx/src/optimise/train.jl:136\n"
     ]
    },
    {
     "name": "stdout",
     "output_type": "stream",
     "text": [
      "mse_loss(xtest, ytest) = 0.41744f0\n"
     ]
    },
    {
     "name": "stderr",
     "output_type": "stream",
     "text": [
      "┌ Info: Epoch 16\n",
      "└ @ ConvGRU /Users/kahingleung/.julia/packages/Flux/sY3yx/src/optimise/train.jl:136\n"
     ]
    },
    {
     "name": "stdout",
     "output_type": "stream",
     "text": [
      "mse_loss(xtest, ytest) = 0.41327298f0\n"
     ]
    },
    {
     "name": "stderr",
     "output_type": "stream",
     "text": [
      "┌ Info: Epoch 17\n",
      "└ @ ConvGRU /Users/kahingleung/.julia/packages/Flux/sY3yx/src/optimise/train.jl:136\n",
      "┌ Info: Epoch 18\n",
      "└ @ ConvGRU /Users/kahingleung/.julia/packages/Flux/sY3yx/src/optimise/train.jl:136\n"
     ]
    },
    {
     "name": "stdout",
     "output_type": "stream",
     "text": [
      "mse_loss(xtest, ytest) = 0.4131443f0\n"
     ]
    },
    {
     "name": "stderr",
     "output_type": "stream",
     "text": [
      "┌ Info: Epoch 19\n",
      "└ @ ConvGRU /Users/kahingleung/.julia/packages/Flux/sY3yx/src/optimise/train.jl:136\n"
     ]
    },
    {
     "name": "stdout",
     "output_type": "stream",
     "text": [
      "mse_loss(xtest, ytest) = 0.41781735f0\n",
      "mse_loss(xtest, ytest) = 0.4142117f0\n"
     ]
    },
    {
     "name": "stderr",
     "output_type": "stream",
     "text": [
      "┌ Info: Epoch 20\n",
      "└ @ ConvGRU /Users/kahingleung/.julia/packages/Flux/sY3yx/src/optimise/train.jl:136\n"
     ]
    },
    {
     "name": "stdout",
     "output_type": "stream",
     "text": [
      "mse_loss(xtest, ytest) = 0.41677693f0\n"
     ]
    },
    {
     "name": "stderr",
     "output_type": "stream",
     "text": [
      "┌ Info: Epoch 21\n",
      "└ @ ConvGRU /Users/kahingleung/.julia/packages/Flux/sY3yx/src/optimise/train.jl:136\n"
     ]
    },
    {
     "name": "stdout",
     "output_type": "stream",
     "text": [
      "mse_loss(xtest, ytest) = 0.41327593f0\n"
     ]
    },
    {
     "name": "stderr",
     "output_type": "stream",
     "text": [
      "┌ Info: Epoch 22\n",
      "└ @ ConvGRU /Users/kahingleung/.julia/packages/Flux/sY3yx/src/optimise/train.jl:136\n"
     ]
    },
    {
     "name": "stdout",
     "output_type": "stream",
     "text": [
      "mse_loss(xtest, ytest) = 0.41417834f0\n"
     ]
    },
    {
     "name": "stderr",
     "output_type": "stream",
     "text": [
      "┌ Info: Epoch 23\n",
      "└ @ ConvGRU /Users/kahingleung/.julia/packages/Flux/sY3yx/src/optimise/train.jl:136\n"
     ]
    },
    {
     "name": "stdout",
     "output_type": "stream",
     "text": [
      "mse_loss(xtest, ytest) = 0.4117113f0\n"
     ]
    },
    {
     "name": "stderr",
     "output_type": "stream",
     "text": [
      "┌ Info: Epoch 24\n",
      "└ @ ConvGRU /Users/kahingleung/.julia/packages/Flux/sY3yx/src/optimise/train.jl:136\n",
      "┌ Info: Epoch 25\n",
      "└ @ ConvGRU /Users/kahingleung/.julia/packages/Flux/sY3yx/src/optimise/train.jl:136\n"
     ]
    },
    {
     "name": "stdout",
     "output_type": "stream",
     "text": [
      "mse_loss(xtest, ytest) = 0.4117804f0\n"
     ]
    },
    {
     "name": "stderr",
     "output_type": "stream",
     "text": [
      "┌ Info: Epoch 26\n",
      "└ @ ConvGRU /Users/kahingleung/.julia/packages/Flux/sY3yx/src/optimise/train.jl:136\n"
     ]
    },
    {
     "name": "stdout",
     "output_type": "stream",
     "text": [
      "mse_loss(xtest, ytest) = 0.41196346f0\n"
     ]
    },
    {
     "name": "stderr",
     "output_type": "stream",
     "text": [
      "┌ Info: Epoch 27\n",
      "└ @ ConvGRU /Users/kahingleung/.julia/packages/Flux/sY3yx/src/optimise/train.jl:136\n"
     ]
    },
    {
     "name": "stdout",
     "output_type": "stream",
     "text": [
      "mse_loss(xtest, ytest) = 0.41600606f0\n"
     ]
    },
    {
     "name": "stderr",
     "output_type": "stream",
     "text": [
      "┌ Info: Epoch 28\n",
      "└ @ ConvGRU /Users/kahingleung/.julia/packages/Flux/sY3yx/src/optimise/train.jl:136\n"
     ]
    },
    {
     "name": "stdout",
     "output_type": "stream",
     "text": [
      "mse_loss(xtest, ytest) = 0.4102884f0\n"
     ]
    },
    {
     "name": "stderr",
     "output_type": "stream",
     "text": [
      "┌ Info: Epoch 29\n",
      "└ @ ConvGRU /Users/kahingleung/.julia/packages/Flux/sY3yx/src/optimise/train.jl:136\n"
     ]
    },
    {
     "name": "stdout",
     "output_type": "stream",
     "text": [
      "mse_loss(xtest, ytest) = 0.41261646f0\n"
     ]
    },
    {
     "name": "stderr",
     "output_type": "stream",
     "text": [
      "┌ Info: Epoch 30\n",
      "└ @ ConvGRU /Users/kahingleung/.julia/packages/Flux/sY3yx/src/optimise/train.jl:136\n"
     ]
    },
    {
     "name": "stdout",
     "output_type": "stream",
     "text": [
      "mse_loss(xtest, ytest) = 0.40991646f0\n",
      "(250,)\n",
      "myObjective(df, seqlen, Nh, lr, sym * \"-\" * string(i)) = 0.40732133f0\n",
      "171560.003593813663804626\n",
      "mse_loss(xtest, ytest) = 0.53054607f0\n",
      "mse_loss(xtest, ytest) = 0.45083642f0\n"
     ]
    },
    {
     "name": "stderr",
     "output_type": "stream",
     "text": [
      "┌ Info: Epoch 1\n",
      "└ @ ConvGRU /Users/kahingleung/.julia/packages/Flux/sY3yx/src/optimise/train.jl:136\n"
     ]
    },
    {
     "name": "stdout",
     "output_type": "stream",
     "text": [
      "mse_loss(xtest, ytest) = 0.4361436f0\n"
     ]
    },
    {
     "name": "stderr",
     "output_type": "stream",
     "text": [
      "┌ Info: Epoch 2\n",
      "└ @ ConvGRU /Users/kahingleung/.julia/packages/Flux/sY3yx/src/optimise/train.jl:136\n"
     ]
    },
    {
     "name": "stdout",
     "output_type": "stream",
     "text": [
      "mse_loss(xtest, ytest) = 0.42913124f0\n"
     ]
    },
    {
     "name": "stderr",
     "output_type": "stream",
     "text": [
      "┌ Info: Epoch 3\n",
      "└ @ ConvGRU /Users/kahingleung/.julia/packages/Flux/sY3yx/src/optimise/train.jl:136\n",
      "┌ Info: Epoch 4\n",
      "└ @ ConvGRU /Users/kahingleung/.julia/packages/Flux/sY3yx/src/optimise/train.jl:136\n"
     ]
    },
    {
     "name": "stdout",
     "output_type": "stream",
     "text": [
      "mse_loss(xtest, ytest) = 0.43047717f0\n",
      "mse_loss(xtest, ytest) = 0.43066743f0\n"
     ]
    },
    {
     "name": "stderr",
     "output_type": "stream",
     "text": [
      "┌ Info: Epoch 5\n",
      "└ @ ConvGRU /Users/kahingleung/.julia/packages/Flux/sY3yx/src/optimise/train.jl:136\n"
     ]
    },
    {
     "name": "stdout",
     "output_type": "stream",
     "text": [
      "mse_loss(xtest, ytest) = 0.4246956f0\n"
     ]
    },
    {
     "name": "stderr",
     "output_type": "stream",
     "text": [
      "┌ Info: Epoch 6\n",
      "└ @ ConvGRU /Users/kahingleung/.julia/packages/Flux/sY3yx/src/optimise/train.jl:136\n"
     ]
    },
    {
     "name": "stdout",
     "output_type": "stream",
     "text": [
      "mse_loss(xtest, ytest) = 0.42073652f0\n"
     ]
    },
    {
     "name": "stderr",
     "output_type": "stream",
     "text": [
      "┌ Info: Epoch 7\n",
      "└ @ ConvGRU /Users/kahingleung/.julia/packages/Flux/sY3yx/src/optimise/train.jl:136\n",
      "┌ Info: Epoch 8\n",
      "└ @ ConvGRU /Users/kahingleung/.julia/packages/Flux/sY3yx/src/optimise/train.jl:136\n"
     ]
    },
    {
     "name": "stdout",
     "output_type": "stream",
     "text": [
      "mse_loss(xtest, ytest) = 0.42647555f0\n",
      "mse_loss(xtest, ytest) = 0.42404896f0\n"
     ]
    },
    {
     "name": "stderr",
     "output_type": "stream",
     "text": [
      "┌ Info: Epoch 9\n",
      "└ @ ConvGRU /Users/kahingleung/.julia/packages/Flux/sY3yx/src/optimise/train.jl:136\n"
     ]
    },
    {
     "name": "stdout",
     "output_type": "stream",
     "text": [
      "mse_loss(xtest, ytest) = 0.43082082f0\n"
     ]
    },
    {
     "name": "stderr",
     "output_type": "stream",
     "text": [
      "┌ Info: Epoch 10\n",
      "└ @ ConvGRU /Users/kahingleung/.julia/packages/Flux/sY3yx/src/optimise/train.jl:136\n"
     ]
    },
    {
     "name": "stdout",
     "output_type": "stream",
     "text": [
      "mse_loss(xtest, ytest) = 0.4330192f0\n"
     ]
    },
    {
     "name": "stderr",
     "output_type": "stream",
     "text": [
      "┌ Info: Epoch 11\n",
      "└ @ ConvGRU /Users/kahingleung/.julia/packages/Flux/sY3yx/src/optimise/train.jl:136\n",
      "┌ Info: Epoch 12\n",
      "└ @ ConvGRU /Users/kahingleung/.julia/packages/Flux/sY3yx/src/optimise/train.jl:136\n"
     ]
    },
    {
     "name": "stdout",
     "output_type": "stream",
     "text": [
      "mse_loss(xtest, ytest) = 0.4311944f0\n"
     ]
    },
    {
     "name": "stderr",
     "output_type": "stream",
     "text": [
      "┌ Info: Epoch 13\n",
      "└ @ ConvGRU /Users/kahingleung/.julia/packages/Flux/sY3yx/src/optimise/train.jl:136\n"
     ]
    },
    {
     "name": "stdout",
     "output_type": "stream",
     "text": [
      "mse_loss(xtest, ytest) = 0.4370663f0\n",
      "mse_loss(xtest, ytest) = 0.43478742f0\n"
     ]
    },
    {
     "name": "stderr",
     "output_type": "stream",
     "text": [
      "┌ Info: Epoch 14\n",
      "└ @ ConvGRU /Users/kahingleung/.julia/packages/Flux/sY3yx/src/optimise/train.jl:136\n"
     ]
    },
    {
     "name": "stdout",
     "output_type": "stream",
     "text": [
      "mse_loss(xtest, ytest) = 0.42969579f0\n"
     ]
    },
    {
     "name": "stderr",
     "output_type": "stream",
     "text": [
      "┌ Info: Epoch 15\n",
      "└ @ ConvGRU /Users/kahingleung/.julia/packages/Flux/sY3yx/src/optimise/train.jl:136\n"
     ]
    },
    {
     "name": "stdout",
     "output_type": "stream",
     "text": [
      "mse_loss(xtest, ytest) = 0.43502444f0\n"
     ]
    },
    {
     "name": "stderr",
     "output_type": "stream",
     "text": [
      "┌ Info: Epoch 16\n",
      "└ @ ConvGRU /Users/kahingleung/.julia/packages/Flux/sY3yx/src/optimise/train.jl:136\n"
     ]
    },
    {
     "name": "stdout",
     "output_type": "stream",
     "text": [
      "mse_loss(xtest, ytest) = 0.42992914f0\n"
     ]
    },
    {
     "name": "stderr",
     "output_type": "stream",
     "text": [
      "┌ Info: Epoch 17\n",
      "└ @ ConvGRU /Users/kahingleung/.julia/packages/Flux/sY3yx/src/optimise/train.jl:136\n"
     ]
    },
    {
     "name": "stdout",
     "output_type": "stream",
     "text": [
      "mse_loss(xtest, ytest) = 0.432767f0\n"
     ]
    },
    {
     "name": "stderr",
     "output_type": "stream",
     "text": [
      "┌ Info: Epoch 18\n",
      "└ @ ConvGRU /Users/kahingleung/.julia/packages/Flux/sY3yx/src/optimise/train.jl:136\n"
     ]
    },
    {
     "name": "stdout",
     "output_type": "stream",
     "text": [
      "mse_loss(xtest, ytest) = 0.42989203f0\n"
     ]
    },
    {
     "name": "stderr",
     "output_type": "stream",
     "text": [
      "┌ Info: Epoch 19\n",
      "└ @ ConvGRU /Users/kahingleung/.julia/packages/Flux/sY3yx/src/optimise/train.jl:136\n"
     ]
    },
    {
     "name": "stdout",
     "output_type": "stream",
     "text": [
      "mse_loss(xtest, ytest) = 0.43226412f0\n"
     ]
    },
    {
     "name": "stderr",
     "output_type": "stream",
     "text": [
      "┌ Info: Epoch 20\n",
      "└ @ ConvGRU /Users/kahingleung/.julia/packages/Flux/sY3yx/src/optimise/train.jl:136\n"
     ]
    },
    {
     "name": "stdout",
     "output_type": "stream",
     "text": [
      "mse_loss(xtest, ytest) = 0.429715f0\n"
     ]
    },
    {
     "name": "stderr",
     "output_type": "stream",
     "text": [
      "┌ Info: Epoch 21\n",
      "└ @ ConvGRU /Users/kahingleung/.julia/packages/Flux/sY3yx/src/optimise/train.jl:136\n"
     ]
    },
    {
     "name": "stdout",
     "output_type": "stream",
     "text": [
      "mse_loss(xtest, ytest) = 0.43141294f0\n"
     ]
    },
    {
     "name": "stderr",
     "output_type": "stream",
     "text": [
      "┌ Info: Epoch 22\n",
      "└ @ ConvGRU /Users/kahingleung/.julia/packages/Flux/sY3yx/src/optimise/train.jl:136\n"
     ]
    },
    {
     "name": "stdout",
     "output_type": "stream",
     "text": [
      "mse_loss(xtest, ytest) = 0.43194103f0\n"
     ]
    },
    {
     "name": "stderr",
     "output_type": "stream",
     "text": [
      "┌ Info: Epoch 23\n",
      "└ @ ConvGRU /Users/kahingleung/.julia/packages/Flux/sY3yx/src/optimise/train.jl:136\n",
      "┌ Info: Epoch 24\n",
      "└ @ ConvGRU /Users/kahingleung/.julia/packages/Flux/sY3yx/src/optimise/train.jl:136\n"
     ]
    },
    {
     "name": "stdout",
     "output_type": "stream",
     "text": [
      "mse_loss(xtest, ytest) = 0.426993f0\n"
     ]
    },
    {
     "name": "stderr",
     "output_type": "stream",
     "text": [
      "┌ Info: Epoch 25\n",
      "└ @ ConvGRU /Users/kahingleung/.julia/packages/Flux/sY3yx/src/optimise/train.jl:136\n"
     ]
    },
    {
     "name": "stdout",
     "output_type": "stream",
     "text": [
      "mse_loss(xtest, ytest) = 0.4280397f0\n"
     ]
    },
    {
     "name": "stderr",
     "output_type": "stream",
     "text": [
      "┌ Info: Epoch 26\n",
      "└ @ ConvGRU /Users/kahingleung/.julia/packages/Flux/sY3yx/src/optimise/train.jl:136\n"
     ]
    },
    {
     "name": "stdout",
     "output_type": "stream",
     "text": [
      "mse_loss(xtest, ytest) = 0.42722479f0\n"
     ]
    },
    {
     "name": "stderr",
     "output_type": "stream",
     "text": [
      "┌ Info: Epoch 27\n",
      "└ @ ConvGRU /Users/kahingleung/.julia/packages/Flux/sY3yx/src/optimise/train.jl:136\n"
     ]
    },
    {
     "name": "stdout",
     "output_type": "stream",
     "text": [
      "mse_loss(xtest, ytest) = 0.42393485f0\n"
     ]
    },
    {
     "name": "stderr",
     "output_type": "stream",
     "text": [
      "┌ Info: Epoch 28\n",
      "└ @ ConvGRU /Users/kahingleung/.julia/packages/Flux/sY3yx/src/optimise/train.jl:136\n"
     ]
    },
    {
     "name": "stdout",
     "output_type": "stream",
     "text": [
      "mse_loss(xtest, ytest) = 0.42857987f0\n"
     ]
    },
    {
     "name": "stderr",
     "output_type": "stream",
     "text": [
      "┌ Info: Epoch 29\n",
      "└ @ ConvGRU /Users/kahingleung/.julia/packages/Flux/sY3yx/src/optimise/train.jl:136\n"
     ]
    },
    {
     "name": "stdout",
     "output_type": "stream",
     "text": [
      "mse_loss(xtest, ytest) = 0.42742255f0\n",
      "mse_loss(xtest, ytest) = 0.4273342f0\n"
     ]
    },
    {
     "name": "stderr",
     "output_type": "stream",
     "text": [
      "┌ Info: Epoch 30\n",
      "└ @ ConvGRU /Users/kahingleung/.julia/packages/Flux/sY3yx/src/optimise/train.jl:136\n"
     ]
    },
    {
     "name": "stdout",
     "output_type": "stream",
     "text": [
      "(250,)\n",
      "myObjective(df, seqlen, Nh, lr, sym * \"-\" * string(i)) = 0.4086017f0\n",
      "181080.01\n",
      "mse_loss(xtest, ytest) = 0.42453888f0\n"
     ]
    },
    {
     "name": "stderr",
     "output_type": "stream",
     "text": [
      "┌ Info: Epoch 1\n",
      "└ @ ConvGRU /Users/kahingleung/.julia/packages/Flux/sY3yx/src/optimise/train.jl:136\n"
     ]
    },
    {
     "name": "stdout",
     "output_type": "stream",
     "text": [
      "mse_loss(xtest, ytest) = 0.89359075f0\n",
      "mse_loss(xtest, ytest) = 0.49351147f0\n"
     ]
    },
    {
     "name": "stderr",
     "output_type": "stream",
     "text": [
      "┌ Info: Epoch 2\n",
      "└ @ ConvGRU /Users/kahingleung/.julia/packages/Flux/sY3yx/src/optimise/train.jl:136\n",
      "┌ Info: Epoch 3\n",
      "└ @ ConvGRU /Users/kahingleung/.julia/packages/Flux/sY3yx/src/optimise/train.jl:136\n"
     ]
    },
    {
     "name": "stdout",
     "output_type": "stream",
     "text": [
      "mse_loss(xtest, ytest) = 0.451982f0\n",
      "mse_loss(xtest, ytest) = 0.42220446f0\n"
     ]
    },
    {
     "name": "stderr",
     "output_type": "stream",
     "text": [
      "┌ Info: Epoch 4\n",
      "└ @ ConvGRU /Users/kahingleung/.julia/packages/Flux/sY3yx/src/optimise/train.jl:136\n"
     ]
    },
    {
     "name": "stdout",
     "output_type": "stream",
     "text": [
      "mse_loss(xtest, ytest) = 0.4136888f0\n"
     ]
    },
    {
     "name": "stderr",
     "output_type": "stream",
     "text": [
      "┌ Info: Epoch 5\n",
      "└ @ ConvGRU /Users/kahingleung/.julia/packages/Flux/sY3yx/src/optimise/train.jl:136\n"
     ]
    },
    {
     "name": "stdout",
     "output_type": "stream",
     "text": [
      "mse_loss(xtest, ytest) = 0.4182788f0\n"
     ]
    },
    {
     "name": "stderr",
     "output_type": "stream",
     "text": [
      "┌ Info: Epoch 6\n",
      "└ @ ConvGRU /Users/kahingleung/.julia/packages/Flux/sY3yx/src/optimise/train.jl:136\n"
     ]
    },
    {
     "name": "stdout",
     "output_type": "stream",
     "text": [
      "mse_loss(xtest, ytest) = 0.41353956f0\n"
     ]
    },
    {
     "name": "stderr",
     "output_type": "stream",
     "text": [
      "┌ Info: Epoch 7\n",
      "└ @ ConvGRU /Users/kahingleung/.julia/packages/Flux/sY3yx/src/optimise/train.jl:136\n"
     ]
    },
    {
     "name": "stdout",
     "output_type": "stream",
     "text": [
      "mse_loss(xtest, ytest) = 0.40103242f0\n"
     ]
    },
    {
     "name": "stderr",
     "output_type": "stream",
     "text": [
      "┌ Info: Epoch 8\n",
      "└ @ ConvGRU /Users/kahingleung/.julia/packages/Flux/sY3yx/src/optimise/train.jl:136\n"
     ]
    },
    {
     "name": "stdout",
     "output_type": "stream",
     "text": [
      "mse_loss(xtest, ytest) = 0.4144613f0\n"
     ]
    },
    {
     "name": "stderr",
     "output_type": "stream",
     "text": [
      "┌ Info: Epoch 9\n",
      "└ @ ConvGRU /Users/kahingleung/.julia/packages/Flux/sY3yx/src/optimise/train.jl:136\n"
     ]
    },
    {
     "name": "stdout",
     "output_type": "stream",
     "text": [
      "mse_loss(xtest, ytest) = 0.40754962f0\n"
     ]
    },
    {
     "name": "stderr",
     "output_type": "stream",
     "text": [
      "┌ Info: Epoch 10\n",
      "└ @ ConvGRU /Users/kahingleung/.julia/packages/Flux/sY3yx/src/optimise/train.jl:136\n"
     ]
    },
    {
     "name": "stdout",
     "output_type": "stream",
     "text": [
      "mse_loss(xtest, ytest) = 0.41247705f0\n"
     ]
    },
    {
     "name": "stderr",
     "output_type": "stream",
     "text": [
      "┌ Info: Epoch 11\n",
      "└ @ ConvGRU /Users/kahingleung/.julia/packages/Flux/sY3yx/src/optimise/train.jl:136\n"
     ]
    },
    {
     "name": "stdout",
     "output_type": "stream",
     "text": [
      "mse_loss(xtest, ytest) = 0.40961808f0\n"
     ]
    },
    {
     "name": "stderr",
     "output_type": "stream",
     "text": [
      "┌ Info: Epoch 12\n",
      "└ @ ConvGRU /Users/kahingleung/.julia/packages/Flux/sY3yx/src/optimise/train.jl:136\n"
     ]
    },
    {
     "name": "stdout",
     "output_type": "stream",
     "text": [
      "mse_loss(xtest, ytest) = 0.41076505f0\n"
     ]
    },
    {
     "name": "stderr",
     "output_type": "stream",
     "text": [
      "┌ Info: Epoch 13\n",
      "└ @ ConvGRU /Users/kahingleung/.julia/packages/Flux/sY3yx/src/optimise/train.jl:136\n"
     ]
    },
    {
     "name": "stdout",
     "output_type": "stream",
     "text": [
      "mse_loss(xtest, ytest) = 0.41375798f0\n"
     ]
    },
    {
     "name": "stderr",
     "output_type": "stream",
     "text": [
      "┌ Info: Epoch 14\n",
      "└ @ ConvGRU /Users/kahingleung/.julia/packages/Flux/sY3yx/src/optimise/train.jl:136\n"
     ]
    },
    {
     "name": "stdout",
     "output_type": "stream",
     "text": [
      "mse_loss(xtest, ytest) = 0.41822568f0\n"
     ]
    },
    {
     "name": "stderr",
     "output_type": "stream",
     "text": [
      "┌ Info: Epoch 15\n",
      "└ @ ConvGRU /Users/kahingleung/.julia/packages/Flux/sY3yx/src/optimise/train.jl:136\n"
     ]
    },
    {
     "name": "stdout",
     "output_type": "stream",
     "text": [
      "mse_loss(xtest, ytest) = 0.4200003f0\n"
     ]
    },
    {
     "name": "stderr",
     "output_type": "stream",
     "text": [
      "┌ Info: Epoch 16\n",
      "└ @ ConvGRU /Users/kahingleung/.julia/packages/Flux/sY3yx/src/optimise/train.jl:136\n"
     ]
    },
    {
     "name": "stdout",
     "output_type": "stream",
     "text": [
      "mse_loss(xtest, ytest) = 0.40763214f0\n"
     ]
    },
    {
     "name": "stderr",
     "output_type": "stream",
     "text": [
      "┌ Info: Epoch 17\n",
      "└ @ ConvGRU /Users/kahingleung/.julia/packages/Flux/sY3yx/src/optimise/train.jl:136\n"
     ]
    },
    {
     "name": "stdout",
     "output_type": "stream",
     "text": [
      "mse_loss(xtest, ytest) = 0.41293868f0\n"
     ]
    },
    {
     "name": "stderr",
     "output_type": "stream",
     "text": [
      "┌ Info: Epoch 18\n",
      "└ @ ConvGRU /Users/kahingleung/.julia/packages/Flux/sY3yx/src/optimise/train.jl:136\n"
     ]
    },
    {
     "name": "stdout",
     "output_type": "stream",
     "text": [
      "mse_loss(xtest, ytest) = 0.4076553f0\n"
     ]
    },
    {
     "name": "stderr",
     "output_type": "stream",
     "text": [
      "┌ Info: Epoch 19\n",
      "└ @ ConvGRU /Users/kahingleung/.julia/packages/Flux/sY3yx/src/optimise/train.jl:136\n"
     ]
    },
    {
     "name": "stdout",
     "output_type": "stream",
     "text": [
      "mse_loss(xtest, ytest) = 0.40941235f0\n"
     ]
    },
    {
     "name": "stderr",
     "output_type": "stream",
     "text": [
      "┌ Info: Epoch 20\n",
      "└ @ ConvGRU /Users/kahingleung/.julia/packages/Flux/sY3yx/src/optimise/train.jl:136\n"
     ]
    },
    {
     "name": "stdout",
     "output_type": "stream",
     "text": [
      "mse_loss(xtest, ytest) = 0.41142496f0\n"
     ]
    },
    {
     "name": "stderr",
     "output_type": "stream",
     "text": [
      "┌ Info: Epoch 21\n",
      "└ @ ConvGRU /Users/kahingleung/.julia/packages/Flux/sY3yx/src/optimise/train.jl:136\n",
      "┌ Info: Epoch 22\n",
      "└ @ ConvGRU /Users/kahingleung/.julia/packages/Flux/sY3yx/src/optimise/train.jl:136\n"
     ]
    },
    {
     "name": "stdout",
     "output_type": "stream",
     "text": [
      "mse_loss(xtest, ytest) = 0.4058462f0\n",
      "mse_loss(xtest, ytest) = 0.40604275f0\n"
     ]
    },
    {
     "name": "stderr",
     "output_type": "stream",
     "text": [
      "┌ Info: Epoch 23\n",
      "└ @ ConvGRU /Users/kahingleung/.julia/packages/Flux/sY3yx/src/optimise/train.jl:136\n"
     ]
    },
    {
     "name": "stdout",
     "output_type": "stream",
     "text": [
      "mse_loss(xtest, ytest) = 0.413193f0\n"
     ]
    },
    {
     "name": "stderr",
     "output_type": "stream",
     "text": [
      "┌ Info: Epoch 24\n",
      "└ @ ConvGRU /Users/kahingleung/.julia/packages/Flux/sY3yx/src/optimise/train.jl:136\n"
     ]
    },
    {
     "name": "stdout",
     "output_type": "stream",
     "text": [
      "mse_loss(xtest, ytest) = 0.40709063f0\n"
     ]
    },
    {
     "name": "stderr",
     "output_type": "stream",
     "text": [
      "┌ Info: Epoch 25\n",
      "└ @ ConvGRU /Users/kahingleung/.julia/packages/Flux/sY3yx/src/optimise/train.jl:136\n"
     ]
    },
    {
     "name": "stdout",
     "output_type": "stream",
     "text": [
      "mse_loss(xtest, ytest) = 0.4050248f0\n"
     ]
    },
    {
     "name": "stderr",
     "output_type": "stream",
     "text": [
      "┌ Info: Epoch 26\n",
      "└ @ ConvGRU /Users/kahingleung/.julia/packages/Flux/sY3yx/src/optimise/train.jl:136\n"
     ]
    },
    {
     "name": "stdout",
     "output_type": "stream",
     "text": [
      "mse_loss(xtest, ytest) = 0.40354896f0\n"
     ]
    },
    {
     "name": "stderr",
     "output_type": "stream",
     "text": [
      "┌ Info: Epoch 27\n",
      "└ @ ConvGRU /Users/kahingleung/.julia/packages/Flux/sY3yx/src/optimise/train.jl:136\n"
     ]
    },
    {
     "name": "stdout",
     "output_type": "stream",
     "text": [
      "mse_loss(xtest, ytest) = 0.410273f0\n"
     ]
    },
    {
     "name": "stderr",
     "output_type": "stream",
     "text": [
      "┌ Info: Epoch 28\n",
      "└ @ ConvGRU /Users/kahingleung/.julia/packages/Flux/sY3yx/src/optimise/train.jl:136\n"
     ]
    },
    {
     "name": "stdout",
     "output_type": "stream",
     "text": [
      "mse_loss(xtest, ytest) = 0.40221858f0\n"
     ]
    },
    {
     "name": "stderr",
     "output_type": "stream",
     "text": [
      "┌ Info: Epoch 29\n",
      "└ @ ConvGRU /Users/kahingleung/.julia/packages/Flux/sY3yx/src/optimise/train.jl:136\n",
      "┌ Info: Epoch 30\n",
      "└ @ ConvGRU /Users/kahingleung/.julia/packages/Flux/sY3yx/src/optimise/train.jl:136\n"
     ]
    },
    {
     "name": "stdout",
     "output_type": "stream",
     "text": [
      "mse_loss(xtest, ytest) = 0.40186745f0\n",
      "(250,)\n",
      "myObjective(df, seqlen, Nh, lr, sym * \"-\" * string(i)) = 0.40141803f0\n",
      "192580.0027825594022071257\n",
      "mse_loss(xtest, ytest) = 1.0095994f0\n",
      "mse_loss(xtest, ytest) = 0.80497056f0\n"
     ]
    },
    {
     "name": "stderr",
     "output_type": "stream",
     "text": [
      "┌ Info: Epoch 1\n",
      "└ @ ConvGRU /Users/kahingleung/.julia/packages/Flux/sY3yx/src/optimise/train.jl:136\n",
      "┌ Info: Epoch 2\n",
      "└ @ ConvGRU /Users/kahingleung/.julia/packages/Flux/sY3yx/src/optimise/train.jl:136\n"
     ]
    },
    {
     "name": "stdout",
     "output_type": "stream",
     "text": [
      "mse_loss(xtest, ytest) = 0.43391064f0\n",
      "mse_loss(xtest, ytest) = 0.42802316f0\n"
     ]
    },
    {
     "name": "stderr",
     "output_type": "stream",
     "text": [
      "┌ Info: Epoch 3\n",
      "└ @ ConvGRU /Users/kahingleung/.julia/packages/Flux/sY3yx/src/optimise/train.jl:136\n"
     ]
    },
    {
     "name": "stdout",
     "output_type": "stream",
     "text": [
      "mse_loss(xtest, ytest) = 0.4242634f0\n"
     ]
    },
    {
     "name": "stderr",
     "output_type": "stream",
     "text": [
      "┌ Info: Epoch 4\n",
      "└ @ ConvGRU /Users/kahingleung/.julia/packages/Flux/sY3yx/src/optimise/train.jl:136\n"
     ]
    },
    {
     "name": "stdout",
     "output_type": "stream",
     "text": [
      "mse_loss(xtest, ytest) = 0.42039272f0\n"
     ]
    },
    {
     "name": "stderr",
     "output_type": "stream",
     "text": [
      "┌ Info: Epoch 5\n",
      "└ @ ConvGRU /Users/kahingleung/.julia/packages/Flux/sY3yx/src/optimise/train.jl:136\n"
     ]
    },
    {
     "name": "stdout",
     "output_type": "stream",
     "text": [
      "mse_loss(xtest, ytest) = 0.42718285f0\n"
     ]
    },
    {
     "name": "stderr",
     "output_type": "stream",
     "text": [
      "┌ Info: Epoch 6\n",
      "└ @ ConvGRU /Users/kahingleung/.julia/packages/Flux/sY3yx/src/optimise/train.jl:136\n",
      "┌ Info: Epoch 7\n",
      "└ @ ConvGRU /Users/kahingleung/.julia/packages/Flux/sY3yx/src/optimise/train.jl:136\n"
     ]
    },
    {
     "name": "stdout",
     "output_type": "stream",
     "text": [
      "mse_loss(xtest, ytest) = 0.43248156f0\n",
      "mse_loss(xtest, ytest) = 0.43375957f0\n"
     ]
    },
    {
     "name": "stderr",
     "output_type": "stream",
     "text": [
      "┌ Info: Epoch 8\n",
      "└ @ ConvGRU /Users/kahingleung/.julia/packages/Flux/sY3yx/src/optimise/train.jl:136\n"
     ]
    },
    {
     "name": "stdout",
     "output_type": "stream",
     "text": [
      "mse_loss(xtest, ytest) = 0.4296124f0\n"
     ]
    },
    {
     "name": "stderr",
     "output_type": "stream",
     "text": [
      "┌ Info: Epoch 9\n",
      "└ @ ConvGRU /Users/kahingleung/.julia/packages/Flux/sY3yx/src/optimise/train.jl:136\n",
      "┌ Info: Epoch 10\n",
      "└ @ ConvGRU /Users/kahingleung/.julia/packages/Flux/sY3yx/src/optimise/train.jl:136\n"
     ]
    },
    {
     "name": "stdout",
     "output_type": "stream",
     "text": [
      "mse_loss(xtest, ytest) = 0.4198144f0\n",
      "mse_loss(xtest, ytest) = 0.42687497f0\n"
     ]
    },
    {
     "name": "stderr",
     "output_type": "stream",
     "text": [
      "┌ Info: Epoch 11\n",
      "└ @ ConvGRU /Users/kahingleung/.julia/packages/Flux/sY3yx/src/optimise/train.jl:136\n"
     ]
    },
    {
     "name": "stdout",
     "output_type": "stream",
     "text": [
      "mse_loss(xtest, ytest) = 0.4314537f0\n"
     ]
    },
    {
     "name": "stderr",
     "output_type": "stream",
     "text": [
      "┌ Info: Epoch 12\n",
      "└ @ ConvGRU /Users/kahingleung/.julia/packages/Flux/sY3yx/src/optimise/train.jl:136\n"
     ]
    },
    {
     "name": "stdout",
     "output_type": "stream",
     "text": [
      "mse_loss(xtest, ytest) = 0.42466795f0\n"
     ]
    },
    {
     "name": "stderr",
     "output_type": "stream",
     "text": [
      "┌ Info: Epoch 13\n",
      "└ @ ConvGRU /Users/kahingleung/.julia/packages/Flux/sY3yx/src/optimise/train.jl:136\n"
     ]
    },
    {
     "name": "stdout",
     "output_type": "stream",
     "text": [
      "mse_loss(xtest, ytest) = 0.42529598f0\n"
     ]
    },
    {
     "name": "stderr",
     "output_type": "stream",
     "text": [
      "┌ Info: Epoch 14\n",
      "└ @ ConvGRU /Users/kahingleung/.julia/packages/Flux/sY3yx/src/optimise/train.jl:136\n"
     ]
    },
    {
     "name": "stdout",
     "output_type": "stream",
     "text": [
      "mse_loss(xtest, ytest) = 0.43332523f0\n"
     ]
    },
    {
     "name": "stderr",
     "output_type": "stream",
     "text": [
      "┌ Info: Epoch 15\n",
      "└ @ ConvGRU /Users/kahingleung/.julia/packages/Flux/sY3yx/src/optimise/train.jl:136\n"
     ]
    },
    {
     "name": "stdout",
     "output_type": "stream",
     "text": [
      "mse_loss(xtest, ytest) = 0.42799234f0\n"
     ]
    },
    {
     "name": "stderr",
     "output_type": "stream",
     "text": [
      "┌ Info: Epoch 16\n",
      "└ @ ConvGRU /Users/kahingleung/.julia/packages/Flux/sY3yx/src/optimise/train.jl:136\n",
      "┌ Info: Epoch 17\n",
      "└ @ ConvGRU /Users/kahingleung/.julia/packages/Flux/sY3yx/src/optimise/train.jl:136\n"
     ]
    },
    {
     "name": "stdout",
     "output_type": "stream",
     "text": [
      "mse_loss(xtest, ytest) = 0.4332024f0\n"
     ]
    },
    {
     "name": "stderr",
     "output_type": "stream",
     "text": [
      "┌ Info: Epoch 18\n",
      "└ @ ConvGRU /Users/kahingleung/.julia/packages/Flux/sY3yx/src/optimise/train.jl:136\n"
     ]
    },
    {
     "name": "stdout",
     "output_type": "stream",
     "text": [
      "mse_loss(xtest, ytest) = 0.43051678f0\n",
      "mse_loss(xtest, ytest) = 0.4296089f0\n"
     ]
    },
    {
     "name": "stderr",
     "output_type": "stream",
     "text": [
      "┌ Info: Epoch 19\n",
      "└ @ ConvGRU /Users/kahingleung/.julia/packages/Flux/sY3yx/src/optimise/train.jl:136\n",
      "┌ Info: Epoch 20\n",
      "└ @ ConvGRU /Users/kahingleung/.julia/packages/Flux/sY3yx/src/optimise/train.jl:136\n"
     ]
    },
    {
     "name": "stdout",
     "output_type": "stream",
     "text": [
      "mse_loss(xtest, ytest) = 0.42798784f0\n",
      "mse_loss(xtest, ytest) = 0.42818528f0\n"
     ]
    },
    {
     "name": "stderr",
     "output_type": "stream",
     "text": [
      "┌ Info: Epoch 21\n",
      "└ @ ConvGRU /Users/kahingleung/.julia/packages/Flux/sY3yx/src/optimise/train.jl:136\n"
     ]
    },
    {
     "name": "stdout",
     "output_type": "stream",
     "text": [
      "mse_loss(xtest, ytest) = 0.42698202f0\n"
     ]
    },
    {
     "name": "stderr",
     "output_type": "stream",
     "text": [
      "┌ Info: Epoch 22\n",
      "└ @ ConvGRU /Users/kahingleung/.julia/packages/Flux/sY3yx/src/optimise/train.jl:136\n",
      "┌ Info: Epoch 23\n",
      "└ @ ConvGRU /Users/kahingleung/.julia/packages/Flux/sY3yx/src/optimise/train.jl:136\n"
     ]
    },
    {
     "name": "stdout",
     "output_type": "stream",
     "text": [
      "mse_loss(xtest, ytest) = 0.4267998f0\n",
      "mse_loss(xtest, ytest) = 0.42592248f0\n"
     ]
    },
    {
     "name": "stderr",
     "output_type": "stream",
     "text": [
      "┌ Info: Epoch 24\n",
      "└ @ ConvGRU /Users/kahingleung/.julia/packages/Flux/sY3yx/src/optimise/train.jl:136\n"
     ]
    },
    {
     "name": "stdout",
     "output_type": "stream",
     "text": [
      "mse_loss(xtest, ytest) = 0.42439687f0\n"
     ]
    },
    {
     "name": "stderr",
     "output_type": "stream",
     "text": [
      "┌ Info: Epoch 25\n",
      "└ @ ConvGRU /Users/kahingleung/.julia/packages/Flux/sY3yx/src/optimise/train.jl:136\n"
     ]
    },
    {
     "name": "stdout",
     "output_type": "stream",
     "text": [
      "mse_loss(xtest, ytest) = 0.42386585f0\n"
     ]
    },
    {
     "name": "stderr",
     "output_type": "stream",
     "text": [
      "┌ Info: Epoch 26\n",
      "└ @ ConvGRU /Users/kahingleung/.julia/packages/Flux/sY3yx/src/optimise/train.jl:136\n"
     ]
    },
    {
     "name": "stdout",
     "output_type": "stream",
     "text": [
      "mse_loss(xtest, ytest) = 0.42584497f0\n"
     ]
    },
    {
     "name": "stderr",
     "output_type": "stream",
     "text": [
      "┌ Info: Epoch 27\n",
      "└ @ ConvGRU /Users/kahingleung/.julia/packages/Flux/sY3yx/src/optimise/train.jl:136\n",
      "┌ Info: Epoch 28\n",
      "└ @ ConvGRU /Users/kahingleung/.julia/packages/Flux/sY3yx/src/optimise/train.jl:136\n"
     ]
    },
    {
     "name": "stdout",
     "output_type": "stream",
     "text": [
      "mse_loss(xtest, ytest) = 0.4207432f0\n",
      "mse_loss(xtest, ytest) = 0.42697898f0\n"
     ]
    },
    {
     "name": "stderr",
     "output_type": "stream",
     "text": [
      "┌ Info: Epoch 29\n",
      "└ @ ConvGRU /Users/kahingleung/.julia/packages/Flux/sY3yx/src/optimise/train.jl:136\n"
     ]
    },
    {
     "name": "stdout",
     "output_type": "stream",
     "text": [
      "mse_loss(xtest, ytest) = 0.42258793f0\n"
     ]
    },
    {
     "name": "stderr",
     "output_type": "stream",
     "text": [
      "┌ Info: Epoch 30\n",
      "└ @ ConvGRU /Users/kahingleung/.julia/packages/Flux/sY3yx/src/optimise/train.jl:136\n"
     ]
    },
    {
     "name": "stdout",
     "output_type": "stream",
     "text": [
      "(250,)\n",
      "myObjective(df, seqlen, Nh, lr, sym * \"-\" * string(i)) = 0.4091328f0\n",
      "203020.0021544346900318843\n",
      "mse_loss(xtest, ytest) = 0.8886281f0\n",
      "mse_loss(xtest, ytest) = 0.8650982f0\n"
     ]
    },
    {
     "name": "stderr",
     "output_type": "stream",
     "text": [
      "┌ Info: Epoch 1\n",
      "└ @ ConvGRU /Users/kahingleung/.julia/packages/Flux/sY3yx/src/optimise/train.jl:136\n"
     ]
    },
    {
     "name": "stdout",
     "output_type": "stream",
     "text": [
      "mse_loss(xtest, ytest) = 0.60215867f0\n"
     ]
    },
    {
     "name": "stderr",
     "output_type": "stream",
     "text": [
      "┌ Info: Epoch 2\n",
      "└ @ ConvGRU /Users/kahingleung/.julia/packages/Flux/sY3yx/src/optimise/train.jl:136\n"
     ]
    },
    {
     "name": "stdout",
     "output_type": "stream",
     "text": [
      "mse_loss(xtest, ytest) = 0.44657767f0\n"
     ]
    },
    {
     "name": "stderr",
     "output_type": "stream",
     "text": [
      "┌ Info: Epoch 3\n",
      "└ @ ConvGRU /Users/kahingleung/.julia/packages/Flux/sY3yx/src/optimise/train.jl:136\n"
     ]
    },
    {
     "name": "stdout",
     "output_type": "stream",
     "text": [
      "mse_loss(xtest, ytest) = 0.41192016f0\n"
     ]
    },
    {
     "name": "stderr",
     "output_type": "stream",
     "text": [
      "┌ Info: Epoch 4\n",
      "└ @ ConvGRU /Users/kahingleung/.julia/packages/Flux/sY3yx/src/optimise/train.jl:136\n"
     ]
    },
    {
     "name": "stdout",
     "output_type": "stream",
     "text": [
      "mse_loss(xtest, ytest) = 0.4083572f0\n"
     ]
    },
    {
     "name": "stderr",
     "output_type": "stream",
     "text": [
      "┌ Info: Epoch 5\n",
      "└ @ ConvGRU /Users/kahingleung/.julia/packages/Flux/sY3yx/src/optimise/train.jl:136\n",
      "┌ Info: Epoch 6\n",
      "└ @ ConvGRU /Users/kahingleung/.julia/packages/Flux/sY3yx/src/optimise/train.jl:136\n"
     ]
    },
    {
     "name": "stdout",
     "output_type": "stream",
     "text": [
      "mse_loss(xtest, ytest) = 0.40886623f0\n",
      "mse_loss(xtest, ytest) = 0.4067246f0\n"
     ]
    },
    {
     "name": "stderr",
     "output_type": "stream",
     "text": [
      "┌ Info: Epoch 7\n",
      "└ @ ConvGRU /Users/kahingleung/.julia/packages/Flux/sY3yx/src/optimise/train.jl:136\n"
     ]
    },
    {
     "name": "stdout",
     "output_type": "stream",
     "text": [
      "mse_loss(xtest, ytest) = 0.4073132f0\n"
     ]
    },
    {
     "name": "stderr",
     "output_type": "stream",
     "text": [
      "┌ Info: Epoch 8\n",
      "└ @ ConvGRU /Users/kahingleung/.julia/packages/Flux/sY3yx/src/optimise/train.jl:136\n"
     ]
    },
    {
     "name": "stdout",
     "output_type": "stream",
     "text": [
      "mse_loss(xtest, ytest) = 0.4075342f0\n"
     ]
    },
    {
     "name": "stderr",
     "output_type": "stream",
     "text": [
      "┌ Info: Epoch 9\n",
      "└ @ ConvGRU /Users/kahingleung/.julia/packages/Flux/sY3yx/src/optimise/train.jl:136\n"
     ]
    },
    {
     "name": "stdout",
     "output_type": "stream",
     "text": [
      "mse_loss(xtest, ytest) = 0.40767133f0\n"
     ]
    },
    {
     "name": "stderr",
     "output_type": "stream",
     "text": [
      "┌ Info: Epoch 10\n",
      "└ @ ConvGRU /Users/kahingleung/.julia/packages/Flux/sY3yx/src/optimise/train.jl:136\n"
     ]
    },
    {
     "name": "stdout",
     "output_type": "stream",
     "text": [
      "mse_loss(xtest, ytest) = 0.40768418f0"
     ]
    },
    {
     "name": "stderr",
     "output_type": "stream",
     "text": [
      "┌ Info: Epoch 11\n",
      "└ @ ConvGRU /Users/kahingleung/.julia/packages/Flux/sY3yx/src/optimise/train.jl:136\n"
     ]
    },
    {
     "name": "stdout",
     "output_type": "stream",
     "text": [
      "\n"
     ]
    },
    {
     "name": "stderr",
     "output_type": "stream",
     "text": [
      "┌ Info: Epoch 12\n",
      "└ @ ConvGRU /Users/kahingleung/.julia/packages/Flux/sY3yx/src/optimise/train.jl:136\n"
     ]
    },
    {
     "name": "stdout",
     "output_type": "stream",
     "text": [
      "mse_loss(xtest, ytest) = 0.40769717f0\n",
      "mse_loss(xtest, ytest) = 0.40705156f0\n"
     ]
    },
    {
     "name": "stderr",
     "output_type": "stream",
     "text": [
      "┌ Info: Epoch 13\n",
      "└ @ ConvGRU /Users/kahingleung/.julia/packages/Flux/sY3yx/src/optimise/train.jl:136\n"
     ]
    },
    {
     "name": "stdout",
     "output_type": "stream",
     "text": [
      "mse_loss(xtest, ytest) = 0.40753016f0\n"
     ]
    },
    {
     "name": "stderr",
     "output_type": "stream",
     "text": [
      "┌ Info: Epoch 14\n",
      "└ @ ConvGRU /Users/kahingleung/.julia/packages/Flux/sY3yx/src/optimise/train.jl:136\n"
     ]
    },
    {
     "name": "stdout",
     "output_type": "stream",
     "text": [
      "mse_loss(xtest, ytest) = 0.40707332f0\n"
     ]
    },
    {
     "name": "stderr",
     "output_type": "stream",
     "text": [
      "┌ Info: Epoch 15\n",
      "└ @ ConvGRU /Users/kahingleung/.julia/packages/Flux/sY3yx/src/optimise/train.jl:136\n",
      "┌ Info: Epoch 16\n",
      "└ @ ConvGRU /Users/kahingleung/.julia/packages/Flux/sY3yx/src/optimise/train.jl:136\n"
     ]
    },
    {
     "name": "stdout",
     "output_type": "stream",
     "text": [
      "mse_loss(xtest, ytest) = 0.4070546f0\n",
      "mse_loss(xtest, ytest) = 0.40779376f0\n"
     ]
    },
    {
     "name": "stderr",
     "output_type": "stream",
     "text": [
      "┌ Info: Epoch 17\n",
      "└ @ ConvGRU /Users/kahingleung/.julia/packages/Flux/sY3yx/src/optimise/train.jl:136\n"
     ]
    },
    {
     "name": "stdout",
     "output_type": "stream",
     "text": [
      "mse_loss(xtest, ytest) = 0.4077419f0\n"
     ]
    },
    {
     "name": "stderr",
     "output_type": "stream",
     "text": [
      "┌ Info: Epoch 18\n",
      "└ @ ConvGRU /Users/kahingleung/.julia/packages/Flux/sY3yx/src/optimise/train.jl:136\n"
     ]
    },
    {
     "name": "stdout",
     "output_type": "stream",
     "text": [
      "mse_loss(xtest, ytest) = 0.40730822f0\n"
     ]
    },
    {
     "name": "stderr",
     "output_type": "stream",
     "text": [
      "┌ Info: Epoch 19\n",
      "└ @ ConvGRU /Users/kahingleung/.julia/packages/Flux/sY3yx/src/optimise/train.jl:136\n"
     ]
    },
    {
     "name": "stdout",
     "output_type": "stream",
     "text": [
      "mse_loss(xtest, ytest) = 0.4068978f0\n"
     ]
    },
    {
     "name": "stderr",
     "output_type": "stream",
     "text": [
      "┌ Info: Epoch 20\n",
      "└ @ ConvGRU /Users/kahingleung/.julia/packages/Flux/sY3yx/src/optimise/train.jl:136\n",
      "┌ Info: Epoch 21\n",
      "└ @ ConvGRU /Users/kahingleung/.julia/packages/Flux/sY3yx/src/optimise/train.jl:136\n"
     ]
    },
    {
     "name": "stdout",
     "output_type": "stream",
     "text": [
      "mse_loss(xtest, ytest) = 0.40645328f0\n"
     ]
    },
    {
     "name": "stderr",
     "output_type": "stream",
     "text": [
      "┌ Info: Epoch 22\n",
      "└ @ ConvGRU /Users/kahingleung/.julia/packages/Flux/sY3yx/src/optimise/train.jl:136\n"
     ]
    },
    {
     "name": "stdout",
     "output_type": "stream",
     "text": [
      "mse_loss(xtest, ytest) = 0.4057617f0\n",
      "mse_loss(xtest, ytest) = 0.40586442f0\n"
     ]
    },
    {
     "name": "stderr",
     "output_type": "stream",
     "text": [
      "┌ Info: Epoch 23\n",
      "└ @ ConvGRU /Users/kahingleung/.julia/packages/Flux/sY3yx/src/optimise/train.jl:136\n"
     ]
    },
    {
     "name": "stdout",
     "output_type": "stream",
     "text": [
      "mse_loss(xtest, ytest) = 0.40567985f0\n"
     ]
    },
    {
     "name": "stderr",
     "output_type": "stream",
     "text": [
      "┌ Info: Epoch 24\n",
      "└ @ ConvGRU /Users/kahingleung/.julia/packages/Flux/sY3yx/src/optimise/train.jl:136\n"
     ]
    },
    {
     "name": "stdout",
     "output_type": "stream",
     "text": [
      "mse_loss(xtest, ytest) = 0.40623176f0\n"
     ]
    },
    {
     "name": "stderr",
     "output_type": "stream",
     "text": [
      "┌ Info: Epoch 25\n",
      "└ @ ConvGRU /Users/kahingleung/.julia/packages/Flux/sY3yx/src/optimise/train.jl:136\n"
     ]
    },
    {
     "name": "stdout",
     "output_type": "stream",
     "text": [
      "mse_loss(xtest, ytest) = 0.405802f0\n"
     ]
    },
    {
     "name": "stderr",
     "output_type": "stream",
     "text": [
      "┌ Info: Epoch 26\n",
      "└ @ ConvGRU /Users/kahingleung/.julia/packages/Flux/sY3yx/src/optimise/train.jl:136\n",
      "┌ Info: Epoch 27\n",
      "└ @ ConvGRU /Users/kahingleung/.julia/packages/Flux/sY3yx/src/optimise/train.jl:136\n"
     ]
    },
    {
     "name": "stdout",
     "output_type": "stream",
     "text": [
      "mse_loss(xtest, ytest) = 0.40581393f0\n"
     ]
    },
    {
     "name": "stderr",
     "output_type": "stream",
     "text": [
      "┌ Info: Epoch 28\n",
      "└ @ ConvGRU /Users/kahingleung/.julia/packages/Flux/sY3yx/src/optimise/train.jl:136\n"
     ]
    },
    {
     "name": "stdout",
     "output_type": "stream",
     "text": [
      "mse_loss(xtest, ytest) = 0.40594804f0\n",
      "mse_loss(xtest, ytest) = 0.40587586f0\n"
     ]
    },
    {
     "name": "stderr",
     "output_type": "stream",
     "text": [
      "┌ Info: Epoch 29\n",
      "└ @ ConvGRU /Users/kahingleung/.julia/packages/Flux/sY3yx/src/optimise/train.jl:136\n"
     ]
    },
    {
     "name": "stdout",
     "output_type": "stream",
     "text": [
      "mse_loss(xtest, ytest) = 0.40551066f0\n"
     ]
    },
    {
     "name": "stderr",
     "output_type": "stream",
     "text": [
      "┌ Info: Epoch 30\n",
      "└ @ ConvGRU /Users/kahingleung/.julia/packages/Flux/sY3yx/src/optimise/train.jl:136\n"
     ]
    },
    {
     "name": "stdout",
     "output_type": "stream",
     "text": [
      "(250,)\n",
      "myObjective(df, seqlen, Nh, lr, sym * \"-\" * string(i)) = 0.4040721f0\n",
      "mse_loss(xtest, ytest) = 1.2007055f0\n",
      "mse_loss(xtest, ytest) = 0.9143949f0\n"
     ]
    },
    {
     "name": "stderr",
     "output_type": "stream",
     "text": [
      "┌ Info: Epoch 1\n",
      "└ @ ConvGRU /Users/kahingleung/.julia/packages/Flux/sY3yx/src/optimise/train.jl:136\n"
     ]
    },
    {
     "name": "stdout",
     "output_type": "stream",
     "text": [
      "mse_loss(xtest, ytest) = 0.45624152f0\n"
     ]
    },
    {
     "name": "stderr",
     "output_type": "stream",
     "text": [
      "┌ Info: Epoch 2\n",
      "└ @ ConvGRU /Users/kahingleung/.julia/packages/Flux/sY3yx/src/optimise/train.jl:136\n",
      "┌ Info: Epoch 3\n",
      "└ @ ConvGRU /Users/kahingleung/.julia/packages/Flux/sY3yx/src/optimise/train.jl:136\n"
     ]
    },
    {
     "name": "stdout",
     "output_type": "stream",
     "text": [
      "mse_loss(xtest, ytest) = 0.44209304f0\n",
      "mse_loss(xtest, ytest) = 0.43795022f0\n"
     ]
    },
    {
     "name": "stderr",
     "output_type": "stream",
     "text": [
      "┌ Info: Epoch 4\n",
      "└ @ ConvGRU /Users/kahingleung/.julia/packages/Flux/sY3yx/src/optimise/train.jl:136\n",
      "┌ Info: Epoch 5\n",
      "└ @ ConvGRU /Users/kahingleung/.julia/packages/Flux/sY3yx/src/optimise/train.jl:136\n"
     ]
    },
    {
     "name": "stdout",
     "output_type": "stream",
     "text": [
      "mse_loss(xtest, ytest) = 0.44524014f0\n",
      "mse_loss(xtest, ytest) = 0.43891948f0\n"
     ]
    },
    {
     "name": "stderr",
     "output_type": "stream",
     "text": [
      "┌ Info: Epoch 6\n",
      "└ @ ConvGRU /Users/kahingleung/.julia/packages/Flux/sY3yx/src/optimise/train.jl:136\n",
      "┌ Info: Epoch 7\n",
      "└ @ ConvGRU /Users/kahingleung/.julia/packages/Flux/sY3yx/src/optimise/train.jl:136\n"
     ]
    },
    {
     "name": "stdout",
     "output_type": "stream",
     "text": [
      "mse_loss(xtest, ytest) = 0.4480979f0\n",
      "mse_loss(xtest, ytest) = 0.4401483f0\n"
     ]
    },
    {
     "name": "stderr",
     "output_type": "stream",
     "text": [
      "┌ Info: Epoch 8\n",
      "└ @ ConvGRU /Users/kahingleung/.julia/packages/Flux/sY3yx/src/optimise/train.jl:136\n"
     ]
    },
    {
     "name": "stdout",
     "output_type": "stream",
     "text": [
      "mse_loss(xtest, ytest) = 0.44705915f0\n"
     ]
    },
    {
     "name": "stderr",
     "output_type": "stream",
     "text": [
      "┌ Info: Epoch 9\n",
      "└ @ ConvGRU /Users/kahingleung/.julia/packages/Flux/sY3yx/src/optimise/train.jl:136\n"
     ]
    },
    {
     "name": "stdout",
     "output_type": "stream",
     "text": [
      "mse_loss(xtest, ytest) = 0.43695292f0\n"
     ]
    },
    {
     "name": "stderr",
     "output_type": "stream",
     "text": [
      "┌ Info: Epoch 10\n",
      "└ @ ConvGRU /Users/kahingleung/.julia/packages/Flux/sY3yx/src/optimise/train.jl:136\n"
     ]
    },
    {
     "name": "stdout",
     "output_type": "stream",
     "text": [
      "mse_loss(xtest, ytest) = 0.44637337f0\n"
     ]
    },
    {
     "name": "stderr",
     "output_type": "stream",
     "text": [
      "┌ Info: Epoch 11\n",
      "└ @ ConvGRU /Users/kahingleung/.julia/packages/Flux/sY3yx/src/optimise/train.jl:136\n",
      "┌ Info: Epoch 12\n",
      "└ @ ConvGRU /Users/kahingleung/.julia/packages/Flux/sY3yx/src/optimise/train.jl:136\n"
     ]
    },
    {
     "name": "stdout",
     "output_type": "stream",
     "text": [
      "mse_loss(xtest, ytest) = 0.44331694f0\n",
      "mse_loss(xtest, ytest) = 0.4420507f0\n"
     ]
    },
    {
     "name": "stderr",
     "output_type": "stream",
     "text": [
      "┌ Info: Epoch 13\n",
      "└ @ ConvGRU /Users/kahingleung/.julia/packages/Flux/sY3yx/src/optimise/train.jl:136\n"
     ]
    },
    {
     "name": "stdout",
     "output_type": "stream",
     "text": [
      "mse_loss(xtest, ytest) = 0.43109652f0\n"
     ]
    },
    {
     "name": "stderr",
     "output_type": "stream",
     "text": [
      "┌ Info: Epoch 14\n",
      "└ @ ConvGRU /Users/kahingleung/.julia/packages/Flux/sY3yx/src/optimise/train.jl:136\n"
     ]
    },
    {
     "name": "stdout",
     "output_type": "stream",
     "text": [
      "mse_loss(xtest, ytest) = 0.43456045f0\n"
     ]
    },
    {
     "name": "stderr",
     "output_type": "stream",
     "text": [
      "┌ Info: Epoch 15\n",
      "└ @ ConvGRU /Users/kahingleung/.julia/packages/Flux/sY3yx/src/optimise/train.jl:136\n"
     ]
    },
    {
     "name": "stdout",
     "output_type": "stream",
     "text": [
      "mse_loss(xtest, ytest) = 0.43246585f0\n"
     ]
    },
    {
     "name": "stderr",
     "output_type": "stream",
     "text": [
      "┌ Info: Epoch 16\n",
      "└ @ ConvGRU /Users/kahingleung/.julia/packages/Flux/sY3yx/src/optimise/train.jl:136\n"
     ]
    },
    {
     "name": "stdout",
     "output_type": "stream",
     "text": [
      "mse_loss(xtest, ytest) = 0.43441924f0\n"
     ]
    },
    {
     "name": "stderr",
     "output_type": "stream",
     "text": [
      "┌ Info: Epoch 17\n",
      "└ @ ConvGRU /Users/kahingleung/.julia/packages/Flux/sY3yx/src/optimise/train.jl:136\n"
     ]
    },
    {
     "name": "stdout",
     "output_type": "stream",
     "text": [
      "mse_loss(xtest, ytest) = 0.42822617f0\n"
     ]
    },
    {
     "name": "stderr",
     "output_type": "stream",
     "text": [
      "┌ Info: Epoch 18\n",
      "└ @ ConvGRU /Users/kahingleung/.julia/packages/Flux/sY3yx/src/optimise/train.jl:136\n",
      "┌ Info: Epoch 19\n",
      "└ @ ConvGRU /Users/kahingleung/.julia/packages/Flux/sY3yx/src/optimise/train.jl:136\n"
     ]
    },
    {
     "name": "stdout",
     "output_type": "stream",
     "text": [
      "mse_loss(xtest, ytest) = 0.44255692f0\n",
      "mse_loss(xtest, ytest) = 0.44017398f0\n"
     ]
    },
    {
     "name": "stderr",
     "output_type": "stream",
     "text": [
      "┌ Info: Epoch 20\n",
      "└ @ ConvGRU /Users/kahingleung/.julia/packages/Flux/sY3yx/src/optimise/train.jl:136\n",
      "┌ Info: Epoch 21\n",
      "└ @ ConvGRU /Users/kahingleung/.julia/packages/Flux/sY3yx/src/optimise/train.jl:136\n"
     ]
    },
    {
     "name": "stdout",
     "output_type": "stream",
     "text": [
      "mse_loss(xtest, ytest) = 0.43664682f0\n",
      "mse_loss(xtest, ytest) = 0.43276972f0\n"
     ]
    },
    {
     "name": "stderr",
     "output_type": "stream",
     "text": [
      "┌ Info: Epoch 22\n",
      "└ @ ConvGRU /Users/kahingleung/.julia/packages/Flux/sY3yx/src/optimise/train.jl:136\n"
     ]
    },
    {
     "name": "stdout",
     "output_type": "stream",
     "text": [
      "mse_loss(xtest, ytest) = 0.42952326f0\n"
     ]
    },
    {
     "name": "stderr",
     "output_type": "stream",
     "text": [
      "┌ Info: Epoch 23\n",
      "└ @ ConvGRU /Users/kahingleung/.julia/packages/Flux/sY3yx/src/optimise/train.jl:136\n",
      "┌ Info: Epoch 24\n",
      "└ @ ConvGRU /Users/kahingleung/.julia/packages/Flux/sY3yx/src/optimise/train.jl:136\n"
     ]
    },
    {
     "name": "stdout",
     "output_type": "stream",
     "text": [
      "mse_loss(xtest, ytest) = 0.4280869f0\n",
      "mse_loss(xtest, ytest) = 0.4272371f0\n"
     ]
    },
    {
     "name": "stderr",
     "output_type": "stream",
     "text": [
      "┌ Info: Epoch 25\n",
      "└ @ ConvGRU /Users/kahingleung/.julia/packages/Flux/sY3yx/src/optimise/train.jl:136\n",
      "┌ Info: Epoch 26\n",
      "└ @ ConvGRU /Users/kahingleung/.julia/packages/Flux/sY3yx/src/optimise/train.jl:136\n"
     ]
    },
    {
     "name": "stdout",
     "output_type": "stream",
     "text": [
      "mse_loss(xtest, ytest) = 0.42651072f0\n",
      "mse_loss(xtest, ytest) = 0.4362321f0\n"
     ]
    },
    {
     "name": "stderr",
     "output_type": "stream",
     "text": [
      "┌ Info: Epoch 27\n",
      "└ @ ConvGRU /Users/kahingleung/.julia/packages/Flux/sY3yx/src/optimise/train.jl:136\n",
      "┌ Info: Epoch 28\n",
      "└ @ ConvGRU /Users/kahingleung/.julia/packages/Flux/sY3yx/src/optimise/train.jl:136\n"
     ]
    },
    {
     "name": "stdout",
     "output_type": "stream",
     "text": [
      "mse_loss(xtest, ytest) = 0.42315358f0\n",
      "mse_loss(xtest, ytest) = 0.42252105f0\n"
     ]
    },
    {
     "name": "stderr",
     "output_type": "stream",
     "text": [
      "┌ Info: Epoch 29\n",
      "└ @ ConvGRU /Users/kahingleung/.julia/packages/Flux/sY3yx/src/optimise/train.jl:136\n"
     ]
    },
    {
     "name": "stdout",
     "output_type": "stream",
     "text": [
      "mse_loss(xtest, ytest) = 0.4258583f0\n"
     ]
    },
    {
     "name": "stderr",
     "output_type": "stream",
     "text": [
      "┌ Info: Epoch 30\n",
      "└ @ ConvGRU /Users/kahingleung/.julia/packages/Flux/sY3yx/src/optimise/train.jl:136\n"
     ]
    },
    {
     "name": "stdout",
     "output_type": "stream",
     "text": [
      "mse_loss(xtest, ytest) = 0.4226394f0\n"
     ]
    },
    {
     "name": "stderr",
     "output_type": "stream",
     "text": [
      "┌ Info: Epoch 31\n",
      "└ @ ConvGRU /Users/kahingleung/.julia/packages/Flux/sY3yx/src/optimise/train.jl:136\n"
     ]
    },
    {
     "name": "stdout",
     "output_type": "stream",
     "text": [
      "mse_loss(xtest, ytest) = 0.42022055f0\n"
     ]
    },
    {
     "name": "stderr",
     "output_type": "stream",
     "text": [
      "┌ Info: Epoch 32\n",
      "└ @ ConvGRU /Users/kahingleung/.julia/packages/Flux/sY3yx/src/optimise/train.jl:136\n",
      "┌ Info: Epoch 33\n",
      "└ @ ConvGRU /Users/kahingleung/.julia/packages/Flux/sY3yx/src/optimise/train.jl:136\n"
     ]
    },
    {
     "name": "stdout",
     "output_type": "stream",
     "text": [
      "mse_loss(xtest, ytest) = 0.41965693f0\n",
      "mse_loss(xtest, ytest) = 0.41691667f0\n"
     ]
    },
    {
     "name": "stderr",
     "output_type": "stream",
     "text": [
      "┌ Info: Epoch 34\n",
      "└ @ ConvGRU /Users/kahingleung/.julia/packages/Flux/sY3yx/src/optimise/train.jl:136\n"
     ]
    },
    {
     "name": "stdout",
     "output_type": "stream",
     "text": [
      "mse_loss(xtest, ytest) = 0.41754985f0\n"
     ]
    },
    {
     "name": "stderr",
     "output_type": "stream",
     "text": [
      "┌ Info: Epoch 35\n",
      "└ @ ConvGRU /Users/kahingleung/.julia/packages/Flux/sY3yx/src/optimise/train.jl:136\n"
     ]
    },
    {
     "name": "stdout",
     "output_type": "stream",
     "text": [
      "mse_loss(xtest, ytest) = 0.41634977f0\n"
     ]
    },
    {
     "name": "stderr",
     "output_type": "stream",
     "text": [
      "┌ Info: Epoch 36\n",
      "└ @ ConvGRU /Users/kahingleung/.julia/packages/Flux/sY3yx/src/optimise/train.jl:136\n"
     ]
    },
    {
     "name": "stdout",
     "output_type": "stream",
     "text": [
      "mse_loss(xtest, ytest) = 0.4152522f0\n"
     ]
    },
    {
     "name": "stderr",
     "output_type": "stream",
     "text": [
      "┌ Info: Epoch 37\n",
      "└ @ ConvGRU /Users/kahingleung/.julia/packages/Flux/sY3yx/src/optimise/train.jl:136\n"
     ]
    },
    {
     "name": "stdout",
     "output_type": "stream",
     "text": [
      "mse_loss(xtest, ytest) = 0.41344085f0\n"
     ]
    },
    {
     "name": "stderr",
     "output_type": "stream",
     "text": [
      "┌ Info: Epoch 38\n",
      "└ @ ConvGRU /Users/kahingleung/.julia/packages/Flux/sY3yx/src/optimise/train.jl:136\n"
     ]
    },
    {
     "name": "stdout",
     "output_type": "stream",
     "text": [
      "mse_loss(xtest, ytest) = 0.41439492f0\n"
     ]
    },
    {
     "name": "stderr",
     "output_type": "stream",
     "text": [
      "┌ Info: Epoch 39\n",
      "└ @ ConvGRU /Users/kahingleung/.julia/packages/Flux/sY3yx/src/optimise/train.jl:136\n",
      "┌ Info: Epoch 40\n",
      "└ @ ConvGRU /Users/kahingleung/.julia/packages/Flux/sY3yx/src/optimise/train.jl:136\n"
     ]
    },
    {
     "name": "stdout",
     "output_type": "stream",
     "text": [
      "mse_loss(xtest, ytest) = 0.41351897f0\n",
      "mse_loss(xtest, ytest) = 0.41337574f0\n"
     ]
    },
    {
     "name": "stderr",
     "output_type": "stream",
     "text": [
      "┌ Info: Epoch 41\n",
      "└ @ ConvGRU /Users/kahingleung/.julia/packages/Flux/sY3yx/src/optimise/train.jl:136\n",
      "┌ Info: Epoch 42\n",
      "└ @ ConvGRU /Users/kahingleung/.julia/packages/Flux/sY3yx/src/optimise/train.jl:136\n"
     ]
    },
    {
     "name": "stdout",
     "output_type": "stream",
     "text": [
      "mse_loss(xtest, ytest) = 0.41355497f0\n",
      "mse_loss(xtest, ytest) = 0.41393402f0\n"
     ]
    },
    {
     "name": "stderr",
     "output_type": "stream",
     "text": [
      "┌ Info: Epoch 43\n",
      "└ @ ConvGRU /Users/kahingleung/.julia/packages/Flux/sY3yx/src/optimise/train.jl:136\n",
      "┌ Info: Epoch 44\n",
      "└ @ ConvGRU /Users/kahingleung/.julia/packages/Flux/sY3yx/src/optimise/train.jl:136\n"
     ]
    },
    {
     "name": "stdout",
     "output_type": "stream",
     "text": [
      "mse_loss(xtest, ytest) = 0.41441882f0\n"
     ]
    },
    {
     "name": "stderr",
     "output_type": "stream",
     "text": [
      "┌ Info: Epoch 45\n",
      "└ @ ConvGRU /Users/kahingleung/.julia/packages/Flux/sY3yx/src/optimise/train.jl:136\n"
     ]
    },
    {
     "name": "stdout",
     "output_type": "stream",
     "text": [
      "mse_loss(xtest, ytest) = 0.41309333f0\n",
      "mse_loss(xtest, ytest) = 0.41362438f0\n"
     ]
    },
    {
     "name": "stderr",
     "output_type": "stream",
     "text": [
      "┌ Info: Epoch 46\n",
      "└ @ ConvGRU /Users/kahingleung/.julia/packages/Flux/sY3yx/src/optimise/train.jl:136\n",
      "┌ Info: Epoch 47\n",
      "└ @ ConvGRU /Users/kahingleung/.julia/packages/Flux/sY3yx/src/optimise/train.jl:136\n"
     ]
    },
    {
     "name": "stdout",
     "output_type": "stream",
     "text": [
      "mse_loss(xtest, ytest) = 0.41419727f0\n",
      "mse_loss(xtest, ytest) = 0.41263625f0\n"
     ]
    },
    {
     "name": "stderr",
     "output_type": "stream",
     "text": [
      "┌ Info: Epoch 48\n",
      "└ @ ConvGRU /Users/kahingleung/.julia/packages/Flux/sY3yx/src/optimise/train.jl:136\n",
      "┌ Info: Epoch 49\n",
      "└ @ ConvGRU /Users/kahingleung/.julia/packages/Flux/sY3yx/src/optimise/train.jl:136\n"
     ]
    },
    {
     "name": "stdout",
     "output_type": "stream",
     "text": [
      "mse_loss(xtest, ytest) = 0.41264802f0\n",
      "mse_loss(xtest, ytest) = 0.4128715f0\n"
     ]
    },
    {
     "name": "stderr",
     "output_type": "stream",
     "text": [
      "┌ Info: Epoch 50\n",
      "└ @ ConvGRU /Users/kahingleung/.julia/packages/Flux/sY3yx/src/optimise/train.jl:136\n"
     ]
    },
    {
     "name": "stdout",
     "output_type": "stream",
     "text": [
      "mse_loss(xtest, ytest) = 0.4132201f0\n"
     ]
    },
    {
     "name": "stderr",
     "output_type": "stream",
     "text": [
      "┌ Info: Epoch 51\n",
      "└ @ ConvGRU /Users/kahingleung/.julia/packages/Flux/sY3yx/src/optimise/train.jl:136\n"
     ]
    },
    {
     "name": "stdout",
     "output_type": "stream",
     "text": [
      "mse_loss(xtest, ytest) = 0.4111446f0\n"
     ]
    },
    {
     "name": "stderr",
     "output_type": "stream",
     "text": [
      "┌ Info: Epoch 52\n",
      "└ @ ConvGRU /Users/kahingleung/.julia/packages/Flux/sY3yx/src/optimise/train.jl:136\n"
     ]
    },
    {
     "name": "stdout",
     "output_type": "stream",
     "text": [
      "mse_loss(xtest, ytest) = 0.41380665f0\n"
     ]
    },
    {
     "name": "stderr",
     "output_type": "stream",
     "text": [
      "┌ Info: Epoch 53\n",
      "└ @ ConvGRU /Users/kahingleung/.julia/packages/Flux/sY3yx/src/optimise/train.jl:136\n"
     ]
    },
    {
     "name": "stdout",
     "output_type": "stream",
     "text": [
      "mse_loss(xtest, ytest) = 0.4129452f0\n"
     ]
    },
    {
     "name": "stderr",
     "output_type": "stream",
     "text": [
      "┌ Info: Epoch 54\n",
      "└ @ ConvGRU /Users/kahingleung/.julia/packages/Flux/sY3yx/src/optimise/train.jl:136\n"
     ]
    },
    {
     "name": "stdout",
     "output_type": "stream",
     "text": [
      "mse_loss(xtest, ytest) = 0.41095024f0\n"
     ]
    },
    {
     "name": "stderr",
     "output_type": "stream",
     "text": [
      "┌ Info: Epoch 55\n",
      "└ @ ConvGRU /Users/kahingleung/.julia/packages/Flux/sY3yx/src/optimise/train.jl:136\n",
      "┌ Info: Epoch 56\n",
      "└ @ ConvGRU /Users/kahingleung/.julia/packages/Flux/sY3yx/src/optimise/train.jl:136\n"
     ]
    },
    {
     "name": "stdout",
     "output_type": "stream",
     "text": [
      "mse_loss(xtest, ytest) = 0.41355488f0\n",
      "mse_loss(xtest, ytest) = 0.412763f0\n"
     ]
    },
    {
     "name": "stderr",
     "output_type": "stream",
     "text": [
      "┌ Info: Epoch 57\n",
      "└ @ ConvGRU /Users/kahingleung/.julia/packages/Flux/sY3yx/src/optimise/train.jl:136\n",
      "┌ Info: Epoch 58\n",
      "└ @ ConvGRU /Users/kahingleung/.julia/packages/Flux/sY3yx/src/optimise/train.jl:136\n"
     ]
    },
    {
     "name": "stdout",
     "output_type": "stream",
     "text": [
      "mse_loss(xtest, ytest) = 0.41308218f0\n",
      "mse_loss(xtest, ytest) = 0.41111484f0\n"
     ]
    },
    {
     "name": "stderr",
     "output_type": "stream",
     "text": [
      "┌ Info: Epoch 59\n",
      "└ @ ConvGRU /Users/kahingleung/.julia/packages/Flux/sY3yx/src/optimise/train.jl:136\n"
     ]
    },
    {
     "name": "stdout",
     "output_type": "stream",
     "text": [
      "mse_loss(xtest, ytest) = 0.41359517f0\n"
     ]
    },
    {
     "name": "stderr",
     "output_type": "stream",
     "text": [
      "┌ Info: Epoch 60\n",
      "└ @ ConvGRU /Users/kahingleung/.julia/packages/Flux/sY3yx/src/optimise/train.jl:136\n",
      "┌ Info: Epoch 61\n",
      "└ @ ConvGRU /Users/kahingleung/.julia/packages/Flux/sY3yx/src/optimise/train.jl:136\n"
     ]
    },
    {
     "name": "stdout",
     "output_type": "stream",
     "text": [
      "mse_loss(xtest, ytest) = 0.41282177f0\n",
      "mse_loss(xtest, ytest) = 0.4132296f0\n"
     ]
    },
    {
     "name": "stderr",
     "output_type": "stream",
     "text": [
      "┌ Info: Epoch 62\n",
      "└ @ ConvGRU /Users/kahingleung/.julia/packages/Flux/sY3yx/src/optimise/train.jl:136\n",
      "┌ Info: Epoch 63\n",
      "└ @ ConvGRU /Users/kahingleung/.julia/packages/Flux/sY3yx/src/optimise/train.jl:136\n"
     ]
    },
    {
     "name": "stdout",
     "output_type": "stream",
     "text": [
      "mse_loss(xtest, ytest) = 0.41138253f0\n",
      "mse_loss(xtest, ytest) = 0.411092f0\n"
     ]
    },
    {
     "name": "stderr",
     "output_type": "stream",
     "text": [
      "┌ Info: Epoch 64\n",
      "└ @ ConvGRU /Users/kahingleung/.julia/packages/Flux/sY3yx/src/optimise/train.jl:136\n",
      "┌ Info: Epoch 65\n",
      "└ @ ConvGRU /Users/kahingleung/.julia/packages/Flux/sY3yx/src/optimise/train.jl:136\n"
     ]
    },
    {
     "name": "stdout",
     "output_type": "stream",
     "text": [
      "mse_loss(xtest, ytest) = 0.41091505f0\n",
      "mse_loss(xtest, ytest) = 0.41381836f0\n"
     ]
    },
    {
     "name": "stderr",
     "output_type": "stream",
     "text": [
      "┌ Info: Epoch 66\n",
      "└ @ ConvGRU /Users/kahingleung/.julia/packages/Flux/sY3yx/src/optimise/train.jl:136\n"
     ]
    },
    {
     "name": "stdout",
     "output_type": "stream",
     "text": [
      "mse_loss(xtest, ytest) = 0.41338053f0\n"
     ]
    },
    {
     "name": "stderr",
     "output_type": "stream",
     "text": [
      "┌ Info: Epoch 67\n",
      "└ @ ConvGRU /Users/kahingleung/.julia/packages/Flux/sY3yx/src/optimise/train.jl:136\n"
     ]
    },
    {
     "name": "stdout",
     "output_type": "stream",
     "text": [
      "mse_loss(xtest, ytest) = 0.41285932f0\n"
     ]
    },
    {
     "name": "stderr",
     "output_type": "stream",
     "text": [
      "┌ Info: Epoch 68\n",
      "└ @ ConvGRU /Users/kahingleung/.julia/packages/Flux/sY3yx/src/optimise/train.jl:136\n"
     ]
    },
    {
     "name": "stdout",
     "output_type": "stream",
     "text": [
      "mse_loss(xtest, ytest) = 0.41350827f0\n"
     ]
    },
    {
     "name": "stderr",
     "output_type": "stream",
     "text": [
      "┌ Info: Epoch 69\n",
      "└ @ ConvGRU /Users/kahingleung/.julia/packages/Flux/sY3yx/src/optimise/train.jl:136\n",
      "┌ Info: Epoch 70\n",
      "└ @ ConvGRU /Users/kahingleung/.julia/packages/Flux/sY3yx/src/optimise/train.jl:136\n"
     ]
    },
    {
     "name": "stdout",
     "output_type": "stream",
     "text": [
      "mse_loss(xtest, ytest) = 0.41300678f0\n",
      "mse_loss(xtest, ytest) = 0.41141668f0\n"
     ]
    },
    {
     "name": "stderr",
     "output_type": "stream",
     "text": [
      "┌ Info: Epoch 71\n",
      "└ @ ConvGRU /Users/kahingleung/.julia/packages/Flux/sY3yx/src/optimise/train.jl:136\n"
     ]
    },
    {
     "name": "stdout",
     "output_type": "stream",
     "text": [
      "mse_loss(xtest, ytest) = 0.4113354f0\n"
     ]
    },
    {
     "name": "stderr",
     "output_type": "stream",
     "text": [
      "┌ Info: Epoch 72\n",
      "└ @ ConvGRU /Users/kahingleung/.julia/packages/Flux/sY3yx/src/optimise/train.jl:136\n"
     ]
    },
    {
     "name": "stdout",
     "output_type": "stream",
     "text": [
      "mse_loss(xtest, ytest) = 0.41134205f0\n"
     ]
    },
    {
     "name": "stderr",
     "output_type": "stream",
     "text": [
      "┌ Info: Epoch 73\n",
      "└ @ ConvGRU /Users/kahingleung/.julia/packages/Flux/sY3yx/src/optimise/train.jl:136\n"
     ]
    },
    {
     "name": "stdout",
     "output_type": "stream",
     "text": [
      "mse_loss(xtest, ytest) = 0.41145605f0\n"
     ]
    },
    {
     "name": "stderr",
     "output_type": "stream",
     "text": [
      "┌ Info: Epoch 74\n",
      "└ @ ConvGRU /Users/kahingleung/.julia/packages/Flux/sY3yx/src/optimise/train.jl:136\n"
     ]
    },
    {
     "name": "stdout",
     "output_type": "stream",
     "text": [
      "mse_loss(xtest, ytest) = 0.41360772f0\n"
     ]
    },
    {
     "name": "stderr",
     "output_type": "stream",
     "text": [
      "┌ Info: Epoch 75\n",
      "└ @ ConvGRU /Users/kahingleung/.julia/packages/Flux/sY3yx/src/optimise/train.jl:136\n"
     ]
    },
    {
     "name": "stdout",
     "output_type": "stream",
     "text": [
      "mse_loss(xtest, ytest) = 0.41348884f0\n"
     ]
    },
    {
     "name": "stderr",
     "output_type": "stream",
     "text": [
      "┌ Info: Epoch 76\n",
      "└ @ ConvGRU /Users/kahingleung/.julia/packages/Flux/sY3yx/src/optimise/train.jl:136\n",
      "┌ Info: Epoch 77\n",
      "└ @ ConvGRU /Users/kahingleung/.julia/packages/Flux/sY3yx/src/optimise/train.jl:136\n"
     ]
    },
    {
     "name": "stdout",
     "output_type": "stream",
     "text": [
      "mse_loss(xtest, ytest) = 0.41331756f0\n",
      "mse_loss(xtest, ytest) = 0.41314408f0\n"
     ]
    },
    {
     "name": "stderr",
     "output_type": "stream",
     "text": [
      "┌ Info: Epoch 78\n",
      "└ @ ConvGRU /Users/kahingleung/.julia/packages/Flux/sY3yx/src/optimise/train.jl:136\n",
      "┌ Info: Epoch 79\n",
      "└ @ ConvGRU /Users/kahingleung/.julia/packages/Flux/sY3yx/src/optimise/train.jl:136\n"
     ]
    },
    {
     "name": "stdout",
     "output_type": "stream",
     "text": [
      "mse_loss(xtest, ytest) = 0.41295967f0\n",
      "mse_loss(xtest, ytest) = 0.41363764f0\n"
     ]
    },
    {
     "name": "stderr",
     "output_type": "stream",
     "text": [
      "┌ Info: Epoch 80\n",
      "└ @ ConvGRU /Users/kahingleung/.julia/packages/Flux/sY3yx/src/optimise/train.jl:136\n",
      "┌ Info: Epoch 81\n",
      "└ @ ConvGRU /Users/kahingleung/.julia/packages/Flux/sY3yx/src/optimise/train.jl:136\n"
     ]
    },
    {
     "name": "stdout",
     "output_type": "stream",
     "text": [
      "mse_loss(xtest, ytest) = 0.41349268f0\n",
      "mse_loss(xtest, ytest) = 0.41337726f0\n"
     ]
    },
    {
     "name": "stderr",
     "output_type": "stream",
     "text": [
      "┌ Info: Epoch 82\n",
      "└ @ ConvGRU /Users/kahingleung/.julia/packages/Flux/sY3yx/src/optimise/train.jl:136\n"
     ]
    },
    {
     "name": "stdout",
     "output_type": "stream",
     "text": [
      "mse_loss(xtest, ytest) = 0.41326672f0\n"
     ]
    },
    {
     "name": "stderr",
     "output_type": "stream",
     "text": [
      "┌ Info: Epoch 83\n",
      "└ @ ConvGRU /Users/kahingleung/.julia/packages/Flux/sY3yx/src/optimise/train.jl:136\n",
      "┌ Info: Epoch 84\n",
      "└ @ ConvGRU /Users/kahingleung/.julia/packages/Flux/sY3yx/src/optimise/train.jl:136\n"
     ]
    },
    {
     "name": "stdout",
     "output_type": "stream",
     "text": [
      "mse_loss(xtest, ytest) = 0.41315255f0\n",
      "mse_loss(xtest, ytest) = 0.41296983f0\n"
     ]
    },
    {
     "name": "stderr",
     "output_type": "stream",
     "text": [
      "┌ Info: Epoch 85\n",
      "└ @ ConvGRU /Users/kahingleung/.julia/packages/Flux/sY3yx/src/optimise/train.jl:136\n",
      "┌ Info: Epoch 86\n",
      "└ @ ConvGRU /Users/kahingleung/.julia/packages/Flux/sY3yx/src/optimise/train.jl:136\n"
     ]
    },
    {
     "name": "stdout",
     "output_type": "stream",
     "text": [
      "mse_loss(xtest, ytest) = 0.4114359f0\n",
      "mse_loss(xtest, ytest) = 0.41129977f0\n"
     ]
    },
    {
     "name": "stderr",
     "output_type": "stream",
     "text": [
      "┌ Info: Epoch 87\n",
      "└ @ ConvGRU /Users/kahingleung/.julia/packages/Flux/sY3yx/src/optimise/train.jl:136\n"
     ]
    },
    {
     "name": "stdout",
     "output_type": "stream",
     "text": [
      "mse_loss(xtest, ytest) = 0.41155353f0\n"
     ]
    },
    {
     "name": "stderr",
     "output_type": "stream",
     "text": [
      "┌ Info: Epoch 88\n",
      "└ @ ConvGRU /Users/kahingleung/.julia/packages/Flux/sY3yx/src/optimise/train.jl:136\n"
     ]
    },
    {
     "name": "stdout",
     "output_type": "stream",
     "text": [
      "mse_loss(xtest, ytest) = 0.4111291f0\n"
     ]
    },
    {
     "name": "stderr",
     "output_type": "stream",
     "text": [
      "┌ Info: Epoch 89\n",
      "└ @ ConvGRU /Users/kahingleung/.julia/packages/Flux/sY3yx/src/optimise/train.jl:136\n"
     ]
    },
    {
     "name": "stdout",
     "output_type": "stream",
     "text": [
      "mse_loss(xtest, ytest) = 0.4115678f0\n"
     ]
    },
    {
     "name": "stderr",
     "output_type": "stream",
     "text": [
      "┌ Info: Epoch 90\n",
      "└ @ ConvGRU /Users/kahingleung/.julia/packages/Flux/sY3yx/src/optimise/train.jl:136\n",
      "┌ Info: Epoch 91\n",
      "└ @ ConvGRU /Users/kahingleung/.julia/packages/Flux/sY3yx/src/optimise/train.jl:136\n"
     ]
    },
    {
     "name": "stdout",
     "output_type": "stream",
     "text": [
      "mse_loss(xtest, ytest) = 0.41126248f0\n",
      "mse_loss(xtest, ytest) = 0.41048986f0\n"
     ]
    },
    {
     "name": "stderr",
     "output_type": "stream",
     "text": [
      "┌ Info: Epoch 92\n",
      "└ @ ConvGRU /Users/kahingleung/.julia/packages/Flux/sY3yx/src/optimise/train.jl:136\n",
      "┌ Info: Epoch 93\n",
      "└ @ ConvGRU /Users/kahingleung/.julia/packages/Flux/sY3yx/src/optimise/train.jl:136\n"
     ]
    },
    {
     "name": "stdout",
     "output_type": "stream",
     "text": [
      "mse_loss(xtest, ytest) = 0.4140977f0\n",
      "mse_loss(xtest, ytest) = 0.4111898f0\n"
     ]
    },
    {
     "name": "stderr",
     "output_type": "stream",
     "text": [
      "┌ Info: Epoch 94\n",
      "└ @ ConvGRU /Users/kahingleung/.julia/packages/Flux/sY3yx/src/optimise/train.jl:136\n"
     ]
    },
    {
     "name": "stdout",
     "output_type": "stream",
     "text": [
      "mse_loss(xtest, ytest) = 0.41044095f0\n"
     ]
    },
    {
     "name": "stderr",
     "output_type": "stream",
     "text": [
      "┌ Info: Epoch 95\n",
      "└ @ ConvGRU /Users/kahingleung/.julia/packages/Flux/sY3yx/src/optimise/train.jl:136\n"
     ]
    },
    {
     "name": "stdout",
     "output_type": "stream",
     "text": [
      "mse_loss(xtest, ytest) = 0.41410473f0\n"
     ]
    },
    {
     "name": "stderr",
     "output_type": "stream",
     "text": [
      "┌ Info: Epoch 96\n",
      "└ @ ConvGRU /Users/kahingleung/.julia/packages/Flux/sY3yx/src/optimise/train.jl:136\n"
     ]
    },
    {
     "name": "stdout",
     "output_type": "stream",
     "text": [
      "mse_loss(xtest, ytest) = 0.41122547f0\n"
     ]
    },
    {
     "name": "stderr",
     "output_type": "stream",
     "text": [
      "┌ Info: Epoch 97\n",
      "└ @ ConvGRU /Users/kahingleung/.julia/packages/Flux/sY3yx/src/optimise/train.jl:136\n",
      "┌ Info: Epoch 98\n",
      "└ @ ConvGRU /Users/kahingleung/.julia/packages/Flux/sY3yx/src/optimise/train.jl:136\n"
     ]
    },
    {
     "name": "stdout",
     "output_type": "stream",
     "text": [
      "mse_loss(xtest, ytest) = 0.41051283f0\n",
      "mse_loss(xtest, ytest) = 0.41111684f0\n"
     ]
    },
    {
     "name": "stderr",
     "output_type": "stream",
     "text": [
      "┌ Info: Epoch 99\n",
      "└ @ ConvGRU /Users/kahingleung/.julia/packages/Flux/sY3yx/src/optimise/train.jl:136\n",
      "┌ Info: Epoch 100\n",
      "└ @ ConvGRU /Users/kahingleung/.julia/packages/Flux/sY3yx/src/optimise/train.jl:136\n"
     ]
    },
    {
     "name": "stdout",
     "output_type": "stream",
     "text": [
      "mse_loss(xtest, ytest) = 0.41048205f0\n",
      "(250,)\n",
      "0.40398318\n",
      "0.596\n",
      "[\"open\", \"close\", \"high\", \"low\", \"volume\", \"ondate\", \"CZK\", \"PLN\", \"MXN\", \"TRY\", \"ISK\", \"USD\", \"RUB\", \"EUR\", \"GBP\", \"JPY\", \"THB\", \"CNY\", \"KRW\", \"SEK\", \"BRL\", \"BGN\", \"HUF\", \"NZD\", \"CHF\", \"IDR\", \"SGD\", \"MYR\", \"ZAR\", \"CAD\", \"PHP\", \"HKD\", \"HRK\", \"INR\", \"AUD\", \"NOK\", \"DKK\", \"RON\", \"ILS\", \"Close\"]\n",
      "11520.001\n",
      "mse_loss(xtest, ytest) = 1.0511533f0\n",
      "mse_loss(xtest, ytest) = 1.0411111f0\n"
     ]
    },
    {
     "name": "stderr",
     "output_type": "stream",
     "text": [
      "┌ Info: Epoch 1\n",
      "└ @ ConvGRU /Users/kahingleung/.julia/packages/Flux/sY3yx/src/optimise/train.jl:136\n"
     ]
    },
    {
     "name": "stdout",
     "output_type": "stream",
     "text": [
      "mse_loss(xtest, ytest) = 0.92872196f0\n"
     ]
    },
    {
     "name": "stderr",
     "output_type": "stream",
     "text": [
      "┌ Info: Epoch 2\n",
      "└ @ ConvGRU /Users/kahingleung/.julia/packages/Flux/sY3yx/src/optimise/train.jl:136\n",
      "┌ Info: Epoch 3\n",
      "└ @ ConvGRU /Users/kahingleung/.julia/packages/Flux/sY3yx/src/optimise/train.jl:136\n"
     ]
    },
    {
     "name": "stdout",
     "output_type": "stream",
     "text": [
      "mse_loss(xtest, ytest) = 0.82337946f0\n",
      "mse_loss(xtest, ytest) = 0.7242537f0\n"
     ]
    },
    {
     "name": "stderr",
     "output_type": "stream",
     "text": [
      "┌ Info: Epoch 4\n",
      "└ @ ConvGRU /Users/kahingleung/.julia/packages/Flux/sY3yx/src/optimise/train.jl:136\n",
      "┌ Info: Epoch 5\n",
      "└ @ ConvGRU /Users/kahingleung/.julia/packages/Flux/sY3yx/src/optimise/train.jl:136\n"
     ]
    },
    {
     "name": "stdout",
     "output_type": "stream",
     "text": [
      "mse_loss(xtest, ytest) = 0.6322395f0\n",
      "mse_loss(xtest, ytest) = 0.5492914f0\n"
     ]
    },
    {
     "name": "stderr",
     "output_type": "stream",
     "text": [
      "┌ Info: Epoch 6\n",
      "└ @ ConvGRU /Users/kahingleung/.julia/packages/Flux/sY3yx/src/optimise/train.jl:136\n",
      "┌ Info: Epoch 7\n",
      "└ @ ConvGRU /Users/kahingleung/.julia/packages/Flux/sY3yx/src/optimise/train.jl:136\n"
     ]
    },
    {
     "name": "stdout",
     "output_type": "stream",
     "text": [
      "mse_loss(xtest, ytest) = 0.48051965f0\n",
      "mse_loss(xtest, ytest) = 0.44693395f0\n"
     ]
    },
    {
     "name": "stderr",
     "output_type": "stream",
     "text": [
      "┌ Info: Epoch 8\n",
      "└ @ ConvGRU /Users/kahingleung/.julia/packages/Flux/sY3yx/src/optimise/train.jl:136\n"
     ]
    },
    {
     "name": "stdout",
     "output_type": "stream",
     "text": [
      "mse_loss(xtest, ytest) = 0.4286061f0\n"
     ]
    },
    {
     "name": "stderr",
     "output_type": "stream",
     "text": [
      "┌ Info: Epoch 9\n",
      "└ @ ConvGRU /Users/kahingleung/.julia/packages/Flux/sY3yx/src/optimise/train.jl:136\n"
     ]
    },
    {
     "name": "stdout",
     "output_type": "stream",
     "text": [
      "mse_loss(xtest, ytest) = 0.423248f0\n"
     ]
    },
    {
     "name": "stderr",
     "output_type": "stream",
     "text": [
      "┌ Info: Epoch 10\n",
      "└ @ ConvGRU /Users/kahingleung/.julia/packages/Flux/sY3yx/src/optimise/train.jl:136\n"
     ]
    },
    {
     "name": "stdout",
     "output_type": "stream",
     "text": [
      "mse_loss(xtest, ytest) = 0.42261007f0\n"
     ]
    },
    {
     "name": "stderr",
     "output_type": "stream",
     "text": [
      "┌ Info: Epoch 11\n",
      "└ @ ConvGRU /Users/kahingleung/.julia/packages/Flux/sY3yx/src/optimise/train.jl:136\n"
     ]
    },
    {
     "name": "stdout",
     "output_type": "stream",
     "text": [
      "mse_loss(xtest, ytest) = 0.4227437f0\n"
     ]
    },
    {
     "name": "stderr",
     "output_type": "stream",
     "text": [
      "┌ Info: Epoch 12\n",
      "└ @ ConvGRU /Users/kahingleung/.julia/packages/Flux/sY3yx/src/optimise/train.jl:136\n"
     ]
    },
    {
     "name": "stdout",
     "output_type": "stream",
     "text": [
      "mse_loss(xtest, ytest) = 0.4226454f0\n"
     ]
    },
    {
     "name": "stderr",
     "output_type": "stream",
     "text": [
      "┌ Info: Epoch 13\n",
      "└ @ ConvGRU /Users/kahingleung/.julia/packages/Flux/sY3yx/src/optimise/train.jl:136\n"
     ]
    },
    {
     "name": "stdout",
     "output_type": "stream",
     "text": [
      "mse_loss(xtest, ytest) = 0.42254773f0\n"
     ]
    },
    {
     "name": "stderr",
     "output_type": "stream",
     "text": [
      "┌ Info: Epoch 14\n",
      "└ @ ConvGRU /Users/kahingleung/.julia/packages/Flux/sY3yx/src/optimise/train.jl:136\n",
      "┌ Info: Epoch 15\n",
      "└ @ ConvGRU /Users/kahingleung/.julia/packages/Flux/sY3yx/src/optimise/train.jl:136\n"
     ]
    },
    {
     "name": "stdout",
     "output_type": "stream",
     "text": [
      "mse_loss(xtest, ytest) = 0.42266667f0\n",
      "mse_loss(xtest, ytest) = 0.4225508f0\n"
     ]
    },
    {
     "name": "stderr",
     "output_type": "stream",
     "text": [
      "┌ Info: Epoch 16\n",
      "└ @ ConvGRU /Users/kahingleung/.julia/packages/Flux/sY3yx/src/optimise/train.jl:136\n"
     ]
    },
    {
     "name": "stdout",
     "output_type": "stream",
     "text": [
      "mse_loss(xtest, ytest) = 0.42279577f0\n"
     ]
    },
    {
     "name": "stderr",
     "output_type": "stream",
     "text": [
      "┌ Info: Epoch 17\n",
      "└ @ ConvGRU /Users/kahingleung/.julia/packages/Flux/sY3yx/src/optimise/train.jl:136\n"
     ]
    },
    {
     "name": "stdout",
     "output_type": "stream",
     "text": [
      "mse_loss(xtest, ytest) = 0.42290577f0\n"
     ]
    },
    {
     "name": "stderr",
     "output_type": "stream",
     "text": [
      "┌ Info: Epoch 18\n",
      "└ @ ConvGRU /Users/kahingleung/.julia/packages/Flux/sY3yx/src/optimise/train.jl:136\n"
     ]
    },
    {
     "name": "stdout",
     "output_type": "stream",
     "text": [
      "mse_loss(xtest, ytest) = 0.42289183f0\n"
     ]
    },
    {
     "name": "stderr",
     "output_type": "stream",
     "text": [
      "┌ Info: Epoch 19\n",
      "└ @ ConvGRU /Users/kahingleung/.julia/packages/Flux/sY3yx/src/optimise/train.jl:136\n"
     ]
    },
    {
     "name": "stdout",
     "output_type": "stream",
     "text": [
      "mse_loss(xtest, ytest) = 0.4230968f0\n"
     ]
    },
    {
     "name": "stderr",
     "output_type": "stream",
     "text": [
      "┌ Info: Epoch 20\n",
      "└ @ ConvGRU /Users/kahingleung/.julia/packages/Flux/sY3yx/src/optimise/train.jl:136\n",
      "┌ Info: Epoch 21\n",
      "└ @ ConvGRU /Users/kahingleung/.julia/packages/Flux/sY3yx/src/optimise/train.jl:136\n"
     ]
    },
    {
     "name": "stdout",
     "output_type": "stream",
     "text": [
      "mse_loss(xtest, ytest) = 0.42340386f0\n",
      "mse_loss(xtest, ytest) = 0.4229393f0\n"
     ]
    },
    {
     "name": "stderr",
     "output_type": "stream",
     "text": [
      "┌ Info: Epoch 22\n",
      "└ @ ConvGRU /Users/kahingleung/.julia/packages/Flux/sY3yx/src/optimise/train.jl:136\n",
      "┌ Info: Epoch 23\n",
      "└ @ ConvGRU /Users/kahingleung/.julia/packages/Flux/sY3yx/src/optimise/train.jl:136\n"
     ]
    },
    {
     "name": "stdout",
     "output_type": "stream",
     "text": [
      "mse_loss(xtest, ytest) = 0.42247596f0\n",
      "mse_loss(xtest, ytest) = 0.42306194f0\n"
     ]
    },
    {
     "name": "stderr",
     "output_type": "stream",
     "text": [
      "┌ Info: Epoch 24\n",
      "└ @ ConvGRU /Users/kahingleung/.julia/packages/Flux/sY3yx/src/optimise/train.jl:136\n"
     ]
    },
    {
     "name": "stdout",
     "output_type": "stream",
     "text": [
      "mse_loss(xtest, ytest) = 0.42313758f0\n"
     ]
    },
    {
     "name": "stderr",
     "output_type": "stream",
     "text": [
      "┌ Info: Epoch 25\n",
      "└ @ ConvGRU /Users/kahingleung/.julia/packages/Flux/sY3yx/src/optimise/train.jl:136\n"
     ]
    },
    {
     "name": "stdout",
     "output_type": "stream",
     "text": [
      "mse_loss(xtest, ytest) = 0.42316833f0\n"
     ]
    },
    {
     "name": "stderr",
     "output_type": "stream",
     "text": [
      "┌ Info: Epoch 26\n",
      "└ @ ConvGRU /Users/kahingleung/.julia/packages/Flux/sY3yx/src/optimise/train.jl:136\n"
     ]
    },
    {
     "name": "stdout",
     "output_type": "stream",
     "text": [
      "mse_loss(xtest, ytest) = 0.42306322f0\n"
     ]
    },
    {
     "name": "stderr",
     "output_type": "stream",
     "text": [
      "┌ Info: Epoch 27\n",
      "└ @ ConvGRU /Users/kahingleung/.julia/packages/Flux/sY3yx/src/optimise/train.jl:136\n"
     ]
    },
    {
     "name": "stdout",
     "output_type": "stream",
     "text": [
      "mse_loss(xtest, ytest) = 0.4229411f0\n"
     ]
    },
    {
     "name": "stderr",
     "output_type": "stream",
     "text": [
      "┌ Info: Epoch 28\n",
      "└ @ ConvGRU /Users/kahingleung/.julia/packages/Flux/sY3yx/src/optimise/train.jl:136\n"
     ]
    },
    {
     "name": "stdout",
     "output_type": "stream",
     "text": [
      "mse_loss(xtest, ytest) = 0.42325476f0\n"
     ]
    },
    {
     "name": "stderr",
     "output_type": "stream",
     "text": [
      "┌ Info: Epoch 29\n",
      "└ @ ConvGRU /Users/kahingleung/.julia/packages/Flux/sY3yx/src/optimise/train.jl:136\n"
     ]
    },
    {
     "name": "stdout",
     "output_type": "stream",
     "text": [
      "mse_loss(xtest, ytest) = 0.42320463f0\n"
     ]
    },
    {
     "name": "stderr",
     "output_type": "stream",
     "text": [
      "┌ Info: Epoch 30\n",
      "└ @ ConvGRU /Users/kahingleung/.julia/packages/Flux/sY3yx/src/optimise/train.jl:136\n"
     ]
    },
    {
     "name": "stdout",
     "output_type": "stream",
     "text": [
      "(250,)\n",
      "myObjective(df, seqlen, Nh, lr, sym * \"-\" * string(i)) = 0.420034f0\n",
      "22560.01\n",
      "mse_loss(xtest, ytest) = 0.4888837f0\n"
     ]
    },
    {
     "name": "stderr",
     "output_type": "stream",
     "text": [
      "┌ Info: Epoch 1\n",
      "└ @ ConvGRU /Users/kahingleung/.julia/packages/Flux/sY3yx/src/optimise/train.jl:136\n"
     ]
    },
    {
     "name": "stdout",
     "output_type": "stream",
     "text": [
      "mse_loss(xtest, ytest) = 0.5068936f0\n",
      "mse_loss(xtest, ytest) = 0.47171813f0\n"
     ]
    },
    {
     "name": "stderr",
     "output_type": "stream",
     "text": [
      "┌ Info: Epoch 2\n",
      "└ @ ConvGRU /Users/kahingleung/.julia/packages/Flux/sY3yx/src/optimise/train.jl:136\n"
     ]
    },
    {
     "name": "stdout",
     "output_type": "stream",
     "text": [
      "mse_loss(xtest, ytest) = 0.48682767f0\n"
     ]
    },
    {
     "name": "stderr",
     "output_type": "stream",
     "text": [
      "┌ Info: Epoch 3\n",
      "└ @ ConvGRU /Users/kahingleung/.julia/packages/Flux/sY3yx/src/optimise/train.jl:136\n",
      "┌ Info: Epoch 4\n",
      "└ @ ConvGRU /Users/kahingleung/.julia/packages/Flux/sY3yx/src/optimise/train.jl:136\n"
     ]
    },
    {
     "name": "stdout",
     "output_type": "stream",
     "text": [
      "mse_loss(xtest, ytest) = 0.4824927f0\n",
      "mse_loss(xtest, ytest) = 0.47659913f0\n"
     ]
    },
    {
     "name": "stderr",
     "output_type": "stream",
     "text": [
      "┌ Info: Epoch 5\n",
      "└ @ ConvGRU /Users/kahingleung/.julia/packages/Flux/sY3yx/src/optimise/train.jl:136\n"
     ]
    },
    {
     "name": "stdout",
     "output_type": "stream",
     "text": [
      "mse_loss(xtest, ytest) = 0.47133976f0\n"
     ]
    },
    {
     "name": "stderr",
     "output_type": "stream",
     "text": [
      "┌ Info: Epoch 6\n",
      "└ @ ConvGRU /Users/kahingleung/.julia/packages/Flux/sY3yx/src/optimise/train.jl:136\n"
     ]
    },
    {
     "name": "stdout",
     "output_type": "stream",
     "text": [
      "mse_loss(xtest, ytest) = 0.46614602f0\n"
     ]
    },
    {
     "name": "stderr",
     "output_type": "stream",
     "text": [
      "┌ Info: Epoch 7\n",
      "└ @ ConvGRU /Users/kahingleung/.julia/packages/Flux/sY3yx/src/optimise/train.jl:136\n"
     ]
    },
    {
     "name": "stdout",
     "output_type": "stream",
     "text": [
      "mse_loss(xtest, ytest) = 0.46136278f0\n"
     ]
    },
    {
     "name": "stderr",
     "output_type": "stream",
     "text": [
      "┌ Info: Epoch 8\n",
      "└ @ ConvGRU /Users/kahingleung/.julia/packages/Flux/sY3yx/src/optimise/train.jl:136\n"
     ]
    },
    {
     "name": "stdout",
     "output_type": "stream",
     "text": [
      "mse_loss(xtest, ytest) = 0.4621287f0\n"
     ]
    },
    {
     "name": "stderr",
     "output_type": "stream",
     "text": [
      "┌ Info: Epoch 9\n",
      "└ @ ConvGRU /Users/kahingleung/.julia/packages/Flux/sY3yx/src/optimise/train.jl:136\n",
      "┌ Info: Epoch 10\n",
      "└ @ ConvGRU /Users/kahingleung/.julia/packages/Flux/sY3yx/src/optimise/train.jl:136\n"
     ]
    },
    {
     "name": "stdout",
     "output_type": "stream",
     "text": [
      "mse_loss(xtest, ytest) = 0.46281645f0\n",
      "mse_loss(xtest, ytest) = 0.4734633f0\n"
     ]
    },
    {
     "name": "stderr",
     "output_type": "stream",
     "text": [
      "┌ Info: Epoch 11\n",
      "└ @ ConvGRU /Users/kahingleung/.julia/packages/Flux/sY3yx/src/optimise/train.jl:136\n",
      "┌ Info: Epoch 12\n",
      "└ @ ConvGRU /Users/kahingleung/.julia/packages/Flux/sY3yx/src/optimise/train.jl:136\n"
     ]
    },
    {
     "name": "stdout",
     "output_type": "stream",
     "text": [
      "mse_loss(xtest, ytest) = 0.4719712f0\n",
      "mse_loss(xtest, ytest) = 0.459579f0\n"
     ]
    },
    {
     "name": "stderr",
     "output_type": "stream",
     "text": [
      "┌ Info: Epoch 13\n",
      "└ @ ConvGRU /Users/kahingleung/.julia/packages/Flux/sY3yx/src/optimise/train.jl:136\n"
     ]
    },
    {
     "name": "stdout",
     "output_type": "stream",
     "text": [
      "mse_loss(xtest, ytest) = 0.46717268f0\n"
     ]
    },
    {
     "name": "stderr",
     "output_type": "stream",
     "text": [
      "┌ Info: Epoch 14\n",
      "└ @ ConvGRU /Users/kahingleung/.julia/packages/Flux/sY3yx/src/optimise/train.jl:136\n"
     ]
    },
    {
     "name": "stdout",
     "output_type": "stream",
     "text": [
      "mse_loss(xtest, ytest) = 0.45194566f0\n"
     ]
    },
    {
     "name": "stderr",
     "output_type": "stream",
     "text": [
      "┌ Info: Epoch 15\n",
      "└ @ ConvGRU /Users/kahingleung/.julia/packages/Flux/sY3yx/src/optimise/train.jl:136\n",
      "┌ Info: Epoch 16\n",
      "└ @ ConvGRU /Users/kahingleung/.julia/packages/Flux/sY3yx/src/optimise/train.jl:136\n"
     ]
    },
    {
     "name": "stdout",
     "output_type": "stream",
     "text": [
      "mse_loss(xtest, ytest) = 0.45865542f0\n",
      "mse_loss(xtest, ytest) = 0.4614701f0\n"
     ]
    },
    {
     "name": "stderr",
     "output_type": "stream",
     "text": [
      "┌ Info: Epoch 17\n",
      "└ @ ConvGRU /Users/kahingleung/.julia/packages/Flux/sY3yx/src/optimise/train.jl:136\n",
      "┌ Info: Epoch 18\n",
      "└ @ ConvGRU /Users/kahingleung/.julia/packages/Flux/sY3yx/src/optimise/train.jl:136\n"
     ]
    },
    {
     "name": "stdout",
     "output_type": "stream",
     "text": [
      "mse_loss(xtest, ytest) = 0.458016f0\n",
      "mse_loss(xtest, ytest) = 0.45965964f0\n"
     ]
    },
    {
     "name": "stderr",
     "output_type": "stream",
     "text": [
      "┌ Info: Epoch 19\n",
      "└ @ ConvGRU /Users/kahingleung/.julia/packages/Flux/sY3yx/src/optimise/train.jl:136\n",
      "┌ Info: Epoch 20\n",
      "└ @ ConvGRU /Users/kahingleung/.julia/packages/Flux/sY3yx/src/optimise/train.jl:136\n"
     ]
    },
    {
     "name": "stdout",
     "output_type": "stream",
     "text": [
      "mse_loss(xtest, ytest) = 0.44717932f0\n",
      "mse_loss(xtest, ytest) = 0.43955693f0\n"
     ]
    },
    {
     "name": "stderr",
     "output_type": "stream",
     "text": [
      "┌ Info: Epoch 21\n",
      "└ @ ConvGRU /Users/kahingleung/.julia/packages/Flux/sY3yx/src/optimise/train.jl:136\n"
     ]
    },
    {
     "name": "stdout",
     "output_type": "stream",
     "text": [
      "mse_loss(xtest, ytest) = 0.4419288f0\n"
     ]
    },
    {
     "name": "stderr",
     "output_type": "stream",
     "text": [
      "┌ Info: Epoch 22\n",
      "└ @ ConvGRU /Users/kahingleung/.julia/packages/Flux/sY3yx/src/optimise/train.jl:136\n"
     ]
    },
    {
     "name": "stdout",
     "output_type": "stream",
     "text": [
      "mse_loss(xtest, ytest) = 0.43707034f0\n"
     ]
    },
    {
     "name": "stderr",
     "output_type": "stream",
     "text": [
      "┌ Info: Epoch 23\n",
      "└ @ ConvGRU /Users/kahingleung/.julia/packages/Flux/sY3yx/src/optimise/train.jl:136\n",
      "┌ Info: Epoch 24\n",
      "└ @ ConvGRU /Users/kahingleung/.julia/packages/Flux/sY3yx/src/optimise/train.jl:136\n"
     ]
    },
    {
     "name": "stdout",
     "output_type": "stream",
     "text": [
      "mse_loss(xtest, ytest) = 0.43286702f0\n"
     ]
    },
    {
     "name": "stderr",
     "output_type": "stream",
     "text": [
      "┌ Info: Epoch 25\n",
      "└ @ ConvGRU /Users/kahingleung/.julia/packages/Flux/sY3yx/src/optimise/train.jl:136\n"
     ]
    },
    {
     "name": "stdout",
     "output_type": "stream",
     "text": [
      "mse_loss(xtest, ytest) = 0.4298005f0\n",
      "mse_loss(xtest, ytest) = 0.4305148f0\n"
     ]
    },
    {
     "name": "stderr",
     "output_type": "stream",
     "text": [
      "┌ Info: Epoch 26\n",
      "└ @ ConvGRU /Users/kahingleung/.julia/packages/Flux/sY3yx/src/optimise/train.jl:136\n"
     ]
    },
    {
     "name": "stdout",
     "output_type": "stream",
     "text": [
      "mse_loss(xtest, ytest) = 0.42956534f0\n"
     ]
    },
    {
     "name": "stderr",
     "output_type": "stream",
     "text": [
      "┌ Info: Epoch 27\n",
      "└ @ ConvGRU /Users/kahingleung/.julia/packages/Flux/sY3yx/src/optimise/train.jl:136\n"
     ]
    },
    {
     "name": "stdout",
     "output_type": "stream",
     "text": [
      "mse_loss(xtest, ytest) = 0.43094754f0\n"
     ]
    },
    {
     "name": "stderr",
     "output_type": "stream",
     "text": [
      "┌ Info: Epoch 28\n",
      "└ @ ConvGRU /Users/kahingleung/.julia/packages/Flux/sY3yx/src/optimise/train.jl:136\n"
     ]
    },
    {
     "name": "stdout",
     "output_type": "stream",
     "text": [
      "mse_loss(xtest, ytest) = 0.43102577f0\n"
     ]
    },
    {
     "name": "stderr",
     "output_type": "stream",
     "text": [
      "┌ Info: Epoch 29\n",
      "└ @ ConvGRU /Users/kahingleung/.julia/packages/Flux/sY3yx/src/optimise/train.jl:136\n"
     ]
    },
    {
     "name": "stdout",
     "output_type": "stream",
     "text": [
      "mse_loss(xtest, ytest) = 0.43071446f0\n"
     ]
    },
    {
     "name": "stderr",
     "output_type": "stream",
     "text": [
      "┌ Info: Epoch 30\n",
      "└ @ ConvGRU /Users/kahingleung/.julia/packages/Flux/sY3yx/src/optimise/train.jl:136\n"
     ]
    },
    {
     "name": "stdout",
     "output_type": "stream",
     "text": [
      "(250,)\n",
      "myObjective(df, seqlen, Nh, lr, sym * \"-\" * string(i)) = 0.41171244f0\n",
      "31580.0027825594022071257\n",
      "mse_loss(xtest, ytest) = 0.43482953f0\n"
     ]
    },
    {
     "name": "stderr",
     "output_type": "stream",
     "text": [
      "┌ Info: Epoch 1\n",
      "└ @ ConvGRU /Users/kahingleung/.julia/packages/Flux/sY3yx/src/optimise/train.jl:136\n"
     ]
    },
    {
     "name": "stdout",
     "output_type": "stream",
     "text": [
      "mse_loss(xtest, ytest) = 0.51559824f0\n",
      "mse_loss(xtest, ytest) = 0.43710577f0\n"
     ]
    },
    {
     "name": "stderr",
     "output_type": "stream",
     "text": [
      "┌ Info: Epoch 2\n",
      "└ @ ConvGRU /Users/kahingleung/.julia/packages/Flux/sY3yx/src/optimise/train.jl:136\n"
     ]
    },
    {
     "name": "stdout",
     "output_type": "stream",
     "text": [
      "mse_loss(xtest, ytest) = 0.44747683f0\n"
     ]
    },
    {
     "name": "stderr",
     "output_type": "stream",
     "text": [
      "┌ Info: Epoch 3\n",
      "└ @ ConvGRU /Users/kahingleung/.julia/packages/Flux/sY3yx/src/optimise/train.jl:136\n",
      "┌ Info: Epoch 4\n",
      "└ @ ConvGRU /Users/kahingleung/.julia/packages/Flux/sY3yx/src/optimise/train.jl:136\n"
     ]
    },
    {
     "name": "stdout",
     "output_type": "stream",
     "text": [
      "mse_loss(xtest, ytest) = 0.43938416f0\n",
      "mse_loss(xtest, ytest) = 0.44017354f0\n"
     ]
    },
    {
     "name": "stderr",
     "output_type": "stream",
     "text": [
      "┌ Info: Epoch 5\n",
      "└ @ ConvGRU /Users/kahingleung/.julia/packages/Flux/sY3yx/src/optimise/train.jl:136\n"
     ]
    },
    {
     "name": "stdout",
     "output_type": "stream",
     "text": [
      "mse_loss(xtest, ytest) = 0.43705526f0\n"
     ]
    },
    {
     "name": "stderr",
     "output_type": "stream",
     "text": [
      "┌ Info: Epoch 6\n",
      "└ @ ConvGRU /Users/kahingleung/.julia/packages/Flux/sY3yx/src/optimise/train.jl:136\n"
     ]
    },
    {
     "name": "stdout",
     "output_type": "stream",
     "text": [
      "mse_loss(xtest, ytest) = 0.43365163f0\n"
     ]
    },
    {
     "name": "stderr",
     "output_type": "stream",
     "text": [
      "┌ Info: Epoch 7\n",
      "└ @ ConvGRU /Users/kahingleung/.julia/packages/Flux/sY3yx/src/optimise/train.jl:136\n"
     ]
    },
    {
     "name": "stdout",
     "output_type": "stream",
     "text": [
      "mse_loss(xtest, ytest) = 0.43279782f0\n"
     ]
    },
    {
     "name": "stderr",
     "output_type": "stream",
     "text": [
      "┌ Info: Epoch 8\n",
      "└ @ ConvGRU /Users/kahingleung/.julia/packages/Flux/sY3yx/src/optimise/train.jl:136\n",
      "┌ Info: Epoch 9\n",
      "└ @ ConvGRU /Users/kahingleung/.julia/packages/Flux/sY3yx/src/optimise/train.jl:136\n"
     ]
    },
    {
     "name": "stdout",
     "output_type": "stream",
     "text": [
      "mse_loss(xtest, ytest) = 0.42888364f0\n",
      "mse_loss(xtest, ytest) = 0.4286964f0\n"
     ]
    },
    {
     "name": "stderr",
     "output_type": "stream",
     "text": [
      "┌ Info: Epoch 10\n",
      "└ @ ConvGRU /Users/kahingleung/.julia/packages/Flux/sY3yx/src/optimise/train.jl:136\n",
      "┌ Info: Epoch 11\n",
      "└ @ ConvGRU /Users/kahingleung/.julia/packages/Flux/sY3yx/src/optimise/train.jl:136\n"
     ]
    },
    {
     "name": "stdout",
     "output_type": "stream",
     "text": [
      "mse_loss(xtest, ytest) = 0.43121153f0\n",
      "mse_loss(xtest, ytest) = 0.42727917f0\n"
     ]
    },
    {
     "name": "stderr",
     "output_type": "stream",
     "text": [
      "┌ Info: Epoch 12\n",
      "└ @ ConvGRU /Users/kahingleung/.julia/packages/Flux/sY3yx/src/optimise/train.jl:136\n"
     ]
    },
    {
     "name": "stdout",
     "output_type": "stream",
     "text": [
      "mse_loss(xtest, ytest) = 0.42959356f0\n"
     ]
    },
    {
     "name": "stderr",
     "output_type": "stream",
     "text": [
      "┌ Info: Epoch 13\n",
      "└ @ ConvGRU /Users/kahingleung/.julia/packages/Flux/sY3yx/src/optimise/train.jl:136\n",
      "┌ Info: Epoch 14\n",
      "└ @ ConvGRU /Users/kahingleung/.julia/packages/Flux/sY3yx/src/optimise/train.jl:136\n"
     ]
    },
    {
     "name": "stdout",
     "output_type": "stream",
     "text": [
      "mse_loss(xtest, ytest) = 0.42956844f0\n",
      "mse_loss(xtest, ytest) = 0.42891878f0\n"
     ]
    },
    {
     "name": "stderr",
     "output_type": "stream",
     "text": [
      "┌ Info: Epoch 15\n",
      "└ @ ConvGRU /Users/kahingleung/.julia/packages/Flux/sY3yx/src/optimise/train.jl:136\n",
      "┌ Info: Epoch 16\n",
      "└ @ ConvGRU /Users/kahingleung/.julia/packages/Flux/sY3yx/src/optimise/train.jl:136\n"
     ]
    },
    {
     "name": "stdout",
     "output_type": "stream",
     "text": [
      "mse_loss(xtest, ytest) = 0.431981f0\n",
      "mse_loss(xtest, ytest) = 0.42895573f0\n"
     ]
    },
    {
     "name": "stderr",
     "output_type": "stream",
     "text": [
      "┌ Info: Epoch 17\n",
      "└ @ ConvGRU /Users/kahingleung/.julia/packages/Flux/sY3yx/src/optimise/train.jl:136\n"
     ]
    },
    {
     "name": "stdout",
     "output_type": "stream",
     "text": [
      "mse_loss(xtest, ytest) = 0.42951348f0\n"
     ]
    },
    {
     "name": "stderr",
     "output_type": "stream",
     "text": [
      "┌ Info: Epoch 18\n",
      "└ @ ConvGRU /Users/kahingleung/.julia/packages/Flux/sY3yx/src/optimise/train.jl:136\n"
     ]
    },
    {
     "name": "stdout",
     "output_type": "stream",
     "text": [
      "mse_loss(xtest, ytest) = 0.42942625f0\n"
     ]
    },
    {
     "name": "stderr",
     "output_type": "stream",
     "text": [
      "┌ Info: Epoch 19\n",
      "└ @ ConvGRU /Users/kahingleung/.julia/packages/Flux/sY3yx/src/optimise/train.jl:136\n"
     ]
    },
    {
     "name": "stdout",
     "output_type": "stream",
     "text": [
      "mse_loss(xtest, ytest) = 0.42818046f0\n"
     ]
    },
    {
     "name": "stderr",
     "output_type": "stream",
     "text": [
      "┌ Info: Epoch 20\n",
      "└ @ ConvGRU /Users/kahingleung/.julia/packages/Flux/sY3yx/src/optimise/train.jl:136\n",
      "┌ Info: Epoch 21\n",
      "└ @ ConvGRU /Users/kahingleung/.julia/packages/Flux/sY3yx/src/optimise/train.jl:136\n"
     ]
    },
    {
     "name": "stdout",
     "output_type": "stream",
     "text": [
      "mse_loss(xtest, ytest) = 0.42687783f0\n",
      "mse_loss(xtest, ytest) = 0.42812836f0\n"
     ]
    },
    {
     "name": "stderr",
     "output_type": "stream",
     "text": [
      "┌ Info: Epoch 22\n",
      "└ @ ConvGRU /Users/kahingleung/.julia/packages/Flux/sY3yx/src/optimise/train.jl:136\n"
     ]
    },
    {
     "name": "stdout",
     "output_type": "stream",
     "text": [
      "mse_loss(xtest, ytest) = 0.4276426f0\n"
     ]
    },
    {
     "name": "stderr",
     "output_type": "stream",
     "text": [
      "┌ Info: Epoch 23\n",
      "└ @ ConvGRU /Users/kahingleung/.julia/packages/Flux/sY3yx/src/optimise/train.jl:136\n"
     ]
    },
    {
     "name": "stdout",
     "output_type": "stream",
     "text": [
      "mse_loss(xtest, ytest) = 0.42825297f0\n"
     ]
    },
    {
     "name": "stderr",
     "output_type": "stream",
     "text": [
      "┌ Info: Epoch 24\n",
      "└ @ ConvGRU /Users/kahingleung/.julia/packages/Flux/sY3yx/src/optimise/train.jl:136\n"
     ]
    },
    {
     "name": "stdout",
     "output_type": "stream",
     "text": [
      "mse_loss(xtest, ytest) = 0.42937136f0\n"
     ]
    },
    {
     "name": "stderr",
     "output_type": "stream",
     "text": [
      "┌ Info: Epoch 25\n",
      "└ @ ConvGRU /Users/kahingleung/.julia/packages/Flux/sY3yx/src/optimise/train.jl:136\n",
      "┌ Info: Epoch 26\n",
      "└ @ ConvGRU /Users/kahingleung/.julia/packages/Flux/sY3yx/src/optimise/train.jl:136\n"
     ]
    },
    {
     "name": "stdout",
     "output_type": "stream",
     "text": [
      "mse_loss(xtest, ytest) = 0.42788142f0\n",
      "mse_loss(xtest, ytest) = 0.42621282f0\n"
     ]
    },
    {
     "name": "stderr",
     "output_type": "stream",
     "text": [
      "┌ Info: Epoch 27\n",
      "└ @ ConvGRU /Users/kahingleung/.julia/packages/Flux/sY3yx/src/optimise/train.jl:136\n"
     ]
    },
    {
     "name": "stdout",
     "output_type": "stream",
     "text": [
      "mse_loss(xtest, ytest) = 0.42666894f0\n"
     ]
    },
    {
     "name": "stderr",
     "output_type": "stream",
     "text": [
      "┌ Info: Epoch 28\n",
      "└ @ ConvGRU /Users/kahingleung/.julia/packages/Flux/sY3yx/src/optimise/train.jl:136\n"
     ]
    },
    {
     "name": "stdout",
     "output_type": "stream",
     "text": [
      "mse_loss(xtest, ytest) = 0.42602396f0\n"
     ]
    },
    {
     "name": "stderr",
     "output_type": "stream",
     "text": [
      "┌ Info: Epoch 29\n",
      "└ @ ConvGRU /Users/kahingleung/.julia/packages/Flux/sY3yx/src/optimise/train.jl:136\n"
     ]
    },
    {
     "name": "stdout",
     "output_type": "stream",
     "text": [
      "mse_loss(xtest, ytest) = 0.42539185f0\n"
     ]
    },
    {
     "name": "stderr",
     "output_type": "stream",
     "text": [
      "┌ Info: Epoch 30\n",
      "└ @ ConvGRU /Users/kahingleung/.julia/packages/Flux/sY3yx/src/optimise/train.jl:136\n"
     ]
    },
    {
     "name": "stdout",
     "output_type": "stream",
     "text": [
      "(250,)\n",
      "myObjective(df, seqlen, Nh, lr, sym * \"-\" * string(i)) = 0.41082734f0\n",
      "42540.005994842503189409\n",
      "mse_loss(xtest, ytest) = 0.962912f0\n",
      "mse_loss(xtest, ytest) = 0.7963574f0\n"
     ]
    },
    {
     "name": "stderr",
     "output_type": "stream",
     "text": [
      "┌ Info: Epoch 1\n",
      "└ @ ConvGRU /Users/kahingleung/.julia/packages/Flux/sY3yx/src/optimise/train.jl:136\n",
      "┌ Info: Epoch 2\n",
      "└ @ ConvGRU /Users/kahingleung/.julia/packages/Flux/sY3yx/src/optimise/train.jl:136\n"
     ]
    },
    {
     "name": "stdout",
     "output_type": "stream",
     "text": [
      "mse_loss(xtest, ytest) = 0.49974063f0\n",
      "mse_loss(xtest, ytest) = 0.4758094f0\n"
     ]
    },
    {
     "name": "stderr",
     "output_type": "stream",
     "text": [
      "┌ Info: Epoch 3\n",
      "└ @ ConvGRU /Users/kahingleung/.julia/packages/Flux/sY3yx/src/optimise/train.jl:136\n"
     ]
    },
    {
     "name": "stdout",
     "output_type": "stream",
     "text": [
      "mse_loss(xtest, ytest) = 0.47369203f0\n"
     ]
    },
    {
     "name": "stderr",
     "output_type": "stream",
     "text": [
      "┌ Info: Epoch 4\n",
      "└ @ ConvGRU /Users/kahingleung/.julia/packages/Flux/sY3yx/src/optimise/train.jl:136\n"
     ]
    },
    {
     "name": "stdout",
     "output_type": "stream",
     "text": [
      "mse_loss(xtest, ytest) = 0.45823458f0\n"
     ]
    },
    {
     "name": "stderr",
     "output_type": "stream",
     "text": [
      "┌ Info: Epoch 5\n",
      "└ @ ConvGRU /Users/kahingleung/.julia/packages/Flux/sY3yx/src/optimise/train.jl:136\n"
     ]
    },
    {
     "name": "stdout",
     "output_type": "stream",
     "text": [
      "mse_loss(xtest, ytest) = 0.4567048f0\n"
     ]
    },
    {
     "name": "stderr",
     "output_type": "stream",
     "text": [
      "┌ Info: Epoch 6\n",
      "└ @ ConvGRU /Users/kahingleung/.julia/packages/Flux/sY3yx/src/optimise/train.jl:136\n"
     ]
    },
    {
     "name": "stdout",
     "output_type": "stream",
     "text": [
      "mse_loss(xtest, ytest) = 0.44860068f0\n"
     ]
    },
    {
     "name": "stderr",
     "output_type": "stream",
     "text": [
      "┌ Info: Epoch 7\n",
      "└ @ ConvGRU /Users/kahingleung/.julia/packages/Flux/sY3yx/src/optimise/train.jl:136\n",
      "┌ Info: Epoch 8\n",
      "└ @ ConvGRU /Users/kahingleung/.julia/packages/Flux/sY3yx/src/optimise/train.jl:136\n"
     ]
    },
    {
     "name": "stdout",
     "output_type": "stream",
     "text": [
      "mse_loss(xtest, ytest) = 0.45060277f0\n"
     ]
    },
    {
     "name": "stderr",
     "output_type": "stream",
     "text": [
      "┌ Info: Epoch 9\n",
      "└ @ ConvGRU /Users/kahingleung/.julia/packages/Flux/sY3yx/src/optimise/train.jl:136\n"
     ]
    },
    {
     "name": "stdout",
     "output_type": "stream",
     "text": [
      "mse_loss(xtest, ytest) = 0.4469671f0\n",
      "mse_loss(xtest, ytest) = 0.4549858f0\n"
     ]
    },
    {
     "name": "stderr",
     "output_type": "stream",
     "text": [
      "┌ Info: Epoch 10\n",
      "└ @ ConvGRU /Users/kahingleung/.julia/packages/Flux/sY3yx/src/optimise/train.jl:136\n",
      "┌ Info: Epoch 11\n",
      "└ @ ConvGRU /Users/kahingleung/.julia/packages/Flux/sY3yx/src/optimise/train.jl:136\n"
     ]
    },
    {
     "name": "stdout",
     "output_type": "stream",
     "text": [
      "mse_loss(xtest, ytest) = 0.45240286f0\n",
      "mse_loss(xtest, ytest) = 0.45943844f0\n"
     ]
    },
    {
     "name": "stderr",
     "output_type": "stream",
     "text": [
      "┌ Info: Epoch 12\n",
      "└ @ ConvGRU /Users/kahingleung/.julia/packages/Flux/sY3yx/src/optimise/train.jl:136\n"
     ]
    },
    {
     "name": "stdout",
     "output_type": "stream",
     "text": [
      "mse_loss(xtest, ytest) = 0.45992526f0\n"
     ]
    },
    {
     "name": "stderr",
     "output_type": "stream",
     "text": [
      "┌ Info: Epoch 13\n",
      "└ @ ConvGRU /Users/kahingleung/.julia/packages/Flux/sY3yx/src/optimise/train.jl:136\n"
     ]
    },
    {
     "name": "stdout",
     "output_type": "stream",
     "text": [
      "mse_loss(xtest, ytest) = 0.45173982f0\n"
     ]
    },
    {
     "name": "stderr",
     "output_type": "stream",
     "text": [
      "┌ Info: Epoch 14\n",
      "└ @ ConvGRU /Users/kahingleung/.julia/packages/Flux/sY3yx/src/optimise/train.jl:136\n",
      "┌ Info: Epoch 15\n",
      "└ @ ConvGRU /Users/kahingleung/.julia/packages/Flux/sY3yx/src/optimise/train.jl:136\n"
     ]
    },
    {
     "name": "stdout",
     "output_type": "stream",
     "text": [
      "mse_loss(xtest, ytest) = 0.4527184f0\n",
      "mse_loss(xtest, ytest) = 0.4431425f0\n"
     ]
    },
    {
     "name": "stderr",
     "output_type": "stream",
     "text": [
      "┌ Info: Epoch 16\n",
      "└ @ ConvGRU /Users/kahingleung/.julia/packages/Flux/sY3yx/src/optimise/train.jl:136\n"
     ]
    },
    {
     "name": "stdout",
     "output_type": "stream",
     "text": [
      "mse_loss(xtest, ytest) = 0.46234033f0\n"
     ]
    },
    {
     "name": "stderr",
     "output_type": "stream",
     "text": [
      "┌ Info: Epoch 17\n",
      "└ @ ConvGRU /Users/kahingleung/.julia/packages/Flux/sY3yx/src/optimise/train.jl:136\n"
     ]
    },
    {
     "name": "stdout",
     "output_type": "stream",
     "text": [
      "mse_loss(xtest, ytest) = 0.45482248f0\n"
     ]
    },
    {
     "name": "stderr",
     "output_type": "stream",
     "text": [
      "┌ Info: Epoch 18\n",
      "└ @ ConvGRU /Users/kahingleung/.julia/packages/Flux/sY3yx/src/optimise/train.jl:136\n"
     ]
    },
    {
     "name": "stdout",
     "output_type": "stream",
     "text": [
      "mse_loss(xtest, ytest) = 0.44837236f0\n"
     ]
    },
    {
     "name": "stderr",
     "output_type": "stream",
     "text": [
      "┌ Info: Epoch 19\n",
      "└ @ ConvGRU /Users/kahingleung/.julia/packages/Flux/sY3yx/src/optimise/train.jl:136\n"
     ]
    },
    {
     "name": "stdout",
     "output_type": "stream",
     "text": [
      "mse_loss(xtest, ytest) = 0.45014817f0\n"
     ]
    },
    {
     "name": "stderr",
     "output_type": "stream",
     "text": [
      "┌ Info: Epoch 20\n",
      "└ @ ConvGRU /Users/kahingleung/.julia/packages/Flux/sY3yx/src/optimise/train.jl:136\n",
      "┌ Info: Epoch 21\n",
      "└ @ ConvGRU /Users/kahingleung/.julia/packages/Flux/sY3yx/src/optimise/train.jl:136\n"
     ]
    },
    {
     "name": "stdout",
     "output_type": "stream",
     "text": [
      "mse_loss(xtest, ytest) = 0.44161168f0\n"
     ]
    },
    {
     "name": "stderr",
     "output_type": "stream",
     "text": [
      "┌ Info: Epoch 22\n",
      "└ @ ConvGRU /Users/kahingleung/.julia/packages/Flux/sY3yx/src/optimise/train.jl:136\n"
     ]
    },
    {
     "name": "stdout",
     "output_type": "stream",
     "text": [
      "mse_loss(xtest, ytest) = 0.45635784f0\n",
      "mse_loss(xtest, ytest) = 0.44131544f0\n"
     ]
    },
    {
     "name": "stderr",
     "output_type": "stream",
     "text": [
      "┌ Info: Epoch 23\n",
      "└ @ ConvGRU /Users/kahingleung/.julia/packages/Flux/sY3yx/src/optimise/train.jl:136\n"
     ]
    },
    {
     "name": "stdout",
     "output_type": "stream",
     "text": [
      "mse_loss(xtest, ytest) = 0.4557802f0\n"
     ]
    },
    {
     "name": "stderr",
     "output_type": "stream",
     "text": [
      "┌ Info: Epoch 24\n",
      "└ @ ConvGRU /Users/kahingleung/.julia/packages/Flux/sY3yx/src/optimise/train.jl:136\n",
      "┌ Info: Epoch 25\n",
      "└ @ ConvGRU /Users/kahingleung/.julia/packages/Flux/sY3yx/src/optimise/train.jl:136\n"
     ]
    },
    {
     "name": "stdout",
     "output_type": "stream",
     "text": [
      "mse_loss(xtest, ytest) = 0.44928965f0\n",
      "mse_loss(xtest, ytest) = 0.4542815f0\n"
     ]
    },
    {
     "name": "stderr",
     "output_type": "stream",
     "text": [
      "┌ Info: Epoch 26\n",
      "└ @ ConvGRU /Users/kahingleung/.julia/packages/Flux/sY3yx/src/optimise/train.jl:136\n"
     ]
    },
    {
     "name": "stdout",
     "output_type": "stream",
     "text": [
      "mse_loss(xtest, ytest) = 0.4503535f0\n"
     ]
    },
    {
     "name": "stderr",
     "output_type": "stream",
     "text": [
      "┌ Info: Epoch 27\n",
      "└ @ ConvGRU /Users/kahingleung/.julia/packages/Flux/sY3yx/src/optimise/train.jl:136\n"
     ]
    },
    {
     "name": "stdout",
     "output_type": "stream",
     "text": [
      "mse_loss(xtest, ytest) = 0.45949444f0\n"
     ]
    },
    {
     "name": "stderr",
     "output_type": "stream",
     "text": [
      "┌ Info: Epoch 28\n",
      "└ @ ConvGRU /Users/kahingleung/.julia/packages/Flux/sY3yx/src/optimise/train.jl:136\n"
     ]
    },
    {
     "name": "stdout",
     "output_type": "stream",
     "text": [
      "mse_loss(xtest, ytest) = 0.45097658f0\n"
     ]
    },
    {
     "name": "stderr",
     "output_type": "stream",
     "text": [
      "┌ Info: Epoch 29\n",
      "└ @ ConvGRU /Users/kahingleung/.julia/packages/Flux/sY3yx/src/optimise/train.jl:136\n"
     ]
    },
    {
     "name": "stdout",
     "output_type": "stream",
     "text": [
      "mse_loss(xtest, ytest) = 0.44627416f0\n"
     ]
    },
    {
     "name": "stderr",
     "output_type": "stream",
     "text": [
      "┌ Info: Epoch 30\n",
      "└ @ ConvGRU /Users/kahingleung/.julia/packages/Flux/sY3yx/src/optimise/train.jl:136\n"
     ]
    },
    {
     "name": "stdout",
     "output_type": "stream",
     "text": [
      "(250,)\n",
      "myObjective(df, seqlen, Nh, lr, sym * \"-\" * string(i)) = 0.42002913f0\n",
      "53040.005994842503189409\n",
      "mse_loss(xtest, ytest) = 0.44878983f0\n",
      "mse_loss(xtest, ytest) = 0.40773875f0\n"
     ]
    },
    {
     "name": "stderr",
     "output_type": "stream",
     "text": [
      "┌ Info: Epoch 1\n",
      "└ @ ConvGRU /Users/kahingleung/.julia/packages/Flux/sY3yx/src/optimise/train.jl:136\n",
      "┌ Info: Epoch 2\n",
      "└ @ ConvGRU /Users/kahingleung/.julia/packages/Flux/sY3yx/src/optimise/train.jl:136\n"
     ]
    },
    {
     "name": "stdout",
     "output_type": "stream",
     "text": [
      "mse_loss(xtest, ytest) = 0.4431561f0\n",
      "mse_loss(xtest, ytest) = 0.4356512f0\n"
     ]
    },
    {
     "name": "stderr",
     "output_type": "stream",
     "text": [
      "┌ Info: Epoch 3\n",
      "└ @ ConvGRU /Users/kahingleung/.julia/packages/Flux/sY3yx/src/optimise/train.jl:136\n"
     ]
    },
    {
     "name": "stdout",
     "output_type": "stream",
     "text": [
      "mse_loss(xtest, ytest) = 0.43383068f0\n"
     ]
    },
    {
     "name": "stderr",
     "output_type": "stream",
     "text": [
      "┌ Info: Epoch 4\n",
      "└ @ ConvGRU /Users/kahingleung/.julia/packages/Flux/sY3yx/src/optimise/train.jl:136\n"
     ]
    },
    {
     "name": "stdout",
     "output_type": "stream",
     "text": [
      "mse_loss(xtest, ytest) = 0.4263797f0\n"
     ]
    },
    {
     "name": "stderr",
     "output_type": "stream",
     "text": [
      "┌ Info: Epoch 5\n",
      "└ @ ConvGRU /Users/kahingleung/.julia/packages/Flux/sY3yx/src/optimise/train.jl:136\n",
      "┌ Info: Epoch 6\n",
      "└ @ ConvGRU /Users/kahingleung/.julia/packages/Flux/sY3yx/src/optimise/train.jl:136\n"
     ]
    },
    {
     "name": "stdout",
     "output_type": "stream",
     "text": [
      "mse_loss(xtest, ytest) = 0.42847976f0\n",
      "mse_loss(xtest, ytest) = 0.4232826f0\n"
     ]
    },
    {
     "name": "stderr",
     "output_type": "stream",
     "text": [
      "┌ Info: Epoch 7\n",
      "└ @ ConvGRU /Users/kahingleung/.julia/packages/Flux/sY3yx/src/optimise/train.jl:136\n"
     ]
    },
    {
     "name": "stdout",
     "output_type": "stream",
     "text": [
      "mse_loss(xtest, ytest) = 0.4231063f0\n"
     ]
    },
    {
     "name": "stderr",
     "output_type": "stream",
     "text": [
      "┌ Info: Epoch 8\n",
      "└ @ ConvGRU /Users/kahingleung/.julia/packages/Flux/sY3yx/src/optimise/train.jl:136\n"
     ]
    },
    {
     "name": "stdout",
     "output_type": "stream",
     "text": [
      "mse_loss(xtest, ytest) = 0.42047486f0\n"
     ]
    },
    {
     "name": "stderr",
     "output_type": "stream",
     "text": [
      "┌ Info: Epoch 9\n",
      "└ @ ConvGRU /Users/kahingleung/.julia/packages/Flux/sY3yx/src/optimise/train.jl:136\n",
      "┌ Info: Epoch 10\n",
      "└ @ ConvGRU /Users/kahingleung/.julia/packages/Flux/sY3yx/src/optimise/train.jl:136\n"
     ]
    },
    {
     "name": "stdout",
     "output_type": "stream",
     "text": [
      "mse_loss(xtest, ytest) = 0.41963354f0\n",
      "mse_loss(xtest, ytest) = 0.41849065f0\n"
     ]
    },
    {
     "name": "stderr",
     "output_type": "stream",
     "text": [
      "┌ Info: Epoch 11\n",
      "└ @ ConvGRU /Users/kahingleung/.julia/packages/Flux/sY3yx/src/optimise/train.jl:136\n"
     ]
    },
    {
     "name": "stdout",
     "output_type": "stream",
     "text": [
      "mse_loss(xtest, ytest) = 0.41754022f0\n"
     ]
    },
    {
     "name": "stderr",
     "output_type": "stream",
     "text": [
      "┌ Info: Epoch 12\n",
      "└ @ ConvGRU /Users/kahingleung/.julia/packages/Flux/sY3yx/src/optimise/train.jl:136\n"
     ]
    },
    {
     "name": "stdout",
     "output_type": "stream",
     "text": [
      "mse_loss(xtest, ytest) = 0.4178445f0\n"
     ]
    },
    {
     "name": "stderr",
     "output_type": "stream",
     "text": [
      "┌ Info: Epoch 13\n",
      "└ @ ConvGRU /Users/kahingleung/.julia/packages/Flux/sY3yx/src/optimise/train.jl:136\n"
     ]
    },
    {
     "name": "stdout",
     "output_type": "stream",
     "text": [
      "mse_loss(xtest, ytest) = 0.41681203f0\n"
     ]
    },
    {
     "name": "stderr",
     "output_type": "stream",
     "text": [
      "┌ Info: Epoch 14\n",
      "└ @ ConvGRU /Users/kahingleung/.julia/packages/Flux/sY3yx/src/optimise/train.jl:136\n"
     ]
    },
    {
     "name": "stdout",
     "output_type": "stream",
     "text": [
      "mse_loss(xtest, ytest) = 0.41759524f0\n"
     ]
    },
    {
     "name": "stderr",
     "output_type": "stream",
     "text": [
      "┌ Info: Epoch 15\n",
      "└ @ ConvGRU /Users/kahingleung/.julia/packages/Flux/sY3yx/src/optimise/train.jl:136\n"
     ]
    },
    {
     "name": "stdout",
     "output_type": "stream",
     "text": [
      "mse_loss(xtest, ytest) = 0.41624603f0\n"
     ]
    },
    {
     "name": "stderr",
     "output_type": "stream",
     "text": [
      "┌ Info: Epoch 16\n",
      "└ @ ConvGRU /Users/kahingleung/.julia/packages/Flux/sY3yx/src/optimise/train.jl:136\n"
     ]
    },
    {
     "name": "stdout",
     "output_type": "stream",
     "text": [
      "mse_loss(xtest, ytest) = 0.41632318f0\n"
     ]
    },
    {
     "name": "stderr",
     "output_type": "stream",
     "text": [
      "┌ Info: Epoch 17\n",
      "└ @ ConvGRU /Users/kahingleung/.julia/packages/Flux/sY3yx/src/optimise/train.jl:136\n"
     ]
    },
    {
     "name": "stdout",
     "output_type": "stream",
     "text": [
      "mse_loss(xtest, ytest) = 0.41576764f0\n"
     ]
    },
    {
     "name": "stderr",
     "output_type": "stream",
     "text": [
      "┌ Info: Epoch 18\n",
      "└ @ ConvGRU /Users/kahingleung/.julia/packages/Flux/sY3yx/src/optimise/train.jl:136\n"
     ]
    },
    {
     "name": "stdout",
     "output_type": "stream",
     "text": [
      "mse_loss(xtest, ytest) = 0.4148557f0\n"
     ]
    },
    {
     "name": "stderr",
     "output_type": "stream",
     "text": [
      "┌ Info: Epoch 19\n",
      "└ @ ConvGRU /Users/kahingleung/.julia/packages/Flux/sY3yx/src/optimise/train.jl:136\n"
     ]
    },
    {
     "name": "stdout",
     "output_type": "stream",
     "text": [
      "mse_loss(xtest, ytest) = 0.41485298f0\n"
     ]
    },
    {
     "name": "stderr",
     "output_type": "stream",
     "text": [
      "┌ Info: Epoch 20\n",
      "└ @ ConvGRU /Users/kahingleung/.julia/packages/Flux/sY3yx/src/optimise/train.jl:136\n"
     ]
    },
    {
     "name": "stdout",
     "output_type": "stream",
     "text": [
      "mse_loss(xtest, ytest) = 0.41303322f0\n"
     ]
    },
    {
     "name": "stderr",
     "output_type": "stream",
     "text": [
      "┌ Info: Epoch 21\n",
      "└ @ ConvGRU /Users/kahingleung/.julia/packages/Flux/sY3yx/src/optimise/train.jl:136\n"
     ]
    },
    {
     "name": "stdout",
     "output_type": "stream",
     "text": [
      "mse_loss(xtest, ytest) = 0.41358346f0\n"
     ]
    },
    {
     "name": "stderr",
     "output_type": "stream",
     "text": [
      "┌ Info: Epoch 22\n",
      "└ @ ConvGRU /Users/kahingleung/.julia/packages/Flux/sY3yx/src/optimise/train.jl:136\n",
      "┌ Info: Epoch 23\n",
      "└ @ ConvGRU /Users/kahingleung/.julia/packages/Flux/sY3yx/src/optimise/train.jl:136\n"
     ]
    },
    {
     "name": "stdout",
     "output_type": "stream",
     "text": [
      "mse_loss(xtest, ytest) = 0.41156352f0\n",
      "mse_loss(xtest, ytest) = 0.4122396f0\n"
     ]
    },
    {
     "name": "stderr",
     "output_type": "stream",
     "text": [
      "┌ Info: Epoch 24\n",
      "└ @ ConvGRU /Users/kahingleung/.julia/packages/Flux/sY3yx/src/optimise/train.jl:136\n"
     ]
    },
    {
     "name": "stdout",
     "output_type": "stream",
     "text": [
      "mse_loss(xtest, ytest) = 0.41098905f0\n"
     ]
    },
    {
     "name": "stderr",
     "output_type": "stream",
     "text": [
      "┌ Info: Epoch 25\n",
      "└ @ ConvGRU /Users/kahingleung/.julia/packages/Flux/sY3yx/src/optimise/train.jl:136\n"
     ]
    },
    {
     "name": "stdout",
     "output_type": "stream",
     "text": [
      "mse_loss(xtest, ytest) = 0.4109654f0\n"
     ]
    },
    {
     "name": "stderr",
     "output_type": "stream",
     "text": [
      "┌ Info: Epoch 26\n",
      "└ @ ConvGRU /Users/kahingleung/.julia/packages/Flux/sY3yx/src/optimise/train.jl:136\n"
     ]
    },
    {
     "name": "stdout",
     "output_type": "stream",
     "text": [
      "mse_loss(xtest, ytest) = 0.41079435f0\n"
     ]
    },
    {
     "name": "stderr",
     "output_type": "stream",
     "text": [
      "┌ Info: Epoch 27\n",
      "└ @ ConvGRU /Users/kahingleung/.julia/packages/Flux/sY3yx/src/optimise/train.jl:136\n"
     ]
    },
    {
     "name": "stdout",
     "output_type": "stream",
     "text": [
      "mse_loss(xtest, ytest) = 0.40955207f0\n"
     ]
    },
    {
     "name": "stderr",
     "output_type": "stream",
     "text": [
      "┌ Info: Epoch 28\n",
      "└ @ ConvGRU /Users/kahingleung/.julia/packages/Flux/sY3yx/src/optimise/train.jl:136\n"
     ]
    },
    {
     "name": "stdout",
     "output_type": "stream",
     "text": [
      "mse_loss(xtest, ytest) = 0.41106766f0\n"
     ]
    },
    {
     "name": "stderr",
     "output_type": "stream",
     "text": [
      "┌ Info: Epoch 29\n",
      "└ @ ConvGRU /Users/kahingleung/.julia/packages/Flux/sY3yx/src/optimise/train.jl:136\n",
      "┌ Info: Epoch 30\n",
      "└ @ ConvGRU /Users/kahingleung/.julia/packages/Flux/sY3yx/src/optimise/train.jl:136\n"
     ]
    },
    {
     "name": "stdout",
     "output_type": "stream",
     "text": [
      "mse_loss(xtest, ytest) = 0.40834734f0\n",
      "(250,)\n",
      "myObjective(df, seqlen, Nh, lr, sym * \"-\" * string(i)) = 0.40502375f0\n",
      "61020.005994842503189409\n",
      "mse_loss(xtest, ytest) = 0.67505896f0\n"
     ]
    },
    {
     "name": "stderr",
     "output_type": "stream",
     "text": [
      "┌ Info: Epoch 1\n",
      "└ @ ConvGRU /Users/kahingleung/.julia/packages/Flux/sY3yx/src/optimise/train.jl:136\n"
     ]
    },
    {
     "name": "stdout",
     "output_type": "stream",
     "text": [
      "mse_loss(xtest, ytest) = 0.60071033f0\n",
      "mse_loss(xtest, ytest) = 0.42521548f0\n"
     ]
    },
    {
     "name": "stderr",
     "output_type": "stream",
     "text": [
      "┌ Info: Epoch 2\n",
      "└ @ ConvGRU /Users/kahingleung/.julia/packages/Flux/sY3yx/src/optimise/train.jl:136\n"
     ]
    },
    {
     "name": "stdout",
     "output_type": "stream",
     "text": [
      "mse_loss(xtest, ytest) = 0.42795375f0\n"
     ]
    },
    {
     "name": "stderr",
     "output_type": "stream",
     "text": [
      "┌ Info: Epoch 3\n",
      "└ @ ConvGRU /Users/kahingleung/.julia/packages/Flux/sY3yx/src/optimise/train.jl:136\n"
     ]
    },
    {
     "name": "stdout",
     "output_type": "stream",
     "text": [
      "mse_loss(xtest, ytest) = 0.4259072f0\n"
     ]
    },
    {
     "name": "stderr",
     "output_type": "stream",
     "text": [
      "┌ Info: Epoch 4\n",
      "└ @ ConvGRU /Users/kahingleung/.julia/packages/Flux/sY3yx/src/optimise/train.jl:136\n"
     ]
    },
    {
     "name": "stdout",
     "output_type": "stream",
     "text": [
      "mse_loss(xtest, ytest) = 0.4240762f0\n"
     ]
    },
    {
     "name": "stderr",
     "output_type": "stream",
     "text": [
      "┌ Info: Epoch 5\n",
      "└ @ ConvGRU /Users/kahingleung/.julia/packages/Flux/sY3yx/src/optimise/train.jl:136\n"
     ]
    },
    {
     "name": "stdout",
     "output_type": "stream",
     "text": [
      "mse_loss(xtest, ytest) = 0.4268976f0\n"
     ]
    },
    {
     "name": "stderr",
     "output_type": "stream",
     "text": [
      "┌ Info: Epoch 6\n",
      "└ @ ConvGRU /Users/kahingleung/.julia/packages/Flux/sY3yx/src/optimise/train.jl:136\n"
     ]
    },
    {
     "name": "stdout",
     "output_type": "stream",
     "text": [
      "mse_loss(xtest, ytest) = 0.42903346f0\n"
     ]
    },
    {
     "name": "stderr",
     "output_type": "stream",
     "text": [
      "┌ Info: Epoch 7\n",
      "└ @ ConvGRU /Users/kahingleung/.julia/packages/Flux/sY3yx/src/optimise/train.jl:136\n"
     ]
    },
    {
     "name": "stdout",
     "output_type": "stream",
     "text": [
      "mse_loss(xtest, ytest) = 0.42613614f0\n"
     ]
    },
    {
     "name": "stderr",
     "output_type": "stream",
     "text": [
      "┌ Info: Epoch 8\n",
      "└ @ ConvGRU /Users/kahingleung/.julia/packages/Flux/sY3yx/src/optimise/train.jl:136\n"
     ]
    },
    {
     "name": "stdout",
     "output_type": "stream",
     "text": [
      "mse_loss(xtest, ytest) = 0.4290156f0\n"
     ]
    },
    {
     "name": "stderr",
     "output_type": "stream",
     "text": [
      "┌ Info: Epoch 9\n",
      "└ @ ConvGRU /Users/kahingleung/.julia/packages/Flux/sY3yx/src/optimise/train.jl:136\n"
     ]
    },
    {
     "name": "stdout",
     "output_type": "stream",
     "text": [
      "mse_loss(xtest, ytest) = 0.42346075f0\n"
     ]
    },
    {
     "name": "stderr",
     "output_type": "stream",
     "text": [
      "┌ Info: Epoch 10\n",
      "└ @ ConvGRU /Users/kahingleung/.julia/packages/Flux/sY3yx/src/optimise/train.jl:136\n"
     ]
    },
    {
     "name": "stdout",
     "output_type": "stream",
     "text": [
      "mse_loss(xtest, ytest) = 0.42675334f0\n"
     ]
    },
    {
     "name": "stderr",
     "output_type": "stream",
     "text": [
      "┌ Info: Epoch 11\n",
      "└ @ ConvGRU /Users/kahingleung/.julia/packages/Flux/sY3yx/src/optimise/train.jl:136\n"
     ]
    },
    {
     "name": "stdout",
     "output_type": "stream",
     "text": [
      "mse_loss(xtest, ytest) = 0.42382687f0\n"
     ]
    },
    {
     "name": "stderr",
     "output_type": "stream",
     "text": [
      "┌ Info: Epoch 12\n",
      "└ @ ConvGRU /Users/kahingleung/.julia/packages/Flux/sY3yx/src/optimise/train.jl:136\n"
     ]
    },
    {
     "name": "stdout",
     "output_type": "stream",
     "text": [
      "mse_loss(xtest, ytest) = 0.42306775f0\n"
     ]
    },
    {
     "name": "stderr",
     "output_type": "stream",
     "text": [
      "┌ Info: Epoch 13\n",
      "└ @ ConvGRU /Users/kahingleung/.julia/packages/Flux/sY3yx/src/optimise/train.jl:136\n"
     ]
    },
    {
     "name": "stdout",
     "output_type": "stream",
     "text": [
      "mse_loss(xtest, ytest) = 0.42470917f0\n"
     ]
    },
    {
     "name": "stderr",
     "output_type": "stream",
     "text": [
      "┌ Info: Epoch 14\n",
      "└ @ ConvGRU /Users/kahingleung/.julia/packages/Flux/sY3yx/src/optimise/train.jl:136\n"
     ]
    },
    {
     "name": "stdout",
     "output_type": "stream",
     "text": [
      "mse_loss(xtest, ytest) = 0.42384025f0\n"
     ]
    },
    {
     "name": "stderr",
     "output_type": "stream",
     "text": [
      "┌ Info: Epoch 15\n",
      "└ @ ConvGRU /Users/kahingleung/.julia/packages/Flux/sY3yx/src/optimise/train.jl:136\n"
     ]
    },
    {
     "name": "stdout",
     "output_type": "stream",
     "text": [
      "mse_loss(xtest, ytest) = 0.4234958f0\n"
     ]
    },
    {
     "name": "stderr",
     "output_type": "stream",
     "text": [
      "┌ Info: Epoch 16\n",
      "└ @ ConvGRU /Users/kahingleung/.julia/packages/Flux/sY3yx/src/optimise/train.jl:136\n"
     ]
    },
    {
     "name": "stdout",
     "output_type": "stream",
     "text": [
      "mse_loss(xtest, ytest) = 0.42364928f0\n"
     ]
    },
    {
     "name": "stderr",
     "output_type": "stream",
     "text": [
      "┌ Info: Epoch 17\n",
      "└ @ ConvGRU /Users/kahingleung/.julia/packages/Flux/sY3yx/src/optimise/train.jl:136\n"
     ]
    },
    {
     "name": "stdout",
     "output_type": "stream",
     "text": [
      "mse_loss(xtest, ytest) = 0.4237178f0\n"
     ]
    },
    {
     "name": "stderr",
     "output_type": "stream",
     "text": [
      "┌ Info: Epoch 18\n",
      "└ @ ConvGRU /Users/kahingleung/.julia/packages/Flux/sY3yx/src/optimise/train.jl:136\n",
      "┌ Info: Epoch 19\n",
      "└ @ ConvGRU /Users/kahingleung/.julia/packages/Flux/sY3yx/src/optimise/train.jl:136\n"
     ]
    },
    {
     "name": "stdout",
     "output_type": "stream",
     "text": [
      "mse_loss(xtest, ytest) = 0.42235047f0\n",
      "mse_loss(xtest, ytest) = 0.42273614f0\n"
     ]
    },
    {
     "name": "stderr",
     "output_type": "stream",
     "text": [
      "┌ Info: Epoch 20\n",
      "└ @ ConvGRU /Users/kahingleung/.julia/packages/Flux/sY3yx/src/optimise/train.jl:136\n"
     ]
    },
    {
     "name": "stdout",
     "output_type": "stream",
     "text": [
      "mse_loss(xtest, ytest) = 0.42325944f0\n"
     ]
    },
    {
     "name": "stderr",
     "output_type": "stream",
     "text": [
      "┌ Info: Epoch 21\n",
      "└ @ ConvGRU /Users/kahingleung/.julia/packages/Flux/sY3yx/src/optimise/train.jl:136\n"
     ]
    },
    {
     "name": "stdout",
     "output_type": "stream",
     "text": [
      "mse_loss(xtest, ytest) = 0.42199248f0\n"
     ]
    },
    {
     "name": "stderr",
     "output_type": "stream",
     "text": [
      "┌ Info: Epoch 22\n",
      "└ @ ConvGRU /Users/kahingleung/.julia/packages/Flux/sY3yx/src/optimise/train.jl:136\n"
     ]
    },
    {
     "name": "stdout",
     "output_type": "stream",
     "text": [
      "mse_loss(xtest, ytest) = 0.42223313f0\n"
     ]
    },
    {
     "name": "stderr",
     "output_type": "stream",
     "text": [
      "┌ Info: Epoch 23\n",
      "└ @ ConvGRU /Users/kahingleung/.julia/packages/Flux/sY3yx/src/optimise/train.jl:136\n"
     ]
    },
    {
     "name": "stdout",
     "output_type": "stream",
     "text": [
      "mse_loss(xtest, ytest) = 0.42378274f0\n"
     ]
    },
    {
     "name": "stderr",
     "output_type": "stream",
     "text": [
      "┌ Info: Epoch 24\n",
      "└ @ ConvGRU /Users/kahingleung/.julia/packages/Flux/sY3yx/src/optimise/train.jl:136\n"
     ]
    },
    {
     "name": "stdout",
     "output_type": "stream",
     "text": [
      "mse_loss(xtest, ytest) = 0.4237924f0\n"
     ]
    },
    {
     "name": "stderr",
     "output_type": "stream",
     "text": [
      "┌ Info: Epoch 25\n",
      "└ @ ConvGRU /Users/kahingleung/.julia/packages/Flux/sY3yx/src/optimise/train.jl:136\n"
     ]
    },
    {
     "name": "stdout",
     "output_type": "stream",
     "text": [
      "mse_loss(xtest, ytest) = 0.42250443f0\n"
     ]
    },
    {
     "name": "stderr",
     "output_type": "stream",
     "text": [
      "┌ Info: Epoch 26\n",
      "└ @ ConvGRU /Users/kahingleung/.julia/packages/Flux/sY3yx/src/optimise/train.jl:136\n",
      "┌ Info: Epoch 27\n",
      "└ @ ConvGRU /Users/kahingleung/.julia/packages/Flux/sY3yx/src/optimise/train.jl:136\n"
     ]
    },
    {
     "name": "stdout",
     "output_type": "stream",
     "text": [
      "mse_loss(xtest, ytest) = 0.42267674f0\n"
     ]
    },
    {
     "name": "stderr",
     "output_type": "stream",
     "text": [
      "┌ Info: Epoch 28\n",
      "└ @ ConvGRU /Users/kahingleung/.julia/packages/Flux/sY3yx/src/optimise/train.jl:136\n"
     ]
    },
    {
     "name": "stdout",
     "output_type": "stream",
     "text": [
      "mse_loss(xtest, ytest) = 0.42321596f0\n",
      "mse_loss(xtest, ytest) = 0.42378896f0\n"
     ]
    },
    {
     "name": "stderr",
     "output_type": "stream",
     "text": [
      "┌ Info: Epoch 29\n",
      "└ @ ConvGRU /Users/kahingleung/.julia/packages/Flux/sY3yx/src/optimise/train.jl:136\n"
     ]
    },
    {
     "name": "stdout",
     "output_type": "stream",
     "text": [
      "mse_loss(xtest, ytest) = 0.42477944f0\n"
     ]
    },
    {
     "name": "stderr",
     "output_type": "stream",
     "text": [
      "┌ Info: Epoch 30\n",
      "└ @ ConvGRU /Users/kahingleung/.julia/packages/Flux/sY3yx/src/optimise/train.jl:136\n"
     ]
    },
    {
     "name": "stdout",
     "output_type": "stream",
     "text": [
      "(250,)\n",
      "myObjective(df, seqlen, Nh, lr, sym * \"-\" * string(i)) = 0.41403523f0\n",
      "72580.0016681005372000592\n",
      "mse_loss(xtest, ytest) = 0.51767504f0\n"
     ]
    },
    {
     "name": "stderr",
     "output_type": "stream",
     "text": [
      "┌ Info: Epoch 1\n",
      "└ @ ConvGRU /Users/kahingleung/.julia/packages/Flux/sY3yx/src/optimise/train.jl:136\n"
     ]
    },
    {
     "name": "stdout",
     "output_type": "stream",
     "text": [
      "mse_loss(xtest, ytest) = 0.47420377f0\n"
     ]
    },
    {
     "name": "stderr",
     "output_type": "stream",
     "text": [
      "┌ Info: Epoch 2\n",
      "└ @ ConvGRU /Users/kahingleung/.julia/packages/Flux/sY3yx/src/optimise/train.jl:136\n"
     ]
    },
    {
     "name": "stdout",
     "output_type": "stream",
     "text": [
      "mse_loss(xtest, ytest) = 0.43490085f0\n"
     ]
    },
    {
     "name": "stderr",
     "output_type": "stream",
     "text": [
      "┌ Info: Epoch 3\n",
      "└ @ ConvGRU /Users/kahingleung/.julia/packages/Flux/sY3yx/src/optimise/train.jl:136\n"
     ]
    },
    {
     "name": "stdout",
     "output_type": "stream",
     "text": [
      "mse_loss(xtest, ytest) = 0.43597066f0\n",
      "mse_loss(xtest, ytest) = 0.43635875f0\n"
     ]
    },
    {
     "name": "stderr",
     "output_type": "stream",
     "text": [
      "┌ Info: Epoch 4\n",
      "└ @ ConvGRU /Users/kahingleung/.julia/packages/Flux/sY3yx/src/optimise/train.jl:136\n"
     ]
    },
    {
     "name": "stdout",
     "output_type": "stream",
     "text": [
      "mse_loss(xtest, ytest) = 0.43067566f0\n"
     ]
    },
    {
     "name": "stderr",
     "output_type": "stream",
     "text": [
      "┌ Info: Epoch 5\n",
      "└ @ ConvGRU /Users/kahingleung/.julia/packages/Flux/sY3yx/src/optimise/train.jl:136\n"
     ]
    },
    {
     "name": "stdout",
     "output_type": "stream",
     "text": [
      "mse_loss(xtest, ytest) = 0.4356482f0\n"
     ]
    },
    {
     "name": "stderr",
     "output_type": "stream",
     "text": [
      "┌ Info: Epoch 6\n",
      "└ @ ConvGRU /Users/kahingleung/.julia/packages/Flux/sY3yx/src/optimise/train.jl:136\n"
     ]
    },
    {
     "name": "stdout",
     "output_type": "stream",
     "text": [
      "mse_loss(xtest, ytest) = 0.43617874f0\n"
     ]
    },
    {
     "name": "stderr",
     "output_type": "stream",
     "text": [
      "┌ Info: Epoch 7\n",
      "└ @ ConvGRU /Users/kahingleung/.julia/packages/Flux/sY3yx/src/optimise/train.jl:136\n",
      "┌ Info: Epoch 8\n",
      "└ @ ConvGRU /Users/kahingleung/.julia/packages/Flux/sY3yx/src/optimise/train.jl:136\n"
     ]
    },
    {
     "name": "stdout",
     "output_type": "stream",
     "text": [
      "mse_loss(xtest, ytest) = 0.43593392f0\n",
      "mse_loss(xtest, ytest) = 0.43579265f0"
     ]
    },
    {
     "name": "stderr",
     "output_type": "stream",
     "text": [
      "┌ Info: Epoch 9\n",
      "└ @ ConvGRU /Users/kahingleung/.julia/packages/Flux/sY3yx/src/optimise/train.jl:136\n"
     ]
    },
    {
     "name": "stdout",
     "output_type": "stream",
     "text": [
      "\n",
      "mse_loss(xtest, ytest) = 0.44005296f0\n"
     ]
    },
    {
     "name": "stderr",
     "output_type": "stream",
     "text": [
      "┌ Info: Epoch 10\n",
      "└ @ ConvGRU /Users/kahingleung/.julia/packages/Flux/sY3yx/src/optimise/train.jl:136\n",
      "┌ Info: Epoch 11\n",
      "└ @ ConvGRU /Users/kahingleung/.julia/packages/Flux/sY3yx/src/optimise/train.jl:136\n"
     ]
    },
    {
     "name": "stdout",
     "output_type": "stream",
     "text": [
      "mse_loss(xtest, ytest) = 0.43976077f0\n",
      "mse_loss(xtest, ytest) = 0.43719843f0\n"
     ]
    },
    {
     "name": "stderr",
     "output_type": "stream",
     "text": [
      "┌ Info: Epoch 12\n",
      "└ @ ConvGRU /Users/kahingleung/.julia/packages/Flux/sY3yx/src/optimise/train.jl:136\n"
     ]
    },
    {
     "name": "stdout",
     "output_type": "stream",
     "text": [
      "mse_loss(xtest, ytest) = 0.43967086f0\n"
     ]
    },
    {
     "name": "stderr",
     "output_type": "stream",
     "text": [
      "┌ Info: Epoch 13\n",
      "└ @ ConvGRU /Users/kahingleung/.julia/packages/Flux/sY3yx/src/optimise/train.jl:136\n",
      "┌ Info: Epoch 14\n",
      "└ @ ConvGRU /Users/kahingleung/.julia/packages/Flux/sY3yx/src/optimise/train.jl:136\n"
     ]
    },
    {
     "name": "stdout",
     "output_type": "stream",
     "text": [
      "mse_loss(xtest, ytest) = 0.4390174f0\n",
      "mse_loss(xtest, ytest) = 0.4398598f0\n"
     ]
    },
    {
     "name": "stderr",
     "output_type": "stream",
     "text": [
      "┌ Info: Epoch 15\n",
      "└ @ ConvGRU /Users/kahingleung/.julia/packages/Flux/sY3yx/src/optimise/train.jl:136\n"
     ]
    },
    {
     "name": "stdout",
     "output_type": "stream",
     "text": [
      "mse_loss(xtest, ytest) = 0.43561608f0\n"
     ]
    },
    {
     "name": "stderr",
     "output_type": "stream",
     "text": [
      "┌ Info: Epoch 16\n",
      "└ @ ConvGRU /Users/kahingleung/.julia/packages/Flux/sY3yx/src/optimise/train.jl:136\n",
      "┌ Info: Epoch 17\n",
      "└ @ ConvGRU /Users/kahingleung/.julia/packages/Flux/sY3yx/src/optimise/train.jl:136\n"
     ]
    },
    {
     "name": "stdout",
     "output_type": "stream",
     "text": [
      "mse_loss(xtest, ytest) = 0.43364516f0\n",
      "mse_loss(xtest, ytest) = 0.43722647f0\n"
     ]
    },
    {
     "name": "stderr",
     "output_type": "stream",
     "text": [
      "┌ Info: Epoch 18\n",
      "└ @ ConvGRU /Users/kahingleung/.julia/packages/Flux/sY3yx/src/optimise/train.jl:136\n"
     ]
    },
    {
     "name": "stdout",
     "output_type": "stream",
     "text": [
      "mse_loss(xtest, ytest) = 0.43421525f0\n"
     ]
    },
    {
     "name": "stderr",
     "output_type": "stream",
     "text": [
      "┌ Info: Epoch 19\n",
      "└ @ ConvGRU /Users/kahingleung/.julia/packages/Flux/sY3yx/src/optimise/train.jl:136\n",
      "┌ Info: Epoch 20\n",
      "└ @ ConvGRU /Users/kahingleung/.julia/packages/Flux/sY3yx/src/optimise/train.jl:136\n"
     ]
    },
    {
     "name": "stdout",
     "output_type": "stream",
     "text": [
      "mse_loss(xtest, ytest) = 0.43492347f0\n",
      "mse_loss(xtest, ytest) = 0.43166983f0\n"
     ]
    },
    {
     "name": "stderr",
     "output_type": "stream",
     "text": [
      "┌ Info: Epoch 21\n",
      "└ @ ConvGRU /Users/kahingleung/.julia/packages/Flux/sY3yx/src/optimise/train.jl:136\n"
     ]
    },
    {
     "name": "stdout",
     "output_type": "stream",
     "text": [
      "mse_loss(xtest, ytest) = 0.4294548f0\n"
     ]
    },
    {
     "name": "stderr",
     "output_type": "stream",
     "text": [
      "┌ Info: Epoch 22\n",
      "└ @ ConvGRU /Users/kahingleung/.julia/packages/Flux/sY3yx/src/optimise/train.jl:136\n",
      "┌ Info: Epoch 23\n",
      "└ @ ConvGRU /Users/kahingleung/.julia/packages/Flux/sY3yx/src/optimise/train.jl:136\n"
     ]
    },
    {
     "name": "stdout",
     "output_type": "stream",
     "text": [
      "mse_loss(xtest, ytest) = 0.42648685f0\n",
      "mse_loss(xtest, ytest) = 0.42784268f0\n"
     ]
    },
    {
     "name": "stderr",
     "output_type": "stream",
     "text": [
      "┌ Info: Epoch 24\n",
      "└ @ ConvGRU /Users/kahingleung/.julia/packages/Flux/sY3yx/src/optimise/train.jl:136\n"
     ]
    },
    {
     "name": "stdout",
     "output_type": "stream",
     "text": [
      "mse_loss(xtest, ytest) = 0.42806077f0\n"
     ]
    },
    {
     "name": "stderr",
     "output_type": "stream",
     "text": [
      "┌ Info: Epoch 25\n",
      "└ @ ConvGRU /Users/kahingleung/.julia/packages/Flux/sY3yx/src/optimise/train.jl:136\n",
      "┌ Info: Epoch 26\n",
      "└ @ ConvGRU /Users/kahingleung/.julia/packages/Flux/sY3yx/src/optimise/train.jl:136\n"
     ]
    },
    {
     "name": "stdout",
     "output_type": "stream",
     "text": [
      "mse_loss(xtest, ytest) = 0.43002552f0\n",
      "mse_loss(xtest, ytest) = 0.43036672f0\n"
     ]
    },
    {
     "name": "stderr",
     "output_type": "stream",
     "text": [
      "┌ Info: Epoch 27\n",
      "└ @ ConvGRU /Users/kahingleung/.julia/packages/Flux/sY3yx/src/optimise/train.jl:136\n"
     ]
    },
    {
     "name": "stdout",
     "output_type": "stream",
     "text": [
      "mse_loss(xtest, ytest) = 0.42770073f0\n"
     ]
    },
    {
     "name": "stderr",
     "output_type": "stream",
     "text": [
      "┌ Info: Epoch 28\n",
      "└ @ ConvGRU /Users/kahingleung/.julia/packages/Flux/sY3yx/src/optimise/train.jl:136\n"
     ]
    },
    {
     "name": "stdout",
     "output_type": "stream",
     "text": [
      "mse_loss(xtest, ytest) = 0.42909506f0\n"
     ]
    },
    {
     "name": "stderr",
     "output_type": "stream",
     "text": [
      "┌ Info: Epoch 29\n",
      "└ @ ConvGRU /Users/kahingleung/.julia/packages/Flux/sY3yx/src/optimise/train.jl:136\n"
     ]
    },
    {
     "name": "stdout",
     "output_type": "stream",
     "text": [
      "mse_loss(xtest, ytest) = 0.4273896f0\n"
     ]
    },
    {
     "name": "stderr",
     "output_type": "stream",
     "text": [
      "┌ Info: Epoch 30\n",
      "└ @ ConvGRU /Users/kahingleung/.julia/packages/Flux/sY3yx/src/optimise/train.jl:136\n"
     ]
    },
    {
     "name": "stdout",
     "output_type": "stream",
     "text": [
      "(250,)\n",
      "myObjective(df, seqlen, Nh, lr, sym * \"-\" * string(i)) = 0.4146628f0\n",
      "81040.0027825594022071257\n",
      "mse_loss(xtest, ytest) = 0.7509998f0\n",
      "mse_loss(xtest, ytest) = 0.6947689f0\n"
     ]
    },
    {
     "name": "stderr",
     "output_type": "stream",
     "text": [
      "┌ Info: Epoch 1\n",
      "└ @ ConvGRU /Users/kahingleung/.julia/packages/Flux/sY3yx/src/optimise/train.jl:136\n"
     ]
    },
    {
     "name": "stdout",
     "output_type": "stream",
     "text": [
      "mse_loss(xtest, ytest) = 0.41371885f0\n"
     ]
    },
    {
     "name": "stderr",
     "output_type": "stream",
     "text": [
      "┌ Info: Epoch 2\n",
      "└ @ ConvGRU /Users/kahingleung/.julia/packages/Flux/sY3yx/src/optimise/train.jl:136\n"
     ]
    },
    {
     "name": "stdout",
     "output_type": "stream",
     "text": [
      "mse_loss(xtest, ytest) = 0.4209894f0\n"
     ]
    },
    {
     "name": "stderr",
     "output_type": "stream",
     "text": [
      "┌ Info: Epoch 3\n",
      "└ @ ConvGRU /Users/kahingleung/.julia/packages/Flux/sY3yx/src/optimise/train.jl:136\n"
     ]
    },
    {
     "name": "stdout",
     "output_type": "stream",
     "text": [
      "mse_loss(xtest, ytest) = 0.42110783f0\n"
     ]
    },
    {
     "name": "stderr",
     "output_type": "stream",
     "text": [
      "┌ Info: Epoch 4\n",
      "└ @ ConvGRU /Users/kahingleung/.julia/packages/Flux/sY3yx/src/optimise/train.jl:136\n",
      "┌ Info: Epoch 5\n",
      "└ @ ConvGRU /Users/kahingleung/.julia/packages/Flux/sY3yx/src/optimise/train.jl:136\n"
     ]
    },
    {
     "name": "stdout",
     "output_type": "stream",
     "text": [
      "mse_loss(xtest, ytest) = 0.42129743f0\n",
      "mse_loss(xtest, ytest) = 0.42533007f0\n"
     ]
    },
    {
     "name": "stderr",
     "output_type": "stream",
     "text": [
      "┌ Info: Epoch 6\n",
      "└ @ ConvGRU /Users/kahingleung/.julia/packages/Flux/sY3yx/src/optimise/train.jl:136\n"
     ]
    },
    {
     "name": "stdout",
     "output_type": "stream",
     "text": [
      "mse_loss(xtest, ytest) = 0.4275318f0\n"
     ]
    },
    {
     "name": "stderr",
     "output_type": "stream",
     "text": [
      "┌ Info: Epoch 7\n",
      "└ @ ConvGRU /Users/kahingleung/.julia/packages/Flux/sY3yx/src/optimise/train.jl:136\n",
      "┌ Info: Epoch 8\n",
      "└ @ ConvGRU /Users/kahingleung/.julia/packages/Flux/sY3yx/src/optimise/train.jl:136\n"
     ]
    },
    {
     "name": "stdout",
     "output_type": "stream",
     "text": [
      "mse_loss(xtest, ytest) = 0.42836836f0\n",
      "mse_loss(xtest, ytest) = 0.42874932f0\n"
     ]
    },
    {
     "name": "stderr",
     "output_type": "stream",
     "text": [
      "┌ Info: Epoch 9\n",
      "└ @ ConvGRU /Users/kahingleung/.julia/packages/Flux/sY3yx/src/optimise/train.jl:136\n",
      "┌ Info: Epoch 10\n",
      "└ @ ConvGRU /Users/kahingleung/.julia/packages/Flux/sY3yx/src/optimise/train.jl:136\n"
     ]
    },
    {
     "name": "stdout",
     "output_type": "stream",
     "text": [
      "mse_loss(xtest, ytest) = 0.42782965f0\n"
     ]
    },
    {
     "name": "stderr",
     "output_type": "stream",
     "text": [
      "┌ Info: Epoch 11\n",
      "└ @ ConvGRU /Users/kahingleung/.julia/packages/Flux/sY3yx/src/optimise/train.jl:136\n"
     ]
    },
    {
     "name": "stdout",
     "output_type": "stream",
     "text": [
      "mse_loss(xtest, ytest) = 0.42614567f0\n",
      "mse_loss(xtest, ytest) = 0.427802f0\n"
     ]
    },
    {
     "name": "stderr",
     "output_type": "stream",
     "text": [
      "┌ Info: Epoch 12\n",
      "└ @ ConvGRU /Users/kahingleung/.julia/packages/Flux/sY3yx/src/optimise/train.jl:136\n",
      "┌ Info: Epoch 13\n",
      "└ @ ConvGRU /Users/kahingleung/.julia/packages/Flux/sY3yx/src/optimise/train.jl:136\n"
     ]
    },
    {
     "name": "stdout",
     "output_type": "stream",
     "text": [
      "mse_loss(xtest, ytest) = 0.42644575f0\n",
      "mse_loss(xtest, ytest) = 0.4282463f0\n"
     ]
    },
    {
     "name": "stderr",
     "output_type": "stream",
     "text": [
      "┌ Info: Epoch 14\n",
      "└ @ ConvGRU /Users/kahingleung/.julia/packages/Flux/sY3yx/src/optimise/train.jl:136\n"
     ]
    },
    {
     "name": "stdout",
     "output_type": "stream",
     "text": [
      "mse_loss(xtest, ytest) = 0.4296842f0\n"
     ]
    },
    {
     "name": "stderr",
     "output_type": "stream",
     "text": [
      "┌ Info: Epoch 15\n",
      "└ @ ConvGRU /Users/kahingleung/.julia/packages/Flux/sY3yx/src/optimise/train.jl:136\n"
     ]
    },
    {
     "name": "stdout",
     "output_type": "stream",
     "text": [
      "mse_loss(xtest, ytest) = 0.42798406f0\n"
     ]
    },
    {
     "name": "stderr",
     "output_type": "stream",
     "text": [
      "┌ Info: Epoch 16\n",
      "└ @ ConvGRU /Users/kahingleung/.julia/packages/Flux/sY3yx/src/optimise/train.jl:136\n"
     ]
    },
    {
     "name": "stdout",
     "output_type": "stream",
     "text": [
      "mse_loss(xtest, ytest) = 0.42892376f0\n"
     ]
    },
    {
     "name": "stderr",
     "output_type": "stream",
     "text": [
      "┌ Info: Epoch 17\n",
      "└ @ ConvGRU /Users/kahingleung/.julia/packages/Flux/sY3yx/src/optimise/train.jl:136\n"
     ]
    },
    {
     "name": "stdout",
     "output_type": "stream",
     "text": [
      "mse_loss(xtest, ytest) = 0.43073633f0\n"
     ]
    },
    {
     "name": "stderr",
     "output_type": "stream",
     "text": [
      "┌ Info: Epoch 18\n",
      "└ @ ConvGRU /Users/kahingleung/.julia/packages/Flux/sY3yx/src/optimise/train.jl:136\n"
     ]
    },
    {
     "name": "stdout",
     "output_type": "stream",
     "text": [
      "mse_loss(xtest, ytest) = 0.42863578f0\n"
     ]
    },
    {
     "name": "stderr",
     "output_type": "stream",
     "text": [
      "┌ Info: Epoch 19\n",
      "└ @ ConvGRU /Users/kahingleung/.julia/packages/Flux/sY3yx/src/optimise/train.jl:136\n"
     ]
    },
    {
     "name": "stdout",
     "output_type": "stream",
     "text": [
      "mse_loss(xtest, ytest) = 0.42493626f0\n"
     ]
    },
    {
     "name": "stderr",
     "output_type": "stream",
     "text": [
      "┌ Info: Epoch 20\n",
      "└ @ ConvGRU /Users/kahingleung/.julia/packages/Flux/sY3yx/src/optimise/train.jl:136\n"
     ]
    },
    {
     "name": "stdout",
     "output_type": "stream",
     "text": [
      "mse_loss(xtest, ytest) = 0.42601836f0\n"
     ]
    },
    {
     "name": "stderr",
     "output_type": "stream",
     "text": [
      "┌ Info: Epoch 21\n",
      "└ @ ConvGRU /Users/kahingleung/.julia/packages/Flux/sY3yx/src/optimise/train.jl:136\n"
     ]
    },
    {
     "name": "stdout",
     "output_type": "stream",
     "text": [
      "mse_loss(xtest, ytest) = 0.42814678f0\n"
     ]
    },
    {
     "name": "stderr",
     "output_type": "stream",
     "text": [
      "┌ Info: Epoch 22\n",
      "└ @ ConvGRU /Users/kahingleung/.julia/packages/Flux/sY3yx/src/optimise/train.jl:136\n"
     ]
    },
    {
     "name": "stdout",
     "output_type": "stream",
     "text": [
      "mse_loss(xtest, ytest) = 0.42550734f0\n"
     ]
    },
    {
     "name": "stderr",
     "output_type": "stream",
     "text": [
      "┌ Info: Epoch 23\n",
      "└ @ ConvGRU /Users/kahingleung/.julia/packages/Flux/sY3yx/src/optimise/train.jl:136\n"
     ]
    },
    {
     "name": "stdout",
     "output_type": "stream",
     "text": [
      "mse_loss(xtest, ytest) = 0.426726f0\n"
     ]
    },
    {
     "name": "stderr",
     "output_type": "stream",
     "text": [
      "┌ Info: Epoch 24\n",
      "└ @ ConvGRU /Users/kahingleung/.julia/packages/Flux/sY3yx/src/optimise/train.jl:136\n"
     ]
    },
    {
     "name": "stdout",
     "output_type": "stream",
     "text": [
      "mse_loss(xtest, ytest) = 0.42624745f0\n"
     ]
    },
    {
     "name": "stderr",
     "output_type": "stream",
     "text": [
      "┌ Info: Epoch 25\n",
      "└ @ ConvGRU /Users/kahingleung/.julia/packages/Flux/sY3yx/src/optimise/train.jl:136\n"
     ]
    },
    {
     "name": "stdout",
     "output_type": "stream",
     "text": [
      "mse_loss(xtest, ytest) = 0.42851803f0\n"
     ]
    },
    {
     "name": "stderr",
     "output_type": "stream",
     "text": [
      "┌ Info: Epoch 26\n",
      "└ @ ConvGRU /Users/kahingleung/.julia/packages/Flux/sY3yx/src/optimise/train.jl:136\n"
     ]
    },
    {
     "name": "stdout",
     "output_type": "stream",
     "text": [
      "mse_loss(xtest, ytest) = 0.4273661f0\n"
     ]
    },
    {
     "name": "stderr",
     "output_type": "stream",
     "text": [
      "┌ Info: Epoch 27\n",
      "└ @ ConvGRU /Users/kahingleung/.julia/packages/Flux/sY3yx/src/optimise/train.jl:136\n",
      "┌ Info: Epoch 28\n",
      "└ @ ConvGRU /Users/kahingleung/.julia/packages/Flux/sY3yx/src/optimise/train.jl:136\n"
     ]
    },
    {
     "name": "stdout",
     "output_type": "stream",
     "text": [
      "mse_loss(xtest, ytest) = 0.42627668f0\n",
      "mse_loss(xtest, ytest) = 0.42526543f0\n"
     ]
    },
    {
     "name": "stderr",
     "output_type": "stream",
     "text": [
      "┌ Info: Epoch 29\n",
      "└ @ ConvGRU /Users/kahingleung/.julia/packages/Flux/sY3yx/src/optimise/train.jl:136\n"
     ]
    },
    {
     "name": "stdout",
     "output_type": "stream",
     "text": [
      "mse_loss(xtest, ytest) = 0.4262478f0\n"
     ]
    },
    {
     "name": "stderr",
     "output_type": "stream",
     "text": [
      "┌ Info: Epoch 30\n",
      "└ @ ConvGRU /Users/kahingleung/.julia/packages/Flux/sY3yx/src/optimise/train.jl:136\n"
     ]
    },
    {
     "name": "stdout",
     "output_type": "stream",
     "text": [
      "(250,)\n",
      "myObjective(df, seqlen, Nh, lr, sym * \"-\" * string(i)) = 0.4127656f0\n",
      "91520.001291549665014884\n",
      "mse_loss(xtest, ytest) = 0.7402386f0\n",
      "mse_loss(xtest, ytest) = 0.7217286f0\n"
     ]
    },
    {
     "name": "stderr",
     "output_type": "stream",
     "text": [
      "┌ Info: Epoch 1\n",
      "└ @ ConvGRU /Users/kahingleung/.julia/packages/Flux/sY3yx/src/optimise/train.jl:136\n"
     ]
    },
    {
     "name": "stdout",
     "output_type": "stream",
     "text": [
      "mse_loss(xtest, ytest) = 0.54334205f0\n"
     ]
    },
    {
     "name": "stderr",
     "output_type": "stream",
     "text": [
      "┌ Info: Epoch 2\n",
      "└ @ ConvGRU /Users/kahingleung/.julia/packages/Flux/sY3yx/src/optimise/train.jl:136\n"
     ]
    },
    {
     "name": "stdout",
     "output_type": "stream",
     "text": [
      "mse_loss(xtest, ytest) = 0.43265668f0\n"
     ]
    },
    {
     "name": "stderr",
     "output_type": "stream",
     "text": [
      "┌ Info: Epoch 3\n",
      "└ @ ConvGRU /Users/kahingleung/.julia/packages/Flux/sY3yx/src/optimise/train.jl:136\n"
     ]
    },
    {
     "name": "stdout",
     "output_type": "stream",
     "text": [
      "mse_loss(xtest, ytest) = 0.40793172f0\n"
     ]
    },
    {
     "name": "stderr",
     "output_type": "stream",
     "text": [
      "┌ Info: Epoch 4\n",
      "└ @ ConvGRU /Users/kahingleung/.julia/packages/Flux/sY3yx/src/optimise/train.jl:136\n"
     ]
    },
    {
     "name": "stdout",
     "output_type": "stream",
     "text": [
      "mse_loss(xtest, ytest) = 0.415127f0\n"
     ]
    },
    {
     "name": "stderr",
     "output_type": "stream",
     "text": [
      "┌ Info: Epoch 5\n",
      "└ @ ConvGRU /Users/kahingleung/.julia/packages/Flux/sY3yx/src/optimise/train.jl:136\n",
      "┌ Info: Epoch 6\n",
      "└ @ ConvGRU /Users/kahingleung/.julia/packages/Flux/sY3yx/src/optimise/train.jl:136\n"
     ]
    },
    {
     "name": "stdout",
     "output_type": "stream",
     "text": [
      "mse_loss(xtest, ytest) = 0.4178905f0\n",
      "mse_loss(xtest, ytest) = 0.41678607f0\n"
     ]
    },
    {
     "name": "stderr",
     "output_type": "stream",
     "text": [
      "┌ Info: Epoch 7\n",
      "└ @ ConvGRU /Users/kahingleung/.julia/packages/Flux/sY3yx/src/optimise/train.jl:136\n"
     ]
    },
    {
     "name": "stdout",
     "output_type": "stream",
     "text": [
      "mse_loss(xtest, ytest) = 0.4184838f0\n"
     ]
    },
    {
     "name": "stderr",
     "output_type": "stream",
     "text": [
      "┌ Info: Epoch 8\n",
      "└ @ ConvGRU /Users/kahingleung/.julia/packages/Flux/sY3yx/src/optimise/train.jl:136\n"
     ]
    },
    {
     "name": "stdout",
     "output_type": "stream",
     "text": [
      "mse_loss(xtest, ytest) = 0.41917506f0\n"
     ]
    },
    {
     "name": "stderr",
     "output_type": "stream",
     "text": [
      "┌ Info: Epoch 9\n",
      "└ @ ConvGRU /Users/kahingleung/.julia/packages/Flux/sY3yx/src/optimise/train.jl:136\n"
     ]
    },
    {
     "name": "stdout",
     "output_type": "stream",
     "text": [
      "mse_loss(xtest, ytest) = 0.42093694f0\n"
     ]
    },
    {
     "name": "stderr",
     "output_type": "stream",
     "text": [
      "┌ Info: Epoch 10\n",
      "└ @ ConvGRU /Users/kahingleung/.julia/packages/Flux/sY3yx/src/optimise/train.jl:136\n"
     ]
    },
    {
     "name": "stdout",
     "output_type": "stream",
     "text": [
      "mse_loss(xtest, ytest) = 0.4199917f0\n"
     ]
    },
    {
     "name": "stderr",
     "output_type": "stream",
     "text": [
      "┌ Info: Epoch 11\n",
      "└ @ ConvGRU /Users/kahingleung/.julia/packages/Flux/sY3yx/src/optimise/train.jl:136\n"
     ]
    },
    {
     "name": "stdout",
     "output_type": "stream",
     "text": [
      "mse_loss(xtest, ytest) = 0.41938576f0\n"
     ]
    },
    {
     "name": "stderr",
     "output_type": "stream",
     "text": [
      "┌ Info: Epoch 12\n",
      "└ @ ConvGRU /Users/kahingleung/.julia/packages/Flux/sY3yx/src/optimise/train.jl:136\n",
      "┌ Info: Epoch 13\n",
      "└ @ ConvGRU /Users/kahingleung/.julia/packages/Flux/sY3yx/src/optimise/train.jl:136\n"
     ]
    },
    {
     "name": "stdout",
     "output_type": "stream",
     "text": [
      "mse_loss(xtest, ytest) = 0.4201638f0\n",
      "mse_loss(xtest, ytest) = 0.41867417f0\n"
     ]
    },
    {
     "name": "stderr",
     "output_type": "stream",
     "text": [
      "┌ Info: Epoch 14\n",
      "└ @ ConvGRU /Users/kahingleung/.julia/packages/Flux/sY3yx/src/optimise/train.jl:136\n"
     ]
    },
    {
     "name": "stdout",
     "output_type": "stream",
     "text": [
      "mse_loss(xtest, ytest) = 0.4192904f0\n"
     ]
    },
    {
     "name": "stderr",
     "output_type": "stream",
     "text": [
      "┌ Info: Epoch 15\n",
      "└ @ ConvGRU /Users/kahingleung/.julia/packages/Flux/sY3yx/src/optimise/train.jl:136\n"
     ]
    },
    {
     "name": "stdout",
     "output_type": "stream",
     "text": [
      "mse_loss(xtest, ytest) = 0.41902727f0\n"
     ]
    },
    {
     "name": "stderr",
     "output_type": "stream",
     "text": [
      "┌ Info: Epoch 16\n",
      "└ @ ConvGRU /Users/kahingleung/.julia/packages/Flux/sY3yx/src/optimise/train.jl:136\n"
     ]
    },
    {
     "name": "stdout",
     "output_type": "stream",
     "text": [
      "mse_loss(xtest, ytest) = 0.41840214f0\n"
     ]
    },
    {
     "name": "stderr",
     "output_type": "stream",
     "text": [
      "┌ Info: Epoch 17\n",
      "└ @ ConvGRU /Users/kahingleung/.julia/packages/Flux/sY3yx/src/optimise/train.jl:136\n"
     ]
    },
    {
     "name": "stdout",
     "output_type": "stream",
     "text": [
      "mse_loss(xtest, ytest) = 0.41966167f0\n"
     ]
    },
    {
     "name": "stderr",
     "output_type": "stream",
     "text": [
      "┌ Info: Epoch 18\n",
      "└ @ ConvGRU /Users/kahingleung/.julia/packages/Flux/sY3yx/src/optimise/train.jl:136\n"
     ]
    },
    {
     "name": "stdout",
     "output_type": "stream",
     "text": [
      "mse_loss(xtest, ytest) = 0.41940552f0\n"
     ]
    },
    {
     "name": "stderr",
     "output_type": "stream",
     "text": [
      "┌ Info: Epoch 19\n",
      "└ @ ConvGRU /Users/kahingleung/.julia/packages/Flux/sY3yx/src/optimise/train.jl:136\n"
     ]
    },
    {
     "name": "stdout",
     "output_type": "stream",
     "text": [
      "mse_loss(xtest, ytest) = 0.4194468f0\n"
     ]
    },
    {
     "name": "stderr",
     "output_type": "stream",
     "text": [
      "┌ Info: Epoch 20\n",
      "└ @ ConvGRU /Users/kahingleung/.julia/packages/Flux/sY3yx/src/optimise/train.jl:136\n"
     ]
    },
    {
     "name": "stdout",
     "output_type": "stream",
     "text": [
      "mse_loss(xtest, ytest) = 0.4208019f0\n"
     ]
    },
    {
     "name": "stderr",
     "output_type": "stream",
     "text": [
      "┌ Info: Epoch 21\n",
      "└ @ ConvGRU /Users/kahingleung/.julia/packages/Flux/sY3yx/src/optimise/train.jl:136\n"
     ]
    },
    {
     "name": "stdout",
     "output_type": "stream",
     "text": [
      "mse_loss(xtest, ytest) = 0.4200075f0\n"
     ]
    },
    {
     "name": "stderr",
     "output_type": "stream",
     "text": [
      "┌ Info: Epoch 22\n",
      "└ @ ConvGRU /Users/kahingleung/.julia/packages/Flux/sY3yx/src/optimise/train.jl:136\n",
      "┌ Info: Epoch 23\n",
      "└ @ ConvGRU /Users/kahingleung/.julia/packages/Flux/sY3yx/src/optimise/train.jl:136\n"
     ]
    },
    {
     "name": "stdout",
     "output_type": "stream",
     "text": [
      "mse_loss(xtest, ytest) = 0.41987535f0\n",
      "mse_loss(xtest, ytest) = 0.42174003f0\n"
     ]
    },
    {
     "name": "stderr",
     "output_type": "stream",
     "text": [
      "┌ Info: Epoch 24\n",
      "└ @ ConvGRU /Users/kahingleung/.julia/packages/Flux/sY3yx/src/optimise/train.jl:136\n"
     ]
    },
    {
     "name": "stdout",
     "output_type": "stream",
     "text": [
      "mse_loss(xtest, ytest) = 0.42065808f0\n"
     ]
    },
    {
     "name": "stderr",
     "output_type": "stream",
     "text": [
      "┌ Info: Epoch 25\n",
      "└ @ ConvGRU /Users/kahingleung/.julia/packages/Flux/sY3yx/src/optimise/train.jl:136\n"
     ]
    },
    {
     "name": "stdout",
     "output_type": "stream",
     "text": [
      "mse_loss(xtest, ytest) = 0.42175868f0\n"
     ]
    },
    {
     "name": "stderr",
     "output_type": "stream",
     "text": [
      "┌ Info: Epoch 26\n",
      "└ @ ConvGRU /Users/kahingleung/.julia/packages/Flux/sY3yx/src/optimise/train.jl:136\n"
     ]
    },
    {
     "name": "stdout",
     "output_type": "stream",
     "text": [
      "mse_loss(xtest, ytest) = 0.42213324f0\n"
     ]
    },
    {
     "name": "stderr",
     "output_type": "stream",
     "text": [
      "┌ Info: Epoch 27\n",
      "└ @ ConvGRU /Users/kahingleung/.julia/packages/Flux/sY3yx/src/optimise/train.jl:136\n"
     ]
    },
    {
     "name": "stdout",
     "output_type": "stream",
     "text": [
      "mse_loss(xtest, ytest) = 0.4226549f0\n"
     ]
    },
    {
     "name": "stderr",
     "output_type": "stream",
     "text": [
      "┌ Info: Epoch 28\n",
      "└ @ ConvGRU /Users/kahingleung/.julia/packages/Flux/sY3yx/src/optimise/train.jl:136\n"
     ]
    },
    {
     "name": "stdout",
     "output_type": "stream",
     "text": [
      "mse_loss(xtest, ytest) = 0.42177954f0\n"
     ]
    },
    {
     "name": "stderr",
     "output_type": "stream",
     "text": [
      "┌ Info: Epoch 29\n",
      "└ @ ConvGRU /Users/kahingleung/.julia/packages/Flux/sY3yx/src/optimise/train.jl:136\n"
     ]
    },
    {
     "name": "stdout",
     "output_type": "stream",
     "text": [
      "mse_loss(xtest, ytest) = 0.42254767f0\n"
     ]
    },
    {
     "name": "stderr",
     "output_type": "stream",
     "text": [
      "┌ Info: Epoch 30\n",
      "└ @ ConvGRU /Users/kahingleung/.julia/packages/Flux/sY3yx/src/optimise/train.jl:136\n"
     ]
    },
    {
     "name": "stdout",
     "output_type": "stream",
     "text": [
      "(250,)\n",
      "myObjective(df, seqlen, Nh, lr, sym * \"-\" * string(i)) = 0.4168688f0\n",
      "102080.005994842503189409\n",
      "mse_loss(xtest, ytest) = 0.7943191f0\n",
      "mse_loss(xtest, ytest) = 0.5483963f0\n"
     ]
    },
    {
     "name": "stderr",
     "output_type": "stream",
     "text": [
      "┌ Info: Epoch 1\n",
      "└ @ ConvGRU /Users/kahingleung/.julia/packages/Flux/sY3yx/src/optimise/train.jl:136\n",
      "┌ Info: Epoch 2\n",
      "└ @ ConvGRU /Users/kahingleung/.julia/packages/Flux/sY3yx/src/optimise/train.jl:136\n"
     ]
    },
    {
     "name": "stdout",
     "output_type": "stream",
     "text": [
      "mse_loss(xtest, ytest) = 0.4867955f0\n",
      "mse_loss(xtest, ytest) = 0.48388755f0\n"
     ]
    },
    {
     "name": "stderr",
     "output_type": "stream",
     "text": [
      "┌ Info: Epoch 3\n",
      "└ @ ConvGRU /Users/kahingleung/.julia/packages/Flux/sY3yx/src/optimise/train.jl:136\n"
     ]
    },
    {
     "name": "stdout",
     "output_type": "stream",
     "text": [
      "mse_loss(xtest, ytest) = 0.47359625f0\n"
     ]
    },
    {
     "name": "stderr",
     "output_type": "stream",
     "text": [
      "┌ Info: Epoch 4\n",
      "└ @ ConvGRU /Users/kahingleung/.julia/packages/Flux/sY3yx/src/optimise/train.jl:136\n"
     ]
    },
    {
     "name": "stdout",
     "output_type": "stream",
     "text": [
      "mse_loss(xtest, ytest) = 0.4656431f0\n"
     ]
    },
    {
     "name": "stderr",
     "output_type": "stream",
     "text": [
      "┌ Info: Epoch 5\n",
      "└ @ ConvGRU /Users/kahingleung/.julia/packages/Flux/sY3yx/src/optimise/train.jl:136\n"
     ]
    },
    {
     "name": "stdout",
     "output_type": "stream",
     "text": [
      "mse_loss(xtest, ytest) = 0.46403596f0\n"
     ]
    },
    {
     "name": "stderr",
     "output_type": "stream",
     "text": [
      "┌ Info: Epoch 6\n",
      "└ @ ConvGRU /Users/kahingleung/.julia/packages/Flux/sY3yx/src/optimise/train.jl:136\n",
      "┌ Info: Epoch 7\n",
      "└ @ ConvGRU /Users/kahingleung/.julia/packages/Flux/sY3yx/src/optimise/train.jl:136\n"
     ]
    },
    {
     "name": "stdout",
     "output_type": "stream",
     "text": [
      "mse_loss(xtest, ytest) = 0.46083674f0\n"
     ]
    },
    {
     "name": "stderr",
     "output_type": "stream",
     "text": [
      "┌ Info: Epoch 8\n",
      "└ @ ConvGRU /Users/kahingleung/.julia/packages/Flux/sY3yx/src/optimise/train.jl:136\n"
     ]
    },
    {
     "name": "stdout",
     "output_type": "stream",
     "text": [
      "mse_loss(xtest, ytest) = 0.4540846f0\n",
      "mse_loss(xtest, ytest) = 0.45218372f0\n"
     ]
    },
    {
     "name": "stderr",
     "output_type": "stream",
     "text": [
      "┌ Info: Epoch 9\n",
      "└ @ ConvGRU /Users/kahingleung/.julia/packages/Flux/sY3yx/src/optimise/train.jl:136\n"
     ]
    },
    {
     "name": "stdout",
     "output_type": "stream",
     "text": [
      "mse_loss(xtest, ytest) = 0.45279068f0\n"
     ]
    },
    {
     "name": "stderr",
     "output_type": "stream",
     "text": [
      "┌ Info: Epoch 10\n",
      "└ @ ConvGRU /Users/kahingleung/.julia/packages/Flux/sY3yx/src/optimise/train.jl:136\n"
     ]
    },
    {
     "name": "stdout",
     "output_type": "stream",
     "text": [
      "mse_loss(xtest, ytest) = 0.4541768f0\n"
     ]
    },
    {
     "name": "stderr",
     "output_type": "stream",
     "text": [
      "┌ Info: Epoch 11\n",
      "└ @ ConvGRU /Users/kahingleung/.julia/packages/Flux/sY3yx/src/optimise/train.jl:136\n"
     ]
    },
    {
     "name": "stdout",
     "output_type": "stream",
     "text": [
      "mse_loss(xtest, ytest) = 0.4534668f0\n"
     ]
    },
    {
     "name": "stderr",
     "output_type": "stream",
     "text": [
      "┌ Info: Epoch 12\n",
      "└ @ ConvGRU /Users/kahingleung/.julia/packages/Flux/sY3yx/src/optimise/train.jl:136\n",
      "┌ Info: Epoch 13\n",
      "└ @ ConvGRU /Users/kahingleung/.julia/packages/Flux/sY3yx/src/optimise/train.jl:136\n"
     ]
    },
    {
     "name": "stdout",
     "output_type": "stream",
     "text": [
      "mse_loss(xtest, ytest) = 0.45452887f0\n"
     ]
    },
    {
     "name": "stderr",
     "output_type": "stream",
     "text": [
      "┌ Info: Epoch 14\n",
      "└ @ ConvGRU /Users/kahingleung/.julia/packages/Flux/sY3yx/src/optimise/train.jl:136\n"
     ]
    },
    {
     "name": "stdout",
     "output_type": "stream",
     "text": [
      "mse_loss(xtest, ytest) = 0.454488f0\n",
      "mse_loss(xtest, ytest) = 0.45425165f0\n"
     ]
    },
    {
     "name": "stderr",
     "output_type": "stream",
     "text": [
      "┌ Info: Epoch 15\n",
      "└ @ ConvGRU /Users/kahingleung/.julia/packages/Flux/sY3yx/src/optimise/train.jl:136\n"
     ]
    },
    {
     "name": "stdout",
     "output_type": "stream",
     "text": [
      "mse_loss(xtest, ytest) = 0.45077533f0\n"
     ]
    },
    {
     "name": "stderr",
     "output_type": "stream",
     "text": [
      "┌ Info: Epoch 16\n",
      "└ @ ConvGRU /Users/kahingleung/.julia/packages/Flux/sY3yx/src/optimise/train.jl:136\n"
     ]
    },
    {
     "name": "stdout",
     "output_type": "stream",
     "text": [
      "mse_loss(xtest, ytest) = 0.45048288f0\n"
     ]
    },
    {
     "name": "stderr",
     "output_type": "stream",
     "text": [
      "┌ Info: Epoch 17\n",
      "└ @ ConvGRU /Users/kahingleung/.julia/packages/Flux/sY3yx/src/optimise/train.jl:136\n"
     ]
    },
    {
     "name": "stdout",
     "output_type": "stream",
     "text": [
      "mse_loss(xtest, ytest) = 0.448714f0\n"
     ]
    },
    {
     "name": "stderr",
     "output_type": "stream",
     "text": [
      "┌ Info: Epoch 18\n",
      "└ @ ConvGRU /Users/kahingleung/.julia/packages/Flux/sY3yx/src/optimise/train.jl:136\n"
     ]
    },
    {
     "name": "stdout",
     "output_type": "stream",
     "text": [
      "mse_loss(xtest, ytest) = 0.44430318f0\n"
     ]
    },
    {
     "name": "stderr",
     "output_type": "stream",
     "text": [
      "┌ Info: Epoch 19\n",
      "└ @ ConvGRU /Users/kahingleung/.julia/packages/Flux/sY3yx/src/optimise/train.jl:136\n",
      "┌ Info: Epoch 20\n",
      "└ @ ConvGRU /Users/kahingleung/.julia/packages/Flux/sY3yx/src/optimise/train.jl:136\n"
     ]
    },
    {
     "name": "stdout",
     "output_type": "stream",
     "text": [
      "mse_loss(xtest, ytest) = 0.44350153f0\n",
      "mse_loss(xtest, ytest) = 0.4411942f0\n"
     ]
    },
    {
     "name": "stderr",
     "output_type": "stream",
     "text": [
      "┌ Info: Epoch 21\n",
      "└ @ ConvGRU /Users/kahingleung/.julia/packages/Flux/sY3yx/src/optimise/train.jl:136\n",
      "┌ Info: Epoch 22\n",
      "└ @ ConvGRU /Users/kahingleung/.julia/packages/Flux/sY3yx/src/optimise/train.jl:136\n"
     ]
    },
    {
     "name": "stdout",
     "output_type": "stream",
     "text": [
      "mse_loss(xtest, ytest) = 0.44160455f0\n",
      "mse_loss(xtest, ytest) = 0.44068033f0\n"
     ]
    },
    {
     "name": "stderr",
     "output_type": "stream",
     "text": [
      "┌ Info: Epoch 23\n",
      "└ @ ConvGRU /Users/kahingleung/.julia/packages/Flux/sY3yx/src/optimise/train.jl:136\n",
      "┌ Info: Epoch 24\n",
      "└ @ ConvGRU /Users/kahingleung/.julia/packages/Flux/sY3yx/src/optimise/train.jl:136\n"
     ]
    },
    {
     "name": "stdout",
     "output_type": "stream",
     "text": [
      "mse_loss(xtest, ytest) = 0.43723854f0\n",
      "mse_loss(xtest, ytest) = 0.44210887f0\n"
     ]
    },
    {
     "name": "stderr",
     "output_type": "stream",
     "text": [
      "┌ Info: Epoch 25\n",
      "└ @ ConvGRU /Users/kahingleung/.julia/packages/Flux/sY3yx/src/optimise/train.jl:136\n"
     ]
    },
    {
     "name": "stdout",
     "output_type": "stream",
     "text": [
      "mse_loss(xtest, ytest) = 0.4430693f0\n"
     ]
    },
    {
     "name": "stderr",
     "output_type": "stream",
     "text": [
      "┌ Info: Epoch 26\n",
      "└ @ ConvGRU /Users/kahingleung/.julia/packages/Flux/sY3yx/src/optimise/train.jl:136\n"
     ]
    },
    {
     "name": "stdout",
     "output_type": "stream",
     "text": [
      "mse_loss(xtest, ytest) = 0.4432031f0\n"
     ]
    },
    {
     "name": "stderr",
     "output_type": "stream",
     "text": [
      "┌ Info: Epoch 27\n",
      "└ @ ConvGRU /Users/kahingleung/.julia/packages/Flux/sY3yx/src/optimise/train.jl:136\n"
     ]
    },
    {
     "name": "stdout",
     "output_type": "stream",
     "text": [
      "mse_loss(xtest, ytest) = 0.44623843f0\n"
     ]
    },
    {
     "name": "stderr",
     "output_type": "stream",
     "text": [
      "┌ Info: Epoch 28\n",
      "└ @ ConvGRU /Users/kahingleung/.julia/packages/Flux/sY3yx/src/optimise/train.jl:136\n"
     ]
    },
    {
     "name": "stdout",
     "output_type": "stream",
     "text": [
      "mse_loss(xtest, ytest) = 0.4421743f0\n"
     ]
    },
    {
     "name": "stderr",
     "output_type": "stream",
     "text": [
      "┌ Info: Epoch 29\n",
      "└ @ ConvGRU /Users/kahingleung/.julia/packages/Flux/sY3yx/src/optimise/train.jl:136\n"
     ]
    },
    {
     "name": "stdout",
     "output_type": "stream",
     "text": [
      "mse_loss(xtest, ytest) = 0.44061196f0\n"
     ]
    },
    {
     "name": "stderr",
     "output_type": "stream",
     "text": [
      "┌ Info: Epoch 30\n",
      "└ @ ConvGRU /Users/kahingleung/.julia/packages/Flux/sY3yx/src/optimise/train.jl:136\n"
     ]
    },
    {
     "name": "stdout",
     "output_type": "stream",
     "text": [
      "(250,)\n",
      "myObjective(df, seqlen, Nh, lr, sym * \"-\" * string(i)) = 0.4146624f0\n",
      "112580.007742636826811269\n",
      "mse_loss(xtest, ytest) = 0.70582783f0\n",
      "mse_loss(xtest, ytest) = 0.44033572f0\n"
     ]
    },
    {
     "name": "stderr",
     "output_type": "stream",
     "text": [
      "┌ Info: Epoch 1\n",
      "└ @ ConvGRU /Users/kahingleung/.julia/packages/Flux/sY3yx/src/optimise/train.jl:136\n",
      "┌ Info: Epoch 2\n",
      "└ @ ConvGRU /Users/kahingleung/.julia/packages/Flux/sY3yx/src/optimise/train.jl:136\n"
     ]
    },
    {
     "name": "stdout",
     "output_type": "stream",
     "text": [
      "mse_loss(xtest, ytest) = 0.49365067f0\n",
      "mse_loss(xtest, ytest) = 0.45533994f0\n"
     ]
    },
    {
     "name": "stderr",
     "output_type": "stream",
     "text": [
      "┌ Info: Epoch 3\n",
      "└ @ ConvGRU /Users/kahingleung/.julia/packages/Flux/sY3yx/src/optimise/train.jl:136\n"
     ]
    },
    {
     "name": "stdout",
     "output_type": "stream",
     "text": [
      "mse_loss(xtest, ytest) = 0.46025932f0\n"
     ]
    },
    {
     "name": "stderr",
     "output_type": "stream",
     "text": [
      "┌ Info: Epoch 4\n",
      "└ @ ConvGRU /Users/kahingleung/.julia/packages/Flux/sY3yx/src/optimise/train.jl:136\n"
     ]
    },
    {
     "name": "stdout",
     "output_type": "stream",
     "text": [
      "mse_loss(xtest, ytest) = 0.48416394f0\n"
     ]
    },
    {
     "name": "stderr",
     "output_type": "stream",
     "text": [
      "┌ Info: Epoch 5\n",
      "└ @ ConvGRU /Users/kahingleung/.julia/packages/Flux/sY3yx/src/optimise/train.jl:136\n"
     ]
    },
    {
     "name": "stdout",
     "output_type": "stream",
     "text": [
      "mse_loss(xtest, ytest) = 0.46405077f0\n"
     ]
    },
    {
     "name": "stderr",
     "output_type": "stream",
     "text": [
      "┌ Info: Epoch 6\n",
      "└ @ ConvGRU /Users/kahingleung/.julia/packages/Flux/sY3yx/src/optimise/train.jl:136\n",
      "┌ Info: Epoch 7\n",
      "└ @ ConvGRU /Users/kahingleung/.julia/packages/Flux/sY3yx/src/optimise/train.jl:136\n"
     ]
    },
    {
     "name": "stdout",
     "output_type": "stream",
     "text": [
      "mse_loss(xtest, ytest) = 0.46185243f0\n",
      "mse_loss(xtest, ytest) = 0.46410736f0\n"
     ]
    },
    {
     "name": "stderr",
     "output_type": "stream",
     "text": [
      "┌ Info: Epoch 8\n",
      "└ @ ConvGRU /Users/kahingleung/.julia/packages/Flux/sY3yx/src/optimise/train.jl:136\n"
     ]
    },
    {
     "name": "stdout",
     "output_type": "stream",
     "text": [
      "mse_loss(xtest, ytest) = 0.45894924f0\n"
     ]
    },
    {
     "name": "stderr",
     "output_type": "stream",
     "text": [
      "┌ Info: Epoch 9\n",
      "└ @ ConvGRU /Users/kahingleung/.julia/packages/Flux/sY3yx/src/optimise/train.jl:136\n",
      "┌ Info: Epoch 10\n",
      "└ @ ConvGRU /Users/kahingleung/.julia/packages/Flux/sY3yx/src/optimise/train.jl:136\n"
     ]
    },
    {
     "name": "stdout",
     "output_type": "stream",
     "text": [
      "mse_loss(xtest, ytest) = 0.45079955f0\n",
      "mse_loss(xtest, ytest) = 0.46041307f0\n"
     ]
    },
    {
     "name": "stderr",
     "output_type": "stream",
     "text": [
      "┌ Info: Epoch 11\n",
      "└ @ ConvGRU /Users/kahingleung/.julia/packages/Flux/sY3yx/src/optimise/train.jl:136\n"
     ]
    },
    {
     "name": "stdout",
     "output_type": "stream",
     "text": [
      "mse_loss(xtest, ytest) = 0.45111743f0\n"
     ]
    },
    {
     "name": "stderr",
     "output_type": "stream",
     "text": [
      "┌ Info: Epoch 12\n",
      "└ @ ConvGRU /Users/kahingleung/.julia/packages/Flux/sY3yx/src/optimise/train.jl:136\n",
      "┌ Info: Epoch 13\n",
      "└ @ ConvGRU /Users/kahingleung/.julia/packages/Flux/sY3yx/src/optimise/train.jl:136\n"
     ]
    },
    {
     "name": "stdout",
     "output_type": "stream",
     "text": [
      "mse_loss(xtest, ytest) = 0.46855965f0\n",
      "mse_loss(xtest, ytest) = 0.46493742f0\n"
     ]
    },
    {
     "name": "stderr",
     "output_type": "stream",
     "text": [
      "┌ Info: Epoch 14\n",
      "└ @ ConvGRU /Users/kahingleung/.julia/packages/Flux/sY3yx/src/optimise/train.jl:136\n"
     ]
    },
    {
     "name": "stdout",
     "output_type": "stream",
     "text": [
      "mse_loss(xtest, ytest) = 0.4627729f0\n"
     ]
    },
    {
     "name": "stderr",
     "output_type": "stream",
     "text": [
      "┌ Info: Epoch 15\n",
      "└ @ ConvGRU /Users/kahingleung/.julia/packages/Flux/sY3yx/src/optimise/train.jl:136\n",
      "┌ Info: Epoch 16\n",
      "└ @ ConvGRU /Users/kahingleung/.julia/packages/Flux/sY3yx/src/optimise/train.jl:136\n"
     ]
    },
    {
     "name": "stdout",
     "output_type": "stream",
     "text": [
      "mse_loss(xtest, ytest) = 0.46733508f0\n",
      "mse_loss(xtest, ytest) = 0.45876804f0\n"
     ]
    },
    {
     "name": "stderr",
     "output_type": "stream",
     "text": [
      "┌ Info: Epoch 17\n",
      "└ @ ConvGRU /Users/kahingleung/.julia/packages/Flux/sY3yx/src/optimise/train.jl:136\n"
     ]
    },
    {
     "name": "stdout",
     "output_type": "stream",
     "text": [
      "mse_loss(xtest, ytest) = 0.44442147f0\n"
     ]
    },
    {
     "name": "stderr",
     "output_type": "stream",
     "text": [
      "┌ Info: Epoch 18\n",
      "└ @ ConvGRU /Users/kahingleung/.julia/packages/Flux/sY3yx/src/optimise/train.jl:136\n",
      "┌ Info: Epoch 19\n",
      "└ @ ConvGRU /Users/kahingleung/.julia/packages/Flux/sY3yx/src/optimise/train.jl:136\n"
     ]
    },
    {
     "name": "stdout",
     "output_type": "stream",
     "text": [
      "mse_loss(xtest, ytest) = 0.45377928f0\n",
      "mse_loss(xtest, ytest) = 0.45962423f0\n"
     ]
    },
    {
     "name": "stderr",
     "output_type": "stream",
     "text": [
      "┌ Info: Epoch 20\n",
      "└ @ ConvGRU /Users/kahingleung/.julia/packages/Flux/sY3yx/src/optimise/train.jl:136\n"
     ]
    },
    {
     "name": "stdout",
     "output_type": "stream",
     "text": [
      "mse_loss(xtest, ytest) = 0.45590356f0\n"
     ]
    },
    {
     "name": "stderr",
     "output_type": "stream",
     "text": [
      "┌ Info: Epoch 21\n",
      "└ @ ConvGRU /Users/kahingleung/.julia/packages/Flux/sY3yx/src/optimise/train.jl:136\n",
      "┌ Info: Epoch 22\n",
      "└ @ ConvGRU /Users/kahingleung/.julia/packages/Flux/sY3yx/src/optimise/train.jl:136\n"
     ]
    },
    {
     "name": "stdout",
     "output_type": "stream",
     "text": [
      "mse_loss(xtest, ytest) = 0.45424247f0\n",
      "mse_loss(xtest, ytest) = 0.45042026f0\n"
     ]
    },
    {
     "name": "stderr",
     "output_type": "stream",
     "text": [
      "┌ Info: Epoch 23\n",
      "└ @ ConvGRU /Users/kahingleung/.julia/packages/Flux/sY3yx/src/optimise/train.jl:136\n",
      "┌ Info: Epoch 24\n",
      "└ @ ConvGRU /Users/kahingleung/.julia/packages/Flux/sY3yx/src/optimise/train.jl:136\n"
     ]
    },
    {
     "name": "stdout",
     "output_type": "stream",
     "text": [
      "mse_loss(xtest, ytest) = 0.45363882f0\n"
     ]
    },
    {
     "name": "stderr",
     "output_type": "stream",
     "text": [
      "┌ Info: Epoch 25\n",
      "└ @ ConvGRU /Users/kahingleung/.julia/packages/Flux/sY3yx/src/optimise/train.jl:136\n"
     ]
    },
    {
     "name": "stdout",
     "output_type": "stream",
     "text": [
      "mse_loss(xtest, ytest) = 0.45019493f0\n",
      "mse_loss(xtest, ytest) = 0.4514153f0\n"
     ]
    },
    {
     "name": "stderr",
     "output_type": "stream",
     "text": [
      "┌ Info: Epoch 26\n",
      "└ @ ConvGRU /Users/kahingleung/.julia/packages/Flux/sY3yx/src/optimise/train.jl:136\n",
      "┌ Info: Epoch 27\n",
      "└ @ ConvGRU /Users/kahingleung/.julia/packages/Flux/sY3yx/src/optimise/train.jl:136\n"
     ]
    },
    {
     "name": "stdout",
     "output_type": "stream",
     "text": [
      "mse_loss(xtest, ytest) = 0.44684017f0\n",
      "mse_loss(xtest, ytest) = 0.4437171f0\n"
     ]
    },
    {
     "name": "stderr",
     "output_type": "stream",
     "text": [
      "┌ Info: Epoch 28\n",
      "└ @ ConvGRU /Users/kahingleung/.julia/packages/Flux/sY3yx/src/optimise/train.jl:136\n"
     ]
    },
    {
     "name": "stdout",
     "output_type": "stream",
     "text": [
      "mse_loss(xtest, ytest) = 0.44587168f0\n"
     ]
    },
    {
     "name": "stderr",
     "output_type": "stream",
     "text": [
      "┌ Info: Epoch 29\n",
      "└ @ ConvGRU /Users/kahingleung/.julia/packages/Flux/sY3yx/src/optimise/train.jl:136\n",
      "┌ Info: Epoch 30\n",
      "└ @ ConvGRU /Users/kahingleung/.julia/packages/Flux/sY3yx/src/optimise/train.jl:136\n"
     ]
    },
    {
     "name": "stdout",
     "output_type": "stream",
     "text": [
      "mse_loss(xtest, ytest) = 0.4571465f0\n",
      "(250,)\n",
      "myObjective(df, seqlen, Nh, lr, sym * \"-\" * string(i)) = 0.41695285f0\n",
      "121020.0027825594022071257\n",
      "mse_loss(xtest, ytest) = 0.44441158f0\n",
      "mse_loss(xtest, ytest) = 0.44961977f0\n"
     ]
    },
    {
     "name": "stderr",
     "output_type": "stream",
     "text": [
      "┌ Info: Epoch 1\n",
      "└ @ ConvGRU /Users/kahingleung/.julia/packages/Flux/sY3yx/src/optimise/train.jl:136\n"
     ]
    },
    {
     "name": "stdout",
     "output_type": "stream",
     "text": [
      "mse_loss(xtest, ytest) = 0.41388702f0\n"
     ]
    },
    {
     "name": "stderr",
     "output_type": "stream",
     "text": [
      "┌ Info: Epoch 2\n",
      "└ @ ConvGRU /Users/kahingleung/.julia/packages/Flux/sY3yx/src/optimise/train.jl:136\n"
     ]
    },
    {
     "name": "stdout",
     "output_type": "stream",
     "text": [
      "mse_loss(xtest, ytest) = 0.42079318f0\n"
     ]
    },
    {
     "name": "stderr",
     "output_type": "stream",
     "text": [
      "┌ Info: Epoch 3\n",
      "└ @ ConvGRU /Users/kahingleung/.julia/packages/Flux/sY3yx/src/optimise/train.jl:136\n"
     ]
    },
    {
     "name": "stdout",
     "output_type": "stream",
     "text": [
      "mse_loss(xtest, ytest) = 0.41546655f0\n"
     ]
    },
    {
     "name": "stderr",
     "output_type": "stream",
     "text": [
      "┌ Info: Epoch 4\n",
      "└ @ ConvGRU /Users/kahingleung/.julia/packages/Flux/sY3yx/src/optimise/train.jl:136\n"
     ]
    },
    {
     "name": "stdout",
     "output_type": "stream",
     "text": [
      "mse_loss(xtest, ytest) = 0.42150614f0\n"
     ]
    },
    {
     "name": "stderr",
     "output_type": "stream",
     "text": [
      "┌ Info: Epoch 5\n",
      "└ @ ConvGRU /Users/kahingleung/.julia/packages/Flux/sY3yx/src/optimise/train.jl:136\n"
     ]
    },
    {
     "name": "stdout",
     "output_type": "stream",
     "text": [
      "mse_loss(xtest, ytest) = 0.421947f0\n"
     ]
    },
    {
     "name": "stderr",
     "output_type": "stream",
     "text": [
      "┌ Info: Epoch 6\n",
      "└ @ ConvGRU /Users/kahingleung/.julia/packages/Flux/sY3yx/src/optimise/train.jl:136\n",
      "┌ Info: Epoch 7\n",
      "└ @ ConvGRU /Users/kahingleung/.julia/packages/Flux/sY3yx/src/optimise/train.jl:136\n"
     ]
    },
    {
     "name": "stdout",
     "output_type": "stream",
     "text": [
      "mse_loss(xtest, ytest) = 0.42178228f0\n",
      "mse_loss(xtest, ytest) = 0.42298397f0\n"
     ]
    },
    {
     "name": "stderr",
     "output_type": "stream",
     "text": [
      "┌ Info: Epoch 8\n",
      "└ @ ConvGRU /Users/kahingleung/.julia/packages/Flux/sY3yx/src/optimise/train.jl:136\n",
      "┌ Info: Epoch 9\n",
      "└ @ ConvGRU /Users/kahingleung/.julia/packages/Flux/sY3yx/src/optimise/train.jl:136\n"
     ]
    },
    {
     "name": "stdout",
     "output_type": "stream",
     "text": [
      "mse_loss(xtest, ytest) = 0.4237332f0\n",
      "mse_loss(xtest, ytest) = 0.42468652f0\n"
     ]
    },
    {
     "name": "stderr",
     "output_type": "stream",
     "text": [
      "┌ Info: Epoch 10\n",
      "└ @ ConvGRU /Users/kahingleung/.julia/packages/Flux/sY3yx/src/optimise/train.jl:136\n"
     ]
    },
    {
     "name": "stdout",
     "output_type": "stream",
     "text": [
      "mse_loss(xtest, ytest) = 0.4242829f0\n"
     ]
    },
    {
     "name": "stderr",
     "output_type": "stream",
     "text": [
      "┌ Info: Epoch 11\n",
      "└ @ ConvGRU /Users/kahingleung/.julia/packages/Flux/sY3yx/src/optimise/train.jl:136\n"
     ]
    },
    {
     "name": "stdout",
     "output_type": "stream",
     "text": [
      "mse_loss(xtest, ytest) = 0.42018074f0\n"
     ]
    },
    {
     "name": "stderr",
     "output_type": "stream",
     "text": [
      "┌ Info: Epoch 12\n",
      "└ @ ConvGRU /Users/kahingleung/.julia/packages/Flux/sY3yx/src/optimise/train.jl:136\n"
     ]
    },
    {
     "name": "stdout",
     "output_type": "stream",
     "text": [
      "mse_loss(xtest, ytest) = 0.4234898f0\n"
     ]
    },
    {
     "name": "stderr",
     "output_type": "stream",
     "text": [
      "┌ Info: Epoch 13\n",
      "└ @ ConvGRU /Users/kahingleung/.julia/packages/Flux/sY3yx/src/optimise/train.jl:136\n"
     ]
    },
    {
     "name": "stdout",
     "output_type": "stream",
     "text": [
      "mse_loss(xtest, ytest) = 0.42419553f0\n"
     ]
    },
    {
     "name": "stderr",
     "output_type": "stream",
     "text": [
      "┌ Info: Epoch 14\n",
      "└ @ ConvGRU /Users/kahingleung/.julia/packages/Flux/sY3yx/src/optimise/train.jl:136\n"
     ]
    },
    {
     "name": "stdout",
     "output_type": "stream",
     "text": [
      "mse_loss(xtest, ytest) = 0.4242402f0\n"
     ]
    },
    {
     "name": "stderr",
     "output_type": "stream",
     "text": [
      "┌ Info: Epoch 15\n",
      "└ @ ConvGRU /Users/kahingleung/.julia/packages/Flux/sY3yx/src/optimise/train.jl:136\n"
     ]
    },
    {
     "name": "stdout",
     "output_type": "stream",
     "text": [
      "mse_loss(xtest, ytest) = 0.4246512f0\n"
     ]
    },
    {
     "name": "stderr",
     "output_type": "stream",
     "text": [
      "┌ Info: Epoch 16\n",
      "└ @ ConvGRU /Users/kahingleung/.julia/packages/Flux/sY3yx/src/optimise/train.jl:136\n"
     ]
    },
    {
     "name": "stdout",
     "output_type": "stream",
     "text": [
      "mse_loss(xtest, ytest) = 0.42408344f0\n"
     ]
    },
    {
     "name": "stderr",
     "output_type": "stream",
     "text": [
      "┌ Info: Epoch 17\n",
      "└ @ ConvGRU /Users/kahingleung/.julia/packages/Flux/sY3yx/src/optimise/train.jl:136\n"
     ]
    },
    {
     "name": "stdout",
     "output_type": "stream",
     "text": [
      "mse_loss(xtest, ytest) = 0.42502743f0\n"
     ]
    },
    {
     "name": "stderr",
     "output_type": "stream",
     "text": [
      "┌ Info: Epoch 18\n",
      "└ @ ConvGRU /Users/kahingleung/.julia/packages/Flux/sY3yx/src/optimise/train.jl:136\n"
     ]
    },
    {
     "name": "stdout",
     "output_type": "stream",
     "text": [
      "mse_loss(xtest, ytest) = 0.42524454f0\n"
     ]
    },
    {
     "name": "stderr",
     "output_type": "stream",
     "text": [
      "┌ Info: Epoch 19\n",
      "└ @ ConvGRU /Users/kahingleung/.julia/packages/Flux/sY3yx/src/optimise/train.jl:136\n"
     ]
    },
    {
     "name": "stdout",
     "output_type": "stream",
     "text": [
      "mse_loss(xtest, ytest) = 0.42398047f0\n"
     ]
    },
    {
     "name": "stderr",
     "output_type": "stream",
     "text": [
      "┌ Info: Epoch 20\n",
      "└ @ ConvGRU /Users/kahingleung/.julia/packages/Flux/sY3yx/src/optimise/train.jl:136\n"
     ]
    },
    {
     "name": "stdout",
     "output_type": "stream",
     "text": [
      "mse_loss(xtest, ytest) = 0.42488378f0\n"
     ]
    },
    {
     "name": "stderr",
     "output_type": "stream",
     "text": [
      "┌ Info: Epoch 21\n",
      "└ @ ConvGRU /Users/kahingleung/.julia/packages/Flux/sY3yx/src/optimise/train.jl:136\n"
     ]
    },
    {
     "name": "stdout",
     "output_type": "stream",
     "text": [
      "mse_loss(xtest, ytest) = 0.42356917f0\n"
     ]
    },
    {
     "name": "stderr",
     "output_type": "stream",
     "text": [
      "┌ Info: Epoch 22\n",
      "└ @ ConvGRU /Users/kahingleung/.julia/packages/Flux/sY3yx/src/optimise/train.jl:136\n"
     ]
    },
    {
     "name": "stdout",
     "output_type": "stream",
     "text": [
      "mse_loss(xtest, ytest) = 0.42436585f0\n"
     ]
    },
    {
     "name": "stderr",
     "output_type": "stream",
     "text": [
      "┌ Info: Epoch 23\n",
      "└ @ ConvGRU /Users/kahingleung/.julia/packages/Flux/sY3yx/src/optimise/train.jl:136\n"
     ]
    },
    {
     "name": "stdout",
     "output_type": "stream",
     "text": [
      "mse_loss(xtest, ytest) = 0.42377484f0\n"
     ]
    },
    {
     "name": "stderr",
     "output_type": "stream",
     "text": [
      "┌ Info: Epoch 24\n",
      "└ @ ConvGRU /Users/kahingleung/.julia/packages/Flux/sY3yx/src/optimise/train.jl:136\n"
     ]
    },
    {
     "name": "stdout",
     "output_type": "stream",
     "text": [
      "mse_loss(xtest, ytest) = 0.4236361f0\n"
     ]
    },
    {
     "name": "stderr",
     "output_type": "stream",
     "text": [
      "┌ Info: Epoch 25\n",
      "└ @ ConvGRU /Users/kahingleung/.julia/packages/Flux/sY3yx/src/optimise/train.jl:136\n"
     ]
    },
    {
     "name": "stdout",
     "output_type": "stream",
     "text": [
      "mse_loss(xtest, ytest) = 0.42319456f0\n"
     ]
    },
    {
     "name": "stderr",
     "output_type": "stream",
     "text": [
      "┌ Info: Epoch 26\n",
      "└ @ ConvGRU /Users/kahingleung/.julia/packages/Flux/sY3yx/src/optimise/train.jl:136\n"
     ]
    },
    {
     "name": "stdout",
     "output_type": "stream",
     "text": [
      "mse_loss(xtest, ytest) = 0.42404276f0\n"
     ]
    },
    {
     "name": "stderr",
     "output_type": "stream",
     "text": [
      "┌ Info: Epoch 27\n",
      "└ @ ConvGRU /Users/kahingleung/.julia/packages/Flux/sY3yx/src/optimise/train.jl:136\n"
     ]
    },
    {
     "name": "stdout",
     "output_type": "stream",
     "text": [
      "mse_loss(xtest, ytest) = 0.4234571f0\n"
     ]
    },
    {
     "name": "stderr",
     "output_type": "stream",
     "text": [
      "┌ Info: Epoch 28\n",
      "└ @ ConvGRU /Users/kahingleung/.julia/packages/Flux/sY3yx/src/optimise/train.jl:136\n",
      "┌ Info: Epoch 29\n",
      "└ @ ConvGRU /Users/kahingleung/.julia/packages/Flux/sY3yx/src/optimise/train.jl:136\n"
     ]
    },
    {
     "name": "stdout",
     "output_type": "stream",
     "text": [
      "mse_loss(xtest, ytest) = 0.42425057f0\n",
      "mse_loss(xtest, ytest) = 0.42408872f0\n"
     ]
    },
    {
     "name": "stderr",
     "output_type": "stream",
     "text": [
      "┌ Info: Epoch 30\n",
      "└ @ ConvGRU /Users/kahingleung/.julia/packages/Flux/sY3yx/src/optimise/train.jl:136\n"
     ]
    },
    {
     "name": "stdout",
     "output_type": "stream",
     "text": [
      "(250,)\n",
      "myObjective(df, seqlen, Nh, lr, sym * \"-\" * string(i)) = 0.41880578f0\n",
      "131020.001291549665014884\n",
      "mse_loss(xtest, ytest) = 0.5761527f0\n",
      "mse_loss(xtest, ytest) = 0.5576258f0\n"
     ]
    },
    {
     "name": "stderr",
     "output_type": "stream",
     "text": [
      "┌ Info: Epoch 1\n",
      "└ @ ConvGRU /Users/kahingleung/.julia/packages/Flux/sY3yx/src/optimise/train.jl:136\n",
      "┌ Info: Epoch 2\n",
      "└ @ ConvGRU /Users/kahingleung/.julia/packages/Flux/sY3yx/src/optimise/train.jl:136\n"
     ]
    },
    {
     "name": "stdout",
     "output_type": "stream",
     "text": [
      "mse_loss(xtest, ytest) = 0.42946282f0\n",
      "mse_loss(xtest, ytest) = 0.4085041f0\n"
     ]
    },
    {
     "name": "stderr",
     "output_type": "stream",
     "text": [
      "┌ Info: Epoch 3\n",
      "└ @ ConvGRU /Users/kahingleung/.julia/packages/Flux/sY3yx/src/optimise/train.jl:136\n",
      "┌ Info: Epoch 4\n",
      "└ @ ConvGRU /Users/kahingleung/.julia/packages/Flux/sY3yx/src/optimise/train.jl:136\n"
     ]
    },
    {
     "name": "stdout",
     "output_type": "stream",
     "text": [
      "mse_loss(xtest, ytest) = 0.41249943f0\n",
      "mse_loss(xtest, ytest) = 0.4133484f0\n"
     ]
    },
    {
     "name": "stderr",
     "output_type": "stream",
     "text": [
      "┌ Info: Epoch 5\n",
      "└ @ ConvGRU /Users/kahingleung/.julia/packages/Flux/sY3yx/src/optimise/train.jl:136\n"
     ]
    },
    {
     "name": "stdout",
     "output_type": "stream",
     "text": [
      "mse_loss(xtest, ytest) = 0.41439256f0\n"
     ]
    },
    {
     "name": "stderr",
     "output_type": "stream",
     "text": [
      "┌ Info: Epoch 6\n",
      "└ @ ConvGRU /Users/kahingleung/.julia/packages/Flux/sY3yx/src/optimise/train.jl:136\n"
     ]
    },
    {
     "name": "stdout",
     "output_type": "stream",
     "text": [
      "mse_loss(xtest, ytest) = 0.41477492f0\n"
     ]
    },
    {
     "name": "stderr",
     "output_type": "stream",
     "text": [
      "┌ Info: Epoch 7\n",
      "└ @ ConvGRU /Users/kahingleung/.julia/packages/Flux/sY3yx/src/optimise/train.jl:136\n"
     ]
    },
    {
     "name": "stdout",
     "output_type": "stream",
     "text": [
      "mse_loss(xtest, ytest) = 0.4152407f0\n"
     ]
    },
    {
     "name": "stderr",
     "output_type": "stream",
     "text": [
      "┌ Info: Epoch 8\n",
      "└ @ ConvGRU /Users/kahingleung/.julia/packages/Flux/sY3yx/src/optimise/train.jl:136\n",
      "┌ Info: Epoch 9\n",
      "└ @ ConvGRU /Users/kahingleung/.julia/packages/Flux/sY3yx/src/optimise/train.jl:136\n"
     ]
    },
    {
     "name": "stdout",
     "output_type": "stream",
     "text": [
      "mse_loss(xtest, ytest) = 0.415367f0\n"
     ]
    },
    {
     "name": "stderr",
     "output_type": "stream",
     "text": [
      "┌ Info: Epoch 10\n",
      "└ @ ConvGRU /Users/kahingleung/.julia/packages/Flux/sY3yx/src/optimise/train.jl:136\n"
     ]
    },
    {
     "name": "stdout",
     "output_type": "stream",
     "text": [
      "mse_loss(xtest, ytest) = 0.41560015f0\n",
      "mse_loss(xtest, ytest) = 0.41526407f0\n"
     ]
    },
    {
     "name": "stderr",
     "output_type": "stream",
     "text": [
      "┌ Info: Epoch 11\n",
      "└ @ ConvGRU /Users/kahingleung/.julia/packages/Flux/sY3yx/src/optimise/train.jl:136\n"
     ]
    },
    {
     "name": "stdout",
     "output_type": "stream",
     "text": [
      "mse_loss(xtest, ytest) = 0.4157311f0\n"
     ]
    },
    {
     "name": "stderr",
     "output_type": "stream",
     "text": [
      "┌ Info: Epoch 12\n",
      "└ @ ConvGRU /Users/kahingleung/.julia/packages/Flux/sY3yx/src/optimise/train.jl:136\n"
     ]
    },
    {
     "name": "stdout",
     "output_type": "stream",
     "text": [
      "mse_loss(xtest, ytest) = 0.41642913f0\n"
     ]
    },
    {
     "name": "stderr",
     "output_type": "stream",
     "text": [
      "┌ Info: Epoch 13\n",
      "└ @ ConvGRU /Users/kahingleung/.julia/packages/Flux/sY3yx/src/optimise/train.jl:136\n",
      "┌ Info: Epoch 14\n",
      "└ @ ConvGRU /Users/kahingleung/.julia/packages/Flux/sY3yx/src/optimise/train.jl:136\n"
     ]
    },
    {
     "name": "stdout",
     "output_type": "stream",
     "text": [
      "mse_loss(xtest, ytest) = 0.41616848f0\n",
      "mse_loss(xtest, ytest) = 0.41599205f0\n"
     ]
    },
    {
     "name": "stderr",
     "output_type": "stream",
     "text": [
      "┌ Info: Epoch 15\n",
      "└ @ ConvGRU /Users/kahingleung/.julia/packages/Flux/sY3yx/src/optimise/train.jl:136\n"
     ]
    },
    {
     "name": "stdout",
     "output_type": "stream",
     "text": [
      "mse_loss(xtest, ytest) = 0.41628775f0\n"
     ]
    },
    {
     "name": "stderr",
     "output_type": "stream",
     "text": [
      "┌ Info: Epoch 16\n",
      "└ @ ConvGRU /Users/kahingleung/.julia/packages/Flux/sY3yx/src/optimise/train.jl:136\n"
     ]
    },
    {
     "name": "stdout",
     "output_type": "stream",
     "text": [
      "mse_loss(xtest, ytest) = 0.41678435f0\n"
     ]
    },
    {
     "name": "stderr",
     "output_type": "stream",
     "text": [
      "┌ Info: Epoch 17\n",
      "└ @ ConvGRU /Users/kahingleung/.julia/packages/Flux/sY3yx/src/optimise/train.jl:136\n"
     ]
    },
    {
     "name": "stdout",
     "output_type": "stream",
     "text": [
      "mse_loss(xtest, ytest) = 0.41657808f0\n"
     ]
    },
    {
     "name": "stderr",
     "output_type": "stream",
     "text": [
      "┌ Info: Epoch 18\n",
      "└ @ ConvGRU /Users/kahingleung/.julia/packages/Flux/sY3yx/src/optimise/train.jl:136\n"
     ]
    },
    {
     "name": "stdout",
     "output_type": "stream",
     "text": [
      "mse_loss(xtest, ytest) = 0.41735312f0\n"
     ]
    },
    {
     "name": "stderr",
     "output_type": "stream",
     "text": [
      "┌ Info: Epoch 19\n",
      "└ @ ConvGRU /Users/kahingleung/.julia/packages/Flux/sY3yx/src/optimise/train.jl:136\n"
     ]
    },
    {
     "name": "stdout",
     "output_type": "stream",
     "text": [
      "mse_loss(xtest, ytest) = 0.4169467f0\n"
     ]
    },
    {
     "name": "stderr",
     "output_type": "stream",
     "text": [
      "┌ Info: Epoch 20\n",
      "└ @ ConvGRU /Users/kahingleung/.julia/packages/Flux/sY3yx/src/optimise/train.jl:136\n"
     ]
    },
    {
     "name": "stdout",
     "output_type": "stream",
     "text": [
      "mse_loss(xtest, ytest) = 0.41727847f0\n"
     ]
    },
    {
     "name": "stderr",
     "output_type": "stream",
     "text": [
      "┌ Info: Epoch 21\n",
      "└ @ ConvGRU /Users/kahingleung/.julia/packages/Flux/sY3yx/src/optimise/train.jl:136\n",
      "┌ Info: Epoch 22\n",
      "└ @ ConvGRU /Users/kahingleung/.julia/packages/Flux/sY3yx/src/optimise/train.jl:136\n"
     ]
    },
    {
     "name": "stdout",
     "output_type": "stream",
     "text": [
      "mse_loss(xtest, ytest) = 0.4175052f0\n",
      "mse_loss(xtest, ytest) = 0.41755185f0\n"
     ]
    },
    {
     "name": "stderr",
     "output_type": "stream",
     "text": [
      "┌ Info: Epoch 23\n",
      "└ @ ConvGRU /Users/kahingleung/.julia/packages/Flux/sY3yx/src/optimise/train.jl:136\n"
     ]
    },
    {
     "name": "stdout",
     "output_type": "stream",
     "text": [
      "mse_loss(xtest, ytest) = 0.4175695f0\n"
     ]
    },
    {
     "name": "stderr",
     "output_type": "stream",
     "text": [
      "┌ Info: Epoch 24\n",
      "└ @ ConvGRU /Users/kahingleung/.julia/packages/Flux/sY3yx/src/optimise/train.jl:136\n"
     ]
    },
    {
     "name": "stdout",
     "output_type": "stream",
     "text": [
      "mse_loss(xtest, ytest) = 0.41736725f0\n"
     ]
    },
    {
     "name": "stderr",
     "output_type": "stream",
     "text": [
      "┌ Info: Epoch 25\n",
      "└ @ ConvGRU /Users/kahingleung/.julia/packages/Flux/sY3yx/src/optimise/train.jl:136\n"
     ]
    },
    {
     "name": "stdout",
     "output_type": "stream",
     "text": [
      "mse_loss(xtest, ytest) = 0.41800058f0\n"
     ]
    },
    {
     "name": "stderr",
     "output_type": "stream",
     "text": [
      "┌ Info: Epoch 26\n",
      "└ @ ConvGRU /Users/kahingleung/.julia/packages/Flux/sY3yx/src/optimise/train.jl:136\n"
     ]
    },
    {
     "name": "stdout",
     "output_type": "stream",
     "text": [
      "mse_loss(xtest, ytest) = 0.41768846f0\n"
     ]
    },
    {
     "name": "stderr",
     "output_type": "stream",
     "text": [
      "┌ Info: Epoch 27\n",
      "└ @ ConvGRU /Users/kahingleung/.julia/packages/Flux/sY3yx/src/optimise/train.jl:136\n"
     ]
    },
    {
     "name": "stdout",
     "output_type": "stream",
     "text": [
      "mse_loss(xtest, ytest) = 0.41751328f0\n"
     ]
    },
    {
     "name": "stderr",
     "output_type": "stream",
     "text": [
      "┌ Info: Epoch 28\n",
      "└ @ ConvGRU /Users/kahingleung/.julia/packages/Flux/sY3yx/src/optimise/train.jl:136\n"
     ]
    },
    {
     "name": "stdout",
     "output_type": "stream",
     "text": [
      "mse_loss(xtest, ytest) = 0.41761088f0\n"
     ]
    },
    {
     "name": "stderr",
     "output_type": "stream",
     "text": [
      "┌ Info: Epoch 29\n",
      "└ @ ConvGRU /Users/kahingleung/.julia/packages/Flux/sY3yx/src/optimise/train.jl:136\n"
     ]
    },
    {
     "name": "stdout",
     "output_type": "stream",
     "text": [
      "mse_loss(xtest, ytest) = 0.41704613f0\n"
     ]
    },
    {
     "name": "stderr",
     "output_type": "stream",
     "text": [
      "┌ Info: Epoch 30\n",
      "└ @ ConvGRU /Users/kahingleung/.julia/packages/Flux/sY3yx/src/optimise/train.jl:136\n"
     ]
    },
    {
     "name": "stdout",
     "output_type": "stream",
     "text": [
      "(250,)\n",
      "myObjective(df, seqlen, Nh, lr, sym * \"-\" * string(i)) = 0.41278195f0\n",
      "142580.0021544346900318843\n",
      "mse_loss(xtest, ytest) = 0.4394393f0\n",
      "mse_loss(xtest, ytest) = 0.4946023f0\n"
     ]
    },
    {
     "name": "stderr",
     "output_type": "stream",
     "text": [
      "┌ Info: Epoch 1\n",
      "└ @ ConvGRU /Users/kahingleung/.julia/packages/Flux/sY3yx/src/optimise/train.jl:136\n",
      "┌ Info: Epoch 2\n",
      "└ @ ConvGRU /Users/kahingleung/.julia/packages/Flux/sY3yx/src/optimise/train.jl:136\n"
     ]
    },
    {
     "name": "stdout",
     "output_type": "stream",
     "text": [
      "mse_loss(xtest, ytest) = 0.44833988f0\n",
      "mse_loss(xtest, ytest) = 0.44246498f0\n"
     ]
    },
    {
     "name": "stderr",
     "output_type": "stream",
     "text": [
      "┌ Info: Epoch 3\n",
      "└ @ ConvGRU /Users/kahingleung/.julia/packages/Flux/sY3yx/src/optimise/train.jl:136\n"
     ]
    },
    {
     "name": "stdout",
     "output_type": "stream",
     "text": [
      "mse_loss(xtest, ytest) = 0.4372055f0\n"
     ]
    },
    {
     "name": "stderr",
     "output_type": "stream",
     "text": [
      "┌ Info: Epoch 4\n",
      "└ @ ConvGRU /Users/kahingleung/.julia/packages/Flux/sY3yx/src/optimise/train.jl:136\n"
     ]
    },
    {
     "name": "stdout",
     "output_type": "stream",
     "text": [
      "mse_loss(xtest, ytest) = 0.43338624f0\n"
     ]
    },
    {
     "name": "stderr",
     "output_type": "stream",
     "text": [
      "┌ Info: Epoch 5\n",
      "└ @ ConvGRU /Users/kahingleung/.julia/packages/Flux/sY3yx/src/optimise/train.jl:136\n",
      "┌ Info: Epoch 6\n",
      "└ @ ConvGRU /Users/kahingleung/.julia/packages/Flux/sY3yx/src/optimise/train.jl:136\n"
     ]
    },
    {
     "name": "stdout",
     "output_type": "stream",
     "text": [
      "mse_loss(xtest, ytest) = 0.43283644f0\n",
      "mse_loss(xtest, ytest) = 0.4320007f0\n"
     ]
    },
    {
     "name": "stderr",
     "output_type": "stream",
     "text": [
      "┌ Info: Epoch 7\n",
      "└ @ ConvGRU /Users/kahingleung/.julia/packages/Flux/sY3yx/src/optimise/train.jl:136\n",
      "┌ Info: Epoch 8\n",
      "└ @ ConvGRU /Users/kahingleung/.julia/packages/Flux/sY3yx/src/optimise/train.jl:136\n"
     ]
    },
    {
     "name": "stdout",
     "output_type": "stream",
     "text": [
      "mse_loss(xtest, ytest) = 0.43217066f0\n",
      "mse_loss(xtest, ytest) = 0.42970762f0\n"
     ]
    },
    {
     "name": "stderr",
     "output_type": "stream",
     "text": [
      "┌ Info: Epoch 9\n",
      "└ @ ConvGRU /Users/kahingleung/.julia/packages/Flux/sY3yx/src/optimise/train.jl:136\n",
      "┌ Info: Epoch 10\n",
      "└ @ ConvGRU /Users/kahingleung/.julia/packages/Flux/sY3yx/src/optimise/train.jl:136\n"
     ]
    },
    {
     "name": "stdout",
     "output_type": "stream",
     "text": [
      "mse_loss(xtest, ytest) = 0.42911184f0\n",
      "mse_loss(xtest, ytest) = 0.42698193f0\n"
     ]
    },
    {
     "name": "stderr",
     "output_type": "stream",
     "text": [
      "┌ Info: Epoch 11\n",
      "└ @ ConvGRU /Users/kahingleung/.julia/packages/Flux/sY3yx/src/optimise/train.jl:136\n"
     ]
    },
    {
     "name": "stdout",
     "output_type": "stream",
     "text": [
      "mse_loss(xtest, ytest) = 0.43434742f0\n"
     ]
    },
    {
     "name": "stderr",
     "output_type": "stream",
     "text": [
      "┌ Info: Epoch 12\n",
      "└ @ ConvGRU /Users/kahingleung/.julia/packages/Flux/sY3yx/src/optimise/train.jl:136\n",
      "┌ Info: Epoch 13\n",
      "└ @ ConvGRU /Users/kahingleung/.julia/packages/Flux/sY3yx/src/optimise/train.jl:136\n"
     ]
    },
    {
     "name": "stdout",
     "output_type": "stream",
     "text": [
      "mse_loss(xtest, ytest) = 0.43610835f0\n",
      "mse_loss(xtest, ytest) = 0.43881395f0\n"
     ]
    },
    {
     "name": "stderr",
     "output_type": "stream",
     "text": [
      "┌ Info: Epoch 14\n",
      "└ @ ConvGRU /Users/kahingleung/.julia/packages/Flux/sY3yx/src/optimise/train.jl:136\n"
     ]
    },
    {
     "name": "stdout",
     "output_type": "stream",
     "text": [
      "mse_loss(xtest, ytest) = 0.44007853f0\n"
     ]
    },
    {
     "name": "stderr",
     "output_type": "stream",
     "text": [
      "┌ Info: Epoch 15\n",
      "└ @ ConvGRU /Users/kahingleung/.julia/packages/Flux/sY3yx/src/optimise/train.jl:136\n",
      "┌ Info: Epoch 16\n",
      "└ @ ConvGRU /Users/kahingleung/.julia/packages/Flux/sY3yx/src/optimise/train.jl:136\n"
     ]
    },
    {
     "name": "stdout",
     "output_type": "stream",
     "text": [
      "mse_loss(xtest, ytest) = 0.4396136f0\n",
      "mse_loss(xtest, ytest) = 0.43878025f0\n"
     ]
    },
    {
     "name": "stderr",
     "output_type": "stream",
     "text": [
      "┌ Info: Epoch 17\n",
      "└ @ ConvGRU /Users/kahingleung/.julia/packages/Flux/sY3yx/src/optimise/train.jl:136\n",
      "┌ Info: Epoch 18\n",
      "└ @ ConvGRU /Users/kahingleung/.julia/packages/Flux/sY3yx/src/optimise/train.jl:136\n"
     ]
    },
    {
     "name": "stdout",
     "output_type": "stream",
     "text": [
      "mse_loss(xtest, ytest) = 0.43411523f0\n",
      "mse_loss(xtest, ytest) = 0.43846685f0\n"
     ]
    },
    {
     "name": "stderr",
     "output_type": "stream",
     "text": [
      "┌ Info: Epoch 19\n",
      "└ @ ConvGRU /Users/kahingleung/.julia/packages/Flux/sY3yx/src/optimise/train.jl:136\n"
     ]
    },
    {
     "name": "stdout",
     "output_type": "stream",
     "text": [
      "mse_loss(xtest, ytest) = 0.4350218f0\n"
     ]
    },
    {
     "name": "stderr",
     "output_type": "stream",
     "text": [
      "┌ Info: Epoch 20\n",
      "└ @ ConvGRU /Users/kahingleung/.julia/packages/Flux/sY3yx/src/optimise/train.jl:136\n",
      "┌ Info: Epoch 21\n",
      "└ @ ConvGRU /Users/kahingleung/.julia/packages/Flux/sY3yx/src/optimise/train.jl:136\n"
     ]
    },
    {
     "name": "stdout",
     "output_type": "stream",
     "text": [
      "mse_loss(xtest, ytest) = 0.43759766f0\n",
      "mse_loss(xtest, ytest) = 0.43423912f0\n"
     ]
    },
    {
     "name": "stderr",
     "output_type": "stream",
     "text": [
      "┌ Info: Epoch 22\n",
      "└ @ ConvGRU /Users/kahingleung/.julia/packages/Flux/sY3yx/src/optimise/train.jl:136\n"
     ]
    },
    {
     "name": "stdout",
     "output_type": "stream",
     "text": [
      "mse_loss(xtest, ytest) = 0.4357464f0\n"
     ]
    },
    {
     "name": "stderr",
     "output_type": "stream",
     "text": [
      "┌ Info: Epoch 23\n",
      "└ @ ConvGRU /Users/kahingleung/.julia/packages/Flux/sY3yx/src/optimise/train.jl:136\n",
      "┌ Info: Epoch 24\n",
      "└ @ ConvGRU /Users/kahingleung/.julia/packages/Flux/sY3yx/src/optimise/train.jl:136\n"
     ]
    },
    {
     "name": "stdout",
     "output_type": "stream",
     "text": [
      "mse_loss(xtest, ytest) = 0.4306748f0\n",
      "mse_loss(xtest, ytest) = 0.42822462f0\n"
     ]
    },
    {
     "name": "stderr",
     "output_type": "stream",
     "text": [
      "┌ Info: Epoch 25\n",
      "└ @ ConvGRU /Users/kahingleung/.julia/packages/Flux/sY3yx/src/optimise/train.jl:136\n"
     ]
    },
    {
     "name": "stdout",
     "output_type": "stream",
     "text": [
      "mse_loss(xtest, ytest) = 0.4275491f0\n"
     ]
    },
    {
     "name": "stderr",
     "output_type": "stream",
     "text": [
      "┌ Info: Epoch 26\n",
      "└ @ ConvGRU /Users/kahingleung/.julia/packages/Flux/sY3yx/src/optimise/train.jl:136\n",
      "┌ Info: Epoch 27\n",
      "└ @ ConvGRU /Users/kahingleung/.julia/packages/Flux/sY3yx/src/optimise/train.jl:136\n"
     ]
    },
    {
     "name": "stdout",
     "output_type": "stream",
     "text": [
      "mse_loss(xtest, ytest) = 0.4306551f0\n",
      "mse_loss(xtest, ytest) = 0.4328164f0\n"
     ]
    },
    {
     "name": "stderr",
     "output_type": "stream",
     "text": [
      "┌ Info: Epoch 28\n",
      "└ @ ConvGRU /Users/kahingleung/.julia/packages/Flux/sY3yx/src/optimise/train.jl:136\n"
     ]
    },
    {
     "name": "stdout",
     "output_type": "stream",
     "text": [
      "mse_loss(xtest, ytest) = 0.42982686f0\n"
     ]
    },
    {
     "name": "stderr",
     "output_type": "stream",
     "text": [
      "┌ Info: Epoch 29\n",
      "└ @ ConvGRU /Users/kahingleung/.julia/packages/Flux/sY3yx/src/optimise/train.jl:136\n"
     ]
    },
    {
     "name": "stdout",
     "output_type": "stream",
     "text": [
      "mse_loss(xtest, ytest) = 0.42931855f0\n"
     ]
    },
    {
     "name": "stderr",
     "output_type": "stream",
     "text": [
      "┌ Info: Epoch 30\n",
      "└ @ ConvGRU /Users/kahingleung/.julia/packages/Flux/sY3yx/src/optimise/train.jl:136\n"
     ]
    },
    {
     "name": "stdout",
     "output_type": "stream",
     "text": [
      "(250,)\n",
      "myObjective(df, seqlen, Nh, lr, sym * \"-\" * string(i)) = 0.41392988f0\n",
      "152080.01\n",
      "mse_loss(xtest, ytest) = 1.1061952f0\n",
      "mse_loss(xtest, ytest) = 0.48988026f0\n"
     ]
    },
    {
     "name": "stderr",
     "output_type": "stream",
     "text": [
      "┌ Info: Epoch 1\n",
      "└ @ ConvGRU /Users/kahingleung/.julia/packages/Flux/sY3yx/src/optimise/train.jl:136\n",
      "┌ Info: Epoch 2\n",
      "└ @ ConvGRU /Users/kahingleung/.julia/packages/Flux/sY3yx/src/optimise/train.jl:136\n"
     ]
    },
    {
     "name": "stdout",
     "output_type": "stream",
     "text": [
      "mse_loss(xtest, ytest) = 0.6495141f0\n",
      "mse_loss(xtest, ytest) = 0.6850097f0\n"
     ]
    },
    {
     "name": "stderr",
     "output_type": "stream",
     "text": [
      "┌ Info: Epoch 3\n",
      "└ @ ConvGRU /Users/kahingleung/.julia/packages/Flux/sY3yx/src/optimise/train.jl:136\n",
      "┌ Info: Epoch 4\n",
      "└ @ ConvGRU /Users/kahingleung/.julia/packages/Flux/sY3yx/src/optimise/train.jl:136\n"
     ]
    },
    {
     "name": "stdout",
     "output_type": "stream",
     "text": [
      "mse_loss(xtest, ytest) = 0.667723f0\n",
      "mse_loss(xtest, ytest) = 0.5765617f0\n"
     ]
    },
    {
     "name": "stderr",
     "output_type": "stream",
     "text": [
      "┌ Info: Epoch 5\n",
      "└ @ ConvGRU /Users/kahingleung/.julia/packages/Flux/sY3yx/src/optimise/train.jl:136\n",
      "┌ Info: Epoch 6\n",
      "└ @ ConvGRU /Users/kahingleung/.julia/packages/Flux/sY3yx/src/optimise/train.jl:136\n"
     ]
    },
    {
     "name": "stdout",
     "output_type": "stream",
     "text": [
      "mse_loss(xtest, ytest) = 0.56584215f0\n",
      "mse_loss(xtest, ytest) = 0.54294485f0\n"
     ]
    },
    {
     "name": "stderr",
     "output_type": "stream",
     "text": [
      "┌ Info: Epoch 7\n",
      "└ @ ConvGRU /Users/kahingleung/.julia/packages/Flux/sY3yx/src/optimise/train.jl:136\n"
     ]
    },
    {
     "name": "stdout",
     "output_type": "stream",
     "text": [
      "mse_loss(xtest, ytest) = 0.5288369f0\n"
     ]
    },
    {
     "name": "stderr",
     "output_type": "stream",
     "text": [
      "┌ Info: Epoch 8\n",
      "└ @ ConvGRU /Users/kahingleung/.julia/packages/Flux/sY3yx/src/optimise/train.jl:136\n"
     ]
    },
    {
     "name": "stdout",
     "output_type": "stream",
     "text": [
      "mse_loss(xtest, ytest) = 0.6004224f0\n"
     ]
    },
    {
     "name": "stderr",
     "output_type": "stream",
     "text": [
      "┌ Info: Epoch 9\n",
      "└ @ ConvGRU /Users/kahingleung/.julia/packages/Flux/sY3yx/src/optimise/train.jl:136\n"
     ]
    },
    {
     "name": "stdout",
     "output_type": "stream",
     "text": [
      "mse_loss(xtest, ytest) = 0.48203135f0\n"
     ]
    },
    {
     "name": "stderr",
     "output_type": "stream",
     "text": [
      "┌ Info: Epoch 10\n",
      "└ @ ConvGRU /Users/kahingleung/.julia/packages/Flux/sY3yx/src/optimise/train.jl:136\n",
      "┌ Info: Epoch 11\n",
      "└ @ ConvGRU /Users/kahingleung/.julia/packages/Flux/sY3yx/src/optimise/train.jl:136\n"
     ]
    },
    {
     "name": "stdout",
     "output_type": "stream",
     "text": [
      "mse_loss(xtest, ytest) = 0.4633081f0\n",
      "mse_loss(xtest, ytest) = 0.4926886f0\n"
     ]
    },
    {
     "name": "stderr",
     "output_type": "stream",
     "text": [
      "┌ Info: Epoch 12\n",
      "└ @ ConvGRU /Users/kahingleung/.julia/packages/Flux/sY3yx/src/optimise/train.jl:136\n"
     ]
    },
    {
     "name": "stdout",
     "output_type": "stream",
     "text": [
      "mse_loss(xtest, ytest) = 0.48231855f0\n"
     ]
    },
    {
     "name": "stderr",
     "output_type": "stream",
     "text": [
      "┌ Info: Epoch 13\n",
      "└ @ ConvGRU /Users/kahingleung/.julia/packages/Flux/sY3yx/src/optimise/train.jl:136\n",
      "┌ Info: Epoch 14\n",
      "└ @ ConvGRU /Users/kahingleung/.julia/packages/Flux/sY3yx/src/optimise/train.jl:136\n"
     ]
    },
    {
     "name": "stdout",
     "output_type": "stream",
     "text": [
      "mse_loss(xtest, ytest) = 0.4629063f0\n",
      "mse_loss(xtest, ytest) = 0.46109056f0\n"
     ]
    },
    {
     "name": "stderr",
     "output_type": "stream",
     "text": [
      "┌ Info: Epoch 15\n",
      "└ @ ConvGRU /Users/kahingleung/.julia/packages/Flux/sY3yx/src/optimise/train.jl:136\n"
     ]
    },
    {
     "name": "stdout",
     "output_type": "stream",
     "text": [
      "mse_loss(xtest, ytest) = 0.4712633f0\n"
     ]
    },
    {
     "name": "stderr",
     "output_type": "stream",
     "text": [
      "┌ Info: Epoch 16\n",
      "└ @ ConvGRU /Users/kahingleung/.julia/packages/Flux/sY3yx/src/optimise/train.jl:136\n"
     ]
    },
    {
     "name": "stdout",
     "output_type": "stream",
     "text": [
      "mse_loss(xtest, ytest) = 0.47360218f0\n"
     ]
    },
    {
     "name": "stderr",
     "output_type": "stream",
     "text": [
      "┌ Info: Epoch 17\n",
      "└ @ ConvGRU /Users/kahingleung/.julia/packages/Flux/sY3yx/src/optimise/train.jl:136\n"
     ]
    },
    {
     "name": "stdout",
     "output_type": "stream",
     "text": [
      "mse_loss(xtest, ytest) = 0.5365675f0\n"
     ]
    },
    {
     "name": "stderr",
     "output_type": "stream",
     "text": [
      "┌ Info: Epoch 18\n",
      "└ @ ConvGRU /Users/kahingleung/.julia/packages/Flux/sY3yx/src/optimise/train.jl:136\n"
     ]
    },
    {
     "name": "stdout",
     "output_type": "stream",
     "text": [
      "mse_loss(xtest, ytest) = 0.47308812f0\n"
     ]
    },
    {
     "name": "stderr",
     "output_type": "stream",
     "text": [
      "┌ Info: Epoch 19\n",
      "└ @ ConvGRU /Users/kahingleung/.julia/packages/Flux/sY3yx/src/optimise/train.jl:136\n",
      "┌ Info: Epoch 20\n",
      "└ @ ConvGRU /Users/kahingleung/.julia/packages/Flux/sY3yx/src/optimise/train.jl:136\n"
     ]
    },
    {
     "name": "stdout",
     "output_type": "stream",
     "text": [
      "mse_loss(xtest, ytest) = 0.5033459f0\n",
      "mse_loss(xtest, ytest) = 0.45671967f0\n"
     ]
    },
    {
     "name": "stderr",
     "output_type": "stream",
     "text": [
      "┌ Info: Epoch 21\n",
      "└ @ ConvGRU /Users/kahingleung/.julia/packages/Flux/sY3yx/src/optimise/train.jl:136\n"
     ]
    },
    {
     "name": "stdout",
     "output_type": "stream",
     "text": [
      "mse_loss(xtest, ytest) = 0.46813604f0\n"
     ]
    },
    {
     "name": "stderr",
     "output_type": "stream",
     "text": [
      "┌ Info: Epoch 22\n",
      "└ @ ConvGRU /Users/kahingleung/.julia/packages/Flux/sY3yx/src/optimise/train.jl:136\n"
     ]
    },
    {
     "name": "stdout",
     "output_type": "stream",
     "text": [
      "mse_loss(xtest, ytest) = 0.4616477f0\n"
     ]
    },
    {
     "name": "stderr",
     "output_type": "stream",
     "text": [
      "┌ Info: Epoch 23\n",
      "└ @ ConvGRU /Users/kahingleung/.julia/packages/Flux/sY3yx/src/optimise/train.jl:136\n",
      "┌ Info: Epoch 24\n",
      "└ @ ConvGRU /Users/kahingleung/.julia/packages/Flux/sY3yx/src/optimise/train.jl:136\n"
     ]
    },
    {
     "name": "stdout",
     "output_type": "stream",
     "text": [
      "mse_loss(xtest, ytest) = 0.45335573f0\n",
      "mse_loss(xtest, ytest) = 0.4545979f0\n"
     ]
    },
    {
     "name": "stderr",
     "output_type": "stream",
     "text": [
      "┌ Info: Epoch 25\n",
      "└ @ ConvGRU /Users/kahingleung/.julia/packages/Flux/sY3yx/src/optimise/train.jl:136\n"
     ]
    },
    {
     "name": "stdout",
     "output_type": "stream",
     "text": [
      "mse_loss(xtest, ytest) = 0.45238787f0\n"
     ]
    },
    {
     "name": "stderr",
     "output_type": "stream",
     "text": [
      "┌ Info: Epoch 26\n",
      "└ @ ConvGRU /Users/kahingleung/.julia/packages/Flux/sY3yx/src/optimise/train.jl:136\n",
      "┌ Info: Epoch 27\n",
      "└ @ ConvGRU /Users/kahingleung/.julia/packages/Flux/sY3yx/src/optimise/train.jl:136\n"
     ]
    },
    {
     "name": "stdout",
     "output_type": "stream",
     "text": [
      "mse_loss(xtest, ytest) = 0.4452119f0\n",
      "mse_loss(xtest, ytest) = 0.4472291f0\n"
     ]
    },
    {
     "name": "stderr",
     "output_type": "stream",
     "text": [
      "┌ Info: Epoch 28\n",
      "└ @ ConvGRU /Users/kahingleung/.julia/packages/Flux/sY3yx/src/optimise/train.jl:136\n"
     ]
    },
    {
     "name": "stdout",
     "output_type": "stream",
     "text": [
      "mse_loss(xtest, ytest) = 0.44404188f0\n"
     ]
    },
    {
     "name": "stderr",
     "output_type": "stream",
     "text": [
      "┌ Info: Epoch 29\n",
      "└ @ ConvGRU /Users/kahingleung/.julia/packages/Flux/sY3yx/src/optimise/train.jl:136\n"
     ]
    },
    {
     "name": "stdout",
     "output_type": "stream",
     "text": [
      "mse_loss(xtest, ytest) = 0.44316995f0\n"
     ]
    },
    {
     "name": "stderr",
     "output_type": "stream",
     "text": [
      "┌ Info: Epoch 30\n",
      "└ @ ConvGRU /Users/kahingleung/.julia/packages/Flux/sY3yx/src/optimise/train.jl:136\n"
     ]
    },
    {
     "name": "stdout",
     "output_type": "stream",
     "text": [
      "(250,)\n",
      "myObjective(df, seqlen, Nh, lr, sym * \"-\" * string(i)) = 0.4154539f0\n",
      "163020.001\n",
      "mse_loss(xtest, ytest) = 0.4220771f0\n"
     ]
    },
    {
     "name": "stderr",
     "output_type": "stream",
     "text": [
      "┌ Info: Epoch 1\n",
      "└ @ ConvGRU /Users/kahingleung/.julia/packages/Flux/sY3yx/src/optimise/train.jl:136\n"
     ]
    },
    {
     "name": "stdout",
     "output_type": "stream",
     "text": [
      "mse_loss(xtest, ytest) = 0.42152932f0\n"
     ]
    },
    {
     "name": "stderr",
     "output_type": "stream",
     "text": [
      "┌ Info: Epoch 2\n",
      "└ @ ConvGRU /Users/kahingleung/.julia/packages/Flux/sY3yx/src/optimise/train.jl:136\n"
     ]
    },
    {
     "name": "stdout",
     "output_type": "stream",
     "text": [
      "mse_loss(xtest, ytest) = 0.42331874f0\n",
      "mse_loss(xtest, ytest) = 0.42268115f0\n"
     ]
    },
    {
     "name": "stderr",
     "output_type": "stream",
     "text": [
      "┌ Info: Epoch 3\n",
      "└ @ ConvGRU /Users/kahingleung/.julia/packages/Flux/sY3yx/src/optimise/train.jl:136\n",
      "┌ Info: Epoch 4\n",
      "└ @ ConvGRU /Users/kahingleung/.julia/packages/Flux/sY3yx/src/optimise/train.jl:136\n"
     ]
    },
    {
     "name": "stdout",
     "output_type": "stream",
     "text": [
      "mse_loss(xtest, ytest) = 0.42251533f0\n",
      "mse_loss(xtest, ytest) = 0.4225774f0\n"
     ]
    },
    {
     "name": "stderr",
     "output_type": "stream",
     "text": [
      "┌ Info: Epoch 5\n",
      "└ @ ConvGRU /Users/kahingleung/.julia/packages/Flux/sY3yx/src/optimise/train.jl:136\n"
     ]
    },
    {
     "name": "stdout",
     "output_type": "stream",
     "text": [
      "mse_loss(xtest, ytest) = 0.42222968f0\n"
     ]
    },
    {
     "name": "stderr",
     "output_type": "stream",
     "text": [
      "┌ Info: Epoch 6\n",
      "└ @ ConvGRU /Users/kahingleung/.julia/packages/Flux/sY3yx/src/optimise/train.jl:136\n"
     ]
    },
    {
     "name": "stdout",
     "output_type": "stream",
     "text": [
      "mse_loss(xtest, ytest) = 0.42193612f0\n"
     ]
    },
    {
     "name": "stderr",
     "output_type": "stream",
     "text": [
      "┌ Info: Epoch 7\n",
      "└ @ ConvGRU /Users/kahingleung/.julia/packages/Flux/sY3yx/src/optimise/train.jl:136\n"
     ]
    },
    {
     "name": "stdout",
     "output_type": "stream",
     "text": [
      "mse_loss(xtest, ytest) = 0.42249554f0\n"
     ]
    },
    {
     "name": "stderr",
     "output_type": "stream",
     "text": [
      "┌ Info: Epoch 8\n",
      "└ @ ConvGRU /Users/kahingleung/.julia/packages/Flux/sY3yx/src/optimise/train.jl:136\n"
     ]
    },
    {
     "name": "stdout",
     "output_type": "stream",
     "text": [
      "mse_loss(xtest, ytest) = 0.422f0\n"
     ]
    },
    {
     "name": "stderr",
     "output_type": "stream",
     "text": [
      "┌ Info: Epoch 9\n",
      "└ @ ConvGRU /Users/kahingleung/.julia/packages/Flux/sY3yx/src/optimise/train.jl:136\n",
      "┌ Info: Epoch 10\n",
      "└ @ ConvGRU /Users/kahingleung/.julia/packages/Flux/sY3yx/src/optimise/train.jl:136\n"
     ]
    },
    {
     "name": "stdout",
     "output_type": "stream",
     "text": [
      "mse_loss(xtest, ytest) = 0.42076898f0\n",
      "mse_loss(xtest, ytest) = 0.4210073f0\n"
     ]
    },
    {
     "name": "stderr",
     "output_type": "stream",
     "text": [
      "┌ Info: Epoch 11\n",
      "└ @ ConvGRU /Users/kahingleung/.julia/packages/Flux/sY3yx/src/optimise/train.jl:136\n"
     ]
    },
    {
     "name": "stdout",
     "output_type": "stream",
     "text": [
      "mse_loss(xtest, ytest) = 0.4203922f0\n"
     ]
    },
    {
     "name": "stderr",
     "output_type": "stream",
     "text": [
      "┌ Info: Epoch 12\n",
      "└ @ ConvGRU /Users/kahingleung/.julia/packages/Flux/sY3yx/src/optimise/train.jl:136\n",
      "┌ Info: Epoch 13\n",
      "└ @ ConvGRU /Users/kahingleung/.julia/packages/Flux/sY3yx/src/optimise/train.jl:136\n"
     ]
    },
    {
     "name": "stdout",
     "output_type": "stream",
     "text": [
      "mse_loss(xtest, ytest) = 0.41901246f0\n",
      "mse_loss(xtest, ytest) = 0.41909325f0\n"
     ]
    },
    {
     "name": "stderr",
     "output_type": "stream",
     "text": [
      "┌ Info: Epoch 14\n",
      "└ @ ConvGRU /Users/kahingleung/.julia/packages/Flux/sY3yx/src/optimise/train.jl:136\n",
      "┌ Info: Epoch 15\n",
      "└ @ ConvGRU /Users/kahingleung/.julia/packages/Flux/sY3yx/src/optimise/train.jl:136\n"
     ]
    },
    {
     "name": "stdout",
     "output_type": "stream",
     "text": [
      "mse_loss(xtest, ytest) = 0.41906455f0\n"
     ]
    },
    {
     "name": "stderr",
     "output_type": "stream",
     "text": [
      "┌ Info: Epoch 16\n",
      "└ @ ConvGRU /Users/kahingleung/.julia/packages/Flux/sY3yx/src/optimise/train.jl:136\n"
     ]
    },
    {
     "name": "stdout",
     "output_type": "stream",
     "text": [
      "mse_loss(xtest, ytest) = 0.42081118f0\n",
      "mse_loss(xtest, ytest) = 0.4194165f0\n"
     ]
    },
    {
     "name": "stderr",
     "output_type": "stream",
     "text": [
      "┌ Info: Epoch 17\n",
      "└ @ ConvGRU /Users/kahingleung/.julia/packages/Flux/sY3yx/src/optimise/train.jl:136\n"
     ]
    },
    {
     "name": "stdout",
     "output_type": "stream",
     "text": [
      "mse_loss(xtest, ytest) = 0.41982862f0\n"
     ]
    },
    {
     "name": "stderr",
     "output_type": "stream",
     "text": [
      "┌ Info: Epoch 18\n",
      "└ @ ConvGRU /Users/kahingleung/.julia/packages/Flux/sY3yx/src/optimise/train.jl:136\n",
      "┌ Info: Epoch 19\n",
      "└ @ ConvGRU /Users/kahingleung/.julia/packages/Flux/sY3yx/src/optimise/train.jl:136\n"
     ]
    },
    {
     "name": "stdout",
     "output_type": "stream",
     "text": [
      "mse_loss(xtest, ytest) = 0.42060116f0\n",
      "mse_loss(xtest, ytest) = 0.42040575f0\n"
     ]
    },
    {
     "name": "stderr",
     "output_type": "stream",
     "text": [
      "┌ Info: Epoch 20\n",
      "└ @ ConvGRU /Users/kahingleung/.julia/packages/Flux/sY3yx/src/optimise/train.jl:136\n",
      "┌ Info: Epoch 21\n",
      "└ @ ConvGRU /Users/kahingleung/.julia/packages/Flux/sY3yx/src/optimise/train.jl:136\n"
     ]
    },
    {
     "name": "stdout",
     "output_type": "stream",
     "text": [
      "mse_loss(xtest, ytest) = 0.42122394f0\n",
      "mse_loss(xtest, ytest) = 0.4207345f0\n"
     ]
    },
    {
     "name": "stderr",
     "output_type": "stream",
     "text": [
      "┌ Info: Epoch 22\n",
      "└ @ ConvGRU /Users/kahingleung/.julia/packages/Flux/sY3yx/src/optimise/train.jl:136\n"
     ]
    },
    {
     "name": "stdout",
     "output_type": "stream",
     "text": [
      "mse_loss(xtest, ytest) = 0.42250794f0\n"
     ]
    },
    {
     "name": "stderr",
     "output_type": "stream",
     "text": [
      "┌ Info: Epoch 23\n",
      "└ @ ConvGRU /Users/kahingleung/.julia/packages/Flux/sY3yx/src/optimise/train.jl:136\n"
     ]
    },
    {
     "name": "stdout",
     "output_type": "stream",
     "text": [
      "mse_loss(xtest, ytest) = 0.4221137f0\n"
     ]
    },
    {
     "name": "stderr",
     "output_type": "stream",
     "text": [
      "┌ Info: Epoch 24\n",
      "└ @ ConvGRU /Users/kahingleung/.julia/packages/Flux/sY3yx/src/optimise/train.jl:136\n"
     ]
    },
    {
     "name": "stdout",
     "output_type": "stream",
     "text": [
      "mse_loss(xtest, ytest) = 0.42248777f0\n"
     ]
    },
    {
     "name": "stderr",
     "output_type": "stream",
     "text": [
      "┌ Info: Epoch 25\n",
      "└ @ ConvGRU /Users/kahingleung/.julia/packages/Flux/sY3yx/src/optimise/train.jl:136\n"
     ]
    },
    {
     "name": "stdout",
     "output_type": "stream",
     "text": [
      "mse_loss(xtest, ytest) = 0.423965f0\n"
     ]
    },
    {
     "name": "stderr",
     "output_type": "stream",
     "text": [
      "┌ Info: Epoch 26\n",
      "└ @ ConvGRU /Users/kahingleung/.julia/packages/Flux/sY3yx/src/optimise/train.jl:136\n"
     ]
    },
    {
     "name": "stdout",
     "output_type": "stream",
     "text": [
      "mse_loss(xtest, ytest) = 0.4233193f0\n"
     ]
    },
    {
     "name": "stderr",
     "output_type": "stream",
     "text": [
      "┌ Info: Epoch 27\n",
      "└ @ ConvGRU /Users/kahingleung/.julia/packages/Flux/sY3yx/src/optimise/train.jl:136\n",
      "┌ Info: Epoch 28\n",
      "└ @ ConvGRU /Users/kahingleung/.julia/packages/Flux/sY3yx/src/optimise/train.jl:136\n"
     ]
    },
    {
     "name": "stdout",
     "output_type": "stream",
     "text": [
      "mse_loss(xtest, ytest) = 0.4245284f0\n",
      "mse_loss(xtest, ytest) = 0.4246338f0\n"
     ]
    },
    {
     "name": "stderr",
     "output_type": "stream",
     "text": [
      "┌ Info: Epoch 29\n",
      "└ @ ConvGRU /Users/kahingleung/.julia/packages/Flux/sY3yx/src/optimise/train.jl:136\n"
     ]
    },
    {
     "name": "stdout",
     "output_type": "stream",
     "text": [
      "mse_loss(xtest, ytest) = 0.424804f0\n"
     ]
    },
    {
     "name": "stderr",
     "output_type": "stream",
     "text": [
      "┌ Info: Epoch 30\n",
      "└ @ ConvGRU /Users/kahingleung/.julia/packages/Flux/sY3yx/src/optimise/train.jl:136\n"
     ]
    },
    {
     "name": "stdout",
     "output_type": "stream",
     "text": [
      "(250,)\n",
      "myObjective(df, seqlen, Nh, lr, sym * \"-\" * string(i)) = 0.42115015f0\n",
      "171020.001\n",
      "mse_loss(xtest, ytest) = 0.6112736f0\n",
      "mse_loss(xtest, ytest) = 0.606187f0\n"
     ]
    },
    {
     "name": "stderr",
     "output_type": "stream",
     "text": [
      "┌ Info: Epoch 1\n",
      "└ @ ConvGRU /Users/kahingleung/.julia/packages/Flux/sY3yx/src/optimise/train.jl:136\n"
     ]
    },
    {
     "name": "stdout",
     "output_type": "stream",
     "text": [
      "mse_loss(xtest, ytest) = 0.4909251f0\n"
     ]
    },
    {
     "name": "stderr",
     "output_type": "stream",
     "text": [
      "┌ Info: Epoch 2\n",
      "└ @ ConvGRU /Users/kahingleung/.julia/packages/Flux/sY3yx/src/optimise/train.jl:136\n"
     ]
    },
    {
     "name": "stdout",
     "output_type": "stream",
     "text": [
      "mse_loss(xtest, ytest) = 0.43646187f0\n"
     ]
    },
    {
     "name": "stderr",
     "output_type": "stream",
     "text": [
      "┌ Info: Epoch 3\n",
      "└ @ ConvGRU /Users/kahingleung/.julia/packages/Flux/sY3yx/src/optimise/train.jl:136\n"
     ]
    },
    {
     "name": "stdout",
     "output_type": "stream",
     "text": [
      "mse_loss(xtest, ytest) = 0.42007488f0\n"
     ]
    },
    {
     "name": "stderr",
     "output_type": "stream",
     "text": [
      "┌ Info: Epoch 4\n",
      "└ @ ConvGRU /Users/kahingleung/.julia/packages/Flux/sY3yx/src/optimise/train.jl:136\n"
     ]
    },
    {
     "name": "stdout",
     "output_type": "stream",
     "text": [
      "mse_loss(xtest, ytest) = 0.41997758f0\n"
     ]
    },
    {
     "name": "stderr",
     "output_type": "stream",
     "text": [
      "┌ Info: Epoch 5\n",
      "└ @ ConvGRU /Users/kahingleung/.julia/packages/Flux/sY3yx/src/optimise/train.jl:136\n"
     ]
    },
    {
     "name": "stdout",
     "output_type": "stream",
     "text": [
      "mse_loss(xtest, ytest) = 0.41969472f0\n"
     ]
    },
    {
     "name": "stderr",
     "output_type": "stream",
     "text": [
      "┌ Info: Epoch 6\n",
      "└ @ ConvGRU /Users/kahingleung/.julia/packages/Flux/sY3yx/src/optimise/train.jl:136\n"
     ]
    },
    {
     "name": "stdout",
     "output_type": "stream",
     "text": [
      "mse_loss(xtest, ytest) = 0.4196002f0\n"
     ]
    },
    {
     "name": "stderr",
     "output_type": "stream",
     "text": [
      "┌ Info: Epoch 7\n",
      "└ @ ConvGRU /Users/kahingleung/.julia/packages/Flux/sY3yx/src/optimise/train.jl:136\n"
     ]
    },
    {
     "name": "stdout",
     "output_type": "stream",
     "text": [
      "mse_loss(xtest, ytest) = 0.4195611f0\n"
     ]
    },
    {
     "name": "stderr",
     "output_type": "stream",
     "text": [
      "┌ Info: Epoch 8\n",
      "└ @ ConvGRU /Users/kahingleung/.julia/packages/Flux/sY3yx/src/optimise/train.jl:136\n"
     ]
    },
    {
     "name": "stdout",
     "output_type": "stream",
     "text": [
      "mse_loss(xtest, ytest) = 0.41948518f0\n"
     ]
    },
    {
     "name": "stderr",
     "output_type": "stream",
     "text": [
      "┌ Info: Epoch 9\n",
      "└ @ ConvGRU /Users/kahingleung/.julia/packages/Flux/sY3yx/src/optimise/train.jl:136\n"
     ]
    },
    {
     "name": "stdout",
     "output_type": "stream",
     "text": [
      "mse_loss(xtest, ytest) = 0.4191332f0\n"
     ]
    },
    {
     "name": "stderr",
     "output_type": "stream",
     "text": [
      "┌ Info: Epoch 10\n",
      "└ @ ConvGRU /Users/kahingleung/.julia/packages/Flux/sY3yx/src/optimise/train.jl:136\n"
     ]
    },
    {
     "name": "stdout",
     "output_type": "stream",
     "text": [
      "mse_loss(xtest, ytest) = 0.41952512f0\n"
     ]
    },
    {
     "name": "stderr",
     "output_type": "stream",
     "text": [
      "┌ Info: Epoch 11\n",
      "└ @ ConvGRU /Users/kahingleung/.julia/packages/Flux/sY3yx/src/optimise/train.jl:136\n"
     ]
    },
    {
     "name": "stdout",
     "output_type": "stream",
     "text": [
      "mse_loss(xtest, ytest) = 0.41967365f0\n"
     ]
    },
    {
     "name": "stderr",
     "output_type": "stream",
     "text": [
      "┌ Info: Epoch 12\n",
      "└ @ ConvGRU /Users/kahingleung/.julia/packages/Flux/sY3yx/src/optimise/train.jl:136\n"
     ]
    },
    {
     "name": "stdout",
     "output_type": "stream",
     "text": [
      "mse_loss(xtest, ytest) = 0.41974142f0\n"
     ]
    },
    {
     "name": "stderr",
     "output_type": "stream",
     "text": [
      "┌ Info: Epoch 13\n",
      "└ @ ConvGRU /Users/kahingleung/.julia/packages/Flux/sY3yx/src/optimise/train.jl:136\n"
     ]
    },
    {
     "name": "stdout",
     "output_type": "stream",
     "text": [
      "mse_loss(xtest, ytest) = 0.4196677f0\n"
     ]
    },
    {
     "name": "stderr",
     "output_type": "stream",
     "text": [
      "┌ Info: Epoch 14\n",
      "└ @ ConvGRU /Users/kahingleung/.julia/packages/Flux/sY3yx/src/optimise/train.jl:136\n",
      "┌ Info: Epoch 15\n",
      "└ @ ConvGRU /Users/kahingleung/.julia/packages/Flux/sY3yx/src/optimise/train.jl:136\n"
     ]
    },
    {
     "name": "stdout",
     "output_type": "stream",
     "text": [
      "mse_loss(xtest, ytest) = 0.41937655f0\n",
      "mse_loss(xtest, ytest) = 0.41946545f0\n"
     ]
    },
    {
     "name": "stderr",
     "output_type": "stream",
     "text": [
      "┌ Info: Epoch 16\n",
      "└ @ ConvGRU /Users/kahingleung/.julia/packages/Flux/sY3yx/src/optimise/train.jl:136\n"
     ]
    },
    {
     "name": "stdout",
     "output_type": "stream",
     "text": [
      "mse_loss(xtest, ytest) = 0.4190259f0\n"
     ]
    },
    {
     "name": "stderr",
     "output_type": "stream",
     "text": [
      "┌ Info: Epoch 17\n",
      "└ @ ConvGRU /Users/kahingleung/.julia/packages/Flux/sY3yx/src/optimise/train.jl:136\n"
     ]
    },
    {
     "name": "stdout",
     "output_type": "stream",
     "text": [
      "mse_loss(xtest, ytest) = 0.41945478f0\n"
     ]
    },
    {
     "name": "stderr",
     "output_type": "stream",
     "text": [
      "┌ Info: Epoch 18\n",
      "└ @ ConvGRU /Users/kahingleung/.julia/packages/Flux/sY3yx/src/optimise/train.jl:136\n",
      "┌ Info: Epoch 19\n",
      "└ @ ConvGRU /Users/kahingleung/.julia/packages/Flux/sY3yx/src/optimise/train.jl:136\n"
     ]
    },
    {
     "name": "stdout",
     "output_type": "stream",
     "text": [
      "mse_loss(xtest, ytest) = 0.41949722f0\n",
      "mse_loss(xtest, ytest) = 0.41954172f0\n"
     ]
    },
    {
     "name": "stderr",
     "output_type": "stream",
     "text": [
      "┌ Info: Epoch 20\n",
      "└ @ ConvGRU /Users/kahingleung/.julia/packages/Flux/sY3yx/src/optimise/train.jl:136\n"
     ]
    },
    {
     "name": "stdout",
     "output_type": "stream",
     "text": [
      "mse_loss(xtest, ytest) = 0.42014304f0\n"
     ]
    },
    {
     "name": "stderr",
     "output_type": "stream",
     "text": [
      "┌ Info: Epoch 21\n",
      "└ @ ConvGRU /Users/kahingleung/.julia/packages/Flux/sY3yx/src/optimise/train.jl:136\n"
     ]
    },
    {
     "name": "stdout",
     "output_type": "stream",
     "text": [
      "mse_loss(xtest, ytest) = 0.41936547f0\n"
     ]
    },
    {
     "name": "stderr",
     "output_type": "stream",
     "text": [
      "┌ Info: Epoch 22\n",
      "└ @ ConvGRU /Users/kahingleung/.julia/packages/Flux/sY3yx/src/optimise/train.jl:136\n",
      "┌ Info: Epoch 23\n",
      "└ @ ConvGRU /Users/kahingleung/.julia/packages/Flux/sY3yx/src/optimise/train.jl:136\n"
     ]
    },
    {
     "name": "stdout",
     "output_type": "stream",
     "text": [
      "mse_loss(xtest, ytest) = 0.41951898f0\n",
      "mse_loss(xtest, ytest) = 0.41927153f0\n"
     ]
    },
    {
     "name": "stderr",
     "output_type": "stream",
     "text": [
      "┌ Info: Epoch 24\n",
      "└ @ ConvGRU /Users/kahingleung/.julia/packages/Flux/sY3yx/src/optimise/train.jl:136\n"
     ]
    },
    {
     "name": "stdout",
     "output_type": "stream",
     "text": [
      "mse_loss(xtest, ytest) = 0.41933617f0\n"
     ]
    },
    {
     "name": "stderr",
     "output_type": "stream",
     "text": [
      "┌ Info: Epoch 25\n",
      "└ @ ConvGRU /Users/kahingleung/.julia/packages/Flux/sY3yx/src/optimise/train.jl:136\n"
     ]
    },
    {
     "name": "stdout",
     "output_type": "stream",
     "text": [
      "mse_loss(xtest, ytest) = 0.4193095f0\n"
     ]
    },
    {
     "name": "stderr",
     "output_type": "stream",
     "text": [
      "┌ Info: Epoch 26\n",
      "└ @ ConvGRU /Users/kahingleung/.julia/packages/Flux/sY3yx/src/optimise/train.jl:136\n",
      "┌ Info: Epoch 27\n",
      "└ @ ConvGRU /Users/kahingleung/.julia/packages/Flux/sY3yx/src/optimise/train.jl:136\n"
     ]
    },
    {
     "name": "stdout",
     "output_type": "stream",
     "text": [
      "mse_loss(xtest, ytest) = 0.41963068f0\n",
      "mse_loss(xtest, ytest) = 0.4190597f0\n"
     ]
    },
    {
     "name": "stderr",
     "output_type": "stream",
     "text": [
      "┌ Info: Epoch 28\n",
      "└ @ ConvGRU /Users/kahingleung/.julia/packages/Flux/sY3yx/src/optimise/train.jl:136\n"
     ]
    },
    {
     "name": "stdout",
     "output_type": "stream",
     "text": [
      "mse_loss(xtest, ytest) = 0.41929537f0\n"
     ]
    },
    {
     "name": "stderr",
     "output_type": "stream",
     "text": [
      "┌ Info: Epoch 29\n",
      "└ @ ConvGRU /Users/kahingleung/.julia/packages/Flux/sY3yx/src/optimise/train.jl:136\n"
     ]
    },
    {
     "name": "stdout",
     "output_type": "stream",
     "text": [
      "mse_loss(xtest, ytest) = 0.41926524f0\n"
     ]
    },
    {
     "name": "stderr",
     "output_type": "stream",
     "text": [
      "┌ Info: Epoch 30\n",
      "└ @ ConvGRU /Users/kahingleung/.julia/packages/Flux/sY3yx/src/optimise/train.jl:136\n"
     ]
    },
    {
     "name": "stdout",
     "output_type": "stream",
     "text": [
      "(250,)\n",
      "myObjective(df, seqlen, Nh, lr, sym * \"-\" * string(i)) = 0.41649446f0\n",
      "182040.01\n",
      "mse_loss(xtest, ytest) = 0.8075497f0\n",
      "mse_loss(xtest, ytest) = 0.5050338f0\n"
     ]
    },
    {
     "name": "stderr",
     "output_type": "stream",
     "text": [
      "┌ Info: Epoch 1\n",
      "└ @ ConvGRU /Users/kahingleung/.julia/packages/Flux/sY3yx/src/optimise/train.jl:136\n"
     ]
    },
    {
     "name": "stdout",
     "output_type": "stream",
     "text": [
      "mse_loss(xtest, ytest) = 0.5335011f0\n"
     ]
    },
    {
     "name": "stderr",
     "output_type": "stream",
     "text": [
      "┌ Info: Epoch 2\n",
      "└ @ ConvGRU /Users/kahingleung/.julia/packages/Flux/sY3yx/src/optimise/train.jl:136\n",
      "┌ Info: Epoch 3\n",
      "└ @ ConvGRU /Users/kahingleung/.julia/packages/Flux/sY3yx/src/optimise/train.jl:136\n"
     ]
    },
    {
     "name": "stdout",
     "output_type": "stream",
     "text": [
      "mse_loss(xtest, ytest) = 0.55187774f0\n",
      "mse_loss(xtest, ytest) = 0.504033f0\n"
     ]
    },
    {
     "name": "stderr",
     "output_type": "stream",
     "text": [
      "┌ Info: Epoch 4\n",
      "└ @ ConvGRU /Users/kahingleung/.julia/packages/Flux/sY3yx/src/optimise/train.jl:136\n"
     ]
    },
    {
     "name": "stdout",
     "output_type": "stream",
     "text": [
      "mse_loss(xtest, ytest) = 0.5069494f0\n"
     ]
    },
    {
     "name": "stderr",
     "output_type": "stream",
     "text": [
      "┌ Info: Epoch 5\n",
      "└ @ ConvGRU /Users/kahingleung/.julia/packages/Flux/sY3yx/src/optimise/train.jl:136\n"
     ]
    },
    {
     "name": "stdout",
     "output_type": "stream",
     "text": [
      "mse_loss(xtest, ytest) = 0.48818836f0\n"
     ]
    },
    {
     "name": "stderr",
     "output_type": "stream",
     "text": [
      "┌ Info: Epoch 6\n",
      "└ @ ConvGRU /Users/kahingleung/.julia/packages/Flux/sY3yx/src/optimise/train.jl:136\n"
     ]
    },
    {
     "name": "stdout",
     "output_type": "stream",
     "text": [
      "mse_loss(xtest, ytest) = 0.47981372f0\n"
     ]
    },
    {
     "name": "stderr",
     "output_type": "stream",
     "text": [
      "┌ Info: Epoch 7\n",
      "└ @ ConvGRU /Users/kahingleung/.julia/packages/Flux/sY3yx/src/optimise/train.jl:136\n"
     ]
    },
    {
     "name": "stdout",
     "output_type": "stream",
     "text": [
      "mse_loss(xtest, ytest) = 0.48058254f0\n"
     ]
    },
    {
     "name": "stderr",
     "output_type": "stream",
     "text": [
      "┌ Info: Epoch 8\n",
      "└ @ ConvGRU /Users/kahingleung/.julia/packages/Flux/sY3yx/src/optimise/train.jl:136\n"
     ]
    },
    {
     "name": "stdout",
     "output_type": "stream",
     "text": [
      "mse_loss(xtest, ytest) = 0.47400644f0\n"
     ]
    },
    {
     "name": "stderr",
     "output_type": "stream",
     "text": [
      "┌ Info: Epoch 9\n",
      "└ @ ConvGRU /Users/kahingleung/.julia/packages/Flux/sY3yx/src/optimise/train.jl:136\n"
     ]
    },
    {
     "name": "stdout",
     "output_type": "stream",
     "text": [
      "mse_loss(xtest, ytest) = 0.47004512f0\n"
     ]
    },
    {
     "name": "stderr",
     "output_type": "stream",
     "text": [
      "┌ Info: Epoch 10\n",
      "└ @ ConvGRU /Users/kahingleung/.julia/packages/Flux/sY3yx/src/optimise/train.jl:136\n"
     ]
    },
    {
     "name": "stdout",
     "output_type": "stream",
     "text": [
      "mse_loss(xtest, ytest) = 0.46631765f0\n"
     ]
    },
    {
     "name": "stderr",
     "output_type": "stream",
     "text": [
      "┌ Info: Epoch 11\n",
      "└ @ ConvGRU /Users/kahingleung/.julia/packages/Flux/sY3yx/src/optimise/train.jl:136\n"
     ]
    },
    {
     "name": "stdout",
     "output_type": "stream",
     "text": [
      "mse_loss(xtest, ytest) = 0.4652811f0\n"
     ]
    },
    {
     "name": "stderr",
     "output_type": "stream",
     "text": [
      "┌ Info: Epoch 12\n",
      "└ @ ConvGRU /Users/kahingleung/.julia/packages/Flux/sY3yx/src/optimise/train.jl:136\n"
     ]
    },
    {
     "name": "stdout",
     "output_type": "stream",
     "text": [
      "mse_loss(xtest, ytest) = 0.46261275f0\n"
     ]
    },
    {
     "name": "stderr",
     "output_type": "stream",
     "text": [
      "┌ Info: Epoch 13\n",
      "└ @ ConvGRU /Users/kahingleung/.julia/packages/Flux/sY3yx/src/optimise/train.jl:136\n"
     ]
    },
    {
     "name": "stdout",
     "output_type": "stream",
     "text": [
      "mse_loss(xtest, ytest) = 0.45970505f0\n"
     ]
    },
    {
     "name": "stderr",
     "output_type": "stream",
     "text": [
      "┌ Info: Epoch 14\n",
      "└ @ ConvGRU /Users/kahingleung/.julia/packages/Flux/sY3yx/src/optimise/train.jl:136\n"
     ]
    },
    {
     "name": "stdout",
     "output_type": "stream",
     "text": [
      "mse_loss(xtest, ytest) = 0.46285433f0\n"
     ]
    },
    {
     "name": "stderr",
     "output_type": "stream",
     "text": [
      "┌ Info: Epoch 15\n",
      "└ @ ConvGRU /Users/kahingleung/.julia/packages/Flux/sY3yx/src/optimise/train.jl:136\n"
     ]
    },
    {
     "name": "stdout",
     "output_type": "stream",
     "text": [
      "mse_loss(xtest, ytest) = 0.45565215f0\n"
     ]
    },
    {
     "name": "stderr",
     "output_type": "stream",
     "text": [
      "┌ Info: Epoch 16\n",
      "└ @ ConvGRU /Users/kahingleung/.julia/packages/Flux/sY3yx/src/optimise/train.jl:136\n"
     ]
    },
    {
     "name": "stdout",
     "output_type": "stream",
     "text": [
      "mse_loss(xtest, ytest) = 0.45323634f0\n"
     ]
    },
    {
     "name": "stderr",
     "output_type": "stream",
     "text": [
      "┌ Info: Epoch 17\n",
      "└ @ ConvGRU /Users/kahingleung/.julia/packages/Flux/sY3yx/src/optimise/train.jl:136\n",
      "┌ Info: Epoch 18\n",
      "└ @ ConvGRU /Users/kahingleung/.julia/packages/Flux/sY3yx/src/optimise/train.jl:136\n"
     ]
    },
    {
     "name": "stdout",
     "output_type": "stream",
     "text": [
      "mse_loss(xtest, ytest) = 0.45305064f0\n",
      "mse_loss(xtest, ytest) = 0.4473314f0\n"
     ]
    },
    {
     "name": "stderr",
     "output_type": "stream",
     "text": [
      "┌ Info: Epoch 19\n",
      "└ @ ConvGRU /Users/kahingleung/.julia/packages/Flux/sY3yx/src/optimise/train.jl:136\n",
      "┌ Info: Epoch 20\n",
      "└ @ ConvGRU /Users/kahingleung/.julia/packages/Flux/sY3yx/src/optimise/train.jl:136\n"
     ]
    },
    {
     "name": "stdout",
     "output_type": "stream",
     "text": [
      "mse_loss(xtest, ytest) = 0.4455273f0\n"
     ]
    },
    {
     "name": "stderr",
     "output_type": "stream",
     "text": [
      "┌ Info: Epoch 21\n",
      "└ @ ConvGRU /Users/kahingleung/.julia/packages/Flux/sY3yx/src/optimise/train.jl:136\n"
     ]
    },
    {
     "name": "stdout",
     "output_type": "stream",
     "text": [
      "mse_loss(xtest, ytest) = 0.4334551f0\n"
     ]
    },
    {
     "name": "stderr",
     "output_type": "stream",
     "text": [
      "┌ Info: Epoch 22\n",
      "└ @ ConvGRU /Users/kahingleung/.julia/packages/Flux/sY3yx/src/optimise/train.jl:136\n"
     ]
    },
    {
     "name": "stdout",
     "output_type": "stream",
     "text": [
      "mse_loss(xtest, ytest) = 0.42880082f0\n",
      "mse_loss(xtest, ytest) = 0.42641822f0\n"
     ]
    },
    {
     "name": "stderr",
     "output_type": "stream",
     "text": [
      "┌ Info: Epoch 23\n",
      "└ @ ConvGRU /Users/kahingleung/.julia/packages/Flux/sY3yx/src/optimise/train.jl:136\n",
      "┌ Info: Epoch 24\n",
      "└ @ ConvGRU /Users/kahingleung/.julia/packages/Flux/sY3yx/src/optimise/train.jl:136\n"
     ]
    },
    {
     "name": "stdout",
     "output_type": "stream",
     "text": [
      "mse_loss(xtest, ytest) = 0.4247669f0\n"
     ]
    },
    {
     "name": "stderr",
     "output_type": "stream",
     "text": [
      "┌ Info: Epoch 25\n",
      "└ @ ConvGRU /Users/kahingleung/.julia/packages/Flux/sY3yx/src/optimise/train.jl:136\n"
     ]
    },
    {
     "name": "stdout",
     "output_type": "stream",
     "text": [
      "mse_loss(xtest, ytest) = 0.4251883f0\n"
     ]
    },
    {
     "name": "stderr",
     "output_type": "stream",
     "text": [
      "┌ Info: Epoch 26\n",
      "└ @ ConvGRU /Users/kahingleung/.julia/packages/Flux/sY3yx/src/optimise/train.jl:136\n"
     ]
    },
    {
     "name": "stdout",
     "output_type": "stream",
     "text": [
      "mse_loss(xtest, ytest) = 0.4255272f0\n",
      "mse_loss(xtest, ytest) = 0.4268978f0\n"
     ]
    },
    {
     "name": "stderr",
     "output_type": "stream",
     "text": [
      "┌ Info: Epoch 27\n",
      "└ @ ConvGRU /Users/kahingleung/.julia/packages/Flux/sY3yx/src/optimise/train.jl:136\n"
     ]
    },
    {
     "name": "stdout",
     "output_type": "stream",
     "text": [
      "mse_loss(xtest, ytest) = 0.42832282f0\n"
     ]
    },
    {
     "name": "stderr",
     "output_type": "stream",
     "text": [
      "┌ Info: Epoch 28\n",
      "└ @ ConvGRU /Users/kahingleung/.julia/packages/Flux/sY3yx/src/optimise/train.jl:136\n"
     ]
    },
    {
     "name": "stdout",
     "output_type": "stream",
     "text": [
      "mse_loss(xtest, ytest) = 0.42511323f0\n"
     ]
    },
    {
     "name": "stderr",
     "output_type": "stream",
     "text": [
      "┌ Info: Epoch 29\n",
      "└ @ ConvGRU /Users/kahingleung/.julia/packages/Flux/sY3yx/src/optimise/train.jl:136\n"
     ]
    },
    {
     "name": "stdout",
     "output_type": "stream",
     "text": [
      "mse_loss(xtest, ytest) = 0.4259239f0\n"
     ]
    },
    {
     "name": "stderr",
     "output_type": "stream",
     "text": [
      "┌ Info: Epoch 30\n",
      "└ @ ConvGRU /Users/kahingleung/.julia/packages/Flux/sY3yx/src/optimise/train.jl:136\n"
     ]
    },
    {
     "name": "stdout",
     "output_type": "stream",
     "text": [
      "(250,)\n",
      "myObjective(df, seqlen, Nh, lr, sym * \"-\" * string(i)) = 0.41367218f0\n",
      "191080.007742636826811269\n",
      "mse_loss(xtest, ytest) = 0.58328176f0\n",
      "mse_loss(xtest, ytest) = 0.418125f0\n"
     ]
    },
    {
     "name": "stderr",
     "output_type": "stream",
     "text": [
      "┌ Info: Epoch 1\n",
      "└ @ ConvGRU /Users/kahingleung/.julia/packages/Flux/sY3yx/src/optimise/train.jl:136\n"
     ]
    },
    {
     "name": "stdout",
     "output_type": "stream",
     "text": [
      "mse_loss(xtest, ytest) = 0.5074131f0\n"
     ]
    },
    {
     "name": "stderr",
     "output_type": "stream",
     "text": [
      "┌ Info: Epoch 2\n",
      "└ @ ConvGRU /Users/kahingleung/.julia/packages/Flux/sY3yx/src/optimise/train.jl:136\n"
     ]
    },
    {
     "name": "stdout",
     "output_type": "stream",
     "text": [
      "mse_loss(xtest, ytest) = 0.47162563f0\n"
     ]
    },
    {
     "name": "stderr",
     "output_type": "stream",
     "text": [
      "┌ Info: Epoch 3\n",
      "└ @ ConvGRU /Users/kahingleung/.julia/packages/Flux/sY3yx/src/optimise/train.jl:136\n",
      "┌ Info: Epoch 4\n",
      "└ @ ConvGRU /Users/kahingleung/.julia/packages/Flux/sY3yx/src/optimise/train.jl:136\n"
     ]
    },
    {
     "name": "stdout",
     "output_type": "stream",
     "text": [
      "mse_loss(xtest, ytest) = 0.45458305f0\n",
      "mse_loss(xtest, ytest) = 0.44527656f0\n"
     ]
    },
    {
     "name": "stderr",
     "output_type": "stream",
     "text": [
      "┌ Info: Epoch 5\n",
      "└ @ ConvGRU /Users/kahingleung/.julia/packages/Flux/sY3yx/src/optimise/train.jl:136\n"
     ]
    },
    {
     "name": "stdout",
     "output_type": "stream",
     "text": [
      "mse_loss(xtest, ytest) = 0.43357757f0\n"
     ]
    },
    {
     "name": "stderr",
     "output_type": "stream",
     "text": [
      "┌ Info: Epoch 6\n",
      "└ @ ConvGRU /Users/kahingleung/.julia/packages/Flux/sY3yx/src/optimise/train.jl:136\n"
     ]
    },
    {
     "name": "stdout",
     "output_type": "stream",
     "text": [
      "mse_loss(xtest, ytest) = 0.42951006f0\n"
     ]
    },
    {
     "name": "stderr",
     "output_type": "stream",
     "text": [
      "┌ Info: Epoch 7\n",
      "└ @ ConvGRU /Users/kahingleung/.julia/packages/Flux/sY3yx/src/optimise/train.jl:136\n"
     ]
    },
    {
     "name": "stdout",
     "output_type": "stream",
     "text": [
      "mse_loss(xtest, ytest) = 0.42057142f0\n"
     ]
    },
    {
     "name": "stderr",
     "output_type": "stream",
     "text": [
      "┌ Info: Epoch 8\n",
      "└ @ ConvGRU /Users/kahingleung/.julia/packages/Flux/sY3yx/src/optimise/train.jl:136\n"
     ]
    },
    {
     "name": "stdout",
     "output_type": "stream",
     "text": [
      "mse_loss(xtest, ytest) = 0.41951248f0\n"
     ]
    },
    {
     "name": "stderr",
     "output_type": "stream",
     "text": [
      "┌ Info: Epoch 9\n",
      "└ @ ConvGRU /Users/kahingleung/.julia/packages/Flux/sY3yx/src/optimise/train.jl:136\n"
     ]
    },
    {
     "name": "stdout",
     "output_type": "stream",
     "text": [
      "mse_loss(xtest, ytest) = 0.42049447f0\n"
     ]
    },
    {
     "name": "stderr",
     "output_type": "stream",
     "text": [
      "┌ Info: Epoch 10\n",
      "└ @ ConvGRU /Users/kahingleung/.julia/packages/Flux/sY3yx/src/optimise/train.jl:136\n"
     ]
    },
    {
     "name": "stdout",
     "output_type": "stream",
     "text": [
      "mse_loss(xtest, ytest) = 0.4211514f0\n"
     ]
    },
    {
     "name": "stderr",
     "output_type": "stream",
     "text": [
      "┌ Info: Epoch 11\n",
      "└ @ ConvGRU /Users/kahingleung/.julia/packages/Flux/sY3yx/src/optimise/train.jl:136\n"
     ]
    },
    {
     "name": "stdout",
     "output_type": "stream",
     "text": [
      "mse_loss(xtest, ytest) = 0.4215045f0\n"
     ]
    },
    {
     "name": "stderr",
     "output_type": "stream",
     "text": [
      "┌ Info: Epoch 12\n",
      "└ @ ConvGRU /Users/kahingleung/.julia/packages/Flux/sY3yx/src/optimise/train.jl:136\n",
      "┌ Info: Epoch 13\n",
      "└ @ ConvGRU /Users/kahingleung/.julia/packages/Flux/sY3yx/src/optimise/train.jl:136\n"
     ]
    },
    {
     "name": "stdout",
     "output_type": "stream",
     "text": [
      "mse_loss(xtest, ytest) = 0.42405725f0\n"
     ]
    },
    {
     "name": "stderr",
     "output_type": "stream",
     "text": [
      "┌ Info: Epoch 14\n",
      "└ @ ConvGRU /Users/kahingleung/.julia/packages/Flux/sY3yx/src/optimise/train.jl:136\n"
     ]
    },
    {
     "name": "stdout",
     "output_type": "stream",
     "text": [
      "mse_loss(xtest, ytest) = 0.42032176f0\n",
      "mse_loss(xtest, ytest) = 0.42018008f0\n"
     ]
    },
    {
     "name": "stderr",
     "output_type": "stream",
     "text": [
      "┌ Info: Epoch 15\n",
      "└ @ ConvGRU /Users/kahingleung/.julia/packages/Flux/sY3yx/src/optimise/train.jl:136\n"
     ]
    },
    {
     "name": "stdout",
     "output_type": "stream",
     "text": [
      "mse_loss(xtest, ytest) = 0.41823485f0\n"
     ]
    },
    {
     "name": "stderr",
     "output_type": "stream",
     "text": [
      "┌ Info: Epoch 16\n",
      "└ @ ConvGRU /Users/kahingleung/.julia/packages/Flux/sY3yx/src/optimise/train.jl:136\n",
      "┌ Info: Epoch 17\n",
      "└ @ ConvGRU /Users/kahingleung/.julia/packages/Flux/sY3yx/src/optimise/train.jl:136\n"
     ]
    },
    {
     "name": "stdout",
     "output_type": "stream",
     "text": [
      "mse_loss(xtest, ytest) = 0.41580567f0\n",
      "mse_loss(xtest, ytest) = 0.41517913f0\n"
     ]
    },
    {
     "name": "stderr",
     "output_type": "stream",
     "text": [
      "┌ Info: Epoch 18\n",
      "└ @ ConvGRU /Users/kahingleung/.julia/packages/Flux/sY3yx/src/optimise/train.jl:136\n"
     ]
    },
    {
     "name": "stdout",
     "output_type": "stream",
     "text": [
      "mse_loss(xtest, ytest) = 0.41424718f0\n"
     ]
    },
    {
     "name": "stderr",
     "output_type": "stream",
     "text": [
      "┌ Info: Epoch 19\n",
      "└ @ ConvGRU /Users/kahingleung/.julia/packages/Flux/sY3yx/src/optimise/train.jl:136\n"
     ]
    },
    {
     "name": "stdout",
     "output_type": "stream",
     "text": [
      "mse_loss(xtest, ytest) = 0.41382387f0\n"
     ]
    },
    {
     "name": "stderr",
     "output_type": "stream",
     "text": [
      "┌ Info: Epoch 20\n",
      "└ @ ConvGRU /Users/kahingleung/.julia/packages/Flux/sY3yx/src/optimise/train.jl:136\n",
      "┌ Info: Epoch 21\n",
      "└ @ ConvGRU /Users/kahingleung/.julia/packages/Flux/sY3yx/src/optimise/train.jl:136\n"
     ]
    },
    {
     "name": "stdout",
     "output_type": "stream",
     "text": [
      "mse_loss(xtest, ytest) = 0.41453138f0\n"
     ]
    },
    {
     "name": "stderr",
     "output_type": "stream",
     "text": [
      "┌ Info: Epoch 22\n",
      "└ @ ConvGRU /Users/kahingleung/.julia/packages/Flux/sY3yx/src/optimise/train.jl:136\n"
     ]
    },
    {
     "name": "stdout",
     "output_type": "stream",
     "text": [
      "mse_loss(xtest, ytest) = 0.4150224f0\n",
      "mse_loss(xtest, ytest) = 0.41441843f0\n"
     ]
    },
    {
     "name": "stderr",
     "output_type": "stream",
     "text": [
      "┌ Info: Epoch 23\n",
      "└ @ ConvGRU /Users/kahingleung/.julia/packages/Flux/sY3yx/src/optimise/train.jl:136\n"
     ]
    },
    {
     "name": "stdout",
     "output_type": "stream",
     "text": [
      "mse_loss(xtest, ytest) = 0.4139289f0\n"
     ]
    },
    {
     "name": "stderr",
     "output_type": "stream",
     "text": [
      "┌ Info: Epoch 24\n",
      "└ @ ConvGRU /Users/kahingleung/.julia/packages/Flux/sY3yx/src/optimise/train.jl:136\n",
      "┌ Info: Epoch 25\n",
      "└ @ ConvGRU /Users/kahingleung/.julia/packages/Flux/sY3yx/src/optimise/train.jl:136\n"
     ]
    },
    {
     "name": "stdout",
     "output_type": "stream",
     "text": [
      "mse_loss(xtest, ytest) = 0.41436696f0\n",
      "mse_loss(xtest, ytest) = 0.41628242f0\n"
     ]
    },
    {
     "name": "stderr",
     "output_type": "stream",
     "text": [
      "┌ Info: Epoch 26\n",
      "└ @ ConvGRU /Users/kahingleung/.julia/packages/Flux/sY3yx/src/optimise/train.jl:136\n"
     ]
    },
    {
     "name": "stdout",
     "output_type": "stream",
     "text": [
      "mse_loss(xtest, ytest) = 0.41646734f0\n"
     ]
    },
    {
     "name": "stderr",
     "output_type": "stream",
     "text": [
      "┌ Info: Epoch 27\n",
      "└ @ ConvGRU /Users/kahingleung/.julia/packages/Flux/sY3yx/src/optimise/train.jl:136\n",
      "┌ Info: Epoch 28\n",
      "└ @ ConvGRU /Users/kahingleung/.julia/packages/Flux/sY3yx/src/optimise/train.jl:136\n"
     ]
    },
    {
     "name": "stdout",
     "output_type": "stream",
     "text": [
      "mse_loss(xtest, ytest) = 0.41242665f0\n",
      "mse_loss(xtest, ytest) = 0.41300878f0\n"
     ]
    },
    {
     "name": "stderr",
     "output_type": "stream",
     "text": [
      "┌ Info: Epoch 29\n",
      "└ @ ConvGRU /Users/kahingleung/.julia/packages/Flux/sY3yx/src/optimise/train.jl:136\n"
     ]
    },
    {
     "name": "stdout",
     "output_type": "stream",
     "text": [
      "mse_loss(xtest, ytest) = 0.4169797f0\n"
     ]
    },
    {
     "name": "stderr",
     "output_type": "stream",
     "text": [
      "┌ Info: Epoch 30\n",
      "└ @ ConvGRU /Users/kahingleung/.julia/packages/Flux/sY3yx/src/optimise/train.jl:136\n"
     ]
    },
    {
     "name": "stdout",
     "output_type": "stream",
     "text": [
      "(250,)\n",
      "myObjective(df, seqlen, Nh, lr, sym * \"-\" * string(i)) = 0.41098663f0\n",
      "202020.001\n",
      "mse_loss(xtest, ytest) = 0.4363037f0\n",
      "mse_loss(xtest, ytest) = 0.43953255f0\n"
     ]
    },
    {
     "name": "stderr",
     "output_type": "stream",
     "text": [
      "┌ Info: Epoch 1\n",
      "└ @ ConvGRU /Users/kahingleung/.julia/packages/Flux/sY3yx/src/optimise/train.jl:136\n",
      "┌ Info: Epoch 2\n",
      "└ @ ConvGRU /Users/kahingleung/.julia/packages/Flux/sY3yx/src/optimise/train.jl:136\n"
     ]
    },
    {
     "name": "stdout",
     "output_type": "stream",
     "text": [
      "mse_loss(xtest, ytest) = 0.43033463f0\n",
      "mse_loss(xtest, ytest) = 0.42615524f0\n"
     ]
    },
    {
     "name": "stderr",
     "output_type": "stream",
     "text": [
      "┌ Info: Epoch 3\n",
      "└ @ ConvGRU /Users/kahingleung/.julia/packages/Flux/sY3yx/src/optimise/train.jl:136\n"
     ]
    },
    {
     "name": "stdout",
     "output_type": "stream",
     "text": [
      "mse_loss(xtest, ytest) = 0.42421538f0\n"
     ]
    },
    {
     "name": "stderr",
     "output_type": "stream",
     "text": [
      "┌ Info: Epoch 4\n",
      "└ @ ConvGRU /Users/kahingleung/.julia/packages/Flux/sY3yx/src/optimise/train.jl:136\n"
     ]
    },
    {
     "name": "stdout",
     "output_type": "stream",
     "text": [
      "mse_loss(xtest, ytest) = 0.42348284f0\n"
     ]
    },
    {
     "name": "stderr",
     "output_type": "stream",
     "text": [
      "┌ Info: Epoch 5\n",
      "└ @ ConvGRU /Users/kahingleung/.julia/packages/Flux/sY3yx/src/optimise/train.jl:136\n"
     ]
    },
    {
     "name": "stdout",
     "output_type": "stream",
     "text": [
      "mse_loss(xtest, ytest) = 0.42295688f0\n"
     ]
    },
    {
     "name": "stderr",
     "output_type": "stream",
     "text": [
      "┌ Info: Epoch 6\n",
      "└ @ ConvGRU /Users/kahingleung/.julia/packages/Flux/sY3yx/src/optimise/train.jl:136\n"
     ]
    },
    {
     "name": "stdout",
     "output_type": "stream",
     "text": [
      "mse_loss(xtest, ytest) = 0.42284343f0\n"
     ]
    },
    {
     "name": "stderr",
     "output_type": "stream",
     "text": [
      "┌ Info: Epoch 7\n",
      "└ @ ConvGRU /Users/kahingleung/.julia/packages/Flux/sY3yx/src/optimise/train.jl:136\n"
     ]
    },
    {
     "name": "stdout",
     "output_type": "stream",
     "text": [
      "mse_loss(xtest, ytest) = 0.4229469f0\n"
     ]
    },
    {
     "name": "stderr",
     "output_type": "stream",
     "text": [
      "┌ Info: Epoch 8\n",
      "└ @ ConvGRU /Users/kahingleung/.julia/packages/Flux/sY3yx/src/optimise/train.jl:136\n"
     ]
    },
    {
     "name": "stdout",
     "output_type": "stream",
     "text": [
      "mse_loss(xtest, ytest) = 0.42257133f0\n"
     ]
    },
    {
     "name": "stderr",
     "output_type": "stream",
     "text": [
      "┌ Info: Epoch 9\n",
      "└ @ ConvGRU /Users/kahingleung/.julia/packages/Flux/sY3yx/src/optimise/train.jl:136\n"
     ]
    },
    {
     "name": "stdout",
     "output_type": "stream",
     "text": [
      "mse_loss(xtest, ytest) = 0.422672f0\n"
     ]
    },
    {
     "name": "stderr",
     "output_type": "stream",
     "text": [
      "┌ Info: Epoch 10\n",
      "└ @ ConvGRU /Users/kahingleung/.julia/packages/Flux/sY3yx/src/optimise/train.jl:136\n"
     ]
    },
    {
     "name": "stdout",
     "output_type": "stream",
     "text": [
      "mse_loss(xtest, ytest) = 0.42235804f0\n"
     ]
    },
    {
     "name": "stderr",
     "output_type": "stream",
     "text": [
      "┌ Info: Epoch 11\n",
      "└ @ ConvGRU /Users/kahingleung/.julia/packages/Flux/sY3yx/src/optimise/train.jl:136\n"
     ]
    },
    {
     "name": "stdout",
     "output_type": "stream",
     "text": [
      "mse_loss(xtest, ytest) = 0.422258f0\n"
     ]
    },
    {
     "name": "stderr",
     "output_type": "stream",
     "text": [
      "┌ Info: Epoch 12\n",
      "└ @ ConvGRU /Users/kahingleung/.julia/packages/Flux/sY3yx/src/optimise/train.jl:136\n"
     ]
    },
    {
     "name": "stdout",
     "output_type": "stream",
     "text": [
      "mse_loss(xtest, ytest) = 0.42158312f0\n"
     ]
    },
    {
     "name": "stderr",
     "output_type": "stream",
     "text": [
      "┌ Info: Epoch 13\n",
      "└ @ ConvGRU /Users/kahingleung/.julia/packages/Flux/sY3yx/src/optimise/train.jl:136\n"
     ]
    },
    {
     "name": "stdout",
     "output_type": "stream",
     "text": [
      "mse_loss(xtest, ytest) = 0.4217405f0\n"
     ]
    },
    {
     "name": "stderr",
     "output_type": "stream",
     "text": [
      "┌ Info: Epoch 14\n",
      "└ @ ConvGRU /Users/kahingleung/.julia/packages/Flux/sY3yx/src/optimise/train.jl:136\n"
     ]
    },
    {
     "name": "stdout",
     "output_type": "stream",
     "text": [
      "mse_loss(xtest, ytest) = 0.42217466f0\n"
     ]
    },
    {
     "name": "stderr",
     "output_type": "stream",
     "text": [
      "┌ Info: Epoch 15\n",
      "└ @ ConvGRU /Users/kahingleung/.julia/packages/Flux/sY3yx/src/optimise/train.jl:136\n"
     ]
    },
    {
     "name": "stdout",
     "output_type": "stream",
     "text": [
      "mse_loss(xtest, ytest) = 0.42184523f0\n"
     ]
    },
    {
     "name": "stderr",
     "output_type": "stream",
     "text": [
      "┌ Info: Epoch 16\n",
      "└ @ ConvGRU /Users/kahingleung/.julia/packages/Flux/sY3yx/src/optimise/train.jl:136\n"
     ]
    },
    {
     "name": "stdout",
     "output_type": "stream",
     "text": [
      "mse_loss(xtest, ytest) = 0.42171934f0\n"
     ]
    },
    {
     "name": "stderr",
     "output_type": "stream",
     "text": [
      "┌ Info: Epoch 17\n",
      "└ @ ConvGRU /Users/kahingleung/.julia/packages/Flux/sY3yx/src/optimise/train.jl:136\n",
      "┌ Info: Epoch 18\n",
      "└ @ ConvGRU /Users/kahingleung/.julia/packages/Flux/sY3yx/src/optimise/train.jl:136\n"
     ]
    },
    {
     "name": "stdout",
     "output_type": "stream",
     "text": [
      "mse_loss(xtest, ytest) = 0.42166734f0\n",
      "mse_loss(xtest, ytest) = 0.42159754f0\n"
     ]
    },
    {
     "name": "stderr",
     "output_type": "stream",
     "text": [
      "┌ Info: Epoch 19\n",
      "└ @ ConvGRU /Users/kahingleung/.julia/packages/Flux/sY3yx/src/optimise/train.jl:136\n"
     ]
    },
    {
     "name": "stdout",
     "output_type": "stream",
     "text": [
      "mse_loss(xtest, ytest) = 0.42146274f0\n"
     ]
    },
    {
     "name": "stderr",
     "output_type": "stream",
     "text": [
      "┌ Info: Epoch 20\n",
      "└ @ ConvGRU /Users/kahingleung/.julia/packages/Flux/sY3yx/src/optimise/train.jl:136\n"
     ]
    },
    {
     "name": "stdout",
     "output_type": "stream",
     "text": [
      "mse_loss(xtest, ytest) = 0.42128897f0\n"
     ]
    },
    {
     "name": "stderr",
     "output_type": "stream",
     "text": [
      "┌ Info: Epoch 21\n",
      "└ @ ConvGRU /Users/kahingleung/.julia/packages/Flux/sY3yx/src/optimise/train.jl:136\n"
     ]
    },
    {
     "name": "stdout",
     "output_type": "stream",
     "text": [
      "mse_loss(xtest, ytest) = 0.4214134f0\n"
     ]
    },
    {
     "name": "stderr",
     "output_type": "stream",
     "text": [
      "┌ Info: Epoch 22\n",
      "└ @ ConvGRU /Users/kahingleung/.julia/packages/Flux/sY3yx/src/optimise/train.jl:136\n"
     ]
    },
    {
     "name": "stdout",
     "output_type": "stream",
     "text": [
      "mse_loss(xtest, ytest) = 0.421369f0\n"
     ]
    },
    {
     "name": "stderr",
     "output_type": "stream",
     "text": [
      "┌ Info: Epoch 23\n",
      "└ @ ConvGRU /Users/kahingleung/.julia/packages/Flux/sY3yx/src/optimise/train.jl:136\n",
      "┌ Info: Epoch 24\n",
      "└ @ ConvGRU /Users/kahingleung/.julia/packages/Flux/sY3yx/src/optimise/train.jl:136\n"
     ]
    },
    {
     "name": "stdout",
     "output_type": "stream",
     "text": [
      "mse_loss(xtest, ytest) = 0.42179435f0\n",
      "mse_loss(xtest, ytest) = 0.42173243f0\n"
     ]
    },
    {
     "name": "stderr",
     "output_type": "stream",
     "text": [
      "┌ Info: Epoch 25\n",
      "└ @ ConvGRU /Users/kahingleung/.julia/packages/Flux/sY3yx/src/optimise/train.jl:136\n"
     ]
    },
    {
     "name": "stdout",
     "output_type": "stream",
     "text": [
      "mse_loss(xtest, ytest) = 0.42183882f0\n"
     ]
    },
    {
     "name": "stderr",
     "output_type": "stream",
     "text": [
      "┌ Info: Epoch 26\n",
      "└ @ ConvGRU /Users/kahingleung/.julia/packages/Flux/sY3yx/src/optimise/train.jl:136\n"
     ]
    },
    {
     "name": "stdout",
     "output_type": "stream",
     "text": [
      "mse_loss(xtest, ytest) = 0.42139524f0\n"
     ]
    },
    {
     "name": "stderr",
     "output_type": "stream",
     "text": [
      "┌ Info: Epoch 27\n",
      "└ @ ConvGRU /Users/kahingleung/.julia/packages/Flux/sY3yx/src/optimise/train.jl:136\n"
     ]
    },
    {
     "name": "stdout",
     "output_type": "stream",
     "text": [
      "mse_loss(xtest, ytest) = 0.42141476f0\n"
     ]
    },
    {
     "name": "stderr",
     "output_type": "stream",
     "text": [
      "┌ Info: Epoch 28\n",
      "└ @ ConvGRU /Users/kahingleung/.julia/packages/Flux/sY3yx/src/optimise/train.jl:136\n"
     ]
    },
    {
     "name": "stdout",
     "output_type": "stream",
     "text": [
      "mse_loss(xtest, ytest) = 0.42189533f0\n"
     ]
    },
    {
     "name": "stderr",
     "output_type": "stream",
     "text": [
      "┌ Info: Epoch 29\n",
      "└ @ ConvGRU /Users/kahingleung/.julia/packages/Flux/sY3yx/src/optimise/train.jl:136\n"
     ]
    },
    {
     "name": "stdout",
     "output_type": "stream",
     "text": [
      "mse_loss(xtest, ytest) = 0.42155877f0\n"
     ]
    },
    {
     "name": "stderr",
     "output_type": "stream",
     "text": [
      "┌ Info: Epoch 30\n",
      "└ @ ConvGRU /Users/kahingleung/.julia/packages/Flux/sY3yx/src/optimise/train.jl:136\n"
     ]
    },
    {
     "name": "stdout",
     "output_type": "stream",
     "text": [
      "(250,)\n",
      "myObjective(df, seqlen, Nh, lr, sym * \"-\" * string(i)) = 0.42020667f0\n",
      "mse_loss(xtest, ytest) = 0.59733313f0\n",
      "mse_loss(xtest, ytest) = 0.41878635f0\n"
     ]
    },
    {
     "name": "stderr",
     "output_type": "stream",
     "text": [
      "┌ Info: Epoch 1\n",
      "└ @ ConvGRU /Users/kahingleung/.julia/packages/Flux/sY3yx/src/optimise/train.jl:136\n"
     ]
    },
    {
     "name": "stdout",
     "output_type": "stream",
     "text": [
      "mse_loss(xtest, ytest) = 0.45945877f0\n"
     ]
    },
    {
     "name": "stderr",
     "output_type": "stream",
     "text": [
      "┌ Info: Epoch 2\n",
      "└ @ ConvGRU /Users/kahingleung/.julia/packages/Flux/sY3yx/src/optimise/train.jl:136\n"
     ]
    },
    {
     "name": "stdout",
     "output_type": "stream",
     "text": [
      "mse_loss(xtest, ytest) = 0.47013885f0\n"
     ]
    },
    {
     "name": "stderr",
     "output_type": "stream",
     "text": [
      "┌ Info: Epoch 3\n",
      "└ @ ConvGRU /Users/kahingleung/.julia/packages/Flux/sY3yx/src/optimise/train.jl:136\n",
      "┌ Info: Epoch 4\n",
      "└ @ ConvGRU /Users/kahingleung/.julia/packages/Flux/sY3yx/src/optimise/train.jl:136\n"
     ]
    },
    {
     "name": "stdout",
     "output_type": "stream",
     "text": [
      "mse_loss(xtest, ytest) = 0.46920085f0\n"
     ]
    },
    {
     "name": "stderr",
     "output_type": "stream",
     "text": [
      "┌ Info: Epoch 5\n",
      "└ @ ConvGRU /Users/kahingleung/.julia/packages/Flux/sY3yx/src/optimise/train.jl:136\n"
     ]
    },
    {
     "name": "stdout",
     "output_type": "stream",
     "text": [
      "mse_loss(xtest, ytest) = 0.47623077f0\n"
     ]
    },
    {
     "name": "stderr",
     "output_type": "stream",
     "text": [
      "┌ Info: Epoch 6\n",
      "└ @ ConvGRU /Users/kahingleung/.julia/packages/Flux/sY3yx/src/optimise/train.jl:136\n"
     ]
    },
    {
     "name": "stdout",
     "output_type": "stream",
     "text": [
      "mse_loss(xtest, ytest) = 0.47528097f0\n"
     ]
    },
    {
     "name": "stderr",
     "output_type": "stream",
     "text": [
      "┌ Info: Epoch 7\n",
      "└ @ ConvGRU /Users/kahingleung/.julia/packages/Flux/sY3yx/src/optimise/train.jl:136\n"
     ]
    },
    {
     "name": "stdout",
     "output_type": "stream",
     "text": [
      "mse_loss(xtest, ytest) = 0.47337076f0\n",
      "mse_loss(xtest, ytest) = 0.4563817f0\n"
     ]
    },
    {
     "name": "stderr",
     "output_type": "stream",
     "text": [
      "┌ Info: Epoch 8\n",
      "└ @ ConvGRU /Users/kahingleung/.julia/packages/Flux/sY3yx/src/optimise/train.jl:136\n"
     ]
    },
    {
     "name": "stdout",
     "output_type": "stream",
     "text": [
      "mse_loss(xtest, ytest) = 0.4614673f0\n"
     ]
    },
    {
     "name": "stderr",
     "output_type": "stream",
     "text": [
      "┌ Info: Epoch 9\n",
      "└ @ ConvGRU /Users/kahingleung/.julia/packages/Flux/sY3yx/src/optimise/train.jl:136\n",
      "┌ Info: Epoch 10\n",
      "└ @ ConvGRU /Users/kahingleung/.julia/packages/Flux/sY3yx/src/optimise/train.jl:136\n"
     ]
    },
    {
     "name": "stdout",
     "output_type": "stream",
     "text": [
      "mse_loss(xtest, ytest) = 0.47308815f0\n",
      "mse_loss(xtest, ytest) = 0.4690425f0\n"
     ]
    },
    {
     "name": "stderr",
     "output_type": "stream",
     "text": [
      "┌ Info: Epoch 11\n",
      "└ @ ConvGRU /Users/kahingleung/.julia/packages/Flux/sY3yx/src/optimise/train.jl:136\n"
     ]
    },
    {
     "name": "stdout",
     "output_type": "stream",
     "text": [
      "mse_loss(xtest, ytest) = 0.46133897f0\n"
     ]
    },
    {
     "name": "stderr",
     "output_type": "stream",
     "text": [
      "┌ Info: Epoch 12\n",
      "└ @ ConvGRU /Users/kahingleung/.julia/packages/Flux/sY3yx/src/optimise/train.jl:136\n"
     ]
    },
    {
     "name": "stdout",
     "output_type": "stream",
     "text": [
      "mse_loss(xtest, ytest) = 0.46924192f0\n"
     ]
    },
    {
     "name": "stderr",
     "output_type": "stream",
     "text": [
      "┌ Info: Epoch 13\n",
      "└ @ ConvGRU /Users/kahingleung/.julia/packages/Flux/sY3yx/src/optimise/train.jl:136\n"
     ]
    },
    {
     "name": "stdout",
     "output_type": "stream",
     "text": [
      "mse_loss(xtest, ytest) = 0.45737493f0\n"
     ]
    },
    {
     "name": "stderr",
     "output_type": "stream",
     "text": [
      "┌ Info: Epoch 14\n",
      "└ @ ConvGRU /Users/kahingleung/.julia/packages/Flux/sY3yx/src/optimise/train.jl:136\n"
     ]
    },
    {
     "name": "stdout",
     "output_type": "stream",
     "text": [
      "mse_loss(xtest, ytest) = 0.4618334f0\n"
     ]
    },
    {
     "name": "stderr",
     "output_type": "stream",
     "text": [
      "┌ Info: Epoch 15\n",
      "└ @ ConvGRU /Users/kahingleung/.julia/packages/Flux/sY3yx/src/optimise/train.jl:136\n"
     ]
    },
    {
     "name": "stdout",
     "output_type": "stream",
     "text": [
      "mse_loss(xtest, ytest) = 0.43278372f0\n"
     ]
    },
    {
     "name": "stderr",
     "output_type": "stream",
     "text": [
      "┌ Info: Epoch 16\n",
      "└ @ ConvGRU /Users/kahingleung/.julia/packages/Flux/sY3yx/src/optimise/train.jl:136\n",
      "┌ Info: Epoch 17\n",
      "└ @ ConvGRU /Users/kahingleung/.julia/packages/Flux/sY3yx/src/optimise/train.jl:136\n"
     ]
    },
    {
     "name": "stdout",
     "output_type": "stream",
     "text": [
      "mse_loss(xtest, ytest) = 0.45571283f0\n"
     ]
    },
    {
     "name": "stderr",
     "output_type": "stream",
     "text": [
      "┌ Info: Epoch 18\n",
      "└ @ ConvGRU /Users/kahingleung/.julia/packages/Flux/sY3yx/src/optimise/train.jl:136\n"
     ]
    },
    {
     "name": "stdout",
     "output_type": "stream",
     "text": [
      "mse_loss(xtest, ytest) = 0.4635811f0\n",
      "mse_loss(xtest, ytest) = 0.4601811f0\n"
     ]
    },
    {
     "name": "stderr",
     "output_type": "stream",
     "text": [
      "┌ Info: Epoch 19\n",
      "└ @ ConvGRU /Users/kahingleung/.julia/packages/Flux/sY3yx/src/optimise/train.jl:136\n"
     ]
    },
    {
     "name": "stdout",
     "output_type": "stream",
     "text": [
      "mse_loss(xtest, ytest) = 0.44596055f0\n"
     ]
    },
    {
     "name": "stderr",
     "output_type": "stream",
     "text": [
      "┌ Info: Epoch 20\n",
      "└ @ ConvGRU /Users/kahingleung/.julia/packages/Flux/sY3yx/src/optimise/train.jl:136\n",
      "┌ Info: Epoch 21\n",
      "└ @ ConvGRU /Users/kahingleung/.julia/packages/Flux/sY3yx/src/optimise/train.jl:136\n"
     ]
    },
    {
     "name": "stdout",
     "output_type": "stream",
     "text": [
      "mse_loss(xtest, ytest) = 0.45573092f0\n"
     ]
    },
    {
     "name": "stderr",
     "output_type": "stream",
     "text": [
      "┌ Info: Epoch 22\n",
      "└ @ ConvGRU /Users/kahingleung/.julia/packages/Flux/sY3yx/src/optimise/train.jl:136\n"
     ]
    },
    {
     "name": "stdout",
     "output_type": "stream",
     "text": [
      "mse_loss(xtest, ytest) = 0.4701436f0\n",
      "mse_loss(xtest, ytest) = 0.4578494f0\n"
     ]
    },
    {
     "name": "stderr",
     "output_type": "stream",
     "text": [
      "┌ Info: Epoch 23\n",
      "└ @ ConvGRU /Users/kahingleung/.julia/packages/Flux/sY3yx/src/optimise/train.jl:136\n"
     ]
    },
    {
     "name": "stdout",
     "output_type": "stream",
     "text": [
      "mse_loss(xtest, ytest) = 0.47625062f0\n"
     ]
    },
    {
     "name": "stderr",
     "output_type": "stream",
     "text": [
      "┌ Info: Epoch 24\n",
      "└ @ ConvGRU /Users/kahingleung/.julia/packages/Flux/sY3yx/src/optimise/train.jl:136\n"
     ]
    },
    {
     "name": "stdout",
     "output_type": "stream",
     "text": [
      "mse_loss(xtest, ytest) = 0.45786944f0\n"
     ]
    },
    {
     "name": "stderr",
     "output_type": "stream",
     "text": [
      "┌ Info: Epoch 25\n",
      "└ @ ConvGRU /Users/kahingleung/.julia/packages/Flux/sY3yx/src/optimise/train.jl:136\n"
     ]
    },
    {
     "name": "stdout",
     "output_type": "stream",
     "text": [
      "mse_loss(xtest, ytest) = 0.44547668f0\n"
     ]
    },
    {
     "name": "stderr",
     "output_type": "stream",
     "text": [
      "┌ Info: Epoch 26\n",
      "└ @ ConvGRU /Users/kahingleung/.julia/packages/Flux/sY3yx/src/optimise/train.jl:136\n"
     ]
    },
    {
     "name": "stdout",
     "output_type": "stream",
     "text": [
      "mse_loss(xtest, ytest) = 0.44688255f0\n"
     ]
    },
    {
     "name": "stderr",
     "output_type": "stream",
     "text": [
      "┌ Info: Epoch 27\n",
      "└ @ ConvGRU /Users/kahingleung/.julia/packages/Flux/sY3yx/src/optimise/train.jl:136\n"
     ]
    },
    {
     "name": "stdout",
     "output_type": "stream",
     "text": [
      "mse_loss(xtest, ytest) = 0.47160003f0\n"
     ]
    },
    {
     "name": "stderr",
     "output_type": "stream",
     "text": [
      "┌ Info: Epoch 28\n",
      "└ @ ConvGRU /Users/kahingleung/.julia/packages/Flux/sY3yx/src/optimise/train.jl:136\n"
     ]
    },
    {
     "name": "stdout",
     "output_type": "stream",
     "text": [
      "mse_loss(xtest, ytest) = 0.45278606f0\n"
     ]
    },
    {
     "name": "stderr",
     "output_type": "stream",
     "text": [
      "┌ Info: Epoch 29\n",
      "└ @ ConvGRU /Users/kahingleung/.julia/packages/Flux/sY3yx/src/optimise/train.jl:136\n"
     ]
    },
    {
     "name": "stdout",
     "output_type": "stream",
     "text": [
      "mse_loss(xtest, ytest) = 0.4540742f0\n"
     ]
    },
    {
     "name": "stderr",
     "output_type": "stream",
     "text": [
      "┌ Info: Epoch 30\n",
      "└ @ ConvGRU /Users/kahingleung/.julia/packages/Flux/sY3yx/src/optimise/train.jl:136\n"
     ]
    },
    {
     "name": "stdout",
     "output_type": "stream",
     "text": [
      "mse_loss(xtest, ytest) = 0.45263016f0\n"
     ]
    },
    {
     "name": "stderr",
     "output_type": "stream",
     "text": [
      "┌ Info: Epoch 31\n",
      "└ @ ConvGRU /Users/kahingleung/.julia/packages/Flux/sY3yx/src/optimise/train.jl:136\n"
     ]
    },
    {
     "name": "stdout",
     "output_type": "stream",
     "text": [
      "mse_loss(xtest, ytest) = 0.45123023f0\n"
     ]
    },
    {
     "name": "stderr",
     "output_type": "stream",
     "text": [
      "┌ Info: Epoch 32\n",
      "└ @ ConvGRU /Users/kahingleung/.julia/packages/Flux/sY3yx/src/optimise/train.jl:136\n"
     ]
    },
    {
     "name": "stdout",
     "output_type": "stream",
     "text": [
      "mse_loss(xtest, ytest) = 0.4507513f0\n"
     ]
    },
    {
     "name": "stderr",
     "output_type": "stream",
     "text": [
      "┌ Info: Epoch 33\n",
      "└ @ ConvGRU /Users/kahingleung/.julia/packages/Flux/sY3yx/src/optimise/train.jl:136\n"
     ]
    },
    {
     "name": "stdout",
     "output_type": "stream",
     "text": [
      "mse_loss(xtest, ytest) = 0.4487801f0\n"
     ]
    },
    {
     "name": "stderr",
     "output_type": "stream",
     "text": [
      "┌ Info: Epoch 34\n",
      "└ @ ConvGRU /Users/kahingleung/.julia/packages/Flux/sY3yx/src/optimise/train.jl:136\n"
     ]
    },
    {
     "name": "stdout",
     "output_type": "stream",
     "text": [
      "mse_loss(xtest, ytest) = 0.45721236f0\n"
     ]
    },
    {
     "name": "stderr",
     "output_type": "stream",
     "text": [
      "┌ Info: Epoch 35\n",
      "└ @ ConvGRU /Users/kahingleung/.julia/packages/Flux/sY3yx/src/optimise/train.jl:136\n"
     ]
    },
    {
     "name": "stdout",
     "output_type": "stream",
     "text": [
      "mse_loss(xtest, ytest) = 0.44446996f0\n"
     ]
    },
    {
     "name": "stderr",
     "output_type": "stream",
     "text": [
      "┌ Info: Epoch 36\n",
      "└ @ ConvGRU /Users/kahingleung/.julia/packages/Flux/sY3yx/src/optimise/train.jl:136\n"
     ]
    },
    {
     "name": "stdout",
     "output_type": "stream",
     "text": [
      "mse_loss(xtest, ytest) = 0.4424729f0\n"
     ]
    },
    {
     "name": "stderr",
     "output_type": "stream",
     "text": [
      "┌ Info: Epoch 37\n",
      "└ @ ConvGRU /Users/kahingleung/.julia/packages/Flux/sY3yx/src/optimise/train.jl:136\n"
     ]
    },
    {
     "name": "stdout",
     "output_type": "stream",
     "text": [
      "mse_loss(xtest, ytest) = 0.44400394f0\n"
     ]
    },
    {
     "name": "stderr",
     "output_type": "stream",
     "text": [
      "┌ Info: Epoch 38\n",
      "└ @ ConvGRU /Users/kahingleung/.julia/packages/Flux/sY3yx/src/optimise/train.jl:136\n",
      "┌ Info: Epoch 39\n",
      "└ @ ConvGRU /Users/kahingleung/.julia/packages/Flux/sY3yx/src/optimise/train.jl:136\n"
     ]
    },
    {
     "name": "stdout",
     "output_type": "stream",
     "text": [
      "mse_loss(xtest, ytest) = 0.44031933f0\n"
     ]
    },
    {
     "name": "stderr",
     "output_type": "stream",
     "text": [
      "┌ Info: Epoch 40\n",
      "└ @ ConvGRU /Users/kahingleung/.julia/packages/Flux/sY3yx/src/optimise/train.jl:136\n"
     ]
    },
    {
     "name": "stdout",
     "output_type": "stream",
     "text": [
      "mse_loss(xtest, ytest) = 0.43980557f0\n"
     ]
    },
    {
     "name": "stderr",
     "output_type": "stream",
     "text": [
      "┌ Info: Epoch 41\n",
      "└ @ ConvGRU /Users/kahingleung/.julia/packages/Flux/sY3yx/src/optimise/train.jl:136\n"
     ]
    },
    {
     "name": "stdout",
     "output_type": "stream",
     "text": [
      "mse_loss(xtest, ytest) = 0.4390364f0\n",
      "mse_loss(xtest, ytest) = 0.43875584f0\n"
     ]
    },
    {
     "name": "stderr",
     "output_type": "stream",
     "text": [
      "┌ Info: Epoch 42\n",
      "└ @ ConvGRU /Users/kahingleung/.julia/packages/Flux/sY3yx/src/optimise/train.jl:136\n",
      "┌ Info: Epoch 43\n",
      "└ @ ConvGRU /Users/kahingleung/.julia/packages/Flux/sY3yx/src/optimise/train.jl:136\n"
     ]
    },
    {
     "name": "stdout",
     "output_type": "stream",
     "text": [
      "mse_loss(xtest, ytest) = 0.43890446f0\n",
      "mse_loss(xtest, ytest) = 0.437423f0\n"
     ]
    },
    {
     "name": "stderr",
     "output_type": "stream",
     "text": [
      "┌ Info: Epoch 44\n",
      "└ @ ConvGRU /Users/kahingleung/.julia/packages/Flux/sY3yx/src/optimise/train.jl:136\n"
     ]
    },
    {
     "name": "stdout",
     "output_type": "stream",
     "text": [
      "mse_loss(xtest, ytest) = 0.4425324f0\n"
     ]
    },
    {
     "name": "stderr",
     "output_type": "stream",
     "text": [
      "┌ Info: Epoch 45\n",
      "└ @ ConvGRU /Users/kahingleung/.julia/packages/Flux/sY3yx/src/optimise/train.jl:136\n"
     ]
    },
    {
     "name": "stdout",
     "output_type": "stream",
     "text": [
      "mse_loss(xtest, ytest) = 0.44322893f0\n"
     ]
    },
    {
     "name": "stderr",
     "output_type": "stream",
     "text": [
      "┌ Info: Epoch 46\n",
      "└ @ ConvGRU /Users/kahingleung/.julia/packages/Flux/sY3yx/src/optimise/train.jl:136\n"
     ]
    },
    {
     "name": "stdout",
     "output_type": "stream",
     "text": [
      "mse_loss(xtest, ytest) = 0.44108802f0\n"
     ]
    },
    {
     "name": "stderr",
     "output_type": "stream",
     "text": [
      "┌ Info: Epoch 47\n",
      "└ @ ConvGRU /Users/kahingleung/.julia/packages/Flux/sY3yx/src/optimise/train.jl:136\n"
     ]
    },
    {
     "name": "stdout",
     "output_type": "stream",
     "text": [
      "mse_loss(xtest, ytest) = 0.44305384f0\n"
     ]
    },
    {
     "name": "stderr",
     "output_type": "stream",
     "text": [
      "┌ Info: Epoch 48\n",
      "└ @ ConvGRU /Users/kahingleung/.julia/packages/Flux/sY3yx/src/optimise/train.jl:136\n"
     ]
    },
    {
     "name": "stdout",
     "output_type": "stream",
     "text": [
      "mse_loss(xtest, ytest) = 0.4626984f0\n"
     ]
    },
    {
     "name": "stderr",
     "output_type": "stream",
     "text": [
      "┌ Info: Epoch 49\n",
      "└ @ ConvGRU /Users/kahingleung/.julia/packages/Flux/sY3yx/src/optimise/train.jl:136\n"
     ]
    },
    {
     "name": "stdout",
     "output_type": "stream",
     "text": [
      "mse_loss(xtest, ytest) = 0.445807f0\n"
     ]
    },
    {
     "name": "stderr",
     "output_type": "stream",
     "text": [
      "┌ Info: Epoch 50\n",
      "└ @ ConvGRU /Users/kahingleung/.julia/packages/Flux/sY3yx/src/optimise/train.jl:136\n"
     ]
    },
    {
     "name": "stdout",
     "output_type": "stream",
     "text": [
      "mse_loss(xtest, ytest) = 0.4446063f0\n"
     ]
    },
    {
     "name": "stderr",
     "output_type": "stream",
     "text": [
      "┌ Info: Epoch 51\n",
      "└ @ ConvGRU /Users/kahingleung/.julia/packages/Flux/sY3yx/src/optimise/train.jl:136\n"
     ]
    },
    {
     "name": "stdout",
     "output_type": "stream",
     "text": [
      "mse_loss(xtest, ytest) = 0.44541967f0\n"
     ]
    },
    {
     "name": "stderr",
     "output_type": "stream",
     "text": [
      "┌ Info: Epoch 52\n",
      "└ @ ConvGRU /Users/kahingleung/.julia/packages/Flux/sY3yx/src/optimise/train.jl:136\n"
     ]
    },
    {
     "name": "stdout",
     "output_type": "stream",
     "text": [
      "mse_loss(xtest, ytest) = 0.42727315f0\n"
     ]
    },
    {
     "name": "stderr",
     "output_type": "stream",
     "text": [
      "┌ Info: Epoch 53\n",
      "└ @ ConvGRU /Users/kahingleung/.julia/packages/Flux/sY3yx/src/optimise/train.jl:136\n"
     ]
    },
    {
     "name": "stdout",
     "output_type": "stream",
     "text": [
      "mse_loss(xtest, ytest) = 0.44260576f0\n"
     ]
    },
    {
     "name": "stderr",
     "output_type": "stream",
     "text": [
      "┌ Info: Epoch 54\n",
      "└ @ ConvGRU /Users/kahingleung/.julia/packages/Flux/sY3yx/src/optimise/train.jl:136\n",
      "┌ Info: Epoch 55\n",
      "└ @ ConvGRU /Users/kahingleung/.julia/packages/Flux/sY3yx/src/optimise/train.jl:136\n"
     ]
    },
    {
     "name": "stdout",
     "output_type": "stream",
     "text": [
      "mse_loss(xtest, ytest) = 0.43282378f0\n",
      "mse_loss(xtest, ytest) = 0.4382553f0\n"
     ]
    },
    {
     "name": "stderr",
     "output_type": "stream",
     "text": [
      "┌ Info: Epoch 56\n",
      "└ @ ConvGRU /Users/kahingleung/.julia/packages/Flux/sY3yx/src/optimise/train.jl:136\n"
     ]
    },
    {
     "name": "stdout",
     "output_type": "stream",
     "text": [
      "mse_loss(xtest, ytest) = 0.44023776f0\n"
     ]
    },
    {
     "name": "stderr",
     "output_type": "stream",
     "text": [
      "┌ Info: Epoch 57\n",
      "└ @ ConvGRU /Users/kahingleung/.julia/packages/Flux/sY3yx/src/optimise/train.jl:136\n"
     ]
    },
    {
     "name": "stdout",
     "output_type": "stream",
     "text": [
      "mse_loss(xtest, ytest) = 0.44851834f0\n"
     ]
    },
    {
     "name": "stderr",
     "output_type": "stream",
     "text": [
      "┌ Info: Epoch 58\n",
      "└ @ ConvGRU /Users/kahingleung/.julia/packages/Flux/sY3yx/src/optimise/train.jl:136\n"
     ]
    },
    {
     "name": "stdout",
     "output_type": "stream",
     "text": [
      "mse_loss(xtest, ytest) = 0.4533716f0\n"
     ]
    },
    {
     "name": "stderr",
     "output_type": "stream",
     "text": [
      "┌ Info: Epoch 59\n",
      "└ @ ConvGRU /Users/kahingleung/.julia/packages/Flux/sY3yx/src/optimise/train.jl:136\n"
     ]
    },
    {
     "name": "stdout",
     "output_type": "stream",
     "text": [
      "mse_loss(xtest, ytest) = 0.4479088f0\n"
     ]
    },
    {
     "name": "stderr",
     "output_type": "stream",
     "text": [
      "┌ Info: Epoch 60\n",
      "└ @ ConvGRU /Users/kahingleung/.julia/packages/Flux/sY3yx/src/optimise/train.jl:136\n"
     ]
    },
    {
     "name": "stdout",
     "output_type": "stream",
     "text": [
      "mse_loss(xtest, ytest) = 0.4473839f0\n"
     ]
    },
    {
     "name": "stderr",
     "output_type": "stream",
     "text": [
      "┌ Info: Epoch 61\n",
      "└ @ ConvGRU /Users/kahingleung/.julia/packages/Flux/sY3yx/src/optimise/train.jl:136\n"
     ]
    },
    {
     "name": "stdout",
     "output_type": "stream",
     "text": [
      "mse_loss(xtest, ytest) = 0.44472787f0\n"
     ]
    },
    {
     "name": "stderr",
     "output_type": "stream",
     "text": [
      "┌ Info: Epoch 62\n",
      "└ @ ConvGRU /Users/kahingleung/.julia/packages/Flux/sY3yx/src/optimise/train.jl:136\n"
     ]
    },
    {
     "name": "stdout",
     "output_type": "stream",
     "text": [
      "mse_loss(xtest, ytest) = 0.44828764f0\n"
     ]
    },
    {
     "name": "stderr",
     "output_type": "stream",
     "text": [
      "┌ Info: Epoch 63\n",
      "└ @ ConvGRU /Users/kahingleung/.julia/packages/Flux/sY3yx/src/optimise/train.jl:136\n",
      "┌ Info: Epoch 64\n",
      "└ @ ConvGRU /Users/kahingleung/.julia/packages/Flux/sY3yx/src/optimise/train.jl:136\n"
     ]
    },
    {
     "name": "stdout",
     "output_type": "stream",
     "text": [
      "mse_loss(xtest, ytest) = 0.44420603f0\n"
     ]
    },
    {
     "name": "stderr",
     "output_type": "stream",
     "text": [
      "┌ Info: Epoch 65\n",
      "└ @ ConvGRU /Users/kahingleung/.julia/packages/Flux/sY3yx/src/optimise/train.jl:136\n"
     ]
    },
    {
     "name": "stdout",
     "output_type": "stream",
     "text": [
      "mse_loss(xtest, ytest) = 0.4454489f0\n",
      "mse_loss(xtest, ytest) = 0.45177907f0\n"
     ]
    },
    {
     "name": "stderr",
     "output_type": "stream",
     "text": [
      "┌ Info: Epoch 66\n",
      "└ @ ConvGRU /Users/kahingleung/.julia/packages/Flux/sY3yx/src/optimise/train.jl:136\n"
     ]
    },
    {
     "name": "stdout",
     "output_type": "stream",
     "text": [
      "mse_loss(xtest, ytest) = 0.4442585f0\n"
     ]
    },
    {
     "name": "stderr",
     "output_type": "stream",
     "text": [
      "┌ Info: Epoch 67\n",
      "└ @ ConvGRU /Users/kahingleung/.julia/packages/Flux/sY3yx/src/optimise/train.jl:136\n"
     ]
    },
    {
     "name": "stdout",
     "output_type": "stream",
     "text": [
      "mse_loss(xtest, ytest) = 0.45113903f0\n"
     ]
    },
    {
     "name": "stderr",
     "output_type": "stream",
     "text": [
      "┌ Info: Epoch 68\n",
      "└ @ ConvGRU /Users/kahingleung/.julia/packages/Flux/sY3yx/src/optimise/train.jl:136\n"
     ]
    },
    {
     "name": "stdout",
     "output_type": "stream",
     "text": [
      "mse_loss(xtest, ytest) = 0.44964814f0\n"
     ]
    },
    {
     "name": "stderr",
     "output_type": "stream",
     "text": [
      "┌ Info: Epoch 69\n",
      "└ @ ConvGRU /Users/kahingleung/.julia/packages/Flux/sY3yx/src/optimise/train.jl:136\n"
     ]
    },
    {
     "name": "stdout",
     "output_type": "stream",
     "text": [
      "mse_loss(xtest, ytest) = 0.44444242f0\n"
     ]
    },
    {
     "name": "stderr",
     "output_type": "stream",
     "text": [
      "┌ Info: Epoch 70\n",
      "└ @ ConvGRU /Users/kahingleung/.julia/packages/Flux/sY3yx/src/optimise/train.jl:136\n"
     ]
    },
    {
     "name": "stdout",
     "output_type": "stream",
     "text": [
      "mse_loss(xtest, ytest) = 0.44490653f0\n"
     ]
    },
    {
     "name": "stderr",
     "output_type": "stream",
     "text": [
      "┌ Info: Epoch 71\n",
      "└ @ ConvGRU /Users/kahingleung/.julia/packages/Flux/sY3yx/src/optimise/train.jl:136\n",
      "┌ Info: Epoch 72\n",
      "└ @ ConvGRU /Users/kahingleung/.julia/packages/Flux/sY3yx/src/optimise/train.jl:136\n"
     ]
    },
    {
     "name": "stdout",
     "output_type": "stream",
     "text": [
      "mse_loss(xtest, ytest) = 0.44030774f0\n"
     ]
    },
    {
     "name": "stderr",
     "output_type": "stream",
     "text": [
      "┌ Info: Epoch 73\n",
      "└ @ ConvGRU /Users/kahingleung/.julia/packages/Flux/sY3yx/src/optimise/train.jl:136\n"
     ]
    },
    {
     "name": "stdout",
     "output_type": "stream",
     "text": [
      "mse_loss(xtest, ytest) = 0.4433895f0\n",
      "mse_loss(xtest, ytest) = 0.4476041f0\n"
     ]
    },
    {
     "name": "stderr",
     "output_type": "stream",
     "text": [
      "┌ Info: Epoch 74\n",
      "└ @ ConvGRU /Users/kahingleung/.julia/packages/Flux/sY3yx/src/optimise/train.jl:136\n",
      "┌ Info: Epoch 75\n",
      "└ @ ConvGRU /Users/kahingleung/.julia/packages/Flux/sY3yx/src/optimise/train.jl:136\n"
     ]
    },
    {
     "name": "stdout",
     "output_type": "stream",
     "text": [
      "mse_loss(xtest, ytest) = 0.44428614f0\n"
     ]
    },
    {
     "name": "stderr",
     "output_type": "stream",
     "text": [
      "┌ Info: Epoch 76\n",
      "└ @ ConvGRU /Users/kahingleung/.julia/packages/Flux/sY3yx/src/optimise/train.jl:136\n"
     ]
    },
    {
     "name": "stdout",
     "output_type": "stream",
     "text": [
      "mse_loss(xtest, ytest) = 0.4423022f0\n",
      "mse_loss(xtest, ytest) = 0.43775448f0\n"
     ]
    },
    {
     "name": "stderr",
     "output_type": "stream",
     "text": [
      "┌ Info: Epoch 77\n",
      "└ @ ConvGRU /Users/kahingleung/.julia/packages/Flux/sY3yx/src/optimise/train.jl:136\n"
     ]
    },
    {
     "name": "stdout",
     "output_type": "stream",
     "text": [
      "mse_loss(xtest, ytest) = 0.4416735f0\n"
     ]
    },
    {
     "name": "stderr",
     "output_type": "stream",
     "text": [
      "┌ Info: Epoch 78\n",
      "└ @ ConvGRU /Users/kahingleung/.julia/packages/Flux/sY3yx/src/optimise/train.jl:136\n"
     ]
    },
    {
     "name": "stdout",
     "output_type": "stream",
     "text": [
      "mse_loss(xtest, ytest) = 0.44061133f0\n"
     ]
    },
    {
     "name": "stderr",
     "output_type": "stream",
     "text": [
      "┌ Info: Epoch 79\n",
      "└ @ ConvGRU /Users/kahingleung/.julia/packages/Flux/sY3yx/src/optimise/train.jl:136\n"
     ]
    },
    {
     "name": "stdout",
     "output_type": "stream",
     "text": [
      "mse_loss(xtest, ytest) = 0.440851f0\n"
     ]
    },
    {
     "name": "stderr",
     "output_type": "stream",
     "text": [
      "┌ Info: Epoch 80\n",
      "└ @ ConvGRU /Users/kahingleung/.julia/packages/Flux/sY3yx/src/optimise/train.jl:136\n"
     ]
    },
    {
     "name": "stdout",
     "output_type": "stream",
     "text": [
      "mse_loss(xtest, ytest) = 0.43503144f0\n"
     ]
    },
    {
     "name": "stderr",
     "output_type": "stream",
     "text": [
      "┌ Info: Epoch 81\n",
      "└ @ ConvGRU /Users/kahingleung/.julia/packages/Flux/sY3yx/src/optimise/train.jl:136\n"
     ]
    },
    {
     "name": "stdout",
     "output_type": "stream",
     "text": [
      "mse_loss(xtest, ytest) = 0.43478513f0\n"
     ]
    },
    {
     "name": "stderr",
     "output_type": "stream",
     "text": [
      "┌ Info: Epoch 82\n",
      "└ @ ConvGRU /Users/kahingleung/.julia/packages/Flux/sY3yx/src/optimise/train.jl:136\n"
     ]
    },
    {
     "name": "stdout",
     "output_type": "stream",
     "text": [
      "mse_loss(xtest, ytest) = 0.44098815f0\n"
     ]
    },
    {
     "name": "stderr",
     "output_type": "stream",
     "text": [
      "┌ Info: Epoch 83\n",
      "└ @ ConvGRU /Users/kahingleung/.julia/packages/Flux/sY3yx/src/optimise/train.jl:136\n"
     ]
    },
    {
     "name": "stdout",
     "output_type": "stream",
     "text": [
      "mse_loss(xtest, ytest) = 0.435642f0\n"
     ]
    },
    {
     "name": "stderr",
     "output_type": "stream",
     "text": [
      "┌ Info: Epoch 84\n",
      "└ @ ConvGRU /Users/kahingleung/.julia/packages/Flux/sY3yx/src/optimise/train.jl:136\n"
     ]
    },
    {
     "name": "stdout",
     "output_type": "stream",
     "text": [
      "mse_loss(xtest, ytest) = 0.43211642f0\n"
     ]
    },
    {
     "name": "stderr",
     "output_type": "stream",
     "text": [
      "┌ Info: Epoch 85\n",
      "└ @ ConvGRU /Users/kahingleung/.julia/packages/Flux/sY3yx/src/optimise/train.jl:136\n"
     ]
    },
    {
     "name": "stdout",
     "output_type": "stream",
     "text": [
      "mse_loss(xtest, ytest) = 0.45921063f0\n"
     ]
    },
    {
     "name": "stderr",
     "output_type": "stream",
     "text": [
      "┌ Info: Epoch 86\n",
      "└ @ ConvGRU /Users/kahingleung/.julia/packages/Flux/sY3yx/src/optimise/train.jl:136\n",
      "┌ Info: Epoch 87\n",
      "└ @ ConvGRU /Users/kahingleung/.julia/packages/Flux/sY3yx/src/optimise/train.jl:136\n"
     ]
    },
    {
     "name": "stdout",
     "output_type": "stream",
     "text": [
      "mse_loss(xtest, ytest) = 0.43509495f0\n"
     ]
    },
    {
     "name": "stderr",
     "output_type": "stream",
     "text": [
      "┌ Info: Epoch 88\n",
      "└ @ ConvGRU /Users/kahingleung/.julia/packages/Flux/sY3yx/src/optimise/train.jl:136\n"
     ]
    },
    {
     "name": "stdout",
     "output_type": "stream",
     "text": [
      "mse_loss(xtest, ytest) = 0.43229732f0\n",
      "mse_loss(xtest, ytest) = 0.4348963f0\n"
     ]
    },
    {
     "name": "stderr",
     "output_type": "stream",
     "text": [
      "┌ Info: Epoch 89\n",
      "└ @ ConvGRU /Users/kahingleung/.julia/packages/Flux/sY3yx/src/optimise/train.jl:136\n"
     ]
    },
    {
     "name": "stdout",
     "output_type": "stream",
     "text": [
      "mse_loss(xtest, ytest) = 0.43828663f0\n"
     ]
    },
    {
     "name": "stderr",
     "output_type": "stream",
     "text": [
      "┌ Info: Epoch 90\n",
      "└ @ ConvGRU /Users/kahingleung/.julia/packages/Flux/sY3yx/src/optimise/train.jl:136\n"
     ]
    },
    {
     "name": "stdout",
     "output_type": "stream",
     "text": [
      "mse_loss(xtest, ytest) = 0.44248337f0\n"
     ]
    },
    {
     "name": "stderr",
     "output_type": "stream",
     "text": [
      "┌ Info: Epoch 91\n",
      "└ @ ConvGRU /Users/kahingleung/.julia/packages/Flux/sY3yx/src/optimise/train.jl:136\n"
     ]
    },
    {
     "name": "stdout",
     "output_type": "stream",
     "text": [
      "mse_loss(xtest, ytest) = 0.44362557f0\n"
     ]
    },
    {
     "name": "stderr",
     "output_type": "stream",
     "text": [
      "┌ Info: Epoch 92\n",
      "└ @ ConvGRU /Users/kahingleung/.julia/packages/Flux/sY3yx/src/optimise/train.jl:136\n"
     ]
    },
    {
     "name": "stdout",
     "output_type": "stream",
     "text": [
      "mse_loss(xtest, ytest) = 0.44257593f0\n"
     ]
    },
    {
     "name": "stderr",
     "output_type": "stream",
     "text": [
      "┌ Info: Epoch 93\n",
      "└ @ ConvGRU /Users/kahingleung/.julia/packages/Flux/sY3yx/src/optimise/train.jl:136\n",
      "┌ Info: Epoch 94\n",
      "└ @ ConvGRU /Users/kahingleung/.julia/packages/Flux/sY3yx/src/optimise/train.jl:136\n"
     ]
    },
    {
     "name": "stdout",
     "output_type": "stream",
     "text": [
      "mse_loss(xtest, ytest) = 0.44810653f0\n"
     ]
    },
    {
     "name": "stderr",
     "output_type": "stream",
     "text": [
      "┌ Info: Epoch 95\n",
      "└ @ ConvGRU /Users/kahingleung/.julia/packages/Flux/sY3yx/src/optimise/train.jl:136\n"
     ]
    },
    {
     "name": "stdout",
     "output_type": "stream",
     "text": [
      "mse_loss(xtest, ytest) = 0.4376497f0\n"
     ]
    },
    {
     "name": "stderr",
     "output_type": "stream",
     "text": [
      "┌ Info: Epoch 96\n",
      "└ @ ConvGRU /Users/kahingleung/.julia/packages/Flux/sY3yx/src/optimise/train.jl:136\n"
     ]
    },
    {
     "name": "stdout",
     "output_type": "stream",
     "text": [
      "mse_loss(xtest, ytest) = 0.44295347f0\n"
     ]
    },
    {
     "name": "stderr",
     "output_type": "stream",
     "text": [
      "┌ Info: Epoch 97\n",
      "└ @ ConvGRU /Users/kahingleung/.julia/packages/Flux/sY3yx/src/optimise/train.jl:136\n"
     ]
    },
    {
     "name": "stdout",
     "output_type": "stream",
     "text": [
      "mse_loss(xtest, ytest) = 0.447562f0\n"
     ]
    },
    {
     "name": "stderr",
     "output_type": "stream",
     "text": [
      "┌ Info: Epoch 98\n",
      "└ @ ConvGRU /Users/kahingleung/.julia/packages/Flux/sY3yx/src/optimise/train.jl:136\n"
     ]
    },
    {
     "name": "stdout",
     "output_type": "stream",
     "text": [
      "mse_loss(xtest, ytest) = 0.43287832f0\n",
      "mse_loss(xtest, ytest) = 0.43117028f0\n"
     ]
    },
    {
     "name": "stderr",
     "output_type": "stream",
     "text": [
      "┌ Info: Epoch 99\n",
      "└ @ ConvGRU /Users/kahingleung/.julia/packages/Flux/sY3yx/src/optimise/train.jl:136\n"
     ]
    },
    {
     "name": "stdout",
     "output_type": "stream",
     "text": [
      "mse_loss(xtest, ytest) = 0.43485862f0\n"
     ]
    },
    {
     "name": "stderr",
     "output_type": "stream",
     "text": [
      "┌ Info: Epoch 100\n",
      "└ @ ConvGRU /Users/kahingleung/.julia/packages/Flux/sY3yx/src/optimise/train.jl:136\n"
     ]
    },
    {
     "name": "stdout",
     "output_type": "stream",
     "text": [
      "(250,)\n",
      "0.42419273\n",
      "0.552\n",
      "[\"open\", \"close\", \"high\", \"low\", \"volume\", \"ondate\", \"CZK\", \"PLN\", \"MXN\", \"TRY\", \"ISK\", \"USD\", \"RUB\", \"EUR\", \"GBP\", \"JPY\", \"THB\", \"CNY\", \"KRW\", \"SEK\", \"BRL\", \"BGN\", \"HUF\", \"NZD\", \"CHF\", \"IDR\", \"SGD\", \"MYR\", \"ZAR\", \"CAD\", \"PHP\", \"HKD\", \"HRK\", \"INR\", \"AUD\", \"NOK\", \"DKK\", \"RON\", \"ILS\", \"Close\"]\n",
      "12080.0046415888336127815\n",
      "mse_loss(xtest, ytest) = 1.509643f0\n",
      "mse_loss(xtest, ytest) = 1.470804f0\n"
     ]
    },
    {
     "name": "stderr",
     "output_type": "stream",
     "text": [
      "┌ Info: Epoch 1\n",
      "└ @ ConvGRU /Users/kahingleung/.julia/packages/Flux/sY3yx/src/optimise/train.jl:136\n",
      "┌ Info: Epoch 2\n",
      "└ @ ConvGRU /Users/kahingleung/.julia/packages/Flux/sY3yx/src/optimise/train.jl:136\n"
     ]
    },
    {
     "name": "stdout",
     "output_type": "stream",
     "text": [
      "mse_loss(xtest, ytest) = 1.5102273f0\n",
      "mse_loss(xtest, ytest) = 1.5194044f0\n"
     ]
    },
    {
     "name": "stderr",
     "output_type": "stream",
     "text": [
      "┌ Info: Epoch 3\n",
      "└ @ ConvGRU /Users/kahingleung/.julia/packages/Flux/sY3yx/src/optimise/train.jl:136\n",
      "┌ Info: Epoch 4\n",
      "└ @ ConvGRU /Users/kahingleung/.julia/packages/Flux/sY3yx/src/optimise/train.jl:136\n"
     ]
    },
    {
     "name": "stdout",
     "output_type": "stream",
     "text": [
      "mse_loss(xtest, ytest) = 1.5250704f0\n",
      "mse_loss(xtest, ytest) = 1.5235045f0\n"
     ]
    },
    {
     "name": "stderr",
     "output_type": "stream",
     "text": [
      "┌ Info: Epoch 5\n",
      "└ @ ConvGRU /Users/kahingleung/.julia/packages/Flux/sY3yx/src/optimise/train.jl:136\n"
     ]
    },
    {
     "name": "stdout",
     "output_type": "stream",
     "text": [
      "mse_loss(xtest, ytest) = 1.5182794f0\n"
     ]
    },
    {
     "name": "stderr",
     "output_type": "stream",
     "text": [
      "┌ Info: Epoch 6\n",
      "└ @ ConvGRU /Users/kahingleung/.julia/packages/Flux/sY3yx/src/optimise/train.jl:136\n",
      "┌ Info: Epoch 7\n",
      "└ @ ConvGRU /Users/kahingleung/.julia/packages/Flux/sY3yx/src/optimise/train.jl:136\n"
     ]
    },
    {
     "name": "stdout",
     "output_type": "stream",
     "text": [
      "mse_loss(xtest, ytest) = 1.5221279f0\n",
      "mse_loss(xtest, ytest) = 1.502466f0\n"
     ]
    },
    {
     "name": "stderr",
     "output_type": "stream",
     "text": [
      "┌ Info: Epoch 8\n",
      "└ @ ConvGRU /Users/kahingleung/.julia/packages/Flux/sY3yx/src/optimise/train.jl:136\n",
      "┌ Info: Epoch 9\n",
      "└ @ ConvGRU /Users/kahingleung/.julia/packages/Flux/sY3yx/src/optimise/train.jl:136\n"
     ]
    },
    {
     "name": "stdout",
     "output_type": "stream",
     "text": [
      "mse_loss(xtest, ytest) = 1.5021142f0\n",
      "mse_loss(xtest, ytest) = 1.4993652f0\n"
     ]
    },
    {
     "name": "stderr",
     "output_type": "stream",
     "text": [
      "┌ Info: Epoch 10\n",
      "└ @ ConvGRU /Users/kahingleung/.julia/packages/Flux/sY3yx/src/optimise/train.jl:136\n"
     ]
    },
    {
     "name": "stdout",
     "output_type": "stream",
     "text": [
      "mse_loss(xtest, ytest) = 1.4983993f0\n"
     ]
    },
    {
     "name": "stderr",
     "output_type": "stream",
     "text": [
      "┌ Info: Epoch 11\n",
      "└ @ ConvGRU /Users/kahingleung/.julia/packages/Flux/sY3yx/src/optimise/train.jl:136\n"
     ]
    },
    {
     "name": "stdout",
     "output_type": "stream",
     "text": [
      "mse_loss(xtest, ytest) = 1.5149214f0\n"
     ]
    },
    {
     "name": "stderr",
     "output_type": "stream",
     "text": [
      "┌ Info: Epoch 12\n",
      "└ @ ConvGRU /Users/kahingleung/.julia/packages/Flux/sY3yx/src/optimise/train.jl:136\n"
     ]
    },
    {
     "name": "stdout",
     "output_type": "stream",
     "text": [
      "mse_loss(xtest, ytest) = 1.5130241f0\n"
     ]
    },
    {
     "name": "stderr",
     "output_type": "stream",
     "text": [
      "┌ Info: Epoch 13\n",
      "└ @ ConvGRU /Users/kahingleung/.julia/packages/Flux/sY3yx/src/optimise/train.jl:136\n"
     ]
    },
    {
     "name": "stdout",
     "output_type": "stream",
     "text": [
      "mse_loss(xtest, ytest) = 1.5197732f0\n"
     ]
    },
    {
     "name": "stderr",
     "output_type": "stream",
     "text": [
      "┌ Info: Epoch 14\n",
      "└ @ ConvGRU /Users/kahingleung/.julia/packages/Flux/sY3yx/src/optimise/train.jl:136\n"
     ]
    },
    {
     "name": "stdout",
     "output_type": "stream",
     "text": [
      "mse_loss(xtest, ytest) = 1.5602893f0\n"
     ]
    },
    {
     "name": "stderr",
     "output_type": "stream",
     "text": [
      "┌ Info: Epoch 15\n",
      "└ @ ConvGRU /Users/kahingleung/.julia/packages/Flux/sY3yx/src/optimise/train.jl:136\n",
      "┌ Info: Epoch 16\n",
      "└ @ ConvGRU /Users/kahingleung/.julia/packages/Flux/sY3yx/src/optimise/train.jl:136\n"
     ]
    },
    {
     "name": "stdout",
     "output_type": "stream",
     "text": [
      "mse_loss(xtest, ytest) = 1.508648f0\n",
      "mse_loss(xtest, ytest) = 1.5049251f0\n"
     ]
    },
    {
     "name": "stderr",
     "output_type": "stream",
     "text": [
      "┌ Info: Epoch 17\n",
      "└ @ ConvGRU /Users/kahingleung/.julia/packages/Flux/sY3yx/src/optimise/train.jl:136\n",
      "┌ Info: Epoch 18\n",
      "└ @ ConvGRU /Users/kahingleung/.julia/packages/Flux/sY3yx/src/optimise/train.jl:136\n"
     ]
    },
    {
     "name": "stdout",
     "output_type": "stream",
     "text": [
      "mse_loss(xtest, ytest) = 1.5180589f0\n",
      "mse_loss(xtest, ytest) = 1.5231131f0\n"
     ]
    },
    {
     "name": "stderr",
     "output_type": "stream",
     "text": [
      "┌ Info: Epoch 19\n",
      "└ @ ConvGRU /Users/kahingleung/.julia/packages/Flux/sY3yx/src/optimise/train.jl:136\n",
      "┌ Info: Epoch 20\n",
      "└ @ ConvGRU /Users/kahingleung/.julia/packages/Flux/sY3yx/src/optimise/train.jl:136\n"
     ]
    },
    {
     "name": "stdout",
     "output_type": "stream",
     "text": [
      "mse_loss(xtest, ytest) = 1.5600495f0\n",
      "mse_loss(xtest, ytest) = 1.5120028f0\n"
     ]
    },
    {
     "name": "stderr",
     "output_type": "stream",
     "text": [
      "┌ Info: Epoch 21\n",
      "└ @ ConvGRU /Users/kahingleung/.julia/packages/Flux/sY3yx/src/optimise/train.jl:136\n"
     ]
    },
    {
     "name": "stdout",
     "output_type": "stream",
     "text": [
      "mse_loss(xtest, ytest) = 1.5106256f0\n"
     ]
    },
    {
     "name": "stderr",
     "output_type": "stream",
     "text": [
      "┌ Info: Epoch 22\n",
      "└ @ ConvGRU /Users/kahingleung/.julia/packages/Flux/sY3yx/src/optimise/train.jl:136\n",
      "┌ Info: Epoch 23\n",
      "└ @ ConvGRU /Users/kahingleung/.julia/packages/Flux/sY3yx/src/optimise/train.jl:136\n"
     ]
    },
    {
     "name": "stdout",
     "output_type": "stream",
     "text": [
      "mse_loss(xtest, ytest) = 1.5125693f0\n",
      "mse_loss(xtest, ytest) = 1.5117283f0\n"
     ]
    },
    {
     "name": "stderr",
     "output_type": "stream",
     "text": [
      "┌ Info: Epoch 24\n",
      "└ @ ConvGRU /Users/kahingleung/.julia/packages/Flux/sY3yx/src/optimise/train.jl:136\n",
      "┌ Info: Epoch 25\n",
      "└ @ ConvGRU /Users/kahingleung/.julia/packages/Flux/sY3yx/src/optimise/train.jl:136\n"
     ]
    },
    {
     "name": "stdout",
     "output_type": "stream",
     "text": [
      "mse_loss(xtest, ytest) = 1.5023459f0\n",
      "mse_loss(xtest, ytest) = 1.5050882f0\n"
     ]
    },
    {
     "name": "stderr",
     "output_type": "stream",
     "text": [
      "┌ Info: Epoch 26\n",
      "└ @ ConvGRU /Users/kahingleung/.julia/packages/Flux/sY3yx/src/optimise/train.jl:136\n"
     ]
    },
    {
     "name": "stdout",
     "output_type": "stream",
     "text": [
      "mse_loss(xtest, ytest) = 1.519875f0\n"
     ]
    },
    {
     "name": "stderr",
     "output_type": "stream",
     "text": [
      "┌ Info: Epoch 27\n",
      "└ @ ConvGRU /Users/kahingleung/.julia/packages/Flux/sY3yx/src/optimise/train.jl:136\n"
     ]
    },
    {
     "name": "stdout",
     "output_type": "stream",
     "text": [
      "mse_loss(xtest, ytest) = 1.5007614f0\n"
     ]
    },
    {
     "name": "stderr",
     "output_type": "stream",
     "text": [
      "┌ Info: Epoch 28\n",
      "└ @ ConvGRU /Users/kahingleung/.julia/packages/Flux/sY3yx/src/optimise/train.jl:136\n"
     ]
    },
    {
     "name": "stdout",
     "output_type": "stream",
     "text": [
      "mse_loss(xtest, ytest) = 1.5152638f0\n"
     ]
    },
    {
     "name": "stderr",
     "output_type": "stream",
     "text": [
      "┌ Info: Epoch 29\n",
      "└ @ ConvGRU /Users/kahingleung/.julia/packages/Flux/sY3yx/src/optimise/train.jl:136\n"
     ]
    },
    {
     "name": "stdout",
     "output_type": "stream",
     "text": [
      "mse_loss(xtest, ytest) = 1.5230875f0\n"
     ]
    },
    {
     "name": "stderr",
     "output_type": "stream",
     "text": [
      "┌ Info: Epoch 30\n",
      "└ @ ConvGRU /Users/kahingleung/.julia/packages/Flux/sY3yx/src/optimise/train.jl:136\n"
     ]
    },
    {
     "name": "stdout",
     "output_type": "stream",
     "text": [
      "(250,)\n",
      "myObjective(df, seqlen, Nh, lr, sym * \"-\" * string(i)) = 1.5898212f0\n",
      "22520.0021544346900318843\n",
      "mse_loss(xtest, ytest) = 1.6455837f0\n",
      "mse_loss(xtest, ytest) = 1.6361423f0\n"
     ]
    },
    {
     "name": "stderr",
     "output_type": "stream",
     "text": [
      "┌ Info: Epoch 1\n",
      "└ @ ConvGRU /Users/kahingleung/.julia/packages/Flux/sY3yx/src/optimise/train.jl:136\n",
      "┌ Info: Epoch 2\n",
      "└ @ ConvGRU /Users/kahingleung/.julia/packages/Flux/sY3yx/src/optimise/train.jl:136\n"
     ]
    },
    {
     "name": "stdout",
     "output_type": "stream",
     "text": [
      "mse_loss(xtest, ytest) = 1.601783f0\n",
      "mse_loss(xtest, ytest) = 1.5783917f0\n"
     ]
    },
    {
     "name": "stderr",
     "output_type": "stream",
     "text": [
      "┌ Info: Epoch 3\n",
      "└ @ ConvGRU /Users/kahingleung/.julia/packages/Flux/sY3yx/src/optimise/train.jl:136\n"
     ]
    },
    {
     "name": "stdout",
     "output_type": "stream",
     "text": [
      "mse_loss(xtest, ytest) = 1.5640781f0\n"
     ]
    },
    {
     "name": "stderr",
     "output_type": "stream",
     "text": [
      "┌ Info: Epoch 4\n",
      "└ @ ConvGRU /Users/kahingleung/.julia/packages/Flux/sY3yx/src/optimise/train.jl:136\n"
     ]
    },
    {
     "name": "stdout",
     "output_type": "stream",
     "text": [
      "mse_loss(xtest, ytest) = 1.5554684f0\n"
     ]
    },
    {
     "name": "stderr",
     "output_type": "stream",
     "text": [
      "┌ Info: Epoch 5\n",
      "└ @ ConvGRU /Users/kahingleung/.julia/packages/Flux/sY3yx/src/optimise/train.jl:136\n"
     ]
    },
    {
     "name": "stdout",
     "output_type": "stream",
     "text": [
      "mse_loss(xtest, ytest) = 1.5468158f0\n"
     ]
    },
    {
     "name": "stderr",
     "output_type": "stream",
     "text": [
      "┌ Info: Epoch 6\n",
      "└ @ ConvGRU /Users/kahingleung/.julia/packages/Flux/sY3yx/src/optimise/train.jl:136\n",
      "┌ Info: Epoch 7\n",
      "└ @ ConvGRU /Users/kahingleung/.julia/packages/Flux/sY3yx/src/optimise/train.jl:136\n"
     ]
    },
    {
     "name": "stdout",
     "output_type": "stream",
     "text": [
      "mse_loss(xtest, ytest) = 1.5388643f0\n",
      "mse_loss(xtest, ytest) = 1.5326179f0\n"
     ]
    },
    {
     "name": "stderr",
     "output_type": "stream",
     "text": [
      "┌ Info: Epoch 8\n",
      "└ @ ConvGRU /Users/kahingleung/.julia/packages/Flux/sY3yx/src/optimise/train.jl:136\n"
     ]
    },
    {
     "name": "stdout",
     "output_type": "stream",
     "text": [
      "mse_loss(xtest, ytest) = 1.5328057f0\n"
     ]
    },
    {
     "name": "stderr",
     "output_type": "stream",
     "text": [
      "┌ Info: Epoch 9\n",
      "└ @ ConvGRU /Users/kahingleung/.julia/packages/Flux/sY3yx/src/optimise/train.jl:136\n"
     ]
    },
    {
     "name": "stdout",
     "output_type": "stream",
     "text": [
      "mse_loss(xtest, ytest) = 1.5305672f0\n"
     ]
    },
    {
     "name": "stderr",
     "output_type": "stream",
     "text": [
      "┌ Info: Epoch 10\n",
      "└ @ ConvGRU /Users/kahingleung/.julia/packages/Flux/sY3yx/src/optimise/train.jl:136\n",
      "┌ Info: Epoch 11\n",
      "└ @ ConvGRU /Users/kahingleung/.julia/packages/Flux/sY3yx/src/optimise/train.jl:136\n"
     ]
    },
    {
     "name": "stdout",
     "output_type": "stream",
     "text": [
      "mse_loss(xtest, ytest) = 1.5265929f0\n",
      "mse_loss(xtest, ytest) = 1.5252957f0\n"
     ]
    },
    {
     "name": "stderr",
     "output_type": "stream",
     "text": [
      "┌ Info: Epoch 12\n",
      "└ @ ConvGRU /Users/kahingleung/.julia/packages/Flux/sY3yx/src/optimise/train.jl:136\n"
     ]
    },
    {
     "name": "stdout",
     "output_type": "stream",
     "text": [
      "mse_loss(xtest, ytest) = 1.5241905f0\n"
     ]
    },
    {
     "name": "stderr",
     "output_type": "stream",
     "text": [
      "┌ Info: Epoch 13\n",
      "└ @ ConvGRU /Users/kahingleung/.julia/packages/Flux/sY3yx/src/optimise/train.jl:136\n"
     ]
    },
    {
     "name": "stdout",
     "output_type": "stream",
     "text": [
      "mse_loss(xtest, ytest) = 1.5221246f0\n"
     ]
    },
    {
     "name": "stderr",
     "output_type": "stream",
     "text": [
      "┌ Info: Epoch 14\n",
      "└ @ ConvGRU /Users/kahingleung/.julia/packages/Flux/sY3yx/src/optimise/train.jl:136\n"
     ]
    },
    {
     "name": "stdout",
     "output_type": "stream",
     "text": [
      "mse_loss(xtest, ytest) = 1.5229048f0\n"
     ]
    },
    {
     "name": "stderr",
     "output_type": "stream",
     "text": [
      "┌ Info: Epoch 15\n",
      "└ @ ConvGRU /Users/kahingleung/.julia/packages/Flux/sY3yx/src/optimise/train.jl:136\n"
     ]
    },
    {
     "name": "stdout",
     "output_type": "stream",
     "text": [
      "mse_loss(xtest, ytest) = 1.5224516f0\n"
     ]
    },
    {
     "name": "stderr",
     "output_type": "stream",
     "text": [
      "┌ Info: Epoch 16\n",
      "└ @ ConvGRU /Users/kahingleung/.julia/packages/Flux/sY3yx/src/optimise/train.jl:136\n"
     ]
    },
    {
     "name": "stdout",
     "output_type": "stream",
     "text": [
      "mse_loss(xtest, ytest) = 1.5242841f0\n"
     ]
    },
    {
     "name": "stderr",
     "output_type": "stream",
     "text": [
      "┌ Info: Epoch 17\n",
      "└ @ ConvGRU /Users/kahingleung/.julia/packages/Flux/sY3yx/src/optimise/train.jl:136\n"
     ]
    },
    {
     "name": "stdout",
     "output_type": "stream",
     "text": [
      "mse_loss(xtest, ytest) = 1.5232304f0\n"
     ]
    },
    {
     "name": "stderr",
     "output_type": "stream",
     "text": [
      "┌ Info: Epoch 18\n",
      "└ @ ConvGRU /Users/kahingleung/.julia/packages/Flux/sY3yx/src/optimise/train.jl:136\n"
     ]
    },
    {
     "name": "stdout",
     "output_type": "stream",
     "text": [
      "mse_loss(xtest, ytest) = 1.5242755f0\n"
     ]
    },
    {
     "name": "stderr",
     "output_type": "stream",
     "text": [
      "┌ Info: Epoch 19\n",
      "└ @ ConvGRU /Users/kahingleung/.julia/packages/Flux/sY3yx/src/optimise/train.jl:136\n"
     ]
    },
    {
     "name": "stdout",
     "output_type": "stream",
     "text": [
      "mse_loss(xtest, ytest) = 1.5227945f0\n"
     ]
    },
    {
     "name": "stderr",
     "output_type": "stream",
     "text": [
      "┌ Info: Epoch 20\n",
      "└ @ ConvGRU /Users/kahingleung/.julia/packages/Flux/sY3yx/src/optimise/train.jl:136\n"
     ]
    },
    {
     "name": "stdout",
     "output_type": "stream",
     "text": [
      "mse_loss(xtest, ytest) = 1.5244291f0\n"
     ]
    },
    {
     "name": "stderr",
     "output_type": "stream",
     "text": [
      "┌ Info: Epoch 21\n",
      "└ @ ConvGRU /Users/kahingleung/.julia/packages/Flux/sY3yx/src/optimise/train.jl:136\n"
     ]
    },
    {
     "name": "stdout",
     "output_type": "stream",
     "text": [
      "mse_loss(xtest, ytest) = 1.5242139f0\n"
     ]
    },
    {
     "name": "stderr",
     "output_type": "stream",
     "text": [
      "┌ Info: Epoch 22\n",
      "└ @ ConvGRU /Users/kahingleung/.julia/packages/Flux/sY3yx/src/optimise/train.jl:136\n"
     ]
    },
    {
     "name": "stdout",
     "output_type": "stream",
     "text": [
      "mse_loss(xtest, ytest) = 1.5259764f0\n"
     ]
    },
    {
     "name": "stderr",
     "output_type": "stream",
     "text": [
      "┌ Info: Epoch 23\n",
      "└ @ ConvGRU /Users/kahingleung/.julia/packages/Flux/sY3yx/src/optimise/train.jl:136\n",
      "┌ Info: Epoch 24\n",
      "└ @ ConvGRU /Users/kahingleung/.julia/packages/Flux/sY3yx/src/optimise/train.jl:136\n"
     ]
    },
    {
     "name": "stdout",
     "output_type": "stream",
     "text": [
      "mse_loss(xtest, ytest) = 1.5230792f0\n",
      "mse_loss(xtest, ytest) = 1.5216784f0\n"
     ]
    },
    {
     "name": "stderr",
     "output_type": "stream",
     "text": [
      "┌ Info: Epoch 25\n",
      "└ @ ConvGRU /Users/kahingleung/.julia/packages/Flux/sY3yx/src/optimise/train.jl:136\n"
     ]
    },
    {
     "name": "stdout",
     "output_type": "stream",
     "text": [
      "mse_loss(xtest, ytest) = 1.5182986f0\n"
     ]
    },
    {
     "name": "stderr",
     "output_type": "stream",
     "text": [
      "┌ Info: Epoch 26\n",
      "└ @ ConvGRU /Users/kahingleung/.julia/packages/Flux/sY3yx/src/optimise/train.jl:136\n"
     ]
    },
    {
     "name": "stdout",
     "output_type": "stream",
     "text": [
      "mse_loss(xtest, ytest) = 1.5203224f0\n"
     ]
    },
    {
     "name": "stderr",
     "output_type": "stream",
     "text": [
      "┌ Info: Epoch 27\n",
      "└ @ ConvGRU /Users/kahingleung/.julia/packages/Flux/sY3yx/src/optimise/train.jl:136\n"
     ]
    },
    {
     "name": "stdout",
     "output_type": "stream",
     "text": [
      "mse_loss(xtest, ytest) = 1.5216866f0\n"
     ]
    },
    {
     "name": "stderr",
     "output_type": "stream",
     "text": [
      "┌ Info: Epoch 28\n",
      "└ @ ConvGRU /Users/kahingleung/.julia/packages/Flux/sY3yx/src/optimise/train.jl:136\n"
     ]
    },
    {
     "name": "stdout",
     "output_type": "stream",
     "text": [
      "mse_loss(xtest, ytest) = 1.5197248f0\n"
     ]
    },
    {
     "name": "stderr",
     "output_type": "stream",
     "text": [
      "┌ Info: Epoch 29\n",
      "└ @ ConvGRU /Users/kahingleung/.julia/packages/Flux/sY3yx/src/optimise/train.jl:136\n"
     ]
    },
    {
     "name": "stdout",
     "output_type": "stream",
     "text": [
      "mse_loss(xtest, ytest) = 1.5201318f0\n"
     ]
    },
    {
     "name": "stderr",
     "output_type": "stream",
     "text": [
      "┌ Info: Epoch 30\n",
      "└ @ ConvGRU /Users/kahingleung/.julia/packages/Flux/sY3yx/src/optimise/train.jl:136\n"
     ]
    },
    {
     "name": "stdout",
     "output_type": "stream",
     "text": [
      "(250,)\n",
      "myObjective(df, seqlen, Nh, lr, sym * \"-\" * string(i)) = 1.5308473f0\n",
      "33060.0046415888336127815\n",
      "mse_loss(xtest, ytest) = 1.5950187f0\n",
      "mse_loss(xtest, ytest) = 1.5384088f0\n"
     ]
    },
    {
     "name": "stderr",
     "output_type": "stream",
     "text": [
      "┌ Info: Epoch 1\n",
      "└ @ ConvGRU /Users/kahingleung/.julia/packages/Flux/sY3yx/src/optimise/train.jl:136\n"
     ]
    },
    {
     "name": "stdout",
     "output_type": "stream",
     "text": [
      "mse_loss(xtest, ytest) = 1.5342839f0\n"
     ]
    },
    {
     "name": "stderr",
     "output_type": "stream",
     "text": [
      "┌ Info: Epoch 2\n",
      "└ @ ConvGRU /Users/kahingleung/.julia/packages/Flux/sY3yx/src/optimise/train.jl:136\n",
      "┌ Info: Epoch 3\n",
      "└ @ ConvGRU /Users/kahingleung/.julia/packages/Flux/sY3yx/src/optimise/train.jl:136\n"
     ]
    },
    {
     "name": "stdout",
     "output_type": "stream",
     "text": [
      "mse_loss(xtest, ytest) = 1.5417558f0\n"
     ]
    },
    {
     "name": "stderr",
     "output_type": "stream",
     "text": [
      "┌ Info: Epoch 4\n",
      "└ @ ConvGRU /Users/kahingleung/.julia/packages/Flux/sY3yx/src/optimise/train.jl:136\n"
     ]
    },
    {
     "name": "stdout",
     "output_type": "stream",
     "text": [
      "mse_loss(xtest, ytest) = 1.5615989f0\n",
      "mse_loss(xtest, ytest) = 1.5714668f0\n"
     ]
    },
    {
     "name": "stderr",
     "output_type": "stream",
     "text": [
      "┌ Info: Epoch 5\n",
      "└ @ ConvGRU /Users/kahingleung/.julia/packages/Flux/sY3yx/src/optimise/train.jl:136\n"
     ]
    },
    {
     "name": "stdout",
     "output_type": "stream",
     "text": [
      "mse_loss(xtest, ytest) = 1.5645553f0\n"
     ]
    },
    {
     "name": "stderr",
     "output_type": "stream",
     "text": [
      "┌ Info: Epoch 6\n",
      "└ @ ConvGRU /Users/kahingleung/.julia/packages/Flux/sY3yx/src/optimise/train.jl:136\n"
     ]
    },
    {
     "name": "stdout",
     "output_type": "stream",
     "text": [
      "mse_loss(xtest, ytest) = 1.5572963f0"
     ]
    },
    {
     "name": "stderr",
     "output_type": "stream",
     "text": [
      "┌ Info: Epoch 7\n",
      "└ @ ConvGRU /Users/kahingleung/.julia/packages/Flux/sY3yx/src/optimise/train.jl:136\n"
     ]
    },
    {
     "name": "stdout",
     "output_type": "stream",
     "text": [
      "\n",
      "mse_loss(xtest, ytest) = 1.5563054f0\n"
     ]
    },
    {
     "name": "stderr",
     "output_type": "stream",
     "text": [
      "┌ Info: Epoch 8\n",
      "└ @ ConvGRU /Users/kahingleung/.julia/packages/Flux/sY3yx/src/optimise/train.jl:136\n"
     ]
    },
    {
     "name": "stdout",
     "output_type": "stream",
     "text": [
      "mse_loss(xtest, ytest) = 1.5560406f0\n"
     ]
    },
    {
     "name": "stderr",
     "output_type": "stream",
     "text": [
      "┌ Info: Epoch 9\n",
      "└ @ ConvGRU /Users/kahingleung/.julia/packages/Flux/sY3yx/src/optimise/train.jl:136\n"
     ]
    },
    {
     "name": "stdout",
     "output_type": "stream",
     "text": [
      "mse_loss(xtest, ytest) = 1.5470513f0\n"
     ]
    },
    {
     "name": "stderr",
     "output_type": "stream",
     "text": [
      "┌ Info: Epoch 10\n",
      "└ @ ConvGRU /Users/kahingleung/.julia/packages/Flux/sY3yx/src/optimise/train.jl:136\n",
      "┌ Info: Epoch 11\n",
      "└ @ ConvGRU /Users/kahingleung/.julia/packages/Flux/sY3yx/src/optimise/train.jl:136\n"
     ]
    },
    {
     "name": "stdout",
     "output_type": "stream",
     "text": [
      "mse_loss(xtest, ytest) = 1.5531217f0\n",
      "mse_loss(xtest, ytest) = 1.5419531f0\n"
     ]
    },
    {
     "name": "stderr",
     "output_type": "stream",
     "text": [
      "┌ Info: Epoch 12\n",
      "└ @ ConvGRU /Users/kahingleung/.julia/packages/Flux/sY3yx/src/optimise/train.jl:136\n"
     ]
    },
    {
     "name": "stdout",
     "output_type": "stream",
     "text": [
      "mse_loss(xtest, ytest) = 1.5451789f0\n"
     ]
    },
    {
     "name": "stderr",
     "output_type": "stream",
     "text": [
      "┌ Info: Epoch 13\n",
      "└ @ ConvGRU /Users/kahingleung/.julia/packages/Flux/sY3yx/src/optimise/train.jl:136\n"
     ]
    },
    {
     "name": "stdout",
     "output_type": "stream",
     "text": [
      "mse_loss(xtest, ytest) = 1.5451678f0\n"
     ]
    },
    {
     "name": "stderr",
     "output_type": "stream",
     "text": [
      "┌ Info: Epoch 14\n",
      "└ @ ConvGRU /Users/kahingleung/.julia/packages/Flux/sY3yx/src/optimise/train.jl:136\n",
      "┌ Info: Epoch 15\n",
      "└ @ ConvGRU /Users/kahingleung/.julia/packages/Flux/sY3yx/src/optimise/train.jl:136\n"
     ]
    },
    {
     "name": "stdout",
     "output_type": "stream",
     "text": [
      "mse_loss(xtest, ytest) = 1.5572803f0\n",
      "mse_loss(xtest, ytest) = 1.5401727f0\n"
     ]
    },
    {
     "name": "stderr",
     "output_type": "stream",
     "text": [
      "┌ Info: Epoch 16\n",
      "└ @ ConvGRU /Users/kahingleung/.julia/packages/Flux/sY3yx/src/optimise/train.jl:136\n"
     ]
    },
    {
     "name": "stdout",
     "output_type": "stream",
     "text": [
      "mse_loss(xtest, ytest) = 1.5563226f0\n"
     ]
    },
    {
     "name": "stderr",
     "output_type": "stream",
     "text": [
      "┌ Info: Epoch 17\n",
      "└ @ ConvGRU /Users/kahingleung/.julia/packages/Flux/sY3yx/src/optimise/train.jl:136\n",
      "┌ Info: Epoch 18\n",
      "└ @ ConvGRU /Users/kahingleung/.julia/packages/Flux/sY3yx/src/optimise/train.jl:136\n"
     ]
    },
    {
     "name": "stdout",
     "output_type": "stream",
     "text": [
      "mse_loss(xtest, ytest) = 1.5427134f0\n"
     ]
    },
    {
     "name": "stderr",
     "output_type": "stream",
     "text": [
      "┌ Info: Epoch 19\n",
      "└ @ ConvGRU /Users/kahingleung/.julia/packages/Flux/sY3yx/src/optimise/train.jl:136\n"
     ]
    },
    {
     "name": "stdout",
     "output_type": "stream",
     "text": [
      "mse_loss(xtest, ytest) = 1.5461425f0\n",
      "mse_loss(xtest, ytest) = 1.5373311f0\n"
     ]
    },
    {
     "name": "stderr",
     "output_type": "stream",
     "text": [
      "┌ Info: Epoch 20\n",
      "└ @ ConvGRU /Users/kahingleung/.julia/packages/Flux/sY3yx/src/optimise/train.jl:136\n"
     ]
    },
    {
     "name": "stdout",
     "output_type": "stream",
     "text": [
      "mse_loss(xtest, ytest) = 1.5283478f0\n"
     ]
    },
    {
     "name": "stderr",
     "output_type": "stream",
     "text": [
      "┌ Info: Epoch 21\n",
      "└ @ ConvGRU /Users/kahingleung/.julia/packages/Flux/sY3yx/src/optimise/train.jl:136\n",
      "┌ Info: Epoch 22\n",
      "└ @ ConvGRU /Users/kahingleung/.julia/packages/Flux/sY3yx/src/optimise/train.jl:136\n"
     ]
    },
    {
     "name": "stdout",
     "output_type": "stream",
     "text": [
      "mse_loss(xtest, ytest) = 1.5343928f0\n",
      "mse_loss(xtest, ytest) = 1.5366946f0\n"
     ]
    },
    {
     "name": "stderr",
     "output_type": "stream",
     "text": [
      "┌ Info: Epoch 23\n",
      "└ @ ConvGRU /Users/kahingleung/.julia/packages/Flux/sY3yx/src/optimise/train.jl:136\n"
     ]
    },
    {
     "name": "stdout",
     "output_type": "stream",
     "text": [
      "mse_loss(xtest, ytest) = 1.5301768f0\n"
     ]
    },
    {
     "name": "stderr",
     "output_type": "stream",
     "text": [
      "┌ Info: Epoch 24\n",
      "└ @ ConvGRU /Users/kahingleung/.julia/packages/Flux/sY3yx/src/optimise/train.jl:136\n"
     ]
    },
    {
     "name": "stdout",
     "output_type": "stream",
     "text": [
      "mse_loss(xtest, ytest) = 1.5308899f0\n"
     ]
    },
    {
     "name": "stderr",
     "output_type": "stream",
     "text": [
      "┌ Info: Epoch 25\n",
      "└ @ ConvGRU /Users/kahingleung/.julia/packages/Flux/sY3yx/src/optimise/train.jl:136\n",
      "┌ Info: Epoch 26\n",
      "└ @ ConvGRU /Users/kahingleung/.julia/packages/Flux/sY3yx/src/optimise/train.jl:136\n"
     ]
    },
    {
     "name": "stdout",
     "output_type": "stream",
     "text": [
      "mse_loss(xtest, ytest) = 1.5299098f0\n",
      "mse_loss(xtest, ytest) = 1.5256532f0\n"
     ]
    },
    {
     "name": "stderr",
     "output_type": "stream",
     "text": [
      "┌ Info: Epoch 27\n",
      "└ @ ConvGRU /Users/kahingleung/.julia/packages/Flux/sY3yx/src/optimise/train.jl:136\n"
     ]
    },
    {
     "name": "stdout",
     "output_type": "stream",
     "text": [
      "mse_loss(xtest, ytest) = 1.5281215f0\n"
     ]
    },
    {
     "name": "stderr",
     "output_type": "stream",
     "text": [
      "┌ Info: Epoch 28\n",
      "└ @ ConvGRU /Users/kahingleung/.julia/packages/Flux/sY3yx/src/optimise/train.jl:136\n"
     ]
    },
    {
     "name": "stdout",
     "output_type": "stream",
     "text": [
      "mse_loss(xtest, ytest) = 1.5207608f0\n"
     ]
    },
    {
     "name": "stderr",
     "output_type": "stream",
     "text": [
      "┌ Info: Epoch 29\n",
      "└ @ ConvGRU /Users/kahingleung/.julia/packages/Flux/sY3yx/src/optimise/train.jl:136\n",
      "┌ Info: Epoch 30\n",
      "└ @ ConvGRU /Users/kahingleung/.julia/packages/Flux/sY3yx/src/optimise/train.jl:136\n"
     ]
    },
    {
     "name": "stdout",
     "output_type": "stream",
     "text": [
      "mse_loss(xtest, ytest) = 1.5281892f0\n",
      "(250,)\n",
      "myObjective(df, seqlen, Nh, lr, sym * \"-\" * string(i)) = 1.5791082f0\n",
      "41040.01\n",
      "mse_loss(xtest, ytest) = 1.5044311f0\n",
      "mse_loss(xtest, ytest) = 1.4719492f0\n"
     ]
    },
    {
     "name": "stderr",
     "output_type": "stream",
     "text": [
      "┌ Info: Epoch 1\n",
      "└ @ ConvGRU /Users/kahingleung/.julia/packages/Flux/sY3yx/src/optimise/train.jl:136\n"
     ]
    },
    {
     "name": "stdout",
     "output_type": "stream",
     "text": [
      "mse_loss(xtest, ytest) = 1.5420984f0\n"
     ]
    },
    {
     "name": "stderr",
     "output_type": "stream",
     "text": [
      "┌ Info: Epoch 2\n",
      "└ @ ConvGRU /Users/kahingleung/.julia/packages/Flux/sY3yx/src/optimise/train.jl:136\n"
     ]
    },
    {
     "name": "stdout",
     "output_type": "stream",
     "text": [
      "mse_loss(xtest, ytest) = 1.542411f0\n"
     ]
    },
    {
     "name": "stderr",
     "output_type": "stream",
     "text": [
      "┌ Info: Epoch 3\n",
      "└ @ ConvGRU /Users/kahingleung/.julia/packages/Flux/sY3yx/src/optimise/train.jl:136\n"
     ]
    },
    {
     "name": "stdout",
     "output_type": "stream",
     "text": [
      "mse_loss(xtest, ytest) = 1.5417366f0\n"
     ]
    },
    {
     "name": "stderr",
     "output_type": "stream",
     "text": [
      "┌ Info: Epoch 4\n",
      "└ @ ConvGRU /Users/kahingleung/.julia/packages/Flux/sY3yx/src/optimise/train.jl:136\n"
     ]
    },
    {
     "name": "stdout",
     "output_type": "stream",
     "text": [
      "mse_loss(xtest, ytest) = 1.5409969f0\n"
     ]
    },
    {
     "name": "stderr",
     "output_type": "stream",
     "text": [
      "┌ Info: Epoch 5\n",
      "└ @ ConvGRU /Users/kahingleung/.julia/packages/Flux/sY3yx/src/optimise/train.jl:136\n"
     ]
    },
    {
     "name": "stdout",
     "output_type": "stream",
     "text": [
      "mse_loss(xtest, ytest) = 1.5408368f0\n"
     ]
    },
    {
     "name": "stderr",
     "output_type": "stream",
     "text": [
      "┌ Info: Epoch 6\n",
      "└ @ ConvGRU /Users/kahingleung/.julia/packages/Flux/sY3yx/src/optimise/train.jl:136\n"
     ]
    },
    {
     "name": "stdout",
     "output_type": "stream",
     "text": [
      "mse_loss(xtest, ytest) = 1.5410615f0\n"
     ]
    },
    {
     "name": "stderr",
     "output_type": "stream",
     "text": [
      "┌ Info: Epoch 7\n",
      "└ @ ConvGRU /Users/kahingleung/.julia/packages/Flux/sY3yx/src/optimise/train.jl:136\n"
     ]
    },
    {
     "name": "stdout",
     "output_type": "stream",
     "text": [
      "mse_loss(xtest, ytest) = 1.5438327f0\n"
     ]
    },
    {
     "name": "stderr",
     "output_type": "stream",
     "text": [
      "┌ Info: Epoch 8\n",
      "└ @ ConvGRU /Users/kahingleung/.julia/packages/Flux/sY3yx/src/optimise/train.jl:136\n"
     ]
    },
    {
     "name": "stdout",
     "output_type": "stream",
     "text": [
      "mse_loss(xtest, ytest) = 1.5400223f0\n"
     ]
    },
    {
     "name": "stderr",
     "output_type": "stream",
     "text": [
      "┌ Info: Epoch 9\n",
      "└ @ ConvGRU /Users/kahingleung/.julia/packages/Flux/sY3yx/src/optimise/train.jl:136\n",
      "┌ Info: Epoch 10\n",
      "└ @ ConvGRU /Users/kahingleung/.julia/packages/Flux/sY3yx/src/optimise/train.jl:136\n"
     ]
    },
    {
     "name": "stdout",
     "output_type": "stream",
     "text": [
      "mse_loss(xtest, ytest) = 1.543546f0\n",
      "mse_loss(xtest, ytest) = 1.5425316f0\n"
     ]
    },
    {
     "name": "stderr",
     "output_type": "stream",
     "text": [
      "┌ Info: Epoch 11\n",
      "└ @ ConvGRU /Users/kahingleung/.julia/packages/Flux/sY3yx/src/optimise/train.jl:136\n",
      "┌ Info: Epoch 12\n",
      "└ @ ConvGRU /Users/kahingleung/.julia/packages/Flux/sY3yx/src/optimise/train.jl:136\n"
     ]
    },
    {
     "name": "stdout",
     "output_type": "stream",
     "text": [
      "mse_loss(xtest, ytest) = 1.5416733f0\n",
      "mse_loss(xtest, ytest) = 1.5408484f0\n"
     ]
    },
    {
     "name": "stderr",
     "output_type": "stream",
     "text": [
      "┌ Info: Epoch 13\n",
      "└ @ ConvGRU /Users/kahingleung/.julia/packages/Flux/sY3yx/src/optimise/train.jl:136\n",
      "┌ Info: Epoch 14\n",
      "└ @ ConvGRU /Users/kahingleung/.julia/packages/Flux/sY3yx/src/optimise/train.jl:136\n"
     ]
    },
    {
     "name": "stdout",
     "output_type": "stream",
     "text": [
      "mse_loss(xtest, ytest) = 1.5383935f0\n",
      "mse_loss(xtest, ytest) = 1.54185f0\n"
     ]
    },
    {
     "name": "stderr",
     "output_type": "stream",
     "text": [
      "┌ Info: Epoch 15\n",
      "└ @ ConvGRU /Users/kahingleung/.julia/packages/Flux/sY3yx/src/optimise/train.jl:136\n"
     ]
    },
    {
     "name": "stdout",
     "output_type": "stream",
     "text": [
      "mse_loss(xtest, ytest) = 1.5417663f0\n"
     ]
    },
    {
     "name": "stderr",
     "output_type": "stream",
     "text": [
      "┌ Info: Epoch 16\n",
      "└ @ ConvGRU /Users/kahingleung/.julia/packages/Flux/sY3yx/src/optimise/train.jl:136\n"
     ]
    },
    {
     "name": "stdout",
     "output_type": "stream",
     "text": [
      "mse_loss(xtest, ytest) = 1.5426737f0\n"
     ]
    },
    {
     "name": "stderr",
     "output_type": "stream",
     "text": [
      "┌ Info: Epoch 17\n",
      "└ @ ConvGRU /Users/kahingleung/.julia/packages/Flux/sY3yx/src/optimise/train.jl:136\n",
      "┌ Info: Epoch 18\n",
      "└ @ ConvGRU /Users/kahingleung/.julia/packages/Flux/sY3yx/src/optimise/train.jl:136\n"
     ]
    },
    {
     "name": "stdout",
     "output_type": "stream",
     "text": [
      "mse_loss(xtest, ytest) = 1.5418859f0\n"
     ]
    },
    {
     "name": "stderr",
     "output_type": "stream",
     "text": [
      "┌ Info: Epoch 19\n",
      "└ @ ConvGRU /Users/kahingleung/.julia/packages/Flux/sY3yx/src/optimise/train.jl:136\n"
     ]
    },
    {
     "name": "stdout",
     "output_type": "stream",
     "text": [
      "mse_loss(xtest, ytest) = 1.536635f0\n",
      "mse_loss(xtest, ytest) = 1.5380471f0\n"
     ]
    },
    {
     "name": "stderr",
     "output_type": "stream",
     "text": [
      "┌ Info: Epoch 20\n",
      "└ @ ConvGRU /Users/kahingleung/.julia/packages/Flux/sY3yx/src/optimise/train.jl:136\n",
      "┌ Info: Epoch 21\n",
      "└ @ ConvGRU /Users/kahingleung/.julia/packages/Flux/sY3yx/src/optimise/train.jl:136\n"
     ]
    },
    {
     "name": "stdout",
     "output_type": "stream",
     "text": [
      "mse_loss(xtest, ytest) = 1.5376383f0\n"
     ]
    },
    {
     "name": "stderr",
     "output_type": "stream",
     "text": [
      "┌ Info: Epoch 22\n",
      "└ @ ConvGRU /Users/kahingleung/.julia/packages/Flux/sY3yx/src/optimise/train.jl:136\n"
     ]
    },
    {
     "name": "stdout",
     "output_type": "stream",
     "text": [
      "mse_loss(xtest, ytest) = 1.5334921f0\n",
      "mse_loss(xtest, ytest) = 1.5365958f0\n"
     ]
    },
    {
     "name": "stderr",
     "output_type": "stream",
     "text": [
      "┌ Info: Epoch 23\n",
      "└ @ ConvGRU /Users/kahingleung/.julia/packages/Flux/sY3yx/src/optimise/train.jl:136\n",
      "┌ Info: Epoch 24\n",
      "└ @ ConvGRU /Users/kahingleung/.julia/packages/Flux/sY3yx/src/optimise/train.jl:136\n"
     ]
    },
    {
     "name": "stdout",
     "output_type": "stream",
     "text": [
      "mse_loss(xtest, ytest) = 1.5362915f0\n",
      "mse_loss(xtest, ytest) = 1.5340973f0\n"
     ]
    },
    {
     "name": "stderr",
     "output_type": "stream",
     "text": [
      "┌ Info: Epoch 25\n",
      "└ @ ConvGRU /Users/kahingleung/.julia/packages/Flux/sY3yx/src/optimise/train.jl:136\n",
      "┌ Info: Epoch 26\n",
      "└ @ ConvGRU /Users/kahingleung/.julia/packages/Flux/sY3yx/src/optimise/train.jl:136\n"
     ]
    },
    {
     "name": "stdout",
     "output_type": "stream",
     "text": [
      "mse_loss(xtest, ytest) = 1.53521f0\n",
      "mse_loss(xtest, ytest) = 1.5352124f0\n"
     ]
    },
    {
     "name": "stderr",
     "output_type": "stream",
     "text": [
      "┌ Info: Epoch 27\n",
      "└ @ ConvGRU /Users/kahingleung/.julia/packages/Flux/sY3yx/src/optimise/train.jl:136\n"
     ]
    },
    {
     "name": "stdout",
     "output_type": "stream",
     "text": [
      "mse_loss(xtest, ytest) = 1.5352846f0\n"
     ]
    },
    {
     "name": "stderr",
     "output_type": "stream",
     "text": [
      "┌ Info: Epoch 28\n",
      "└ @ ConvGRU /Users/kahingleung/.julia/packages/Flux/sY3yx/src/optimise/train.jl:136\n"
     ]
    },
    {
     "name": "stdout",
     "output_type": "stream",
     "text": [
      "mse_loss(xtest, ytest) = 1.5353564f0\n"
     ]
    },
    {
     "name": "stderr",
     "output_type": "stream",
     "text": [
      "┌ Info: Epoch 29\n",
      "└ @ ConvGRU /Users/kahingleung/.julia/packages/Flux/sY3yx/src/optimise/train.jl:136\n"
     ]
    },
    {
     "name": "stdout",
     "output_type": "stream",
     "text": [
      "mse_loss(xtest, ytest) = 1.5329523f0\n"
     ]
    },
    {
     "name": "stderr",
     "output_type": "stream",
     "text": [
      "┌ Info: Epoch 30\n",
      "└ @ ConvGRU /Users/kahingleung/.julia/packages/Flux/sY3yx/src/optimise/train.jl:136\n"
     ]
    },
    {
     "name": "stdout",
     "output_type": "stream",
     "text": [
      "(250,)\n",
      "myObjective(df, seqlen, Nh, lr, sym * \"-\" * string(i)) = 1.6300323f0\n",
      "52080.0016681005372000592\n",
      "mse_loss(xtest, ytest) = 1.6535753f0\n",
      "mse_loss(xtest, ytest) = 1.6179357f0\n"
     ]
    },
    {
     "name": "stderr",
     "output_type": "stream",
     "text": [
      "┌ Info: Epoch 1\n",
      "└ @ ConvGRU /Users/kahingleung/.julia/packages/Flux/sY3yx/src/optimise/train.jl:136\n"
     ]
    },
    {
     "name": "stdout",
     "output_type": "stream",
     "text": [
      "mse_loss(xtest, ytest) = 1.5499973f0\n"
     ]
    },
    {
     "name": "stderr",
     "output_type": "stream",
     "text": [
      "┌ Info: Epoch 2\n",
      "└ @ ConvGRU /Users/kahingleung/.julia/packages/Flux/sY3yx/src/optimise/train.jl:136\n"
     ]
    },
    {
     "name": "stdout",
     "output_type": "stream",
     "text": [
      "mse_loss(xtest, ytest) = 1.5339569f0\n"
     ]
    },
    {
     "name": "stderr",
     "output_type": "stream",
     "text": [
      "┌ Info: Epoch 3\n",
      "└ @ ConvGRU /Users/kahingleung/.julia/packages/Flux/sY3yx/src/optimise/train.jl:136\n"
     ]
    },
    {
     "name": "stdout",
     "output_type": "stream",
     "text": [
      "mse_loss(xtest, ytest) = 1.524405f0\n"
     ]
    },
    {
     "name": "stderr",
     "output_type": "stream",
     "text": [
      "┌ Info: Epoch 4\n",
      "└ @ ConvGRU /Users/kahingleung/.julia/packages/Flux/sY3yx/src/optimise/train.jl:136\n"
     ]
    },
    {
     "name": "stdout",
     "output_type": "stream",
     "text": [
      "mse_loss(xtest, ytest) = 1.5291973f0\n"
     ]
    },
    {
     "name": "stderr",
     "output_type": "stream",
     "text": [
      "┌ Info: Epoch 5\n",
      "└ @ ConvGRU /Users/kahingleung/.julia/packages/Flux/sY3yx/src/optimise/train.jl:136\n"
     ]
    },
    {
     "name": "stdout",
     "output_type": "stream",
     "text": [
      "mse_loss(xtest, ytest) = 1.5271958f0\n"
     ]
    },
    {
     "name": "stderr",
     "output_type": "stream",
     "text": [
      "┌ Info: Epoch 6\n",
      "└ @ ConvGRU /Users/kahingleung/.julia/packages/Flux/sY3yx/src/optimise/train.jl:136\n",
      "┌ Info: Epoch 7\n",
      "└ @ ConvGRU /Users/kahingleung/.julia/packages/Flux/sY3yx/src/optimise/train.jl:136\n"
     ]
    },
    {
     "name": "stdout",
     "output_type": "stream",
     "text": [
      "mse_loss(xtest, ytest) = 1.5282842f0\n",
      "mse_loss(xtest, ytest) = 1.5346729f0\n"
     ]
    },
    {
     "name": "stderr",
     "output_type": "stream",
     "text": [
      "┌ Info: Epoch 8\n",
      "└ @ ConvGRU /Users/kahingleung/.julia/packages/Flux/sY3yx/src/optimise/train.jl:136\n"
     ]
    },
    {
     "name": "stdout",
     "output_type": "stream",
     "text": [
      "mse_loss(xtest, ytest) = 1.536505f0\n"
     ]
    },
    {
     "name": "stderr",
     "output_type": "stream",
     "text": [
      "┌ Info: Epoch 9\n",
      "└ @ ConvGRU /Users/kahingleung/.julia/packages/Flux/sY3yx/src/optimise/train.jl:136\n"
     ]
    },
    {
     "name": "stdout",
     "output_type": "stream",
     "text": [
      "mse_loss(xtest, ytest) = 1.5405276f0\n"
     ]
    },
    {
     "name": "stderr",
     "output_type": "stream",
     "text": [
      "┌ Info: Epoch 10\n",
      "└ @ ConvGRU /Users/kahingleung/.julia/packages/Flux/sY3yx/src/optimise/train.jl:136\n"
     ]
    },
    {
     "name": "stdout",
     "output_type": "stream",
     "text": [
      "mse_loss(xtest, ytest) = 1.5420728f0\n"
     ]
    },
    {
     "name": "stderr",
     "output_type": "stream",
     "text": [
      "┌ Info: Epoch 11\n",
      "└ @ ConvGRU /Users/kahingleung/.julia/packages/Flux/sY3yx/src/optimise/train.jl:136\n",
      "┌ Info: Epoch 12\n",
      "└ @ ConvGRU /Users/kahingleung/.julia/packages/Flux/sY3yx/src/optimise/train.jl:136\n"
     ]
    },
    {
     "name": "stdout",
     "output_type": "stream",
     "text": [
      "mse_loss(xtest, ytest) = 1.5457662f0\n",
      "mse_loss(xtest, ytest) = 1.5497872f0\n"
     ]
    },
    {
     "name": "stderr",
     "output_type": "stream",
     "text": [
      "┌ Info: Epoch 13\n",
      "└ @ ConvGRU /Users/kahingleung/.julia/packages/Flux/sY3yx/src/optimise/train.jl:136\n",
      "┌ Info: Epoch 14\n",
      "└ @ ConvGRU /Users/kahingleung/.julia/packages/Flux/sY3yx/src/optimise/train.jl:136\n"
     ]
    },
    {
     "name": "stdout",
     "output_type": "stream",
     "text": [
      "mse_loss(xtest, ytest) = 1.5484338f0\n",
      "mse_loss(xtest, ytest) = 1.5494072f0\n"
     ]
    },
    {
     "name": "stderr",
     "output_type": "stream",
     "text": [
      "┌ Info: Epoch 15\n",
      "└ @ ConvGRU /Users/kahingleung/.julia/packages/Flux/sY3yx/src/optimise/train.jl:136\n",
      "┌ Info: Epoch 16\n",
      "└ @ ConvGRU /Users/kahingleung/.julia/packages/Flux/sY3yx/src/optimise/train.jl:136\n"
     ]
    },
    {
     "name": "stdout",
     "output_type": "stream",
     "text": [
      "mse_loss(xtest, ytest) = 1.5525091f0\n"
     ]
    },
    {
     "name": "stderr",
     "output_type": "stream",
     "text": [
      "┌ Info: Epoch 17\n",
      "└ @ ConvGRU /Users/kahingleung/.julia/packages/Flux/sY3yx/src/optimise/train.jl:136\n"
     ]
    },
    {
     "name": "stdout",
     "output_type": "stream",
     "text": [
      "mse_loss(xtest, ytest) = 1.5600761f0\n",
      "mse_loss(xtest, ytest) = 1.5607393f0\n"
     ]
    },
    {
     "name": "stderr",
     "output_type": "stream",
     "text": [
      "┌ Info: Epoch 18\n",
      "└ @ ConvGRU /Users/kahingleung/.julia/packages/Flux/sY3yx/src/optimise/train.jl:136\n",
      "┌ Info: Epoch 19\n",
      "└ @ ConvGRU /Users/kahingleung/.julia/packages/Flux/sY3yx/src/optimise/train.jl:136\n"
     ]
    },
    {
     "name": "stdout",
     "output_type": "stream",
     "text": [
      "mse_loss(xtest, ytest) = 1.5554867f0\n",
      "mse_loss(xtest, ytest) = 1.5567744f0\n"
     ]
    },
    {
     "name": "stderr",
     "output_type": "stream",
     "text": [
      "┌ Info: Epoch 20\n",
      "└ @ ConvGRU /Users/kahingleung/.julia/packages/Flux/sY3yx/src/optimise/train.jl:136\n",
      "┌ Info: Epoch 21\n",
      "└ @ ConvGRU /Users/kahingleung/.julia/packages/Flux/sY3yx/src/optimise/train.jl:136\n"
     ]
    },
    {
     "name": "stdout",
     "output_type": "stream",
     "text": [
      "mse_loss(xtest, ytest) = 1.557594f0\n",
      "mse_loss(xtest, ytest) = 1.5593648f0\n"
     ]
    },
    {
     "name": "stderr",
     "output_type": "stream",
     "text": [
      "┌ Info: Epoch 22\n",
      "└ @ ConvGRU /Users/kahingleung/.julia/packages/Flux/sY3yx/src/optimise/train.jl:136\n"
     ]
    },
    {
     "name": "stdout",
     "output_type": "stream",
     "text": [
      "mse_loss(xtest, ytest) = 1.5591266f0\n"
     ]
    },
    {
     "name": "stderr",
     "output_type": "stream",
     "text": [
      "┌ Info: Epoch 23\n",
      "└ @ ConvGRU /Users/kahingleung/.julia/packages/Flux/sY3yx/src/optimise/train.jl:136\n"
     ]
    },
    {
     "name": "stdout",
     "output_type": "stream",
     "text": [
      "mse_loss(xtest, ytest) = 1.5541174f0\n"
     ]
    },
    {
     "name": "stderr",
     "output_type": "stream",
     "text": [
      "┌ Info: Epoch 24\n",
      "└ @ ConvGRU /Users/kahingleung/.julia/packages/Flux/sY3yx/src/optimise/train.jl:136\n"
     ]
    },
    {
     "name": "stdout",
     "output_type": "stream",
     "text": [
      "mse_loss(xtest, ytest) = 1.5526901f0\n"
     ]
    },
    {
     "name": "stderr",
     "output_type": "stream",
     "text": [
      "┌ Info: Epoch 25\n",
      "└ @ ConvGRU /Users/kahingleung/.julia/packages/Flux/sY3yx/src/optimise/train.jl:136\n",
      "┌ Info: Epoch 26\n",
      "└ @ ConvGRU /Users/kahingleung/.julia/packages/Flux/sY3yx/src/optimise/train.jl:136\n"
     ]
    },
    {
     "name": "stdout",
     "output_type": "stream",
     "text": [
      "mse_loss(xtest, ytest) = 1.5598953f0\n",
      "mse_loss(xtest, ytest) = 1.5584816f0\n"
     ]
    },
    {
     "name": "stderr",
     "output_type": "stream",
     "text": [
      "┌ Info: Epoch 27\n",
      "└ @ ConvGRU /Users/kahingleung/.julia/packages/Flux/sY3yx/src/optimise/train.jl:136\n"
     ]
    },
    {
     "name": "stdout",
     "output_type": "stream",
     "text": [
      "mse_loss(xtest, ytest) = 1.5528402f0\n"
     ]
    },
    {
     "name": "stderr",
     "output_type": "stream",
     "text": [
      "┌ Info: Epoch 28\n",
      "└ @ ConvGRU /Users/kahingleung/.julia/packages/Flux/sY3yx/src/optimise/train.jl:136\n"
     ]
    },
    {
     "name": "stdout",
     "output_type": "stream",
     "text": [
      "mse_loss(xtest, ytest) = 1.5637909f0\n"
     ]
    },
    {
     "name": "stderr",
     "output_type": "stream",
     "text": [
      "┌ Info: Epoch 29\n",
      "└ @ ConvGRU /Users/kahingleung/.julia/packages/Flux/sY3yx/src/optimise/train.jl:136\n"
     ]
    },
    {
     "name": "stdout",
     "output_type": "stream",
     "text": [
      "mse_loss(xtest, ytest) = 1.5626345f0\n"
     ]
    },
    {
     "name": "stderr",
     "output_type": "stream",
     "text": [
      "┌ Info: Epoch 30\n",
      "└ @ ConvGRU /Users/kahingleung/.julia/packages/Flux/sY3yx/src/optimise/train.jl:136\n"
     ]
    },
    {
     "name": "stdout",
     "output_type": "stream",
     "text": [
      "(250,)\n",
      "myObjective(df, seqlen, Nh, lr, sym * \"-\" * string(i)) = 1.5935447f0\n",
      "62020.0016681005372000592\n",
      "mse_loss(xtest, ytest) = 1.6231172f0\n",
      "mse_loss(xtest, ytest) = 1.6143668f0\n"
     ]
    },
    {
     "name": "stderr",
     "output_type": "stream",
     "text": [
      "┌ Info: Epoch 1\n",
      "└ @ ConvGRU /Users/kahingleung/.julia/packages/Flux/sY3yx/src/optimise/train.jl:136\n"
     ]
    },
    {
     "name": "stdout",
     "output_type": "stream",
     "text": [
      "mse_loss(xtest, ytest) = 1.5915856f0\n"
     ]
    },
    {
     "name": "stderr",
     "output_type": "stream",
     "text": [
      "┌ Info: Epoch 2\n",
      "└ @ ConvGRU /Users/kahingleung/.julia/packages/Flux/sY3yx/src/optimise/train.jl:136\n"
     ]
    },
    {
     "name": "stdout",
     "output_type": "stream",
     "text": [
      "mse_loss(xtest, ytest) = 1.5732527f0\n"
     ]
    },
    {
     "name": "stderr",
     "output_type": "stream",
     "text": [
      "┌ Info: Epoch 3\n",
      "└ @ ConvGRU /Users/kahingleung/.julia/packages/Flux/sY3yx/src/optimise/train.jl:136\n"
     ]
    },
    {
     "name": "stdout",
     "output_type": "stream",
     "text": [
      "mse_loss(xtest, ytest) = 1.5574065f0\n"
     ]
    },
    {
     "name": "stderr",
     "output_type": "stream",
     "text": [
      "┌ Info: Epoch 4\n",
      "└ @ ConvGRU /Users/kahingleung/.julia/packages/Flux/sY3yx/src/optimise/train.jl:136\n"
     ]
    },
    {
     "name": "stdout",
     "output_type": "stream",
     "text": [
      "mse_loss(xtest, ytest) = 1.5460737f0\n"
     ]
    },
    {
     "name": "stderr",
     "output_type": "stream",
     "text": [
      "┌ Info: Epoch 5\n",
      "└ @ ConvGRU /Users/kahingleung/.julia/packages/Flux/sY3yx/src/optimise/train.jl:136\n"
     ]
    },
    {
     "name": "stdout",
     "output_type": "stream",
     "text": [
      "mse_loss(xtest, ytest) = 1.5377653f0\n"
     ]
    },
    {
     "name": "stderr",
     "output_type": "stream",
     "text": [
      "┌ Info: Epoch 6\n",
      "└ @ ConvGRU /Users/kahingleung/.julia/packages/Flux/sY3yx/src/optimise/train.jl:136\n",
      "┌ Info: Epoch 7\n",
      "└ @ ConvGRU /Users/kahingleung/.julia/packages/Flux/sY3yx/src/optimise/train.jl:136\n"
     ]
    },
    {
     "name": "stdout",
     "output_type": "stream",
     "text": [
      "mse_loss(xtest, ytest) = 1.5296677f0\n",
      "mse_loss(xtest, ytest) = 1.5232145f0\n"
     ]
    },
    {
     "name": "stderr",
     "output_type": "stream",
     "text": [
      "┌ Info: Epoch 8\n",
      "└ @ ConvGRU /Users/kahingleung/.julia/packages/Flux/sY3yx/src/optimise/train.jl:136\n"
     ]
    },
    {
     "name": "stdout",
     "output_type": "stream",
     "text": [
      "mse_loss(xtest, ytest) = 1.5190454f0\n"
     ]
    },
    {
     "name": "stderr",
     "output_type": "stream",
     "text": [
      "┌ Info: Epoch 9\n",
      "└ @ ConvGRU /Users/kahingleung/.julia/packages/Flux/sY3yx/src/optimise/train.jl:136\n"
     ]
    },
    {
     "name": "stdout",
     "output_type": "stream",
     "text": [
      "mse_loss(xtest, ytest) = 1.5168217f0\n"
     ]
    },
    {
     "name": "stderr",
     "output_type": "stream",
     "text": [
      "┌ Info: Epoch 10\n",
      "└ @ ConvGRU /Users/kahingleung/.julia/packages/Flux/sY3yx/src/optimise/train.jl:136\n"
     ]
    },
    {
     "name": "stdout",
     "output_type": "stream",
     "text": [
      "mse_loss(xtest, ytest) = 1.5160462f0\n"
     ]
    },
    {
     "name": "stderr",
     "output_type": "stream",
     "text": [
      "┌ Info: Epoch 11\n",
      "└ @ ConvGRU /Users/kahingleung/.julia/packages/Flux/sY3yx/src/optimise/train.jl:136\n"
     ]
    },
    {
     "name": "stdout",
     "output_type": "stream",
     "text": [
      "mse_loss(xtest, ytest) = 1.5159029f0\n"
     ]
    },
    {
     "name": "stderr",
     "output_type": "stream",
     "text": [
      "┌ Info: Epoch 12\n",
      "└ @ ConvGRU /Users/kahingleung/.julia/packages/Flux/sY3yx/src/optimise/train.jl:136\n"
     ]
    },
    {
     "name": "stdout",
     "output_type": "stream",
     "text": [
      "mse_loss(xtest, ytest) = 1.5167384f0\n"
     ]
    },
    {
     "name": "stderr",
     "output_type": "stream",
     "text": [
      "┌ Info: Epoch 13\n",
      "└ @ ConvGRU /Users/kahingleung/.julia/packages/Flux/sY3yx/src/optimise/train.jl:136\n",
      "┌ Info: Epoch 14\n",
      "└ @ ConvGRU /Users/kahingleung/.julia/packages/Flux/sY3yx/src/optimise/train.jl:136\n"
     ]
    },
    {
     "name": "stdout",
     "output_type": "stream",
     "text": [
      "mse_loss(xtest, ytest) = 1.5160578f0\n",
      "mse_loss(xtest, ytest) = 1.5162021f0\n"
     ]
    },
    {
     "name": "stderr",
     "output_type": "stream",
     "text": [
      "┌ Info: Epoch 15\n",
      "└ @ ConvGRU /Users/kahingleung/.julia/packages/Flux/sY3yx/src/optimise/train.jl:136\n"
     ]
    },
    {
     "name": "stdout",
     "output_type": "stream",
     "text": [
      "mse_loss(xtest, ytest) = 1.515865f0\n"
     ]
    },
    {
     "name": "stderr",
     "output_type": "stream",
     "text": [
      "┌ Info: Epoch 16\n",
      "└ @ ConvGRU /Users/kahingleung/.julia/packages/Flux/sY3yx/src/optimise/train.jl:136\n"
     ]
    },
    {
     "name": "stdout",
     "output_type": "stream",
     "text": [
      "mse_loss(xtest, ytest) = 1.5166405f0\n"
     ]
    },
    {
     "name": "stderr",
     "output_type": "stream",
     "text": [
      "┌ Info: Epoch 17\n",
      "└ @ ConvGRU /Users/kahingleung/.julia/packages/Flux/sY3yx/src/optimise/train.jl:136\n"
     ]
    },
    {
     "name": "stdout",
     "output_type": "stream",
     "text": [
      "mse_loss(xtest, ytest) = 1.5175282f0\n"
     ]
    },
    {
     "name": "stderr",
     "output_type": "stream",
     "text": [
      "┌ Info: Epoch 18\n",
      "└ @ ConvGRU /Users/kahingleung/.julia/packages/Flux/sY3yx/src/optimise/train.jl:136\n"
     ]
    },
    {
     "name": "stdout",
     "output_type": "stream",
     "text": [
      "mse_loss(xtest, ytest) = 1.5165298f0\n"
     ]
    },
    {
     "name": "stderr",
     "output_type": "stream",
     "text": [
      "┌ Info: Epoch 19\n",
      "└ @ ConvGRU /Users/kahingleung/.julia/packages/Flux/sY3yx/src/optimise/train.jl:136\n"
     ]
    },
    {
     "name": "stdout",
     "output_type": "stream",
     "text": [
      "mse_loss(xtest, ytest) = 1.517296f0\n"
     ]
    },
    {
     "name": "stderr",
     "output_type": "stream",
     "text": [
      "┌ Info: Epoch 20\n",
      "└ @ ConvGRU /Users/kahingleung/.julia/packages/Flux/sY3yx/src/optimise/train.jl:136\n"
     ]
    },
    {
     "name": "stdout",
     "output_type": "stream",
     "text": [
      "mse_loss(xtest, ytest) = 1.5179373f0\n"
     ]
    },
    {
     "name": "stderr",
     "output_type": "stream",
     "text": [
      "┌ Info: Epoch 21\n",
      "└ @ ConvGRU /Users/kahingleung/.julia/packages/Flux/sY3yx/src/optimise/train.jl:136\n",
      "┌ Info: Epoch 22\n",
      "└ @ ConvGRU /Users/kahingleung/.julia/packages/Flux/sY3yx/src/optimise/train.jl:136\n"
     ]
    },
    {
     "name": "stdout",
     "output_type": "stream",
     "text": [
      "mse_loss(xtest, ytest) = 1.5191784f0\n",
      "mse_loss(xtest, ytest) = 1.5198333f0\n"
     ]
    },
    {
     "name": "stderr",
     "output_type": "stream",
     "text": [
      "┌ Info: Epoch 23\n",
      "└ @ ConvGRU /Users/kahingleung/.julia/packages/Flux/sY3yx/src/optimise/train.jl:136\n"
     ]
    },
    {
     "name": "stdout",
     "output_type": "stream",
     "text": [
      "mse_loss(xtest, ytest) = 1.5198059f0\n"
     ]
    },
    {
     "name": "stderr",
     "output_type": "stream",
     "text": [
      "┌ Info: Epoch 24\n",
      "└ @ ConvGRU /Users/kahingleung/.julia/packages/Flux/sY3yx/src/optimise/train.jl:136\n"
     ]
    },
    {
     "name": "stdout",
     "output_type": "stream",
     "text": [
      "mse_loss(xtest, ytest) = 1.519246f0\n"
     ]
    },
    {
     "name": "stderr",
     "output_type": "stream",
     "text": [
      "┌ Info: Epoch 25\n",
      "└ @ ConvGRU /Users/kahingleung/.julia/packages/Flux/sY3yx/src/optimise/train.jl:136\n"
     ]
    },
    {
     "name": "stdout",
     "output_type": "stream",
     "text": [
      "mse_loss(xtest, ytest) = 1.5194364f0\n"
     ]
    },
    {
     "name": "stderr",
     "output_type": "stream",
     "text": [
      "┌ Info: Epoch 26\n",
      "└ @ ConvGRU /Users/kahingleung/.julia/packages/Flux/sY3yx/src/optimise/train.jl:136\n"
     ]
    },
    {
     "name": "stdout",
     "output_type": "stream",
     "text": [
      "mse_loss(xtest, ytest) = 1.5198405f0\n"
     ]
    },
    {
     "name": "stderr",
     "output_type": "stream",
     "text": [
      "┌ Info: Epoch 27\n",
      "└ @ ConvGRU /Users/kahingleung/.julia/packages/Flux/sY3yx/src/optimise/train.jl:136\n"
     ]
    },
    {
     "name": "stdout",
     "output_type": "stream",
     "text": [
      "mse_loss(xtest, ytest) = 1.5190939f0\n"
     ]
    },
    {
     "name": "stderr",
     "output_type": "stream",
     "text": [
      "┌ Info: Epoch 28\n",
      "└ @ ConvGRU /Users/kahingleung/.julia/packages/Flux/sY3yx/src/optimise/train.jl:136\n"
     ]
    },
    {
     "name": "stdout",
     "output_type": "stream",
     "text": [
      "mse_loss(xtest, ytest) = 1.5197743f0\n"
     ]
    },
    {
     "name": "stderr",
     "output_type": "stream",
     "text": [
      "┌ Info: Epoch 29\n",
      "└ @ ConvGRU /Users/kahingleung/.julia/packages/Flux/sY3yx/src/optimise/train.jl:136\n"
     ]
    },
    {
     "name": "stdout",
     "output_type": "stream",
     "text": [
      "mse_loss(xtest, ytest) = 1.5193166f0\n"
     ]
    },
    {
     "name": "stderr",
     "output_type": "stream",
     "text": [
      "┌ Info: Epoch 30\n",
      "└ @ ConvGRU /Users/kahingleung/.julia/packages/Flux/sY3yx/src/optimise/train.jl:136\n"
     ]
    },
    {
     "name": "stdout",
     "output_type": "stream",
     "text": [
      "(250,)\n",
      "myObjective(df, seqlen, Nh, lr, sym * \"-\" * string(i)) = 1.5277544f0\n",
      "72520.0021544346900318843\n",
      "mse_loss(xtest, ytest) = 1.5698518f0\n",
      "mse_loss(xtest, ytest) = 1.5628977f0\n"
     ]
    },
    {
     "name": "stderr",
     "output_type": "stream",
     "text": [
      "┌ Info: Epoch 1\n",
      "└ @ ConvGRU /Users/kahingleung/.julia/packages/Flux/sY3yx/src/optimise/train.jl:136\n",
      "┌ Info: Epoch 2\n",
      "└ @ ConvGRU /Users/kahingleung/.julia/packages/Flux/sY3yx/src/optimise/train.jl:136\n"
     ]
    },
    {
     "name": "stdout",
     "output_type": "stream",
     "text": [
      "mse_loss(xtest, ytest) = 1.5544246f0\n",
      "mse_loss(xtest, ytest) = 1.5483785f0\n"
     ]
    },
    {
     "name": "stderr",
     "output_type": "stream",
     "text": [
      "┌ Info: Epoch 3\n",
      "└ @ ConvGRU /Users/kahingleung/.julia/packages/Flux/sY3yx/src/optimise/train.jl:136\n",
      "┌ Info: Epoch 4\n",
      "└ @ ConvGRU /Users/kahingleung/.julia/packages/Flux/sY3yx/src/optimise/train.jl:136\n"
     ]
    },
    {
     "name": "stdout",
     "output_type": "stream",
     "text": [
      "mse_loss(xtest, ytest) = 1.5432888f0\n",
      "mse_loss(xtest, ytest) = 1.5392731f0\n"
     ]
    },
    {
     "name": "stderr",
     "output_type": "stream",
     "text": [
      "┌ Info: Epoch 5\n",
      "└ @ ConvGRU /Users/kahingleung/.julia/packages/Flux/sY3yx/src/optimise/train.jl:136\n",
      "┌ Info: Epoch 6\n",
      "└ @ ConvGRU /Users/kahingleung/.julia/packages/Flux/sY3yx/src/optimise/train.jl:136\n"
     ]
    },
    {
     "name": "stdout",
     "output_type": "stream",
     "text": [
      "mse_loss(xtest, ytest) = 1.5355141f0\n",
      "mse_loss(xtest, ytest) = 1.5319182f0\n"
     ]
    },
    {
     "name": "stderr",
     "output_type": "stream",
     "text": [
      "┌ Info: Epoch 7\n",
      "└ @ ConvGRU /Users/kahingleung/.julia/packages/Flux/sY3yx/src/optimise/train.jl:136\n"
     ]
    },
    {
     "name": "stdout",
     "output_type": "stream",
     "text": [
      "mse_loss(xtest, ytest) = 1.5288613f0\n"
     ]
    },
    {
     "name": "stderr",
     "output_type": "stream",
     "text": [
      "┌ Info: Epoch 8\n",
      "└ @ ConvGRU /Users/kahingleung/.julia/packages/Flux/sY3yx/src/optimise/train.jl:136\n"
     ]
    },
    {
     "name": "stdout",
     "output_type": "stream",
     "text": [
      "mse_loss(xtest, ytest) = 1.526796f0\n"
     ]
    },
    {
     "name": "stderr",
     "output_type": "stream",
     "text": [
      "┌ Info: Epoch 9\n",
      "└ @ ConvGRU /Users/kahingleung/.julia/packages/Flux/sY3yx/src/optimise/train.jl:136\n"
     ]
    },
    {
     "name": "stdout",
     "output_type": "stream",
     "text": [
      "mse_loss(xtest, ytest) = 1.525635f0\n"
     ]
    },
    {
     "name": "stderr",
     "output_type": "stream",
     "text": [
      "┌ Info: Epoch 10\n",
      "└ @ ConvGRU /Users/kahingleung/.julia/packages/Flux/sY3yx/src/optimise/train.jl:136\n"
     ]
    },
    {
     "name": "stdout",
     "output_type": "stream",
     "text": [
      "mse_loss(xtest, ytest) = 1.5246254f0\n"
     ]
    },
    {
     "name": "stderr",
     "output_type": "stream",
     "text": [
      "┌ Info: Epoch 11\n",
      "└ @ ConvGRU /Users/kahingleung/.julia/packages/Flux/sY3yx/src/optimise/train.jl:136\n",
      "┌ Info: Epoch 12\n",
      "└ @ ConvGRU /Users/kahingleung/.julia/packages/Flux/sY3yx/src/optimise/train.jl:136\n"
     ]
    },
    {
     "name": "stdout",
     "output_type": "stream",
     "text": [
      "mse_loss(xtest, ytest) = 1.5239851f0\n"
     ]
    },
    {
     "name": "stderr",
     "output_type": "stream",
     "text": [
      "┌ Info: Epoch 13\n",
      "└ @ ConvGRU /Users/kahingleung/.julia/packages/Flux/sY3yx/src/optimise/train.jl:136\n"
     ]
    },
    {
     "name": "stdout",
     "output_type": "stream",
     "text": [
      "mse_loss(xtest, ytest) = 1.5236353f0\n",
      "mse_loss(xtest, ytest) = 1.5231481f0\n"
     ]
    },
    {
     "name": "stderr",
     "output_type": "stream",
     "text": [
      "┌ Info: Epoch 14\n",
      "└ @ ConvGRU /Users/kahingleung/.julia/packages/Flux/sY3yx/src/optimise/train.jl:136\n"
     ]
    },
    {
     "name": "stdout",
     "output_type": "stream",
     "text": [
      "mse_loss(xtest, ytest) = 1.5227665f0\n"
     ]
    },
    {
     "name": "stderr",
     "output_type": "stream",
     "text": [
      "┌ Info: Epoch 15\n",
      "└ @ ConvGRU /Users/kahingleung/.julia/packages/Flux/sY3yx/src/optimise/train.jl:136\n"
     ]
    },
    {
     "name": "stdout",
     "output_type": "stream",
     "text": [
      "mse_loss(xtest, ytest) = 1.5222409f0\n"
     ]
    },
    {
     "name": "stderr",
     "output_type": "stream",
     "text": [
      "┌ Info: Epoch 16\n",
      "└ @ ConvGRU /Users/kahingleung/.julia/packages/Flux/sY3yx/src/optimise/train.jl:136\n"
     ]
    },
    {
     "name": "stdout",
     "output_type": "stream",
     "text": [
      "mse_loss(xtest, ytest) = 1.5224463f0\n"
     ]
    },
    {
     "name": "stderr",
     "output_type": "stream",
     "text": [
      "┌ Info: Epoch 17\n",
      "└ @ ConvGRU /Users/kahingleung/.julia/packages/Flux/sY3yx/src/optimise/train.jl:136\n"
     ]
    },
    {
     "name": "stdout",
     "output_type": "stream",
     "text": [
      "mse_loss(xtest, ytest) = 1.5225121f0\n"
     ]
    },
    {
     "name": "stderr",
     "output_type": "stream",
     "text": [
      "┌ Info: Epoch 18\n",
      "└ @ ConvGRU /Users/kahingleung/.julia/packages/Flux/sY3yx/src/optimise/train.jl:136\n",
      "┌ Info: Epoch 19\n",
      "└ @ ConvGRU /Users/kahingleung/.julia/packages/Flux/sY3yx/src/optimise/train.jl:136\n"
     ]
    },
    {
     "name": "stdout",
     "output_type": "stream",
     "text": [
      "mse_loss(xtest, ytest) = 1.5222456f0\n",
      "mse_loss(xtest, ytest) = 1.5221249f0\n"
     ]
    },
    {
     "name": "stderr",
     "output_type": "stream",
     "text": [
      "┌ Info: Epoch 20\n",
      "└ @ ConvGRU /Users/kahingleung/.julia/packages/Flux/sY3yx/src/optimise/train.jl:136\n"
     ]
    },
    {
     "name": "stdout",
     "output_type": "stream",
     "text": [
      "mse_loss(xtest, ytest) = 1.5218842f0\n"
     ]
    },
    {
     "name": "stderr",
     "output_type": "stream",
     "text": [
      "┌ Info: Epoch 21\n",
      "└ @ ConvGRU /Users/kahingleung/.julia/packages/Flux/sY3yx/src/optimise/train.jl:136\n"
     ]
    },
    {
     "name": "stdout",
     "output_type": "stream",
     "text": [
      "mse_loss(xtest, ytest) = 1.5219948f0\n"
     ]
    },
    {
     "name": "stderr",
     "output_type": "stream",
     "text": [
      "┌ Info: Epoch 22\n",
      "└ @ ConvGRU /Users/kahingleung/.julia/packages/Flux/sY3yx/src/optimise/train.jl:136\n"
     ]
    },
    {
     "name": "stdout",
     "output_type": "stream",
     "text": [
      "mse_loss(xtest, ytest) = 1.5216967f0\n"
     ]
    },
    {
     "name": "stderr",
     "output_type": "stream",
     "text": [
      "┌ Info: Epoch 23\n",
      "└ @ ConvGRU /Users/kahingleung/.julia/packages/Flux/sY3yx/src/optimise/train.jl:136\n"
     ]
    },
    {
     "name": "stdout",
     "output_type": "stream",
     "text": [
      "mse_loss(xtest, ytest) = 1.5214864f0\n"
     ]
    },
    {
     "name": "stderr",
     "output_type": "stream",
     "text": [
      "┌ Info: Epoch 24\n",
      "└ @ ConvGRU /Users/kahingleung/.julia/packages/Flux/sY3yx/src/optimise/train.jl:136\n"
     ]
    },
    {
     "name": "stdout",
     "output_type": "stream",
     "text": [
      "mse_loss(xtest, ytest) = 1.52205f0\n"
     ]
    },
    {
     "name": "stderr",
     "output_type": "stream",
     "text": [
      "┌ Info: Epoch 25\n",
      "└ @ ConvGRU /Users/kahingleung/.julia/packages/Flux/sY3yx/src/optimise/train.jl:136\n"
     ]
    },
    {
     "name": "stdout",
     "output_type": "stream",
     "text": [
      "mse_loss(xtest, ytest) = 1.5218624f0\n"
     ]
    },
    {
     "name": "stderr",
     "output_type": "stream",
     "text": [
      "┌ Info: Epoch 26\n",
      "└ @ ConvGRU /Users/kahingleung/.julia/packages/Flux/sY3yx/src/optimise/train.jl:136\n",
      "┌ Info: Epoch 27\n",
      "└ @ ConvGRU /Users/kahingleung/.julia/packages/Flux/sY3yx/src/optimise/train.jl:136\n"
     ]
    },
    {
     "name": "stdout",
     "output_type": "stream",
     "text": [
      "mse_loss(xtest, ytest) = 1.5219376f0\n",
      "mse_loss(xtest, ytest) = 1.5217577f0\n"
     ]
    },
    {
     "name": "stderr",
     "output_type": "stream",
     "text": [
      "┌ Info: Epoch 28\n",
      "└ @ ConvGRU /Users/kahingleung/.julia/packages/Flux/sY3yx/src/optimise/train.jl:136\n"
     ]
    },
    {
     "name": "stdout",
     "output_type": "stream",
     "text": [
      "mse_loss(xtest, ytest) = 1.5218484f0\n"
     ]
    },
    {
     "name": "stderr",
     "output_type": "stream",
     "text": [
      "┌ Info: Epoch 29\n",
      "└ @ ConvGRU /Users/kahingleung/.julia/packages/Flux/sY3yx/src/optimise/train.jl:136\n"
     ]
    },
    {
     "name": "stdout",
     "output_type": "stream",
     "text": [
      "mse_loss(xtest, ytest) = 1.5221399f0\n"
     ]
    },
    {
     "name": "stderr",
     "output_type": "stream",
     "text": [
      "┌ Info: Epoch 30\n",
      "└ @ ConvGRU /Users/kahingleung/.julia/packages/Flux/sY3yx/src/optimise/train.jl:136\n"
     ]
    },
    {
     "name": "stdout",
     "output_type": "stream",
     "text": [
      "(250,)\n",
      "myObjective(df, seqlen, Nh, lr, sym * \"-\" * string(i)) = 1.531311f0\n",
      "81060.001291549665014884\n",
      "mse_loss(xtest, ytest) = 1.5916793f0\n",
      "mse_loss(xtest, ytest) = 1.5764207f0\n"
     ]
    },
    {
     "name": "stderr",
     "output_type": "stream",
     "text": [
      "┌ Info: Epoch 1\n",
      "└ @ ConvGRU /Users/kahingleung/.julia/packages/Flux/sY3yx/src/optimise/train.jl:136\n"
     ]
    },
    {
     "name": "stdout",
     "output_type": "stream",
     "text": [
      "mse_loss(xtest, ytest) = 1.5502721f0\n"
     ]
    },
    {
     "name": "stderr",
     "output_type": "stream",
     "text": [
      "┌ Info: Epoch 2\n",
      "└ @ ConvGRU /Users/kahingleung/.julia/packages/Flux/sY3yx/src/optimise/train.jl:136\n"
     ]
    },
    {
     "name": "stdout",
     "output_type": "stream",
     "text": [
      "mse_loss(xtest, ytest) = 1.5370742f0\n"
     ]
    },
    {
     "name": "stderr",
     "output_type": "stream",
     "text": [
      "┌ Info: Epoch 3\n",
      "└ @ ConvGRU /Users/kahingleung/.julia/packages/Flux/sY3yx/src/optimise/train.jl:136\n"
     ]
    },
    {
     "name": "stdout",
     "output_type": "stream",
     "text": [
      "mse_loss(xtest, ytest) = 1.530811f0\n"
     ]
    },
    {
     "name": "stderr",
     "output_type": "stream",
     "text": [
      "┌ Info: Epoch 4\n",
      "└ @ ConvGRU /Users/kahingleung/.julia/packages/Flux/sY3yx/src/optimise/train.jl:136\n"
     ]
    },
    {
     "name": "stdout",
     "output_type": "stream",
     "text": [
      "mse_loss(xtest, ytest) = 1.526972f0\n"
     ]
    },
    {
     "name": "stderr",
     "output_type": "stream",
     "text": [
      "┌ Info: Epoch 5\n",
      "└ @ ConvGRU /Users/kahingleung/.julia/packages/Flux/sY3yx/src/optimise/train.jl:136\n"
     ]
    },
    {
     "name": "stdout",
     "output_type": "stream",
     "text": [
      "mse_loss(xtest, ytest) = 1.5240288f0\n"
     ]
    },
    {
     "name": "stderr",
     "output_type": "stream",
     "text": [
      "┌ Info: Epoch 6\n",
      "└ @ ConvGRU /Users/kahingleung/.julia/packages/Flux/sY3yx/src/optimise/train.jl:136\n"
     ]
    },
    {
     "name": "stdout",
     "output_type": "stream",
     "text": [
      "mse_loss(xtest, ytest) = 1.5229259f0\n"
     ]
    },
    {
     "name": "stderr",
     "output_type": "stream",
     "text": [
      "┌ Info: Epoch 7\n",
      "└ @ ConvGRU /Users/kahingleung/.julia/packages/Flux/sY3yx/src/optimise/train.jl:136\n"
     ]
    },
    {
     "name": "stdout",
     "output_type": "stream",
     "text": [
      "mse_loss(xtest, ytest) = 1.5227586f0\n"
     ]
    },
    {
     "name": "stderr",
     "output_type": "stream",
     "text": [
      "┌ Info: Epoch 8\n",
      "└ @ ConvGRU /Users/kahingleung/.julia/packages/Flux/sY3yx/src/optimise/train.jl:136\n"
     ]
    },
    {
     "name": "stdout",
     "output_type": "stream",
     "text": [
      "mse_loss(xtest, ytest) = 1.5220339f0\n"
     ]
    },
    {
     "name": "stderr",
     "output_type": "stream",
     "text": [
      "┌ Info: Epoch 9\n",
      "└ @ ConvGRU /Users/kahingleung/.julia/packages/Flux/sY3yx/src/optimise/train.jl:136\n"
     ]
    },
    {
     "name": "stdout",
     "output_type": "stream",
     "text": [
      "mse_loss(xtest, ytest) = 1.5221862f0\n"
     ]
    },
    {
     "name": "stderr",
     "output_type": "stream",
     "text": [
      "┌ Info: Epoch 10\n",
      "└ @ ConvGRU /Users/kahingleung/.julia/packages/Flux/sY3yx/src/optimise/train.jl:136\n"
     ]
    },
    {
     "name": "stdout",
     "output_type": "stream",
     "text": [
      "mse_loss(xtest, ytest) = 1.5215509f0\n"
     ]
    },
    {
     "name": "stderr",
     "output_type": "stream",
     "text": [
      "┌ Info: Epoch 11\n",
      "└ @ ConvGRU /Users/kahingleung/.julia/packages/Flux/sY3yx/src/optimise/train.jl:136\n"
     ]
    },
    {
     "name": "stdout",
     "output_type": "stream",
     "text": [
      "mse_loss(xtest, ytest) = 1.5203032f0\n"
     ]
    },
    {
     "name": "stderr",
     "output_type": "stream",
     "text": [
      "┌ Info: Epoch 12\n",
      "└ @ ConvGRU /Users/kahingleung/.julia/packages/Flux/sY3yx/src/optimise/train.jl:136\n"
     ]
    },
    {
     "name": "stdout",
     "output_type": "stream",
     "text": [
      "mse_loss(xtest, ytest) = 1.5209903f0\n"
     ]
    },
    {
     "name": "stderr",
     "output_type": "stream",
     "text": [
      "┌ Info: Epoch 13\n",
      "└ @ ConvGRU /Users/kahingleung/.julia/packages/Flux/sY3yx/src/optimise/train.jl:136\n"
     ]
    },
    {
     "name": "stdout",
     "output_type": "stream",
     "text": [
      "mse_loss(xtest, ytest) = 1.5212333f0\n"
     ]
    },
    {
     "name": "stderr",
     "output_type": "stream",
     "text": [
      "┌ Info: Epoch 14\n",
      "└ @ ConvGRU /Users/kahingleung/.julia/packages/Flux/sY3yx/src/optimise/train.jl:136\n"
     ]
    },
    {
     "name": "stdout",
     "output_type": "stream",
     "text": [
      "mse_loss(xtest, ytest) = 1.5208982f0\n"
     ]
    },
    {
     "name": "stderr",
     "output_type": "stream",
     "text": [
      "┌ Info: Epoch 15\n",
      "└ @ ConvGRU /Users/kahingleung/.julia/packages/Flux/sY3yx/src/optimise/train.jl:136\n",
      "┌ Info: Epoch 16\n",
      "└ @ ConvGRU /Users/kahingleung/.julia/packages/Flux/sY3yx/src/optimise/train.jl:136\n"
     ]
    },
    {
     "name": "stdout",
     "output_type": "stream",
     "text": [
      "mse_loss(xtest, ytest) = 1.521764f0\n"
     ]
    },
    {
     "name": "stderr",
     "output_type": "stream",
     "text": [
      "┌ Info: Epoch 17\n",
      "└ @ ConvGRU /Users/kahingleung/.julia/packages/Flux/sY3yx/src/optimise/train.jl:136\n"
     ]
    },
    {
     "name": "stdout",
     "output_type": "stream",
     "text": [
      "mse_loss(xtest, ytest) = 1.5228873f0\n"
     ]
    },
    {
     "name": "stderr",
     "output_type": "stream",
     "text": [
      "┌ Info: Epoch 18\n",
      "└ @ ConvGRU /Users/kahingleung/.julia/packages/Flux/sY3yx/src/optimise/train.jl:136\n"
     ]
    },
    {
     "name": "stdout",
     "output_type": "stream",
     "text": [
      "mse_loss(xtest, ytest) = 1.5210717f0\n"
     ]
    },
    {
     "name": "stderr",
     "output_type": "stream",
     "text": [
      "┌ Info: Epoch 19\n",
      "└ @ ConvGRU /Users/kahingleung/.julia/packages/Flux/sY3yx/src/optimise/train.jl:136\n"
     ]
    },
    {
     "name": "stdout",
     "output_type": "stream",
     "text": [
      "mse_loss(xtest, ytest) = 1.5203326f0\n"
     ]
    },
    {
     "name": "stderr",
     "output_type": "stream",
     "text": [
      "┌ Info: Epoch 20\n",
      "└ @ ConvGRU /Users/kahingleung/.julia/packages/Flux/sY3yx/src/optimise/train.jl:136\n"
     ]
    },
    {
     "name": "stdout",
     "output_type": "stream",
     "text": [
      "mse_loss(xtest, ytest) = 1.5210092f0\n",
      "mse_loss(xtest, ytest) = 1.5205749f0\n"
     ]
    },
    {
     "name": "stderr",
     "output_type": "stream",
     "text": [
      "┌ Info: Epoch 21\n",
      "└ @ ConvGRU /Users/kahingleung/.julia/packages/Flux/sY3yx/src/optimise/train.jl:136\n"
     ]
    },
    {
     "name": "stdout",
     "output_type": "stream",
     "text": [
      "mse_loss(xtest, ytest) = 1.5208782f0\n"
     ]
    },
    {
     "name": "stderr",
     "output_type": "stream",
     "text": [
      "┌ Info: Epoch 22\n",
      "└ @ ConvGRU /Users/kahingleung/.julia/packages/Flux/sY3yx/src/optimise/train.jl:136\n"
     ]
    },
    {
     "name": "stdout",
     "output_type": "stream",
     "text": [
      "mse_loss(xtest, ytest) = 1.5217166f0\n"
     ]
    },
    {
     "name": "stderr",
     "output_type": "stream",
     "text": [
      "┌ Info: Epoch 23\n",
      "└ @ ConvGRU /Users/kahingleung/.julia/packages/Flux/sY3yx/src/optimise/train.jl:136\n"
     ]
    },
    {
     "name": "stdout",
     "output_type": "stream",
     "text": [
      "mse_loss(xtest, ytest) = 1.5262716f0\n"
     ]
    },
    {
     "name": "stderr",
     "output_type": "stream",
     "text": [
      "┌ Info: Epoch 24\n",
      "└ @ ConvGRU /Users/kahingleung/.julia/packages/Flux/sY3yx/src/optimise/train.jl:136\n"
     ]
    },
    {
     "name": "stdout",
     "output_type": "stream",
     "text": [
      "mse_loss(xtest, ytest) = 1.5203705f0\n"
     ]
    },
    {
     "name": "stderr",
     "output_type": "stream",
     "text": [
      "┌ Info: Epoch 25\n",
      "└ @ ConvGRU /Users/kahingleung/.julia/packages/Flux/sY3yx/src/optimise/train.jl:136\n"
     ]
    },
    {
     "name": "stdout",
     "output_type": "stream",
     "text": [
      "mse_loss(xtest, ytest) = 1.5241021f0\n"
     ]
    },
    {
     "name": "stderr",
     "output_type": "stream",
     "text": [
      "┌ Info: Epoch 26\n",
      "└ @ ConvGRU /Users/kahingleung/.julia/packages/Flux/sY3yx/src/optimise/train.jl:136\n"
     ]
    },
    {
     "name": "stdout",
     "output_type": "stream",
     "text": [
      "mse_loss(xtest, ytest) = 1.5253938f0\n"
     ]
    },
    {
     "name": "stderr",
     "output_type": "stream",
     "text": [
      "┌ Info: Epoch 27\n",
      "└ @ ConvGRU /Users/kahingleung/.julia/packages/Flux/sY3yx/src/optimise/train.jl:136\n"
     ]
    },
    {
     "name": "stdout",
     "output_type": "stream",
     "text": [
      "mse_loss(xtest, ytest) = 1.5286043f0\n"
     ]
    },
    {
     "name": "stderr",
     "output_type": "stream",
     "text": [
      "┌ Info: Epoch 28\n",
      "└ @ ConvGRU /Users/kahingleung/.julia/packages/Flux/sY3yx/src/optimise/train.jl:136\n"
     ]
    },
    {
     "name": "stdout",
     "output_type": "stream",
     "text": [
      "mse_loss(xtest, ytest) = 1.5272747f0\n"
     ]
    },
    {
     "name": "stderr",
     "output_type": "stream",
     "text": [
      "┌ Info: Epoch 29\n",
      "└ @ ConvGRU /Users/kahingleung/.julia/packages/Flux/sY3yx/src/optimise/train.jl:136\n"
     ]
    },
    {
     "name": "stdout",
     "output_type": "stream",
     "text": [
      "mse_loss(xtest, ytest) = 1.5260235f0\n"
     ]
    },
    {
     "name": "stderr",
     "output_type": "stream",
     "text": [
      "┌ Info: Epoch 30\n",
      "└ @ ConvGRU /Users/kahingleung/.julia/packages/Flux/sY3yx/src/optimise/train.jl:136\n"
     ]
    },
    {
     "name": "stdout",
     "output_type": "stream",
     "text": [
      "(250,)\n",
      "myObjective(df, seqlen, Nh, lr, sym * \"-\" * string(i)) = 1.5395855f0\n",
      "91020.001\n",
      "mse_loss(xtest, ytest) = 1.7022825f0\n",
      "mse_loss(xtest, ytest) = 1.6918266f0\n"
     ]
    },
    {
     "name": "stderr",
     "output_type": "stream",
     "text": [
      "┌ Info: Epoch 1\n",
      "└ @ ConvGRU /Users/kahingleung/.julia/packages/Flux/sY3yx/src/optimise/train.jl:136\n",
      "┌ Info: Epoch 2\n",
      "└ @ ConvGRU /Users/kahingleung/.julia/packages/Flux/sY3yx/src/optimise/train.jl:136\n"
     ]
    },
    {
     "name": "stdout",
     "output_type": "stream",
     "text": [
      "mse_loss(xtest, ytest) = 1.6373721f0\n",
      "mse_loss(xtest, ytest) = 1.5992477f0\n"
     ]
    },
    {
     "name": "stderr",
     "output_type": "stream",
     "text": [
      "┌ Info: Epoch 3\n",
      "└ @ ConvGRU /Users/kahingleung/.julia/packages/Flux/sY3yx/src/optimise/train.jl:136\n"
     ]
    },
    {
     "name": "stdout",
     "output_type": "stream",
     "text": [
      "mse_loss(xtest, ytest) = 1.5714381f0\n"
     ]
    },
    {
     "name": "stderr",
     "output_type": "stream",
     "text": [
      "┌ Info: Epoch 4\n",
      "└ @ ConvGRU /Users/kahingleung/.julia/packages/Flux/sY3yx/src/optimise/train.jl:136\n"
     ]
    },
    {
     "name": "stdout",
     "output_type": "stream",
     "text": [
      "mse_loss(xtest, ytest) = 1.5518063f0\n"
     ]
    },
    {
     "name": "stderr",
     "output_type": "stream",
     "text": [
      "┌ Info: Epoch 5\n",
      "└ @ ConvGRU /Users/kahingleung/.julia/packages/Flux/sY3yx/src/optimise/train.jl:136\n"
     ]
    },
    {
     "name": "stdout",
     "output_type": "stream",
     "text": [
      "mse_loss(xtest, ytest) = 1.538487f0\n"
     ]
    },
    {
     "name": "stderr",
     "output_type": "stream",
     "text": [
      "┌ Info: Epoch 6\n",
      "└ @ ConvGRU /Users/kahingleung/.julia/packages/Flux/sY3yx/src/optimise/train.jl:136\n"
     ]
    },
    {
     "name": "stdout",
     "output_type": "stream",
     "text": [
      "mse_loss(xtest, ytest) = 1.5273784f0\n"
     ]
    },
    {
     "name": "stderr",
     "output_type": "stream",
     "text": [
      "┌ Info: Epoch 7\n",
      "└ @ ConvGRU /Users/kahingleung/.julia/packages/Flux/sY3yx/src/optimise/train.jl:136\n"
     ]
    },
    {
     "name": "stdout",
     "output_type": "stream",
     "text": [
      "mse_loss(xtest, ytest) = 1.5198995f0\n"
     ]
    },
    {
     "name": "stderr",
     "output_type": "stream",
     "text": [
      "┌ Info: Epoch 8\n",
      "└ @ ConvGRU /Users/kahingleung/.julia/packages/Flux/sY3yx/src/optimise/train.jl:136\n"
     ]
    },
    {
     "name": "stdout",
     "output_type": "stream",
     "text": [
      "mse_loss(xtest, ytest) = 1.5163912f0\n"
     ]
    },
    {
     "name": "stderr",
     "output_type": "stream",
     "text": [
      "┌ Info: Epoch 9\n",
      "└ @ ConvGRU /Users/kahingleung/.julia/packages/Flux/sY3yx/src/optimise/train.jl:136\n"
     ]
    },
    {
     "name": "stdout",
     "output_type": "stream",
     "text": [
      "mse_loss(xtest, ytest) = 1.51478f0\n"
     ]
    },
    {
     "name": "stderr",
     "output_type": "stream",
     "text": [
      "┌ Info: Epoch 10\n",
      "└ @ ConvGRU /Users/kahingleung/.julia/packages/Flux/sY3yx/src/optimise/train.jl:136\n"
     ]
    },
    {
     "name": "stdout",
     "output_type": "stream",
     "text": [
      "mse_loss(xtest, ytest) = 1.5190847f0\n"
     ]
    },
    {
     "name": "stderr",
     "output_type": "stream",
     "text": [
      "┌ Info: Epoch 11\n",
      "└ @ ConvGRU /Users/kahingleung/.julia/packages/Flux/sY3yx/src/optimise/train.jl:136\n"
     ]
    },
    {
     "name": "stdout",
     "output_type": "stream",
     "text": [
      "mse_loss(xtest, ytest) = 1.5135901f0\n"
     ]
    },
    {
     "name": "stderr",
     "output_type": "stream",
     "text": [
      "┌ Info: Epoch 12\n",
      "└ @ ConvGRU /Users/kahingleung/.julia/packages/Flux/sY3yx/src/optimise/train.jl:136\n",
      "┌ Info: Epoch 13\n",
      "└ @ ConvGRU /Users/kahingleung/.julia/packages/Flux/sY3yx/src/optimise/train.jl:136\n"
     ]
    },
    {
     "name": "stdout",
     "output_type": "stream",
     "text": [
      "mse_loss(xtest, ytest) = 1.5088655f0\n",
      "mse_loss(xtest, ytest) = 1.5167013f0\n"
     ]
    },
    {
     "name": "stderr",
     "output_type": "stream",
     "text": [
      "┌ Info: Epoch 14\n",
      "└ @ ConvGRU /Users/kahingleung/.julia/packages/Flux/sY3yx/src/optimise/train.jl:136\n"
     ]
    },
    {
     "name": "stdout",
     "output_type": "stream",
     "text": [
      "mse_loss(xtest, ytest) = 1.5125188f0\n"
     ]
    },
    {
     "name": "stderr",
     "output_type": "stream",
     "text": [
      "┌ Info: Epoch 15\n",
      "└ @ ConvGRU /Users/kahingleung/.julia/packages/Flux/sY3yx/src/optimise/train.jl:136\n"
     ]
    },
    {
     "name": "stdout",
     "output_type": "stream",
     "text": [
      "mse_loss(xtest, ytest) = 1.5200303f0\n"
     ]
    },
    {
     "name": "stderr",
     "output_type": "stream",
     "text": [
      "┌ Info: Epoch 16\n",
      "└ @ ConvGRU /Users/kahingleung/.julia/packages/Flux/sY3yx/src/optimise/train.jl:136\n"
     ]
    },
    {
     "name": "stdout",
     "output_type": "stream",
     "text": [
      "mse_loss(xtest, ytest) = 1.5232648f0\n"
     ]
    },
    {
     "name": "stderr",
     "output_type": "stream",
     "text": [
      "┌ Info: Epoch 17\n",
      "└ @ ConvGRU /Users/kahingleung/.julia/packages/Flux/sY3yx/src/optimise/train.jl:136\n"
     ]
    },
    {
     "name": "stdout",
     "output_type": "stream",
     "text": [
      "mse_loss(xtest, ytest) = 1.5242679f0\n"
     ]
    },
    {
     "name": "stderr",
     "output_type": "stream",
     "text": [
      "┌ Info: Epoch 18\n",
      "└ @ ConvGRU /Users/kahingleung/.julia/packages/Flux/sY3yx/src/optimise/train.jl:136\n"
     ]
    },
    {
     "name": "stdout",
     "output_type": "stream",
     "text": [
      "mse_loss(xtest, ytest) = 1.5171244f0\n"
     ]
    },
    {
     "name": "stderr",
     "output_type": "stream",
     "text": [
      "┌ Info: Epoch 19\n",
      "└ @ ConvGRU /Users/kahingleung/.julia/packages/Flux/sY3yx/src/optimise/train.jl:136\n",
      "┌ Info: Epoch 20\n",
      "└ @ ConvGRU /Users/kahingleung/.julia/packages/Flux/sY3yx/src/optimise/train.jl:136\n"
     ]
    },
    {
     "name": "stdout",
     "output_type": "stream",
     "text": [
      "mse_loss(xtest, ytest) = 1.5136393f0\n",
      "mse_loss(xtest, ytest) = 1.5177816f0\n"
     ]
    },
    {
     "name": "stderr",
     "output_type": "stream",
     "text": [
      "┌ Info: Epoch 21\n",
      "└ @ ConvGRU /Users/kahingleung/.julia/packages/Flux/sY3yx/src/optimise/train.jl:136\n",
      "┌ Info: Epoch 22\n",
      "└ @ ConvGRU /Users/kahingleung/.julia/packages/Flux/sY3yx/src/optimise/train.jl:136\n"
     ]
    },
    {
     "name": "stdout",
     "output_type": "stream",
     "text": [
      "mse_loss(xtest, ytest) = 1.5124927f0\n",
      "mse_loss(xtest, ytest) = 1.5197232f0\n"
     ]
    },
    {
     "name": "stderr",
     "output_type": "stream",
     "text": [
      "┌ Info: Epoch 23\n",
      "└ @ ConvGRU /Users/kahingleung/.julia/packages/Flux/sY3yx/src/optimise/train.jl:136\n"
     ]
    },
    {
     "name": "stdout",
     "output_type": "stream",
     "text": [
      "mse_loss(xtest, ytest) = 1.5193597f0\n"
     ]
    },
    {
     "name": "stderr",
     "output_type": "stream",
     "text": [
      "┌ Info: Epoch 24\n",
      "└ @ ConvGRU /Users/kahingleung/.julia/packages/Flux/sY3yx/src/optimise/train.jl:136\n"
     ]
    },
    {
     "name": "stdout",
     "output_type": "stream",
     "text": [
      "mse_loss(xtest, ytest) = 1.518781f0\n"
     ]
    },
    {
     "name": "stderr",
     "output_type": "stream",
     "text": [
      "┌ Info: Epoch 25\n",
      "└ @ ConvGRU /Users/kahingleung/.julia/packages/Flux/sY3yx/src/optimise/train.jl:136\n"
     ]
    },
    {
     "name": "stdout",
     "output_type": "stream",
     "text": [
      "mse_loss(xtest, ytest) = 1.5179532f0\n"
     ]
    },
    {
     "name": "stderr",
     "output_type": "stream",
     "text": [
      "┌ Info: Epoch 26\n",
      "└ @ ConvGRU /Users/kahingleung/.julia/packages/Flux/sY3yx/src/optimise/train.jl:136\n",
      "┌ Info: Epoch 27\n",
      "└ @ ConvGRU /Users/kahingleung/.julia/packages/Flux/sY3yx/src/optimise/train.jl:136\n"
     ]
    },
    {
     "name": "stdout",
     "output_type": "stream",
     "text": [
      "mse_loss(xtest, ytest) = 1.5195003f0\n",
      "mse_loss(xtest, ytest) = 1.5064918f0\n"
     ]
    },
    {
     "name": "stderr",
     "output_type": "stream",
     "text": [
      "┌ Info: Epoch 28\n",
      "└ @ ConvGRU /Users/kahingleung/.julia/packages/Flux/sY3yx/src/optimise/train.jl:136\n"
     ]
    },
    {
     "name": "stdout",
     "output_type": "stream",
     "text": [
      "mse_loss(xtest, ytest) = 1.5043882f0\n"
     ]
    },
    {
     "name": "stderr",
     "output_type": "stream",
     "text": [
      "┌ Info: Epoch 29\n",
      "└ @ ConvGRU /Users/kahingleung/.julia/packages/Flux/sY3yx/src/optimise/train.jl:136\n"
     ]
    },
    {
     "name": "stdout",
     "output_type": "stream",
     "text": [
      "mse_loss(xtest, ytest) = 1.5085967f0\n"
     ]
    },
    {
     "name": "stderr",
     "output_type": "stream",
     "text": [
      "┌ Info: Epoch 30\n",
      "└ @ ConvGRU /Users/kahingleung/.julia/packages/Flux/sY3yx/src/optimise/train.jl:136\n"
     ]
    },
    {
     "name": "stdout",
     "output_type": "stream",
     "text": [
      "(250,)\n",
      "myObjective(df, seqlen, Nh, lr, sym * \"-\" * string(i)) = 1.5064203f0\n",
      "102020.0027825594022071257\n",
      "mse_loss(xtest, ytest) = 1.8563824f0\n",
      "mse_loss(xtest, ytest) = 1.8237057f0\n"
     ]
    },
    {
     "name": "stderr",
     "output_type": "stream",
     "text": [
      "┌ Info: Epoch 1\n",
      "└ @ ConvGRU /Users/kahingleung/.julia/packages/Flux/sY3yx/src/optimise/train.jl:136\n"
     ]
    },
    {
     "name": "stdout",
     "output_type": "stream",
     "text": [
      "mse_loss(xtest, ytest) = 1.6759263f0\n"
     ]
    },
    {
     "name": "stderr",
     "output_type": "stream",
     "text": [
      "┌ Info: Epoch 2\n",
      "└ @ ConvGRU /Users/kahingleung/.julia/packages/Flux/sY3yx/src/optimise/train.jl:136\n"
     ]
    },
    {
     "name": "stdout",
     "output_type": "stream",
     "text": [
      "mse_loss(xtest, ytest) = 1.6251173f0\n"
     ]
    },
    {
     "name": "stderr",
     "output_type": "stream",
     "text": [
      "┌ Info: Epoch 3\n",
      "└ @ ConvGRU /Users/kahingleung/.julia/packages/Flux/sY3yx/src/optimise/train.jl:136\n"
     ]
    },
    {
     "name": "stdout",
     "output_type": "stream",
     "text": [
      "mse_loss(xtest, ytest) = 1.5957997f0\n"
     ]
    },
    {
     "name": "stderr",
     "output_type": "stream",
     "text": [
      "┌ Info: Epoch 4\n",
      "└ @ ConvGRU /Users/kahingleung/.julia/packages/Flux/sY3yx/src/optimise/train.jl:136\n"
     ]
    },
    {
     "name": "stdout",
     "output_type": "stream",
     "text": [
      "mse_loss(xtest, ytest) = 1.5799855f0\n"
     ]
    },
    {
     "name": "stderr",
     "output_type": "stream",
     "text": [
      "┌ Info: Epoch 5\n",
      "└ @ ConvGRU /Users/kahingleung/.julia/packages/Flux/sY3yx/src/optimise/train.jl:136\n"
     ]
    },
    {
     "name": "stdout",
     "output_type": "stream",
     "text": [
      "mse_loss(xtest, ytest) = 1.5749826f0\n"
     ]
    },
    {
     "name": "stderr",
     "output_type": "stream",
     "text": [
      "┌ Info: Epoch 6\n",
      "└ @ ConvGRU /Users/kahingleung/.julia/packages/Flux/sY3yx/src/optimise/train.jl:136\n",
      "┌ Info: Epoch 7\n",
      "└ @ ConvGRU /Users/kahingleung/.julia/packages/Flux/sY3yx/src/optimise/train.jl:136\n"
     ]
    },
    {
     "name": "stdout",
     "output_type": "stream",
     "text": [
      "mse_loss(xtest, ytest) = 1.5663676f0\n",
      "mse_loss(xtest, ytest) = 1.5565753f0\n"
     ]
    },
    {
     "name": "stderr",
     "output_type": "stream",
     "text": [
      "┌ Info: Epoch 8\n",
      "└ @ ConvGRU /Users/kahingleung/.julia/packages/Flux/sY3yx/src/optimise/train.jl:136\n"
     ]
    },
    {
     "name": "stdout",
     "output_type": "stream",
     "text": [
      "mse_loss(xtest, ytest) = 1.5505615f0\n"
     ]
    },
    {
     "name": "stderr",
     "output_type": "stream",
     "text": [
      "┌ Info: Epoch 9\n",
      "└ @ ConvGRU /Users/kahingleung/.julia/packages/Flux/sY3yx/src/optimise/train.jl:136\n"
     ]
    },
    {
     "name": "stdout",
     "output_type": "stream",
     "text": [
      "mse_loss(xtest, ytest) = 1.5485876f0\n"
     ]
    },
    {
     "name": "stderr",
     "output_type": "stream",
     "text": [
      "┌ Info: Epoch 10\n",
      "└ @ ConvGRU /Users/kahingleung/.julia/packages/Flux/sY3yx/src/optimise/train.jl:136\n"
     ]
    },
    {
     "name": "stdout",
     "output_type": "stream",
     "text": [
      "mse_loss(xtest, ytest) = 1.5464869f0\n"
     ]
    },
    {
     "name": "stderr",
     "output_type": "stream",
     "text": [
      "┌ Info: Epoch 11\n",
      "└ @ ConvGRU /Users/kahingleung/.julia/packages/Flux/sY3yx/src/optimise/train.jl:136\n"
     ]
    },
    {
     "name": "stdout",
     "output_type": "stream",
     "text": [
      "mse_loss(xtest, ytest) = 1.549391f0\n"
     ]
    },
    {
     "name": "stderr",
     "output_type": "stream",
     "text": [
      "┌ Info: Epoch 12\n",
      "└ @ ConvGRU /Users/kahingleung/.julia/packages/Flux/sY3yx/src/optimise/train.jl:136\n"
     ]
    },
    {
     "name": "stdout",
     "output_type": "stream",
     "text": [
      "mse_loss(xtest, ytest) = 1.5527675f0\n"
     ]
    },
    {
     "name": "stderr",
     "output_type": "stream",
     "text": [
      "┌ Info: Epoch 13\n",
      "└ @ ConvGRU /Users/kahingleung/.julia/packages/Flux/sY3yx/src/optimise/train.jl:136\n"
     ]
    },
    {
     "name": "stdout",
     "output_type": "stream",
     "text": [
      "mse_loss(xtest, ytest) = 1.5555491f0\n"
     ]
    },
    {
     "name": "stderr",
     "output_type": "stream",
     "text": [
      "┌ Info: Epoch 14\n",
      "└ @ ConvGRU /Users/kahingleung/.julia/packages/Flux/sY3yx/src/optimise/train.jl:136\n"
     ]
    },
    {
     "name": "stdout",
     "output_type": "stream",
     "text": [
      "mse_loss(xtest, ytest) = 1.5609602f0\n"
     ]
    },
    {
     "name": "stderr",
     "output_type": "stream",
     "text": [
      "┌ Info: Epoch 15\n",
      "└ @ ConvGRU /Users/kahingleung/.julia/packages/Flux/sY3yx/src/optimise/train.jl:136\n"
     ]
    },
    {
     "name": "stdout",
     "output_type": "stream",
     "text": [
      "mse_loss(xtest, ytest) = 1.5626744f0\n"
     ]
    },
    {
     "name": "stderr",
     "output_type": "stream",
     "text": [
      "┌ Info: Epoch 16\n",
      "└ @ ConvGRU /Users/kahingleung/.julia/packages/Flux/sY3yx/src/optimise/train.jl:136\n"
     ]
    },
    {
     "name": "stdout",
     "output_type": "stream",
     "text": [
      "mse_loss(xtest, ytest) = 1.5666404f0\n"
     ]
    },
    {
     "name": "stderr",
     "output_type": "stream",
     "text": [
      "┌ Info: Epoch 17\n",
      "└ @ ConvGRU /Users/kahingleung/.julia/packages/Flux/sY3yx/src/optimise/train.jl:136\n",
      "┌ Info: Epoch 18\n",
      "└ @ ConvGRU /Users/kahingleung/.julia/packages/Flux/sY3yx/src/optimise/train.jl:136\n"
     ]
    },
    {
     "name": "stdout",
     "output_type": "stream",
     "text": [
      "mse_loss(xtest, ytest) = 1.5635763f0\n",
      "mse_loss(xtest, ytest) = 1.5661922f0\n"
     ]
    },
    {
     "name": "stderr",
     "output_type": "stream",
     "text": [
      "┌ Info: Epoch 19\n",
      "└ @ ConvGRU /Users/kahingleung/.julia/packages/Flux/sY3yx/src/optimise/train.jl:136\n"
     ]
    },
    {
     "name": "stdout",
     "output_type": "stream",
     "text": [
      "mse_loss(xtest, ytest) = 1.5703247f0\n"
     ]
    },
    {
     "name": "stderr",
     "output_type": "stream",
     "text": [
      "┌ Info: Epoch 20\n",
      "└ @ ConvGRU /Users/kahingleung/.julia/packages/Flux/sY3yx/src/optimise/train.jl:136\n"
     ]
    },
    {
     "name": "stdout",
     "output_type": "stream",
     "text": [
      "mse_loss(xtest, ytest) = 1.5721353f0\n"
     ]
    },
    {
     "name": "stderr",
     "output_type": "stream",
     "text": [
      "┌ Info: Epoch 21\n",
      "└ @ ConvGRU /Users/kahingleung/.julia/packages/Flux/sY3yx/src/optimise/train.jl:136\n"
     ]
    },
    {
     "name": "stdout",
     "output_type": "stream",
     "text": [
      "mse_loss(xtest, ytest) = 1.5751903f0\n"
     ]
    },
    {
     "name": "stderr",
     "output_type": "stream",
     "text": [
      "┌ Info: Epoch 22\n",
      "└ @ ConvGRU /Users/kahingleung/.julia/packages/Flux/sY3yx/src/optimise/train.jl:136\n"
     ]
    },
    {
     "name": "stdout",
     "output_type": "stream",
     "text": [
      "mse_loss(xtest, ytest) = 1.5739561f0\n"
     ]
    },
    {
     "name": "stderr",
     "output_type": "stream",
     "text": [
      "┌ Info: Epoch 23\n",
      "└ @ ConvGRU /Users/kahingleung/.julia/packages/Flux/sY3yx/src/optimise/train.jl:136\n"
     ]
    },
    {
     "name": "stdout",
     "output_type": "stream",
     "text": [
      "mse_loss(xtest, ytest) = 1.5713233f0\n"
     ]
    },
    {
     "name": "stderr",
     "output_type": "stream",
     "text": [
      "┌ Info: Epoch 24\n",
      "└ @ ConvGRU /Users/kahingleung/.julia/packages/Flux/sY3yx/src/optimise/train.jl:136\n"
     ]
    },
    {
     "name": "stdout",
     "output_type": "stream",
     "text": [
      "mse_loss(xtest, ytest) = 1.5724815f0\n"
     ]
    },
    {
     "name": "stderr",
     "output_type": "stream",
     "text": [
      "┌ Info: Epoch 25\n",
      "└ @ ConvGRU /Users/kahingleung/.julia/packages/Flux/sY3yx/src/optimise/train.jl:136\n"
     ]
    },
    {
     "name": "stdout",
     "output_type": "stream",
     "text": [
      "mse_loss(xtest, ytest) = 1.5758816f0\n"
     ]
    },
    {
     "name": "stderr",
     "output_type": "stream",
     "text": [
      "┌ Info: Epoch 26\n",
      "└ @ ConvGRU /Users/kahingleung/.julia/packages/Flux/sY3yx/src/optimise/train.jl:136\n"
     ]
    },
    {
     "name": "stdout",
     "output_type": "stream",
     "text": [
      "mse_loss(xtest, ytest) = 1.5762073f0\n"
     ]
    },
    {
     "name": "stderr",
     "output_type": "stream",
     "text": [
      "┌ Info: Epoch 27\n",
      "└ @ ConvGRU /Users/kahingleung/.julia/packages/Flux/sY3yx/src/optimise/train.jl:136\n"
     ]
    },
    {
     "name": "stdout",
     "output_type": "stream",
     "text": [
      "mse_loss(xtest, ytest) = 1.5727987f0\n"
     ]
    },
    {
     "name": "stderr",
     "output_type": "stream",
     "text": [
      "┌ Info: Epoch 28\n",
      "└ @ ConvGRU /Users/kahingleung/.julia/packages/Flux/sY3yx/src/optimise/train.jl:136\n"
     ]
    },
    {
     "name": "stdout",
     "output_type": "stream",
     "text": [
      "mse_loss(xtest, ytest) = 1.5790629f0\n"
     ]
    },
    {
     "name": "stderr",
     "output_type": "stream",
     "text": [
      "┌ Info: Epoch 29\n",
      "└ @ ConvGRU /Users/kahingleung/.julia/packages/Flux/sY3yx/src/optimise/train.jl:136\n"
     ]
    },
    {
     "name": "stdout",
     "output_type": "stream",
     "text": [
      "mse_loss(xtest, ytest) = 1.5798287f0\n"
     ]
    },
    {
     "name": "stderr",
     "output_type": "stream",
     "text": [
      "┌ Info: Epoch 30\n",
      "└ @ ConvGRU /Users/kahingleung/.julia/packages/Flux/sY3yx/src/optimise/train.jl:136\n"
     ]
    },
    {
     "name": "stdout",
     "output_type": "stream",
     "text": [
      "(250,)\n",
      "myObjective(df, seqlen, Nh, lr, sym * \"-\" * string(i)) = 1.5949541f0\n",
      "112540.003593813663804626\n",
      "mse_loss(xtest, ytest) = 1.4691907f0\n",
      "mse_loss(xtest, ytest) = 1.4701704f0\n"
     ]
    },
    {
     "name": "stderr",
     "output_type": "stream",
     "text": [
      "┌ Info: Epoch 1\n",
      "└ @ ConvGRU /Users/kahingleung/.julia/packages/Flux/sY3yx/src/optimise/train.jl:136\n"
     ]
    },
    {
     "name": "stdout",
     "output_type": "stream",
     "text": [
      "mse_loss(xtest, ytest) = 1.4961365f0\n"
     ]
    },
    {
     "name": "stderr",
     "output_type": "stream",
     "text": [
      "┌ Info: Epoch 2\n",
      "└ @ ConvGRU /Users/kahingleung/.julia/packages/Flux/sY3yx/src/optimise/train.jl:136\n"
     ]
    },
    {
     "name": "stdout",
     "output_type": "stream",
     "text": [
      "mse_loss(xtest, ytest) = 1.5234791f0\n"
     ]
    },
    {
     "name": "stderr",
     "output_type": "stream",
     "text": [
      "┌ Info: Epoch 3\n",
      "└ @ ConvGRU /Users/kahingleung/.julia/packages/Flux/sY3yx/src/optimise/train.jl:136\n"
     ]
    },
    {
     "name": "stdout",
     "output_type": "stream",
     "text": [
      "mse_loss(xtest, ytest) = 1.5325643f0\n"
     ]
    },
    {
     "name": "stderr",
     "output_type": "stream",
     "text": [
      "┌ Info: Epoch 4\n",
      "└ @ ConvGRU /Users/kahingleung/.julia/packages/Flux/sY3yx/src/optimise/train.jl:136\n"
     ]
    },
    {
     "name": "stdout",
     "output_type": "stream",
     "text": [
      "mse_loss(xtest, ytest) = 1.5339043f0\n"
     ]
    },
    {
     "name": "stderr",
     "output_type": "stream",
     "text": [
      "┌ Info: Epoch 5\n",
      "└ @ ConvGRU /Users/kahingleung/.julia/packages/Flux/sY3yx/src/optimise/train.jl:136\n"
     ]
    },
    {
     "name": "stdout",
     "output_type": "stream",
     "text": [
      "mse_loss(xtest, ytest) = 1.5360824f0\n"
     ]
    },
    {
     "name": "stderr",
     "output_type": "stream",
     "text": [
      "┌ Info: Epoch 6\n",
      "└ @ ConvGRU /Users/kahingleung/.julia/packages/Flux/sY3yx/src/optimise/train.jl:136\n"
     ]
    },
    {
     "name": "stdout",
     "output_type": "stream",
     "text": [
      "mse_loss(xtest, ytest) = 1.5437905f0\n"
     ]
    },
    {
     "name": "stderr",
     "output_type": "stream",
     "text": [
      "┌ Info: Epoch 7\n",
      "└ @ ConvGRU /Users/kahingleung/.julia/packages/Flux/sY3yx/src/optimise/train.jl:136\n"
     ]
    },
    {
     "name": "stdout",
     "output_type": "stream",
     "text": [
      "mse_loss(xtest, ytest) = 1.5430951f0\n"
     ]
    },
    {
     "name": "stderr",
     "output_type": "stream",
     "text": [
      "┌ Info: Epoch 8\n",
      "└ @ ConvGRU /Users/kahingleung/.julia/packages/Flux/sY3yx/src/optimise/train.jl:136\n",
      "┌ Info: Epoch 9\n",
      "└ @ ConvGRU /Users/kahingleung/.julia/packages/Flux/sY3yx/src/optimise/train.jl:136\n"
     ]
    },
    {
     "name": "stdout",
     "output_type": "stream",
     "text": [
      "mse_loss(xtest, ytest) = 1.5378426f0\n"
     ]
    },
    {
     "name": "stderr",
     "output_type": "stream",
     "text": [
      "┌ Info: Epoch 10\n",
      "└ @ ConvGRU /Users/kahingleung/.julia/packages/Flux/sY3yx/src/optimise/train.jl:136\n"
     ]
    },
    {
     "name": "stdout",
     "output_type": "stream",
     "text": [
      "mse_loss(xtest, ytest) = 1.543904f0\n"
     ]
    },
    {
     "name": "stderr",
     "output_type": "stream",
     "text": [
      "┌ Info: Epoch 11\n",
      "└ @ ConvGRU /Users/kahingleung/.julia/packages/Flux/sY3yx/src/optimise/train.jl:136\n"
     ]
    },
    {
     "name": "stdout",
     "output_type": "stream",
     "text": [
      "mse_loss(xtest, ytest) = 1.5365379f0\n",
      "mse_loss(xtest, ytest) = 1.5342251f0\n"
     ]
    },
    {
     "name": "stderr",
     "output_type": "stream",
     "text": [
      "┌ Info: Epoch 12\n",
      "└ @ ConvGRU /Users/kahingleung/.julia/packages/Flux/sY3yx/src/optimise/train.jl:136\n"
     ]
    },
    {
     "name": "stdout",
     "output_type": "stream",
     "text": [
      "mse_loss(xtest, ytest) = 1.5316525f0\n"
     ]
    },
    {
     "name": "stderr",
     "output_type": "stream",
     "text": [
      "┌ Info: Epoch 13\n",
      "└ @ ConvGRU /Users/kahingleung/.julia/packages/Flux/sY3yx/src/optimise/train.jl:136\n",
      "┌ Info: Epoch 14\n",
      "└ @ ConvGRU /Users/kahingleung/.julia/packages/Flux/sY3yx/src/optimise/train.jl:136\n"
     ]
    },
    {
     "name": "stdout",
     "output_type": "stream",
     "text": [
      "mse_loss(xtest, ytest) = 1.5364478f0\n"
     ]
    },
    {
     "name": "stderr",
     "output_type": "stream",
     "text": [
      "┌ Info: Epoch 15\n",
      "└ @ ConvGRU /Users/kahingleung/.julia/packages/Flux/sY3yx/src/optimise/train.jl:136\n"
     ]
    },
    {
     "name": "stdout",
     "output_type": "stream",
     "text": [
      "mse_loss(xtest, ytest) = 1.5333174f0\n"
     ]
    },
    {
     "name": "stderr",
     "output_type": "stream",
     "text": [
      "┌ Info: Epoch 16\n",
      "└ @ ConvGRU /Users/kahingleung/.julia/packages/Flux/sY3yx/src/optimise/train.jl:136\n"
     ]
    },
    {
     "name": "stdout",
     "output_type": "stream",
     "text": [
      "mse_loss(xtest, ytest) = 1.5276728f0\n",
      "mse_loss(xtest, ytest) = 1.5332818f0\n"
     ]
    },
    {
     "name": "stderr",
     "output_type": "stream",
     "text": [
      "┌ Info: Epoch 17\n",
      "└ @ ConvGRU /Users/kahingleung/.julia/packages/Flux/sY3yx/src/optimise/train.jl:136\n"
     ]
    },
    {
     "name": "stdout",
     "output_type": "stream",
     "text": [
      "mse_loss(xtest, ytest) = 1.5306064f0\n"
     ]
    },
    {
     "name": "stderr",
     "output_type": "stream",
     "text": [
      "┌ Info: Epoch 18\n",
      "└ @ ConvGRU /Users/kahingleung/.julia/packages/Flux/sY3yx/src/optimise/train.jl:136\n",
      "┌ Info: Epoch 19\n",
      "└ @ ConvGRU /Users/kahingleung/.julia/packages/Flux/sY3yx/src/optimise/train.jl:136\n"
     ]
    },
    {
     "name": "stdout",
     "output_type": "stream",
     "text": [
      "mse_loss(xtest, ytest) = 1.5299748f0\n",
      "mse_loss(xtest, ytest) = 1.524734f0\n"
     ]
    },
    {
     "name": "stderr",
     "output_type": "stream",
     "text": [
      "┌ Info: Epoch 20\n",
      "└ @ ConvGRU /Users/kahingleung/.julia/packages/Flux/sY3yx/src/optimise/train.jl:136\n"
     ]
    },
    {
     "name": "stdout",
     "output_type": "stream",
     "text": [
      "mse_loss(xtest, ytest) = 1.5233113f0\n"
     ]
    },
    {
     "name": "stderr",
     "output_type": "stream",
     "text": [
      "┌ Info: Epoch 21\n",
      "└ @ ConvGRU /Users/kahingleung/.julia/packages/Flux/sY3yx/src/optimise/train.jl:136\n"
     ]
    },
    {
     "name": "stdout",
     "output_type": "stream",
     "text": [
      "mse_loss(xtest, ytest) = 1.5268725f0\n"
     ]
    },
    {
     "name": "stderr",
     "output_type": "stream",
     "text": [
      "┌ Info: Epoch 22\n",
      "└ @ ConvGRU /Users/kahingleung/.julia/packages/Flux/sY3yx/src/optimise/train.jl:136\n"
     ]
    },
    {
     "name": "stdout",
     "output_type": "stream",
     "text": [
      "mse_loss(xtest, ytest) = 1.5316299f0\n"
     ]
    },
    {
     "name": "stderr",
     "output_type": "stream",
     "text": [
      "┌ Info: Epoch 23\n",
      "└ @ ConvGRU /Users/kahingleung/.julia/packages/Flux/sY3yx/src/optimise/train.jl:136\n"
     ]
    },
    {
     "name": "stdout",
     "output_type": "stream",
     "text": [
      "mse_loss(xtest, ytest) = 1.5362593f0\n"
     ]
    },
    {
     "name": "stderr",
     "output_type": "stream",
     "text": [
      "┌ Info: Epoch 24\n",
      "└ @ ConvGRU /Users/kahingleung/.julia/packages/Flux/sY3yx/src/optimise/train.jl:136\n"
     ]
    },
    {
     "name": "stdout",
     "output_type": "stream",
     "text": [
      "mse_loss(xtest, ytest) = 1.534983f0\n"
     ]
    },
    {
     "name": "stderr",
     "output_type": "stream",
     "text": [
      "┌ Info: Epoch 25\n",
      "└ @ ConvGRU /Users/kahingleung/.julia/packages/Flux/sY3yx/src/optimise/train.jl:136\n",
      "┌ Info: Epoch 26\n",
      "└ @ ConvGRU /Users/kahingleung/.julia/packages/Flux/sY3yx/src/optimise/train.jl:136\n"
     ]
    },
    {
     "name": "stdout",
     "output_type": "stream",
     "text": [
      "mse_loss(xtest, ytest) = 1.5338283f0\n",
      "mse_loss(xtest, ytest) = 1.5343373f0\n"
     ]
    },
    {
     "name": "stderr",
     "output_type": "stream",
     "text": [
      "┌ Info: Epoch 27\n",
      "└ @ ConvGRU /Users/kahingleung/.julia/packages/Flux/sY3yx/src/optimise/train.jl:136\n"
     ]
    },
    {
     "name": "stdout",
     "output_type": "stream",
     "text": [
      "mse_loss(xtest, ytest) = 1.5356758f0\n"
     ]
    },
    {
     "name": "stderr",
     "output_type": "stream",
     "text": [
      "┌ Info: Epoch 28\n",
      "└ @ ConvGRU /Users/kahingleung/.julia/packages/Flux/sY3yx/src/optimise/train.jl:136\n",
      "┌ Info: Epoch 29\n",
      "└ @ ConvGRU /Users/kahingleung/.julia/packages/Flux/sY3yx/src/optimise/train.jl:136\n"
     ]
    },
    {
     "name": "stdout",
     "output_type": "stream",
     "text": [
      "mse_loss(xtest, ytest) = 1.5335666f0\n"
     ]
    },
    {
     "name": "stderr",
     "output_type": "stream",
     "text": [
      "┌ Info: Epoch 30\n",
      "└ @ ConvGRU /Users/kahingleung/.julia/packages/Flux/sY3yx/src/optimise/train.jl:136\n"
     ]
    },
    {
     "name": "stdout",
     "output_type": "stream",
     "text": [
      "mse_loss(xtest, ytest) = 1.5331795f0\n",
      "(250,)\n",
      "myObjective(df, seqlen, Nh, lr, sym * \"-\" * string(i)) = 1.5541037f0\n",
      "122080.007742636826811269\n",
      "mse_loss(xtest, ytest) = 1.6315622f0\n"
     ]
    },
    {
     "name": "stderr",
     "output_type": "stream",
     "text": [
      "┌ Info: Epoch 1\n",
      "└ @ ConvGRU /Users/kahingleung/.julia/packages/Flux/sY3yx/src/optimise/train.jl:136\n"
     ]
    },
    {
     "name": "stdout",
     "output_type": "stream",
     "text": [
      "mse_loss(xtest, ytest) = 1.4687779f0\n",
      "mse_loss(xtest, ytest) = 1.4693991f0\n"
     ]
    },
    {
     "name": "stderr",
     "output_type": "stream",
     "text": [
      "┌ Info: Epoch 2\n",
      "└ @ ConvGRU /Users/kahingleung/.julia/packages/Flux/sY3yx/src/optimise/train.jl:136\n"
     ]
    },
    {
     "name": "stdout",
     "output_type": "stream",
     "text": [
      "mse_loss(xtest, ytest) = 1.479438f0\n"
     ]
    },
    {
     "name": "stderr",
     "output_type": "stream",
     "text": [
      "┌ Info: Epoch 3\n",
      "└ @ ConvGRU /Users/kahingleung/.julia/packages/Flux/sY3yx/src/optimise/train.jl:136\n"
     ]
    },
    {
     "name": "stdout",
     "output_type": "stream",
     "text": [
      "mse_loss(xtest, ytest) = 1.487116f0\n"
     ]
    },
    {
     "name": "stderr",
     "output_type": "stream",
     "text": [
      "┌ Info: Epoch 4\n",
      "└ @ ConvGRU /Users/kahingleung/.julia/packages/Flux/sY3yx/src/optimise/train.jl:136\n",
      "┌ Info: Epoch 5\n",
      "└ @ ConvGRU /Users/kahingleung/.julia/packages/Flux/sY3yx/src/optimise/train.jl:136\n"
     ]
    },
    {
     "name": "stdout",
     "output_type": "stream",
     "text": [
      "mse_loss(xtest, ytest) = 1.4938546f0\n",
      "mse_loss(xtest, ytest) = 1.4955146f0\n"
     ]
    },
    {
     "name": "stderr",
     "output_type": "stream",
     "text": [
      "┌ Info: Epoch 6\n",
      "└ @ ConvGRU /Users/kahingleung/.julia/packages/Flux/sY3yx/src/optimise/train.jl:136\n",
      "┌ Info: Epoch 7\n",
      "└ @ ConvGRU /Users/kahingleung/.julia/packages/Flux/sY3yx/src/optimise/train.jl:136\n"
     ]
    },
    {
     "name": "stdout",
     "output_type": "stream",
     "text": [
      "mse_loss(xtest, ytest) = 1.4918554f0\n",
      "mse_loss(xtest, ytest) = 1.4956943f0\n"
     ]
    },
    {
     "name": "stderr",
     "output_type": "stream",
     "text": [
      "┌ Info: Epoch 8\n",
      "└ @ ConvGRU /Users/kahingleung/.julia/packages/Flux/sY3yx/src/optimise/train.jl:136\n"
     ]
    },
    {
     "name": "stdout",
     "output_type": "stream",
     "text": [
      "mse_loss(xtest, ytest) = 1.4973713f0\n"
     ]
    },
    {
     "name": "stderr",
     "output_type": "stream",
     "text": [
      "┌ Info: Epoch 9\n",
      "└ @ ConvGRU /Users/kahingleung/.julia/packages/Flux/sY3yx/src/optimise/train.jl:136\n"
     ]
    },
    {
     "name": "stdout",
     "output_type": "stream",
     "text": [
      "mse_loss(xtest, ytest) = 1.4945498f0\n"
     ]
    },
    {
     "name": "stderr",
     "output_type": "stream",
     "text": [
      "┌ Info: Epoch 10\n",
      "└ @ ConvGRU /Users/kahingleung/.julia/packages/Flux/sY3yx/src/optimise/train.jl:136\n"
     ]
    },
    {
     "name": "stdout",
     "output_type": "stream",
     "text": [
      "mse_loss(xtest, ytest) = 1.4983116f0\n"
     ]
    },
    {
     "name": "stderr",
     "output_type": "stream",
     "text": [
      "┌ Info: Epoch 11\n",
      "└ @ ConvGRU /Users/kahingleung/.julia/packages/Flux/sY3yx/src/optimise/train.jl:136\n",
      "┌ Info: Epoch 12\n",
      "└ @ ConvGRU /Users/kahingleung/.julia/packages/Flux/sY3yx/src/optimise/train.jl:136\n"
     ]
    },
    {
     "name": "stdout",
     "output_type": "stream",
     "text": [
      "mse_loss(xtest, ytest) = 1.501766f0\n",
      "mse_loss(xtest, ytest) = 1.5007727f0\n"
     ]
    },
    {
     "name": "stderr",
     "output_type": "stream",
     "text": [
      "┌ Info: Epoch 13\n",
      "└ @ ConvGRU /Users/kahingleung/.julia/packages/Flux/sY3yx/src/optimise/train.jl:136\n"
     ]
    },
    {
     "name": "stdout",
     "output_type": "stream",
     "text": [
      "mse_loss(xtest, ytest) = 1.5005f0\n"
     ]
    },
    {
     "name": "stderr",
     "output_type": "stream",
     "text": [
      "┌ Info: Epoch 14\n",
      "└ @ ConvGRU /Users/kahingleung/.julia/packages/Flux/sY3yx/src/optimise/train.jl:136\n"
     ]
    },
    {
     "name": "stdout",
     "output_type": "stream",
     "text": [
      "mse_loss(xtest, ytest) = 1.5055729f0\n"
     ]
    },
    {
     "name": "stderr",
     "output_type": "stream",
     "text": [
      "┌ Info: Epoch 15\n",
      "└ @ ConvGRU /Users/kahingleung/.julia/packages/Flux/sY3yx/src/optimise/train.jl:136\n"
     ]
    },
    {
     "name": "stdout",
     "output_type": "stream",
     "text": [
      "mse_loss(xtest, ytest) = 1.502818f0\n"
     ]
    },
    {
     "name": "stderr",
     "output_type": "stream",
     "text": [
      "┌ Info: Epoch 16\n",
      "└ @ ConvGRU /Users/kahingleung/.julia/packages/Flux/sY3yx/src/optimise/train.jl:136\n",
      "┌ Info: Epoch 17\n",
      "└ @ ConvGRU /Users/kahingleung/.julia/packages/Flux/sY3yx/src/optimise/train.jl:136\n"
     ]
    },
    {
     "name": "stdout",
     "output_type": "stream",
     "text": [
      "mse_loss(xtest, ytest) = 1.50313f0\n",
      "mse_loss(xtest, ytest) = 1.5081452f0\n"
     ]
    },
    {
     "name": "stderr",
     "output_type": "stream",
     "text": [
      "┌ Info: Epoch 18\n",
      "└ @ ConvGRU /Users/kahingleung/.julia/packages/Flux/sY3yx/src/optimise/train.jl:136\n",
      "┌ Info: Epoch 19\n",
      "└ @ ConvGRU /Users/kahingleung/.julia/packages/Flux/sY3yx/src/optimise/train.jl:136\n"
     ]
    },
    {
     "name": "stdout",
     "output_type": "stream",
     "text": [
      "mse_loss(xtest, ytest) = 1.5080667f0\n",
      "mse_loss(xtest, ytest) = 1.5098265f0\n"
     ]
    },
    {
     "name": "stderr",
     "output_type": "stream",
     "text": [
      "┌ Info: Epoch 20\n",
      "└ @ ConvGRU /Users/kahingleung/.julia/packages/Flux/sY3yx/src/optimise/train.jl:136\n"
     ]
    },
    {
     "name": "stdout",
     "output_type": "stream",
     "text": [
      "mse_loss(xtest, ytest) = 1.5101867f0\n"
     ]
    },
    {
     "name": "stderr",
     "output_type": "stream",
     "text": [
      "┌ Info: Epoch 21\n",
      "└ @ ConvGRU /Users/kahingleung/.julia/packages/Flux/sY3yx/src/optimise/train.jl:136\n",
      "┌ Info: Epoch 22\n",
      "└ @ ConvGRU /Users/kahingleung/.julia/packages/Flux/sY3yx/src/optimise/train.jl:136\n"
     ]
    },
    {
     "name": "stdout",
     "output_type": "stream",
     "text": [
      "mse_loss(xtest, ytest) = 1.5105145f0\n",
      "mse_loss(xtest, ytest) = 1.515685f0\n"
     ]
    },
    {
     "name": "stderr",
     "output_type": "stream",
     "text": [
      "┌ Info: Epoch 23\n",
      "└ @ ConvGRU /Users/kahingleung/.julia/packages/Flux/sY3yx/src/optimise/train.jl:136\n",
      "┌ Info: Epoch 24\n",
      "└ @ ConvGRU /Users/kahingleung/.julia/packages/Flux/sY3yx/src/optimise/train.jl:136\n"
     ]
    },
    {
     "name": "stdout",
     "output_type": "stream",
     "text": [
      "mse_loss(xtest, ytest) = 1.5187633f0\n",
      "mse_loss(xtest, ytest) = 1.5154493f0\n"
     ]
    },
    {
     "name": "stderr",
     "output_type": "stream",
     "text": [
      "┌ Info: Epoch 25\n",
      "└ @ ConvGRU /Users/kahingleung/.julia/packages/Flux/sY3yx/src/optimise/train.jl:136\n"
     ]
    },
    {
     "name": "stdout",
     "output_type": "stream",
     "text": [
      "mse_loss(xtest, ytest) = 1.5196038f0\n"
     ]
    },
    {
     "name": "stderr",
     "output_type": "stream",
     "text": [
      "┌ Info: Epoch 26\n",
      "└ @ ConvGRU /Users/kahingleung/.julia/packages/Flux/sY3yx/src/optimise/train.jl:136\n",
      "┌ Info: Epoch 27\n",
      "└ @ ConvGRU /Users/kahingleung/.julia/packages/Flux/sY3yx/src/optimise/train.jl:136\n"
     ]
    },
    {
     "name": "stdout",
     "output_type": "stream",
     "text": [
      "mse_loss(xtest, ytest) = 1.5131853f0\n",
      "mse_loss(xtest, ytest) = 1.5166088f0\n"
     ]
    },
    {
     "name": "stderr",
     "output_type": "stream",
     "text": [
      "┌ Info: Epoch 28\n",
      "└ @ ConvGRU /Users/kahingleung/.julia/packages/Flux/sY3yx/src/optimise/train.jl:136\n",
      "┌ Info: Epoch 29\n",
      "└ @ ConvGRU /Users/kahingleung/.julia/packages/Flux/sY3yx/src/optimise/train.jl:136\n"
     ]
    },
    {
     "name": "stdout",
     "output_type": "stream",
     "text": [
      "mse_loss(xtest, ytest) = 1.5220476f0\n",
      "mse_loss(xtest, ytest) = 1.5124063f0\n"
     ]
    },
    {
     "name": "stderr",
     "output_type": "stream",
     "text": [
      "┌ Info: Epoch 30\n",
      "└ @ ConvGRU /Users/kahingleung/.julia/packages/Flux/sY3yx/src/optimise/train.jl:136\n"
     ]
    },
    {
     "name": "stdout",
     "output_type": "stream",
     "text": [
      "(250,)\n",
      "myObjective(df, seqlen, Nh, lr, sym * \"-\" * string(i)) = 1.5838574f0\n",
      "132560.01\n",
      "mse_loss(xtest, ytest) = 1.5683327f0\n",
      "mse_loss(xtest, ytest) = 1.4820325f0\n"
     ]
    },
    {
     "name": "stderr",
     "output_type": "stream",
     "text": [
      "┌ Info: Epoch 1\n",
      "└ @ ConvGRU /Users/kahingleung/.julia/packages/Flux/sY3yx/src/optimise/train.jl:136\n",
      "┌ Info: Epoch 2\n",
      "└ @ ConvGRU /Users/kahingleung/.julia/packages/Flux/sY3yx/src/optimise/train.jl:136\n"
     ]
    },
    {
     "name": "stdout",
     "output_type": "stream",
     "text": [
      "mse_loss(xtest, ytest) = 1.5441558f0\n",
      "mse_loss(xtest, ytest) = 1.5536222f0\n"
     ]
    },
    {
     "name": "stderr",
     "output_type": "stream",
     "text": [
      "┌ Info: Epoch 3\n",
      "└ @ ConvGRU /Users/kahingleung/.julia/packages/Flux/sY3yx/src/optimise/train.jl:136\n",
      "┌ Info: Epoch 4\n",
      "└ @ ConvGRU /Users/kahingleung/.julia/packages/Flux/sY3yx/src/optimise/train.jl:136\n"
     ]
    },
    {
     "name": "stdout",
     "output_type": "stream",
     "text": [
      "mse_loss(xtest, ytest) = 1.546569f0\n"
     ]
    },
    {
     "name": "stderr",
     "output_type": "stream",
     "text": [
      "┌ Info: Epoch 5\n",
      "└ @ ConvGRU /Users/kahingleung/.julia/packages/Flux/sY3yx/src/optimise/train.jl:136\n"
     ]
    },
    {
     "name": "stdout",
     "output_type": "stream",
     "text": [
      "mse_loss(xtest, ytest) = 1.534716f0\n",
      "mse_loss(xtest, ytest) = 1.5516347f0\n"
     ]
    },
    {
     "name": "stderr",
     "output_type": "stream",
     "text": [
      "┌ Info: Epoch 6\n",
      "└ @ ConvGRU /Users/kahingleung/.julia/packages/Flux/sY3yx/src/optimise/train.jl:136\n",
      "┌ Info: Epoch 7\n",
      "└ @ ConvGRU /Users/kahingleung/.julia/packages/Flux/sY3yx/src/optimise/train.jl:136\n"
     ]
    },
    {
     "name": "stdout",
     "output_type": "stream",
     "text": [
      "mse_loss(xtest, ytest) = 1.5497476f0\n",
      "mse_loss(xtest, ytest) = 1.5463245f0\n"
     ]
    },
    {
     "name": "stderr",
     "output_type": "stream",
     "text": [
      "┌ Info: Epoch 8\n",
      "└ @ ConvGRU /Users/kahingleung/.julia/packages/Flux/sY3yx/src/optimise/train.jl:136\n"
     ]
    },
    {
     "name": "stdout",
     "output_type": "stream",
     "text": [
      "mse_loss(xtest, ytest) = 1.5402282f0\n"
     ]
    },
    {
     "name": "stderr",
     "output_type": "stream",
     "text": [
      "┌ Info: Epoch 9\n",
      "└ @ ConvGRU /Users/kahingleung/.julia/packages/Flux/sY3yx/src/optimise/train.jl:136\n"
     ]
    },
    {
     "name": "stdout",
     "output_type": "stream",
     "text": [
      "mse_loss(xtest, ytest) = 1.5414472f0\n"
     ]
    },
    {
     "name": "stderr",
     "output_type": "stream",
     "text": [
      "┌ Info: Epoch 10\n",
      "└ @ ConvGRU /Users/kahingleung/.julia/packages/Flux/sY3yx/src/optimise/train.jl:136\n"
     ]
    },
    {
     "name": "stdout",
     "output_type": "stream",
     "text": [
      "mse_loss(xtest, ytest) = 1.5395726f0\n"
     ]
    },
    {
     "name": "stderr",
     "output_type": "stream",
     "text": [
      "┌ Info: Epoch 11\n",
      "└ @ ConvGRU /Users/kahingleung/.julia/packages/Flux/sY3yx/src/optimise/train.jl:136\n",
      "┌ Info: Epoch 12\n",
      "└ @ ConvGRU /Users/kahingleung/.julia/packages/Flux/sY3yx/src/optimise/train.jl:136\n"
     ]
    },
    {
     "name": "stdout",
     "output_type": "stream",
     "text": [
      "mse_loss(xtest, ytest) = 1.5407559f0\n",
      "mse_loss(xtest, ytest) = 1.5474563f0\n"
     ]
    },
    {
     "name": "stderr",
     "output_type": "stream",
     "text": [
      "┌ Info: Epoch 13\n",
      "└ @ ConvGRU /Users/kahingleung/.julia/packages/Flux/sY3yx/src/optimise/train.jl:136\n",
      "┌ Info: Epoch 14\n",
      "└ @ ConvGRU /Users/kahingleung/.julia/packages/Flux/sY3yx/src/optimise/train.jl:136\n"
     ]
    },
    {
     "name": "stdout",
     "output_type": "stream",
     "text": [
      "mse_loss(xtest, ytest) = 1.5462362f0\n",
      "mse_loss(xtest, ytest) = 1.540153f0\n"
     ]
    },
    {
     "name": "stderr",
     "output_type": "stream",
     "text": [
      "┌ Info: Epoch 15\n",
      "└ @ ConvGRU /Users/kahingleung/.julia/packages/Flux/sY3yx/src/optimise/train.jl:136\n"
     ]
    },
    {
     "name": "stdout",
     "output_type": "stream",
     "text": [
      "mse_loss(xtest, ytest) = 1.5400975f0\n"
     ]
    },
    {
     "name": "stderr",
     "output_type": "stream",
     "text": [
      "┌ Info: Epoch 16\n",
      "└ @ ConvGRU /Users/kahingleung/.julia/packages/Flux/sY3yx/src/optimise/train.jl:136\n"
     ]
    },
    {
     "name": "stdout",
     "output_type": "stream",
     "text": [
      "mse_loss(xtest, ytest) = 1.5332682f0\n"
     ]
    },
    {
     "name": "stderr",
     "output_type": "stream",
     "text": [
      "┌ Info: Epoch 17\n",
      "└ @ ConvGRU /Users/kahingleung/.julia/packages/Flux/sY3yx/src/optimise/train.jl:136\n",
      "┌ Info: Epoch 18\n",
      "└ @ ConvGRU /Users/kahingleung/.julia/packages/Flux/sY3yx/src/optimise/train.jl:136\n"
     ]
    },
    {
     "name": "stdout",
     "output_type": "stream",
     "text": [
      "mse_loss(xtest, ytest) = 1.562008f0\n",
      "mse_loss(xtest, ytest) = 1.5496554f0\n"
     ]
    },
    {
     "name": "stderr",
     "output_type": "stream",
     "text": [
      "┌ Info: Epoch 19\n",
      "└ @ ConvGRU /Users/kahingleung/.julia/packages/Flux/sY3yx/src/optimise/train.jl:136\n",
      "┌ Info: Epoch 20\n",
      "└ @ ConvGRU /Users/kahingleung/.julia/packages/Flux/sY3yx/src/optimise/train.jl:136\n"
     ]
    },
    {
     "name": "stdout",
     "output_type": "stream",
     "text": [
      "mse_loss(xtest, ytest) = 1.5639406f0\n",
      "mse_loss(xtest, ytest) = 1.5438719f0\n"
     ]
    },
    {
     "name": "stderr",
     "output_type": "stream",
     "text": [
      "┌ Info: Epoch 21\n",
      "└ @ ConvGRU /Users/kahingleung/.julia/packages/Flux/sY3yx/src/optimise/train.jl:136\n"
     ]
    },
    {
     "name": "stdout",
     "output_type": "stream",
     "text": [
      "mse_loss(xtest, ytest) = 1.5263758f0\n"
     ]
    },
    {
     "name": "stderr",
     "output_type": "stream",
     "text": [
      "┌ Info: Epoch 22\n",
      "└ @ ConvGRU /Users/kahingleung/.julia/packages/Flux/sY3yx/src/optimise/train.jl:136\n"
     ]
    },
    {
     "name": "stdout",
     "output_type": "stream",
     "text": [
      "mse_loss(xtest, ytest) = 1.5526278f0\n"
     ]
    },
    {
     "name": "stderr",
     "output_type": "stream",
     "text": [
      "┌ Info: Epoch 23\n",
      "└ @ ConvGRU /Users/kahingleung/.julia/packages/Flux/sY3yx/src/optimise/train.jl:136\n"
     ]
    },
    {
     "name": "stdout",
     "output_type": "stream",
     "text": [
      "mse_loss(xtest, ytest) = 1.5705117f0\n"
     ]
    },
    {
     "name": "stderr",
     "output_type": "stream",
     "text": [
      "┌ Info: Epoch 24\n",
      "└ @ ConvGRU /Users/kahingleung/.julia/packages/Flux/sY3yx/src/optimise/train.jl:136\n"
     ]
    },
    {
     "name": "stdout",
     "output_type": "stream",
     "text": [
      "mse_loss(xtest, ytest) = 1.5356456f0\n"
     ]
    },
    {
     "name": "stderr",
     "output_type": "stream",
     "text": [
      "┌ Info: Epoch 25\n",
      "└ @ ConvGRU /Users/kahingleung/.julia/packages/Flux/sY3yx/src/optimise/train.jl:136\n"
     ]
    },
    {
     "name": "stdout",
     "output_type": "stream",
     "text": [
      "mse_loss(xtest, ytest) = 1.51369f0\n"
     ]
    },
    {
     "name": "stderr",
     "output_type": "stream",
     "text": [
      "┌ Info: Epoch 26\n",
      "└ @ ConvGRU /Users/kahingleung/.julia/packages/Flux/sY3yx/src/optimise/train.jl:136\n"
     ]
    },
    {
     "name": "stdout",
     "output_type": "stream",
     "text": [
      "mse_loss(xtest, ytest) = 1.5117007f0\n"
     ]
    },
    {
     "name": "stderr",
     "output_type": "stream",
     "text": [
      "┌ Info: Epoch 27\n",
      "└ @ ConvGRU /Users/kahingleung/.julia/packages/Flux/sY3yx/src/optimise/train.jl:136\n"
     ]
    },
    {
     "name": "stdout",
     "output_type": "stream",
     "text": [
      "mse_loss(xtest, ytest) = 1.5166023f0\n"
     ]
    },
    {
     "name": "stderr",
     "output_type": "stream",
     "text": [
      "┌ Info: Epoch 28\n",
      "└ @ ConvGRU /Users/kahingleung/.julia/packages/Flux/sY3yx/src/optimise/train.jl:136\n"
     ]
    },
    {
     "name": "stdout",
     "output_type": "stream",
     "text": [
      "mse_loss(xtest, ytest) = 1.5316854f0\n"
     ]
    },
    {
     "name": "stderr",
     "output_type": "stream",
     "text": [
      "┌ Info: Epoch 29\n",
      "└ @ ConvGRU /Users/kahingleung/.julia/packages/Flux/sY3yx/src/optimise/train.jl:136\n",
      "┌ Info: Epoch 30\n",
      "└ @ ConvGRU /Users/kahingleung/.julia/packages/Flux/sY3yx/src/optimise/train.jl:136\n"
     ]
    },
    {
     "name": "stdout",
     "output_type": "stream",
     "text": [
      "mse_loss(xtest, ytest) = 1.5768592f0\n",
      "(250,)\n",
      "myObjective(df, seqlen, Nh, lr, sym * \"-\" * string(i)) = 1.6235651f0\n",
      "142040.001\n",
      "mse_loss(xtest, ytest) = 1.9107559f0\n",
      "mse_loss(xtest, ytest) = 1.8972065f0\n"
     ]
    },
    {
     "name": "stderr",
     "output_type": "stream",
     "text": [
      "┌ Info: Epoch 1\n",
      "└ @ ConvGRU /Users/kahingleung/.julia/packages/Flux/sY3yx/src/optimise/train.jl:136\n"
     ]
    },
    {
     "name": "stdout",
     "output_type": "stream",
     "text": [
      "mse_loss(xtest, ytest) = 1.7425514f0\n"
     ]
    },
    {
     "name": "stderr",
     "output_type": "stream",
     "text": [
      "┌ Info: Epoch 2\n",
      "└ @ ConvGRU /Users/kahingleung/.julia/packages/Flux/sY3yx/src/optimise/train.jl:136\n"
     ]
    },
    {
     "name": "stdout",
     "output_type": "stream",
     "text": [
      "mse_loss(xtest, ytest) = 1.6497995f0\n"
     ]
    },
    {
     "name": "stderr",
     "output_type": "stream",
     "text": [
      "┌ Info: Epoch 3\n",
      "└ @ ConvGRU /Users/kahingleung/.julia/packages/Flux/sY3yx/src/optimise/train.jl:136\n"
     ]
    },
    {
     "name": "stdout",
     "output_type": "stream",
     "text": [
      "mse_loss(xtest, ytest) = 1.5885804f0\n"
     ]
    },
    {
     "name": "stderr",
     "output_type": "stream",
     "text": [
      "┌ Info: Epoch 4\n",
      "└ @ ConvGRU /Users/kahingleung/.julia/packages/Flux/sY3yx/src/optimise/train.jl:136\n"
     ]
    },
    {
     "name": "stdout",
     "output_type": "stream",
     "text": [
      "mse_loss(xtest, ytest) = 1.5578908f0\n"
     ]
    },
    {
     "name": "stderr",
     "output_type": "stream",
     "text": [
      "┌ Info: Epoch 5\n",
      "└ @ ConvGRU /Users/kahingleung/.julia/packages/Flux/sY3yx/src/optimise/train.jl:136\n"
     ]
    },
    {
     "name": "stdout",
     "output_type": "stream",
     "text": [
      "mse_loss(xtest, ytest) = 1.5408747f0\n"
     ]
    },
    {
     "name": "stderr",
     "output_type": "stream",
     "text": [
      "┌ Info: Epoch 6\n",
      "└ @ ConvGRU /Users/kahingleung/.julia/packages/Flux/sY3yx/src/optimise/train.jl:136\n",
      "┌ Info: Epoch 7\n",
      "└ @ ConvGRU /Users/kahingleung/.julia/packages/Flux/sY3yx/src/optimise/train.jl:136\n"
     ]
    },
    {
     "name": "stdout",
     "output_type": "stream",
     "text": [
      "mse_loss(xtest, ytest) = 1.5366225f0\n"
     ]
    },
    {
     "name": "stderr",
     "output_type": "stream",
     "text": [
      "┌ Info: Epoch 8\n",
      "└ @ ConvGRU /Users/kahingleung/.julia/packages/Flux/sY3yx/src/optimise/train.jl:136\n"
     ]
    },
    {
     "name": "stdout",
     "output_type": "stream",
     "text": [
      "mse_loss(xtest, ytest) = 1.5241772f0\n",
      "mse_loss(xtest, ytest) = 1.5267189f0\n"
     ]
    },
    {
     "name": "stderr",
     "output_type": "stream",
     "text": [
      "┌ Info: Epoch 9\n",
      "└ @ ConvGRU /Users/kahingleung/.julia/packages/Flux/sY3yx/src/optimise/train.jl:136\n"
     ]
    },
    {
     "name": "stdout",
     "output_type": "stream",
     "text": [
      "mse_loss(xtest, ytest) = 1.5253811f0\n"
     ]
    },
    {
     "name": "stderr",
     "output_type": "stream",
     "text": [
      "┌ Info: Epoch 10\n",
      "└ @ ConvGRU /Users/kahingleung/.julia/packages/Flux/sY3yx/src/optimise/train.jl:136\n"
     ]
    },
    {
     "name": "stdout",
     "output_type": "stream",
     "text": [
      "mse_loss(xtest, ytest) = 1.5276499f0\n"
     ]
    },
    {
     "name": "stderr",
     "output_type": "stream",
     "text": [
      "┌ Info: Epoch 11\n",
      "└ @ ConvGRU /Users/kahingleung/.julia/packages/Flux/sY3yx/src/optimise/train.jl:136\n",
      "┌ Info: Epoch 12\n",
      "└ @ ConvGRU /Users/kahingleung/.julia/packages/Flux/sY3yx/src/optimise/train.jl:136\n"
     ]
    },
    {
     "name": "stdout",
     "output_type": "stream",
     "text": [
      "mse_loss(xtest, ytest) = 1.52888f0\n",
      "mse_loss(xtest, ytest) = 1.5243005f0\n"
     ]
    },
    {
     "name": "stderr",
     "output_type": "stream",
     "text": [
      "┌ Info: Epoch 13\n",
      "└ @ ConvGRU /Users/kahingleung/.julia/packages/Flux/sY3yx/src/optimise/train.jl:136\n",
      "┌ Info: Epoch 14\n",
      "└ @ ConvGRU /Users/kahingleung/.julia/packages/Flux/sY3yx/src/optimise/train.jl:136\n"
     ]
    },
    {
     "name": "stdout",
     "output_type": "stream",
     "text": [
      "mse_loss(xtest, ytest) = 1.5277731f0\n",
      "mse_loss(xtest, ytest) = 1.5269911f0\n"
     ]
    },
    {
     "name": "stderr",
     "output_type": "stream",
     "text": [
      "┌ Info: Epoch 15\n",
      "└ @ ConvGRU /Users/kahingleung/.julia/packages/Flux/sY3yx/src/optimise/train.jl:136\n"
     ]
    },
    {
     "name": "stdout",
     "output_type": "stream",
     "text": [
      "mse_loss(xtest, ytest) = 1.5278262f0\n"
     ]
    },
    {
     "name": "stderr",
     "output_type": "stream",
     "text": [
      "┌ Info: Epoch 16\n",
      "└ @ ConvGRU /Users/kahingleung/.julia/packages/Flux/sY3yx/src/optimise/train.jl:136\n"
     ]
    },
    {
     "name": "stdout",
     "output_type": "stream",
     "text": [
      "mse_loss(xtest, ytest) = 1.5286262f0\n"
     ]
    },
    {
     "name": "stderr",
     "output_type": "stream",
     "text": [
      "┌ Info: Epoch 17\n",
      "└ @ ConvGRU /Users/kahingleung/.julia/packages/Flux/sY3yx/src/optimise/train.jl:136\n"
     ]
    },
    {
     "name": "stdout",
     "output_type": "stream",
     "text": [
      "mse_loss(xtest, ytest) = 1.5263457f0\n"
     ]
    },
    {
     "name": "stderr",
     "output_type": "stream",
     "text": [
      "┌ Info: Epoch 18\n",
      "└ @ ConvGRU /Users/kahingleung/.julia/packages/Flux/sY3yx/src/optimise/train.jl:136\n"
     ]
    },
    {
     "name": "stdout",
     "output_type": "stream",
     "text": [
      "mse_loss(xtest, ytest) = 1.5265845f0\n"
     ]
    },
    {
     "name": "stderr",
     "output_type": "stream",
     "text": [
      "┌ Info: Epoch 19\n",
      "└ @ ConvGRU /Users/kahingleung/.julia/packages/Flux/sY3yx/src/optimise/train.jl:136\n"
     ]
    },
    {
     "name": "stdout",
     "output_type": "stream",
     "text": [
      "mse_loss(xtest, ytest) = 1.5260495f0\n"
     ]
    },
    {
     "name": "stderr",
     "output_type": "stream",
     "text": [
      "┌ Info: Epoch 20\n",
      "└ @ ConvGRU /Users/kahingleung/.julia/packages/Flux/sY3yx/src/optimise/train.jl:136\n"
     ]
    },
    {
     "name": "stdout",
     "output_type": "stream",
     "text": [
      "mse_loss(xtest, ytest) = 1.527961f0\n"
     ]
    },
    {
     "name": "stderr",
     "output_type": "stream",
     "text": [
      "┌ Info: Epoch 21\n",
      "└ @ ConvGRU /Users/kahingleung/.julia/packages/Flux/sY3yx/src/optimise/train.jl:136\n"
     ]
    },
    {
     "name": "stdout",
     "output_type": "stream",
     "text": [
      "mse_loss(xtest, ytest) = 1.523844f0\n"
     ]
    },
    {
     "name": "stderr",
     "output_type": "stream",
     "text": [
      "┌ Info: Epoch 22\n",
      "└ @ ConvGRU /Users/kahingleung/.julia/packages/Flux/sY3yx/src/optimise/train.jl:136\n"
     ]
    },
    {
     "name": "stdout",
     "output_type": "stream",
     "text": [
      "mse_loss(xtest, ytest) = 1.5252478f0\n"
     ]
    },
    {
     "name": "stderr",
     "output_type": "stream",
     "text": [
      "┌ Info: Epoch 23\n",
      "└ @ ConvGRU /Users/kahingleung/.julia/packages/Flux/sY3yx/src/optimise/train.jl:136\n"
     ]
    },
    {
     "name": "stdout",
     "output_type": "stream",
     "text": [
      "mse_loss(xtest, ytest) = 1.5284749f0\n"
     ]
    },
    {
     "name": "stderr",
     "output_type": "stream",
     "text": [
      "┌ Info: Epoch 24\n",
      "└ @ ConvGRU /Users/kahingleung/.julia/packages/Flux/sY3yx/src/optimise/train.jl:136\n"
     ]
    },
    {
     "name": "stdout",
     "output_type": "stream",
     "text": [
      "mse_loss(xtest, ytest) = 1.5264924f0\n"
     ]
    },
    {
     "name": "stderr",
     "output_type": "stream",
     "text": [
      "┌ Info: Epoch 25\n",
      "└ @ ConvGRU /Users/kahingleung/.julia/packages/Flux/sY3yx/src/optimise/train.jl:136\n"
     ]
    },
    {
     "name": "stdout",
     "output_type": "stream",
     "text": [
      "mse_loss(xtest, ytest) = 1.5280421f0\n"
     ]
    },
    {
     "name": "stderr",
     "output_type": "stream",
     "text": [
      "┌ Info: Epoch 26\n",
      "└ @ ConvGRU /Users/kahingleung/.julia/packages/Flux/sY3yx/src/optimise/train.jl:136\n"
     ]
    },
    {
     "name": "stdout",
     "output_type": "stream",
     "text": [
      "mse_loss(xtest, ytest) = 1.52707f0\n"
     ]
    },
    {
     "name": "stderr",
     "output_type": "stream",
     "text": [
      "┌ Info: Epoch 27\n",
      "└ @ ConvGRU /Users/kahingleung/.julia/packages/Flux/sY3yx/src/optimise/train.jl:136\n"
     ]
    },
    {
     "name": "stdout",
     "output_type": "stream",
     "text": [
      "mse_loss(xtest, ytest) = 1.5287367f0\n"
     ]
    },
    {
     "name": "stderr",
     "output_type": "stream",
     "text": [
      "┌ Info: Epoch 28\n",
      "└ @ ConvGRU /Users/kahingleung/.julia/packages/Flux/sY3yx/src/optimise/train.jl:136\n"
     ]
    },
    {
     "name": "stdout",
     "output_type": "stream",
     "text": [
      "mse_loss(xtest, ytest) = 1.5305176f0\n"
     ]
    },
    {
     "name": "stderr",
     "output_type": "stream",
     "text": [
      "┌ Info: Epoch 29\n",
      "└ @ ConvGRU /Users/kahingleung/.julia/packages/Flux/sY3yx/src/optimise/train.jl:136\n",
      "┌ Info: Epoch 30\n",
      "└ @ ConvGRU /Users/kahingleung/.julia/packages/Flux/sY3yx/src/optimise/train.jl:136\n"
     ]
    },
    {
     "name": "stdout",
     "output_type": "stream",
     "text": [
      "mse_loss(xtest, ytest) = 1.5284463f0\n",
      "(250,)\n",
      "myObjective(df, seqlen, Nh, lr, sym * \"-\" * string(i)) = 1.5364509f0\n",
      "151040.0021544346900318843\n",
      "mse_loss(xtest, ytest) = 1.7777706f0\n",
      "mse_loss(xtest, ytest) = 1.7385364f0\n"
     ]
    },
    {
     "name": "stderr",
     "output_type": "stream",
     "text": [
      "┌ Info: Epoch 1\n",
      "└ @ ConvGRU /Users/kahingleung/.julia/packages/Flux/sY3yx/src/optimise/train.jl:136\n"
     ]
    },
    {
     "name": "stdout",
     "output_type": "stream",
     "text": [
      "mse_loss(xtest, ytest) = 1.6059785f0\n"
     ]
    },
    {
     "name": "stderr",
     "output_type": "stream",
     "text": [
      "┌ Info: Epoch 2\n",
      "└ @ ConvGRU /Users/kahingleung/.julia/packages/Flux/sY3yx/src/optimise/train.jl:136\n"
     ]
    },
    {
     "name": "stdout",
     "output_type": "stream",
     "text": [
      "mse_loss(xtest, ytest) = 1.5609751f0\n"
     ]
    },
    {
     "name": "stderr",
     "output_type": "stream",
     "text": [
      "┌ Info: Epoch 3\n",
      "└ @ ConvGRU /Users/kahingleung/.julia/packages/Flux/sY3yx/src/optimise/train.jl:136\n"
     ]
    },
    {
     "name": "stdout",
     "output_type": "stream",
     "text": [
      "mse_loss(xtest, ytest) = 1.5396107f0\n"
     ]
    },
    {
     "name": "stderr",
     "output_type": "stream",
     "text": [
      "┌ Info: Epoch 4\n",
      "└ @ ConvGRU /Users/kahingleung/.julia/packages/Flux/sY3yx/src/optimise/train.jl:136\n"
     ]
    },
    {
     "name": "stdout",
     "output_type": "stream",
     "text": [
      "mse_loss(xtest, ytest) = 1.5286417f0\n"
     ]
    },
    {
     "name": "stderr",
     "output_type": "stream",
     "text": [
      "┌ Info: Epoch 5\n",
      "└ @ ConvGRU /Users/kahingleung/.julia/packages/Flux/sY3yx/src/optimise/train.jl:136\n"
     ]
    },
    {
     "name": "stdout",
     "output_type": "stream",
     "text": [
      "mse_loss(xtest, ytest) = 1.5226855f0\n"
     ]
    },
    {
     "name": "stderr",
     "output_type": "stream",
     "text": [
      "┌ Info: Epoch 6\n",
      "└ @ ConvGRU /Users/kahingleung/.julia/packages/Flux/sY3yx/src/optimise/train.jl:136\n"
     ]
    },
    {
     "name": "stdout",
     "output_type": "stream",
     "text": [
      "mse_loss(xtest, ytest) = 1.5196086f0\n"
     ]
    },
    {
     "name": "stderr",
     "output_type": "stream",
     "text": [
      "┌ Info: Epoch 7\n",
      "└ @ ConvGRU /Users/kahingleung/.julia/packages/Flux/sY3yx/src/optimise/train.jl:136\n"
     ]
    },
    {
     "name": "stdout",
     "output_type": "stream",
     "text": [
      "mse_loss(xtest, ytest) = 1.5181372f0\n"
     ]
    },
    {
     "name": "stderr",
     "output_type": "stream",
     "text": [
      "┌ Info: Epoch 8\n",
      "└ @ ConvGRU /Users/kahingleung/.julia/packages/Flux/sY3yx/src/optimise/train.jl:136\n"
     ]
    },
    {
     "name": "stdout",
     "output_type": "stream",
     "text": [
      "mse_loss(xtest, ytest) = 1.5133371f0\n"
     ]
    },
    {
     "name": "stderr",
     "output_type": "stream",
     "text": [
      "┌ Info: Epoch 9\n",
      "└ @ ConvGRU /Users/kahingleung/.julia/packages/Flux/sY3yx/src/optimise/train.jl:136\n"
     ]
    },
    {
     "name": "stdout",
     "output_type": "stream",
     "text": [
      "mse_loss(xtest, ytest) = 1.5145507f0\n"
     ]
    },
    {
     "name": "stderr",
     "output_type": "stream",
     "text": [
      "┌ Info: Epoch 10\n",
      "└ @ ConvGRU /Users/kahingleung/.julia/packages/Flux/sY3yx/src/optimise/train.jl:136\n"
     ]
    },
    {
     "name": "stdout",
     "output_type": "stream",
     "text": [
      "mse_loss(xtest, ytest) = 1.5191292f0\n"
     ]
    },
    {
     "name": "stderr",
     "output_type": "stream",
     "text": [
      "┌ Info: Epoch 11\n",
      "└ @ ConvGRU /Users/kahingleung/.julia/packages/Flux/sY3yx/src/optimise/train.jl:136\n"
     ]
    },
    {
     "name": "stdout",
     "output_type": "stream",
     "text": [
      "mse_loss(xtest, ytest) = 1.5237768f0\n"
     ]
    },
    {
     "name": "stderr",
     "output_type": "stream",
     "text": [
      "┌ Info: Epoch 12\n",
      "└ @ ConvGRU /Users/kahingleung/.julia/packages/Flux/sY3yx/src/optimise/train.jl:136\n",
      "┌ Info: Epoch 13\n",
      "└ @ ConvGRU /Users/kahingleung/.julia/packages/Flux/sY3yx/src/optimise/train.jl:136\n"
     ]
    },
    {
     "name": "stdout",
     "output_type": "stream",
     "text": [
      "mse_loss(xtest, ytest) = 1.519634f0\n",
      "mse_loss(xtest, ytest) = 1.5229206f0\n"
     ]
    },
    {
     "name": "stderr",
     "output_type": "stream",
     "text": [
      "┌ Info: Epoch 14\n",
      "└ @ ConvGRU /Users/kahingleung/.julia/packages/Flux/sY3yx/src/optimise/train.jl:136\n",
      "┌ Info: Epoch 15\n",
      "└ @ ConvGRU /Users/kahingleung/.julia/packages/Flux/sY3yx/src/optimise/train.jl:136\n"
     ]
    },
    {
     "name": "stdout",
     "output_type": "stream",
     "text": [
      "mse_loss(xtest, ytest) = 1.5253425f0\n",
      "mse_loss(xtest, ytest) = 1.5225443f0\n"
     ]
    },
    {
     "name": "stderr",
     "output_type": "stream",
     "text": [
      "┌ Info: Epoch 16\n",
      "└ @ ConvGRU /Users/kahingleung/.julia/packages/Flux/sY3yx/src/optimise/train.jl:136\n"
     ]
    },
    {
     "name": "stdout",
     "output_type": "stream",
     "text": [
      "mse_loss(xtest, ytest) = 1.5235822f0\n"
     ]
    },
    {
     "name": "stderr",
     "output_type": "stream",
     "text": [
      "┌ Info: Epoch 17\n",
      "└ @ ConvGRU /Users/kahingleung/.julia/packages/Flux/sY3yx/src/optimise/train.jl:136\n"
     ]
    },
    {
     "name": "stdout",
     "output_type": "stream",
     "text": [
      "mse_loss(xtest, ytest) = 1.5256774f0\n"
     ]
    },
    {
     "name": "stderr",
     "output_type": "stream",
     "text": [
      "┌ Info: Epoch 18\n",
      "└ @ ConvGRU /Users/kahingleung/.julia/packages/Flux/sY3yx/src/optimise/train.jl:136\n"
     ]
    },
    {
     "name": "stdout",
     "output_type": "stream",
     "text": [
      "mse_loss(xtest, ytest) = 1.5360383f0\n"
     ]
    },
    {
     "name": "stderr",
     "output_type": "stream",
     "text": [
      "┌ Info: Epoch 19\n",
      "└ @ ConvGRU /Users/kahingleung/.julia/packages/Flux/sY3yx/src/optimise/train.jl:136\n"
     ]
    },
    {
     "name": "stdout",
     "output_type": "stream",
     "text": [
      "mse_loss(xtest, ytest) = 1.5345657f0\n"
     ]
    },
    {
     "name": "stderr",
     "output_type": "stream",
     "text": [
      "┌ Info: Epoch 20\n",
      "└ @ ConvGRU /Users/kahingleung/.julia/packages/Flux/sY3yx/src/optimise/train.jl:136\n"
     ]
    },
    {
     "name": "stdout",
     "output_type": "stream",
     "text": [
      "mse_loss(xtest, ytest) = 1.5289457f0\n"
     ]
    },
    {
     "name": "stderr",
     "output_type": "stream",
     "text": [
      "┌ Info: Epoch 21\n",
      "└ @ ConvGRU /Users/kahingleung/.julia/packages/Flux/sY3yx/src/optimise/train.jl:136\n"
     ]
    },
    {
     "name": "stdout",
     "output_type": "stream",
     "text": [
      "mse_loss(xtest, ytest) = 1.532346f0\n"
     ]
    },
    {
     "name": "stderr",
     "output_type": "stream",
     "text": [
      "┌ Info: Epoch 22\n",
      "└ @ ConvGRU /Users/kahingleung/.julia/packages/Flux/sY3yx/src/optimise/train.jl:136\n",
      "┌ Info: Epoch 23\n",
      "└ @ ConvGRU /Users/kahingleung/.julia/packages/Flux/sY3yx/src/optimise/train.jl:136\n"
     ]
    },
    {
     "name": "stdout",
     "output_type": "stream",
     "text": [
      "mse_loss(xtest, ytest) = 1.5320971f0\n",
      "mse_loss(xtest, ytest) = 1.5374051f0\n"
     ]
    },
    {
     "name": "stderr",
     "output_type": "stream",
     "text": [
      "┌ Info: Epoch 24\n",
      "└ @ ConvGRU /Users/kahingleung/.julia/packages/Flux/sY3yx/src/optimise/train.jl:136\n",
      "┌ Info: Epoch 25\n",
      "└ @ ConvGRU /Users/kahingleung/.julia/packages/Flux/sY3yx/src/optimise/train.jl:136\n"
     ]
    },
    {
     "name": "stdout",
     "output_type": "stream",
     "text": [
      "mse_loss(xtest, ytest) = 1.5337626f0\n",
      "mse_loss(xtest, ytest) = 1.5300786f0\n"
     ]
    },
    {
     "name": "stderr",
     "output_type": "stream",
     "text": [
      "┌ Info: Epoch 26\n",
      "└ @ ConvGRU /Users/kahingleung/.julia/packages/Flux/sY3yx/src/optimise/train.jl:136\n"
     ]
    },
    {
     "name": "stdout",
     "output_type": "stream",
     "text": [
      "mse_loss(xtest, ytest) = 1.5300784f0\n"
     ]
    },
    {
     "name": "stderr",
     "output_type": "stream",
     "text": [
      "┌ Info: Epoch 27\n",
      "└ @ ConvGRU /Users/kahingleung/.julia/packages/Flux/sY3yx/src/optimise/train.jl:136\n"
     ]
    },
    {
     "name": "stdout",
     "output_type": "stream",
     "text": [
      "mse_loss(xtest, ytest) = 1.5354382f0\n"
     ]
    },
    {
     "name": "stderr",
     "output_type": "stream",
     "text": [
      "┌ Info: Epoch 28\n",
      "└ @ ConvGRU /Users/kahingleung/.julia/packages/Flux/sY3yx/src/optimise/train.jl:136\n"
     ]
    },
    {
     "name": "stdout",
     "output_type": "stream",
     "text": [
      "mse_loss(xtest, ytest) = 1.5319102f0\n"
     ]
    },
    {
     "name": "stderr",
     "output_type": "stream",
     "text": [
      "┌ Info: Epoch 29\n",
      "└ @ ConvGRU /Users/kahingleung/.julia/packages/Flux/sY3yx/src/optimise/train.jl:136\n"
     ]
    },
    {
     "name": "stdout",
     "output_type": "stream",
     "text": [
      "mse_loss(xtest, ytest) = 1.5333159f0\n"
     ]
    },
    {
     "name": "stderr",
     "output_type": "stream",
     "text": [
      "┌ Info: Epoch 30\n",
      "└ @ ConvGRU /Users/kahingleung/.julia/packages/Flux/sY3yx/src/optimise/train.jl:136\n"
     ]
    },
    {
     "name": "stdout",
     "output_type": "stream",
     "text": [
      "(250,)\n",
      "myObjective(df, seqlen, Nh, lr, sym * \"-\" * string(i)) = 1.556932f0\n",
      "161060.007742636826811269\n",
      "mse_loss(xtest, ytest) = 1.5528412f0\n",
      "mse_loss(xtest, ytest) = 1.4947944f0\n"
     ]
    },
    {
     "name": "stderr",
     "output_type": "stream",
     "text": [
      "┌ Info: Epoch 1\n",
      "└ @ ConvGRU /Users/kahingleung/.julia/packages/Flux/sY3yx/src/optimise/train.jl:136\n"
     ]
    },
    {
     "name": "stdout",
     "output_type": "stream",
     "text": [
      "mse_loss(xtest, ytest) = 1.5421275f0\n"
     ]
    },
    {
     "name": "stderr",
     "output_type": "stream",
     "text": [
      "┌ Info: Epoch 2\n",
      "└ @ ConvGRU /Users/kahingleung/.julia/packages/Flux/sY3yx/src/optimise/train.jl:136\n"
     ]
    },
    {
     "name": "stdout",
     "output_type": "stream",
     "text": [
      "mse_loss(xtest, ytest) = 1.5257945f0\n"
     ]
    },
    {
     "name": "stderr",
     "output_type": "stream",
     "text": [
      "┌ Info: Epoch 3\n",
      "└ @ ConvGRU /Users/kahingleung/.julia/packages/Flux/sY3yx/src/optimise/train.jl:136\n"
     ]
    },
    {
     "name": "stdout",
     "output_type": "stream",
     "text": [
      "mse_loss(xtest, ytest) = 1.529503f0\n"
     ]
    },
    {
     "name": "stderr",
     "output_type": "stream",
     "text": [
      "┌ Info: Epoch 4\n",
      "└ @ ConvGRU /Users/kahingleung/.julia/packages/Flux/sY3yx/src/optimise/train.jl:136\n"
     ]
    },
    {
     "name": "stdout",
     "output_type": "stream",
     "text": [
      "mse_loss(xtest, ytest) = 1.5351046f0\n"
     ]
    },
    {
     "name": "stderr",
     "output_type": "stream",
     "text": [
      "┌ Info: Epoch 5\n",
      "└ @ ConvGRU /Users/kahingleung/.julia/packages/Flux/sY3yx/src/optimise/train.jl:136\n"
     ]
    },
    {
     "name": "stdout",
     "output_type": "stream",
     "text": [
      "mse_loss(xtest, ytest) = 1.5388435f0\n"
     ]
    },
    {
     "name": "stderr",
     "output_type": "stream",
     "text": [
      "┌ Info: Epoch 6\n",
      "└ @ ConvGRU /Users/kahingleung/.julia/packages/Flux/sY3yx/src/optimise/train.jl:136\n"
     ]
    },
    {
     "name": "stdout",
     "output_type": "stream",
     "text": [
      "mse_loss(xtest, ytest) = 1.5384071f0\n"
     ]
    },
    {
     "name": "stderr",
     "output_type": "stream",
     "text": [
      "┌ Info: Epoch 7\n",
      "└ @ ConvGRU /Users/kahingleung/.julia/packages/Flux/sY3yx/src/optimise/train.jl:136\n"
     ]
    },
    {
     "name": "stdout",
     "output_type": "stream",
     "text": [
      "mse_loss(xtest, ytest) = 1.546587f0\n"
     ]
    },
    {
     "name": "stderr",
     "output_type": "stream",
     "text": [
      "┌ Info: Epoch 8\n",
      "└ @ ConvGRU /Users/kahingleung/.julia/packages/Flux/sY3yx/src/optimise/train.jl:136\n"
     ]
    },
    {
     "name": "stdout",
     "output_type": "stream",
     "text": [
      "mse_loss(xtest, ytest) = 1.5754361f0\n"
     ]
    },
    {
     "name": "stderr",
     "output_type": "stream",
     "text": [
      "┌ Info: Epoch 9\n",
      "└ @ ConvGRU /Users/kahingleung/.julia/packages/Flux/sY3yx/src/optimise/train.jl:136\n"
     ]
    },
    {
     "name": "stdout",
     "output_type": "stream",
     "text": [
      "mse_loss(xtest, ytest) = 1.5427545f0\n"
     ]
    },
    {
     "name": "stderr",
     "output_type": "stream",
     "text": [
      "┌ Info: Epoch 10\n",
      "└ @ ConvGRU /Users/kahingleung/.julia/packages/Flux/sY3yx/src/optimise/train.jl:136\n"
     ]
    },
    {
     "name": "stdout",
     "output_type": "stream",
     "text": [
      "mse_loss(xtest, ytest) = 1.5433754f0\n"
     ]
    },
    {
     "name": "stderr",
     "output_type": "stream",
     "text": [
      "┌ Info: Epoch 11\n",
      "└ @ ConvGRU /Users/kahingleung/.julia/packages/Flux/sY3yx/src/optimise/train.jl:136\n",
      "┌ Info: Epoch 12\n",
      "└ @ ConvGRU /Users/kahingleung/.julia/packages/Flux/sY3yx/src/optimise/train.jl:136\n"
     ]
    },
    {
     "name": "stdout",
     "output_type": "stream",
     "text": [
      "mse_loss(xtest, ytest) = 1.5394794f0\n",
      "mse_loss(xtest, ytest) = 1.5337441f0\n"
     ]
    },
    {
     "name": "stderr",
     "output_type": "stream",
     "text": [
      "┌ Info: Epoch 13\n",
      "└ @ ConvGRU /Users/kahingleung/.julia/packages/Flux/sY3yx/src/optimise/train.jl:136\n"
     ]
    },
    {
     "name": "stdout",
     "output_type": "stream",
     "text": [
      "mse_loss(xtest, ytest) = 1.5360054f0\n"
     ]
    },
    {
     "name": "stderr",
     "output_type": "stream",
     "text": [
      "┌ Info: Epoch 14\n",
      "└ @ ConvGRU /Users/kahingleung/.julia/packages/Flux/sY3yx/src/optimise/train.jl:136\n",
      "┌ Info: Epoch 15\n",
      "└ @ ConvGRU /Users/kahingleung/.julia/packages/Flux/sY3yx/src/optimise/train.jl:136\n"
     ]
    },
    {
     "name": "stdout",
     "output_type": "stream",
     "text": [
      "mse_loss(xtest, ytest) = 1.5283793f0\n"
     ]
    },
    {
     "name": "stderr",
     "output_type": "stream",
     "text": [
      "┌ Info: Epoch 16\n",
      "└ @ ConvGRU /Users/kahingleung/.julia/packages/Flux/sY3yx/src/optimise/train.jl:136\n"
     ]
    },
    {
     "name": "stdout",
     "output_type": "stream",
     "text": [
      "mse_loss(xtest, ytest) = 1.535388f0\n",
      "mse_loss(xtest, ytest) = 1.5462159f0\n"
     ]
    },
    {
     "name": "stderr",
     "output_type": "stream",
     "text": [
      "┌ Info: Epoch 17\n",
      "└ @ ConvGRU /Users/kahingleung/.julia/packages/Flux/sY3yx/src/optimise/train.jl:136\n",
      "┌ Info: Epoch 18\n",
      "└ @ ConvGRU /Users/kahingleung/.julia/packages/Flux/sY3yx/src/optimise/train.jl:136\n"
     ]
    },
    {
     "name": "stdout",
     "output_type": "stream",
     "text": [
      "mse_loss(xtest, ytest) = 1.513128f0\n",
      "mse_loss(xtest, ytest) = 1.5758932f0\n"
     ]
    },
    {
     "name": "stderr",
     "output_type": "stream",
     "text": [
      "┌ Info: Epoch 19\n",
      "└ @ ConvGRU /Users/kahingleung/.julia/packages/Flux/sY3yx/src/optimise/train.jl:136\n"
     ]
    },
    {
     "name": "stdout",
     "output_type": "stream",
     "text": [
      "mse_loss(xtest, ytest) = 1.5632999f0\n"
     ]
    },
    {
     "name": "stderr",
     "output_type": "stream",
     "text": [
      "┌ Info: Epoch 20\n",
      "└ @ ConvGRU /Users/kahingleung/.julia/packages/Flux/sY3yx/src/optimise/train.jl:136\n"
     ]
    },
    {
     "name": "stdout",
     "output_type": "stream",
     "text": [
      "mse_loss(xtest, ytest) = 1.642461f0\n"
     ]
    },
    {
     "name": "stderr",
     "output_type": "stream",
     "text": [
      "┌ Info: Epoch 21\n",
      "└ @ ConvGRU /Users/kahingleung/.julia/packages/Flux/sY3yx/src/optimise/train.jl:136\n"
     ]
    },
    {
     "name": "stdout",
     "output_type": "stream",
     "text": [
      "mse_loss(xtest, ytest) = 1.5135229f0\n"
     ]
    },
    {
     "name": "stderr",
     "output_type": "stream",
     "text": [
      "┌ Info: Epoch 22\n",
      "└ @ ConvGRU /Users/kahingleung/.julia/packages/Flux/sY3yx/src/optimise/train.jl:136\n"
     ]
    },
    {
     "name": "stdout",
     "output_type": "stream",
     "text": [
      "mse_loss(xtest, ytest) = 1.5469848f0\n"
     ]
    },
    {
     "name": "stderr",
     "output_type": "stream",
     "text": [
      "┌ Info: Epoch 23\n",
      "└ @ ConvGRU /Users/kahingleung/.julia/packages/Flux/sY3yx/src/optimise/train.jl:136\n"
     ]
    },
    {
     "name": "stdout",
     "output_type": "stream",
     "text": [
      "mse_loss(xtest, ytest) = 1.6470828f0\n"
     ]
    },
    {
     "name": "stderr",
     "output_type": "stream",
     "text": [
      "┌ Info: Epoch 24\n",
      "└ @ ConvGRU /Users/kahingleung/.julia/packages/Flux/sY3yx/src/optimise/train.jl:136\n"
     ]
    },
    {
     "name": "stdout",
     "output_type": "stream",
     "text": [
      "mse_loss(xtest, ytest) = 1.5056427f0\n"
     ]
    },
    {
     "name": "stderr",
     "output_type": "stream",
     "text": [
      "┌ Info: Epoch 25\n",
      "└ @ ConvGRU /Users/kahingleung/.julia/packages/Flux/sY3yx/src/optimise/train.jl:136\n"
     ]
    },
    {
     "name": "stdout",
     "output_type": "stream",
     "text": [
      "mse_loss(xtest, ytest) = 1.5173993f0\n"
     ]
    },
    {
     "name": "stderr",
     "output_type": "stream",
     "text": [
      "┌ Info: Epoch 26\n",
      "└ @ ConvGRU /Users/kahingleung/.julia/packages/Flux/sY3yx/src/optimise/train.jl:136\n"
     ]
    },
    {
     "name": "stdout",
     "output_type": "stream",
     "text": [
      "mse_loss(xtest, ytest) = 1.5244964f0\n"
     ]
    },
    {
     "name": "stderr",
     "output_type": "stream",
     "text": [
      "┌ Info: Epoch 27\n",
      "└ @ ConvGRU /Users/kahingleung/.julia/packages/Flux/sY3yx/src/optimise/train.jl:136\n"
     ]
    },
    {
     "name": "stdout",
     "output_type": "stream",
     "text": [
      "mse_loss(xtest, ytest) = 1.5282844f0\n"
     ]
    },
    {
     "name": "stderr",
     "output_type": "stream",
     "text": [
      "┌ Info: Epoch 28\n",
      "└ @ ConvGRU /Users/kahingleung/.julia/packages/Flux/sY3yx/src/optimise/train.jl:136\n"
     ]
    },
    {
     "name": "stdout",
     "output_type": "stream",
     "text": [
      "mse_loss(xtest, ytest) = 1.5262684f0\n"
     ]
    },
    {
     "name": "stderr",
     "output_type": "stream",
     "text": [
      "┌ Info: Epoch 29\n",
      "└ @ ConvGRU /Users/kahingleung/.julia/packages/Flux/sY3yx/src/optimise/train.jl:136\n"
     ]
    },
    {
     "name": "stdout",
     "output_type": "stream",
     "text": [
      "mse_loss(xtest, ytest) = 1.5289851f0\n"
     ]
    },
    {
     "name": "stderr",
     "output_type": "stream",
     "text": [
      "┌ Info: Epoch 30\n",
      "└ @ ConvGRU /Users/kahingleung/.julia/packages/Flux/sY3yx/src/optimise/train.jl:136\n"
     ]
    },
    {
     "name": "stdout",
     "output_type": "stream",
     "text": [
      "(250,)\n",
      "myObjective(df, seqlen, Nh, lr, sym * \"-\" * string(i)) = 1.5838434f0\n",
      "172560.005994842503189409\n",
      "mse_loss(xtest, ytest) = 1.7168019f0\n",
      "mse_loss(xtest, ytest) = 1.5815358f0\n"
     ]
    },
    {
     "name": "stderr",
     "output_type": "stream",
     "text": [
      "┌ Info: Epoch 1\n",
      "└ @ ConvGRU /Users/kahingleung/.julia/packages/Flux/sY3yx/src/optimise/train.jl:136\n"
     ]
    },
    {
     "name": "stdout",
     "output_type": "stream",
     "text": [
      "mse_loss(xtest, ytest) = 1.5452629f0\n"
     ]
    },
    {
     "name": "stderr",
     "output_type": "stream",
     "text": [
      "┌ Info: Epoch 2\n",
      "└ @ ConvGRU /Users/kahingleung/.julia/packages/Flux/sY3yx/src/optimise/train.jl:136\n",
      "┌ Info: Epoch 3\n",
      "└ @ ConvGRU /Users/kahingleung/.julia/packages/Flux/sY3yx/src/optimise/train.jl:136\n"
     ]
    },
    {
     "name": "stdout",
     "output_type": "stream",
     "text": [
      "mse_loss(xtest, ytest) = 1.5769383f0\n",
      "mse_loss(xtest, ytest) = 1.553115f0\n"
     ]
    },
    {
     "name": "stderr",
     "output_type": "stream",
     "text": [
      "┌ Info: Epoch 4\n",
      "└ @ ConvGRU /Users/kahingleung/.julia/packages/Flux/sY3yx/src/optimise/train.jl:136\n",
      "┌ Info: Epoch 5\n",
      "└ @ ConvGRU /Users/kahingleung/.julia/packages/Flux/sY3yx/src/optimise/train.jl:136\n"
     ]
    },
    {
     "name": "stdout",
     "output_type": "stream",
     "text": [
      "mse_loss(xtest, ytest) = 1.5638621f0\n",
      "mse_loss(xtest, ytest) = 1.5740224f0\n"
     ]
    },
    {
     "name": "stderr",
     "output_type": "stream",
     "text": [
      "┌ Info: Epoch 6\n",
      "└ @ ConvGRU /Users/kahingleung/.julia/packages/Flux/sY3yx/src/optimise/train.jl:136\n"
     ]
    },
    {
     "name": "stdout",
     "output_type": "stream",
     "text": [
      "mse_loss(xtest, ytest) = 1.6001426f0\n"
     ]
    },
    {
     "name": "stderr",
     "output_type": "stream",
     "text": [
      "┌ Info: Epoch 7\n",
      "└ @ ConvGRU /Users/kahingleung/.julia/packages/Flux/sY3yx/src/optimise/train.jl:136\n"
     ]
    },
    {
     "name": "stdout",
     "output_type": "stream",
     "text": [
      "mse_loss(xtest, ytest) = 1.5989827f0\n"
     ]
    },
    {
     "name": "stderr",
     "output_type": "stream",
     "text": [
      "┌ Info: Epoch 8\n",
      "└ @ ConvGRU /Users/kahingleung/.julia/packages/Flux/sY3yx/src/optimise/train.jl:136\n"
     ]
    },
    {
     "name": "stdout",
     "output_type": "stream",
     "text": [
      "mse_loss(xtest, ytest) = 1.5945554f0\n"
     ]
    },
    {
     "name": "stderr",
     "output_type": "stream",
     "text": [
      "┌ Info: Epoch 9\n",
      "└ @ ConvGRU /Users/kahingleung/.julia/packages/Flux/sY3yx/src/optimise/train.jl:136\n"
     ]
    },
    {
     "name": "stdout",
     "output_type": "stream",
     "text": [
      "mse_loss(xtest, ytest) = 1.5838176f0\n"
     ]
    },
    {
     "name": "stderr",
     "output_type": "stream",
     "text": [
      "┌ Info: Epoch 10\n",
      "└ @ ConvGRU /Users/kahingleung/.julia/packages/Flux/sY3yx/src/optimise/train.jl:136\n",
      "┌ Info: Epoch 11\n",
      "└ @ ConvGRU /Users/kahingleung/.julia/packages/Flux/sY3yx/src/optimise/train.jl:136\n"
     ]
    },
    {
     "name": "stdout",
     "output_type": "stream",
     "text": [
      "mse_loss(xtest, ytest) = 1.5902407f0\n",
      "mse_loss(xtest, ytest) = 1.5722741f0\n"
     ]
    },
    {
     "name": "stderr",
     "output_type": "stream",
     "text": [
      "┌ Info: Epoch 12\n",
      "└ @ ConvGRU /Users/kahingleung/.julia/packages/Flux/sY3yx/src/optimise/train.jl:136\n"
     ]
    },
    {
     "name": "stdout",
     "output_type": "stream",
     "text": [
      "mse_loss(xtest, ytest) = 1.5889012f0\n"
     ]
    },
    {
     "name": "stderr",
     "output_type": "stream",
     "text": [
      "┌ Info: Epoch 13\n",
      "└ @ ConvGRU /Users/kahingleung/.julia/packages/Flux/sY3yx/src/optimise/train.jl:136\n"
     ]
    },
    {
     "name": "stdout",
     "output_type": "stream",
     "text": [
      "mse_loss(xtest, ytest) = 1.5805191f0\n"
     ]
    },
    {
     "name": "stderr",
     "output_type": "stream",
     "text": [
      "┌ Info: Epoch 14\n",
      "└ @ ConvGRU /Users/kahingleung/.julia/packages/Flux/sY3yx/src/optimise/train.jl:136\n"
     ]
    },
    {
     "name": "stdout",
     "output_type": "stream",
     "text": [
      "mse_loss(xtest, ytest) = 1.6066903f0\n"
     ]
    },
    {
     "name": "stderr",
     "output_type": "stream",
     "text": [
      "┌ Info: Epoch 15\n",
      "└ @ ConvGRU /Users/kahingleung/.julia/packages/Flux/sY3yx/src/optimise/train.jl:136\n"
     ]
    },
    {
     "name": "stdout",
     "output_type": "stream",
     "text": [
      "mse_loss(xtest, ytest) = 1.6033604f0\n"
     ]
    },
    {
     "name": "stderr",
     "output_type": "stream",
     "text": [
      "┌ Info: Epoch 16\n",
      "└ @ ConvGRU /Users/kahingleung/.julia/packages/Flux/sY3yx/src/optimise/train.jl:136\n",
      "┌ Info: Epoch 17\n",
      "└ @ ConvGRU /Users/kahingleung/.julia/packages/Flux/sY3yx/src/optimise/train.jl:136\n"
     ]
    },
    {
     "name": "stdout",
     "output_type": "stream",
     "text": [
      "mse_loss(xtest, ytest) = 1.5726857f0\n"
     ]
    },
    {
     "name": "stderr",
     "output_type": "stream",
     "text": [
      "┌ Info: Epoch 18\n",
      "└ @ ConvGRU /Users/kahingleung/.julia/packages/Flux/sY3yx/src/optimise/train.jl:136\n"
     ]
    },
    {
     "name": "stdout",
     "output_type": "stream",
     "text": [
      "mse_loss(xtest, ytest) = 1.5736651f0\n"
     ]
    },
    {
     "name": "stderr",
     "output_type": "stream",
     "text": [
      "┌ Info: Epoch 19\n",
      "└ @ ConvGRU /Users/kahingleung/.julia/packages/Flux/sY3yx/src/optimise/train.jl:136\n"
     ]
    },
    {
     "name": "stdout",
     "output_type": "stream",
     "text": [
      "mse_loss(xtest, ytest) = 1.5944866f0\n"
     ]
    },
    {
     "name": "stderr",
     "output_type": "stream",
     "text": [
      "┌ Info: Epoch 20\n",
      "└ @ ConvGRU /Users/kahingleung/.julia/packages/Flux/sY3yx/src/optimise/train.jl:136\n"
     ]
    },
    {
     "name": "stdout",
     "output_type": "stream",
     "text": [
      "mse_loss(xtest, ytest) = 1.6011521f0\n",
      "mse_loss(xtest, ytest) = 1.5978572f0\n"
     ]
    },
    {
     "name": "stderr",
     "output_type": "stream",
     "text": [
      "┌ Info: Epoch 21\n",
      "└ @ ConvGRU /Users/kahingleung/.julia/packages/Flux/sY3yx/src/optimise/train.jl:136\n"
     ]
    },
    {
     "name": "stdout",
     "output_type": "stream",
     "text": [
      "mse_loss(xtest, ytest) = 1.5821732f0\n"
     ]
    },
    {
     "name": "stderr",
     "output_type": "stream",
     "text": [
      "┌ Info: Epoch 22\n",
      "└ @ ConvGRU /Users/kahingleung/.julia/packages/Flux/sY3yx/src/optimise/train.jl:136\n"
     ]
    },
    {
     "name": "stdout",
     "output_type": "stream",
     "text": [
      "mse_loss(xtest, ytest) = 1.5974778f0\n"
     ]
    },
    {
     "name": "stderr",
     "output_type": "stream",
     "text": [
      "┌ Info: Epoch 23\n",
      "└ @ ConvGRU /Users/kahingleung/.julia/packages/Flux/sY3yx/src/optimise/train.jl:136\n",
      "┌ Info: Epoch 24\n",
      "└ @ ConvGRU /Users/kahingleung/.julia/packages/Flux/sY3yx/src/optimise/train.jl:136\n"
     ]
    },
    {
     "name": "stdout",
     "output_type": "stream",
     "text": [
      "mse_loss(xtest, ytest) = 1.5770688f0\n",
      "mse_loss(xtest, ytest) = 1.5873723f0\n"
     ]
    },
    {
     "name": "stderr",
     "output_type": "stream",
     "text": [
      "┌ Info: Epoch 25\n",
      "└ @ ConvGRU /Users/kahingleung/.julia/packages/Flux/sY3yx/src/optimise/train.jl:136\n"
     ]
    },
    {
     "name": "stdout",
     "output_type": "stream",
     "text": [
      "mse_loss(xtest, ytest) = 1.5111424f0\n"
     ]
    },
    {
     "name": "stderr",
     "output_type": "stream",
     "text": [
      "┌ Info: Epoch 26\n",
      "└ @ ConvGRU /Users/kahingleung/.julia/packages/Flux/sY3yx/src/optimise/train.jl:136\n",
      "┌ Info: Epoch 27\n",
      "└ @ ConvGRU /Users/kahingleung/.julia/packages/Flux/sY3yx/src/optimise/train.jl:136\n"
     ]
    },
    {
     "name": "stdout",
     "output_type": "stream",
     "text": [
      "mse_loss(xtest, ytest) = 1.6067252f0\n",
      "mse_loss(xtest, ytest) = 1.58776f0\n"
     ]
    },
    {
     "name": "stderr",
     "output_type": "stream",
     "text": [
      "┌ Info: Epoch 28\n",
      "└ @ ConvGRU /Users/kahingleung/.julia/packages/Flux/sY3yx/src/optimise/train.jl:136\n"
     ]
    },
    {
     "name": "stdout",
     "output_type": "stream",
     "text": [
      "mse_loss(xtest, ytest) = 1.5644665f0\n"
     ]
    },
    {
     "name": "stderr",
     "output_type": "stream",
     "text": [
      "┌ Info: Epoch 29\n",
      "└ @ ConvGRU /Users/kahingleung/.julia/packages/Flux/sY3yx/src/optimise/train.jl:136\n"
     ]
    },
    {
     "name": "stdout",
     "output_type": "stream",
     "text": [
      "mse_loss(xtest, ytest) = 1.5980172f0\n"
     ]
    },
    {
     "name": "stderr",
     "output_type": "stream",
     "text": [
      "┌ Info: Epoch 30\n",
      "└ @ ConvGRU /Users/kahingleung/.julia/packages/Flux/sY3yx/src/optimise/train.jl:136\n"
     ]
    },
    {
     "name": "stdout",
     "output_type": "stream",
     "text": [
      "(250,)\n",
      "myObjective(df, seqlen, Nh, lr, sym * \"-\" * string(i)) = 1.6639799f0\n",
      "181540.0016681005372000592\n",
      "mse_loss(xtest, ytest) = 1.6317952f0\n",
      "mse_loss(xtest, ytest) = 1.6063708f0\n"
     ]
    },
    {
     "name": "stderr",
     "output_type": "stream",
     "text": [
      "┌ Info: Epoch 1\n",
      "└ @ ConvGRU /Users/kahingleung/.julia/packages/Flux/sY3yx/src/optimise/train.jl:136\n"
     ]
    },
    {
     "name": "stdout",
     "output_type": "stream",
     "text": [
      "mse_loss(xtest, ytest) = 1.568586f0\n"
     ]
    },
    {
     "name": "stderr",
     "output_type": "stream",
     "text": [
      "┌ Info: Epoch 2\n",
      "└ @ ConvGRU /Users/kahingleung/.julia/packages/Flux/sY3yx/src/optimise/train.jl:136\n",
      "┌ Info: Epoch 3\n",
      "└ @ ConvGRU /Users/kahingleung/.julia/packages/Flux/sY3yx/src/optimise/train.jl:136\n"
     ]
    },
    {
     "name": "stdout",
     "output_type": "stream",
     "text": [
      "mse_loss(xtest, ytest) = 1.5469491f0\n",
      "mse_loss(xtest, ytest) = 1.5489424f0\n"
     ]
    },
    {
     "name": "stderr",
     "output_type": "stream",
     "text": [
      "┌ Info: Epoch 4\n",
      "└ @ ConvGRU /Users/kahingleung/.julia/packages/Flux/sY3yx/src/optimise/train.jl:136\n",
      "┌ Info: Epoch 5\n",
      "└ @ ConvGRU /Users/kahingleung/.julia/packages/Flux/sY3yx/src/optimise/train.jl:136\n"
     ]
    },
    {
     "name": "stdout",
     "output_type": "stream",
     "text": [
      "mse_loss(xtest, ytest) = 1.5450937f0\n",
      "mse_loss(xtest, ytest) = 1.5442488f0\n"
     ]
    },
    {
     "name": "stderr",
     "output_type": "stream",
     "text": [
      "┌ Info: Epoch 6\n",
      "└ @ ConvGRU /Users/kahingleung/.julia/packages/Flux/sY3yx/src/optimise/train.jl:136\n"
     ]
    },
    {
     "name": "stdout",
     "output_type": "stream",
     "text": [
      "mse_loss(xtest, ytest) = 1.5419717f0\n"
     ]
    },
    {
     "name": "stderr",
     "output_type": "stream",
     "text": [
      "┌ Info: Epoch 7\n",
      "└ @ ConvGRU /Users/kahingleung/.julia/packages/Flux/sY3yx/src/optimise/train.jl:136\n"
     ]
    },
    {
     "name": "stdout",
     "output_type": "stream",
     "text": [
      "mse_loss(xtest, ytest) = 1.5440657f0\n"
     ]
    },
    {
     "name": "stderr",
     "output_type": "stream",
     "text": [
      "┌ Info: Epoch 8\n",
      "└ @ ConvGRU /Users/kahingleung/.julia/packages/Flux/sY3yx/src/optimise/train.jl:136\n"
     ]
    },
    {
     "name": "stdout",
     "output_type": "stream",
     "text": [
      "mse_loss(xtest, ytest) = 1.5394008f0\n"
     ]
    },
    {
     "name": "stderr",
     "output_type": "stream",
     "text": [
      "┌ Info: Epoch 9\n",
      "└ @ ConvGRU /Users/kahingleung/.julia/packages/Flux/sY3yx/src/optimise/train.jl:136\n"
     ]
    },
    {
     "name": "stdout",
     "output_type": "stream",
     "text": [
      "mse_loss(xtest, ytest) = 1.5436656f0\n"
     ]
    },
    {
     "name": "stderr",
     "output_type": "stream",
     "text": [
      "┌ Info: Epoch 10\n",
      "└ @ ConvGRU /Users/kahingleung/.julia/packages/Flux/sY3yx/src/optimise/train.jl:136\n"
     ]
    },
    {
     "name": "stdout",
     "output_type": "stream",
     "text": [
      "mse_loss(xtest, ytest) = 1.5418003f0\n"
     ]
    },
    {
     "name": "stderr",
     "output_type": "stream",
     "text": [
      "┌ Info: Epoch 11\n",
      "└ @ ConvGRU /Users/kahingleung/.julia/packages/Flux/sY3yx/src/optimise/train.jl:136\n"
     ]
    },
    {
     "name": "stdout",
     "output_type": "stream",
     "text": [
      "mse_loss(xtest, ytest) = 1.5473013f0\n"
     ]
    },
    {
     "name": "stderr",
     "output_type": "stream",
     "text": [
      "┌ Info: Epoch 12\n",
      "└ @ ConvGRU /Users/kahingleung/.julia/packages/Flux/sY3yx/src/optimise/train.jl:136\n"
     ]
    },
    {
     "name": "stdout",
     "output_type": "stream",
     "text": [
      "mse_loss(xtest, ytest) = 1.548532f0\n"
     ]
    },
    {
     "name": "stderr",
     "output_type": "stream",
     "text": [
      "┌ Info: Epoch 13\n",
      "└ @ ConvGRU /Users/kahingleung/.julia/packages/Flux/sY3yx/src/optimise/train.jl:136\n"
     ]
    },
    {
     "name": "stdout",
     "output_type": "stream",
     "text": [
      "mse_loss(xtest, ytest) = 1.5520943f0\n"
     ]
    },
    {
     "name": "stderr",
     "output_type": "stream",
     "text": [
      "┌ Info: Epoch 14\n",
      "└ @ ConvGRU /Users/kahingleung/.julia/packages/Flux/sY3yx/src/optimise/train.jl:136\n",
      "┌ Info: Epoch 15\n",
      "└ @ ConvGRU /Users/kahingleung/.julia/packages/Flux/sY3yx/src/optimise/train.jl:136\n"
     ]
    },
    {
     "name": "stdout",
     "output_type": "stream",
     "text": [
      "mse_loss(xtest, ytest) = 1.5586432f0\n",
      "mse_loss(xtest, ytest) = 1.5574398f0\n"
     ]
    },
    {
     "name": "stderr",
     "output_type": "stream",
     "text": [
      "┌ Info: Epoch 16\n",
      "└ @ ConvGRU /Users/kahingleung/.julia/packages/Flux/sY3yx/src/optimise/train.jl:136\n",
      "┌ Info: Epoch 17\n",
      "└ @ ConvGRU /Users/kahingleung/.julia/packages/Flux/sY3yx/src/optimise/train.jl:136\n"
     ]
    },
    {
     "name": "stdout",
     "output_type": "stream",
     "text": [
      "mse_loss(xtest, ytest) = 1.5554576f0\n"
     ]
    },
    {
     "name": "stderr",
     "output_type": "stream",
     "text": [
      "┌ Info: Epoch 18\n",
      "└ @ ConvGRU /Users/kahingleung/.julia/packages/Flux/sY3yx/src/optimise/train.jl:136\n"
     ]
    },
    {
     "name": "stdout",
     "output_type": "stream",
     "text": [
      "mse_loss(xtest, ytest) = 1.5581911f0\n"
     ]
    },
    {
     "name": "stderr",
     "output_type": "stream",
     "text": [
      "┌ Info: Epoch 19\n",
      "└ @ ConvGRU /Users/kahingleung/.julia/packages/Flux/sY3yx/src/optimise/train.jl:136\n"
     ]
    },
    {
     "name": "stdout",
     "output_type": "stream",
     "text": [
      "mse_loss(xtest, ytest) = 1.565521f0\n",
      "mse_loss(xtest, ytest) = 1.5681748f0\n"
     ]
    },
    {
     "name": "stderr",
     "output_type": "stream",
     "text": [
      "┌ Info: Epoch 20\n",
      "└ @ ConvGRU /Users/kahingleung/.julia/packages/Flux/sY3yx/src/optimise/train.jl:136\n"
     ]
    },
    {
     "name": "stdout",
     "output_type": "stream",
     "text": [
      "mse_loss(xtest, ytest) = 1.5720694f0\n"
     ]
    },
    {
     "name": "stderr",
     "output_type": "stream",
     "text": [
      "┌ Info: Epoch 21\n",
      "└ @ ConvGRU /Users/kahingleung/.julia/packages/Flux/sY3yx/src/optimise/train.jl:136\n"
     ]
    },
    {
     "name": "stdout",
     "output_type": "stream",
     "text": [
      "mse_loss(xtest, ytest) = 1.5735433f0\n"
     ]
    },
    {
     "name": "stderr",
     "output_type": "stream",
     "text": [
      "┌ Info: Epoch 22\n",
      "└ @ ConvGRU /Users/kahingleung/.julia/packages/Flux/sY3yx/src/optimise/train.jl:136\n"
     ]
    },
    {
     "name": "stdout",
     "output_type": "stream",
     "text": [
      "mse_loss(xtest, ytest) = 1.5739642f0\n"
     ]
    },
    {
     "name": "stderr",
     "output_type": "stream",
     "text": [
      "┌ Info: Epoch 23\n",
      "└ @ ConvGRU /Users/kahingleung/.julia/packages/Flux/sY3yx/src/optimise/train.jl:136\n"
     ]
    },
    {
     "name": "stdout",
     "output_type": "stream",
     "text": [
      "mse_loss(xtest, ytest) = 1.5690262f0\n"
     ]
    },
    {
     "name": "stderr",
     "output_type": "stream",
     "text": [
      "┌ Info: Epoch 24\n",
      "└ @ ConvGRU /Users/kahingleung/.julia/packages/Flux/sY3yx/src/optimise/train.jl:136\n"
     ]
    },
    {
     "name": "stdout",
     "output_type": "stream",
     "text": [
      "mse_loss(xtest, ytest) = 1.5736859f0\n"
     ]
    },
    {
     "name": "stderr",
     "output_type": "stream",
     "text": [
      "┌ Info: Epoch 25\n",
      "└ @ ConvGRU /Users/kahingleung/.julia/packages/Flux/sY3yx/src/optimise/train.jl:136\n"
     ]
    },
    {
     "name": "stdout",
     "output_type": "stream",
     "text": [
      "mse_loss(xtest, ytest) = 1.5724905f0\n"
     ]
    },
    {
     "name": "stderr",
     "output_type": "stream",
     "text": [
      "┌ Info: Epoch 26\n",
      "└ @ ConvGRU /Users/kahingleung/.julia/packages/Flux/sY3yx/src/optimise/train.jl:136\n"
     ]
    },
    {
     "name": "stdout",
     "output_type": "stream",
     "text": [
      "mse_loss(xtest, ytest) = 1.5765723f0\n"
     ]
    },
    {
     "name": "stderr",
     "output_type": "stream",
     "text": [
      "┌ Info: Epoch 27\n",
      "└ @ ConvGRU /Users/kahingleung/.julia/packages/Flux/sY3yx/src/optimise/train.jl:136\n"
     ]
    },
    {
     "name": "stdout",
     "output_type": "stream",
     "text": [
      "mse_loss(xtest, ytest) = 1.5731283f0\n"
     ]
    },
    {
     "name": "stderr",
     "output_type": "stream",
     "text": [
      "┌ Info: Epoch 28\n",
      "└ @ ConvGRU /Users/kahingleung/.julia/packages/Flux/sY3yx/src/optimise/train.jl:136\n"
     ]
    },
    {
     "name": "stdout",
     "output_type": "stream",
     "text": [
      "mse_loss(xtest, ytest) = 1.5704236f0\n"
     ]
    },
    {
     "name": "stderr",
     "output_type": "stream",
     "text": [
      "┌ Info: Epoch 29\n",
      "└ @ ConvGRU /Users/kahingleung/.julia/packages/Flux/sY3yx/src/optimise/train.jl:136\n",
      "┌ Info: Epoch 30\n",
      "└ @ ConvGRU /Users/kahingleung/.julia/packages/Flux/sY3yx/src/optimise/train.jl:136\n"
     ]
    },
    {
     "name": "stdout",
     "output_type": "stream",
     "text": [
      "mse_loss(xtest, ytest) = 1.5696127f0\n",
      "(250,)\n",
      "myObjective(df, seqlen, Nh, lr, sym * \"-\" * string(i)) = 1.5871515f0\n",
      "191580.0016681005372000592\n",
      "mse_loss(xtest, ytest) = 1.6241696f0\n"
     ]
    },
    {
     "name": "stderr",
     "output_type": "stream",
     "text": [
      "┌ Info: Epoch 1\n",
      "└ @ ConvGRU /Users/kahingleung/.julia/packages/Flux/sY3yx/src/optimise/train.jl:136\n"
     ]
    },
    {
     "name": "stdout",
     "output_type": "stream",
     "text": [
      "mse_loss(xtest, ytest) = 1.5848798f0\n",
      "mse_loss(xtest, ytest) = 1.5411584f0\n"
     ]
    },
    {
     "name": "stderr",
     "output_type": "stream",
     "text": [
      "┌ Info: Epoch 2\n",
      "└ @ ConvGRU /Users/kahingleung/.julia/packages/Flux/sY3yx/src/optimise/train.jl:136\n",
      "┌ Info: Epoch 3\n",
      "└ @ ConvGRU /Users/kahingleung/.julia/packages/Flux/sY3yx/src/optimise/train.jl:136\n"
     ]
    },
    {
     "name": "stdout",
     "output_type": "stream",
     "text": [
      "mse_loss(xtest, ytest) = 1.5261875f0\n",
      "mse_loss(xtest, ytest) = 1.5256497f0\n"
     ]
    },
    {
     "name": "stderr",
     "output_type": "stream",
     "text": [
      "┌ Info: Epoch 4\n",
      "└ @ ConvGRU /Users/kahingleung/.julia/packages/Flux/sY3yx/src/optimise/train.jl:136\n"
     ]
    },
    {
     "name": "stdout",
     "output_type": "stream",
     "text": [
      "mse_loss(xtest, ytest) = 1.5229963f0\n"
     ]
    },
    {
     "name": "stderr",
     "output_type": "stream",
     "text": [
      "┌ Info: Epoch 5\n",
      "└ @ ConvGRU /Users/kahingleung/.julia/packages/Flux/sY3yx/src/optimise/train.jl:136\n"
     ]
    },
    {
     "name": "stdout",
     "output_type": "stream",
     "text": [
      "mse_loss(xtest, ytest) = 1.5206352f0\n"
     ]
    },
    {
     "name": "stderr",
     "output_type": "stream",
     "text": [
      "┌ Info: Epoch 6\n",
      "└ @ ConvGRU /Users/kahingleung/.julia/packages/Flux/sY3yx/src/optimise/train.jl:136\n",
      "┌ Info: Epoch 7\n",
      "└ @ ConvGRU /Users/kahingleung/.julia/packages/Flux/sY3yx/src/optimise/train.jl:136\n"
     ]
    },
    {
     "name": "stdout",
     "output_type": "stream",
     "text": [
      "mse_loss(xtest, ytest) = 1.5225927f0\n",
      "mse_loss(xtest, ytest) = 1.5155604f0\n"
     ]
    },
    {
     "name": "stderr",
     "output_type": "stream",
     "text": [
      "┌ Info: Epoch 8\n",
      "└ @ ConvGRU /Users/kahingleung/.julia/packages/Flux/sY3yx/src/optimise/train.jl:136\n"
     ]
    },
    {
     "name": "stdout",
     "output_type": "stream",
     "text": [
      "mse_loss(xtest, ytest) = 1.5139375f0\n"
     ]
    },
    {
     "name": "stderr",
     "output_type": "stream",
     "text": [
      "┌ Info: Epoch 9\n",
      "└ @ ConvGRU /Users/kahingleung/.julia/packages/Flux/sY3yx/src/optimise/train.jl:136\n",
      "┌ Info: Epoch 10\n",
      "└ @ ConvGRU /Users/kahingleung/.julia/packages/Flux/sY3yx/src/optimise/train.jl:136\n"
     ]
    },
    {
     "name": "stdout",
     "output_type": "stream",
     "text": [
      "mse_loss(xtest, ytest) = 1.509494f0\n",
      "mse_loss(xtest, ytest) = 1.5103081f0\n"
     ]
    },
    {
     "name": "stderr",
     "output_type": "stream",
     "text": [
      "┌ Info: Epoch 11\n",
      "└ @ ConvGRU /Users/kahingleung/.julia/packages/Flux/sY3yx/src/optimise/train.jl:136\n"
     ]
    },
    {
     "name": "stdout",
     "output_type": "stream",
     "text": [
      "mse_loss(xtest, ytest) = 1.5081898f0\n"
     ]
    },
    {
     "name": "stderr",
     "output_type": "stream",
     "text": [
      "┌ Info: Epoch 12\n",
      "└ @ ConvGRU /Users/kahingleung/.julia/packages/Flux/sY3yx/src/optimise/train.jl:136\n",
      "┌ Info: Epoch 13\n",
      "└ @ ConvGRU /Users/kahingleung/.julia/packages/Flux/sY3yx/src/optimise/train.jl:136\n"
     ]
    },
    {
     "name": "stdout",
     "output_type": "stream",
     "text": [
      "mse_loss(xtest, ytest) = 1.5097132f0\n",
      "mse_loss(xtest, ytest) = 1.5097045f0\n"
     ]
    },
    {
     "name": "stderr",
     "output_type": "stream",
     "text": [
      "┌ Info: Epoch 14\n",
      "└ @ ConvGRU /Users/kahingleung/.julia/packages/Flux/sY3yx/src/optimise/train.jl:136\n"
     ]
    },
    {
     "name": "stdout",
     "output_type": "stream",
     "text": [
      "mse_loss(xtest, ytest) = 1.5093563f0\n"
     ]
    },
    {
     "name": "stderr",
     "output_type": "stream",
     "text": [
      "┌ Info: Epoch 15\n",
      "└ @ ConvGRU /Users/kahingleung/.julia/packages/Flux/sY3yx/src/optimise/train.jl:136\n",
      "┌ Info: Epoch 16\n",
      "└ @ ConvGRU /Users/kahingleung/.julia/packages/Flux/sY3yx/src/optimise/train.jl:136\n"
     ]
    },
    {
     "name": "stdout",
     "output_type": "stream",
     "text": [
      "mse_loss(xtest, ytest) = 1.5166813f0\n",
      "mse_loss(xtest, ytest) = 1.515505f0\n"
     ]
    },
    {
     "name": "stderr",
     "output_type": "stream",
     "text": [
      "┌ Info: Epoch 17\n",
      "└ @ ConvGRU /Users/kahingleung/.julia/packages/Flux/sY3yx/src/optimise/train.jl:136\n"
     ]
    },
    {
     "name": "stdout",
     "output_type": "stream",
     "text": [
      "mse_loss(xtest, ytest) = 1.5239685f0\n"
     ]
    },
    {
     "name": "stderr",
     "output_type": "stream",
     "text": [
      "┌ Info: Epoch 18\n",
      "└ @ ConvGRU /Users/kahingleung/.julia/packages/Flux/sY3yx/src/optimise/train.jl:136\n"
     ]
    },
    {
     "name": "stdout",
     "output_type": "stream",
     "text": [
      "mse_loss(xtest, ytest) = 1.5190749f0\n"
     ]
    },
    {
     "name": "stderr",
     "output_type": "stream",
     "text": [
      "┌ Info: Epoch 19\n",
      "└ @ ConvGRU /Users/kahingleung/.julia/packages/Flux/sY3yx/src/optimise/train.jl:136\n"
     ]
    },
    {
     "name": "stdout",
     "output_type": "stream",
     "text": [
      "mse_loss(xtest, ytest) = 1.513844f0\n"
     ]
    },
    {
     "name": "stderr",
     "output_type": "stream",
     "text": [
      "┌ Info: Epoch 20\n",
      "└ @ ConvGRU /Users/kahingleung/.julia/packages/Flux/sY3yx/src/optimise/train.jl:136\n"
     ]
    },
    {
     "name": "stdout",
     "output_type": "stream",
     "text": [
      "mse_loss(xtest, ytest) = 1.5220851f0\n"
     ]
    },
    {
     "name": "stderr",
     "output_type": "stream",
     "text": [
      "┌ Info: Epoch 21\n",
      "└ @ ConvGRU /Users/kahingleung/.julia/packages/Flux/sY3yx/src/optimise/train.jl:136\n"
     ]
    },
    {
     "name": "stdout",
     "output_type": "stream",
     "text": [
      "mse_loss(xtest, ytest) = 1.53213f0\n"
     ]
    },
    {
     "name": "stderr",
     "output_type": "stream",
     "text": [
      "┌ Info: Epoch 22\n",
      "└ @ ConvGRU /Users/kahingleung/.julia/packages/Flux/sY3yx/src/optimise/train.jl:136\n",
      "┌ Info: Epoch 23\n",
      "└ @ ConvGRU /Users/kahingleung/.julia/packages/Flux/sY3yx/src/optimise/train.jl:136\n"
     ]
    },
    {
     "name": "stdout",
     "output_type": "stream",
     "text": [
      "mse_loss(xtest, ytest) = 1.5202372f0\n",
      "mse_loss(xtest, ytest) = 1.5240883f0\n"
     ]
    },
    {
     "name": "stderr",
     "output_type": "stream",
     "text": [
      "┌ Info: Epoch 24\n",
      "└ @ ConvGRU /Users/kahingleung/.julia/packages/Flux/sY3yx/src/optimise/train.jl:136\n"
     ]
    },
    {
     "name": "stdout",
     "output_type": "stream",
     "text": [
      "mse_loss(xtest, ytest) = 1.5337301f0\n"
     ]
    },
    {
     "name": "stderr",
     "output_type": "stream",
     "text": [
      "┌ Info: Epoch 25\n",
      "└ @ ConvGRU /Users/kahingleung/.julia/packages/Flux/sY3yx/src/optimise/train.jl:136\n",
      "┌ Info: Epoch 26\n",
      "└ @ ConvGRU /Users/kahingleung/.julia/packages/Flux/sY3yx/src/optimise/train.jl:136\n"
     ]
    },
    {
     "name": "stdout",
     "output_type": "stream",
     "text": [
      "mse_loss(xtest, ytest) = 1.5358981f0\n",
      "mse_loss(xtest, ytest) = 1.536847f0\n"
     ]
    },
    {
     "name": "stderr",
     "output_type": "stream",
     "text": [
      "┌ Info: Epoch 27\n",
      "└ @ ConvGRU /Users/kahingleung/.julia/packages/Flux/sY3yx/src/optimise/train.jl:136\n"
     ]
    },
    {
     "name": "stdout",
     "output_type": "stream",
     "text": [
      "mse_loss(xtest, ytest) = 1.5448716f0\n"
     ]
    },
    {
     "name": "stderr",
     "output_type": "stream",
     "text": [
      "┌ Info: Epoch 28\n",
      "└ @ ConvGRU /Users/kahingleung/.julia/packages/Flux/sY3yx/src/optimise/train.jl:136\n",
      "┌ Info: Epoch 29\n",
      "└ @ ConvGRU /Users/kahingleung/.julia/packages/Flux/sY3yx/src/optimise/train.jl:136\n"
     ]
    },
    {
     "name": "stdout",
     "output_type": "stream",
     "text": [
      "mse_loss(xtest, ytest) = 1.5312642f0\n",
      "mse_loss(xtest, ytest) = 1.5348898f0\n"
     ]
    },
    {
     "name": "stderr",
     "output_type": "stream",
     "text": [
      "┌ Info: Epoch 30\n",
      "└ @ ConvGRU /Users/kahingleung/.julia/packages/Flux/sY3yx/src/optimise/train.jl:136\n"
     ]
    },
    {
     "name": "stdout",
     "output_type": "stream",
     "text": [
      "(250,)\n",
      "myObjective(df, seqlen, Nh, lr, sym * \"-\" * string(i)) = 1.5909477f0\n",
      "202560.0021544346900318843\n",
      "mse_loss(xtest, ytest) = 1.7370348f0\n",
      "mse_loss(xtest, ytest) = 1.6824924f0\n"
     ]
    },
    {
     "name": "stderr",
     "output_type": "stream",
     "text": [
      "┌ Info: Epoch 1\n",
      "└ @ ConvGRU /Users/kahingleung/.julia/packages/Flux/sY3yx/src/optimise/train.jl:136\n"
     ]
    },
    {
     "name": "stdout",
     "output_type": "stream",
     "text": [
      "mse_loss(xtest, ytest) = 1.566679f0\n"
     ]
    },
    {
     "name": "stderr",
     "output_type": "stream",
     "text": [
      "┌ Info: Epoch 2\n",
      "└ @ ConvGRU /Users/kahingleung/.julia/packages/Flux/sY3yx/src/optimise/train.jl:136\n",
      "┌ Info: Epoch 3\n",
      "└ @ ConvGRU /Users/kahingleung/.julia/packages/Flux/sY3yx/src/optimise/train.jl:136\n"
     ]
    },
    {
     "name": "stdout",
     "output_type": "stream",
     "text": [
      "mse_loss(xtest, ytest) = 1.5459896f0\n",
      "mse_loss(xtest, ytest) = 1.5395758f0\n"
     ]
    },
    {
     "name": "stderr",
     "output_type": "stream",
     "text": [
      "┌ Info: Epoch 4\n",
      "└ @ ConvGRU /Users/kahingleung/.julia/packages/Flux/sY3yx/src/optimise/train.jl:136\n"
     ]
    },
    {
     "name": "stdout",
     "output_type": "stream",
     "text": [
      "mse_loss(xtest, ytest) = 1.5317887f0\n"
     ]
    },
    {
     "name": "stderr",
     "output_type": "stream",
     "text": [
      "┌ Info: Epoch 5\n",
      "└ @ ConvGRU /Users/kahingleung/.julia/packages/Flux/sY3yx/src/optimise/train.jl:136\n"
     ]
    },
    {
     "name": "stdout",
     "output_type": "stream",
     "text": [
      "mse_loss(xtest, ytest) = 1.5308846f0\n"
     ]
    },
    {
     "name": "stderr",
     "output_type": "stream",
     "text": [
      "┌ Info: Epoch 6\n",
      "└ @ ConvGRU /Users/kahingleung/.julia/packages/Flux/sY3yx/src/optimise/train.jl:136\n",
      "┌ Info: Epoch 7\n",
      "└ @ ConvGRU /Users/kahingleung/.julia/packages/Flux/sY3yx/src/optimise/train.jl:136\n"
     ]
    },
    {
     "name": "stdout",
     "output_type": "stream",
     "text": [
      "mse_loss(xtest, ytest) = 1.533079f0\n",
      "mse_loss(xtest, ytest) = 1.528383f0\n"
     ]
    },
    {
     "name": "stderr",
     "output_type": "stream",
     "text": [
      "┌ Info: Epoch 8\n",
      "└ @ ConvGRU /Users/kahingleung/.julia/packages/Flux/sY3yx/src/optimise/train.jl:136\n"
     ]
    },
    {
     "name": "stdout",
     "output_type": "stream",
     "text": [
      "mse_loss(xtest, ytest) = 1.5291102f0\n"
     ]
    },
    {
     "name": "stderr",
     "output_type": "stream",
     "text": [
      "┌ Info: Epoch 9\n",
      "└ @ ConvGRU /Users/kahingleung/.julia/packages/Flux/sY3yx/src/optimise/train.jl:136\n"
     ]
    },
    {
     "name": "stdout",
     "output_type": "stream",
     "text": [
      "mse_loss(xtest, ytest) = 1.5224644f0\n"
     ]
    },
    {
     "name": "stderr",
     "output_type": "stream",
     "text": [
      "┌ Info: Epoch 10\n",
      "└ @ ConvGRU /Users/kahingleung/.julia/packages/Flux/sY3yx/src/optimise/train.jl:136\n",
      "┌ Info: Epoch 11\n",
      "└ @ ConvGRU /Users/kahingleung/.julia/packages/Flux/sY3yx/src/optimise/train.jl:136\n"
     ]
    },
    {
     "name": "stdout",
     "output_type": "stream",
     "text": [
      "mse_loss(xtest, ytest) = 1.5272384f0\n",
      "mse_loss(xtest, ytest) = 1.5276675f0\n"
     ]
    },
    {
     "name": "stderr",
     "output_type": "stream",
     "text": [
      "┌ Info: Epoch 12\n",
      "└ @ ConvGRU /Users/kahingleung/.julia/packages/Flux/sY3yx/src/optimise/train.jl:136\n"
     ]
    },
    {
     "name": "stdout",
     "output_type": "stream",
     "text": [
      "mse_loss(xtest, ytest) = 1.5308539f0\n"
     ]
    },
    {
     "name": "stderr",
     "output_type": "stream",
     "text": [
      "┌ Info: Epoch 13\n",
      "└ @ ConvGRU /Users/kahingleung/.julia/packages/Flux/sY3yx/src/optimise/train.jl:136\n"
     ]
    },
    {
     "name": "stdout",
     "output_type": "stream",
     "text": [
      "mse_loss(xtest, ytest) = 1.5325197f0\n"
     ]
    },
    {
     "name": "stderr",
     "output_type": "stream",
     "text": [
      "┌ Info: Epoch 14\n",
      "└ @ ConvGRU /Users/kahingleung/.julia/packages/Flux/sY3yx/src/optimise/train.jl:136\n"
     ]
    },
    {
     "name": "stdout",
     "output_type": "stream",
     "text": [
      "mse_loss(xtest, ytest) = 1.5286651f0\n"
     ]
    },
    {
     "name": "stderr",
     "output_type": "stream",
     "text": [
      "┌ Info: Epoch 15\n",
      "└ @ ConvGRU /Users/kahingleung/.julia/packages/Flux/sY3yx/src/optimise/train.jl:136\n",
      "┌ Info: Epoch 16\n",
      "└ @ ConvGRU /Users/kahingleung/.julia/packages/Flux/sY3yx/src/optimise/train.jl:136\n"
     ]
    },
    {
     "name": "stdout",
     "output_type": "stream",
     "text": [
      "mse_loss(xtest, ytest) = 1.532358f0\n",
      "mse_loss(xtest, ytest) = 1.5317903f0\n"
     ]
    },
    {
     "name": "stderr",
     "output_type": "stream",
     "text": [
      "┌ Info: Epoch 17\n",
      "└ @ ConvGRU /Users/kahingleung/.julia/packages/Flux/sY3yx/src/optimise/train.jl:136\n"
     ]
    },
    {
     "name": "stdout",
     "output_type": "stream",
     "text": [
      "mse_loss(xtest, ytest) = 1.5329369f0\n"
     ]
    },
    {
     "name": "stderr",
     "output_type": "stream",
     "text": [
      "┌ Info: Epoch 18\n",
      "└ @ ConvGRU /Users/kahingleung/.julia/packages/Flux/sY3yx/src/optimise/train.jl:136\n",
      "┌ Info: Epoch 19\n",
      "└ @ ConvGRU /Users/kahingleung/.julia/packages/Flux/sY3yx/src/optimise/train.jl:136\n"
     ]
    },
    {
     "name": "stdout",
     "output_type": "stream",
     "text": [
      "mse_loss(xtest, ytest) = 1.530021f0\n"
     ]
    },
    {
     "name": "stderr",
     "output_type": "stream",
     "text": [
      "┌ Info: Epoch 20\n",
      "└ @ ConvGRU /Users/kahingleung/.julia/packages/Flux/sY3yx/src/optimise/train.jl:136\n"
     ]
    },
    {
     "name": "stdout",
     "output_type": "stream",
     "text": [
      "mse_loss(xtest, ytest) = 1.5296527f0\n",
      "mse_loss(xtest, ytest) = 1.5337629f0\n"
     ]
    },
    {
     "name": "stderr",
     "output_type": "stream",
     "text": [
      "┌ Info: Epoch 21\n",
      "└ @ ConvGRU /Users/kahingleung/.julia/packages/Flux/sY3yx/src/optimise/train.jl:136\n"
     ]
    },
    {
     "name": "stdout",
     "output_type": "stream",
     "text": [
      "mse_loss(xtest, ytest) = 1.5349851f0\n"
     ]
    },
    {
     "name": "stderr",
     "output_type": "stream",
     "text": [
      "┌ Info: Epoch 22\n",
      "└ @ ConvGRU /Users/kahingleung/.julia/packages/Flux/sY3yx/src/optimise/train.jl:136\n"
     ]
    },
    {
     "name": "stdout",
     "output_type": "stream",
     "text": [
      "mse_loss(xtest, ytest) = 1.5387653f0\n"
     ]
    },
    {
     "name": "stderr",
     "output_type": "stream",
     "text": [
      "┌ Info: Epoch 23\n",
      "└ @ ConvGRU /Users/kahingleung/.julia/packages/Flux/sY3yx/src/optimise/train.jl:136\n",
      "┌ Info: Epoch 24\n",
      "└ @ ConvGRU /Users/kahingleung/.julia/packages/Flux/sY3yx/src/optimise/train.jl:136\n"
     ]
    },
    {
     "name": "stdout",
     "output_type": "stream",
     "text": [
      "mse_loss(xtest, ytest) = 1.5423275f0\n",
      "mse_loss(xtest, ytest) = 1.5358093f0\n"
     ]
    },
    {
     "name": "stderr",
     "output_type": "stream",
     "text": [
      "┌ Info: Epoch 25\n",
      "└ @ ConvGRU /Users/kahingleung/.julia/packages/Flux/sY3yx/src/optimise/train.jl:136\n"
     ]
    },
    {
     "name": "stdout",
     "output_type": "stream",
     "text": [
      "mse_loss(xtest, ytest) = 1.5385153f0\n"
     ]
    },
    {
     "name": "stderr",
     "output_type": "stream",
     "text": [
      "┌ Info: Epoch 26\n",
      "└ @ ConvGRU /Users/kahingleung/.julia/packages/Flux/sY3yx/src/optimise/train.jl:136\n",
      "┌ Info: Epoch 27\n",
      "└ @ ConvGRU /Users/kahingleung/.julia/packages/Flux/sY3yx/src/optimise/train.jl:136\n"
     ]
    },
    {
     "name": "stdout",
     "output_type": "stream",
     "text": [
      "mse_loss(xtest, ytest) = 1.5383253f0\n"
     ]
    },
    {
     "name": "stderr",
     "output_type": "stream",
     "text": [
      "┌ Info: Epoch 28\n",
      "└ @ ConvGRU /Users/kahingleung/.julia/packages/Flux/sY3yx/src/optimise/train.jl:136\n"
     ]
    },
    {
     "name": "stdout",
     "output_type": "stream",
     "text": [
      "mse_loss(xtest, ytest) = 1.5361869f0\n",
      "mse_loss(xtest, ytest) = 1.5380722f0\n"
     ]
    },
    {
     "name": "stderr",
     "output_type": "stream",
     "text": [
      "┌ Info: Epoch 29\n",
      "└ @ ConvGRU /Users/kahingleung/.julia/packages/Flux/sY3yx/src/optimise/train.jl:136\n"
     ]
    },
    {
     "name": "stdout",
     "output_type": "stream",
     "text": [
      "mse_loss(xtest, ytest) = 1.5353175f0\n"
     ]
    },
    {
     "name": "stderr",
     "output_type": "stream",
     "text": [
      "┌ Info: Epoch 30\n",
      "└ @ ConvGRU /Users/kahingleung/.julia/packages/Flux/sY3yx/src/optimise/train.jl:136\n"
     ]
    },
    {
     "name": "stdout",
     "output_type": "stream",
     "text": [
      "(250,)\n",
      "myObjective(df, seqlen, Nh, lr, sym * \"-\" * string(i)) = 1.5596086f0\n",
      "mse_loss(xtest, ytest) = 1.465325f0\n",
      "mse_loss(xtest, ytest) = 1.4670217f0\n"
     ]
    },
    {
     "name": "stderr",
     "output_type": "stream",
     "text": [
      "┌ Info: Epoch 1\n",
      "└ @ ConvGRU /Users/kahingleung/.julia/packages/Flux/sY3yx/src/optimise/train.jl:136\n"
     ]
    },
    {
     "name": "stdout",
     "output_type": "stream",
     "text": [
      "mse_loss(xtest, ytest) = 1.4698708f0\n"
     ]
    },
    {
     "name": "stderr",
     "output_type": "stream",
     "text": [
      "┌ Info: Epoch 2\n",
      "└ @ ConvGRU /Users/kahingleung/.julia/packages/Flux/sY3yx/src/optimise/train.jl:136\n",
      "┌ Info: Epoch 3\n",
      "└ @ ConvGRU /Users/kahingleung/.julia/packages/Flux/sY3yx/src/optimise/train.jl:136\n"
     ]
    },
    {
     "name": "stdout",
     "output_type": "stream",
     "text": [
      "mse_loss(xtest, ytest) = 1.4761442f0\n",
      "mse_loss(xtest, ytest) = 1.4851849f0\n"
     ]
    },
    {
     "name": "stderr",
     "output_type": "stream",
     "text": [
      "┌ Info: Epoch 4\n",
      "└ @ ConvGRU /Users/kahingleung/.julia/packages/Flux/sY3yx/src/optimise/train.jl:136\n"
     ]
    },
    {
     "name": "stdout",
     "output_type": "stream",
     "text": [
      "mse_loss(xtest, ytest) = 1.4914596f0\n"
     ]
    },
    {
     "name": "stderr",
     "output_type": "stream",
     "text": [
      "┌ Info: Epoch 5\n",
      "└ @ ConvGRU /Users/kahingleung/.julia/packages/Flux/sY3yx/src/optimise/train.jl:136\n"
     ]
    },
    {
     "name": "stdout",
     "output_type": "stream",
     "text": [
      "mse_loss(xtest, ytest) = 1.4931997f0\n"
     ]
    },
    {
     "name": "stderr",
     "output_type": "stream",
     "text": [
      "┌ Info: Epoch 6\n",
      "└ @ ConvGRU /Users/kahingleung/.julia/packages/Flux/sY3yx/src/optimise/train.jl:136\n"
     ]
    },
    {
     "name": "stdout",
     "output_type": "stream",
     "text": [
      "mse_loss(xtest, ytest) = 1.4945155f0\n"
     ]
    },
    {
     "name": "stderr",
     "output_type": "stream",
     "text": [
      "┌ Info: Epoch 7\n",
      "└ @ ConvGRU /Users/kahingleung/.julia/packages/Flux/sY3yx/src/optimise/train.jl:136\n"
     ]
    },
    {
     "name": "stdout",
     "output_type": "stream",
     "text": [
      "mse_loss(xtest, ytest) = 1.4950359f0\n"
     ]
    },
    {
     "name": "stderr",
     "output_type": "stream",
     "text": [
      "┌ Info: Epoch 8\n",
      "└ @ ConvGRU /Users/kahingleung/.julia/packages/Flux/sY3yx/src/optimise/train.jl:136\n"
     ]
    },
    {
     "name": "stdout",
     "output_type": "stream",
     "text": [
      "mse_loss(xtest, ytest) = 1.4949583f0\n"
     ]
    },
    {
     "name": "stderr",
     "output_type": "stream",
     "text": [
      "┌ Info: Epoch 9\n",
      "└ @ ConvGRU /Users/kahingleung/.julia/packages/Flux/sY3yx/src/optimise/train.jl:136\n"
     ]
    },
    {
     "name": "stdout",
     "output_type": "stream",
     "text": [
      "mse_loss(xtest, ytest) = 1.4962776f0\n"
     ]
    },
    {
     "name": "stderr",
     "output_type": "stream",
     "text": [
      "┌ Info: Epoch 10\n",
      "└ @ ConvGRU /Users/kahingleung/.julia/packages/Flux/sY3yx/src/optimise/train.jl:136\n"
     ]
    },
    {
     "name": "stdout",
     "output_type": "stream",
     "text": [
      "mse_loss(xtest, ytest) = 1.4968182f0\n"
     ]
    },
    {
     "name": "stderr",
     "output_type": "stream",
     "text": [
      "┌ Info: Epoch 11\n",
      "└ @ ConvGRU /Users/kahingleung/.julia/packages/Flux/sY3yx/src/optimise/train.jl:136\n"
     ]
    },
    {
     "name": "stdout",
     "output_type": "stream",
     "text": [
      "mse_loss(xtest, ytest) = 1.4972088f0\n"
     ]
    },
    {
     "name": "stderr",
     "output_type": "stream",
     "text": [
      "┌ Info: Epoch 12\n",
      "└ @ ConvGRU /Users/kahingleung/.julia/packages/Flux/sY3yx/src/optimise/train.jl:136\n"
     ]
    },
    {
     "name": "stdout",
     "output_type": "stream",
     "text": [
      "mse_loss(xtest, ytest) = 1.496923f0\n"
     ]
    },
    {
     "name": "stderr",
     "output_type": "stream",
     "text": [
      "┌ Info: Epoch 13\n",
      "└ @ ConvGRU /Users/kahingleung/.julia/packages/Flux/sY3yx/src/optimise/train.jl:136\n"
     ]
    },
    {
     "name": "stdout",
     "output_type": "stream",
     "text": [
      "mse_loss(xtest, ytest) = 1.496439f0\n"
     ]
    },
    {
     "name": "stderr",
     "output_type": "stream",
     "text": [
      "┌ Info: Epoch 14\n",
      "└ @ ConvGRU /Users/kahingleung/.julia/packages/Flux/sY3yx/src/optimise/train.jl:136\n"
     ]
    },
    {
     "name": "stdout",
     "output_type": "stream",
     "text": [
      "mse_loss(xtest, ytest) = 1.4962662f0\n"
     ]
    },
    {
     "name": "stderr",
     "output_type": "stream",
     "text": [
      "┌ Info: Epoch 15\n",
      "└ @ ConvGRU /Users/kahingleung/.julia/packages/Flux/sY3yx/src/optimise/train.jl:136\n"
     ]
    },
    {
     "name": "stdout",
     "output_type": "stream",
     "text": [
      "mse_loss(xtest, ytest) = 1.4963803f0\n"
     ]
    },
    {
     "name": "stderr",
     "output_type": "stream",
     "text": [
      "┌ Info: Epoch 16\n",
      "└ @ ConvGRU /Users/kahingleung/.julia/packages/Flux/sY3yx/src/optimise/train.jl:136\n"
     ]
    },
    {
     "name": "stdout",
     "output_type": "stream",
     "text": [
      "mse_loss(xtest, ytest) = 1.4976661f0\n"
     ]
    },
    {
     "name": "stderr",
     "output_type": "stream",
     "text": [
      "┌ Info: Epoch 17\n",
      "└ @ ConvGRU /Users/kahingleung/.julia/packages/Flux/sY3yx/src/optimise/train.jl:136\n"
     ]
    },
    {
     "name": "stdout",
     "output_type": "stream",
     "text": [
      "mse_loss(xtest, ytest) = 1.4981465f0\n"
     ]
    },
    {
     "name": "stderr",
     "output_type": "stream",
     "text": [
      "┌ Info: Epoch 18\n",
      "└ @ ConvGRU /Users/kahingleung/.julia/packages/Flux/sY3yx/src/optimise/train.jl:136\n"
     ]
    },
    {
     "name": "stdout",
     "output_type": "stream",
     "text": [
      "mse_loss(xtest, ytest) = 1.4977084f0\n"
     ]
    },
    {
     "name": "stderr",
     "output_type": "stream",
     "text": [
      "┌ Info: Epoch 19\n",
      "└ @ ConvGRU /Users/kahingleung/.julia/packages/Flux/sY3yx/src/optimise/train.jl:136\n"
     ]
    },
    {
     "name": "stdout",
     "output_type": "stream",
     "text": [
      "mse_loss(xtest, ytest) = 1.4971684f0\n"
     ]
    },
    {
     "name": "stderr",
     "output_type": "stream",
     "text": [
      "┌ Info: Epoch 20\n",
      "└ @ ConvGRU /Users/kahingleung/.julia/packages/Flux/sY3yx/src/optimise/train.jl:136\n"
     ]
    },
    {
     "name": "stdout",
     "output_type": "stream",
     "text": [
      "mse_loss(xtest, ytest) = 1.4966152f0\n"
     ]
    },
    {
     "name": "stderr",
     "output_type": "stream",
     "text": [
      "┌ Info: Epoch 21\n",
      "└ @ ConvGRU /Users/kahingleung/.julia/packages/Flux/sY3yx/src/optimise/train.jl:136\n"
     ]
    },
    {
     "name": "stdout",
     "output_type": "stream",
     "text": [
      "mse_loss(xtest, ytest) = 1.4961203f0\n"
     ]
    },
    {
     "name": "stderr",
     "output_type": "stream",
     "text": [
      "┌ Info: Epoch 22\n",
      "└ @ ConvGRU /Users/kahingleung/.julia/packages/Flux/sY3yx/src/optimise/train.jl:136\n",
      "┌ Info: Epoch 23\n",
      "└ @ ConvGRU /Users/kahingleung/.julia/packages/Flux/sY3yx/src/optimise/train.jl:136\n"
     ]
    },
    {
     "name": "stdout",
     "output_type": "stream",
     "text": [
      "mse_loss(xtest, ytest) = 1.4960413f0\n",
      "mse_loss(xtest, ytest) = 1.4962002f0\n"
     ]
    },
    {
     "name": "stderr",
     "output_type": "stream",
     "text": [
      "┌ Info: Epoch 24\n",
      "└ @ ConvGRU /Users/kahingleung/.julia/packages/Flux/sY3yx/src/optimise/train.jl:136\n"
     ]
    },
    {
     "name": "stdout",
     "output_type": "stream",
     "text": [
      "mse_loss(xtest, ytest) = 1.4964584f0\n"
     ]
    },
    {
     "name": "stderr",
     "output_type": "stream",
     "text": [
      "┌ Info: Epoch 25\n",
      "└ @ ConvGRU /Users/kahingleung/.julia/packages/Flux/sY3yx/src/optimise/train.jl:136\n"
     ]
    },
    {
     "name": "stdout",
     "output_type": "stream",
     "text": [
      "mse_loss(xtest, ytest) = 1.4958607f0\n"
     ]
    },
    {
     "name": "stderr",
     "output_type": "stream",
     "text": [
      "┌ Info: Epoch 26\n",
      "└ @ ConvGRU /Users/kahingleung/.julia/packages/Flux/sY3yx/src/optimise/train.jl:136\n"
     ]
    },
    {
     "name": "stdout",
     "output_type": "stream",
     "text": [
      "mse_loss(xtest, ytest) = 1.4963493f0\n"
     ]
    },
    {
     "name": "stderr",
     "output_type": "stream",
     "text": [
      "┌ Info: Epoch 27\n",
      "└ @ ConvGRU /Users/kahingleung/.julia/packages/Flux/sY3yx/src/optimise/train.jl:136\n"
     ]
    },
    {
     "name": "stdout",
     "output_type": "stream",
     "text": [
      "mse_loss(xtest, ytest) = 1.4956962f0\n"
     ]
    },
    {
     "name": "stderr",
     "output_type": "stream",
     "text": [
      "┌ Info: Epoch 28\n",
      "└ @ ConvGRU /Users/kahingleung/.julia/packages/Flux/sY3yx/src/optimise/train.jl:136\n"
     ]
    },
    {
     "name": "stdout",
     "output_type": "stream",
     "text": [
      "mse_loss(xtest, ytest) = 1.4963515f0\n"
     ]
    },
    {
     "name": "stderr",
     "output_type": "stream",
     "text": [
      "┌ Info: Epoch 29\n",
      "└ @ ConvGRU /Users/kahingleung/.julia/packages/Flux/sY3yx/src/optimise/train.jl:136\n"
     ]
    },
    {
     "name": "stdout",
     "output_type": "stream",
     "text": [
      "mse_loss(xtest, ytest) = 1.496241f0\n"
     ]
    },
    {
     "name": "stderr",
     "output_type": "stream",
     "text": [
      "┌ Info: Epoch 30\n",
      "└ @ ConvGRU /Users/kahingleung/.julia/packages/Flux/sY3yx/src/optimise/train.jl:136\n"
     ]
    },
    {
     "name": "stdout",
     "output_type": "stream",
     "text": [
      "mse_loss(xtest, ytest) = 1.4962583f0\n"
     ]
    },
    {
     "name": "stderr",
     "output_type": "stream",
     "text": [
      "┌ Info: Epoch 31\n",
      "└ @ ConvGRU /Users/kahingleung/.julia/packages/Flux/sY3yx/src/optimise/train.jl:136\n"
     ]
    },
    {
     "name": "stdout",
     "output_type": "stream",
     "text": [
      "mse_loss(xtest, ytest) = 1.4958448f0\n"
     ]
    },
    {
     "name": "stderr",
     "output_type": "stream",
     "text": [
      "┌ Info: Epoch 32\n",
      "└ @ ConvGRU /Users/kahingleung/.julia/packages/Flux/sY3yx/src/optimise/train.jl:136\n"
     ]
    },
    {
     "name": "stdout",
     "output_type": "stream",
     "text": [
      "mse_loss(xtest, ytest) = 1.4958292f0\n"
     ]
    },
    {
     "name": "stderr",
     "output_type": "stream",
     "text": [
      "┌ Info: Epoch 33\n",
      "└ @ ConvGRU /Users/kahingleung/.julia/packages/Flux/sY3yx/src/optimise/train.jl:136\n"
     ]
    },
    {
     "name": "stdout",
     "output_type": "stream",
     "text": [
      "mse_loss(xtest, ytest) = 1.4954896f0\n"
     ]
    },
    {
     "name": "stderr",
     "output_type": "stream",
     "text": [
      "┌ Info: Epoch 34\n",
      "└ @ ConvGRU /Users/kahingleung/.julia/packages/Flux/sY3yx/src/optimise/train.jl:136\n"
     ]
    },
    {
     "name": "stdout",
     "output_type": "stream",
     "text": [
      "mse_loss(xtest, ytest) = 1.4950464f0\n"
     ]
    },
    {
     "name": "stderr",
     "output_type": "stream",
     "text": [
      "┌ Info: Epoch 35\n",
      "└ @ ConvGRU /Users/kahingleung/.julia/packages/Flux/sY3yx/src/optimise/train.jl:136\n"
     ]
    },
    {
     "name": "stdout",
     "output_type": "stream",
     "text": [
      "mse_loss(xtest, ytest) = 1.494648f0\n"
     ]
    },
    {
     "name": "stderr",
     "output_type": "stream",
     "text": [
      "┌ Info: Epoch 36\n",
      "└ @ ConvGRU /Users/kahingleung/.julia/packages/Flux/sY3yx/src/optimise/train.jl:136\n"
     ]
    },
    {
     "name": "stdout",
     "output_type": "stream",
     "text": [
      "mse_loss(xtest, ytest) = 1.4943063f0\n"
     ]
    },
    {
     "name": "stderr",
     "output_type": "stream",
     "text": [
      "┌ Info: Epoch 37\n",
      "└ @ ConvGRU /Users/kahingleung/.julia/packages/Flux/sY3yx/src/optimise/train.jl:136\n"
     ]
    },
    {
     "name": "stdout",
     "output_type": "stream",
     "text": [
      "mse_loss(xtest, ytest) = 1.4938033f0\n"
     ]
    },
    {
     "name": "stderr",
     "output_type": "stream",
     "text": [
      "┌ Info: Epoch 38\n",
      "└ @ ConvGRU /Users/kahingleung/.julia/packages/Flux/sY3yx/src/optimise/train.jl:136\n"
     ]
    },
    {
     "name": "stdout",
     "output_type": "stream",
     "text": [
      "mse_loss(xtest, ytest) = 1.4935024f0\n"
     ]
    },
    {
     "name": "stderr",
     "output_type": "stream",
     "text": [
      "┌ Info: Epoch 39\n",
      "└ @ ConvGRU /Users/kahingleung/.julia/packages/Flux/sY3yx/src/optimise/train.jl:136\n"
     ]
    },
    {
     "name": "stdout",
     "output_type": "stream",
     "text": [
      "mse_loss(xtest, ytest) = 1.4934244f0\n"
     ]
    },
    {
     "name": "stderr",
     "output_type": "stream",
     "text": [
      "┌ Info: Epoch 40\n",
      "└ @ ConvGRU /Users/kahingleung/.julia/packages/Flux/sY3yx/src/optimise/train.jl:136\n"
     ]
    },
    {
     "name": "stdout",
     "output_type": "stream",
     "text": [
      "mse_loss(xtest, ytest) = 1.4931272f0\n"
     ]
    },
    {
     "name": "stderr",
     "output_type": "stream",
     "text": [
      "┌ Info: Epoch 41\n",
      "└ @ ConvGRU /Users/kahingleung/.julia/packages/Flux/sY3yx/src/optimise/train.jl:136\n",
      "┌ Info: Epoch 42\n",
      "└ @ ConvGRU /Users/kahingleung/.julia/packages/Flux/sY3yx/src/optimise/train.jl:136\n"
     ]
    },
    {
     "name": "stdout",
     "output_type": "stream",
     "text": [
      "mse_loss(xtest, ytest) = 1.4972452f0\n",
      "mse_loss(xtest, ytest) = 1.4962233f0\n"
     ]
    },
    {
     "name": "stderr",
     "output_type": "stream",
     "text": [
      "┌ Info: Epoch 43\n",
      "└ @ ConvGRU /Users/kahingleung/.julia/packages/Flux/sY3yx/src/optimise/train.jl:136\n"
     ]
    },
    {
     "name": "stdout",
     "output_type": "stream",
     "text": [
      "mse_loss(xtest, ytest) = 1.4949098f0\n"
     ]
    },
    {
     "name": "stderr",
     "output_type": "stream",
     "text": [
      "┌ Info: Epoch 44\n",
      "└ @ ConvGRU /Users/kahingleung/.julia/packages/Flux/sY3yx/src/optimise/train.jl:136\n"
     ]
    },
    {
     "name": "stdout",
     "output_type": "stream",
     "text": [
      "mse_loss(xtest, ytest) = 1.4942441f0\n"
     ]
    },
    {
     "name": "stderr",
     "output_type": "stream",
     "text": [
      "┌ Info: Epoch 45\n",
      "└ @ ConvGRU /Users/kahingleung/.julia/packages/Flux/sY3yx/src/optimise/train.jl:136\n"
     ]
    },
    {
     "name": "stdout",
     "output_type": "stream",
     "text": [
      "mse_loss(xtest, ytest) = 1.4980972f0\n"
     ]
    },
    {
     "name": "stderr",
     "output_type": "stream",
     "text": [
      "┌ Info: Epoch 46\n",
      "└ @ ConvGRU /Users/kahingleung/.julia/packages/Flux/sY3yx/src/optimise/train.jl:136\n",
      "┌ Info: Epoch 47\n",
      "└ @ ConvGRU /Users/kahingleung/.julia/packages/Flux/sY3yx/src/optimise/train.jl:136\n"
     ]
    },
    {
     "name": "stdout",
     "output_type": "stream",
     "text": [
      "mse_loss(xtest, ytest) = 1.4967353f0\n",
      "mse_loss(xtest, ytest) = 1.4952973f0\n"
     ]
    },
    {
     "name": "stderr",
     "output_type": "stream",
     "text": [
      "┌ Info: Epoch 48\n",
      "└ @ ConvGRU /Users/kahingleung/.julia/packages/Flux/sY3yx/src/optimise/train.jl:136\n"
     ]
    },
    {
     "name": "stdout",
     "output_type": "stream",
     "text": [
      "mse_loss(xtest, ytest) = 1.4943887f0\n"
     ]
    },
    {
     "name": "stderr",
     "output_type": "stream",
     "text": [
      "┌ Info: Epoch 49\n",
      "└ @ ConvGRU /Users/kahingleung/.julia/packages/Flux/sY3yx/src/optimise/train.jl:136\n"
     ]
    },
    {
     "name": "stdout",
     "output_type": "stream",
     "text": [
      "mse_loss(xtest, ytest) = 1.4948575f0\n"
     ]
    },
    {
     "name": "stderr",
     "output_type": "stream",
     "text": [
      "┌ Info: Epoch 50\n",
      "└ @ ConvGRU /Users/kahingleung/.julia/packages/Flux/sY3yx/src/optimise/train.jl:136\n",
      "┌ Info: Epoch 51\n",
      "└ @ ConvGRU /Users/kahingleung/.julia/packages/Flux/sY3yx/src/optimise/train.jl:136\n"
     ]
    },
    {
     "name": "stdout",
     "output_type": "stream",
     "text": [
      "mse_loss(xtest, ytest) = 1.4946678f0\n"
     ]
    },
    {
     "name": "stderr",
     "output_type": "stream",
     "text": [
      "┌ Info: Epoch 52\n",
      "└ @ ConvGRU /Users/kahingleung/.julia/packages/Flux/sY3yx/src/optimise/train.jl:136\n"
     ]
    },
    {
     "name": "stdout",
     "output_type": "stream",
     "text": [
      "mse_loss(xtest, ytest) = 1.4943439f0\n",
      "mse_loss(xtest, ytest) = 1.4979048f0\n"
     ]
    },
    {
     "name": "stderr",
     "output_type": "stream",
     "text": [
      "┌ Info: Epoch 53\n",
      "└ @ ConvGRU /Users/kahingleung/.julia/packages/Flux/sY3yx/src/optimise/train.jl:136\n"
     ]
    },
    {
     "name": "stdout",
     "output_type": "stream",
     "text": [
      "mse_loss(xtest, ytest) = 1.4964156f0\n"
     ]
    },
    {
     "name": "stderr",
     "output_type": "stream",
     "text": [
      "┌ Info: Epoch 54\n",
      "└ @ ConvGRU /Users/kahingleung/.julia/packages/Flux/sY3yx/src/optimise/train.jl:136\n"
     ]
    },
    {
     "name": "stdout",
     "output_type": "stream",
     "text": [
      "mse_loss(xtest, ytest) = 1.49509f0\n"
     ]
    },
    {
     "name": "stderr",
     "output_type": "stream",
     "text": [
      "┌ Info: Epoch 55\n",
      "└ @ ConvGRU /Users/kahingleung/.julia/packages/Flux/sY3yx/src/optimise/train.jl:136\n"
     ]
    },
    {
     "name": "stdout",
     "output_type": "stream",
     "text": [
      "mse_loss(xtest, ytest) = 1.4987929f0\n"
     ]
    },
    {
     "name": "stderr",
     "output_type": "stream",
     "text": [
      "┌ Info: Epoch 56\n",
      "└ @ ConvGRU /Users/kahingleung/.julia/packages/Flux/sY3yx/src/optimise/train.jl:136\n",
      "┌ Info: Epoch 57\n",
      "└ @ ConvGRU /Users/kahingleung/.julia/packages/Flux/sY3yx/src/optimise/train.jl:136\n"
     ]
    },
    {
     "name": "stdout",
     "output_type": "stream",
     "text": [
      "mse_loss(xtest, ytest) = 1.4971337f0\n",
      "mse_loss(xtest, ytest) = 1.4953785f0\n"
     ]
    },
    {
     "name": "stderr",
     "output_type": "stream",
     "text": [
      "┌ Info: Epoch 58\n",
      "└ @ ConvGRU /Users/kahingleung/.julia/packages/Flux/sY3yx/src/optimise/train.jl:136\n"
     ]
    },
    {
     "name": "stdout",
     "output_type": "stream",
     "text": [
      "mse_loss(xtest, ytest) = 1.4943388f0\n"
     ]
    },
    {
     "name": "stderr",
     "output_type": "stream",
     "text": [
      "┌ Info: Epoch 59\n",
      "└ @ ConvGRU /Users/kahingleung/.julia/packages/Flux/sY3yx/src/optimise/train.jl:136\n"
     ]
    },
    {
     "name": "stdout",
     "output_type": "stream",
     "text": [
      "mse_loss(xtest, ytest) = 1.4942462f0\n"
     ]
    },
    {
     "name": "stderr",
     "output_type": "stream",
     "text": [
      "┌ Info: Epoch 60\n",
      "└ @ ConvGRU /Users/kahingleung/.julia/packages/Flux/sY3yx/src/optimise/train.jl:136\n",
      "┌ Info: Epoch 61\n",
      "└ @ ConvGRU /Users/kahingleung/.julia/packages/Flux/sY3yx/src/optimise/train.jl:136\n"
     ]
    },
    {
     "name": "stdout",
     "output_type": "stream",
     "text": [
      "mse_loss(xtest, ytest) = 1.4939183f0\n"
     ]
    },
    {
     "name": "stderr",
     "output_type": "stream",
     "text": [
      "┌ Info: Epoch 62\n",
      "└ @ ConvGRU /Users/kahingleung/.julia/packages/Flux/sY3yx/src/optimise/train.jl:136\n"
     ]
    },
    {
     "name": "stdout",
     "output_type": "stream",
     "text": [
      "mse_loss(xtest, ytest) = 1.4934596f0\n",
      "mse_loss(xtest, ytest) = 1.4938964f0\n"
     ]
    },
    {
     "name": "stderr",
     "output_type": "stream",
     "text": [
      "┌ Info: Epoch 63\n",
      "└ @ ConvGRU /Users/kahingleung/.julia/packages/Flux/sY3yx/src/optimise/train.jl:136\n"
     ]
    },
    {
     "name": "stdout",
     "output_type": "stream",
     "text": [
      "mse_loss(xtest, ytest) = 1.4934622f0\n"
     ]
    },
    {
     "name": "stderr",
     "output_type": "stream",
     "text": [
      "┌ Info: Epoch 64\n",
      "└ @ ConvGRU /Users/kahingleung/.julia/packages/Flux/sY3yx/src/optimise/train.jl:136\n"
     ]
    },
    {
     "name": "stdout",
     "output_type": "stream",
     "text": [
      "mse_loss(xtest, ytest) = 1.4976002f0\n"
     ]
    },
    {
     "name": "stderr",
     "output_type": "stream",
     "text": [
      "┌ Info: Epoch 65\n",
      "└ @ ConvGRU /Users/kahingleung/.julia/packages/Flux/sY3yx/src/optimise/train.jl:136\n"
     ]
    },
    {
     "name": "stdout",
     "output_type": "stream",
     "text": [
      "mse_loss(xtest, ytest) = 1.496246f0\n"
     ]
    },
    {
     "name": "stderr",
     "output_type": "stream",
     "text": [
      "┌ Info: Epoch 66\n",
      "└ @ ConvGRU /Users/kahingleung/.julia/packages/Flux/sY3yx/src/optimise/train.jl:136\n",
      "┌ Info: Epoch 67\n",
      "└ @ ConvGRU /Users/kahingleung/.julia/packages/Flux/sY3yx/src/optimise/train.jl:136\n"
     ]
    },
    {
     "name": "stdout",
     "output_type": "stream",
     "text": [
      "mse_loss(xtest, ytest) = 1.4944843f0\n",
      "mse_loss(xtest, ytest) = 1.4989365f0\n"
     ]
    },
    {
     "name": "stderr",
     "output_type": "stream",
     "text": [
      "┌ Info: Epoch 68\n",
      "└ @ ConvGRU /Users/kahingleung/.julia/packages/Flux/sY3yx/src/optimise/train.jl:136\n"
     ]
    },
    {
     "name": "stdout",
     "output_type": "stream",
     "text": [
      "mse_loss(xtest, ytest) = 1.4983954f0\n"
     ]
    },
    {
     "name": "stderr",
     "output_type": "stream",
     "text": [
      "┌ Info: Epoch 69\n",
      "└ @ ConvGRU /Users/kahingleung/.julia/packages/Flux/sY3yx/src/optimise/train.jl:136\n"
     ]
    },
    {
     "name": "stdout",
     "output_type": "stream",
     "text": [
      "mse_loss(xtest, ytest) = 1.496513f0\n"
     ]
    },
    {
     "name": "stderr",
     "output_type": "stream",
     "text": [
      "┌ Info: Epoch 70\n",
      "└ @ ConvGRU /Users/kahingleung/.julia/packages/Flux/sY3yx/src/optimise/train.jl:136\n",
      "┌ Info: Epoch 71\n",
      "└ @ ConvGRU /Users/kahingleung/.julia/packages/Flux/sY3yx/src/optimise/train.jl:136\n"
     ]
    },
    {
     "name": "stdout",
     "output_type": "stream",
     "text": [
      "mse_loss(xtest, ytest) = 1.4972168f0\n",
      "mse_loss(xtest, ytest) = 1.499164f0\n"
     ]
    },
    {
     "name": "stderr",
     "output_type": "stream",
     "text": [
      "┌ Info: Epoch 72\n",
      "└ @ ConvGRU /Users/kahingleung/.julia/packages/Flux/sY3yx/src/optimise/train.jl:136\n"
     ]
    },
    {
     "name": "stdout",
     "output_type": "stream",
     "text": [
      "mse_loss(xtest, ytest) = 1.4959859f0\n"
     ]
    },
    {
     "name": "stderr",
     "output_type": "stream",
     "text": [
      "┌ Info: Epoch 73\n",
      "└ @ ConvGRU /Users/kahingleung/.julia/packages/Flux/sY3yx/src/optimise/train.jl:136\n"
     ]
    },
    {
     "name": "stdout",
     "output_type": "stream",
     "text": [
      "mse_loss(xtest, ytest) = 1.4950668f0\n"
     ]
    },
    {
     "name": "stderr",
     "output_type": "stream",
     "text": [
      "┌ Info: Epoch 74\n",
      "└ @ ConvGRU /Users/kahingleung/.julia/packages/Flux/sY3yx/src/optimise/train.jl:136\n"
     ]
    },
    {
     "name": "stdout",
     "output_type": "stream",
     "text": [
      "mse_loss(xtest, ytest) = 1.5001302f0\n"
     ]
    },
    {
     "name": "stderr",
     "output_type": "stream",
     "text": [
      "┌ Info: Epoch 75\n",
      "└ @ ConvGRU /Users/kahingleung/.julia/packages/Flux/sY3yx/src/optimise/train.jl:136\n",
      "┌ Info: Epoch 76\n",
      "└ @ ConvGRU /Users/kahingleung/.julia/packages/Flux/sY3yx/src/optimise/train.jl:136\n"
     ]
    },
    {
     "name": "stdout",
     "output_type": "stream",
     "text": [
      "mse_loss(xtest, ytest) = 1.496553f0\n",
      "mse_loss(xtest, ytest) = 1.4993429f0\n"
     ]
    },
    {
     "name": "stderr",
     "output_type": "stream",
     "text": [
      "┌ Info: Epoch 77\n",
      "└ @ ConvGRU /Users/kahingleung/.julia/packages/Flux/sY3yx/src/optimise/train.jl:136\n"
     ]
    },
    {
     "name": "stdout",
     "output_type": "stream",
     "text": [
      "mse_loss(xtest, ytest) = 1.4964116f0\n"
     ]
    },
    {
     "name": "stderr",
     "output_type": "stream",
     "text": [
      "┌ Info: Epoch 78\n",
      "└ @ ConvGRU /Users/kahingleung/.julia/packages/Flux/sY3yx/src/optimise/train.jl:136\n"
     ]
    },
    {
     "name": "stdout",
     "output_type": "stream",
     "text": [
      "mse_loss(xtest, ytest) = 1.4939789f0\n"
     ]
    },
    {
     "name": "stderr",
     "output_type": "stream",
     "text": [
      "┌ Info: Epoch 79\n",
      "└ @ ConvGRU /Users/kahingleung/.julia/packages/Flux/sY3yx/src/optimise/train.jl:136\n"
     ]
    },
    {
     "name": "stdout",
     "output_type": "stream",
     "text": [
      "mse_loss(xtest, ytest) = 1.49511f0\n"
     ]
    },
    {
     "name": "stderr",
     "output_type": "stream",
     "text": [
      "┌ Info: Epoch 80\n",
      "└ @ ConvGRU /Users/kahingleung/.julia/packages/Flux/sY3yx/src/optimise/train.jl:136\n",
      "┌ Info: Epoch 81\n",
      "└ @ ConvGRU /Users/kahingleung/.julia/packages/Flux/sY3yx/src/optimise/train.jl:136\n"
     ]
    },
    {
     "name": "stdout",
     "output_type": "stream",
     "text": [
      "mse_loss(xtest, ytest) = 1.498457f0\n",
      "mse_loss(xtest, ytest) = 1.4951999f0\n"
     ]
    },
    {
     "name": "stderr",
     "output_type": "stream",
     "text": [
      "┌ Info: Epoch 82\n",
      "└ @ ConvGRU /Users/kahingleung/.julia/packages/Flux/sY3yx/src/optimise/train.jl:136\n"
     ]
    },
    {
     "name": "stdout",
     "output_type": "stream",
     "text": [
      "mse_loss(xtest, ytest) = 1.4983509f0\n"
     ]
    },
    {
     "name": "stderr",
     "output_type": "stream",
     "text": [
      "┌ Info: Epoch 83\n",
      "└ @ ConvGRU /Users/kahingleung/.julia/packages/Flux/sY3yx/src/optimise/train.jl:136\n"
     ]
    },
    {
     "name": "stdout",
     "output_type": "stream",
     "text": [
      "mse_loss(xtest, ytest) = 1.4951143f0\n"
     ]
    },
    {
     "name": "stderr",
     "output_type": "stream",
     "text": [
      "┌ Info: Epoch 84\n",
      "└ @ ConvGRU /Users/kahingleung/.julia/packages/Flux/sY3yx/src/optimise/train.jl:136\n"
     ]
    },
    {
     "name": "stdout",
     "output_type": "stream",
     "text": [
      "mse_loss(xtest, ytest) = 1.4931682f0\n"
     ]
    },
    {
     "name": "stderr",
     "output_type": "stream",
     "text": [
      "┌ Info: Epoch 85\n",
      "└ @ ConvGRU /Users/kahingleung/.julia/packages/Flux/sY3yx/src/optimise/train.jl:136\n",
      "┌ Info: Epoch 86\n",
      "└ @ ConvGRU /Users/kahingleung/.julia/packages/Flux/sY3yx/src/optimise/train.jl:136\n"
     ]
    },
    {
     "name": "stdout",
     "output_type": "stream",
     "text": [
      "mse_loss(xtest, ytest) = 1.4949497f0\n",
      "mse_loss(xtest, ytest) = 1.4934741f0\n"
     ]
    },
    {
     "name": "stderr",
     "output_type": "stream",
     "text": [
      "┌ Info: Epoch 87\n",
      "└ @ ConvGRU /Users/kahingleung/.julia/packages/Flux/sY3yx/src/optimise/train.jl:136\n"
     ]
    },
    {
     "name": "stdout",
     "output_type": "stream",
     "text": [
      "mse_loss(xtest, ytest) = 1.4951268f0\n"
     ]
    },
    {
     "name": "stderr",
     "output_type": "stream",
     "text": [
      "┌ Info: Epoch 88\n",
      "└ @ ConvGRU /Users/kahingleung/.julia/packages/Flux/sY3yx/src/optimise/train.jl:136\n"
     ]
    },
    {
     "name": "stdout",
     "output_type": "stream",
     "text": [
      "mse_loss(xtest, ytest) = 1.4931654f0\n"
     ]
    },
    {
     "name": "stderr",
     "output_type": "stream",
     "text": [
      "┌ Info: Epoch 89\n",
      "└ @ ConvGRU /Users/kahingleung/.julia/packages/Flux/sY3yx/src/optimise/train.jl:136\n"
     ]
    },
    {
     "name": "stdout",
     "output_type": "stream",
     "text": [
      "mse_loss(xtest, ytest) = 1.4922009f0\n"
     ]
    },
    {
     "name": "stderr",
     "output_type": "stream",
     "text": [
      "┌ Info: Epoch 90\n",
      "└ @ ConvGRU /Users/kahingleung/.julia/packages/Flux/sY3yx/src/optimise/train.jl:136\n"
     ]
    },
    {
     "name": "stdout",
     "output_type": "stream",
     "text": [
      "mse_loss(xtest, ytest) = 1.4940007f0\n"
     ]
    },
    {
     "name": "stderr",
     "output_type": "stream",
     "text": [
      "┌ Info: Epoch 91\n",
      "└ @ ConvGRU /Users/kahingleung/.julia/packages/Flux/sY3yx/src/optimise/train.jl:136\n"
     ]
    },
    {
     "name": "stdout",
     "output_type": "stream",
     "text": [
      "mse_loss(xtest, ytest) = 1.4971083f0\n"
     ]
    },
    {
     "name": "stderr",
     "output_type": "stream",
     "text": [
      "┌ Info: Epoch 92\n",
      "└ @ ConvGRU /Users/kahingleung/.julia/packages/Flux/sY3yx/src/optimise/train.jl:136\n"
     ]
    },
    {
     "name": "stdout",
     "output_type": "stream",
     "text": [
      "mse_loss(xtest, ytest) = 1.4941242f0\n"
     ]
    },
    {
     "name": "stderr",
     "output_type": "stream",
     "text": [
      "┌ Info: Epoch 93\n",
      "└ @ ConvGRU /Users/kahingleung/.julia/packages/Flux/sY3yx/src/optimise/train.jl:136\n"
     ]
    },
    {
     "name": "stdout",
     "output_type": "stream",
     "text": [
      "mse_loss(xtest, ytest) = 1.4926239f0\n"
     ]
    },
    {
     "name": "stderr",
     "output_type": "stream",
     "text": [
      "┌ Info: Epoch 94\n",
      "└ @ ConvGRU /Users/kahingleung/.julia/packages/Flux/sY3yx/src/optimise/train.jl:136\n"
     ]
    },
    {
     "name": "stdout",
     "output_type": "stream",
     "text": [
      "mse_loss(xtest, ytest) = 1.4920548f0\n"
     ]
    },
    {
     "name": "stderr",
     "output_type": "stream",
     "text": [
      "┌ Info: Epoch 95\n",
      "└ @ ConvGRU /Users/kahingleung/.julia/packages/Flux/sY3yx/src/optimise/train.jl:136\n"
     ]
    },
    {
     "name": "stdout",
     "output_type": "stream",
     "text": [
      "mse_loss(xtest, ytest) = 1.4910132f0\n"
     ]
    },
    {
     "name": "stderr",
     "output_type": "stream",
     "text": [
      "┌ Info: Epoch 96\n",
      "└ @ ConvGRU /Users/kahingleung/.julia/packages/Flux/sY3yx/src/optimise/train.jl:136\n"
     ]
    },
    {
     "name": "stdout",
     "output_type": "stream",
     "text": [
      "mse_loss(xtest, ytest) = 1.4950331f0\n"
     ]
    },
    {
     "name": "stderr",
     "output_type": "stream",
     "text": [
      "┌ Info: Epoch 97\n",
      "└ @ ConvGRU /Users/kahingleung/.julia/packages/Flux/sY3yx/src/optimise/train.jl:136\n"
     ]
    },
    {
     "name": "stdout",
     "output_type": "stream",
     "text": [
      "mse_loss(xtest, ytest) = 1.4938756f0\n"
     ]
    },
    {
     "name": "stderr",
     "output_type": "stream",
     "text": [
      "┌ Info: Epoch 98\n",
      "└ @ ConvGRU /Users/kahingleung/.julia/packages/Flux/sY3yx/src/optimise/train.jl:136\n"
     ]
    },
    {
     "name": "stdout",
     "output_type": "stream",
     "text": [
      "mse_loss(xtest, ytest) = 1.4925928f0\n"
     ]
    },
    {
     "name": "stderr",
     "output_type": "stream",
     "text": [
      "┌ Info: Epoch 99\n",
      "└ @ ConvGRU /Users/kahingleung/.julia/packages/Flux/sY3yx/src/optimise/train.jl:136\n"
     ]
    },
    {
     "name": "stdout",
     "output_type": "stream",
     "text": [
      "mse_loss(xtest, ytest) = 1.4963388f0\n"
     ]
    },
    {
     "name": "stderr",
     "output_type": "stream",
     "text": [
      "┌ Info: Epoch 100\n",
      "└ @ ConvGRU /Users/kahingleung/.julia/packages/Flux/sY3yx/src/optimise/train.jl:136\n"
     ]
    },
    {
     "name": "stdout",
     "output_type": "stream",
     "text": [
      "(250,)\n",
      "1.4976369\n",
      "0.692\n"
     ]
    }
   ],
   "source": [
    "list=[\"gbtc\",\"2840.HK\",\"GLD\",\"SQ\"]\n",
    "using DataFrames\n",
    "result = DataFrame(symbol=String[],loss=Float32[],time=Float64[])\n",
    "\n",
    "for sym in list\n",
    "    tstart = time()\n",
    "    loss = ConvGRU.mainTest(sym)\n",
    "    tend=time()\n",
    "    et=tend-tstart\n",
    "    push!(result,(sym,loss,et))\n",
    "end"
   ]
  },
  {
   "cell_type": "code",
   "execution_count": 7,
   "metadata": {},
   "outputs": [
    {
     "data": {
      "text/html": [
       "<table class=\"data-frame\"><thead><tr><th></th><th>symbol</th><th>loss</th><th>time</th></tr><tr><th></th><th>String</th><th>Float32</th><th>Float64</th></tr></thead><tbody><p>4 rows × 3 columns</p><tr><th>1</th><td>gbtc</td><td>0.724</td><td>225.142</td></tr><tr><th>2</th><td>2840.HK</td><td>0.596</td><td>154.977</td></tr><tr><th>3</th><td>GLD</td><td>0.552</td><td>156.584</td></tr><tr><th>4</th><td>SQ</td><td>0.692</td><td>149.621</td></tr></tbody></table>"
      ],
      "text/latex": [
       "\\begin{tabular}{r|ccc}\n",
       "\t& symbol & loss & time\\\\\n",
       "\t\\hline\n",
       "\t& String & Float32 & Float64\\\\\n",
       "\t\\hline\n",
       "\t1 & gbtc & 0.724 & 225.142 \\\\\n",
       "\t2 & 2840.HK & 0.596 & 154.977 \\\\\n",
       "\t3 & GLD & 0.552 & 156.584 \\\\\n",
       "\t4 & SQ & 0.692 & 149.621 \\\\\n",
       "\\end{tabular}\n"
      ],
      "text/plain": [
       "\u001b[1m4×3 DataFrame\u001b[0m\n",
       "\u001b[1m Row \u001b[0m│\u001b[1m symbol  \u001b[0m\u001b[1m loss    \u001b[0m\u001b[1m time    \u001b[0m\n",
       "\u001b[1m     \u001b[0m│\u001b[90m String  \u001b[0m\u001b[90m Float32 \u001b[0m\u001b[90m Float64 \u001b[0m\n",
       "─────┼───────────────────────────\n",
       "   1 │ gbtc       0.724  225.142\n",
       "   2 │ 2840.HK    0.596  154.977\n",
       "   3 │ GLD        0.552  156.584\n",
       "   4 │ SQ         0.692  149.621"
      ]
     },
     "execution_count": 7,
     "metadata": {},
     "output_type": "execute_result"
    }
   ],
   "source": [
    "result"
   ]
  }
 ],
 "metadata": {
  "kernelspec": {
   "display_name": "Julia 1.5.3",
   "language": "julia",
   "name": "julia-1.5"
  },
  "language_info": {
   "file_extension": ".jl",
   "mimetype": "application/julia",
   "name": "julia",
   "version": "1.5.3"
  }
 },
 "nbformat": 4,
 "nbformat_minor": 4
}

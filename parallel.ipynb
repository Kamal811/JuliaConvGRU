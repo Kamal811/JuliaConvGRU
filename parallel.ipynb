{
 "cells": [
  {
   "cell_type": "code",
   "execution_count": 1,
   "metadata": {},
   "outputs": [],
   "source": [
    "using Distributed"
   ]
  },
  {
   "cell_type": "code",
   "execution_count": 2,
   "metadata": {},
   "outputs": [
    {
     "data": {
      "text/plain": [
       "4"
      ]
     },
     "execution_count": 2,
     "metadata": {},
     "output_type": "execute_result"
    }
   ],
   "source": [
    "addprocs(4)\n",
    "nworkers()"
   ]
  },
  {
   "cell_type": "code",
   "execution_count": 3,
   "metadata": {},
   "outputs": [],
   "source": [
    "@everywhere include(\"env.jl\")"
   ]
  },
  {
   "cell_type": "code",
   "execution_count": 22,
   "metadata": {},
   "outputs": [
    {
     "name": "stdout",
     "output_type": "stream",
     "text": [
      "      From worker 3:\t   Updating registry at `~/.julia/registries/General`\n",
      "      From worker 4:\t   Updating registry at `~/.julia/registries/General`\n",
      "      From worker 5:\t   Updating registry at `~/.julia/registries/General`\n"
     ]
    },
    {
     "name": "stderr",
     "output_type": "stream",
     "text": [
      "\u001b[32m\u001b[1m   Updating\u001b[22m\u001b[39m registry at `~/.julia/registries/General`\n"
     ]
    },
    {
     "name": "stdout",
     "output_type": "stream",
     "text": [
      "      From worker 2:\t   Updating registry at `~/.julia/registries/General`\n",
      "      From worker 5:\tNo Changes to `~/.julia/environments/v1.5/Project.toml`\n",
      "      From worker 5:\tNo Changes to `~/.julia/environments/v1.5/Manifest.toml`\n",
      "      From worker 5:\t  Resolving package versions...\n"
     ]
    },
    {
     "name": "stderr",
     "output_type": "stream",
     "text": [
      "\u001b[32m\u001b[1mNo Changes\u001b[22m\u001b[39m to `~/.julia/environments/v1.5/Project.toml`\n",
      "\u001b[32m\u001b[1mNo Changes\u001b[22m\u001b[39m to `~/.julia/environments/v1.5/Manifest.toml`\n",
      "\u001b[32m\u001b[1m  Resolving\u001b[22m\u001b[39m package versions...\n"
     ]
    },
    {
     "name": "stdout",
     "output_type": "stream",
     "text": [
      "      From worker 5:\tNo Changes to `~/.julia/environments/v1.5/Project.toml`\n",
      "      From worker 5:\tNo Changes to `~/.julia/environments/v1.5/Manifest.toml`\n",
      "      From worker 5:\t  Resolving package versions...\n"
     ]
    },
    {
     "name": "stderr",
     "output_type": "stream",
     "text": [
      "\u001b[32m\u001b[1mNo Changes\u001b[22m\u001b[39m to `~/.julia/environments/v1.5/Project.toml`\n",
      "\u001b[32m\u001b[1mNo Changes\u001b[22m\u001b[39m to `~/.julia/environments/v1.5/Manifest.toml`\n",
      "\u001b[32m\u001b[1m  Resolving\u001b[22m\u001b[39m package versions...\n"
     ]
    },
    {
     "name": "stdout",
     "output_type": "stream",
     "text": [
      "      From worker 4:\tNo Changes to `~/.julia/environments/v1.5/Project.toml`\n",
      "      From worker 4:\tNo Changes to `~/.julia/environments/v1.5/Manifest.toml`\n",
      "      From worker 4:\t  Resolving package versions...\n",
      "      From worker 4:\tNo Changes to `~/.julia/environments/v1.5/Project.toml`\n",
      "      From worker 4:\tNo Changes to `~/.julia/environments/v1.5/Manifest.toml`\n",
      "      From worker 4:\t  Resolving package versions...\n"
     ]
    },
    {
     "name": "stderr",
     "output_type": "stream",
     "text": [
      "\u001b[32m\u001b[1mNo Changes\u001b[22m\u001b[39m to `~/.julia/environments/v1.5/Project.toml`\n",
      "\u001b[32m\u001b[1mNo Changes\u001b[22m\u001b[39m to `~/.julia/environments/v1.5/Manifest.toml`\n",
      "\u001b[32m\u001b[1m  Resolving\u001b[22m\u001b[39m package versions...\n"
     ]
    },
    {
     "name": "stdout",
     "output_type": "stream",
     "text": [
      "      From worker 5:\tNo Changes to `~/.julia/environments/v1.5/Project.toml`\n",
      "      From worker 5:\tNo Changes to `~/.julia/environments/v1.5/Manifest.toml`\n",
      "      From worker 5:\t  Resolving package versions...\n",
      "      From worker 5:\tNo Changes to `~/.julia/environments/v1.5/Project.toml`\n",
      "      From worker 5:\tNo Changes to `~/.julia/environments/v1.5/Manifest.toml`\n"
     ]
    },
    {
     "name": "stderr",
     "output_type": "stream",
     "text": [
      "\u001b[32m\u001b[1mNo Changes\u001b[22m\u001b[39m to `~/.julia/environments/v1.5/Project.toml`\n",
      "\u001b[32m\u001b[1mNo Changes\u001b[22m\u001b[39m to `~/.julia/environments/v1.5/Manifest.toml`\n",
      "\u001b[32m\u001b[1m  Resolving\u001b[22m\u001b[39m package versions...\n"
     ]
    },
    {
     "name": "stdout",
     "output_type": "stream",
     "text": [
      "      From worker 5:\t  Resolving package versions...\n",
      "      From worker 5:\tNo Changes to `~/.julia/environments/v1.5/Project.toml`\n",
      "      From worker 5:\tNo Changes to `~/.julia/environments/v1.5/Manifest.toml`\n",
      "      From worker 5:\t  Resolving package versions...\n",
      "      From worker 2:\tNo Changes to `~/.julia/environments/v1.5/Project.toml`\n",
      "      From worker 2:\tNo Changes to `~/.julia/environments/v1.5/Manifest.toml`\n"
     ]
    },
    {
     "name": "stderr",
     "output_type": "stream",
     "text": [
      "\u001b[32m\u001b[1mNo Changes\u001b[22m\u001b[39m to `~/.julia/environments/v1.5/Project.toml`\n",
      "\u001b[32m\u001b[1mNo Changes\u001b[22m\u001b[39m to `~/.julia/environments/v1.5/Manifest.toml`\n",
      "\u001b[32m\u001b[1m  Resolving\u001b[22m\u001b[39m package versions...\n"
     ]
    },
    {
     "name": "stdout",
     "output_type": "stream",
     "text": [
      "      From worker 2:\t  Resolving package versions...\n",
      "      From worker 2:\tNo Changes to `~/.julia/environments/v1.5/Project.toml`\n",
      "      From worker 2:\tNo Changes to `~/.julia/environments/v1.5/Manifest.toml`\n",
      "      From worker 2:\t  Resolving package versions...\n",
      "      From worker 3:\tNo Changes to `~/.julia/environments/v1.5/Project.toml`\n"
     ]
    },
    {
     "name": "stderr",
     "output_type": "stream",
     "text": [
      "\u001b[32m\u001b[1mNo Changes\u001b[22m\u001b[39m to `~/.julia/environments/v1.5/Project.toml`\n",
      "\u001b[32m\u001b[1mNo Changes\u001b[22m\u001b[39m to `~/.julia/environments/v1.5/Manifest.toml`\n",
      "\u001b[32m\u001b[1m  Resolving\u001b[22m\u001b[39m package versions...\n"
     ]
    },
    {
     "name": "stdout",
     "output_type": "stream",
     "text": [
      "      From worker 3:\tNo Changes to `~/.julia/environments/v1.5/Manifest.toml`\n",
      "      From worker 3:\t  Resolving package versions...\n",
      "      From worker 4:\tNo Changes to `~/.julia/environments/v1.5/Project.toml`\n",
      "      From worker 4:\tNo Changes to `~/.julia/environments/v1.5/Manifest.toml`\n",
      "      From worker 4:\t  Resolving package versions...\n"
     ]
    },
    {
     "name": "stderr",
     "output_type": "stream",
     "text": [
      "\u001b[32m\u001b[1mNo Changes\u001b[22m\u001b[39m to `~/.julia/environments/v1.5/Project.toml`\n",
      "\u001b[32m\u001b[1mNo Changes\u001b[22m\u001b[39m to `~/.julia/environments/v1.5/Manifest.toml`\n",
      "\u001b[32m\u001b[1m  Resolving\u001b[22m\u001b[39m package versions...\n"
     ]
    },
    {
     "name": "stdout",
     "output_type": "stream",
     "text": [
      "      From worker 5:\tNo Changes to `~/.julia/environments/v1.5/Project.toml`\n",
      "      From worker 5:\tNo Changes to `~/.julia/environments/v1.5/Manifest.toml`\n",
      "      From worker 5:\t  Resolving package versions...\n",
      "      From worker 5:\tNo Changes to `~/.julia/environments/v1.5/Project.toml`\n",
      "      From worker 5:\tNo Changes to `~/.julia/environments/v1.5/Manifest.toml`\n",
      "      From worker 5:\t  Resolving package versions...\n"
     ]
    },
    {
     "name": "stderr",
     "output_type": "stream",
     "text": [
      "\u001b[32m\u001b[1mNo Changes\u001b[22m\u001b[39m to `~/.julia/environments/v1.5/Project.toml`\n",
      "\u001b[32m\u001b[1mNo Changes\u001b[22m\u001b[39m to `~/.julia/environments/v1.5/Manifest.toml`\n",
      "\u001b[32m\u001b[1m  Resolving\u001b[22m\u001b[39m package versions...\n"
     ]
    },
    {
     "name": "stdout",
     "output_type": "stream",
     "text": [
      "      From worker 5:\tNo Changes to `~/.julia/environments/v1.5/Project.toml`\n",
      "      From worker 5:\tNo Changes to `~/.julia/environments/v1.5/Manifest.toml`\n",
      "      From worker 5:\t  Resolving package versions...\n",
      "      From worker 5:\tNo Changes to `~/.julia/environments/v1.5/Project.toml`\n",
      "      From worker 5:\tNo Changes to `~/.julia/environments/v1.5/Manifest.toml`\n",
      "      From worker 5:\t  Resolving package versions...\n"
     ]
    },
    {
     "name": "stderr",
     "output_type": "stream",
     "text": [
      "\u001b[32m\u001b[1mNo Changes\u001b[22m\u001b[39m to `~/.julia/environments/v1.5/Project.toml`\n",
      "\u001b[32m\u001b[1mNo Changes\u001b[22m\u001b[39m to `~/.julia/environments/v1.5/Manifest.toml`\n",
      "\u001b[32m\u001b[1m  Resolving\u001b[22m\u001b[39m package versions...\n"
     ]
    },
    {
     "name": "stdout",
     "output_type": "stream",
     "text": [
      "      From worker 2:\tNo Changes to `~/.julia/environments/v1.5/Project.toml`\n",
      "      From worker 2:\tNo Changes to `~/.julia/environments/v1.5/Manifest.toml`\n",
      "      From worker 2:\t  Resolving package versions...\n",
      "      From worker 2:\tNo Changes to `~/.julia/environments/v1.5/Project.toml`\n",
      "      From worker 2:\tNo Changes to `~/.julia/environments/v1.5/Manifest.toml`\n",
      "      From worker 2:\t  Resolving package versions...\n"
     ]
    },
    {
     "name": "stderr",
     "output_type": "stream",
     "text": [
      "\u001b[32m\u001b[1mNo Changes\u001b[22m\u001b[39m to `~/.julia/environments/v1.5/Project.toml`\n",
      "\u001b[32m\u001b[1mNo Changes\u001b[22m\u001b[39m to `~/.julia/environments/v1.5/Manifest.toml`\n",
      "\u001b[32m\u001b[1m  Resolving\u001b[22m\u001b[39m package versions...\n"
     ]
    },
    {
     "name": "stdout",
     "output_type": "stream",
     "text": [
      "      From worker 3:\tNo Changes to `~/.julia/environments/v1.5/Project.toml`\n",
      "      From worker 3:\tNo Changes to `~/.julia/environments/v1.5/Manifest.toml`\n",
      "      From worker 3:\t  Resolving package versions...\n",
      "      From worker 3:\tNo Changes to `~/.julia/environments/v1.5/Project.toml`\n",
      "      From worker 3:\tNo Changes to `~/.julia/environments/v1.5/Manifest.toml`\n"
     ]
    },
    {
     "name": "stderr",
     "output_type": "stream",
     "text": [
      "\u001b[32m\u001b[1mNo Changes\u001b[22m\u001b[39m to `~/.julia/environments/v1.5/Project.toml`\n",
      "\u001b[32m\u001b[1mNo Changes\u001b[22m\u001b[39m to `~/.julia/environments/v1.5/Manifest.toml`\n",
      "\u001b[32m\u001b[1m  Resolving\u001b[22m\u001b[39m package versions...\n"
     ]
    },
    {
     "name": "stdout",
     "output_type": "stream",
     "text": [
      "      From worker 3:\t  Resolving package versions...\n",
      "      From worker 4:\tNo Changes to `~/.julia/environments/v1.5/Project.toml`\n",
      "      From worker 4:\tNo Changes to `~/.julia/environments/v1.5/Manifest.toml`\n",
      "      From worker 4:\t  Resolving package versions...\n",
      "      From worker 4:\tNo Changes to `~/.julia/environments/v1.5/Project.toml`\n",
      "      From worker 4:\tNo Changes to `~/.julia/environments/v1.5/Manifest.toml`\n"
     ]
    },
    {
     "name": "stderr",
     "output_type": "stream",
     "text": [
      "\u001b[32m\u001b[1mNo Changes\u001b[22m\u001b[39m to `~/.julia/environments/v1.5/Project.toml`\n",
      "\u001b[32m\u001b[1mNo Changes\u001b[22m\u001b[39m to `~/.julia/environments/v1.5/Manifest.toml`\n",
      "\u001b[32m\u001b[1m  Resolving\u001b[22m\u001b[39m package versions...\n"
     ]
    },
    {
     "name": "stdout",
     "output_type": "stream",
     "text": [
      "      From worker 4:\t  Resolving package versions...\n",
      "      From worker 4:\tNo Changes to `~/.julia/environments/v1.5/Project.toml`\n",
      "      From worker 4:\tNo Changes to `~/.julia/environments/v1.5/Manifest.toml`\n",
      "      From worker 4:\t  Resolving package versions...\n",
      "      From worker 4:\tNo Changes to `~/.julia/environments/v1.5/Project.toml`\n",
      "      From worker 4:\tNo Changes to `~/.julia/environments/v1.5/Manifest.toml`\n"
     ]
    },
    {
     "name": "stderr",
     "output_type": "stream",
     "text": [
      "\u001b[32m\u001b[1mNo Changes\u001b[22m\u001b[39m to `~/.julia/environments/v1.5/Project.toml`\n",
      "\u001b[32m\u001b[1mNo Changes\u001b[22m\u001b[39m to `~/.julia/environments/v1.5/Manifest.toml`\n",
      "\u001b[32m\u001b[1m  Resolving\u001b[22m\u001b[39m package versions...\n"
     ]
    },
    {
     "name": "stdout",
     "output_type": "stream",
     "text": [
      "      From worker 4:\t  Resolving package versions...\n",
      "      From worker 5:\tNo Changes to `~/.julia/environments/v1.5/Project.toml`\n",
      "      From worker 5:\tNo Changes to `~/.julia/environments/v1.5/Manifest.toml`\n",
      "      From worker 5:\t  Resolving package versions...\n",
      "      From worker 5:\tNo Changes to `~/.julia/environments/v1.5/Project.toml`\n",
      "      From worker 5:\tNo Changes to `~/.julia/environments/v1.5/Manifest.toml`\n",
      "      From worker 5:\t  Resolving package versions...\n",
      "      From worker 5:\tNo Changes to `~/.julia/environments/v1.5/Project.toml`\n",
      "      From worker 5:\tNo Changes to `~/.julia/environments/v1.5/Manifest.toml`\n",
      "      From worker 5:\t  Resolving package versions...\n",
      "      From worker 5:\tNo Changes to `~/.julia/environments/v1.5/Project.toml`\n",
      "      From worker 5:\tNo Changes to `~/.julia/environments/v1.5/Manifest.toml`\n",
      "      From worker 5:\t  Resolving package versions...\n",
      "      From worker 5:\tNo Changes to `~/.julia/environments/v1.5/Project.toml`\n",
      "      From worker 5:\tNo Changes to `~/.julia/environments/v1.5/Manifest.toml`\n",
      "      From worker 2:\tNo Changes to `~/.julia/environments/v1.5/Project.toml`\n",
      "      From worker 2:\tNo Changes to `~/.julia/environments/v1.5/Manifest.toml`\n",
      "      From worker 2:\t  Resolving package versions...\n",
      "      From worker 2:\tNo Changes to `~/.julia/environments/v1.5/Project.toml`\n",
      "      From worker 2:\tNo Changes to `~/.julia/environments/v1.5/Manifest.toml`\n",
      "      From worker 2:\t  Resolving package versions...\n",
      "      From worker 2:\tNo Changes to `~/.julia/environments/v1.5/Project.toml`\n",
      "      From worker 2:\tNo Changes to `~/.julia/environments/v1.5/Manifest.toml`\n",
      "      From worker 2:\t  Resolving package versions...\n",
      "      From worker 2:\tNo Changes to `~/.julia/environments/v1.5/Project.toml`\n",
      "      From worker 2:\tNo Changes to `~/.julia/environments/v1.5/Manifest.toml`\n",
      "      From worker 2:\t  Resolving package versions...\n",
      "      From worker 3:\tNo Changes to `~/.julia/environments/v1.5/Project.toml`\n",
      "      From worker 3:\tNo Changes to `~/.julia/environments/v1.5/Manifest.toml`\n",
      "      From worker 3:\t  Resolving package versions...\n",
      "      From worker 3:\tNo Changes to `~/.julia/environments/v1.5/Project.toml`\n",
      "      From worker 3:\tNo Changes to `~/.julia/environments/v1.5/Manifest.toml`\n",
      "      From worker 3:\t  Resolving package versions...\n",
      "      From worker 3:\tNo Changes to `~/.julia/environments/v1.5/Project.toml`\n",
      "      From worker 3:\tNo Changes to `~/.julia/environments/v1.5/Manifest.toml`\n",
      "      From worker 3:\t  Resolving package versions...\n",
      "      From worker 3:\tNo Changes to `~/.julia/environments/v1.5/Project.toml`\n",
      "      From worker 3:\tNo Changes to `~/.julia/environments/v1.5/Manifest.toml`\n",
      "      From worker 3:\t  Resolving package versions...\n",
      "      From worker 3:\tNo Changes to `~/.julia/environments/v1.5/Project.toml`\n",
      "      From worker 3:\tNo Changes to `~/.julia/environments/v1.5/Manifest.toml`\n",
      "      From worker 3:\t  Resolving package versions...\n",
      "      From worker 4:\tNo Changes to `~/.julia/environments/v1.5/Project.toml`\n",
      "      From worker 4:\tNo Changes to `~/.julia/environments/v1.5/Manifest.toml`\n",
      "      From worker 4:\t  Resolving package versions...\n",
      "      From worker 4:\tNo Changes to `~/.julia/environments/v1.5/Project.toml`\n",
      "      From worker 4:\tNo Changes to `~/.julia/environments/v1.5/Manifest.toml`\n",
      "      From worker 4:\t  Resolving package versions...\n",
      "      From worker 4:\tNo Changes to `~/.julia/environments/v1.5/Project.toml`\n",
      "      From worker 4:\tNo Changes to `~/.julia/environments/v1.5/Manifest.toml`\n",
      "      From worker 4:\t  Resolving package versions...\n",
      "      From worker 4:\tNo Changes to `~/.julia/environments/v1.5/Project.toml`\n",
      "      From worker 4:\tNo Changes to `~/.julia/environments/v1.5/Manifest.toml`\n",
      "      From worker 4:\t  Resolving package versions...\n",
      "      From worker 4:\tNo Changes to `~/.julia/environments/v1.5/Project.toml`\n",
      "      From worker 4:\tNo Changes to `~/.julia/environments/v1.5/Manifest.toml`\n",
      "      From worker 4:\t  Resolving package versions...\n",
      "      From worker 4:\tNo Changes to `~/.julia/environments/v1.5/Project.toml`\n",
      "      From worker 4:\tNo Changes to `~/.julia/environments/v1.5/Manifest.toml`\n",
      "      From worker 4:\t  Resolving package versions...\n",
      "      From worker 4:\tNo Changes to `~/.julia/environments/v1.5/Project.toml`\n",
      "      From worker 4:\tNo Changes to `~/.julia/environments/v1.5/Manifest.toml`\n",
      "      From worker 3:\tNo Changes to `~/.julia/environments/v1.5/Project.toml`\n",
      "      From worker 3:\tNo Changes to `~/.julia/environments/v1.5/Manifest.toml`\n",
      "      From worker 3:\t  Resolving package versions...\n",
      "      From worker 3:\tNo Changes to `~/.julia/environments/v1.5/Project.toml`\n",
      "      From worker 3:\tNo Changes to `~/.julia/environments/v1.5/Manifest.toml`\n",
      "      From worker 3:\t  Resolving package versions...\n"
     ]
    },
    {
     "name": "stderr",
     "output_type": "stream",
     "text": [
      "\u001b[32m\u001b[1mNo Changes\u001b[22m\u001b[39m to `~/.julia/environments/v1.5/Project.toml`\n",
      "\u001b[32m\u001b[1mNo Changes\u001b[22m\u001b[39m to `~/.julia/environments/v1.5/Manifest.toml`\n"
     ]
    },
    {
     "name": "stdout",
     "output_type": "stream",
     "text": [
      "      From worker 3:\tNo Changes to `~/.julia/environments/v1.5/Project.toml`\n",
      "      From worker 3:\tNo Changes to `~/.julia/environments/v1.5/Manifest.toml`\n",
      "      From worker 3:\t  Resolving package versions...\n",
      "      From worker 2:\tNo Changes to `~/.julia/environments/v1.5/Project.toml`\n",
      "      From worker 2:\tNo Changes to `~/.julia/environments/v1.5/Manifest.toml`\n",
      "      From worker 2:\t  Resolving package versions...\n",
      "      From worker 3:\tNo Changes to `~/.julia/environments/v1.5/Project.toml`\n",
      "      From worker 3:\tNo Changes to `~/.julia/environments/v1.5/Manifest.toml`\n",
      "      From worker 3:\t  Resolving package versions...\n",
      "      From worker 3:\tNo Changes to `~/.julia/environments/v1.5/Project.toml`\n",
      "      From worker 3:\tNo Changes to `~/.julia/environments/v1.5/Manifest.toml`\n",
      "      From worker 3:\t  Resolving package versions...\n",
      "      From worker 3:\tNo Changes to `~/.julia/environments/v1.5/Project.toml`\n",
      "      From worker 3:\tNo Changes to `~/.julia/environments/v1.5/Manifest.toml`\n",
      "      From worker 2:\tNo Changes to `~/.julia/environments/v1.5/Project.toml`\n",
      "      From worker 2:\tNo Changes to `~/.julia/environments/v1.5/Manifest.toml`\n",
      "      From worker 2:\t  Resolving package versions...\n",
      "      From worker 2:\tNo Changes to `~/.julia/environments/v1.5/Project.toml`\n",
      "      From worker 2:\tNo Changes to `~/.julia/environments/v1.5/Manifest.toml`\n",
      "      From worker 2:\t  Resolving package versions...\n",
      "      From worker 2:\tNo Changes to `~/.julia/environments/v1.5/Project.toml`\n",
      "      From worker 2:\tNo Changes to `~/.julia/environments/v1.5/Manifest.toml`\n",
      "      From worker 2:\t  Resolving package versions...\n",
      "      From worker 2:\tNo Changes to `~/.julia/environments/v1.5/Project.toml`\n",
      "      From worker 2:\tNo Changes to `~/.julia/environments/v1.5/Manifest.toml`\n",
      "      From worker 2:\t  Resolving package versions...\n",
      "      From worker 2:\tNo Changes to `~/.julia/environments/v1.5/Project.toml`\n",
      "      From worker 2:\tNo Changes to `~/.julia/environments/v1.5/Manifest.toml`\n"
     ]
    }
   ],
   "source": [
    "@everywhere include(\"installPkg.jl\")"
   ]
  },
  {
   "cell_type": "code",
   "execution_count": 10,
   "metadata": {},
   "outputs": [
    {
     "name": "stdout",
     "output_type": "stream",
     "text": [
      "      From worker 5:\t┌ Warning: Package OsRSIConv does not have Pkg in its dependencies:\n",
      "      From worker 5:\t│ - If you have OsRSIConv checked out for development and have\n",
      "      From worker 5:\t│   added Pkg as a dependency but haven't updated your primary\n",
      "      From worker 5:\t│   environment's manifest file, try `Pkg.resolve()`.\n",
      "      From worker 5:\t│ - Otherwise you may need to report an issue with OsRSIConv\n",
      "      From worker 5:\t└ Loading Pkg into OsRSIConv from project dependency, future warnings for OsRSIConv are suppressed.\n",
      "      From worker 5:\t   Updating registry at `~/.julia/registries/General`\n",
      "      From worker 4:\t┌ Warning: Package OsRSIConv does not have Pkg in its dependencies:\n",
      "      From worker 4:\t│ - If you have OsRSIConv checked out for development and have\n",
      "      From worker 4:\t│   added Pkg as a dependency but haven't updated your primary\n",
      "      From worker 4:\t│   environment's manifest file, try `Pkg.resolve()`.\n",
      "      From worker 4:\t│ - Otherwise you may need to report an issue with OsRSIConv\n",
      "      From worker 4:\t└ Loading Pkg into OsRSIConv from project dependency, future warnings for OsRSIConv are suppressed.\n",
      "      From worker 4:\t   Updating registry at `~/.julia/registries/General`\n",
      "      From worker 5:\tNo Changes to `~/.julia/environments/v1.5/Project.toml`\n",
      "      From worker 4:\tNo Changes to `~/.julia/environments/v1.5/Project.toml`\n",
      "      From worker 5:\tNo Changes to `~/.julia/environments/v1.5/Manifest.toml`\n",
      "      From worker 4:\tNo Changes to `~/.julia/environments/v1.5/Manifest.toml`\n",
      "      From worker 5:\t  Resolving package versions...\n",
      "      From worker 4:\t  Resolving package versions...\n",
      "      From worker 4:\tNo Changes to `~/.julia/environments/v1.5/Project.toml`\n",
      "      From worker 5:\tNo Changes to `~/.julia/environments/v1.5/Project.toml`\n",
      "      From worker 4:\tNo Changes to `~/.julia/environments/v1.5/Manifest.toml`\n",
      "      From worker 5:\tNo Changes to `~/.julia/environments/v1.5/Manifest.toml`\n",
      "      From worker 5:\t  Resolving package versions...\n",
      "      From worker 4:\t  Resolving package versions...\n",
      "      From worker 4:\tNo Changes to `~/.julia/environments/v1.5/Project.toml`\n",
      "      From worker 4:\tNo Changes to `~/.julia/environments/v1.5/Manifest.toml`\n",
      "      From worker 5:\tNo Changes to `~/.julia/environments/v1.5/Project.toml`\n",
      "      From worker 5:\tNo Changes to `~/.julia/environments/v1.5/Manifest.toml`\n",
      "      From worker 4:\t  Resolving package versions...\n",
      "      From worker 5:\t  Resolving package versions...\n",
      "      From worker 4:\tNo Changes to `~/.julia/environments/v1.5/Project.toml`\n",
      "      From worker 4:\tNo Changes to `~/.julia/environments/v1.5/Manifest.toml`\n",
      "      From worker 4:\t  Resolving package versions...\n",
      "      From worker 5:\tNo Changes to `~/.julia/environments/v1.5/Project.toml`\n",
      "      From worker 5:\tNo Changes to `~/.julia/environments/v1.5/Manifest.toml`\n",
      "      From worker 5:\t  Resolving package versions...\n",
      "      From worker 4:\tNo Changes to `~/.julia/environments/v1.5/Project.toml`\n",
      "      From worker 4:\tNo Changes to `~/.julia/environments/v1.5/Manifest.toml`\n",
      "      From worker 4:\t  Resolving package versions...\n",
      "      From worker 5:\tNo Changes to `~/.julia/environments/v1.5/Project.toml`\n",
      "      From worker 5:\tNo Changes to `~/.julia/environments/v1.5/Manifest.toml`\n",
      "      From worker 5:\t  Resolving package versions...\n",
      "      From worker 4:\tNo Changes to `~/.julia/environments/v1.5/Project.toml`\n",
      "      From worker 4:\tNo Changes to `~/.julia/environments/v1.5/Manifest.toml`\n",
      "      From worker 4:\t  Resolving package versions...\n",
      "      From worker 5:\tNo Changes to `~/.julia/environments/v1.5/Project.toml`\n",
      "      From worker 5:\tNo Changes to `~/.julia/environments/v1.5/Manifest.toml`\n",
      "      From worker 5:\t  Resolving package versions...\n",
      "      From worker 4:\tNo Changes to `~/.julia/environments/v1.5/Project.toml`\n",
      "      From worker 4:\tNo Changes to `~/.julia/environments/v1.5/Manifest.toml`\n",
      "      From worker 4:\t  Resolving package versions...\n",
      "      From worker 5:\tNo Changes to `~/.julia/environments/v1.5/Project.toml`\n",
      "      From worker 5:\tNo Changes to `~/.julia/environments/v1.5/Manifest.toml`\n",
      "      From worker 5:\t  Resolving package versions...\n",
      "      From worker 4:\tNo Changes to `~/.julia/environments/v1.5/Project.toml`\n",
      "      From worker 4:\tNo Changes to `~/.julia/environments/v1.5/Manifest.toml`\n",
      "      From worker 4:\t  Resolving package versions...\n",
      "      From worker 5:\tNo Changes to `~/.julia/environments/v1.5/Project.toml`\n",
      "      From worker 5:\tNo Changes to `~/.julia/environments/v1.5/Manifest.toml`\n",
      "      From worker 5:\t  Resolving package versions...\n",
      "      From worker 4:\tNo Changes to `~/.julia/environments/v1.5/Project.toml`\n",
      "      From worker 4:\tNo Changes to `~/.julia/environments/v1.5/Manifest.toml`\n",
      "      From worker 4:\t  Resolving package versions...\n",
      "      From worker 5:\tNo Changes to `~/.julia/environments/v1.5/Project.toml`\n",
      "      From worker 5:\tNo Changes to `~/.julia/environments/v1.5/Manifest.toml`\n",
      "      From worker 5:\t  Resolving package versions...\n",
      "      From worker 4:\tNo Changes to `~/.julia/environments/v1.5/Project.toml`\n",
      "      From worker 4:\tNo Changes to `~/.julia/environments/v1.5/Manifest.toml`\n",
      "      From worker 4:\t  Resolving package versions...\n",
      "      From worker 5:\tNo Changes to `~/.julia/environments/v1.5/Project.toml`\n",
      "      From worker 5:\tNo Changes to `~/.julia/environments/v1.5/Manifest.toml`\n",
      "      From worker 5:\t  Resolving package versions...\n",
      "      From worker 4:\tNo Changes to `~/.julia/environments/v1.5/Project.toml`\n",
      "      From worker 4:\tNo Changes to `~/.julia/environments/v1.5/Manifest.toml`\n",
      "      From worker 4:\t  Resolving package versions...\n",
      "      From worker 5:\tNo Changes to `~/.julia/environments/v1.5/Project.toml`\n",
      "      From worker 5:\tNo Changes to `~/.julia/environments/v1.5/Manifest.toml`\n",
      "      From worker 5:\t  Resolving package versions...\n",
      "      From worker 4:\tNo Changes to `~/.julia/environments/v1.5/Project.toml`\n",
      "      From worker 4:\tNo Changes to `~/.julia/environments/v1.5/Manifest.toml`\n",
      "      From worker 5:\tNo Changes to `~/.julia/environments/v1.5/Project.toml`\n",
      "      From worker 5:\tNo Changes to `~/.julia/environments/v1.5/Manifest.toml`\n",
      "      From worker 4:\t┌ Warning: Package TradeAPI does not have Pkg in its dependencies:\n",
      "      From worker 4:\t│ - If you have TradeAPI checked out for development and have\n",
      "      From worker 4:\t│   added Pkg as a dependency but haven't updated your primary\n",
      "      From worker 4:\t│   environment's manifest file, try `Pkg.resolve()`.\n",
      "      From worker 4:\t│ - Otherwise you may need to report an issue with TradeAPI\n",
      "      From worker 4:\t└ Loading Pkg into TradeAPI from project dependency, future warnings for TradeAPI are suppressed.\n",
      "      From worker 5:\t┌ Warning: Package TradeAPI does not have Pkg in its dependencies:\n",
      "      From worker 5:\t│ - If you have TradeAPI checked out for development and have\n",
      "      From worker 5:\t│   added Pkg as a dependency but haven't updated your primary\n",
      "      From worker 5:\t│   environment's manifest file, try `Pkg.resolve()`.\n",
      "      From worker 5:\t│ - Otherwise you may need to report an issue with TradeAPI\n",
      "      From worker 5:\t└ Loading Pkg into TradeAPI from project dependency, future warnings for TradeAPI are suppressed.\n",
      "      From worker 5:\t   Updating registry at `~/.julia/registries/General`\n",
      "      From worker 4:\t   Updating registry at `~/.julia/registries/General`\n",
      "      From worker 5:\tNo Changes to `~/.julia/environments/v1.5/Project.toml`\n",
      "      From worker 4:\tNo Changes to `~/.julia/environments/v1.5/Project.toml`\n",
      "      From worker 5:\tNo Changes to `~/.julia/environments/v1.5/Manifest.toml`\n",
      "      From worker 4:\tNo Changes to `~/.julia/environments/v1.5/Manifest.toml`\n",
      "      From worker 5:\t  Resolving package versions...\n",
      "      From worker 4:\t  Resolving package versions...\n",
      "      From worker 5:\tNo Changes to `~/.julia/environments/v1.5/Project.toml`\n",
      "      From worker 4:\tNo Changes to `~/.julia/environments/v1.5/Project.toml`\n",
      "      From worker 5:\tNo Changes to `~/.julia/environments/v1.5/Manifest.toml`\n",
      "      From worker 4:\tNo Changes to `~/.julia/environments/v1.5/Manifest.toml`\n",
      "      From worker 4:\t  Resolving package versions...\n",
      "      From worker 5:\t  Resolving package versions...\n",
      "      From worker 4:\tNo Changes to `~/.julia/environments/v1.5/Project.toml`\n",
      "      From worker 5:\tNo Changes to `~/.julia/environments/v1.5/Project.toml`\n",
      "      From worker 4:\tNo Changes to `~/.julia/environments/v1.5/Manifest.toml`\n",
      "      From worker 5:\tNo Changes to `~/.julia/environments/v1.5/Manifest.toml`\n",
      "      From worker 4:\t  Resolving package versions...\n",
      "      From worker 5:\t  Resolving package versions...\n"
     ]
    },
    {
     "name": "stdout",
     "output_type": "stream",
     "text": [
      "      From worker 5:\tNo Changes to `~/.julia/environments/v1.5/Project.toml`\n",
      "      From worker 4:\tNo Changes to `~/.julia/environments/v1.5/Project.toml`\n",
      "      From worker 5:\tNo Changes to `~/.julia/environments/v1.5/Manifest.toml`\n",
      "      From worker 4:\tNo Changes to `~/.julia/environments/v1.5/Manifest.toml`\n",
      "      From worker 5:\t  Resolving package versions...\n",
      "      From worker 4:\t  Resolving package versions...\n",
      "      From worker 4:\tNo Changes to `~/.julia/environments/v1.5/Project.toml`\n",
      "      From worker 5:\tNo Changes to `~/.julia/environments/v1.5/Project.toml`\n",
      "      From worker 4:\tNo Changes to `~/.julia/environments/v1.5/Manifest.toml`\n",
      "      From worker 5:\tNo Changes to `~/.julia/environments/v1.5/Manifest.toml`\n",
      "      From worker 4:\t  Resolving package versions...\n",
      "      From worker 5:\t  Resolving package versions...\n",
      "      From worker 4:\tNo Changes to `~/.julia/environments/v1.5/Project.toml`\n",
      "      From worker 5:\tNo Changes to `~/.julia/environments/v1.5/Project.toml`\n",
      "      From worker 4:\tNo Changes to `~/.julia/environments/v1.5/Manifest.toml`\n",
      "      From worker 5:\tNo Changes to `~/.julia/environments/v1.5/Manifest.toml`\n",
      "      From worker 4:\t  Resolving package versions...\n",
      "      From worker 5:\t  Resolving package versions...\n",
      "      From worker 5:\tNo Changes to `~/.julia/environments/v1.5/Project.toml`\n",
      "      From worker 5:\tNo Changes to `~/.julia/environments/v1.5/Manifest.toml`\n",
      "      From worker 4:\tNo Changes to `~/.julia/environments/v1.5/Project.toml`\n",
      "      From worker 4:\tNo Changes to `~/.julia/environments/v1.5/Manifest.toml`\n",
      "      From worker 5:\t  Resolving package versions...\n",
      "      From worker 4:\t  Resolving package versions...\n",
      "      From worker 4:\tNo Changes to `~/.julia/environments/v1.5/Project.toml`\n",
      "      From worker 5:\tNo Changes to `~/.julia/environments/v1.5/Project.toml`\n",
      "      From worker 4:\tNo Changes to `~/.julia/environments/v1.5/Manifest.toml`\n",
      "      From worker 5:\tNo Changes to `~/.julia/environments/v1.5/Manifest.toml`\n",
      "      From worker 4:\t  Resolving package versions...\n",
      "      From worker 5:\t  Resolving package versions...\n",
      "      From worker 5:\tNo Changes to `~/.julia/environments/v1.5/Project.toml`\n",
      "      From worker 4:\tNo Changes to `~/.julia/environments/v1.5/Project.toml`\n",
      "      From worker 5:\tNo Changes to `~/.julia/environments/v1.5/Manifest.toml`\n",
      "      From worker 4:\tNo Changes to `~/.julia/environments/v1.5/Manifest.toml`\n",
      "      From worker 5:\t  Resolving package versions...\n",
      "      From worker 4:\t  Resolving package versions...\n",
      "      From worker 5:\tNo Changes to `~/.julia/environments/v1.5/Project.toml`\n",
      "      From worker 4:\tNo Changes to `~/.julia/environments/v1.5/Project.toml`\n",
      "      From worker 5:\tNo Changes to `~/.julia/environments/v1.5/Manifest.toml`\n",
      "      From worker 4:\tNo Changes to `~/.julia/environments/v1.5/Manifest.toml`\n",
      "      From worker 5:\t  Resolving package versions...\n",
      "      From worker 4:\t  Resolving package versions...\n",
      "      From worker 5:\tNo Changes to `~/.julia/environments/v1.5/Project.toml`\n",
      "      From worker 5:\tNo Changes to `~/.julia/environments/v1.5/Manifest.toml`\n",
      "      From worker 4:\tNo Changes to `~/.julia/environments/v1.5/Project.toml`\n",
      "      From worker 4:\tNo Changes to `~/.julia/environments/v1.5/Manifest.toml`\n",
      "      From worker 5:\t  Resolving package versions...\n",
      "      From worker 4:\t  Resolving package versions...\n",
      "      From worker 5:\tNo Changes to `~/.julia/environments/v1.5/Project.toml`\n",
      "      From worker 5:\tNo Changes to `~/.julia/environments/v1.5/Manifest.toml`\n",
      "      From worker 4:\tNo Changes to `~/.julia/environments/v1.5/Project.toml`\n",
      "      From worker 4:\tNo Changes to `~/.julia/environments/v1.5/Manifest.toml`\n"
     ]
    },
    {
     "name": "stderr",
     "output_type": "stream",
     "text": [
      "┌ Warning: The call to compilecache failed to create a usable precompiled cache file for OsRSIConv [96985222-94fb-4572-aef8-be4c18e2ae3a]\n",
      "│   exception = Required dependency TradeAPI [c0095e52-a479-476f-bc54-3cccc04d9c53] failed to load from a cache file.\n",
      "└ @ Base loading.jl:1042\n",
      "┌ Warning: The call to compilecache failed to create a usable precompiled cache file for OsRSIConv [96985222-94fb-4572-aef8-be4c18e2ae3a]\n",
      "│   exception = Required dependency TradeAPI [c0095e52-a479-476f-bc54-3cccc04d9c53] failed to load from a cache file.\n",
      "└ @ Base loading.jl:1042\n"
     ]
    },
    {
     "name": "stdout",
     "output_type": "stream",
     "text": [
      "      From worker 4:\t   Updating registry at `~/.julia/registries/General`\n"
     ]
    },
    {
     "name": "stderr",
     "output_type": "stream",
     "text": [
      "┌ Warning: Package OsRSIConv does not have Pkg in its dependencies:\n",
      "│ - If you have OsRSIConv checked out for development and have\n",
      "│   added Pkg as a dependency but haven't updated your primary\n",
      "│   environment's manifest file, try `Pkg.resolve()`.\n",
      "│ - Otherwise you may need to report an issue with OsRSIConv\n",
      "└ Loading Pkg into OsRSIConv from project dependency, future warnings for OsRSIConv are suppressed.\n",
      "┌ Warning: Package OsRSIConv does not have Pkg in its dependencies:\n",
      "│ - If you have OsRSIConv checked out for development and have\n",
      "│   added Pkg as a dependency but haven't updated your primary\n",
      "│   environment's manifest file, try `Pkg.resolve()`.\n",
      "│ - Otherwise you may need to report an issue with OsRSIConv\n",
      "└ Loading Pkg into OsRSIConv from project dependency, future warnings for OsRSIConv are suppressed.\n"
     ]
    },
    {
     "name": "stdout",
     "output_type": "stream",
     "text": [
      "      From worker 5:\t   Updating registry at `~/.julia/registries/General`\n",
      "      From worker 5:\tNo Changes to `~/.julia/environments/v1.5/Project.toml`\n",
      "      From worker 5:\tNo Changes to `~/.julia/environments/v1.5/Manifest.toml`\n",
      "      From worker 5:\t  Resolving package versions...\n",
      "      From worker 5:\tNo Changes to `~/.julia/environments/v1.5/Project.toml`\n",
      "      From worker 5:\tNo Changes to `~/.julia/environments/v1.5/Manifest.toml`\n",
      "      From worker 5:\t  Resolving package versions...\n",
      "      From worker 5:\tNo Changes to `~/.julia/environments/v1.5/Project.toml`\n",
      "      From worker 5:\tNo Changes to `~/.julia/environments/v1.5/Manifest.toml`\n",
      "      From worker 5:\t  Resolving package versions...\n",
      "      From worker 5:\tNo Changes to `~/.julia/environments/v1.5/Project.toml`\n",
      "      From worker 5:\tNo Changes to `~/.julia/environments/v1.5/Manifest.toml`\n",
      "      From worker 5:\t  Resolving package versions...\n",
      "      From worker 5:\tNo Changes to `~/.julia/environments/v1.5/Project.toml`\n",
      "      From worker 5:\tNo Changes to `~/.julia/environments/v1.5/Manifest.toml`\n",
      "      From worker 5:\t  Resolving package versions...\n",
      "      From worker 5:\tNo Changes to `~/.julia/environments/v1.5/Project.toml`\n",
      "      From worker 5:\tNo Changes to `~/.julia/environments/v1.5/Manifest.toml`\n",
      "      From worker 5:\t  Resolving package versions...\n",
      "      From worker 4:\tNo Changes to `~/.julia/environments/v1.5/Project.toml`\n",
      "      From worker 4:\tNo Changes to `~/.julia/environments/v1.5/Manifest.toml`\n",
      "      From worker 4:\t  Resolving package versions...\n",
      "      From worker 5:\tNo Changes to `~/.julia/environments/v1.5/Project.toml`\n",
      "      From worker 5:\tNo Changes to `~/.julia/environments/v1.5/Manifest.toml`\n",
      "      From worker 5:\t  Resolving package versions...\n",
      "      From worker 5:\tNo Changes to `~/.julia/environments/v1.5/Project.toml`\n",
      "      From worker 5:\tNo Changes to `~/.julia/environments/v1.5/Manifest.toml`\n",
      "      From worker 5:\t  Resolving package versions...\n",
      "      From worker 4:\tNo Changes to `~/.julia/environments/v1.5/Project.toml`\n",
      "      From worker 4:\tNo Changes to `~/.julia/environments/v1.5/Manifest.toml`\n",
      "      From worker 4:\t  Resolving package versions...\n",
      "      From worker 5:\tNo Changes to `~/.julia/environments/v1.5/Project.toml`\n",
      "      From worker 5:\tNo Changes to `~/.julia/environments/v1.5/Manifest.toml`\n",
      "      From worker 5:\t  Resolving package versions...\n",
      "      From worker 4:\tNo Changes to `~/.julia/environments/v1.5/Project.toml`\n",
      "      From worker 4:\tNo Changes to `~/.julia/environments/v1.5/Manifest.toml`\n",
      "      From worker 4:\t  Resolving package versions...\n",
      "      From worker 5:\tNo Changes to `~/.julia/environments/v1.5/Project.toml`\n",
      "      From worker 5:\tNo Changes to `~/.julia/environments/v1.5/Manifest.toml`\n",
      "      From worker 5:\t  Resolving package versions...\n",
      "      From worker 4:\tNo Changes to `~/.julia/environments/v1.5/Project.toml`\n",
      "      From worker 4:\tNo Changes to `~/.julia/environments/v1.5/Manifest.toml`\n",
      "      From worker 4:\t  Resolving package versions...\n",
      "      From worker 5:\tNo Changes to `~/.julia/environments/v1.5/Project.toml`\n",
      "      From worker 5:\tNo Changes to `~/.julia/environments/v1.5/Manifest.toml`\n",
      "      From worker 5:\t  Resolving package versions...\n",
      "      From worker 4:\tNo Changes to `~/.julia/environments/v1.5/Project.toml`\n",
      "      From worker 4:\tNo Changes to `~/.julia/environments/v1.5/Manifest.toml`\n",
      "      From worker 4:\t  Resolving package versions...\n",
      "      From worker 5:\tNo Changes to `~/.julia/environments/v1.5/Project.toml`\n",
      "      From worker 5:\tNo Changes to `~/.julia/environments/v1.5/Manifest.toml`\n",
      "      From worker 4:\tNo Changes to `~/.julia/environments/v1.5/Project.toml`\n",
      "      From worker 4:\tNo Changes to `~/.julia/environments/v1.5/Manifest.toml`\n",
      "      From worker 4:\t  Resolving package versions...\n",
      "      From worker 4:\tNo Changes to `~/.julia/environments/v1.5/Project.toml`\n",
      "      From worker 4:\tNo Changes to `~/.julia/environments/v1.5/Manifest.toml`\n",
      "      From worker 4:\t  Resolving package versions...\n",
      "      From worker 5:\t┌ Warning: Package TradeAPI does not have Pkg in its dependencies:\n",
      "      From worker 5:\t│ - If you have TradeAPI checked out for development and have\n",
      "      From worker 5:\t│   added Pkg as a dependency but haven't updated your primary\n",
      "      From worker 5:\t│   environment's manifest file, try `Pkg.resolve()`.\n",
      "      From worker 5:\t│ - Otherwise you may need to report an issue with TradeAPI\n",
      "      From worker 5:\t└ Loading Pkg into TradeAPI from project dependency, future warnings for TradeAPI are suppressed.\n",
      "      From worker 5:\t   Updating registry at `~/.julia/registries/General`\n",
      "      From worker 4:\tNo Changes to `~/.julia/environments/v1.5/Project.toml`\n",
      "      From worker 4:\tNo Changes to `~/.julia/environments/v1.5/Manifest.toml`\n",
      "      From worker 4:\t  Resolving package versions...\n",
      "      From worker 4:\tNo Changes to `~/.julia/environments/v1.5/Project.toml`\n",
      "      From worker 4:\tNo Changes to `~/.julia/environments/v1.5/Manifest.toml`\n",
      "      From worker 4:\t  Resolving package versions...\n",
      "      From worker 4:\tNo Changes to `~/.julia/environments/v1.5/Project.toml`\n",
      "      From worker 4:\tNo Changes to `~/.julia/environments/v1.5/Manifest.toml`\n",
      "      From worker 4:\t  Resolving package versions...\n",
      "      From worker 4:\tNo Changes to `~/.julia/environments/v1.5/Project.toml`\n",
      "      From worker 4:\tNo Changes to `~/.julia/environments/v1.5/Manifest.toml`\n",
      "      From worker 4:\t  Resolving package versions...\n",
      "      From worker 4:\tNo Changes to `~/.julia/environments/v1.5/Project.toml`\n",
      "      From worker 4:\tNo Changes to `~/.julia/environments/v1.5/Manifest.toml`\n",
      "      From worker 4:\t┌ Warning: Package TradeAPI does not have Pkg in its dependencies:\n",
      "      From worker 4:\t│ - If you have TradeAPI checked out for development and have\n",
      "      From worker 4:\t│   added Pkg as a dependency but haven't updated your primary\n",
      "      From worker 4:\t│   environment's manifest file, try `Pkg.resolve()`.\n",
      "      From worker 4:\t│ - Otherwise you may need to report an issue with TradeAPI\n",
      "      From worker 4:\t└ Loading Pkg into TradeAPI from project dependency, future warnings for TradeAPI are suppressed.\n",
      "      From worker 4:\t   Updating registry at `~/.julia/registries/General`\n",
      "      From worker 5:\tNo Changes to `~/.julia/environments/v1.5/Project.toml`\n",
      "      From worker 5:\tNo Changes to `~/.julia/environments/v1.5/Manifest.toml`\n",
      "      From worker 5:\t  Resolving package versions...\n",
      "      From worker 5:\tNo Changes to `~/.julia/environments/v1.5/Project.toml`\n",
      "      From worker 5:\tNo Changes to `~/.julia/environments/v1.5/Manifest.toml`\n",
      "      From worker 5:\t  Resolving package versions...\n",
      "      From worker 5:\tNo Changes to `~/.julia/environments/v1.5/Project.toml`\n",
      "      From worker 5:\tNo Changes to `~/.julia/environments/v1.5/Manifest.toml`\n",
      "      From worker 5:\t  Resolving package versions...\n",
      "      From worker 5:\tNo Changes to `~/.julia/environments/v1.5/Project.toml`\n",
      "      From worker 5:\tNo Changes to `~/.julia/environments/v1.5/Manifest.toml`\n",
      "      From worker 5:\t  Resolving package versions...\n",
      "      From worker 5:\tNo Changes to `~/.julia/environments/v1.5/Project.toml`\n",
      "      From worker 5:\tNo Changes to `~/.julia/environments/v1.5/Manifest.toml`\n",
      "      From worker 5:\t  Resolving package versions...\n",
      "      From worker 5:\tNo Changes to `~/.julia/environments/v1.5/Project.toml`\n",
      "      From worker 5:\tNo Changes to `~/.julia/environments/v1.5/Manifest.toml`\n",
      "      From worker 5:\t  Resolving package versions...\n",
      "      From worker 5:\tNo Changes to `~/.julia/environments/v1.5/Project.toml`\n",
      "      From worker 5:\tNo Changes to `~/.julia/environments/v1.5/Manifest.toml`\n",
      "      From worker 5:\t  Resolving package versions...\n",
      "      From worker 5:\tNo Changes to `~/.julia/environments/v1.5/Project.toml`\n",
      "      From worker 5:\tNo Changes to `~/.julia/environments/v1.5/Manifest.toml`\n",
      "      From worker 5:\t  Resolving package versions...\n",
      "      From worker 5:\tNo Changes to `~/.julia/environments/v1.5/Project.toml`\n",
      "      From worker 5:\tNo Changes to `~/.julia/environments/v1.5/Manifest.toml`\n",
      "      From worker 5:\t  Resolving package versions...\n",
      "      From worker 4:\tNo Changes to `~/.julia/environments/v1.5/Project.toml`\n",
      "      From worker 4:\tNo Changes to `~/.julia/environments/v1.5/Manifest.toml`\n",
      "      From worker 4:\t  Resolving package versions...\n"
     ]
    },
    {
     "name": "stdout",
     "output_type": "stream",
     "text": [
      "      From worker 5:\tNo Changes to `~/.julia/environments/v1.5/Project.toml`\n",
      "      From worker 5:\tNo Changes to `~/.julia/environments/v1.5/Manifest.toml`\n",
      "      From worker 5:\t  Resolving package versions...\n",
      "      From worker 4:\tNo Changes to `~/.julia/environments/v1.5/Project.toml`\n",
      "      From worker 4:\tNo Changes to `~/.julia/environments/v1.5/Manifest.toml`\n",
      "      From worker 4:\t  Resolving package versions...\n",
      "      From worker 5:\tNo Changes to `~/.julia/environments/v1.5/Project.toml`\n",
      "      From worker 5:\tNo Changes to `~/.julia/environments/v1.5/Manifest.toml`\n",
      "      From worker 5:\t  Resolving package versions...\n",
      "      From worker 4:\tNo Changes to `~/.julia/environments/v1.5/Project.toml`\n",
      "      From worker 4:\tNo Changes to `~/.julia/environments/v1.5/Manifest.toml`\n",
      "      From worker 4:\t  Resolving package versions...\n",
      "      From worker 5:\tNo Changes to `~/.julia/environments/v1.5/Project.toml`\n",
      "      From worker 5:\tNo Changes to `~/.julia/environments/v1.5/Manifest.toml`\n",
      "      From worker 4:\tNo Changes to `~/.julia/environments/v1.5/Project.toml`\n",
      "      From worker 4:\tNo Changes to `~/.julia/environments/v1.5/Manifest.toml`\n",
      "      From worker 4:\t  Resolving package versions...\n",
      "      From worker 4:\tNo Changes to `~/.julia/environments/v1.5/Project.toml`\n",
      "      From worker 4:\tNo Changes to `~/.julia/environments/v1.5/Manifest.toml`\n",
      "      From worker 4:\t  Resolving package versions...\n",
      "      From worker 4:\tNo Changes to `~/.julia/environments/v1.5/Project.toml`\n",
      "      From worker 4:\tNo Changes to `~/.julia/environments/v1.5/Manifest.toml`\n",
      "      From worker 4:\t  Resolving package versions...\n",
      "      From worker 4:\tNo Changes to `~/.julia/environments/v1.5/Project.toml`\n",
      "      From worker 4:\tNo Changes to `~/.julia/environments/v1.5/Manifest.toml`\n",
      "      From worker 4:\t  Resolving package versions...\n",
      "      From worker 4:\tNo Changes to `~/.julia/environments/v1.5/Project.toml`\n",
      "      From worker 4:\tNo Changes to `~/.julia/environments/v1.5/Manifest.toml`\n",
      "      From worker 4:\t  Resolving package versions...\n",
      "      From worker 4:\tNo Changes to `~/.julia/environments/v1.5/Project.toml`\n",
      "      From worker 4:\tNo Changes to `~/.julia/environments/v1.5/Manifest.toml`\n",
      "      From worker 4:\t  Resolving package versions...\n",
      "      From worker 4:\tNo Changes to `~/.julia/environments/v1.5/Project.toml`\n",
      "      From worker 4:\tNo Changes to `~/.julia/environments/v1.5/Manifest.toml`\n",
      "      From worker 4:\t  Resolving package versions...\n",
      "      From worker 4:\tNo Changes to `~/.julia/environments/v1.5/Project.toml`\n",
      "      From worker 4:\tNo Changes to `~/.julia/environments/v1.5/Manifest.toml`\n",
      "      From worker 4:\t  Resolving package versions...\n",
      "      From worker 4:\tNo Changes to `~/.julia/environments/v1.5/Project.toml`\n",
      "      From worker 4:\tNo Changes to `~/.julia/environments/v1.5/Manifest.toml`\n"
     ]
    }
   ],
   "source": [
    "@everywhere push!(LOAD_PATH, \"OsRSIConv/\");\n",
    "@everywhere using OsRSIConv\n",
    "@everywhere push!(LOAD_PATH, \"TradeAPI/\");\n",
    "@everywhere using TradeAPI"
   ]
  },
  {
   "cell_type": "code",
   "execution_count": null,
   "metadata": {},
   "outputs": [],
   "source": []
  },
  {
   "cell_type": "code",
   "execution_count": null,
   "metadata": {},
   "outputs": [],
   "source": [
    "tstart = time()\n",
    "\n",
    "OsRSIConv.hyperTune(\"GLD\")\n",
    "\n",
    "tend=time()\n",
    "et=tend-tstart\n",
    "@show et"
   ]
  },
  {
   "cell_type": "markdown",
   "metadata": {},
   "source": [
    "non-parallel = 630.5s\n",
    "\n",
    "parallel = 264.4s\n",
    "\n",
    "speed-up = 2.38"
   ]
  },
  {
   "cell_type": "code",
   "execution_count": null,
   "metadata": {},
   "outputs": [],
   "source": [
    "include(\"env.jl\")\n",
    "include(\"installPkg.jl\")\n",
    "tstart = time()\n",
    "\n",
    "OsRSIConv.hyperTune(\"GLD\")\n",
    "\n",
    "tend=time()\n",
    "et=tend-tstart\n",
    "@show et"
   ]
  },
  {
   "cell_type": "code",
   "execution_count": null,
   "metadata": {},
   "outputs": [],
   "source": [
    "630.5/264.4"
   ]
  },
  {
   "cell_type": "code",
   "execution_count": null,
   "metadata": {},
   "outputs": [],
   "source": [
    "include(\"env.jl\")\n",
    "include(\"installPkg.jl\")\n",
    "tstart = time()\n",
    "list = [\"FB\",\"AAPL\",\"AMZN\",\"GOOG\",\"NFLX\",\"SQ\",\"MTCH\",\"AYX\",\"ROKU\",\"TTD\"]\n",
    "\n",
    "#result = DataFrame[]\n",
    "\n",
    "for sym in list\n",
    "    df = OsRSIConv.trainPredict(sym)\n",
    "    #push!(result,df)\n",
    "end\n",
    "\n",
    "#print(vcat(result))\n",
    "tend=time()\n",
    "et=tend-tstart\n",
    "@show et"
   ]
  },
  {
   "cell_type": "markdown",
   "metadata": {},
   "source": [
    "baseline: 398s\n",
    "\n",
    "parrell: 187s"
   ]
  },
  {
   "cell_type": "code",
   "execution_count": 11,
   "metadata": {},
   "outputs": [
    {
     "name": "stderr",
     "output_type": "stream",
     "text": [
      "\u001b[32m\u001b[1m   Updating\u001b[22m\u001b[39m registry at `~/.julia/registries/General`\n",
      "\u001b[32m\u001b[1mNo Changes\u001b[22m\u001b[39m to `~/.julia/environments/v1.5/Project.toml`\n",
      "\u001b[32m\u001b[1mNo Changes\u001b[22m\u001b[39m to `~/.julia/environments/v1.5/Manifest.toml`\n",
      "\u001b[32m\u001b[1m  Resolving\u001b[22m\u001b[39m package versions...\n",
      "\u001b[32m\u001b[1mNo Changes\u001b[22m\u001b[39m to `~/.julia/environments/v1.5/Project.toml`\n",
      "\u001b[32m\u001b[1mNo Changes\u001b[22m\u001b[39m to `~/.julia/environments/v1.5/Manifest.toml`\n",
      "\u001b[32m\u001b[1m  Resolving\u001b[22m\u001b[39m package versions...\n",
      "\u001b[32m\u001b[1mNo Changes\u001b[22m\u001b[39m to `~/.julia/environments/v1.5/Project.toml`\n",
      "\u001b[32m\u001b[1mNo Changes\u001b[22m\u001b[39m to `~/.julia/environments/v1.5/Manifest.toml`\n",
      "\u001b[32m\u001b[1m  Resolving\u001b[22m\u001b[39m package versions...\n",
      "\u001b[32m\u001b[1mNo Changes\u001b[22m\u001b[39m to `~/.julia/environments/v1.5/Project.toml`\n",
      "\u001b[32m\u001b[1mNo Changes\u001b[22m\u001b[39m to `~/.julia/environments/v1.5/Manifest.toml`\n",
      "\u001b[32m\u001b[1m  Resolving\u001b[22m\u001b[39m package versions...\n",
      "\u001b[32m\u001b[1mNo Changes\u001b[22m\u001b[39m to `~/.julia/environments/v1.5/Project.toml`\n",
      "\u001b[32m\u001b[1mNo Changes\u001b[22m\u001b[39m to `~/.julia/environments/v1.5/Manifest.toml`\n",
      "\u001b[32m\u001b[1m  Resolving\u001b[22m\u001b[39m package versions...\n",
      "\u001b[32m\u001b[1mNo Changes\u001b[22m\u001b[39m to `~/.julia/environments/v1.5/Project.toml`\n",
      "\u001b[32m\u001b[1mNo Changes\u001b[22m\u001b[39m to `~/.julia/environments/v1.5/Manifest.toml`\n",
      "\u001b[32m\u001b[1m  Resolving\u001b[22m\u001b[39m package versions...\n",
      "\u001b[32m\u001b[1mNo Changes\u001b[22m\u001b[39m to `~/.julia/environments/v1.5/Project.toml`\n",
      "\u001b[32m\u001b[1mNo Changes\u001b[22m\u001b[39m to `~/.julia/environments/v1.5/Manifest.toml`\n",
      "\u001b[32m\u001b[1m  Resolving\u001b[22m\u001b[39m package versions...\n",
      "\u001b[32m\u001b[1mNo Changes\u001b[22m\u001b[39m to `~/.julia/environments/v1.5/Project.toml`\n",
      "\u001b[32m\u001b[1mNo Changes\u001b[22m\u001b[39m to `~/.julia/environments/v1.5/Manifest.toml`\n",
      "\u001b[32m\u001b[1m  Resolving\u001b[22m\u001b[39m package versions...\n",
      "\u001b[32m\u001b[1mNo Changes\u001b[22m\u001b[39m to `~/.julia/environments/v1.5/Project.toml`\n",
      "\u001b[32m\u001b[1mNo Changes\u001b[22m\u001b[39m to `~/.julia/environments/v1.5/Manifest.toml`\n",
      "\u001b[32m\u001b[1m  Resolving\u001b[22m\u001b[39m package versions...\n",
      "\u001b[32m\u001b[1mNo Changes\u001b[22m\u001b[39m to `~/.julia/environments/v1.5/Project.toml`\n",
      "\u001b[32m\u001b[1mNo Changes\u001b[22m\u001b[39m to `~/.julia/environments/v1.5/Manifest.toml`\n",
      "\u001b[32m\u001b[1m  Resolving\u001b[22m\u001b[39m package versions...\n",
      "\u001b[32m\u001b[1mNo Changes\u001b[22m\u001b[39m to `~/.julia/environments/v1.5/Project.toml`\n",
      "\u001b[32m\u001b[1mNo Changes\u001b[22m\u001b[39m to `~/.julia/environments/v1.5/Manifest.toml`\n",
      "\u001b[32m\u001b[1m  Resolving\u001b[22m\u001b[39m package versions...\n",
      "\u001b[32m\u001b[1mNo Changes\u001b[22m\u001b[39m to `~/.julia/environments/v1.5/Project.toml`\n",
      "\u001b[32m\u001b[1mNo Changes\u001b[22m\u001b[39m to `~/.julia/environments/v1.5/Manifest.toml`\n",
      "\u001b[32m\u001b[1m  Resolving\u001b[22m\u001b[39m package versions...\n",
      "\u001b[32m\u001b[1mNo Changes\u001b[22m\u001b[39m to `~/.julia/environments/v1.5/Project.toml`\n",
      "\u001b[32m\u001b[1mNo Changes\u001b[22m\u001b[39m to `~/.julia/environments/v1.5/Manifest.toml`\n",
      "\u001b[32m\u001b[1m  Resolving\u001b[22m\u001b[39m package versions...\n",
      "\u001b[32m\u001b[1mNo Changes\u001b[22m\u001b[39m to `~/.julia/environments/v1.5/Project.toml`\n",
      "\u001b[32m\u001b[1mNo Changes\u001b[22m\u001b[39m to `~/.julia/environments/v1.5/Manifest.toml`\n"
     ]
    },
    {
     "name": "stdout",
     "output_type": "stream",
     "text": [
      "      From worker 3:\t13-20-0.000774-0.8-5-15\n",
      "      From worker 2:\t13-20-0.000774-0.8-5-15\n",
      "      From worker 3:\t[:PL, :return, :Close, Symbol(\"ORSI-5-5\"), Symbol(\"ORSI-5-6\")]\n",
      "      From worker 3:\t(961, 256)16\n",
      "      From worker 2:\t[:PL, :return, :Close, Symbol(\"ORSI-5-5\"), Symbol(\"ORSI-5-6\")]\n",
      "      From worker 2:\t(961, 256)16\n",
      "      From worker 3:\tFloat32[16.231041, 19.343964, 20.637276, 21.698761]\n",
      "      From worker 3:\tFloat32[10.947784, 14.344818, 17.422882, 18.917511]\n",
      "      From worker 3:\tFloat32[7.9365463, 11.998787, 14.303268, 14.393501]\n",
      "      From worker 3:\tFloat32[16.231041, 19.343964, 20.637276, 21.698761]\n",
      "      From worker 3:\tFloat32[10.947784, 14.344818, 17.422882, 18.917511]\n",
      "      From worker 3:\tFloat32[7.9365463, 11.998787, 14.303268, 14.393501]\n",
      "      From worker 2:\tFloat32[10.94191, 17.212006, 20.885178, 25.44368]\n",
      "      From worker 2:\tFloat32[-6.2500763, -1.9910355, 3.326439, 6.6097717]\n",
      "      From worker 2:\tFloat32[2.9136581, 7.001236, 10.962151, 13.184029]\n",
      "      From worker 2:\tFloat32[10.94191, 17.212006, 20.885178, 25.44368]\n",
      "      From worker 2:\tFloat32[-6.2500763, -1.9910355, 3.326439, 6.6097717]\n",
      "      From worker 2:\tFloat32[2.9136581, 7.001236, 10.962151, 13.184029]\n",
      "      From worker 3:\t16-2\n",
      "      From worker 2:\t16-2\n"
     ]
    },
    {
     "name": "stderr",
     "output_type": "stream",
     "text": [
      "[ Info: Epoch 1\n",
      "[ Info: Epoch 1\n"
     ]
    },
    {
     "name": "stdout",
     "output_type": "stream",
     "text": [
      "      From worker 4:\t13-20-0.000774-0.8-5-15\n",
      "      From worker 5:\t13-20-0.000774-0.8-5-15\n",
      "      From worker 4:\t[:PL, :return, :Close, Symbol(\"ORSI-5-5\"), Symbol(\"ORSI-5-6\")]\n",
      "      From worker 4:\t(961, 256)16\n",
      "      From worker 4:\tFloat32[26.589058, 31.39251, 34.526936, 38.379845]\n",
      "      From worker 4:\tFloat32[20.043045, 27.163559, 32.0569, 35.467377]\n",
      "      From worker 4:\tFloat32[21.411003, 27.780403, 31.748081, 34.407066]\n",
      "      From worker 4:\tFloat32[26.589058, 31.39251, 34.526936, 38.379845]\n",
      "      From worker 4:\tFloat32[20.043045, 27.163559, 32.0569, 35.467377]\n",
      "      From worker 4:\tFloat32[21.411003, 27.780403, 31.748081, 34.407066]\n",
      "      From worker 5:\t[:PL, :return, :Close, Symbol(\"ORSI-5-5\"), Symbol(\"ORSI-5-6\")]\n",
      "      From worker 5:\t(961, 256)16\n",
      "      From worker 4:\t16-2\n",
      "      From worker 5:\tFloat32[47.567665, 52.119484, 54.04251, 54.819504]\n",
      "      From worker 5:\tFloat32[36.325237, 45.29103, 50.486614, 53.22107]\n",
      "      From worker 5:\tFloat32[34.37993, 40.088177, 43.51057, 44.82092]\n",
      "      From worker 5:\tFloat32[47.567665, 52.119484, 54.04251, 54.819504]\n",
      "      From worker 5:\tFloat32[36.325237, 45.29103, 50.486614, 53.22107]\n",
      "      From worker 5:\tFloat32[34.37993, 40.088177, 43.51057, 44.82092]\n"
     ]
    },
    {
     "name": "stderr",
     "output_type": "stream",
     "text": [
      "[ Info: Epoch 1\n"
     ]
    },
    {
     "name": "stdout",
     "output_type": "stream",
     "text": [
      "      From worker 5:\t16-2\n"
     ]
    },
    {
     "name": "stderr",
     "output_type": "stream",
     "text": [
      "[ Info: Epoch 1\n",
      "[ Info: Epoch 2\n",
      "[ Info: Epoch 2\n",
      "[ Info: Epoch 3\n",
      "[ Info: Epoch 3\n",
      "[ Info: Epoch 4\n",
      "[ Info: Epoch 4\n",
      "[ Info: Epoch 5\n",
      "[ Info: Epoch 5\n",
      "[ Info: Epoch 6\n",
      "[ Info: Epoch 6\n",
      "[ Info: Epoch 7\n",
      "[ Info: Epoch 7\n",
      "[ Info: Epoch 8\n",
      "[ Info: Epoch 8\n",
      "[ Info: Epoch 9\n",
      "[ Info: Epoch 9\n",
      "[ Info: Epoch 10\n",
      "[ Info: Epoch 10\n",
      "[ Info: Epoch 11\n",
      "[ Info: Epoch 11\n",
      "[ Info: Epoch 12\n",
      "[ Info: Epoch 12\n",
      "[ Info: Epoch 13\n",
      "[ Info: Epoch 13\n",
      "[ Info: Epoch 14\n",
      "[ Info: Epoch 14\n",
      "[ Info: Epoch 15\n",
      "[ Info: Epoch 15\n",
      "[ Info: Epoch 16\n",
      "[ Info: Epoch 16\n",
      "[ Info: Epoch 17\n",
      "[ Info: Epoch 17\n",
      "[ Info: Epoch 18\n",
      "[ Info: Epoch 2\n",
      "[ Info: Epoch 2\n",
      "[ Info: Epoch 18\n",
      "[ Info: Epoch 19\n",
      "[ Info: Epoch 3\n",
      "[ Info: Epoch 19\n",
      "[ Info: Epoch 3\n",
      "[ Info: Epoch 20\n",
      "[ Info: Epoch 4\n",
      "[ Info: Epoch 20\n",
      "[ Info: Epoch 4\n",
      "[ Info: Epoch 21\n",
      "[ Info: Epoch 5\n",
      "[ Info: Epoch 21\n",
      "[ Info: Epoch 5\n",
      "[ Info: Epoch 22\n",
      "[ Info: Epoch 22\n",
      "[ Info: Epoch 6\n",
      "[ Info: Epoch 6\n",
      "[ Info: Epoch 23\n",
      "[ Info: Epoch 23\n",
      "[ Info: Epoch 7\n",
      "[ Info: Epoch 7\n",
      "[ Info: Epoch 24\n",
      "[ Info: Epoch 24\n",
      "[ Info: Epoch 8\n",
      "[ Info: Epoch 8\n",
      "[ Info: Epoch 25\n",
      "[ Info: Epoch 25\n",
      "[ Info: Epoch 9\n",
      "[ Info: Epoch 9\n",
      "[ Info: Epoch 10\n",
      "[ Info: Epoch 10\n"
     ]
    },
    {
     "name": "stdout",
     "output_type": "stream",
     "text": [
      "      From worker 2:\t(150,)\n"
     ]
    },
    {
     "name": "stderr",
     "output_type": "stream",
     "text": [
      "[ Info: Epoch 11\n"
     ]
    },
    {
     "name": "stdout",
     "output_type": "stream",
     "text": [
      "      From worker 2:\tmse=0.5512125\n"
     ]
    },
    {
     "name": "stderr",
     "output_type": "stream",
     "text": [
      "[ Info: Epoch 11\n"
     ]
    },
    {
     "name": "stdout",
     "output_type": "stream",
     "text": [
      "      From worker 3:\t(150,)\n",
      "      From worker 3:\tmse=1.0688541\n"
     ]
    },
    {
     "name": "stderr",
     "output_type": "stream",
     "text": [
      "[ Info: Epoch 12\n",
      "[ Info: Epoch 12\n",
      "[ Info: Epoch 13\n",
      "[ Info: Epoch 13\n",
      "[ Info: Epoch 14\n",
      "[ Info: Epoch 14\n",
      "[ Info: Epoch 15\n",
      "[ Info: Epoch 15\n",
      "[ Info: Epoch 16\n",
      "[ Info: Epoch 16\n",
      "[ Info: Epoch 17\n",
      "[ Info: Epoch 17\n"
     ]
    },
    {
     "name": "stdout",
     "output_type": "stream",
     "text": [
      "      From worker 3:\tcurrent size:(16, 16, 13)\n",
      "      From worker 3:\tfuture:0.9187449\n",
      "      From worker 3:\taccuracy:0.72\n",
      "      From worker 2:\tcurrent size:(16, 16, 13)\n",
      "      From worker 2:\tfuture:1.0289947\n",
      "      From worker 2:\taccuracy:0.7666666666666666\n",
      "      From worker 3:\t[0.18, 0.05333333333333334]\n",
      "      From worker 3:\t[0.22666666666666666, 0.54]\n",
      "      From worker 2:\t[0.30666666666666664, 0.05333333333333334]\n",
      "      From worker 2:\t[0.18, 0.46]\n"
     ]
    },
    {
     "name": "stderr",
     "output_type": "stream",
     "text": [
      "[ Info: Epoch 18\n",
      "[ Info: Epoch 18\n"
     ]
    },
    {
     "name": "stdout",
     "output_type": "stream",
     "text": [
      "      From worker 2:\t1×3 DataFrame\n",
      "      From worker 2:\t Row │ symbol  accuracy  future\n",
      "      From worker 2:\t     │ String  Float32   Float32\n",
      "      From worker 2:\t─────┼───────────────────────────\n",
      "      From worker 2:\t   1 │ FB      0.766667  1.02899\n",
      "      From worker 3:\t1×3 DataFrame\n",
      "      From worker 3:\t Row │ symbol  accuracy  future\n",
      "      From worker 3:\t     │ String  Float32   Float32\n",
      "      From worker 3:\t─────┼────────────────────────────\n",
      "      From worker 3:\t   1 │ AAPL        0.72  0.918745\n",
      "      From worker 3:\t13-20-0.000774-0.8-5-15\n",
      "      From worker 2:\t13-20-0.000774-0.8-5-15\n"
     ]
    },
    {
     "name": "stderr",
     "output_type": "stream",
     "text": [
      "[ Info: Epoch 19\n",
      "[ Info: Epoch 19\n",
      "[ Info: Epoch 20\n",
      "[ Info: Epoch 20\n"
     ]
    },
    {
     "name": "stdout",
     "output_type": "stream",
     "text": [
      "      From worker 2:\t[:PL, :return, :Close, Symbol(\"ORSI-5-5\"), Symbol(\"ORSI-5-6\")]\n",
      "      From worker 2:\t(961, 256)16\n",
      "      From worker 2:\tFloat32[24.658928, 31.968075, 36.84706, 38.807472]\n",
      "      From worker 2:\tFloat32[8.780029, 19.28241, 26.09832, 30.911148]\n",
      "      From worker 2:\tFloat32[15.700104, 23.961182, 27.848606, 30.904396]\n",
      "      From worker 2:\tFloat32[24.658928, 31.968075, 36.84706, 38.807472]\n",
      "      From worker 2:\tFloat32[8.780029, 19.28241, 26.09832, 30.911148]\n",
      "      From worker 2:\tFloat32[15.700104, 23.961182, 27.848606, 30.904396]\n",
      "      From worker 2:\t16-2\n"
     ]
    },
    {
     "name": "stderr",
     "output_type": "stream",
     "text": [
      "[ Info: Epoch 1\n",
      "[ Info: Epoch 21\n"
     ]
    },
    {
     "name": "stdout",
     "output_type": "stream",
     "text": [
      "      From worker 3:\t[:PL, :return, :Close, Symbol(\"ORSI-5-5\"), Symbol(\"ORSI-5-6\")]\n",
      "      From worker 3:\t(961, 256)16\n",
      "      From worker 3:\tFloat32[34.908234, 40.967545, 45.326347, 46.511482]\n",
      "      From worker 3:\tFloat32[16.372643, 26.110275, 32.049973, 36.531635]\n",
      "      From worker 3:\tFloat32[24.487595, 31.347832, 37.087723, 38.635418]\n",
      "      From worker 3:\tFloat32[34.908234, 40.967545, 45.326347, 46.511482]\n",
      "      From worker 3:\tFloat32[16.372643, 26.110275, 32.049973, 36.531635]\n",
      "      From worker 3:\tFloat32[24.487595, 31.347832, 37.087723, 38.635418]\n",
      "      From worker 3:\t16-2\n"
     ]
    },
    {
     "name": "stderr",
     "output_type": "stream",
     "text": [
      "[ Info: Epoch 21\n",
      "[ Info: Epoch 1\n",
      "[ Info: Epoch 2\n",
      "[ Info: Epoch 22\n",
      "[ Info: Epoch 22\n",
      "[ Info: Epoch 2\n",
      "[ Info: Epoch 3\n",
      "[ Info: Epoch 23\n",
      "[ Info: Epoch 23\n",
      "[ Info: Epoch 3\n",
      "[ Info: Epoch 4\n",
      "[ Info: Epoch 24\n",
      "[ Info: Epoch 24\n",
      "[ Info: Epoch 4\n",
      "[ Info: Epoch 5\n",
      "[ Info: Epoch 25\n",
      "[ Info: Epoch 25\n",
      "[ Info: Epoch 5\n",
      "[ Info: Epoch 6\n",
      "[ Info: Epoch 6\n",
      "[ Info: Epoch 7\n",
      "[ Info: Epoch 7\n",
      "[ Info: Epoch 8\n"
     ]
    },
    {
     "name": "stdout",
     "output_type": "stream",
     "text": [
      "      From worker 5:\t(150,)\n",
      "      From worker 4:\t(150,)\n",
      "      From worker 5:\tmse=0.41708818\n"
     ]
    },
    {
     "name": "stderr",
     "output_type": "stream",
     "text": [
      "[ Info: Epoch 8\n"
     ]
    },
    {
     "name": "stdout",
     "output_type": "stream",
     "text": [
      "      From worker 4:\tmse=0.53438455\n"
     ]
    },
    {
     "name": "stderr",
     "output_type": "stream",
     "text": [
      "[ Info: Epoch 9\n",
      "[ Info: Epoch 9\n",
      "[ Info: Epoch 10\n",
      "[ Info: Epoch 10\n",
      "[ Info: Epoch 11\n",
      "[ Info: Epoch 11\n",
      "[ Info: Epoch 12\n",
      "[ Info: Epoch 12\n",
      "[ Info: Epoch 13\n",
      "[ Info: Epoch 13\n",
      "[ Info: Epoch 14\n"
     ]
    },
    {
     "name": "stdout",
     "output_type": "stream",
     "text": [
      "      From worker 5:\tcurrent size:(16, 16, 13)\n",
      "      From worker 5:\tfuture:0.7547403\n",
      "      From worker 5:\taccuracy:0.8\n",
      "      From worker 5:\t[0.31333333333333335, 0.12666666666666668]\n",
      "      From worker 5:\t[0.07333333333333333, 0.4866666666666667]\n",
      "      From worker 4:\tcurrent size:(16, 16, 13)\n",
      "      From worker 4:\tfuture:0.9189181\n",
      "      From worker 4:\taccuracy:0.74\n",
      "      From worker 4:\t[0.18, 0.02666666666666667]\n",
      "      From worker 4:\t[0.23333333333333334, 0.56]\n"
     ]
    },
    {
     "name": "stderr",
     "output_type": "stream",
     "text": [
      "[ Info: Epoch 14\n",
      "[ Info: Epoch 15\n"
     ]
    },
    {
     "name": "stdout",
     "output_type": "stream",
     "text": [
      "      From worker 5:\t1×3 DataFrame\n",
      "      From worker 5:\t Row │ symbol  accuracy  future\n",
      "      From worker 5:\t     │ String  Float32   Float32\n",
      "      From worker 5:\t─────┼───────────────────────────\n",
      "      From worker 5:\t   1 │ GOOG         0.8  0.75474\n",
      "      From worker 5:\t13-20-0.000774-0.8-5-15\n",
      "      From worker 4:\t1×3 DataFrame\n",
      "      From worker 4:\t Row │ symbol  accuracy  future\n",
      "      From worker 4:\t     │ String  Float32   Float32\n",
      "      From worker 4:\t─────┼────────────────────────────\n",
      "      From worker 4:\t   1 │ AMZN        0.74  0.918918\n",
      "      From worker 4:\t13-20-0.000774-0.8-5-15\n"
     ]
    },
    {
     "name": "stderr",
     "output_type": "stream",
     "text": [
      "[ Info: Epoch 15\n",
      "[ Info: Epoch 16\n",
      "[ Info: Epoch 16\n",
      "[ Info: Epoch 17\n"
     ]
    },
    {
     "name": "stdout",
     "output_type": "stream",
     "text": [
      "      From worker 5:\t[:PL, :return, :Close, Symbol(\"ORSI-5-5\"), Symbol(\"ORSI-5-6\")]\n",
      "      From worker 5:\t(961, 256)16\n",
      "      From worker 5:\tFloat32[23.994778, 28.043941, 30.70831, 32.183693]\n",
      "      From worker 5:\tFloat32[14.791584, 20.116413, 24.161884, 26.996574]\n",
      "      From worker 5:\tFloat32[13.862209, 19.156425, 23.096039, 23.426369]\n",
      "      From worker 5:\tFloat32[23.994778, 28.043941, 30.70831, 32.183693]\n",
      "      From worker 5:\tFloat32[14.791584, 20.116413, 24.161884, 26.996574]\n",
      "      From worker 5:\tFloat32[13.862209, 19.156425, 23.096039, 23.426369]\n",
      "      From worker 5:\t16-2\n"
     ]
    },
    {
     "name": "stderr",
     "output_type": "stream",
     "text": [
      "[ Info: Epoch 1\n"
     ]
    },
    {
     "name": "stdout",
     "output_type": "stream",
     "text": [
      "      From worker 4:\t[:PL, :return, :Close, Symbol(\"ORSI-5-5\"), Symbol(\"ORSI-5-6\")]\n",
      "      From worker 4:\t(926, 256)16\n",
      "      From worker 4:\tFloat32[8.498644, 6.9934635, 0.81492996, -4.6070366]\n",
      "      From worker 4:\tFloat32[28.19632, 27.95713, 27.465748, 22.631737]\n",
      "      From worker 4:\tFloat32[21.34459, 22.120419, 18.20924, 12.409283]\n",
      "      From worker 4:\tFloat32[8.498644, 6.9934635, 0.81492996, -4.6070366]\n",
      "      From worker 4:\tFloat32[28.19632, 27.95713, 27.465748, 22.631737]\n",
      "      From worker 4:\tFloat32[21.34459, 22.120419, 18.20924, 12.409283]\n",
      "      From worker 4:\t16-2\n"
     ]
    },
    {
     "name": "stderr",
     "output_type": "stream",
     "text": [
      "[ Info: Epoch 1\n",
      "[ Info: Epoch 17\n",
      "[ Info: Epoch 18\n",
      "[ Info: Epoch 2\n",
      "[ Info: Epoch 2\n",
      "[ Info: Epoch 18\n",
      "[ Info: Epoch 19\n",
      "[ Info: Epoch 3\n",
      "[ Info: Epoch 3\n",
      "[ Info: Epoch 19\n",
      "[ Info: Epoch 20\n",
      "[ Info: Epoch 4\n",
      "[ Info: Epoch 4\n",
      "[ Info: Epoch 20\n",
      "[ Info: Epoch 21\n",
      "[ Info: Epoch 5\n",
      "[ Info: Epoch 5\n",
      "[ Info: Epoch 21\n",
      "[ Info: Epoch 22\n",
      "[ Info: Epoch 6\n",
      "[ Info: Epoch 6\n",
      "[ Info: Epoch 22\n",
      "[ Info: Epoch 23\n",
      "[ Info: Epoch 7\n",
      "[ Info: Epoch 7\n",
      "[ Info: Epoch 23\n",
      "[ Info: Epoch 24\n",
      "[ Info: Epoch 8\n",
      "[ Info: Epoch 8\n",
      "[ Info: Epoch 25\n",
      "[ Info: Epoch 24\n",
      "[ Info: Epoch 9\n",
      "[ Info: Epoch 9\n",
      "[ Info: Epoch 25\n"
     ]
    },
    {
     "name": "stdout",
     "output_type": "stream",
     "text": [
      "      From worker 2:\t(150,)\n",
      "      From worker 2:\tmse=0.8401654\n",
      "      From worker 2:\tcurrent size:(16, 16, 13)\n",
      "      From worker 2:\tfuture:0.051407665\n",
      "      From worker 2:\taccuracy:0.8200000000000001\n",
      "      From worker 2:\t[0.24666666666666667, 0.09333333333333334]\n",
      "      From worker 2:\t[0.08666666666666667, 0.5733333333333334]\n",
      "      From worker 2:\t1×3 DataFrame\n",
      "      From worker 2:\t Row │ symbol  accuracy  future\n",
      "      From worker 2:\t     │ String  Float32   Float32\n",
      "      From worker 2:\t─────┼─────────────────────────────\n",
      "      From worker 2:\t   1 │ SQ          0.82  0.0514077\n",
      "      From worker 2:\t13-20-0.000774-0.8-5-15\n"
     ]
    },
    {
     "name": "stderr",
     "output_type": "stream",
     "text": [
      "[ Info: Epoch 10\n",
      "[ Info: Epoch 10\n"
     ]
    },
    {
     "name": "stdout",
     "output_type": "stream",
     "text": [
      "      From worker 3:\t(150,)\n",
      "      From worker 3:\tmse=0.6162154\n"
     ]
    },
    {
     "name": "stderr",
     "output_type": "stream",
     "text": [
      "[ Info: Epoch 11\n"
     ]
    },
    {
     "name": "stdout",
     "output_type": "stream",
     "text": [
      "      From worker 3:\tcurrent size:(16, 16, 13)\n",
      "      From worker 3:\tfuture:1.0689614\n",
      "      From worker 3:\taccuracy:0.7533333333333333\n",
      "      From worker 3:\t[0.22666666666666666, 0.05333333333333334]\n",
      "      From worker 3:\t[0.19333333333333333, 0.5266666666666666]\n",
      "      From worker 3:\t1×3 DataFrame\n",
      "      From worker 3:\t Row │ symbol  accuracy  future\n",
      "      From worker 3:\t     │ String  Float32   Float32\n",
      "      From worker 3:\t─────┼───────────────────────────\n",
      "      From worker 3:\t   1 │ NFLX    0.753333  1.06896\n",
      "      From worker 3:\t13-20-0.000774-0.8-5-15\n",
      "      From worker 2:\t[:PL, :return, :Close, Symbol(\"ORSI-5-5\"), Symbol(\"ORSI-5-6\")]\n",
      "      From worker 2:\t(794, 256)16\n",
      "      From worker 2:\tFloat32[0.71316147, -4.1362762, -7.337082, -11.101074]\n",
      "      From worker 2:\tFloat32[-3.4633293, -7.6178513, -11.992168, -15.042709]\n",
      "      From worker 2:\tFloat32[-6.951153, -11.790276, -15.077858, -17.34079]\n",
      "      From worker 2:\tFloat32[0.71316147, -4.1362762, -7.337082, -11.101074]\n",
      "      From worker 2:\tFloat32[-3.4633293, -7.6178513, -11.992168, -15.042709]\n",
      "      From worker 2:\tFloat32[-6.951153, -11.790276, -15.077858, -17.34079]\n",
      "      From worker 2:\t16-2\n"
     ]
    },
    {
     "name": "stderr",
     "output_type": "stream",
     "text": [
      "[ Info: Epoch 1\n",
      "[ Info: Epoch 11\n",
      "[ Info: Epoch 12\n",
      "[ Info: Epoch 2\n"
     ]
    },
    {
     "name": "stdout",
     "output_type": "stream",
     "text": [
      "      From worker 3:\t[:PL, :return, :Close, Symbol(\"ORSI-5-5\"), Symbol(\"ORSI-5-6\")]\n",
      "      From worker 3:\t(961, 256)16\n",
      "      From worker 3:\tFloat32[9.057148, 12.1297035, 14.0975685, 17.439037]\n",
      "      From worker 3:\tFloat32[14.679604, 19.428112, 22.616821, 24.809887]\n",
      "      From worker 3:\tFloat32[9.660088, 13.9197235, 17.061794, 18.130684]\n",
      "      From worker 3:\tFloat32[9.057148, 12.1297035, 14.0975685, 17.439037]\n",
      "      From worker 3:\tFloat32[14.679604, 19.428112, 22.616821, 24.809887]\n",
      "      From worker 3:\tFloat32[9.660088, 13.9197235, 17.061794, 18.130684]\n",
      "      From worker 3:\t16-2\n"
     ]
    },
    {
     "name": "stderr",
     "output_type": "stream",
     "text": [
      "[ Info: Epoch 1\n",
      "[ Info: Epoch 12\n",
      "[ Info: Epoch 3\n",
      "[ Info: Epoch 13\n",
      "[ Info: Epoch 2\n",
      "[ Info: Epoch 13\n",
      "[ Info: Epoch 4\n",
      "[ Info: Epoch 14\n",
      "[ Info: Epoch 3\n",
      "[ Info: Epoch 5\n",
      "[ Info: Epoch 14\n",
      "[ Info: Epoch 15\n",
      "[ Info: Epoch 6\n",
      "[ Info: Epoch 4\n",
      "[ Info: Epoch 15\n",
      "[ Info: Epoch 16\n",
      "[ Info: Epoch 7\n",
      "[ Info: Epoch 5\n",
      "[ Info: Epoch 16\n",
      "[ Info: Epoch 17\n",
      "[ Info: Epoch 8\n",
      "[ Info: Epoch 6\n",
      "[ Info: Epoch 9\n",
      "[ Info: Epoch 17\n",
      "[ Info: Epoch 18\n",
      "[ Info: Epoch 10\n",
      "[ Info: Epoch 7\n",
      "[ Info: Epoch 18\n",
      "[ Info: Epoch 19\n",
      "[ Info: Epoch 11\n",
      "[ Info: Epoch 8\n",
      "[ Info: Epoch 19\n",
      "[ Info: Epoch 20\n",
      "[ Info: Epoch 12\n",
      "[ Info: Epoch 9\n",
      "[ Info: Epoch 21\n",
      "[ Info: Epoch 20\n",
      "[ Info: Epoch 13\n",
      "[ Info: Epoch 14\n",
      "[ Info: Epoch 10\n",
      "[ Info: Epoch 22\n",
      "[ Info: Epoch 21\n",
      "[ Info: Epoch 15\n",
      "[ Info: Epoch 11\n",
      "[ Info: Epoch 23\n",
      "[ Info: Epoch 22\n",
      "[ Info: Epoch 16\n",
      "[ Info: Epoch 24\n",
      "[ Info: Epoch 12\n",
      "[ Info: Epoch 23\n",
      "[ Info: Epoch 17\n",
      "[ Info: Epoch 25\n",
      "[ Info: Epoch 13\n",
      "[ Info: Epoch 24\n",
      "[ Info: Epoch 18\n",
      "[ Info: Epoch 19\n"
     ]
    },
    {
     "name": "stdout",
     "output_type": "stream",
     "text": [
      "      From worker 4:\t(150,)\n",
      "      From worker 4:\tmse=1.1533902\n"
     ]
    },
    {
     "name": "stderr",
     "output_type": "stream",
     "text": [
      "[ Info: Epoch 14\n",
      "[ Info: Epoch 25\n"
     ]
    },
    {
     "name": "stdout",
     "output_type": "stream",
     "text": [
      "      From worker 4:\tcurrent size:(16, 16, 13)\n",
      "      From worker 4:\tfuture:0.8182226\n",
      "      From worker 4:\taccuracy:0.72\n",
      "      From worker 4:\t[0.22666666666666666, 0.04666666666666667]\n",
      "      From worker 4:\t[0.23333333333333334, 0.49333333333333335]\n",
      "      From worker 4:\t1×3 DataFrame\n",
      "      From worker 4:\t Row │ symbol  accuracy  future\n",
      "      From worker 4:\t     │ String  Float32   Float32\n",
      "      From worker 4:\t─────┼────────────────────────────\n",
      "      From worker 4:\t   1 │ AYX         0.72  0.818223\n"
     ]
    },
    {
     "name": "stderr",
     "output_type": "stream",
     "text": [
      "[ Info: Epoch 20\n",
      "[ Info: Epoch 15\n"
     ]
    },
    {
     "name": "stdout",
     "output_type": "stream",
     "text": [
      "      From worker 5:\t(150,)\n",
      "      From worker 5:\tmse=0.63723063\n",
      "      From worker 5:\tcurrent size:(16, 16, 13)\n",
      "      From worker 5:\tfuture:-0.6993385\n",
      "      From worker 5:\taccuracy:0.7733333333333334\n",
      "      From worker 5:\t[0.25333333333333335, 0.08666666666666667]\n",
      "      From worker 5:\t[0.14, 0.52]\n",
      "      From worker 5:\t1×3 DataFrame\n",
      "      From worker 5:\t Row │ symbol  accuracy  future\n",
      "      From worker 5:\t     │ String  Float32   Float32\n",
      "      From worker 5:\t─────┼─────────────────────────────\n",
      "      From worker 5:\t   1 │ MTCH    0.773333  -0.699338\n"
     ]
    },
    {
     "name": "stderr",
     "output_type": "stream",
     "text": [
      "[ Info: Epoch 21\n",
      "[ Info: Epoch 16\n",
      "[ Info: Epoch 22\n",
      "[ Info: Epoch 17\n",
      "[ Info: Epoch 23\n",
      "[ Info: Epoch 24\n",
      "[ Info: Epoch 18\n",
      "[ Info: Epoch 25\n",
      "[ Info: Epoch 19\n"
     ]
    },
    {
     "name": "stdout",
     "output_type": "stream",
     "text": [
      "      From worker 2:\t(150,)\n",
      "      From worker 2:\tmse=1.2376674\n",
      "      From worker 2:\tcurrent size:(16, 16, 13)\n",
      "      From worker 2:\tfuture:-0.8033786\n",
      "      From worker 2:\taccuracy:0.7133333333333334\n",
      "      From worker 2:\t[0.26, 0.26666666666666666]\n",
      "      From worker 2:\t[0.02, 0.4533333333333333]\n",
      "      From worker 2:\t1×3 DataFrame\n",
      "      From worker 2:\t Row │ symbol  accuracy  future\n",
      "      From worker 2:\t     │ String  Float32   Float32\n",
      "      From worker 2:\t─────┼─────────────────────────────\n",
      "      From worker 2:\t   1 │ ROKU    0.713333  -0.803379\n"
     ]
    },
    {
     "name": "stderr",
     "output_type": "stream",
     "text": [
      "[ Info: Epoch 20\n",
      "[ Info: Epoch 21\n",
      "[ Info: Epoch 22\n",
      "[ Info: Epoch 23\n",
      "[ Info: Epoch 24\n",
      "[ Info: Epoch 25\n"
     ]
    },
    {
     "name": "stdout",
     "output_type": "stream",
     "text": [
      "      From worker 3:\t(150,)\n",
      "      From worker 3:\tmse=0.8421314\n",
      "      From worker 3:\tcurrent size:(16, 16, 13)\n",
      "      From worker 3:\tfuture:1.5607002\n",
      "      From worker 3:\taccuracy:0.8733333333333333\n",
      "      From worker 3:\t[0.22666666666666666, 0.02]\n",
      "      From worker 3:\t[0.10666666666666667, 0.6466666666666666]\n",
      "      From worker 3:\t1×3 DataFrame\n",
      "      From worker 3:\t Row │ symbol  accuracy  future\n",
      "      From worker 3:\t     │ String  Float32   Float32\n",
      "      From worker 3:\t─────┼───────────────────────────\n",
      "DataFrame[\u001b[1m1×3 DataFrame\u001b[0m\n",
      "\u001b[1m Row \u001b[0m│\u001b[1m symbol \u001b[0m\u001b[1m accuracy \u001b[0m\u001b[1m future  \u001b[0m\n",
      "\u001b[1m     \u001b[0m│\u001b[90m String \u001b[0m\u001b[90m Float32  \u001b[0m\u001b[90m Float32 \u001b[0m\n",
      "─────┼───────────────────────────\n",
      "   1 │ FB      0.766667  1.02899, \u001b[1m1×3 DataFrame\u001b[0m\n",
      "\u001b[1m Row \u001b[0m│\u001b[1m symbol \u001b[0m\u001b[1m accuracy \u001b[0m\u001b[1m future   \u001b[0m\n",
      "\u001b[1m     \u001b[0m│\u001b[90m String \u001b[0m\u001b[90m Float32  \u001b[0m\u001b[90m Float32  \u001b[0m\n",
      "─────┼────────────────────────────\n",
      "   1 │ AAPL        0.72  0.918745, \u001b[1m1×3 DataFrame\u001b[0m\n",
      "\u001b[1m Row \u001b[0m│\u001b[1m symbol \u001b[0m\u001b[1m accuracy \u001b[0m\u001b[1m future   \u001b[0m\n",
      "\u001b[1m     \u001b[0m│\u001b[90m String \u001b[0m\u001b[90m Float32  \u001b[0m\u001b[90m Float32  \u001b[0m\n",
      "─────┼────────────────────────────\n",
      "   1 │ AMZN        0.74  0.918918, \u001b[1m1×3 DataFrame\u001b[0m\n",
      "\u001b[1m Row \u001b[0m│\u001b[1m symbol \u001b[0m\u001b[1m accuracy \u001b[0m\u001b[1m future  \u001b[0m\n",
      "\u001b[1m     \u001b[0m│\u001b[90m String \u001b[0m\u001b[90m Float32  \u001b[0m\u001b[90m Float32 \u001b[0m\n",
      "─────┼───────────────────────────\n",
      "   1 │ GOOG         0.8  0.75474, \u001b[1m1×3 DataFrame\u001b[0m\n",
      "\u001b[1m Row \u001b[0m│\u001b[1m symbol \u001b[0m\u001b[1m accuracy \u001b[0m\u001b[1m future  \u001b[0m\n",
      "\u001b[1m     \u001b[0m│\u001b[90m String \u001b[0m\u001b[90m Float32  \u001b[0m\u001b[90m Float32 \u001b[0m\n",
      "─────┼───────────────────────────\n",
      "   1 │ NFLX    0.753333  1.06896, \u001b[1m1×3 DataFrame\u001b[0m\n",
      "\u001b[1m Row \u001b[0m│\u001b[1m symbol \u001b[0m\u001b[1m accuracy \u001b[0m\u001b[1m future    \u001b[0m\n",
      "\u001b[1m     \u001b[0m│\u001b[90m String \u001b[0m\u001b[90m Float32  \u001b[0m\u001b[90m Float32   \u001b[0m\n",
      "─────┼─────────────────────────────\n",
      "   1 │ SQ          0.82  0.0514077, \u001b[1m1×3 DataFrame\u001b[0m\n",
      "\u001b[1m Row \u001b[0m│\u001b[1m symbol \u001b[0m\u001b[1m accuracy \u001b[0m\u001b[1m future    \u001b[0m\n",
      "\u001b[1m     \u001b[0m│\u001b[90m String \u001b[0m\u001b[90m Float32  \u001b[0m\u001b[90m Float32   \u001b[0m\n",
      "─────┼─────────────────────────────\n",
      "   1 │ MTCH    0.773333  -0.699338, \u001b[1m1×3 DataFrame\u001b[0m\n",
      "\u001b[1m Row \u001b[0m│\u001b[1m symbol \u001b[0m\u001b[1m accuracy \u001b[0m\u001b[1m future   \u001b[0m\n",
      "\u001b[1m     \u001b[0m│\u001b[90m String \u001b[0m\u001b[90m Float32  \u001b[0m\u001b[90m Float32  \u001b[0m\n",
      "─────┼────────────────────────────\n",
      "   1 │ AYX         0.72  0.818223, \u001b[1m1×3 DataFrame\u001b[0m\n",
      "\u001b[1m Row \u001b[0m│\u001b[1m symbol \u001b[0m\u001b[1m accuracy \u001b[0m\u001b[1m future    \u001b[0m\n",
      "\u001b[1m     \u001b[0m│\u001b[90m String \u001b[0m\u001b[90m Float32  \u001b[0m\u001b[90m Float32   \u001b[0m\n",
      "─────┼─────────────────────────────\n",
      "   1 │ ROKU    0.713333  -0.803379, \u001b[1m1×3 DataFrame\u001b[0m\n",
      "\u001b[1m Row \u001b[0m│\u001b[1m symbol \u001b[0m\u001b[1m accuracy \u001b[0m\u001b[1m future  \u001b[0m\n",
      "\u001b[1m     \u001b[0m│\u001b[90m String \u001b[0m\u001b[90m Float32  \u001b[0m\u001b[90m Float32 \u001b[0m\n",
      "─────┼───────────────────────────\n",
      "   1 │ TTD     0.873333   1.5607]DataFrame[\u001b[1m1×3 DataFrame\u001b[0m\n",
      "\u001b[1m Row \u001b[0m│\u001b[1m symbol \u001b[0m\u001b[1m accuracy \u001b[0m\u001b[1m future  \u001b[0m\n",
      "\u001b[1m     \u001b[0m│\u001b[90m String \u001b[0m\u001b[90m Float32  \u001b[0m\u001b[90m Float32 \u001b[0m\n",
      "─────┼───────────────────────────\n",
      "   1 │ FB      0.766667  1.02899, \u001b[1m1×3 DataFrame\u001b[0m\n",
      "\u001b[1m Row \u001b[0m│\u001b[1m symbol \u001b[0m\u001b[1m accuracy \u001b[0m\u001b[1m future   \u001b[0m\n",
      "\u001b[1m     \u001b[0m│\u001b[90m String \u001b[0m\u001b[90m Float32  \u001b[0m\u001b[90m Float32  \u001b[0m\n",
      "─────┼────────────────────────────\n",
      "   1 │ AAPL        0.72  0.918745, \u001b[1m1×3 DataFrame\u001b[0m\n",
      "\u001b[1m Row \u001b[0m│\u001b[1m symbol \u001b[0m\u001b[1m accuracy \u001b[0m\u001b[1m future   \u001b[0m\n",
      "\u001b[1m     \u001b[0m│\u001b[90m String \u001b[0m\u001b[90m Float32  \u001b[0m\u001b[90m Float32  \u001b[0m\n",
      "─────┼────────────────────────────\n",
      "   1 │ AMZN        0.74  0.918918, \u001b[1m1×3 DataFrame\u001b[0m\n",
      "\u001b[1m Row \u001b[0m│\u001b[1m symbol \u001b[0m\u001b[1m accuracy \u001b[0m\u001b[1m future  \u001b[0m\n",
      "\u001b[1m     \u001b[0m│\u001b[90m String \u001b[0m\u001b[90m Float32  \u001b[0m\u001b[90m Float32 \u001b[0m\n",
      "─────┼───────────────────────────\n",
      "   1 │ GOOG         0.8  0.75474, \u001b[1m1×3 DataFrame\u001b[0m\n",
      "\u001b[1m Row \u001b[0m│\u001b[1m symbol \u001b[0m\u001b[1m accuracy \u001b[0m\u001b[1m future  \u001b[0m\n",
      "\u001b[1m     \u001b[0m│\u001b[90m String \u001b[0m\u001b[90m Float32  \u001b[0m\u001b[90m Float32 \u001b[0m\n",
      "─────┼───────────────────────────\n",
      "   1 │ NFLX    0.753333  1.06896, \u001b[1m1×3 DataFrame\u001b[0m\n",
      "\u001b[1m Row \u001b[0m│\u001b[1m symbol \u001b[0m\u001b[1m accuracy \u001b[0m\u001b[1m future    \u001b[0m\n",
      "\u001b[1m     \u001b[0m│\u001b[90m String \u001b[0m\u001b[90m Float32  \u001b[0m\u001b[90m Float32   \u001b[0m\n",
      "─────┼─────────────────────────────\n",
      "   1 │ SQ          0.82  0.0514077, \u001b[1m1×3 DataFrame\u001b[0m\n",
      "\u001b[1m Row \u001b[0m│\u001b[1m symbol \u001b[0m\u001b[1m accuracy \u001b[0m\u001b[1m future    \u001b[0m\n",
      "\u001b[1m     \u001b[0m│\u001b[90m String \u001b[0m\u001b[90m Float32  \u001b[0m\u001b[90m Float32   \u001b[0m\n",
      "─────┼─────────────────────────────\n",
      "   1 │ MTCH    0.773333  -0.699338, \u001b[1m1×3 DataFrame\u001b[0m\n",
      "\u001b[1m Row \u001b[0m│\u001b[1m symbol \u001b[0m\u001b[1m accuracy \u001b[0m\u001b[1m future   \u001b[0m\n",
      "\u001b[1m     \u001b[0m│\u001b[90m String \u001b[0m\u001b[90m Float32  \u001b[0m\u001b[90m Float32  \u001b[0m\n",
      "─────┼────────────────────────────\n",
      "   1 │ AYX         0.72  0.818223, \u001b[1m1×3 DataFrame\u001b[0m\n",
      "\u001b[1m Row \u001b[0m│\u001b[1m symbol \u001b[0m\u001b[1m accuracy \u001b[0m\u001b[1m future    \u001b[0m\n",
      "\u001b[1m     \u001b[0m│\u001b[90m String \u001b[0m\u001b[90m Float32  \u001b[0m\u001b[90m Float32   \u001b[0m\n",
      "─────┼─────────────────────────────\n",
      "   1 │ ROKU    0.713333  -0.803379, \u001b[1m1×3 DataFrame\u001b[0m\n",
      "\u001b[1m Row \u001b[0m│\u001b[1m symbol \u001b[0m\u001b[1m accuracy \u001b[0m\u001b[1m future  \u001b[0m\n",
      "\u001b[1m     \u001b[0m│\u001b[90m String \u001b[0m\u001b[90m Float32  \u001b[0m\u001b[90m Float32 \u001b[0m\n",
      "─────┼───────────────────────────\n",
      "   1 │ TTD     0.873333   1.5607]\n",
      "et = 187.15001702308655\n",
      "      From worker 3:\t   1 │ TTD     0.873333   1.5607\n"
     ]
    },
    {
     "data": {
      "text/plain": [
       "187.15001702308655"
      ]
     },
     "execution_count": 11,
     "metadata": {},
     "output_type": "execute_result"
    }
   ],
   "source": [
    "include(\"env.jl\")\n",
    "include(\"installPkg.jl\")\n",
    "tstart = time()\n",
    "list = [\"FB\",\"AAPL\",\"AMZN\",\"GOOG\",\"NFLX\",\"SQ\",\"MTCH\",\"AYX\",\"ROKU\",\"TTD\"]\n",
    "\n",
    "\n",
    "result = pmap(OsRSIConv.trainPredict,list)\n",
    "print(result)\n",
    "println(vcat(result))\n",
    "tend=time()\n",
    "et=tend-tstart\n",
    "@show et"
   ]
  },
  {
   "cell_type": "code",
   "execution_count": 21,
   "metadata": {},
   "outputs": [
    {
     "data": {
      "text/html": [
       "<table class=\"data-frame\"><thead><tr><th></th><th>symbol</th><th>accuracy</th><th>future</th></tr><tr><th></th><th>String</th><th>Float32</th><th>Float32</th></tr></thead><tbody><p>10 rows × 3 columns</p><tr><th>1</th><td>FB</td><td>0.766667</td><td>1.02899</td></tr><tr><th>2</th><td>AAPL</td><td>0.72</td><td>0.918745</td></tr><tr><th>3</th><td>AMZN</td><td>0.74</td><td>0.918918</td></tr><tr><th>4</th><td>GOOG</td><td>0.8</td><td>0.75474</td></tr><tr><th>5</th><td>NFLX</td><td>0.753333</td><td>1.06896</td></tr><tr><th>6</th><td>SQ</td><td>0.82</td><td>0.0514077</td></tr><tr><th>7</th><td>MTCH</td><td>0.773333</td><td>-0.699338</td></tr><tr><th>8</th><td>AYX</td><td>0.72</td><td>0.818223</td></tr><tr><th>9</th><td>ROKU</td><td>0.713333</td><td>-0.803379</td></tr><tr><th>10</th><td>TTD</td><td>0.873333</td><td>1.5607</td></tr></tbody></table>"
      ],
      "text/latex": [
       "\\begin{tabular}{r|ccc}\n",
       "\t& symbol & accuracy & future\\\\\n",
       "\t\\hline\n",
       "\t& String & Float32 & Float32\\\\\n",
       "\t\\hline\n",
       "\t1 & FB & 0.766667 & 1.02899 \\\\\n",
       "\t2 & AAPL & 0.72 & 0.918745 \\\\\n",
       "\t3 & AMZN & 0.74 & 0.918918 \\\\\n",
       "\t4 & GOOG & 0.8 & 0.75474 \\\\\n",
       "\t5 & NFLX & 0.753333 & 1.06896 \\\\\n",
       "\t6 & SQ & 0.82 & 0.0514077 \\\\\n",
       "\t7 & MTCH & 0.773333 & -0.699338 \\\\\n",
       "\t8 & AYX & 0.72 & 0.818223 \\\\\n",
       "\t9 & ROKU & 0.713333 & -0.803379 \\\\\n",
       "\t10 & TTD & 0.873333 & 1.5607 \\\\\n",
       "\\end{tabular}\n"
      ],
      "text/plain": [
       "\u001b[1m10×3 DataFrame\u001b[0m\n",
       "\u001b[1m Row \u001b[0m│\u001b[1m symbol \u001b[0m\u001b[1m accuracy \u001b[0m\u001b[1m future     \u001b[0m\n",
       "\u001b[1m     \u001b[0m│\u001b[90m String \u001b[0m\u001b[90m Float32  \u001b[0m\u001b[90m Float32    \u001b[0m\n",
       "─────┼──────────────────────────────\n",
       "   1 │ FB      0.766667   1.02899\n",
       "   2 │ AAPL    0.72       0.918745\n",
       "   3 │ AMZN    0.74       0.918918\n",
       "   4 │ GOOG    0.8        0.75474\n",
       "   5 │ NFLX    0.753333   1.06896\n",
       "   6 │ SQ      0.82       0.0514077\n",
       "   7 │ MTCH    0.773333  -0.699338\n",
       "   8 │ AYX     0.72       0.818223\n",
       "   9 │ ROKU    0.713333  -0.803379\n",
       "  10 │ TTD     0.873333   1.5607"
      ]
     },
     "execution_count": 21,
     "metadata": {},
     "output_type": "execute_result"
    }
   ],
   "source": [
    "final = DataFrame(symbol = String[], accuracy = Float32[], future = Float32[])\n",
    "for d in result\n",
    "    final = vcat(final,d)\n",
    "end\n",
    "final"
   ]
  },
  {
   "cell_type": "code",
   "execution_count": null,
   "metadata": {},
   "outputs": [],
   "source": []
  }
 ],
 "metadata": {
  "kernelspec": {
   "display_name": "Julia 1.5.3",
   "language": "julia",
   "name": "julia-1.5"
  },
  "language_info": {
   "file_extension": ".jl",
   "mimetype": "application/julia",
   "name": "julia",
   "version": "1.5.3"
  }
 },
 "nbformat": 4,
 "nbformat_minor": 4
}

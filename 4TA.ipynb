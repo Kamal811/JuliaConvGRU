{
 "cells": [
  {
   "cell_type": "code",
   "execution_count": null,
   "metadata": {},
   "outputs": [
    {
     "name": "stderr",
     "output_type": "stream",
     "text": [
      "\u001b[32m\u001b[1m   Updating\u001b[22m\u001b[39m registry at `~/.julia/registries/General`\n",
      "######################################################################### 100.0%\n"
     ]
    }
   ],
   "source": [
    "using Pkg\n",
    "Pkg.update()"
   ]
  },
  {
   "cell_type": "code",
   "execution_count": null,
   "metadata": {},
   "outputs": [],
   "source": [
    "\n",
    "pkgList = [\"MarketData\",\"Sockets\",\"DataFramesMeta\",\"CSV\",\"Flux\",\"HTTP\",\"JSON\",\"DataFrames\",\"Plots\",\"TimeSeries\",\"Hyperopt\",\"JSON\"]\n",
    "for pkg in pkgList\n",
    "    Pkg.add(pkg)  \n",
    "end"
   ]
  },
  {
   "cell_type": "code",
   "execution_count": null,
   "metadata": {},
   "outputs": [],
   "source": [
    "using TimeSeries\n",
    "using DataFrames,DataFramesMeta\n",
    "using Dates\n",
    "using Statistics\n",
    "using Flux\n",
    "using Flux: @epochs\n",
    "using Plots\n",
    "using Hyperopt\n",
    "using JSON\n",
    "using HTTP\n",
    "using MarketData\n",
    "using Random"
   ]
  },
  {
   "cell_type": "code",
   "execution_count": null,
   "metadata": {},
   "outputs": [],
   "source": [
    "function toPL(PL_ts)\n",
    "    function f_PL(values)\n",
    "        open = values[1]\n",
    "        close = values[2]\n",
    "        if close - open > 0\n",
    "            pl = 1\n",
    "        else\n",
    "            pl = 0\n",
    "        end\n",
    "        [pl,0]\n",
    "    end     \n",
    "    PL = TimeSeries.rename(TimeSeries.map((timestamp, values) -> (timestamp, f_PL(values)),PL_ts)[:Open],Symbol(\"PL\") )\n",
    "    PL = TimeSeries.map((timestamp, values) -> (timestamp, Int(values)),PL)\n",
    "end"
   ]
  },
  {
   "cell_type": "code",
   "execution_count": null,
   "metadata": {},
   "outputs": [],
   "source": [
    "function toReturn(price_ts)\n",
    "    pct = TimeSeries.rename(percentchange(price_ts),[:return])\n",
    "    pct = moving(mean,pct,5)\n",
    "    return TimeSeries.map((timestamp, values) -> (timestamp, 100*values), pct)\n",
    "end  "
   ]
  },
  {
   "cell_type": "code",
   "execution_count": null,
   "metadata": {},
   "outputs": [],
   "source": [
    "function toRSI(price_ts,loopback)\n",
    "    pct = percentchange(price_ts)\n",
    "    up = map( (timestamp, values) -> (timestamp, if values[1] < 0 ; [0] ; else ;values ;end), pct)\n",
    "    down = map( (timestamp, values) -> (timestamp, if values[1] < 0 ; abs.(values) ; else ; [0] ;end), pct)\n",
    "    up_roll = moving(mean, up, loopback)\n",
    "    down_roll = moving(mean, down, loopback)\n",
    "    function f_rsi(values)\n",
    "        x = values[1]\n",
    "        y = values[2]\n",
    "        rsi = 100 - (100 / (1 + x/y) )\n",
    "        [rsi,0]\n",
    "    end\n",
    "    updown = TimeSeries.rename(TimeSeries.merge(up_roll,down_roll), [:up,:down])\n",
    "    rsi_ts = TimeSeries.rename(TimeSeries.map((timestamp, values) -> (timestamp, f_rsi(values)), updown)[:up],Symbol(\"RSI-\",loopback))\n",
    "    return rsi_ts\n",
    "end"
   ]
  },
  {
   "cell_type": "code",
   "execution_count": null,
   "metadata": {},
   "outputs": [],
   "source": [
    "function toORSI(price_ts,day0,day1)\n",
    "    rsi_ts = toRSI(price_ts,day0)\n",
    "    rsi_ma = TimeSeries.rename(moving(mean,rsi_ts,day1),Symbol(\"RSIMA-\",day0,\"-\",day1))\n",
    "    orsi = TimeSeries.rename(rsi_ts .- rsi_ma , Symbol(\"ORSI-\",day0,\"-\",day1) )\n",
    "end"
   ]
  },
  {
   "cell_type": "code",
   "execution_count": null,
   "metadata": {},
   "outputs": [],
   "source": [
    "function toMACD(price_ts,day0,day1)\n",
    "    ma1 = moving(mean,price_ts,day0) \n",
    "    ma2 = moving(mean,price_ts,day1)\n",
    "    TimeSeries.rename(ma1 .- ma2,Symbol(\"MACD-\",day0,\"-\",day1)) \n",
    "end\n"
   ]
  },
  {
   "cell_type": "code",
   "execution_count": null,
   "metadata": {},
   "outputs": [],
   "source": [
    "function toUpBB(price_ts,day0,day1)\n",
    "    ma1 = moving(mean,price_ts,day0) \n",
    "    ma2 = moving(mean,price_ts,day1)\n",
    "    sgm = moving(std,price_ts,day1)\n",
    "    TimeSeries.rename(ma1 .- (ma2 .+ (2 .* sgm)) ,  Symbol(\"UpBB-\",day0,\"-\",day1))\n",
    "end\n"
   ]
  },
  {
   "cell_type": "code",
   "execution_count": null,
   "metadata": {},
   "outputs": [],
   "source": [
    "function toDownBB(price_ts,day0,day1)\n",
    "    ma1 = moving(mean,price_ts,day0) \n",
    "    ma2 = moving(mean,price_ts,day1)\n",
    "    sgm = moving(std,price_ts,day1)\n",
    "    TimeSeries.rename(ma1 .- (ma2 .- (2 .* sgm)),  Symbol(\"DownBB-\",day0,\"-\",day1))\n",
    "end"
   ]
  },
  {
   "cell_type": "code",
   "execution_count": null,
   "metadata": {},
   "outputs": [],
   "source": [
    "function catFeatures(price_ts,day0,day1,delta)\n",
    "    result = toReturn(price_ts)\n",
    "    for f in [ toORSI, toMACD, toUpBB, toDownBB ]\n",
    "        for i in day0:day1\n",
    "            for j in day0+delta:day1+delta\n",
    "                feature1 = f(price_ts,i,j)\n",
    "                result = merge(result,feature1,method=:inner)\n",
    "            end\n",
    "        end\n",
    "    end\n",
    "    #println(colnames(result))\n",
    "    return result\n",
    "end"
   ]
  },
  {
   "cell_type": "code",
   "execution_count": null,
   "metadata": {},
   "outputs": [],
   "source": [
    "function toMatrix(data,featureIdx,targetIdx)\n",
    "    #featureIdx=3\n",
    "    data = values(data)\n",
    "    X = data[:,featureIdx:end]\n",
    "    print(size(X))\n",
    "    N = size(X)[1]\n",
    "    M = Int(size(X)[2]/4)\n",
    "    k = Int(sqrt(M))\n",
    "    X = transpose(X)\n",
    "    X = reshape(X,(k,k,4,N))\n",
    "    #targetIdx=1\n",
    "    Y = data[:,targetIdx]\n",
    "    return (X,Y)\n",
    "end"
   ]
  },
  {
   "cell_type": "code",
   "execution_count": null,
   "metadata": {},
   "outputs": [],
   "source": [
    "function preprocessing(price_ts::TimeArray,day0,day1,delta)\n",
    "\n",
    "    featureList = catFeatures(price_ts,day0,day1,delta)\n",
    "    featureIdx=2\n",
    "    targetIdx=1\n",
    "    t_idx = timestamp(featureList)\n",
    "    (X,Y) = toMatrix(featureList,2,1)\n",
    "    return (X,Y,t_idx)\n",
    "end"
   ]
  },
  {
   "cell_type": "code",
   "execution_count": null,
   "metadata": {},
   "outputs": [],
   "source": [
    "function timeseriesDataset(X,Y,seqlen,t_idx)\n",
    "    xtrain = Array{Float32,4}[]\n",
    "    ytrain = Array{Float32,1}[]\n",
    "    time_idx = DateTime[]\n",
    "    len = length(Y)\n",
    "    for i in 1:len-seqlen\n",
    "        mx = X[:,:,:,i:i+seqlen-1]\n",
    "        xtrain = vcat(xtrain,[mx])\n",
    "        my = Y[i+seqlen]\n",
    "        ytrain = vcat(ytrain,[my])\n",
    "        time_idx = vcat(time_idx, [t_idx[i+seqlen]])\n",
    "    end\n",
    "    xcurrent = [X[:,:,:,end-seqlen+1:end]]\n",
    "    return (xtrain,ytrain,xcurrent,time_idx)\n",
    "end"
   ]
  },
  {
   "cell_type": "code",
   "execution_count": null,
   "metadata": {},
   "outputs": [],
   "source": [
    "function build_reg_model(Nh,seqlen)\n",
    "    return Chain(\n",
    "\n",
    "    # First convolution\n",
    "    Conv((2, 2), 4=>Nh, pad=(1,1), relu),\n",
    "    MaxPool((2,2)),\n",
    "\n",
    "    # Second convolution\n",
    "    Conv((2, 2), Nh=>Nh, pad=(1,1), relu),\n",
    "    MaxPool((2,2)),\n",
    "\n",
    "    # Third convolution\n",
    "    Conv((2, 2), Nh=>Nh, pad=(1,1), relu),\n",
    "    MaxPool((2,2)),\n",
    "\n",
    "    Flux.flatten,\n",
    "    Dropout(0.1),\n",
    "    (x->transpose(x)),\n",
    "    GRU(seqlen,Nh),\n",
    "    GRU(Nh,Nh),\n",
    "    (x -> x[:,end]),\n",
    "    Dense(Nh, 1),\n",
    "    (x -> x[1])\n",
    "    )\n",
    "end"
   ]
  },
  {
   "cell_type": "code",
   "execution_count": null,
   "metadata": {},
   "outputs": [],
   "source": [
    "function reg_accuracy(m,xtest,ytest)\n",
    "    prediction = m.(xtest)\n",
    "    len = length(ytest)\n",
    "    m = zeros(2,2)\n",
    "    for i in 1:len\n",
    "        yh = prediction[i] > 0 ? 1 : 0\n",
    "        y = ytest[i] > 0 ? 1 : 0\n",
    "        a = Int(yh[1])+1\n",
    "        b = y+1\n",
    "        m[a,b] += 1\n",
    "    end\n",
    "    m = m ./ sum(m)\n",
    "    return m\n",
    "end\n",
    "\n",
    "function plot_eval(m,xtest,ytest)\n",
    "    prediction = m.(xtest)\n",
    "    len = length(ytest)\n",
    "    #println(len)\n",
    "    pred = Float32[]\n",
    "    actual = Float32[]\n",
    "    total = 0\n",
    "    for i in 1:len\n",
    "        yh = Flux.onecold(prediction[i],[0,1])\n",
    "        y = Flux.onecold(ytest[i],[0,1])\n",
    "        append!(pred,yh)\n",
    "        append!(actual,y)\n",
    "    end\n",
    "    plot(1:len,pred,size = (1000, 700),color=\"red\",tickfontsize=28,guidefontsize=28,legendfontsize=28)\n",
    "    plot!(1:len,actual,size = (1000, 700),color=\"blue\",tickfontsize=28,guidefontsize=28,legendfontsize=28)\n",
    "end"
   ]
  },
  {
   "cell_type": "code",
   "execution_count": null,
   "metadata": {},
   "outputs": [],
   "source": [
    "function loadData(sym,period)\n",
    "    t = Dates.now()\n",
    "    ts = yahoo(sym, YahooOpt(period1 = t - Year(period), period2 = t) )\n",
    "    writetimearray(ts, sym * \"-price.csv\")\n",
    "    price_ts = ts[:,:Close]\n",
    "    return Float32.(price_ts)\n",
    "end"
   ]
  },
  {
   "cell_type": "code",
   "execution_count": null,
   "metadata": {},
   "outputs": [],
   "source": [
    "function evaluateTradeBak(sym,ta)\n",
    "    t_idx = timestamp(ta)\n",
    "    t1 = t_idx[1]\n",
    "    t2 = t_idx[end]\n",
    "    ts = Float32.(readtimearray(sym * \"-price.csv\"))\n",
    "    ts3 = ts[:Open,:Close,:High]\n",
    "    prev_high = TimeSeries.rename(lag(ts[:High]), [:LagHigh])\n",
    "    ts4 = merge(ts3, prev_high, method=:inner)\n",
    "    ts4 = TimeArray(DateTime.(timestamp(ts4)),values(ts4),colnames(ts4))\n",
    "    pos = TimeSeries.rename(map( (timestamp, values) -> ( timestamp, if values[1] <= 0 ; 0 ; else ;values ;end), ta), [:pos])\n",
    "    trade = merge(ts4,pos,method=:inner)\n",
    "    function calcPL(values)\n",
    "        o = values[1]\n",
    "        c = values[2]\n",
    "        h = values[3]\n",
    "        pred = values[4]*(1+values[5]/100)\n",
    "        if pred > 0 && pred > o\n",
    "            if pred <= h\n",
    "                PL = pred - o\n",
    "                \n",
    "            else\n",
    "                PL = c - o\n",
    "                \n",
    "            end\n",
    "        else\n",
    "            PL = 0\n",
    "        end\n",
    "        return [PL,c-o,0,0,0]\n",
    "    end\n",
    "        \n",
    "    PL = map( (timestamp, values) -> (timestamp, calcPL(values)), trade)\n",
    "    PL = TimeSeries.rename(PL,[:PL,:base,:C3,:C4,:C5])\n",
    "    return (round(sum(values(PL[:PL])),digits=2) , round(sum(values(PL[:base])),digits=2))\n",
    "end"
   ]
  },
  {
   "cell_type": "code",
   "execution_count": null,
   "metadata": {},
   "outputs": [],
   "source": [
    "function evaluateTradeBak2(sym,ta)\n",
    "    t_idx = timestamp(ta)\n",
    "    t1 = Date(t_idx[1])\n",
    "    t2 = Date(t_idx[end])\n",
    "    ts = readtimearray(sym * \"-price.csv\")\n",
    "    \n",
    "    ts = Float32.(ts[t1:Day(1):t2])\n",
    "    diff = map( (timestamp, values) -> (timestamp, [values[2]-values[1],0]), ts[:,[:Open,:Close]])\n",
    "    PL = TimeSeries.rename(diff,[:PL,:Null])[:,:PL]\n",
    "    pos = map( (timestamp, values) -> (timestamp, if values[1] <= 0 ; 0 ; else ;1 ;end), ta)\n",
    "    trade = pos .* PL\n",
    "    return (round(sum(values(trade)),digits=2) , values(ts[end,:Close])-values(ts[1,:Close]),round(sum(values(PL)),digits=2) )\n",
    "end"
   ]
  },
  {
   "cell_type": "code",
   "execution_count": null,
   "metadata": {},
   "outputs": [],
   "source": [
    "function evaluateTradeBak3(sym,ta)\n",
    "    t_idx = timestamp(ta)\n",
    "    t1 = Date(t_idx[1])\n",
    "    t2 = Date(t_idx[end])\n",
    "    ts = readtimearray(sym * \"-price.csv\")\n",
    "    pct = TimeSeries.rename(percentchange(ts[:Close]),[:return])\n",
    "    pct = Float32.(pct[t1:Day(1):t2])\n",
    "    m = zeros(2,2)\n",
    "    prediction = values(ta)\n",
    "    ytest = values(pct)\n",
    "    len = length(prediction)\n",
    "    for i in 1:len\n",
    "        yh = prediction[i] > 0 ? 1 : 0\n",
    "        y = ytest[i] > 0 ? 1 : 0\n",
    "        a = Int(yh[1])+1\n",
    "        b = y+1\n",
    "        m[a,b] += 1\n",
    "    end\n",
    "    m = m ./ sum(m)\n",
    "    @show m\n",
    "    accuracy = m[1,1]+m[2,2]\n",
    "    @show accuracy\n",
    "    pos = map( (timestamp, values) -> (timestamp, if values[1] <= 0 ; 0 ; else ;1 ;end), ta)\n",
    "    trade = pos .* pct\n",
    "    return (round(sum(values(trade)),digits=2) ,round(sum(values(pct)),digits=2),accuracy )\n",
    "end"
   ]
  },
  {
   "cell_type": "code",
   "execution_count": null,
   "metadata": {},
   "outputs": [],
   "source": [
    "function backtesting(sym,ta)\n",
    "    pos = map( (timestamp, values) -> (timestamp, if values[1] < values[2] ; [0,0] ; else ; [1,1] ;end), merge(ta,lag(ta)) )\n",
    "    pos = pos[:,colnames(pos)[1]]\n",
    "    t_idx = timestamp(pos)\n",
    "    t1 = t_idx[1]\n",
    "    t2 = t_idx[end]\n",
    "    ts = readtimearray(sym * \"-price.csv\")\n",
    "    ts = TimeArray(DateTime.(timestamp(ts)),values(ts),colnames(ts))\n",
    "    pct = TimeSeries.rename(percentchange(ts[:Close]),[:return])\n",
    "    pct = Float32.(pct[t1:Day(1):t2])\n",
    "    m = zeros(2,2)\n",
    "    prediction = values(pos)\n",
    "    ytest = values(pct)\n",
    "    len = length(prediction)\n",
    "    for i in 1:len\n",
    "        yh = prediction[i]\n",
    "        y = ytest[i] > 0 ? 1 : 0\n",
    "        a = Int(yh[1])+1\n",
    "        b = y+1\n",
    "        m[a,b] += 1\n",
    "    end\n",
    "    m = m ./ sum(m)\n",
    "    @show m\n",
    "    accuracy = m[1,1]+m[2,2]\n",
    "    @show accuracy\n",
    "    trade = pos .* pct\n",
    "    return (round(sum(values(trade)),digits=2) ,round(sum(values(pct)),digits=2),accuracy )\n",
    "end"
   ]
  },
  {
   "cell_type": "code",
   "execution_count": null,
   "metadata": {},
   "outputs": [],
   "source": [
    "function myTrain(price_ts::TimeArray,sym,seqlen,Nh,lr,mm,day0,delta,i)\n",
    "    Random.seed!(1234);\n",
    "    #seqlen=7\n",
    "    day1 = day0 + delta - 1\n",
    "    (X,Y,t_idx) = preprocessing(price_ts,day0,day1,delta)\n",
    "    (xtrain,ytrain,xcurrent,time_idx) = timeseriesDataset(X,Y,seqlen,t_idx)\n",
    "    thd = 150\n",
    "    xtest,ytest = xtrain[end-thd+1:end], ytrain[end-thd+1:end]\n",
    "    time_test = time_idx[end-thd+1:end]\n",
    "    xtrain,ytrain = xtrain[1:end-thd], ytrain[1:end-thd]\n",
    "    batchsize = 20\n",
    "    train_loader = Flux.Data.DataLoader(xtrain,ytrain, batchsize=batchsize,shuffle=false)\n",
    "    #Nh=10\n",
    "    m = build_reg_model(Nh,seqlen)\n",
    "    function acc_loss(x,y)\n",
    "        (acc,y0,y1,y2) = accuracy(m,x,y)\n",
    "        return (1-acc-y0+y1)*abs(y2-0.5)\n",
    "    end\n",
    "    function mse_loss(x,y)\n",
    "        yh = m.(x)\n",
    "        e = Flux.mae(yh,y)\n",
    "        return e\n",
    "    end\n",
    "    evalcb() = @show mse_loss(xtest,ytest)\n",
    "    num_epoch = 25\n",
    "    #lr = 0.01\n",
    "    @epochs num_epoch Flux.train!(mse_loss,Flux.params(m),train_loader,RMSProp(lr,mm))\n",
    "    confmx = reg_accuracy(m,xtest,ytest)\n",
    "    prediction = m.(xtest)\n",
    "    println(size(prediction))\n",
    "    mseloss = mse_loss(xtest,ytest)\n",
    "    println(\"mse=\",mseloss)\n",
    "    objcost = mseloss-1*(confmx[1,1]+confmx[2,2]-confmx[1,2]-confmx[2,1])\n",
    "    plot(1:length(prediction),prediction,size = (1000, 700),color=\"red\",tickfontsize=28,guidefontsize=28,legendfontsize=28)\n",
    "    plot!(1:length(ytest),ytest,size = (1000, 700),color=\"blue\",tickfontsize=28,guidefontsize=28,legendfontsize=28)\n",
    "    png(\"plot-\"*string(i)*\".png\")\n",
    "    ta = TimeArray(time_test, prediction)\n",
    "    @show backtesting(sym,ta)\n",
    "    println(\"current size:\", size(xcurrent[1]))\n",
    "    future = m.(xcurrent)\n",
    "    future = future[1]\n",
    "    println(\"future:\",future)\n",
    "    println(\"accuracy:\",(confmx[1,1]+confmx[2,2]))\n",
    "    println(confmx[1,:])\n",
    "    println(confmx[2,:])\n",
    "    \n",
    "    return (m,objcost,xtest,ytest,confmx,future,ta)\n",
    "end\n",
    "function myObjective(price_ts,sym,seqlen,Nh,lr,mm,day0,delta,i)\n",
    "    (m,objcost,xtest,ytest,confmx,future,ta) = myTrain(price_ts,sym,seqlen,Nh,lr,mm,day0,delta,i)\n",
    "    Flux.reset!(m)\n",
    "    return objcost\n",
    "end"
   ]
  },
  {
   "cell_type": "code",
   "execution_count": null,
   "metadata": {},
   "outputs": [],
   "source": [
    "function hyperTune(sym::String)\n",
    "    #sym=\"GLD\"\n",
    "    price_ts = loadData(sym,3)\n",
    "    \n",
    "    ho = @hyperopt for i=20,\n",
    "                sampler = RandomSampler(), \n",
    "                seqlen = StepRange(3, 5, 20),\n",
    "                Nh = StepRange(5,3, 20),\n",
    "                delta = StepRange(10,3, 20),\n",
    "                lr =  exp10.(LinRange(-4,-3,10)),\n",
    "                mm =  LinRange(0.75,0.95,5),\n",
    "                day0 = StepRange(5,3, 10)\n",
    "        println(i,\"-\",seqlen,\"-\",Nh,\"-\",lr,\"-\",mm,\"-\",day0,\"-\",delta)\n",
    "    @show myObjective(price_ts,sym,seqlen,Nh,lr,mm,day0,delta,i)\n",
    "    end\n",
    "\n",
    "    best_params, min_f = ho.minimizer, ho.minimum\n",
    "    \n",
    "    \n",
    "    @show min_f\n",
    "    seqlen=best_params[1]\n",
    "    Nh=best_params[2]\n",
    "    delta=best_params[3]\n",
    "    lr=best_params[4]\n",
    "    mm=best_params[5]\n",
    "    day0=best_params[6]\n",
    "    println(seqlen,\"-\",Nh,\"-\",lr,\"-\",mm,\"-\",day0,\"-\",delta)\n",
    "    (m,acc,xtest,ytest,confmx,future,ta) = myTrain(price_ts,sym,seqlen,Nh,lr,mm,day0,delta,21)\n",
    "    @show evaluateTrade(sym,ta)\n",
    "end"
   ]
  },
  {
   "cell_type": "code",
   "execution_count": null,
   "metadata": {},
   "outputs": [],
   "source": [
    "function trainPredict(sym::String)\n",
    "    #20-13-20-0.000774263682681127-0.8-5-15\n",
    "    seqlen=13\n",
    "    Nh=20\n",
    "    delta=15\n",
    "    lr=0.000774\n",
    "    mm=0.8\n",
    "    day0=5\n",
    "    println(seqlen,\"-\",Nh,\"-\",lr,\"-\",mm,\"-\",day0,\"-\",delta)\n",
    "    df = DataFrame(symbol = String[], accuracy = Float32[], future = Float32[])\n",
    "    price_ts = loadData(sym,3)\n",
    "    (m,cost,xtest,ytest,confmx,future,ta) = myTrain(price_ts,sym,seqlen,Nh,lr,mm,day0,delta,sym)\n",
    "    @show backtesting(sym,ta)\n",
    "    acc = (confmx[1,1]+confmx[2,2])\n",
    "    push!(df,[sym,acc,future])\n",
    "    println(df)\n",
    "    return df\n",
    "end"
   ]
  },
  {
   "cell_type": "code",
   "execution_count": null,
   "metadata": {},
   "outputs": [],
   "source": [
    "\n",
    "trainPredict(\"GLD\")"
   ]
  },
  {
   "cell_type": "code",
   "execution_count": null,
   "metadata": {},
   "outputs": [],
   "source": [
    "hyperTune(\"AAPL\")"
   ]
  },
  {
   "cell_type": "code",
   "execution_count": null,
   "metadata": {},
   "outputs": [],
   "source": [
    "sym=\"GLD\"\n",
    "seqlen=13\n",
    "Nh=20\n",
    "delta=15\n",
    "lr=0.000774\n",
    "mm=0.8\n",
    "day0=5\n",
    "println(seqlen,\"-\",Nh,\"-\",lr,\"-\",mm,\"-\",day0,\"-\",delta)\n",
    "df = DataFrame(symbol = String[], accuracy = Float32[], future = Float32[])\n",
    "price_ts = loadData(sym,3)\n",
    "(m,cost,xtest,ytest,confmx,future,ta) = myTrain(price_ts,seqlen,Nh,lr,mm,day0,delta,21)\n",
    "    "
   ]
  },
  {
   "cell_type": "code",
   "execution_count": null,
   "metadata": {},
   "outputs": [],
   "source": [
    "@show backtesting(sym,ta)"
   ]
  },
  {
   "cell_type": "code",
   "execution_count": null,
   "metadata": {},
   "outputs": [],
   "source": [
    "list = readlines(\"list.txt\")\n",
    "for sym in list\n",
    "    trainPredict(sym)\n",
    "end"
   ]
  },
  {
   "cell_type": "code",
   "execution_count": null,
   "metadata": {},
   "outputs": [],
   "source": []
  }
 ],
 "metadata": {
  "kernelspec": {
   "display_name": "Julia 1.5.3",
   "language": "julia",
   "name": "julia-1.5"
  },
  "language_info": {
   "file_extension": ".jl",
   "mimetype": "application/julia",
   "name": "julia",
   "version": "1.5.3"
  }
 },
 "nbformat": 4,
 "nbformat_minor": 4
}
